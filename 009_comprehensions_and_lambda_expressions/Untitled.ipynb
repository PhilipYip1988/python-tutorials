{
 "cells": [
  {
   "cell_type": "code",
   "execution_count": 1,
   "id": "c8301d97-75e1-4b76-a0da-3bade05c3523",
   "metadata": {},
   "outputs": [
    {
     "data": {
      "text/plain": [
       "['r0', 'r1', 'r2', 'r3', 'r4']"
      ]
     },
     "execution_count": 1,
     "metadata": {},
     "output_type": "execute_result"
    }
   ],
   "source": [
    "row_numbers = []\n",
    "for number in range(5):\n",
    "    row_number = \"r\" + str(number)\n",
    "    row_numbers.append(row_number)\n",
    "    \n",
    "\n",
    "row_numbers"
   ]
  },
  {
   "cell_type": "code",
   "execution_count": 2,
   "id": "b0c272f4-e9f6-4ea7-91a6-8fa34e1c8372",
   "metadata": {},
   "outputs": [
    {
     "data": {
      "text/plain": [
       "['r0', 'r1', 'r2', 'r3', 'r4']"
      ]
     },
     "execution_count": 2,
     "metadata": {},
     "output_type": "execute_result"
    }
   ],
   "source": [
    "row_numbers = [\"r\" + str(number) for number in range(5)]\n",
    "row_numbers"
   ]
  },
  {
   "cell_type": "code",
   "execution_count": 3,
   "id": "daeaa194-c924-4507-ae0e-fedeff39445a",
   "metadata": {},
   "outputs": [],
   "source": [
    "d1 = {\"a\": 1, \n",
    "      \"b\": 2, \n",
    "      \"c\": 3,\n",
    "      \"d\": 4,}"
   ]
  },
  {
   "cell_type": "code",
   "execution_count": 4,
   "id": "ee3e5968-9644-4a19-8bd0-14c512917f35",
   "metadata": {},
   "outputs": [
    {
     "data": {
      "text/plain": [
       "dict_keys(['a', 'b', 'c', 'd'])"
      ]
     },
     "execution_count": 4,
     "metadata": {},
     "output_type": "execute_result"
    }
   ],
   "source": [
    "d1.keys()"
   ]
  },
  {
   "cell_type": "code",
   "execution_count": 5,
   "id": "89a8ed1b-42c5-43a3-b9f0-97308d374ea9",
   "metadata": {},
   "outputs": [
    {
     "data": {
      "text/plain": [
       "dict_values([1, 2, 3, 4])"
      ]
     },
     "execution_count": 5,
     "metadata": {},
     "output_type": "execute_result"
    }
   ],
   "source": [
    "d1.values()"
   ]
  },
  {
   "cell_type": "code",
   "execution_count": 6,
   "id": "2aee462f-d799-434e-8071-aa57ca9a38a3",
   "metadata": {},
   "outputs": [
    {
     "data": {
      "text/plain": [
       "dict_items([('a', 1), ('b', 2), ('c', 3), ('d', 4)])"
      ]
     },
     "execution_count": 6,
     "metadata": {},
     "output_type": "execute_result"
    }
   ],
   "source": [
    "d1.items()"
   ]
  },
  {
   "cell_type": "code",
   "execution_count": null,
   "id": "646c3854-1987-4c1a-8358-457a8c9cbf7a",
   "metadata": {},
   "outputs": [],
   "source": []
  },
  {
   "cell_type": "code",
   "execution_count": 7,
   "id": "52485d8e-5caa-4141-a945-2c3fd825059c",
   "metadata": {},
   "outputs": [
    {
     "name": "stdout",
     "output_type": "stream",
     "text": [
      "a\n",
      "b\n",
      "c\n",
      "d\n"
     ]
    }
   ],
   "source": [
    "for key in d1.keys():\n",
    "    print(key)"
   ]
  },
  {
   "cell_type": "code",
   "execution_count": 8,
   "id": "ebea401b-c884-491f-9ccb-816035c68c23",
   "metadata": {},
   "outputs": [
    {
     "name": "stdout",
     "output_type": "stream",
     "text": [
      "1\n",
      "2\n",
      "3\n",
      "4\n"
     ]
    }
   ],
   "source": [
    "for value in d1.values():\n",
    "    print(value)"
   ]
  },
  {
   "cell_type": "code",
   "execution_count": 9,
   "id": "2b384e4d-ba01-4ddf-b556-6079f645cfbe",
   "metadata": {},
   "outputs": [
    {
     "name": "stdout",
     "output_type": "stream",
     "text": [
      "a 1\n",
      "b 2\n",
      "c 3\n",
      "d 4\n"
     ]
    }
   ],
   "source": [
    "for key, value in d1.items():\n",
    "    print(key, value)"
   ]
  },
  {
   "cell_type": "code",
   "execution_count": 10,
   "id": "1581e670-0530-4c69-b48f-f134d46d33cf",
   "metadata": {},
   "outputs": [
    {
     "data": {
      "text/plain": [
       "{'a': 1, 'b': 4, 'c': 9, 'd': 16}"
      ]
     },
     "execution_count": 10,
     "metadata": {},
     "output_type": "execute_result"
    }
   ],
   "source": [
    "d2 = {key : value ** 2 for key, value in d1.items()}\n",
    "d2"
   ]
  },
  {
   "cell_type": "code",
   "execution_count": null,
   "id": "84d294bc-b4f8-4651-85aa-d4f1892eb5f8",
   "metadata": {},
   "outputs": [],
   "source": []
  },
  {
   "cell_type": "code",
   "execution_count": 11,
   "id": "720492d6-bbcb-4c39-b3be-5c808b99be39",
   "metadata": {},
   "outputs": [
    {
     "data": {
      "text/plain": [
       "97"
      ]
     },
     "execution_count": 11,
     "metadata": {},
     "output_type": "execute_result"
    }
   ],
   "source": [
    "ord(\"a\")"
   ]
  },
  {
   "cell_type": "code",
   "execution_count": 12,
   "id": "e17162da-38d4-40a6-8c9c-86aabfbd3f7a",
   "metadata": {},
   "outputs": [
    {
     "data": {
      "text/plain": [
       "122"
      ]
     },
     "execution_count": 12,
     "metadata": {},
     "output_type": "execute_result"
    }
   ],
   "source": [
    "ord(\"z\")"
   ]
  },
  {
   "cell_type": "code",
   "execution_count": 13,
   "id": "d0ffd9d8-c4ce-4b20-8d74-c1177de3fea9",
   "metadata": {},
   "outputs": [
    {
     "data": {
      "text/plain": [
       "'a'"
      ]
     },
     "execution_count": 13,
     "metadata": {},
     "output_type": "execute_result"
    }
   ],
   "source": [
    "chr(97)"
   ]
  },
  {
   "cell_type": "code",
   "execution_count": 14,
   "id": "67298777-82cc-4fbb-8129-4e0820a8c8fd",
   "metadata": {},
   "outputs": [
    {
     "data": {
      "text/plain": [
       "'z'"
      ]
     },
     "execution_count": 14,
     "metadata": {},
     "output_type": "execute_result"
    }
   ],
   "source": [
    "chr(122)"
   ]
  },
  {
   "cell_type": "code",
   "execution_count": 15,
   "id": "29fa9e0e-eba8-45c6-9490-c561ad4a6e69",
   "metadata": {},
   "outputs": [
    {
     "data": {
      "text/plain": [
       "['a',\n",
       " 'b',\n",
       " 'c',\n",
       " 'd',\n",
       " 'e',\n",
       " 'f',\n",
       " 'g',\n",
       " 'h',\n",
       " 'i',\n",
       " 'j',\n",
       " 'k',\n",
       " 'l',\n",
       " 'm',\n",
       " 'n',\n",
       " 'o',\n",
       " 'p',\n",
       " 'q',\n",
       " 'r',\n",
       " 's',\n",
       " 't',\n",
       " 'u',\n",
       " 'v',\n",
       " 'w',\n",
       " 'x',\n",
       " 'y',\n",
       " 'z']"
      ]
     },
     "execution_count": 15,
     "metadata": {},
     "output_type": "execute_result"
    }
   ],
   "source": [
    "keys = [chr(num) for num in range(97,123)]\n",
    "keys"
   ]
  },
  {
   "cell_type": "code",
   "execution_count": 16,
   "id": "dbd13884-2909-45a1-9893-8b0e4261cd88",
   "metadata": {},
   "outputs": [
    {
     "data": {
      "text/plain": [
       "[1,\n",
       " 4,\n",
       " 9,\n",
       " 16,\n",
       " 25,\n",
       " 36,\n",
       " 49,\n",
       " 64,\n",
       " 81,\n",
       " 100,\n",
       " 121,\n",
       " 144,\n",
       " 169,\n",
       " 196,\n",
       " 225,\n",
       " 256,\n",
       " 289,\n",
       " 324,\n",
       " 361,\n",
       " 400,\n",
       " 441,\n",
       " 484,\n",
       " 529,\n",
       " 576,\n",
       " 625,\n",
       " 676]"
      ]
     },
     "execution_count": 16,
     "metadata": {},
     "output_type": "execute_result"
    }
   ],
   "source": [
    "values = [num ** 2 for num in range(1,27)]\n",
    "values"
   ]
  },
  {
   "cell_type": "code",
   "execution_count": 17,
   "id": "9869fa22-085f-4cbb-90a0-c2a4a49873a0",
   "metadata": {},
   "outputs": [
    {
     "data": {
      "text/plain": [
       "{'a': 1,\n",
       " 'b': 4,\n",
       " 'c': 9,\n",
       " 'd': 16,\n",
       " 'e': 25,\n",
       " 'f': 36,\n",
       " 'g': 49,\n",
       " 'h': 64,\n",
       " 'i': 81,\n",
       " 'j': 100,\n",
       " 'k': 121,\n",
       " 'l': 144,\n",
       " 'm': 169,\n",
       " 'n': 196,\n",
       " 'o': 225,\n",
       " 'p': 256,\n",
       " 'q': 289,\n",
       " 'r': 324,\n",
       " 's': 361,\n",
       " 't': 400,\n",
       " 'u': 441,\n",
       " 'v': 484,\n",
       " 'w': 529,\n",
       " 'x': 576,\n",
       " 'y': 625,\n",
       " 'z': 676}"
      ]
     },
     "execution_count": 17,
     "metadata": {},
     "output_type": "execute_result"
    }
   ],
   "source": [
    "d3 = dict(zip(keys, values))\n",
    "d3"
   ]
  },
  {
   "cell_type": "code",
   "execution_count": 18,
   "id": "d32e99ff-4b12-4739-bf6b-20fd72f8afdc",
   "metadata": {},
   "outputs": [
    {
     "data": {
      "text/plain": [
       "{'a': 1,\n",
       " 'b': 4,\n",
       " 'c': 9,\n",
       " 'd': 16,\n",
       " 'e': 25,\n",
       " 'f': 36,\n",
       " 'g': 49,\n",
       " 'h': 64,\n",
       " 'i': 81,\n",
       " 'j': 100,\n",
       " 'k': 121,\n",
       " 'l': 144,\n",
       " 'm': 169,\n",
       " 'n': 196,\n",
       " 'o': 225,\n",
       " 'p': 256,\n",
       " 'q': 289,\n",
       " 'r': 324,\n",
       " 's': 361,\n",
       " 't': 400,\n",
       " 'u': 441,\n",
       " 'v': 484,\n",
       " 'w': 529,\n",
       " 'x': 576,\n",
       " 'y': 625,\n",
       " 'z': 676}"
      ]
     },
     "execution_count": 18,
     "metadata": {},
     "output_type": "execute_result"
    }
   ],
   "source": [
    "d4 = {chr(num + 96): num ** 2 for num in range(1,27)}\n",
    "d4"
   ]
  },
  {
   "cell_type": "code",
   "execution_count": 19,
   "id": "113ca7c9-718b-44cd-ba35-2e8c8b0ba5c2",
   "metadata": {},
   "outputs": [],
   "source": [
    "def make_row_number_string(number):\n",
    "    row_number = \"r\" + str(number)\n",
    "    return row_number\n",
    "\n"
   ]
  },
  {
   "cell_type": "code",
   "execution_count": 20,
   "id": "e2dff836-9659-46de-8da7-e4c908e0e865",
   "metadata": {},
   "outputs": [],
   "source": [
    "def make_row_number_string(number):\n",
    "    return \"r\" + str(number)\n",
    "\n"
   ]
  },
  {
   "cell_type": "code",
   "execution_count": 21,
   "id": "7f43474b-3266-4015-9ec4-523ce0b114ec",
   "metadata": {},
   "outputs": [
    {
     "data": {
      "text/plain": [
       "'r100'"
      ]
     },
     "execution_count": 21,
     "metadata": {},
     "output_type": "execute_result"
    }
   ],
   "source": [
    "make_row_number_string(100)"
   ]
  },
  {
   "cell_type": "code",
   "execution_count": 22,
   "id": "e0b2c963-c896-4507-b6e8-6b9e76fcb71c",
   "metadata": {},
   "outputs": [],
   "source": [
    "make_row_number_string2 = lambda number: \"r\" + str(number)"
   ]
  },
  {
   "cell_type": "code",
   "execution_count": 23,
   "id": "c2ce22c2-92eb-4acc-95d1-b1b32f01a530",
   "metadata": {},
   "outputs": [
    {
     "data": {
      "text/plain": [
       "'r100'"
      ]
     },
     "execution_count": 23,
     "metadata": {},
     "output_type": "execute_result"
    }
   ],
   "source": [
    "make_row_number_string2(100)"
   ]
  },
  {
   "cell_type": "code",
   "execution_count": 24,
   "id": "bec36a1a-dad9-4b7d-8328-f2b31f2f782c",
   "metadata": {},
   "outputs": [
    {
     "data": {
      "text/plain": [
       "<function __main__.<lambda>(number)>"
      ]
     },
     "execution_count": 24,
     "metadata": {},
     "output_type": "execute_result"
    }
   ],
   "source": [
    "(lambda number: \"r\" + str(number))"
   ]
  },
  {
   "cell_type": "code",
   "execution_count": 25,
   "id": "87cb5e98-7f12-42c4-800b-53378542030a",
   "metadata": {},
   "outputs": [
    {
     "data": {
      "text/plain": [
       "'r100'"
      ]
     },
     "execution_count": 25,
     "metadata": {},
     "output_type": "execute_result"
    }
   ],
   "source": [
    "(lambda number: \"r\" + str(number))(100)"
   ]
  },
  {
   "cell_type": "code",
   "execution_count": 26,
   "id": "6577393c-9a59-4e9c-a775-fe433305857b",
   "metadata": {},
   "outputs": [
    {
     "data": {
      "text/plain": [
       "['r0', 'r1', 'r2', 'r3', 'r4']"
      ]
     },
     "execution_count": 26,
     "metadata": {},
     "output_type": "execute_result"
    }
   ],
   "source": [
    "row_numbers = [(lambda number: \"r\" + str(number))(number) for number in range(5)]\n",
    "row_numbers"
   ]
  },
  {
   "cell_type": "code",
   "execution_count": 27,
   "id": "458e81b6-9e4d-49d6-8516-720d45eedad8",
   "metadata": {},
   "outputs": [
    {
     "data": {
      "text/plain": [
       "[0, 1, 2, 3, 4]"
      ]
     },
     "execution_count": 27,
     "metadata": {},
     "output_type": "execute_result"
    }
   ],
   "source": [
    "numbers = [number for number in range(5)]\n",
    "numbers"
   ]
  },
  {
   "cell_type": "code",
   "execution_count": 28,
   "id": "6f4f004f-1001-4169-9642-76f02c6ec4f1",
   "metadata": {},
   "outputs": [
    {
     "data": {
      "text/plain": [
       "[0, 2, 4]"
      ]
     },
     "execution_count": 28,
     "metadata": {},
     "output_type": "execute_result"
    }
   ],
   "source": [
    "even_numbers = [number for number in range(5) if (number % 2 == 0)]\n",
    "even_numbers"
   ]
  },
  {
   "cell_type": "code",
   "execution_count": 29,
   "id": "3cf59f98-ecbb-4a32-b0bd-b9309c2938a7",
   "metadata": {},
   "outputs": [
    {
     "data": {
      "text/plain": [
       "[0, None, 2, None, 4]"
      ]
     },
     "execution_count": 29,
     "metadata": {},
     "output_type": "execute_result"
    }
   ],
   "source": [
    "even_numbers = [number if (number % 2 == 0) else None for number in range(5)]\n",
    "even_numbers"
   ]
  },
  {
   "cell_type": "code",
   "execution_count": 30,
   "id": "7af2bee2-5fb8-44ae-b231-0150206c4b1e",
   "metadata": {},
   "outputs": [
    {
     "data": {
      "text/plain": [
       "[True, False, True, False, True]"
      ]
     },
     "execution_count": 30,
     "metadata": {},
     "output_type": "execute_result"
    }
   ],
   "source": [
    "is_even = [True if number % 2 == 0 else False for number in range(5)] \n",
    "is_even"
   ]
  },
  {
   "cell_type": "code",
   "execution_count": 31,
   "id": "526c72e3-7f69-4249-a0c3-2e464909cdc3",
   "metadata": {},
   "outputs": [
    {
     "name": "stdout",
     "output_type": "stream",
     "text": [
      "[0, 1, 2, 3, 4, 5, 6, 7, 8, 9]\n",
      "['<=3', '<=3', '<=3', '<=3', '>3', '>3', '>5', '>5', '>5', '>5']\n"
     ]
    }
   ],
   "source": [
    "comparisons = [\">5\" if (number > 5) \n",
    "               else \">3\" if (number > 3) \n",
    "               else \"<=3\" \n",
    "               for number in range(10)]\n",
    "print(list(range(10)))\n",
    "print(comparisons)"
   ]
  },
  {
   "cell_type": "code",
   "execution_count": 32,
   "id": "f6ce7a01-2cd3-40da-bfca-a6f19fb94589",
   "metadata": {},
   "outputs": [
    {
     "data": {
      "text/plain": [
       "3"
      ]
     },
     "execution_count": 32,
     "metadata": {},
     "output_type": "execute_result"
    }
   ],
   "source": [
    "1 + 2"
   ]
  },
  {
   "cell_type": "code",
   "execution_count": 33,
   "id": "9b7e9bf6-f29b-42f3-bdbb-75e9dfd5c749",
   "metadata": {},
   "outputs": [
    {
     "data": {
      "text/plain": [
       "[1, 2, 3, 2, 4, 6]"
      ]
     },
     "execution_count": 33,
     "metadata": {},
     "output_type": "execute_result"
    }
   ],
   "source": [
    "[1, 2, 3] + [2, 4, 6]"
   ]
  },
  {
   "cell_type": "code",
   "execution_count": 34,
   "id": "fb84852d-042b-454e-813c-632fe386b260",
   "metadata": {},
   "outputs": [
    {
     "data": {
      "text/plain": [
       "[3, 6, 9]"
      ]
     },
     "execution_count": 34,
     "metadata": {},
     "output_type": "execute_result"
    }
   ],
   "source": [
    "[1+2, 2+4, 3+6]"
   ]
  },
  {
   "cell_type": "code",
   "execution_count": 35,
   "id": "6ff3ac34-a19f-44a8-95de-5e5527eb678b",
   "metadata": {},
   "outputs": [],
   "source": [
    "add_nums = lambda num1, num2: num1 + num2"
   ]
  },
  {
   "cell_type": "code",
   "execution_count": 36,
   "id": "2789c8f7-48d3-4b27-a621-0c4bc2e40550",
   "metadata": {},
   "outputs": [
    {
     "data": {
      "text/plain": [
       "3"
      ]
     },
     "execution_count": 36,
     "metadata": {},
     "output_type": "execute_result"
    }
   ],
   "source": [
    "add_nums(1, 2)"
   ]
  },
  {
   "cell_type": "code",
   "execution_count": 37,
   "id": "23907d18-9bac-49ea-be93-6e7d9da704d1",
   "metadata": {},
   "outputs": [
    {
     "data": {
      "text/plain": [
       "<map at 0x146e54048e0>"
      ]
     },
     "execution_count": 37,
     "metadata": {},
     "output_type": "execute_result"
    }
   ],
   "source": [
    "map(add_nums, [1, 2, 3], [2, 4, 6])"
   ]
  },
  {
   "cell_type": "code",
   "execution_count": 38,
   "id": "3ea02a4f-f0e7-4e45-9657-ee40b06d2774",
   "metadata": {},
   "outputs": [
    {
     "data": {
      "text/plain": [
       "[3, 6, 9]"
      ]
     },
     "execution_count": 38,
     "metadata": {},
     "output_type": "execute_result"
    }
   ],
   "source": [
    "list(map(add_nums, [1, 2, 3], [2, 4, 6]))"
   ]
  },
  {
   "cell_type": "code",
   "execution_count": 39,
   "id": "0eaacda1-5dd4-4814-8b7e-08116f353385",
   "metadata": {},
   "outputs": [
    {
     "data": {
      "text/plain": [
       "<map at 0x146e54061a0>"
      ]
     },
     "execution_count": 39,
     "metadata": {},
     "output_type": "execute_result"
    }
   ],
   "source": [
    "map((lambda num1, num2: num1 + num2), [1, 2, 3], [2, 4, 6])"
   ]
  },
  {
   "cell_type": "code",
   "execution_count": 40,
   "id": "ccb60a3d-3432-4543-bab3-3eca0e0155a9",
   "metadata": {},
   "outputs": [
    {
     "data": {
      "text/plain": [
       "[3, 6, 9]"
      ]
     },
     "execution_count": 40,
     "metadata": {},
     "output_type": "execute_result"
    }
   ],
   "source": [
    "list(map((lambda num1, num2: num1 + num2), [1, 2, 3], [2, 4, 6]))"
   ]
  },
  {
   "cell_type": "code",
   "execution_count": null,
   "id": "62e40e3c-d1a2-4558-8375-b9542190e0fc",
   "metadata": {},
   "outputs": [],
   "source": []
  }
 ],
 "metadata": {
  "kernelspec": {
   "display_name": "Python 3 (ipykernel)",
   "language": "python",
   "name": "python3"
  },
  "language_info": {
   "codemirror_mode": {
    "name": "ipython",
    "version": 3
   },
   "file_extension": ".py",
   "mimetype": "text/x-python",
   "name": "python",
   "nbconvert_exporter": "python",
   "pygments_lexer": "ipython3",
   "version": "3.10.6"
  }
 },
 "nbformat": 4,
 "nbformat_minor": 5
}
