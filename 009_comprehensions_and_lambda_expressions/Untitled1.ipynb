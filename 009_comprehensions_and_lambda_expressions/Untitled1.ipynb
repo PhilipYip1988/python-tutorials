{
 "cells": [
  {
   "cell_type": "code",
   "execution_count": 3,
   "id": "94aace01-63f1-4df6-b6b3-d9d99693df99",
   "metadata": {},
   "outputs": [],
   "source": [
    "def make_row_number_string(number):\n",
    "    row_number = \"r\" + str(number)\n",
    "    return row_number"
   ]
  },
  {
   "cell_type": "code",
   "execution_count": 4,
   "id": "fff60c1e-f64d-4b91-ac6d-afc5e407f5dc",
   "metadata": {},
   "outputs": [
    {
     "data": {
      "text/plain": [
       "'r100'"
      ]
     },
     "execution_count": 4,
     "metadata": {},
     "output_type": "execute_result"
    }
   ],
   "source": [
    "make_row_number_string(100)"
   ]
  },
  {
   "cell_type": "code",
   "execution_count": 30,
   "id": "c745468a-573a-4aca-8a31-99e809bb75a7",
   "metadata": {},
   "outputs": [],
   "source": [
    "make_row_number_string = lambda number : row_number"
   ]
  },
  {
   "cell_type": "code",
   "execution_count": null,
   "id": "41fd6b1c-954e-459d-8e6c-c7c5534f3d1e",
   "metadata": {},
   "outputs": [],
   "source": []
  },
  {
   "cell_type": "code",
   "execution_count": null,
   "id": "1efcad25-3b24-412f-89dc-4bf3fdddd4aa",
   "metadata": {},
   "outputs": [],
   "source": []
  },
  {
   "cell_type": "code",
   "execution_count": null,
   "id": "4f706e50-fc07-4346-90b2-3b1b739546db",
   "metadata": {},
   "outputs": [],
   "source": []
  },
  {
   "cell_type": "code",
   "execution_count": null,
   "id": "b849b423-ac34-49c6-afc1-e5f42375e504",
   "metadata": {},
   "outputs": [],
   "source": []
  },
  {
   "cell_type": "code",
   "execution_count": null,
   "id": "44b6c400-5816-47c0-99c3-284a486599a1",
   "metadata": {},
   "outputs": [],
   "source": []
  },
  {
   "cell_type": "code",
   "execution_count": null,
   "id": "74d29a8e-ead2-4233-9d9f-8a49ada283d1",
   "metadata": {},
   "outputs": [],
   "source": [
    "lambda"
   ]
  },
  {
   "cell_type": "code",
   "execution_count": null,
   "id": "c5380d25-4fb0-442a-86d6-32d1c896a42b",
   "metadata": {},
   "outputs": [],
   "source": [
    "def function_name(input1, input2):\n",
    "    return value\n",
    "\n"
   ]
  },
  {
   "cell_type": "code",
   "execution_count": null,
   "id": "41efb6f5-0476-461d-8f1b-e9c9532a0c07",
   "metadata": {},
   "outputs": [],
   "source": [
    "lambda function_name input1, input2: value"
   ]
  },
  {
   "cell_type": "code",
   "execution_count": null,
   "id": "42eac777-2b18-457f-9656-9d4bf20ce40b",
   "metadata": {},
   "outputs": [],
   "source": []
  },
  {
   "cell_type": "code",
   "execution_count": null,
   "id": "5b8dd8a7-4d18-4529-9337-25a631ae246b",
   "metadata": {},
   "outputs": [],
   "source": []
  },
  {
   "cell_type": "code",
   "execution_count": null,
   "id": "2688d350-a7bb-4b0b-bb6d-8d9a5df5682b",
   "metadata": {},
   "outputs": [],
   "source": []
  },
  {
   "cell_type": "code",
   "execution_count": null,
   "id": "06af0818-aa3e-42b5-b178-27ad47bc5a44",
   "metadata": {},
   "outputs": [],
   "source": []
  },
  {
   "cell_type": "code",
   "execution_count": 6,
   "id": "bdb9db7f-ba9b-47d2-b670-7d67bfde43a2",
   "metadata": {},
   "outputs": [
    {
     "data": {
      "text/plain": [
       "97"
      ]
     },
     "execution_count": 6,
     "metadata": {},
     "output_type": "execute_result"
    }
   ],
   "source": [
    "ord(\"a\")"
   ]
  },
  {
   "cell_type": "code",
   "execution_count": 7,
   "id": "49b7f102-1ace-4b62-bcd2-58540cd0a483",
   "metadata": {},
   "outputs": [
    {
     "data": {
      "text/plain": [
       "122"
      ]
     },
     "execution_count": 7,
     "metadata": {},
     "output_type": "execute_result"
    }
   ],
   "source": [
    "ord(\"z\")"
   ]
  },
  {
   "cell_type": "code",
   "execution_count": null,
   "id": "ac85458c-d851-42fd-8041-b5eb19451e44",
   "metadata": {},
   "outputs": [],
   "source": []
  },
  {
   "cell_type": "code",
   "execution_count": null,
   "id": "944fc8b1-4894-4823-b152-f0764c8a1b7e",
   "metadata": {},
   "outputs": [],
   "source": []
  },
  {
   "cell_type": "code",
   "execution_count": 9,
   "id": "6337d715-cea0-4f20-9203-2c93943bb194",
   "metadata": {},
   "outputs": [],
   "source": [
    "keys = [chr(num) for num in range(97,123)]"
   ]
  },
  {
   "cell_type": "code",
   "execution_count": 10,
   "id": "e8c19577-cde7-4a75-873f-789eebc7926b",
   "metadata": {},
   "outputs": [
    {
     "data": {
      "text/plain": [
       "['a',\n",
       " 'b',\n",
       " 'c',\n",
       " 'd',\n",
       " 'e',\n",
       " 'f',\n",
       " 'g',\n",
       " 'h',\n",
       " 'i',\n",
       " 'j',\n",
       " 'k',\n",
       " 'l',\n",
       " 'm',\n",
       " 'n',\n",
       " 'o',\n",
       " 'p',\n",
       " 'q',\n",
       " 'r',\n",
       " 's',\n",
       " 't',\n",
       " 'u',\n",
       " 'v',\n",
       " 'w',\n",
       " 'x',\n",
       " 'y',\n",
       " 'z']"
      ]
     },
     "execution_count": 10,
     "metadata": {},
     "output_type": "execute_result"
    }
   ],
   "source": [
    "keys"
   ]
  },
  {
   "cell_type": "code",
   "execution_count": 17,
   "id": "c6a8b7f5-3a91-40ff-8b33-a0b11dc062b0",
   "metadata": {},
   "outputs": [],
   "source": [
    "values = [num ** 2 for num in range(1,27)]"
   ]
  },
  {
   "cell_type": "code",
   "execution_count": 18,
   "id": "9245f814-507f-47cb-9d12-b394238be79a",
   "metadata": {},
   "outputs": [
    {
     "data": {
      "text/plain": [
       "[1,\n",
       " 4,\n",
       " 9,\n",
       " 16,\n",
       " 25,\n",
       " 36,\n",
       " 49,\n",
       " 64,\n",
       " 81,\n",
       " 100,\n",
       " 121,\n",
       " 144,\n",
       " 169,\n",
       " 196,\n",
       " 225,\n",
       " 256,\n",
       " 289,\n",
       " 324,\n",
       " 361,\n",
       " 400,\n",
       " 441,\n",
       " 484,\n",
       " 529,\n",
       " 576,\n",
       " 625,\n",
       " 676]"
      ]
     },
     "execution_count": 18,
     "metadata": {},
     "output_type": "execute_result"
    }
   ],
   "source": [
    "values"
   ]
  },
  {
   "cell_type": "code",
   "execution_count": 19,
   "id": "5704d848-16a1-421a-a5e1-3eeef5b29475",
   "metadata": {},
   "outputs": [],
   "source": [
    "d3 = dict(zip(keys, values))"
   ]
  },
  {
   "cell_type": "code",
   "execution_count": 20,
   "id": "4fcb5554-bbc2-4ea6-ba65-544296d34bf0",
   "metadata": {},
   "outputs": [
    {
     "data": {
      "text/plain": [
       "{'a': 1,\n",
       " 'b': 4,\n",
       " 'c': 9,\n",
       " 'd': 16,\n",
       " 'e': 25,\n",
       " 'f': 36,\n",
       " 'g': 49,\n",
       " 'h': 64,\n",
       " 'i': 81,\n",
       " 'j': 100,\n",
       " 'k': 121,\n",
       " 'l': 144,\n",
       " 'm': 169,\n",
       " 'n': 196,\n",
       " 'o': 225,\n",
       " 'p': 256,\n",
       " 'q': 289,\n",
       " 'r': 324,\n",
       " 's': 361,\n",
       " 't': 400,\n",
       " 'u': 441,\n",
       " 'v': 484,\n",
       " 'w': 529,\n",
       " 'x': 576,\n",
       " 'y': 625,\n",
       " 'z': 676}"
      ]
     },
     "execution_count": 20,
     "metadata": {},
     "output_type": "execute_result"
    }
   ],
   "source": [
    "d3"
   ]
  },
  {
   "cell_type": "code",
   "execution_count": 21,
   "id": "41ffcf22-4ae1-443b-bb09-77f7c8f0be6a",
   "metadata": {},
   "outputs": [],
   "source": [
    "d4 = {chr(num + 96): num ** 2 for num in range(1,27)}"
   ]
  },
  {
   "cell_type": "code",
   "execution_count": 22,
   "id": "6a28cf4e-eec6-4f6c-9976-5aeb18c4cbe8",
   "metadata": {},
   "outputs": [
    {
     "data": {
      "text/plain": [
       "{'a': 1,\n",
       " 'b': 4,\n",
       " 'c': 9,\n",
       " 'd': 16,\n",
       " 'e': 25,\n",
       " 'f': 36,\n",
       " 'g': 49,\n",
       " 'h': 64,\n",
       " 'i': 81,\n",
       " 'j': 100,\n",
       " 'k': 121,\n",
       " 'l': 144,\n",
       " 'm': 169,\n",
       " 'n': 196,\n",
       " 'o': 225,\n",
       " 'p': 256,\n",
       " 'q': 289,\n",
       " 'r': 324,\n",
       " 's': 361,\n",
       " 't': 400,\n",
       " 'u': 441,\n",
       " 'v': 484,\n",
       " 'w': 529,\n",
       " 'x': 576,\n",
       " 'y': 625,\n",
       " 'z': 676}"
      ]
     },
     "execution_count": 22,
     "metadata": {},
     "output_type": "execute_result"
    }
   ],
   "source": [
    "d4"
   ]
  },
  {
   "cell_type": "code",
   "execution_count": null,
   "id": "25ab68f6-1aff-482d-8596-431d4299dba0",
   "metadata": {},
   "outputs": [],
   "source": []
  },
  {
   "cell_type": "code",
   "execution_count": null,
   "id": "2f1cf0b5-f215-4c04-9008-130db9ffbda7",
   "metadata": {},
   "outputs": [],
   "source": []
  },
  {
   "cell_type": "code",
   "execution_count": null,
   "id": "88951605-d8ab-4c72-a2c4-146aa73c9aa3",
   "metadata": {},
   "outputs": [],
   "source": [
    "make_row_number_string = lambda number: \"r\" + str(number)"
   ]
  },
  {
   "cell_type": "code",
   "execution_count": 31,
   "id": "cec39288-5641-4df4-84b8-15f5df357d0e",
   "metadata": {},
   "outputs": [
    {
     "data": {
      "text/plain": [
       "[<function __main__.<listcomp>.<lambda>(number)>,\n",
       " <function __main__.<listcomp>.<lambda>(number)>,\n",
       " <function __main__.<listcomp>.<lambda>(number)>,\n",
       " <function __main__.<listcomp>.<lambda>(number)>,\n",
       " <function __main__.<listcomp>.<lambda>(number)>]"
      ]
     },
     "execution_count": 31,
     "metadata": {},
     "output_type": "execute_result"
    }
   ],
   "source": [
    "row_numbers = [lambda number: \"r\" + str(number) for number in range(5)]\n",
    "row_numbers"
   ]
  },
  {
   "cell_type": "code",
   "execution_count": 32,
   "id": "1d610c9d-b880-49ba-b9fb-463049da8e18",
   "metadata": {},
   "outputs": [
    {
     "data": {
      "text/plain": [
       "[<function __main__.<listcomp>.<lambda>(x)>,\n",
       " <function __main__.<listcomp>.<lambda>(x)>,\n",
       " <function __main__.<listcomp>.<lambda>(x)>,\n",
       " <function __main__.<listcomp>.<lambda>(x)>,\n",
       " <function __main__.<listcomp>.<lambda>(x)>,\n",
       " <function __main__.<listcomp>.<lambda>(x)>,\n",
       " <function __main__.<listcomp>.<lambda>(x)>,\n",
       " <function __main__.<listcomp>.<lambda>(x)>,\n",
       " <function __main__.<listcomp>.<lambda>(x)>,\n",
       " <function __main__.<listcomp>.<lambda>(x)>]"
      ]
     },
     "execution_count": 32,
     "metadata": {},
     "output_type": "execute_result"
    }
   ],
   "source": [
    "[lambda x: x*x for x in range(10)]"
   ]
  },
  {
   "cell_type": "code",
   "execution_count": 33,
   "id": "412eb6cb-fad2-4004-9e29-6477de1e9887",
   "metadata": {},
   "outputs": [
    {
     "data": {
      "text/plain": [
       "[0, 1, 4, 9, 16, 25, 36, 49, 64, 81]"
      ]
     },
     "execution_count": 33,
     "metadata": {},
     "output_type": "execute_result"
    }
   ],
   "source": [
    "[x*x for x in range(10)]"
   ]
  },
  {
   "cell_type": "code",
   "execution_count": 34,
   "id": "e7d81e27-23e4-4686-856a-93b3e22d7d20",
   "metadata": {},
   "outputs": [
    {
     "data": {
      "text/plain": [
       "[0, 1, 4, 9, 16, 25, 36, 49, 64, 81]"
      ]
     },
     "execution_count": 34,
     "metadata": {},
     "output_type": "execute_result"
    }
   ],
   "source": [
    "[(lambda x: x*x)(x) for x in range(10)]"
   ]
  },
  {
   "cell_type": "code",
   "execution_count": 35,
   "id": "d030d733-7c6f-4b9f-8597-f34f00124e31",
   "metadata": {},
   "outputs": [
    {
     "data": {
      "text/plain": [
       "'r100'"
      ]
     },
     "execution_count": 35,
     "metadata": {},
     "output_type": "execute_result"
    }
   ],
   "source": [
    "(lambda number: \"r\" + str(number))(100)"
   ]
  },
  {
   "cell_type": "code",
   "execution_count": 39,
   "id": "9dbbade3-d2aa-49e5-8c57-34348be2d92b",
   "metadata": {},
   "outputs": [
    {
     "data": {
      "text/plain": [
       "['r0', 'r1', 'r2', 'r3', 'r4']"
      ]
     },
     "execution_count": 39,
     "metadata": {},
     "output_type": "execute_result"
    }
   ],
   "source": [
    "row_numbers = [(lambda number: \"r\" + str(number))(number) for number in range(5)]\n",
    "row_numbers"
   ]
  },
  {
   "cell_type": "code",
   "execution_count": 41,
   "id": "593d3943-b0c5-4d7f-9c0d-d6889ad957aa",
   "metadata": {},
   "outputs": [
    {
     "data": {
      "text/plain": [
       "True"
      ]
     },
     "execution_count": 41,
     "metadata": {},
     "output_type": "execute_result"
    }
   ],
   "source": [
    "(lambda x: x.startswith('B'))('Bob')"
   ]
  },
  {
   "cell_type": "code",
   "execution_count": null,
   "id": "845c64ec-a113-435e-ad4c-8c2028af9137",
   "metadata": {},
   "outputs": [],
   "source": [
    "str.startswith"
   ]
  },
  {
   "cell_type": "code",
   "execution_count": null,
   "id": "41d70d15-1e04-4184-bcdf-6ebd8eab5fa7",
   "metadata": {},
   "outputs": [],
   "source": [
    "row_numbers = [\"r\" + str(number) for number in range(5)]"
   ]
  },
  {
   "cell_type": "code",
   "execution_count": null,
   "id": "e9069aa6-edea-47e8-835e-246f14db1a47",
   "metadata": {},
   "outputs": [],
   "source": []
  },
  {
   "cell_type": "code",
   "execution_count": null,
   "id": "82ae6def-3313-4d89-bbc5-71a5b7b8b2ec",
   "metadata": {},
   "outputs": [],
   "source": []
  },
  {
   "cell_type": "code",
   "execution_count": 48,
   "id": "2c392399-d2ba-495d-bfc2-9e1fa71265cc",
   "metadata": {},
   "outputs": [],
   "source": [
    "from sympy import symbols, sin, sqrt\n",
    "x, y, m, c = symbols('x y m c')\n",
    "f = sqrt(x) + 2*y + sin(x)\n",
    "g = m*x + c"
   ]
  },
  {
   "cell_type": "code",
   "execution_count": 49,
   "id": "fd6b06f2-e64c-4929-8ba0-f9b33de253a2",
   "metadata": {},
   "outputs": [
    {
     "data": {
      "text/latex": [
       "$\\displaystyle c + m x$"
      ],
      "text/plain": [
       "c + m*x"
      ]
     },
     "execution_count": 49,
     "metadata": {},
     "output_type": "execute_result"
    }
   ],
   "source": [
    "g"
   ]
  },
  {
   "cell_type": "code",
   "execution_count": 53,
   "id": "09c2da8a-872a-4d1e-b3c9-985e8a863277",
   "metadata": {},
   "outputs": [],
   "source": [
    "from sympy import Matrix, shape\n",
    "M = Matrix([[1, 2, 3], [-2, 0, 4]])\n",
    "N = Matrix([[1, 2, 3], [-2, 0, 4]])"
   ]
  },
  {
   "cell_type": "code",
   "execution_count": 55,
   "id": "1c441499-ac43-4f56-8364-a4f2ea9ace5a",
   "metadata": {},
   "outputs": [
    {
     "data": {
      "text/latex": [
       "$\\displaystyle \\left[\\begin{matrix}14 & 10\\\\10 & 20\\end{matrix}\\right]$"
      ],
      "text/plain": [
       "Matrix([\n",
       "[14, 10],\n",
       "[10, 20]])"
      ]
     },
     "execution_count": 55,
     "metadata": {},
     "output_type": "execute_result"
    }
   ],
   "source": [
    "M * N.transpose()"
   ]
  },
  {
   "cell_type": "code",
   "execution_count": 56,
   "id": "fd98885c-9460-4841-bbad-e716b13c9c66",
   "metadata": {},
   "outputs": [
    {
     "data": {
      "text/latex": [
       "$\\displaystyle \\left[\\begin{matrix}1 & 2 & 3\\\\-2 & 0 & 4\\end{matrix}\\right]$"
      ],
      "text/plain": [
       "Matrix([\n",
       "[ 1, 2, 3],\n",
       "[-2, 0, 4]])"
      ]
     },
     "execution_count": 56,
     "metadata": {},
     "output_type": "execute_result"
    }
   ],
   "source": [
    "M"
   ]
  },
  {
   "cell_type": "code",
   "execution_count": 59,
   "id": "a1c86fb3-1834-4874-ada1-adfedc384dc7",
   "metadata": {},
   "outputs": [
    {
     "data": {
      "text/latex": [
       "$\\displaystyle \\left[\\begin{matrix}1 & -2\\\\2 & 0\\\\3 & 4\\end{matrix}\\right]$"
      ],
      "text/plain": [
       "Matrix([\n",
       "[1, -2],\n",
       "[2,  0],\n",
       "[3,  4]])"
      ]
     },
     "execution_count": 59,
     "metadata": {},
     "output_type": "execute_result"
    }
   ],
   "source": [
    "M.transpose()"
   ]
  },
  {
   "cell_type": "code",
   "execution_count": 60,
   "id": "58258964-2a19-4aee-8239-ba1e291cbebb",
   "metadata": {},
   "outputs": [],
   "source": [
    "import sympy\n",
    "a = sympy.Matrix([[1, 2, 3], [4, 5, 6]])\n",
    "b = sympy.Matrix([[7, 8, 9, 10], [11, 12, 13, 14], [15, 16, 17, 18]])"
   ]
  },
  {
   "cell_type": "code",
   "execution_count": 61,
   "id": "d9daaef5-4310-44a7-b95d-dcdcc264b103",
   "metadata": {},
   "outputs": [
    {
     "data": {
      "text/latex": [
       "$\\displaystyle \\left[\\begin{matrix}1 & 2 & 3\\\\4 & 5 & 6\\end{matrix}\\right]$"
      ],
      "text/plain": [
       "Matrix([\n",
       "[1, 2, 3],\n",
       "[4, 5, 6]])"
      ]
     },
     "execution_count": 61,
     "metadata": {},
     "output_type": "execute_result"
    }
   ],
   "source": [
    "a"
   ]
  },
  {
   "cell_type": "code",
   "execution_count": 62,
   "id": "bc7cd300-8bd2-47ea-939b-495e002d2bb8",
   "metadata": {},
   "outputs": [
    {
     "data": {
      "text/latex": [
       "$\\displaystyle \\left[\\begin{matrix}7 & 8 & 9 & 10\\\\11 & 12 & 13 & 14\\\\15 & 16 & 17 & 18\\end{matrix}\\right]$"
      ],
      "text/plain": [
       "Matrix([\n",
       "[ 7,  8,  9, 10],\n",
       "[11, 12, 13, 14],\n",
       "[15, 16, 17, 18]])"
      ]
     },
     "execution_count": 62,
     "metadata": {},
     "output_type": "execute_result"
    }
   ],
   "source": [
    "b"
   ]
  },
  {
   "cell_type": "code",
   "execution_count": 63,
   "id": "86708774-f45a-448f-a274-1925ba48c7c4",
   "metadata": {},
   "outputs": [
    {
     "data": {
      "text/latex": [
       "$\\displaystyle \\left[\\begin{matrix}74 & 80 & 86 & 92\\\\173 & 188 & 203 & 218\\end{matrix}\\right]$"
      ],
      "text/plain": [
       "Matrix([\n",
       "[ 74,  80,  86,  92],\n",
       "[173, 188, 203, 218]])"
      ]
     },
     "execution_count": 63,
     "metadata": {},
     "output_type": "execute_result"
    }
   ],
   "source": [
    "a * b"
   ]
  },
  {
   "cell_type": "code",
   "execution_count": null,
   "id": "50df5151-b3bc-4f3c-8140-0ef6660df865",
   "metadata": {},
   "outputs": [],
   "source": []
  },
  {
   "cell_type": "code",
   "execution_count": null,
   "id": "ff127889-0a36-4108-b7ea-ecfabbf5a184",
   "metadata": {},
   "outputs": [],
   "source": [
    "def myfunc(a, b):\n",
    "  return a + b\n",
    "\n",
    "x = map(myfunc, ('apple', 'banana', 'cherry'), ('orange', 'lemon', 'pineapple'))\n",
    "\n",
    "print(x)\n",
    "\n",
    "#convert the map into a list, for readability:\n",
    "print(list(x))\n"
   ]
  },
  {
   "cell_type": "code",
   "execution_count": null,
   "id": "7d298336-884e-437e-86e8-7ef3b07dafe4",
   "metadata": {},
   "outputs": [],
   "source": []
  },
  {
   "cell_type": "code",
   "execution_count": null,
   "id": "70db6183-28cb-424d-a732-3606e6d4a77e",
   "metadata": {},
   "outputs": [],
   "source": []
  },
  {
   "cell_type": "code",
   "execution_count": null,
   "id": "d9e443c5-bea8-40e4-abda-7477fd83f91a",
   "metadata": {},
   "outputs": [],
   "source": []
  },
  {
   "cell_type": "code",
   "execution_count": 65,
   "id": "6d676039-039f-4d7b-b139-071c43e5be24",
   "metadata": {},
   "outputs": [],
   "source": [
    "add_nums = lambda num1, num2: num1 + num2"
   ]
  },
  {
   "cell_type": "code",
   "execution_count": 71,
   "id": "010f2e7f-e8ca-41ad-9f3a-8d5c7f9d5fbc",
   "metadata": {},
   "outputs": [
    {
     "data": {
      "text/plain": [
       "3"
      ]
     },
     "execution_count": 71,
     "metadata": {},
     "output_type": "execute_result"
    }
   ],
   "source": [
    "add_nums(1, 2)"
   ]
  },
  {
   "cell_type": "code",
   "execution_count": 80,
   "id": "ba882da7-3a90-4526-94a5-52ea4d1a15f4",
   "metadata": {},
   "outputs": [
    {
     "data": {
      "text/plain": [
       "<map at 0x2b339c8bcd0>"
      ]
     },
     "execution_count": 80,
     "metadata": {},
     "output_type": "execute_result"
    }
   ],
   "source": [
    "map(add_nums, [1], [2])"
   ]
  },
  {
   "cell_type": "code",
   "execution_count": 81,
   "id": "f512233b-3e30-4772-b47f-6db6bef6862e",
   "metadata": {},
   "outputs": [
    {
     "data": {
      "text/plain": [
       "[3]"
      ]
     },
     "execution_count": 81,
     "metadata": {},
     "output_type": "execute_result"
    }
   ],
   "source": [
    "list(map(add_nums, [1], [2]))"
   ]
  },
  {
   "cell_type": "code",
   "execution_count": 82,
   "id": "54541266-4101-43a7-aa6a-bc495734dd2f",
   "metadata": {},
   "outputs": [
    {
     "data": {
      "text/plain": [
       "[3, 6, 9]"
      ]
     },
     "execution_count": 82,
     "metadata": {},
     "output_type": "execute_result"
    }
   ],
   "source": [
    "list(map(add_nums, [1, 2, 3], [2, 4, 6]))"
   ]
  },
  {
   "cell_type": "code",
   "execution_count": 83,
   "id": "082b967c-04fd-476a-9e87-67de4fdcad10",
   "metadata": {},
   "outputs": [
    {
     "data": {
      "text/plain": [
       "[3, 6, 9]"
      ]
     },
     "execution_count": 83,
     "metadata": {},
     "output_type": "execute_result"
    }
   ],
   "source": [
    "list(map((lambda num1, num2: num1 + num2), [1, 2, 3], [2, 4, 6]))"
   ]
  },
  {
   "cell_type": "code",
   "execution_count": null,
   "id": "ee51d278-16ae-4c06-a16f-40b432d22318",
   "metadata": {},
   "outputs": [],
   "source": []
  },
  {
   "cell_type": "code",
   "execution_count": 85,
   "id": "3836fe00-575d-467d-8f05-71a100e893e9",
   "metadata": {},
   "outputs": [
    {
     "data": {
      "text/plain": [
       "[0, 1, 2, 3, 4]"
      ]
     },
     "execution_count": 85,
     "metadata": {},
     "output_type": "execute_result"
    }
   ],
   "source": [
    "numbers = [number for number in range(5)]\n",
    "numbers"
   ]
  },
  {
   "cell_type": "code",
   "execution_count": null,
   "id": "b1d795f5-06b2-468a-99db-14323d20f835",
   "metadata": {},
   "outputs": [],
   "source": []
  },
  {
   "cell_type": "code",
   "execution_count": 86,
   "id": "0a25e30c-4d9a-447b-a554-c56846887d4a",
   "metadata": {},
   "outputs": [
    {
     "data": {
      "text/plain": [
       "[0, 2, 4]"
      ]
     },
     "execution_count": 86,
     "metadata": {},
     "output_type": "execute_result"
    }
   ],
   "source": [
    "even_numbers = [number for number in range(5) if (number % 2 == 0)]\n",
    "even_numbers"
   ]
  },
  {
   "cell_type": "code",
   "execution_count": null,
   "id": "3680f4a8-31ac-45a0-9f55-bf36ab2a6671",
   "metadata": {},
   "outputs": [],
   "source": []
  },
  {
   "cell_type": "code",
   "execution_count": null,
   "id": "0cb316e4-e968-40b2-bda7-d85e10c9df61",
   "metadata": {},
   "outputs": [],
   "source": [
    "even_numbers = [True for number in range(5) if (number % 2 == 0)]\n",
    "even_numbers"
   ]
  },
  {
   "cell_type": "code",
   "execution_count": null,
   "id": "17809693-8214-46d1-ab8c-4fb67c8c67b3",
   "metadata": {},
   "outputs": [],
   "source": []
  },
  {
   "cell_type": "code",
   "execution_count": 88,
   "id": "3607ac73-ce48-4e9f-bf5a-0eec99f3a19b",
   "metadata": {},
   "outputs": [
    {
     "data": {
      "text/plain": [
       "[True, False, True, False, True]"
      ]
     },
     "execution_count": 88,
     "metadata": {},
     "output_type": "execute_result"
    }
   ],
   "source": [
    "is_even = [True if number % 2 == 0 else False for number in range(5)] \n",
    "is_even"
   ]
  },
  {
   "cell_type": "code",
   "execution_count": 91,
   "id": "ff14ab43-acbb-4d8b-b083-9757723873c6",
   "metadata": {},
   "outputs": [
    {
     "data": {
      "text/plain": [
       "[0, None, 2, None, 4]"
      ]
     },
     "execution_count": 91,
     "metadata": {},
     "output_type": "execute_result"
    }
   ],
   "source": [
    "even_numbers = [number if (number % 2 == 0) else None for number in range(5)]\n",
    "even_numbers"
   ]
  },
  {
   "cell_type": "code",
   "execution_count": null,
   "id": "6d3da023-4e37-4576-9404-8fd198c9de38",
   "metadata": {},
   "outputs": [],
   "source": []
  },
  {
   "cell_type": "code",
   "execution_count": 105,
   "id": "c7f959e3-45de-44d6-9930-2f7cd3286113",
   "metadata": {},
   "outputs": [
    {
     "name": "stdout",
     "output_type": "stream",
     "text": [
      "[0, 1, 2, 3, 4, 5, 6, 7, 8, 9]\n",
      "['<=3', '<=3', '<=3', '<=3', '>3', '>3', '>5', '>5', '>5', '>5']\n"
     ]
    }
   ],
   "source": [
    "comparisons = [\">5\" if (number > 5) \n",
    "               else \">3\" if (number > 3) \n",
    "               else \"<=3\" \n",
    "               for number in range(10)]\n",
    "print(list(range(10)))\n",
    "print(comparisons)"
   ]
  },
  {
   "cell_type": "code",
   "execution_count": null,
   "id": "8cec4ed1-dffa-4d48-8b9a-0d59398d2048",
   "metadata": {},
   "outputs": [],
   "source": []
  },
  {
   "cell_type": "code",
   "execution_count": null,
   "id": "19fa45f7-78f8-4153-a24f-7710533ba1d1",
   "metadata": {},
   "outputs": [],
   "source": [
    "new_list = [expression if condition \n",
    "            else else_if_expression if else_if_condition\n",
    "            else else_condition\n",
    "            for loop_variable in iterable]"
   ]
  },
  {
   "cell_type": "code",
   "execution_count": null,
   "id": "f808fd4c-5667-4903-b5a2-086a056052f6",
   "metadata": {},
   "outputs": [],
   "source": []
  },
  {
   "cell_type": "code",
   "execution_count": 70,
   "id": "e4a3d085-5666-4768-9128-e3ca36f6f45e",
   "metadata": {},
   "outputs": [
    {
     "data": {
      "text/plain": [
       "<map at 0x2b339c8ab90>"
      ]
     },
     "execution_count": 70,
     "metadata": {},
     "output_type": "execute_result"
    }
   ],
   "source": [
    "map(add_nums, (1, 2, 3), (4, 5, 6))"
   ]
  },
  {
   "cell_type": "code",
   "execution_count": null,
   "id": "d964f99d-26bf-4620-8272-7674b292c332",
   "metadata": {},
   "outputs": [],
   "source": []
  }
 ],
 "metadata": {
  "kernelspec": {
   "display_name": "Python 3 (ipykernel)",
   "language": "python",
   "name": "python3"
  },
  "language_info": {
   "codemirror_mode": {
    "name": "ipython",
    "version": 3
   },
   "file_extension": ".py",
   "mimetype": "text/x-python",
   "name": "python",
   "nbconvert_exporter": "python",
   "pygments_lexer": "ipython3",
   "version": "3.10.6"
  }
 },
 "nbformat": 4,
 "nbformat_minor": 5
}
