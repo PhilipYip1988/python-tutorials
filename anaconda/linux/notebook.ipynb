{
 "cells": [
  {
   "cell_type": "code",
   "execution_count": 2,
   "metadata": {},
   "outputs": [
    {
     "name": "stdout",
     "output_type": "stream",
     "text": [
      "<img src='images_pycharm/img_001.png' alt='img_001' width='450'/>\n",
      "<img src='images_pycharm/img_002.png' alt='img_002' width='450'/>\n",
      "<img src='images_pycharm/img_003.png' alt='img_003' width='450'/>\n",
      "<img src='images_pycharm/img_004.png' alt='img_004' width='450'/>\n",
      "<img src='images_pycharm/img_005.png' alt='img_005' width='450'/>\n",
      "<img src='images_pycharm/img_006.png' alt='img_006' width='450'/>\n",
      "<img src='images_pycharm/img_007.png' alt='img_007' width='450'/>\n",
      "<img src='images_pycharm/img_008.png' alt='img_008' width='450'/>\n",
      "<img src='images_pycharm/img_009.png' alt='img_009' width='450'/>\n",
      "<img src='images_pycharm/img_010.png' alt='img_010' width='450'/>\n",
      "<img src='images_pycharm/img_011.png' alt='img_011' width='450'/>\n",
      "<img src='images_pycharm/img_012.png' alt='img_012' width='450'/>\n",
      "<img src='images_pycharm/img_013.png' alt='img_013' width='450'/>\n",
      "<img src='images_pycharm/img_014.png' alt='img_014' width='450'/>\n",
      "<img src='images_pycharm/img_015.png' alt='img_015' width='450'/>\n",
      "<img src='images_pycharm/img_016.png' alt='img_016' width='450'/>\n",
      "<img src='images_pycharm/img_017.png' alt='img_017' width='450'/>\n",
      "<img src='images_pycharm/img_018.png' alt='img_018' width='450'/>\n",
      "<img src='images_pycharm/img_019.png' alt='img_019' width='450'/>\n",
      "<img src='images_pycharm/img_020.png' alt='img_020' width='450'/>\n",
      "<img src='images_pycharm/img_021.png' alt='img_021' width='450'/>\n",
      "<img src='images_pycharm/img_022.png' alt='img_022' width='450'/>\n",
      "<img src='images_pycharm/img_023.png' alt='img_023' width='450'/>\n",
      "<img src='images_pycharm/img_024.png' alt='img_024' width='450'/>\n",
      "<img src='images_pycharm/img_025.png' alt='img_025' width='450'/>\n",
      "<img src='images_pycharm/img_026.png' alt='img_026' width='450'/>\n",
      "<img src='images_pycharm/img_027.png' alt='img_027' width='450'/>\n",
      "<img src='images_pycharm/img_028.png' alt='img_028' width='450'/>\n",
      "<img src='images_pycharm/img_029.png' alt='img_029' width='450'/>\n",
      "<img src='images_pycharm/img_030.png' alt='img_030' width='450'/>\n",
      "<img src='images_pycharm/img_031.png' alt='img_031' width='450'/>\n",
      "<img src='images_pycharm/img_032.png' alt='img_032' width='450'/>\n",
      "<img src='images_pycharm/img_033.png' alt='img_033' width='450'/>\n",
      "<img src='images_pycharm/img_034.png' alt='img_034' width='450'/>\n",
      "<img src='images_pycharm/img_035.png' alt='img_035' width='450'/>\n",
      "<img src='images_pycharm/img_036.png' alt='img_036' width='450'/>\n",
      "<img src='images_pycharm/img_037.png' alt='img_037' width='450'/>\n",
      "<img src='images_pycharm/img_038.png' alt='img_038' width='450'/>\n",
      "<img src='images_pycharm/img_039.png' alt='img_039' width='450'/>\n",
      "<img src='images_pycharm/img_040.png' alt='img_040' width='450'/>\n",
      "<img src='images_pycharm/img_041.png' alt='img_041' width='450'/>\n",
      "<img src='images_pycharm/img_042.png' alt='img_042' width='450'/>\n",
      "<img src='images_pycharm/img_043.png' alt='img_043' width='450'/>\n",
      "<img src='images_pycharm/img_044.png' alt='img_044' width='450'/>\n",
      "<img src='images_pycharm/img_045.png' alt='img_045' width='450'/>\n",
      "<img src='images_pycharm/img_046.png' alt='img_046' width='450'/>\n",
      "<img src='images_pycharm/img_047.png' alt='img_047' width='450'/>\n"
     ]
    }
   ],
   "source": [
    "for num in range(1, 48):\n",
    "    print(\n",
    "        f\"<img src='images_pycharm/img_{num:03d}.png' alt='img_{num:03d}' width='450'/>\")"
   ]
  },
  {
   "cell_type": "code",
   "execution_count": 12,
   "metadata": {},
   "outputs": [],
   "source": [
    "import os\n",
    "path = r'C:\\Users\\Philip\\Documents\\GitHub\\anaconda\\linux\\images_pycharm'\n",
    "files = os.listdir(path)\n",
    "i = 1\n",
    "\n",
    "for file in files:\n",
    "    old = os.path.join(path, file)\n",
    "    new = os.path.join(path, 'img_'+f\"{i:03d}\"+'.png')\n",
    "    os.rename(old, new)\n",
    "    i = i+1"
   ]
  },
  {
   "cell_type": "code",
   "execution_count": null,
   "metadata": {},
   "outputs": [],
   "source": [
    "r'C:\\Users\\Philip\\Documents\\GitHub\\anaconda\\linux\\images_idle'"
   ]
  },
  {
   "cell_type": "code",
   "execution_count": null,
   "metadata": {},
   "outputs": [],
   "source": [
    "os.listdir(path)"
   ]
  },
  {
   "cell_type": "code",
   "execution_count": null,
   "metadata": {},
   "outputs": [],
   "source": [
    "a = 'hello'"
   ]
  },
  {
   "cell_type": "code",
   "execution_count": 3,
   "metadata": {},
   "outputs": [
    {
     "data": {
      "text/plain": [
       "97"
      ]
     },
     "execution_count": 3,
     "metadata": {},
     "output_type": "execute_result"
    }
   ],
   "source": [
    "ord('a')"
   ]
  },
  {
   "cell_type": "code",
   "execution_count": 22,
   "metadata": {},
   "outputs": [
    {
     "name": "stdout",
     "output_type": "stream",
     "text": [
      "a\n"
     ]
    }
   ],
   "source": [
    "print('\\x61')"
   ]
  },
  {
   "cell_type": "code",
   "execution_count": 16,
   "metadata": {},
   "outputs": [
    {
     "name": "stdout",
     "output_type": "stream",
     "text": [
      "a\n"
     ]
    }
   ],
   "source": [
    "print('a')"
   ]
  },
  {
   "cell_type": "code",
   "execution_count": 24,
   "metadata": {},
   "outputs": [
    {
     "data": {
      "text/plain": [
       "'='"
      ]
     },
     "execution_count": 24,
     "metadata": {},
     "output_type": "execute_result"
    }
   ],
   "source": [
    "chr(61)"
   ]
  },
  {
   "cell_type": "code",
   "execution_count": 23,
   "metadata": {},
   "outputs": [
    {
     "data": {
      "text/plain": [
       "'a'"
      ]
     },
     "execution_count": 23,
     "metadata": {},
     "output_type": "execute_result"
    }
   ],
   "source": [
    "'\\x61'"
   ]
  },
  {
   "cell_type": "code",
   "execution_count": 18,
   "metadata": {},
   "outputs": [
    {
     "data": {
      "text/plain": [
       "False"
      ]
     },
     "execution_count": 18,
     "metadata": {},
     "output_type": "execute_result"
    }
   ],
   "source": [
    "'\\x97' == 'a'"
   ]
  },
  {
   "cell_type": "code",
   "execution_count": 19,
   "metadata": {},
   "outputs": [
    {
     "data": {
      "text/plain": [
       "'1'"
      ]
     },
     "execution_count": 19,
     "metadata": {},
     "output_type": "execute_result"
    }
   ],
   "source": [
    "'\\x31'"
   ]
  },
  {
   "cell_type": "code",
   "execution_count": 20,
   "metadata": {},
   "outputs": [
    {
     "data": {
      "text/plain": [
       "97"
      ]
     },
     "execution_count": 20,
     "metadata": {},
     "output_type": "execute_result"
    }
   ],
   "source": [
    "ord('a')"
   ]
  },
  {
   "cell_type": "code",
   "execution_count": 27,
   "metadata": {},
   "outputs": [
    {
     "data": {
      "text/plain": [
       "'A'"
      ]
     },
     "execution_count": 27,
     "metadata": {},
     "output_type": "execute_result"
    }
   ],
   "source": [
    "chr(65)"
   ]
  },
  {
   "cell_type": "code",
   "execution_count": 28,
   "metadata": {},
   "outputs": [
    {
     "data": {
      "text/plain": [
       "'a'"
      ]
     },
     "execution_count": 28,
     "metadata": {},
     "output_type": "execute_result"
    }
   ],
   "source": [
    "chr(97)"
   ]
  },
  {
   "cell_type": "code",
   "execution_count": 32,
   "metadata": {},
   "outputs": [
    {
     "data": {
      "text/plain": [
       "'\\x97'"
      ]
     },
     "execution_count": 32,
     "metadata": {},
     "output_type": "execute_result"
    }
   ],
   "source": [
    "'\\x97'"
   ]
  },
  {
   "cell_type": "code",
   "execution_count": 31,
   "metadata": {},
   "outputs": [
    {
     "data": {
      "text/plain": [
       "'e'"
      ]
     },
     "execution_count": 31,
     "metadata": {},
     "output_type": "execute_result"
    }
   ],
   "source": [
    "'\\x65'"
   ]
  },
  {
   "cell_type": "code",
   "execution_count": null,
   "metadata": {},
   "outputs": [],
   "source": []
  }
 ],
 "metadata": {
  "kernelspec": {
   "display_name": "vscode",
   "language": "python",
   "name": "python3"
  },
  "language_info": {
   "codemirror_mode": {
    "name": "ipython",
    "version": 3
   },
   "file_extension": ".py",
   "mimetype": "text/x-python",
   "name": "python",
   "nbconvert_exporter": "python",
   "pygments_lexer": "ipython3",
   "version": "3.11.5"
  },
  "orig_nbformat": 4
 },
 "nbformat": 4,
 "nbformat_minor": 2
}
