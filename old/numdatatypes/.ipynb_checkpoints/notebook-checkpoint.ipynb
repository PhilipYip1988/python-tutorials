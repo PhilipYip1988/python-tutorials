{
 "cells": [
  {
   "cell_type": "code",
   "execution_count": 1,
   "id": "d382bc63-b5fc-4d89-a0b5-8fff2bd8258a",
   "metadata": {},
   "outputs": [
    {
     "data": {
      "text/plain": [
       "65"
      ]
     },
     "execution_count": 1,
     "metadata": {},
     "output_type": "execute_result"
    }
   ],
   "source": [
    "int('65')"
   ]
  },
  {
   "cell_type": "code",
   "execution_count": 2,
   "id": "1e702f8e-849c-4208-bdd0-dd6f20c2e5ef",
   "metadata": {},
   "outputs": [
    {
     "data": {
      "text/plain": [
       "65"
      ]
     },
     "execution_count": 2,
     "metadata": {},
     "output_type": "execute_result"
    }
   ],
   "source": [
    "int('0b1000001', base=2)"
   ]
  },
  {
   "cell_type": "code",
   "execution_count": 3,
   "id": "28ba4805-b081-4332-9992-2189d5fe7dbb",
   "metadata": {},
   "outputs": [
    {
     "data": {
      "text/plain": [
       "65"
      ]
     },
     "execution_count": 3,
     "metadata": {},
     "output_type": "execute_result"
    }
   ],
   "source": [
    "int('0x41', base=16)"
   ]
  },
  {
   "cell_type": "code",
   "execution_count": 4,
   "id": "724f608f-0607-4fd2-8111-b7d6a1f1f926",
   "metadata": {},
   "outputs": [
    {
     "data": {
      "text/plain": [
       "65"
      ]
     },
     "execution_count": 4,
     "metadata": {},
     "output_type": "execute_result"
    }
   ],
   "source": [
    "65"
   ]
  },
  {
   "cell_type": "code",
   "execution_count": 5,
   "id": "1fbf11ba-8aaf-4a52-8b3f-1ed98e281048",
   "metadata": {},
   "outputs": [
    {
     "data": {
      "text/plain": [
       "65"
      ]
     },
     "execution_count": 5,
     "metadata": {},
     "output_type": "execute_result"
    }
   ],
   "source": [
    "0b1000001"
   ]
  },
  {
   "cell_type": "code",
   "execution_count": 6,
   "id": "ce2d8cf9-b623-46a2-8b7f-628949778526",
   "metadata": {},
   "outputs": [
    {
     "data": {
      "text/plain": [
       "65"
      ]
     },
     "execution_count": 6,
     "metadata": {},
     "output_type": "execute_result"
    }
   ],
   "source": [
    "0x41"
   ]
  },
  {
   "cell_type": "code",
   "execution_count": 7,
   "id": "7696230e-51c5-4eb5-a94d-a8a6216291df",
   "metadata": {},
   "outputs": [],
   "source": [
    "num1 = 65"
   ]
  },
  {
   "cell_type": "code",
   "execution_count": 8,
   "id": "d15f5e9a-64b6-4728-b990-433a02d9276f",
   "metadata": {},
   "outputs": [
    {
     "data": {
      "text/plain": [
       "65"
      ]
     },
     "execution_count": 8,
     "metadata": {},
     "output_type": "execute_result"
    }
   ],
   "source": [
    "num1.numerator"
   ]
  },
  {
   "cell_type": "code",
   "execution_count": 9,
   "id": "851994f4-159e-4731-98f6-6cf0c8beaba8",
   "metadata": {},
   "outputs": [
    {
     "data": {
      "text/plain": [
       "1"
      ]
     },
     "execution_count": 9,
     "metadata": {},
     "output_type": "execute_result"
    }
   ],
   "source": [
    "num1.denominator"
   ]
  },
  {
   "cell_type": "code",
   "execution_count": 10,
   "id": "3064e809-3199-497a-ba69-eb87d3f6d348",
   "metadata": {},
   "outputs": [
    {
     "data": {
      "text/plain": [
       "(65, 1)"
      ]
     },
     "execution_count": 10,
     "metadata": {},
     "output_type": "execute_result"
    }
   ],
   "source": [
    "num1.as_integer_ratio()"
   ]
  },
  {
   "cell_type": "code",
   "execution_count": 11,
   "id": "4071495d-16c1-47dd-a731-da756e8ccb96",
   "metadata": {},
   "outputs": [
    {
     "data": {
      "text/plain": [
       "65"
      ]
     },
     "execution_count": 11,
     "metadata": {},
     "output_type": "execute_result"
    }
   ],
   "source": [
    "num1.real"
   ]
  },
  {
   "cell_type": "code",
   "execution_count": 12,
   "id": "b5f2cde4-5f7b-4c04-af17-d6a71ed38da2",
   "metadata": {},
   "outputs": [
    {
     "data": {
      "text/plain": [
       "0"
      ]
     },
     "execution_count": 12,
     "metadata": {},
     "output_type": "execute_result"
    }
   ],
   "source": [
    "num1.imag"
   ]
  },
  {
   "cell_type": "code",
   "execution_count": 13,
   "id": "cd82685d-3756-4502-92b2-aa2c90bf4808",
   "metadata": {},
   "outputs": [
    {
     "data": {
      "text/plain": [
       "65"
      ]
     },
     "execution_count": 13,
     "metadata": {},
     "output_type": "execute_result"
    }
   ],
   "source": [
    "num1.conjugate()"
   ]
  },
  {
   "cell_type": "code",
   "execution_count": 14,
   "id": "23cf4a45-6d28-46b8-9a45-0ded10d45983",
   "metadata": {},
   "outputs": [
    {
     "data": {
      "text/plain": [
       "'0b1000001'"
      ]
     },
     "execution_count": 14,
     "metadata": {},
     "output_type": "execute_result"
    }
   ],
   "source": [
    "bin(num1)"
   ]
  },
  {
   "cell_type": "code",
   "execution_count": 15,
   "id": "8574a2f6-65bf-403d-8515-f49e2465de1c",
   "metadata": {},
   "outputs": [
    {
     "data": {
      "text/plain": [
       "2"
      ]
     },
     "execution_count": 15,
     "metadata": {},
     "output_type": "execute_result"
    }
   ],
   "source": [
    "num1.bit_count()"
   ]
  },
  {
   "cell_type": "code",
   "execution_count": 16,
   "id": "2bfe160c-15d9-4a17-835e-4679e6b11cd6",
   "metadata": {},
   "outputs": [
    {
     "data": {
      "text/plain": [
       "7"
      ]
     },
     "execution_count": 16,
     "metadata": {},
     "output_type": "execute_result"
    }
   ],
   "source": [
    "num1.bit_length()"
   ]
  },
  {
   "cell_type": "code",
   "execution_count": 17,
   "id": "8784ce19-2b31-4370-8fc6-e028e2fa1b90",
   "metadata": {},
   "outputs": [
    {
     "data": {
      "text/plain": [
       "b'A'"
      ]
     },
     "execution_count": 17,
     "metadata": {},
     "output_type": "execute_result"
    }
   ],
   "source": [
    "num1.to_bytes()"
   ]
  },
  {
   "cell_type": "code",
   "execution_count": 18,
   "id": "7e88c767-2509-40a8-a6a8-dcfeb7e5b78f",
   "metadata": {},
   "outputs": [
    {
     "data": {
      "text/plain": [
       "'A'"
      ]
     },
     "execution_count": 18,
     "metadata": {},
     "output_type": "execute_result"
    }
   ],
   "source": [
    "chr(num1)"
   ]
  },
  {
   "cell_type": "code",
   "execution_count": 19,
   "id": "a7c6aba0-3bd8-4915-a766-af3d26b312f5",
   "metadata": {},
   "outputs": [
    {
     "data": {
      "text/plain": [
       "b'\\x00\\x00A'"
      ]
     },
     "execution_count": 19,
     "metadata": {},
     "output_type": "execute_result"
    }
   ],
   "source": [
    "num1.to_bytes(length=3)"
   ]
  },
  {
   "cell_type": "code",
   "execution_count": 20,
   "id": "bb375bb2-8b33-4d51-add3-4bf771455605",
   "metadata": {},
   "outputs": [
    {
     "data": {
      "text/plain": [
       "'000041'"
      ]
     },
     "execution_count": 20,
     "metadata": {},
     "output_type": "execute_result"
    }
   ],
   "source": [
    "num1.to_bytes(length=3).hex()"
   ]
  },
  {
   "cell_type": "code",
   "execution_count": 21,
   "id": "15812180-4cc1-4f1b-9ae0-e26d378b7935",
   "metadata": {},
   "outputs": [],
   "source": [
    "letter = bytes('A', encoding='UTF-8')"
   ]
  },
  {
   "cell_type": "code",
   "execution_count": 22,
   "id": "65fea94d-ed2c-474c-a3f8-4a22aa67dbc5",
   "metadata": {},
   "outputs": [],
   "source": [
    "num2 = 949"
   ]
  },
  {
   "cell_type": "code",
   "execution_count": 23,
   "id": "07e711f3-83cf-4fed-bc33-cd5defc85cf9",
   "metadata": {},
   "outputs": [
    {
     "data": {
      "text/plain": [
       "'ε'"
      ]
     },
     "execution_count": 23,
     "metadata": {},
     "output_type": "execute_result"
    }
   ],
   "source": [
    "chr(num2)"
   ]
  },
  {
   "cell_type": "code",
   "execution_count": 24,
   "id": "79811cf9-d417-4ec3-93e6-8d872120b1e7",
   "metadata": {},
   "outputs": [],
   "source": [
    "letter2 = num2.to_bytes(length=2, byteorder='big')"
   ]
  },
  {
   "cell_type": "code",
   "execution_count": 25,
   "id": "e79ba512-0098-4e1a-a981-0aab6a912e57",
   "metadata": {},
   "outputs": [
    {
     "data": {
      "text/plain": [
       "'ε'"
      ]
     },
     "execution_count": 25,
     "metadata": {},
     "output_type": "execute_result"
    }
   ],
   "source": [
    "letter2.decode(encoding='UTF-16-BE')"
   ]
  },
  {
   "cell_type": "code",
   "execution_count": 26,
   "id": "c8066c0d-72cd-473d-872a-b4fb4b346d6a",
   "metadata": {},
   "outputs": [
    {
     "data": {
      "text/plain": [
       "65"
      ]
     },
     "execution_count": 26,
     "metadata": {},
     "output_type": "execute_result"
    }
   ],
   "source": [
    "int.from_bytes(letter)"
   ]
  },
  {
   "cell_type": "code",
   "execution_count": 27,
   "id": "cb5c57ba-a398-49f6-91e7-c1d0588df8fd",
   "metadata": {},
   "outputs": [
    {
     "data": {
      "text/plain": [
       "949"
      ]
     },
     "execution_count": 27,
     "metadata": {},
     "output_type": "execute_result"
    }
   ],
   "source": [
    "int.from_bytes(letter2)"
   ]
  },
  {
   "cell_type": "code",
   "execution_count": 28,
   "id": "6baa6e91-9e3a-4c79-8c87-c21247c8d6fb",
   "metadata": {},
   "outputs": [],
   "source": [
    "import pprint"
   ]
  },
  {
   "cell_type": "code",
   "execution_count": 29,
   "id": "58a43e45-1b73-4021-94ce-7ff77dd01d7c",
   "metadata": {},
   "outputs": [
    {
     "name": "stdout",
     "output_type": "stream",
     "text": [
      "['__abs__', '__add__', '__and__', '__bool__', '__ceil__', '__class__',\n",
      " '__delattr__', '__dir__', '__divmod__', '__doc__', '__eq__', '__float__',\n",
      " '__floor__', '__floordiv__', '__format__', '__ge__', '__getattribute__',\n",
      " '__getnewargs__', '__getstate__', '__gt__', '__hash__', '__index__',\n",
      " '__init__', '__init_subclass__', '__int__', '__invert__', '__le__',\n",
      " '__lshift__', '__lt__', '__mod__', '__mul__', '__ne__', '__neg__', '__new__',\n",
      " '__or__', '__pos__', '__pow__', '__radd__', '__rand__', '__rdivmod__',\n",
      " '__reduce__', '__reduce_ex__', '__repr__', '__rfloordiv__', '__rlshift__',\n",
      " '__rmod__', '__rmul__', '__ror__', '__round__', '__rpow__', '__rrshift__',\n",
      " '__rshift__', '__rsub__', '__rtruediv__', '__rxor__', '__setattr__',\n",
      " '__sizeof__', '__str__', '__sub__', '__subclasshook__', '__truediv__',\n",
      " '__trunc__', '__xor__', 'as_integer_ratio', 'bit_count', 'bit_length',\n",
      " 'conjugate', 'denominator', 'from_bytes', 'imag', 'numerator', 'real',\n",
      " 'to_bytes']\n"
     ]
    }
   ],
   "source": [
    "pprint.pprint(dir(num1), compact=True)"
   ]
  },
  {
   "cell_type": "code",
   "execution_count": 30,
   "id": "ac5866e1-88d1-4de9-ad92-38a4b44d2c36",
   "metadata": {},
   "outputs": [
    {
     "data": {
      "text/plain": [
       "['__add__',\n",
       " '__class__',\n",
       " '__class_getitem__',\n",
       " '__contains__',\n",
       " '__delattr__',\n",
       " '__delitem__',\n",
       " '__dir__',\n",
       " '__doc__',\n",
       " '__eq__',\n",
       " '__format__',\n",
       " '__ge__',\n",
       " '__getattribute__',\n",
       " '__getitem__',\n",
       " '__getstate__',\n",
       " '__gt__',\n",
       " '__hash__',\n",
       " '__iadd__',\n",
       " '__imul__',\n",
       " '__init__',\n",
       " '__init_subclass__',\n",
       " '__iter__',\n",
       " '__le__',\n",
       " '__len__',\n",
       " '__lt__',\n",
       " '__mul__',\n",
       " '__ne__',\n",
       " '__new__',\n",
       " '__reduce__',\n",
       " '__reduce_ex__',\n",
       " '__repr__',\n",
       " '__reversed__',\n",
       " '__rmul__',\n",
       " '__setattr__',\n",
       " '__setitem__',\n",
       " '__sizeof__',\n",
       " '__str__',\n",
       " '__subclasshook__',\n",
       " 'append',\n",
       " 'clear',\n",
       " 'copy',\n",
       " 'count',\n",
       " 'extend',\n",
       " 'index',\n",
       " 'insert',\n",
       " 'pop',\n",
       " 'remove',\n",
       " 'reverse',\n",
       " 'sort']"
      ]
     },
     "execution_count": 30,
     "metadata": {},
     "output_type": "execute_result"
    }
   ],
   "source": [
    "dir(list())"
   ]
  },
  {
   "cell_type": "code",
   "execution_count": 31,
   "id": "10d6ae94-a415-4fc6-868e-350fcef3e6db",
   "metadata": {},
   "outputs": [
    {
     "data": {
      "text/plain": [
       "'65'"
      ]
     },
     "execution_count": 31,
     "metadata": {},
     "output_type": "execute_result"
    }
   ],
   "source": [
    "repr(num1)"
   ]
  },
  {
   "cell_type": "code",
   "execution_count": 32,
   "id": "7bfaef4a-7c03-42be-9bbe-3eda71c997d9",
   "metadata": {},
   "outputs": [
    {
     "data": {
      "text/plain": [
       "'65'"
      ]
     },
     "execution_count": 32,
     "metadata": {},
     "output_type": "execute_result"
    }
   ],
   "source": [
    "str(num1)"
   ]
  },
  {
   "cell_type": "code",
   "execution_count": 33,
   "id": "24a7b7df-c76e-4a3a-9cec-c66324fcd2fa",
   "metadata": {},
   "outputs": [
    {
     "name": "stdout",
     "output_type": "stream",
     "text": [
      "65\n"
     ]
    }
   ],
   "source": [
    "print(num1)"
   ]
  },
  {
   "cell_type": "code",
   "execution_count": 34,
   "id": "3fd7855f-db07-4954-94fc-77ae6139683b",
   "metadata": {},
   "outputs": [
    {
     "name": "stdout",
     "output_type": "stream",
     "text": [
      "65\n"
     ]
    }
   ],
   "source": [
    "print(repr(num1))"
   ]
  },
  {
   "cell_type": "code",
   "execution_count": 35,
   "id": "4d802668-47a6-4a30-b90a-076db7d4fbc2",
   "metadata": {},
   "outputs": [
    {
     "data": {
      "text/plain": [
       "65"
      ]
     },
     "execution_count": 35,
     "metadata": {},
     "output_type": "execute_result"
    }
   ],
   "source": [
    "num1"
   ]
  },
  {
   "cell_type": "code",
   "execution_count": 36,
   "id": "288e400a-7cdc-433a-8737-1e11974b839d",
   "metadata": {},
   "outputs": [
    {
     "data": {
      "text/plain": [
       "'The number is 65'"
      ]
     },
     "execution_count": 36,
     "metadata": {},
     "output_type": "execute_result"
    }
   ],
   "source": [
    "f'The number is {num1 :d}'"
   ]
  },
  {
   "cell_type": "code",
   "execution_count": 37,
   "id": "aca2d38f-9ba1-4328-82c7-c2f777b538da",
   "metadata": {},
   "outputs": [
    {
     "data": {
      "text/plain": [
       "'The number is 065'"
      ]
     },
     "execution_count": 37,
     "metadata": {},
     "output_type": "execute_result"
    }
   ],
   "source": [
    "f'The number is {num1 :03d}'"
   ]
  },
  {
   "cell_type": "code",
   "execution_count": 38,
   "id": "875293c0-1649-4494-b64e-1beafbf6ec77",
   "metadata": {},
   "outputs": [
    {
     "data": {
      "text/plain": [
       "'The number is +065'"
      ]
     },
     "execution_count": 38,
     "metadata": {},
     "output_type": "execute_result"
    }
   ],
   "source": [
    "f'The number is {num1 :+04d}'"
   ]
  },
  {
   "cell_type": "code",
   "execution_count": 39,
   "id": "9a3fdf12-20fa-46ab-9fc6-b582dd33b7c9",
   "metadata": {},
   "outputs": [
    {
     "data": {
      "text/plain": [
       "int"
      ]
     },
     "execution_count": 39,
     "metadata": {},
     "output_type": "execute_result"
    }
   ],
   "source": [
    "type(num1)"
   ]
  },
  {
   "cell_type": "code",
   "execution_count": 40,
   "id": "df7c7d26-adfe-448e-98ed-7980897bc3d7",
   "metadata": {},
   "outputs": [
    {
     "data": {
      "text/plain": [
       "\u001b[1;31mType:\u001b[0m        int\n",
       "\u001b[1;31mString form:\u001b[0m 65\n",
       "\u001b[1;31mDocstring:\u001b[0m  \n",
       "int([x]) -> integer\n",
       "int(x, base=10) -> integer\n",
       "\n",
       "Convert a number or string to an integer, or return 0 if no arguments\n",
       "are given.  If x is a number, return x.__int__().  For floating point\n",
       "numbers, this truncates towards zero.\n",
       "\n",
       "If x is not a number or if base is given, then x must be a string,\n",
       "bytes, or bytearray instance representing an integer literal in the\n",
       "given base.  The literal can be preceded by '+' or '-' and be surrounded\n",
       "by whitespace.  The base defaults to 10.  Valid bases are 0 and 2-36.\n",
       "Base 0 means to interpret the base from the string as an integer literal.\n",
       ">>> int('0b100', base=0)\n",
       "4\n"
      ]
     },
     "metadata": {},
     "output_type": "display_data"
    }
   ],
   "source": [
    "? num1"
   ]
  },
  {
   "cell_type": "code",
   "execution_count": 41,
   "id": "554672ba-b01d-4640-86e5-309196c15398",
   "metadata": {},
   "outputs": [
    {
     "data": {
      "text/plain": [
       "'h'"
      ]
     },
     "execution_count": 41,
     "metadata": {},
     "output_type": "execute_result"
    }
   ],
   "source": [
    "'hello'[0]"
   ]
  },
  {
   "cell_type": "code",
   "execution_count": 42,
   "id": "b77d46d5-ec36-4b3a-8bab-84a89455158f",
   "metadata": {},
   "outputs": [
    {
     "data": {
      "text/plain": [
       "104"
      ]
     },
     "execution_count": 42,
     "metadata": {},
     "output_type": "execute_result"
    }
   ],
   "source": [
    "b'hello'[0]"
   ]
  },
  {
   "cell_type": "code",
   "execution_count": 43,
   "id": "79c3e2a1-657e-43c1-9a98-fd33ccbf7581",
   "metadata": {},
   "outputs": [],
   "source": [
    "num_dict = {1: 'one', \n",
    "            2: 'two', \n",
    "            3: 'three'}"
   ]
  },
  {
   "cell_type": "code",
   "execution_count": 44,
   "id": "24b2e641-9629-4b67-9f0a-8840ad031121",
   "metadata": {},
   "outputs": [
    {
     "data": {
      "text/plain": [
       "'one'"
      ]
     },
     "execution_count": 44,
     "metadata": {},
     "output_type": "execute_result"
    }
   ],
   "source": [
    "num_dict[1]"
   ]
  },
  {
   "cell_type": "code",
   "execution_count": 45,
   "id": "6c147e39-43c5-4a4b-9d86-413feaafb46e",
   "metadata": {},
   "outputs": [],
   "source": [
    "#num1[0]"
   ]
  },
  {
   "cell_type": "code",
   "execution_count": 46,
   "id": "c0868b95-126c-4047-8a7c-2959668459a6",
   "metadata": {},
   "outputs": [
    {
     "data": {
      "text/plain": [
       "28"
      ]
     },
     "execution_count": 46,
     "metadata": {},
     "output_type": "execute_result"
    }
   ],
   "source": [
    "import sys\n",
    "sys.getsizeof(num1)"
   ]
  },
  {
   "cell_type": "code",
   "execution_count": 47,
   "id": "a0203ddd-69f2-4864-bfde-40eca8f0c5b9",
   "metadata": {},
   "outputs": [
    {
     "data": {
      "text/plain": [
       "65"
      ]
     },
     "execution_count": 47,
     "metadata": {},
     "output_type": "execute_result"
    }
   ],
   "source": [
    "num1.real"
   ]
  },
  {
   "cell_type": "code",
   "execution_count": 48,
   "id": "26f977c6-bd22-4f77-9a15-1621f10cd301",
   "metadata": {},
   "outputs": [],
   "source": [
    "#num1.real = 66"
   ]
  },
  {
   "cell_type": "code",
   "execution_count": 49,
   "id": "da61a9a6-f46b-414a-b992-afafb7be316a",
   "metadata": {},
   "outputs": [],
   "source": [
    "#del num1.real"
   ]
  },
  {
   "cell_type": "code",
   "execution_count": 50,
   "id": "f945b7b9-c795-4b14-81a9-9c498bd08c9e",
   "metadata": {},
   "outputs": [
    {
     "data": {
      "text/plain": [
       "65"
      ]
     },
     "execution_count": 50,
     "metadata": {},
     "output_type": "execute_result"
    }
   ],
   "source": [
    "num1"
   ]
  },
  {
   "cell_type": "code",
   "execution_count": 51,
   "id": "cae259e3-01ce-4696-94d8-84bff248ca3c",
   "metadata": {},
   "outputs": [
    {
     "data": {
      "text/plain": [
       "65"
      ]
     },
     "execution_count": 51,
     "metadata": {},
     "output_type": "execute_result"
    }
   ],
   "source": [
    "+ num1"
   ]
  },
  {
   "cell_type": "code",
   "execution_count": 52,
   "id": "3683a30e-897c-489d-8989-bcbe70e05d33",
   "metadata": {},
   "outputs": [
    {
     "data": {
      "text/plain": [
       "65"
      ]
     },
     "execution_count": 52,
     "metadata": {},
     "output_type": "execute_result"
    }
   ],
   "source": [
    "num1"
   ]
  },
  {
   "cell_type": "code",
   "execution_count": 53,
   "id": "c2bbf927-adc8-48cd-80ef-5625da887be9",
   "metadata": {},
   "outputs": [
    {
     "data": {
      "text/plain": [
       "-65"
      ]
     },
     "execution_count": 53,
     "metadata": {},
     "output_type": "execute_result"
    }
   ],
   "source": [
    "- num1"
   ]
  },
  {
   "cell_type": "code",
   "execution_count": 54,
   "id": "e0887d29-85af-4fc1-ac1c-838fa9c19396",
   "metadata": {},
   "outputs": [
    {
     "data": {
      "text/plain": [
       "65"
      ]
     },
     "execution_count": 54,
     "metadata": {},
     "output_type": "execute_result"
    }
   ],
   "source": [
    "num1"
   ]
  },
  {
   "cell_type": "code",
   "execution_count": 55,
   "id": "361ef62f-373f-450a-85b9-0e27e5ec51db",
   "metadata": {},
   "outputs": [
    {
     "data": {
      "text/plain": [
       "65"
      ]
     },
     "execution_count": 55,
     "metadata": {},
     "output_type": "execute_result"
    }
   ],
   "source": [
    "abs(num1)"
   ]
  },
  {
   "cell_type": "code",
   "execution_count": 56,
   "id": "f4d8c238-38ee-4067-83e1-3a74ddba41a3",
   "metadata": {},
   "outputs": [
    {
     "data": {
      "text/plain": [
       "65"
      ]
     },
     "execution_count": 56,
     "metadata": {},
     "output_type": "execute_result"
    }
   ],
   "source": [
    "abs(- num1)"
   ]
  },
  {
   "cell_type": "code",
   "execution_count": 57,
   "id": "4272a6b7-6cdc-4754-9c0c-622a6b7586d2",
   "metadata": {},
   "outputs": [
    {
     "data": {
      "text/plain": [
       "65"
      ]
     },
     "execution_count": 57,
     "metadata": {},
     "output_type": "execute_result"
    }
   ],
   "source": [
    "num1"
   ]
  },
  {
   "cell_type": "code",
   "execution_count": 58,
   "id": "d0a4ca7e-5a6e-46fa-9758-cab4a848f088",
   "metadata": {},
   "outputs": [],
   "source": [
    "import math"
   ]
  },
  {
   "cell_type": "code",
   "execution_count": 59,
   "id": "4065a7b4-f948-4bc5-9639-dcab874c1477",
   "metadata": {},
   "outputs": [
    {
     "data": {
      "text/plain": [
       "65"
      ]
     },
     "execution_count": 59,
     "metadata": {},
     "output_type": "execute_result"
    }
   ],
   "source": [
    "math.ceil(num1)"
   ]
  },
  {
   "cell_type": "code",
   "execution_count": 60,
   "id": "beeeef07-027b-49b6-b11a-1d46f625270c",
   "metadata": {},
   "outputs": [
    {
     "data": {
      "text/plain": [
       "65"
      ]
     },
     "execution_count": 60,
     "metadata": {},
     "output_type": "execute_result"
    }
   ],
   "source": [
    "math.floor(num1)"
   ]
  },
  {
   "cell_type": "code",
   "execution_count": 61,
   "id": "de863a8e-875f-4938-925a-328148123ec6",
   "metadata": {},
   "outputs": [
    {
     "data": {
      "text/plain": [
       "65"
      ]
     },
     "execution_count": 61,
     "metadata": {},
     "output_type": "execute_result"
    }
   ],
   "source": [
    "math.trunc(num1)"
   ]
  },
  {
   "cell_type": "code",
   "execution_count": 62,
   "id": "abc1cf5e-d19c-4751-ae95-213a5642deac",
   "metadata": {},
   "outputs": [
    {
     "data": {
      "text/plain": [
       "65"
      ]
     },
     "execution_count": 62,
     "metadata": {},
     "output_type": "execute_result"
    }
   ],
   "source": [
    "num1"
   ]
  },
  {
   "cell_type": "code",
   "execution_count": 63,
   "id": "e0d26cdd-938b-4b11-a940-7a13f982bc66",
   "metadata": {},
   "outputs": [
    {
     "data": {
      "text/plain": [
       "65"
      ]
     },
     "execution_count": 63,
     "metadata": {},
     "output_type": "execute_result"
    }
   ],
   "source": [
    "round(num1)"
   ]
  },
  {
   "cell_type": "code",
   "execution_count": 64,
   "id": "4eb586ce-4545-4b34-9fac-53fa3a9088a8",
   "metadata": {},
   "outputs": [
    {
     "data": {
      "text/plain": [
       "65"
      ]
     },
     "execution_count": 64,
     "metadata": {},
     "output_type": "execute_result"
    }
   ],
   "source": [
    "num1"
   ]
  },
  {
   "cell_type": "code",
   "execution_count": 65,
   "id": "dc16330d-26d9-423a-94f9-2d3bace5b472",
   "metadata": {},
   "outputs": [
    {
     "data": {
      "text/plain": [
       "65"
      ]
     },
     "execution_count": 65,
     "metadata": {},
     "output_type": "execute_result"
    }
   ],
   "source": [
    "int(num1)"
   ]
  },
  {
   "cell_type": "code",
   "execution_count": 66,
   "id": "5a0480e8-ca81-4193-b472-3798bd2dd5de",
   "metadata": {},
   "outputs": [
    {
     "data": {
      "text/plain": [
       "65"
      ]
     },
     "execution_count": 66,
     "metadata": {},
     "output_type": "execute_result"
    }
   ],
   "source": [
    "num1"
   ]
  },
  {
   "cell_type": "code",
   "execution_count": 67,
   "id": "10d9160a-69b8-4d6f-b059-fa303a1f93af",
   "metadata": {},
   "outputs": [
    {
     "data": {
      "text/plain": [
       "True"
      ]
     },
     "execution_count": 67,
     "metadata": {},
     "output_type": "execute_result"
    }
   ],
   "source": [
    "bool(num1)"
   ]
  },
  {
   "cell_type": "code",
   "execution_count": 68,
   "id": "3c523747-b8bf-4fa3-bdf6-51b2e3c42713",
   "metadata": {},
   "outputs": [],
   "source": [
    "num2 = 0"
   ]
  },
  {
   "cell_type": "code",
   "execution_count": 69,
   "id": "07f3f610-1dc6-4de9-bec6-0778f95aa4dc",
   "metadata": {},
   "outputs": [
    {
     "data": {
      "text/plain": [
       "False"
      ]
     },
     "execution_count": 69,
     "metadata": {},
     "output_type": "execute_result"
    }
   ],
   "source": [
    "bool(num2)"
   ]
  },
  {
   "cell_type": "code",
   "execution_count": 70,
   "id": "51c3e6d8-1825-4605-bab3-5ab7d4c790ef",
   "metadata": {},
   "outputs": [],
   "source": [
    "num3 = -1"
   ]
  },
  {
   "cell_type": "code",
   "execution_count": 71,
   "id": "c72c61af-05f1-47db-8561-a88ee05c81d7",
   "metadata": {},
   "outputs": [
    {
     "data": {
      "text/plain": [
       "True"
      ]
     },
     "execution_count": 71,
     "metadata": {},
     "output_type": "execute_result"
    }
   ],
   "source": [
    "bool(num3)"
   ]
  },
  {
   "cell_type": "code",
   "execution_count": 72,
   "id": "17ebb384-efc5-410b-bb48-1be731cd3548",
   "metadata": {},
   "outputs": [
    {
     "data": {
      "text/plain": [
       "65"
      ]
     },
     "execution_count": 72,
     "metadata": {},
     "output_type": "execute_result"
    }
   ],
   "source": [
    "num1"
   ]
  },
  {
   "cell_type": "code",
   "execution_count": 73,
   "id": "724f6788-2c63-4130-bb3a-07b0a5f34e30",
   "metadata": {},
   "outputs": [
    {
     "data": {
      "text/plain": [
       "65.0"
      ]
     },
     "execution_count": 73,
     "metadata": {},
     "output_type": "execute_result"
    }
   ],
   "source": [
    "float(num1)"
   ]
  },
  {
   "cell_type": "code",
   "execution_count": 74,
   "id": "5aa2d8e5-e9bb-4085-8a2f-35f4480b3bfa",
   "metadata": {},
   "outputs": [],
   "source": [
    "num1 = 65\n",
    "num2 = 4"
   ]
  },
  {
   "cell_type": "code",
   "execution_count": 75,
   "id": "09b48123-7482-4564-b8d4-9b207f9e70b4",
   "metadata": {},
   "outputs": [
    {
     "data": {
      "text/plain": [
       "69"
      ]
     },
     "execution_count": 75,
     "metadata": {},
     "output_type": "execute_result"
    }
   ],
   "source": [
    "num1 + num2"
   ]
  },
  {
   "cell_type": "code",
   "execution_count": 76,
   "id": "8a1e47d3-31e5-49aa-be64-f38d46830899",
   "metadata": {},
   "outputs": [],
   "source": [
    "num1 = 65\n",
    "num2 = 4"
   ]
  },
  {
   "cell_type": "code",
   "execution_count": 77,
   "id": "009a750b-65a5-483c-ac4b-a7d76ca91006",
   "metadata": {},
   "outputs": [
    {
     "data": {
      "text/plain": [
       "69"
      ]
     },
     "execution_count": 77,
     "metadata": {},
     "output_type": "execute_result"
    }
   ],
   "source": [
    "num2 + num1"
   ]
  },
  {
   "cell_type": "code",
   "execution_count": 78,
   "id": "4abb31ac-da13-44d3-b7c0-2edf87a1a0d2",
   "metadata": {},
   "outputs": [],
   "source": [
    "num1 = 65\n",
    "num2 = 4"
   ]
  },
  {
   "cell_type": "code",
   "execution_count": 79,
   "id": "0775eec5-cc2e-4d5e-bac3-1043d167d439",
   "metadata": {},
   "outputs": [],
   "source": [
    "num1 += num2"
   ]
  },
  {
   "cell_type": "code",
   "execution_count": 80,
   "id": "d368a2f0-4b96-4dcb-b1ba-6341096e6f23",
   "metadata": {},
   "outputs": [
    {
     "data": {
      "text/plain": [
       "69"
      ]
     },
     "execution_count": 80,
     "metadata": {},
     "output_type": "execute_result"
    }
   ],
   "source": [
    "num1"
   ]
  },
  {
   "cell_type": "code",
   "execution_count": 81,
   "id": "76898ad5-4617-4ac2-bc9a-5b0f712ac26d",
   "metadata": {},
   "outputs": [],
   "source": [
    "num1 = 65\n",
    "num2 = 4"
   ]
  },
  {
   "cell_type": "code",
   "execution_count": 82,
   "id": "8b040905-00c0-45bd-b4f5-4f808a631407",
   "metadata": {},
   "outputs": [],
   "source": [
    "num1 = num1 + num2"
   ]
  },
  {
   "cell_type": "code",
   "execution_count": 83,
   "id": "eff3b5f5-0576-4e82-98d3-343a78b0949c",
   "metadata": {},
   "outputs": [
    {
     "data": {
      "text/plain": [
       "69"
      ]
     },
     "execution_count": 83,
     "metadata": {},
     "output_type": "execute_result"
    }
   ],
   "source": [
    "num1"
   ]
  },
  {
   "cell_type": "code",
   "execution_count": 84,
   "id": "7fc142fa-5b1e-40da-9624-93301c9123b6",
   "metadata": {},
   "outputs": [],
   "source": [
    "num1 = 65\n",
    "num2 = 4"
   ]
  },
  {
   "cell_type": "code",
   "execution_count": 85,
   "id": "b0e58a64-4d91-4a39-9b8a-4f56c20c2a79",
   "metadata": {},
   "outputs": [
    {
     "data": {
      "text/plain": [
       "260"
      ]
     },
     "execution_count": 85,
     "metadata": {},
     "output_type": "execute_result"
    }
   ],
   "source": [
    "num1 * num2"
   ]
  },
  {
   "cell_type": "code",
   "execution_count": 86,
   "id": "9f5fc268-de70-4fb7-9096-e98f9dd5b52f",
   "metadata": {},
   "outputs": [],
   "source": [
    "str1 = 'hello'"
   ]
  },
  {
   "cell_type": "code",
   "execution_count": 87,
   "id": "7da6dda6-85a7-4391-851b-0f9ca6fd02e6",
   "metadata": {},
   "outputs": [],
   "source": [
    "num1 = 3\n",
    "str1 = 'hello'"
   ]
  },
  {
   "cell_type": "code",
   "execution_count": 88,
   "id": "ae6c3060-e862-412a-97ff-d6fce286a5ca",
   "metadata": {},
   "outputs": [
    {
     "data": {
      "text/plain": [
       "'hellohellohello'"
      ]
     },
     "execution_count": 88,
     "metadata": {},
     "output_type": "execute_result"
    }
   ],
   "source": [
    "str1 * num1"
   ]
  },
  {
   "cell_type": "code",
   "execution_count": 89,
   "id": "4a51507b-1d5e-4efa-bc93-d195c57d800e",
   "metadata": {},
   "outputs": [],
   "source": [
    "num1 = 3\n",
    "str1 = 'hello'"
   ]
  },
  {
   "cell_type": "code",
   "execution_count": 90,
   "id": "0cf9ff72-3e30-441e-87f2-3cf9fc615705",
   "metadata": {},
   "outputs": [
    {
     "data": {
      "text/plain": [
       "'hellohellohello'"
      ]
     },
     "execution_count": 90,
     "metadata": {},
     "output_type": "execute_result"
    }
   ],
   "source": [
    "num1 * str1"
   ]
  },
  {
   "cell_type": "code",
   "execution_count": 91,
   "id": "b86214b9-242c-4f70-beb6-865020b651f7",
   "metadata": {},
   "outputs": [],
   "source": [
    "num1 = 65\n",
    "num2 = 4"
   ]
  },
  {
   "cell_type": "code",
   "execution_count": 92,
   "id": "2ee60c48-e8f9-47e6-a54c-1e416afcb1b8",
   "metadata": {},
   "outputs": [
    {
     "data": {
      "text/plain": [
       "61"
      ]
     },
     "execution_count": 92,
     "metadata": {},
     "output_type": "execute_result"
    }
   ],
   "source": [
    "num1 - num2"
   ]
  },
  {
   "cell_type": "code",
   "execution_count": 93,
   "id": "0aa687e7-9744-4fc7-85b0-3d91da725c11",
   "metadata": {},
   "outputs": [],
   "source": [
    "num1 = 65\n",
    "num2 = 4"
   ]
  },
  {
   "cell_type": "code",
   "execution_count": 94,
   "id": "12290f69-4eac-4d06-9335-50d077b5c113",
   "metadata": {},
   "outputs": [
    {
     "data": {
      "text/plain": [
       "17850625"
      ]
     },
     "execution_count": 94,
     "metadata": {},
     "output_type": "execute_result"
    }
   ],
   "source": [
    "num1 ** num2"
   ]
  },
  {
   "cell_type": "code",
   "execution_count": 95,
   "id": "8be1afa8-d0b3-49bc-b08d-1c8fac219f36",
   "metadata": {},
   "outputs": [
    {
     "data": {
      "text/plain": [
       "17850625"
      ]
     },
     "execution_count": 95,
     "metadata": {},
     "output_type": "execute_result"
    }
   ],
   "source": [
    "65 * 65 * 65 *65"
   ]
  },
  {
   "cell_type": "code",
   "execution_count": 96,
   "id": "5bd7d0dc-0e6a-4eae-be38-53c93ff287d3",
   "metadata": {},
   "outputs": [],
   "source": [
    "num1 = 65\n",
    "num2 = 4"
   ]
  },
  {
   "cell_type": "code",
   "execution_count": 97,
   "id": "2cde808f-6e6e-489c-a73b-1a1862f2e9fd",
   "metadata": {},
   "outputs": [
    {
     "data": {
      "text/plain": [
       "16"
      ]
     },
     "execution_count": 97,
     "metadata": {},
     "output_type": "execute_result"
    }
   ],
   "source": [
    "num1 // num2"
   ]
  },
  {
   "cell_type": "code",
   "execution_count": 98,
   "id": "085fbd5a-343a-4b3a-ba6c-ba7bb022254d",
   "metadata": {},
   "outputs": [
    {
     "data": {
      "text/plain": [
       "1"
      ]
     },
     "execution_count": 98,
     "metadata": {},
     "output_type": "execute_result"
    }
   ],
   "source": [
    "num1 % num2"
   ]
  },
  {
   "cell_type": "code",
   "execution_count": 99,
   "id": "6daf1f9c-452f-4158-8a62-fa452ad9f322",
   "metadata": {},
   "outputs": [
    {
     "data": {
      "text/plain": [
       "(16, 1)"
      ]
     },
     "execution_count": 99,
     "metadata": {},
     "output_type": "execute_result"
    }
   ],
   "source": [
    "divmod(num1, num2)"
   ]
  },
  {
   "cell_type": "code",
   "execution_count": 100,
   "id": "b94a4c55-42bb-4da2-bb2e-5f6b68ba0d37",
   "metadata": {},
   "outputs": [],
   "source": [
    "num1 = 65\n",
    "num2 = 4"
   ]
  },
  {
   "cell_type": "code",
   "execution_count": 101,
   "id": "2724e2a7-9466-418c-abd8-e42a5b397725",
   "metadata": {},
   "outputs": [
    {
     "data": {
      "text/plain": [
       "16.25"
      ]
     },
     "execution_count": 101,
     "metadata": {},
     "output_type": "execute_result"
    }
   ],
   "source": [
    "num1 / num2"
   ]
  },
  {
   "cell_type": "code",
   "execution_count": 102,
   "id": "3fdd7630-3c6e-49ab-909d-732436011d3d",
   "metadata": {},
   "outputs": [
    {
     "data": {
      "text/plain": [
       "65.0"
      ]
     },
     "execution_count": 102,
     "metadata": {},
     "output_type": "execute_result"
    }
   ],
   "source": [
    "num1 / 1"
   ]
  },
  {
   "cell_type": "code",
   "execution_count": 103,
   "id": "ace98b29-5bfb-41df-a8e0-f2d4ec468f3c",
   "metadata": {},
   "outputs": [],
   "source": [
    "num1 = 65\n",
    "num2 = 4"
   ]
  },
  {
   "cell_type": "code",
   "execution_count": 104,
   "id": "441a78f2-b4ff-46ec-a244-880c1f91b91e",
   "metadata": {},
   "outputs": [
    {
     "data": {
      "text/plain": [
       "True"
      ]
     },
     "execution_count": 104,
     "metadata": {},
     "output_type": "execute_result"
    }
   ],
   "source": [
    "num1 > num2"
   ]
  },
  {
   "cell_type": "code",
   "execution_count": 105,
   "id": "496a0f2c-af40-4369-828b-f6b2550562be",
   "metadata": {},
   "outputs": [
    {
     "data": {
      "text/plain": [
       "False"
      ]
     },
     "execution_count": 105,
     "metadata": {},
     "output_type": "execute_result"
    }
   ],
   "source": [
    "num1 > num1"
   ]
  },
  {
   "cell_type": "code",
   "execution_count": 106,
   "id": "12e8980d-aa39-4538-bf48-924bc47975ee",
   "metadata": {},
   "outputs": [
    {
     "data": {
      "text/plain": [
       "True"
      ]
     },
     "execution_count": 106,
     "metadata": {},
     "output_type": "execute_result"
    }
   ],
   "source": [
    "num1 == num1"
   ]
  },
  {
   "cell_type": "code",
   "execution_count": 107,
   "id": "b899702f-18f1-4be2-ad9b-9ec68aaac1cf",
   "metadata": {},
   "outputs": [
    {
     "data": {
      "text/plain": [
       "True"
      ]
     },
     "execution_count": 107,
     "metadata": {},
     "output_type": "execute_result"
    }
   ],
   "source": [
    "num1 >= num1"
   ]
  },
  {
   "cell_type": "code",
   "execution_count": 108,
   "id": "e49c0121-7f8c-4ece-b5c6-329f9fc67f6a",
   "metadata": {},
   "outputs": [
    {
     "data": {
      "text/plain": [
       "False"
      ]
     },
     "execution_count": 108,
     "metadata": {},
     "output_type": "execute_result"
    }
   ],
   "source": [
    "num1 != num1"
   ]
  },
  {
   "cell_type": "code",
   "execution_count": 109,
   "id": "4abc8b58-d94f-46e9-b740-3fa4543b4bb8",
   "metadata": {},
   "outputs": [
    {
     "data": {
      "text/plain": [
       "True"
      ]
     },
     "execution_count": 109,
     "metadata": {},
     "output_type": "execute_result"
    }
   ],
   "source": [
    "True & True"
   ]
  },
  {
   "cell_type": "code",
   "execution_count": 110,
   "id": "faca7647-7bb5-4150-a325-33f51458f3a8",
   "metadata": {},
   "outputs": [
    {
     "data": {
      "text/plain": [
       "False"
      ]
     },
     "execution_count": 110,
     "metadata": {},
     "output_type": "execute_result"
    }
   ],
   "source": [
    "True & False"
   ]
  },
  {
   "cell_type": "code",
   "execution_count": 111,
   "id": "ea8cb566-c899-41d5-bef3-a8e9032323aa",
   "metadata": {},
   "outputs": [
    {
     "data": {
      "text/plain": [
       "False"
      ]
     },
     "execution_count": 111,
     "metadata": {},
     "output_type": "execute_result"
    }
   ],
   "source": [
    "False & False"
   ]
  },
  {
   "cell_type": "code",
   "execution_count": 112,
   "id": "f385406f-eccf-422e-89a9-e25bc30a3aac",
   "metadata": {},
   "outputs": [
    {
     "data": {
      "text/plain": [
       "True"
      ]
     },
     "execution_count": 112,
     "metadata": {},
     "output_type": "execute_result"
    }
   ],
   "source": [
    "True | True"
   ]
  },
  {
   "cell_type": "code",
   "execution_count": 113,
   "id": "e17acb57-c3ff-44bf-8314-ac87c5c68744",
   "metadata": {},
   "outputs": [
    {
     "data": {
      "text/plain": [
       "True"
      ]
     },
     "execution_count": 113,
     "metadata": {},
     "output_type": "execute_result"
    }
   ],
   "source": [
    "True | False"
   ]
  },
  {
   "cell_type": "code",
   "execution_count": 114,
   "id": "b9e46087-c18a-4d57-987d-53ac9133f5a7",
   "metadata": {},
   "outputs": [
    {
     "data": {
      "text/plain": [
       "False"
      ]
     },
     "execution_count": 114,
     "metadata": {},
     "output_type": "execute_result"
    }
   ],
   "source": [
    "False | False"
   ]
  },
  {
   "cell_type": "code",
   "execution_count": 115,
   "id": "7a72e7a5-6862-4deb-8a73-deece1e58f5f",
   "metadata": {},
   "outputs": [
    {
     "data": {
      "text/plain": [
       "False"
      ]
     },
     "execution_count": 115,
     "metadata": {},
     "output_type": "execute_result"
    }
   ],
   "source": [
    "True ^ True"
   ]
  },
  {
   "cell_type": "code",
   "execution_count": 116,
   "id": "250eab34-2cfd-43bd-80a0-b7b8f209dd86",
   "metadata": {},
   "outputs": [
    {
     "data": {
      "text/plain": [
       "True"
      ]
     },
     "execution_count": 116,
     "metadata": {},
     "output_type": "execute_result"
    }
   ],
   "source": [
    "True ^ False"
   ]
  },
  {
   "cell_type": "code",
   "execution_count": 117,
   "id": "bf133268-c9eb-4f2e-be02-8795e26ac64d",
   "metadata": {},
   "outputs": [
    {
     "data": {
      "text/plain": [
       "False"
      ]
     },
     "execution_count": 117,
     "metadata": {},
     "output_type": "execute_result"
    }
   ],
   "source": [
    "False ^ False"
   ]
  },
  {
   "cell_type": "code",
   "execution_count": 118,
   "id": "aee2cbf7-9ce8-4ecb-a141-1e18c4a1484b",
   "metadata": {},
   "outputs": [],
   "source": [
    "num1 = 65"
   ]
  },
  {
   "cell_type": "code",
   "execution_count": 119,
   "id": "a6e51ebe-eb14-4d36-9ce4-ad156a6fdcc1",
   "metadata": {},
   "outputs": [
    {
     "data": {
      "text/plain": [
       "'0b1000001'"
      ]
     },
     "execution_count": 119,
     "metadata": {},
     "output_type": "execute_result"
    }
   ],
   "source": [
    "bin(num1)"
   ]
  },
  {
   "cell_type": "code",
   "execution_count": 120,
   "id": "57124218-5cd6-4c00-851a-1ee3593c1f11",
   "metadata": {},
   "outputs": [
    {
     "data": {
      "text/plain": [
       "'0b10000010'"
      ]
     },
     "execution_count": 120,
     "metadata": {},
     "output_type": "execute_result"
    }
   ],
   "source": [
    "bin(num1 << 1)"
   ]
  },
  {
   "cell_type": "code",
   "execution_count": 121,
   "id": "20329123-d6b5-499c-aeab-1ea5eaab84cd",
   "metadata": {},
   "outputs": [
    {
     "data": {
      "text/plain": [
       "130"
      ]
     },
     "execution_count": 121,
     "metadata": {},
     "output_type": "execute_result"
    }
   ],
   "source": [
    "num1 << 1"
   ]
  },
  {
   "cell_type": "code",
   "execution_count": 122,
   "id": "73bc9727-3269-4e97-8302-ea4e23093479",
   "metadata": {},
   "outputs": [
    {
     "data": {
      "text/plain": [
       "'0b1000001'"
      ]
     },
     "execution_count": 122,
     "metadata": {},
     "output_type": "execute_result"
    }
   ],
   "source": [
    "bin(num1)"
   ]
  },
  {
   "cell_type": "code",
   "execution_count": 123,
   "id": "36328ee4-470a-42b9-9347-031c950b7099",
   "metadata": {},
   "outputs": [
    {
     "data": {
      "text/plain": [
       "'0b100000100'"
      ]
     },
     "execution_count": 123,
     "metadata": {},
     "output_type": "execute_result"
    }
   ],
   "source": [
    "bin(num1 << 2)"
   ]
  },
  {
   "cell_type": "code",
   "execution_count": 124,
   "id": "25f796b5-1886-49d9-bbd6-88c90279b42b",
   "metadata": {},
   "outputs": [],
   "source": [
    "num1 = 65"
   ]
  },
  {
   "cell_type": "code",
   "execution_count": 125,
   "id": "8053cc99-8e0b-4a41-afc7-c2543de34e58",
   "metadata": {},
   "outputs": [
    {
     "data": {
      "text/plain": [
       "'0b1000001'"
      ]
     },
     "execution_count": 125,
     "metadata": {},
     "output_type": "execute_result"
    }
   ],
   "source": [
    "bin(num1)"
   ]
  },
  {
   "cell_type": "code",
   "execution_count": 126,
   "id": "cbe90ed2-6685-439f-845f-fc032eab3201",
   "metadata": {},
   "outputs": [
    {
     "data": {
      "text/plain": [
       "'0b100000'"
      ]
     },
     "execution_count": 126,
     "metadata": {},
     "output_type": "execute_result"
    }
   ],
   "source": [
    "bin(num1 >> 1)"
   ]
  },
  {
   "cell_type": "code",
   "execution_count": 127,
   "id": "012f438f-95d1-45a9-8a7d-b2ea3dc1f20c",
   "metadata": {},
   "outputs": [
    {
     "data": {
      "text/plain": [
       "32"
      ]
     },
     "execution_count": 127,
     "metadata": {},
     "output_type": "execute_result"
    }
   ],
   "source": [
    "num1 >> 1"
   ]
  },
  {
   "cell_type": "code",
   "execution_count": 128,
   "id": "41980323-c302-4645-b518-7d5044aa71d7",
   "metadata": {},
   "outputs": [
    {
     "data": {
      "text/plain": [
       "'0b1000001'"
      ]
     },
     "execution_count": 128,
     "metadata": {},
     "output_type": "execute_result"
    }
   ],
   "source": [
    "bin(num1)"
   ]
  },
  {
   "cell_type": "code",
   "execution_count": 129,
   "id": "abb56a35-7a69-4e80-9423-957aeab3512c",
   "metadata": {},
   "outputs": [
    {
     "data": {
      "text/plain": [
       "'0b10000'"
      ]
     },
     "execution_count": 129,
     "metadata": {},
     "output_type": "execute_result"
    }
   ],
   "source": [
    "bin(num1 >> 2)"
   ]
  },
  {
   "cell_type": "code",
   "execution_count": 130,
   "id": "945dc768-1ab2-4144-bad5-1812343dba76",
   "metadata": {},
   "outputs": [
    {
     "data": {
      "text/plain": [
       "[int, object]"
      ]
     },
     "execution_count": 130,
     "metadata": {},
     "output_type": "execute_result"
    }
   ],
   "source": [
    "int.mro()"
   ]
  },
  {
   "cell_type": "code",
   "execution_count": 131,
   "id": "b9fd0d29-f68e-4fe9-98fd-e8c44ee78d95",
   "metadata": {},
   "outputs": [
    {
     "data": {
      "text/plain": [
       "[bool, int, object]"
      ]
     },
     "execution_count": 131,
     "metadata": {},
     "output_type": "execute_result"
    }
   ],
   "source": [
    "bool.mro()"
   ]
  },
  {
   "cell_type": "code",
   "execution_count": 132,
   "id": "0ca747f3-d031-40c3-902c-d074b92690c3",
   "metadata": {},
   "outputs": [
    {
     "data": {
      "text/plain": [
       "False"
      ]
     },
     "execution_count": 132,
     "metadata": {},
     "output_type": "execute_result"
    }
   ],
   "source": [
    "bool(0)"
   ]
  },
  {
   "cell_type": "code",
   "execution_count": 133,
   "id": "ccf70653-696d-41b4-865c-d2b180de887f",
   "metadata": {},
   "outputs": [
    {
     "data": {
      "text/plain": [
       "True"
      ]
     },
     "execution_count": 133,
     "metadata": {},
     "output_type": "execute_result"
    }
   ],
   "source": [
    "bool(1)"
   ]
  },
  {
   "cell_type": "code",
   "execution_count": 134,
   "id": "33a4560c-b8b9-4cca-b240-b55230fa389b",
   "metadata": {},
   "outputs": [
    {
     "data": {
      "text/plain": [
       "True"
      ]
     },
     "execution_count": 134,
     "metadata": {},
     "output_type": "execute_result"
    }
   ],
   "source": [
    "bool(-4)"
   ]
  },
  {
   "cell_type": "code",
   "execution_count": 135,
   "id": "1b130e7b-899c-4841-b3b1-37da77117c45",
   "metadata": {},
   "outputs": [
    {
     "data": {
      "text/plain": [
       "False"
      ]
     },
     "execution_count": 135,
     "metadata": {},
     "output_type": "execute_result"
    }
   ],
   "source": [
    "False"
   ]
  },
  {
   "cell_type": "code",
   "execution_count": 136,
   "id": "8e981357-6345-4878-bd12-a5336fb12984",
   "metadata": {},
   "outputs": [
    {
     "data": {
      "text/plain": [
       "True"
      ]
     },
     "execution_count": 136,
     "metadata": {},
     "output_type": "execute_result"
    }
   ],
   "source": [
    "True"
   ]
  },
  {
   "cell_type": "code",
   "execution_count": 137,
   "id": "177ad63e-cb87-425f-9e8c-d9a17f2f9eb3",
   "metadata": {},
   "outputs": [
    {
     "name": "stdout",
     "output_type": "stream",
     "text": [
      "['__abs__', '__add__', '__and__', '__bool__', '__ceil__', '__class__',\n",
      " '__delattr__', '__dir__', '__divmod__', '__doc__', '__eq__', '__float__',\n",
      " '__floor__', '__floordiv__', '__format__', '__ge__', '__getattribute__',\n",
      " '__getnewargs__', '__getstate__', '__gt__', '__hash__', '__index__',\n",
      " '__init__', '__init_subclass__', '__int__', '__invert__', '__le__',\n",
      " '__lshift__', '__lt__', '__mod__', '__mul__', '__ne__', '__neg__', '__new__',\n",
      " '__or__', '__pos__', '__pow__', '__radd__', '__rand__', '__rdivmod__',\n",
      " '__reduce__', '__reduce_ex__', '__repr__', '__rfloordiv__', '__rlshift__',\n",
      " '__rmod__', '__rmul__', '__ror__', '__round__', '__rpow__', '__rrshift__',\n",
      " '__rshift__', '__rsub__', '__rtruediv__', '__rxor__', '__setattr__',\n",
      " '__sizeof__', '__str__', '__sub__', '__subclasshook__', '__truediv__',\n",
      " '__trunc__', '__xor__', 'as_integer_ratio', 'bit_count', 'bit_length',\n",
      " 'conjugate', 'denominator', 'from_bytes', 'imag', 'numerator', 'real',\n",
      " 'to_bytes']\n"
     ]
    }
   ],
   "source": [
    "pprint.pprint(dir(False), compact=True)"
   ]
  },
  {
   "cell_type": "code",
   "execution_count": 138,
   "id": "7c6c3c99-a99d-487b-974e-51ef1fd97147",
   "metadata": {},
   "outputs": [
    {
     "data": {
      "text/plain": [
       "'False'"
      ]
     },
     "execution_count": 138,
     "metadata": {},
     "output_type": "execute_result"
    }
   ],
   "source": [
    "repr(False)"
   ]
  },
  {
   "cell_type": "code",
   "execution_count": 139,
   "id": "ff09f26b-d207-472b-b56b-fd0b49fcb7d3",
   "metadata": {},
   "outputs": [
    {
     "data": {
      "text/plain": [
       "'False'"
      ]
     },
     "execution_count": 139,
     "metadata": {},
     "output_type": "execute_result"
    }
   ],
   "source": [
    "str(False)"
   ]
  },
  {
   "cell_type": "code",
   "execution_count": 140,
   "id": "4748f393-44e1-4005-b4f5-55b2edb37875",
   "metadata": {},
   "outputs": [
    {
     "data": {
      "text/plain": [
       "True"
      ]
     },
     "execution_count": 140,
     "metadata": {},
     "output_type": "execute_result"
    }
   ],
   "source": [
    "False == 0"
   ]
  },
  {
   "cell_type": "code",
   "execution_count": 141,
   "id": "a6c80168-be98-48e9-b651-88b3b134610f",
   "metadata": {},
   "outputs": [
    {
     "data": {
      "text/plain": [
       "True"
      ]
     },
     "execution_count": 141,
     "metadata": {},
     "output_type": "execute_result"
    }
   ],
   "source": [
    "True == 1"
   ]
  },
  {
   "cell_type": "code",
   "execution_count": 142,
   "id": "e45bc252-5abb-488d-b123-4c6f83b86313",
   "metadata": {},
   "outputs": [
    {
     "data": {
      "text/plain": [
       "False"
      ]
     },
     "execution_count": 142,
     "metadata": {},
     "output_type": "execute_result"
    }
   ],
   "source": [
    "True == 2"
   ]
  },
  {
   "cell_type": "code",
   "execution_count": 143,
   "id": "4b7d7dd0-c469-48d0-8fdf-2ff9e232d7d0",
   "metadata": {},
   "outputs": [
    {
     "data": {
      "text/plain": [
       "1"
      ]
     },
     "execution_count": 143,
     "metadata": {},
     "output_type": "execute_result"
    }
   ],
   "source": [
    "+True"
   ]
  },
  {
   "cell_type": "code",
   "execution_count": 144,
   "id": "ee24a818-1d30-40bb-bf52-a8b65140dade",
   "metadata": {},
   "outputs": [
    {
     "data": {
      "text/plain": [
       "-1"
      ]
     },
     "execution_count": 144,
     "metadata": {},
     "output_type": "execute_result"
    }
   ],
   "source": [
    "-True"
   ]
  },
  {
   "cell_type": "code",
   "execution_count": 145,
   "id": "53ba4992-030c-425a-9541-099c2c67c6c4",
   "metadata": {},
   "outputs": [
    {
     "data": {
      "text/plain": [
       "[float, object]"
      ]
     },
     "execution_count": 145,
     "metadata": {},
     "output_type": "execute_result"
    }
   ],
   "source": [
    "float.mro()"
   ]
  },
  {
   "cell_type": "code",
   "execution_count": 146,
   "id": "34172933-d69f-4dcf-9873-1b1a4f6a4f7c",
   "metadata": {},
   "outputs": [
    {
     "data": {
      "text/plain": [
       "10.0"
      ]
     },
     "execution_count": 146,
     "metadata": {},
     "output_type": "execute_result"
    }
   ],
   "source": [
    "float(10)"
   ]
  },
  {
   "cell_type": "code",
   "execution_count": 147,
   "id": "4221db26-670d-4cae-8b45-baf756a47174",
   "metadata": {},
   "outputs": [
    {
     "data": {
      "text/plain": [
       "10.0"
      ]
     },
     "execution_count": 147,
     "metadata": {},
     "output_type": "execute_result"
    }
   ],
   "source": [
    "float('10')"
   ]
  },
  {
   "cell_type": "code",
   "execution_count": 148,
   "id": "ea1a9040-8b74-4ccf-ba87-c2a50639188b",
   "metadata": {},
   "outputs": [
    {
     "data": {
      "text/plain": [
       "1.5"
      ]
     },
     "execution_count": 148,
     "metadata": {},
     "output_type": "execute_result"
    }
   ],
   "source": [
    "1.5"
   ]
  },
  {
   "cell_type": "code",
   "execution_count": 149,
   "id": "eb9c337e-5f7a-4549-9f7b-2459224c6eed",
   "metadata": {},
   "outputs": [
    {
     "data": {
      "text/plain": [
       "5.3e-11"
      ]
     },
     "execution_count": 149,
     "metadata": {},
     "output_type": "execute_result"
    }
   ],
   "source": [
    "0.000000000053"
   ]
  },
  {
   "cell_type": "code",
   "execution_count": 150,
   "id": "c47af5ea-90b2-46d8-ab0d-4d4f1bcf836f",
   "metadata": {},
   "outputs": [
    {
     "data": {
      "text/plain": [
       "5.0"
      ]
     },
     "execution_count": 150,
     "metadata": {},
     "output_type": "execute_result"
    }
   ],
   "source": [
    "5e0"
   ]
  },
  {
   "cell_type": "code",
   "execution_count": 151,
   "id": "ba0c6f13-ff7b-4201-b376-62358f599831",
   "metadata": {},
   "outputs": [
    {
     "data": {
      "text/plain": [
       "50.0"
      ]
     },
     "execution_count": 151,
     "metadata": {},
     "output_type": "execute_result"
    }
   ],
   "source": [
    "5e1"
   ]
  },
  {
   "cell_type": "code",
   "execution_count": 152,
   "id": "e52af55c-df12-41c1-bb0e-4fb7e4ad44f4",
   "metadata": {},
   "outputs": [
    {
     "data": {
      "text/plain": [
       "0.5"
      ]
     },
     "execution_count": 152,
     "metadata": {},
     "output_type": "execute_result"
    }
   ],
   "source": [
    "5e-1"
   ]
  },
  {
   "cell_type": "code",
   "execution_count": 153,
   "id": "fe13c10e-e673-4076-ac85-4a4ea561b46b",
   "metadata": {},
   "outputs": [
    {
     "data": {
      "text/plain": [
       "696340000.0"
      ]
     },
     "execution_count": 153,
     "metadata": {},
     "output_type": "execute_result"
    }
   ],
   "source": [
    "696340e3"
   ]
  },
  {
   "cell_type": "code",
   "execution_count": 154,
   "id": "48ef7bcf-6644-4bb2-b3a3-a387f29fa359",
   "metadata": {},
   "outputs": [
    {
     "data": {
      "text/plain": [
       "696340000.0"
      ]
     },
     "execution_count": 154,
     "metadata": {},
     "output_type": "execute_result"
    }
   ],
   "source": [
    "6.96340e8"
   ]
  },
  {
   "cell_type": "code",
   "execution_count": 155,
   "id": "848105b5-b221-4b6c-a341-135fca81ccf4",
   "metadata": {},
   "outputs": [
    {
     "name": "stdout",
     "output_type": "stream",
     "text": [
      "4.096e-09\n",
      "1.024e-07\n",
      "2.56e-06\n",
      "6.4e-05\n",
      "0.0016\n",
      "0.04\n",
      "1.0\n",
      "25.0\n",
      "625.0\n",
      "15625.0\n",
      "390625.0\n",
      "9765625.0\n",
      "244140625.0\n",
      "6103515625.0\n",
      "152587890625.0\n",
      "3814697265625.0\n",
      "95367431640625.0\n",
      "2384185791015625.0\n",
      "5.960464477539062e+16\n"
     ]
    }
   ],
   "source": [
    "for i in range(-12, 25, 2):\n",
    "    print(float(5**i))"
   ]
  },
  {
   "cell_type": "code",
   "execution_count": 156,
   "id": "9f2ce26d-24f4-499a-be51-70ffecca659d",
   "metadata": {},
   "outputs": [],
   "source": [
    "num1 = 0.5"
   ]
  },
  {
   "cell_type": "code",
   "execution_count": 157,
   "id": "6de4e838-64ce-45fa-afec-6bce4e316de5",
   "metadata": {},
   "outputs": [
    {
     "data": {
      "text/plain": [
       "0.5"
      ]
     },
     "execution_count": 157,
     "metadata": {},
     "output_type": "execute_result"
    }
   ],
   "source": [
    "num1.real"
   ]
  },
  {
   "cell_type": "code",
   "execution_count": 158,
   "id": "f9616b5f-d2c9-45d9-a4fc-d890290d144f",
   "metadata": {},
   "outputs": [
    {
     "data": {
      "text/plain": [
       "0.0"
      ]
     },
     "execution_count": 158,
     "metadata": {},
     "output_type": "execute_result"
    }
   ],
   "source": [
    "num1.imag"
   ]
  },
  {
   "cell_type": "code",
   "execution_count": 159,
   "id": "4dbee518-6e7d-4653-b479-809b311d5476",
   "metadata": {},
   "outputs": [
    {
     "data": {
      "text/plain": [
       "0.5"
      ]
     },
     "execution_count": 159,
     "metadata": {},
     "output_type": "execute_result"
    }
   ],
   "source": [
    "num1.conjugate()"
   ]
  },
  {
   "cell_type": "code",
   "execution_count": 160,
   "id": "4bb47448-c247-4629-92ea-5e100b73800c",
   "metadata": {},
   "outputs": [],
   "source": [
    "num1 = 0.5"
   ]
  },
  {
   "cell_type": "code",
   "execution_count": 161,
   "id": "c1e49c3a-72d1-4fbc-83a9-f56531dec763",
   "metadata": {},
   "outputs": [
    {
     "data": {
      "text/plain": [
       "(1, 2)"
      ]
     },
     "execution_count": 161,
     "metadata": {},
     "output_type": "execute_result"
    }
   ],
   "source": [
    "num1.as_integer_ratio()"
   ]
  },
  {
   "cell_type": "code",
   "execution_count": 162,
   "id": "0e376b1e-8384-4687-8c87-d04a6bbaf9ad",
   "metadata": {},
   "outputs": [],
   "source": [
    "num2 = 0.1"
   ]
  },
  {
   "cell_type": "code",
   "execution_count": 163,
   "id": "63b44ed5-e14f-43cb-b7a4-54dadd0f576e",
   "metadata": {},
   "outputs": [
    {
     "data": {
      "text/plain": [
       "(3602879701896397, 36028797018963968)"
      ]
     },
     "execution_count": 163,
     "metadata": {},
     "output_type": "execute_result"
    }
   ],
   "source": [
    "num2.as_integer_ratio()"
   ]
  },
  {
   "cell_type": "code",
   "execution_count": 164,
   "id": "b083da7a-4d50-45c1-8dce-9d44eb0c734f",
   "metadata": {},
   "outputs": [],
   "source": [
    "num1 = 0.5"
   ]
  },
  {
   "cell_type": "code",
   "execution_count": 165,
   "id": "0da96cdd-786f-4f29-9828-94aca11d470b",
   "metadata": {},
   "outputs": [
    {
     "data": {
      "text/plain": [
       "'0x1.0000000000000p-1'"
      ]
     },
     "execution_count": 165,
     "metadata": {},
     "output_type": "execute_result"
    }
   ],
   "source": [
    "num1.hex()"
   ]
  },
  {
   "cell_type": "code",
   "execution_count": 166,
   "id": "d363989a-6a71-4dc2-9499-92fb63c64d52",
   "metadata": {},
   "outputs": [],
   "source": [
    "num2 = 0.12"
   ]
  },
  {
   "cell_type": "code",
   "execution_count": 167,
   "id": "bcaf5a8a-f5bc-4b07-a4e3-aa41b4303ac7",
   "metadata": {},
   "outputs": [
    {
     "data": {
      "text/plain": [
       "'0x1.eb851eb851eb8p-4'"
      ]
     },
     "execution_count": 167,
     "metadata": {},
     "output_type": "execute_result"
    }
   ],
   "source": [
    "num2.hex()"
   ]
  },
  {
   "cell_type": "code",
   "execution_count": 168,
   "id": "90803c14-1fa9-4bcd-9162-380876ef6207",
   "metadata": {},
   "outputs": [
    {
     "data": {
      "text/plain": [
       "0.11999988555908203"
      ]
     },
     "execution_count": 168,
     "metadata": {},
     "output_type": "execute_result"
    }
   ],
   "source": [
    "((1 * 16 ** 0) \n",
    " + (14 * 16 ** -1) \n",
    " + (11 * 16 ** -2) \n",
    " + (8 * 16 ** -3) \n",
    " + (5 * 16 ** -4)) * (2 ** -4)"
   ]
  },
  {
   "cell_type": "code",
   "execution_count": 169,
   "id": "04f7742c-76bb-4beb-9682-0f4e4285b5c9",
   "metadata": {},
   "outputs": [
    {
     "data": {
      "text/plain": [
       "0.5"
      ]
     },
     "execution_count": 169,
     "metadata": {},
     "output_type": "execute_result"
    }
   ],
   "source": [
    "float.fromhex('0x1.0000000000000p-1')"
   ]
  },
  {
   "cell_type": "code",
   "execution_count": 170,
   "id": "9f32ee2e-c818-4088-afa9-6fd9997994e6",
   "metadata": {},
   "outputs": [
    {
     "data": {
      "text/plain": [
       "0.12"
      ]
     },
     "execution_count": 170,
     "metadata": {},
     "output_type": "execute_result"
    }
   ],
   "source": [
    "float.fromhex('0x1.eb851eb851eb8p-4')"
   ]
  },
  {
   "cell_type": "code",
   "execution_count": 171,
   "id": "1586d049-0f06-409a-9295-4ddc98ddbf60",
   "metadata": {},
   "outputs": [],
   "source": [
    "num1 = 0.5"
   ]
  },
  {
   "cell_type": "code",
   "execution_count": 172,
   "id": "8892cf83-8181-45c3-87d5-4222a45d6e14",
   "metadata": {},
   "outputs": [
    {
     "name": "stdout",
     "output_type": "stream",
     "text": [
      "['__abs__', '__add__', '__bool__', '__ceil__', '__class__', '__delattr__',\n",
      " '__dir__', '__divmod__', '__doc__', '__eq__', '__float__', '__floor__',\n",
      " '__floordiv__', '__format__', '__ge__', '__getattribute__', '__getformat__',\n",
      " '__getnewargs__', '__getstate__', '__gt__', '__hash__', '__init__',\n",
      " '__init_subclass__', '__int__', '__le__', '__lt__', '__mod__', '__mul__',\n",
      " '__ne__', '__neg__', '__new__', '__pos__', '__pow__', '__radd__',\n",
      " '__rdivmod__', '__reduce__', '__reduce_ex__', '__repr__', '__rfloordiv__',\n",
      " '__rmod__', '__rmul__', '__round__', '__rpow__', '__rsub__', '__rtruediv__',\n",
      " '__setattr__', '__sizeof__', '__str__', '__sub__', '__subclasshook__',\n",
      " '__truediv__', '__trunc__', 'as_integer_ratio', 'conjugate', 'fromhex', 'hex',\n",
      " 'imag', 'is_integer', 'real']\n"
     ]
    }
   ],
   "source": [
    "pprint.pprint(dir(num1), compact=True)"
   ]
  },
  {
   "cell_type": "code",
   "execution_count": 173,
   "id": "68d2b48e-b4c6-46fb-b88b-618feb812b50",
   "metadata": {},
   "outputs": [],
   "source": [
    "num1 = 1.5\n",
    "num2 = 0.000000000053\n",
    "num3 = 6.96340e8"
   ]
  },
  {
   "cell_type": "code",
   "execution_count": 174,
   "id": "2f4613ee-db45-4278-953b-446b4ff109b8",
   "metadata": {
    "tags": []
   },
   "outputs": [
    {
     "data": {
      "text/plain": [
       "'1.5'"
      ]
     },
     "execution_count": 174,
     "metadata": {},
     "output_type": "execute_result"
    }
   ],
   "source": [
    "repr(num1)"
   ]
  },
  {
   "cell_type": "code",
   "execution_count": 175,
   "id": "16bc8b8d-f3c4-4069-8de4-6e5de940df7b",
   "metadata": {},
   "outputs": [
    {
     "data": {
      "text/plain": [
       "'1.5'"
      ]
     },
     "execution_count": 175,
     "metadata": {},
     "output_type": "execute_result"
    }
   ],
   "source": [
    "str(num1)"
   ]
  },
  {
   "cell_type": "code",
   "execution_count": 176,
   "id": "44008f0e-8467-412b-af3e-e42a1118f493",
   "metadata": {},
   "outputs": [
    {
     "data": {
      "text/plain": [
       "'5.3e-11'"
      ]
     },
     "execution_count": 176,
     "metadata": {},
     "output_type": "execute_result"
    }
   ],
   "source": [
    "repr(num2)"
   ]
  },
  {
   "cell_type": "code",
   "execution_count": 177,
   "id": "3f5b3574-89e0-4723-92d5-6c9964324874",
   "metadata": {},
   "outputs": [
    {
     "data": {
      "text/plain": [
       "'5.3e-11'"
      ]
     },
     "execution_count": 177,
     "metadata": {},
     "output_type": "execute_result"
    }
   ],
   "source": [
    "str(num2)"
   ]
  },
  {
   "cell_type": "code",
   "execution_count": 178,
   "id": "8e603eec-a416-4b5f-83f7-961e402a1eb5",
   "metadata": {},
   "outputs": [
    {
     "data": {
      "text/plain": [
       "'696340000.0'"
      ]
     },
     "execution_count": 178,
     "metadata": {},
     "output_type": "execute_result"
    }
   ],
   "source": [
    "repr(num3)"
   ]
  },
  {
   "cell_type": "code",
   "execution_count": 179,
   "id": "bcf02a8f-7e1c-4d69-89f5-265a7337817e",
   "metadata": {},
   "outputs": [
    {
     "data": {
      "text/plain": [
       "'696340000.0'"
      ]
     },
     "execution_count": 179,
     "metadata": {},
     "output_type": "execute_result"
    }
   ],
   "source": [
    "str(num3)"
   ]
  },
  {
   "cell_type": "code",
   "execution_count": 180,
   "id": "7f2e3cdc-7fb0-4ea9-9be8-07ba8edcef19",
   "metadata": {},
   "outputs": [
    {
     "data": {
      "text/plain": [
       "1.5"
      ]
     },
     "execution_count": 180,
     "metadata": {},
     "output_type": "execute_result"
    }
   ],
   "source": [
    "num1"
   ]
  },
  {
   "cell_type": "code",
   "execution_count": 181,
   "id": "89b655d0-2f60-4746-b461-a864a2b0f808",
   "metadata": {},
   "outputs": [
    {
     "data": {
      "text/plain": [
       "1152921504606846977"
      ]
     },
     "execution_count": 181,
     "metadata": {},
     "output_type": "execute_result"
    }
   ],
   "source": [
    "hash(num1)"
   ]
  },
  {
   "cell_type": "code",
   "execution_count": 182,
   "id": "72c55b68-9945-4459-8c96-72b5face04c8",
   "metadata": {},
   "outputs": [],
   "source": [
    "num_dict = {1.5: 'one and a half', 2.5: 'two and a half'}"
   ]
  },
  {
   "cell_type": "code",
   "execution_count": 183,
   "id": "9844493a-9976-41ac-9d86-75763667eb89",
   "metadata": {},
   "outputs": [
    {
     "data": {
      "text/plain": [
       "'one and a half'"
      ]
     },
     "execution_count": 183,
     "metadata": {},
     "output_type": "execute_result"
    }
   ],
   "source": [
    "num_dict[1.5]"
   ]
  },
  {
   "cell_type": "code",
   "execution_count": 184,
   "id": "6c739042-670c-424b-b0a4-44116d5009ce",
   "metadata": {},
   "outputs": [],
   "source": [
    "num1 = 1.5"
   ]
  },
  {
   "cell_type": "code",
   "execution_count": 185,
   "id": "e7958697-a45b-405d-b349-7cbeddd48227",
   "metadata": {},
   "outputs": [],
   "source": [
    "#'hello'[num1]"
   ]
  },
  {
   "cell_type": "code",
   "execution_count": 186,
   "id": "e64a8a63-3aeb-4705-9285-3e078a3d133e",
   "metadata": {},
   "outputs": [],
   "source": [
    "num1 = 1.5"
   ]
  },
  {
   "cell_type": "code",
   "execution_count": 187,
   "id": "2520ff0e-8c6b-434d-9bcc-4df231450a51",
   "metadata": {},
   "outputs": [
    {
     "data": {
      "text/plain": [
       "1"
      ]
     },
     "execution_count": 187,
     "metadata": {},
     "output_type": "execute_result"
    }
   ],
   "source": [
    "int(num1)"
   ]
  },
  {
   "cell_type": "code",
   "execution_count": 188,
   "id": "ca4a0662-51e5-4eab-8263-c33277089c3b",
   "metadata": {},
   "outputs": [],
   "source": [
    "import math"
   ]
  },
  {
   "cell_type": "code",
   "execution_count": 189,
   "id": "5fb12516-6236-47b4-aaf7-ffb0cb88259e",
   "metadata": {},
   "outputs": [],
   "source": [
    "num1 = 1.5"
   ]
  },
  {
   "cell_type": "code",
   "execution_count": 190,
   "id": "5cd07bb2-46f1-49ee-81fb-2c28d14b5326",
   "metadata": {},
   "outputs": [
    {
     "data": {
      "text/plain": [
       "1"
      ]
     },
     "execution_count": 190,
     "metadata": {},
     "output_type": "execute_result"
    }
   ],
   "source": [
    "math.floor(num1)"
   ]
  },
  {
   "cell_type": "code",
   "execution_count": 191,
   "id": "583f38d3-5520-4165-b75c-0a4050dc34ee",
   "metadata": {},
   "outputs": [
    {
     "data": {
      "text/plain": [
       "2"
      ]
     },
     "execution_count": 191,
     "metadata": {},
     "output_type": "execute_result"
    }
   ],
   "source": [
    "math.ceil(num1)"
   ]
  },
  {
   "cell_type": "code",
   "execution_count": 192,
   "id": "13850b6b-0d72-4d88-86ce-9185ba682663",
   "metadata": {},
   "outputs": [
    {
     "data": {
      "text/plain": [
       "1"
      ]
     },
     "execution_count": 192,
     "metadata": {},
     "output_type": "execute_result"
    }
   ],
   "source": [
    "math.trunc(num1)"
   ]
  },
  {
   "cell_type": "code",
   "execution_count": 193,
   "id": "4df38e82-2f41-426d-bafc-444bf178c1dd",
   "metadata": {},
   "outputs": [],
   "source": [
    "num2 = -1.5"
   ]
  },
  {
   "cell_type": "code",
   "execution_count": 194,
   "id": "4664b536-f0f4-43b9-b0c7-47f27f810091",
   "metadata": {},
   "outputs": [
    {
     "data": {
      "text/plain": [
       "-2"
      ]
     },
     "execution_count": 194,
     "metadata": {},
     "output_type": "execute_result"
    }
   ],
   "source": [
    "math.floor(num2)"
   ]
  },
  {
   "cell_type": "code",
   "execution_count": 195,
   "id": "f32ae741-aac7-4b84-867e-050bd5914e30",
   "metadata": {},
   "outputs": [
    {
     "data": {
      "text/plain": [
       "-1"
      ]
     },
     "execution_count": 195,
     "metadata": {},
     "output_type": "execute_result"
    }
   ],
   "source": [
    "math.ceil(num2)"
   ]
  },
  {
   "cell_type": "code",
   "execution_count": 196,
   "id": "ced5b85d-10fa-4838-aadf-5cc76edb7777",
   "metadata": {},
   "outputs": [
    {
     "data": {
      "text/plain": [
       "-1"
      ]
     },
     "execution_count": 196,
     "metadata": {},
     "output_type": "execute_result"
    }
   ],
   "source": [
    "math.trunc(num2)"
   ]
  },
  {
   "cell_type": "code",
   "execution_count": 197,
   "id": "0e7c4f16-79b5-4362-8920-70e9a6b60c19",
   "metadata": {},
   "outputs": [],
   "source": [
    "num1 = 1.234"
   ]
  },
  {
   "cell_type": "code",
   "execution_count": 198,
   "id": "091e8943-32b2-46fd-884b-71d22a8e949d",
   "metadata": {},
   "outputs": [
    {
     "data": {
      "text/plain": [
       "1"
      ]
     },
     "execution_count": 198,
     "metadata": {},
     "output_type": "execute_result"
    }
   ],
   "source": [
    "round(num1)"
   ]
  },
  {
   "cell_type": "code",
   "execution_count": 199,
   "id": "62dd3ee9-5a3d-4464-afc5-3d74309d6eab",
   "metadata": {},
   "outputs": [
    {
     "data": {
      "text/plain": [
       "1.23"
      ]
     },
     "execution_count": 199,
     "metadata": {},
     "output_type": "execute_result"
    }
   ],
   "source": [
    "round(num1, ndigits=2)"
   ]
  },
  {
   "cell_type": "code",
   "execution_count": 200,
   "id": "b695d82b-9a93-406e-83fb-ac474c07a17c",
   "metadata": {},
   "outputs": [],
   "source": [
    "num1 = 1\n",
    "num2 = 1.5"
   ]
  },
  {
   "cell_type": "code",
   "execution_count": 201,
   "id": "0142eedd-6732-413e-8f0e-73378c9b1143",
   "metadata": {},
   "outputs": [
    {
     "data": {
      "text/plain": [
       "2.5"
      ]
     },
     "execution_count": 201,
     "metadata": {},
     "output_type": "execute_result"
    }
   ],
   "source": [
    "num1 + num2"
   ]
  },
  {
   "cell_type": "code",
   "execution_count": 202,
   "id": "4163e57a-355f-4cc8-a404-2b51b8ab1316",
   "metadata": {},
   "outputs": [
    {
     "data": {
      "text/plain": [
       "2.5"
      ]
     },
     "execution_count": 202,
     "metadata": {},
     "output_type": "execute_result"
    }
   ],
   "source": [
    "float(num1) + num2"
   ]
  },
  {
   "cell_type": "code",
   "execution_count": 203,
   "id": "b67d295a-ee75-40cb-b49e-15627d34f179",
   "metadata": {},
   "outputs": [],
   "source": [
    "num1 = 0.1\n",
    "num2 = 0.2"
   ]
  },
  {
   "cell_type": "code",
   "execution_count": 204,
   "id": "369be6e2-e1d6-4b0a-8447-d65b4f810f0a",
   "metadata": {},
   "outputs": [
    {
     "data": {
      "text/plain": [
       "0.30000000000000004"
      ]
     },
     "execution_count": 204,
     "metadata": {},
     "output_type": "execute_result"
    }
   ],
   "source": [
    "num1 + num2"
   ]
  },
  {
   "cell_type": "code",
   "execution_count": 205,
   "id": "bcba7869-e7bb-45e2-91f8-5fa9c620f951",
   "metadata": {},
   "outputs": [],
   "source": [
    "num1 = 0.1\n",
    "num2 = 0.2\n",
    "num3 = 0.3"
   ]
  },
  {
   "cell_type": "code",
   "execution_count": 206,
   "id": "0ac7c607-a2ae-4721-ad2f-e2fad31afc69",
   "metadata": {},
   "outputs": [
    {
     "data": {
      "text/plain": [
       "False"
      ]
     },
     "execution_count": 206,
     "metadata": {},
     "output_type": "execute_result"
    }
   ],
   "source": [
    "num1 + num2 == num3"
   ]
  },
  {
   "cell_type": "code",
   "execution_count": 207,
   "id": "ac3f022a-6229-4231-bf05-8c308985f229",
   "metadata": {},
   "outputs": [
    {
     "data": {
      "text/plain": [
       "True"
      ]
     },
     "execution_count": 207,
     "metadata": {},
     "output_type": "execute_result"
    }
   ],
   "source": [
    "round(num1 + num2, ndigits=6) == num3"
   ]
  },
  {
   "cell_type": "code",
   "execution_count": 208,
   "id": "fca1b71d-5006-4d23-b5d1-e51143957582",
   "metadata": {},
   "outputs": [
    {
     "data": {
      "text/plain": [
       "[complex, object]"
      ]
     },
     "execution_count": 208,
     "metadata": {},
     "output_type": "execute_result"
    }
   ],
   "source": [
    "complex.mro()"
   ]
  },
  {
   "cell_type": "code",
   "execution_count": 209,
   "id": "15d1f165-7ba3-488d-94b9-ca837230e20a",
   "metadata": {},
   "outputs": [
    {
     "data": {
      "text/plain": [
       "(2+1j)"
      ]
     },
     "execution_count": 209,
     "metadata": {},
     "output_type": "execute_result"
    }
   ],
   "source": [
    "complex(real=2, imag=1)"
   ]
  },
  {
   "cell_type": "code",
   "execution_count": 210,
   "id": "cab21dd8-8b56-4ae1-91a4-df7e62fd1698",
   "metadata": {},
   "outputs": [],
   "source": [
    "num1 = 2+1j"
   ]
  },
  {
   "cell_type": "code",
   "execution_count": 211,
   "id": "a982a1c0-dbf1-4244-80c1-c42a16a32c91",
   "metadata": {},
   "outputs": [
    {
     "data": {
      "text/plain": [
       "(2+1j)"
      ]
     },
     "execution_count": 211,
     "metadata": {},
     "output_type": "execute_result"
    }
   ],
   "source": [
    "num1"
   ]
  },
  {
   "cell_type": "code",
   "execution_count": 212,
   "id": "bfcc1d0c-f982-4243-9a4b-b1bbb1a16f1c",
   "metadata": {},
   "outputs": [],
   "source": [
    "num1 = 2+1j"
   ]
  },
  {
   "cell_type": "code",
   "execution_count": 213,
   "id": "568fc541-2191-4cdf-a988-495f59092701",
   "metadata": {},
   "outputs": [
    {
     "data": {
      "text/plain": [
       "2.0"
      ]
     },
     "execution_count": 213,
     "metadata": {},
     "output_type": "execute_result"
    }
   ],
   "source": [
    "num1.real"
   ]
  },
  {
   "cell_type": "code",
   "execution_count": 214,
   "id": "121ba5b5-ca9b-44ae-82af-40a530e45bc2",
   "metadata": {},
   "outputs": [
    {
     "data": {
      "text/plain": [
       "1.0"
      ]
     },
     "execution_count": 214,
     "metadata": {},
     "output_type": "execute_result"
    }
   ],
   "source": [
    "num1.imag"
   ]
  },
  {
   "cell_type": "code",
   "execution_count": 215,
   "id": "5962d86f-d9f9-47df-bc71-472a8d8bc37b",
   "metadata": {},
   "outputs": [],
   "source": [
    "num1 = 2+1j"
   ]
  },
  {
   "cell_type": "code",
   "execution_count": 216,
   "id": "d70a4d28-0e9b-4c0b-a5f3-d435ec807bdd",
   "metadata": {},
   "outputs": [
    {
     "data": {
      "text/plain": [
       "(2-1j)"
      ]
     },
     "execution_count": 216,
     "metadata": {},
     "output_type": "execute_result"
    }
   ],
   "source": [
    "num1.conjugate()"
   ]
  },
  {
   "cell_type": "code",
   "execution_count": 217,
   "id": "5e5ac24d-70fc-43e9-83fa-18665e8e82ac",
   "metadata": {},
   "outputs": [],
   "source": [
    "num1 = 2+1j"
   ]
  },
  {
   "cell_type": "code",
   "execution_count": 218,
   "id": "c31002f4-1ac8-496f-b676-b525a3f02c2c",
   "metadata": {},
   "outputs": [
    {
     "name": "stdout",
     "output_type": "stream",
     "text": [
      "['__abs__', '__add__', '__bool__', '__class__', '__complex__', '__delattr__',\n",
      " '__dir__', '__doc__', '__eq__', '__format__', '__ge__', '__getattribute__',\n",
      " '__getnewargs__', '__getstate__', '__gt__', '__hash__', '__init__',\n",
      " '__init_subclass__', '__le__', '__lt__', '__mul__', '__ne__', '__neg__',\n",
      " '__new__', '__pos__', '__pow__', '__radd__', '__reduce__', '__reduce_ex__',\n",
      " '__repr__', '__rmul__', '__rpow__', '__rsub__', '__rtruediv__', '__setattr__',\n",
      " '__sizeof__', '__str__', '__sub__', '__subclasshook__', '__truediv__',\n",
      " 'conjugate', 'imag', 'real']\n"
     ]
    }
   ],
   "source": [
    "pprint.pprint(dir(num1), compact=True)"
   ]
  },
  {
   "cell_type": "code",
   "execution_count": 219,
   "id": "1f60006d-8413-45d1-abc8-1b97bed89d74",
   "metadata": {},
   "outputs": [],
   "source": [
    "num1 = 2+1j"
   ]
  },
  {
   "cell_type": "code",
   "execution_count": 220,
   "id": "e95259c5-0db3-4453-9659-3d051f8a11a3",
   "metadata": {},
   "outputs": [],
   "source": [
    "#num1 // num1"
   ]
  },
  {
   "cell_type": "code",
   "execution_count": 221,
   "id": "22c89bb1-ed8b-428e-bd08-2da2df259549",
   "metadata": {},
   "outputs": [],
   "source": [
    "#num1 % num1"
   ]
  },
  {
   "cell_type": "code",
   "execution_count": 222,
   "id": "29e9039d-7e45-4a73-b2f3-7b69193ad15d",
   "metadata": {},
   "outputs": [],
   "source": [
    "#round(num1, 2)"
   ]
  },
  {
   "cell_type": "code",
   "execution_count": 223,
   "id": "3e327dd6-3cd9-4010-baa4-9a773c8cabfa",
   "metadata": {},
   "outputs": [],
   "source": [
    "num1 = 2+1j"
   ]
  },
  {
   "cell_type": "code",
   "execution_count": 224,
   "id": "3e590865-8574-4ddd-a5d7-0ef512c54f78",
   "metadata": {},
   "outputs": [
    {
     "data": {
      "text/plain": [
       "True"
      ]
     },
     "execution_count": 224,
     "metadata": {},
     "output_type": "execute_result"
    }
   ],
   "source": [
    "bool(num1)"
   ]
  },
  {
   "cell_type": "code",
   "execution_count": 225,
   "id": "ee715fcb-8e16-4fbe-b594-55bb286611ac",
   "metadata": {},
   "outputs": [],
   "source": [
    "num2 = 0+1j"
   ]
  },
  {
   "cell_type": "code",
   "execution_count": 226,
   "id": "11a5a996-1046-4ce6-9c66-a9e38a347e87",
   "metadata": {},
   "outputs": [
    {
     "data": {
      "text/plain": [
       "True"
      ]
     },
     "execution_count": 226,
     "metadata": {},
     "output_type": "execute_result"
    }
   ],
   "source": [
    "bool(num2)"
   ]
  },
  {
   "cell_type": "code",
   "execution_count": 227,
   "id": "8250245f-de8d-4a6b-8a7a-57e45de84a90",
   "metadata": {},
   "outputs": [],
   "source": [
    "num3 = 0+0j"
   ]
  },
  {
   "cell_type": "code",
   "execution_count": 228,
   "id": "1686e0a5-c91b-44f2-96ca-c5e07e10bd42",
   "metadata": {},
   "outputs": [
    {
     "data": {
      "text/plain": [
       "False"
      ]
     },
     "execution_count": 228,
     "metadata": {},
     "output_type": "execute_result"
    }
   ],
   "source": [
    "bool(num3)"
   ]
  },
  {
   "cell_type": "code",
   "execution_count": 229,
   "id": "1610253f-d168-46ba-bd4a-eca04cb9b275",
   "metadata": {},
   "outputs": [],
   "source": [
    "#float(num1)"
   ]
  },
  {
   "cell_type": "code",
   "execution_count": 230,
   "id": "400354c1-b66c-4d64-a75d-f7ce59004ca7",
   "metadata": {},
   "outputs": [],
   "source": [
    "#int(num1)"
   ]
  },
  {
   "cell_type": "code",
   "execution_count": 231,
   "id": "e2fc988b-0ffc-45b4-bd86-dc8a701e3493",
   "metadata": {},
   "outputs": [],
   "source": [
    "num1 = 2-1j"
   ]
  },
  {
   "cell_type": "code",
   "execution_count": 232,
   "id": "1a42b5db-cafd-4f5f-91a1-cac0b28a3804",
   "metadata": {},
   "outputs": [
    {
     "data": {
      "text/plain": [
       "(2-1j)"
      ]
     },
     "execution_count": 232,
     "metadata": {},
     "output_type": "execute_result"
    }
   ],
   "source": [
    "+num1"
   ]
  },
  {
   "cell_type": "code",
   "execution_count": 233,
   "id": "1cdc240a-6dda-42f9-8a54-068786e51dda",
   "metadata": {},
   "outputs": [
    {
     "data": {
      "text/plain": [
       "(-2+1j)"
      ]
     },
     "execution_count": 233,
     "metadata": {},
     "output_type": "execute_result"
    }
   ],
   "source": [
    "-num1"
   ]
  },
  {
   "cell_type": "code",
   "execution_count": 234,
   "id": "82ba426c-e4e8-41f2-a330-b80ee70c53ff",
   "metadata": {},
   "outputs": [
    {
     "data": {
      "text/plain": [
       "2.23606797749979"
      ]
     },
     "execution_count": 234,
     "metadata": {},
     "output_type": "execute_result"
    }
   ],
   "source": [
    "abs(num1)"
   ]
  },
  {
   "cell_type": "code",
   "execution_count": 235,
   "id": "fdac3c0c-ce55-4a87-a526-ff29d5dacb43",
   "metadata": {},
   "outputs": [],
   "source": [
    "num1 = 2+1j\n",
    "num2 = 3-2j"
   ]
  },
  {
   "cell_type": "code",
   "execution_count": 236,
   "id": "f70830a1-5ed9-416e-9e0b-fd145402fe80",
   "metadata": {},
   "outputs": [
    {
     "data": {
      "text/plain": [
       "(5-1j)"
      ]
     },
     "execution_count": 236,
     "metadata": {},
     "output_type": "execute_result"
    }
   ],
   "source": [
    "num1 + num2"
   ]
  },
  {
   "cell_type": "code",
   "execution_count": 237,
   "id": "503d67f7-246d-4ed5-aa46-18dbd3290c2c",
   "metadata": {},
   "outputs": [],
   "source": [
    "num1 = 2+1j\n",
    "num2 = 3-2j"
   ]
  },
  {
   "cell_type": "code",
   "execution_count": 238,
   "id": "1a6fa212-9aa4-4046-867f-73110de65019",
   "metadata": {},
   "outputs": [
    {
     "data": {
      "text/plain": [
       "(5-1j)"
      ]
     },
     "execution_count": 238,
     "metadata": {},
     "output_type": "execute_result"
    }
   ],
   "source": [
    "num1 + num2"
   ]
  },
  {
   "cell_type": "code",
   "execution_count": 239,
   "id": "bff734b6-ab7b-4007-bfe4-1a5b84d5631b",
   "metadata": {},
   "outputs": [],
   "source": [
    "num1 = 2+1j\n",
    "num2 = 3-2j"
   ]
  },
  {
   "cell_type": "code",
   "execution_count": 240,
   "id": "1a9c7bdf-7fff-4cc9-99a3-6df06c4f9b16",
   "metadata": {},
   "outputs": [
    {
     "data": {
      "text/plain": [
       "(8-1j)"
      ]
     },
     "execution_count": 240,
     "metadata": {},
     "output_type": "execute_result"
    }
   ],
   "source": [
    "num1 * num2"
   ]
  },
  {
   "cell_type": "code",
   "execution_count": 241,
   "id": "30ae0e58-106a-486b-b321-de7cdbc3f70b",
   "metadata": {},
   "outputs": [],
   "source": [
    "num1 = 2+1j"
   ]
  },
  {
   "cell_type": "code",
   "execution_count": 242,
   "id": "696fd5cc-b9db-4b9b-9890-eb1252e1cf03",
   "metadata": {},
   "outputs": [
    {
     "data": {
      "text/plain": [
       "(2-1j)"
      ]
     },
     "execution_count": 242,
     "metadata": {},
     "output_type": "execute_result"
    }
   ],
   "source": [
    "num2 = num1.conjugate()\n",
    "num2"
   ]
  },
  {
   "cell_type": "code",
   "execution_count": 243,
   "id": "44427177-f63b-4bbb-b2aa-9d10a5621df2",
   "metadata": {},
   "outputs": [
    {
     "data": {
      "text/plain": [
       "(4+0j)"
      ]
     },
     "execution_count": 243,
     "metadata": {},
     "output_type": "execute_result"
    }
   ],
   "source": [
    "num1 + num2"
   ]
  },
  {
   "cell_type": "code",
   "execution_count": 244,
   "id": "a41be04d-f8c7-4372-b0a3-496e488c8154",
   "metadata": {},
   "outputs": [
    {
     "data": {
      "text/plain": [
       "2j"
      ]
     },
     "execution_count": 244,
     "metadata": {},
     "output_type": "execute_result"
    }
   ],
   "source": [
    "num1 - num2"
   ]
  },
  {
   "cell_type": "code",
   "execution_count": 245,
   "id": "b0e3b37b-26e7-449c-9650-4d6df85a3d43",
   "metadata": {},
   "outputs": [
    {
     "data": {
      "text/plain": [
       "(5+0j)"
      ]
     },
     "execution_count": 245,
     "metadata": {},
     "output_type": "execute_result"
    }
   ],
   "source": [
    "num1 * num2"
   ]
  },
  {
   "cell_type": "code",
   "execution_count": 246,
   "id": "9c4288be-640b-4f8d-b8c4-d46bd79fcd49",
   "metadata": {},
   "outputs": [],
   "source": [
    "num1 = 2+1j\n",
    "num2 = 2-2j"
   ]
  },
  {
   "cell_type": "code",
   "execution_count": 247,
   "id": "e6aa8ff7-477d-4891-8d99-ba0faa7cd4b3",
   "metadata": {},
   "outputs": [
    {
     "data": {
      "text/plain": [
       "(0.25+0.75j)"
      ]
     },
     "execution_count": 247,
     "metadata": {},
     "output_type": "execute_result"
    }
   ],
   "source": [
    "num1 / num2"
   ]
  },
  {
   "cell_type": "code",
   "execution_count": 248,
   "id": "406429d6-8ff0-4903-9d4d-221bc84db40f",
   "metadata": {},
   "outputs": [],
   "source": [
    "num1 = 2+1j\n",
    "num2 = 3-3j"
   ]
  },
  {
   "cell_type": "code",
   "execution_count": 249,
   "id": "0accfca6-05cf-4533-8151-0322c8cca38d",
   "metadata": {},
   "outputs": [
    {
     "data": {
      "text/plain": [
       "False"
      ]
     },
     "execution_count": 249,
     "metadata": {},
     "output_type": "execute_result"
    }
   ],
   "source": [
    "num1 == num2"
   ]
  },
  {
   "cell_type": "code",
   "execution_count": 250,
   "id": "6f473686-8127-4b05-8a2d-b7c4527f5a7b",
   "metadata": {},
   "outputs": [
    {
     "data": {
      "text/plain": [
       "True"
      ]
     },
     "execution_count": 250,
     "metadata": {},
     "output_type": "execute_result"
    }
   ],
   "source": [
    "num1 != num2"
   ]
  },
  {
   "cell_type": "code",
   "execution_count": 251,
   "id": "36d97699-5874-4769-b5c5-139414112f73",
   "metadata": {},
   "outputs": [],
   "source": [
    "#num1 > num2"
   ]
  },
  {
   "cell_type": "code",
   "execution_count": 252,
   "id": "6c77522b-91d0-4313-948d-1a12577e14c8",
   "metadata": {},
   "outputs": [],
   "source": [
    "import decimal"
   ]
  },
  {
   "cell_type": "code",
   "execution_count": 253,
   "id": "b4331109-b83c-4f89-a974-664e714a1421",
   "metadata": {},
   "outputs": [
    {
     "data": {
      "text/plain": [
       "Context(prec=28, rounding=ROUND_HALF_EVEN, Emin=-999999, Emax=999999, capitals=1, clamp=0, flags=[], traps=[InvalidOperation, DivisionByZero, Overflow])"
      ]
     },
     "execution_count": 253,
     "metadata": {},
     "output_type": "execute_result"
    }
   ],
   "source": [
    "decimal.getcontext()"
   ]
  },
  {
   "cell_type": "code",
   "execution_count": 254,
   "id": "bbc7aefe-4771-4e96-92dd-d35fb157601c",
   "metadata": {},
   "outputs": [],
   "source": [
    "from decimal import Decimal"
   ]
  },
  {
   "cell_type": "code",
   "execution_count": 255,
   "id": "8e728c5a-da5c-4cdd-9018-11b670b6ef3f",
   "metadata": {},
   "outputs": [
    {
     "data": {
      "text/plain": [
       "Decimal('1')"
      ]
     },
     "execution_count": 255,
     "metadata": {},
     "output_type": "execute_result"
    }
   ],
   "source": [
    "num1 = Decimal(value='1')\n",
    "num1"
   ]
  },
  {
   "cell_type": "code",
   "execution_count": 256,
   "id": "00c7c9f8-efd8-437f-b47c-36a03897b219",
   "metadata": {},
   "outputs": [
    {
     "data": {
      "text/plain": [
       "Decimal('1')"
      ]
     },
     "execution_count": 256,
     "metadata": {},
     "output_type": "execute_result"
    }
   ],
   "source": [
    "num1 = Decimal(value=1)\n",
    "num1"
   ]
  },
  {
   "cell_type": "code",
   "execution_count": 257,
   "id": "d1c64c60-b13c-4476-8c4a-37a817f3a49a",
   "metadata": {},
   "outputs": [
    {
     "data": {
      "text/plain": [
       "Decimal('0.1')"
      ]
     },
     "execution_count": 257,
     "metadata": {},
     "output_type": "execute_result"
    }
   ],
   "source": [
    "num1 = Decimal(value='0.1')\n",
    "num1"
   ]
  },
  {
   "cell_type": "code",
   "execution_count": 258,
   "id": "54a0370b-b82a-4532-b1ac-68a8e5d39532",
   "metadata": {},
   "outputs": [
    {
     "data": {
      "text/plain": [
       "Decimal('0.1000000000000000055511151231257827021181583404541015625')"
      ]
     },
     "execution_count": 258,
     "metadata": {},
     "output_type": "execute_result"
    }
   ],
   "source": [
    "num1 = Decimal(value=0.1)\n",
    "num1"
   ]
  },
  {
   "cell_type": "code",
   "execution_count": 259,
   "id": "6e8989fb-2f15-4fe1-863d-e0c1adb3fabb",
   "metadata": {},
   "outputs": [
    {
     "data": {
      "text/plain": [
       "Decimal('0.1000000000000000055511151231257827021181583404541015625')"
      ]
     },
     "execution_count": 259,
     "metadata": {},
     "output_type": "execute_result"
    }
   ],
   "source": [
    "num1 = Decimal.from_float(0.1)\n",
    "num1"
   ]
  },
  {
   "cell_type": "code",
   "execution_count": 260,
   "id": "6fc48547-c467-46d6-82ff-85e720331223",
   "metadata": {},
   "outputs": [
    {
     "data": {
      "text/plain": [
       "Decimal('0.1')"
      ]
     },
     "execution_count": 260,
     "metadata": {},
     "output_type": "execute_result"
    }
   ],
   "source": [
    "num1 = Decimal(value=(0, (1,), -1))\n",
    "num1"
   ]
  },
  {
   "cell_type": "code",
   "execution_count": 261,
   "id": "e36e74d0-cd54-4478-887a-66e8be1d2883",
   "metadata": {},
   "outputs": [],
   "source": [
    "from decimal import DecimalTuple"
   ]
  },
  {
   "cell_type": "code",
   "execution_count": 262,
   "id": "e0859929-de8b-4efa-aaa9-2810792029f8",
   "metadata": {},
   "outputs": [
    {
     "data": {
      "text/plain": [
       "DecimalTuple(sign=0, digits=(1,), exponent=-1)"
      ]
     },
     "execution_count": 262,
     "metadata": {},
     "output_type": "execute_result"
    }
   ],
   "source": [
    "dectuple1 = DecimalTuple(sign=0, digits=(1,), exponent=(-1))\n",
    "dectuple1"
   ]
  },
  {
   "cell_type": "code",
   "execution_count": 263,
   "id": "87508676-c0a9-4cbb-acac-022e95ded40d",
   "metadata": {},
   "outputs": [
    {
     "data": {
      "text/plain": [
       "Decimal('0.1')"
      ]
     },
     "execution_count": 263,
     "metadata": {},
     "output_type": "execute_result"
    }
   ],
   "source": [
    "num1 = Decimal(value=dectuple1)\n",
    "num1"
   ]
  },
  {
   "cell_type": "code",
   "execution_count": 264,
   "id": "b3a7e2f7-28bf-43a7-a0b2-81ef69ef77a4",
   "metadata": {},
   "outputs": [
    {
     "data": {
      "text/plain": [
       "Decimal('0.1')"
      ]
     },
     "execution_count": 264,
     "metadata": {},
     "output_type": "execute_result"
    }
   ],
   "source": [
    "num1 = Decimal(value=DecimalTuple(sign=0, digits=(1,), exponent=(-1)))\n",
    "num1"
   ]
  },
  {
   "cell_type": "code",
   "execution_count": 265,
   "id": "8aaa7059-99f5-4a8b-ad48-6ebcc00f32ab",
   "metadata": {},
   "outputs": [],
   "source": [
    "num1 = Decimal(value='0.1')"
   ]
  },
  {
   "cell_type": "code",
   "execution_count": 266,
   "id": "ffe1d60d-1716-42c5-9fec-51dec978c8ea",
   "metadata": {},
   "outputs": [],
   "source": [
    "num1 = Decimal(value='0.1')"
   ]
  },
  {
   "cell_type": "code",
   "execution_count": 267,
   "id": "ac40abe9-60ab-4144-80a2-3a7149193365",
   "metadata": {},
   "outputs": [
    {
     "data": {
      "text/plain": [
       "Decimal('0.1')"
      ]
     },
     "execution_count": 267,
     "metadata": {},
     "output_type": "execute_result"
    }
   ],
   "source": [
    "num1.real"
   ]
  },
  {
   "cell_type": "code",
   "execution_count": 268,
   "id": "7b935599-1f49-4e25-a50c-ffcdd02ecd61",
   "metadata": {},
   "outputs": [
    {
     "data": {
      "text/plain": [
       "Decimal('0')"
      ]
     },
     "execution_count": 268,
     "metadata": {},
     "output_type": "execute_result"
    }
   ],
   "source": [
    "num1.imag"
   ]
  },
  {
   "cell_type": "code",
   "execution_count": 269,
   "id": "f9038963-6ca9-46a7-91d7-0251f580b64a",
   "metadata": {},
   "outputs": [
    {
     "data": {
      "text/plain": [
       "Decimal('0.1')"
      ]
     },
     "execution_count": 269,
     "metadata": {},
     "output_type": "execute_result"
    }
   ],
   "source": [
    "num1.conjugate()"
   ]
  },
  {
   "cell_type": "code",
   "execution_count": 270,
   "id": "002a3c9c-01b2-46d0-a403-6c2555e7662e",
   "metadata": {},
   "outputs": [],
   "source": [
    "num1 = Decimal(value='0.1')"
   ]
  },
  {
   "cell_type": "code",
   "execution_count": 271,
   "id": "e59be1a0-544f-4cc7-8a1c-319cde88cc8d",
   "metadata": {},
   "outputs": [],
   "source": [
    "num2 = Decimal(value='0.2')"
   ]
  },
  {
   "cell_type": "code",
   "execution_count": 272,
   "id": "4307fe73-ada3-4cfc-910f-5d8073128bc4",
   "metadata": {},
   "outputs": [],
   "source": [
    "num3 = complex(real=num1, imag=num2)"
   ]
  },
  {
   "cell_type": "code",
   "execution_count": 273,
   "id": "62a81c02-19cd-42b9-8ae5-5369f41e6255",
   "metadata": {},
   "outputs": [],
   "source": [
    "num4 = complex(real=num2, imag=num1)"
   ]
  },
  {
   "cell_type": "code",
   "execution_count": 274,
   "id": "3759ebb8-c8af-40ba-8bc7-311e32e4152d",
   "metadata": {},
   "outputs": [
    {
     "data": {
      "text/plain": [
       "(0.30000000000000004+0.30000000000000004j)"
      ]
     },
     "execution_count": 274,
     "metadata": {},
     "output_type": "execute_result"
    }
   ],
   "source": [
    "num3 + num4"
   ]
  },
  {
   "cell_type": "code",
   "execution_count": 275,
   "id": "9e1961fa-6034-4366-adec-52cc31678478",
   "metadata": {},
   "outputs": [],
   "source": [
    "num1 = Decimal(value='0.1')"
   ]
  },
  {
   "cell_type": "code",
   "execution_count": 276,
   "id": "b4524c1d-eccc-4dd2-a6e7-26fafb535db9",
   "metadata": {},
   "outputs": [
    {
     "data": {
      "text/plain": [
       "(1, 10)"
      ]
     },
     "execution_count": 276,
     "metadata": {},
     "output_type": "execute_result"
    }
   ],
   "source": [
    "num1.as_integer_ratio()"
   ]
  },
  {
   "cell_type": "code",
   "execution_count": 277,
   "id": "4872a274-d068-407d-8aaf-4dd2ac2e793f",
   "metadata": {},
   "outputs": [],
   "source": [
    "num1 = Decimal(value='1.2345e8')"
   ]
  },
  {
   "cell_type": "code",
   "execution_count": 278,
   "id": "107210fe-697b-4e51-87dd-1ce4b540c76d",
   "metadata": {},
   "outputs": [
    {
     "data": {
      "text/plain": [
       "Decimal('1.2345E+8')"
      ]
     },
     "execution_count": 278,
     "metadata": {},
     "output_type": "execute_result"
    }
   ],
   "source": [
    "num1"
   ]
  },
  {
   "cell_type": "code",
   "execution_count": 279,
   "id": "9da367ba-a615-4668-9ff1-bde90b84a164",
   "metadata": {},
   "outputs": [
    {
     "data": {
      "text/plain": [
       "DecimalTuple(sign=0, digits=(1, 2, 3, 4, 5), exponent=4)"
      ]
     },
     "execution_count": 279,
     "metadata": {},
     "output_type": "execute_result"
    }
   ],
   "source": [
    "num1.as_tuple()"
   ]
  },
  {
   "cell_type": "code",
   "execution_count": 280,
   "id": "66011a8b-4a1a-49e9-a525-9c483fd7b6c1",
   "metadata": {},
   "outputs": [
    {
     "data": {
      "text/plain": [
       "'123.45E+6'"
      ]
     },
     "execution_count": 280,
     "metadata": {},
     "output_type": "execute_result"
    }
   ],
   "source": [
    "num1.to_eng_string()"
   ]
  },
  {
   "cell_type": "code",
   "execution_count": 281,
   "id": "06c25dc1-2d3f-42cc-b95d-0ce7df60dadf",
   "metadata": {},
   "outputs": [],
   "source": [
    "num1 = Decimal(value='0.1')"
   ]
  },
  {
   "cell_type": "code",
   "execution_count": 282,
   "id": "9dd508db-b4e5-462a-9795-b380a9691b2f",
   "metadata": {},
   "outputs": [
    {
     "name": "stdout",
     "output_type": "stream",
     "text": [
      "['__abs__', '__add__', '__bool__', '__ceil__', '__class__', '__complex__',\n",
      " '__copy__', '__deepcopy__', '__delattr__', '__dir__', '__divmod__', '__doc__',\n",
      " '__eq__', '__float__', '__floor__', '__floordiv__', '__format__', '__ge__',\n",
      " '__getattribute__', '__getstate__', '__gt__', '__hash__', '__init__',\n",
      " '__init_subclass__', '__int__', '__le__', '__lt__', '__mod__', '__module__',\n",
      " '__mul__', '__ne__', '__neg__', '__new__', '__pos__', '__pow__', '__radd__',\n",
      " '__rdivmod__', '__reduce__', '__reduce_ex__', '__repr__', '__rfloordiv__',\n",
      " '__rmod__', '__rmul__', '__round__', '__rpow__', '__rsub__', '__rtruediv__',\n",
      " '__setattr__', '__sizeof__', '__str__', '__sub__', '__subclasshook__',\n",
      " '__truediv__', '__trunc__', 'adjusted', 'as_integer_ratio', 'as_tuple',\n",
      " 'canonical', 'compare', 'compare_signal', 'compare_total', 'compare_total_mag',\n",
      " 'conjugate', 'copy_abs', 'copy_negate', 'copy_sign', 'exp', 'fma',\n",
      " 'from_float', 'imag', 'is_canonical', 'is_finite', 'is_infinite', 'is_nan',\n",
      " 'is_normal', 'is_qnan', 'is_signed', 'is_snan', 'is_subnormal', 'is_zero',\n",
      " 'ln', 'log10', 'logb', 'logical_and', 'logical_invert', 'logical_or',\n",
      " 'logical_xor', 'max', 'max_mag', 'min', 'min_mag', 'next_minus', 'next_plus',\n",
      " 'next_toward', 'normalize', 'number_class', 'quantize', 'radix', 'real',\n",
      " 'remainder_near', 'rotate', 'same_quantum', 'scaleb', 'shift', 'sqrt',\n",
      " 'to_eng_string', 'to_integral', 'to_integral_exact', 'to_integral_value']\n"
     ]
    }
   ],
   "source": [
    "pprint.pprint(dir(num1), compact=True)"
   ]
  },
  {
   "cell_type": "code",
   "execution_count": 283,
   "id": "34cb8226-66c9-42ff-8168-be609c6f06ac",
   "metadata": {},
   "outputs": [],
   "source": [
    "num1 = Decimal(value='0.1')"
   ]
  },
  {
   "cell_type": "code",
   "execution_count": 284,
   "id": "3b45dbb0-888c-4d86-9e38-9cf7e8a07fd9",
   "metadata": {},
   "outputs": [
    {
     "data": {
      "text/plain": [
       "\"Decimal('0.1')\""
      ]
     },
     "execution_count": 284,
     "metadata": {},
     "output_type": "execute_result"
    }
   ],
   "source": [
    "repr(num1)"
   ]
  },
  {
   "cell_type": "code",
   "execution_count": 285,
   "id": "ff278d37-2202-4b6e-98d8-6c1f63366e15",
   "metadata": {},
   "outputs": [
    {
     "data": {
      "text/plain": [
       "'0.1'"
      ]
     },
     "execution_count": 285,
     "metadata": {},
     "output_type": "execute_result"
    }
   ],
   "source": [
    "str(num1)"
   ]
  },
  {
   "cell_type": "code",
   "execution_count": 286,
   "id": "d37105cd-b969-4626-a0d3-26af956f085c",
   "metadata": {},
   "outputs": [],
   "source": [
    "num1 = Decimal(value='0.1')\n",
    "num2 = Decimal(value='0.2')"
   ]
  },
  {
   "cell_type": "code",
   "execution_count": 287,
   "id": "a5ce32f4-3669-4017-ad67-eaccd32340d8",
   "metadata": {},
   "outputs": [
    {
     "data": {
      "text/plain": [
       "Decimal('0.3')"
      ]
     },
     "execution_count": 287,
     "metadata": {},
     "output_type": "execute_result"
    }
   ],
   "source": [
    "num1 + num2"
   ]
  },
  {
   "cell_type": "code",
   "execution_count": 288,
   "id": "d873f17f-ac75-4e70-97ac-b575d971ce15",
   "metadata": {},
   "outputs": [
    {
     "data": {
      "text/plain": [
       "0.30000000000000004"
      ]
     },
     "execution_count": 288,
     "metadata": {},
     "output_type": "execute_result"
    }
   ],
   "source": [
    "0.1 + 0.2"
   ]
  },
  {
   "cell_type": "code",
   "execution_count": 289,
   "id": "c3571109-d658-42fb-a355-be0bb77abcbb",
   "metadata": {},
   "outputs": [],
   "source": [
    "num1 = Decimal(value='0.5')\n",
    "num2 = Decimal(value='0.4')"
   ]
  },
  {
   "cell_type": "code",
   "execution_count": 290,
   "id": "b22618db-352c-4008-b0a8-88bfee4e67c3",
   "metadata": {},
   "outputs": [
    {
     "data": {
      "text/plain": [
       "Decimal('0.1')"
      ]
     },
     "execution_count": 290,
     "metadata": {},
     "output_type": "execute_result"
    }
   ],
   "source": [
    "num1 - num2"
   ]
  },
  {
   "cell_type": "code",
   "execution_count": 291,
   "id": "1f93dae2-9bd1-46aa-981f-e96f90973266",
   "metadata": {},
   "outputs": [
    {
     "data": {
      "text/plain": [
       "0.09999999999999998"
      ]
     },
     "execution_count": 291,
     "metadata": {},
     "output_type": "execute_result"
    }
   ],
   "source": [
    "0.5 - 0.4"
   ]
  },
  {
   "cell_type": "code",
   "execution_count": 292,
   "id": "16dc1aec-d104-4c94-9f84-f9991795aba5",
   "metadata": {},
   "outputs": [],
   "source": [
    "num1 = Decimal(value='0.1')\n",
    "num2 = Decimal(value='0.2')\n",
    "num3 = Decimal(value='0.3')"
   ]
  },
  {
   "cell_type": "code",
   "execution_count": 293,
   "id": "7ec1c292-c986-44f1-9b29-c90ff6a370a7",
   "metadata": {},
   "outputs": [
    {
     "data": {
      "text/plain": [
       "True"
      ]
     },
     "execution_count": 293,
     "metadata": {},
     "output_type": "execute_result"
    }
   ],
   "source": [
    "num3 == num1 + num2"
   ]
  },
  {
   "cell_type": "code",
   "execution_count": 294,
   "id": "c656b1df-eb88-4867-8cd4-080ab7afecd7",
   "metadata": {},
   "outputs": [],
   "source": [
    "num1 = Decimal(value='1')\n",
    "num2 = Decimal(value='3')"
   ]
  },
  {
   "cell_type": "code",
   "execution_count": 295,
   "id": "b1af59d1-ee9e-4fa0-a189-74025714c3a3",
   "metadata": {},
   "outputs": [
    {
     "data": {
      "text/plain": [
       "Decimal('0.3333333333333333333333333333')"
      ]
     },
     "execution_count": 295,
     "metadata": {},
     "output_type": "execute_result"
    }
   ],
   "source": [
    "onethird = num1 / num2\n",
    "onethird"
   ]
  },
  {
   "cell_type": "code",
   "execution_count": 296,
   "id": "96585087-44b4-482a-800e-3227e68bab40",
   "metadata": {},
   "outputs": [
    {
     "data": {
      "text/plain": [
       "Decimal('0.9999999999999999999999999999')"
      ]
     },
     "execution_count": 296,
     "metadata": {},
     "output_type": "execute_result"
    }
   ],
   "source": [
    "onethird + onethird + onethird"
   ]
  },
  {
   "cell_type": "code",
   "execution_count": 297,
   "id": "8a7dde4a-0f60-49db-bcd3-edf3508f152d",
   "metadata": {},
   "outputs": [
    {
     "data": {
      "text/plain": [
       "Decimal('0.9999999999999999999999999999')"
      ]
     },
     "execution_count": 297,
     "metadata": {},
     "output_type": "execute_result"
    }
   ],
   "source": [
    "onethird * 3"
   ]
  },
  {
   "cell_type": "code",
   "execution_count": 298,
   "id": "ca60fcb7-d02c-4057-8953-8949d0aff8c9",
   "metadata": {},
   "outputs": [
    {
     "data": {
      "text/plain": [
       "Decimal('0.9999999999999999999999999999')"
      ]
     },
     "execution_count": 298,
     "metadata": {},
     "output_type": "execute_result"
    }
   ],
   "source": [
    "threethird = onethird + onethird + onethird\n",
    "threethird"
   ]
  },
  {
   "cell_type": "code",
   "execution_count": 299,
   "id": "70deed5f-9879-46d7-9620-042aaf7f49df",
   "metadata": {},
   "outputs": [
    {
     "data": {
      "text/plain": [
       "False"
      ]
     },
     "execution_count": 299,
     "metadata": {},
     "output_type": "execute_result"
    }
   ],
   "source": [
    "num1 == threethird"
   ]
  },
  {
   "cell_type": "code",
   "execution_count": 300,
   "id": "bdcf2518-889b-4323-9fa6-c40db447b1d3",
   "metadata": {},
   "outputs": [
    {
     "data": {
      "text/plain": [
       "True"
      ]
     },
     "execution_count": 300,
     "metadata": {},
     "output_type": "execute_result"
    }
   ],
   "source": [
    "num1 > onethird + onethird + onethird"
   ]
  },
  {
   "cell_type": "code",
   "execution_count": 301,
   "id": "f2465f82-b3c0-4256-afb0-1c6656f7be7b",
   "metadata": {},
   "outputs": [],
   "source": [
    "#1.0 / 0.0"
   ]
  },
  {
   "cell_type": "code",
   "execution_count": 302,
   "id": "21b21e72-7153-4338-a6ff-bfc1cdf9b734",
   "metadata": {},
   "outputs": [],
   "source": [
    "num1 = Decimal(value='1.0')"
   ]
  },
  {
   "cell_type": "code",
   "execution_count": 303,
   "id": "63827f07-c0f5-4d1a-9d8d-6ebbb9461db8",
   "metadata": {},
   "outputs": [],
   "source": [
    "num2 = Decimal(value='0.0')"
   ]
  },
  {
   "cell_type": "code",
   "execution_count": 304,
   "id": "03ac1ab5-2486-4e93-81ca-07eb66a5347d",
   "metadata": {},
   "outputs": [],
   "source": [
    "#num1 / num2"
   ]
  },
  {
   "cell_type": "code",
   "execution_count": 305,
   "id": "5d70df3b-2e77-4f59-81a2-afb0ef609cc9",
   "metadata": {},
   "outputs": [],
   "source": [
    "from decimal import Decimal, getcontext, DivisionByZero"
   ]
  },
  {
   "cell_type": "code",
   "execution_count": 306,
   "id": "70d92457-c689-4d4b-b889-266cbacc030b",
   "metadata": {},
   "outputs": [
    {
     "data": {
      "text/plain": [
       "{<class 'decimal.InvalidOperation'>:True, <class 'decimal.FloatOperation'>:False, <class 'decimal.DivisionByZero'>:True, <class 'decimal.Overflow'>:True, <class 'decimal.Underflow'>:False, <class 'decimal.Subnormal'>:False, <class 'decimal.Inexact'>:False, <class 'decimal.Rounded'>:False, <class 'decimal.Clamped'>:False}"
      ]
     },
     "execution_count": 306,
     "metadata": {},
     "output_type": "execute_result"
    }
   ],
   "source": [
    "getcontext().traps"
   ]
  },
  {
   "cell_type": "code",
   "execution_count": 307,
   "id": "83a645ee-b723-4236-9863-f89d43a5f3ba",
   "metadata": {},
   "outputs": [],
   "source": [
    "getcontext().clear_traps()"
   ]
  },
  {
   "cell_type": "code",
   "execution_count": 308,
   "id": "34dbb3ef-930a-4282-acff-993a3b994b21",
   "metadata": {},
   "outputs": [
    {
     "data": {
      "text/plain": [
       "{<class 'decimal.InvalidOperation'>:False, <class 'decimal.FloatOperation'>:False, <class 'decimal.DivisionByZero'>:False, <class 'decimal.Overflow'>:False, <class 'decimal.Underflow'>:False, <class 'decimal.Subnormal'>:False, <class 'decimal.Inexact'>:False, <class 'decimal.Rounded'>:False, <class 'decimal.Clamped'>:False}"
      ]
     },
     "execution_count": 308,
     "metadata": {},
     "output_type": "execute_result"
    }
   ],
   "source": [
    "getcontext().traps"
   ]
  },
  {
   "cell_type": "code",
   "execution_count": 309,
   "id": "fbaf5f06-e807-4c45-8a81-b1107fce2554",
   "metadata": {},
   "outputs": [
    {
     "data": {
      "text/plain": [
       "Decimal('Infinity')"
      ]
     },
     "execution_count": 309,
     "metadata": {},
     "output_type": "execute_result"
    }
   ],
   "source": [
    "num1 / num2"
   ]
  },
  {
   "cell_type": "code",
   "execution_count": 310,
   "id": "0496c9db-5908-4531-af0e-0f22f5c3f259",
   "metadata": {},
   "outputs": [],
   "source": [
    "getcontext().traps[DivisionByZero] = True"
   ]
  },
  {
   "cell_type": "code",
   "execution_count": 311,
   "id": "758b5bd6-1b04-4b8b-80fc-d829d4caadc4",
   "metadata": {},
   "outputs": [],
   "source": [
    "#num1 / num2"
   ]
  },
  {
   "cell_type": "code",
   "execution_count": 312,
   "id": "19b62696-4684-4b16-8b4a-10612822ba53",
   "metadata": {},
   "outputs": [],
   "source": [
    "import fractions"
   ]
  },
  {
   "cell_type": "code",
   "execution_count": 313,
   "id": "17d034a5-7c51-4efd-a027-4689b36ab247",
   "metadata": {},
   "outputs": [],
   "source": [
    "from fractions import Fraction"
   ]
  },
  {
   "cell_type": "code",
   "execution_count": 314,
   "id": "587d1221-cfdf-4915-b04e-23652f26fda5",
   "metadata": {},
   "outputs": [
    {
     "data": {
      "text/plain": [
       "Fraction(3, 8)"
      ]
     },
     "execution_count": 314,
     "metadata": {},
     "output_type": "execute_result"
    }
   ],
   "source": [
    "num1 = Fraction(numerator=3, denominator=8)\n",
    "num1"
   ]
  },
  {
   "cell_type": "code",
   "execution_count": 315,
   "id": "86a3e434-cea1-420d-baf1-59f5cdffa85e",
   "metadata": {},
   "outputs": [
    {
     "data": {
      "text/plain": [
       "Fraction(3, 8)"
      ]
     },
     "execution_count": 315,
     "metadata": {},
     "output_type": "execute_result"
    }
   ],
   "source": [
    "num1 = Fraction('3/8')\n",
    "num1"
   ]
  },
  {
   "cell_type": "code",
   "execution_count": 316,
   "id": "1e8913a5-0f9c-4a7e-861d-c1c29e59fa3f",
   "metadata": {},
   "outputs": [
    {
     "data": {
      "text/plain": [
       "[fractions.Fraction,\n",
       " numbers.Rational,\n",
       " numbers.Real,\n",
       " numbers.Complex,\n",
       " numbers.Number,\n",
       " object]"
      ]
     },
     "execution_count": 316,
     "metadata": {},
     "output_type": "execute_result"
    }
   ],
   "source": [
    "Fraction.mro()"
   ]
  },
  {
   "cell_type": "code",
   "execution_count": 317,
   "id": "b6919690-b944-447a-96d0-2beca6d8681e",
   "metadata": {},
   "outputs": [
    {
     "data": {
      "text/plain": [
       "Fraction(1, 5)"
      ]
     },
     "execution_count": 317,
     "metadata": {},
     "output_type": "execute_result"
    }
   ],
   "source": [
    "num1 = Fraction(numerator=Decimal('0.2'))\n",
    "num1"
   ]
  },
  {
   "cell_type": "code",
   "execution_count": 318,
   "id": "1f11ef91-e943-4a9f-9602-8804ba3ce721",
   "metadata": {},
   "outputs": [
    {
     "data": {
      "text/plain": [
       "Fraction(3602879701896397, 18014398509481984)"
      ]
     },
     "execution_count": 318,
     "metadata": {},
     "output_type": "execute_result"
    }
   ],
   "source": [
    "num1 = Fraction(numerator=0.2)\n",
    "num1"
   ]
  },
  {
   "cell_type": "code",
   "execution_count": 319,
   "id": "791bb8e3-77a7-43c9-832c-1aecbacf0f72",
   "metadata": {},
   "outputs": [
    {
     "data": {
      "text/plain": [
       "Fraction(1, 5)"
      ]
     },
     "execution_count": 319,
     "metadata": {},
     "output_type": "execute_result"
    }
   ],
   "source": [
    "num1 = Fraction(numerator='0.2')\n",
    "num1"
   ]
  },
  {
   "cell_type": "code",
   "execution_count": 320,
   "id": "9bac74ab-2dc7-4b46-b967-4ef74c89cd13",
   "metadata": {},
   "outputs": [
    {
     "data": {
      "text/plain": [
       "Fraction(3, 8)"
      ]
     },
     "execution_count": 320,
     "metadata": {},
     "output_type": "execute_result"
    }
   ],
   "source": [
    "num1 = Fraction(numerator=3, denominator=8)\n",
    "num1"
   ]
  },
  {
   "cell_type": "code",
   "execution_count": 321,
   "id": "ccd02a4c-e2be-4c4b-aa78-d403045a248b",
   "metadata": {},
   "outputs": [
    {
     "data": {
      "text/plain": [
       "Fraction(3, 8)"
      ]
     },
     "execution_count": 321,
     "metadata": {},
     "output_type": "execute_result"
    }
   ],
   "source": [
    "num1 = Fraction(numerator=3, denominator=8)\n",
    "num1"
   ]
  },
  {
   "cell_type": "code",
   "execution_count": 322,
   "id": "53bbecf4-befa-4503-94ac-dc0f3d9c3106",
   "metadata": {},
   "outputs": [
    {
     "data": {
      "text/plain": [
       "Fraction(3, 8)"
      ]
     },
     "execution_count": 322,
     "metadata": {},
     "output_type": "execute_result"
    }
   ],
   "source": [
    "num1.real"
   ]
  },
  {
   "cell_type": "code",
   "execution_count": 323,
   "id": "ac408032-f8bd-4e80-adfc-29bce352ea70",
   "metadata": {},
   "outputs": [
    {
     "data": {
      "text/plain": [
       "0"
      ]
     },
     "execution_count": 323,
     "metadata": {},
     "output_type": "execute_result"
    }
   ],
   "source": [
    "num1.imag"
   ]
  },
  {
   "cell_type": "code",
   "execution_count": 324,
   "id": "25e95742-4694-4066-a82b-499665922894",
   "metadata": {},
   "outputs": [
    {
     "data": {
      "text/plain": [
       "Fraction(3, 8)"
      ]
     },
     "execution_count": 324,
     "metadata": {},
     "output_type": "execute_result"
    }
   ],
   "source": [
    "num1.conjugate()"
   ]
  },
  {
   "cell_type": "code",
   "execution_count": 325,
   "id": "202f8ff7-7589-4bb9-a7a6-ea1e4f0a7266",
   "metadata": {},
   "outputs": [
    {
     "data": {
      "text/plain": [
       "Fraction(3, 8)"
      ]
     },
     "execution_count": 325,
     "metadata": {},
     "output_type": "execute_result"
    }
   ],
   "source": [
    "num1 = Fraction(numerator=3, denominator=8)\n",
    "num1"
   ]
  },
  {
   "cell_type": "code",
   "execution_count": 326,
   "id": "1ab68a2a-88c6-427c-aa84-4559dfd9c2be",
   "metadata": {},
   "outputs": [
    {
     "data": {
      "text/plain": [
       "Fraction(5, 8)"
      ]
     },
     "execution_count": 326,
     "metadata": {},
     "output_type": "execute_result"
    }
   ],
   "source": [
    "num2 = Fraction(numerator=5, denominator=8)\n",
    "num2"
   ]
  },
  {
   "cell_type": "code",
   "execution_count": 327,
   "id": "21cfabba-a1d9-4e63-9984-dbdb25aa405e",
   "metadata": {},
   "outputs": [
    {
     "data": {
      "text/plain": [
       "(0.375+0.625j)"
      ]
     },
     "execution_count": 327,
     "metadata": {},
     "output_type": "execute_result"
    }
   ],
   "source": [
    "complex(real=num1, imag=num2)"
   ]
  },
  {
   "cell_type": "code",
   "execution_count": 328,
   "id": "323df410-c671-4796-9b76-980f6d9f4a67",
   "metadata": {},
   "outputs": [
    {
     "data": {
      "text/plain": [
       "Fraction(3, 8)"
      ]
     },
     "execution_count": 328,
     "metadata": {},
     "output_type": "execute_result"
    }
   ],
   "source": [
    "num1 = Fraction(numerator=3, denominator=8)\n",
    "num1"
   ]
  },
  {
   "cell_type": "code",
   "execution_count": 329,
   "id": "7fd5d920-e468-472c-8e77-f380c03724b2",
   "metadata": {},
   "outputs": [
    {
     "data": {
      "text/plain": [
       "3"
      ]
     },
     "execution_count": 329,
     "metadata": {},
     "output_type": "execute_result"
    }
   ],
   "source": [
    "num1.numerator"
   ]
  },
  {
   "cell_type": "code",
   "execution_count": 330,
   "id": "8becac50-50b4-461a-a270-a327ae3396ac",
   "metadata": {},
   "outputs": [
    {
     "data": {
      "text/plain": [
       "8"
      ]
     },
     "execution_count": 330,
     "metadata": {},
     "output_type": "execute_result"
    }
   ],
   "source": [
    "num1.denominator"
   ]
  },
  {
   "cell_type": "code",
   "execution_count": 331,
   "id": "c8af674e-9dc8-45ae-a3dc-20f7b46c4e7b",
   "metadata": {},
   "outputs": [
    {
     "data": {
      "text/plain": [
       "(3, 8)"
      ]
     },
     "execution_count": 331,
     "metadata": {},
     "output_type": "execute_result"
    }
   ],
   "source": [
    "num1.as_integer_ratio()"
   ]
  },
  {
   "cell_type": "code",
   "execution_count": 332,
   "id": "c9c780f8-a9c7-4bb4-8332-4c8ab0e095f5",
   "metadata": {},
   "outputs": [
    {
     "data": {
      "text/plain": [
       "Fraction(1, 10)"
      ]
     },
     "execution_count": 332,
     "metadata": {},
     "output_type": "execute_result"
    }
   ],
   "source": [
    "num1 = Fraction.from_decimal(Decimal('0.1'))\n",
    "num1"
   ]
  },
  {
   "cell_type": "code",
   "execution_count": 333,
   "id": "0fd4517c-bb29-499d-a9ee-7ce7a6649ef0",
   "metadata": {},
   "outputs": [
    {
     "data": {
      "text/plain": [
       "Fraction(3602879701896397, 36028797018963968)"
      ]
     },
     "execution_count": 333,
     "metadata": {},
     "output_type": "execute_result"
    }
   ],
   "source": [
    "num2 = Fraction.from_float(0.1)\n",
    "num2"
   ]
  },
  {
   "cell_type": "code",
   "execution_count": 334,
   "id": "8ff5b554-4be1-403d-b1af-ba83619a9332",
   "metadata": {},
   "outputs": [
    {
     "data": {
      "text/plain": [
       "Fraction(3602879701896397, 36028797018963968)"
      ]
     },
     "execution_count": 334,
     "metadata": {},
     "output_type": "execute_result"
    }
   ],
   "source": [
    "num2 = Fraction.from_float(0.1)\n",
    "num2"
   ]
  },
  {
   "cell_type": "code",
   "execution_count": 335,
   "id": "c23449a8-3efd-4bd4-916c-40a07a67ab88",
   "metadata": {},
   "outputs": [
    {
     "data": {
      "text/plain": [
       "Fraction(1, 10)"
      ]
     },
     "execution_count": 335,
     "metadata": {},
     "output_type": "execute_result"
    }
   ],
   "source": [
    "num2.limit_denominator(max_denominator=1000)"
   ]
  },
  {
   "cell_type": "code",
   "execution_count": 336,
   "id": "bd5c6579-9779-4ac1-b3c8-19ccb2906127",
   "metadata": {},
   "outputs": [],
   "source": [
    "num1 = Fraction(numerator=3, denominator=8)"
   ]
  },
  {
   "cell_type": "code",
   "execution_count": 337,
   "id": "1b0ebdfb-cf48-4c6c-9fab-d5d7135254b4",
   "metadata": {},
   "outputs": [
    {
     "name": "stdout",
     "output_type": "stream",
     "text": [
      "['__abs__', '__abstractmethods__', '__add__', '__bool__', '__ceil__',\n",
      " '__class__', '__complex__', '__copy__', '__deepcopy__', '__delattr__',\n",
      " '__dir__', '__divmod__', '__doc__', '__eq__', '__float__', '__floor__',\n",
      " '__floordiv__', '__format__', '__ge__', '__getattribute__', '__getstate__',\n",
      " '__gt__', '__hash__', '__init__', '__init_subclass__', '__int__', '__le__',\n",
      " '__lt__', '__mod__', '__module__', '__mul__', '__ne__', '__neg__', '__new__',\n",
      " '__pos__', '__pow__', '__radd__', '__rdivmod__', '__reduce__', '__reduce_ex__',\n",
      " '__repr__', '__rfloordiv__', '__rmod__', '__rmul__', '__round__', '__rpow__',\n",
      " '__rsub__', '__rtruediv__', '__setattr__', '__sizeof__', '__slots__',\n",
      " '__str__', '__sub__', '__subclasshook__', '__truediv__', '__trunc__',\n",
      " '_abc_impl', '_add', '_denominator', '_div', '_divmod', '_floordiv', '_mod',\n",
      " '_mul', '_numerator', '_operator_fallbacks', '_richcmp', '_sub',\n",
      " 'as_integer_ratio', 'conjugate', 'denominator', 'from_decimal', 'from_float',\n",
      " 'imag', 'limit_denominator', 'numerator', 'real']\n"
     ]
    }
   ],
   "source": [
    "pprint.pprint(dir(num1), compact=True)"
   ]
  },
  {
   "cell_type": "code",
   "execution_count": 338,
   "id": "1134b490-5c55-4359-aaa3-e82885bc17a6",
   "metadata": {},
   "outputs": [],
   "source": [
    "num1 = Fraction(numerator=3, denominator=8)"
   ]
  },
  {
   "cell_type": "code",
   "execution_count": 339,
   "id": "a4d04ce6-0c83-458c-8f6d-0c9bbe98d0f4",
   "metadata": {},
   "outputs": [
    {
     "data": {
      "text/plain": [
       "'Fraction(3, 8)'"
      ]
     },
     "execution_count": 339,
     "metadata": {},
     "output_type": "execute_result"
    }
   ],
   "source": [
    "repr(num1)"
   ]
  },
  {
   "cell_type": "code",
   "execution_count": 340,
   "id": "e31da9cc-d3ab-42bc-8f84-bc128c0ee909",
   "metadata": {},
   "outputs": [
    {
     "data": {
      "text/plain": [
       "'3/8'"
      ]
     },
     "execution_count": 340,
     "metadata": {},
     "output_type": "execute_result"
    }
   ],
   "source": [
    "str(num1)"
   ]
  },
  {
   "cell_type": "code",
   "execution_count": 341,
   "id": "a0cacd28-80fe-4f8c-83af-152c6853628e",
   "metadata": {},
   "outputs": [
    {
     "data": {
      "text/plain": [
       "fractions.Fraction"
      ]
     },
     "execution_count": 341,
     "metadata": {},
     "output_type": "execute_result"
    }
   ],
   "source": [
    "type(num1)"
   ]
  },
  {
   "cell_type": "code",
   "execution_count": 342,
   "id": "9fefedf9-9416-4ec6-8bd7-f83c4dc0d81a",
   "metadata": {},
   "outputs": [
    {
     "data": {
      "text/plain": [
       "\u001b[1;31mType:\u001b[0m        Fraction\n",
       "\u001b[1;31mString form:\u001b[0m 3/8\n",
       "\u001b[1;31mFile:\u001b[0m        c:\\users\\appslab\\mambaforge\\envs\\jupyterlab-cf\\lib\\fractions.py\n",
       "\u001b[1;31mDocstring:\u001b[0m  \n",
       "This class implements rational numbers.\n",
       "\n",
       "In the two-argument form of the constructor, Fraction(8, 6) will\n",
       "produce a rational number equivalent to 4/3. Both arguments must\n",
       "be Rational. The numerator defaults to 0 and the denominator\n",
       "defaults to 1 so that Fraction(3) == 3 and Fraction() == 0.\n",
       "\n",
       "Fractions can also be constructed from:\n",
       "\n",
       "  - numeric strings similar to those accepted by the\n",
       "    float constructor (for example, '-2.3' or '1e10')\n",
       "\n",
       "  - strings of the form '123/456'\n",
       "\n",
       "  - float and Decimal instances\n",
       "\n",
       "  - other Rational instances (including integers)\n"
      ]
     },
     "metadata": {},
     "output_type": "display_data"
    }
   ],
   "source": [
    "? num1"
   ]
  },
  {
   "cell_type": "code",
   "execution_count": 343,
   "id": "3dbdd1fd-d6c2-4a3b-bdbd-bed0b2ca6f45",
   "metadata": {},
   "outputs": [
    {
     "data": {
      "text/plain": [
       "'The fraction is 3/8.'"
      ]
     },
     "execution_count": 343,
     "metadata": {},
     "output_type": "execute_result"
    }
   ],
   "source": [
    "f'The fraction is {num1}.'"
   ]
  },
  {
   "cell_type": "code",
   "execution_count": 344,
   "id": "6868dd0e-f871-42e2-86eb-a94f33beae83",
   "metadata": {},
   "outputs": [],
   "source": [
    "from copy import copy, deepcopy"
   ]
  },
  {
   "cell_type": "code",
   "execution_count": 345,
   "id": "44c1aa15-85c7-400d-861d-d1637081a2f4",
   "metadata": {},
   "outputs": [
    {
     "data": {
      "text/plain": [
       "Fraction(3, 8)"
      ]
     },
     "execution_count": 345,
     "metadata": {},
     "output_type": "execute_result"
    }
   ],
   "source": [
    "num2 = copy(num1)\n",
    "num2"
   ]
  },
  {
   "cell_type": "code",
   "execution_count": 346,
   "id": "82a8fd17-4062-4cd8-91e9-f8060de7d988",
   "metadata": {},
   "outputs": [
    {
     "data": {
      "text/plain": [
       "Fraction(3, 8)"
      ]
     },
     "execution_count": 346,
     "metadata": {},
     "output_type": "execute_result"
    }
   ],
   "source": [
    "num3 = copy(num1)\n",
    "num3"
   ]
  },
  {
   "cell_type": "code",
   "execution_count": 347,
   "id": "89b294ea-d230-4888-94e5-008797d18d87",
   "metadata": {},
   "outputs": [
    {
     "data": {
      "text/plain": [
       "Fraction(3, 8)"
      ]
     },
     "execution_count": 347,
     "metadata": {},
     "output_type": "execute_result"
    }
   ],
   "source": [
    "num1 = Fraction(numerator=3, denominator=8)\n",
    "num1"
   ]
  },
  {
   "cell_type": "code",
   "execution_count": 348,
   "id": "d4a848f7-8e1d-4261-a169-8ca2bd4daf46",
   "metadata": {},
   "outputs": [
    {
     "data": {
      "text/plain": [
       "Fraction(3, 8)"
      ]
     },
     "execution_count": 348,
     "metadata": {},
     "output_type": "execute_result"
    }
   ],
   "source": [
    "+num1"
   ]
  },
  {
   "cell_type": "code",
   "execution_count": 349,
   "id": "6636e7ec-f416-42d2-a319-375ddf3fa7e0",
   "metadata": {},
   "outputs": [
    {
     "data": {
      "text/plain": [
       "Fraction(-3, 8)"
      ]
     },
     "execution_count": 349,
     "metadata": {},
     "output_type": "execute_result"
    }
   ],
   "source": [
    "-num1"
   ]
  },
  {
   "cell_type": "code",
   "execution_count": 350,
   "id": "49b90170-030f-4377-9476-96e4e92382fa",
   "metadata": {},
   "outputs": [
    {
     "data": {
      "text/plain": [
       "Fraction(3, 8)"
      ]
     },
     "execution_count": 350,
     "metadata": {},
     "output_type": "execute_result"
    }
   ],
   "source": [
    "abs(-num1)"
   ]
  },
  {
   "cell_type": "code",
   "execution_count": 351,
   "id": "b85f8d79-f942-48bb-a427-1d88a52bf65a",
   "metadata": {},
   "outputs": [
    {
     "data": {
      "text/plain": [
       "Fraction(11, 8)"
      ]
     },
     "execution_count": 351,
     "metadata": {},
     "output_type": "execute_result"
    }
   ],
   "source": [
    "num1 = Fraction(numerator=11, denominator=8)\n",
    "num1"
   ]
  },
  {
   "cell_type": "code",
   "execution_count": 352,
   "id": "02d7942b-7a36-4a33-aaae-b4cfd228eb2f",
   "metadata": {},
   "outputs": [
    {
     "data": {
      "text/plain": [
       "1.375"
      ]
     },
     "execution_count": 352,
     "metadata": {},
     "output_type": "execute_result"
    }
   ],
   "source": [
    "float(num1)"
   ]
  },
  {
   "cell_type": "code",
   "execution_count": 353,
   "id": "fad9f1aa-198e-45e3-b989-ea1b52aa78ed",
   "metadata": {},
   "outputs": [
    {
     "data": {
      "text/plain": [
       "1"
      ]
     },
     "execution_count": 353,
     "metadata": {},
     "output_type": "execute_result"
    }
   ],
   "source": [
    "int(num1)"
   ]
  },
  {
   "cell_type": "code",
   "execution_count": 354,
   "id": "7002b4fd-c61e-4c9c-8665-6bebe57a1931",
   "metadata": {},
   "outputs": [
    {
     "data": {
      "text/plain": [
       "True"
      ]
     },
     "execution_count": 354,
     "metadata": {},
     "output_type": "execute_result"
    }
   ],
   "source": [
    "bool(num1)"
   ]
  },
  {
   "cell_type": "code",
   "execution_count": 355,
   "id": "82708ae3-aebc-4e78-befb-cb65aca0a70e",
   "metadata": {},
   "outputs": [
    {
     "data": {
      "text/plain": [
       "(1.375+0j)"
      ]
     },
     "execution_count": 355,
     "metadata": {},
     "output_type": "execute_result"
    }
   ],
   "source": [
    "complex(num1)"
   ]
  },
  {
   "cell_type": "code",
   "execution_count": 356,
   "id": "f0c21dd5-a8c1-4456-b6aa-38df378757b6",
   "metadata": {},
   "outputs": [
    {
     "data": {
      "text/plain": [
       "Fraction(11, 8)"
      ]
     },
     "execution_count": 356,
     "metadata": {},
     "output_type": "execute_result"
    }
   ],
   "source": [
    "num1 = Fraction(numerator=11, denominator=8)\n",
    "num1"
   ]
  },
  {
   "cell_type": "code",
   "execution_count": 357,
   "id": "102aeb3c-f793-4834-894f-62baca8e9f9b",
   "metadata": {},
   "outputs": [
    {
     "data": {
      "text/plain": [
       "1.375"
      ]
     },
     "execution_count": 357,
     "metadata": {},
     "output_type": "execute_result"
    }
   ],
   "source": [
    "float(num1)"
   ]
  },
  {
   "cell_type": "code",
   "execution_count": 358,
   "id": "f483e6bd-17c7-4cd0-b919-b4c270b70d96",
   "metadata": {},
   "outputs": [
    {
     "data": {
      "text/plain": [
       "1"
      ]
     },
     "execution_count": 358,
     "metadata": {},
     "output_type": "execute_result"
    }
   ],
   "source": [
    "math.trunc(num1)"
   ]
  },
  {
   "cell_type": "code",
   "execution_count": 359,
   "id": "6ac23f1d-e85b-480a-a0db-672e496d41e8",
   "metadata": {},
   "outputs": [
    {
     "data": {
      "text/plain": [
       "1"
      ]
     },
     "execution_count": 359,
     "metadata": {},
     "output_type": "execute_result"
    }
   ],
   "source": [
    "math.floor(num1)"
   ]
  },
  {
   "cell_type": "code",
   "execution_count": 360,
   "id": "af4fd511-c1cf-41fc-a6fa-458256b13763",
   "metadata": {},
   "outputs": [
    {
     "data": {
      "text/plain": [
       "2"
      ]
     },
     "execution_count": 360,
     "metadata": {},
     "output_type": "execute_result"
    }
   ],
   "source": [
    "math.ceil(num1)"
   ]
  },
  {
   "cell_type": "code",
   "execution_count": 361,
   "id": "3b6da34d-b8b5-49f0-a3e5-08204be3b26c",
   "metadata": {},
   "outputs": [
    {
     "data": {
      "text/plain": [
       "Fraction(69, 50)"
      ]
     },
     "execution_count": 361,
     "metadata": {},
     "output_type": "execute_result"
    }
   ],
   "source": [
    "round(num1, ndigits=2)"
   ]
  },
  {
   "cell_type": "code",
   "execution_count": 362,
   "id": "bf8b76cd-2341-4e44-bbe1-16e4f89af238",
   "metadata": {},
   "outputs": [],
   "source": [
    "num1 = Fraction(numerator=3, denominator=4)"
   ]
  },
  {
   "cell_type": "code",
   "execution_count": 363,
   "id": "549832ba-7666-44df-a00f-ecc073c2f2e3",
   "metadata": {},
   "outputs": [],
   "source": [
    "num2 = Fraction(numerator=1, denominator=8)"
   ]
  },
  {
   "cell_type": "code",
   "execution_count": 364,
   "id": "4e9b7f5f-3742-4fb5-a008-b5fdbb703707",
   "metadata": {},
   "outputs": [
    {
     "data": {
      "text/plain": [
       "Fraction(3, 32)"
      ]
     },
     "execution_count": 364,
     "metadata": {},
     "output_type": "execute_result"
    }
   ],
   "source": [
    "num1 * num2"
   ]
  },
  {
   "cell_type": "code",
   "execution_count": 365,
   "id": "8fe1b635-5af7-4db5-83a7-8765b0284768",
   "metadata": {},
   "outputs": [
    {
     "data": {
      "text/plain": [
       "Fraction(6, 1)"
      ]
     },
     "execution_count": 365,
     "metadata": {},
     "output_type": "execute_result"
    }
   ],
   "source": [
    "num1 / num2"
   ]
  },
  {
   "cell_type": "code",
   "execution_count": 366,
   "id": "813bec77-6d73-414b-8f71-ad486cb0463a",
   "metadata": {},
   "outputs": [
    {
     "data": {
      "text/plain": [
       "Fraction(1, 6)"
      ]
     },
     "execution_count": 366,
     "metadata": {},
     "output_type": "execute_result"
    }
   ],
   "source": [
    "num2 / num1"
   ]
  },
  {
   "cell_type": "code",
   "execution_count": 367,
   "id": "bc840f01-4ac7-47b6-8a74-075de8470948",
   "metadata": {},
   "outputs": [
    {
     "data": {
      "text/plain": [
       "0"
      ]
     },
     "execution_count": 367,
     "metadata": {},
     "output_type": "execute_result"
    }
   ],
   "source": [
    "num2 // num1"
   ]
  },
  {
   "cell_type": "code",
   "execution_count": 368,
   "id": "49b4885d-07b0-4e74-9300-895ad76299e4",
   "metadata": {},
   "outputs": [
    {
     "data": {
      "text/plain": [
       "Fraction(1, 8)"
      ]
     },
     "execution_count": 368,
     "metadata": {},
     "output_type": "execute_result"
    }
   ],
   "source": [
    "num2 % num1"
   ]
  },
  {
   "cell_type": "code",
   "execution_count": 369,
   "id": "c447c1a9-5e7f-456a-ae3f-4bc80fa132f4",
   "metadata": {},
   "outputs": [
    {
     "data": {
      "text/plain": [
       "(0, Fraction(1, 8))"
      ]
     },
     "execution_count": 369,
     "metadata": {},
     "output_type": "execute_result"
    }
   ],
   "source": [
    "divmod(num2, num1)"
   ]
  },
  {
   "cell_type": "code",
   "execution_count": 372,
   "id": "89ccdf2f-de55-4de8-89e2-8d7407cf82d3",
   "metadata": {},
   "outputs": [],
   "source": [
    "num1 = Fraction(numerator=1, denominator=4)"
   ]
  },
  {
   "cell_type": "code",
   "execution_count": 373,
   "id": "1f1d50fa-019d-4d42-ac79-7927bcc9c179",
   "metadata": {},
   "outputs": [],
   "source": [
    "num2 = Fraction(numerator=3, denominator=2)"
   ]
  },
  {
   "cell_type": "code",
   "execution_count": 374,
   "id": "c4f76824-54e2-4029-becd-fb0c8e4d0d40",
   "metadata": {},
   "outputs": [
    {
     "data": {
      "text/plain": [
       "0.125"
      ]
     },
     "execution_count": 374,
     "metadata": {},
     "output_type": "execute_result"
    }
   ],
   "source": [
    "num1 ** num2"
   ]
  },
  {
   "cell_type": "code",
   "execution_count": 376,
   "id": "9a32bbab-dbb2-46df-a086-88cbbfd89e2e",
   "metadata": {},
   "outputs": [
    {
     "data": {
      "text/plain": [
       "Fraction(3, 4)"
      ]
     },
     "execution_count": 376,
     "metadata": {},
     "output_type": "execute_result"
    }
   ],
   "source": [
    "num1 = Fraction(numerator=3, denominator=4)\n",
    "num1"
   ]
  },
  {
   "cell_type": "code",
   "execution_count": 377,
   "id": "68613bfa-8c70-487a-b826-c79116a27265",
   "metadata": {},
   "outputs": [
    {
     "data": {
      "text/plain": [
       "Fraction(1, 8)"
      ]
     },
     "execution_count": 377,
     "metadata": {},
     "output_type": "execute_result"
    }
   ],
   "source": [
    "num2 = Fraction(numerator=1, denominator=8)\n",
    "num2"
   ]
  },
  {
   "cell_type": "code",
   "execution_count": 378,
   "id": "95e3fef1-d2eb-4810-b7c1-9d36d75699c4",
   "metadata": {},
   "outputs": [
    {
     "data": {
      "text/plain": [
       "Fraction(6, 8)"
      ]
     },
     "execution_count": 378,
     "metadata": {},
     "output_type": "execute_result"
    }
   ],
   "source": [
    "num1 = Fraction(numerator=6, denominator=8, _normalize=False)\n",
    "num1"
   ]
  },
  {
   "cell_type": "code",
   "execution_count": 379,
   "id": "beab5026-699a-4949-b8c5-89b953ee533a",
   "metadata": {},
   "outputs": [
    {
     "data": {
      "text/plain": [
       "Fraction(7, 8)"
      ]
     },
     "execution_count": 379,
     "metadata": {},
     "output_type": "execute_result"
    }
   ],
   "source": [
    "num1 + num2"
   ]
  },
  {
   "cell_type": "code",
   "execution_count": 380,
   "id": "59118907-5a4e-42c6-9832-54542649df00",
   "metadata": {},
   "outputs": [
    {
     "data": {
      "text/plain": [
       "Fraction(5, 8)"
      ]
     },
     "execution_count": 380,
     "metadata": {},
     "output_type": "execute_result"
    }
   ],
   "source": [
    "num1 - num2"
   ]
  },
  {
   "cell_type": "code",
   "execution_count": 381,
   "id": "3942a5b4-7b07-44ad-a88b-8b885068c1dc",
   "metadata": {},
   "outputs": [
    {
     "data": {
      "text/plain": [
       "Fraction(1, 10)"
      ]
     },
     "execution_count": 381,
     "metadata": {},
     "output_type": "execute_result"
    }
   ],
   "source": [
    "num1 = Fraction(numerator=1, denominator=10)\n",
    "num1"
   ]
  },
  {
   "cell_type": "code",
   "execution_count": 382,
   "id": "ad5188c1-8f10-4356-a79f-91f64ef24046",
   "metadata": {},
   "outputs": [
    {
     "data": {
      "text/plain": [
       "Fraction(1, 5)"
      ]
     },
     "execution_count": 382,
     "metadata": {},
     "output_type": "execute_result"
    }
   ],
   "source": [
    "num2 = Fraction(numerator=2, denominator=10)\n",
    "num2"
   ]
  },
  {
   "cell_type": "code",
   "execution_count": 383,
   "id": "9447c60b-48e7-4707-857b-9a62f98efa61",
   "metadata": {},
   "outputs": [
    {
     "data": {
      "text/plain": [
       "Fraction(3, 10)"
      ]
     },
     "execution_count": 383,
     "metadata": {},
     "output_type": "execute_result"
    }
   ],
   "source": [
    "num3 = Fraction(numerator=3, denominator=10)\n",
    "num3"
   ]
  },
  {
   "cell_type": "code",
   "execution_count": 384,
   "id": "3be8cc60-04dd-4fa0-9a63-9278df65f2e5",
   "metadata": {},
   "outputs": [
    {
     "data": {
      "text/plain": [
       "True"
      ]
     },
     "execution_count": 384,
     "metadata": {},
     "output_type": "execute_result"
    }
   ],
   "source": [
    "num3 == num1 + num2"
   ]
  },
  {
   "cell_type": "code",
   "execution_count": 385,
   "id": "2fef00ef-4fba-429e-acc8-2221ceabda72",
   "metadata": {},
   "outputs": [
    {
     "data": {
      "text/plain": [
       "False"
      ]
     },
     "execution_count": 385,
     "metadata": {},
     "output_type": "execute_result"
    }
   ],
   "source": [
    "num3 != num1 + num2"
   ]
  },
  {
   "cell_type": "code",
   "execution_count": 386,
   "id": "a8c69fd6-8c24-4d6e-b950-d667d1809f78",
   "metadata": {},
   "outputs": [
    {
     "data": {
      "text/plain": [
       "False"
      ]
     },
     "execution_count": 386,
     "metadata": {},
     "output_type": "execute_result"
    }
   ],
   "source": [
    "float(num3) == float(num1) + float(num2)"
   ]
  },
  {
   "cell_type": "code",
   "execution_count": null,
   "id": "e89d6d74-672c-40b1-a4e7-5c50a3eb26ab",
   "metadata": {},
   "outputs": [],
   "source": []
  }
 ],
 "metadata": {
  "kernelspec": {
   "display_name": "Python 3 (ipykernel)",
   "language": "python",
   "name": "python3"
  },
  "language_info": {
   "codemirror_mode": {
    "name": "ipython",
    "version": 3
   },
   "file_extension": ".py",
   "mimetype": "text/x-python",
   "name": "python",
   "nbconvert_exporter": "python",
   "pygments_lexer": "ipython3",
   "version": "3.11.0"
  }
 },
 "nbformat": 4,
 "nbformat_minor": 5
}
