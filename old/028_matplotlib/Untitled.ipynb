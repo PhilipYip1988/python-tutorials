{
 "cells": [
  {
   "cell_type": "code",
   "execution_count": null,
   "id": "e804d0dd-eb66-4105-95f3-d9309134ec2d",
   "metadata": {},
   "outputs": [],
   "source": [
    "# install miktek using the standalone windows installer\n",
    "# after installation open up the miktek console and select search for updates\n",
    "# after installation open up the mambaforge prompt\n",
    "# mamba activate jupyterlab\n",
    "# pdflatex\n",
    "# c"
   ]
  },
  {
   "cell_type": "code",
   "execution_count": 1,
   "id": "b6c7cde1-5b3c-46da-a905-bb42389cf9a6",
   "metadata": {},
   "outputs": [],
   "source": [
    "import numpy as np\n",
    "import pandas as pd\n",
    "import matplotlib.pyplot as plt\n",
    "import seaborn as sns"
   ]
  },
  {
   "cell_type": "code",
   "execution_count": 2,
   "id": "1f0b6c6e-5942-4209-9b5d-54a16ceea1fd",
   "metadata": {},
   "outputs": [
    {
     "name": "stdout",
     "output_type": "stream",
     "text": [
      "Available matplotlib backends: ['tk', 'gtk', 'gtk3', 'gtk4', 'wx', 'qt4', 'qt5', 'qt6', 'qt', 'osx', 'nbagg', 'webagg', 'notebook', 'agg', 'svg', 'pdf', 'ps', 'inline', 'ipympl', 'widget']\n"
     ]
    }
   ],
   "source": [
    "%matplotlib --list"
   ]
  },
  {
   "cell_type": "code",
   "execution_count": 3,
   "id": "8b2773be-640d-473b-ac1f-6e48292cf700",
   "metadata": {},
   "outputs": [],
   "source": [
    "#%matplotlib inline"
   ]
  },
  {
   "cell_type": "code",
   "execution_count": 4,
   "id": "122c1984-3c8d-4cc9-a856-f97ce303d3cf",
   "metadata": {},
   "outputs": [],
   "source": [
    "#%matplotlib ipympl"
   ]
  },
  {
   "cell_type": "code",
   "execution_count": 5,
   "id": "d7c485a5-7cc5-4efe-bdb0-a531a25338e0",
   "metadata": {},
   "outputs": [],
   "source": [
    "%matplotlib qt5"
   ]
  },
  {
   "cell_type": "code",
   "execution_count": 6,
   "id": "0d79eee6-0c8e-48b1-a84f-01eb56d7c976",
   "metadata": {},
   "outputs": [],
   "source": [
    "plt.rcParams['text.usetex'] = True\n",
    "plt.rcParams['text.latex.preamble'] = r'\\usepackage{{amsmath}}'"
   ]
  },
  {
   "cell_type": "code",
   "execution_count": 7,
   "id": "1484b434-a1b0-4294-9531-85ecab36f83d",
   "metadata": {},
   "outputs": [],
   "source": [
    "plt.figure(1)\n",
    "plt.plot([1, 2, 3, 4, 5], [2, 4, 6, 8, 10], label=r'$\\left(\\frac{a}{b}\\right)$')\n",
    "plt.xlabel(r'$(\\frac{a}{b})$')\n",
    "plt.ylabel(r'$(\\frac{a}{b})$')\n",
    "plt.title(r'$(\\frac{a}{b})$')\n",
    "plt.legend();"
   ]
  },
  {
   "cell_type": "code",
   "execution_count": 8,
   "id": "48387366-e583-4b71-a7d0-6e9f600067b3",
   "metadata": {},
   "outputs": [],
   "source": [
    "plt.figure(2)\n",
    "plt.plot([1, 2, 3, 4, 5], [2, 4, 6, 8, 10], label=r'$\\left(\\frac{a}{b}\\right)$')\n",
    "plt.xlabel(r'$(\\frac{a}{b})$')\n",
    "plt.ylabel(r'$(\\frac{a}{b})$')\n",
    "plt.title(r'$(\\frac{a}{b})$')\n",
    "plt.legend()\n",
    "plt.tight_layout();"
   ]
  },
  {
   "cell_type": "code",
   "execution_count": 9,
   "id": "08e63ec9-67c3-4177-9034-64629e6bc18f",
   "metadata": {},
   "outputs": [],
   "source": [
    "def latex_plot(num=1, latex=r'$\\left(\\frac{a}{b}\\right)$'):\n",
    "    plt.figure(num)\n",
    "    plt.plot([1, 2, 3, 4, 5], [2, 4, 6, 8, 10], label=latex)\n",
    "    plt.xlabel(latex)\n",
    "    plt.ylabel(latex)\n",
    "    plt.title(latex)\n",
    "    plt.legend()\n",
    "    plt.tight_layout();"
   ]
  },
  {
   "cell_type": "code",
   "execution_count": 10,
   "id": "1703d068-7657-445a-bd56-4851f224c0e2",
   "metadata": {},
   "outputs": [],
   "source": [
    "# inline fraction\n",
    "latex_plot(num=3, latex=r'$(\\frac{a}{b})$')"
   ]
  },
  {
   "cell_type": "code",
   "execution_count": 11,
   "id": "14d5c51e-94d8-4c56-ad2a-e519b3e8060a",
   "metadata": {},
   "outputs": [],
   "source": [
    "# display fraction\n",
    "latex_plot(num=4, latex=r'$$(\\frac{a}{b})$$')"
   ]
  },
  {
   "cell_type": "code",
   "execution_count": 12,
   "id": "dd0543c1-1e08-4b63-99b2-32bedc582276",
   "metadata": {},
   "outputs": [],
   "source": [
    "# display fraction\n",
    "latex_plot(num=5, latex=r'$$\\left(\\frac{a}{b}\\right)$$')"
   ]
  },
  {
   "cell_type": "code",
   "execution_count": 13,
   "id": "9fcf1d7c-c160-4785-9313-753e20ee8f2b",
   "metadata": {},
   "outputs": [],
   "source": [
    "# inline sum\n",
    "latex_plot(num=6, latex=r'$\\sum_{\\text{lower}}^{\\text{upper}}x$')"
   ]
  },
  {
   "cell_type": "code",
   "execution_count": 14,
   "id": "37f48d6c-73e5-4424-8728-3968094f2e32",
   "metadata": {},
   "outputs": [],
   "source": [
    "# display sum\n",
    "latex_plot(num=7, latex=r'$$\\sum_{\\text{lower}}^{\\text{upper}}x$$')"
   ]
  },
  {
   "cell_type": "code",
   "execution_count": 15,
   "id": "9cbff0a7-c9c7-45d0-bf6e-c587b2cb8fed",
   "metadata": {},
   "outputs": [],
   "source": [
    "# inline matrix\n",
    "latex_plot(num=8, latex=r'$\\begin{bmatrix} a & b & c \\\\ d & e & f \\\\ g & h & i \\\\ \\end{bmatrix}$')"
   ]
  },
  {
   "cell_type": "code",
   "execution_count": 16,
   "id": "99cf487a-97f9-49d7-a8d7-3f1817f2ff3b",
   "metadata": {},
   "outputs": [],
   "source": [
    "# display matrix\n",
    "latex_plot(num=9, latex=r'$$\\begin{bmatrix} a & b & c \\\\ d & e & f \\\\ g & h & i \\\\ \\end{bmatrix}$$')"
   ]
  },
  {
   "cell_type": "code",
   "execution_count": null,
   "id": "80116175-1a3d-440d-942b-705c52cd7e5a",
   "metadata": {},
   "outputs": [],
   "source": []
  }
 ],
 "metadata": {
  "kernelspec": {
   "display_name": "Python 3 (ipykernel)",
   "language": "python",
   "name": "python3"
  },
  "language_info": {
   "codemirror_mode": {
    "name": "ipython",
    "version": 3
   },
   "file_extension": ".py",
   "mimetype": "text/x-python",
   "name": "python",
   "nbconvert_exporter": "python",
   "pygments_lexer": "ipython3",
   "version": "3.11.0"
  }
 },
 "nbformat": 4,
 "nbformat_minor": 5
}
