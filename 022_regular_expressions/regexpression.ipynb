{
 "cells": [
  {
   "cell_type": "code",
   "execution_count": 70,
   "id": "722f5bc8-7496-4479-969b-fd39ebac6f9b",
   "metadata": {
    "tags": []
   },
   "outputs": [],
   "source": [
    "import re"
   ]
  },
  {
   "cell_type": "markdown",
   "id": "34fd4b0a-40d7-4582-a51d-5bccf3e4be1d",
   "metadata": {},
   "source": [
    "# Pattern"
   ]
  },
  {
   "cell_type": "markdown",
   "id": "f2ffc6cc-90ad-425f-b94b-a8a8026ab111",
   "metadata": {},
   "source": [
    "The pattern uses a ```\\``` for insertion of an escape character and as a consequence raw strings are preferred ```r''```:\n",
    "\n",
    "```\\w``` represents word\n",
    "\n",
    "```\\d``` represents digit\n",
    "\n",
    "The pattern uses braces ```{ }``` to enclose the number of characters that is a word or digit."
   ]
  },
  {
   "cell_type": "markdown",
   "id": "d9d34de0-d680-49db-a000-8037c4054110",
   "metadata": {},
   "source": [
    "# Search"
   ]
  },
  {
   "cell_type": "code",
   "execution_count": 88,
   "id": "4ba36b4e-7736-43dd-8f95-4383364c35ff",
   "metadata": {
    "tags": []
   },
   "outputs": [],
   "source": [
    "string = 'abcd 1234 efgh 5678'"
   ]
  },
  {
   "cell_type": "code",
   "execution_count": 89,
   "id": "75387e29-c5a2-41ac-8eaa-2b0d6f279e5a",
   "metadata": {
    "tags": []
   },
   "outputs": [],
   "source": [
    "pattern = r'\\d{4}' #4 consecutive digits"
   ]
  },
  {
   "cell_type": "code",
   "execution_count": 91,
   "id": "f0c49885-3c1f-4b0a-99b1-b3ddd8cd64a3",
   "metadata": {
    "tags": []
   },
   "outputs": [
    {
     "data": {
      "text/plain": [
       "<re.Match object; span=(5, 9), match='1234'>"
      ]
     },
     "execution_count": 91,
     "metadata": {},
     "output_type": "execute_result"
    }
   ],
   "source": [
    "re.search(pattern, string) #1st occurance only\n",
    "# span is an index slice"
   ]
  },
  {
   "cell_type": "code",
   "execution_count": 92,
   "id": "33329882-b2b9-4d99-81fe-d80de8a383d3",
   "metadata": {
    "tags": []
   },
   "outputs": [
    {
     "data": {
      "text/plain": [
       "'1234'"
      ]
     },
     "execution_count": 92,
     "metadata": {},
     "output_type": "execute_result"
    }
   ],
   "source": [
    "string[5:9]"
   ]
  },
  {
   "cell_type": "code",
   "execution_count": 102,
   "id": "a7d2e5ac-abd9-49cf-8007-75413849dfd3",
   "metadata": {
    "tags": []
   },
   "outputs": [],
   "source": [
    "pattern = r'\\w{4}'"
   ]
  },
  {
   "cell_type": "code",
   "execution_count": 103,
   "id": "22f13909-72ba-429a-86aa-0228045dd994",
   "metadata": {
    "tags": []
   },
   "outputs": [
    {
     "data": {
      "text/plain": [
       "<re.Match object; span=(0, 4), match='abcd'>"
      ]
     },
     "execution_count": 103,
     "metadata": {},
     "output_type": "execute_result"
    }
   ],
   "source": [
    "re.search(pattern, string) #1st occurance only\n",
    "# span is an index slice"
   ]
  },
  {
   "cell_type": "code",
   "execution_count": 104,
   "id": "a4f5fa50-ff41-4647-9763-e166942e854c",
   "metadata": {
    "tags": []
   },
   "outputs": [
    {
     "data": {
      "text/plain": [
       "'abcd'"
      ]
     },
     "execution_count": 104,
     "metadata": {},
     "output_type": "execute_result"
    }
   ],
   "source": [
    "string[0:4]"
   ]
  },
  {
   "cell_type": "code",
   "execution_count": 105,
   "id": "67e29f9a-143d-4c0c-b27a-de595b813d57",
   "metadata": {
    "tags": []
   },
   "outputs": [],
   "source": [
    "pattern = r'\\d{4} \\w{4}'"
   ]
  },
  {
   "cell_type": "code",
   "execution_count": 106,
   "id": "957e156c-3bfe-45dc-9de6-cce4f77c5ba4",
   "metadata": {
    "tags": []
   },
   "outputs": [
    {
     "data": {
      "text/plain": [
       "<re.Match object; span=(5, 14), match='1234 efgh'>"
      ]
     },
     "execution_count": 106,
     "metadata": {},
     "output_type": "execute_result"
    }
   ],
   "source": [
    "re.search(pattern, string) #1st occurance only\n",
    "# span is an index slice"
   ]
  },
  {
   "cell_type": "code",
   "execution_count": 107,
   "id": "57e661da-b0fc-4922-871a-1cbe412503e0",
   "metadata": {
    "tags": []
   },
   "outputs": [
    {
     "data": {
      "text/plain": [
       "'1234 efgh'"
      ]
     },
     "execution_count": 107,
     "metadata": {},
     "output_type": "execute_result"
    }
   ],
   "source": [
    "string[5:14]"
   ]
  },
  {
   "cell_type": "markdown",
   "id": "956366d0-1f87-4dc2-99a3-08bde8d6a3f2",
   "metadata": {},
   "source": [
    "# Findall"
   ]
  },
  {
   "cell_type": "code",
   "execution_count": 93,
   "id": "011dc0e6-d54c-49a8-b6aa-5801f27d0a12",
   "metadata": {
    "tags": []
   },
   "outputs": [],
   "source": [
    "string = 'abcd 1234 efgh 5678'"
   ]
  },
  {
   "cell_type": "code",
   "execution_count": 94,
   "id": "8080140d-9f7e-4622-8340-b43a08b2a48c",
   "metadata": {
    "tags": []
   },
   "outputs": [],
   "source": [
    "pattern = r'\\d{4}' #4 consecutive digits"
   ]
  },
  {
   "cell_type": "code",
   "execution_count": 95,
   "id": "1382981a-43eb-4cd2-901d-7596c80e2446",
   "metadata": {
    "tags": []
   },
   "outputs": [
    {
     "data": {
      "text/plain": [
       "['1234', '5678']"
      ]
     },
     "execution_count": 95,
     "metadata": {},
     "output_type": "execute_result"
    }
   ],
   "source": [
    "re.findall(pattern, string)"
   ]
  },
  {
   "cell_type": "markdown",
   "id": "cb4b6484-7d73-49d7-8f3f-1948a59503c7",
   "metadata": {},
   "source": [
    "# Match"
   ]
  },
  {
   "cell_type": "markdown",
   "id": "a72ddc66-6a94-4f29-9210-493ae006bef1",
   "metadata": {},
   "source": [
    "Searches at the beginning of the string only."
   ]
  },
  {
   "cell_type": "code",
   "execution_count": 97,
   "id": "258c2c7e-2209-4cbb-9739-2df6dfc55883",
   "metadata": {
    "tags": []
   },
   "outputs": [],
   "source": [
    "string = 'abcd 1234 efgh 5678'"
   ]
  },
  {
   "cell_type": "code",
   "execution_count": 98,
   "id": "6bae4c9f-5542-4c50-9c8f-4023c3f7717f",
   "metadata": {
    "tags": []
   },
   "outputs": [],
   "source": [
    "pattern = r'\\w{4}'"
   ]
  },
  {
   "cell_type": "code",
   "execution_count": 99,
   "id": "38d57818-26a0-4ee1-ad0b-ed5b9c0ad30b",
   "metadata": {
    "tags": []
   },
   "outputs": [
    {
     "data": {
      "text/plain": [
       "<re.Match object; span=(0, 4), match='abcd'>"
      ]
     },
     "execution_count": 99,
     "metadata": {},
     "output_type": "execute_result"
    }
   ],
   "source": [
    "re.match(pattern, string)"
   ]
  },
  {
   "cell_type": "code",
   "execution_count": 100,
   "id": "762f2cec-62b8-4021-952f-263d4a189c0b",
   "metadata": {
    "tags": []
   },
   "outputs": [],
   "source": [
    "pattern = r'\\d{4}'"
   ]
  },
  {
   "cell_type": "code",
   "execution_count": 101,
   "id": "3759baf7-ba99-4980-a8fe-d378f7e7af3b",
   "metadata": {
    "tags": []
   },
   "outputs": [],
   "source": [
    "re.match(pattern, string)"
   ]
  },
  {
   "cell_type": "code",
   "execution_count": null,
   "id": "ef87b7f1-c9c2-4fce-a0d7-3ea565420a3c",
   "metadata": {},
   "outputs": [],
   "source": []
  }
 ],
 "metadata": {
  "kernelspec": {
   "display_name": "Python 3 (ipykernel)",
   "language": "python",
   "name": "python3"
  },
  "language_info": {
   "codemirror_mode": {
    "name": "ipython",
    "version": 3
   },
   "file_extension": ".py",
   "mimetype": "text/x-python",
   "name": "python",
   "nbconvert_exporter": "python",
   "pygments_lexer": "ipython3",
   "version": "3.11.3"
  }
 },
 "nbformat": 4,
 "nbformat_minor": 5
}
