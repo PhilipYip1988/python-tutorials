{
 "cells": [
  {
   "cell_type": "code",
   "execution_count": 1,
   "id": "f81aea12-7bba-4a43-8c22-b41433c7cf82",
   "metadata": {},
   "outputs": [],
   "source": [
    "import statistics as st"
   ]
  },
  {
   "cell_type": "code",
   "execution_count": 2,
   "id": "cfa943de-39b4-4ae4-abbb-ece9f6249ba1",
   "metadata": {},
   "outputs": [
    {
     "data": {
      "text/plain": [
       "\u001b[1;31mType:\u001b[0m        module\n",
       "\u001b[1;31mString form:\u001b[0m <module 'statistics' from 'C:\\\\Users\\\\Phili\\\\mambaforge\\\\envs\\\\jupyterlab\\\\Lib\\\\statistics.py'>\n",
       "\u001b[1;31mFile:\u001b[0m        c:\\users\\phili\\mambaforge\\envs\\jupyterlab\\lib\\statistics.py\n",
       "\u001b[1;31mDocstring:\u001b[0m  \n",
       "Basic statistics module.\n",
       "\n",
       "This module provides functions for calculating statistics of data, including\n",
       "averages, variance, and standard deviation.\n",
       "\n",
       "Calculating averages\n",
       "--------------------\n",
       "\n",
       "==================  ==================================================\n",
       "Function            Description\n",
       "==================  ==================================================\n",
       "mean                Arithmetic mean (average) of data.\n",
       "fmean               Fast, floating point arithmetic mean.\n",
       "geometric_mean      Geometric mean of data.\n",
       "harmonic_mean       Harmonic mean of data.\n",
       "median              Median (middle value) of data.\n",
       "median_low          Low median of data.\n",
       "median_high         High median of data.\n",
       "median_grouped      Median, or 50th percentile, of grouped data.\n",
       "mode                Mode (most common value) of data.\n",
       "multimode           List of modes (most common values of data).\n",
       "quantiles           Divide data into intervals with equal probability.\n",
       "==================  ==================================================\n",
       "\n",
       "Calculate the arithmetic mean (\"the average\") of data:\n",
       "\n",
       ">>> mean([-1.0, 2.5, 3.25, 5.75])\n",
       "2.625\n",
       "\n",
       "\n",
       "Calculate the standard median of discrete data:\n",
       "\n",
       ">>> median([2, 3, 4, 5])\n",
       "3.5\n",
       "\n",
       "\n",
       "Calculate the median, or 50th percentile, of data grouped into class intervals\n",
       "centred on the data values provided. E.g. if your data points are rounded to\n",
       "the nearest whole number:\n",
       "\n",
       ">>> median_grouped([2, 2, 3, 3, 3, 4])  #doctest: +ELLIPSIS\n",
       "2.8333333333...\n",
       "\n",
       "This should be interpreted in this way: you have two data points in the class\n",
       "interval 1.5-2.5, three data points in the class interval 2.5-3.5, and one in\n",
       "the class interval 3.5-4.5. The median of these data points is 2.8333...\n",
       "\n",
       "\n",
       "Calculating variability or spread\n",
       "---------------------------------\n",
       "\n",
       "==================  =============================================\n",
       "Function            Description\n",
       "==================  =============================================\n",
       "pvariance           Population variance of data.\n",
       "variance            Sample variance of data.\n",
       "pstdev              Population standard deviation of data.\n",
       "stdev               Sample standard deviation of data.\n",
       "==================  =============================================\n",
       "\n",
       "Calculate the standard deviation of sample data:\n",
       "\n",
       ">>> stdev([2.5, 3.25, 5.5, 11.25, 11.75])  #doctest: +ELLIPSIS\n",
       "4.38961843444...\n",
       "\n",
       "If you have previously calculated the mean, you can pass it as the optional\n",
       "second argument to the four \"spread\" functions to avoid recalculating it:\n",
       "\n",
       ">>> data = [1, 2, 2, 4, 4, 4, 5, 6]\n",
       ">>> mu = mean(data)\n",
       ">>> pvariance(data, mu)\n",
       "2.5\n",
       "\n",
       "\n",
       "Statistics for relations between two inputs\n",
       "-------------------------------------------\n",
       "\n",
       "==================  ====================================================\n",
       "Function            Description\n",
       "==================  ====================================================\n",
       "covariance          Sample covariance for two variables.\n",
       "correlation         Pearson's correlation coefficient for two variables.\n",
       "linear_regression   Intercept and slope for simple linear regression.\n",
       "==================  ====================================================\n",
       "\n",
       "Calculate covariance, Pearson's correlation, and simple linear regression\n",
       "for two inputs:\n",
       "\n",
       ">>> x = [1, 2, 3, 4, 5, 6, 7, 8, 9]\n",
       ">>> y = [1, 2, 3, 1, 2, 3, 1, 2, 3]\n",
       ">>> covariance(x, y)\n",
       "0.75\n",
       ">>> correlation(x, y)  #doctest: +ELLIPSIS\n",
       "0.31622776601...\n",
       ">>> linear_regression(x, y)  #doctest:\n",
       "LinearRegression(slope=0.1, intercept=1.5)\n",
       "\n",
       "\n",
       "Exceptions\n",
       "----------\n",
       "\n",
       "A single exception is defined: StatisticsError is a subclass of ValueError."
      ]
     },
     "metadata": {},
     "output_type": "display_data"
    }
   ],
   "source": [
    "? st"
   ]
  },
  {
   "cell_type": "code",
   "execution_count": 3,
   "id": "cf6fff0c-310b-46f9-a763-4fc5dd51e0ec",
   "metadata": {},
   "outputs": [],
   "source": [
    "data = [7, 5, 3, 1, 2, 4, 6, 4]"
   ]
  },
  {
   "cell_type": "code",
   "execution_count": 4,
   "id": "029d55d5-a8e3-4209-98b7-65364ebab063",
   "metadata": {},
   "outputs": [
    {
     "data": {
      "text/plain": [
       "[1, 2, 3, 4, 4, 5, 6, 7]"
      ]
     },
     "execution_count": 4,
     "metadata": {},
     "output_type": "execute_result"
    }
   ],
   "source": [
    "data.sort()\n",
    "data"
   ]
  },
  {
   "cell_type": "code",
   "execution_count": 5,
   "id": "1fda669b-dc5a-4c6f-bbaa-7efeb847907a",
   "metadata": {},
   "outputs": [
    {
     "data": {
      "text/plain": [
       "8"
      ]
     },
     "execution_count": 5,
     "metadata": {},
     "output_type": "execute_result"
    }
   ],
   "source": [
    "lendata = len(data)\n",
    "lendata"
   ]
  },
  {
   "cell_type": "code",
   "execution_count": 6,
   "id": "2dcaa712-fe97-48f6-8b1f-4fa096a0be02",
   "metadata": {},
   "outputs": [
    {
     "data": {
      "text/plain": [
       "32"
      ]
     },
     "execution_count": 6,
     "metadata": {},
     "output_type": "execute_result"
    }
   ],
   "source": [
    "sumdata = sum(data)\n",
    "sumdata"
   ]
  },
  {
   "cell_type": "code",
   "execution_count": 7,
   "id": "3b066973-b641-4e6e-9f9b-2407cbb54e8c",
   "metadata": {},
   "outputs": [
    {
     "data": {
      "text/plain": [
       "4"
      ]
     },
     "execution_count": 7,
     "metadata": {},
     "output_type": "execute_result"
    }
   ],
   "source": [
    "sum(data) // len(data)"
   ]
  },
  {
   "cell_type": "code",
   "execution_count": 8,
   "id": "f429d90d-3c23-45b9-96e9-b38e2425827d",
   "metadata": {},
   "outputs": [
    {
     "data": {
      "text/plain": [
       "0"
      ]
     },
     "execution_count": 8,
     "metadata": {},
     "output_type": "execute_result"
    }
   ],
   "source": [
    "sum(data) % len(data)"
   ]
  },
  {
   "cell_type": "code",
   "execution_count": 9,
   "id": "ca64d16d-1667-4b18-a067-a75e4f1d3f47",
   "metadata": {},
   "outputs": [
    {
     "data": {
      "text/plain": [
       "4.0"
      ]
     },
     "execution_count": 9,
     "metadata": {},
     "output_type": "execute_result"
    }
   ],
   "source": [
    "sum(data) / len(data)"
   ]
  },
  {
   "cell_type": "code",
   "execution_count": 10,
   "id": "56368a44-c4d0-4ffb-b842-bdd43db051a5",
   "metadata": {},
   "outputs": [
    {
     "data": {
      "text/plain": [
       "4"
      ]
     },
     "execution_count": 10,
     "metadata": {},
     "output_type": "execute_result"
    }
   ],
   "source": [
    "st.mean(data)"
   ]
  },
  {
   "cell_type": "code",
   "execution_count": 11,
   "id": "251e643f-a6a1-4a4e-a49f-fe478a254f08",
   "metadata": {},
   "outputs": [
    {
     "data": {
      "text/plain": [
       "4.0"
      ]
     },
     "execution_count": 11,
     "metadata": {},
     "output_type": "execute_result"
    }
   ],
   "source": [
    "st.fmean(data)"
   ]
  },
  {
   "cell_type": "code",
   "execution_count": 12,
   "id": "af2283eb-7c5a-4814-9aa8-24c8c18d2a95",
   "metadata": {},
   "outputs": [
    {
     "data": {
      "text/plain": [
       "4.0"
      ]
     },
     "execution_count": 12,
     "metadata": {},
     "output_type": "execute_result"
    }
   ],
   "source": [
    "st.median(data)"
   ]
  },
  {
   "cell_type": "code",
   "execution_count": 13,
   "id": "3f1de718-927b-48ef-9147-fc784bc9588d",
   "metadata": {},
   "outputs": [
    {
     "data": {
      "text/plain": [
       "4"
      ]
     },
     "execution_count": 13,
     "metadata": {},
     "output_type": "execute_result"
    }
   ],
   "source": [
    "st.median_low(data)"
   ]
  },
  {
   "cell_type": "code",
   "execution_count": 14,
   "id": "ad0455d7-c5f2-479c-bdaa-03006df70c86",
   "metadata": {},
   "outputs": [
    {
     "data": {
      "text/plain": [
       "4"
      ]
     },
     "execution_count": 14,
     "metadata": {},
     "output_type": "execute_result"
    }
   ],
   "source": [
    "st.median_high(data)"
   ]
  },
  {
   "cell_type": "code",
   "execution_count": 15,
   "id": "cbf2e9e4-8846-410e-8c8d-f8abec3ad5e6",
   "metadata": {},
   "outputs": [
    {
     "data": {
      "text/plain": [
       "4"
      ]
     },
     "execution_count": 15,
     "metadata": {},
     "output_type": "execute_result"
    }
   ],
   "source": [
    "st.mode(data)"
   ]
  },
  {
   "cell_type": "code",
   "execution_count": null,
   "id": "8cfb69d1-7cdd-4251-a5f1-d768fa5e2c9c",
   "metadata": {},
   "outputs": [],
   "source": []
  }
 ],
 "metadata": {
  "kernelspec": {
   "display_name": "Python 3 (ipykernel)",
   "language": "python",
   "name": "python3"
  },
  "language_info": {
   "codemirror_mode": {
    "name": "ipython",
    "version": 3
   },
   "file_extension": ".py",
   "mimetype": "text/x-python",
   "name": "python",
   "nbconvert_exporter": "python",
   "pygments_lexer": "ipython3",
   "version": "3.11.0"
  }
 },
 "nbformat": 4,
 "nbformat_minor": 5
}
