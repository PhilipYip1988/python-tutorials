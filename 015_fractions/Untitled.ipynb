{
 "cells": [
  {
   "cell_type": "code",
   "execution_count": 1,
   "id": "08a12072-5fce-4871-87f6-383207c6e4d3",
   "metadata": {},
   "outputs": [],
   "source": [
    "import fractions"
   ]
  },
  {
   "cell_type": "code",
   "execution_count": 2,
   "id": "effdb768-0cba-4413-b88d-fe3cc20fd82a",
   "metadata": {},
   "outputs": [],
   "source": [
    "from fractions import Fraction"
   ]
  },
  {
   "cell_type": "code",
   "execution_count": 3,
   "id": "ea2b33fe-f5b9-4ec8-9f05-f5af39751e14",
   "metadata": {},
   "outputs": [
    {
     "data": {
      "text/plain": [
       "Fraction(1, 2)"
      ]
     },
     "execution_count": 3,
     "metadata": {},
     "output_type": "execute_result"
    }
   ],
   "source": [
    "f2 = Fraction(numerator=4, denominator=8)\n",
    "f2"
   ]
  },
  {
   "cell_type": "code",
   "execution_count": 4,
   "id": "0fd3c75b-69d1-40f6-93cc-e3bc0d3cffc8",
   "metadata": {},
   "outputs": [
    {
     "data": {
      "text/plain": [
       "Fraction(4, 8)"
      ]
     },
     "execution_count": 4,
     "metadata": {},
     "output_type": "execute_result"
    }
   ],
   "source": [
    "f3 = Fraction(numerator=4, denominator=8, _normalize=False)\n",
    "f3"
   ]
  },
  {
   "cell_type": "code",
   "execution_count": 5,
   "id": "4cb0e5ed-e6c0-45cf-aebc-e8a73d4d4294",
   "metadata": {},
   "outputs": [
    {
     "data": {
      "text/plain": [
       "Fraction(7, 8)"
      ]
     },
     "execution_count": 5,
     "metadata": {},
     "output_type": "execute_result"
    }
   ],
   "source": [
    "f4 = Fraction(numerator='7/8')\n",
    "f4"
   ]
  },
  {
   "cell_type": "code",
   "execution_count": 6,
   "id": "e639ba63-e236-4a30-9c37-f3c4cf51c9d7",
   "metadata": {},
   "outputs": [
    {
     "data": {
      "text/plain": [
       "Fraction(1, 10)"
      ]
     },
     "execution_count": 6,
     "metadata": {},
     "output_type": "execute_result"
    }
   ],
   "source": [
    "from decimal import Decimal\n",
    "f6 = Fraction(numerator=Decimal('0.1'))\n",
    "f6"
   ]
  },
  {
   "cell_type": "code",
   "execution_count": 7,
   "id": "02fb4142-7f62-4163-b40f-229bd5282ba1",
   "metadata": {},
   "outputs": [
    {
     "data": {
      "text/plain": [
       "Fraction(1, 10)"
      ]
     },
     "execution_count": 7,
     "metadata": {},
     "output_type": "execute_result"
    }
   ],
   "source": [
    "f8 = Fraction(numerator='0.1')\n",
    "f8"
   ]
  },
  {
   "cell_type": "code",
   "execution_count": 8,
   "id": "e307a057-22a0-4572-9c87-8a76eaa5d538",
   "metadata": {},
   "outputs": [
    {
     "data": {
      "text/plain": [
       "Fraction(3333333333, 10000000000)"
      ]
     },
     "execution_count": 8,
     "metadata": {},
     "output_type": "execute_result"
    }
   ],
   "source": [
    "f9 = Fraction(numerator='0.3333333333')\n",
    "f9"
   ]
  },
  {
   "cell_type": "code",
   "execution_count": 9,
   "id": "52ab254e-a39a-49f2-83d0-e68a769a202e",
   "metadata": {},
   "outputs": [
    {
     "data": {
      "text/plain": [
       "Fraction(1, 3)"
      ]
     },
     "execution_count": 9,
     "metadata": {},
     "output_type": "execute_result"
    }
   ],
   "source": [
    "f9.limit_denominator(max_denominator=100)"
   ]
  },
  {
   "cell_type": "code",
   "execution_count": 10,
   "id": "124c71d3-5120-4fae-a94e-c2834cff7d7e",
   "metadata": {},
   "outputs": [
    {
     "data": {
      "text/plain": [
       "Fraction(3602879701896397, 36028797018963968)"
      ]
     },
     "execution_count": 10,
     "metadata": {},
     "output_type": "execute_result"
    }
   ],
   "source": [
    "f5 = Fraction(numerator=0.1)\n",
    "f5"
   ]
  },
  {
   "cell_type": "code",
   "execution_count": 11,
   "id": "847936b6-e87d-4b17-87ad-ff9e1291f309",
   "metadata": {},
   "outputs": [
    {
     "data": {
      "text/plain": [
       "Fraction(3602879701896397, 36028797018963968)"
      ]
     },
     "execution_count": 11,
     "metadata": {},
     "output_type": "execute_result"
    }
   ],
   "source": [
    "Fraction.from_float(0.1)"
   ]
  },
  {
   "cell_type": "code",
   "execution_count": 12,
   "id": "0f708112-80b8-44c3-a568-47773dff7330",
   "metadata": {},
   "outputs": [
    {
     "data": {
      "text/plain": [
       "Fraction(1, 10)"
      ]
     },
     "execution_count": 12,
     "metadata": {},
     "output_type": "execute_result"
    }
   ],
   "source": [
    "from fractions import Fraction, Decimal\n",
    "f7 = Fraction(numerator=Decimal('0.1'))\n",
    "f7"
   ]
  },
  {
   "cell_type": "code",
   "execution_count": 13,
   "id": "d263e653-9f69-4547-bdb2-64c715d11a35",
   "metadata": {},
   "outputs": [
    {
     "data": {
      "text/plain": [
       "Fraction(1, 10)"
      ]
     },
     "execution_count": 13,
     "metadata": {},
     "output_type": "execute_result"
    }
   ],
   "source": [
    "f7 = Fraction.from_decimal(Decimal('0.1'))\n",
    "f7"
   ]
  },
  {
   "cell_type": "code",
   "execution_count": 14,
   "id": "8e3d0476-5e3e-4672-b76d-f8dd27646df5",
   "metadata": {},
   "outputs": [],
   "source": [
    "whole = 2"
   ]
  },
  {
   "cell_type": "code",
   "execution_count": 15,
   "id": "f9e89f14-8dd3-4356-aa65-9b72893bb69c",
   "metadata": {},
   "outputs": [
    {
     "data": {
      "text/plain": [
       "Fraction(3, 8)"
      ]
     },
     "execution_count": 15,
     "metadata": {},
     "output_type": "execute_result"
    }
   ],
   "source": [
    "f1 = Fraction(numerator=3, denominator=8)\n",
    "f1"
   ]
  },
  {
   "cell_type": "code",
   "execution_count": 16,
   "id": "fed3ad69-bb2b-4023-b0cb-c5f441fc18d5",
   "metadata": {},
   "outputs": [
    {
     "data": {
      "text/plain": [
       "Fraction(3, 8)"
      ]
     },
     "execution_count": 16,
     "metadata": {},
     "output_type": "execute_result"
    }
   ],
   "source": [
    "f1"
   ]
  },
  {
   "cell_type": "code",
   "execution_count": 17,
   "id": "c53acd99-c426-48fb-9f67-c9497c79b9bf",
   "metadata": {},
   "outputs": [
    {
     "data": {
      "text/plain": [
       "3"
      ]
     },
     "execution_count": 17,
     "metadata": {},
     "output_type": "execute_result"
    }
   ],
   "source": [
    "f1.numerator"
   ]
  },
  {
   "cell_type": "code",
   "execution_count": 18,
   "id": "cd25c3db-8aa0-4340-8b8c-6a0a04c84785",
   "metadata": {},
   "outputs": [
    {
     "data": {
      "text/plain": [
       "8"
      ]
     },
     "execution_count": 18,
     "metadata": {},
     "output_type": "execute_result"
    }
   ],
   "source": [
    "f1.denominator"
   ]
  },
  {
   "cell_type": "code",
   "execution_count": 19,
   "id": "947e4895-0c31-4064-8168-a5ce6c8fe845",
   "metadata": {},
   "outputs": [
    {
     "data": {
      "text/plain": [
       "2"
      ]
     },
     "execution_count": 19,
     "metadata": {},
     "output_type": "execute_result"
    }
   ],
   "source": [
    "whole"
   ]
  },
  {
   "cell_type": "code",
   "execution_count": 20,
   "id": "56efdbe1-6dcf-43bb-9740-8acc6bef59f2",
   "metadata": {},
   "outputs": [
    {
     "data": {
      "text/plain": [
       "2"
      ]
     },
     "execution_count": 20,
     "metadata": {},
     "output_type": "execute_result"
    }
   ],
   "source": [
    "whole.numerator"
   ]
  },
  {
   "cell_type": "code",
   "execution_count": 21,
   "id": "6fc86b09-3249-4ba6-af47-0bfae52cdd80",
   "metadata": {},
   "outputs": [
    {
     "data": {
      "text/plain": [
       "1"
      ]
     },
     "execution_count": 21,
     "metadata": {},
     "output_type": "execute_result"
    }
   ],
   "source": [
    "whole.denominator"
   ]
  },
  {
   "cell_type": "code",
   "execution_count": 22,
   "id": "5629e7d4-8a12-4d11-906a-1d058878059c",
   "metadata": {},
   "outputs": [
    {
     "data": {
      "text/plain": [
       "(3, 8)"
      ]
     },
     "execution_count": 22,
     "metadata": {},
     "output_type": "execute_result"
    }
   ],
   "source": [
    "f1.as_integer_ratio()"
   ]
  },
  {
   "cell_type": "code",
   "execution_count": 23,
   "id": "1260c63b-d714-47fe-a9ff-f228fd77b3a0",
   "metadata": {},
   "outputs": [
    {
     "data": {
      "text/plain": [
       "(2, 1)"
      ]
     },
     "execution_count": 23,
     "metadata": {},
     "output_type": "execute_result"
    }
   ],
   "source": [
    "whole.as_integer_ratio()"
   ]
  },
  {
   "cell_type": "code",
   "execution_count": 24,
   "id": "03944aef-f22f-4621-872c-f0f538c8c1a7",
   "metadata": {},
   "outputs": [
    {
     "data": {
      "text/plain": [
       "Fraction(3, 8)"
      ]
     },
     "execution_count": 24,
     "metadata": {},
     "output_type": "execute_result"
    }
   ],
   "source": [
    "f1"
   ]
  },
  {
   "cell_type": "code",
   "execution_count": 25,
   "id": "283665eb-f9e9-4fdf-9196-a671bd79a8fb",
   "metadata": {},
   "outputs": [
    {
     "data": {
      "text/plain": [
       "Fraction(3, 8)"
      ]
     },
     "execution_count": 25,
     "metadata": {},
     "output_type": "execute_result"
    }
   ],
   "source": [
    "f1.real"
   ]
  },
  {
   "cell_type": "code",
   "execution_count": 26,
   "id": "dcd21345-36a1-409b-9d85-d9cf5d41814d",
   "metadata": {},
   "outputs": [
    {
     "data": {
      "text/plain": [
       "0"
      ]
     },
     "execution_count": 26,
     "metadata": {},
     "output_type": "execute_result"
    }
   ],
   "source": [
    "f1.imag"
   ]
  },
  {
   "cell_type": "code",
   "execution_count": 27,
   "id": "9dcdca8d-02da-415f-a0e1-8d2af130bf4a",
   "metadata": {},
   "outputs": [
    {
     "data": {
      "text/plain": [
       "Fraction(3, 8)"
      ]
     },
     "execution_count": 27,
     "metadata": {},
     "output_type": "execute_result"
    }
   ],
   "source": [
    "f1.conjugate()"
   ]
  },
  {
   "cell_type": "code",
   "execution_count": 28,
   "id": "5ebc2c68-fc17-4804-a75c-615524ed8a24",
   "metadata": {},
   "outputs": [
    {
     "data": {
      "text/plain": [
       "['__abs__',\n",
       " '__abstractmethods__',\n",
       " '__add__',\n",
       " '__bool__',\n",
       " '__ceil__',\n",
       " '__class__',\n",
       " '__complex__',\n",
       " '__copy__',\n",
       " '__deepcopy__',\n",
       " '__delattr__',\n",
       " '__dir__',\n",
       " '__divmod__',\n",
       " '__doc__',\n",
       " '__eq__',\n",
       " '__float__',\n",
       " '__floor__',\n",
       " '__floordiv__',\n",
       " '__format__',\n",
       " '__ge__',\n",
       " '__getattribute__',\n",
       " '__getstate__',\n",
       " '__gt__',\n",
       " '__hash__',\n",
       " '__init__',\n",
       " '__init_subclass__',\n",
       " '__int__',\n",
       " '__le__',\n",
       " '__lt__',\n",
       " '__mod__',\n",
       " '__module__',\n",
       " '__mul__',\n",
       " '__ne__',\n",
       " '__neg__',\n",
       " '__new__',\n",
       " '__pos__',\n",
       " '__pow__',\n",
       " '__radd__',\n",
       " '__rdivmod__',\n",
       " '__reduce__',\n",
       " '__reduce_ex__',\n",
       " '__repr__',\n",
       " '__rfloordiv__',\n",
       " '__rmod__',\n",
       " '__rmul__',\n",
       " '__round__',\n",
       " '__rpow__',\n",
       " '__rsub__',\n",
       " '__rtruediv__',\n",
       " '__setattr__',\n",
       " '__sizeof__',\n",
       " '__slots__',\n",
       " '__str__',\n",
       " '__sub__',\n",
       " '__subclasshook__',\n",
       " '__truediv__',\n",
       " '__trunc__',\n",
       " '_abc_impl',\n",
       " '_add',\n",
       " '_denominator',\n",
       " '_div',\n",
       " '_divmod',\n",
       " '_floordiv',\n",
       " '_mod',\n",
       " '_mul',\n",
       " '_numerator',\n",
       " '_operator_fallbacks',\n",
       " '_richcmp',\n",
       " '_sub',\n",
       " 'as_integer_ratio',\n",
       " 'conjugate',\n",
       " 'denominator',\n",
       " 'from_decimal',\n",
       " 'from_float',\n",
       " 'imag',\n",
       " 'limit_denominator',\n",
       " 'numerator',\n",
       " 'real']"
      ]
     },
     "execution_count": 28,
     "metadata": {},
     "output_type": "execute_result"
    }
   ],
   "source": [
    "dir(Fraction)"
   ]
  },
  {
   "cell_type": "code",
   "execution_count": 29,
   "id": "5a30cc9a-1e11-447f-8183-47e2f1edaa98",
   "metadata": {},
   "outputs": [
    {
     "data": {
      "text/plain": [
       "Fraction(3, 8)"
      ]
     },
     "execution_count": 29,
     "metadata": {},
     "output_type": "execute_result"
    }
   ],
   "source": [
    "f1"
   ]
  },
  {
   "cell_type": "code",
   "execution_count": 30,
   "id": "7b62f300-f64f-435d-a255-bebe0fda6643",
   "metadata": {},
   "outputs": [
    {
     "data": {
      "text/plain": [
       "Fraction(1, 2)"
      ]
     },
     "execution_count": 30,
     "metadata": {},
     "output_type": "execute_result"
    }
   ],
   "source": [
    "f2"
   ]
  },
  {
   "cell_type": "code",
   "execution_count": 31,
   "id": "12e2d00c-7c87-449a-a928-5b27adea53c4",
   "metadata": {},
   "outputs": [
    {
     "data": {
      "text/plain": [
       "2"
      ]
     },
     "execution_count": 31,
     "metadata": {},
     "output_type": "execute_result"
    }
   ],
   "source": [
    "whole"
   ]
  },
  {
   "cell_type": "code",
   "execution_count": 32,
   "id": "3eac0e4f-dc0a-4910-9e94-9a0e0e6e9a4c",
   "metadata": {},
   "outputs": [
    {
     "data": {
      "text/plain": [
       "'Fraction(3, 8)'"
      ]
     },
     "execution_count": 32,
     "metadata": {},
     "output_type": "execute_result"
    }
   ],
   "source": [
    "repr(f1)"
   ]
  },
  {
   "cell_type": "code",
   "execution_count": 33,
   "id": "7e5332b5-ceb3-462d-a265-9d68333e0104",
   "metadata": {},
   "outputs": [
    {
     "data": {
      "text/plain": [
       "Fraction(3, 8)"
      ]
     },
     "execution_count": 33,
     "metadata": {},
     "output_type": "execute_result"
    }
   ],
   "source": [
    "f1"
   ]
  },
  {
   "cell_type": "code",
   "execution_count": 34,
   "id": "f831f9a7-a462-4694-988c-616df0778432",
   "metadata": {},
   "outputs": [
    {
     "data": {
      "text/plain": [
       "'3/8'"
      ]
     },
     "execution_count": 34,
     "metadata": {},
     "output_type": "execute_result"
    }
   ],
   "source": [
    "str(f1)"
   ]
  },
  {
   "cell_type": "code",
   "execution_count": 35,
   "id": "e4891974-b523-4a90-b89d-f3255fd3a260",
   "metadata": {},
   "outputs": [
    {
     "name": "stdout",
     "output_type": "stream",
     "text": [
      "3/8\n"
     ]
    }
   ],
   "source": [
    "print(f1)"
   ]
  },
  {
   "cell_type": "code",
   "execution_count": 36,
   "id": "4e29473f-6f79-4db5-82a0-4a4936662ea0",
   "metadata": {},
   "outputs": [
    {
     "data": {
      "text/plain": [
       "Fraction(23, 8)"
      ]
     },
     "execution_count": 36,
     "metadata": {},
     "output_type": "execute_result"
    }
   ],
   "source": [
    "f1 + f2 + whole"
   ]
  },
  {
   "cell_type": "code",
   "execution_count": 37,
   "id": "7be26568-3ed0-4026-9279-0f19d19f7600",
   "metadata": {},
   "outputs": [
    {
     "data": {
      "text/plain": [
       "Fraction(15, 8)"
      ]
     },
     "execution_count": 37,
     "metadata": {},
     "output_type": "execute_result"
    }
   ],
   "source": [
    "f1 - f2 + whole"
   ]
  },
  {
   "cell_type": "code",
   "execution_count": 38,
   "id": "ee8108a2-98fc-49b2-b622-9b60bf3be294",
   "metadata": {},
   "outputs": [
    {
     "data": {
      "text/plain": [
       "Fraction(3, 8)"
      ]
     },
     "execution_count": 38,
     "metadata": {},
     "output_type": "execute_result"
    }
   ],
   "source": [
    "f1 * f2 * whole"
   ]
  },
  {
   "cell_type": "code",
   "execution_count": 39,
   "id": "e0e95fcd-6b94-4e8d-9659-ff4aa786d69f",
   "metadata": {},
   "outputs": [
    {
     "data": {
      "text/plain": [
       "Fraction(4, 3)"
      ]
     },
     "execution_count": 39,
     "metadata": {},
     "output_type": "execute_result"
    }
   ],
   "source": [
    "f2 / f1"
   ]
  },
  {
   "cell_type": "code",
   "execution_count": 40,
   "id": "e5a5f319-b8e7-438e-88b9-a728c49ba8db",
   "metadata": {},
   "outputs": [
    {
     "data": {
      "text/plain": [
       "1"
      ]
     },
     "execution_count": 40,
     "metadata": {},
     "output_type": "execute_result"
    }
   ],
   "source": [
    "f2 // f1"
   ]
  },
  {
   "cell_type": "code",
   "execution_count": 41,
   "id": "322bc9a0-26e6-4115-bafd-5254ccb0a935",
   "metadata": {},
   "outputs": [
    {
     "data": {
      "text/plain": [
       "Fraction(1, 8)"
      ]
     },
     "execution_count": 41,
     "metadata": {},
     "output_type": "execute_result"
    }
   ],
   "source": [
    "f2 % f1"
   ]
  },
  {
   "cell_type": "code",
   "execution_count": 42,
   "id": "a193e923-4560-4597-955b-7953a66f966b",
   "metadata": {},
   "outputs": [
    {
     "data": {
      "text/plain": [
       "(1, Fraction(1, 8))"
      ]
     },
     "execution_count": 42,
     "metadata": {},
     "output_type": "execute_result"
    }
   ],
   "source": [
    "divmod(f2, f1)"
   ]
  },
  {
   "cell_type": "code",
   "execution_count": 43,
   "id": "7fd8dca5-a40e-4e88-a4e3-3e3a073bc241",
   "metadata": {},
   "outputs": [
    {
     "data": {
      "text/plain": [
       "Fraction(9, 64)"
      ]
     },
     "execution_count": 43,
     "metadata": {},
     "output_type": "execute_result"
    }
   ],
   "source": [
    "f1 ** whole"
   ]
  },
  {
   "cell_type": "code",
   "execution_count": 44,
   "id": "0c16678a-0ff1-4386-8d11-7e1e0e636e37",
   "metadata": {},
   "outputs": [
    {
     "data": {
      "text/plain": [
       "Fraction(3, 8)"
      ]
     },
     "execution_count": 44,
     "metadata": {},
     "output_type": "execute_result"
    }
   ],
   "source": [
    "f1"
   ]
  },
  {
   "cell_type": "code",
   "execution_count": 45,
   "id": "3b3cb0b3-2a21-4a68-943d-288986998475",
   "metadata": {},
   "outputs": [
    {
     "data": {
      "text/plain": [
       "Fraction(3, 8)"
      ]
     },
     "execution_count": 45,
     "metadata": {},
     "output_type": "execute_result"
    }
   ],
   "source": [
    "+f1"
   ]
  },
  {
   "cell_type": "code",
   "execution_count": 46,
   "id": "39daad28-21c2-453b-9806-430291094503",
   "metadata": {},
   "outputs": [
    {
     "data": {
      "text/plain": [
       "Fraction(-3, 8)"
      ]
     },
     "execution_count": 46,
     "metadata": {},
     "output_type": "execute_result"
    }
   ],
   "source": [
    "-f1"
   ]
  },
  {
   "cell_type": "code",
   "execution_count": 47,
   "id": "2f41fa00-32ca-4e2b-bf25-48521a3229f5",
   "metadata": {},
   "outputs": [
    {
     "data": {
      "text/plain": [
       "Fraction(3, 8)"
      ]
     },
     "execution_count": 47,
     "metadata": {},
     "output_type": "execute_result"
    }
   ],
   "source": [
    "abs(-f1)"
   ]
  },
  {
   "cell_type": "code",
   "execution_count": 48,
   "id": "56b163c3-d3b3-465b-861d-7e601a5379e6",
   "metadata": {},
   "outputs": [
    {
     "data": {
      "text/plain": [
       "Fraction(3, 8)"
      ]
     },
     "execution_count": 48,
     "metadata": {},
     "output_type": "execute_result"
    }
   ],
   "source": [
    "f1"
   ]
  },
  {
   "cell_type": "code",
   "execution_count": 49,
   "id": "aa0dca5d-c728-40f2-9f30-a9a7cd1532dc",
   "metadata": {},
   "outputs": [
    {
     "data": {
      "text/plain": [
       "2"
      ]
     },
     "execution_count": 49,
     "metadata": {},
     "output_type": "execute_result"
    }
   ],
   "source": [
    "whole"
   ]
  },
  {
   "cell_type": "code",
   "execution_count": 50,
   "id": "b5e3a589-b0c3-4e1e-993e-bfca1535cd18",
   "metadata": {},
   "outputs": [
    {
     "data": {
      "text/plain": [
       "Fraction(19, 8)"
      ]
     },
     "execution_count": 50,
     "metadata": {},
     "output_type": "execute_result"
    }
   ],
   "source": [
    "f3 = f1 + whole\n",
    "f3"
   ]
  },
  {
   "cell_type": "code",
   "execution_count": 51,
   "id": "72352237-6adf-4615-bf60-4c980f0034a7",
   "metadata": {},
   "outputs": [
    {
     "data": {
      "text/plain": [
       "2"
      ]
     },
     "execution_count": 51,
     "metadata": {},
     "output_type": "execute_result"
    }
   ],
   "source": [
    "int(f3)"
   ]
  },
  {
   "cell_type": "code",
   "execution_count": 52,
   "id": "36e03ad5-e14e-45ff-8307-21f2b9fd2485",
   "metadata": {},
   "outputs": [
    {
     "data": {
      "text/plain": [
       "2.375"
      ]
     },
     "execution_count": 52,
     "metadata": {},
     "output_type": "execute_result"
    }
   ],
   "source": [
    "float(f3)"
   ]
  },
  {
   "cell_type": "code",
   "execution_count": 53,
   "id": "b78352c1-7406-4d7f-b999-b2b19fdb5c25",
   "metadata": {},
   "outputs": [],
   "source": [
    "from math import trunc, floor, ceil"
   ]
  },
  {
   "cell_type": "code",
   "execution_count": 54,
   "id": "c55d4392-7af7-4436-a240-0c22facbbac2",
   "metadata": {},
   "outputs": [
    {
     "data": {
      "text/plain": [
       "2"
      ]
     },
     "execution_count": 54,
     "metadata": {},
     "output_type": "execute_result"
    }
   ],
   "source": [
    "trunc(f3)"
   ]
  },
  {
   "cell_type": "code",
   "execution_count": 55,
   "id": "a196c7f8-3280-4e3c-9001-a523161bb431",
   "metadata": {},
   "outputs": [
    {
     "data": {
      "text/plain": [
       "-2"
      ]
     },
     "execution_count": 55,
     "metadata": {},
     "output_type": "execute_result"
    }
   ],
   "source": [
    "trunc(-f3)"
   ]
  },
  {
   "cell_type": "code",
   "execution_count": 56,
   "id": "80352957-13ab-40e6-abbe-a84b1c0ef315",
   "metadata": {},
   "outputs": [
    {
     "data": {
      "text/plain": [
       "2"
      ]
     },
     "execution_count": 56,
     "metadata": {},
     "output_type": "execute_result"
    }
   ],
   "source": [
    "floor(f3)"
   ]
  },
  {
   "cell_type": "code",
   "execution_count": 57,
   "id": "e6b42e52-eff8-4d2e-b2c5-cc8f0b6fb540",
   "metadata": {},
   "outputs": [
    {
     "data": {
      "text/plain": [
       "-3"
      ]
     },
     "execution_count": 57,
     "metadata": {},
     "output_type": "execute_result"
    }
   ],
   "source": [
    "floor(-f3)"
   ]
  },
  {
   "cell_type": "code",
   "execution_count": 58,
   "id": "223fd3f6-24a3-4d9e-ac10-557e9c683419",
   "metadata": {},
   "outputs": [
    {
     "data": {
      "text/plain": [
       "3"
      ]
     },
     "execution_count": 58,
     "metadata": {},
     "output_type": "execute_result"
    }
   ],
   "source": [
    "ceil(f3)"
   ]
  },
  {
   "cell_type": "code",
   "execution_count": 59,
   "id": "fc023368-218e-449b-beb9-48985731c7e2",
   "metadata": {},
   "outputs": [
    {
     "data": {
      "text/plain": [
       "-2"
      ]
     },
     "execution_count": 59,
     "metadata": {},
     "output_type": "execute_result"
    }
   ],
   "source": [
    "ceil(-f3)"
   ]
  },
  {
   "cell_type": "code",
   "execution_count": 60,
   "id": "dd78486d-cc3a-4404-b819-675408a9d8bc",
   "metadata": {},
   "outputs": [
    {
     "data": {
      "text/plain": [
       "Fraction(19, 8)"
      ]
     },
     "execution_count": 60,
     "metadata": {},
     "output_type": "execute_result"
    }
   ],
   "source": [
    "f3"
   ]
  },
  {
   "cell_type": "code",
   "execution_count": 61,
   "id": "9ea3a3f6-0e31-4c1f-a1d8-61700eb826da",
   "metadata": {},
   "outputs": [
    {
     "data": {
      "text/plain": [
       "2"
      ]
     },
     "execution_count": 61,
     "metadata": {},
     "output_type": "execute_result"
    }
   ],
   "source": [
    "round(f3)"
   ]
  },
  {
   "cell_type": "code",
   "execution_count": 62,
   "id": "9e808ce5-e1d7-49cc-a520-816db8a7fe53",
   "metadata": {},
   "outputs": [
    {
     "data": {
      "text/plain": [
       "Fraction(12, 5)"
      ]
     },
     "execution_count": 62,
     "metadata": {},
     "output_type": "execute_result"
    }
   ],
   "source": [
    "round(f3, ndigits=1)"
   ]
  },
  {
   "cell_type": "code",
   "execution_count": 63,
   "id": "4437e9d9-a275-445f-af43-b1ecc859f750",
   "metadata": {},
   "outputs": [
    {
     "data": {
      "text/plain": [
       "Fraction(119, 50)"
      ]
     },
     "execution_count": 63,
     "metadata": {},
     "output_type": "execute_result"
    }
   ],
   "source": [
    "round(f3, ndigits=2)"
   ]
  },
  {
   "cell_type": "code",
   "execution_count": 64,
   "id": "82a2829d-dde5-44d5-8183-f6beb3977283",
   "metadata": {},
   "outputs": [
    {
     "data": {
      "text/plain": [
       "Fraction(3, 8)"
      ]
     },
     "execution_count": 64,
     "metadata": {},
     "output_type": "execute_result"
    }
   ],
   "source": [
    "f1"
   ]
  },
  {
   "cell_type": "code",
   "execution_count": 65,
   "id": "e8095ef1-44ef-4059-bebb-561e3bde5f6d",
   "metadata": {},
   "outputs": [
    {
     "data": {
      "text/plain": [
       "Fraction(1, 2)"
      ]
     },
     "execution_count": 65,
     "metadata": {},
     "output_type": "execute_result"
    }
   ],
   "source": [
    "f2"
   ]
  },
  {
   "cell_type": "code",
   "execution_count": 66,
   "id": "03220515-af7c-4213-9c97-c4cec39742f5",
   "metadata": {},
   "outputs": [
    {
     "data": {
      "text/plain": [
       "2"
      ]
     },
     "execution_count": 66,
     "metadata": {},
     "output_type": "execute_result"
    }
   ],
   "source": [
    "whole"
   ]
  },
  {
   "cell_type": "code",
   "execution_count": 67,
   "id": "83361576-c683-4815-9e79-ed7dc15f5dc1",
   "metadata": {},
   "outputs": [
    {
     "data": {
      "text/plain": [
       "False"
      ]
     },
     "execution_count": 67,
     "metadata": {},
     "output_type": "execute_result"
    }
   ],
   "source": [
    "f1 > f2"
   ]
  },
  {
   "cell_type": "code",
   "execution_count": 68,
   "id": "3dbe00e7-63e5-4bdf-b873-bf21d8f79a33",
   "metadata": {},
   "outputs": [
    {
     "data": {
      "text/plain": [
       "True"
      ]
     },
     "execution_count": 68,
     "metadata": {},
     "output_type": "execute_result"
    }
   ],
   "source": [
    "f1 < f2"
   ]
  },
  {
   "cell_type": "code",
   "execution_count": 69,
   "id": "149075dc-e380-48d3-8bf4-5bfb76f1ad1f",
   "metadata": {},
   "outputs": [
    {
     "data": {
      "text/plain": [
       "False"
      ]
     },
     "execution_count": 69,
     "metadata": {},
     "output_type": "execute_result"
    }
   ],
   "source": [
    "whole <= f1"
   ]
  },
  {
   "cell_type": "code",
   "execution_count": 70,
   "id": "fca977ed-e6d0-4885-9343-97443edfc10b",
   "metadata": {},
   "outputs": [
    {
     "data": {
      "text/plain": [
       "Fraction(3, 8)"
      ]
     },
     "execution_count": 70,
     "metadata": {},
     "output_type": "execute_result"
    }
   ],
   "source": [
    "f1"
   ]
  },
  {
   "cell_type": "code",
   "execution_count": 71,
   "id": "ffdd08d5-9406-4494-90f2-f1418e56da19",
   "metadata": {},
   "outputs": [
    {
     "data": {
      "text/plain": [
       "True"
      ]
     },
     "execution_count": 71,
     "metadata": {},
     "output_type": "execute_result"
    }
   ],
   "source": [
    "bool(f1)"
   ]
  },
  {
   "cell_type": "code",
   "execution_count": 72,
   "id": "681d334e-4208-44ae-a4d0-254d85fa29c2",
   "metadata": {},
   "outputs": [
    {
     "data": {
      "text/plain": [
       "Fraction(0, 1)"
      ]
     },
     "execution_count": 72,
     "metadata": {},
     "output_type": "execute_result"
    }
   ],
   "source": [
    "f4 = Fraction(numerator=0, denominator=8)\n",
    "f4"
   ]
  },
  {
   "cell_type": "code",
   "execution_count": 73,
   "id": "4f56539f-229e-49a4-a59a-a52761b0228a",
   "metadata": {},
   "outputs": [
    {
     "data": {
      "text/plain": [
       "False"
      ]
     },
     "execution_count": 73,
     "metadata": {},
     "output_type": "execute_result"
    }
   ],
   "source": [
    "bool(f4)"
   ]
  },
  {
   "cell_type": "code",
   "execution_count": 74,
   "id": "ea5cac85-e6ba-4b49-93e7-59594de8e91f",
   "metadata": {},
   "outputs": [],
   "source": [
    "from copy import copy, deepcopy"
   ]
  },
  {
   "cell_type": "code",
   "execution_count": 75,
   "id": "c9fb2dab-1601-4a07-8246-1edf46c585fb",
   "metadata": {},
   "outputs": [
    {
     "data": {
      "text/plain": [
       "Fraction(3, 8)"
      ]
     },
     "execution_count": 75,
     "metadata": {},
     "output_type": "execute_result"
    }
   ],
   "source": [
    "f1"
   ]
  },
  {
   "cell_type": "code",
   "execution_count": 76,
   "id": "e0d12466-c40d-4da0-a3e7-e1f2e7f86e12",
   "metadata": {},
   "outputs": [
    {
     "data": {
      "text/plain": [
       "Fraction(3, 8)"
      ]
     },
     "execution_count": 76,
     "metadata": {},
     "output_type": "execute_result"
    }
   ],
   "source": [
    "f1_sc = copy(f1)\n",
    "f1_sc"
   ]
  },
  {
   "cell_type": "code",
   "execution_count": 77,
   "id": "15cec948-6d76-4371-85e5-a7996ed688d4",
   "metadata": {},
   "outputs": [
    {
     "data": {
      "text/plain": [
       "Fraction(3, 8)"
      ]
     },
     "execution_count": 77,
     "metadata": {},
     "output_type": "execute_result"
    }
   ],
   "source": [
    "f1_dc = deepcopy(f1)\n",
    "f1_dc"
   ]
  },
  {
   "cell_type": "code",
   "execution_count": null,
   "id": "6b7f1226-5541-4648-aea0-b85e16847250",
   "metadata": {},
   "outputs": [],
   "source": []
  }
 ],
 "metadata": {
  "kernelspec": {
   "display_name": "Python 3 (ipykernel)",
   "language": "python",
   "name": "python3"
  },
  "language_info": {
   "codemirror_mode": {
    "name": "ipython",
    "version": 3
   },
   "file_extension": ".py",
   "mimetype": "text/x-python",
   "name": "python",
   "nbconvert_exporter": "python",
   "pygments_lexer": "ipython3",
   "version": "3.11.0"
  }
 },
 "nbformat": 4,
 "nbformat_minor": 5
}
