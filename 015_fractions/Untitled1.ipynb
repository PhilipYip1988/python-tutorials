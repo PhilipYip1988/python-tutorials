{
 "cells": [
  {
   "cell_type": "code",
   "execution_count": 1,
   "id": "76ef98c8-e72a-4a47-bc91-380559002dd2",
   "metadata": {},
   "outputs": [],
   "source": [
    "data = [2, 2, 3, 3, 3, 4]"
   ]
  },
  {
   "cell_type": "code",
   "execution_count": 3,
   "id": "baff6e52-0a4e-4a80-ae0a-c99735278739",
   "metadata": {},
   "outputs": [],
   "source": [
    "import matplotlib.pyplot as plt"
   ]
  },
  {
   "cell_type": "code",
   "execution_count": 28,
   "id": "5c305287-cd1f-4ad2-8b6e-b981d9b1bdcc",
   "metadata": {},
   "outputs": [
    {
     "data": {
      "image/png": "[encoded data removed]",
      "text/plain": [
       "<Figure size 432x288 with 1 Axes>"
      ]
     },
     "metadata": {
      "needs_background": "light"
     },
     "output_type": "display_data"
    }
   ],
   "source": [
    "plt.bar([2, 3, 4], [2, 3, 1], width=1, linewidth=1, edgecolor='k', facecolor='#00B050', hatch='o')\n",
    "plt.xlabel('central point')\n",
    "plt.ylabel('count')\n",
    "plt.xticks([2, 3, 4])\n",
    "plt.yticks([1, 2 ,3]);"
   ]
  },
  {
   "cell_type": "code",
   "execution_count": null,
   "id": "871b5e8b-33fc-4ac0-a2fe-3357b948523e",
   "metadata": {},
   "outputs": [],
   "source": []
  }
 ],
 "metadata": {
  "kernelspec": {
   "display_name": "Python 3 (ipykernel)",
   "language": "python",
   "name": "python3"
  },
  "language_info": {
   "codemirror_mode": {
    "name": "ipython",
    "version": 3
   },
   "file_extension": ".py",
   "mimetype": "text/x-python",
   "name": "python",
   "nbconvert_exporter": "python",
   "pygments_lexer": "ipython3",
   "version": "3.11.0"
  }
 },
 "nbformat": 4,
 "nbformat_minor": 5
}
