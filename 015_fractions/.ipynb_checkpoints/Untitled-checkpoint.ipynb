{
 "cells": [
  {
   "cell_type": "code",
   "execution_count": 1,
   "id": "f81aea12-7bba-4a43-8c22-b41433c7cf82",
   "metadata": {},
   "outputs": [],
   "source": [
    "import statistics as st"
   ]
  },
  {
   "cell_type": "code",
   "execution_count": 2,
   "id": "cfa943de-39b4-4ae4-abbb-ece9f6249ba1",
   "metadata": {},
   "outputs": [
    {
     "data": {
      "text/plain": [
       "\u001b[1;31mType:\u001b[0m        module\n",
       "\u001b[1;31mString form:\u001b[0m <module 'statistics' from 'C:\\\\Users\\\\Phili\\\\mambaforge\\\\envs\\\\jupyterlab\\\\Lib\\\\statistics.py'>\n",
       "\u001b[1;31mFile:\u001b[0m        c:\\users\\phili\\mambaforge\\envs\\jupyterlab\\lib\\statistics.py\n",
       "\u001b[1;31mDocstring:\u001b[0m  \n",
       "Basic statistics module.\n",
       "\n",
       "This module provides functions for calculating statistics of data, including\n",
       "averages, variance, and standard deviation.\n",
       "\n",
       "Calculating averages\n",
       "--------------------\n",
       "\n",
       "==================  ==================================================\n",
       "Function            Description\n",
       "==================  ==================================================\n",
       "mean                Arithmetic mean (average) of data.\n",
       "fmean               Fast, floating point arithmetic mean.\n",
       "geometric_mean      Geometric mean of data.\n",
       "harmonic_mean       Harmonic mean of data.\n",
       "median              Median (middle value) of data.\n",
       "median_low          Low median of data.\n",
       "median_high         High median of data.\n",
       "median_grouped      Median, or 50th percentile, of grouped data.\n",
       "mode                Mode (most common value) of data.\n",
       "multimode           List of modes (most common values of data).\n",
       "quantiles           Divide data into intervals with equal probability.\n",
       "==================  ==================================================\n",
       "\n",
       "Calculate the arithmetic mean (\"the average\") of data:\n",
       "\n",
       ">>> mean([-1.0, 2.5, 3.25, 5.75])\n",
       "2.625\n",
       "\n",
       "\n",
       "Calculate the standard median of discrete data:\n",
       "\n",
       ">>> median([2, 3, 4, 5])\n",
       "3.5\n",
       "\n",
       "\n",
       "Calculate the median, or 50th percentile, of data grouped into class intervals\n",
       "centred on the data values provided. E.g. if your data points are rounded to\n",
       "the nearest whole number:\n",
       "\n",
       ">>> median_grouped([2, 2, 3, 3, 3, 4])  #doctest: +ELLIPSIS\n",
       "2.8333333333...\n",
       "\n",
       "This should be interpreted in this way: you have two data points in the class\n",
       "interval 1.5-2.5, three data points in the class interval 2.5-3.5, and one in\n",
       "the class interval 3.5-4.5. The median of these data points is 2.8333...\n",
       "\n",
       "\n",
       "Calculating variability or spread\n",
       "---------------------------------\n",
       "\n",
       "==================  =============================================\n",
       "Function            Description\n",
       "==================  =============================================\n",
       "pvariance           Population variance of data.\n",
       "variance            Sample variance of data.\n",
       "pstdev              Population standard deviation of data.\n",
       "stdev               Sample standard deviation of data.\n",
       "==================  =============================================\n",
       "\n",
       "Calculate the standard deviation of sample data:\n",
       "\n",
       ">>> stdev([2.5, 3.25, 5.5, 11.25, 11.75])  #doctest: +ELLIPSIS\n",
       "4.38961843444...\n",
       "\n",
       "If you have previously calculated the mean, you can pass it as the optional\n",
       "second argument to the four \"spread\" functions to avoid recalculating it:\n",
       "\n",
       ">>> data = [1, 2, 2, 4, 4, 4, 5, 6]\n",
       ">>> mu = mean(data)\n",
       ">>> pvariance(data, mu)\n",
       "2.5\n",
       "\n",
       "\n",
       "Statistics for relations between two inputs\n",
       "-------------------------------------------\n",
       "\n",
       "==================  ====================================================\n",
       "Function            Description\n",
       "==================  ====================================================\n",
       "covariance          Sample covariance for two variables.\n",
       "correlation         Pearson's correlation coefficient for two variables.\n",
       "linear_regression   Intercept and slope for simple linear regression.\n",
       "==================  ====================================================\n",
       "\n",
       "Calculate covariance, Pearson's correlation, and simple linear regression\n",
       "for two inputs:\n",
       "\n",
       ">>> x = [1, 2, 3, 4, 5, 6, 7, 8, 9]\n",
       ">>> y = [1, 2, 3, 1, 2, 3, 1, 2, 3]\n",
       ">>> covariance(x, y)\n",
       "0.75\n",
       ">>> correlation(x, y)  #doctest: +ELLIPSIS\n",
       "0.31622776601...\n",
       ">>> linear_regression(x, y)  #doctest:\n",
       "LinearRegression(slope=0.1, intercept=1.5)\n",
       "\n",
       "\n",
       "Exceptions\n",
       "----------\n",
       "\n",
       "A single exception is defined: StatisticsError is a subclass of ValueError."
      ]
     },
     "metadata": {},
     "output_type": "display_data"
    }
   ],
   "source": [
    "? st"
   ]
  },
  {
   "cell_type": "code",
   "execution_count": 3,
   "id": "cf6fff0c-310b-46f9-a763-4fc5dd51e0ec",
   "metadata": {},
   "outputs": [],
   "source": [
    "data = [7, 5, 3, 1, 2, 4, 6, 4]"
   ]
  },
  {
   "cell_type": "code",
   "execution_count": 4,
   "id": "029d55d5-a8e3-4209-98b7-65364ebab063",
   "metadata": {},
   "outputs": [
    {
     "data": {
      "text/plain": [
       "[1, 2, 3, 4, 4, 5, 6, 7]"
      ]
     },
     "execution_count": 4,
     "metadata": {},
     "output_type": "execute_result"
    }
   ],
   "source": [
    "data.sort()\n",
    "data"
   ]
  },
  {
   "cell_type": "code",
   "execution_count": 5,
   "id": "1fda669b-dc5a-4c6f-bbaa-7efeb847907a",
   "metadata": {},
   "outputs": [
    {
     "data": {
      "text/plain": [
       "8"
      ]
     },
     "execution_count": 5,
     "metadata": {},
     "output_type": "execute_result"
    }
   ],
   "source": [
    "lendata = len(data)\n",
    "lendata"
   ]
  },
  {
   "cell_type": "code",
   "execution_count": 6,
   "id": "2dcaa712-fe97-48f6-8b1f-4fa096a0be02",
   "metadata": {},
   "outputs": [
    {
     "data": {
      "text/plain": [
       "32"
      ]
     },
     "execution_count": 6,
     "metadata": {},
     "output_type": "execute_result"
    }
   ],
   "source": [
    "sumdata = sum(data)\n",
    "sumdata"
   ]
  },
  {
   "cell_type": "code",
   "execution_count": 7,
   "id": "3b066973-b641-4e6e-9f9b-2407cbb54e8c",
   "metadata": {},
   "outputs": [
    {
     "data": {
      "text/plain": [
       "4"
      ]
     },
     "execution_count": 7,
     "metadata": {},
     "output_type": "execute_result"
    }
   ],
   "source": [
    "sum(data) // len(data)"
   ]
  },
  {
   "cell_type": "code",
   "execution_count": 8,
   "id": "f429d90d-3c23-45b9-96e9-b38e2425827d",
   "metadata": {},
   "outputs": [
    {
     "data": {
      "text/plain": [
       "0"
      ]
     },
     "execution_count": 8,
     "metadata": {},
     "output_type": "execute_result"
    }
   ],
   "source": [
    "sum(data) % len(data)"
   ]
  },
  {
   "cell_type": "code",
   "execution_count": 9,
   "id": "ca64d16d-1667-4b18-a067-a75e4f1d3f47",
   "metadata": {},
   "outputs": [
    {
     "data": {
      "text/plain": [
       "4.0"
      ]
     },
     "execution_count": 9,
     "metadata": {},
     "output_type": "execute_result"
    }
   ],
   "source": [
    "sum(data) / len(data)"
   ]
  },
  {
   "cell_type": "code",
   "execution_count": 10,
   "id": "56368a44-c4d0-4ffb-b842-bdd43db051a5",
   "metadata": {},
   "outputs": [
    {
     "data": {
      "text/plain": [
       "4"
      ]
     },
     "execution_count": 10,
     "metadata": {},
     "output_type": "execute_result"
    }
   ],
   "source": [
    "st.mean(data)"
   ]
  },
  {
   "cell_type": "code",
   "execution_count": 11,
   "id": "251e643f-a6a1-4a4e-a49f-fe478a254f08",
   "metadata": {},
   "outputs": [
    {
     "data": {
      "text/plain": [
       "4.0"
      ]
     },
     "execution_count": 11,
     "metadata": {},
     "output_type": "execute_result"
    }
   ],
   "source": [
    "st.fmean(data)"
   ]
  },
  {
   "cell_type": "code",
   "execution_count": 12,
   "id": "af2283eb-7c5a-4814-9aa8-24c8c18d2a95",
   "metadata": {},
   "outputs": [
    {
     "data": {
      "text/plain": [
       "4.0"
      ]
     },
     "execution_count": 12,
     "metadata": {},
     "output_type": "execute_result"
    }
   ],
   "source": [
    "st.median(data)"
   ]
  },
  {
   "cell_type": "code",
   "execution_count": 13,
   "id": "3f1de718-927b-48ef-9147-fc784bc9588d",
   "metadata": {},
   "outputs": [
    {
     "data": {
      "text/plain": [
       "4"
      ]
     },
     "execution_count": 13,
     "metadata": {},
     "output_type": "execute_result"
    }
   ],
   "source": [
    "st.median_low(data)"
   ]
  },
  {
   "cell_type": "code",
   "execution_count": 14,
   "id": "ad0455d7-c5f2-479c-bdaa-03006df70c86",
   "metadata": {},
   "outputs": [
    {
     "data": {
      "text/plain": [
       "4"
      ]
     },
     "execution_count": 14,
     "metadata": {},
     "output_type": "execute_result"
    }
   ],
   "source": [
    "st.median_high(data)"
   ]
  },
  {
   "cell_type": "code",
   "execution_count": 15,
   "id": "cbf2e9e4-8846-410e-8c8d-f8abec3ad5e6",
   "metadata": {},
   "outputs": [
    {
     "data": {
      "text/plain": [
       "4"
      ]
     },
     "execution_count": 15,
     "metadata": {},
     "output_type": "execute_result"
    }
   ],
   "source": [
    "st.mode(data)"
   ]
  },
  {
   "cell_type": "code",
   "execution_count": 16,
   "id": "8cfb69d1-7cdd-4251-a5f1-d768fa5e2c9c",
   "metadata": {},
   "outputs": [
    {
     "data": {
      "text/plain": [
       "3.5"
      ]
     },
     "execution_count": 16,
     "metadata": {},
     "output_type": "execute_result"
    }
   ],
   "source": [
    "st.pvariance(data)"
   ]
  },
  {
   "cell_type": "code",
   "execution_count": 17,
   "id": "c66b9d64-8872-420a-b453-70ba58ad1afa",
   "metadata": {},
   "outputs": [
    {
     "data": {
      "text/plain": [
       "4"
      ]
     },
     "execution_count": 17,
     "metadata": {},
     "output_type": "execute_result"
    }
   ],
   "source": [
    "st.variance(data)"
   ]
  },
  {
   "cell_type": "code",
   "execution_count": 18,
   "id": "48790acd-67e7-42e0-8b71-849b8840b431",
   "metadata": {},
   "outputs": [
    {
     "data": {
      "text/plain": [
       "1.8708286933869707"
      ]
     },
     "execution_count": 18,
     "metadata": {},
     "output_type": "execute_result"
    }
   ],
   "source": [
    "st.pstdev(data)"
   ]
  },
  {
   "cell_type": "code",
   "execution_count": 19,
   "id": "e8021f8b-75a8-431c-a16b-43dce7a9d2c3",
   "metadata": {},
   "outputs": [
    {
     "data": {
      "text/plain": [
       "2.0"
      ]
     },
     "execution_count": 19,
     "metadata": {},
     "output_type": "execute_result"
    }
   ],
   "source": [
    "st.stdev(data)"
   ]
  },
  {
   "cell_type": "code",
   "execution_count": 20,
   "id": "1d668d80-a870-4ec9-96d0-12a13988f2d8",
   "metadata": {},
   "outputs": [
    {
     "data": {
      "text/plain": [
       "[1, 2, 3, 4, 4, 5, 6, 7, 999]"
      ]
     },
     "execution_count": 20,
     "metadata": {},
     "output_type": "execute_result"
    }
   ],
   "source": [
    "data.append(999)\n",
    "data"
   ]
  },
  {
   "cell_type": "code",
   "execution_count": 21,
   "id": "cc85e1de-062f-4522-a637-13e110542059",
   "metadata": {},
   "outputs": [
    {
     "data": {
      "text/plain": [
       "114.55555555555556"
      ]
     },
     "execution_count": 21,
     "metadata": {},
     "output_type": "execute_result"
    }
   ],
   "source": [
    "st.mean(data)"
   ]
  },
  {
   "cell_type": "code",
   "execution_count": 22,
   "id": "adf6dc31-2057-48af-a2e9-74aeb368e57d",
   "metadata": {},
   "outputs": [
    {
     "data": {
      "text/plain": [
       "4"
      ]
     },
     "execution_count": 22,
     "metadata": {},
     "output_type": "execute_result"
    }
   ],
   "source": [
    "st.mode(data)"
   ]
  },
  {
   "cell_type": "code",
   "execution_count": 23,
   "id": "9d549afd-07c5-4911-9400-173648e77940",
   "metadata": {},
   "outputs": [
    {
     "data": {
      "text/plain": [
       "331.67194300660674"
      ]
     },
     "execution_count": 23,
     "metadata": {},
     "output_type": "execute_result"
    }
   ],
   "source": [
    "st.stdev(data)"
   ]
  },
  {
   "cell_type": "code",
   "execution_count": 24,
   "id": "5ef1f47f-aec5-47c7-b231-e9c2b48c9ec5",
   "metadata": {},
   "outputs": [
    {
     "data": {
      "text/plain": [
       "[1, 2, 3, 4, 4, 5, 6, 7]"
      ]
     },
     "execution_count": 24,
     "metadata": {},
     "output_type": "execute_result"
    }
   ],
   "source": [
    "data.pop()\n",
    "data"
   ]
  },
  {
   "cell_type": "code",
   "execution_count": 25,
   "id": "27e70c41-322b-4bd0-984a-82cd7c02667b",
   "metadata": {},
   "outputs": [],
   "source": [
    "data2 = [1, 2, 2, 2, 2, 3, 4, 4, 4, 4, 6, 6, 7]"
   ]
  },
  {
   "cell_type": "code",
   "execution_count": 26,
   "id": "9090024a-002f-4c13-a976-c674c73ba2e8",
   "metadata": {},
   "outputs": [
    {
     "data": {
      "text/plain": [
       "2"
      ]
     },
     "execution_count": 26,
     "metadata": {},
     "output_type": "execute_result"
    }
   ],
   "source": [
    "st.mode(data2)"
   ]
  },
  {
   "cell_type": "code",
   "execution_count": 27,
   "id": "0ef1c9e0-18d6-41e5-b1db-971b89cb78e9",
   "metadata": {},
   "outputs": [
    {
     "data": {
      "text/plain": [
       "[2, 4]"
      ]
     },
     "execution_count": 27,
     "metadata": {},
     "output_type": "execute_result"
    }
   ],
   "source": [
    "st.multimode(data2)"
   ]
  },
  {
   "cell_type": "code",
   "execution_count": 28,
   "id": "1e13c1ca-8222-48fc-a841-66ada8ae6800",
   "metadata": {},
   "outputs": [
    {
     "data": {
      "text/plain": [
       "[(2, 4), (4, 4), (6, 2), (1, 1), (3, 1), (7, 1)]"
      ]
     },
     "execution_count": 28,
     "metadata": {},
     "output_type": "execute_result"
    }
   ],
   "source": [
    "from collections import Counter\n",
    "Counter(data2).most_common()"
   ]
  },
  {
   "cell_type": "code",
   "execution_count": 29,
   "id": "8cb1a8a2-583d-4459-a711-15af025657d1",
   "metadata": {},
   "outputs": [
    {
     "data": {
      "text/plain": [
       "[1, 1, 2, 2, 3, 4, 4, 4, 5, 6, 7, 8, 8, 8, 9, 9]"
      ]
     },
     "execution_count": 29,
     "metadata": {},
     "output_type": "execute_result"
    }
   ],
   "source": [
    "data3 = [1, 1, 2, 2, 3, 4, 4, 4, 5, 6, 7, 8, 8, 8, 9, 9]\n",
    "data3"
   ]
  },
  {
   "cell_type": "code",
   "execution_count": 30,
   "id": "29fb8204-1939-4b09-a636-1541ddff8731",
   "metadata": {},
   "outputs": [
    {
     "data": {
      "text/plain": [
       "[2.25, 4.5, 8.0]"
      ]
     },
     "execution_count": 30,
     "metadata": {},
     "output_type": "execute_result"
    }
   ],
   "source": [
    "st.quantiles(data3)"
   ]
  },
  {
   "cell_type": "code",
   "execution_count": 31,
   "id": "2ae38436-914a-4093-9e98-c5de35cf559d",
   "metadata": {},
   "outputs": [],
   "source": [
    "q1 = []\n",
    "q2 = []\n",
    "q3 = []\n",
    "q4 = []\n",
    "for num in data3:\n",
    "    if(num < st.quantiles(data3)[0]):\n",
    "        q1.append(num)\n",
    "    elif (num < st.quantiles(data3)[1]):\n",
    "        q2.append(num)\n",
    "    elif (num < st.quantiles(data3)[2]):\n",
    "        q3.append(num)\n",
    "    else:\n",
    "        q4.append(num)"
   ]
  },
  {
   "cell_type": "code",
   "execution_count": 32,
   "id": "df6edfe9-4166-45e5-b0c8-7233188df342",
   "metadata": {},
   "outputs": [
    {
     "data": {
      "text/plain": [
       "[1, 1, 2, 2]"
      ]
     },
     "execution_count": 32,
     "metadata": {},
     "output_type": "execute_result"
    }
   ],
   "source": [
    "q1"
   ]
  },
  {
   "cell_type": "code",
   "execution_count": 33,
   "id": "2efebb4a-ed98-4a8b-a6ff-006639be52b6",
   "metadata": {},
   "outputs": [
    {
     "data": {
      "text/plain": [
       "[3, 4, 4, 4]"
      ]
     },
     "execution_count": 33,
     "metadata": {},
     "output_type": "execute_result"
    }
   ],
   "source": [
    "q2"
   ]
  },
  {
   "cell_type": "code",
   "execution_count": 34,
   "id": "be799e98-b0ae-4083-a1d1-81619fdb77aa",
   "metadata": {},
   "outputs": [
    {
     "data": {
      "text/plain": [
       "[5, 6, 7]"
      ]
     },
     "execution_count": 34,
     "metadata": {},
     "output_type": "execute_result"
    }
   ],
   "source": [
    "q3"
   ]
  },
  {
   "cell_type": "code",
   "execution_count": 35,
   "id": "5af96235-52ec-4049-bd00-69ec984c1ea7",
   "metadata": {},
   "outputs": [
    {
     "data": {
      "text/plain": [
       "[8, 8, 8, 9, 9]"
      ]
     },
     "execution_count": 35,
     "metadata": {},
     "output_type": "execute_result"
    }
   ],
   "source": [
    "q4"
   ]
  },
  {
   "cell_type": "code",
   "execution_count": 36,
   "id": "01b4c58b-db98-4b85-8adc-630f9014bfea",
   "metadata": {},
   "outputs": [
    {
     "data": {
      "text/plain": [
       "[1, 2, 3, 4, 4, 5, 6, 7]"
      ]
     },
     "execution_count": 36,
     "metadata": {},
     "output_type": "execute_result"
    }
   ],
   "source": [
    "data"
   ]
  },
  {
   "cell_type": "code",
   "execution_count": 37,
   "id": "49f6147a-2afc-4cca-b8ea-479f210043e1",
   "metadata": {},
   "outputs": [
    {
     "data": {
      "text/plain": [
       "3.451924719784297"
      ]
     },
     "execution_count": 37,
     "metadata": {},
     "output_type": "execute_result"
    }
   ],
   "source": [
    "(1*2*3*4*4*5*6*7) ** (1/8)"
   ]
  },
  {
   "cell_type": "code",
   "execution_count": 38,
   "id": "37d8036e-2519-4a6b-9284-f6398c3fab89",
   "metadata": {},
   "outputs": [
    {
     "data": {
      "text/plain": [
       "3.451924719784297"
      ]
     },
     "execution_count": 38,
     "metadata": {},
     "output_type": "execute_result"
    }
   ],
   "source": [
    "st.geometric_mean(data)"
   ]
  },
  {
   "cell_type": "code",
   "execution_count": 39,
   "id": "72ced7cf-41b2-4b8e-85b5-78935c356100",
   "metadata": {},
   "outputs": [
    {
     "data": {
      "text/plain": [
       "[1, 2, 3, 4, 4, 5, 6, 7]"
      ]
     },
     "execution_count": 39,
     "metadata": {},
     "output_type": "execute_result"
    }
   ],
   "source": [
    "data"
   ]
  },
  {
   "cell_type": "code",
   "execution_count": 40,
   "id": "9a5ddbb8-d462-421e-9dbd-f6f0f2f6a631",
   "metadata": {},
   "outputs": [
    {
     "data": {
      "text/plain": [
       "2.814070351758794"
      ]
     },
     "execution_count": 40,
     "metadata": {},
     "output_type": "execute_result"
    }
   ],
   "source": [
    "8 / ((1/1)+(1/2)+(1/3)+(1/4)+(1/4)+(1/5)+(1/6)+(1/7))"
   ]
  },
  {
   "cell_type": "code",
   "execution_count": 41,
   "id": "38094dac-e01a-466c-8abd-2e197a2f6b40",
   "metadata": {},
   "outputs": [
    {
     "data": {
      "text/plain": [
       "2.814070351758794"
      ]
     },
     "execution_count": 41,
     "metadata": {},
     "output_type": "execute_result"
    }
   ],
   "source": [
    "st.harmonic_mean(data)"
   ]
  },
  {
   "cell_type": "code",
   "execution_count": 42,
   "id": "90169d72-f93e-40c8-b200-21fc198e94ab",
   "metadata": {},
   "outputs": [
    {
     "data": {
      "text/plain": [
       "3.0"
      ]
     },
     "execution_count": 42,
     "metadata": {},
     "output_type": "execute_result"
    }
   ],
   "source": [
    "st.median([2, 2, 3, 3, 3, 4])"
   ]
  },
  {
   "cell_type": "code",
   "execution_count": 43,
   "id": "761c89cf-411b-4457-9860-ac2da0c638a0",
   "metadata": {},
   "outputs": [],
   "source": [
    "data4 = [2, 2, 3, 3, 3, 4]"
   ]
  },
  {
   "cell_type": "code",
   "execution_count": 44,
   "id": "b91e5eee-1c07-4faf-b437-d95940a84b9e",
   "metadata": {},
   "outputs": [
    {
     "data": {
      "text/plain": [
       "2.8333333333333335"
      ]
     },
     "execution_count": 44,
     "metadata": {},
     "output_type": "execute_result"
    }
   ],
   "source": [
    "2.5 + (((6/2) - 2) / 3) * 1"
   ]
  },
  {
   "cell_type": "code",
   "execution_count": 45,
   "id": "83f99821-88ad-4054-82d9-8859e3e2cabf",
   "metadata": {},
   "outputs": [
    {
     "data": {
      "text/plain": [
       "2.8333333333333335"
      ]
     },
     "execution_count": 45,
     "metadata": {},
     "output_type": "execute_result"
    }
   ],
   "source": [
    "st.median_grouped(data4, interval=1)"
   ]
  },
  {
   "cell_type": "code",
   "execution_count": null,
   "id": "f9ca1bb4-486b-406a-b20e-52308ae5d99b",
   "metadata": {},
   "outputs": [],
   "source": [
    "st."
   ]
  }
 ],
 "metadata": {
  "kernelspec": {
   "display_name": "Python 3 (ipykernel)",
   "language": "python",
   "name": "python3"
  },
  "language_info": {
   "codemirror_mode": {
    "name": "ipython",
    "version": 3
   },
   "file_extension": ".py",
   "mimetype": "text/x-python",
   "name": "python",
   "nbconvert_exporter": "python",
   "pygments_lexer": "ipython3",
   "version": "3.11.0"
  }
 },
 "nbformat": 4,
 "nbformat_minor": 5
}
