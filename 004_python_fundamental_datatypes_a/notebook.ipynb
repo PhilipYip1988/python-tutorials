{
 "cells": [
  {
   "cell_type": "code",
   "execution_count": 1,
   "id": "f18ca161-d061-476a-b6e5-379c5c927172",
   "metadata": {},
   "outputs": [],
   "source": [
    "greeting = \"hello\""
   ]
  },
  {
   "cell_type": "code",
   "execution_count": 2,
   "id": "88950b2f-10c0-4c55-8e80-da5b7b2d63d0",
   "metadata": {},
   "outputs": [],
   "source": [
    "farewell = \"bye\""
   ]
  },
  {
   "cell_type": "code",
   "execution_count": null,
   "id": "5ab6fdcd-1bda-4e2c-bee0-a2bbd942fbf8",
   "metadata": {},
   "outputs": [],
   "source": [
    "farewell."
   ]
  }
 ],
 "metadata": {
  "kernelspec": {
   "display_name": "Python 3 (ipykernel)",
   "language": "python",
   "name": "python3"
  },
  "language_info": {
   "codemirror_mode": {
    "name": "ipython",
    "version": 3
   },
   "file_extension": ".py",
   "mimetype": "text/x-python",
   "name": "python",
   "nbconvert_exporter": "python",
   "pygments_lexer": "ipython3",
   "version": "3.10.6"
  }
 },
 "nbformat": 4,
 "nbformat_minor": 5
}
