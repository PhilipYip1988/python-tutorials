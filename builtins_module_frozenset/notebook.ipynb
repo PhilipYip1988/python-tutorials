{
 "cells": [
  {
   "cell_type": "markdown",
   "metadata": {},
   "source": [
    "# Builtins Module: The FrozenSet Class (frozenset)"
   ]
  },
  {
   "cell_type": "markdown",
   "metadata": {},
   "source": [
    "The ```frozenset``` class is an ```Unordered``` immutable ```Collection``` of unique references to an ```object```."
   ]
  },
  {
   "cell_type": "markdown",
   "metadata": {},
   "source": [
    "## Categorize_Identifiers Module"
   ]
  },
  {
   "cell_type": "markdown",
   "metadata": {},
   "source": [
    "This notebook will use the following functions ```dir2```, ```variables``` and ```view``` in the custom module ```categorize_identifiers``` which is found in the same directory as this notebook file. ```dir2``` is a variant of ```dir``` that groups identifiers into a ```dict``` under categories and ```variables``` is an IPython based a variable inspector. ```view``` is used to view a ```Collection``` in more detail:"
   ]
  },
  {
   "cell_type": "code",
   "execution_count": 1,
   "metadata": {},
   "outputs": [],
   "source": [
    "from categorize_identifiers import dir2, variables, view"
   ]
  },
  {
   "cell_type": "markdown",
   "metadata": {},
   "source": [
    "## Initialisation Signature"
   ]
  },
  {
   "cell_type": "markdown",
   "metadata": {},
   "source": [
    "The docstring for the ```frozenset``` initialisation signature can be viewed using:"
   ]
  },
  {
   "cell_type": "code",
   "execution_count": 2,
   "metadata": {},
   "outputs": [
    {
     "data": {
      "text/plain": [
       "\u001b[1;31mInit signature:\u001b[0m \u001b[0mfrozenset\u001b[0m\u001b[1;33m(\u001b[0m\u001b[0mself\u001b[0m\u001b[1;33m,\u001b[0m \u001b[1;33m/\u001b[0m\u001b[1;33m,\u001b[0m \u001b[1;33m*\u001b[0m\u001b[0margs\u001b[0m\u001b[1;33m,\u001b[0m \u001b[1;33m**\u001b[0m\u001b[0mkwargs\u001b[0m\u001b[1;33m)\u001b[0m\u001b[1;33m\u001b[0m\u001b[1;33m\u001b[0m\u001b[0m\n",
       "\u001b[1;31mDocstring:\u001b[0m     \n",
       "frozenset() -> empty frozenset object\n",
       "frozenset(iterable) -> frozenset object\n",
       "\n",
       "Build an immutable unordered collection of unique elements.\n",
       "\u001b[1;31mType:\u001b[0m           type\n",
       "\u001b[1;31mSubclasses:\u001b[0m     "
      ]
     },
     "metadata": {},
     "output_type": "display_data"
    }
   ],
   "source": [
    "frozenset?"
   ]
  },
  {
   "cell_type": "markdown",
   "metadata": {},
   "source": [
    "The initialisation signature has the form:\n",
    "\n",
    "```python\n",
    "frozenset(self, /, *args, **kwargs)\n",
    "frozenset() -> empty frozenset object\n",
    "frozenset(iterable) -> frozenset object\n",
    "```"
   ]
  },
  {
   "cell_type": "markdown",
   "metadata": {},
   "source": [
    "The third form is used to construct a ```frozenset``` instance from an iterable such as a ```str```, ```tuple``` or ```list```. A ```frozenset``` instance can be constructed from the ```str``` instance ```'hello'```:"
   ]
  },
  {
   "cell_type": "code",
   "execution_count": 3,
   "metadata": {},
   "outputs": [
    {
     "data": {
      "text/plain": [
       "frozenset({'e', 'h', 'l', 'o'})"
      ]
     },
     "execution_count": 3,
     "metadata": {},
     "output_type": "execute_result"
    }
   ],
   "source": [
    "frozenset('hello')"
   ]
  },
  {
   "cell_type": "markdown",
   "metadata": {},
   "source": [
    "The default representation for the ```frozenset``` displays. The default representation of the ```frozenset``` casts a ```set``` to a ```frozenset```. The ```set``` uses braces ```{}``` to enclose all its elements. Notice that all the elements in the ```set``` are unique ```{'e', 'h', 'l', 'o'}``` and the character ```'l'``` which occurs in the ```str``` instance ```'hello'``` twice only displays once in the ```set```."
   ]
  },
  {
   "cell_type": "markdown",
   "metadata": {},
   "source": [
    "The ```set``` is the mutable counterpart to the immutable ```frozenset``` and because it is a fundamental ```builtins``` class is instantiated shorthand using braces ```{}```:"
   ]
  },
  {
   "cell_type": "code",
   "execution_count": 4,
   "metadata": {},
   "outputs": [],
   "source": [
    "unique_active_archive = {'e', 'h', 'l', 'o'}"
   ]
  },
  {
   "cell_type": "markdown",
   "metadata": {},
   "source": [
    "The immutable ```frozenset``` class is used to cast this mutable ```set``` into a ```frozenset```:"
   ]
  },
  {
   "cell_type": "code",
   "execution_count": 5,
   "metadata": {},
   "outputs": [],
   "source": [
    "unique_archive = frozenset({'e', 'h', 'l', 'o'})"
   ]
  },
  {
   "cell_type": "markdown",
   "metadata": {},
   "source": [
    "Recall that the mutable ```bytearray``` is the counterpart to the immutable ```bytes``` class. The ```bytes``` class is a fundamental datatype and is instantiated shorthand using the prefix ```b```:"
   ]
  },
  {
   "cell_type": "code",
   "execution_count": 6,
   "metadata": {},
   "outputs": [],
   "source": [
    "bytestring_static = b'hello'"
   ]
  },
  {
   "cell_type": "markdown",
   "metadata": {},
   "source": [
    "Notice that the mutable ```bytearray``` is instantiated by casting the ```bytes``` instance to a ```bytearray```:"
   ]
  },
  {
   "cell_type": "code",
   "execution_count": 7,
   "metadata": {},
   "outputs": [],
   "source": [
    "bytestring_dynamic = bytearray(b'hello')"
   ]
  },
  {
   "cell_type": "markdown",
   "metadata": {},
   "source": [
    "For the immutable ```bytes``` and mutable ```bytearray```, the immutable ```bytes``` class is far more commonly used and therefore is instantiated using shortform with the ```bytearray``` class casting a ```bytes``` instance to a ```bytearray``` instance.\n",
    "\n",
    "For the immutable ```frozenset``` and mutable ```set```, the mutable ```set``` is far more commonly used and therefore is instantiated using shortform with the ```frozenset``` class casting a ```set``` instance to a ```frozenset``` instance. Althout the ```set``` is easier to instantiate, the ```frozenset``` is simpler to understand as it is immutable and will be examined first."
   ]
  },
  {
   "cell_type": "markdown",
   "metadata": {},
   "source": [
    "Notice that the order of the characters in the ```frozenset``` is not the same order as the order of the characters in the ```str``` instance ```'hello'```. The default representation shown in the cell output instead displays the characters in order using their ordinal values:"
   ]
  },
  {
   "cell_type": "code",
   "execution_count": 8,
   "metadata": {},
   "outputs": [
    {
     "data": {
      "text/plain": [
       "frozenset({'e', 'h', 'l', 'o'})"
      ]
     },
     "execution_count": 8,
     "metadata": {},
     "output_type": "execute_result"
    }
   ],
   "source": [
    "frozenset('hello')"
   ]
  },
  {
   "cell_type": "code",
   "execution_count": 9,
   "metadata": {},
   "outputs": [
    {
     "data": {
      "text/plain": [
       "frozenset({'e', 'h', 'l', 'o'})"
      ]
     },
     "execution_count": 9,
     "metadata": {},
     "output_type": "execute_result"
    }
   ],
   "source": [
    "frozenset({'h', 'e', 'l', 'o'})"
   ]
  },
  {
   "cell_type": "markdown",
   "metadata": {},
   "source": [
    "The ```frozenset``` should be considered as an ```Unordered``` ```Collection``` and therefore:"
   ]
  },
  {
   "cell_type": "code",
   "execution_count": 10,
   "metadata": {},
   "outputs": [
    {
     "data": {
      "text/plain": [
       "True"
      ]
     },
     "execution_count": 10,
     "metadata": {},
     "output_type": "execute_result"
    }
   ],
   "source": [
    "frozenset({'h', 'e', 'l', 'o'}) == frozenset({'o', 'e', 'l', 'h'})"
   ]
  },
  {
   "cell_type": "markdown",
   "metadata": {},
   "source": [
    "Notice that there is no index because there is no order in the ```Unordered``` ```Collection```:"
   ]
  },
  {
   "cell_type": "code",
   "execution_count": 11,
   "metadata": {},
   "outputs": [
    {
     "name": "stdout",
     "output_type": "stream",
     "text": [
      "Type                 \t Size   \t Value                         \n",
      "str                  \t 1      \t o                              \t\n",
      "str                  \t 1      \t l                              \t\n",
      "str                  \t 1      \t h                              \t\n",
      "str                  \t 1      \t e                              \t\n"
     ]
    }
   ],
   "source": [
    "view(unique_archive)"
   ]
  },
  {
   "cell_type": "markdown",
   "metadata": {},
   "source": [
    "This makes sense because retaining an index does not make sense when casting an ```Ordered``` ```Collection``` with duplicates to an ```Unordered``` ```Collection```. For example the duplicate ```'l'``` is at index ```2``` and ```3``` in the original ```str``` instance and can only occur once in the ```frozenset``` instance:"
   ]
  },
  {
   "cell_type": "code",
   "execution_count": 12,
   "metadata": {},
   "outputs": [
    {
     "name": "stdout",
     "output_type": "stream",
     "text": [
      "Index \t Type                 \t Size   \t Value                         \n",
      "0 \t str                  \t 1      \t h                              \t\n",
      "1 \t str                  \t 1      \t e                              \t\n",
      "2 \t str                  \t 1      \t l                              \t\n",
      "3 \t str                  \t 1      \t l                              \t\n",
      "4 \t str                  \t 1      \t o                              \t\n"
     ]
    }
   ],
   "source": [
    "view('hello')"
   ]
  },
  {
   "cell_type": "code",
   "execution_count": 13,
   "metadata": {},
   "outputs": [
    {
     "name": "stdout",
     "output_type": "stream",
     "text": [
      "Type                 \t Size   \t Value                         \n",
      "str                  \t 1      \t o                              \t\n",
      "str                  \t 1      \t e                              \t\n",
      "str                  \t 1      \t l                              \t\n",
      "str                  \t 1      \t h                              \t\n"
     ]
    }
   ],
   "source": [
    "view(frozenset('hello'))"
   ]
  },
  {
   "cell_type": "markdown",
   "metadata": {},
   "source": [
    "## Identifiers"
   ]
  },
  {
   "cell_type": "markdown",
   "metadata": {},
   "source": [
    "The identifiers for the ```frozenset``` can be viewed, all of the methods have a ```return``` value:"
   ]
  },
  {
   "cell_type": "code",
   "execution_count": 14,
   "metadata": {},
   "outputs": [
    {
     "name": "stdout",
     "output_type": "stream",
     "text": [
      "{'method': ['copy',\n",
      "            'difference',\n",
      "            'intersection',\n",
      "            'isdisjoint',\n",
      "            'issubset',\n",
      "            'issuperset',\n",
      "            'symmetric_difference',\n",
      "            'union'],\n",
      " 'datamodel_method': ['__and__',\n",
      "                      '__class_getitem__',\n",
      "                      '__contains__',\n",
      "                      '__iter__',\n",
      "                      '__len__',\n",
      "                      '__or__',\n",
      "                      '__rand__',\n",
      "                      '__ror__',\n",
      "                      '__rsub__',\n",
      "                      '__rxor__',\n",
      "                      '__sub__',\n",
      "                      '__xor__']}\n"
     ]
    }
   ],
   "source": [
    "dir2(frozenset, object, unique_only=True)"
   ]
  },
  {
   "cell_type": "markdown",
   "metadata": {},
   "source": [
    "The closest ```Collection``` examined so far has been the ```tuple```. The ```tuple``` is an immutable ```Ordered``` ```Collection``` of references whereas the ```frozenset``` is an immutable ```Unordered``` ```Collection``` of unique references. \n",
    "\n",
    "Because the ```frozenset``` is ```Unordered```, can only contain unique references and has no index, it does not have the ```count```, ```index```, ```__getitem__``` and ```__mul__``` methods. The datamodel method ```__add__``` is not present as there are multiple ways of \"concatenating\" two ```frozenset``` instances together using ```__sub__```, ```__and__```, ```__or__``` and ```__xor__``` which define the behaviour of the operators ```-```, ```&```, ```|```, ```^```."
   ]
  },
  {
   "cell_type": "markdown",
   "metadata": {},
   "source": [
    "## Unordered Collection"
   ]
  },
  {
   "attachments": {},
   "cell_type": "markdown",
   "metadata": {},
   "source": [
    "The ```frozenset``` as mentioned is an unordered ```Collection``` where the fundamental unit is a unique references to an ```object```:"
   ]
  },
  {
   "cell_type": "code",
   "execution_count": 15,
   "metadata": {},
   "outputs": [],
   "source": [
    "unique_archive = frozenset('hello')"
   ]
  },
  {
   "cell_type": "code",
   "execution_count": 16,
   "metadata": {},
   "outputs": [
    {
     "name": "stdout",
     "output_type": "stream",
     "text": [
      "Type                 \t Size   \t Value                         \n",
      "str                  \t 1      \t o                              \t\n",
      "str                  \t 1      \t e                              \t\n",
      "str                  \t 1      \t l                              \t\n",
      "str                  \t 1      \t h                              \t\n"
     ]
    }
   ],
   "source": [
    "view(unique_archive)"
   ]
  },
  {
   "attachments": {},
   "cell_type": "markdown",
   "metadata": {},
   "source": [
    "It has the datamodel identifier ```__len__``` (*dunder len*) which defines the behaviour of the ```builtins``` function ```len```:"
   ]
  },
  {
   "cell_type": "code",
   "execution_count": 17,
   "metadata": {},
   "outputs": [
    {
     "data": {
      "text/plain": [
       "4"
      ]
     },
     "execution_count": 17,
     "metadata": {},
     "output_type": "execute_result"
    }
   ],
   "source": [
    "len(unique_archive)"
   ]
  },
  {
   "attachments": {},
   "cell_type": "markdown",
   "metadata": {},
   "source": [
    "And ```__contains__``` (*dunder contains*) which defines the behaviour of the ```in``` keyword:"
   ]
  },
  {
   "cell_type": "code",
   "execution_count": 18,
   "metadata": {},
   "outputs": [
    {
     "data": {
      "text/plain": [
       "True"
      ]
     },
     "execution_count": 18,
     "metadata": {},
     "output_type": "execute_result"
    }
   ],
   "source": [
    "'h' in unique_archive"
   ]
  },
  {
   "attachments": {},
   "cell_type": "markdown",
   "metadata": {},
   "source": [
    "The datamodel methods ```__repr__``` (*dunder repr*) and ```__str__``` (*dunder str*) are defined so the formal and informal ```str``` representation can be examined:"
   ]
  },
  {
   "cell_type": "code",
   "execution_count": 19,
   "metadata": {},
   "outputs": [
    {
     "data": {
      "text/plain": [
       "\"frozenset({'o', 'e', 'l', 'h'})\""
      ]
     },
     "execution_count": 19,
     "metadata": {},
     "output_type": "execute_result"
    }
   ],
   "source": [
    "repr(unique_archive)"
   ]
  },
  {
   "cell_type": "code",
   "execution_count": 20,
   "metadata": {},
   "outputs": [
    {
     "data": {
      "text/plain": [
       "\"frozenset({'o', 'e', 'l', 'h'})\""
      ]
     },
     "execution_count": 20,
     "metadata": {},
     "output_type": "execute_result"
    }
   ],
   "source": [
    "str(unique_archive)"
   ]
  },
  {
   "attachments": {},
   "cell_type": "markdown",
   "metadata": {},
   "source": [
    "## Boolean Set Methods"
   ]
  },
  {
   "attachments": {},
   "cell_type": "markdown",
   "metadata": {},
   "source": [
    "The binary boolean ```frozenset``` methods examine a property between two ```frozenset``` instances returning ```True``` or ```False```:"
   ]
  },
  {
   "attachments": {},
   "cell_type": "markdown",
   "metadata": {},
   "source": [
    "Supposing the following 4 ```frozenset``` instances are instantiated:"
   ]
  },
  {
   "cell_type": "code",
   "execution_count": 21,
   "metadata": {},
   "outputs": [],
   "source": [
    "unique1 = frozenset({0, 1, 2, 3, 4, 5, 6, 7, 8})\n",
    "unique2 = frozenset({0, 1, 2})\n",
    "unique3 = frozenset({7, 8, 9})\n",
    "unique4 = frozenset({'a', 'b', 'c'})"
   ]
  },
  {
   "attachments": {},
   "cell_type": "markdown",
   "metadata": {},
   "source": [
    "The ```frozenset``` method ```issuperset``` checks whether one ```frozenset``` instance is a superset, that is a ```frozenset``` that contains all the references of another ```frozenset``` instance:"
   ]
  },
  {
   "cell_type": "code",
   "execution_count": 22,
   "metadata": {},
   "outputs": [
    {
     "data": {
      "text/plain": [
       "\u001b[1;31mDocstring:\u001b[0m Report whether this set contains another set.\n",
       "\u001b[1;31mType:\u001b[0m      builtin_function_or_method"
      ]
     },
     "metadata": {},
     "output_type": "display_data"
    }
   ],
   "source": [
    "unique1.issuperset?"
   ]
  },
  {
   "attachments": {},
   "cell_type": "markdown",
   "metadata": {},
   "source": [
    "```unique1``` contains all the references in ```unique2``` and is a ```superset```:"
   ]
  },
  {
   "attachments": {},
   "cell_type": "markdown",
   "metadata": {},
   "source": [
    "unique1 = frozenset({<span style='color:green'>0</span>, <span style='color:green'>1</span>, <span style='color:green'>2</span>, 3, 4, 5, 6, 7, 8})\n",
    "\n",
    "unique2 = frozenset({<span style='color:green'>0</span>, <span style='color:green'>1</span>, <span style='color:green'>2</span>})"
   ]
  },
  {
   "cell_type": "code",
   "execution_count": 23,
   "metadata": {},
   "outputs": [
    {
     "data": {
      "text/plain": [
       "True"
      ]
     },
     "execution_count": 23,
     "metadata": {},
     "output_type": "execute_result"
    }
   ],
   "source": [
    "unique1.issuperset(unique2)"
   ]
  },
  {
   "attachments": {},
   "cell_type": "markdown",
   "metadata": {},
   "source": [
    "```unique1``` does not contain all the references present in ```unique3``` and is not a superset:"
   ]
  },
  {
   "attachments": {},
   "cell_type": "markdown",
   "metadata": {},
   "source": [
    "unique1 = frozenset({0, 1, 2, 3, 4, 5, 6, <span style='color:green'>7</span>, <span style='color:green'>8</span>})\n",
    "\n",
    "unique3 = ◼◼◼◼◼◼◼◼◼frozenset({<span style='color:green'>7</span>, <span style='color:green'>8</span>, <span style='color:red'>9</span>})"
   ]
  },
  {
   "cell_type": "code",
   "execution_count": 24,
   "metadata": {},
   "outputs": [
    {
     "data": {
      "text/plain": [
       "False"
      ]
     },
     "execution_count": 24,
     "metadata": {},
     "output_type": "execute_result"
    }
   ],
   "source": [
    "unique1.issuperset(unique3)"
   ]
  },
  {
   "attachments": {},
   "cell_type": "markdown",
   "metadata": {},
   "source": [
    "The ```frozenset``` method ```issubset``` checks whether one ```frozenset``` instance is a subset, that is a ```frozenset``` of references that are all contained within another ```frozenset``` (the superset):"
   ]
  },
  {
   "cell_type": "code",
   "execution_count": 25,
   "metadata": {},
   "outputs": [
    {
     "data": {
      "text/plain": [
       "\u001b[1;31mDocstring:\u001b[0m Report whether another set contains this set.\n",
       "\u001b[1;31mType:\u001b[0m      builtin_function_or_method"
      ]
     },
     "metadata": {},
     "output_type": "display_data"
    }
   ],
   "source": [
    "unique2.issubset?"
   ]
  },
  {
   "attachments": {},
   "cell_type": "markdown",
   "metadata": {},
   "source": [
    "For example ```unique2``` is a subset of ```unique1```:"
   ]
  },
  {
   "attachments": {},
   "cell_type": "markdown",
   "metadata": {},
   "source": [
    "unique2 = frozenset({<span style='color:green'>0</span>, <span style='color:green'>1</span>, <span style='color:green'>2</span>})\n",
    "\n",
    "unique1 = frozenset({<span style='color:green'>0</span>, <span style='color:green'>1</span>, <span style='color:green'>2</span>, 3, 4, 5, 6, 7, 8})"
   ]
  },
  {
   "cell_type": "code",
   "execution_count": 26,
   "metadata": {},
   "outputs": [
    {
     "data": {
      "text/plain": [
       "True"
      ]
     },
     "execution_count": 26,
     "metadata": {},
     "output_type": "execute_result"
    }
   ],
   "source": [
    "unique2.issubset(unique1)"
   ]
  },
  {
   "attachments": {},
   "cell_type": "markdown",
   "metadata": {},
   "source": [
    "```unique3``` is not a subset of ```unique1``` as there is a reference in ```unique3``` that is not in ```unique1```:"
   ]
  },
  {
   "attachments": {},
   "cell_type": "markdown",
   "metadata": {},
   "source": [
    "unique3 = ◼◼◼◼◼◼◼◼◼frozenset({<span style='color:green'>7</span>, <span style='color:green'>8</span>, <span style='color:red'>9</span>})\n",
    "\n",
    "unique1 = frozenset({0, 1, 2, 3, 4, 5, 6, <span style='color:green'>7</span>, <span style='color:green'>8</span>})"
   ]
  },
  {
   "cell_type": "code",
   "execution_count": 27,
   "metadata": {},
   "outputs": [
    {
     "data": {
      "text/plain": [
       "False"
      ]
     },
     "execution_count": 27,
     "metadata": {},
     "output_type": "execute_result"
    }
   ],
   "source": [
    "unique3.issubset(unique1)"
   ]
  },
  {
   "attachments": {},
   "cell_type": "markdown",
   "metadata": {},
   "source": [
    "The ```frozenset``` method ```isdisjoint``` checks whether one ```frozenset``` is disjoint with another, that is two ```frozenset``` which share no common references:"
   ]
  },
  {
   "cell_type": "code",
   "execution_count": 28,
   "metadata": {},
   "outputs": [
    {
     "data": {
      "text/plain": [
       "\u001b[1;31mDocstring:\u001b[0m Return True if two sets have a null intersection.\n",
       "\u001b[1;31mType:\u001b[0m      builtin_function_or_method"
      ]
     },
     "metadata": {},
     "output_type": "display_data"
    }
   ],
   "source": [
    "unique1.isdisjoint?"
   ]
  },
  {
   "attachments": {},
   "cell_type": "markdown",
   "metadata": {},
   "source": [
    "For example ```unique1``` and ```unique4``` are disjoint:"
   ]
  },
  {
   "attachments": {},
   "cell_type": "markdown",
   "metadata": {},
   "source": [
    "unique1 = frozenset({0, 1, 2, 3, 4, 5, 6, 7, 8})\n",
    "\n",
    "unique4 = ◼◼◼◼◼◼◼◼◼◼◼frozenset({'a', 'b', 'c'})"
   ]
  },
  {
   "cell_type": "code",
   "execution_count": 29,
   "metadata": {},
   "outputs": [
    {
     "data": {
      "text/plain": [
       "True"
      ]
     },
     "execution_count": 29,
     "metadata": {},
     "output_type": "execute_result"
    }
   ],
   "source": [
    "unique1.isdisjoint(unique4)"
   ]
  },
  {
   "attachments": {},
   "cell_type": "markdown",
   "metadata": {},
   "source": [
    "For example ```unique3``` is not disjoint from ```unique1``` as they have overlapping references:"
   ]
  },
  {
   "attachments": {},
   "cell_type": "markdown",
   "metadata": {},
   "source": [
    "unique1 = frozenset({0, 1, 2, 3, 4, 5, 6, <span style='color:green'>7</span>, <span style='color:green'>8</span>})\n",
    "\n",
    "unique3 = ◼◼◼◼◼◼◼◼◼frozenset({<span style='color:green'>7</span>, <span style='color:green'>8</span>, <span style='color:red'>9</span>})"
   ]
  },
  {
   "cell_type": "code",
   "execution_count": 30,
   "metadata": {},
   "outputs": [
    {
     "data": {
      "text/plain": [
       "False"
      ]
     },
     "execution_count": 30,
     "metadata": {},
     "output_type": "execute_result"
    }
   ],
   "source": [
    "unique1.isdisjoint(unique3)"
   ]
  },
  {
   "cell_type": "markdown",
   "metadata": {},
   "source": [
    "## Binary Set Methods"
   ]
  },
  {
   "attachments": {},
   "cell_type": "markdown",
   "metadata": {},
   "source": [
    "The binary ```frozenset``` methods examine the interaction of one ```frozenset``` with another ```frozen``` instance returning a new ```frozenset``` instance. There is both a method and a datamodel method for each ```frozenset``` method:\n",
    "\n",
    "|Method|Data Model Method|Operator|\n",
    "|---|---|---|\n",
    "|union|\\_\\_or\\_\\_|\\||\n",
    "|intersection|\\_\\_and\\_\\_|&|\n",
    "|difference|\\_\\_sub\\_\\_|-|\n",
    "|symmetric_difference|\\_\\_xor\\_\\_|^|"
   ]
  },
  {
   "attachments": {},
   "cell_type": "markdown",
   "metadata": {},
   "source": [
    "Supposing now:"
   ]
  },
  {
   "cell_type": "code",
   "execution_count": 31,
   "metadata": {},
   "outputs": [],
   "source": [
    "unique5 = frozenset({0, 1, 2, 3, 4, 5, 6})\n",
    "unique6 = frozenset({4, 5, 6, 7, 8, 9})"
   ]
  },
  {
   "attachments": {},
   "cell_type": "markdown",
   "metadata": {},
   "source": [
    "The ```frozenset``` method ```union``` returns a ```frozenset``` which is essentially a superset of both ```frozenset``` instances i.e. contains all unique references in both ```frozenset``` instances:"
   ]
  },
  {
   "cell_type": "code",
   "execution_count": 32,
   "metadata": {},
   "outputs": [
    {
     "data": {
      "text/plain": [
       "\u001b[1;31mDocstring:\u001b[0m\n",
       "Return the union of sets as a new set.\n",
       "\n",
       "(i.e. all elements that are in either set.)\n",
       "\u001b[1;31mType:\u001b[0m      builtin_function_or_method"
      ]
     },
     "metadata": {},
     "output_type": "display_data"
    }
   ],
   "source": [
    "unique5.union?"
   ]
  },
  {
   "attachments": {},
   "cell_type": "markdown",
   "metadata": {},
   "source": [
    "For example:"
   ]
  },
  {
   "attachments": {},
   "cell_type": "markdown",
   "metadata": {},
   "source": [
    "unique5 = {0, 1, 2, 3, 4, 5, 6}\n",
    "\n",
    "unique6 = ◼◼◼◼◼{4, 5, 6, 7, 8, 9}"
   ]
  },
  {
   "cell_type": "code",
   "execution_count": 33,
   "metadata": {},
   "outputs": [
    {
     "data": {
      "text/plain": [
       "frozenset({0, 1, 2, 3, 4, 5, 6, 7, 8, 9})"
      ]
     },
     "execution_count": 33,
     "metadata": {},
     "output_type": "execute_result"
    }
   ],
   "source": [
    "unique5.union(unique6)"
   ]
  },
  {
   "cell_type": "code",
   "execution_count": 34,
   "metadata": {},
   "outputs": [
    {
     "data": {
      "text/plain": [
       "frozenset({0, 1, 2, 3, 4, 5, 6, 7, 8, 9})"
      ]
     },
     "execution_count": 34,
     "metadata": {},
     "output_type": "execute_result"
    }
   ],
   "source": [
    "unique5 | unique6"
   ]
  },
  {
   "attachments": {},
   "cell_type": "markdown",
   "metadata": {},
   "source": [
    "The ```frozenset``` method ```intersection``` returns a ```frozenset``` instance that contains only the references that occur in both ```frozenset``` instances:"
   ]
  },
  {
   "cell_type": "code",
   "execution_count": 35,
   "metadata": {},
   "outputs": [
    {
     "data": {
      "text/plain": [
       "\u001b[1;31mDocstring:\u001b[0m\n",
       "Return the intersection of two sets as a new set.\n",
       "\n",
       "(i.e. all elements that are in both sets.)\n",
       "\u001b[1;31mType:\u001b[0m      builtin_function_or_method"
      ]
     },
     "metadata": {},
     "output_type": "display_data"
    }
   ],
   "source": [
    "unique5.intersection?"
   ]
  },
  {
   "attachments": {},
   "cell_type": "markdown",
   "metadata": {},
   "source": [
    "For example:"
   ]
  },
  {
   "attachments": {},
   "cell_type": "markdown",
   "metadata": {},
   "source": [
    "unique5 = {0, 1, 2, 3, <span style='color:red'>4</span>, <span style='color:red'>5</span>, <span style='color:red'>6</span>}\n",
    "\n",
    "unique6 = ◼◼◼◼◼{<span style='color:red'>4</span>, <span style='color:red'>5</span>, <span style='color:red'>6</span>, 7, 8, 9}"
   ]
  },
  {
   "cell_type": "code",
   "execution_count": 36,
   "metadata": {},
   "outputs": [
    {
     "data": {
      "text/plain": [
       "frozenset({4, 5, 6})"
      ]
     },
     "execution_count": 36,
     "metadata": {},
     "output_type": "execute_result"
    }
   ],
   "source": [
    "unique5.intersection(unique6)"
   ]
  },
  {
   "cell_type": "code",
   "execution_count": 37,
   "metadata": {},
   "outputs": [
    {
     "data": {
      "text/plain": [
       "frozenset({4, 5, 6})"
      ]
     },
     "execution_count": 37,
     "metadata": {},
     "output_type": "execute_result"
    }
   ],
   "source": [
    "unique5 & unique6"
   ]
  },
  {
   "attachments": {},
   "cell_type": "markdown",
   "metadata": {},
   "source": [
    "The ```frozenset``` method ```difference``` returns all ```unique``` references from the ```frozenset``` instance the method is called from that do not occur in the ```frozenset``` instance the method is being applied to:"
   ]
  },
  {
   "cell_type": "code",
   "execution_count": 38,
   "metadata": {},
   "outputs": [
    {
     "data": {
      "text/plain": [
       "\u001b[1;31mDocstring:\u001b[0m\n",
       "Return the difference of two or more sets as a new set.\n",
       "\n",
       "(i.e. all elements that are in this set but not the others.)\n",
       "\u001b[1;31mType:\u001b[0m      builtin_function_or_method"
      ]
     },
     "metadata": {},
     "output_type": "display_data"
    }
   ],
   "source": [
    "unique5.difference?"
   ]
  },
  {
   "attachments": {},
   "cell_type": "markdown",
   "metadata": {},
   "source": [
    "For example:"
   ]
  },
  {
   "attachments": {},
   "cell_type": "markdown",
   "metadata": {},
   "source": [
    "unique5 = {<span style='color:green'>0</span>, <span style='color:green'>1</span>, <span style='color:green'>2</span>, <span style='color:green'>3</span>, <span style='color:red'>4</span>, <span style='color:red'>5</span>, <span style='color:red'>6</span>}\n",
    "\n",
    "unique6 = ◼◼◼◼◼{<span style='color:red'>4</span>, <span style='color:red'>5</span>, <span style='color:red'>6</span>, 7, 8, 9}"
   ]
  },
  {
   "cell_type": "code",
   "execution_count": 39,
   "metadata": {},
   "outputs": [
    {
     "data": {
      "text/plain": [
       "frozenset({0, 1, 2, 3})"
      ]
     },
     "execution_count": 39,
     "metadata": {},
     "output_type": "execute_result"
    }
   ],
   "source": [
    "unique5.difference(unique6)"
   ]
  },
  {
   "cell_type": "code",
   "execution_count": 40,
   "metadata": {},
   "outputs": [
    {
     "data": {
      "text/plain": [
       "frozenset({0, 1, 2, 3})"
      ]
     },
     "execution_count": 40,
     "metadata": {},
     "output_type": "execute_result"
    }
   ],
   "source": [
    "unique5 - unique6"
   ]
  },
  {
   "attachments": {},
   "cell_type": "markdown",
   "metadata": {},
   "source": [
    "And the ```frozenset``` method ```symmetric_difference``` returns all unique references from either ```frozenset``` instance that do not occur in the other ```frozenset```:"
   ]
  },
  {
   "cell_type": "code",
   "execution_count": 41,
   "metadata": {},
   "outputs": [
    {
     "data": {
      "text/plain": [
       "\u001b[1;31mDocstring:\u001b[0m\n",
       "Return the symmetric difference of two sets as a new set.\n",
       "\n",
       "(i.e. all elements that are in exactly one of the sets.)\n",
       "\u001b[1;31mType:\u001b[0m      builtin_function_or_method"
      ]
     },
     "metadata": {},
     "output_type": "display_data"
    }
   ],
   "source": [
    "unique5.symmetric_difference?"
   ]
  },
  {
   "attachments": {},
   "cell_type": "markdown",
   "metadata": {},
   "source": [
    "For example:\n",
    "\n",
    "unique5 = {<span style='color:green'>0</span>, <span style='color:green'>1</span>, <span style='color:green'>2</span>, <span style='color:green'>3</span>, <span style='color:red'>4</span>, <span style='color:red'>5</span>, <span style='color:red'>6</span>}\n",
    "\n",
    "unique6 = ◼◼◼◼◼{<span style='color:red'>4</span>, <span style='color:red'>5</span>, <span style='color:red'>6</span>, <span style='color:green'>7</span>, <span style='color:green'>8</span>, <span style='color:green'>9</span>}"
   ]
  },
  {
   "cell_type": "code",
   "execution_count": 42,
   "metadata": {},
   "outputs": [
    {
     "data": {
      "text/plain": [
       "frozenset({0, 1, 2, 3, 7, 8, 9})"
      ]
     },
     "execution_count": 42,
     "metadata": {},
     "output_type": "execute_result"
    }
   ],
   "source": [
    "unique5.symmetric_difference(unique6)"
   ]
  },
  {
   "cell_type": "code",
   "execution_count": 43,
   "metadata": {},
   "outputs": [
    {
     "data": {
      "text/plain": [
       "frozenset({0, 1, 2, 3, 7, 8, 9})"
      ]
     },
     "execution_count": 43,
     "metadata": {},
     "output_type": "execute_result"
    }
   ],
   "source": [
    "unique5 ^ unique6"
   ]
  },
  {
   "attachments": {},
   "cell_type": "markdown",
   "metadata": {},
   "source": [
    "## Comparison Operators"
   ]
  },
  {
   "attachments": {},
   "cell_type": "markdown",
   "metadata": {},
   "source": [
    "If the following two ```frozenset``` methods are examined:"
   ]
  },
  {
   "cell_type": "code",
   "execution_count": 44,
   "metadata": {},
   "outputs": [
    {
     "data": {
      "text/plain": [
       "frozenset({0, 1, 2, 3, 4, 5, 6})"
      ]
     },
     "execution_count": 44,
     "metadata": {},
     "output_type": "execute_result"
    }
   ],
   "source": [
    "unique5"
   ]
  },
  {
   "cell_type": "code",
   "execution_count": 45,
   "metadata": {},
   "outputs": [
    {
     "data": {
      "text/plain": [
       "frozenset({4, 5, 6, 7, 8, 9})"
      ]
     },
     "execution_count": 45,
     "metadata": {},
     "output_type": "execute_result"
    }
   ],
   "source": [
    "unique6"
   ]
  },
  {
   "attachments": {},
   "cell_type": "markdown",
   "metadata": {},
   "source": [
    "Alongside their ```union``` (superset):"
   ]
  },
  {
   "cell_type": "code",
   "execution_count": 46,
   "metadata": {},
   "outputs": [],
   "source": [
    "unique7 = unique5.union(unique6)"
   ]
  },
  {
   "attachments": {},
   "cell_type": "markdown",
   "metadata": {},
   "source": [
    "The ```frozenset``` comparison operators ```__eq__``` (*dunder eq*), ```__ne__``` (*dunder ne*), ```__lt__``` (*dunder le*), ```__le__``` (*dunder le*), ```__gt__``` (*dunder gt*) and ```__ge__``` (*dunder ge*) define the behaviour of the operators ```==```, ```!=```, ```<```, ```>```, ```<=``` and ```>=``` when used on ```frozenset``` instances. For the ```frozenset``` class these are configured for the concept of a subset or superset:\n",
    "\n",
    "|Identifier|Datamodel Identifier|Operator|\n",
    "|---|---|---|\n",
    "||\\_\\_eq\\_\\_|==|\n",
    "||\\_\\_ne\\_\\_|!=|\n",
    "|issubset|\\_\\_lt\\_\\_|<|\n",
    "|issuperset|\\_\\_gt\\_\\_|>|\n",
    "||\\_\\_le\\_\\_|<|\n",
    "||\\_\\_ge\\_\\_|>|\n",
    "\n",
    "In the example below where neither of the ```frozenset``` instances are a superset or subset, all of the comparison operators except ```!=``` will be ```False```:"
   ]
  },
  {
   "cell_type": "code",
   "execution_count": 47,
   "metadata": {},
   "outputs": [
    {
     "data": {
      "text/plain": [
       "frozenset({0, 1, 2, 3})"
      ]
     },
     "execution_count": 47,
     "metadata": {},
     "output_type": "execute_result"
    }
   ],
   "source": [
    "unique5.difference(unique6)"
   ]
  },
  {
   "cell_type": "code",
   "execution_count": 48,
   "metadata": {},
   "outputs": [
    {
     "data": {
      "text/plain": [
       "frozenset({7, 8, 9})"
      ]
     },
     "execution_count": 48,
     "metadata": {},
     "output_type": "execute_result"
    }
   ],
   "source": [
    "unique6.difference(unique5)"
   ]
  },
  {
   "cell_type": "code",
   "execution_count": 49,
   "metadata": {},
   "outputs": [
    {
     "data": {
      "text/plain": [
       "False"
      ]
     },
     "execution_count": 49,
     "metadata": {},
     "output_type": "execute_result"
    }
   ],
   "source": [
    "unique5 > unique6"
   ]
  },
  {
   "cell_type": "code",
   "execution_count": 50,
   "metadata": {},
   "outputs": [
    {
     "data": {
      "text/plain": [
       "False"
      ]
     },
     "execution_count": 50,
     "metadata": {},
     "output_type": "execute_result"
    }
   ],
   "source": [
    "unique5 == unique6"
   ]
  },
  {
   "cell_type": "code",
   "execution_count": 51,
   "metadata": {},
   "outputs": [
    {
     "data": {
      "text/plain": [
       "False"
      ]
     },
     "execution_count": 51,
     "metadata": {},
     "output_type": "execute_result"
    }
   ],
   "source": [
    "unique5 < unique6"
   ]
  },
  {
   "cell_type": "code",
   "execution_count": 52,
   "metadata": {},
   "outputs": [
    {
     "data": {
      "text/plain": [
       "True"
      ]
     },
     "execution_count": 52,
     "metadata": {},
     "output_type": "execute_result"
    }
   ],
   "source": [
    "unique5 != unique6"
   ]
  },
  {
   "attachments": {},
   "cell_type": "markdown",
   "metadata": {},
   "source": [
    "If instead the super ```frozenset``` is compared:"
   ]
  },
  {
   "cell_type": "code",
   "execution_count": 53,
   "metadata": {},
   "outputs": [
    {
     "data": {
      "text/plain": [
       "True"
      ]
     },
     "execution_count": 53,
     "metadata": {},
     "output_type": "execute_result"
    }
   ],
   "source": [
    "unique7 > unique6"
   ]
  },
  {
   "cell_type": "code",
   "execution_count": 54,
   "metadata": {},
   "outputs": [
    {
     "data": {
      "text/plain": [
       "True"
      ]
     },
     "execution_count": 54,
     "metadata": {},
     "output_type": "execute_result"
    }
   ],
   "source": [
    "unique7.issuperset(unique6)"
   ]
  },
  {
   "cell_type": "code",
   "execution_count": 55,
   "metadata": {},
   "outputs": [
    {
     "data": {
      "text/plain": [
       "True"
      ]
     },
     "execution_count": 55,
     "metadata": {},
     "output_type": "execute_result"
    }
   ],
   "source": [
    "unique7 >= unique6"
   ]
  },
  {
   "attachments": {},
   "cell_type": "markdown",
   "metadata": {},
   "source": [
    "And:"
   ]
  },
  {
   "cell_type": "code",
   "execution_count": 56,
   "metadata": {},
   "outputs": [
    {
     "data": {
      "text/plain": [
       "True"
      ]
     },
     "execution_count": 56,
     "metadata": {},
     "output_type": "execute_result"
    }
   ],
   "source": [
    "unique6 < unique7"
   ]
  },
  {
   "cell_type": "code",
   "execution_count": 57,
   "metadata": {},
   "outputs": [
    {
     "data": {
      "text/plain": [
       "True"
      ]
     },
     "execution_count": 57,
     "metadata": {},
     "output_type": "execute_result"
    }
   ],
   "source": [
    "unique6.issubset(unique7)"
   ]
  },
  {
   "cell_type": "code",
   "execution_count": 58,
   "metadata": {},
   "outputs": [
    {
     "data": {
      "text/plain": [
       "True"
      ]
     },
     "execution_count": 58,
     "metadata": {},
     "output_type": "execute_result"
    }
   ],
   "source": [
    "unique6 <= unique7"
   ]
  },
  {
   "cell_type": "markdown",
   "metadata": {},
   "source": [
    "[Return to Python Tutorials](../readme.md)"
   ]
  }
 ],
 "metadata": {
  "kernelspec": {
   "display_name": "Python 3 (ipykernel)",
   "language": "python",
   "name": "python3"
  },
  "language_info": {
   "codemirror_mode": {
    "name": "ipython",
    "version": 3
   },
   "file_extension": ".py",
   "mimetype": "text/x-python",
   "name": "python",
   "nbconvert_exporter": "python",
   "pygments_lexer": "ipython3",
   "version": "3.12.1"
  },
  "vscode": {
   "interpreter": {
    "hash": "4648373dafda34926c036cc9e466ef2f8d360789320441bb704a9be21d427d2a"
   }
  }
 },
 "nbformat": 4,
 "nbformat_minor": 4
}
