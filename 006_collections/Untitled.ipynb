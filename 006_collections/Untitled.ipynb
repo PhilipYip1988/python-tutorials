{
 "cells": [
  {
   "cell_type": "code",
   "execution_count": 1,
   "id": "a66f9035-c9cb-4cfa-95e6-89e68a7a5456",
   "metadata": {},
   "outputs": [
    {
     "data": {
      "text/plain": [
       "'el'"
      ]
     },
     "execution_count": 1,
     "metadata": {},
     "output_type": "execute_result"
    }
   ],
   "source": [
    "\"hello\"[1:3]"
   ]
  },
  {
   "cell_type": "code",
   "execution_count": 2,
   "id": "1f909e41-19bd-4bb0-a102-b076b4a763af",
   "metadata": {},
   "outputs": [
    {
     "data": {
      "text/plain": [
       "'hello'"
      ]
     },
     "execution_count": 2,
     "metadata": {},
     "output_type": "execute_result"
    }
   ],
   "source": [
    "\"hello\"[0:len(\"hello\"):1]"
   ]
  },
  {
   "cell_type": "code",
   "execution_count": 3,
   "id": "6a58bc51-b7ea-4616-a1c1-558768a4befa",
   "metadata": {},
   "outputs": [
    {
     "data": {
      "text/plain": [
       "'hello'"
      ]
     },
     "execution_count": 3,
     "metadata": {},
     "output_type": "execute_result"
    }
   ],
   "source": [
    "\"hello\"[0:len(\"hello\"):]"
   ]
  },
  {
   "cell_type": "code",
   "execution_count": 9,
   "id": "eb8ac7d6-f800-49a1-9c2e-bc0b5c8a4b63",
   "metadata": {},
   "outputs": [
    {
     "data": {
      "text/plain": [
       "0"
      ]
     },
     "execution_count": 9,
     "metadata": {},
     "output_type": "execute_result"
    }
   ],
   "source": [
    "\"hello\".index(\"h\")"
   ]
  },
  {
   "cell_type": "code",
   "execution_count": 12,
   "id": "fe95e814-ac46-47ae-9dad-f0723772d056",
   "metadata": {},
   "outputs": [
    {
     "data": {
      "text/plain": [
       "1"
      ]
     },
     "execution_count": 12,
     "metadata": {},
     "output_type": "execute_result"
    }
   ],
   "source": [
    "\"hello\".index(\"ell\")"
   ]
  },
  {
   "cell_type": "code",
   "execution_count": 13,
   "id": "0c839c5a-34c5-412b-8c43-b35303bbd8a3",
   "metadata": {},
   "outputs": [
    {
     "data": {
      "text/plain": [
       "'hlo'"
      ]
     },
     "execution_count": 13,
     "metadata": {},
     "output_type": "execute_result"
    }
   ],
   "source": [
    "\"hello\"[::2]"
   ]
  },
  {
   "cell_type": "code",
   "execution_count": 14,
   "id": "69c80303-3d03-4cac-811f-587de8bd2813",
   "metadata": {},
   "outputs": [
    {
     "data": {
      "text/plain": [
       "'olleh'"
      ]
     },
     "execution_count": 14,
     "metadata": {},
     "output_type": "execute_result"
    }
   ],
   "source": [
    "\"hello\"[::-1]"
   ]
  },
  {
   "cell_type": "code",
   "execution_count": 19,
   "id": "731c3d38-64e1-4a43-8a18-143ca709edbc",
   "metadata": {},
   "outputs": [
    {
     "data": {
      "text/plain": [
       "'olleh'"
      ]
     },
     "execution_count": 19,
     "metadata": {},
     "output_type": "execute_result"
    }
   ],
   "source": [
    "\"hello\"[-1:-len(\"hello\")-1:-1]"
   ]
  },
  {
   "cell_type": "code",
   "execution_count": null,
   "id": "bbb8f0cd-7bbc-4fdc-af1e-b02c1c7b5e30",
   "metadata": {},
   "outputs": [],
   "source": []
  }
 ],
 "metadata": {
  "kernelspec": {
   "display_name": "Python 3 (ipykernel)",
   "language": "python",
   "name": "python3"
  },
  "language_info": {
   "codemirror_mode": {
    "name": "ipython",
    "version": 3
   },
   "file_extension": ".py",
   "mimetype": "text/x-python",
   "name": "python",
   "nbconvert_exporter": "python",
   "pygments_lexer": "ipython3",
   "version": "3.9.12"
  }
 },
 "nbformat": 4,
 "nbformat_minor": 5
}
