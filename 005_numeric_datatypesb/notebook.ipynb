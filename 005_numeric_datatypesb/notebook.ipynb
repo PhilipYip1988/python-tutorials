{
 "cells": [
  {
   "cell_type": "code",
   "execution_count": 1,
   "id": "d382bc63-b5fc-4d89-a0b5-8fff2bd8258a",
   "metadata": {},
   "outputs": [
    {
     "data": {
      "text/plain": [
       "65"
      ]
     },
     "execution_count": 1,
     "metadata": {},
     "output_type": "execute_result"
    }
   ],
   "source": [
    "int('65')"
   ]
  },
  {
   "cell_type": "code",
   "execution_count": 2,
   "id": "1e702f8e-849c-4208-bdd0-dd6f20c2e5ef",
   "metadata": {},
   "outputs": [
    {
     "data": {
      "text/plain": [
       "65"
      ]
     },
     "execution_count": 2,
     "metadata": {},
     "output_type": "execute_result"
    }
   ],
   "source": [
    "int('0b1000001', base=2)"
   ]
  },
  {
   "cell_type": "code",
   "execution_count": 3,
   "id": "28ba4805-b081-4332-9992-2189d5fe7dbb",
   "metadata": {},
   "outputs": [
    {
     "data": {
      "text/plain": [
       "65"
      ]
     },
     "execution_count": 3,
     "metadata": {},
     "output_type": "execute_result"
    }
   ],
   "source": [
    "int('0x41', base=16)"
   ]
  },
  {
   "cell_type": "code",
   "execution_count": 4,
   "id": "724f608f-0607-4fd2-8111-b7d6a1f1f926",
   "metadata": {},
   "outputs": [
    {
     "data": {
      "text/plain": [
       "65"
      ]
     },
     "execution_count": 4,
     "metadata": {},
     "output_type": "execute_result"
    }
   ],
   "source": [
    "65"
   ]
  },
  {
   "cell_type": "code",
   "execution_count": 5,
   "id": "1fbf11ba-8aaf-4a52-8b3f-1ed98e281048",
   "metadata": {},
   "outputs": [
    {
     "data": {
      "text/plain": [
       "65"
      ]
     },
     "execution_count": 5,
     "metadata": {},
     "output_type": "execute_result"
    }
   ],
   "source": [
    "0b1000001"
   ]
  },
  {
   "cell_type": "code",
   "execution_count": 6,
   "id": "ce2d8cf9-b623-46a2-8b7f-628949778526",
   "metadata": {},
   "outputs": [
    {
     "data": {
      "text/plain": [
       "65"
      ]
     },
     "execution_count": 6,
     "metadata": {},
     "output_type": "execute_result"
    }
   ],
   "source": [
    "0x41"
   ]
  },
  {
   "cell_type": "code",
   "execution_count": 7,
   "id": "7696230e-51c5-4eb5-a94d-a8a6216291df",
   "metadata": {},
   "outputs": [],
   "source": [
    "num1 = 65"
   ]
  },
  {
   "cell_type": "code",
   "execution_count": 8,
   "id": "d15f5e9a-64b6-4728-b990-433a02d9276f",
   "metadata": {},
   "outputs": [
    {
     "data": {
      "text/plain": [
       "65"
      ]
     },
     "execution_count": 8,
     "metadata": {},
     "output_type": "execute_result"
    }
   ],
   "source": [
    "num1.numerator"
   ]
  },
  {
   "cell_type": "code",
   "execution_count": 9,
   "id": "851994f4-159e-4731-98f6-6cf0c8beaba8",
   "metadata": {},
   "outputs": [
    {
     "data": {
      "text/plain": [
       "1"
      ]
     },
     "execution_count": 9,
     "metadata": {},
     "output_type": "execute_result"
    }
   ],
   "source": [
    "num1.denominator"
   ]
  },
  {
   "cell_type": "code",
   "execution_count": 10,
   "id": "3064e809-3199-497a-ba69-eb87d3f6d348",
   "metadata": {},
   "outputs": [
    {
     "data": {
      "text/plain": [
       "(65, 1)"
      ]
     },
     "execution_count": 10,
     "metadata": {},
     "output_type": "execute_result"
    }
   ],
   "source": [
    "num1.as_integer_ratio()"
   ]
  },
  {
   "cell_type": "code",
   "execution_count": 11,
   "id": "4071495d-16c1-47dd-a731-da756e8ccb96",
   "metadata": {},
   "outputs": [
    {
     "data": {
      "text/plain": [
       "65"
      ]
     },
     "execution_count": 11,
     "metadata": {},
     "output_type": "execute_result"
    }
   ],
   "source": [
    "num1.real"
   ]
  },
  {
   "cell_type": "code",
   "execution_count": 12,
   "id": "b5f2cde4-5f7b-4c04-af17-d6a71ed38da2",
   "metadata": {},
   "outputs": [
    {
     "data": {
      "text/plain": [
       "0"
      ]
     },
     "execution_count": 12,
     "metadata": {},
     "output_type": "execute_result"
    }
   ],
   "source": [
    "num1.imag"
   ]
  },
  {
   "cell_type": "code",
   "execution_count": 13,
   "id": "cd82685d-3756-4502-92b2-aa2c90bf4808",
   "metadata": {},
   "outputs": [
    {
     "data": {
      "text/plain": [
       "65"
      ]
     },
     "execution_count": 13,
     "metadata": {},
     "output_type": "execute_result"
    }
   ],
   "source": [
    "num1.conjugate()"
   ]
  },
  {
   "cell_type": "code",
   "execution_count": 14,
   "id": "23cf4a45-6d28-46b8-9a45-0ded10d45983",
   "metadata": {},
   "outputs": [
    {
     "data": {
      "text/plain": [
       "'0b1000001'"
      ]
     },
     "execution_count": 14,
     "metadata": {},
     "output_type": "execute_result"
    }
   ],
   "source": [
    "bin(num1)"
   ]
  },
  {
   "cell_type": "code",
   "execution_count": 15,
   "id": "8574a2f6-65bf-403d-8515-f49e2465de1c",
   "metadata": {},
   "outputs": [
    {
     "data": {
      "text/plain": [
       "2"
      ]
     },
     "execution_count": 15,
     "metadata": {},
     "output_type": "execute_result"
    }
   ],
   "source": [
    "num1.bit_count()"
   ]
  },
  {
   "cell_type": "code",
   "execution_count": 16,
   "id": "2bfe160c-15d9-4a17-835e-4679e6b11cd6",
   "metadata": {},
   "outputs": [
    {
     "data": {
      "text/plain": [
       "7"
      ]
     },
     "execution_count": 16,
     "metadata": {},
     "output_type": "execute_result"
    }
   ],
   "source": [
    "num1.bit_length()"
   ]
  },
  {
   "cell_type": "code",
   "execution_count": 17,
   "id": "8784ce19-2b31-4370-8fc6-e028e2fa1b90",
   "metadata": {},
   "outputs": [
    {
     "data": {
      "text/plain": [
       "b'A'"
      ]
     },
     "execution_count": 17,
     "metadata": {},
     "output_type": "execute_result"
    }
   ],
   "source": [
    "num1.to_bytes()"
   ]
  },
  {
   "cell_type": "code",
   "execution_count": 18,
   "id": "7e88c767-2509-40a8-a6a8-dcfeb7e5b78f",
   "metadata": {},
   "outputs": [
    {
     "data": {
      "text/plain": [
       "'A'"
      ]
     },
     "execution_count": 18,
     "metadata": {},
     "output_type": "execute_result"
    }
   ],
   "source": [
    "chr(num1)"
   ]
  },
  {
   "cell_type": "code",
   "execution_count": 19,
   "id": "a7c6aba0-3bd8-4915-a766-af3d26b312f5",
   "metadata": {},
   "outputs": [
    {
     "data": {
      "text/plain": [
       "b'\\x00\\x00A'"
      ]
     },
     "execution_count": 19,
     "metadata": {},
     "output_type": "execute_result"
    }
   ],
   "source": [
    "num1.to_bytes(length=3)"
   ]
  },
  {
   "cell_type": "code",
   "execution_count": 20,
   "id": "bb375bb2-8b33-4d51-add3-4bf771455605",
   "metadata": {},
   "outputs": [
    {
     "data": {
      "text/plain": [
       "'000041'"
      ]
     },
     "execution_count": 20,
     "metadata": {},
     "output_type": "execute_result"
    }
   ],
   "source": [
    "num1.to_bytes(length=3).hex()"
   ]
  },
  {
   "cell_type": "code",
   "execution_count": 21,
   "id": "15812180-4cc1-4f1b-9ae0-e26d378b7935",
   "metadata": {},
   "outputs": [],
   "source": [
    "letter = bytes('A', encoding='UTF-8')"
   ]
  },
  {
   "cell_type": "code",
   "execution_count": 22,
   "id": "65fea94d-ed2c-474c-a3f8-4a22aa67dbc5",
   "metadata": {},
   "outputs": [],
   "source": [
    "num2 = 949"
   ]
  },
  {
   "cell_type": "code",
   "execution_count": 23,
   "id": "07e711f3-83cf-4fed-bc33-cd5defc85cf9",
   "metadata": {},
   "outputs": [
    {
     "data": {
      "text/plain": [
       "'ε'"
      ]
     },
     "execution_count": 23,
     "metadata": {},
     "output_type": "execute_result"
    }
   ],
   "source": [
    "chr(num2)"
   ]
  },
  {
   "cell_type": "code",
   "execution_count": 24,
   "id": "79811cf9-d417-4ec3-93e6-8d872120b1e7",
   "metadata": {},
   "outputs": [],
   "source": [
    "letter2 = num2.to_bytes(length=2, byteorder='big')"
   ]
  },
  {
   "cell_type": "code",
   "execution_count": 25,
   "id": "e79ba512-0098-4e1a-a981-0aab6a912e57",
   "metadata": {},
   "outputs": [
    {
     "data": {
      "text/plain": [
       "'ε'"
      ]
     },
     "execution_count": 25,
     "metadata": {},
     "output_type": "execute_result"
    }
   ],
   "source": [
    "letter2.decode(encoding='UTF-16-BE')"
   ]
  },
  {
   "cell_type": "code",
   "execution_count": 26,
   "id": "c8066c0d-72cd-473d-872a-b4fb4b346d6a",
   "metadata": {},
   "outputs": [
    {
     "data": {
      "text/plain": [
       "65"
      ]
     },
     "execution_count": 26,
     "metadata": {},
     "output_type": "execute_result"
    }
   ],
   "source": [
    "int.from_bytes(letter)"
   ]
  },
  {
   "cell_type": "code",
   "execution_count": 27,
   "id": "cb5c57ba-a398-49f6-91e7-c1d0588df8fd",
   "metadata": {},
   "outputs": [
    {
     "data": {
      "text/plain": [
       "949"
      ]
     },
     "execution_count": 27,
     "metadata": {},
     "output_type": "execute_result"
    }
   ],
   "source": [
    "int.from_bytes(letter2)"
   ]
  },
  {
   "cell_type": "code",
   "execution_count": 28,
   "id": "6baa6e91-9e3a-4c79-8c87-c21247c8d6fb",
   "metadata": {},
   "outputs": [],
   "source": [
    "import pprint"
   ]
  },
  {
   "cell_type": "code",
   "execution_count": 29,
   "id": "58a43e45-1b73-4021-94ce-7ff77dd01d7c",
   "metadata": {},
   "outputs": [
    {
     "name": "stdout",
     "output_type": "stream",
     "text": [
      "['__abs__', '__add__', '__and__', '__bool__', '__ceil__', '__class__',\n",
      " '__delattr__', '__dir__', '__divmod__', '__doc__', '__eq__', '__float__',\n",
      " '__floor__', '__floordiv__', '__format__', '__ge__', '__getattribute__',\n",
      " '__getnewargs__', '__getstate__', '__gt__', '__hash__', '__index__',\n",
      " '__init__', '__init_subclass__', '__int__', '__invert__', '__le__',\n",
      " '__lshift__', '__lt__', '__mod__', '__mul__', '__ne__', '__neg__', '__new__',\n",
      " '__or__', '__pos__', '__pow__', '__radd__', '__rand__', '__rdivmod__',\n",
      " '__reduce__', '__reduce_ex__', '__repr__', '__rfloordiv__', '__rlshift__',\n",
      " '__rmod__', '__rmul__', '__ror__', '__round__', '__rpow__', '__rrshift__',\n",
      " '__rshift__', '__rsub__', '__rtruediv__', '__rxor__', '__setattr__',\n",
      " '__sizeof__', '__str__', '__sub__', '__subclasshook__', '__truediv__',\n",
      " '__trunc__', '__xor__', 'as_integer_ratio', 'bit_count', 'bit_length',\n",
      " 'conjugate', 'denominator', 'from_bytes', 'imag', 'numerator', 'real',\n",
      " 'to_bytes']\n"
     ]
    }
   ],
   "source": [
    "pprint.pprint(dir(num1), compact=True)"
   ]
  },
  {
   "cell_type": "code",
   "execution_count": 30,
   "id": "ac5866e1-88d1-4de9-ad92-38a4b44d2c36",
   "metadata": {},
   "outputs": [
    {
     "data": {
      "text/plain": [
       "['__add__',\n",
       " '__class__',\n",
       " '__class_getitem__',\n",
       " '__contains__',\n",
       " '__delattr__',\n",
       " '__delitem__',\n",
       " '__dir__',\n",
       " '__doc__',\n",
       " '__eq__',\n",
       " '__format__',\n",
       " '__ge__',\n",
       " '__getattribute__',\n",
       " '__getitem__',\n",
       " '__getstate__',\n",
       " '__gt__',\n",
       " '__hash__',\n",
       " '__iadd__',\n",
       " '__imul__',\n",
       " '__init__',\n",
       " '__init_subclass__',\n",
       " '__iter__',\n",
       " '__le__',\n",
       " '__len__',\n",
       " '__lt__',\n",
       " '__mul__',\n",
       " '__ne__',\n",
       " '__new__',\n",
       " '__reduce__',\n",
       " '__reduce_ex__',\n",
       " '__repr__',\n",
       " '__reversed__',\n",
       " '__rmul__',\n",
       " '__setattr__',\n",
       " '__setitem__',\n",
       " '__sizeof__',\n",
       " '__str__',\n",
       " '__subclasshook__',\n",
       " 'append',\n",
       " 'clear',\n",
       " 'copy',\n",
       " 'count',\n",
       " 'extend',\n",
       " 'index',\n",
       " 'insert',\n",
       " 'pop',\n",
       " 'remove',\n",
       " 'reverse',\n",
       " 'sort']"
      ]
     },
     "execution_count": 30,
     "metadata": {},
     "output_type": "execute_result"
    }
   ],
   "source": [
    "dir(list())"
   ]
  },
  {
   "cell_type": "code",
   "execution_count": 31,
   "id": "10d6ae94-a415-4fc6-868e-350fcef3e6db",
   "metadata": {},
   "outputs": [
    {
     "data": {
      "text/plain": [
       "'65'"
      ]
     },
     "execution_count": 31,
     "metadata": {},
     "output_type": "execute_result"
    }
   ],
   "source": [
    "repr(num1)"
   ]
  },
  {
   "cell_type": "code",
   "execution_count": 32,
   "id": "7bfaef4a-7c03-42be-9bbe-3eda71c997d9",
   "metadata": {},
   "outputs": [
    {
     "data": {
      "text/plain": [
       "'65'"
      ]
     },
     "execution_count": 32,
     "metadata": {},
     "output_type": "execute_result"
    }
   ],
   "source": [
    "str(num1)"
   ]
  },
  {
   "cell_type": "code",
   "execution_count": 33,
   "id": "24a7b7df-c76e-4a3a-9cec-c66324fcd2fa",
   "metadata": {},
   "outputs": [
    {
     "name": "stdout",
     "output_type": "stream",
     "text": [
      "65\n"
     ]
    }
   ],
   "source": [
    "print(num1)"
   ]
  },
  {
   "cell_type": "code",
   "execution_count": 34,
   "id": "3fd7855f-db07-4954-94fc-77ae6139683b",
   "metadata": {},
   "outputs": [
    {
     "name": "stdout",
     "output_type": "stream",
     "text": [
      "65\n"
     ]
    }
   ],
   "source": [
    "print(repr(num1))"
   ]
  },
  {
   "cell_type": "code",
   "execution_count": 35,
   "id": "4d802668-47a6-4a30-b90a-076db7d4fbc2",
   "metadata": {},
   "outputs": [
    {
     "data": {
      "text/plain": [
       "65"
      ]
     },
     "execution_count": 35,
     "metadata": {},
     "output_type": "execute_result"
    }
   ],
   "source": [
    "num1"
   ]
  },
  {
   "cell_type": "code",
   "execution_count": 36,
   "id": "288e400a-7cdc-433a-8737-1e11974b839d",
   "metadata": {},
   "outputs": [
    {
     "data": {
      "text/plain": [
       "'The number is 65'"
      ]
     },
     "execution_count": 36,
     "metadata": {},
     "output_type": "execute_result"
    }
   ],
   "source": [
    "f'The number is {num1 :d}'"
   ]
  },
  {
   "cell_type": "code",
   "execution_count": 37,
   "id": "aca2d38f-9ba1-4328-82c7-c2f777b538da",
   "metadata": {},
   "outputs": [
    {
     "data": {
      "text/plain": [
       "'The number is 065'"
      ]
     },
     "execution_count": 37,
     "metadata": {},
     "output_type": "execute_result"
    }
   ],
   "source": [
    "f'The number is {num1 :03d}'"
   ]
  },
  {
   "cell_type": "code",
   "execution_count": 38,
   "id": "875293c0-1649-4494-b64e-1beafbf6ec77",
   "metadata": {},
   "outputs": [
    {
     "data": {
      "text/plain": [
       "'The number is +065'"
      ]
     },
     "execution_count": 38,
     "metadata": {},
     "output_type": "execute_result"
    }
   ],
   "source": [
    "f'The number is {num1 :+04d}'"
   ]
  },
  {
   "cell_type": "code",
   "execution_count": 39,
   "id": "9a3fdf12-20fa-46ab-9fc6-b582dd33b7c9",
   "metadata": {},
   "outputs": [
    {
     "data": {
      "text/plain": [
       "int"
      ]
     },
     "execution_count": 39,
     "metadata": {},
     "output_type": "execute_result"
    }
   ],
   "source": [
    "type(num1)"
   ]
  },
  {
   "cell_type": "code",
   "execution_count": 40,
   "id": "df7c7d26-adfe-448e-98ed-7980897bc3d7",
   "metadata": {},
   "outputs": [
    {
     "data": {
      "text/plain": [
       "\u001b[1;31mType:\u001b[0m        int\n",
       "\u001b[1;31mString form:\u001b[0m 65\n",
       "\u001b[1;31mDocstring:\u001b[0m  \n",
       "int([x]) -> integer\n",
       "int(x, base=10) -> integer\n",
       "\n",
       "Convert a number or string to an integer, or return 0 if no arguments\n",
       "are given.  If x is a number, return x.__int__().  For floating point\n",
       "numbers, this truncates towards zero.\n",
       "\n",
       "If x is not a number or if base is given, then x must be a string,\n",
       "bytes, or bytearray instance representing an integer literal in the\n",
       "given base.  The literal can be preceded by '+' or '-' and be surrounded\n",
       "by whitespace.  The base defaults to 10.  Valid bases are 0 and 2-36.\n",
       "Base 0 means to interpret the base from the string as an integer literal.\n",
       ">>> int('0b100', base=0)\n",
       "4"
      ]
     },
     "metadata": {},
     "output_type": "display_data"
    }
   ],
   "source": [
    "? num1"
   ]
  },
  {
   "cell_type": "code",
   "execution_count": 41,
   "id": "554672ba-b01d-4640-86e5-309196c15398",
   "metadata": {},
   "outputs": [
    {
     "data": {
      "text/plain": [
       "'h'"
      ]
     },
     "execution_count": 41,
     "metadata": {},
     "output_type": "execute_result"
    }
   ],
   "source": [
    "'hello'[0]"
   ]
  },
  {
   "cell_type": "code",
   "execution_count": 42,
   "id": "b77d46d5-ec36-4b3a-8bab-84a89455158f",
   "metadata": {},
   "outputs": [
    {
     "data": {
      "text/plain": [
       "104"
      ]
     },
     "execution_count": 42,
     "metadata": {},
     "output_type": "execute_result"
    }
   ],
   "source": [
    "b'hello'[0]"
   ]
  },
  {
   "cell_type": "code",
   "execution_count": 43,
   "id": "79c3e2a1-657e-43c1-9a98-fd33ccbf7581",
   "metadata": {},
   "outputs": [],
   "source": [
    "num_dict = {1: 'one', \n",
    "            2: 'two', \n",
    "            3: 'three'}"
   ]
  },
  {
   "cell_type": "code",
   "execution_count": 44,
   "id": "24b2e641-9629-4b67-9f0a-8840ad031121",
   "metadata": {},
   "outputs": [
    {
     "data": {
      "text/plain": [
       "'one'"
      ]
     },
     "execution_count": 44,
     "metadata": {},
     "output_type": "execute_result"
    }
   ],
   "source": [
    "num_dict[1]"
   ]
  },
  {
   "cell_type": "code",
   "execution_count": 45,
   "id": "6c147e39-43c5-4a4b-9d86-413feaafb46e",
   "metadata": {},
   "outputs": [],
   "source": [
    "#num1[0]"
   ]
  },
  {
   "cell_type": "code",
   "execution_count": 46,
   "id": "c0868b95-126c-4047-8a7c-2959668459a6",
   "metadata": {},
   "outputs": [
    {
     "data": {
      "text/plain": [
       "28"
      ]
     },
     "execution_count": 46,
     "metadata": {},
     "output_type": "execute_result"
    }
   ],
   "source": [
    "import sys\n",
    "sys.getsizeof(num1)"
   ]
  },
  {
   "cell_type": "code",
   "execution_count": 47,
   "id": "a0203ddd-69f2-4864-bfde-40eca8f0c5b9",
   "metadata": {},
   "outputs": [
    {
     "data": {
      "text/plain": [
       "65"
      ]
     },
     "execution_count": 47,
     "metadata": {},
     "output_type": "execute_result"
    }
   ],
   "source": [
    "num1.real"
   ]
  },
  {
   "cell_type": "code",
   "execution_count": 48,
   "id": "26f977c6-bd22-4f77-9a15-1621f10cd301",
   "metadata": {},
   "outputs": [],
   "source": [
    "#num1.real = 66"
   ]
  },
  {
   "cell_type": "code",
   "execution_count": 49,
   "id": "da61a9a6-f46b-414a-b992-afafb7be316a",
   "metadata": {},
   "outputs": [],
   "source": [
    "#del num1.real"
   ]
  },
  {
   "cell_type": "code",
   "execution_count": 50,
   "id": "f945b7b9-c795-4b14-81a9-9c498bd08c9e",
   "metadata": {},
   "outputs": [
    {
     "data": {
      "text/plain": [
       "65"
      ]
     },
     "execution_count": 50,
     "metadata": {},
     "output_type": "execute_result"
    }
   ],
   "source": [
    "num1"
   ]
  },
  {
   "cell_type": "code",
   "execution_count": 51,
   "id": "cae259e3-01ce-4696-94d8-84bff248ca3c",
   "metadata": {},
   "outputs": [
    {
     "data": {
      "text/plain": [
       "65"
      ]
     },
     "execution_count": 51,
     "metadata": {},
     "output_type": "execute_result"
    }
   ],
   "source": [
    "+ num1"
   ]
  },
  {
   "cell_type": "code",
   "execution_count": 52,
   "id": "3683a30e-897c-489d-8989-bcbe70e05d33",
   "metadata": {},
   "outputs": [
    {
     "data": {
      "text/plain": [
       "65"
      ]
     },
     "execution_count": 52,
     "metadata": {},
     "output_type": "execute_result"
    }
   ],
   "source": [
    "num1"
   ]
  },
  {
   "cell_type": "code",
   "execution_count": 53,
   "id": "c2bbf927-adc8-48cd-80ef-5625da887be9",
   "metadata": {},
   "outputs": [
    {
     "data": {
      "text/plain": [
       "-65"
      ]
     },
     "execution_count": 53,
     "metadata": {},
     "output_type": "execute_result"
    }
   ],
   "source": [
    "- num1"
   ]
  },
  {
   "cell_type": "code",
   "execution_count": 54,
   "id": "e0887d29-85af-4fc1-ac1c-838fa9c19396",
   "metadata": {},
   "outputs": [
    {
     "data": {
      "text/plain": [
       "65"
      ]
     },
     "execution_count": 54,
     "metadata": {},
     "output_type": "execute_result"
    }
   ],
   "source": [
    "num1"
   ]
  },
  {
   "cell_type": "code",
   "execution_count": 55,
   "id": "361ef62f-373f-450a-85b9-0e27e5ec51db",
   "metadata": {},
   "outputs": [
    {
     "data": {
      "text/plain": [
       "65"
      ]
     },
     "execution_count": 55,
     "metadata": {},
     "output_type": "execute_result"
    }
   ],
   "source": [
    "abs(num1)"
   ]
  },
  {
   "cell_type": "code",
   "execution_count": 56,
   "id": "f4d8c238-38ee-4067-83e1-3a74ddba41a3",
   "metadata": {},
   "outputs": [
    {
     "data": {
      "text/plain": [
       "65"
      ]
     },
     "execution_count": 56,
     "metadata": {},
     "output_type": "execute_result"
    }
   ],
   "source": [
    "abs(- num1)"
   ]
  },
  {
   "cell_type": "code",
   "execution_count": 57,
   "id": "4272a6b7-6cdc-4754-9c0c-622a6b7586d2",
   "metadata": {},
   "outputs": [
    {
     "data": {
      "text/plain": [
       "65"
      ]
     },
     "execution_count": 57,
     "metadata": {},
     "output_type": "execute_result"
    }
   ],
   "source": [
    "num1"
   ]
  },
  {
   "cell_type": "code",
   "execution_count": 58,
   "id": "d0a4ca7e-5a6e-46fa-9758-cab4a848f088",
   "metadata": {},
   "outputs": [],
   "source": [
    "import math"
   ]
  },
  {
   "cell_type": "code",
   "execution_count": 59,
   "id": "4065a7b4-f948-4bc5-9639-dcab874c1477",
   "metadata": {},
   "outputs": [
    {
     "data": {
      "text/plain": [
       "65"
      ]
     },
     "execution_count": 59,
     "metadata": {},
     "output_type": "execute_result"
    }
   ],
   "source": [
    "math.ceil(num1)"
   ]
  },
  {
   "cell_type": "code",
   "execution_count": 60,
   "id": "beeeef07-027b-49b6-b11a-1d46f625270c",
   "metadata": {},
   "outputs": [
    {
     "data": {
      "text/plain": [
       "65"
      ]
     },
     "execution_count": 60,
     "metadata": {},
     "output_type": "execute_result"
    }
   ],
   "source": [
    "math.floor(num1)"
   ]
  },
  {
   "cell_type": "code",
   "execution_count": 61,
   "id": "de863a8e-875f-4938-925a-328148123ec6",
   "metadata": {},
   "outputs": [
    {
     "data": {
      "text/plain": [
       "65"
      ]
     },
     "execution_count": 61,
     "metadata": {},
     "output_type": "execute_result"
    }
   ],
   "source": [
    "math.trunc(num1)"
   ]
  },
  {
   "cell_type": "code",
   "execution_count": 62,
   "id": "abc1cf5e-d19c-4751-ae95-213a5642deac",
   "metadata": {},
   "outputs": [
    {
     "data": {
      "text/plain": [
       "65"
      ]
     },
     "execution_count": 62,
     "metadata": {},
     "output_type": "execute_result"
    }
   ],
   "source": [
    "num1"
   ]
  },
  {
   "cell_type": "code",
   "execution_count": 63,
   "id": "e0d26cdd-938b-4b11-a940-7a13f982bc66",
   "metadata": {},
   "outputs": [
    {
     "data": {
      "text/plain": [
       "65"
      ]
     },
     "execution_count": 63,
     "metadata": {},
     "output_type": "execute_result"
    }
   ],
   "source": [
    "round(num1)"
   ]
  },
  {
   "cell_type": "code",
   "execution_count": 64,
   "id": "4eb586ce-4545-4b34-9fac-53fa3a9088a8",
   "metadata": {},
   "outputs": [
    {
     "data": {
      "text/plain": [
       "65"
      ]
     },
     "execution_count": 64,
     "metadata": {},
     "output_type": "execute_result"
    }
   ],
   "source": [
    "num1"
   ]
  },
  {
   "cell_type": "code",
   "execution_count": 65,
   "id": "dc16330d-26d9-423a-94f9-2d3bace5b472",
   "metadata": {},
   "outputs": [
    {
     "data": {
      "text/plain": [
       "65"
      ]
     },
     "execution_count": 65,
     "metadata": {},
     "output_type": "execute_result"
    }
   ],
   "source": [
    "int(num1)"
   ]
  },
  {
   "cell_type": "code",
   "execution_count": 66,
   "id": "5a0480e8-ca81-4193-b472-3798bd2dd5de",
   "metadata": {},
   "outputs": [
    {
     "data": {
      "text/plain": [
       "65"
      ]
     },
     "execution_count": 66,
     "metadata": {},
     "output_type": "execute_result"
    }
   ],
   "source": [
    "num1"
   ]
  },
  {
   "cell_type": "code",
   "execution_count": 67,
   "id": "10d9160a-69b8-4d6f-b059-fa303a1f93af",
   "metadata": {},
   "outputs": [
    {
     "data": {
      "text/plain": [
       "True"
      ]
     },
     "execution_count": 67,
     "metadata": {},
     "output_type": "execute_result"
    }
   ],
   "source": [
    "bool(num1)"
   ]
  },
  {
   "cell_type": "code",
   "execution_count": 68,
   "id": "3c523747-b8bf-4fa3-bdf6-51b2e3c42713",
   "metadata": {},
   "outputs": [],
   "source": [
    "num2 = 0"
   ]
  },
  {
   "cell_type": "code",
   "execution_count": 69,
   "id": "07f3f610-1dc6-4de9-bec6-0778f95aa4dc",
   "metadata": {},
   "outputs": [
    {
     "data": {
      "text/plain": [
       "False"
      ]
     },
     "execution_count": 69,
     "metadata": {},
     "output_type": "execute_result"
    }
   ],
   "source": [
    "bool(num2)"
   ]
  },
  {
   "cell_type": "code",
   "execution_count": 70,
   "id": "51c3e6d8-1825-4605-bab3-5ab7d4c790ef",
   "metadata": {},
   "outputs": [],
   "source": [
    "num3 = -1"
   ]
  },
  {
   "cell_type": "code",
   "execution_count": 71,
   "id": "c72c61af-05f1-47db-8561-a88ee05c81d7",
   "metadata": {},
   "outputs": [
    {
     "data": {
      "text/plain": [
       "True"
      ]
     },
     "execution_count": 71,
     "metadata": {},
     "output_type": "execute_result"
    }
   ],
   "source": [
    "bool(num3)"
   ]
  },
  {
   "cell_type": "code",
   "execution_count": 72,
   "id": "17ebb384-efc5-410b-bb48-1be731cd3548",
   "metadata": {},
   "outputs": [
    {
     "data": {
      "text/plain": [
       "65"
      ]
     },
     "execution_count": 72,
     "metadata": {},
     "output_type": "execute_result"
    }
   ],
   "source": [
    "num1"
   ]
  },
  {
   "cell_type": "code",
   "execution_count": 73,
   "id": "724f6788-2c63-4130-bb3a-07b0a5f34e30",
   "metadata": {},
   "outputs": [
    {
     "data": {
      "text/plain": [
       "65.0"
      ]
     },
     "execution_count": 73,
     "metadata": {},
     "output_type": "execute_result"
    }
   ],
   "source": [
    "float(num1)"
   ]
  },
  {
   "cell_type": "code",
   "execution_count": 74,
   "id": "5aa2d8e5-e9bb-4085-8a2f-35f4480b3bfa",
   "metadata": {},
   "outputs": [],
   "source": [
    "num1 = 65\n",
    "num2 = 4"
   ]
  },
  {
   "cell_type": "code",
   "execution_count": 75,
   "id": "09b48123-7482-4564-b8d4-9b207f9e70b4",
   "metadata": {},
   "outputs": [
    {
     "data": {
      "text/plain": [
       "69"
      ]
     },
     "execution_count": 75,
     "metadata": {},
     "output_type": "execute_result"
    }
   ],
   "source": [
    "num1 + num2"
   ]
  },
  {
   "cell_type": "code",
   "execution_count": 76,
   "id": "8a1e47d3-31e5-49aa-be64-f38d46830899",
   "metadata": {},
   "outputs": [],
   "source": [
    "num1 = 65\n",
    "num2 = 4"
   ]
  },
  {
   "cell_type": "code",
   "execution_count": 77,
   "id": "009a750b-65a5-483c-ac4b-a7d76ca91006",
   "metadata": {},
   "outputs": [
    {
     "data": {
      "text/plain": [
       "69"
      ]
     },
     "execution_count": 77,
     "metadata": {},
     "output_type": "execute_result"
    }
   ],
   "source": [
    "num2 + num1"
   ]
  },
  {
   "cell_type": "code",
   "execution_count": 78,
   "id": "4abb31ac-da13-44d3-b7c0-2edf87a1a0d2",
   "metadata": {},
   "outputs": [],
   "source": [
    "num1 = 65\n",
    "num2 = 4"
   ]
  },
  {
   "cell_type": "code",
   "execution_count": 79,
   "id": "0775eec5-cc2e-4d5e-bac3-1043d167d439",
   "metadata": {},
   "outputs": [],
   "source": [
    "num1 += num2"
   ]
  },
  {
   "cell_type": "code",
   "execution_count": 80,
   "id": "d368a2f0-4b96-4dcb-b1ba-6341096e6f23",
   "metadata": {},
   "outputs": [
    {
     "data": {
      "text/plain": [
       "69"
      ]
     },
     "execution_count": 80,
     "metadata": {},
     "output_type": "execute_result"
    }
   ],
   "source": [
    "num1"
   ]
  },
  {
   "cell_type": "code",
   "execution_count": 81,
   "id": "76898ad5-4617-4ac2-bc9a-5b0f712ac26d",
   "metadata": {},
   "outputs": [],
   "source": [
    "num1 = 65\n",
    "num2 = 4"
   ]
  },
  {
   "cell_type": "code",
   "execution_count": 82,
   "id": "8b040905-00c0-45bd-b4f5-4f808a631407",
   "metadata": {},
   "outputs": [],
   "source": [
    "num1 = num1 + num2"
   ]
  },
  {
   "cell_type": "code",
   "execution_count": 83,
   "id": "eff3b5f5-0576-4e82-98d3-343a78b0949c",
   "metadata": {},
   "outputs": [
    {
     "data": {
      "text/plain": [
       "69"
      ]
     },
     "execution_count": 83,
     "metadata": {},
     "output_type": "execute_result"
    }
   ],
   "source": [
    "num1"
   ]
  },
  {
   "cell_type": "code",
   "execution_count": 84,
   "id": "7fc142fa-5b1e-40da-9624-93301c9123b6",
   "metadata": {},
   "outputs": [],
   "source": [
    "num1 = 65\n",
    "num2 = 4"
   ]
  },
  {
   "cell_type": "code",
   "execution_count": 85,
   "id": "b0e58a64-4d91-4a39-9b8a-4f56c20c2a79",
   "metadata": {},
   "outputs": [
    {
     "data": {
      "text/plain": [
       "260"
      ]
     },
     "execution_count": 85,
     "metadata": {},
     "output_type": "execute_result"
    }
   ],
   "source": [
    "num1 * num2"
   ]
  },
  {
   "cell_type": "code",
   "execution_count": 86,
   "id": "9f5fc268-de70-4fb7-9096-e98f9dd5b52f",
   "metadata": {},
   "outputs": [],
   "source": [
    "str1 = 'hello'"
   ]
  },
  {
   "cell_type": "code",
   "execution_count": 87,
   "id": "7da6dda6-85a7-4391-851b-0f9ca6fd02e6",
   "metadata": {},
   "outputs": [],
   "source": [
    "num1 = 3\n",
    "str1 = 'hello'"
   ]
  },
  {
   "cell_type": "code",
   "execution_count": 88,
   "id": "ae6c3060-e862-412a-97ff-d6fce286a5ca",
   "metadata": {},
   "outputs": [
    {
     "data": {
      "text/plain": [
       "'hellohellohello'"
      ]
     },
     "execution_count": 88,
     "metadata": {},
     "output_type": "execute_result"
    }
   ],
   "source": [
    "str1 * num1"
   ]
  },
  {
   "cell_type": "code",
   "execution_count": 89,
   "id": "4a51507b-1d5e-4efa-bc93-d195c57d800e",
   "metadata": {},
   "outputs": [],
   "source": [
    "num1 = 3\n",
    "str1 = 'hello'"
   ]
  },
  {
   "cell_type": "code",
   "execution_count": 90,
   "id": "0cf9ff72-3e30-441e-87f2-3cf9fc615705",
   "metadata": {},
   "outputs": [
    {
     "data": {
      "text/plain": [
       "'hellohellohello'"
      ]
     },
     "execution_count": 90,
     "metadata": {},
     "output_type": "execute_result"
    }
   ],
   "source": [
    "num1 * str1"
   ]
  },
  {
   "cell_type": "code",
   "execution_count": 91,
   "id": "b86214b9-242c-4f70-beb6-865020b651f7",
   "metadata": {},
   "outputs": [],
   "source": [
    "num1 = 65\n",
    "num2 = 4"
   ]
  },
  {
   "cell_type": "code",
   "execution_count": 92,
   "id": "2ee60c48-e8f9-47e6-a54c-1e416afcb1b8",
   "metadata": {},
   "outputs": [
    {
     "data": {
      "text/plain": [
       "61"
      ]
     },
     "execution_count": 92,
     "metadata": {},
     "output_type": "execute_result"
    }
   ],
   "source": [
    "num1 - num2"
   ]
  },
  {
   "cell_type": "code",
   "execution_count": 93,
   "id": "0aa687e7-9744-4fc7-85b0-3d91da725c11",
   "metadata": {},
   "outputs": [],
   "source": [
    "num1 = 65\n",
    "num2 = 4"
   ]
  },
  {
   "cell_type": "code",
   "execution_count": 94,
   "id": "12290f69-4eac-4d06-9335-50d077b5c113",
   "metadata": {},
   "outputs": [
    {
     "data": {
      "text/plain": [
       "17850625"
      ]
     },
     "execution_count": 94,
     "metadata": {},
     "output_type": "execute_result"
    }
   ],
   "source": [
    "num1 ** num2"
   ]
  },
  {
   "cell_type": "code",
   "execution_count": 95,
   "id": "8be1afa8-d0b3-49bc-b08d-1c8fac219f36",
   "metadata": {},
   "outputs": [
    {
     "data": {
      "text/plain": [
       "17850625"
      ]
     },
     "execution_count": 95,
     "metadata": {},
     "output_type": "execute_result"
    }
   ],
   "source": [
    "65 * 65 * 65 *65"
   ]
  },
  {
   "cell_type": "code",
   "execution_count": null,
   "id": "5bd7d0dc-0e6a-4eae-be38-53c93ff287d3",
   "metadata": {},
   "outputs": [],
   "source": []
  }
 ],
 "metadata": {
  "kernelspec": {
   "display_name": "Python 3 (ipykernel)",
   "language": "python",
   "name": "python3"
  },
  "language_info": {
   "codemirror_mode": {
    "name": "ipython",
    "version": 3
   },
   "file_extension": ".py",
   "mimetype": "text/x-python",
   "name": "python",
   "nbconvert_exporter": "python",
   "pygments_lexer": "ipython3",
   "version": "3.11.0"
  }
 },
 "nbformat": 4,
 "nbformat_minor": 5
}
