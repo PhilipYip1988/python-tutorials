{
 "cells": [
  {
   "cell_type": "code",
   "execution_count": 1,
   "id": "d382bc63-b5fc-4d89-a0b5-8fff2bd8258a",
   "metadata": {},
   "outputs": [
    {
     "data": {
      "text/plain": [
       "65"
      ]
     },
     "execution_count": 1,
     "metadata": {},
     "output_type": "execute_result"
    }
   ],
   "source": [
    "int('65')"
   ]
  },
  {
   "cell_type": "code",
   "execution_count": 2,
   "id": "1e702f8e-849c-4208-bdd0-dd6f20c2e5ef",
   "metadata": {},
   "outputs": [
    {
     "data": {
      "text/plain": [
       "65"
      ]
     },
     "execution_count": 2,
     "metadata": {},
     "output_type": "execute_result"
    }
   ],
   "source": [
    "int('0b1000001', base=2)"
   ]
  },
  {
   "cell_type": "code",
   "execution_count": 3,
   "id": "28ba4805-b081-4332-9992-2189d5fe7dbb",
   "metadata": {},
   "outputs": [
    {
     "data": {
      "text/plain": [
       "65"
      ]
     },
     "execution_count": 3,
     "metadata": {},
     "output_type": "execute_result"
    }
   ],
   "source": [
    "int('0x41', base=16)"
   ]
  },
  {
   "cell_type": "code",
   "execution_count": 4,
   "id": "724f608f-0607-4fd2-8111-b7d6a1f1f926",
   "metadata": {},
   "outputs": [
    {
     "data": {
      "text/plain": [
       "65"
      ]
     },
     "execution_count": 4,
     "metadata": {},
     "output_type": "execute_result"
    }
   ],
   "source": [
    "65"
   ]
  },
  {
   "cell_type": "code",
   "execution_count": 5,
   "id": "1fbf11ba-8aaf-4a52-8b3f-1ed98e281048",
   "metadata": {},
   "outputs": [
    {
     "data": {
      "text/plain": [
       "65"
      ]
     },
     "execution_count": 5,
     "metadata": {},
     "output_type": "execute_result"
    }
   ],
   "source": [
    "0b1000001"
   ]
  },
  {
   "cell_type": "code",
   "execution_count": 6,
   "id": "ce2d8cf9-b623-46a2-8b7f-628949778526",
   "metadata": {},
   "outputs": [
    {
     "data": {
      "text/plain": [
       "65"
      ]
     },
     "execution_count": 6,
     "metadata": {},
     "output_type": "execute_result"
    }
   ],
   "source": [
    "0x41"
   ]
  },
  {
   "cell_type": "code",
   "execution_count": 7,
   "id": "7696230e-51c5-4eb5-a94d-a8a6216291df",
   "metadata": {},
   "outputs": [],
   "source": [
    "num1 = 65"
   ]
  },
  {
   "cell_type": "code",
   "execution_count": 8,
   "id": "d15f5e9a-64b6-4728-b990-433a02d9276f",
   "metadata": {},
   "outputs": [
    {
     "data": {
      "text/plain": [
       "65"
      ]
     },
     "execution_count": 8,
     "metadata": {},
     "output_type": "execute_result"
    }
   ],
   "source": [
    "num1.numerator"
   ]
  },
  {
   "cell_type": "code",
   "execution_count": 9,
   "id": "851994f4-159e-4731-98f6-6cf0c8beaba8",
   "metadata": {},
   "outputs": [
    {
     "data": {
      "text/plain": [
       "1"
      ]
     },
     "execution_count": 9,
     "metadata": {},
     "output_type": "execute_result"
    }
   ],
   "source": [
    "num1.denominator"
   ]
  },
  {
   "cell_type": "code",
   "execution_count": 10,
   "id": "3064e809-3199-497a-ba69-eb87d3f6d348",
   "metadata": {},
   "outputs": [
    {
     "data": {
      "text/plain": [
       "(65, 1)"
      ]
     },
     "execution_count": 10,
     "metadata": {},
     "output_type": "execute_result"
    }
   ],
   "source": [
    "num1.as_integer_ratio()"
   ]
  },
  {
   "cell_type": "code",
   "execution_count": 11,
   "id": "4071495d-16c1-47dd-a731-da756e8ccb96",
   "metadata": {},
   "outputs": [
    {
     "data": {
      "text/plain": [
       "65"
      ]
     },
     "execution_count": 11,
     "metadata": {},
     "output_type": "execute_result"
    }
   ],
   "source": [
    "num1.real"
   ]
  },
  {
   "cell_type": "code",
   "execution_count": 12,
   "id": "b5f2cde4-5f7b-4c04-af17-d6a71ed38da2",
   "metadata": {},
   "outputs": [
    {
     "data": {
      "text/plain": [
       "0"
      ]
     },
     "execution_count": 12,
     "metadata": {},
     "output_type": "execute_result"
    }
   ],
   "source": [
    "num1.imag"
   ]
  },
  {
   "cell_type": "code",
   "execution_count": 13,
   "id": "cd82685d-3756-4502-92b2-aa2c90bf4808",
   "metadata": {},
   "outputs": [
    {
     "data": {
      "text/plain": [
       "65"
      ]
     },
     "execution_count": 13,
     "metadata": {},
     "output_type": "execute_result"
    }
   ],
   "source": [
    "num1.conjugate()"
   ]
  },
  {
   "cell_type": "code",
   "execution_count": 14,
   "id": "23cf4a45-6d28-46b8-9a45-0ded10d45983",
   "metadata": {},
   "outputs": [
    {
     "data": {
      "text/plain": [
       "'0b1000001'"
      ]
     },
     "execution_count": 14,
     "metadata": {},
     "output_type": "execute_result"
    }
   ],
   "source": [
    "bin(num1)"
   ]
  },
  {
   "cell_type": "code",
   "execution_count": 15,
   "id": "8574a2f6-65bf-403d-8515-f49e2465de1c",
   "metadata": {},
   "outputs": [
    {
     "data": {
      "text/plain": [
       "2"
      ]
     },
     "execution_count": 15,
     "metadata": {},
     "output_type": "execute_result"
    }
   ],
   "source": [
    "num1.bit_count()"
   ]
  },
  {
   "cell_type": "code",
   "execution_count": 16,
   "id": "2bfe160c-15d9-4a17-835e-4679e6b11cd6",
   "metadata": {},
   "outputs": [
    {
     "data": {
      "text/plain": [
       "7"
      ]
     },
     "execution_count": 16,
     "metadata": {},
     "output_type": "execute_result"
    }
   ],
   "source": [
    "num1.bit_length()"
   ]
  },
  {
   "cell_type": "code",
   "execution_count": 17,
   "id": "8784ce19-2b31-4370-8fc6-e028e2fa1b90",
   "metadata": {},
   "outputs": [
    {
     "data": {
      "text/plain": [
       "b'A'"
      ]
     },
     "execution_count": 17,
     "metadata": {},
     "output_type": "execute_result"
    }
   ],
   "source": [
    "num1.to_bytes()"
   ]
  },
  {
   "cell_type": "code",
   "execution_count": 18,
   "id": "7e88c767-2509-40a8-a6a8-dcfeb7e5b78f",
   "metadata": {},
   "outputs": [
    {
     "data": {
      "text/plain": [
       "'A'"
      ]
     },
     "execution_count": 18,
     "metadata": {},
     "output_type": "execute_result"
    }
   ],
   "source": [
    "chr(num1)"
   ]
  },
  {
   "cell_type": "code",
   "execution_count": 19,
   "id": "a7c6aba0-3bd8-4915-a766-af3d26b312f5",
   "metadata": {},
   "outputs": [
    {
     "data": {
      "text/plain": [
       "b'\\x00\\x00A'"
      ]
     },
     "execution_count": 19,
     "metadata": {},
     "output_type": "execute_result"
    }
   ],
   "source": [
    "num1.to_bytes(length=3)"
   ]
  },
  {
   "cell_type": "code",
   "execution_count": 20,
   "id": "bb375bb2-8b33-4d51-add3-4bf771455605",
   "metadata": {},
   "outputs": [
    {
     "data": {
      "text/plain": [
       "'000041'"
      ]
     },
     "execution_count": 20,
     "metadata": {},
     "output_type": "execute_result"
    }
   ],
   "source": [
    "num1.to_bytes(length=3).hex()"
   ]
  },
  {
   "cell_type": "code",
   "execution_count": 21,
   "id": "15812180-4cc1-4f1b-9ae0-e26d378b7935",
   "metadata": {},
   "outputs": [],
   "source": [
    "letter = bytes('A', encoding='UTF-8')"
   ]
  },
  {
   "cell_type": "code",
   "execution_count": 22,
   "id": "65fea94d-ed2c-474c-a3f8-4a22aa67dbc5",
   "metadata": {},
   "outputs": [],
   "source": [
    "num2 = 949"
   ]
  },
  {
   "cell_type": "code",
   "execution_count": 23,
   "id": "07e711f3-83cf-4fed-bc33-cd5defc85cf9",
   "metadata": {},
   "outputs": [
    {
     "data": {
      "text/plain": [
       "'ε'"
      ]
     },
     "execution_count": 23,
     "metadata": {},
     "output_type": "execute_result"
    }
   ],
   "source": [
    "chr(num2)"
   ]
  },
  {
   "cell_type": "code",
   "execution_count": 24,
   "id": "79811cf9-d417-4ec3-93e6-8d872120b1e7",
   "metadata": {},
   "outputs": [],
   "source": [
    "letter2 = num2.to_bytes(length=2, byteorder='big')"
   ]
  },
  {
   "cell_type": "code",
   "execution_count": 25,
   "id": "e79ba512-0098-4e1a-a981-0aab6a912e57",
   "metadata": {},
   "outputs": [
    {
     "data": {
      "text/plain": [
       "'ε'"
      ]
     },
     "execution_count": 25,
     "metadata": {},
     "output_type": "execute_result"
    }
   ],
   "source": [
    "letter2.decode(encoding='UTF-16-BE')"
   ]
  },
  {
   "cell_type": "code",
   "execution_count": 26,
   "id": "c8066c0d-72cd-473d-872a-b4fb4b346d6a",
   "metadata": {},
   "outputs": [
    {
     "data": {
      "text/plain": [
       "65"
      ]
     },
     "execution_count": 26,
     "metadata": {},
     "output_type": "execute_result"
    }
   ],
   "source": [
    "int.from_bytes(letter)"
   ]
  },
  {
   "cell_type": "code",
   "execution_count": 27,
   "id": "cb5c57ba-a398-49f6-91e7-c1d0588df8fd",
   "metadata": {},
   "outputs": [
    {
     "data": {
      "text/plain": [
       "949"
      ]
     },
     "execution_count": 27,
     "metadata": {},
     "output_type": "execute_result"
    }
   ],
   "source": [
    "int.from_bytes(letter2)"
   ]
  },
  {
   "cell_type": "code",
   "execution_count": 28,
   "id": "6baa6e91-9e3a-4c79-8c87-c21247c8d6fb",
   "metadata": {},
   "outputs": [],
   "source": [
    "import pprint"
   ]
  },
  {
   "cell_type": "code",
   "execution_count": 29,
   "id": "58a43e45-1b73-4021-94ce-7ff77dd01d7c",
   "metadata": {},
   "outputs": [
    {
     "name": "stdout",
     "output_type": "stream",
     "text": [
      "['__abs__', '__add__', '__and__', '__bool__', '__ceil__', '__class__',\n",
      " '__delattr__', '__dir__', '__divmod__', '__doc__', '__eq__', '__float__',\n",
      " '__floor__', '__floordiv__', '__format__', '__ge__', '__getattribute__',\n",
      " '__getnewargs__', '__getstate__', '__gt__', '__hash__', '__index__',\n",
      " '__init__', '__init_subclass__', '__int__', '__invert__', '__le__',\n",
      " '__lshift__', '__lt__', '__mod__', '__mul__', '__ne__', '__neg__', '__new__',\n",
      " '__or__', '__pos__', '__pow__', '__radd__', '__rand__', '__rdivmod__',\n",
      " '__reduce__', '__reduce_ex__', '__repr__', '__rfloordiv__', '__rlshift__',\n",
      " '__rmod__', '__rmul__', '__ror__', '__round__', '__rpow__', '__rrshift__',\n",
      " '__rshift__', '__rsub__', '__rtruediv__', '__rxor__', '__setattr__',\n",
      " '__sizeof__', '__str__', '__sub__', '__subclasshook__', '__truediv__',\n",
      " '__trunc__', '__xor__', 'as_integer_ratio', 'bit_count', 'bit_length',\n",
      " 'conjugate', 'denominator', 'from_bytes', 'imag', 'numerator', 'real',\n",
      " 'to_bytes']\n"
     ]
    }
   ],
   "source": [
    "pprint.pprint(dir(num1), compact=True)"
   ]
  },
  {
   "cell_type": "code",
   "execution_count": 30,
   "id": "ac5866e1-88d1-4de9-ad92-38a4b44d2c36",
   "metadata": {},
   "outputs": [
    {
     "data": {
      "text/plain": [
       "['__add__',\n",
       " '__class__',\n",
       " '__class_getitem__',\n",
       " '__contains__',\n",
       " '__delattr__',\n",
       " '__delitem__',\n",
       " '__dir__',\n",
       " '__doc__',\n",
       " '__eq__',\n",
       " '__format__',\n",
       " '__ge__',\n",
       " '__getattribute__',\n",
       " '__getitem__',\n",
       " '__getstate__',\n",
       " '__gt__',\n",
       " '__hash__',\n",
       " '__iadd__',\n",
       " '__imul__',\n",
       " '__init__',\n",
       " '__init_subclass__',\n",
       " '__iter__',\n",
       " '__le__',\n",
       " '__len__',\n",
       " '__lt__',\n",
       " '__mul__',\n",
       " '__ne__',\n",
       " '__new__',\n",
       " '__reduce__',\n",
       " '__reduce_ex__',\n",
       " '__repr__',\n",
       " '__reversed__',\n",
       " '__rmul__',\n",
       " '__setattr__',\n",
       " '__setitem__',\n",
       " '__sizeof__',\n",
       " '__str__',\n",
       " '__subclasshook__',\n",
       " 'append',\n",
       " 'clear',\n",
       " 'copy',\n",
       " 'count',\n",
       " 'extend',\n",
       " 'index',\n",
       " 'insert',\n",
       " 'pop',\n",
       " 'remove',\n",
       " 'reverse',\n",
       " 'sort']"
      ]
     },
     "execution_count": 30,
     "metadata": {},
     "output_type": "execute_result"
    }
   ],
   "source": [
    "dir(list())"
   ]
  },
  {
   "cell_type": "code",
   "execution_count": 31,
   "id": "10d6ae94-a415-4fc6-868e-350fcef3e6db",
   "metadata": {},
   "outputs": [
    {
     "data": {
      "text/plain": [
       "'65'"
      ]
     },
     "execution_count": 31,
     "metadata": {},
     "output_type": "execute_result"
    }
   ],
   "source": [
    "repr(num1)"
   ]
  },
  {
   "cell_type": "code",
   "execution_count": 32,
   "id": "7bfaef4a-7c03-42be-9bbe-3eda71c997d9",
   "metadata": {},
   "outputs": [
    {
     "data": {
      "text/plain": [
       "'65'"
      ]
     },
     "execution_count": 32,
     "metadata": {},
     "output_type": "execute_result"
    }
   ],
   "source": [
    "str(num1)"
   ]
  },
  {
   "cell_type": "code",
   "execution_count": 33,
   "id": "24a7b7df-c76e-4a3a-9cec-c66324fcd2fa",
   "metadata": {},
   "outputs": [
    {
     "name": "stdout",
     "output_type": "stream",
     "text": [
      "65\n"
     ]
    }
   ],
   "source": [
    "print(num1)"
   ]
  },
  {
   "cell_type": "code",
   "execution_count": 34,
   "id": "3fd7855f-db07-4954-94fc-77ae6139683b",
   "metadata": {},
   "outputs": [
    {
     "name": "stdout",
     "output_type": "stream",
     "text": [
      "65\n"
     ]
    }
   ],
   "source": [
    "print(repr(num1))"
   ]
  },
  {
   "cell_type": "code",
   "execution_count": 35,
   "id": "4d802668-47a6-4a30-b90a-076db7d4fbc2",
   "metadata": {},
   "outputs": [
    {
     "data": {
      "text/plain": [
       "65"
      ]
     },
     "execution_count": 35,
     "metadata": {},
     "output_type": "execute_result"
    }
   ],
   "source": [
    "num1"
   ]
  },
  {
   "cell_type": "code",
   "execution_count": 36,
   "id": "288e400a-7cdc-433a-8737-1e11974b839d",
   "metadata": {},
   "outputs": [
    {
     "data": {
      "text/plain": [
       "'The number is 65'"
      ]
     },
     "execution_count": 36,
     "metadata": {},
     "output_type": "execute_result"
    }
   ],
   "source": [
    "f'The number is {num1 :d}'"
   ]
  },
  {
   "cell_type": "code",
   "execution_count": 37,
   "id": "aca2d38f-9ba1-4328-82c7-c2f777b538da",
   "metadata": {},
   "outputs": [
    {
     "data": {
      "text/plain": [
       "'The number is 065'"
      ]
     },
     "execution_count": 37,
     "metadata": {},
     "output_type": "execute_result"
    }
   ],
   "source": [
    "f'The number is {num1 :03d}'"
   ]
  },
  {
   "cell_type": "code",
   "execution_count": 38,
   "id": "875293c0-1649-4494-b64e-1beafbf6ec77",
   "metadata": {},
   "outputs": [
    {
     "data": {
      "text/plain": [
       "'The number is +065'"
      ]
     },
     "execution_count": 38,
     "metadata": {},
     "output_type": "execute_result"
    }
   ],
   "source": [
    "f'The number is {num1 :+04d}'"
   ]
  },
  {
   "cell_type": "code",
   "execution_count": 39,
   "id": "9a3fdf12-20fa-46ab-9fc6-b582dd33b7c9",
   "metadata": {},
   "outputs": [
    {
     "data": {
      "text/plain": [
       "int"
      ]
     },
     "execution_count": 39,
     "metadata": {},
     "output_type": "execute_result"
    }
   ],
   "source": [
    "type(num1)"
   ]
  },
  {
   "cell_type": "code",
   "execution_count": 40,
   "id": "df7c7d26-adfe-448e-98ed-7980897bc3d7",
   "metadata": {},
   "outputs": [
    {
     "data": {
      "text/plain": [
       "\u001b[1;31mType:\u001b[0m        int\n",
       "\u001b[1;31mString form:\u001b[0m 65\n",
       "\u001b[1;31mDocstring:\u001b[0m  \n",
       "int([x]) -> integer\n",
       "int(x, base=10) -> integer\n",
       "\n",
       "Convert a number or string to an integer, or return 0 if no arguments\n",
       "are given.  If x is a number, return x.__int__().  For floating point\n",
       "numbers, this truncates towards zero.\n",
       "\n",
       "If x is not a number or if base is given, then x must be a string,\n",
       "bytes, or bytearray instance representing an integer literal in the\n",
       "given base.  The literal can be preceded by '+' or '-' and be surrounded\n",
       "by whitespace.  The base defaults to 10.  Valid bases are 0 and 2-36.\n",
       "Base 0 means to interpret the base from the string as an integer literal.\n",
       ">>> int('0b100', base=0)\n",
       "4\n"
      ]
     },
     "metadata": {},
     "output_type": "display_data"
    }
   ],
   "source": [
    "? num1"
   ]
  },
  {
   "cell_type": "code",
   "execution_count": 41,
   "id": "554672ba-b01d-4640-86e5-309196c15398",
   "metadata": {},
   "outputs": [
    {
     "data": {
      "text/plain": [
       "'h'"
      ]
     },
     "execution_count": 41,
     "metadata": {},
     "output_type": "execute_result"
    }
   ],
   "source": [
    "'hello'[0]"
   ]
  },
  {
   "cell_type": "code",
   "execution_count": 42,
   "id": "b77d46d5-ec36-4b3a-8bab-84a89455158f",
   "metadata": {},
   "outputs": [
    {
     "data": {
      "text/plain": [
       "104"
      ]
     },
     "execution_count": 42,
     "metadata": {},
     "output_type": "execute_result"
    }
   ],
   "source": [
    "b'hello'[0]"
   ]
  },
  {
   "cell_type": "code",
   "execution_count": 43,
   "id": "79c3e2a1-657e-43c1-9a98-fd33ccbf7581",
   "metadata": {},
   "outputs": [],
   "source": [
    "num_dict = {1: 'one', \n",
    "            2: 'two', \n",
    "            3: 'three'}"
   ]
  },
  {
   "cell_type": "code",
   "execution_count": 44,
   "id": "24b2e641-9629-4b67-9f0a-8840ad031121",
   "metadata": {},
   "outputs": [
    {
     "data": {
      "text/plain": [
       "'one'"
      ]
     },
     "execution_count": 44,
     "metadata": {},
     "output_type": "execute_result"
    }
   ],
   "source": [
    "num_dict[1]"
   ]
  },
  {
   "cell_type": "code",
   "execution_count": 45,
   "id": "6c147e39-43c5-4a4b-9d86-413feaafb46e",
   "metadata": {},
   "outputs": [],
   "source": [
    "#num1[0]"
   ]
  },
  {
   "cell_type": "code",
   "execution_count": 46,
   "id": "c0868b95-126c-4047-8a7c-2959668459a6",
   "metadata": {},
   "outputs": [
    {
     "data": {
      "text/plain": [
       "28"
      ]
     },
     "execution_count": 46,
     "metadata": {},
     "output_type": "execute_result"
    }
   ],
   "source": [
    "import sys\n",
    "sys.getsizeof(num1)"
   ]
  },
  {
   "cell_type": "code",
   "execution_count": 47,
   "id": "a0203ddd-69f2-4864-bfde-40eca8f0c5b9",
   "metadata": {},
   "outputs": [
    {
     "data": {
      "text/plain": [
       "65"
      ]
     },
     "execution_count": 47,
     "metadata": {},
     "output_type": "execute_result"
    }
   ],
   "source": [
    "num1.real"
   ]
  },
  {
   "cell_type": "code",
   "execution_count": 48,
   "id": "26f977c6-bd22-4f77-9a15-1621f10cd301",
   "metadata": {},
   "outputs": [],
   "source": [
    "#num1.real = 66"
   ]
  },
  {
   "cell_type": "code",
   "execution_count": 49,
   "id": "da61a9a6-f46b-414a-b992-afafb7be316a",
   "metadata": {},
   "outputs": [],
   "source": [
    "#del num1.real"
   ]
  },
  {
   "cell_type": "code",
   "execution_count": 50,
   "id": "f945b7b9-c795-4b14-81a9-9c498bd08c9e",
   "metadata": {},
   "outputs": [
    {
     "data": {
      "text/plain": [
       "65"
      ]
     },
     "execution_count": 50,
     "metadata": {},
     "output_type": "execute_result"
    }
   ],
   "source": [
    "num1"
   ]
  },
  {
   "cell_type": "code",
   "execution_count": 51,
   "id": "cae259e3-01ce-4696-94d8-84bff248ca3c",
   "metadata": {},
   "outputs": [
    {
     "data": {
      "text/plain": [
       "65"
      ]
     },
     "execution_count": 51,
     "metadata": {},
     "output_type": "execute_result"
    }
   ],
   "source": [
    "+ num1"
   ]
  },
  {
   "cell_type": "code",
   "execution_count": 52,
   "id": "3683a30e-897c-489d-8989-bcbe70e05d33",
   "metadata": {},
   "outputs": [
    {
     "data": {
      "text/plain": [
       "65"
      ]
     },
     "execution_count": 52,
     "metadata": {},
     "output_type": "execute_result"
    }
   ],
   "source": [
    "num1"
   ]
  },
  {
   "cell_type": "code",
   "execution_count": 53,
   "id": "c2bbf927-adc8-48cd-80ef-5625da887be9",
   "metadata": {},
   "outputs": [
    {
     "data": {
      "text/plain": [
       "-65"
      ]
     },
     "execution_count": 53,
     "metadata": {},
     "output_type": "execute_result"
    }
   ],
   "source": [
    "- num1"
   ]
  },
  {
   "cell_type": "code",
   "execution_count": 54,
   "id": "e0887d29-85af-4fc1-ac1c-838fa9c19396",
   "metadata": {},
   "outputs": [
    {
     "data": {
      "text/plain": [
       "65"
      ]
     },
     "execution_count": 54,
     "metadata": {},
     "output_type": "execute_result"
    }
   ],
   "source": [
    "num1"
   ]
  },
  {
   "cell_type": "code",
   "execution_count": 55,
   "id": "361ef62f-373f-450a-85b9-0e27e5ec51db",
   "metadata": {},
   "outputs": [
    {
     "data": {
      "text/plain": [
       "65"
      ]
     },
     "execution_count": 55,
     "metadata": {},
     "output_type": "execute_result"
    }
   ],
   "source": [
    "abs(num1)"
   ]
  },
  {
   "cell_type": "code",
   "execution_count": 56,
   "id": "f4d8c238-38ee-4067-83e1-3a74ddba41a3",
   "metadata": {},
   "outputs": [
    {
     "data": {
      "text/plain": [
       "65"
      ]
     },
     "execution_count": 56,
     "metadata": {},
     "output_type": "execute_result"
    }
   ],
   "source": [
    "abs(- num1)"
   ]
  },
  {
   "cell_type": "code",
   "execution_count": 57,
   "id": "4272a6b7-6cdc-4754-9c0c-622a6b7586d2",
   "metadata": {},
   "outputs": [
    {
     "data": {
      "text/plain": [
       "65"
      ]
     },
     "execution_count": 57,
     "metadata": {},
     "output_type": "execute_result"
    }
   ],
   "source": [
    "num1"
   ]
  },
  {
   "cell_type": "code",
   "execution_count": 58,
   "id": "d0a4ca7e-5a6e-46fa-9758-cab4a848f088",
   "metadata": {},
   "outputs": [],
   "source": [
    "import math"
   ]
  },
  {
   "cell_type": "code",
   "execution_count": 59,
   "id": "4065a7b4-f948-4bc5-9639-dcab874c1477",
   "metadata": {},
   "outputs": [
    {
     "data": {
      "text/plain": [
       "65"
      ]
     },
     "execution_count": 59,
     "metadata": {},
     "output_type": "execute_result"
    }
   ],
   "source": [
    "math.ceil(num1)"
   ]
  },
  {
   "cell_type": "code",
   "execution_count": 60,
   "id": "beeeef07-027b-49b6-b11a-1d46f625270c",
   "metadata": {},
   "outputs": [
    {
     "data": {
      "text/plain": [
       "65"
      ]
     },
     "execution_count": 60,
     "metadata": {},
     "output_type": "execute_result"
    }
   ],
   "source": [
    "math.floor(num1)"
   ]
  },
  {
   "cell_type": "code",
   "execution_count": 61,
   "id": "de863a8e-875f-4938-925a-328148123ec6",
   "metadata": {},
   "outputs": [
    {
     "data": {
      "text/plain": [
       "65"
      ]
     },
     "execution_count": 61,
     "metadata": {},
     "output_type": "execute_result"
    }
   ],
   "source": [
    "math.trunc(num1)"
   ]
  },
  {
   "cell_type": "code",
   "execution_count": 62,
   "id": "abc1cf5e-d19c-4751-ae95-213a5642deac",
   "metadata": {},
   "outputs": [
    {
     "data": {
      "text/plain": [
       "65"
      ]
     },
     "execution_count": 62,
     "metadata": {},
     "output_type": "execute_result"
    }
   ],
   "source": [
    "num1"
   ]
  },
  {
   "cell_type": "code",
   "execution_count": 63,
   "id": "e0d26cdd-938b-4b11-a940-7a13f982bc66",
   "metadata": {},
   "outputs": [
    {
     "data": {
      "text/plain": [
       "65"
      ]
     },
     "execution_count": 63,
     "metadata": {},
     "output_type": "execute_result"
    }
   ],
   "source": [
    "round(num1)"
   ]
  },
  {
   "cell_type": "code",
   "execution_count": 64,
   "id": "4eb586ce-4545-4b34-9fac-53fa3a9088a8",
   "metadata": {},
   "outputs": [
    {
     "data": {
      "text/plain": [
       "65"
      ]
     },
     "execution_count": 64,
     "metadata": {},
     "output_type": "execute_result"
    }
   ],
   "source": [
    "num1"
   ]
  },
  {
   "cell_type": "code",
   "execution_count": 65,
   "id": "dc16330d-26d9-423a-94f9-2d3bace5b472",
   "metadata": {},
   "outputs": [
    {
     "data": {
      "text/plain": [
       "65"
      ]
     },
     "execution_count": 65,
     "metadata": {},
     "output_type": "execute_result"
    }
   ],
   "source": [
    "int(num1)"
   ]
  },
  {
   "cell_type": "code",
   "execution_count": 66,
   "id": "5a0480e8-ca81-4193-b472-3798bd2dd5de",
   "metadata": {},
   "outputs": [
    {
     "data": {
      "text/plain": [
       "65"
      ]
     },
     "execution_count": 66,
     "metadata": {},
     "output_type": "execute_result"
    }
   ],
   "source": [
    "num1"
   ]
  },
  {
   "cell_type": "code",
   "execution_count": 67,
   "id": "10d9160a-69b8-4d6f-b059-fa303a1f93af",
   "metadata": {},
   "outputs": [
    {
     "data": {
      "text/plain": [
       "True"
      ]
     },
     "execution_count": 67,
     "metadata": {},
     "output_type": "execute_result"
    }
   ],
   "source": [
    "bool(num1)"
   ]
  },
  {
   "cell_type": "code",
   "execution_count": 68,
   "id": "3c523747-b8bf-4fa3-bdf6-51b2e3c42713",
   "metadata": {},
   "outputs": [],
   "source": [
    "num2 = 0"
   ]
  },
  {
   "cell_type": "code",
   "execution_count": 69,
   "id": "07f3f610-1dc6-4de9-bec6-0778f95aa4dc",
   "metadata": {},
   "outputs": [
    {
     "data": {
      "text/plain": [
       "False"
      ]
     },
     "execution_count": 69,
     "metadata": {},
     "output_type": "execute_result"
    }
   ],
   "source": [
    "bool(num2)"
   ]
  },
  {
   "cell_type": "code",
   "execution_count": 70,
   "id": "51c3e6d8-1825-4605-bab3-5ab7d4c790ef",
   "metadata": {},
   "outputs": [],
   "source": [
    "num3 = -1"
   ]
  },
  {
   "cell_type": "code",
   "execution_count": 71,
   "id": "c72c61af-05f1-47db-8561-a88ee05c81d7",
   "metadata": {},
   "outputs": [
    {
     "data": {
      "text/plain": [
       "True"
      ]
     },
     "execution_count": 71,
     "metadata": {},
     "output_type": "execute_result"
    }
   ],
   "source": [
    "bool(num3)"
   ]
  },
  {
   "cell_type": "code",
   "execution_count": 72,
   "id": "17ebb384-efc5-410b-bb48-1be731cd3548",
   "metadata": {},
   "outputs": [
    {
     "data": {
      "text/plain": [
       "65"
      ]
     },
     "execution_count": 72,
     "metadata": {},
     "output_type": "execute_result"
    }
   ],
   "source": [
    "num1"
   ]
  },
  {
   "cell_type": "code",
   "execution_count": 73,
   "id": "724f6788-2c63-4130-bb3a-07b0a5f34e30",
   "metadata": {},
   "outputs": [
    {
     "data": {
      "text/plain": [
       "65.0"
      ]
     },
     "execution_count": 73,
     "metadata": {},
     "output_type": "execute_result"
    }
   ],
   "source": [
    "float(num1)"
   ]
  },
  {
   "cell_type": "code",
   "execution_count": 74,
   "id": "5aa2d8e5-e9bb-4085-8a2f-35f4480b3bfa",
   "metadata": {},
   "outputs": [],
   "source": [
    "num1 = 65\n",
    "num2 = 4"
   ]
  },
  {
   "cell_type": "code",
   "execution_count": 75,
   "id": "09b48123-7482-4564-b8d4-9b207f9e70b4",
   "metadata": {},
   "outputs": [
    {
     "data": {
      "text/plain": [
       "69"
      ]
     },
     "execution_count": 75,
     "metadata": {},
     "output_type": "execute_result"
    }
   ],
   "source": [
    "num1 + num2"
   ]
  },
  {
   "cell_type": "code",
   "execution_count": 76,
   "id": "8a1e47d3-31e5-49aa-be64-f38d46830899",
   "metadata": {},
   "outputs": [],
   "source": [
    "num1 = 65\n",
    "num2 = 4"
   ]
  },
  {
   "cell_type": "code",
   "execution_count": 77,
   "id": "009a750b-65a5-483c-ac4b-a7d76ca91006",
   "metadata": {},
   "outputs": [
    {
     "data": {
      "text/plain": [
       "69"
      ]
     },
     "execution_count": 77,
     "metadata": {},
     "output_type": "execute_result"
    }
   ],
   "source": [
    "num2 + num1"
   ]
  },
  {
   "cell_type": "code",
   "execution_count": 78,
   "id": "4abb31ac-da13-44d3-b7c0-2edf87a1a0d2",
   "metadata": {},
   "outputs": [],
   "source": [
    "num1 = 65\n",
    "num2 = 4"
   ]
  },
  {
   "cell_type": "code",
   "execution_count": 79,
   "id": "0775eec5-cc2e-4d5e-bac3-1043d167d439",
   "metadata": {},
   "outputs": [],
   "source": [
    "num1 += num2"
   ]
  },
  {
   "cell_type": "code",
   "execution_count": 80,
   "id": "d368a2f0-4b96-4dcb-b1ba-6341096e6f23",
   "metadata": {},
   "outputs": [
    {
     "data": {
      "text/plain": [
       "69"
      ]
     },
     "execution_count": 80,
     "metadata": {},
     "output_type": "execute_result"
    }
   ],
   "source": [
    "num1"
   ]
  },
  {
   "cell_type": "code",
   "execution_count": 81,
   "id": "76898ad5-4617-4ac2-bc9a-5b0f712ac26d",
   "metadata": {},
   "outputs": [],
   "source": [
    "num1 = 65\n",
    "num2 = 4"
   ]
  },
  {
   "cell_type": "code",
   "execution_count": 82,
   "id": "8b040905-00c0-45bd-b4f5-4f808a631407",
   "metadata": {},
   "outputs": [],
   "source": [
    "num1 = num1 + num2"
   ]
  },
  {
   "cell_type": "code",
   "execution_count": 83,
   "id": "eff3b5f5-0576-4e82-98d3-343a78b0949c",
   "metadata": {},
   "outputs": [
    {
     "data": {
      "text/plain": [
       "69"
      ]
     },
     "execution_count": 83,
     "metadata": {},
     "output_type": "execute_result"
    }
   ],
   "source": [
    "num1"
   ]
  },
  {
   "cell_type": "code",
   "execution_count": 84,
   "id": "7fc142fa-5b1e-40da-9624-93301c9123b6",
   "metadata": {},
   "outputs": [],
   "source": [
    "num1 = 65\n",
    "num2 = 4"
   ]
  },
  {
   "cell_type": "code",
   "execution_count": 85,
   "id": "b0e58a64-4d91-4a39-9b8a-4f56c20c2a79",
   "metadata": {},
   "outputs": [
    {
     "data": {
      "text/plain": [
       "260"
      ]
     },
     "execution_count": 85,
     "metadata": {},
     "output_type": "execute_result"
    }
   ],
   "source": [
    "num1 * num2"
   ]
  },
  {
   "cell_type": "code",
   "execution_count": 86,
   "id": "9f5fc268-de70-4fb7-9096-e98f9dd5b52f",
   "metadata": {},
   "outputs": [],
   "source": [
    "str1 = 'hello'"
   ]
  },
  {
   "cell_type": "code",
   "execution_count": 87,
   "id": "7da6dda6-85a7-4391-851b-0f9ca6fd02e6",
   "metadata": {},
   "outputs": [],
   "source": [
    "num1 = 3\n",
    "str1 = 'hello'"
   ]
  },
  {
   "cell_type": "code",
   "execution_count": 88,
   "id": "ae6c3060-e862-412a-97ff-d6fce286a5ca",
   "metadata": {},
   "outputs": [
    {
     "data": {
      "text/plain": [
       "'hellohellohello'"
      ]
     },
     "execution_count": 88,
     "metadata": {},
     "output_type": "execute_result"
    }
   ],
   "source": [
    "str1 * num1"
   ]
  },
  {
   "cell_type": "code",
   "execution_count": 89,
   "id": "4a51507b-1d5e-4efa-bc93-d195c57d800e",
   "metadata": {},
   "outputs": [],
   "source": [
    "num1 = 3\n",
    "str1 = 'hello'"
   ]
  },
  {
   "cell_type": "code",
   "execution_count": 90,
   "id": "0cf9ff72-3e30-441e-87f2-3cf9fc615705",
   "metadata": {},
   "outputs": [
    {
     "data": {
      "text/plain": [
       "'hellohellohello'"
      ]
     },
     "execution_count": 90,
     "metadata": {},
     "output_type": "execute_result"
    }
   ],
   "source": [
    "num1 * str1"
   ]
  },
  {
   "cell_type": "code",
   "execution_count": 91,
   "id": "b86214b9-242c-4f70-beb6-865020b651f7",
   "metadata": {},
   "outputs": [],
   "source": [
    "num1 = 65\n",
    "num2 = 4"
   ]
  },
  {
   "cell_type": "code",
   "execution_count": 92,
   "id": "2ee60c48-e8f9-47e6-a54c-1e416afcb1b8",
   "metadata": {},
   "outputs": [
    {
     "data": {
      "text/plain": [
       "61"
      ]
     },
     "execution_count": 92,
     "metadata": {},
     "output_type": "execute_result"
    }
   ],
   "source": [
    "num1 - num2"
   ]
  },
  {
   "cell_type": "code",
   "execution_count": 93,
   "id": "0aa687e7-9744-4fc7-85b0-3d91da725c11",
   "metadata": {},
   "outputs": [],
   "source": [
    "num1 = 65\n",
    "num2 = 4"
   ]
  },
  {
   "cell_type": "code",
   "execution_count": 94,
   "id": "12290f69-4eac-4d06-9335-50d077b5c113",
   "metadata": {},
   "outputs": [
    {
     "data": {
      "text/plain": [
       "17850625"
      ]
     },
     "execution_count": 94,
     "metadata": {},
     "output_type": "execute_result"
    }
   ],
   "source": [
    "num1 ** num2"
   ]
  },
  {
   "cell_type": "code",
   "execution_count": 95,
   "id": "8be1afa8-d0b3-49bc-b08d-1c8fac219f36",
   "metadata": {},
   "outputs": [
    {
     "data": {
      "text/plain": [
       "17850625"
      ]
     },
     "execution_count": 95,
     "metadata": {},
     "output_type": "execute_result"
    }
   ],
   "source": [
    "65 * 65 * 65 *65"
   ]
  },
  {
   "cell_type": "code",
   "execution_count": 96,
   "id": "5bd7d0dc-0e6a-4eae-be38-53c93ff287d3",
   "metadata": {},
   "outputs": [],
   "source": [
    "num1 = 65\n",
    "num2 = 4"
   ]
  },
  {
   "cell_type": "code",
   "execution_count": 97,
   "id": "2cde808f-6e6e-489c-a73b-1a1862f2e9fd",
   "metadata": {},
   "outputs": [
    {
     "data": {
      "text/plain": [
       "16"
      ]
     },
     "execution_count": 97,
     "metadata": {},
     "output_type": "execute_result"
    }
   ],
   "source": [
    "num1 // num2"
   ]
  },
  {
   "cell_type": "code",
   "execution_count": 98,
   "id": "085fbd5a-343a-4b3a-ba6c-ba7bb022254d",
   "metadata": {},
   "outputs": [
    {
     "data": {
      "text/plain": [
       "1"
      ]
     },
     "execution_count": 98,
     "metadata": {},
     "output_type": "execute_result"
    }
   ],
   "source": [
    "num1 % num2"
   ]
  },
  {
   "cell_type": "code",
   "execution_count": 99,
   "id": "6daf1f9c-452f-4158-8a62-fa452ad9f322",
   "metadata": {},
   "outputs": [
    {
     "data": {
      "text/plain": [
       "(16, 1)"
      ]
     },
     "execution_count": 99,
     "metadata": {},
     "output_type": "execute_result"
    }
   ],
   "source": [
    "divmod(num1, num2)"
   ]
  },
  {
   "cell_type": "code",
   "execution_count": 100,
   "id": "b94a4c55-42bb-4da2-bb2e-5f6b68ba0d37",
   "metadata": {},
   "outputs": [],
   "source": [
    "num1 = 65\n",
    "num2 = 4"
   ]
  },
  {
   "cell_type": "code",
   "execution_count": 101,
   "id": "2724e2a7-9466-418c-abd8-e42a5b397725",
   "metadata": {},
   "outputs": [
    {
     "data": {
      "text/plain": [
       "16.25"
      ]
     },
     "execution_count": 101,
     "metadata": {},
     "output_type": "execute_result"
    }
   ],
   "source": [
    "num1 / num2"
   ]
  },
  {
   "cell_type": "code",
   "execution_count": 102,
   "id": "3fdd7630-3c6e-49ab-909d-732436011d3d",
   "metadata": {},
   "outputs": [
    {
     "data": {
      "text/plain": [
       "65.0"
      ]
     },
     "execution_count": 102,
     "metadata": {},
     "output_type": "execute_result"
    }
   ],
   "source": [
    "num1 / 1"
   ]
  },
  {
   "cell_type": "code",
   "execution_count": 103,
   "id": "ace98b29-5bfb-41df-a8e0-f2d4ec468f3c",
   "metadata": {},
   "outputs": [],
   "source": [
    "num1 = 65\n",
    "num2 = 4"
   ]
  },
  {
   "cell_type": "code",
   "execution_count": 104,
   "id": "441a78f2-b4ff-46ec-a244-880c1f91b91e",
   "metadata": {},
   "outputs": [
    {
     "data": {
      "text/plain": [
       "True"
      ]
     },
     "execution_count": 104,
     "metadata": {},
     "output_type": "execute_result"
    }
   ],
   "source": [
    "num1 > num2"
   ]
  },
  {
   "cell_type": "code",
   "execution_count": 105,
   "id": "496a0f2c-af40-4369-828b-f6b2550562be",
   "metadata": {},
   "outputs": [
    {
     "data": {
      "text/plain": [
       "False"
      ]
     },
     "execution_count": 105,
     "metadata": {},
     "output_type": "execute_result"
    }
   ],
   "source": [
    "num1 > num1"
   ]
  },
  {
   "cell_type": "code",
   "execution_count": 106,
   "id": "12e8980d-aa39-4538-bf48-924bc47975ee",
   "metadata": {},
   "outputs": [
    {
     "data": {
      "text/plain": [
       "True"
      ]
     },
     "execution_count": 106,
     "metadata": {},
     "output_type": "execute_result"
    }
   ],
   "source": [
    "num1 == num1"
   ]
  },
  {
   "cell_type": "code",
   "execution_count": 107,
   "id": "b899702f-18f1-4be2-ad9b-9ec68aaac1cf",
   "metadata": {},
   "outputs": [
    {
     "data": {
      "text/plain": [
       "True"
      ]
     },
     "execution_count": 107,
     "metadata": {},
     "output_type": "execute_result"
    }
   ],
   "source": [
    "num1 >= num1"
   ]
  },
  {
   "cell_type": "code",
   "execution_count": 108,
   "id": "e49c0121-7f8c-4ece-b5c6-329f9fc67f6a",
   "metadata": {},
   "outputs": [
    {
     "data": {
      "text/plain": [
       "False"
      ]
     },
     "execution_count": 108,
     "metadata": {},
     "output_type": "execute_result"
    }
   ],
   "source": [
    "num1 != num1"
   ]
  },
  {
   "cell_type": "code",
   "execution_count": 109,
   "id": "4abc8b58-d94f-46e9-b740-3fa4543b4bb8",
   "metadata": {},
   "outputs": [
    {
     "data": {
      "text/plain": [
       "True"
      ]
     },
     "execution_count": 109,
     "metadata": {},
     "output_type": "execute_result"
    }
   ],
   "source": [
    "True & True"
   ]
  },
  {
   "cell_type": "code",
   "execution_count": 110,
   "id": "faca7647-7bb5-4150-a325-33f51458f3a8",
   "metadata": {},
   "outputs": [
    {
     "data": {
      "text/plain": [
       "False"
      ]
     },
     "execution_count": 110,
     "metadata": {},
     "output_type": "execute_result"
    }
   ],
   "source": [
    "True & False"
   ]
  },
  {
   "cell_type": "code",
   "execution_count": 111,
   "id": "ea8cb566-c899-41d5-bef3-a8e9032323aa",
   "metadata": {},
   "outputs": [
    {
     "data": {
      "text/plain": [
       "False"
      ]
     },
     "execution_count": 111,
     "metadata": {},
     "output_type": "execute_result"
    }
   ],
   "source": [
    "False & False"
   ]
  },
  {
   "cell_type": "code",
   "execution_count": 112,
   "id": "f385406f-eccf-422e-89a9-e25bc30a3aac",
   "metadata": {},
   "outputs": [
    {
     "data": {
      "text/plain": [
       "True"
      ]
     },
     "execution_count": 112,
     "metadata": {},
     "output_type": "execute_result"
    }
   ],
   "source": [
    "True | True"
   ]
  },
  {
   "cell_type": "code",
   "execution_count": 113,
   "id": "e17acb57-c3ff-44bf-8314-ac87c5c68744",
   "metadata": {},
   "outputs": [
    {
     "data": {
      "text/plain": [
       "True"
      ]
     },
     "execution_count": 113,
     "metadata": {},
     "output_type": "execute_result"
    }
   ],
   "source": [
    "True | False"
   ]
  },
  {
   "cell_type": "code",
   "execution_count": 114,
   "id": "b9e46087-c18a-4d57-987d-53ac9133f5a7",
   "metadata": {},
   "outputs": [
    {
     "data": {
      "text/plain": [
       "False"
      ]
     },
     "execution_count": 114,
     "metadata": {},
     "output_type": "execute_result"
    }
   ],
   "source": [
    "False | False"
   ]
  },
  {
   "cell_type": "code",
   "execution_count": 115,
   "id": "7a72e7a5-6862-4deb-8a73-deece1e58f5f",
   "metadata": {},
   "outputs": [
    {
     "data": {
      "text/plain": [
       "False"
      ]
     },
     "execution_count": 115,
     "metadata": {},
     "output_type": "execute_result"
    }
   ],
   "source": [
    "True ^ True"
   ]
  },
  {
   "cell_type": "code",
   "execution_count": 116,
   "id": "250eab34-2cfd-43bd-80a0-b7b8f209dd86",
   "metadata": {},
   "outputs": [
    {
     "data": {
      "text/plain": [
       "True"
      ]
     },
     "execution_count": 116,
     "metadata": {},
     "output_type": "execute_result"
    }
   ],
   "source": [
    "True ^ False"
   ]
  },
  {
   "cell_type": "code",
   "execution_count": 117,
   "id": "bf133268-c9eb-4f2e-be02-8795e26ac64d",
   "metadata": {},
   "outputs": [
    {
     "data": {
      "text/plain": [
       "False"
      ]
     },
     "execution_count": 117,
     "metadata": {},
     "output_type": "execute_result"
    }
   ],
   "source": [
    "False ^ False"
   ]
  },
  {
   "cell_type": "code",
   "execution_count": 118,
   "id": "aee2cbf7-9ce8-4ecb-a141-1e18c4a1484b",
   "metadata": {},
   "outputs": [],
   "source": [
    "num1 = 65"
   ]
  },
  {
   "cell_type": "code",
   "execution_count": 119,
   "id": "a6e51ebe-eb14-4d36-9ce4-ad156a6fdcc1",
   "metadata": {},
   "outputs": [
    {
     "data": {
      "text/plain": [
       "'0b1000001'"
      ]
     },
     "execution_count": 119,
     "metadata": {},
     "output_type": "execute_result"
    }
   ],
   "source": [
    "bin(num1)"
   ]
  },
  {
   "cell_type": "code",
   "execution_count": 120,
   "id": "57124218-5cd6-4c00-851a-1ee3593c1f11",
   "metadata": {},
   "outputs": [
    {
     "data": {
      "text/plain": [
       "'0b10000010'"
      ]
     },
     "execution_count": 120,
     "metadata": {},
     "output_type": "execute_result"
    }
   ],
   "source": [
    "bin(num1 << 1)"
   ]
  },
  {
   "cell_type": "code",
   "execution_count": 121,
   "id": "20329123-d6b5-499c-aeab-1ea5eaab84cd",
   "metadata": {},
   "outputs": [
    {
     "data": {
      "text/plain": [
       "130"
      ]
     },
     "execution_count": 121,
     "metadata": {},
     "output_type": "execute_result"
    }
   ],
   "source": [
    "num1 << 1"
   ]
  },
  {
   "cell_type": "code",
   "execution_count": 122,
   "id": "73bc9727-3269-4e97-8302-ea4e23093479",
   "metadata": {},
   "outputs": [
    {
     "data": {
      "text/plain": [
       "'0b1000001'"
      ]
     },
     "execution_count": 122,
     "metadata": {},
     "output_type": "execute_result"
    }
   ],
   "source": [
    "bin(num1)"
   ]
  },
  {
   "cell_type": "code",
   "execution_count": 123,
   "id": "36328ee4-470a-42b9-9347-031c950b7099",
   "metadata": {},
   "outputs": [
    {
     "data": {
      "text/plain": [
       "'0b100000100'"
      ]
     },
     "execution_count": 123,
     "metadata": {},
     "output_type": "execute_result"
    }
   ],
   "source": [
    "bin(num1 << 2)"
   ]
  },
  {
   "cell_type": "code",
   "execution_count": 124,
   "id": "25f796b5-1886-49d9-bbd6-88c90279b42b",
   "metadata": {},
   "outputs": [],
   "source": [
    "num1 = 65"
   ]
  },
  {
   "cell_type": "code",
   "execution_count": 125,
   "id": "8053cc99-8e0b-4a41-afc7-c2543de34e58",
   "metadata": {},
   "outputs": [
    {
     "data": {
      "text/plain": [
       "'0b1000001'"
      ]
     },
     "execution_count": 125,
     "metadata": {},
     "output_type": "execute_result"
    }
   ],
   "source": [
    "bin(num1)"
   ]
  },
  {
   "cell_type": "code",
   "execution_count": 126,
   "id": "cbe90ed2-6685-439f-845f-fc032eab3201",
   "metadata": {},
   "outputs": [
    {
     "data": {
      "text/plain": [
       "'0b100000'"
      ]
     },
     "execution_count": 126,
     "metadata": {},
     "output_type": "execute_result"
    }
   ],
   "source": [
    "bin(num1 >> 1)"
   ]
  },
  {
   "cell_type": "code",
   "execution_count": 127,
   "id": "012f438f-95d1-45a9-8a7d-b2ea3dc1f20c",
   "metadata": {},
   "outputs": [
    {
     "data": {
      "text/plain": [
       "32"
      ]
     },
     "execution_count": 127,
     "metadata": {},
     "output_type": "execute_result"
    }
   ],
   "source": [
    "num1 >> 1"
   ]
  },
  {
   "cell_type": "code",
   "execution_count": 128,
   "id": "41980323-c302-4645-b518-7d5044aa71d7",
   "metadata": {},
   "outputs": [
    {
     "data": {
      "text/plain": [
       "'0b1000001'"
      ]
     },
     "execution_count": 128,
     "metadata": {},
     "output_type": "execute_result"
    }
   ],
   "source": [
    "bin(num1)"
   ]
  },
  {
   "cell_type": "code",
   "execution_count": 129,
   "id": "abb56a35-7a69-4e80-9423-957aeab3512c",
   "metadata": {},
   "outputs": [
    {
     "data": {
      "text/plain": [
       "'0b10000'"
      ]
     },
     "execution_count": 129,
     "metadata": {},
     "output_type": "execute_result"
    }
   ],
   "source": [
    "bin(num1 >> 2)"
   ]
  },
  {
   "cell_type": "code",
   "execution_count": 130,
   "id": "945dc768-1ab2-4144-bad5-1812343dba76",
   "metadata": {},
   "outputs": [
    {
     "data": {
      "text/plain": [
       "[int, object]"
      ]
     },
     "execution_count": 130,
     "metadata": {},
     "output_type": "execute_result"
    }
   ],
   "source": [
    "int.mro()"
   ]
  },
  {
   "cell_type": "code",
   "execution_count": 131,
   "id": "b9fd0d29-f68e-4fe9-98fd-e8c44ee78d95",
   "metadata": {},
   "outputs": [
    {
     "data": {
      "text/plain": [
       "[bool, int, object]"
      ]
     },
     "execution_count": 131,
     "metadata": {},
     "output_type": "execute_result"
    }
   ],
   "source": [
    "bool.mro()"
   ]
  },
  {
   "cell_type": "code",
   "execution_count": 132,
   "id": "0ca747f3-d031-40c3-902c-d074b92690c3",
   "metadata": {},
   "outputs": [
    {
     "data": {
      "text/plain": [
       "False"
      ]
     },
     "execution_count": 132,
     "metadata": {},
     "output_type": "execute_result"
    }
   ],
   "source": [
    "bool(0)"
   ]
  },
  {
   "cell_type": "code",
   "execution_count": 133,
   "id": "ccf70653-696d-41b4-865c-d2b180de887f",
   "metadata": {},
   "outputs": [
    {
     "data": {
      "text/plain": [
       "True"
      ]
     },
     "execution_count": 133,
     "metadata": {},
     "output_type": "execute_result"
    }
   ],
   "source": [
    "bool(1)"
   ]
  },
  {
   "cell_type": "code",
   "execution_count": 134,
   "id": "33a4560c-b8b9-4cca-b240-b55230fa389b",
   "metadata": {},
   "outputs": [
    {
     "data": {
      "text/plain": [
       "True"
      ]
     },
     "execution_count": 134,
     "metadata": {},
     "output_type": "execute_result"
    }
   ],
   "source": [
    "bool(-4)"
   ]
  },
  {
   "cell_type": "code",
   "execution_count": 135,
   "id": "1b130e7b-899c-4841-b3b1-37da77117c45",
   "metadata": {},
   "outputs": [
    {
     "data": {
      "text/plain": [
       "False"
      ]
     },
     "execution_count": 135,
     "metadata": {},
     "output_type": "execute_result"
    }
   ],
   "source": [
    "False"
   ]
  },
  {
   "cell_type": "code",
   "execution_count": 136,
   "id": "8e981357-6345-4878-bd12-a5336fb12984",
   "metadata": {},
   "outputs": [
    {
     "data": {
      "text/plain": [
       "True"
      ]
     },
     "execution_count": 136,
     "metadata": {},
     "output_type": "execute_result"
    }
   ],
   "source": [
    "True"
   ]
  },
  {
   "cell_type": "code",
   "execution_count": 137,
   "id": "177ad63e-cb87-425f-9e8c-d9a17f2f9eb3",
   "metadata": {},
   "outputs": [
    {
     "name": "stdout",
     "output_type": "stream",
     "text": [
      "['__abs__', '__add__', '__and__', '__bool__', '__ceil__', '__class__',\n",
      " '__delattr__', '__dir__', '__divmod__', '__doc__', '__eq__', '__float__',\n",
      " '__floor__', '__floordiv__', '__format__', '__ge__', '__getattribute__',\n",
      " '__getnewargs__', '__getstate__', '__gt__', '__hash__', '__index__',\n",
      " '__init__', '__init_subclass__', '__int__', '__invert__', '__le__',\n",
      " '__lshift__', '__lt__', '__mod__', '__mul__', '__ne__', '__neg__', '__new__',\n",
      " '__or__', '__pos__', '__pow__', '__radd__', '__rand__', '__rdivmod__',\n",
      " '__reduce__', '__reduce_ex__', '__repr__', '__rfloordiv__', '__rlshift__',\n",
      " '__rmod__', '__rmul__', '__ror__', '__round__', '__rpow__', '__rrshift__',\n",
      " '__rshift__', '__rsub__', '__rtruediv__', '__rxor__', '__setattr__',\n",
      " '__sizeof__', '__str__', '__sub__', '__subclasshook__', '__truediv__',\n",
      " '__trunc__', '__xor__', 'as_integer_ratio', 'bit_count', 'bit_length',\n",
      " 'conjugate', 'denominator', 'from_bytes', 'imag', 'numerator', 'real',\n",
      " 'to_bytes']\n"
     ]
    }
   ],
   "source": [
    "pprint.pprint(dir(False), compact=True)"
   ]
  },
  {
   "cell_type": "code",
   "execution_count": 138,
   "id": "7c6c3c99-a99d-487b-974e-51ef1fd97147",
   "metadata": {},
   "outputs": [
    {
     "data": {
      "text/plain": [
       "'False'"
      ]
     },
     "execution_count": 138,
     "metadata": {},
     "output_type": "execute_result"
    }
   ],
   "source": [
    "repr(False)"
   ]
  },
  {
   "cell_type": "code",
   "execution_count": 139,
   "id": "ff09f26b-d207-472b-b56b-fd0b49fcb7d3",
   "metadata": {},
   "outputs": [
    {
     "data": {
      "text/plain": [
       "'False'"
      ]
     },
     "execution_count": 139,
     "metadata": {},
     "output_type": "execute_result"
    }
   ],
   "source": [
    "str(False)"
   ]
  },
  {
   "cell_type": "code",
   "execution_count": 140,
   "id": "4748f393-44e1-4005-b4f5-55b2edb37875",
   "metadata": {},
   "outputs": [
    {
     "data": {
      "text/plain": [
       "True"
      ]
     },
     "execution_count": 140,
     "metadata": {},
     "output_type": "execute_result"
    }
   ],
   "source": [
    "False == 0"
   ]
  },
  {
   "cell_type": "code",
   "execution_count": 141,
   "id": "a6c80168-be98-48e9-b651-88b3b134610f",
   "metadata": {},
   "outputs": [
    {
     "data": {
      "text/plain": [
       "True"
      ]
     },
     "execution_count": 141,
     "metadata": {},
     "output_type": "execute_result"
    }
   ],
   "source": [
    "True == 1"
   ]
  },
  {
   "cell_type": "code",
   "execution_count": 142,
   "id": "e45bc252-5abb-488d-b123-4c6f83b86313",
   "metadata": {},
   "outputs": [
    {
     "data": {
      "text/plain": [
       "False"
      ]
     },
     "execution_count": 142,
     "metadata": {},
     "output_type": "execute_result"
    }
   ],
   "source": [
    "True == 2"
   ]
  },
  {
   "cell_type": "code",
   "execution_count": 143,
   "id": "4b7d7dd0-c469-48d0-8fdf-2ff9e232d7d0",
   "metadata": {},
   "outputs": [
    {
     "data": {
      "text/plain": [
       "1"
      ]
     },
     "execution_count": 143,
     "metadata": {},
     "output_type": "execute_result"
    }
   ],
   "source": [
    "+True"
   ]
  },
  {
   "cell_type": "code",
   "execution_count": 144,
   "id": "ee24a818-1d30-40bb-bf52-a8b65140dade",
   "metadata": {},
   "outputs": [
    {
     "data": {
      "text/plain": [
       "-1"
      ]
     },
     "execution_count": 144,
     "metadata": {},
     "output_type": "execute_result"
    }
   ],
   "source": [
    "-True"
   ]
  },
  {
   "cell_type": "code",
   "execution_count": 145,
   "id": "53ba4992-030c-425a-9541-099c2c67c6c4",
   "metadata": {},
   "outputs": [
    {
     "data": {
      "text/plain": [
       "[float, object]"
      ]
     },
     "execution_count": 145,
     "metadata": {},
     "output_type": "execute_result"
    }
   ],
   "source": [
    "float.mro()"
   ]
  },
  {
   "cell_type": "code",
   "execution_count": 146,
   "id": "34172933-d69f-4dcf-9873-1b1a4f6a4f7c",
   "metadata": {},
   "outputs": [
    {
     "data": {
      "text/plain": [
       "10.0"
      ]
     },
     "execution_count": 146,
     "metadata": {},
     "output_type": "execute_result"
    }
   ],
   "source": [
    "float(10)"
   ]
  },
  {
   "cell_type": "code",
   "execution_count": 147,
   "id": "4221db26-670d-4cae-8b45-baf756a47174",
   "metadata": {},
   "outputs": [
    {
     "data": {
      "text/plain": [
       "10.0"
      ]
     },
     "execution_count": 147,
     "metadata": {},
     "output_type": "execute_result"
    }
   ],
   "source": [
    "float('10')"
   ]
  },
  {
   "cell_type": "code",
   "execution_count": 148,
   "id": "ea1a9040-8b74-4ccf-ba87-c2a50639188b",
   "metadata": {},
   "outputs": [
    {
     "data": {
      "text/plain": [
       "1.5"
      ]
     },
     "execution_count": 148,
     "metadata": {},
     "output_type": "execute_result"
    }
   ],
   "source": [
    "1.5"
   ]
  },
  {
   "cell_type": "code",
   "execution_count": 149,
   "id": "eb9c337e-5f7a-4549-9f7b-2459224c6eed",
   "metadata": {},
   "outputs": [
    {
     "data": {
      "text/plain": [
       "5.3e-11"
      ]
     },
     "execution_count": 149,
     "metadata": {},
     "output_type": "execute_result"
    }
   ],
   "source": [
    "0.000000000053"
   ]
  },
  {
   "cell_type": "code",
   "execution_count": 150,
   "id": "c47af5ea-90b2-46d8-ab0d-4d4f1bcf836f",
   "metadata": {},
   "outputs": [
    {
     "data": {
      "text/plain": [
       "5.0"
      ]
     },
     "execution_count": 150,
     "metadata": {},
     "output_type": "execute_result"
    }
   ],
   "source": [
    "5e0"
   ]
  },
  {
   "cell_type": "code",
   "execution_count": 151,
   "id": "ba0c6f13-ff7b-4201-b376-62358f599831",
   "metadata": {},
   "outputs": [
    {
     "data": {
      "text/plain": [
       "50.0"
      ]
     },
     "execution_count": 151,
     "metadata": {},
     "output_type": "execute_result"
    }
   ],
   "source": [
    "5e1"
   ]
  },
  {
   "cell_type": "code",
   "execution_count": 152,
   "id": "e52af55c-df12-41c1-bb0e-4fb7e4ad44f4",
   "metadata": {},
   "outputs": [
    {
     "data": {
      "text/plain": [
       "0.5"
      ]
     },
     "execution_count": 152,
     "metadata": {},
     "output_type": "execute_result"
    }
   ],
   "source": [
    "5e-1"
   ]
  },
  {
   "cell_type": "code",
   "execution_count": 153,
   "id": "fe13c10e-e673-4076-ac85-4a4ea561b46b",
   "metadata": {},
   "outputs": [
    {
     "data": {
      "text/plain": [
       "696340000.0"
      ]
     },
     "execution_count": 153,
     "metadata": {},
     "output_type": "execute_result"
    }
   ],
   "source": [
    "696340e3"
   ]
  },
  {
   "cell_type": "code",
   "execution_count": 154,
   "id": "48ef7bcf-6644-4bb2-b3a3-a387f29fa359",
   "metadata": {},
   "outputs": [
    {
     "data": {
      "text/plain": [
       "696340000.0"
      ]
     },
     "execution_count": 154,
     "metadata": {},
     "output_type": "execute_result"
    }
   ],
   "source": [
    "6.96340e8"
   ]
  },
  {
   "cell_type": "code",
   "execution_count": 155,
   "id": "848105b5-b221-4b6c-a341-135fca81ccf4",
   "metadata": {},
   "outputs": [
    {
     "name": "stdout",
     "output_type": "stream",
     "text": [
      "4.096e-09\n",
      "1.024e-07\n",
      "2.56e-06\n",
      "6.4e-05\n",
      "0.0016\n",
      "0.04\n",
      "1.0\n",
      "25.0\n",
      "625.0\n",
      "15625.0\n",
      "390625.0\n",
      "9765625.0\n",
      "244140625.0\n",
      "6103515625.0\n",
      "152587890625.0\n",
      "3814697265625.0\n",
      "95367431640625.0\n",
      "2384185791015625.0\n",
      "5.960464477539062e+16\n"
     ]
    }
   ],
   "source": [
    "for i in range(-12, 25, 2):\n",
    "    print(float(5**i))"
   ]
  },
  {
   "cell_type": "code",
   "execution_count": 156,
   "id": "9f2ce26d-24f4-499a-be51-70ffecca659d",
   "metadata": {},
   "outputs": [],
   "source": [
    "num1 = 0.5"
   ]
  },
  {
   "cell_type": "code",
   "execution_count": 157,
   "id": "6de4e838-64ce-45fa-afec-6bce4e316de5",
   "metadata": {},
   "outputs": [
    {
     "data": {
      "text/plain": [
       "0.5"
      ]
     },
     "execution_count": 157,
     "metadata": {},
     "output_type": "execute_result"
    }
   ],
   "source": [
    "num1.real"
   ]
  },
  {
   "cell_type": "code",
   "execution_count": 158,
   "id": "f9616b5f-d2c9-45d9-a4fc-d890290d144f",
   "metadata": {},
   "outputs": [
    {
     "data": {
      "text/plain": [
       "0.0"
      ]
     },
     "execution_count": 158,
     "metadata": {},
     "output_type": "execute_result"
    }
   ],
   "source": [
    "num1.imag"
   ]
  },
  {
   "cell_type": "code",
   "execution_count": 159,
   "id": "4dbee518-6e7d-4653-b479-809b311d5476",
   "metadata": {},
   "outputs": [
    {
     "data": {
      "text/plain": [
       "0.5"
      ]
     },
     "execution_count": 159,
     "metadata": {},
     "output_type": "execute_result"
    }
   ],
   "source": [
    "num1.conjugate()"
   ]
  },
  {
   "cell_type": "code",
   "execution_count": 160,
   "id": "4bb47448-c247-4629-92ea-5e100b73800c",
   "metadata": {},
   "outputs": [],
   "source": [
    "num1 = 0.5"
   ]
  },
  {
   "cell_type": "code",
   "execution_count": 161,
   "id": "c1e49c3a-72d1-4fbc-83a9-f56531dec763",
   "metadata": {},
   "outputs": [
    {
     "data": {
      "text/plain": [
       "(1, 2)"
      ]
     },
     "execution_count": 161,
     "metadata": {},
     "output_type": "execute_result"
    }
   ],
   "source": [
    "num1.as_integer_ratio()"
   ]
  },
  {
   "cell_type": "code",
   "execution_count": 162,
   "id": "0e376b1e-8384-4687-8c87-d04a6bbaf9ad",
   "metadata": {},
   "outputs": [],
   "source": [
    "num2 = 0.1"
   ]
  },
  {
   "cell_type": "code",
   "execution_count": 163,
   "id": "63b44ed5-e14f-43cb-b7a4-54dadd0f576e",
   "metadata": {},
   "outputs": [
    {
     "data": {
      "text/plain": [
       "(3602879701896397, 36028797018963968)"
      ]
     },
     "execution_count": 163,
     "metadata": {},
     "output_type": "execute_result"
    }
   ],
   "source": [
    "num2.as_integer_ratio()"
   ]
  },
  {
   "cell_type": "code",
   "execution_count": 164,
   "id": "b083da7a-4d50-45c1-8dce-9d44eb0c734f",
   "metadata": {},
   "outputs": [],
   "source": [
    "num1 = 0.5"
   ]
  },
  {
   "cell_type": "code",
   "execution_count": 165,
   "id": "0da96cdd-786f-4f29-9828-94aca11d470b",
   "metadata": {},
   "outputs": [
    {
     "data": {
      "text/plain": [
       "'0x1.0000000000000p-1'"
      ]
     },
     "execution_count": 165,
     "metadata": {},
     "output_type": "execute_result"
    }
   ],
   "source": [
    "num1.hex()"
   ]
  },
  {
   "cell_type": "code",
   "execution_count": 166,
   "id": "d363989a-6a71-4dc2-9499-92fb63c64d52",
   "metadata": {},
   "outputs": [],
   "source": [
    "num2 = 0.12"
   ]
  },
  {
   "cell_type": "code",
   "execution_count": 167,
   "id": "bcaf5a8a-f5bc-4b07-a4e3-aa41b4303ac7",
   "metadata": {},
   "outputs": [
    {
     "data": {
      "text/plain": [
       "'0x1.eb851eb851eb8p-4'"
      ]
     },
     "execution_count": 167,
     "metadata": {},
     "output_type": "execute_result"
    }
   ],
   "source": [
    "num2.hex()"
   ]
  },
  {
   "cell_type": "code",
   "execution_count": 168,
   "id": "90803c14-1fa9-4bcd-9162-380876ef6207",
   "metadata": {},
   "outputs": [
    {
     "data": {
      "text/plain": [
       "0.11999988555908203"
      ]
     },
     "execution_count": 168,
     "metadata": {},
     "output_type": "execute_result"
    }
   ],
   "source": [
    "((1 * 16 ** 0) \n",
    " + (14 * 16 ** -1) \n",
    " + (11 * 16 ** -2) \n",
    " + (8 * 16 ** -3) \n",
    " + (5 * 16 ** -4)) * (2 ** -4)"
   ]
  },
  {
   "cell_type": "code",
   "execution_count": 169,
   "id": "04f7742c-76bb-4beb-9682-0f4e4285b5c9",
   "metadata": {},
   "outputs": [
    {
     "data": {
      "text/plain": [
       "0.5"
      ]
     },
     "execution_count": 169,
     "metadata": {},
     "output_type": "execute_result"
    }
   ],
   "source": [
    "float.fromhex('0x1.0000000000000p-1')"
   ]
  },
  {
   "cell_type": "code",
   "execution_count": 170,
   "id": "9f32ee2e-c818-4088-afa9-6fd9997994e6",
   "metadata": {},
   "outputs": [
    {
     "data": {
      "text/plain": [
       "0.12"
      ]
     },
     "execution_count": 170,
     "metadata": {},
     "output_type": "execute_result"
    }
   ],
   "source": [
    "float.fromhex('0x1.eb851eb851eb8p-4')"
   ]
  },
  {
   "cell_type": "code",
   "execution_count": 171,
   "id": "1586d049-0f06-409a-9295-4ddc98ddbf60",
   "metadata": {},
   "outputs": [],
   "source": [
    "num1 = 0.5"
   ]
  },
  {
   "cell_type": "code",
   "execution_count": 172,
   "id": "8892cf83-8181-45c3-87d5-4222a45d6e14",
   "metadata": {},
   "outputs": [
    {
     "name": "stdout",
     "output_type": "stream",
     "text": [
      "['__abs__', '__add__', '__bool__', '__ceil__', '__class__', '__delattr__',\n",
      " '__dir__', '__divmod__', '__doc__', '__eq__', '__float__', '__floor__',\n",
      " '__floordiv__', '__format__', '__ge__', '__getattribute__', '__getformat__',\n",
      " '__getnewargs__', '__getstate__', '__gt__', '__hash__', '__init__',\n",
      " '__init_subclass__', '__int__', '__le__', '__lt__', '__mod__', '__mul__',\n",
      " '__ne__', '__neg__', '__new__', '__pos__', '__pow__', '__radd__',\n",
      " '__rdivmod__', '__reduce__', '__reduce_ex__', '__repr__', '__rfloordiv__',\n",
      " '__rmod__', '__rmul__', '__round__', '__rpow__', '__rsub__', '__rtruediv__',\n",
      " '__setattr__', '__sizeof__', '__str__', '__sub__', '__subclasshook__',\n",
      " '__truediv__', '__trunc__', 'as_integer_ratio', 'conjugate', 'fromhex', 'hex',\n",
      " 'imag', 'is_integer', 'real']\n"
     ]
    }
   ],
   "source": [
    "pprint.pprint(dir(num1), compact=True)"
   ]
  },
  {
   "cell_type": "code",
   "execution_count": 173,
   "id": "68d2b48e-b4c6-46fb-b88b-618feb812b50",
   "metadata": {},
   "outputs": [],
   "source": [
    "num1 = 1.5\n",
    "num2 = 0.000000000053\n",
    "num3 = 6.96340e8"
   ]
  },
  {
   "cell_type": "code",
   "execution_count": 174,
   "id": "2f4613ee-db45-4278-953b-446b4ff109b8",
   "metadata": {
    "tags": []
   },
   "outputs": [
    {
     "data": {
      "text/plain": [
       "'1.5'"
      ]
     },
     "execution_count": 174,
     "metadata": {},
     "output_type": "execute_result"
    }
   ],
   "source": [
    "repr(num1)"
   ]
  },
  {
   "cell_type": "code",
   "execution_count": 175,
   "id": "16bc8b8d-f3c4-4069-8de4-6e5de940df7b",
   "metadata": {},
   "outputs": [
    {
     "data": {
      "text/plain": [
       "'1.5'"
      ]
     },
     "execution_count": 175,
     "metadata": {},
     "output_type": "execute_result"
    }
   ],
   "source": [
    "str(num1)"
   ]
  },
  {
   "cell_type": "code",
   "execution_count": 176,
   "id": "44008f0e-8467-412b-af3e-e42a1118f493",
   "metadata": {},
   "outputs": [
    {
     "data": {
      "text/plain": [
       "'5.3e-11'"
      ]
     },
     "execution_count": 176,
     "metadata": {},
     "output_type": "execute_result"
    }
   ],
   "source": [
    "repr(num2)"
   ]
  },
  {
   "cell_type": "code",
   "execution_count": 177,
   "id": "3f5b3574-89e0-4723-92d5-6c9964324874",
   "metadata": {},
   "outputs": [
    {
     "data": {
      "text/plain": [
       "'5.3e-11'"
      ]
     },
     "execution_count": 177,
     "metadata": {},
     "output_type": "execute_result"
    }
   ],
   "source": [
    "str(num2)"
   ]
  },
  {
   "cell_type": "code",
   "execution_count": 178,
   "id": "8e603eec-a416-4b5f-83f7-961e402a1eb5",
   "metadata": {},
   "outputs": [
    {
     "data": {
      "text/plain": [
       "'696340000.0'"
      ]
     },
     "execution_count": 178,
     "metadata": {},
     "output_type": "execute_result"
    }
   ],
   "source": [
    "repr(num3)"
   ]
  },
  {
   "cell_type": "code",
   "execution_count": 179,
   "id": "bcf02a8f-7e1c-4d69-89f5-265a7337817e",
   "metadata": {},
   "outputs": [
    {
     "data": {
      "text/plain": [
       "'696340000.0'"
      ]
     },
     "execution_count": 179,
     "metadata": {},
     "output_type": "execute_result"
    }
   ],
   "source": [
    "str(num3)"
   ]
  },
  {
   "cell_type": "code",
   "execution_count": 180,
   "id": "7f2e3cdc-7fb0-4ea9-9be8-07ba8edcef19",
   "metadata": {},
   "outputs": [
    {
     "data": {
      "text/plain": [
       "1.5"
      ]
     },
     "execution_count": 180,
     "metadata": {},
     "output_type": "execute_result"
    }
   ],
   "source": [
    "num1"
   ]
  },
  {
   "cell_type": "code",
   "execution_count": 181,
   "id": "89b655d0-2f60-4746-b461-a864a2b0f808",
   "metadata": {},
   "outputs": [
    {
     "data": {
      "text/plain": [
       "1152921504606846977"
      ]
     },
     "execution_count": 181,
     "metadata": {},
     "output_type": "execute_result"
    }
   ],
   "source": [
    "hash(num1)"
   ]
  },
  {
   "cell_type": "code",
   "execution_count": 182,
   "id": "72c55b68-9945-4459-8c96-72b5face04c8",
   "metadata": {},
   "outputs": [],
   "source": [
    "num_dict = {1.5: 'one and a half', 2.5: 'two and a half'}"
   ]
  },
  {
   "cell_type": "code",
   "execution_count": 183,
   "id": "9844493a-9976-41ac-9d86-75763667eb89",
   "metadata": {},
   "outputs": [
    {
     "data": {
      "text/plain": [
       "'one and a half'"
      ]
     },
     "execution_count": 183,
     "metadata": {},
     "output_type": "execute_result"
    }
   ],
   "source": [
    "num_dict[1.5]"
   ]
  },
  {
   "cell_type": "code",
   "execution_count": 184,
   "id": "6c739042-670c-424b-b0a4-44116d5009ce",
   "metadata": {},
   "outputs": [],
   "source": [
    "num1 = 1.5"
   ]
  },
  {
   "cell_type": "code",
   "execution_count": 185,
   "id": "e7958697-a45b-405d-b349-7cbeddd48227",
   "metadata": {},
   "outputs": [],
   "source": [
    "#'hello'[num1]"
   ]
  },
  {
   "cell_type": "code",
   "execution_count": 186,
   "id": "e64a8a63-3aeb-4705-9285-3e078a3d133e",
   "metadata": {},
   "outputs": [],
   "source": [
    "num1 = 1.5"
   ]
  },
  {
   "cell_type": "code",
   "execution_count": 187,
   "id": "2520ff0e-8c6b-434d-9bcc-4df231450a51",
   "metadata": {},
   "outputs": [
    {
     "data": {
      "text/plain": [
       "1"
      ]
     },
     "execution_count": 187,
     "metadata": {},
     "output_type": "execute_result"
    }
   ],
   "source": [
    "int(num1)"
   ]
  },
  {
   "cell_type": "code",
   "execution_count": 188,
   "id": "ca4a0662-51e5-4eab-8263-c33277089c3b",
   "metadata": {},
   "outputs": [],
   "source": [
    "import math"
   ]
  },
  {
   "cell_type": "code",
   "execution_count": 189,
   "id": "5fb12516-6236-47b4-aaf7-ffb0cb88259e",
   "metadata": {},
   "outputs": [],
   "source": [
    "num1 = 1.5"
   ]
  },
  {
   "cell_type": "code",
   "execution_count": 190,
   "id": "5cd07bb2-46f1-49ee-81fb-2c28d14b5326",
   "metadata": {},
   "outputs": [
    {
     "data": {
      "text/plain": [
       "1"
      ]
     },
     "execution_count": 190,
     "metadata": {},
     "output_type": "execute_result"
    }
   ],
   "source": [
    "math.floor(num1)"
   ]
  },
  {
   "cell_type": "code",
   "execution_count": 191,
   "id": "583f38d3-5520-4165-b75c-0a4050dc34ee",
   "metadata": {},
   "outputs": [
    {
     "data": {
      "text/plain": [
       "2"
      ]
     },
     "execution_count": 191,
     "metadata": {},
     "output_type": "execute_result"
    }
   ],
   "source": [
    "math.ceil(num1)"
   ]
  },
  {
   "cell_type": "code",
   "execution_count": 192,
   "id": "13850b6b-0d72-4d88-86ce-9185ba682663",
   "metadata": {},
   "outputs": [
    {
     "data": {
      "text/plain": [
       "1"
      ]
     },
     "execution_count": 192,
     "metadata": {},
     "output_type": "execute_result"
    }
   ],
   "source": [
    "math.trunc(num1)"
   ]
  },
  {
   "cell_type": "code",
   "execution_count": 193,
   "id": "4df38e82-2f41-426d-bafc-444bf178c1dd",
   "metadata": {},
   "outputs": [],
   "source": [
    "num2 = -1.5"
   ]
  },
  {
   "cell_type": "code",
   "execution_count": 194,
   "id": "4664b536-f0f4-43b9-b0c7-47f27f810091",
   "metadata": {},
   "outputs": [
    {
     "data": {
      "text/plain": [
       "-2"
      ]
     },
     "execution_count": 194,
     "metadata": {},
     "output_type": "execute_result"
    }
   ],
   "source": [
    "math.floor(num2)"
   ]
  },
  {
   "cell_type": "code",
   "execution_count": 195,
   "id": "f32ae741-aac7-4b84-867e-050bd5914e30",
   "metadata": {},
   "outputs": [
    {
     "data": {
      "text/plain": [
       "-1"
      ]
     },
     "execution_count": 195,
     "metadata": {},
     "output_type": "execute_result"
    }
   ],
   "source": [
    "math.ceil(num2)"
   ]
  },
  {
   "cell_type": "code",
   "execution_count": 196,
   "id": "ced5b85d-10fa-4838-aadf-5cc76edb7777",
   "metadata": {},
   "outputs": [
    {
     "data": {
      "text/plain": [
       "-1"
      ]
     },
     "execution_count": 196,
     "metadata": {},
     "output_type": "execute_result"
    }
   ],
   "source": [
    "math.trunc(num2)"
   ]
  },
  {
   "cell_type": "code",
   "execution_count": 197,
   "id": "0e7c4f16-79b5-4362-8920-70e9a6b60c19",
   "metadata": {},
   "outputs": [],
   "source": [
    "num1 = 1.234"
   ]
  },
  {
   "cell_type": "code",
   "execution_count": 198,
   "id": "091e8943-32b2-46fd-884b-71d22a8e949d",
   "metadata": {},
   "outputs": [
    {
     "data": {
      "text/plain": [
       "1"
      ]
     },
     "execution_count": 198,
     "metadata": {},
     "output_type": "execute_result"
    }
   ],
   "source": [
    "round(num1)"
   ]
  },
  {
   "cell_type": "code",
   "execution_count": 199,
   "id": "62dd3ee9-5a3d-4464-afc5-3d74309d6eab",
   "metadata": {},
   "outputs": [
    {
     "data": {
      "text/plain": [
       "1.23"
      ]
     },
     "execution_count": 199,
     "metadata": {},
     "output_type": "execute_result"
    }
   ],
   "source": [
    "round(num1, ndigits=2)"
   ]
  },
  {
   "cell_type": "code",
   "execution_count": 200,
   "id": "b695d82b-9a93-406e-83fb-ac474c07a17c",
   "metadata": {},
   "outputs": [],
   "source": [
    "num1 = 1\n",
    "num2 = 1.5"
   ]
  },
  {
   "cell_type": "code",
   "execution_count": 201,
   "id": "0142eedd-6732-413e-8f0e-73378c9b1143",
   "metadata": {},
   "outputs": [
    {
     "data": {
      "text/plain": [
       "2.5"
      ]
     },
     "execution_count": 201,
     "metadata": {},
     "output_type": "execute_result"
    }
   ],
   "source": [
    "num1 + num2"
   ]
  },
  {
   "cell_type": "code",
   "execution_count": 202,
   "id": "4163e57a-355f-4cc8-a404-2b51b8ab1316",
   "metadata": {},
   "outputs": [
    {
     "data": {
      "text/plain": [
       "2.5"
      ]
     },
     "execution_count": 202,
     "metadata": {},
     "output_type": "execute_result"
    }
   ],
   "source": [
    "float(num1) + num2"
   ]
  },
  {
   "cell_type": "code",
   "execution_count": 203,
   "id": "b67d295a-ee75-40cb-b49e-15627d34f179",
   "metadata": {},
   "outputs": [],
   "source": [
    "num1 = 0.1\n",
    "num2 = 0.2"
   ]
  },
  {
   "cell_type": "code",
   "execution_count": 204,
   "id": "369be6e2-e1d6-4b0a-8447-d65b4f810f0a",
   "metadata": {},
   "outputs": [
    {
     "data": {
      "text/plain": [
       "0.30000000000000004"
      ]
     },
     "execution_count": 204,
     "metadata": {},
     "output_type": "execute_result"
    }
   ],
   "source": [
    "num1 + num2"
   ]
  },
  {
   "cell_type": "code",
   "execution_count": 205,
   "id": "bcba7869-e7bb-45e2-91f8-5fa9c620f951",
   "metadata": {},
   "outputs": [],
   "source": [
    "num1 = 0.1\n",
    "num2 = 0.2\n",
    "num3 = 0.3"
   ]
  },
  {
   "cell_type": "code",
   "execution_count": 206,
   "id": "0ac7c607-a2ae-4721-ad2f-e2fad31afc69",
   "metadata": {},
   "outputs": [
    {
     "data": {
      "text/plain": [
       "False"
      ]
     },
     "execution_count": 206,
     "metadata": {},
     "output_type": "execute_result"
    }
   ],
   "source": [
    "num1 + num2 == num3"
   ]
  },
  {
   "cell_type": "code",
   "execution_count": 207,
   "id": "ac3f022a-6229-4231-bf05-8c308985f229",
   "metadata": {},
   "outputs": [
    {
     "data": {
      "text/plain": [
       "True"
      ]
     },
     "execution_count": 207,
     "metadata": {},
     "output_type": "execute_result"
    }
   ],
   "source": [
    "round(num1 + num2, ndigits=6) == num3"
   ]
  },
  {
   "cell_type": "code",
   "execution_count": 208,
   "id": "fca1b71d-5006-4d23-b5d1-e51143957582",
   "metadata": {},
   "outputs": [
    {
     "data": {
      "text/plain": [
       "[complex, object]"
      ]
     },
     "execution_count": 208,
     "metadata": {},
     "output_type": "execute_result"
    }
   ],
   "source": [
    "complex.mro()"
   ]
  },
  {
   "cell_type": "code",
   "execution_count": 209,
   "id": "15d1f165-7ba3-488d-94b9-ca837230e20a",
   "metadata": {},
   "outputs": [
    {
     "data": {
      "text/plain": [
       "(2+1j)"
      ]
     },
     "execution_count": 209,
     "metadata": {},
     "output_type": "execute_result"
    }
   ],
   "source": [
    "complex(real=2, imag=1)"
   ]
  },
  {
   "cell_type": "code",
   "execution_count": 210,
   "id": "cab21dd8-8b56-4ae1-91a4-df7e62fd1698",
   "metadata": {},
   "outputs": [],
   "source": [
    "num1 = 2+1j"
   ]
  },
  {
   "cell_type": "code",
   "execution_count": 211,
   "id": "a982a1c0-dbf1-4244-80c1-c42a16a32c91",
   "metadata": {},
   "outputs": [
    {
     "data": {
      "text/plain": [
       "(2+1j)"
      ]
     },
     "execution_count": 211,
     "metadata": {},
     "output_type": "execute_result"
    }
   ],
   "source": [
    "num1"
   ]
  },
  {
   "cell_type": "code",
   "execution_count": 212,
   "id": "bfcc1d0c-f982-4243-9a4b-b1bbb1a16f1c",
   "metadata": {},
   "outputs": [],
   "source": [
    "num1 = 2+1j"
   ]
  },
  {
   "cell_type": "code",
   "execution_count": 213,
   "id": "568fc541-2191-4cdf-a988-495f59092701",
   "metadata": {},
   "outputs": [
    {
     "data": {
      "text/plain": [
       "2.0"
      ]
     },
     "execution_count": 213,
     "metadata": {},
     "output_type": "execute_result"
    }
   ],
   "source": [
    "num1.real"
   ]
  },
  {
   "cell_type": "code",
   "execution_count": 214,
   "id": "121ba5b5-ca9b-44ae-82af-40a530e45bc2",
   "metadata": {},
   "outputs": [
    {
     "data": {
      "text/plain": [
       "1.0"
      ]
     },
     "execution_count": 214,
     "metadata": {},
     "output_type": "execute_result"
    }
   ],
   "source": [
    "num1.imag"
   ]
  },
  {
   "cell_type": "code",
   "execution_count": 215,
   "id": "5962d86f-d9f9-47df-bc71-472a8d8bc37b",
   "metadata": {},
   "outputs": [],
   "source": [
    "num1 = 2+1j"
   ]
  },
  {
   "cell_type": "code",
   "execution_count": 216,
   "id": "d70a4d28-0e9b-4c0b-a5f3-d435ec807bdd",
   "metadata": {},
   "outputs": [
    {
     "data": {
      "text/plain": [
       "(2-1j)"
      ]
     },
     "execution_count": 216,
     "metadata": {},
     "output_type": "execute_result"
    }
   ],
   "source": [
    "num1.conjugate()"
   ]
  },
  {
   "cell_type": "code",
   "execution_count": 217,
   "id": "5e5ac24d-70fc-43e9-83fa-18665e8e82ac",
   "metadata": {},
   "outputs": [],
   "source": [
    "num1 = 2+1j"
   ]
  },
  {
   "cell_type": "code",
   "execution_count": 218,
   "id": "c31002f4-1ac8-496f-b676-b525a3f02c2c",
   "metadata": {},
   "outputs": [
    {
     "name": "stdout",
     "output_type": "stream",
     "text": [
      "['__abs__', '__add__', '__bool__', '__class__', '__complex__', '__delattr__',\n",
      " '__dir__', '__doc__', '__eq__', '__format__', '__ge__', '__getattribute__',\n",
      " '__getnewargs__', '__getstate__', '__gt__', '__hash__', '__init__',\n",
      " '__init_subclass__', '__le__', '__lt__', '__mul__', '__ne__', '__neg__',\n",
      " '__new__', '__pos__', '__pow__', '__radd__', '__reduce__', '__reduce_ex__',\n",
      " '__repr__', '__rmul__', '__rpow__', '__rsub__', '__rtruediv__', '__setattr__',\n",
      " '__sizeof__', '__str__', '__sub__', '__subclasshook__', '__truediv__',\n",
      " 'conjugate', 'imag', 'real']\n"
     ]
    }
   ],
   "source": [
    "pprint.pprint(dir(num1), compact=True)"
   ]
  },
  {
   "cell_type": "code",
   "execution_count": 219,
   "id": "1f60006d-8413-45d1-abc8-1b97bed89d74",
   "metadata": {},
   "outputs": [],
   "source": [
    "num1 = 2+1j"
   ]
  },
  {
   "cell_type": "code",
   "execution_count": 220,
   "id": "e95259c5-0db3-4453-9659-3d051f8a11a3",
   "metadata": {},
   "outputs": [
    {
     "ename": "TypeError",
     "evalue": "unsupported operand type(s) for //: 'complex' and 'complex'",
     "output_type": "error",
     "traceback": [
      "\u001b[1;31m---------------------------------------------------------------------------\u001b[0m",
      "\u001b[1;31mTypeError\u001b[0m                                 Traceback (most recent call last)",
      "Cell \u001b[1;32mIn[220], line 1\u001b[0m\n\u001b[1;32m----> 1\u001b[0m \u001b[43mnum1\u001b[49m\u001b[43m \u001b[49m\u001b[38;5;241;43m/\u001b[39;49m\u001b[38;5;241;43m/\u001b[39;49m\u001b[43m \u001b[49m\u001b[43mnum1\u001b[49m\n",
      "\u001b[1;31mTypeError\u001b[0m: unsupported operand type(s) for //: 'complex' and 'complex'"
     ]
    }
   ],
   "source": [
    "#num1 // num1"
   ]
  },
  {
   "cell_type": "code",
   "execution_count": 221,
   "id": "22c89bb1-ed8b-428e-bd08-2da2df259549",
   "metadata": {},
   "outputs": [
    {
     "ename": "TypeError",
     "evalue": "unsupported operand type(s) for %: 'complex' and 'complex'",
     "output_type": "error",
     "traceback": [
      "\u001b[1;31m---------------------------------------------------------------------------\u001b[0m",
      "\u001b[1;31mTypeError\u001b[0m                                 Traceback (most recent call last)",
      "Cell \u001b[1;32mIn[221], line 1\u001b[0m\n\u001b[1;32m----> 1\u001b[0m \u001b[43mnum1\u001b[49m\u001b[43m \u001b[49m\u001b[38;5;241;43m%\u001b[39;49m\u001b[43m \u001b[49m\u001b[43mnum1\u001b[49m\n",
      "\u001b[1;31mTypeError\u001b[0m: unsupported operand type(s) for %: 'complex' and 'complex'"
     ]
    }
   ],
   "source": [
    "#num1 % num1"
   ]
  },
  {
   "cell_type": "code",
   "execution_count": null,
   "id": "29e9039d-7e45-4a73-b2f3-7b69193ad15d",
   "metadata": {},
   "outputs": [],
   "source": []
  }
 ],
 "metadata": {
  "kernelspec": {
   "display_name": "Python 3 (ipykernel)",
   "language": "python",
   "name": "python3"
  },
  "language_info": {
   "codemirror_mode": {
    "name": "ipython",
    "version": 3
   },
   "file_extension": ".py",
   "mimetype": "text/x-python",
   "name": "python",
   "nbconvert_exporter": "python",
   "pygments_lexer": "ipython3",
   "version": "3.11.0"
  }
 },
 "nbformat": 4,
 "nbformat_minor": 5
}
