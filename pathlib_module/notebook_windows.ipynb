{
 "cells": [
  {
   "cell_type": "markdown",
   "metadata": {},
   "source": [
    "# Path Library Module"
   ]
  },
  {
   "cell_type": "markdown",
   "metadata": {},
   "source": [
    "The Path Library Module ```pathlib``` is an object orientated approach to handling file paths."
   ]
  },
  {
   "cell_type": "markdown",
   "metadata": {},
   "source": [
    "## Categorize_Identifiers Module"
   ]
  },
  {
   "cell_type": "markdown",
   "metadata": {},
   "source": [
    "This notebook will use the following functions ```dir2```, ```variables``` and ```view``` in the custom module ```categorize_identifiers``` which is found in the same directory as this notebook file. ```dir2``` is a variant of ```dir``` that groups identifiers into a ```dict``` under categories and ```variables``` is an IPython based a variable inspector. ```view``` is used to view a ```Collection``` in more detail:"
   ]
  },
  {
   "cell_type": "code",
   "execution_count": 1,
   "metadata": {},
   "outputs": [],
   "source": [
    "from categorize_identifiers import dir2, variables, view"
   ]
  },
  {
   "cell_type": "markdown",
   "metadata": {},
   "source": [
    "## Identifiers"
   ]
  },
  {
   "cell_type": "markdown",
   "metadata": {},
   "source": [
    "The ```pathlib``` module can be imported using:"
   ]
  },
  {
   "cell_type": "code",
   "execution_count": 2,
   "metadata": {},
   "outputs": [],
   "source": [
    "import pathlib"
   ]
  },
  {
   "cell_type": "markdown",
   "metadata": {},
   "source": [
    "Its identifiers can be viewed. The most commonly used identifier is the class ```'Path'``` which automatically determines the Operating System and creates the appropriate path. The ```WindowsPath``` or ```'PosixPath'``` (Linux/Mac) are only normally directly selected if a Windows path is required on a Linux/Mac machine or a Linux/Mac path is required on a Windows machine:"
   ]
  },
  {
   "cell_type": "code",
   "execution_count": 3,
   "metadata": {},
   "outputs": [
    {
     "name": "stdout",
     "output_type": "stream",
     "text": [
      "{'constant': ['EBADF', 'ELOOP', 'ENOENT', 'ENOTDIR'],\n",
      " 'module': ['fnmatch',\n",
      "            'functools',\n",
      "            'io',\n",
      "            'ntpath',\n",
      "            'os',\n",
      "            'posixpath',\n",
      "            're',\n",
      "            'sys',\n",
      "            'warnings'],\n",
      " 'method': ['urlquote_from_bytes'],\n",
      " 'upper_class': ['Path',\n",
      "                 'PosixPath',\n",
      "                 'PurePath',\n",
      "                 'PurePosixPath',\n",
      "                 'PureWindowsPath',\n",
      "                 'Sequence',\n",
      "                 'WindowsPath'],\n",
      " 'datamodel_attribute': ['__all__',\n",
      "                         '__builtins__',\n",
      "                         '__cached__',\n",
      "                         '__doc__',\n",
      "                         '__file__',\n",
      "                         '__loader__',\n",
      "                         '__name__',\n",
      "                         '__package__',\n",
      "                         '__spec__'],\n",
      " 'internal_attribute': ['_FNMATCH_PREFIX',\n",
      "                        '_FNMATCH_SLICE',\n",
      "                        '_FNMATCH_SUFFIX',\n",
      "                        '_IGNORED_ERRNOS',\n",
      "                        '_IGNORED_WINERRORS',\n",
      "                        '_SWAP_SEP_AND_NEWLINE',\n",
      "                        '_WINERROR_CANT_RESOLVE_FILENAME',\n",
      "                        '_WINERROR_INVALID_NAME',\n",
      "                        '_WINERROR_NOT_READY',\n",
      "                        '_WIN_RESERVED_NAMES'],\n",
      " 'internal_method': ['_DoubleRecursiveWildcardSelector',\n",
      "                     '_ParentSelector',\n",
      "                     '_PathParents',\n",
      "                     '_RecursiveWildcardSelector',\n",
      "                     '_Selector',\n",
      "                     '_TerminatingSelector',\n",
      "                     '_WildcardSelector',\n",
      "                     '_compile_pattern',\n",
      "                     '_compile_pattern_lines',\n",
      "                     '_ignore_error',\n",
      "                     '_is_case_sensitive',\n",
      "                     '_make_selector']}\n"
     ]
    }
   ],
   "source": [
    "dir2(pathlib)"
   ]
  },
  {
   "cell_type": "markdown",
   "metadata": {},
   "source": [
    "Since normally only the ```Path``` class is used, it is normally imported directly:"
   ]
  },
  {
   "cell_type": "code",
   "execution_count": 4,
   "metadata": {},
   "outputs": [],
   "source": [
    "from pathlib import Path"
   ]
  },
  {
   "cell_type": "markdown",
   "metadata": {},
   "source": [
    "There are a number of attributes and methods. The datamodel method ```__truedive__``` is also defined which defines the behaviour of the ```/``` operator:"
   ]
  },
  {
   "cell_type": "code",
   "execution_count": 5,
   "metadata": {
    "scrolled": true
   },
   "outputs": [
    {
     "name": "stdout",
     "output_type": "stream",
     "text": [
      "{'attribute': ['anchor',\n",
      "               'drive',\n",
      "               'name',\n",
      "               'parent',\n",
      "               'parents',\n",
      "               'parts',\n",
      "               'root',\n",
      "               'stem',\n",
      "               'suffix',\n",
      "               'suffixes'],\n",
      " 'method': ['absolute',\n",
      "            'as_posix',\n",
      "            'as_uri',\n",
      "            'chmod',\n",
      "            'cwd',\n",
      "            'exists',\n",
      "            'expanduser',\n",
      "            'glob',\n",
      "            'group',\n",
      "            'hardlink_to',\n",
      "            'home',\n",
      "            'is_absolute',\n",
      "            'is_block_device',\n",
      "            'is_char_device',\n",
      "            'is_dir',\n",
      "            'is_fifo',\n",
      "            'is_file',\n",
      "            'is_junction',\n",
      "            'is_mount',\n",
      "            'is_relative_to',\n",
      "            'is_reserved',\n",
      "            'is_socket',\n",
      "            'is_symlink',\n",
      "            'iterdir',\n",
      "            'joinpath',\n",
      "            'lchmod',\n",
      "            'lstat',\n",
      "            'match',\n",
      "            'mkdir',\n",
      "            'open',\n",
      "            'owner',\n",
      "            'read_bytes',\n",
      "            'read_text',\n",
      "            'readlink',\n",
      "            'relative_to',\n",
      "            'rename',\n",
      "            'replace',\n",
      "            'resolve',\n",
      "            'rglob',\n",
      "            'rmdir',\n",
      "            'samefile',\n",
      "            'stat',\n",
      "            'symlink_to',\n",
      "            'touch',\n",
      "            'unlink',\n",
      "            'walk',\n",
      "            'with_name',\n",
      "            'with_segments',\n",
      "            'with_stem',\n",
      "            'with_suffix',\n",
      "            'write_bytes',\n",
      "            'write_text'],\n",
      " 'datamodel_attribute': ['__module__', '__slots__'],\n",
      " 'datamodel_method': ['__bytes__',\n",
      "                      '__enter__',\n",
      "                      '__exit__',\n",
      "                      '__fspath__',\n",
      "                      '__rtruediv__',\n",
      "                      '__truediv__'],\n",
      " 'internal_attribute': ['_drv',\n",
      "                        '_flavour',\n",
      "                        '_hash',\n",
      "                        '_lines',\n",
      "                        '_lines_cached',\n",
      "                        '_parts_normcase',\n",
      "                        '_parts_normcase_cached',\n",
      "                        '_raw_paths',\n",
      "                        '_root',\n",
      "                        '_str',\n",
      "                        '_str_normcase',\n",
      "                        '_str_normcase_cached',\n",
      "                        '_tail',\n",
      "                        '_tail_cached'],\n",
      " 'internal_method': ['_format_parsed_parts',\n",
      "                     '_from_parsed_parts',\n",
      "                     '_load_parts',\n",
      "                     '_make_child_relpath',\n",
      "                     '_parse_path',\n",
      "                     '_scandir']}\n"
     ]
    }
   ],
   "source": [
    "dir2(Path, object, unique_only=True)"
   ]
  },
  {
   "cell_type": "markdown",
   "metadata": {},
   "source": [
    "## Windows Path"
   ]
  },
  {
   "cell_type": "markdown",
   "metadata": {},
   "source": [
    "Recall that Windows Operating System uses ```\\``` as a file separator between folders and files. In Python ```\\``` is also used to insert an escape character into a ```str``` instance. To insert ```\\``` as an escape character the ```str``` instance contains ```\\\\```:"
   ]
  },
  {
   "cell_type": "code",
   "execution_count": 6,
   "metadata": {},
   "outputs": [
    {
     "data": {
      "text/plain": [
       "'C:\\\\Windows'"
      ]
     },
     "execution_count": 6,
     "metadata": {},
     "output_type": "execute_result"
    }
   ],
   "source": [
    "'C:\\\\Windows'"
   ]
  },
  {
   "cell_type": "markdown",
   "metadata": {},
   "source": [
    "And if this is printed:"
   ]
  },
  {
   "cell_type": "code",
   "execution_count": 7,
   "metadata": {},
   "outputs": [
    {
     "name": "stdout",
     "output_type": "stream",
     "text": [
      "C:\\Windows\n"
     ]
    }
   ],
   "source": [
    "print('C:\\\\Windows')"
   ]
  },
  {
   "cell_type": "markdown",
   "metadata": {},
   "source": [
    "Manually converting each ```\\``` to a ```\\\\``` can be tedious for a long file path and the ```str``` can be prefixed with ```R``` to make a raw string. A raw string does not process escape characters and the ```\\``` represents the character backslash:"
   ]
  },
  {
   "cell_type": "code",
   "execution_count": 8,
   "metadata": {},
   "outputs": [
    {
     "data": {
      "text/plain": [
       "'C:\\\\Windows'"
      ]
     },
     "execution_count": 8,
     "metadata": {},
     "output_type": "execute_result"
    }
   ],
   "source": [
    "r'C:\\Windows'"
   ]
  },
  {
   "cell_type": "code",
   "execution_count": 9,
   "metadata": {},
   "outputs": [
    {
     "name": "stdout",
     "output_type": "stream",
     "text": [
      "C:\\Windows\n"
     ]
    }
   ],
   "source": [
    "print(r'C:\\Windows')"
   ]
  },
  {
   "cell_type": "markdown",
   "metadata": {},
   "source": [
    "An instance of the ```Path``` class can be instantiated from one of the rawstrings:"
   ]
  },
  {
   "cell_type": "code",
   "execution_count": 10,
   "metadata": {},
   "outputs": [],
   "source": [
    "windows_folder = Path(r'C:\\Windows')"
   ]
  },
  {
   "cell_type": "markdown",
   "metadata": {},
   "source": [
    "Notice that instead of creating a ```Path``` instance it is automatically determined to be a ```WindowsPath``` instance, a ```WindowsPath``` is a child class of ```Path``` and therefore has consistent identifiers:"
   ]
  },
  {
   "cell_type": "code",
   "execution_count": 11,
   "metadata": {},
   "outputs": [
    {
     "data": {
      "text/html": [
       "<div>\n",
       "<style scoped>\n",
       "    .dataframe tbody tr th:only-of-type {\n",
       "        vertical-align: middle;\n",
       "    }\n",
       "\n",
       "    .dataframe tbody tr th {\n",
       "        vertical-align: top;\n",
       "    }\n",
       "\n",
       "    .dataframe thead th {\n",
       "        text-align: right;\n",
       "    }\n",
       "</style>\n",
       "<table border=\"1\" class=\"dataframe\">\n",
       "  <thead>\n",
       "    <tr style=\"text-align: right;\">\n",
       "      <th></th>\n",
       "      <th>Type</th>\n",
       "      <th>Size/Shape</th>\n",
       "      <th>Value</th>\n",
       "    </tr>\n",
       "    <tr>\n",
       "      <th>Instance Name</th>\n",
       "      <th></th>\n",
       "      <th></th>\n",
       "      <th></th>\n",
       "    </tr>\n",
       "  </thead>\n",
       "  <tbody>\n",
       "    <tr>\n",
       "      <th>windows_folder</th>\n",
       "      <td>WindowsPath</td>\n",
       "      <td></td>\n",
       "      <td>C:\\Windows</td>\n",
       "    </tr>\n",
       "  </tbody>\n",
       "</table>\n",
       "</div>"
      ],
      "text/plain": [
       "                       Type Size/Shape       Value\n",
       "Instance Name                                     \n",
       "windows_folder  WindowsPath             C:\\Windows"
      ]
     },
     "execution_count": 11,
     "metadata": {},
     "output_type": "execute_result"
    }
   ],
   "source": [
    "variables(['windows_folder'])"
   ]
  },
  {
   "cell_type": "markdown",
   "metadata": {},
   "source": [
    "The formal representation uses the ```WindowsPath``` alternative separator ```/```:"
   ]
  },
  {
   "cell_type": "code",
   "execution_count": 12,
   "metadata": {},
   "outputs": [
    {
     "data": {
      "text/plain": [
       "\"WindowsPath('C:/Windows')\""
      ]
     },
     "execution_count": 12,
     "metadata": {},
     "output_type": "execute_result"
    }
   ],
   "source": [
    "repr(windows_folder)"
   ]
  },
  {
   "cell_type": "markdown",
   "metadata": {},
   "source": [
    "However the informal representation uses the ```WindowsPath``` default separator:"
   ]
  },
  {
   "cell_type": "code",
   "execution_count": 13,
   "metadata": {},
   "outputs": [
    {
     "data": {
      "text/plain": [
       "'C:\\\\Windows'"
      ]
     },
     "execution_count": 13,
     "metadata": {},
     "output_type": "execute_result"
    }
   ],
   "source": [
    "str(windows_folder)"
   ]
  },
  {
   "cell_type": "markdown",
   "metadata": {},
   "source": [
    "These control the behaviour shown in a cell output and when printed respectively:"
   ]
  },
  {
   "cell_type": "code",
   "execution_count": 14,
   "metadata": {},
   "outputs": [
    {
     "data": {
      "text/plain": [
       "WindowsPath('C:/Windows')"
      ]
     },
     "execution_count": 14,
     "metadata": {},
     "output_type": "execute_result"
    }
   ],
   "source": [
    "windows_folder"
   ]
  },
  {
   "cell_type": "code",
   "execution_count": 15,
   "metadata": {},
   "outputs": [
    {
     "name": "stdout",
     "output_type": "stream",
     "text": [
      "C:\\Windows\n"
     ]
    }
   ],
   "source": [
    "print(windows_folder)"
   ]
  },
  {
   "cell_type": "markdown",
   "metadata": {},
   "source": [
    "The datamodel method ```__truediv__``` (*dunder truediv*) is defined which recall defines the behaviour of the ```/``` operator. This is used for concatenation of a directory to the file path:"
   ]
  },
  {
   "cell_type": "code",
   "execution_count": 16,
   "metadata": {},
   "outputs": [],
   "source": [
    "system_32 = windows_folder / 'System32'"
   ]
  },
  {
   "cell_type": "code",
   "execution_count": 17,
   "metadata": {},
   "outputs": [
    {
     "data": {
      "text/html": [
       "<div>\n",
       "<style scoped>\n",
       "    .dataframe tbody tr th:only-of-type {\n",
       "        vertical-align: middle;\n",
       "    }\n",
       "\n",
       "    .dataframe tbody tr th {\n",
       "        vertical-align: top;\n",
       "    }\n",
       "\n",
       "    .dataframe thead th {\n",
       "        text-align: right;\n",
       "    }\n",
       "</style>\n",
       "<table border=\"1\" class=\"dataframe\">\n",
       "  <thead>\n",
       "    <tr style=\"text-align: right;\">\n",
       "      <th></th>\n",
       "      <th>Type</th>\n",
       "      <th>Size/Shape</th>\n",
       "      <th>Value</th>\n",
       "    </tr>\n",
       "    <tr>\n",
       "      <th>Instance Name</th>\n",
       "      <th></th>\n",
       "      <th></th>\n",
       "      <th></th>\n",
       "    </tr>\n",
       "  </thead>\n",
       "  <tbody>\n",
       "    <tr>\n",
       "      <th>system_32</th>\n",
       "      <td>WindowsPath</td>\n",
       "      <td></td>\n",
       "      <td>C:\\Windows\\System32</td>\n",
       "    </tr>\n",
       "  </tbody>\n",
       "</table>\n",
       "</div>"
      ],
      "text/plain": [
       "                      Type Size/Shape                Value\n",
       "Instance Name                                             \n",
       "system_32      WindowsPath             C:\\Windows\\System32"
      ]
     },
     "execution_count": 17,
     "metadata": {},
     "output_type": "execute_result"
    }
   ],
   "source": [
    "variables(['system_32'])"
   ]
  },
  {
   "cell_type": "markdown",
   "metadata": {},
   "source": [
    "And the ```notepad.exe``` application is found here:"
   ]
  },
  {
   "cell_type": "code",
   "execution_count": 18,
   "metadata": {},
   "outputs": [],
   "source": [
    "app = windows_folder / 'System32' / 'notepad.exe'"
   ]
  },
  {
   "cell_type": "code",
   "execution_count": 19,
   "metadata": {},
   "outputs": [
    {
     "data": {
      "text/html": [
       "<div>\n",
       "<style scoped>\n",
       "    .dataframe tbody tr th:only-of-type {\n",
       "        vertical-align: middle;\n",
       "    }\n",
       "\n",
       "    .dataframe tbody tr th {\n",
       "        vertical-align: top;\n",
       "    }\n",
       "\n",
       "    .dataframe thead th {\n",
       "        text-align: right;\n",
       "    }\n",
       "</style>\n",
       "<table border=\"1\" class=\"dataframe\">\n",
       "  <thead>\n",
       "    <tr style=\"text-align: right;\">\n",
       "      <th></th>\n",
       "      <th>Type</th>\n",
       "      <th>Size/Shape</th>\n",
       "      <th>Value</th>\n",
       "    </tr>\n",
       "    <tr>\n",
       "      <th>Instance Name</th>\n",
       "      <th></th>\n",
       "      <th></th>\n",
       "      <th></th>\n",
       "    </tr>\n",
       "  </thead>\n",
       "  <tbody>\n",
       "    <tr>\n",
       "      <th>app</th>\n",
       "      <td>WindowsPath</td>\n",
       "      <td></td>\n",
       "      <td>C:\\Windows\\System32\\notepad.exe</td>\n",
       "    </tr>\n",
       "  </tbody>\n",
       "</table>\n",
       "</div>"
      ],
      "text/plain": [
       "                      Type Size/Shape                            Value\n",
       "Instance Name                                                         \n",
       "app            WindowsPath             C:\\Windows\\System32\\notepad.exe"
      ]
     },
     "execution_count": 19,
     "metadata": {},
     "output_type": "execute_result"
    }
   ],
   "source": [
    "variables(['app'])"
   ]
  },
  {
   "cell_type": "markdown",
   "metadata": {},
   "source": [
    "The ```joinpath``` method carries out a similar function:"
   ]
  },
  {
   "cell_type": "code",
   "execution_count": 20,
   "metadata": {},
   "outputs": [],
   "source": [
    "app2 = windows_folder.joinpath('System32', 'notepad.exe')"
   ]
  },
  {
   "cell_type": "code",
   "execution_count": 21,
   "metadata": {},
   "outputs": [
    {
     "data": {
      "text/html": [
       "<div>\n",
       "<style scoped>\n",
       "    .dataframe tbody tr th:only-of-type {\n",
       "        vertical-align: middle;\n",
       "    }\n",
       "\n",
       "    .dataframe tbody tr th {\n",
       "        vertical-align: top;\n",
       "    }\n",
       "\n",
       "    .dataframe thead th {\n",
       "        text-align: right;\n",
       "    }\n",
       "</style>\n",
       "<table border=\"1\" class=\"dataframe\">\n",
       "  <thead>\n",
       "    <tr style=\"text-align: right;\">\n",
       "      <th></th>\n",
       "      <th>Type</th>\n",
       "      <th>Size/Shape</th>\n",
       "      <th>Value</th>\n",
       "    </tr>\n",
       "    <tr>\n",
       "      <th>Instance Name</th>\n",
       "      <th></th>\n",
       "      <th></th>\n",
       "      <th></th>\n",
       "    </tr>\n",
       "  </thead>\n",
       "  <tbody>\n",
       "    <tr>\n",
       "      <th>app2</th>\n",
       "      <td>WindowsPath</td>\n",
       "      <td></td>\n",
       "      <td>C:\\Windows\\System32\\notepad.exe</td>\n",
       "    </tr>\n",
       "  </tbody>\n",
       "</table>\n",
       "</div>"
      ],
      "text/plain": [
       "                      Type Size/Shape                            Value\n",
       "Instance Name                                                         \n",
       "app2           WindowsPath             C:\\Windows\\System32\\notepad.exe"
      ]
     },
     "execution_count": 21,
     "metadata": {},
     "output_type": "execute_result"
    }
   ],
   "source": [
    "variables(['app2'])"
   ]
  },
  {
   "cell_type": "markdown",
   "metadata": {},
   "source": [
    "This ```Path``` instance has a number of attributes for example the app ```name```:"
   ]
  },
  {
   "cell_type": "code",
   "execution_count": 22,
   "metadata": {},
   "outputs": [
    {
     "data": {
      "text/plain": [
       "'notepad.exe'"
      ]
     },
     "execution_count": 22,
     "metadata": {},
     "output_type": "execute_result"
    }
   ],
   "source": [
    "app.name"
   ]
  },
  {
   "cell_type": "markdown",
   "metadata": {},
   "source": [
    "Which includes the app ```stem``` and ```suffix```:"
   ]
  },
  {
   "cell_type": "code",
   "execution_count": 23,
   "metadata": {},
   "outputs": [
    {
     "data": {
      "text/plain": [
       "'notepad'"
      ]
     },
     "execution_count": 23,
     "metadata": {},
     "output_type": "execute_result"
    }
   ],
   "source": [
    "app.stem"
   ]
  },
  {
   "cell_type": "code",
   "execution_count": 24,
   "metadata": {},
   "outputs": [
    {
     "data": {
      "text/plain": [
       "'.exe'"
      ]
     },
     "execution_count": 24,
     "metadata": {},
     "output_type": "execute_result"
    }
   ],
   "source": [
    "app.suffix"
   ]
  },
  {
   "cell_type": "markdown",
   "metadata": {},
   "source": [
    "The suffix can also be added to a list of suffixes:"
   ]
  },
  {
   "cell_type": "code",
   "execution_count": 25,
   "metadata": {},
   "outputs": [
    {
     "data": {
      "text/plain": [
       "['.exe']"
      ]
     },
     "execution_count": 25,
     "metadata": {},
     "output_type": "execute_result"
    }
   ],
   "source": [
    "app.suffixes"
   ]
  },
  {
   "cell_type": "markdown",
   "metadata": {},
   "source": [
    "The ```parent``` directory:"
   ]
  },
  {
   "cell_type": "code",
   "execution_count": 26,
   "metadata": {},
   "outputs": [
    {
     "data": {
      "text/plain": [
       "WindowsPath('C:/Windows/System32')"
      ]
     },
     "execution_count": 26,
     "metadata": {},
     "output_type": "execute_result"
    }
   ],
   "source": [
    "app.parent"
   ]
  },
  {
   "cell_type": "markdown",
   "metadata": {},
   "source": [
    "The ```parents``` directory:"
   ]
  },
  {
   "cell_type": "code",
   "execution_count": 27,
   "metadata": {},
   "outputs": [
    {
     "data": {
      "text/plain": [
       "<WindowsPath.parents>"
      ]
     },
     "execution_count": 27,
     "metadata": {},
     "output_type": "execute_result"
    }
   ],
   "source": [
    "app.parents"
   ]
  },
  {
   "cell_type": "markdown",
   "metadata": {},
   "source": [
    "This is typically indexed:"
   ]
  },
  {
   "cell_type": "code",
   "execution_count": 28,
   "metadata": {},
   "outputs": [
    {
     "data": {
      "text/plain": [
       "WindowsPath('C:/Windows/System32')"
      ]
     },
     "execution_count": 28,
     "metadata": {},
     "output_type": "execute_result"
    }
   ],
   "source": [
    "app.parents[0]"
   ]
  },
  {
   "cell_type": "code",
   "execution_count": 29,
   "metadata": {},
   "outputs": [
    {
     "data": {
      "text/plain": [
       "WindowsPath('C:/Windows')"
      ]
     },
     "execution_count": 29,
     "metadata": {},
     "output_type": "execute_result"
    }
   ],
   "source": [
    "app.parents[1]"
   ]
  },
  {
   "cell_type": "code",
   "execution_count": 30,
   "metadata": {},
   "outputs": [
    {
     "data": {
      "text/plain": [
       "WindowsPath('C:/')"
      ]
     },
     "execution_count": 30,
     "metadata": {},
     "output_type": "execute_result"
    }
   ],
   "source": [
    "app.parents[2]"
   ]
  },
  {
   "cell_type": "code",
   "execution_count": 31,
   "metadata": {},
   "outputs": [
    {
     "data": {
      "text/plain": [
       "(WindowsPath('C:/Windows/System32'),\n",
       " WindowsPath('C:/Windows'),\n",
       " WindowsPath('C:/'))"
      ]
     },
     "execution_count": 31,
     "metadata": {},
     "output_type": "execute_result"
    }
   ],
   "source": [
    "tuple(app.parents)"
   ]
  },
  {
   "cell_type": "markdown",
   "metadata": {},
   "source": [
    "The ```anchor``` includes the ```drive``` and the ```root```:"
   ]
  },
  {
   "cell_type": "code",
   "execution_count": 32,
   "metadata": {},
   "outputs": [
    {
     "data": {
      "text/plain": [
       "'C:\\\\'"
      ]
     },
     "execution_count": 32,
     "metadata": {},
     "output_type": "execute_result"
    }
   ],
   "source": [
    "app.anchor"
   ]
  },
  {
   "cell_type": "code",
   "execution_count": 33,
   "metadata": {},
   "outputs": [
    {
     "data": {
      "text/plain": [
       "'C:'"
      ]
     },
     "execution_count": 33,
     "metadata": {},
     "output_type": "execute_result"
    }
   ],
   "source": [
    "app.drive"
   ]
  },
  {
   "cell_type": "code",
   "execution_count": 34,
   "metadata": {},
   "outputs": [
    {
     "data": {
      "text/plain": [
       "'\\\\'"
      ]
     },
     "execution_count": 34,
     "metadata": {},
     "output_type": "execute_result"
    }
   ],
   "source": [
    "app.root"
   ]
  },
  {
   "cell_type": "markdown",
   "metadata": {},
   "source": [
    "The ```is_absolute``` method will check to see if the ```Path``` instance corresponds to an absolute path:"
   ]
  },
  {
   "cell_type": "code",
   "execution_count": 35,
   "metadata": {},
   "outputs": [
    {
     "data": {
      "text/plain": [
       "True"
      ]
     },
     "execution_count": 35,
     "metadata": {},
     "output_type": "execute_result"
    }
   ],
   "source": [
    "app.is_absolute()"
   ]
  },
  {
   "cell_type": "markdown",
   "metadata": {},
   "source": [
    "The ```is_relative_to``` method will check if the supplied ```Path``` instance is a root directory:"
   ]
  },
  {
   "cell_type": "code",
   "execution_count": 36,
   "metadata": {},
   "outputs": [
    {
     "data": {
      "text/plain": [
       "WindowsPath('C:/Windows')"
      ]
     },
     "execution_count": 36,
     "metadata": {},
     "output_type": "execute_result"
    }
   ],
   "source": [
    "windows_folder"
   ]
  },
  {
   "cell_type": "code",
   "execution_count": 37,
   "metadata": {},
   "outputs": [
    {
     "data": {
      "text/plain": [
       "WindowsPath('C:/Windows/System32')"
      ]
     },
     "execution_count": 37,
     "metadata": {},
     "output_type": "execute_result"
    }
   ],
   "source": [
    "system_32"
   ]
  },
  {
   "cell_type": "code",
   "execution_count": 38,
   "metadata": {},
   "outputs": [
    {
     "data": {
      "text/plain": [
       "True"
      ]
     },
     "execution_count": 38,
     "metadata": {},
     "output_type": "execute_result"
    }
   ],
   "source": [
    "app.is_relative_to(windows_folder)"
   ]
  },
  {
   "cell_type": "markdown",
   "metadata": {},
   "source": [
    "The ```relative_to``` method will return a ```Path``` instance that can be used, to get to the directory from that root:"
   ]
  },
  {
   "cell_type": "code",
   "execution_count": 39,
   "metadata": {},
   "outputs": [
    {
     "data": {
      "text/plain": [
       "WindowsPath('System32/notepad.exe')"
      ]
     },
     "execution_count": 39,
     "metadata": {},
     "output_type": "execute_result"
    }
   ],
   "source": [
    "app.relative_to(windows_folder)"
   ]
  },
  {
   "cell_type": "markdown",
   "metadata": {},
   "source": [
    "The ```is_reserved``` method will check if the instance corresponds to a path name that is reserved by the operating system such as:"
   ]
  },
  {
   "cell_type": "markdown",
   "metadata": {},
   "source": [
    "* CON - Console\n",
    "* PRN - Printer\n",
    "* AUX - Auxiliary device\n",
    "* NUL - Null device\n",
    "* COM1, COM2, COM3, COM4, COM5, COM6, COM7, COM8, COM9 - Serial ports\n",
    "* LPT1, LPT2, LPT3, LPT4, LPT5, LPT6, LPT7, LPT8, LPT9 - Parallel ports"
   ]
  },
  {
   "cell_type": "code",
   "execution_count": 40,
   "metadata": {},
   "outputs": [
    {
     "data": {
      "text/plain": [
       "True"
      ]
     },
     "execution_count": 40,
     "metadata": {},
     "output_type": "execute_result"
    }
   ],
   "source": [
    "Path('CON').is_reserved()"
   ]
  },
  {
   "cell_type": "markdown",
   "metadata": {},
   "source": [
    "The ```match``` method can be used to search for a regular expression pattern and will return a ```bool``` if the ```Path``` instance matches the supplied pattern, for example:"
   ]
  },
  {
   "cell_type": "code",
   "execution_count": 41,
   "metadata": {},
   "outputs": [
    {
     "data": {
      "text/plain": [
       "True"
      ]
     },
     "execution_count": 41,
     "metadata": {},
     "output_type": "execute_result"
    }
   ],
   "source": [
    "app.match('*.exe')"
   ]
  },
  {
   "cell_type": "markdown",
   "metadata": {},
   "source": [
    "The ```with_stem```, ```with_name``` and ```with_suffix``` methods can be used to change the ```stem``` of a file/program maintaining the file extension, giving a subfolder without a file extension or used to change the file extension respectively:"
   ]
  },
  {
   "cell_type": "code",
   "execution_count": 42,
   "metadata": {},
   "outputs": [
    {
     "data": {
      "text/plain": [
       "WindowsPath('C:/Windows/System32/explorer.exe')"
      ]
     },
     "execution_count": 42,
     "metadata": {},
     "output_type": "execute_result"
    }
   ],
   "source": [
    "app.with_stem('explorer')"
   ]
  },
  {
   "cell_type": "code",
   "execution_count": 43,
   "metadata": {},
   "outputs": [
    {
     "data": {
      "text/plain": [
       "WindowsPath('C:/Windows/System32/debug')"
      ]
     },
     "execution_count": 43,
     "metadata": {},
     "output_type": "execute_result"
    }
   ],
   "source": [
    "app.with_name('debug')"
   ]
  },
  {
   "cell_type": "code",
   "execution_count": 44,
   "metadata": {},
   "outputs": [
    {
     "data": {
      "text/plain": [
       "WindowsPath('C:/Windows/System32/notepad.txt')"
      ]
     },
     "execution_count": 44,
     "metadata": {},
     "output_type": "execute_result"
    }
   ],
   "source": [
    "app.with_suffix('.txt')"
   ]
  },
  {
   "cell_type": "markdown",
   "metadata": {},
   "source": [
    "The attribute ```parts``` will break down components of a path into a ```tuple```:"
   ]
  },
  {
   "cell_type": "code",
   "execution_count": 45,
   "metadata": {},
   "outputs": [
    {
     "data": {
      "text/plain": [
       "('C:\\\\', 'Windows', 'System32', 'notepad.exe')"
      ]
     },
     "execution_count": 45,
     "metadata": {},
     "output_type": "execute_result"
    }
   ],
   "source": [
    "app.parts"
   ]
  },
  {
   "cell_type": "markdown",
   "metadata": {},
   "source": [
    "The ```Path``` class has two alternative constructors (class methods) ```cwd``` and ```home``` which are create a ```Path``` instance corresponding to the current working directory and user profile respectively:"
   ]
  },
  {
   "cell_type": "code",
   "execution_count": 46,
   "metadata": {},
   "outputs": [],
   "source": [
    "current_working_directory = Path.cwd()"
   ]
  },
  {
   "cell_type": "code",
   "execution_count": 47,
   "metadata": {},
   "outputs": [],
   "source": [
    "user_profile = Path.home()"
   ]
  },
  {
   "cell_type": "code",
   "execution_count": 48,
   "metadata": {},
   "outputs": [
    {
     "data": {
      "text/html": [
       "<div>\n",
       "<style scoped>\n",
       "    .dataframe tbody tr th:only-of-type {\n",
       "        vertical-align: middle;\n",
       "    }\n",
       "\n",
       "    .dataframe tbody tr th {\n",
       "        vertical-align: top;\n",
       "    }\n",
       "\n",
       "    .dataframe thead th {\n",
       "        text-align: right;\n",
       "    }\n",
       "</style>\n",
       "<table border=\"1\" class=\"dataframe\">\n",
       "  <thead>\n",
       "    <tr style=\"text-align: right;\">\n",
       "      <th></th>\n",
       "      <th>Type</th>\n",
       "      <th>Size/Shape</th>\n",
       "      <th>Value</th>\n",
       "    </tr>\n",
       "    <tr>\n",
       "      <th>Instance Name</th>\n",
       "      <th></th>\n",
       "      <th></th>\n",
       "      <th></th>\n",
       "    </tr>\n",
       "  </thead>\n",
       "  <tbody>\n",
       "    <tr>\n",
       "      <th>current_working_directory</th>\n",
       "      <td>WindowsPath</td>\n",
       "      <td></td>\n",
       "      <td>C:\\Users\\phili\\OneDrive\\Documents\\GitHub\\python-notebooks\\pathlib_module</td>\n",
       "    </tr>\n",
       "    <tr>\n",
       "      <th>user_profile</th>\n",
       "      <td>WindowsPath</td>\n",
       "      <td></td>\n",
       "      <td>C:\\Users\\phili</td>\n",
       "    </tr>\n",
       "  </tbody>\n",
       "</table>\n",
       "</div>"
      ],
      "text/plain": [
       "                                  Type Size/Shape  \\\n",
       "Instance Name                                       \n",
       "current_working_directory  WindowsPath              \n",
       "user_profile               WindowsPath              \n",
       "\n",
       "                                                                                              Value  \n",
       "Instance Name                                                                                        \n",
       "current_working_directory  C:\\Users\\phili\\OneDrive\\Documents\\GitHub\\python-notebooks\\pathlib_module  \n",
       "user_profile                                                                         C:\\Users\\phili  "
      ]
     },
     "execution_count": 48,
     "metadata": {},
     "output_type": "execute_result"
    }
   ],
   "source": [
    "variables(['current_working_directory', 'user_profile'])"
   ]
  },
  {
   "cell_type": "markdown",
   "metadata": {},
   "source": [
    "To get to Documents, the ```/``` operator can be used:"
   ]
  },
  {
   "cell_type": "code",
   "execution_count": 49,
   "metadata": {},
   "outputs": [],
   "source": [
    "documents = user_profile / 'Documents'"
   ]
  },
  {
   "cell_type": "code",
   "execution_count": 50,
   "metadata": {},
   "outputs": [
    {
     "data": {
      "text/html": [
       "<div>\n",
       "<style scoped>\n",
       "    .dataframe tbody tr th:only-of-type {\n",
       "        vertical-align: middle;\n",
       "    }\n",
       "\n",
       "    .dataframe tbody tr th {\n",
       "        vertical-align: top;\n",
       "    }\n",
       "\n",
       "    .dataframe thead th {\n",
       "        text-align: right;\n",
       "    }\n",
       "</style>\n",
       "<table border=\"1\" class=\"dataframe\">\n",
       "  <thead>\n",
       "    <tr style=\"text-align: right;\">\n",
       "      <th></th>\n",
       "      <th>Type</th>\n",
       "      <th>Size/Shape</th>\n",
       "      <th>Value</th>\n",
       "    </tr>\n",
       "    <tr>\n",
       "      <th>Instance Name</th>\n",
       "      <th></th>\n",
       "      <th></th>\n",
       "      <th></th>\n",
       "    </tr>\n",
       "  </thead>\n",
       "  <tbody>\n",
       "    <tr>\n",
       "      <th>documents</th>\n",
       "      <td>WindowsPath</td>\n",
       "      <td></td>\n",
       "      <td>C:\\Users\\phili\\Documents</td>\n",
       "    </tr>\n",
       "  </tbody>\n",
       "</table>\n",
       "</div>"
      ],
      "text/plain": [
       "                      Type Size/Shape                     Value\n",
       "Instance Name                                                  \n",
       "documents      WindowsPath             C:\\Users\\phili\\Documents"
      ]
     },
     "execution_count": 50,
     "metadata": {},
     "output_type": "execute_result"
    }
   ],
   "source": [
    "variables(['documents'])"
   ]
  },
  {
   "cell_type": "markdown",
   "metadata": {},
   "source": [
    "The ```expanduser``` instance method is normally called from a ```Path``` instance beginning with ```~```. The ```~``` is expanded to the user profile:"
   ]
  },
  {
   "cell_type": "code",
   "execution_count": 51,
   "metadata": {},
   "outputs": [],
   "source": [
    "relative_documents = Path('~/Documents')"
   ]
  },
  {
   "cell_type": "code",
   "execution_count": 52,
   "metadata": {},
   "outputs": [
    {
     "data": {
      "text/plain": [
       "WindowsPath('C:/Users/phili/Documents')"
      ]
     },
     "execution_count": 52,
     "metadata": {},
     "output_type": "execute_result"
    }
   ],
   "source": [
    "relative_documents.expanduser()"
   ]
  },
  {
   "cell_type": "markdown",
   "metadata": {},
   "source": [
    "Normally this is used directly:"
   ]
  },
  {
   "cell_type": "code",
   "execution_count": 53,
   "metadata": {},
   "outputs": [],
   "source": [
    "documents = Path('~/Documents').expanduser()"
   ]
  },
  {
   "cell_type": "code",
   "execution_count": 54,
   "metadata": {},
   "outputs": [
    {
     "data": {
      "text/html": [
       "<div>\n",
       "<style scoped>\n",
       "    .dataframe tbody tr th:only-of-type {\n",
       "        vertical-align: middle;\n",
       "    }\n",
       "\n",
       "    .dataframe tbody tr th {\n",
       "        vertical-align: top;\n",
       "    }\n",
       "\n",
       "    .dataframe thead th {\n",
       "        text-align: right;\n",
       "    }\n",
       "</style>\n",
       "<table border=\"1\" class=\"dataframe\">\n",
       "  <thead>\n",
       "    <tr style=\"text-align: right;\">\n",
       "      <th></th>\n",
       "      <th>Type</th>\n",
       "      <th>Size/Shape</th>\n",
       "      <th>Value</th>\n",
       "    </tr>\n",
       "    <tr>\n",
       "      <th>Instance Name</th>\n",
       "      <th></th>\n",
       "      <th></th>\n",
       "      <th></th>\n",
       "    </tr>\n",
       "  </thead>\n",
       "  <tbody>\n",
       "    <tr>\n",
       "      <th>documents</th>\n",
       "      <td>WindowsPath</td>\n",
       "      <td></td>\n",
       "      <td>C:\\Users\\phili\\Documents</td>\n",
       "    </tr>\n",
       "  </tbody>\n",
       "</table>\n",
       "</div>"
      ],
      "text/plain": [
       "                      Type Size/Shape                     Value\n",
       "Instance Name                                                  \n",
       "documents      WindowsPath             C:\\Users\\phili\\Documents"
      ]
     },
     "execution_count": 54,
     "metadata": {},
     "output_type": "execute_result"
    }
   ],
   "source": [
    "variables(['documents'])"
   ]
  },
  {
   "cell_type": "markdown",
   "metadata": {},
   "source": [
    "A ```Path``` instance to a ```text``` file in the current working directory can be created using:"
   ]
  },
  {
   "cell_type": "code",
   "execution_count": 55,
   "metadata": {},
   "outputs": [],
   "source": [
    "text = Path.cwd() / 'text.txt'"
   ]
  },
  {
   "cell_type": "markdown",
   "metadata": {},
   "source": [
    "The ```check``` method can be used to check whether or not this file exists:"
   ]
  },
  {
   "cell_type": "code",
   "execution_count": 56,
   "metadata": {},
   "outputs": [
    {
     "data": {
      "text/plain": [
       "False"
      ]
     },
     "execution_count": 56,
     "metadata": {},
     "output_type": "execute_result"
    }
   ],
   "source": [
    "text.exists()"
   ]
  },
  {
   "cell_type": "markdown",
   "metadata": {},
   "source": [
    "The ```touch``` method can be used to create a file in the location specified in the ```Path``` instance:"
   ]
  },
  {
   "cell_type": "code",
   "execution_count": 57,
   "metadata": {},
   "outputs": [],
   "source": [
    "if not text.exists():\n",
    "    text.touch()"
   ]
  },
  {
   "cell_type": "markdown",
   "metadata": {},
   "source": [
    "The ```mkdir``` method can used to make a new directory in the location specified in the ```Path``` instance:"
   ]
  },
  {
   "cell_type": "code",
   "execution_count": 58,
   "metadata": {},
   "outputs": [],
   "source": [
    "directory = Path.cwd() / 'new_folder'"
   ]
  },
  {
   "cell_type": "code",
   "execution_count": 59,
   "metadata": {},
   "outputs": [],
   "source": [
    "if not directory.exists():\n",
    "    directory.mkdir()"
   ]
  },
  {
   "cell_type": "markdown",
   "metadata": {},
   "source": [
    "And a new file can also be created here:"
   ]
  },
  {
   "cell_type": "code",
   "execution_count": 60,
   "metadata": {},
   "outputs": [],
   "source": [
    "text2 = directory / 'text2.txt'"
   ]
  },
  {
   "cell_type": "code",
   "execution_count": 61,
   "metadata": {},
   "outputs": [],
   "source": [
    "if not text2.exists():\n",
    "    text2.touch()"
   ]
  },
  {
   "cell_type": "markdown",
   "metadata": {},
   "source": [
    "The ```iterdir``` method of a root ```Path``` instance can be used to create an iterator. The iterator cycles through all the files and subdirectories in the root folder and when ```next``` is used on the iterator the corresponding ```Path``` instance displays:"
   ]
  },
  {
   "cell_type": "code",
   "execution_count": 62,
   "metadata": {},
   "outputs": [],
   "source": [
    "directory_iterator = Path.cwd().iterdir()"
   ]
  },
  {
   "cell_type": "code",
   "execution_count": 63,
   "metadata": {},
   "outputs": [
    {
     "data": {
      "text/plain": [
       "<generator object Path.iterdir at 0x000002716C9F3780>"
      ]
     },
     "execution_count": 63,
     "metadata": {},
     "output_type": "execute_result"
    }
   ],
   "source": [
    "directory_iterator"
   ]
  },
  {
   "cell_type": "code",
   "execution_count": 64,
   "metadata": {},
   "outputs": [
    {
     "data": {
      "text/plain": [
       "WindowsPath('C:/Users/phili/OneDrive/Documents/GitHub/python-notebooks/pathlib_module/.ipynb_checkpoints')"
      ]
     },
     "execution_count": 64,
     "metadata": {},
     "output_type": "execute_result"
    }
   ],
   "source": [
    "next(directory_iterator)"
   ]
  },
  {
   "cell_type": "code",
   "execution_count": 65,
   "metadata": {},
   "outputs": [
    {
     "data": {
      "text/plain": [
       "WindowsPath('C:/Users/phili/OneDrive/Documents/GitHub/python-notebooks/pathlib_module/categorize_identifiers.py')"
      ]
     },
     "execution_count": 65,
     "metadata": {},
     "output_type": "execute_result"
    }
   ],
   "source": [
    "next(directory_iterator)"
   ]
  },
  {
   "cell_type": "code",
   "execution_count": 66,
   "metadata": {},
   "outputs": [
    {
     "data": {
      "text/plain": [
       "WindowsPath('C:/Users/phili/OneDrive/Documents/GitHub/python-notebooks/pathlib_module/new_folder')"
      ]
     },
     "execution_count": 66,
     "metadata": {},
     "output_type": "execute_result"
    }
   ],
   "source": [
    "next(directory_iterator)"
   ]
  },
  {
   "cell_type": "markdown",
   "metadata": {},
   "source": [
    "The iterator can also be cast into a ```tuple```:"
   ]
  },
  {
   "cell_type": "code",
   "execution_count": 67,
   "metadata": {},
   "outputs": [
    {
     "data": {
      "text/plain": [
       "(WindowsPath('C:/Users/phili/OneDrive/Documents/GitHub/python-notebooks/pathlib_module/.ipynb_checkpoints'),\n",
       " WindowsPath('C:/Users/phili/OneDrive/Documents/GitHub/python-notebooks/pathlib_module/categorize_identifiers.py'),\n",
       " WindowsPath('C:/Users/phili/OneDrive/Documents/GitHub/python-notebooks/pathlib_module/new_folder'),\n",
       " WindowsPath('C:/Users/phili/OneDrive/Documents/GitHub/python-notebooks/pathlib_module/notebook.ipynb'),\n",
       " WindowsPath('C:/Users/phili/OneDrive/Documents/GitHub/python-notebooks/pathlib_module/text.txt'),\n",
       " WindowsPath('C:/Users/phili/OneDrive/Documents/GitHub/python-notebooks/pathlib_module/__pycache__'))"
      ]
     },
     "execution_count": 67,
     "metadata": {},
     "output_type": "execute_result"
    }
   ],
   "source": [
    "tuple(Path.cwd().iterdir())"
   ]
  },
  {
   "cell_type": "markdown",
   "metadata": {},
   "source": [
    "The ```rename``` method can be used to rename a file:"
   ]
  },
  {
   "cell_type": "code",
   "execution_count": 68,
   "metadata": {},
   "outputs": [],
   "source": [
    "new_text = Path.cwd() / 'new_text.txt'"
   ]
  },
  {
   "cell_type": "code",
   "execution_count": 69,
   "metadata": {},
   "outputs": [
    {
     "data": {
      "text/plain": [
       "WindowsPath('C:/Users/phili/OneDrive/Documents/GitHub/python-notebooks/pathlib_module/new_text.txt')"
      ]
     },
     "execution_count": 69,
     "metadata": {},
     "output_type": "execute_result"
    }
   ],
   "source": [
    "text.rename(new_text)"
   ]
  },
  {
   "cell_type": "markdown",
   "metadata": {},
   "source": [
    "The ```open``` method of the ```Path``` class is essentially a wrapper around the ```open``` function of the ```io``` module, the method does not require specifiction of the file name as its taken from the ```Path``` instance."
   ]
  },
  {
   "cell_type": "markdown",
   "metadata": {},
   "source": [
    "The datamodel identifiers ```__enter__``` (*dunder enter*) and ```__exit__``` (*dunder exit*) are also defined meaning this can be used in a ```with``` code block."
   ]
  },
  {
   "cell_type": "code",
   "execution_count": 70,
   "metadata": {},
   "outputs": [],
   "source": [
    "with new_text.open(mode='w', encoding='utf-8', newline='\\r\\n') as file:\n",
    "    file.writelines(['Hello World!\\n', 'Hello'])"
   ]
  },
  {
   "cell_type": "code",
   "execution_count": 71,
   "metadata": {},
   "outputs": [
    {
     "data": {
      "text/plain": [
       "'Hello World!\\r\\nHello'"
      ]
     },
     "execution_count": 71,
     "metadata": {},
     "output_type": "execute_result"
    }
   ],
   "source": [
    "with new_text.open(mode='r', encoding='utf-8', newline='\\r\\n') as file:\n",
    "    string = file.read()\n",
    "\n",
    "string"
   ]
  },
  {
   "cell_type": "markdown",
   "metadata": {},
   "source": [
    "The ```read_text``` and ```write_text``` methods make reading and writing the text files simpler. Unlike when the method ```open``` is used, the file will automatically be closed after the method is carried out. The ```read_bytes``` and ```write_bytes``` are the ```bytes``` counterparts:"
   ]
  },
  {
   "cell_type": "code",
   "execution_count": 72,
   "metadata": {},
   "outputs": [
    {
     "data": {
      "text/plain": [
       "'Hello World!\\nHello'"
      ]
     },
     "execution_count": 72,
     "metadata": {},
     "output_type": "execute_result"
    }
   ],
   "source": [
    "new_text.read_text(encoding='utf-8')"
   ]
  },
  {
   "cell_type": "markdown",
   "metadata": {},
   "source": [
    "Writing will overrride the old contents of the file:"
   ]
  },
  {
   "cell_type": "code",
   "execution_count": 73,
   "metadata": {},
   "outputs": [
    {
     "data": {
      "text/plain": [
       "14"
      ]
     },
     "execution_count": 73,
     "metadata": {},
     "output_type": "execute_result"
    }
   ],
   "source": [
    "new_text.write_text('Bye World!\\nBye', encoding='utf-8', newline='\\r\\n')"
   ]
  },
  {
   "cell_type": "code",
   "execution_count": 74,
   "metadata": {},
   "outputs": [
    {
     "data": {
      "text/plain": [
       "'Bye World!\\nBye'"
      ]
     },
     "execution_count": 74,
     "metadata": {},
     "output_type": "execute_result"
    }
   ],
   "source": [
    "new_text.read_text(encoding='utf-8')"
   ]
  },
  {
   "cell_type": "markdown",
   "metadata": {},
   "source": [
    "There is no equivalent append method however the method ```open``` can be used for appending text as previously seen."
   ]
  },
  {
   "cell_type": "markdown",
   "metadata": {},
   "source": [
    "Another file ```text3.txt``` can be created using:"
   ]
  },
  {
   "cell_type": "code",
   "execution_count": 75,
   "metadata": {},
   "outputs": [],
   "source": [
    "text3 = Path.cwd() / 'text3.txt'"
   ]
  },
  {
   "cell_type": "code",
   "execution_count": 76,
   "metadata": {},
   "outputs": [],
   "source": [
    "text3.touch()"
   ]
  },
  {
   "cell_type": "code",
   "execution_count": 77,
   "metadata": {},
   "outputs": [
    {
     "data": {
      "text/plain": [
       "18"
      ]
     },
     "execution_count": 77,
     "metadata": {},
     "output_type": "execute_result"
    }
   ],
   "source": [
    "text3.write_text('Hello World!\\nHello')"
   ]
  },
  {
   "cell_type": "markdown",
   "metadata": {},
   "source": [
    "The ```replace``` method can be used to replace a file with another file:"
   ]
  },
  {
   "cell_type": "code",
   "execution_count": 78,
   "metadata": {},
   "outputs": [
    {
     "data": {
      "text/plain": [
       "WindowsPath('C:/Users/phili/OneDrive/Documents/GitHub/python-notebooks/pathlib_module/text3.txt')"
      ]
     },
     "execution_count": 78,
     "metadata": {},
     "output_type": "execute_result"
    }
   ],
   "source": [
    "new_text.replace(text3)"
   ]
  },
  {
   "cell_type": "code",
   "execution_count": 79,
   "metadata": {},
   "outputs": [
    {
     "data": {
      "text/plain": [
       "'Bye World!\\nBye'"
      ]
     },
     "execution_count": 79,
     "metadata": {},
     "output_type": "execute_result"
    }
   ],
   "source": [
    "text3.read_text(encoding='utf-8')"
   ]
  },
  {
   "cell_type": "code",
   "execution_count": 80,
   "metadata": {},
   "outputs": [
    {
     "data": {
      "text/plain": [
       "(WindowsPath('C:/Users/phili/OneDrive/Documents/GitHub/python-notebooks/pathlib_module/.ipynb_checkpoints'),\n",
       " WindowsPath('C:/Users/phili/OneDrive/Documents/GitHub/python-notebooks/pathlib_module/categorize_identifiers.py'),\n",
       " WindowsPath('C:/Users/phili/OneDrive/Documents/GitHub/python-notebooks/pathlib_module/new_folder'),\n",
       " WindowsPath('C:/Users/phili/OneDrive/Documents/GitHub/python-notebooks/pathlib_module/notebook.ipynb'),\n",
       " WindowsPath('C:/Users/phili/OneDrive/Documents/GitHub/python-notebooks/pathlib_module/text3.txt'),\n",
       " WindowsPath('C:/Users/phili/OneDrive/Documents/GitHub/python-notebooks/pathlib_module/__pycache__'))"
      ]
     },
     "execution_count": 80,
     "metadata": {},
     "output_type": "execute_result"
    }
   ],
   "source": [
    "tuple(Path.cwd().iterdir())"
   ]
  },
  {
   "cell_type": "markdown",
   "metadata": {},
   "source": [
    "The ```unlink``` method can be used to delete the file that the instance links to:"
   ]
  },
  {
   "cell_type": "code",
   "execution_count": 81,
   "metadata": {},
   "outputs": [],
   "source": [
    "if text3.exists():\n",
    "    text3.unlink()"
   ]
  },
  {
   "cell_type": "code",
   "execution_count": 82,
   "metadata": {},
   "outputs": [
    {
     "data": {
      "text/plain": [
       "(WindowsPath('C:/Users/phili/OneDrive/Documents/GitHub/python-notebooks/pathlib_module/.ipynb_checkpoints'),\n",
       " WindowsPath('C:/Users/phili/OneDrive/Documents/GitHub/python-notebooks/pathlib_module/categorize_identifiers.py'),\n",
       " WindowsPath('C:/Users/phili/OneDrive/Documents/GitHub/python-notebooks/pathlib_module/new_folder'),\n",
       " WindowsPath('C:/Users/phili/OneDrive/Documents/GitHub/python-notebooks/pathlib_module/notebook.ipynb'),\n",
       " WindowsPath('C:/Users/phili/OneDrive/Documents/GitHub/python-notebooks/pathlib_module/__pycache__'))"
      ]
     },
     "execution_count": 82,
     "metadata": {},
     "output_type": "execute_result"
    }
   ],
   "source": [
    "tuple(Path.cwd().iterdir())"
   ]
  },
  {
   "cell_type": "markdown",
   "metadata": {},
   "source": [
    "The ```rmdir``` method can be used to remove a directory. The directory must be empty in order to be removed:"
   ]
  },
  {
   "cell_type": "code",
   "execution_count": 83,
   "metadata": {},
   "outputs": [],
   "source": [
    "if text2.exists():\n",
    "    text2.unlink()"
   ]
  },
  {
   "cell_type": "code",
   "execution_count": 84,
   "metadata": {},
   "outputs": [],
   "source": [
    "directory.rmdir()"
   ]
  },
  {
   "cell_type": "markdown",
   "metadata": {},
   "source": [
    "[Return to Python Tutorials](../readme.md)"
   ]
  }
 ],
 "metadata": {
  "kernelspec": {
   "display_name": "Python 3 (ipykernel)",
   "language": "python",
   "name": "python3"
  },
  "language_info": {
   "codemirror_mode": {
    "name": "ipython",
    "version": 3
   },
   "file_extension": ".py",
   "mimetype": "text/x-python",
   "name": "python",
   "nbconvert_exporter": "python",
   "pygments_lexer": "ipython3",
   "version": "3.12.1"
  }
 },
 "nbformat": 4,
 "nbformat_minor": 4
}
