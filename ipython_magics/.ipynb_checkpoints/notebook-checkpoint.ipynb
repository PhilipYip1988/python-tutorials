{
 "cells": [
  {
   "cell_type": "markdown",
   "metadata": {},
   "source": [
    "# IPython Magics"
   ]
  },
  {
   "cell_type": "markdown",
   "metadata": {},
   "source": [
    "The notebook file uses an IPython interpreter where each code cell is an IPython cell. An IPython cell can run: \n",
    "\n",
    "* Python code (default)\n",
    "* ? Lookup a Python docstring\n",
    "* % IPython magic commands\n",
    "* ! Shell commands\n",
    "    * PowerShell (Windows)\n",
    "    * bash (Linux/Mac)\n",
    "\n",
    "Note that the regular Python shell lacks the features of an IPython shell and will display a syntax error when IPython additional functionality is attempted to be used:\n",
    "\n",
    "```ps\n",
    "(base) PS ~> ipython\n",
    "Python 3.11.5 | packaged by Anaconda, Inc. | (main, Sep 11 2023, 13:26:23) [MSC v.1916 64 bit (AMD64)]\n",
    "Type 'copyright', 'credits' or 'license' for more information\n",
    "IPython 8.15.0 -- An enhanced Interactive Python. Type '?' for help.\n",
    "\n",
    "In [1]: print?\n",
    "Signature: print(*args, sep=' ', end='\\n', file=None, flush=False)\n",
    "Docstring:\n",
    "Prints the values to a stream, or to sys.stdout by default.\n",
    "\n",
    "sep\n",
    "  string inserted between values, default a space.\n",
    "end\n",
    "  string appended after the last value, default a newline.\n",
    "file\n",
    "  a file-like object (stream); defaults to the current sys.stdout.\n",
    "flush\n",
    "  whether to forcibly flush the stream.\n",
    "Type:      builtin_function_or_method\n",
    "\n",
    "In [2]: exit()\n",
    "(base) PS ~> python\n",
    "Python 3.11.5 | packaged by Anaconda, Inc. | (main, Sep 11 2023, 13:26:23) [MSC v.1916 64 bit (AMD64)] on win32\n",
    "Type \"help\", \"copyright\", \"credits\" or \"license\" for more information.\n",
    ">>> print?\n",
    "  File \"<stdin>\", line 1\n",
    "    print?\n",
    "         ^\n",
    "SyntaxError: invalid syntax\n",
    ">>>\n",
    "```"
   ]
  },
  {
   "cell_type": "markdown",
   "metadata": {},
   "source": [
    "## OS Check"
   ]
  },
  {
   "cell_type": "markdown",
   "metadata": {},
   "source": [
    "Because there are slight differences in Windows to Linux and Mac for Shell commands, the following check will be made:"
   ]
  },
  {
   "cell_type": "code",
   "execution_count": 1,
   "metadata": {},
   "outputs": [
    {
     "data": {
      "text/plain": [
       "'nt'"
      ]
     },
     "execution_count": 1,
     "metadata": {},
     "output_type": "execute_result"
    }
   ],
   "source": [
    "import os\n",
    "os.name"
   ]
  },
  {
   "cell_type": "markdown",
   "metadata": {},
   "source": [
    "If on Windows the string instance ```os.name``` will be ```'nt'```, otherwise if on Linux/Mac the string instance will be ```'posix'```."
   ]
  },
  {
   "cell_type": "markdown",
   "metadata": {},
   "source": [
    "## Windows"
   ]
  },
  {
   "cell_type": "markdown",
   "metadata": {},
   "source": [
    "Windows has two native scripting languages the modern PowerShell and legacy CMD. \n",
    "\n",
    "Unfortunately IPython uses CMD by default:"
   ]
  },
  {
   "cell_type": "code",
   "execution_count": 2,
   "metadata": {},
   "outputs": [
    {
     "name": "stdout",
     "output_type": "stream",
     "text": [
      "For more information on a specific command, type HELP command-name\n",
      "ASSOC          Displays or modifies file extension associations.\n",
      "ATTRIB         Displays or changes file attributes.\n",
      "BREAK          Sets or clears extended CTRL+C checking.\n",
      "BCDEDIT        Sets properties in boot database to control boot loading.\n",
      "CACLS          Displays or modifies access control lists (ACLs) of files.\n",
      "CALL           Calls one batch program from another.\n",
      "CD             Displays the name of or changes the current directory.\n",
      "CHCP           Displays or sets the active code page number.\n",
      "CHDIR          Displays the name of or changes the current directory.\n",
      "CHKDSK         Checks a disk and displays a status report.\n",
      "CHKNTFS        Displays or modifies the checking of disk at boot time.\n",
      "CLS            Clears the screen.\n",
      "CMD            Starts a new instance of the Windows command interpreter.\n",
      "COLOR          Sets the default console foreground and background colors.\n",
      "COMP           Compares the contents of two files or sets of files.\n",
      "COMPACT        Displays or alters the compression of files on NTFS partitions.\n",
      "CONVERT        Converts FAT volumes to NTFS.  You cannot convert the\n",
      "               current drive.\n",
      "COPY           Copies one or more files to another location.\n",
      "DATE           Displays or sets the date.\n",
      "DEL            Deletes one or more files.\n",
      "DIR            Displays a list of files and subdirectories in a directory.\n",
      "DISKPART       Displays or configures Disk Partition properties.\n",
      "DOSKEY         Edits command lines, recalls Windows commands, and \n",
      "               creates macros.\n",
      "DRIVERQUERY    Displays current device driver status and properties.\n",
      "ECHO           Displays messages, or turns command echoing on or off.\n",
      "ENDLOCAL       Ends localization of environment changes in a batch file.\n",
      "ERASE          Deletes one or more files.\n",
      "EXIT           Quits the CMD.EXE program (command interpreter).\n",
      "FC             Compares two files or sets of files, and displays the \n",
      "               differences between them.\n",
      "FIND           Searches for a text string in a file or files.\n",
      "FINDSTR        Searches for strings in files.\n",
      "FOR            Runs a specified command for each file in a set of files.\n",
      "FORMAT         Formats a disk for use with Windows.\n",
      "FSUTIL         Displays or configures the file system properties.\n",
      "FTYPE          Displays or modifies file types used in file extension \n",
      "               associations.\n",
      "GOTO           Directs the Windows command interpreter to a labeled line in \n",
      "               a batch program.\n",
      "GPRESULT       Displays Group Policy information for machine or user.\n",
      "GRAFTABL       Enables Windows to display an extended character set in \n",
      "               graphics mode.\n",
      "HELP           Provides Help information for Windows commands.\n",
      "ICACLS         Display, modify, backup, or restore ACLs for files and \n",
      "               directories.\n",
      "IF             Performs conditional processing in batch programs.\n",
      "LABEL          Creates, changes, or deletes the volume label of a disk.\n",
      "MD             Creates a directory.\n",
      "MKDIR          Creates a directory.\n",
      "MKLINK         Creates Symbolic Links and Hard Links\n",
      "MODE           Configures a system device.\n",
      "MORE           Displays output one screen at a time.\n",
      "MOVE           Moves one or more files from one directory to another \n",
      "               directory.\n",
      "OPENFILES      Displays files opened by remote users for a file share.\n",
      "PATH           Displays or sets a search path for executable files.\n",
      "PAUSE          Suspends processing of a batch file and displays a message.\n",
      "POPD           Restores the previous value of the current directory saved by \n",
      "               PUSHD.\n",
      "PRINT          Prints a text file.\n",
      "PROMPT         Changes the Windows command prompt.\n",
      "PUSHD          Saves the current directory then changes it.\n",
      "RD             Removes a directory.\n",
      "RECOVER        Recovers readable information from a bad or defective disk.\n",
      "REM            Records comments (remarks) in batch files or CONFIG.SYS.\n",
      "REN            Renames a file or files.\n",
      "RENAME         Renames a file or files.\n",
      "REPLACE        Replaces files.\n",
      "RMDIR          Removes a directory.\n",
      "ROBOCOPY       Advanced utility to copy files and directory trees\n",
      "SET            Displays, sets, or removes Windows environment variables.\n",
      "SETLOCAL       Begins localization of environment changes in a batch file.\n",
      "SC             Displays or configures services (background processes).\n",
      "SCHTASKS       Schedules commands and programs to run on a computer.\n",
      "SHIFT          Shifts the position of replaceable parameters in batch files.\n",
      "SHUTDOWN       Allows proper local or remote shutdown of machine.\n",
      "SORT           Sorts input.\n",
      "START          Starts a separate window to run a specified program or command.\n",
      "SUBST          Associates a path with a drive letter.\n",
      "SYSTEMINFO     Displays machine specific properties and configuration.\n",
      "TASKLIST       Displays all currently running tasks including services.\n",
      "TASKKILL       Kill or stop a running process or application.\n",
      "TIME           Displays or sets the system time.\n",
      "TITLE          Sets the window title for a CMD.EXE session.\n",
      "TREE           Graphically displays the directory structure of a drive or \n",
      "               path.\n",
      "TYPE           Displays the contents of a text file.\n",
      "VER            Displays the Windows version.\n",
      "VERIFY         Tells Windows whether to verify that your files are written\n",
      "               correctly to a disk.\n",
      "VOL            Displays a disk volume label and serial number.\n",
      "XCOPY          Copies files and directory trees.\n",
      "WMIC           Displays WMI information inside interactive command shell.\n",
      "\n",
      "For more information on tools see the command-line reference in the online help.\n"
     ]
    }
   ],
   "source": [
    "if os.name == 'nt':\n",
    "    !help"
   ]
  },
  {
   "cell_type": "markdown",
   "metadata": {},
   "source": [
    "However the legacy shell CMD can be used to run the modern shell PowerShell. This can normally be ran this way:\n",
    "\n",
    "```ps\n",
    "!powershell.exe help\n",
    "```\n",
    "\n",
    "And the .exe can be dropped:\n",
    "\n",
    "```ps\n",
    "!powershell help\n",
    "```\n",
    "\n",
    "However the IPython console in some IDEs may not work correctly unless the full path is specified:\n",
    "\n",
    "```ps\n",
    "!C:\\Windows\\System32\\WindowsPowerShell\\v1.0\\powershell.exe help\n",
    "```\n",
    "\n",
    "The .exe can be dropped:\n",
    "\n",
    "```ps\n",
    "!C:\\Windows\\System32\\WindowsPowerShell\\v1.0\\powershell help\n",
    "```\n"
   ]
  },
  {
   "cell_type": "code",
   "execution_count": 3,
   "metadata": {},
   "outputs": [
    {
     "name": "stdout",
     "output_type": "stream",
     "text": [
      "\n",
      "TOPIC\n",
      "    Windows PowerShell Help System\n",
      "\n",
      "SHORT DESCRIPTION\n",
      "    Displays help about Windows PowerShell cmdlets and concepts. \n",
      "\n",
      "LONG DESCRIPTION\n",
      "    Windows PowerShell Help describes Windows PowerShell cmdlets,\n",
      "    functions, scripts, and modules, and explains concepts, including\n",
      "    the elements of the Windows PowerShell language.\n",
      "\n",
      "    Windows PowerShell does not include help files, but you can read the\n",
      "    help topics online, or use the Update-Help cmdlet to download help files\n",
      "    to your computer and then use the Get-Help cmdlet to display the help\n",
      "    topics at the command line.\n",
      "\n",
      "    You can also use the Update-Help cmdlet to download updated help files\n",
      "    as they are released so that your local help content is never obsolete. \n",
      "\n",
      "    Without help files, Get-Help displays auto-generated help for cmdlets, \n",
      "    functions, and scripts.\n",
      "\n",
      "\n",
      "  ONLINE HELP    \n",
      "    You can find help for Windows PowerShell online in the TechNet Library\n",
      "    beginning at http://go.microsoft.com/fwlink/?LinkID=108518. \n",
      "\n",
      "    To open online help for any cmdlet or function, type:\n",
      "\n",
      "        Get-Help <cmdlet-name> -Online    \n",
      "\n",
      "  UPDATE-HELP\n",
      "    To download and install help files on your computer:\n",
      "\n",
      "       1. Start Windows PowerShell with the \"Run as administrator\" option.\n",
      "       2. Type:\n",
      "\n",
      "          Update-Help\n",
      "\n",
      "    After the help files are installed, you can use the Get-Help cmdlet to\n",
      "    display the help topics. You can also use the Update-Help cmdlet to\n",
      "    download updated help files so that your local help files are always\n",
      "    up-to-date.\n",
      "    \n",
      "    For more information about the Update-Help cmdlet, type:\n",
      "\n",
      "       Get-Help Update-Help -Online\n",
      "\n",
      "    or go to: http://go.microsoft.com/fwlink/?LinkID=210614\n",
      "\n",
      "\n",
      "  GET-HELP\n",
      "    The Get-Help cmdlet displays help at the command line from content in\n",
      "    help files on your computer. Without help files, Get-Help displays basic\n",
      "    help about cmdlets and functions. You can also use Get-Help to display\n",
      "    online help for cmdlets and functions.\n",
      "\n",
      "    To get help for a cmdlet, type:\n",
      "\n",
      "        Get-Help <cmdlet-name>\n",
      "    \n",
      "    To get online help, type:\n",
      "   \n",
      "        Get-Help <cmdlet-name> -Online    \n",
      "\n",
      "    The titles of conceptual topics begin with \"About_\".\n",
      "    To get help for a concept or language element, type:\n",
      "\n",
      "        Get-Help About_<topic-name>\n",
      "\n",
      "    To search for a word or phrase in all help files, type:\n",
      "\n",
      "        Get-Help <search-term>\n",
      "\n",
      "    For more information about the Get-Help cmdlet, type:\n",
      "\n",
      "        Get-Help Get-Help -Online\n",
      "\n",
      "    or go to: http://go.microsoft.com/fwlink/?LinkID=113316\n",
      "\n",
      "\n",
      "  EXAMPLES:\n",
      "      Save-Help              : Download help files from the Internet and saves\n",
      "                               them on a file share.\n",
      "      Update-Help            : Downloads and installs help files from the\n",
      "                               Internet or a file share.\n",
      "      Get-Help Get-Process   : Displays help about the Get-Process cmdlet.   \n",
      "      Get-Help Get-Process -Online\n",
      "                             : Opens online help for the Get-Process cmdlet.                            \n",
      "      Help Get-Process       : Displays help about Get-Process one page at a time.\n",
      "      Get-Process -?         : Displays help about the Get-Process cmdlet.      \n",
      "      Get-Help About_Modules : Displays help about Windows PowerShell modules.\n",
      "      Get-Help remoting      : Searches the help topics for the word \"remoting.\"\n",
      "\n",
      "  SEE ALSO:\n",
      "      about_Updatable_Help\n",
      "      Get-Help\n",
      "      Save-Help\n",
      "      Update-Help\n",
      "\n",
      "\n",
      "\n",
      "\n",
      "\n",
      "\n",
      "\n",
      "\n",
      "\n",
      "\n",
      "\n",
      "\n",
      "\n",
      "\n"
     ]
    }
   ],
   "source": [
    "if os.name == 'nt':\n",
    "    !C:\\Windows\\System32\\WindowsPowerShell\\v1.0\\powershell help"
   ]
  },
  {
   "cell_type": "markdown",
   "metadata": {},
   "source": [
    "On Windows the Anaconda base Python environment has a scripts folder which is found in:\n",
    "\n",
    "```ps\n",
    "~\\Anaconda3\\Scripts\n",
    "```\n",
    "\n",
    "Other Python environments may be found in the envs folder:\n",
    "\n",
    "```ps\n",
    "~\\Anaconda3\\env\\env_name\\Scripts\n",
    "```\n",
    "\n",
    "The isort.exe application from the selected Python environment should be run using:\n",
    "\n",
    "```ps\n",
    "!powershell isort\n",
    "```\n",
    "\n",
    "However the IPython console in some IDEs may only search the base environment for the application instead of the selected Python environment. Better results may occur when the full path to the powershell application and the application being launched via powershell are specified:\n",
    "\n",
    "```ps\n",
    "!C:\\Windows\\System32\\WindowsPowerShell\\v1.0\\powershell ~\\Anaconda3\\Scripts\\isort\n",
    "```"
   ]
  },
  {
   "cell_type": "code",
   "execution_count": 4,
   "metadata": {},
   "outputs": [
    {
     "name": "stdout",
     "output_type": "stream",
     "text": [
      "\n",
      "\n",
      "                 _                 _\n",
      "                (_) ___  ___  _ __| |_\n",
      "                | |/ _/ / _ \\/ '__  _/\n",
      "                | |\\__ \\/\\_\\/| |  | |_\n",
      "                |_|\\___/\\___/\\_/   \\_/\n",
      "\n",
      "      isort your imports, so you don't have to.\n",
      "\n",
      "                    VERSION 5.9.3\n",
      "\n",
      "\n",
      "Nothing to do: no files or paths have have been passed in!\n",
      "\n",
      "Try one of the following:\n",
      "\n",
      "    `isort .` - sort all Python files, starting from the current directory, recursively.\n",
      "    `isort . --interactive` - Do the same, but ask before making any changes.\n",
      "    `isort . --check --diff` - Check to see if imports are correctly sorted within this project.\n",
      "    `isort --help` - In-depth information about isort's available command-line options.\n",
      "\n",
      "Visit https://pycqa.github.io/isort/ for complete information about how to use isort.\n",
      "\n"
     ]
    }
   ],
   "source": [
    "if os.name == 'nt':\n",
    "    !C:\\Windows\\System32\\WindowsPowerShell\\v1.0\\powershell ~\\Anaconda3\\Scripts\\isort"
   ]
  },
  {
   "cell_type": "markdown",
   "metadata": {},
   "source": [
    "## Linux/Mac"
   ]
  },
  {
   "cell_type": "markdown",
   "metadata": {},
   "source": [
    "On Linux/Mac there is only a single shell bash which is selected when ! is used:"
   ]
  },
  {
   "cell_type": "code",
   "execution_count": 5,
   "metadata": {},
   "outputs": [],
   "source": [
    "if os.path == 'posix':\n",
    "    !help"
   ]
  },
  {
   "cell_type": "markdown",
   "metadata": {},
   "source": [
    "On Linux the Anaconda base Python environment has a binary folder which contains the binary applications and is found in:\n",
    "\n",
    "```\n",
    "~/Anaconda3/bin\n",
    "```\n",
    "\n",
    "Other Python environments may be found in the envs folder:\n",
    "\n",
    "```\n",
    "~/Anaconda3/env/env_name/bin\n",
    "```\n",
    "\n",
    "The isort binary from the selected Python environment should be run using:\n",
    "\n",
    "```bash\n",
    "! isort\n",
    "```\n",
    "\n",
    "However the IPython console in Spyder may only search the base environment for the application instead of the selected Python environment. Better results will occur when the full path to the application is specified:\n",
    "\n",
    "```\n",
    "! ~/Anaconda3/bin/isort\n",
    "```"
   ]
  },
  {
   "cell_type": "code",
   "execution_count": 6,
   "metadata": {},
   "outputs": [],
   "source": [
    "if os.name == 'posix':\n",
    "    !~/anaconda3/bin/isort"
   ]
  },
  {
   "cell_type": "markdown",
   "metadata": {},
   "source": [
    "## List Magic Commands"
   ]
  },
  {
   "cell_type": "markdown",
   "metadata": {},
   "source": [
    "```IPython``` also has magic commands, these magic commands can be listed using:"
   ]
  },
  {
   "cell_type": "code",
   "execution_count": 7,
   "metadata": {},
   "outputs": [
    {
     "data": {
      "application/json": {
       "cell": {
        "!": "OSMagics",
        "HTML": "Other",
        "SVG": "Other",
        "bash": "Other",
        "capture": "ExecutionMagics",
        "cmd": "Other",
        "code_wrap": "ExecutionMagics",
        "debug": "ExecutionMagics",
        "file": "Other",
        "html": "DisplayMagics",
        "javascript": "DisplayMagics",
        "js": "DisplayMagics",
        "latex": "DisplayMagics",
        "markdown": "DisplayMagics",
        "perl": "Other",
        "prun": "ExecutionMagics",
        "pypy": "Other",
        "python": "Other",
        "python2": "Other",
        "python3": "Other",
        "ruby": "Other",
        "script": "ScriptMagics",
        "sh": "Other",
        "svg": "DisplayMagics",
        "sx": "OSMagics",
        "system": "OSMagics",
        "time": "ExecutionMagics",
        "timeit": "ExecutionMagics",
        "writefile": "OSMagics"
       },
       "line": {
        "alias": "OSMagics",
        "alias_magic": "BasicMagics",
        "autoawait": "AsyncMagics",
        "autocall": "AutoMagics",
        "automagic": "AutoMagics",
        "autosave": "KernelMagics",
        "bookmark": "OSMagics",
        "cd": "OSMagics",
        "clear": "KernelMagics",
        "cls": "KernelMagics",
        "code_wrap": "ExecutionMagics",
        "colors": "BasicMagics",
        "conda": "PackagingMagics",
        "config": "ConfigMagics",
        "connect_info": "KernelMagics",
        "copy": "Other",
        "ddir": "Other",
        "debug": "ExecutionMagics",
        "dhist": "OSMagics",
        "dirs": "OSMagics",
        "doctest_mode": "BasicMagics",
        "echo": "Other",
        "ed": "Other",
        "edit": "KernelMagics",
        "env": "OSMagics",
        "gui": "BasicMagics",
        "hist": "Other",
        "history": "HistoryMagics",
        "killbgscripts": "ScriptMagics",
        "ldir": "Other",
        "less": "KernelMagics",
        "load": "CodeMagics",
        "load_ext": "ExtensionMagics",
        "loadpy": "CodeMagics",
        "logoff": "LoggingMagics",
        "logon": "LoggingMagics",
        "logstart": "LoggingMagics",
        "logstate": "LoggingMagics",
        "logstop": "LoggingMagics",
        "ls": "Other",
        "lsmagic": "BasicMagics",
        "macro": "ExecutionMagics",
        "magic": "BasicMagics",
        "mamba": "PackagingMagics",
        "matplotlib": "PylabMagics",
        "micromamba": "PackagingMagics",
        "mkdir": "Other",
        "more": "KernelMagics",
        "notebook": "BasicMagics",
        "page": "BasicMagics",
        "pastebin": "CodeMagics",
        "pdb": "ExecutionMagics",
        "pdef": "NamespaceMagics",
        "pdoc": "NamespaceMagics",
        "pfile": "NamespaceMagics",
        "pinfo": "NamespaceMagics",
        "pinfo2": "NamespaceMagics",
        "pip": "PackagingMagics",
        "popd": "OSMagics",
        "pprint": "BasicMagics",
        "precision": "BasicMagics",
        "prun": "ExecutionMagics",
        "psearch": "NamespaceMagics",
        "psource": "NamespaceMagics",
        "pushd": "OSMagics",
        "pwd": "OSMagics",
        "pycat": "OSMagics",
        "pylab": "PylabMagics",
        "qtconsole": "KernelMagics",
        "quickref": "BasicMagics",
        "recall": "HistoryMagics",
        "rehashx": "OSMagics",
        "reload_ext": "ExtensionMagics",
        "ren": "Other",
        "rep": "Other",
        "rerun": "HistoryMagics",
        "reset": "NamespaceMagics",
        "reset_selective": "NamespaceMagics",
        "rmdir": "Other",
        "run": "ExecutionMagics",
        "save": "CodeMagics",
        "sc": "OSMagics",
        "set_env": "OSMagics",
        "store": "StoreMagics",
        "sx": "OSMagics",
        "system": "OSMagics",
        "tb": "ExecutionMagics",
        "time": "ExecutionMagics",
        "timeit": "ExecutionMagics",
        "unalias": "OSMagics",
        "unload_ext": "ExtensionMagics",
        "who": "NamespaceMagics",
        "who_ls": "NamespaceMagics",
        "whos": "NamespaceMagics",
        "xdel": "NamespaceMagics",
        "xmode": "BasicMagics"
       }
      },
      "text/plain": [
       "Available line magics:\n",
       "%alias  %alias_magic  %autoawait  %autocall  %automagic  %autosave  %bookmark  %cd  %clear  %cls  %code_wrap  %colors  %conda  %config  %connect_info  %copy  %ddir  %debug  %dhist  %dirs  %doctest_mode  %echo  %ed  %edit  %env  %gui  %hist  %history  %killbgscripts  %ldir  %less  %load  %load_ext  %loadpy  %logoff  %logon  %logstart  %logstate  %logstop  %ls  %lsmagic  %macro  %magic  %mamba  %matplotlib  %micromamba  %mkdir  %more  %notebook  %page  %pastebin  %pdb  %pdef  %pdoc  %pfile  %pinfo  %pinfo2  %pip  %popd  %pprint  %precision  %prun  %psearch  %psource  %pushd  %pwd  %pycat  %pylab  %qtconsole  %quickref  %recall  %rehashx  %reload_ext  %ren  %rep  %rerun  %reset  %reset_selective  %rmdir  %run  %save  %sc  %set_env  %store  %sx  %system  %tb  %time  %timeit  %unalias  %unload_ext  %who  %who_ls  %whos  %xdel  %xmode\n",
       "\n",
       "Available cell magics:\n",
       "%%!  %%HTML  %%SVG  %%bash  %%capture  %%cmd  %%code_wrap  %%debug  %%file  %%html  %%javascript  %%js  %%latex  %%markdown  %%perl  %%prun  %%pypy  %%python  %%python2  %%python3  %%ruby  %%script  %%sh  %%svg  %%sx  %%system  %%time  %%timeit  %%writefile\n",
       "\n",
       "Automagic is ON, % prefix IS NOT needed for line magics."
      ]
     },
     "execution_count": 7,
     "metadata": {},
     "output_type": "execute_result"
    }
   ],
   "source": [
    "%lsmagic"
   ]
  },
  {
   "cell_type": "markdown",
   "metadata": {},
   "source": [
    "This displays using JSON which renders interactively in JupyterLab but not in VSCode. The JSON instance is essentially a dictionary with two keys ```\"line\"``` and ```\"cell\"``` and the values of each of these correspond to dictionaries of ipython line magic commands and ipython cell magic commands respectively. Each of the keys in these nested dictionaries is the name of the command and the value is the module where the command can be found. Note JSON preferences double quotations unlike Python.\n",
    "\n",
    "This command can be assigned to an instance:"
   ]
  },
  {
   "cell_type": "code",
   "execution_count": 8,
   "metadata": {},
   "outputs": [],
   "source": [
    "json_magics = %lsmagic"
   ]
  },
  {
   "cell_type": "markdown",
   "metadata": {},
   "source": [
    "The class of ```json_magics``` is:"
   ]
  },
  {
   "cell_type": "code",
   "execution_count": 9,
   "metadata": {},
   "outputs": [
    {
     "data": {
      "text/plain": [
       "IPython.core.magics.basic.MagicsDisplay"
      ]
     },
     "execution_count": 9,
     "metadata": {},
     "output_type": "execute_result"
    }
   ],
   "source": [
    "type(json_magics)"
   ]
  },
  {
   "cell_type": "markdown",
   "metadata": {},
   "source": [
    "And it can be printed in a more simple format using:"
   ]
  },
  {
   "cell_type": "code",
   "execution_count": 10,
   "metadata": {},
   "outputs": [
    {
     "name": "stdout",
     "output_type": "stream",
     "text": [
      "Available line magics:\n",
      "%alias  %alias_magic  %autoawait  %autocall  %automagic  %autosave  %bookmark  %cd  %clear  %cls  %code_wrap  %colors  %conda  %config  %connect_info  %copy  %ddir  %debug  %dhist  %dirs  %doctest_mode  %echo  %ed  %edit  %env  %gui  %hist  %history  %killbgscripts  %ldir  %less  %load  %load_ext  %loadpy  %logoff  %logon  %logstart  %logstate  %logstop  %ls  %lsmagic  %macro  %magic  %mamba  %matplotlib  %micromamba  %mkdir  %more  %notebook  %page  %pastebin  %pdb  %pdef  %pdoc  %pfile  %pinfo  %pinfo2  %pip  %popd  %pprint  %precision  %prun  %psearch  %psource  %pushd  %pwd  %pycat  %pylab  %qtconsole  %quickref  %recall  %rehashx  %reload_ext  %ren  %rep  %rerun  %reset  %reset_selective  %rmdir  %run  %save  %sc  %set_env  %store  %sx  %system  %tb  %time  %timeit  %unalias  %unload_ext  %who  %who_ls  %whos  %xdel  %xmode\n",
      "\n",
      "Available cell magics:\n",
      "%%!  %%HTML  %%SVG  %%bash  %%capture  %%cmd  %%code_wrap  %%debug  %%file  %%html  %%javascript  %%js  %%latex  %%markdown  %%perl  %%prun  %%pypy  %%python  %%python2  %%python3  %%ruby  %%script  %%sh  %%svg  %%sx  %%system  %%time  %%timeit  %%writefile\n",
      "\n",
      "Automagic is ON, % prefix IS NOT needed for line magics.\n"
     ]
    }
   ],
   "source": [
    "print(json_magics)"
   ]
  },
  {
   "cell_type": "markdown",
   "metadata": {},
   "source": [
    "Most of the IPython magics are consistent for Windows and Linux/Mac as the legacy scripting language on Windows CMD is made to be similar to bash... A handful of the commands differ such as ```clear``` on Linux and ```cls``` (clear screen) on Windows:"
   ]
  },
  {
   "cell_type": "code",
   "execution_count": 11,
   "metadata": {},
   "outputs": [
    {
     "name": "stdout",
     "output_type": "stream",
     "text": [
      "\f",
      "\n"
     ]
    }
   ],
   "source": [
    "if os.name == 'nt':\n",
    "    %cls\n",
    "else:\n",
    "    %clear"
   ]
  },
  {
   "cell_type": "markdown",
   "metadata": {},
   "source": [
    "A line magic begins with a single ```%``` sign such as the print directory command ```%pwd```:"
   ]
  },
  {
   "cell_type": "code",
   "execution_count": 12,
   "metadata": {},
   "outputs": [
    {
     "data": {
      "text/plain": [
       "'c:\\\\Users\\\\phili\\\\OneDrive\\\\Documents\\\\GitHub\\\\python-notebooks\\\\ipython_magics'"
      ]
     },
     "execution_count": 12,
     "metadata": {},
     "output_type": "execute_result"
    }
   ],
   "source": [
    "%pwd"
   ]
  },
  {
   "cell_type": "markdown",
   "metadata": {},
   "source": [
    "It is also recognised using the alias without the ```%``` sign:"
   ]
  },
  {
   "cell_type": "code",
   "execution_count": 13,
   "metadata": {},
   "outputs": [
    {
     "data": {
      "text/plain": [
       "'c:\\\\Users\\\\phili\\\\OneDrive\\\\Documents\\\\GitHub\\\\python-notebooks\\\\ipython_magics'"
      ]
     },
     "execution_count": 13,
     "metadata": {},
     "output_type": "execute_result"
    }
   ],
   "source": [
    "pwd"
   ]
  },
  {
   "cell_type": "markdown",
   "metadata": {},
   "source": [
    "Under the hood, the IPython magic ```%pwd``` is a wrapper for the shell command that has been implemented in Python:"
   ]
  },
  {
   "cell_type": "code",
   "execution_count": 14,
   "metadata": {},
   "outputs": [
    {
     "name": "stdout",
     "output_type": "stream",
     "text": [
      "\n",
      "Path                                                                    \n",
      "----                                                                    \n",
      "C:\\Users\\phili\\OneDrive\\Documents\\GitHub\\python-notebooks\\ipython_magics\n",
      "\n",
      "\n"
     ]
    }
   ],
   "source": [
    "if os.name == 'nt':\n",
    "    !C:\\Windows\\System32\\WindowsPowerShell\\v1.0\\powershell pwd\n",
    "else:\n",
    "    !pwd"
   ]
  },
  {
   "cell_type": "markdown",
   "metadata": {},
   "source": [
    "When a shell command that has an IPython is used normally there is a warning stating to preference the magic command as it has essentially been rewritten in Python and has additional checks for Python compatability and therefore will work more reliably when used within an IPython kernel. When available an IPython magic should always be used in preference to an equivalent PowerShell or bash command."
   ]
  },
  {
   "cell_type": "markdown",
   "metadata": {},
   "source": [
    "In the JSON representation of ```%lsmagic``` the ```\"pwd\"``` key has the value ```\"OSMagics\"```. Under the hood this means there is a function ```pwd``` found under ```IPython.core.magics.OSMagics```:"
   ]
  },
  {
   "cell_type": "code",
   "execution_count": 15,
   "metadata": {},
   "outputs": [],
   "source": [
    "import IPython"
   ]
  },
  {
   "cell_type": "code",
   "execution_count": 16,
   "metadata": {},
   "outputs": [
    {
     "name": "stdout",
     "output_type": "stream",
     "text": [
      "\u001b[1;31mSignature:\u001b[0m \u001b[0mIPython\u001b[0m\u001b[1;33m.\u001b[0m\u001b[0mcore\u001b[0m\u001b[1;33m.\u001b[0m\u001b[0mmagics\u001b[0m\u001b[1;33m.\u001b[0m\u001b[0mOSMagics\u001b[0m\u001b[1;33m.\u001b[0m\u001b[0mpwd\u001b[0m\u001b[1;33m(\u001b[0m\u001b[0mself\u001b[0m\u001b[1;33m,\u001b[0m \u001b[0mparameter_s\u001b[0m\u001b[1;33m=\u001b[0m\u001b[1;34m''\u001b[0m\u001b[1;33m)\u001b[0m\u001b[1;33m\u001b[0m\u001b[1;33m\u001b[0m\u001b[0m\n",
      "\u001b[1;31mDocstring:\u001b[0m\n",
      "Return the current working directory path.\n",
      "\n",
      "Examples\n",
      "--------\n",
      "::\n",
      "\n",
      "  In [9]: pwd\n",
      "  Out[9]: '/home/tsuser/sprint/ipython'\n",
      "\u001b[1;31mFile:\u001b[0m      c:\\users\\phili\\anaconda3\\envs\\vscode-env\\lib\\site-packages\\ipython\\core\\magics\\osm.py\n",
      "\u001b[1;31mType:\u001b[0m      function"
     ]
    }
   ],
   "source": [
    "IPython.core.magics.OSMagics.pwd?"
   ]
  },
  {
   "cell_type": "markdown",
   "metadata": {},
   "source": [
    "By default the current working directory will be the parent folder of the interactive Python notebook:"
   ]
  },
  {
   "cell_type": "code",
   "execution_count": 17,
   "metadata": {},
   "outputs": [
    {
     "data": {
      "text/plain": [
       "'c:\\\\Users\\\\phili\\\\OneDrive\\\\Documents\\\\GitHub\\\\python-notebooks\\\\ipython_magics'"
      ]
     },
     "execution_count": 17,
     "metadata": {},
     "output_type": "execute_result"
    }
   ],
   "source": [
    "%pwd"
   ]
  },
  {
   "cell_type": "markdown",
   "metadata": {},
   "source": [
    "The line magic list ```%ls``` can be used to list the files in the current directory:"
   ]
  },
  {
   "cell_type": "code",
   "execution_count": 18,
   "metadata": {},
   "outputs": [
    {
     "name": "stdout",
     "output_type": "stream",
     "text": [
      " Volume in drive C has no label.\n",
      " Volume Serial Number is 3AE0-CD34\n",
      "\n",
      " Directory of c:\\Users\\phili\\OneDrive\\Documents\\GitHub\\python-notebooks\\ipython_magics\n",
      "\n",
      "10/01/2024  07:35    <DIR>          .\n",
      "03/01/2024  03:45    <DIR>          ..\n",
      "10/01/2024  07:35    <DIR>          __pycache__\n",
      "10/01/2024  07:54            46,408 notebook.ipynb\n",
      "               1 File(s)         46,408 bytes\n",
      "               3 Dir(s)  143,089,721,344 bytes free\n"
     ]
    }
   ],
   "source": [
    "%ls"
   ]
  },
  {
   "cell_type": "markdown",
   "metadata": {},
   "source": [
    "A cell IPython magic begins with ```%%``` and as the name suggests applies to a whole IPython cell. When used in an IPython cell from the Terminal, 2 blank lines are required to exit out of the cell and execute the code. The cell magic ```writefile``` can be used to write a Python script file:"
   ]
  },
  {
   "cell_type": "code",
   "execution_count": 19,
   "metadata": {},
   "outputs": [
    {
     "name": "stdout",
     "output_type": "stream",
     "text": [
      "Writing script1.py\n"
     ]
    }
   ],
   "source": [
    "%%writefile script1.py\n",
    "var1 = 'Hello World!'\n",
    "print(var1)\n",
    "\n",
    "    "
   ]
  },
  {
   "cell_type": "markdown",
   "metadata": {},
   "source": [
    "Note that this file is created however the code is not run, attempting to access ```var1``` will therefore give a ```NameError```:\n",
    "\n",
    "```python\n",
    "var1\n",
    "```"
   ]
  },
  {
   "cell_type": "code",
   "execution_count": null,
   "metadata": {},
   "outputs": [],
   "source": []
  },
  {
   "cell_type": "markdown",
   "metadata": {},
   "source": [
    "This script file can be run using the magic command ```%run```:"
   ]
  },
  {
   "cell_type": "code",
   "execution_count": 20,
   "metadata": {},
   "outputs": [
    {
     "name": "stdout",
     "output_type": "stream",
     "text": [
      "Hello World!\n"
     ]
    }
   ],
   "source": [
    "%run script1"
   ]
  },
  {
   "cell_type": "markdown",
   "metadata": {},
   "source": [
    "Now ```var1``` can be accessed:"
   ]
  },
  {
   "cell_type": "code",
   "execution_count": 21,
   "metadata": {},
   "outputs": [
    {
     "data": {
      "text/plain": [
       "'Hello World!'"
      ]
     },
     "execution_count": 21,
     "metadata": {},
     "output_type": "execute_result"
    }
   ],
   "source": [
    "var1"
   ]
  },
  {
   "cell_type": "markdown",
   "metadata": {},
   "source": [
    "A Python script file can created, that has a single line of code. This line of code prints out the list of identifiers that exist within the Python script file itself:"
   ]
  },
  {
   "cell_type": "code",
   "execution_count": 22,
   "metadata": {},
   "outputs": [
    {
     "name": "stdout",
     "output_type": "stream",
     "text": [
      "Overwriting script1.py\n"
     ]
    }
   ],
   "source": [
    "%%writefile script1.py\n",
    "print(dir())"
   ]
  },
  {
   "cell_type": "code",
   "execution_count": 23,
   "metadata": {},
   "outputs": [
    {
     "name": "stdout",
     "output_type": "stream",
     "text": [
      "['__builtins__', '__file__', '__name__', '__nonzero__']\n"
     ]
    }
   ],
   "source": [
    "%run script1"
   ]
  },
  {
   "cell_type": "markdown",
   "metadata": {},
   "source": [
    "The identifiers are all datamodel identifiers and the  ```__name__``` gives the name of the script file and the ```__file__``` gives the location of the script file:"
   ]
  },
  {
   "cell_type": "code",
   "execution_count": 24,
   "metadata": {},
   "outputs": [
    {
     "name": "stdout",
     "output_type": "stream",
     "text": [
      "Overwriting script1.py\n"
     ]
    }
   ],
   "source": [
    "%%writefile script1.py\n",
    "print(__name__)\n",
    "print(__file__)"
   ]
  },
  {
   "cell_type": "markdown",
   "metadata": {},
   "source": [
    "Notice that the name of the script file becomes the ```str``` instance ```'__main__'``` when the script file is run directly (the quotations enclosing ```'__main__'``` aren't shown as a ```print``` statement was used):"
   ]
  },
  {
   "cell_type": "code",
   "execution_count": 25,
   "metadata": {},
   "outputs": [
    {
     "name": "stdout",
     "output_type": "stream",
     "text": [
      "__main__\n",
      "c:\\Users\\phili\\OneDrive\\Documents\\GitHub\\python-notebooks\\ipython_magics\\script1.py\n"
     ]
    }
   ],
   "source": [
    "%run script1"
   ]
  },
  {
   "cell_type": "markdown",
   "metadata": {},
   "source": [
    "If a second script file is created, that imports the first script file:"
   ]
  },
  {
   "cell_type": "code",
   "execution_count": 26,
   "metadata": {},
   "outputs": [
    {
     "name": "stdout",
     "output_type": "stream",
     "text": [
      "Writing script2.py\n"
     ]
    }
   ],
   "source": [
    "%%writefile script2.py\n",
    "print(__name__)\n",
    "print(__file__)\n",
    "print()\n",
    "import script1"
   ]
  },
  {
   "cell_type": "markdown",
   "metadata": {},
   "source": [
    "Notice that when ```script2.py``` is run, it runs all the code in ```script2.py``` and during the ```import``` of ```script1.py``` runs all the code in ```script1.py```. \n",
    "\n",
    "Notice because ```script1.py``` is now being run indirectly through the middleman ```script2.py```, that it is no longer the main script file and its ```__name__``` is therefore ```'script1'``` opposed to ```'__main__'```. The ```__name__``` of ```script2.py``` which is run directly is ```'__main__'```:"
   ]
  },
  {
   "cell_type": "code",
   "execution_count": 27,
   "metadata": {},
   "outputs": [
    {
     "name": "stdout",
     "output_type": "stream",
     "text": [
      "__main__\n",
      "c:\\Users\\phili\\OneDrive\\Documents\\GitHub\\python-notebooks\\ipython_magics\\script2.py\n",
      "\n",
      "script1\n",
      "C:\\Users\\phili\\OneDrive\\Documents\\GitHub\\python-notebooks\\ipython_magics\\script1.py\n"
     ]
    }
   ],
   "source": [
    "%run script2.py"
   ]
  },
  {
   "cell_type": "markdown",
   "metadata": {},
   "source": [
    "When a Python script file is executed directly its name is ```'__main__'``` and when it is imported, its name corresponds to the file name of the script file excluding the file extension. It is therefore common to use this information to construct an ```if``` and ```else``` code block to determine if the script file is being executed directly or imported:"
   ]
  },
  {
   "cell_type": "code",
   "execution_count": 28,
   "metadata": {},
   "outputs": [
    {
     "name": "stdout",
     "output_type": "stream",
     "text": [
      "Writing script3.py\n"
     ]
    }
   ],
   "source": [
    "%%writefile script3.py\n",
    "if __name__ == '__main__':\n",
    "    print('Executed directly...')\n",
    "else:\n",
    "    print('Imported...')"
   ]
  },
  {
   "cell_type": "markdown",
   "metadata": {},
   "source": [
    "Now different behaviour is seen when ```script3.py``` is run:"
   ]
  },
  {
   "cell_type": "code",
   "execution_count": 29,
   "metadata": {},
   "outputs": [
    {
     "name": "stdout",
     "output_type": "stream",
     "text": [
      "Executed directly...\n"
     ]
    }
   ],
   "source": [
    "%run script3.py"
   ]
  },
  {
   "cell_type": "markdown",
   "metadata": {},
   "source": [
    "And when ```script3.py``` is imported by ```script4.py``` and ```script4.py``` is run:"
   ]
  },
  {
   "cell_type": "code",
   "execution_count": 30,
   "metadata": {},
   "outputs": [
    {
     "name": "stdout",
     "output_type": "stream",
     "text": [
      "Writing script4.py\n"
     ]
    }
   ],
   "source": [
    "%%writefile script4.py\n",
    "import script3"
   ]
  },
  {
   "cell_type": "code",
   "execution_count": 31,
   "metadata": {},
   "outputs": [
    {
     "name": "stdout",
     "output_type": "stream",
     "text": [
      "Imported...\n"
     ]
    }
   ],
   "source": [
    "%run script4.py"
   ]
  },
  {
   "cell_type": "markdown",
   "metadata": {},
   "source": [
    "Normally additional diagnostic code is included in the ```if``` code block of a module, so the module can be diagnosed when working with it directly. \n",
    "\n",
    "An analogy can be taken with a car; the ```car``` module may use the ```wheels``` module and the ```wheels``` module might be setup to carry out additional diagnostics on the wheels when the module is executed directly:"
   ]
  },
  {
   "cell_type": "code",
   "execution_count": 32,
   "metadata": {},
   "outputs": [
    {
     "name": "stdout",
     "output_type": "stream",
     "text": [
      "Writing car.py\n"
     ]
    }
   ],
   "source": [
    "%%writefile car.py\n",
    "import wheels"
   ]
  },
  {
   "cell_type": "code",
   "execution_count": 33,
   "metadata": {},
   "outputs": [
    {
     "name": "stdout",
     "output_type": "stream",
     "text": [
      "Writing wheels.py\n"
     ]
    }
   ],
   "source": [
    "%%writefile wheels.py\n",
    "n_wheels = 4\n",
    "print(f'A car has {n_wheels} wheels')\n",
    "if __name__ == '__main__':\n",
    "    print('wheel1 pressure check...')    \n",
    "    print('wheel2 pressure check...')\n",
    "    print('wheel3 pressure check...')\n",
    "    print('wheel4 pressure check...')   \n"
   ]
  },
  {
   "cell_type": "markdown",
   "metadata": {},
   "source": [
    "Differing behaviour for the ```wheels``` can now be seen when used via a ```car```:"
   ]
  },
  {
   "cell_type": "code",
   "execution_count": 34,
   "metadata": {},
   "outputs": [
    {
     "name": "stdout",
     "output_type": "stream",
     "text": [
      "A car has 4 wheels\n"
     ]
    }
   ],
   "source": [
    "%run car.py"
   ]
  },
  {
   "cell_type": "markdown",
   "metadata": {},
   "source": [
    "And when inspected directly:"
   ]
  },
  {
   "cell_type": "code",
   "execution_count": 35,
   "metadata": {},
   "outputs": [
    {
     "name": "stdout",
     "output_type": "stream",
     "text": [
      "A car has 4 wheels\n",
      "wheel1 pressure check...\n",
      "wheel2 pressure check...\n",
      "wheel3 pressure check...\n",
      "wheel4 pressure check...\n"
     ]
    }
   ],
   "source": [
    "%run wheels.py"
   ]
  },
  {
   "cell_type": "markdown",
   "metadata": {},
   "source": [
    "The Python modules can be removed using the IPython magic ```%rm```. Unfortunately this is only available on Linux/Mac as bash uses the command ```rm``` to remove a file. On Windows CMD uses ```del``` to delete a file but this is the same name as the keyword that Python uses to delete a variable and isn't incorporated as an IPython magic to prevent confusion. Powershell has an alias ```rm``` which can be used instead:"
   ]
  },
  {
   "cell_type": "code",
   "execution_count": 36,
   "metadata": {},
   "outputs": [],
   "source": [
    "if os.name == 'nt':\n",
    "    !C:\\Windows\\System32\\WindowsPowerShell\\v1.0\\powershell rm script1.py\n",
    "    !C:\\Windows\\System32\\WindowsPowerShell\\v1.0\\powershell rm script2.py\n",
    "    !C:\\Windows\\System32\\WindowsPowerShell\\v1.0\\powershell rm script3.py        \n",
    "    !C:\\Windows\\System32\\WindowsPowerShell\\v1.0\\powershell rm script4.py\n",
    "    !C:\\Windows\\System32\\WindowsPowerShell\\v1.0\\powershell rm wheels.py \n",
    "    !C:\\Windows\\System32\\WindowsPowerShell\\v1.0\\powershell rm car.py\n",
    "else:\n",
    "    %rm script1.py       \n",
    "    %rm script2.py       \n",
    "    %rm script3.py       \n",
    "    %rm script4.py \n",
    "    %rm car.py  \n",
    "    %rm wheels.py                                      "
   ]
  }
 ],
 "metadata": {
  "kernelspec": {
   "display_name": "Python 3 (ipykernel)",
   "language": "python",
   "name": "python3"
  },
  "language_info": {
   "codemirror_mode": {
    "name": "ipython",
    "version": 3
   },
   "file_extension": ".py",
   "mimetype": "text/x-python",
   "name": "python",
   "nbconvert_exporter": "python",
   "pygments_lexer": "ipython3",
   "version": "3.12.1"
  }
 },
 "nbformat": 4,
 "nbformat_minor": 4
}
