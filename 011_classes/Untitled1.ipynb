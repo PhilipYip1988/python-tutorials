{
 "cells": [
  {
   "cell_type": "code",
   "execution_count": 2,
   "id": "abcdcfb4-c902-4500-a601-e7f0aed91d00",
   "metadata": {},
   "outputs": [],
   "source": [
    "num = 3"
   ]
  },
  {
   "cell_type": "code",
   "execution_count": 3,
   "id": "05411872-0a19-441b-9e63-b7f35d31576b",
   "metadata": {},
   "outputs": [],
   "source": [
    "int.__init__(num, \"5\") "
   ]
  },
  {
   "cell_type": "code",
   "execution_count": 4,
   "id": "858307a6-ca73-4c5e-84f1-52eddab2b05e",
   "metadata": {},
   "outputs": [
    {
     "data": {
      "text/plain": [
       "3"
      ]
     },
     "execution_count": 4,
     "metadata": {},
     "output_type": "execute_result"
    }
   ],
   "source": [
    "num"
   ]
  },
  {
   "cell_type": "code",
   "execution_count": null,
   "id": "b8d49610-e584-4682-a2a2-c4fc15f43b8d",
   "metadata": {},
   "outputs": [],
   "source": []
  }
 ],
 "metadata": {
  "kernelspec": {
   "display_name": "Python 3 (ipykernel)",
   "language": "python",
   "name": "python3"
  },
  "language_info": {
   "codemirror_mode": {
    "name": "ipython",
    "version": 3
   },
   "file_extension": ".py",
   "mimetype": "text/x-python",
   "name": "python",
   "nbconvert_exporter": "python",
   "pygments_lexer": "ipython3",
   "version": "3.10.6"
  }
 },
 "nbformat": 4,
 "nbformat_minor": 5
}
