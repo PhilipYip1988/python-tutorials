{
 "cells": [
  {
   "cell_type": "code",
   "execution_count": 1,
   "id": "65818fdb-6aec-4d42-a112-da0a7e496254",
   "metadata": {},
   "outputs": [],
   "source": [
    "num = 5"
   ]
  },
  {
   "cell_type": "code",
   "execution_count": 2,
   "id": "0dbc5cd3-fd93-4d00-8a79-25629716f68c",
   "metadata": {},
   "outputs": [],
   "source": [
    "word = \"Hello\""
   ]
  },
  {
   "cell_type": "code",
   "execution_count": null,
   "id": "57694fb2-6886-46de-9c51-a4578b9f03a8",
   "metadata": {},
   "outputs": [],
   "source": []
  },
  {
   "cell_type": "code",
   "execution_count": null,
   "id": "8aeef993-ea78-4f92-af5f-5d9aa69dd430",
   "metadata": {},
   "outputs": [],
   "source": []
  },
  {
   "cell_type": "code",
   "execution_count": 3,
   "id": "e301c6c6-ffac-4aca-86ca-02b4830360eb",
   "metadata": {},
   "outputs": [],
   "source": [
    "num1 = 5\n",
    "num2 = 6"
   ]
  },
  {
   "cell_type": "code",
   "execution_count": 4,
   "id": "731b9768-e8f7-48b0-9986-5a33917106e9",
   "metadata": {},
   "outputs": [
    {
     "data": {
      "text/plain": [
       "11"
      ]
     },
     "execution_count": 4,
     "metadata": {},
     "output_type": "execute_result"
    }
   ],
   "source": [
    "num1 + num2"
   ]
  },
  {
   "cell_type": "code",
   "execution_count": 5,
   "id": "bfa27faa-2b17-44ef-a03a-7f0515b8ea56",
   "metadata": {},
   "outputs": [
    {
     "data": {
      "text/plain": [
       "11"
      ]
     },
     "execution_count": 5,
     "metadata": {},
     "output_type": "execute_result"
    }
   ],
   "source": [
    "num1.__add__(num2)"
   ]
  },
  {
   "cell_type": "code",
   "execution_count": 6,
   "id": "e42e8cd2-9412-452b-8ca0-b73483c48cec",
   "metadata": {},
   "outputs": [],
   "source": [
    "word1 = \"Hello\"\n",
    "word2 = \"World\""
   ]
  },
  {
   "cell_type": "code",
   "execution_count": 7,
   "id": "35cd025a-7998-4ee3-9dfa-e579b8adfc2d",
   "metadata": {},
   "outputs": [
    {
     "data": {
      "text/plain": [
       "'HelloWorld'"
      ]
     },
     "execution_count": 7,
     "metadata": {},
     "output_type": "execute_result"
    }
   ],
   "source": [
    "word1 + word2"
   ]
  },
  {
   "cell_type": "code",
   "execution_count": 8,
   "id": "32312b79-edc2-4ff8-b745-01f6e9066524",
   "metadata": {},
   "outputs": [
    {
     "data": {
      "text/plain": [
       "'HelloWorld'"
      ]
     },
     "execution_count": 8,
     "metadata": {},
     "output_type": "execute_result"
    }
   ],
   "source": [
    "word1.__add__(word2)"
   ]
  },
  {
   "cell_type": "code",
   "execution_count": 9,
   "id": "ca360517-a17b-4ae5-8af1-6d41ed97b1c4",
   "metadata": {},
   "outputs": [],
   "source": [
    "collection = [1, 2, 3, 4, 5]"
   ]
  },
  {
   "cell_type": "code",
   "execution_count": 10,
   "id": "f8c19509-c403-410d-8a3f-6a1b388fde6d",
   "metadata": {},
   "outputs": [
    {
     "data": {
      "text/plain": [
       "5"
      ]
     },
     "execution_count": 10,
     "metadata": {},
     "output_type": "execute_result"
    }
   ],
   "source": [
    "collection.__len__()"
   ]
  },
  {
   "cell_type": "code",
   "execution_count": 11,
   "id": "2ee84ed3-36c8-4ab6-807b-f66804d32320",
   "metadata": {},
   "outputs": [
    {
     "data": {
      "text/plain": [
       "2"
      ]
     },
     "execution_count": 11,
     "metadata": {},
     "output_type": "execute_result"
    }
   ],
   "source": [
    "word1.count(\"l\")"
   ]
  },
  {
   "cell_type": "code",
   "execution_count": null,
   "id": "a806d903-0221-4f3e-adfe-4579089c82d9",
   "metadata": {},
   "outputs": [],
   "source": []
  },
  {
   "cell_type": "code",
   "execution_count": 12,
   "id": "d5b9330d-70c2-4cf8-91d3-8cce83ecd2ae",
   "metadata": {},
   "outputs": [],
   "source": [
    "file_path = \"C:\\\\Users\\\\Philip\""
   ]
  },
  {
   "cell_type": "code",
   "execution_count": 13,
   "id": "99103373-3ee9-4745-9b67-475b542615f5",
   "metadata": {},
   "outputs": [
    {
     "data": {
      "text/plain": [
       "'C:\\\\Users\\\\Philip'"
      ]
     },
     "execution_count": 13,
     "metadata": {},
     "output_type": "execute_result"
    }
   ],
   "source": [
    "file_path"
   ]
  },
  {
   "cell_type": "code",
   "execution_count": 14,
   "id": "5626c422-929d-4434-a632-66923cbffda8",
   "metadata": {},
   "outputs": [
    {
     "name": "stdout",
     "output_type": "stream",
     "text": [
      "C:\\Users\\Philip\n"
     ]
    }
   ],
   "source": [
    "print(file_path)"
   ]
  },
  {
   "cell_type": "code",
   "execution_count": 15,
   "id": "c5711c1e-f73e-41a8-9083-e8ad5b8a6e2c",
   "metadata": {},
   "outputs": [
    {
     "data": {
      "text/plain": [
       "\"'C:\\\\\\\\Users\\\\\\\\Philip'\""
      ]
     },
     "execution_count": 15,
     "metadata": {},
     "output_type": "execute_result"
    }
   ],
   "source": [
    "file_path.__repr__()"
   ]
  },
  {
   "cell_type": "code",
   "execution_count": 16,
   "id": "46237e80-b14c-4614-b530-4c3a3ceeb180",
   "metadata": {},
   "outputs": [
    {
     "data": {
      "text/plain": [
       "'C:\\\\Users\\\\Philip'"
      ]
     },
     "execution_count": 16,
     "metadata": {},
     "output_type": "execute_result"
    }
   ],
   "source": [
    "file_path.__str__()"
   ]
  },
  {
   "cell_type": "code",
   "execution_count": null,
   "id": "114128db-0eb9-4123-9845-5425fb516116",
   "metadata": {},
   "outputs": [],
   "source": []
  },
  {
   "cell_type": "code",
   "execution_count": 17,
   "id": "1db7b2eb-cd32-4e06-9cab-a973d3921adb",
   "metadata": {},
   "outputs": [
    {
     "data": {
      "text/plain": [
       "5"
      ]
     },
     "execution_count": 17,
     "metadata": {},
     "output_type": "execute_result"
    }
   ],
   "source": [
    "len([1, 2, 3, 4, 5])"
   ]
  },
  {
   "cell_type": "code",
   "execution_count": 18,
   "id": "4cd592ab-4196-4446-8b63-3ee462a2c66b",
   "metadata": {},
   "outputs": [
    {
     "data": {
      "text/plain": [
       "\"'C:\\\\\\\\Users\\\\\\\\Philip'\""
      ]
     },
     "execution_count": 18,
     "metadata": {},
     "output_type": "execute_result"
    }
   ],
   "source": [
    "repr(file_path)"
   ]
  },
  {
   "cell_type": "code",
   "execution_count": 19,
   "id": "c6d1cd16-f62f-4f29-a294-9bafd5dd51ec",
   "metadata": {},
   "outputs": [
    {
     "data": {
      "text/plain": [
       "'C:\\\\Users\\\\Philip'"
      ]
     },
     "execution_count": 19,
     "metadata": {},
     "output_type": "execute_result"
    }
   ],
   "source": [
    "str(file_path)"
   ]
  },
  {
   "cell_type": "code",
   "execution_count": 20,
   "id": "53a460d1-c6e3-4077-ab61-ef89277f9242",
   "metadata": {},
   "outputs": [],
   "source": [
    "collection = [1, 2, 3, 4, 5]"
   ]
  },
  {
   "cell_type": "code",
   "execution_count": 21,
   "id": "f3067f4d-4458-42d5-8ef2-9c6581a92fae",
   "metadata": {},
   "outputs": [
    {
     "data": {
      "text/plain": [
       "5"
      ]
     },
     "execution_count": 21,
     "metadata": {},
     "output_type": "execute_result"
    }
   ],
   "source": [
    "collection.__len__()"
   ]
  },
  {
   "cell_type": "code",
   "execution_count": 22,
   "id": "98eb9f15-b43d-4a76-90de-9a540e236bcb",
   "metadata": {},
   "outputs": [],
   "source": [
    "#list.__len__()"
   ]
  },
  {
   "cell_type": "code",
   "execution_count": 23,
   "id": "410488a5-346d-447f-88b1-05f1c244df00",
   "metadata": {},
   "outputs": [
    {
     "data": {
      "text/plain": [
       "5"
      ]
     },
     "execution_count": 23,
     "metadata": {},
     "output_type": "execute_result"
    }
   ],
   "source": [
    "list.__len__(collection)"
   ]
  },
  {
   "cell_type": "code",
   "execution_count": null,
   "id": "b05b2f9d-bcfe-42f3-805c-e056c336d0ad",
   "metadata": {},
   "outputs": [],
   "source": []
  },
  {
   "cell_type": "code",
   "execution_count": null,
   "id": "787f413e-be93-464a-8a73-9fc54ac234a2",
   "metadata": {},
   "outputs": [],
   "source": []
  },
  {
   "cell_type": "code",
   "execution_count": null,
   "id": "68a14b2c-d462-40df-84fa-58fa607bbf0d",
   "metadata": {},
   "outputs": [],
   "source": []
  },
  {
   "cell_type": "code",
   "execution_count": 24,
   "id": "872b36c0-a53d-42a4-aeb3-e1720bad809e",
   "metadata": {},
   "outputs": [
    {
     "data": {
      "text/plain": [
       "5"
      ]
     },
     "execution_count": 24,
     "metadata": {},
     "output_type": "execute_result"
    }
   ],
   "source": [
    "collection.__len__()"
   ]
  },
  {
   "cell_type": "code",
   "execution_count": null,
   "id": "6051518e-bc55-41d5-9ef6-9fd2e71cae2a",
   "metadata": {},
   "outputs": [],
   "source": []
  },
  {
   "cell_type": "code",
   "execution_count": null,
   "id": "6f0f8098-42ee-4535-943b-bcdccecb194f",
   "metadata": {},
   "outputs": [],
   "source": []
  },
  {
   "cell_type": "code",
   "execution_count": null,
   "id": "ecbb2ee6-e5de-4d88-96b9-022326fd7cdd",
   "metadata": {},
   "outputs": [],
   "source": []
  },
  {
   "cell_type": "code",
   "execution_count": null,
   "id": "3f11df1e-3ac2-4773-83e7-78f3b2dea7d8",
   "metadata": {},
   "outputs": [],
   "source": []
  },
  {
   "cell_type": "code",
   "execution_count": null,
   "id": "db4c4a52-1e39-42de-b0bc-d40bfbfc6f49",
   "metadata": {},
   "outputs": [],
   "source": []
  },
  {
   "cell_type": "code",
   "execution_count": null,
   "id": "498b57f2-0c38-4bb3-878b-d158d193f2cc",
   "metadata": {},
   "outputs": [],
   "source": []
  },
  {
   "cell_type": "code",
   "execution_count": null,
   "id": "0beb29f9-9b19-48f9-989c-44137b2b3ce1",
   "metadata": {},
   "outputs": [],
   "source": []
  },
  {
   "cell_type": "code",
   "execution_count": null,
   "id": "9601f4e5-18f7-4e00-a989-f488e698c646",
   "metadata": {},
   "outputs": [],
   "source": []
  },
  {
   "cell_type": "code",
   "execution_count": 25,
   "id": "a419fef8-be3f-4122-b30a-bfa4e2e17d01",
   "metadata": {},
   "outputs": [
    {
     "data": {
      "text/plain": [
       "'5'"
      ]
     },
     "execution_count": 25,
     "metadata": {},
     "output_type": "execute_result"
    }
   ],
   "source": [
    "str(5)"
   ]
  },
  {
   "cell_type": "code",
   "execution_count": 26,
   "id": "c1241bb8-7eb3-4006-aaa2-b847dda96f6f",
   "metadata": {},
   "outputs": [],
   "source": [
    "num = 5"
   ]
  },
  {
   "cell_type": "code",
   "execution_count": 27,
   "id": "f78e24d0-2d0a-420c-8c1a-f3417a2eda1e",
   "metadata": {},
   "outputs": [
    {
     "data": {
      "text/plain": [
       "<method 'conjugate' of 'int' objects>"
      ]
     },
     "execution_count": 27,
     "metadata": {},
     "output_type": "execute_result"
    }
   ],
   "source": [
    "int.conjugate"
   ]
  },
  {
   "cell_type": "code",
   "execution_count": 28,
   "id": "a22afff3-29df-4ad5-952d-326c76584548",
   "metadata": {},
   "outputs": [
    {
     "data": {
      "text/plain": [
       "<function int.conjugate>"
      ]
     },
     "execution_count": 28,
     "metadata": {},
     "output_type": "execute_result"
    }
   ],
   "source": [
    "num.conjugate"
   ]
  },
  {
   "cell_type": "code",
   "execution_count": 29,
   "id": "c3274ada-6a3f-4b5d-ab6a-cd620934b049",
   "metadata": {},
   "outputs": [
    {
     "data": {
      "text/plain": [
       "5"
      ]
     },
     "execution_count": 29,
     "metadata": {},
     "output_type": "execute_result"
    }
   ],
   "source": [
    "int.conjugate(num)"
   ]
  },
  {
   "cell_type": "code",
   "execution_count": 30,
   "id": "a77b12ac-d057-4237-a947-ec7dc9a4f2cc",
   "metadata": {},
   "outputs": [
    {
     "data": {
      "text/plain": [
       "5"
      ]
     },
     "execution_count": 30,
     "metadata": {},
     "output_type": "execute_result"
    }
   ],
   "source": [
    "num.conjugate()"
   ]
  },
  {
   "cell_type": "code",
   "execution_count": 39,
   "id": "f340a137-14b7-485e-aa0a-a47af924507e",
   "metadata": {},
   "outputs": [],
   "source": [
    "instance = object()"
   ]
  },
  {
   "cell_type": "code",
   "execution_count": 40,
   "id": "821add96-aab8-44e7-bb35-bee7d5e27332",
   "metadata": {},
   "outputs": [
    {
     "data": {
      "text/plain": [
       "\u001b[1;31mInit signature:\u001b[0m  \u001b[0mobject\u001b[0m\u001b[1;33m(\u001b[0m\u001b[1;33m)\u001b[0m\u001b[1;33m\u001b[0m\u001b[1;33m\u001b[0m\u001b[0m\n",
       "\u001b[1;31mDocstring:\u001b[0m     \n",
       "The base class of the class hierarchy.\n",
       "\n",
       "When called, it accepts no arguments and returns a new featureless\n",
       "instance that has no instance attributes and cannot be given any.\n",
       "\u001b[1;31mType:\u001b[0m           type\n",
       "\u001b[1;31mSubclasses:\u001b[0m     type, async_generator, int, bytearray_iterator, bytearray, bytes_iterator, bytes, builtin_function_or_method, callable_iterator, PyCapsule, ...\n"
      ]
     },
     "metadata": {},
     "output_type": "display_data"
    }
   ],
   "source": [
    "? object"
   ]
  },
  {
   "cell_type": "code",
   "execution_count": 41,
   "id": "23dc5eae-0559-4087-bb99-34b85d2d0a1d",
   "metadata": {},
   "outputs": [
    {
     "data": {
      "text/plain": [
       "['__class__',\n",
       " '__delattr__',\n",
       " '__dir__',\n",
       " '__doc__',\n",
       " '__eq__',\n",
       " '__format__',\n",
       " '__ge__',\n",
       " '__getattribute__',\n",
       " '__gt__',\n",
       " '__hash__',\n",
       " '__init__',\n",
       " '__init_subclass__',\n",
       " '__le__',\n",
       " '__lt__',\n",
       " '__ne__',\n",
       " '__new__',\n",
       " '__reduce__',\n",
       " '__reduce_ex__',\n",
       " '__repr__',\n",
       " '__setattr__',\n",
       " '__sizeof__',\n",
       " '__str__',\n",
       " '__subclasshook__']"
      ]
     },
     "execution_count": 41,
     "metadata": {},
     "output_type": "execute_result"
    }
   ],
   "source": [
    "dir(instance)"
   ]
  },
  {
   "cell_type": "code",
   "execution_count": 42,
   "id": "4c5288a7-d020-4fba-8008-1e5a422bd004",
   "metadata": {},
   "outputs": [
    {
     "data": {
      "text/plain": [
       "<object at 0x189afdefc70>"
      ]
     },
     "execution_count": 42,
     "metadata": {},
     "output_type": "execute_result"
    }
   ],
   "source": [
    "instance"
   ]
  },
  {
   "cell_type": "code",
   "execution_count": null,
   "id": "120b3fe4-49d7-4f7e-9001-85fe831d8bab",
   "metadata": {},
   "outputs": [],
   "source": [
    "print(instance)"
   ]
  },
  {
   "cell_type": "code",
   "execution_count": 33,
   "id": "6017c92b-e7e8-4c54-80b4-98ade3026784",
   "metadata": {},
   "outputs": [],
   "source": [
    "instance1 = object()"
   ]
  },
  {
   "cell_type": "code",
   "execution_count": 34,
   "id": "086f35ef-3a2d-48ce-b320-b5e2569a7829",
   "metadata": {},
   "outputs": [],
   "source": [
    "instance2 = object()"
   ]
  },
  {
   "cell_type": "code",
   "execution_count": 35,
   "id": "dc11f436-9cd5-4c85-a363-dc01b23df86c",
   "metadata": {},
   "outputs": [
    {
     "data": {
      "text/plain": [
       "<object at 0x189afdefce0>"
      ]
     },
     "execution_count": 35,
     "metadata": {},
     "output_type": "execute_result"
    }
   ],
   "source": [
    "instance1"
   ]
  },
  {
   "cell_type": "code",
   "execution_count": 36,
   "id": "944a6705-967f-46b6-97d0-77833b898f9b",
   "metadata": {},
   "outputs": [
    {
     "data": {
      "text/plain": [
       "<object at 0x189afdefca0>"
      ]
     },
     "execution_count": 36,
     "metadata": {},
     "output_type": "execute_result"
    }
   ],
   "source": [
    "instance2"
   ]
  },
  {
   "cell_type": "code",
   "execution_count": 37,
   "id": "1e60b4b6-6c9e-4b6d-96ba-c5315f6a3cd8",
   "metadata": {},
   "outputs": [
    {
     "data": {
      "text/plain": [
       "False"
      ]
     },
     "execution_count": 37,
     "metadata": {},
     "output_type": "execute_result"
    }
   ],
   "source": [
    "instance1 == instance2"
   ]
  },
  {
   "cell_type": "code",
   "execution_count": 38,
   "id": "3d9fca46-2514-4ebd-a47b-dc6936492931",
   "metadata": {},
   "outputs": [
    {
     "data": {
      "text/plain": [
       "True"
      ]
     },
     "execution_count": 38,
     "metadata": {},
     "output_type": "execute_result"
    }
   ],
   "source": [
    "instance1 != instance2"
   ]
  },
  {
   "cell_type": "code",
   "execution_count": 43,
   "id": "8cc1dc84-1875-48c7-8abb-b76734a6e762",
   "metadata": {},
   "outputs": [
    {
     "ename": "TypeError",
     "evalue": "'>' not supported between instances of 'object' and 'object'",
     "output_type": "error",
     "traceback": [
      "\u001b[1;31m---------------------------------------------------------------------------\u001b[0m",
      "\u001b[1;31mTypeError\u001b[0m                                 Traceback (most recent call last)",
      "\u001b[1;32m~\\AppData\\Local\\Temp\\ipykernel_16740\\1409866021.py\u001b[0m in \u001b[0;36m<cell line: 1>\u001b[1;34m()\u001b[0m\n\u001b[1;32m----> 1\u001b[1;33m \u001b[0minstance1\u001b[0m \u001b[1;33m>\u001b[0m \u001b[0minstance2\u001b[0m\u001b[1;33m\u001b[0m\u001b[1;33m\u001b[0m\u001b[0m\n\u001b[0m",
      "\u001b[1;31mTypeError\u001b[0m: '>' not supported between instances of 'object' and 'object'"
     ]
    }
   ],
   "source": [
    "instance1 > instance2"
   ]
  },
  {
   "cell_type": "code",
   "execution_count": 44,
   "id": "7a25c9a7-3ea0-4007-998a-61cbdeb51a29",
   "metadata": {},
   "outputs": [
    {
     "ename": "TypeError",
     "evalue": "unsupported operand type(s) for +: 'object' and 'object'",
     "output_type": "error",
     "traceback": [
      "\u001b[1;31m---------------------------------------------------------------------------\u001b[0m",
      "\u001b[1;31mTypeError\u001b[0m                                 Traceback (most recent call last)",
      "\u001b[1;32m~\\AppData\\Local\\Temp\\ipykernel_16740\\65867085.py\u001b[0m in \u001b[0;36m<cell line: 1>\u001b[1;34m()\u001b[0m\n\u001b[1;32m----> 1\u001b[1;33m \u001b[0minstance1\u001b[0m \u001b[1;33m+\u001b[0m \u001b[0minstance2\u001b[0m\u001b[1;33m\u001b[0m\u001b[1;33m\u001b[0m\u001b[0m\n\u001b[0m",
      "\u001b[1;31mTypeError\u001b[0m: unsupported operand type(s) for +: 'object' and 'object'"
     ]
    }
   ],
   "source": [
    "instance1 + instance2"
   ]
  },
  {
   "cell_type": "code",
   "execution_count": 45,
   "id": "fc7baaef-8742-4e91-a496-451715822652",
   "metadata": {},
   "outputs": [],
   "source": [
    "class EmptyEmpty(object):\n",
    "   pass\n",
    "   \n",
    "   "
   ]
  },
  {
   "cell_type": "code",
   "execution_count": 46,
   "id": "1ff07b46-eec6-4f4c-9d29-0df7507b3352",
   "metadata": {},
   "outputs": [],
   "source": [
    "instance = EmptyEmpty()"
   ]
  },
  {
   "cell_type": "code",
   "execution_count": 47,
   "id": "d18ef84b-cb5e-4d52-ae16-952be5750ada",
   "metadata": {},
   "outputs": [
    {
     "data": {
      "text/plain": [
       "<__main__.EmptyEmpty at 0x189b142aad0>"
      ]
     },
     "execution_count": 47,
     "metadata": {},
     "output_type": "execute_result"
    }
   ],
   "source": [
    "instance"
   ]
  },
  {
   "cell_type": "code",
   "execution_count": 48,
   "id": "7757b9b1-0f36-4d03-b86e-afcf2f2ee38e",
   "metadata": {},
   "outputs": [
    {
     "name": "stdout",
     "output_type": "stream",
     "text": [
      "<__main__.EmptyEmpty object at 0x00000189B142AAD0>\n"
     ]
    }
   ],
   "source": [
    "print(instance)"
   ]
  },
  {
   "cell_type": "code",
   "execution_count": 49,
   "id": "55926036-6063-48eb-a29b-fadfda5e8872",
   "metadata": {},
   "outputs": [
    {
     "data": {
      "text/plain": [
       "['__class__',\n",
       " '__delattr__',\n",
       " '__dict__',\n",
       " '__dir__',\n",
       " '__doc__',\n",
       " '__eq__',\n",
       " '__format__',\n",
       " '__ge__',\n",
       " '__getattribute__',\n",
       " '__gt__',\n",
       " '__hash__',\n",
       " '__init__',\n",
       " '__init_subclass__',\n",
       " '__le__',\n",
       " '__lt__',\n",
       " '__module__',\n",
       " '__ne__',\n",
       " '__new__',\n",
       " '__reduce__',\n",
       " '__reduce_ex__',\n",
       " '__repr__',\n",
       " '__setattr__',\n",
       " '__sizeof__',\n",
       " '__str__',\n",
       " '__subclasshook__',\n",
       " '__weakref__']"
      ]
     },
     "execution_count": 49,
     "metadata": {},
     "output_type": "execute_result"
    }
   ],
   "source": [
    "dir(instance)"
   ]
  },
  {
   "cell_type": "code",
   "execution_count": 50,
   "id": "1b5cf1cc-71b5-4118-8eb2-d341b8552ae7",
   "metadata": {},
   "outputs": [
    {
     "ename": "NameError",
     "evalue": "name 'self' is not defined",
     "output_type": "error",
     "traceback": [
      "\u001b[1;31m---------------------------------------------------------------------------\u001b[0m",
      "\u001b[1;31mNameError\u001b[0m                                 Traceback (most recent call last)",
      "\u001b[1;32m~\\AppData\\Local\\Temp\\ipykernel_16740\\231621141.py\u001b[0m in \u001b[0;36m<cell line: 1>\u001b[1;34m()\u001b[0m\n\u001b[1;32m----> 1\u001b[1;33m \u001b[1;32mclass\u001b[0m \u001b[0mTestClass\u001b[0m\u001b[1;33m(\u001b[0m\u001b[0mobject\u001b[0m\u001b[1;33m)\u001b[0m\u001b[1;33m:\u001b[0m\u001b[1;33m\u001b[0m\u001b[1;33m\u001b[0m\u001b[0m\n\u001b[0m\u001b[0;32m      2\u001b[0m    \u001b[1;32mdef\u001b[0m \u001b[0mfunction1\u001b[0m\u001b[1;33m(\u001b[0m\u001b[0mself\u001b[0m\u001b[1;33m,\u001b[0m \u001b[1;33m*\u001b[0m\u001b[0margs\u001b[0m\u001b[1;33m,\u001b[0m \u001b[1;33m**\u001b[0m\u001b[0mkwargs\u001b[0m\u001b[1;33m)\u001b[0m\u001b[1;33m:\u001b[0m\u001b[1;33m\u001b[0m\u001b[1;33m\u001b[0m\u001b[0m\n\u001b[0;32m      3\u001b[0m        \u001b[1;32mreturn\u001b[0m \u001b[1;32mNone\u001b[0m\u001b[1;33m\u001b[0m\u001b[1;33m\u001b[0m\u001b[0m\n\u001b[0;32m      4\u001b[0m \u001b[1;33m\u001b[0m\u001b[0m\n\u001b[0;32m      5\u001b[0m \u001b[1;33m\u001b[0m\u001b[0m\n",
      "\u001b[1;32m~\\AppData\\Local\\Temp\\ipykernel_16740\\231621141.py\u001b[0m in \u001b[0;36mTestClass\u001b[1;34m()\u001b[0m\n\u001b[0;32m     16\u001b[0m \u001b[1;33m\u001b[0m\u001b[0m\n\u001b[0;32m     17\u001b[0m \u001b[1;33m\u001b[0m\u001b[0m\n\u001b[1;32m---> 18\u001b[1;33m    \u001b[0mself\u001b[0m\u001b[1;33m.\u001b[0m\u001b[0mvar1\u001b[0m \u001b[1;33m=\u001b[0m \u001b[1;36m1\u001b[0m\u001b[1;33m\u001b[0m\u001b[1;33m\u001b[0m\u001b[0m\n\u001b[0m\u001b[0;32m     19\u001b[0m \u001b[1;33m\u001b[0m\u001b[0m\n\u001b[0;32m     20\u001b[0m    \u001b[0mself\u001b[0m\u001b[1;33m.\u001b[0m\u001b[0mvar2\u001b[0m \u001b[1;33m=\u001b[0m \u001b[1;36m2\u001b[0m\u001b[1;33m\u001b[0m\u001b[1;33m\u001b[0m\u001b[0m\n",
      "\u001b[1;31mNameError\u001b[0m: name 'self' is not defined"
     ]
    }
   ],
   "source": [
    "class TestClass(object):\n",
    "   def function1(self, *args, **kwargs):\n",
    "       return None\n",
    "       \n",
    "       \n",
    "   def function2(self, *args, **kwargs):    \n",
    "       return None\n",
    "       \n",
    "       \n",
    "   def function3(self, *args, **kwargs):    \n",
    "       return None\n",
    "       \n",
    "       \n",
    "   def function4(self, *args, **kwargs):    \n",
    "       return None\n",
    "       \n",
    "       \n",
    "   self.var1 = 1\n",
    "   \n",
    "   self.var2 = 2\n",
    "   \n",
    "   self.var3 = 3\n",
    "   \n",
    "   self.var4 = 4\n",
    "   \n",
    "   "
   ]
  },
  {
   "cell_type": "code",
   "execution_count": 58,
   "id": "59d7f180-160a-4b7b-b784-23a5557c0684",
   "metadata": {},
   "outputs": [],
   "source": [
    "class TestClass(object):\n",
    "    def function1(self, *args, **kwargs):\n",
    "        return None\n",
    "       \n",
    "       \n",
    "    def function2(self, *args, **kwargs):    \n",
    "        return None\n",
    "       \n",
    "       \n",
    "    def function3(self, *args, **kwargs):    \n",
    "        return None\n",
    "       \n",
    "       \n",
    "    def function4(self, *args, **kwargs):    \n",
    "        return None\n",
    "       \n",
    "        \n",
    "    def create_attributes(self, var1, var2, var3, var4):\n",
    "        self.var1 = value1\n",
    "        self.var2 = value2\n",
    "        self.var3 = value3\n",
    "        self.var4 = value4\n",
    "        return None\n",
    "   \n",
    "   "
   ]
  },
  {
   "cell_type": "code",
   "execution_count": 59,
   "id": "6c02cbcb-3abc-42d5-b92a-bb5acd08d0ce",
   "metadata": {},
   "outputs": [],
   "source": [
    "instance = TestClass()"
   ]
  },
  {
   "cell_type": "code",
   "execution_count": null,
   "id": "ddd68808-527c-4042-bb80-ef8938253940",
   "metadata": {},
   "outputs": [],
   "source": [
    "instance."
   ]
  }
 ],
 "metadata": {
  "kernelspec": {
   "display_name": "Python 3 (ipykernel)",
   "language": "python",
   "name": "python3"
  },
  "language_info": {
   "codemirror_mode": {
    "name": "ipython",
    "version": 3
   },
   "file_extension": ".py",
   "mimetype": "text/x-python",
   "name": "python",
   "nbconvert_exporter": "python",
   "pygments_lexer": "ipython3",
   "version": "3.10.6"
  }
 },
 "nbformat": 4,
 "nbformat_minor": 5
}
