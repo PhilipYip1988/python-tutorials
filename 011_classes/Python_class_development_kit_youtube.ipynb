{
 "cells": [
  {
   "cell_type": "markdown",
   "id": "0d65687c-1c29-44e1-8b57-9b6fed3f7433",
   "metadata": {},
   "source": [
    "# Company Name and Elevator Pitch"
   ]
  },
  {
   "cell_type": "markdown",
   "id": "43382493-7ec6-4055-bbc9-b8fa0e4045fc",
   "metadata": {},
   "source": [
    "[YouTube Raymond Hettinger](https://www.youtube.com/watch?v=HTLu2DFOdTg&ab_channel=NextDayVideo)"
   ]
  },
  {
   "cell_type": "markdown",
   "id": "3088aa31-85d7-4d83-b630-b48e0d4a4c31",
   "metadata": {},
   "source": [
    "Docstring. Company name and elevator pitch."
   ]
  },
  {
   "cell_type": "code",
   "execution_count": 1,
   "id": "fbe7dc50-7470-4c72-ae09-f0edca2aa987",
   "metadata": {},
   "outputs": [
    {
     "data": {
      "text/plain": [
       "'\\nCircuitous, LLC - An Advanced Circle analytics Company.\\n'"
      ]
     },
     "execution_count": 1,
     "metadata": {},
     "output_type": "execute_result"
    }
   ],
   "source": [
    "'''\n",
    "Circuitous, LLC - An Advanced Circle analytics Company.\n",
    "'''"
   ]
  },
  {
   "cell_type": "markdown",
   "id": "ef4f1254-8972-48f5-8d14-035044ef8d07",
   "metadata": {},
   "source": [
    "# Start Coding: Circle Class"
   ]
  },
  {
   "cell_type": "code",
   "execution_count": 2,
   "id": "3e37708e-7c84-461d-ba9f-220ab55af42c",
   "metadata": {},
   "outputs": [],
   "source": [
    "class Circle(object):\n",
    "    \"An advanced circle analytic toolkit\""
   ]
  },
  {
   "cell_type": "markdown",
   "id": "36a1896c-1df9-46dd-b1b6-c859f62e6629",
   "metadata": {},
   "source": [
    "object: inherit from object, get some extra technologies that object knows how to do, that old style classes didn't know how to do."
   ]
  },
  {
   "cell_type": "markdown",
   "id": "dc3d9e57-b2a8-4b17-b08d-8c8644eb0b0e",
   "metadata": {},
   "source": [
    "# Initialise Instance Variables"
   ]
  },
  {
   "cell_type": "code",
   "execution_count": 3,
   "id": "1b092402-e4ae-4a6e-9d6a-cfd9ef204c7c",
   "metadata": {},
   "outputs": [],
   "source": [
    "class Circle(object):\n",
    "    \"An advanced circle analytic toolkit\"\n",
    "    \n",
    "    def __init__(self, radius):\n",
    "        self.radius = radius # instance variable\n",
    "        return None\n",
    "    \n",
    "        "
   ]
  },
  {
   "cell_type": "markdown",
   "id": "f3d4d651-46d8-4f0e-8b16-ab55ee3fa7d3",
   "metadata": {},
   "source": [
    "Init isn't a constructor. It's job is to initialise instance variables."
   ]
  },
  {
   "cell_type": "markdown",
   "id": "a767f1d6-a11e-4c9f-942c-333584882e1d",
   "metadata": {},
   "source": [
    "Instance variables are variables where you put the data that you need for each instance.\n",
    "\n",
    "If you have anything that is not unique to an instance, it doesn't belong in an instance variable."
   ]
  },
  {
   "cell_type": "markdown",
   "id": "d62d6055-6ff6-41e3-b1de-96ba4d3b1b5d",
   "metadata": {},
   "source": [
    "```self``` is your instance. It is already made by the time the ```__init__``` method is made. It is calling the class, that makes the instance. So ```__init__```, is often improperly represented as a constructor. It's not, its an initialiser and it takes an existing instance ```self``` and it populates it and takes the radius and stores it in a dictionary. The goal of an instance variable is to get the data unique to an instance. The goal of ```__init__``` is to populate that instance."
   ]
  },
  {
   "cell_type": "code",
   "execution_count": 4,
   "id": "612822a5-ff53-4ba7-8baa-ebfc503c43fe",
   "metadata": {},
   "outputs": [],
   "source": [
    "class Circle(object):\n",
    "    \"An advanced circle analytic toolkit\"\n",
    "    \n",
    "    def __init__(self, radius):\n",
    "        self.radius = radius # instance variable\n",
    "        return None\n",
    "        \n",
    "    \n",
    "    def area(self):\n",
    "        \"Perform quadrature on a shape of uniform radius\"\n",
    "        return 3.14 * self.radius ** 2.0"
   ]
  },
  {
   "cell_type": "markdown",
   "id": "e2ef7a53-1312-4cbb-b4ac-259300094c08",
   "metadata": {},
   "source": [
    "Next up is a regular old method. You can thell this is a regular method because this argument is ```self```.\n",
    "\n",
    "Whenever I'm teaching Python one of the first questions is why does it have to be ```self```? It doesn't have to be ```self```, it could be ```this```, it could be the letter ```S```. Why do we use ```self```, because it's a cultural norm and you want your Python to look like Python to other Python programmers but you could use any variable you want. \n",
    "\n",
    "Why even require us to put ```self``` shouldn't it be implicit and in some lanuages it is? I think this was an accidentally good design, my understanding is that he spent three months building the language with modules and functions and got it working fairly well but it wasn't all object orientated. He used up all his vacation and then later he's like oh I need to add in objects I believe it was dine in one day. What he did was, he indented all of the deaths, he took the functions that he already had and ran them in their own namespace. class is a namespace, if you actually cut the code and stick it in a seperate module and import it, it looks remarkably like the class dictionary. How many of you knew that what's inside is effectively a module? Did you know I can put print statements in the class definition and when you define the class it'll print, you can put for loops in there, you can actually alongside the defs, open and close files. Unbelieveable! This is against the rules in Java and C++, it's not Java and C++ just saying. So the way the class works is the defintions run as if they were in their own module and then the module dictionary becomes the class dictionary. \n",
    "\n",
    "And so the way I believe that Python was originally designed is that the functions were indented and stored on the class dictionary. A way to get to them was required and so the only programming that was necessary for that one day was to program the dot, the dotted lookup will reach inside of the class, find the function and take the first argument and fill in ```self``` for you. "
   ]
  },
  {
   "cell_type": "markdown",
   "id": "1e27aa23-2c80-4d15-840f-52c0f7798ae0",
   "metadata": {},
   "source": [
    "# Modules for Coder"
   ]
  },
  {
   "cell_type": "markdown",
   "id": "560cf61b-5520-423b-87cb-0895f0157eef",
   "metadata": {},
   "source": [
    "Hey what's going on with this 3.14? it's a magic number it's a right, just tuck it in. Are we doing things the right way? No that's not advanced circle technology, we should use reusable components. Let's ```import``` ```from``` ```math``` and use ```math.pi```. In what ways is that better? One it makes sure we are goign to sue the same ```pi``` throughout our code, it's maximising code reuse but is ```pi``` a constant? How about it's a variable that never changes, there's actually a difference if you run this code on an old version of Python you'll get a 32-bit version of ```pi``` if you run it on a modern Python, you'll get a 64-bit version of ```pi``` and if you take the same program and upload it to a cray, it'll run out to a 128-bit version of ```pi```. Your program will self-adapt when you do things like this."
   ]
  },
  {
   "cell_type": "code",
   "execution_count": 5,
   "id": "1c34fabd-8c12-47e7-a795-2b46a5bb826b",
   "metadata": {},
   "outputs": [],
   "source": [
    "import math\n",
    "\n",
    "class Circle(object):\n",
    "    \"An advanced circle analytic toolkit\"\n",
    "    \n",
    "    def __init__(self, radius):\n",
    "        self.radius = radius # instance variable\n",
    "        return None\n",
    "        \n",
    "    \n",
    "    def area(self):\n",
    "        \"Perform quadrature on a shape of uniform radius\"\n",
    "        return math.pi * self.radius ** 2.0"
   ]
  },
  {
   "cell_type": "markdown",
   "id": "a2042da1-f896-4803-90dc-ae4d16294fed",
   "metadata": {},
   "source": [
    "All right, so modules for code reuse. Has this started out so darn basic you can't believe it you've only learned one new thing, which was that what runs inside is effectively its own module we'll go to new and exciting places, by the way, does this code work? Yeah it's a simple enough class. What are we going to do next? We've done an area for a circle, what should we put in? A perimeter sounds nice, how about a color, how about a secant, how about an inscribed Pentagon? You're going to need all of those things right? What's yagni stand for, you ain't going to need it. So yagni is something people used to toss around, is just a random acronymn but now it's part of the religion. The religion of laean start-up says don't put load down on your product initially, with a whole bunch of featires. All you're doing is spending your investors money without knowing whether the clients actually want the features. So part of the discipline is to stop throwing mountains of stuff into your classes. Start with a minimal possible. The moreyou throw in, the less agile you get. Should we throw in a whole bunch of things right now and give up our agility? No what should you do? Commit push and that's the agile part of it. The lean startup part of it is, I have MVP Minimum Viable Product. You ship the product, if it is not enough to check it in, you have to stick it in a customers hands early on to get some feedback, perhaps they don't need those stinking circles. It's Just saying. "
   ]
  },
  {
   "cell_type": "markdown",
   "id": "602129be-ce71-46d2-88b6-e9d5fb125c6f",
   "metadata": {},
   "source": [
    "# Class Variables for Shared Data"
   ]
  },
  {
   "cell_type": "markdown",
   "id": "391d6c66-b9ac-454a-9c97-1b07e249b963",
   "metadata": {},
   "source": [
    "Oh shared data, we didn't put a version number on all the instances. All the instances share the same version number. We use class variables for that. Notice the instance variable is a stored in an ```__init__```. Remember the job of the job of the intiialiser is to populate the empty instance but a class variable shares the data so version is shared across all instances. Should you put shared data at the class level or the instance level? Class level. "
   ]
  },
  {
   "cell_type": "code",
   "execution_count": 6,
   "id": "1203d0b0-a0cd-4b37-985f-301cf94a8d87",
   "metadata": {},
   "outputs": [],
   "source": [
    "import math\n",
    "\n",
    "class Circle(object):\n",
    "    \"An advanced circle analytic toolkit\"\n",
    "    \n",
    "    version = \"0.1\" # class variable\n",
    "    \n",
    "    def __init__(self, radius):\n",
    "        self.radius = radius # instance variable\n",
    "        return None\n",
    "        \n",
    "    \n",
    "    def area(self):\n",
    "        \"Perform quadrature on a shape of uniform radius\"\n",
    "        return math.pi * self.radius ** 2.0"
   ]
  },
  {
   "cell_type": "markdown",
   "id": "f2c593d5-f227-4053-82fc-aad674e37693",
   "metadata": {},
   "source": [
    "My version number I put it in quotes, that makes it a string. Why didn't I do a floating point number? Is version 0.8 + 0.1 equal to 0.9? Yeah, if you haven't had any bad experience with binary floating point numbers someday you will. In the meantime strings work really well, they are easy to parse, another common way to do the version numbers is with tupoles but it allows some of the exact comparisons a little learning point here, don't use flaoting point numbers for your version numbers. Just saying."
   ]
  },
  {
   "cell_type": "markdown",
   "id": "1b5faeb0-49ca-4976-a39c-73b20109885e",
   "metadata": {},
   "source": [
    "I print out the clients documentation for this thing and they say they're are at version 0.1 oooo 1. What does that tell you about the quality of the code. Use strings."
   ]
  },
  {
   "cell_type": "markdown",
   "id": "f04af956-bd73-4428-a28c-2ba33ebe95a5",
   "metadata": {},
   "source": [
    "# Minimum Viable Product: Ship It!"
   ]
  },
  {
   "cell_type": "markdown",
   "id": "d4d63189-2918-4b9a-9efb-ff3858b14574",
   "metadata": {},
   "source": [
    "Alright so we have Minimum Viable Product. What do we do, ship it? So we'll print up a tutorial how to use our class."
   ]
  },
  {
   "cell_type": "code",
   "execution_count": 7,
   "id": "1b5a0ec9-bc0f-4d08-9211-ec1e2c6dd5f8",
   "metadata": {},
   "outputs": [
    {
     "name": "stdout",
     "output_type": "stream",
     "text": [
      "Circuitous version 0.1\n",
      "A circle has radius 10\n",
      "has an area of 314.1592653589793\n",
      "\n"
     ]
    }
   ],
   "source": [
    "print(f\"Circuitous version {Circle.version}\")\n",
    "c = Circle(10)\n",
    "print(f\"A circle has radius {c.radius}\")\n",
    "print(f\"has an area of {c.area()}\")\n",
    "print()"
   ]
  },
  {
   "cell_type": "markdown",
   "id": "cfcd405b-5b14-4099-817c-2bf024e1d90e",
   "metadata": {},
   "source": [
    "We've annouced our circuitous, we can lookup our class variable. We can make an instance by calling the class and we can look up an attribute radius and we have have a method area. What more could a person want right?\n",
    "\n",
    "Shift it out the door and we have to put it in the hands of some people who can use it because your customers inform you in a way that you can't be informed otherwise. If you don't have customers, stick it in the hands of some other user. Every new user will stretch it in a different way. "
   ]
  },
  {
   "cell_type": "markdown",
   "id": "d1277453-f02d-468e-8f79-8d2737b23552",
   "metadata": {},
   "source": [
    "# First Customer: Academia"
   ]
  },
  {
   "cell_type": "markdown",
   "id": "480345cc-a505-45d2-a856-a028d442becb",
   "metadata": {},
   "source": [
    "User number one was, no-one would pay for this but our friends back in academia they want our software and they use it in an uh, intersting way. Their goal is to make a research grant proposal to compute the average area of random circles. They are starting in their proposal with n=10 but their hope if they get a darpa grant they will never have to graduate and can stay in school forever, not either getting a real job or doing a start-up, making they very happy. The suprise fo us is that they used an n=10, you're like wow, when we made this we thought of only one or two circles. These guys may make lots of them. So one thing to anticpate for how people use your classes, is possibily they are going to make many, many instances and these guys are fully exercisign the API, taking a look at the radius and making the area call and using a random generation plus it gives me a chance to show off list comprehensions. "
   ]
  },
  {
   "cell_type": "code",
   "execution_count": 8,
   "id": "a4ba7d6e-7f0d-4c47-81e7-1a467823fb3e",
   "metadata": {},
   "outputs": [
    {
     "name": "stdout",
     "output_type": "stream",
     "text": [
      "Circuitous version(tm), 0.1\n",
      "The average area of, 10 random circles\n",
      "is 1.0\n",
      "\n"
     ]
    }
   ],
   "source": [
    "from random import random, seed\n",
    "\n",
    "seed(8675309)\n",
    "print(f\"Circuitous version(tm), {Circle.version}\")\n",
    "n = 10\n",
    "circles = [Circle(random()) for i in range(n)]\n",
    "print(f\"The average area of, {n} random circles\")\n",
    "avg = sum([c.area() for c in circles]) / n\n",
    "print(f\"is {avg:.1f}\")\n",
    "print()"
   ]
  },
  {
   "cell_type": "markdown",
   "id": "e1001b38-35f6-4420-8af8-1590d07dc1c4",
   "metadata": {},
   "source": [
    "Why did these guys seed the random number generator? Reproducabile results, oh that's a new feature in science how often do you get that? "
   ]
  },
  {
   "cell_type": "markdown",
   "id": "7d3752b9-7e3e-49d3-9531-31da5b7fcc23",
   "metadata": {},
   "source": [
    "# Second Customer: Rubber Sheet Company (Exposed Attribute)"
   ]
  },
  {
   "cell_type": "markdown",
   "id": "72ddb047-d78f-4c46-b5d4-bb72c3ac0bcd",
   "metadata": {},
   "source": [
    "Okay so the next customer is the rubber sheet company but they have a special request, they want a perimeter method. Is now a good time to add it? Yes there is a known use case. \n",
    "\n",
    "Until the customer requests or demonstrates use cases for a feature, show restraint from putting it in. Ship the product they need and can use, instead of adding 500 things that prevent the customer from finding the 3-4 things they need. Restraint is important for your customers as well as yourself. Too many features is a bad thing, in addition to losing your agility. "
   ]
  },
  {
   "cell_type": "code",
   "execution_count": 9,
   "id": "16042ad8-ffb1-4b20-86b3-48bd2bc5313b",
   "metadata": {},
   "outputs": [],
   "source": [
    "import math\n",
    "\n",
    "class Circle(object):\n",
    "    \"An advanced circle analytic toolkit\"\n",
    "    \n",
    "    version = \"0.2\" \n",
    "    \n",
    "    def __init__(self, radius):\n",
    "        self.radius = radius \n",
    "        return None\n",
    "        \n",
    "    \n",
    "    def area(self):\n",
    "        \"Perform quadrature on a shape of uniform radius\"\n",
    "        return math.pi * self.radius ** 2.0\n",
    "    \n",
    "    \n",
    "    def perimeter(self):\n",
    "        return 2.0 * math.pi * self.radius\n",
    "    \n",
    "    "
   ]
  },
  {
   "cell_type": "markdown",
   "id": "7f252a4e-df94-4d6f-a981-aca57996f5e8",
   "metadata": {},
   "source": [
    "So now we put in the perimeter, and these guys go to use it, and here's their code."
   ]
  },
  {
   "cell_type": "code",
   "execution_count": 10,
   "id": "4d49a373-36b3-45c1-b780-26ce8acb64e5",
   "metadata": {},
   "outputs": [
    {
     "name": "stdout",
     "output_type": "stream",
     "text": [
      "A circle with a radius of 0.1\n",
      "has a perimeter of 0.63\n",
      "and a cold area of 0.03\n",
      "and a warm area of 0.04\n",
      "\n",
      "A circle with a radius of 0.7\n",
      "has a perimeter of 4.40\n",
      "and a cold area of 1.54\n",
      "and a warm area of 1.86\n",
      "\n",
      "A circle with a radius of 0.8\n",
      "has a perimeter of 5.03\n",
      "and a cold area of 2.01\n",
      "and a warm area of 2.43\n",
      "\n"
     ]
    }
   ],
   "source": [
    "cuts = [0.1, 0.7, 0.8]\n",
    "circles = [Circle(r) for r in cuts]\n",
    "for c in circles:\n",
    "    print(f\"A circle with a radius of {c.radius}\")\n",
    "    print(f\"has a perimeter of {c.perimeter():0.2f}\")\n",
    "    print(f\"and a cold area of {c.area():0.2f}\")\n",
    "    c.radius *= 1.1\n",
    "    print(f\"and a warm area of {c.area():0.2f}\")\n",
    "    print()"
   ]
  },
  {
   "cell_type": "markdown",
   "id": "007b35ce-ad61-42c7-a7a4-0298d067d342",
   "metadata": {},
   "source": [
    "They actually cut several holes in one rubber sheet, so one rubber sheet has three cuts in it and they make three circles and they print them out and they said they had a colde area. What is all of this about? Well it turns out when you take rubber and heat it up, it stretches. So they did something we didn't expect, they changed the radius. After they changed the radius for the expansion of the rubber sheet, they recompute the area while warm. Was this an anticipated use case? No, I think it's hard to see this one coming basically if you expose an attribute, expect a user to do all kinds of itneresting things with it. If it's variable, it will change sooner or later. It is not a constant, in this case the radius of a circle was not constant during creation. How do you guys feel about exposing the radius at the time, so that the customers can both look at it and modify it? Who feels icky about that? Ah all of my Java and C++ programmers feel icky about it. Why? Because there is an ironclad rule in the Java and C++ rule and most other object-orientated language and that ironclad rule that you must follow is do not expose your attributes. What should you do instead? getter and setter methods, people don't get to access methods, but what would that do to our poor client. Look at this line here ```c.radius *= 1.1```, what would it have to turn into? They would have to do a ```c.getradius*1.1``` take the result of that and call ```c.set_radius()```. Isn't that awful looking code? It made our customers suffer for it. So let's just do things the Python way and the Pyton way is consenting adults language, leaving all the doors unlocked and hey we'll just risk whatever happens to us. Remember there's no private and protected in Python. How do feel about exposing your attributes? In Python, its common and normal. When you go back to the other languages, it's not common and normal and you absolutely must not expose your attributes because if you need to change the underlying implementation at some point, you are absolutely toast. You are locked into your client code and can't change. In Python do you expose your attributes. Yes. In other languages do you. Absolutely not. Different rules, don't let people impose Java rules when they are coding in Python and vice-versa, it is a common fault that people who get good at one language and check the rules of that language into another, these are completely different animals."
   ]
  },
  {
   "cell_type": "markdown",
   "id": "6bb29f74-b8bc-4887-823e-cc27564ffdab",
   "metadata": {},
   "source": [
    "# Third Customer: National Tyre Chain (SubClass)"
   ]
  },
  {
   "cell_type": "markdown",
   "id": "447c63f8-0516-4e5c-80f4-ee48dbcf2b59",
   "metadata": {},
   "source": [
    "So the third customer is a national tyre chain, and they need a customisation, they track their tyres by an inner radius, they are very interested in the inner area of a tyre but when you put a rubber on top of it its circumferance changes and they need to know the odometer so they can do accurate statistics. So they need the perimeter to do something different. How do customers commonly change your functionality. They do it through subclassing. Most people who write classes don't spend time thinking about how subclassers will use their code. \n",
    "So we're going to see a subclasser do that, they are over a sub classing tyre overriding a perimeter. "
   ]
  },
  {
   "cell_type": "code",
   "execution_count": 11,
   "id": "4a88e8c4-add2-48b2-afed-a8ad35cafe80",
   "metadata": {},
   "outputs": [],
   "source": [
    "class Tyre(Circle):\n",
    "    \"Tyres are circles with a corrected perimeter\"\n",
    "    \n",
    "    \n",
    "    def perimeter(self):\n",
    "        return Circle.perimeter(self) * 1.25\n",
    "    \n"
   ]
  },
  {
   "cell_type": "code",
   "execution_count": 12,
   "id": "86a3e929-cc68-4b8d-8fa1-ef3c8ee365f8",
   "metadata": {},
   "outputs": [
    {
     "name": "stdout",
     "output_type": "stream",
     "text": [
      "A tyre or radius 22\n",
      "has an inner area of 1520.53\n",
      "and an odometer corrected perimeter of 172.79\n",
      "\n"
     ]
    }
   ],
   "source": [
    "t = Tyre(22)\n",
    "print(f\"A tyre or radius {t.radius}\")\n",
    "print(f\"has an inner area of {t.area():0.2f}\")\n",
    "print(f\"and an odometer corrected perimeter of {t.perimeter():0.2f}\")\n",
    "print()"
   ]
  },
  {
   "cell_type": "markdown",
   "id": "85d8dc5f-78fb-4360-8098-5f5b43310c84",
   "metadata": {},
   "source": [
    "When they call ```Tyre(22)``` what method gets called? ```__init__```. Do you see a ```__init__``` here? No it goes up and borrows the one from the parent method. When they call ```area```, it looks first in ```Tyre``` and then the ```Circle``` class, that's a parent but when we look at ```perimeter``` it looks first in ```Tyre``` and this is the ```perimeter``` that gets called. Now does the parent get called at all. Yes, we actually refer to it inside our perimeter, so we've intercepted the call and call our parent. If the parent eventually gets called, this action is called extending. If the parent doesn't get called, this action is called overriding. So we extend the parents methof, we let them the parent computer the perimeter and then we scale it up by 25% for the rubber. This is common and normal. You should expect every class you write. Somebody's going to subclass it and do something horrifying to one of your methods. Just saying, expect it. Is this common in the software field? Absolutely, you have no idea what people are going to do with your code, when you publish it."
   ]
  },
  {
   "cell_type": "markdown",
   "id": "6f4a28b1-e9f1-4381-81ba-418789e5f0d1",
   "metadata": {},
   "source": [
    "# Fourth Customer: National Graphics Company (Alternative Constructor)"
   ]
  },
  {
   "cell_type": "markdown",
   "id": "f0cc362a-6596-4f67-87f7-d0aea1098fde",
   "metadata": {},
   "source": [
    "Okay the next company is a national graphics like company. They change the rules of the game a little bit, they are not going to take our product right out of the box they're going to have custom needs. In fact they have many suppliers, they have a circle supplier, a square supplier, a triangle supplier, a pentagon supplier and a cross supplier and they don't want a different interface to each of them. So what they need is a converter method because all they are interested in as a bounding box of the shape that's how the graphic company manipulates shapes. The properties like radius are something that applies to a particular shape. So they need something that will take their bounding box diagnonal and convert it to a radius. Is this a fun way to interact with our class? No it's tough for the client they have to use a converter function everwhere. Do I see this sort of thing all the time? Yeah I go from client to client and they provide a published converted and adapter function. "
   ]
  },
  {
   "cell_type": "code",
   "execution_count": 13,
   "id": "a8c121e1-e154-4b71-87a8-f1634a5229c6",
   "metadata": {},
   "outputs": [
    {
     "name": "stdout",
     "output_type": "stream",
     "text": [
      "A circle with a bbd of 25.1\n",
      "has a radius of 8.87\n",
      "and an area of 247.40\n"
     ]
    }
   ],
   "source": [
    "def bbd_to_radius(bbd):\n",
    "    return bbd / 2.0 /math.sqrt(2.0)\n",
    "\n",
    "bbd = 25.1\n",
    "c = Circle(bbd_to_radius(bbd))\n",
    "print(f\"A circle with a bbd of {bbd}\")\n",
    "print(f\"has a radius of {c.radius:0.2f}\")\n",
    "print(f\"and an area of {c.area():0.2f}\")"
   ]
  },
  {
   "cell_type": "markdown",
   "id": "b375ddd2-61ad-4573-b5c1-acb71aea0800",
   "metadata": {},
   "source": [
    "It's not the right way, the API is awkward. What the customer really wants is a different signature. They don't want to have to construct a circle from a radius, they want to construct it from a bounding box diagnonal. This is called a constructor war as constructor wars are typically fought as necessary with customers, they sometimes happen right away when you're first creating a class and when you have a constructor war, several people want different signatures for the constructor, the usual way is decided by who has the most power. Well I'm the leead, we will use bounding box diagnonal. No in this case, the national graphics company is the biggest customer we'll just throw all of our other customers code out the window and destory them, in favour of our new client. You've never seen this happen in real life, right?\n",
    "\n",
    "When you have a constructor war, everyone should get their wish, you should have more than one constructor. If there is a constructor war, people are digging in their positions for a reason, they need that constructor, they shall not be denied. \n",
    "\n",
    "So this is common and normal sure, we do it in Python itself, the one true way of course to make a datetime is year, month and day but perhaps you work with timestamps at which point, that constructor is really awkward, so we give you a second constructor ```fromtimestamp``` that will convert this timestamp into a day. Some of you just like to count the days from the beginning of the Gregorian apocalyptic calendar, so you can use the days from that beginning of time to compute the ordinal. Or you can just ask for now. These are four different constructors from datetime. Now kind of speaks for itself, but the preposition here is typical in alternative constructors. ```dict.fromkeys``` is an alternative constructor to constructs a dictionary from a list of keys. "
   ]
  },
  {
   "cell_type": "code",
   "execution_count": 14,
   "id": "337c0249-2b43-4386-9e41-fb3673a1896c",
   "metadata": {},
   "outputs": [],
   "source": [
    "import datetime"
   ]
  },
  {
   "cell_type": "code",
   "execution_count": 15,
   "id": "bd6d50b1-95eb-4320-8408-45dd5bc16f3c",
   "metadata": {},
   "outputs": [
    {
     "data": {
      "text/plain": [
       "datetime.datetime(2013, 3, 16, 0, 0)"
      ]
     },
     "execution_count": 15,
     "metadata": {},
     "output_type": "execute_result"
    }
   ],
   "source": [
    "datetime.datetime(2013, 3, 16)"
   ]
  },
  {
   "cell_type": "code",
   "execution_count": 16,
   "id": "5cf446a5-29a2-4ac6-beee-542113d48d68",
   "metadata": {},
   "outputs": [
    {
     "data": {
      "text/plain": [
       "datetime.datetime(2370, 5, 8, 23, 56, 1)"
      ]
     },
     "execution_count": 16,
     "metadata": {},
     "output_type": "execute_result"
    }
   ],
   "source": [
    "datetime.datetime.fromtimestamp(12633836161)"
   ]
  },
  {
   "cell_type": "code",
   "execution_count": 17,
   "id": "b8266518-957d-4f88-a1e6-538955bf71cc",
   "metadata": {},
   "outputs": [
    {
     "data": {
      "text/plain": [
       "datetime.datetime(2010, 8, 16, 0, 0)"
      ]
     },
     "execution_count": 17,
     "metadata": {},
     "output_type": "execute_result"
    }
   ],
   "source": [
    "datetime.datetime.fromordinal(734000)"
   ]
  },
  {
   "cell_type": "code",
   "execution_count": 18,
   "id": "16f4f4b6-28c1-41d3-b30d-ccb214be5bd0",
   "metadata": {},
   "outputs": [
    {
     "data": {
      "text/plain": [
       "datetime.datetime(2022, 10, 10, 0, 31, 31, 664129)"
      ]
     },
     "execution_count": 18,
     "metadata": {},
     "output_type": "execute_result"
    }
   ],
   "source": [
    "datetime.datetime.now()"
   ]
  },
  {
   "cell_type": "code",
   "execution_count": 19,
   "id": "c37c3679-9c5c-4574-8c73-6da046938c97",
   "metadata": {},
   "outputs": [
    {
     "data": {
      "text/plain": [
       "{'raymond': None, 'rachel': None, 'matthew': None}"
      ]
     },
     "execution_count": 19,
     "metadata": {},
     "output_type": "execute_result"
    }
   ],
   "source": [
    "dict.fromkeys([\"raymond\", \"rachel\", \"matthew\"])"
   ]
  },
  {
   "cell_type": "markdown",
   "id": "b4a042e5-0ef0-4c54-ae3f-a27f7bb983fa",
   "metadata": {},
   "source": [
    "# Class Methods to Create alternative Constructors"
   ]
  },
  {
   "cell_type": "markdown",
   "id": "77384fdb-d6c5-443d-84fa-1d938877249d",
   "metadata": {},
   "source": [
    "So the solution is whenever people want multiple constructors you should give it to them and don't decide on one over the other. The technique for doing that would be to provide an alternative constructor via a class method. So in this case the class method for the class ```Circle``` we can call ```from_bbd``` and that will convert to a radius and then build a circle. That way a person doesn't need the converter function, they just call the appropriate constructor, just like you would call ```datetime.fromtimestamp```, you can call ```Circle.frombbd``` and it will make a circle instance for you. Yes that is what class methods are for."
   ]
  },
  {
   "cell_type": "code",
   "execution_count": 20,
   "id": "75af5489-05ca-4165-b338-1a87efb225f7",
   "metadata": {},
   "outputs": [],
   "source": [
    "import math\n",
    "\n",
    "class Circle(object):\n",
    "    \"An advanced circle analytic toolkit\"\n",
    "    \n",
    "    version = \"0.3\" \n",
    "    \n",
    "    def __init__(self, radius):\n",
    "        self.radius = radius \n",
    "        return None\n",
    "        \n",
    "    \n",
    "    def area(self):\n",
    "        \"Perform quadrature on a shape of uniform radius\"\n",
    "        return math.pi * self.radius ** 2.0\n",
    "    \n",
    "    \n",
    "    def perimeter(self):\n",
    "        return 2.0 * math.pi * self.radius\n",
    "    \n",
    "    \n",
    "    @classmethod # alternative constructor\n",
    "    def from_bbd(cls, bbd):\n",
    "        \"Construct a circle from a bounding box diagonal\"\n",
    "        radius = bbd / 2.0 /math.sqrt(2.0)\n",
    "        return Circle(radius)\n",
    "    \n",
    "    "
   ]
  },
  {
   "cell_type": "code",
   "execution_count": 21,
   "id": "d650c2fe-61a7-4bc2-bc3b-80aea0178980",
   "metadata": {},
   "outputs": [
    {
     "name": "stdout",
     "output_type": "stream",
     "text": [
      "A circle with a bbd of 25.1\n",
      "has a radius of 8.87\n",
      "and an area of 247.40\n"
     ]
    }
   ],
   "source": [
    "bbd = 25.1\n",
    "c = Circle.from_bbd(bbd)\n",
    "print(f\"A circle with a bbd of {bbd}\")\n",
    "print(f\"has a radius of {c.radius:0.2f}\")\n",
    "print(f\"and an area of {c.area():0.2f}\")"
   ]
  },
  {
   "cell_type": "markdown",
   "id": "c0b85ce6-1aa5-45e3-b8f3-41c66fb840eb",
   "metadata": {},
   "source": [
    "# Alternative Constructors Need to Anticipate Subclassing"
   ]
  },
  {
   "cell_type": "markdown",
   "id": "d596237e-1c23-4178-8372-d03f2f3d4080",
   "metadata": {},
   "source": [
    "What the call ```from_bbd``` is to make an instance from a circle so shouldn't we use ```Circle``` instead of ```cls```? Absolutely, but there is a problem, it works fine for the graphics company, they can call ```Circle.fromm_bbd(25)``` and make themselves a circle but it should also work for subclasses. What about these tyre people, shouldn't they be able to call ```Tyre.from_bbd```? They should, but what our code will currenly do is call ```from_bbd``` which is hardwired to make a circle and not a tyre. It is very common for people to devise classes and never think about their poor subclasses. So we failed to think about the subclasses and what do I need to parameterise a call to know whether I was called from a ```Tyre``` or a ```circle```. If I'm ```from_bbd``` how do I know if I was called from a ```Tyre``` or a ```Circle```? We pass it in as an argument, so a class method says, change the first argument from ```self``` to ```cls```, we need ```cls``` as a parameter, so we know what to construct. I just changed ```Circle``` to ```cls```. "
   ]
  },
  {
   "cell_type": "code",
   "execution_count": 22,
   "id": "f62e9e82-93ec-41e0-bdbf-48137db675b5",
   "metadata": {},
   "outputs": [],
   "source": [
    "class Tyre(Circle):\n",
    "    \"Tyres are circles with a corrected perimeter\"\n",
    "    \n",
    "    \n",
    "    def perimeter(self):\n",
    "        return Circle.perimeter(self) * 1.25\n",
    "    \n"
   ]
  },
  {
   "cell_type": "code",
   "execution_count": 23,
   "id": "138aa911-a29c-4662-9687-b5213d7fc12a",
   "metadata": {},
   "outputs": [
    {
     "name": "stdout",
     "output_type": "stream",
     "text": [
      "A tyre or radius 15.909902576697318\n",
      "has an inner area of 795.22\n",
      "and an odometer corrected perimeter of 99.96\n",
      "\n"
     ]
    }
   ],
   "source": [
    "t = Tyre.from_bbd(45)\n",
    "print(f\"A tyre or radius {t.radius}\")\n",
    "print(f\"has an inner area of {t.area():0.2f}\")\n",
    "print(f\"and an odometer corrected perimeter of {t.perimeter():0.2f}\")\n",
    "print()"
   ]
  },
  {
   "cell_type": "markdown",
   "id": "8c470f3c-afff-4ed5-b9c3-829e99ad9ec0",
   "metadata": {},
   "source": [
    "So the summary here is, when there are constructor wars. Everyone should win, provide the alternative constructors. The technique for doing that is class method, the parameter to it is ```cls```, be sure you use that parameter because it will support subclassing."
   ]
  },
  {
   "cell_type": "markdown",
   "id": "b2a20073-4592-43dd-8c6b-12ec2328aacf",
   "metadata": {},
   "source": [
    "# New Customer Request: Add a Function"
   ]
  },
  {
   "cell_type": "markdown",
   "id": "98edbb5b-37c6-46be-9399-2b0a324cb8fd",
   "metadata": {},
   "source": [
    "New customer request, add a function, the angle to grade is a function that is a trigonmetic function vaguely related to a circle, so it converts the angle to radians, computes the tangent and says that a 5 degree slope is equal to a 8% grade, you know to help the truckers that convert between their tables between what they see on their inclinometer and what they see on their charts which says how good the brakes are going to work. So I put this out to my alpha release amd I hand it out to them and disasters ensue. One thing that happens is some people who were working with sphere classes grabbed our function, because this just sitting out there unrelated to circles does this work for spheres? It does not spherical trigonmetry is different from plain trigonmetry, that's why they call it plain trigonometry. So people were using it inappropriately, the hyperbolic people, well their trigonmetry functions are entirely different, they don't even resemble triangles anymore and more overly can people even find this code? "
   ]
  },
  {
   "cell_type": "code",
   "execution_count": 24,
   "id": "2b820fe7-80f3-4c84-81f7-de01a81c7a44",
   "metadata": {},
   "outputs": [],
   "source": [
    "def angle_to_grade(angle):\n",
    "    \"Convert angle in degree to a percentage grade\"\n",
    "    return math.tan(math.radians(angle)) * 100.0"
   ]
  },
  {
   "cell_type": "markdown",
   "id": "f1f7275d-69d9-43a6-89a8-f3602a4b8bbf",
   "metadata": {},
   "source": [
    "# Move Function to a Regular Method"
   ]
  },
  {
   "cell_type": "markdown",
   "id": "afd2084b-209f-4d13-a0dc-b1ab35409f6c",
   "metadata": {},
   "source": [
    "These circle people, use a ```Circle``` class, they did a ```dir(Circle)``` and couldn't ```angle_to_grade``` anywhere. Why not, because it wasn't in the class. What's the solution? Put it in the class and indent it. We've got a regular method and now when people call it put an instance of circle ```instance.angle_to_grade```, that way the sphere people never call it, the hyperbolic people never call it and the circle people know where to find it. "
   ]
  },
  {
   "cell_type": "code",
   "execution_count": 25,
   "id": "eb08b5cb-9126-4ef2-afce-6d07a8cac925",
   "metadata": {},
   "outputs": [],
   "source": [
    "import math\n",
    "\n",
    "class Circle(object):\n",
    "    \"An advanced circle analytic toolkit\"\n",
    "    \n",
    "    version = \"0.4b\" \n",
    "    \n",
    "    def __init__(self, radius):\n",
    "        self.radius = radius \n",
    "        return None\n",
    "        \n",
    "    \n",
    "    def area(self):\n",
    "        \"Perform quadrature on a shape of uniform radius\"\n",
    "        return math.pi * self.radius ** 2.0\n",
    "    \n",
    "    \n",
    "    def perimeter(self):\n",
    "        return 2.0 * math.pi * self.radius\n",
    "    \n",
    "    \n",
    "    @classmethod # alternative constructor\n",
    "    def from_bbd(cls, bbd):\n",
    "        \"Construct a circle from a bounding box diagonal\"\n",
    "        radius = bbd / 2.0 /math.sqrt(2.0)\n",
    "        return Circle(radius)\n",
    "    \n",
    "    \n",
    "    def angle_to_grade(self, angle):\n",
    "        \"Convert angle in degree to a percentage grade\"\n",
    "        return math.tan(math.radians(angle)) * 100.0\n",
    "    \n",
    "    "
   ]
  },
  {
   "cell_type": "code",
   "execution_count": 26,
   "id": "bf3684ac-36f0-42a5-bf84-dc79b6676c81",
   "metadata": {},
   "outputs": [
    {
     "data": {
      "text/plain": [
       "8.748866352592401"
      ]
     },
     "execution_count": 26,
     "metadata": {},
     "output_type": "execute_result"
    }
   ],
   "source": [
    "circle = Circle(5) # need instance to call method\n",
    "circle.angle_to_grade(5) # call method"
   ]
  },
  {
   "cell_type": "markdown",
   "id": "7ab2c047-006e-4262-b7be-52361a95accf",
   "metadata": {},
   "source": [
    "# Move Function to a Static Method"
   ]
  },
  {
   "cell_type": "markdown",
   "id": "d06192da-a8d6-42f9-9fc6-55cc9bf6cb65",
   "metadata": {},
   "source": [
    "Alot of improvements, there is a problem though; you have to create an instance, just to call a function. A hint that you are doign something wrong, is that we pass in a variable called ```self``` do you see ```self``` used inside? There is nothing in this function that needs to know about an instance of the circle, this is an awkward API to call, and you're wasting a variable. What's the solution? A static method? The purpose of a static method is to attach functions to classes, probably you guys knew that but you couldn't articulate why you would do such a thing. You do it to find the findability of the function and to make sure that people are usign the function in the appropriate context ```Circle.angle_to_grade```. It is not used that often which is why most people don't know what it is for, so if you learn something new, you learn how to articulate its purpose. Why would you put a function in a class? In part because that's where people look for it. You put all the related tools in the toolbox."
   ]
  },
  {
   "cell_type": "markdown",
   "id": "b773c3c3-6326-452e-bb10-5a4c62090962",
   "metadata": {},
   "source": [
    "So here is the trucking company making it's call ```Circle.angle_to_grade```, it's a nice clean call, we didn't have to instantiate first, the correct context is present. People would not use this with spheres and the method is findable."
   ]
  },
  {
   "cell_type": "code",
   "execution_count": 27,
   "id": "cb493e7e-c4dd-41f9-b0de-9a0d7693eea3",
   "metadata": {},
   "outputs": [],
   "source": [
    "import math\n",
    "\n",
    "class Circle(object):\n",
    "    \"An advanced circle analytic toolkit\"\n",
    "    \n",
    "    version = \"0.4c\" \n",
    "    \n",
    "    def __init__(self, radius):\n",
    "        self.radius = radius \n",
    "        return None\n",
    "        \n",
    "    \n",
    "    def area(self):\n",
    "        \"Perform quadrature on a shape of uniform radius\"\n",
    "        return math.pi * self.radius ** 2.0\n",
    "    \n",
    "    \n",
    "    def perimeter(self):\n",
    "        return 2.0 * math.pi * self.radius\n",
    "    \n",
    "    \n",
    "    @classmethod \n",
    "    def from_bbd(cls, bbd):\n",
    "        \"Construct a circle from a bounding box diagonal\"\n",
    "        radius = bbd / 2.0 /math.sqrt(2.0)\n",
    "        return Circle(radius)\n",
    "    \n",
    "    \n",
    "    @staticmethod\n",
    "    def angle_to_grade(angle):\n",
    "        \"Convert angle in degree to a percentage grade\"\n",
    "        return math.tan(math.radians(angle)) * 100.0\n",
    "    \n",
    "    "
   ]
  },
  {
   "cell_type": "code",
   "execution_count": 28,
   "id": "4be03c63-61fd-4b6b-b69a-ccc58fa6a69c",
   "metadata": {},
   "outputs": [
    {
     "data": {
      "text/plain": [
       "8.748866352592401"
      ]
     },
     "execution_count": 28,
     "metadata": {},
     "output_type": "execute_result"
    }
   ],
   "source": [
    "Circle.angle_to_grade(5)"
   ]
  },
  {
   "cell_type": "markdown",
   "id": "c53d6ebf-efac-4b50-9956-5da3c99f5fdd",
   "metadata": {},
   "source": [
    "# Government Request"
   ]
  },
  {
   "cell_type": "markdown",
   "id": "ecfb2d81-e2f2-4c1f-a5b9-bdae6bc8aa28",
   "metadata": {},
   "source": [
    "The government micromanages how the area calculation is carried out using an ISO standard. It requires the calculation to begin with the perimeter and then use this to calculate the radius."
   ]
  },
  {
   "cell_type": "code",
   "execution_count": 29,
   "id": "ea5d3d7d-e10c-46c1-9801-85c310b3c0bc",
   "metadata": {},
   "outputs": [],
   "source": [
    "import math\n",
    "\n",
    "class Circle(object):\n",
    "    \"An advanced circle analytic toolkit\"\n",
    "    \n",
    "    version = \"0.5b\" \n",
    "    \n",
    "    def __init__(self, radius):\n",
    "        self.radius = radius \n",
    "        return None\n",
    "        \n",
    "    \n",
    "    def area(self):\n",
    "        \"Perform quadrature on a shape of uniform radius\"\n",
    "        p = self.perimeter()\n",
    "        r = p / math.pi / 2.0\n",
    "        return math.pi * r ** 2.0\n",
    "    \n",
    "    \n",
    "    def perimeter(self):\n",
    "        return 2.0 * math.pi * self.radius\n",
    "    \n",
    "    \n",
    "    @classmethod \n",
    "    def from_bbd(cls, bbd):\n",
    "        \"Construct a circle from a bounding box diagonal\"\n",
    "        radius = bbd / 2.0 /math.sqrt(2.0)\n",
    "        return Circle(radius)\n",
    "    \n",
    "    \n",
    "    @staticmethod\n",
    "    def angle_to_grade(angle):\n",
    "        \"Convert angle in degree to a percentage grade\"\n",
    "        return math.tan(math.radians(angle)) * 100.0\n",
    "    \n",
    "    "
   ]
  },
  {
   "cell_type": "markdown",
   "id": "326e4ad4-f3a9-4ae1-bcc9-b502a685378d",
   "metadata": {},
   "source": [
    "This simple change works for the government. One of the problems with the variable ```self``` is that it implies that it is you, but it is not you. It is you or your children. Whose code this this change mess up? The ```Tyre``` comapny, they subclassed ```perimeter```. We are not calling our ```perimeter```, we are calling its ```perimeter```. It's ```perimeter``` gets scaled up, so we've now broken their ```area``` method. They should be free to override, any method they want without breaking any of the other methods. Now we just broke their code. "
   ]
  },
  {
   "cell_type": "code",
   "execution_count": 30,
   "id": "b3e9a34e-2312-4e08-b15a-3aa9e31ce48f",
   "metadata": {},
   "outputs": [],
   "source": [
    "class Tyre(Circle):\n",
    "    \"Tyres are circles with a corrected perimeter\"\n",
    "    \n",
    "    \n",
    "    def perimeter(self):\n",
    "        return Circle.perimeter(self) * 1.25\n",
    "    \n"
   ]
  },
  {
   "cell_type": "code",
   "execution_count": 32,
   "id": "14e8dad2-c4b8-4519-9d2f-044b024b42e8",
   "metadata": {},
   "outputs": [
    {
     "name": "stdout",
     "output_type": "stream",
     "text": [
      "A tyre or radius 22\n",
      "has an inner area of 2375.83\n",
      "and an odometer corrected perimeter of 172.79\n",
      "\n"
     ]
    }
   ],
   "source": [
    "t = Tyre(22)\n",
    "print(f\"A tyre or radius {t.radius}\")\n",
    "print(f\"has an inner area of {t.area():0.2f}\")\n",
    "print(f\"and an odometer corrected perimeter of {t.perimeter():0.2f}\")\n",
    "print()"
   ]
  },
  {
   "cell_type": "markdown",
   "id": "51ce6d0d-636e-43eb-b93e-fda3428216cc",
   "metadata": {},
   "source": [
    "# Class Local Reference: Keep a Spare Copy"
   ]
  },
  {
   "cell_type": "markdown",
   "id": "368363cc-f44c-40d8-b6c4-a1d73cae712f",
   "metadata": {},
   "source": [
    "I know what you are thinking, there must be a better way. Our better way is we are going to make a ```_perimeter = perimeter```. We will have a second copy of it. We'll say go ahead and override it, all you want but I'm going to have this ```self._perimeter``` our original copy, that way the subclasser can override and you know what this fixes their code. "
   ]
  },
  {
   "cell_type": "code",
   "execution_count": 61,
   "id": "9732e13a-25be-4952-bc14-e182a2df2856",
   "metadata": {},
   "outputs": [],
   "source": [
    "import math\n",
    "\n",
    "class Circle(object):\n",
    "    \"An advanced circle analytic toolkit\"\n",
    "    \n",
    "    version = \"0.5b\" \n",
    "    \n",
    "    def __init__(self, radius):\n",
    "        self.radius = radius \n",
    "        return None\n",
    "        \n",
    "    \n",
    "    def area(self):\n",
    "        \"Perform quadrature on a shape of uniform radius\"\n",
    "        p = self._perimeter()\n",
    "        r = p / math.pi / 2.0\n",
    "        return math.pi * r ** 2.0\n",
    "    \n",
    "    \n",
    "    def perimeter(self):\n",
    "        return 2.0 * math.pi * self.radius\n",
    "    \n",
    "    \n",
    "    @classmethod \n",
    "    def from_bbd(cls, bbd):\n",
    "        \"Construct a circle from a bounding box diagonal\"\n",
    "        radius = bbd / 2.0 /math.sqrt(2.0)\n",
    "        return Circle(radius)\n",
    "    \n",
    "    \n",
    "    @staticmethod\n",
    "    def angle_to_grade(angle):\n",
    "        \"Convert angle in degree to a percentage grade\"\n",
    "        return math.tan(math.radians(angle)) * 100.0\n",
    "    \n",
    "    \n",
    "    _perimeter = perimeter\n",
    "    \n",
    "    "
   ]
  },
  {
   "cell_type": "code",
   "execution_count": 62,
   "id": "26daeeb0-c12b-447b-8060-b9927b1cb1b2",
   "metadata": {},
   "outputs": [],
   "source": [
    "class Tyre(Circle):\n",
    "    \"Tyres are circles with a corrected perimeter\"\n",
    "    \n",
    "    \n",
    "    def perimeter(self):\n",
    "        return Circle.perimeter(self) * 1.25\n",
    "    \n"
   ]
  },
  {
   "cell_type": "code",
   "execution_count": 63,
   "id": "2796b026-1a0e-44a9-8341-a0395b8c158e",
   "metadata": {},
   "outputs": [
    {
     "name": "stdout",
     "output_type": "stream",
     "text": [
      "A tyre or radius 22\n",
      "has an inner area of 1520.53\n",
      "and an odometer corrected perimeter of 172.79\n",
      "\n"
     ]
    }
   ],
   "source": [
    "t = Tyre(22)\n",
    "print(f\"A tyre or radius {t.radius}\")\n",
    "print(f\"has an inner area of {t.area():0.2f}\")\n",
    "print(f\"and an odometer corrected perimeter of {t.perimeter():0.2f}\")\n",
    "print()"
   ]
  },
  {
   "cell_type": "markdown",
   "id": "ffc9df1b-11f2-484c-956f-1feb56fc39a0",
   "metadata": {},
   "source": [
    "It doesn't seem like a great technique, to keep a copy of something that waives, if you've got the original it seems like a reasonable good idea.\n",
    "\n",
    "But if it's a good idea for you, it's a good idea for them too so they adopt their idea of well we're going to protect our reference here by making another perimeter."
   ]
  },
  {
   "cell_type": "code",
   "execution_count": 64,
   "id": "a9468822-8361-4152-b99f-e94e5562c433",
   "metadata": {},
   "outputs": [],
   "source": [
    "class Tyre(Circle):\n",
    "    \"Tyres are circles with a corrected perimeter\"\n",
    "    \n",
    "    \n",
    "    def perimeter(self):\n",
    "        return Circle.perimeter(self) * 1.25\n",
    "    \n",
    "    \n",
    "    _perimeter = perimeter\n"
   ]
  },
  {
   "cell_type": "markdown",
   "id": "25e739c7-0b8a-4ad9-9398-e46795bfca6d",
   "metadata": {},
   "source": [
    "The intention of the double underscores ```__perimeter``` was not about privacy, the intention was to use it exactly like this. It's actually the opposite of privacy, it's all about freedom. It makes your subclasses free to override any one method without breaking the others. "
   ]
  },
  {
   "cell_type": "code",
   "execution_count": 65,
   "id": "38b4c19e-bba9-4d0b-89a6-baeb54d77e58",
   "metadata": {},
   "outputs": [],
   "source": [
    "import math\n",
    "\n",
    "class Circle(object):\n",
    "    \"An advanced circle analytic toolkit\"\n",
    "    \n",
    "    version = \"0.5b\" \n",
    "    \n",
    "    def __init__(self, radius):\n",
    "        self.radius = radius \n",
    "        return None\n",
    "        \n",
    "    \n",
    "    def area(self):\n",
    "        \"Perform quadrature on a shape of uniform radius\"\n",
    "        p = self._perimeter()\n",
    "        r = p / math.pi / 2.0\n",
    "        return math.pi * r ** 2.0\n",
    "    \n",
    "    \n",
    "    def perimeter(self):\n",
    "        return 2.0 * math.pi * self.radius\n",
    "    \n",
    "    \n",
    "    @classmethod \n",
    "    def from_bbd(cls, bbd):\n",
    "        \"Construct a circle from a bounding box diagonal\"\n",
    "        radius = bbd / 2.0 /math.sqrt(2.0)\n",
    "        return Circle(radius)\n",
    "    \n",
    "    \n",
    "    @staticmethod\n",
    "    def angle_to_grade(angle):\n",
    "        \"Convert angle in degree to a percentage grade\"\n",
    "        return math.tan(math.radians(angle)) * 100.0\n",
    "    \n",
    "    \n",
    "    __perimeter = perimeter\n",
    "    \n",
    "    "
   ]
  },
  {
   "cell_type": "markdown",
   "id": "b9337154-d570-4e3b-85ea-874e87bc49f0",
   "metadata": {},
   "source": [
    "Using ```__perimeter``` will automatically name mangle for you and rename this variable to ```_Circle__perimeter```. \n",
    "\n",
    "If the ```Tyre``` people use the double underscores too it will be renamed ```_Tyre__perimeter```."
   ]
  },
  {
   "cell_type": "code",
   "execution_count": 66,
   "id": "7244d40f-d069-4aa9-9570-80842e6aa64d",
   "metadata": {},
   "outputs": [],
   "source": [
    "class _Tyre(Circle):\n",
    "    \"Tyres are circles with a corrected perimeter\"\n",
    "    \n",
    "    \n",
    "    def perimeter(self):\n",
    "        return Circle.perimeter(self) * 1.25\n",
    "    \n",
    "    \n",
    "    __perimeter = perimeter\n"
   ]
  },
  {
   "cell_type": "markdown",
   "id": "9a0443e8-c4ed-4ec4-b4a3-e9ea9c32d8b1",
   "metadata": {},
   "source": [
    "The purpose of the double underscores is what you call a class local reference. We are making sure that ```self``` actually refers to you. Most of the time ```self``` means you ro your children, but occasionally you need it to be you. People will mistakenly represent this as a way to make thigns private in Python. Is Python about privacy, no it's about consenting adult language. We don't leave the locks on the door. The intention of the double underscores was not about privacy. The intention was to use it exactly like this. It's actually the opposite about privacy it's all about freedom. It makes your subclasses free to override any one method, without breaking the others."
   ]
  },
  {
   "cell_type": "markdown",
   "id": "7aa8d5e7-6f44-4461-bf1c-7b82ee08f8b7",
   "metadata": {},
   "source": [
    "# Government Request 2"
   ]
  },
  {
   "cell_type": "markdown",
   "id": "b2826d3f-e9b6-49f4-8c56-35a999712252",
   "metadata": {},
   "source": [
    "You aren't allowed to store the radius, you must store the diameter instead and you can't have both. What code could this break? It breaks our entire class, we'll have to go in and now we get to keep the API the same. It's how we stored internally the changes, so we can accept the radius in the constructor are the intiializer but we have to store the diamter and then we'll have to change all the functions which use it and all of client code. We are going to destroy all of our clients code by this change, isn't it horrific? What is it that we wish we had done in order to access the instance variable for the radius? What a Java person would do, getters and setters. If we had just done this from the beginning, we would be able to make this change easily now and store the diameter and lookup the diameter. Do you guys understand why now, you never expose your instance variables? There must be a better way. We're sending it right here, we've written these getters and setters. "
   ]
  },
  {
   "cell_type": "markdown",
   "id": "575766df-ff46-42f2-9acc-704eb8b3183a",
   "metadata": {},
   "source": [
    "# Convert attribute Acess to Method Access: Property"
   ]
  },
  {
   "cell_type": "markdown",
   "id": "3b1226e6-e56b-4af1-8be4-810c6037396b",
   "metadata": {},
   "source": [
    "I just wish I didn't have to change any code. I just wish whenever someone did a ```instance.radius``` look-up on an radius, that it would magically change to a get radius and everytime they set it ```instance.radius = value``` that it would magically change to a set radius. This can be done using ```property``` and what ```property``` does for you is after the fact, without changing any of the rest  of our code or any of our code or our client code, we can add this in and magically it will every time we set radius including in our own code this will no longer store in the instance variable, this will call this setter and actually store the diameter. This is why in Python you don't have to fear exposing your attributes, even if you never use property, it's a big win for you. Why because Python APIs are clean and beautiful, they don't have getters and setters everywhere in fact if you find yourself divided assigning a getter and setter, you are probably doing it wrong. All you're doing is making it awkward for your users to access. Dotted access is alot easier. If you actually need to make a change later after the fact, it's really easy to do by putting in a property. This is a big, big win in the Python programming language. When people come from C++ and Java, it's the hardest thing for them to give up, they just feel naked exposing their attributes. Like I get over it. If there's a problem later, we can just fix it by adding on a property and it's effortless. In the meantime your code looks very beautiful. Now you know what propeties is for you get a benefit from it even if you never use it. The benefit is every time you design a class, you don't have to put getters and setters in it and that'll make your classes shorter, it'll make them run faster and it'll make the APIs more beautiful. I think it's a big win, it's something you can do on a dynamic language. You can't do this in a compiled language, fair enough."
   ]
  },
  {
   "cell_type": "code",
   "execution_count": 72,
   "id": "cf5ef4a6-c586-43cf-869e-7cb5fc967833",
   "metadata": {},
   "outputs": [],
   "source": [
    "import math\n",
    "\n",
    "class Circle(object):\n",
    "    \"An advanced circle analytic toolkit\"\n",
    "    \n",
    "    version = \"0.6\" \n",
    "    \n",
    "    def __init__(self, radius):\n",
    "        self.radius = radius \n",
    "        return None\n",
    "        \n",
    "    \n",
    "    def area(self):\n",
    "        \"Perform quadrature on a shape of uniform radius\"\n",
    "        p = self._perimeter()\n",
    "        r = p / math.pi / 2.0\n",
    "        return math.pi * r ** 2.0\n",
    "    \n",
    "    \n",
    "    @property # convert dotted access to method calls\n",
    "    def radius(self):\n",
    "        \"Radius of a circle\"\n",
    "        return self.diameter / 2.0\n",
    "    \n",
    "    \n",
    "    @radius.setter\n",
    "    def radius(self, radius):\n",
    "        self.diameter = radius * 2.0\n",
    "        return None\n",
    "    \n",
    "    \n",
    "    def perimeter(self):\n",
    "        return 2.0 * math.pi * self.radius\n",
    "    \n",
    "    \n",
    "    @classmethod \n",
    "    def from_bbd(cls, bbd):\n",
    "        \"Construct a circle from a bounding box diagonal\"\n",
    "        radius = bbd / 2.0 /math.sqrt(2.0)\n",
    "        return Circle(radius)\n",
    "    \n",
    "    \n",
    "    @staticmethod\n",
    "    def angle_to_grade(angle):\n",
    "        \"Convert angle in degree to a percentage grade\"\n",
    "        return math.tan(math.radians(angle)) * 100.0\n",
    "    \n",
    "    \n",
    "    __perimeter = perimeter\n",
    "    \n",
    "    "
   ]
  },
  {
   "cell_type": "markdown",
   "id": "25510909-b3a3-4189-9a6e-c87486bef3a8",
   "metadata": {},
   "source": [
    "# User Request Many Circles"
   ]
  },
  {
   "cell_type": "markdown",
   "id": "6fd1f4a9-0899-49f4-a02b-262cf338c90b",
   "metadata": {},
   "source": [
    "The academics got the research grant and they are going to make 10 million circles however as they started to scale up, they began to realise that the program is eating up a large amount of memory. Did you know, that evey instance has a dictionary and that between the instance and reference to the dictionary our circles are over 300 bytes each which is kind of big, for all they do is store the radius. There must be a better way, how can you shrink down the size of your instances? "
   ]
  },
  {
   "cell_type": "code",
   "execution_count": 73,
   "id": "fdda3e64-e154-4dc4-9686-4d170958f56b",
   "metadata": {},
   "outputs": [],
   "source": [
    "circle = Circle(1)"
   ]
  },
  {
   "cell_type": "code",
   "execution_count": 74,
   "id": "943cc384-d115-4b0f-a4ff-6b0c9b58af2c",
   "metadata": {},
   "outputs": [
    {
     "data": {
      "text/plain": [
       "{'diameter': 2.0}"
      ]
     },
     "execution_count": 74,
     "metadata": {},
     "output_type": "execute_result"
    }
   ],
   "source": [
    "circle.__dict__"
   ]
  },
  {
   "cell_type": "code",
   "execution_count": 75,
   "id": "324b91ab-9e8e-47ef-b1b6-ed76adec1990",
   "metadata": {},
   "outputs": [
    {
     "data": {
      "text/plain": [
       "48"
      ]
     },
     "execution_count": 75,
     "metadata": {},
     "output_type": "execute_result"
    }
   ],
   "source": [
    "import sys\n",
    "sys.getsizeof(circle)"
   ]
  },
  {
   "cell_type": "code",
   "execution_count": 69,
   "id": "13e50b8b-8354-4901-b3a9-143f47d6d519",
   "metadata": {},
   "outputs": [
    {
     "name": "stdout",
     "output_type": "stream",
     "text": [
      "Using Circuituous (tm) version 0.5b\n",
      "The average area of 10000000 random circles\n",
      "is 1.0\n",
      "\n"
     ]
    }
   ],
   "source": [
    "n = 10000000\n",
    "\n",
    "seed(8675309)\n",
    "print(f\"Using Circuituous (tm) version {Circle.version}\")\n",
    "\n",
    "circles = [Circle(random()) for i in range(n)]\n",
    "print(f\"The average area of {n} random circles\")\n",
    "print(f\"is {avg:0.001f}\")\n",
    "print()"
   ]
  },
  {
   "cell_type": "markdown",
   "id": "44582150-c08b-4579-875c-93f84b3cce34",
   "metadata": {},
   "source": [
    "Yes its slots, if you pick up a design patterns book, this is called the flyweight design pattern, the flyweight design pattern says, when you have many, many, many instances make them leightweight and slots is a way to do it. What slots will do is say let's allocate just one pointer for the diameter and nothing else, no dictionary. You lose the ability to insepct the dictionary, you lose the ability to add additional attributes so this is just an optimisation, you always save it for last. Only when you are scaling up to a huge number of instances. So you implement the flyweight design pattern by saving it for last by putting in ```__slots__```, it suppresses the instance dictionary and it saves an enormous amount of memory and now your friends from acaademia are free to run 2 million circles without eating up all the memory on their machine. Do you do slots first or last. Last, because if you do slots first, you lose the ability to inspect the dictionary, you lose the ability to add new variables, all along the way but if you stick it in right at the end you get memory efficiency and memory efficiency on a modern machine is particularly important as we discussed in earlier talks. The cost of cache misses is as expensive as a floating-point divide and it'll slow down your code quite a bit."
   ]
  },
  {
   "cell_type": "code",
   "execution_count": 76,
   "id": "3a362477-85fc-4c88-81ae-90345eec89fe",
   "metadata": {},
   "outputs": [],
   "source": [
    "import math\n",
    "\n",
    "class Circle(object):\n",
    "    \"An advanced circle analytic toolkit\"\n",
    "    \n",
    "    # flyweight design pattern supresses\n",
    "    # the instance dictionary\n",
    "    \n",
    "    __slots__ = [\"diameter\"]\n",
    "    version = \"0.7\"\n",
    "    \n",
    "    def __init__(self, radius):\n",
    "        self.radius = radius \n",
    "        return None\n",
    "        \n",
    "    \n",
    "    def area(self):\n",
    "        \"Perform quadrature on a shape of uniform radius\"\n",
    "        p = self._perimeter()\n",
    "        r = p / math.pi / 2.0\n",
    "        return math.pi * r ** 2.0\n",
    "    \n",
    "    \n",
    "    @property # convert dotted access to method calls\n",
    "    def radius(self):\n",
    "        \"Radius of a circle\"\n",
    "        return self.diameter / 2.0\n",
    "    \n",
    "    \n",
    "    @radius.setter\n",
    "    def radius(self, radius):\n",
    "        self.diameter = radius * 2.0\n",
    "        return None\n",
    "    \n",
    "    \n",
    "    def perimeter(self):\n",
    "        return 2.0 * math.pi * self.radius\n",
    "    \n",
    "    \n",
    "    @classmethod \n",
    "    def from_bbd(cls, bbd):\n",
    "        \"Construct a circle from a bounding box diagonal\"\n",
    "        radius = bbd / 2.0 /math.sqrt(2.0)\n",
    "        return Circle(radius)\n",
    "    \n",
    "    \n",
    "    @staticmethod\n",
    "    def angle_to_grade(angle):\n",
    "        \"Convert angle in degree to a percentage grade\"\n",
    "        return math.tan(math.radians(angle)) * 100.0\n",
    "    \n",
    "    \n",
    "    __perimeter = perimeter\n",
    "    \n",
    "    "
   ]
  },
  {
   "cell_type": "code",
   "execution_count": 77,
   "id": "1f78fc2e-f3a2-477c-9621-d3c3aa49d28f",
   "metadata": {},
   "outputs": [],
   "source": [
    "circle = Circle(1)"
   ]
  },
  {
   "cell_type": "code",
   "execution_count": 78,
   "id": "f737e42a-0237-4900-beef-aabf4a290997",
   "metadata": {},
   "outputs": [
    {
     "data": {
      "text/plain": [
       "40"
      ]
     },
     "execution_count": 78,
     "metadata": {},
     "output_type": "execute_result"
    }
   ],
   "source": [
    "import sys\n",
    "sys.getsizeof(circle)"
   ]
  },
  {
   "cell_type": "code",
   "execution_count": 71,
   "id": "1bedee1c-635e-4f6e-8b92-fdce4afca675",
   "metadata": {},
   "outputs": [
    {
     "name": "stdout",
     "output_type": "stream",
     "text": [
      "Using Circuituous (tm) version 0.7\n",
      "The average area of 10000000 random circles\n",
      "is 1.0\n",
      "\n"
     ]
    }
   ],
   "source": [
    "n = 10000000\n",
    "\n",
    "seed(8675309)\n",
    "print(f\"Using Circuituous (tm) version {Circle.version}\")\n",
    "\n",
    "circles = [Circle(random()) for i in range(n)]\n",
    "print(f\"The average area of {n} random circles\")\n",
    "print(f\"is {avg:0.001f}\")\n",
    "print()"
   ]
  },
  {
   "cell_type": "markdown",
   "id": "566515c9-9298-46f2-a1a2-ae766e1a36de",
   "metadata": {},
   "source": [
    "I did not break the tyre, because we have a getter and setter fro the radius. It turns out from the users point, there is no change at all. The only people who would be hurt, would be a subclass storing an additional attribute like color right? Wrong, the itneresting thing about slots, if somebody subclasses you, the slots doesn't inherit, the dictionary suppression capability of it disappears and so subclassers can add their own attribute. So that's a fine thing, it means subclasses can go about doing their thing, and I have no broken their code."
   ]
  },
  {
   "cell_type": "markdown",
   "id": "a3660a3c-8ae8-469f-9172-9c664d7df98a",
   "metadata": {},
   "source": [
    "# Summary"
   ]
  },
  {
   "cell_type": "markdown",
   "id": "ba96d96f-655d-481e-84c1-33639a5bdedf",
   "metadata": {},
   "source": [
    "* Inherit from ```object()```\n",
    "* This gives access to functionality such as the double underscore methods such as ```__init__```.\n",
    "* Instance variables for information unique to an instance.\n",
    "* Class variable for data shared among all instances.\n",
    "* Regular methods need ```self``` to operate on instance data.\n",
    "* Class methods implement alternative constructors. They need ```cls``` so they can create subclass instances as well.\n",
    "* Static methods attach functions to classes. They don't need either ```self``` or ```cls```. Static methods improve discoverability and require context to be specified.\n",
    "* A ```property()``` lets getter, setter and deleter methods to be invoked automatically by attribute access. This allows Python classes to freely expose their instance variables.\n",
    "* The ```__slots__``` cariable implements the Flyweight Design Pattern by suppressing instance dictionaries."
   ]
  },
  {
   "cell_type": "code",
   "execution_count": null,
   "id": "44a409fa-042c-4721-8763-04e0a21fb028",
   "metadata": {},
   "outputs": [],
   "source": []
  }
 ],
 "metadata": {
  "kernelspec": {
   "display_name": "Python 3 (ipykernel)",
   "language": "python",
   "name": "python3"
  },
  "language_info": {
   "codemirror_mode": {
    "name": "ipython",
    "version": 3
   },
   "file_extension": ".py",
   "mimetype": "text/x-python",
   "name": "python",
   "nbconvert_exporter": "python",
   "pygments_lexer": "ipython3",
   "version": "3.10.6"
  }
 },
 "nbformat": 4,
 "nbformat_minor": 5
}
