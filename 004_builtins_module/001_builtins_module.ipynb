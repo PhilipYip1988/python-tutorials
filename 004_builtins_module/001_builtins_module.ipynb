{
 "cells": [
  {
   "cell_type": "markdown",
   "id": "f1960fcf-cd9b-48e5-abcd-d63dff2c42c4",
   "metadata": {},
   "source": [
    "# builtins module"
   ]
  },
  {
   "cell_type": "markdown",
   "id": "09d3a629-32dc-469e-8981-16724f373377",
   "metadata": {},
   "source": [
    "Python has a number of builtin objects which are as the name suggests inbuilt into Python. However it can be quite insightful to import the builtins module and explore its contents."
   ]
  },
  {
   "cell_type": "code",
   "execution_count": 1,
   "id": "8c0bc8e0-6888-4021-8d8f-aab713309755",
   "metadata": {},
   "outputs": [],
   "source": [
    "import builtins"
   ]
  },
  {
   "cell_type": "markdown",
   "id": "1eb14441-6996-48aa-aaf5-68fe5a65fe95",
   "metadata": {},
   "source": [
    "Now that this module is imported we can type in ```builtins``` followed by a dot ```.``` and tab ```↹``` to view the list of inbuilt objects. \n",
    "\n",
    "Note sometimes the list of inbuilt objects does not load properly. You can click out of the cell and click back into the cell and press tab ```↹``` again to load this list again:"
   ]
  },
  {
   "cell_type": "code",
   "execution_count": null,
   "id": "cf93b236-9f9d-4783-8286-68b85d008c77",
   "metadata": {},
   "outputs": [],
   "source": []
  },
  {
   "cell_type": "markdown",
   "id": "18300c6f-0109-4079-9612-14c87063b22c",
   "metadata": {},
   "source": [
    "The list you see should look like the following:\n",
    "\n",
    "![021_builtins_module](./images/021_builtins_module.PNG)\n",
    "\n",
    "## functions\n",
    "\n",
    "You will see some of these are: \n",
    "* functions\n",
    "\n",
    "Under the hood, a ```function``` is a code block, that can be used over and over again, rather than writing it out multiple times. We can examine, the inbuilt functions ```ord``` and ```chr```:"
   ]
  },
  {
   "cell_type": "code",
   "execution_count": 2,
   "id": "d08ccb20-51fd-476f-a161-9e9898abc94f",
   "metadata": {},
   "outputs": [
    {
     "data": {
      "text/plain": [
       "<function ord(c, /)>"
      ]
     },
     "execution_count": 2,
     "metadata": {},
     "output_type": "execute_result"
    }
   ],
   "source": [
    "ord"
   ]
  },
  {
   "cell_type": "code",
   "execution_count": 3,
   "id": "2cb4d234-fdc0-466c-a54b-921ba86593b3",
   "metadata": {},
   "outputs": [
    {
     "data": {
      "text/plain": [
       "<function chr(i, /)>"
      ]
     },
     "execution_count": 3,
     "metadata": {},
     "output_type": "execute_result"
    }
   ],
   "source": [
    "chr"
   ]
  },
  {
   "cell_type": "markdown",
   "id": "8b87470c-8aa8-4e07-8795-e5a9f809c385",
   "metadata": {},
   "source": [
    "Functions are objects and when referenced, we get get details about these objects. Each function has a docstring which can be viewed as a popup balloon by typing in the function name followed by an open parenthesis and shift ```⇧``` and tab ```↹```.\n",
    "\n",
    "Input ```chr(``` and then press shift ```⇧``` and tab ```↹```:"
   ]
  },
  {
   "cell_type": "code",
   "execution_count": null,
   "id": "1aaab1db-c2cf-432e-9ce1-266937b68940",
   "metadata": {},
   "outputs": [],
   "source": []
  },
  {
   "cell_type": "markdown",
   "id": "84639954-9b41-47d2-b490-e0463460a206",
   "metadata": {},
   "source": [
    "Input ```ord(``` and then press shift ```⇧``` and tab ```↹```:"
   ]
  },
  {
   "cell_type": "code",
   "execution_count": null,
   "id": "96594d46-2f4e-433b-aae8-94408cb5c50f",
   "metadata": {},
   "outputs": [],
   "source": []
  },
  {
   "cell_type": "markdown",
   "id": "e2c4bc41-d93d-490c-b779-e5db4ab31e7a",
   "metadata": {},
   "source": [
    "The docstring can also be output to the contents of a cell:"
   ]
  },
  {
   "cell_type": "code",
   "execution_count": 5,
   "id": "5406801e-b87e-4fbe-90c7-1e4e31e7efa4",
   "metadata": {},
   "outputs": [
    {
     "data": {
      "text/plain": [
       "\u001b[1;31mSignature:\u001b[0m  \u001b[0mchr\u001b[0m\u001b[1;33m(\u001b[0m\u001b[0mi\u001b[0m\u001b[1;33m,\u001b[0m \u001b[1;33m/\u001b[0m\u001b[1;33m)\u001b[0m\u001b[1;33m\u001b[0m\u001b[1;33m\u001b[0m\u001b[0m\n",
       "\u001b[1;31mDocstring:\u001b[0m Return a Unicode string of one character with ordinal i; 0 <= i <= 0x10ffff.\n",
       "\u001b[1;31mType:\u001b[0m      builtin_function_or_method\n"
      ]
     },
     "metadata": {},
     "output_type": "display_data"
    }
   ],
   "source": [
    "? chr"
   ]
  },
  {
   "cell_type": "code",
   "execution_count": 4,
   "id": "64235719-608d-4352-a749-5313ee96f298",
   "metadata": {},
   "outputs": [
    {
     "data": {
      "text/plain": [
       "\u001b[1;31mSignature:\u001b[0m  \u001b[0mord\u001b[0m\u001b[1;33m(\u001b[0m\u001b[0mc\u001b[0m\u001b[1;33m,\u001b[0m \u001b[1;33m/\u001b[0m\u001b[1;33m)\u001b[0m\u001b[1;33m\u001b[0m\u001b[1;33m\u001b[0m\u001b[0m\n",
       "\u001b[1;31mDocstring:\u001b[0m Return the Unicode code point for a one-character string.\n",
       "\u001b[1;31mType:\u001b[0m      builtin_function_or_method\n"
      ]
     },
     "metadata": {},
     "output_type": "display_data"
    }
   ],
   "source": [
    "? ord"
   ]
  },
  {
   "cell_type": "markdown",
   "id": "110b17cd-88dc-4b92-8a59-c59bf4bb86f3",
   "metadata": {},
   "source": [
    "Each character on the keyboard is assigned to an ordinal full number known as an integer. The character at integer ```65``` is ```'A'```. The ```ord``` and the ```chr``` functions convert the input integer or character to the character or integer respectively. We call a function by typing in the function name, followed by parenthesis ```()```. The parenthesis are used to enclose any input arguments. A function can have no, one or multiple input arguments. Multiple input arguments are seperated using a comma ```,```. In these examples, both functions use a sngle input argument, the input integer ```i``` in the case of the ```chr``` function and the input character ```c``` in the case of the ```ord``` function:"
   ]
  },
  {
   "cell_type": "code",
   "execution_count": 7,
   "id": "c1accad8-4643-4dd2-a2b8-2d0d310fd750",
   "metadata": {},
   "outputs": [
    {
     "data": {
      "text/plain": [
       "'A'"
      ]
     },
     "execution_count": 7,
     "metadata": {},
     "output_type": "execute_result"
    }
   ],
   "source": [
    "chr(65)"
   ]
  },
  {
   "cell_type": "code",
   "execution_count": 8,
   "id": "ab25d01b-a570-4b4f-9b87-204fbc541706",
   "metadata": {},
   "outputs": [
    {
     "data": {
      "text/plain": [
       "65"
      ]
     },
     "execution_count": 8,
     "metadata": {},
     "output_type": "execute_result"
    }
   ],
   "source": [
    "ord('A')"
   ]
  },
  {
   "cell_type": "markdown",
   "id": "83c4b1c2-34b1-4330-944e-08c357174ee7",
   "metadata": {},
   "source": [
    "Type in ```builtins``` followed by a dot ```.``` and tab ```↹``` to view the list of inbuilt objects, again:"
   ]
  },
  {
   "cell_type": "code",
   "execution_count": null,
   "id": "206035ab-a813-494d-91c0-450c5206884f",
   "metadata": {},
   "outputs": [],
   "source": []
  },
  {
   "cell_type": "markdown",
   "id": "0e6ca1e0-78c6-4be2-82ab-9c6ad2bf453c",
   "metadata": {},
   "source": [
    "## classes and instances\n",
    "\n",
    "You will see that in addition to functions we have:\n",
    "* classes\n",
    "* instances\n",
    "\n",
    "A ```class``` can be conceptualised as a blueprint. The ```class``` or blueprint itself is abstract but an object created by following the instructions in a blueprint or ```class``` is physical and can be interacted with. The object created by following the instructions in a ```class``` is known as an ```instance``` of the ```class```. Let's explore the ```bool``` class:"
   ]
  },
  {
   "cell_type": "code",
   "execution_count": 15,
   "id": "855a651c-7173-4fcd-beb0-9b7acc189284",
   "metadata": {},
   "outputs": [
    {
     "data": {
      "text/plain": [
       "bool"
      ]
     },
     "execution_count": 15,
     "metadata": {},
     "output_type": "execute_result"
    }
   ],
   "source": [
    "bool"
   ]
  },
  {
   "cell_type": "markdown",
   "id": "7f34282a-3583-4341-a964-124ae3177f8c",
   "metadata": {},
   "source": [
    "Classes are abstract objects and when referenced, we get get details about these objects. Each class, like a function has a docstring which can be viewed as a popup balloon by typing in the class name followed by an open parenthesis and shift ```⇧``` and tab ```↹```. This docstring describes how to use the class to make an instance of the class.\n",
    "\n",
    "Input ```bool(``` and then press shift ```⇧``` and tab ```↹```:"
   ]
  },
  {
   "cell_type": "code",
   "execution_count": null,
   "id": "79a4256d-777e-4cc6-a957-02231f251cee",
   "metadata": {},
   "outputs": [],
   "source": []
  },
  {
   "cell_type": "markdown",
   "id": "c34125fe-806e-40d7-9d00-a18defef0f43",
   "metadata": {},
   "source": [
    "The docstring can also be output to the contents of a cell. We see that the ```bool``` class has two instances ```True``` and ```false``` and these are in the module ```builtins```. The ```bool``` class is a subclasses of the ```int``` class which effectively means the instance ```False``` is equivalent to the ordinal integer ```0``` and the instance ```True``` is equivalent to the ordinal integer ```1```. Any other ordinal number is taken as non-zero and is therefore equivalent to the instance ```True```:"
   ]
  },
  {
   "cell_type": "code",
   "execution_count": 16,
   "id": "e499917b-1e7a-4289-a3dc-75df11c51575",
   "metadata": {},
   "outputs": [
    {
     "data": {
      "text/plain": [
       "\u001b[1;31mInit signature:\u001b[0m  \u001b[0mbool\u001b[0m\u001b[1;33m(\u001b[0m\u001b[0mself\u001b[0m\u001b[1;33m,\u001b[0m \u001b[1;33m/\u001b[0m\u001b[1;33m,\u001b[0m \u001b[1;33m*\u001b[0m\u001b[0margs\u001b[0m\u001b[1;33m,\u001b[0m \u001b[1;33m**\u001b[0m\u001b[0mkwargs\u001b[0m\u001b[1;33m)\u001b[0m\u001b[1;33m\u001b[0m\u001b[1;33m\u001b[0m\u001b[0m\n",
       "\u001b[1;31mDocstring:\u001b[0m     \n",
       "bool(x) -> bool\n",
       "\n",
       "Returns True when the argument x is true, False otherwise.\n",
       "The builtins True and False are the only two instances of the class bool.\n",
       "The class bool is a subclass of the class int, and cannot be subclassed.\n",
       "\u001b[1;31mType:\u001b[0m           type\n",
       "\u001b[1;31mSubclasses:\u001b[0m     \n"
      ]
     },
     "metadata": {},
     "output_type": "display_data"
    }
   ],
   "source": [
    "? bool"
   ]
  },
  {
   "cell_type": "markdown",
   "id": "2898c675-5959-48ba-94f2-0384f34c3da3",
   "metadata": {},
   "source": [
    "We see that the input argument ```x``` is a condition and the bool class will return the instance ```True``` when the condition is true and the instance ```False``` when the condition is not satisfied:"
   ]
  },
  {
   "cell_type": "code",
   "execution_count": 18,
   "id": "0974cfb3-b0db-4609-b0cf-8202bffbcf6b",
   "metadata": {},
   "outputs": [
    {
     "data": {
      "text/plain": [
       "True"
      ]
     },
     "execution_count": 18,
     "metadata": {},
     "output_type": "execute_result"
    }
   ],
   "source": [
    "bool(1>0)"
   ]
  },
  {
   "cell_type": "code",
   "execution_count": 20,
   "id": "c528b608-d67f-4694-954a-a59db6e6382b",
   "metadata": {},
   "outputs": [
    {
     "data": {
      "text/plain": [
       "False"
      ]
     },
     "execution_count": 20,
     "metadata": {},
     "output_type": "execute_result"
    }
   ],
   "source": [
    "bool(1<0)"
   ]
  },
  {
   "cell_type": "markdown",
   "id": "748d3c14-ac77-46e8-bedb-221f517b0b70",
   "metadata": {},
   "source": [
    "We see that the ```bool``` class can be used to convert an ordinal integer into an instance of the ```bool``` class:"
   ]
  },
  {
   "cell_type": "code",
   "execution_count": 28,
   "id": "4436c911-8046-43f2-a32a-f8a288f10807",
   "metadata": {},
   "outputs": [
    {
     "data": {
      "text/plain": [
       "False"
      ]
     },
     "execution_count": 28,
     "metadata": {},
     "output_type": "execute_result"
    }
   ],
   "source": [
    "bool(0)"
   ]
  },
  {
   "cell_type": "code",
   "execution_count": 29,
   "id": "da6fce8e-bd06-4291-9f9a-fc04b4f18414",
   "metadata": {},
   "outputs": [
    {
     "data": {
      "text/plain": [
       "True"
      ]
     },
     "execution_count": 29,
     "metadata": {},
     "output_type": "execute_result"
    }
   ],
   "source": [
    "bool(1)"
   ]
  },
  {
   "cell_type": "code",
   "execution_count": 30,
   "id": "3faf7578-8a87-479c-9619-89e63088ed7d",
   "metadata": {},
   "outputs": [
    {
     "data": {
      "text/plain": [
       "True"
      ]
     },
     "execution_count": 30,
     "metadata": {},
     "output_type": "execute_result"
    }
   ],
   "source": [
    "bool(2)"
   ]
  },
  {
   "cell_type": "markdown",
   "id": "e5877150-d48c-48fb-8c4b-932a5f788ef2",
   "metadata": {},
   "source": [
    "If we type in the instance followed by a ```dot``` and ```tab``` we can view a list of objects that can be called from it. \n",
    "\n",
    "Input ```True``` and then press dot ```.``` and tab ```↹```:"
   ]
  },
  {
   "cell_type": "code",
   "execution_count": null,
   "id": "d4d11fb0-f09b-4e7a-baa4-c6f340e56904",
   "metadata": {},
   "outputs": [],
   "source": []
  },
  {
   "cell_type": "markdown",
   "id": "8f9a7bb7-b2c0-446e-9a2c-9675808c5a89",
   "metadata": {},
   "source": [
    "You should see a number of functions and instances that can be called from the object. Functions that can be called from an object are also known as ```methods```. Recall that we need to use parenthesis to call a function.\n",
    "\n",
    "Instances referenced with respect to another object are known as ```attributes```. These ```attributes``` can be instances of the same or a different class as the object they are called from.\n",
    "\n",
    "Let's have a look at the method ```conjugate```. Input ```True.conjugate(``` and then press shift ```⇧``` and tab ```↹```:"
   ]
  },
  {
   "cell_type": "code",
   "execution_count": null,
   "id": "4966f7ab-1f87-47b8-b612-71926157b357",
   "metadata": {},
   "outputs": [],
   "source": []
  },
  {
   "cell_type": "markdown",
   "id": "1f2af455-5757-4d5e-b563-fd852edd546e",
   "metadata": {},
   "source": [
    "The docstring can also be output to the contents of a cell."
   ]
  },
  {
   "cell_type": "code",
   "execution_count": 24,
   "id": "1a01b6c4-d660-415c-a49a-ce870db9a855",
   "metadata": {},
   "outputs": [
    {
     "data": {
      "text/plain": [
       "\u001b[1;31mDocstring:\u001b[0m Returns self, the complex conjugate of any int.\n",
       "\u001b[1;31mType:\u001b[0m      builtin_function_or_method\n"
      ]
     },
     "metadata": {},
     "output_type": "display_data"
    }
   ],
   "source": [
    "? True.conjugate"
   ]
  },
  {
   "cell_type": "markdown",
   "id": "2cbcae01-3c8d-4cff-b2c6-492f88250f26",
   "metadata": {},
   "source": [
    "Recall that in mathematics. The square root of minus one is not defined as a ```real``` number so an imaginary ```imag``` component is defined with the postfix ```j```:\n",
    "\n",
    "$$\\sqrt{-1}=j$$\n",
    "\n"
   ]
  },
  {
   "cell_type": "markdown",
   "id": "0c312bae-d900-4836-b783-a261fb6294aa",
   "metadata": {},
   "source": [
    "Notice that the ```conjugate``` method does not require any input arguments however we still need to use parenthesis to call the method. \n",
    "\n",
    "Let's now call this function to get the complex conjugate of the ```bool``` class ```True``` instance:"
   ]
  },
  {
   "cell_type": "code",
   "execution_count": 27,
   "id": "b6e54526-663a-4f45-82a4-45f26f380c0d",
   "metadata": {},
   "outputs": [
    {
     "data": {
      "text/plain": [
       "1"
      ]
     },
     "execution_count": 27,
     "metadata": {},
     "output_type": "execute_result"
    }
   ],
   "source": [
    "True.conjugate()"
   ]
  },
  {
   "cell_type": "markdown",
   "id": "7b22a828-8ec8-47a8-a986-52fbee509583",
   "metadata": {},
   "source": [
    "This returns the value ```1``` as ```True``` is equivalent to the real number ```1``` and a ```bool``` instance never has an imaginary component so ```j``` is not mentioned. \n",
    "\n",
    "The bool instance ```True``` also has a ```real``` attribute and ```imag``` attribute. The ```real``` attribute once again returns the value ```1```:"
   ]
  },
  {
   "cell_type": "code",
   "execution_count": 25,
   "id": "9e4239dc-5cdb-4f64-b9b4-b42c22b69334",
   "metadata": {},
   "outputs": [
    {
     "data": {
      "text/plain": [
       "1"
      ]
     },
     "execution_count": 25,
     "metadata": {},
     "output_type": "execute_result"
    }
   ],
   "source": [
    "True.real"
   ]
  },
  {
   "cell_type": "markdown",
   "id": "5d7e04ec-77d2-4454-8f48-97e01177f1df",
   "metadata": {},
   "source": [
    "And the ```imag``` attribute returns the number ```0``` as there is no imaginary component:"
   ]
  },
  {
   "cell_type": "code",
   "execution_count": 26,
   "id": "175c0e27-339b-47f0-826f-37ad7510658e",
   "metadata": {},
   "outputs": [
    {
     "data": {
      "text/plain": [
       "0"
      ]
     },
     "execution_count": 26,
     "metadata": {},
     "output_type": "execute_result"
    }
   ],
   "source": [
    "True.imag"
   ]
  },
  {
   "cell_type": "markdown",
   "id": "8a38b2d6-9ffb-4887-b713-1423cb356c54",
   "metadata": {},
   "source": [
    "Now input ```False``` and then press dot ```.``` and tab ```↹```:"
   ]
  },
  {
   "cell_type": "code",
   "execution_count": null,
   "id": "20b47b0c-d586-4412-ba49-83c06d874d9c",
   "metadata": {},
   "outputs": [],
   "source": []
  },
  {
   "cell_type": "markdown",
   "id": "8f3e9a30-707d-41fd-8a38-40881652ca99",
   "metadata": {},
   "source": [
    "Notice that you get the exact same list of methods and attributes as the ```True``` instance. If we use the method ```conjugate``` and the attributes ```real``` and ```imag``` we get different values:"
   ]
  },
  {
   "cell_type": "code",
   "execution_count": 35,
   "id": "968b2de1-aeeb-4455-bfda-c5ed857f5b2c",
   "metadata": {},
   "outputs": [
    {
     "data": {
      "text/plain": [
       "0"
      ]
     },
     "execution_count": 35,
     "metadata": {},
     "output_type": "execute_result"
    }
   ],
   "source": [
    "False.conjugate()"
   ]
  },
  {
   "cell_type": "code",
   "execution_count": 36,
   "id": "af8fe79f-7aae-4e17-b583-4730dd259163",
   "metadata": {},
   "outputs": [
    {
     "data": {
      "text/plain": [
       "0"
      ]
     },
     "execution_count": 36,
     "metadata": {},
     "output_type": "execute_result"
    }
   ],
   "source": [
    "False.real"
   ]
  },
  {
   "cell_type": "code",
   "execution_count": 37,
   "id": "4e64bc18-4058-46de-a7aa-519e0f010198",
   "metadata": {},
   "outputs": [
    {
     "data": {
      "text/plain": [
       "0"
      ]
     },
     "execution_count": 37,
     "metadata": {},
     "output_type": "execute_result"
    }
   ],
   "source": [
    "False.imag"
   ]
  },
  {
   "cell_type": "markdown",
   "id": "e1429a75-ef43-4f2d-b72b-4a3e306931f9",
   "metadata": {},
   "source": [
    "These attributes and methods are defined in the ```bool``` class. Input ```bool``` and then press dot ```.``` and tab ```↹```:"
   ]
  },
  {
   "cell_type": "code",
   "execution_count": null,
   "id": "b30a852d-f1e6-4231-b427-ef720caad499",
   "metadata": {},
   "outputs": [],
   "source": [
    "bool."
   ]
  },
  {
   "cell_type": "markdown",
   "id": "206be7e4-3f97-47e0-9398-55d328bc9412",
   "metadata": {},
   "source": [
    "Notice that instances are now displayed as properties. When we try to use these, we are told that they are attributes:\n",
    "\n",
    "![022_instances_properties](./images/022_instances_properties.PNG)"
   ]
  },
  {
   "cell_type": "markdown",
   "id": "d45b4405-dd32-4a88-aba6-da7a99adf6a0",
   "metadata": {},
   "source": [
    "And these properties tell us that these are attributes of the ```int``` class. Recall that the ```bool``` class is a subclass of the ```int``` class and this means under the hood, the ```child``` class ```bool``` has a copy or slightly modified copy of the attributes and functions of the ```parent``` class ```int```:"
   ]
  },
  {
   "cell_type": "code",
   "execution_count": 38,
   "id": "26eda55e-5d69-40a9-9a12-ae8acdc1674d",
   "metadata": {},
   "outputs": [
    {
     "data": {
      "text/plain": [
       "<attribute 'real' of 'int' objects>"
      ]
     },
     "execution_count": 38,
     "metadata": {},
     "output_type": "execute_result"
    }
   ],
   "source": [
    "bool.real"
   ]
  },
  {
   "cell_type": "code",
   "execution_count": 39,
   "id": "8b4f7331-5885-4b84-8c1c-e160c8661450",
   "metadata": {},
   "outputs": [
    {
     "data": {
      "text/plain": [
       "<attribute 'imag' of 'int' objects>"
      ]
     },
     "execution_count": 39,
     "metadata": {},
     "output_type": "execute_result"
    }
   ],
   "source": [
    "bool.imag"
   ]
  },
  {
   "cell_type": "markdown",
   "id": "50bb2f8c-464c-490d-90c6-4e338298b0b3",
   "metadata": {},
   "source": [
    "Let's now have a look at the conjugate function:"
   ]
  },
  {
   "cell_type": "code",
   "execution_count": 41,
   "id": "e068f212-9a3a-4ad6-9e68-e926dbef7e37",
   "metadata": {},
   "outputs": [
    {
     "data": {
      "text/plain": [
       "<method 'conjugate' of 'int' objects>"
      ]
     },
     "execution_count": 41,
     "metadata": {},
     "output_type": "execute_result"
    }
   ],
   "source": [
    "bool.conjugate"
   ]
  },
  {
   "cell_type": "markdown",
   "id": "8762563c-f4ff-4d3e-a31f-69f1ae9969c9",
   "metadata": {},
   "source": [
    "And the docstring of this function:"
   ]
  },
  {
   "cell_type": "code",
   "execution_count": 42,
   "id": "12d61727-dc66-45c7-9aee-30754bfb0ee5",
   "metadata": {},
   "outputs": [
    {
     "data": {
      "text/plain": [
       "\u001b[1;31mDocstring:\u001b[0m Returns self, the complex conjugate of any int.\n",
       "\u001b[1;31mType:\u001b[0m      method_descriptor\n"
      ]
     },
     "metadata": {},
     "output_type": "display_data"
    }
   ],
   "source": [
    "? bool.conjugate"
   ]
  },
  {
   "cell_type": "markdown",
   "id": "3e65343b-b9d6-453b-a816-4b22dbb3ff73",
   "metadata": {},
   "source": [
    "If we attempt to call this, we get an error:"
   ]
  },
  {
   "cell_type": "code",
   "execution_count": 44,
   "id": "3345b094-3507-4755-b944-d5e982ea62a9",
   "metadata": {},
   "outputs": [
    {
     "ename": "TypeError",
     "evalue": "unbound method int.conjugate() needs an argument",
     "output_type": "error",
     "traceback": [
      "\u001b[1;31m---------------------------------------------------------------------------\u001b[0m",
      "\u001b[1;31mTypeError\u001b[0m                                 Traceback (most recent call last)",
      "\u001b[1;32m~\\AppData\\Local\\Temp\\ipykernel_8320\\1606288433.py\u001b[0m in \u001b[0;36m<cell line: 1>\u001b[1;34m()\u001b[0m\n\u001b[1;32m----> 1\u001b[1;33m \u001b[0mbool\u001b[0m\u001b[1;33m.\u001b[0m\u001b[0mconjugate\u001b[0m\u001b[1;33m(\u001b[0m\u001b[1;33m)\u001b[0m\u001b[1;33m\u001b[0m\u001b[1;33m\u001b[0m\u001b[0m\n\u001b[0m",
      "\u001b[1;31mTypeError\u001b[0m: unbound method int.conjugate() needs an argument"
     ]
    }
   ],
   "source": [
    "bool.conjugate()"
   ]
  },
  {
   "cell_type": "markdown",
   "id": "ebf39e41-d128-42cc-b322-89336cd3f2aa",
   "metadata": {},
   "source": [
    "This is because no instance is specified for the function to act upon. We can supply an instance ```True``` as an input argument and the function will work:"
   ]
  },
  {
   "cell_type": "code",
   "execution_count": 45,
   "id": "a0f6013b-687e-4113-8aae-b65a8368cc28",
   "metadata": {},
   "outputs": [
    {
     "data": {
      "text/plain": [
       "1"
      ]
     },
     "execution_count": 45,
     "metadata": {},
     "output_type": "execute_result"
    }
   ],
   "source": [
    "bool.conjugate(True)"
   ]
  },
  {
   "cell_type": "markdown",
   "id": "a3041ed3-ac16-4039-8b24-6b3be54d4b20",
   "metadata": {},
   "source": [
    "## classes and instances continued"
   ]
  },
  {
   "cell_type": "code",
   "execution_count": null,
   "id": "d69bce1f-44fe-471f-abc1-74d1e085287c",
   "metadata": {},
   "outputs": [],
   "source": []
  },
  {
   "cell_type": "code",
   "execution_count": null,
   "id": "3e812af6-8703-45c5-9ef9-436dfa78e5d7",
   "metadata": {},
   "outputs": [],
   "source": []
  },
  {
   "cell_type": "code",
   "execution_count": null,
   "id": "d5b6a93a-ca6c-4fa6-aafa-4a211c6fe808",
   "metadata": {},
   "outputs": [],
   "source": []
  },
  {
   "cell_type": "markdown",
   "id": "71946ae2-710c-4345-b7a6-26f1b2421c11",
   "metadata": {},
   "source": [
    "\n",
    "\n",
    "\n",
    "\n",
    "\n",
    "\n",
    "\n",
    "\n",
    "\n",
    "\n",
    "\n",
    "\n",
    "\n",
    "\n",
    "that is used to carry out the same operation.\n",
    "\n",
    "\n",
    "\n",
    "\n",
    "\n",
    "\n",
    "\n",
    "\n",
    "* The class itself is abstract but the object defined with the blueprint is physical and can be interacted with. \n",
    "\n",
    "* An object belonging to a class is known as an instance.\n",
    "\n",
    "An analogy is a blueprint for a house. Under the hood, an architect may create a class or blueprint of a house. This blueprint is an abstract object, that we as an end user cannot interact with. It will outline the features or ```attributes``` of a house such as the height of the house *househeight*, how many rooms it possesses *nrooms* and the size of the bedroom *bedroomsize* for example. It will also outline the functionality of the house such as the doors in the house *frontdooropen* or *frontdoorclose*, the windows in the house *frontwindowopen* or *frontwindowclose*, the central heating system controls *sethousetemperature* and the sewage controls *flushtoilet*.\n",
    "\n",
    "\n",
    "\n",
    "\n",
    "\n",
    "\n",
    "\n",
    "\n",
    "\n",
    "\n",
    "\n",
    "\n",
    "\n",
    "\n",
    "\n",
    "\n",
    "\n",
    " Many blueprints\n",
    "\n",
    "Under the hood, they define the attributes and methods available for the object."
   ]
  },
  {
   "cell_type": "code",
   "execution_count": null,
   "id": "874f5da8-cba1-482d-af22-e28115225795",
   "metadata": {},
   "outputs": [],
   "source": []
  },
  {
   "cell_type": "code",
   "execution_count": null,
   "id": "d29d7f8c-0606-46c9-b990-9cb85536c803",
   "metadata": {},
   "outputs": [],
   "source": []
  },
  {
   "cell_type": "code",
   "execution_count": null,
   "id": "d53d69b0-1ead-46a9-bb99-2a2cbd8fe96d",
   "metadata": {},
   "outputs": [],
   "source": []
  },
  {
   "cell_type": "code",
   "execution_count": null,
   "id": "22346e7d-22d0-4aa7-804d-933e162cf1a6",
   "metadata": {},
   "outputs": [],
   "source": []
  },
  {
   "cell_type": "markdown",
   "id": "64ced90b-1476-471e-825f-6b3e7d087183",
   "metadata": {},
   "source": [
    "Of import note are:\n",
    "\n",
    "Inbuilt classes:\n",
    "\n",
    "* str\n",
    "* list\n",
    "* int\n",
    "* dict\n",
    "* bool\n",
    "* float\n",
    "* tuple\n",
    "* set\n",
    "* complex\n",
    "* range\n",
    "* type\n",
    "\n",
    "Inbuilt functions:\n",
    "\n",
    "* print\n",
    "* str\n",
    "* input\n",
    "* enumerate\n",
    "* max\n",
    "* min\n",
    "* mean\n",
    "\n",
    "We can have a look at this list outputted to the console by using the dir function an abbreviation for directory to inspect the object builtins. To use the function we need to use parenthesis () to enclose the positional input arguments. Details about these will be shown in the script editor when the function dir is typed with open parenthesis:"
   ]
  },
  {
   "cell_type": "code",
   "execution_count": null,
   "id": "566034d8-3375-4103-a0b2-2b47106787e8",
   "metadata": {},
   "outputs": [],
   "source": []
  }
 ],
 "metadata": {
  "kernelspec": {
   "display_name": "Python 3 (ipykernel)",
   "language": "python",
   "name": "python3"
  },
  "language_info": {
   "codemirror_mode": {
    "name": "ipython",
    "version": 3
   },
   "file_extension": ".py",
   "mimetype": "text/x-python",
   "name": "python",
   "nbconvert_exporter": "python",
   "pygments_lexer": "ipython3",
   "version": "3.9.13"
  }
 },
 "nbformat": 4,
 "nbformat_minor": 5
}
