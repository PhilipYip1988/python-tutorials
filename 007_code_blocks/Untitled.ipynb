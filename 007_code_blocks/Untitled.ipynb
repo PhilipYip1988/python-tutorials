{
 "cells": [
  {
   "cell_type": "code",
   "execution_count": 1,
   "id": "40efb921-4a82-4e66-a4a2-da43e2f71196",
   "metadata": {},
   "outputs": [
    {
     "data": {
      "text/plain": [
       "range(0, 10)"
      ]
     },
     "execution_count": 1,
     "metadata": {},
     "output_type": "execute_result"
    }
   ],
   "source": [
    "range(0, 10, 1)"
   ]
  },
  {
   "cell_type": "code",
   "execution_count": 2,
   "id": "2990172e-b4a0-49cb-b232-ca6753cb82c9",
   "metadata": {},
   "outputs": [
    {
     "data": {
      "text/plain": [
       "[0, 1, 2, 3, 4, 5, 6, 7, 8, 9]"
      ]
     },
     "execution_count": 2,
     "metadata": {},
     "output_type": "execute_result"
    }
   ],
   "source": [
    "list(range(0, 10, 1))"
   ]
  },
  {
   "cell_type": "code",
   "execution_count": 4,
   "id": "d4dfa25a-b9a7-4eea-9b03-f36ccfb079ac",
   "metadata": {},
   "outputs": [],
   "source": [
    "lo = [\"apples\", \"bananas\", \"grapes\"]"
   ]
  },
  {
   "cell_type": "code",
   "execution_count": 6,
   "id": "ac3d5e55-5715-43f5-bc6d-eb3728daf71c",
   "metadata": {},
   "outputs": [
    {
     "data": {
      "text/plain": [
       "['a', 'p', 'p', 'l', 'e', 's']"
      ]
     },
     "execution_count": 6,
     "metadata": {},
     "output_type": "execute_result"
    }
   ],
   "source": [
    "list(\"apples\")"
   ]
  },
  {
   "cell_type": "code",
   "execution_count": 7,
   "id": "705c2de8-f35e-488c-b623-443b9dc1c8f9",
   "metadata": {},
   "outputs": [],
   "source": [
    "s = \"apples\"\n",
    "sl = list(s)\n",
    "soel = list(enumerate(s))"
   ]
  },
  {
   "cell_type": "code",
   "execution_count": 8,
   "id": "ecf9bde4-b002-4535-9675-459df3e3144d",
   "metadata": {},
   "outputs": [
    {
     "data": {
      "text/plain": [
       "[(0, 'a'), (1, 'p'), (2, 'p'), (3, 'l'), (4, 'e'), (5, 's')]"
      ]
     },
     "execution_count": 8,
     "metadata": {},
     "output_type": "execute_result"
    }
   ],
   "source": [
    "soel"
   ]
  },
  {
   "cell_type": "code",
   "execution_count": 11,
   "id": "84bb8518-108a-40fc-884f-580f99557aa1",
   "metadata": {},
   "outputs": [
    {
     "ename": "SyntaxError",
     "evalue": "invalid syntax (443903978.py, line 1)",
     "output_type": "error",
     "traceback": [
      "\u001b[0;36m  Cell \u001b[0;32mIn [11], line 1\u001b[0;36m\u001b[0m\n\u001b[0;31m    for (`, let) in soel:\u001b[0m\n\u001b[0m         ^\u001b[0m\n\u001b[0;31mSyntaxError\u001b[0m\u001b[0;31m:\u001b[0m invalid syntax\n"
     ]
    }
   ],
   "source": [
    "for (~, let) in soel:\n",
    "    print(let)"
   ]
  },
  {
   "cell_type": "code",
   "execution_count": null,
   "id": "50033b25-16b0-4a7d-9e4c-37bacf2d1aae",
   "metadata": {},
   "outputs": [],
   "source": []
  }
 ],
 "metadata": {
  "kernelspec": {
   "display_name": "Python 3 (ipykernel)",
   "language": "python",
   "name": "python3"
  },
  "language_info": {
   "codemirror_mode": {
    "name": "ipython",
    "version": 3
   },
   "file_extension": ".py",
   "mimetype": "text/x-python",
   "name": "python",
   "nbconvert_exporter": "python",
   "pygments_lexer": "ipython3",
   "version": "3.10.6"
  }
 },
 "nbformat": 4,
 "nbformat_minor": 5
}
