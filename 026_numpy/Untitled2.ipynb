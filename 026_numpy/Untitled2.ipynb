{
 "cells": [
  {
   "cell_type": "code",
   "execution_count": 1,
   "id": "8f909096-194f-4eea-99a6-5dd81fd1c68b",
   "metadata": {},
   "outputs": [],
   "source": [
    "import numpy as np"
   ]
  },
  {
   "cell_type": "code",
   "execution_count": 2,
   "id": "42066ac1-6f8c-4fe9-a30f-7abac748914a",
   "metadata": {},
   "outputs": [
    {
     "data": {
      "text/plain": [
       "array([[ 1,  2,  3,  4],\n",
       "       [ 5,  6,  7,  8],\n",
       "       [ 9, 10, 11, 12],\n",
       "       [13, 14, 15, 16]])"
      ]
     },
     "execution_count": 2,
     "metadata": {},
     "output_type": "execute_result"
    }
   ],
   "source": [
    "matrix1 = np.arange(start=1, stop=17, step=1).reshape((4, 4))\n",
    "matrix1"
   ]
  },
  {
   "cell_type": "code",
   "execution_count": 3,
   "id": "ab1f9ae7-9287-4320-8190-f50a09306b70",
   "metadata": {},
   "outputs": [
    {
     "data": {
      "text/plain": [
       "['T',\n",
       " '__abs__',\n",
       " '__add__',\n",
       " '__and__',\n",
       " '__array__',\n",
       " '__array_finalize__',\n",
       " '__array_function__',\n",
       " '__array_interface__',\n",
       " '__array_prepare__',\n",
       " '__array_priority__',\n",
       " '__array_struct__',\n",
       " '__array_ufunc__',\n",
       " '__array_wrap__',\n",
       " '__bool__',\n",
       " '__class__',\n",
       " '__class_getitem__',\n",
       " '__complex__',\n",
       " '__contains__',\n",
       " '__copy__',\n",
       " '__deepcopy__',\n",
       " '__delattr__',\n",
       " '__delitem__',\n",
       " '__dir__',\n",
       " '__divmod__',\n",
       " '__dlpack__',\n",
       " '__dlpack_device__',\n",
       " '__doc__',\n",
       " '__eq__',\n",
       " '__float__',\n",
       " '__floordiv__',\n",
       " '__format__',\n",
       " '__ge__',\n",
       " '__getattribute__',\n",
       " '__getitem__',\n",
       " '__getstate__',\n",
       " '__gt__',\n",
       " '__hash__',\n",
       " '__iadd__',\n",
       " '__iand__',\n",
       " '__ifloordiv__',\n",
       " '__ilshift__',\n",
       " '__imatmul__',\n",
       " '__imod__',\n",
       " '__imul__',\n",
       " '__index__',\n",
       " '__init__',\n",
       " '__init_subclass__',\n",
       " '__int__',\n",
       " '__invert__',\n",
       " '__ior__',\n",
       " '__ipow__',\n",
       " '__irshift__',\n",
       " '__isub__',\n",
       " '__iter__',\n",
       " '__itruediv__',\n",
       " '__ixor__',\n",
       " '__le__',\n",
       " '__len__',\n",
       " '__lshift__',\n",
       " '__lt__',\n",
       " '__matmul__',\n",
       " '__mod__',\n",
       " '__mul__',\n",
       " '__ne__',\n",
       " '__neg__',\n",
       " '__new__',\n",
       " '__or__',\n",
       " '__pos__',\n",
       " '__pow__',\n",
       " '__radd__',\n",
       " '__rand__',\n",
       " '__rdivmod__',\n",
       " '__reduce__',\n",
       " '__reduce_ex__',\n",
       " '__repr__',\n",
       " '__rfloordiv__',\n",
       " '__rlshift__',\n",
       " '__rmatmul__',\n",
       " '__rmod__',\n",
       " '__rmul__',\n",
       " '__ror__',\n",
       " '__rpow__',\n",
       " '__rrshift__',\n",
       " '__rshift__',\n",
       " '__rsub__',\n",
       " '__rtruediv__',\n",
       " '__rxor__',\n",
       " '__setattr__',\n",
       " '__setitem__',\n",
       " '__setstate__',\n",
       " '__sizeof__',\n",
       " '__str__',\n",
       " '__sub__',\n",
       " '__subclasshook__',\n",
       " '__truediv__',\n",
       " '__xor__',\n",
       " 'all',\n",
       " 'any',\n",
       " 'argmax',\n",
       " 'argmin',\n",
       " 'argpartition',\n",
       " 'argsort',\n",
       " 'astype',\n",
       " 'base',\n",
       " 'byteswap',\n",
       " 'choose',\n",
       " 'clip',\n",
       " 'compress',\n",
       " 'conj',\n",
       " 'conjugate',\n",
       " 'copy',\n",
       " 'ctypes',\n",
       " 'cumprod',\n",
       " 'cumsum',\n",
       " 'data',\n",
       " 'diagonal',\n",
       " 'dot',\n",
       " 'dtype',\n",
       " 'dump',\n",
       " 'dumps',\n",
       " 'fill',\n",
       " 'flags',\n",
       " 'flat',\n",
       " 'flatten',\n",
       " 'getfield',\n",
       " 'imag',\n",
       " 'item',\n",
       " 'itemset',\n",
       " 'itemsize',\n",
       " 'max',\n",
       " 'mean',\n",
       " 'min',\n",
       " 'nbytes',\n",
       " 'ndim',\n",
       " 'newbyteorder',\n",
       " 'nonzero',\n",
       " 'partition',\n",
       " 'prod',\n",
       " 'ptp',\n",
       " 'put',\n",
       " 'ravel',\n",
       " 'real',\n",
       " 'repeat',\n",
       " 'reshape',\n",
       " 'resize',\n",
       " 'round',\n",
       " 'searchsorted',\n",
       " 'setfield',\n",
       " 'setflags',\n",
       " 'shape',\n",
       " 'size',\n",
       " 'sort',\n",
       " 'squeeze',\n",
       " 'std',\n",
       " 'strides',\n",
       " 'sum',\n",
       " 'swapaxes',\n",
       " 'take',\n",
       " 'tobytes',\n",
       " 'tofile',\n",
       " 'tolist',\n",
       " 'tostring',\n",
       " 'trace',\n",
       " 'transpose',\n",
       " 'var',\n",
       " 'view']"
      ]
     },
     "execution_count": 3,
     "metadata": {},
     "output_type": "execute_result"
    }
   ],
   "source": [
    "dir(matrix1)"
   ]
  },
  {
   "cell_type": "code",
   "execution_count": 4,
   "id": "bd5a3886-0dfc-45be-8cb4-08573d41031f",
   "metadata": {},
   "outputs": [
    {
     "data": {
      "text/plain": [
       "'[[ 1  2  3  4]\\n [ 5  6  7  8]\\n [ 9 10 11 12]\\n [13 14 15 16]]'"
      ]
     },
     "execution_count": 4,
     "metadata": {},
     "output_type": "execute_result"
    }
   ],
   "source": [
    "str(matrix1)"
   ]
  },
  {
   "cell_type": "code",
   "execution_count": 5,
   "id": "b09890d2-5037-4f53-a6b4-3ca15ea4249d",
   "metadata": {},
   "outputs": [
    {
     "name": "stdout",
     "output_type": "stream",
     "text": [
      "[[ 1  2  3  4]\n",
      " [ 5  6  7  8]\n",
      " [ 9 10 11 12]\n",
      " [13 14 15 16]]\n"
     ]
    }
   ],
   "source": [
    "print(matrix1)"
   ]
  },
  {
   "cell_type": "code",
   "execution_count": 6,
   "id": "1bb81e05-479b-4132-8270-371bf2cac181",
   "metadata": {},
   "outputs": [
    {
     "data": {
      "text/plain": [
       "'array([[ 1,  2,  3,  4],\\n       [ 5,  6,  7,  8],\\n       [ 9, 10, 11, 12],\\n       [13, 14, 15, 16]])'"
      ]
     },
     "execution_count": 6,
     "metadata": {},
     "output_type": "execute_result"
    }
   ],
   "source": [
    "repr(matrix1)"
   ]
  },
  {
   "cell_type": "code",
   "execution_count": 7,
   "id": "81d10575-c6aa-4423-b5fa-0531d4adb858",
   "metadata": {},
   "outputs": [
    {
     "data": {
      "text/plain": [
       "array([[ 1,  2,  3,  4],\n",
       "       [ 5,  6,  7,  8],\n",
       "       [ 9, 10, 11, 12],\n",
       "       [13, 14, 15, 16]])"
      ]
     },
     "execution_count": 7,
     "metadata": {},
     "output_type": "execute_result"
    }
   ],
   "source": [
    "matrix1"
   ]
  },
  {
   "cell_type": "code",
   "execution_count": 8,
   "id": "6d168287-7a23-486d-9a5e-7940e5b950b3",
   "metadata": {
    "scrolled": true,
    "tags": []
   },
   "outputs": [
    {
     "data": {
      "text/plain": [
       "\u001b[1;31mType:\u001b[0m        ndarray\n",
       "\u001b[1;31mString form:\u001b[0m\n",
       "[[ 1  2  3  4]\n",
       " [ 5  6  7  8]\n",
       " [ 9 10 11 12]\n",
       " [13 14 15 16]]\n",
       "\u001b[1;31mLength:\u001b[0m      4\n",
       "\u001b[1;31mFile:\u001b[0m        c:\\users\\appslab\\mambaforge\\envs\\jupyterlab-cf\\lib\\site-packages\\numpy\\__init__.py\n",
       "\u001b[1;31mDocstring:\u001b[0m  \n",
       "ndarray(shape, dtype=float, buffer=None, offset=0,\n",
       "        strides=None, order=None)\n",
       "\n",
       "An array object represents a multidimensional, homogeneous array\n",
       "of fixed-size items.  An associated data-type object describes the\n",
       "format of each element in the array (its byte-order, how many bytes it\n",
       "occupies in memory, whether it is an integer, a floating point number,\n",
       "or something else, etc.)\n",
       "\n",
       "Arrays should be constructed using `array`, `zeros` or `empty` (refer\n",
       "to the See Also section below).  The parameters given here refer to\n",
       "a low-level method (`ndarray(...)`) for instantiating an array.\n",
       "\n",
       "For more information, refer to the `numpy` module and examine the\n",
       "methods and attributes of an array.\n",
       "\n",
       "Parameters\n",
       "----------\n",
       "(for the __new__ method; see Notes below)\n",
       "\n",
       "shape : tuple of ints\n",
       "    Shape of created array.\n",
       "dtype : data-type, optional\n",
       "    Any object that can be interpreted as a numpy data type.\n",
       "buffer : object exposing buffer interface, optional\n",
       "    Used to fill the array with data.\n",
       "offset : int, optional\n",
       "    Offset of array data in buffer.\n",
       "strides : tuple of ints, optional\n",
       "    Strides of data in memory.\n",
       "order : {'C', 'F'}, optional\n",
       "    Row-major (C-style) or column-major (Fortran-style) order.\n",
       "\n",
       "Attributes\n",
       "----------\n",
       "T : ndarray\n",
       "    Transpose of the array.\n",
       "data : buffer\n",
       "    The array's elements, in memory.\n",
       "dtype : dtype object\n",
       "    Describes the format of the elements in the array.\n",
       "flags : dict\n",
       "    Dictionary containing information related to memory use, e.g.,\n",
       "    'C_CONTIGUOUS', 'OWNDATA', 'WRITEABLE', etc.\n",
       "flat : numpy.flatiter object\n",
       "    Flattened version of the array as an iterator.  The iterator\n",
       "    allows assignments, e.g., ``x.flat = 3`` (See `ndarray.flat` for\n",
       "    assignment examples; TODO).\n",
       "imag : ndarray\n",
       "    Imaginary part of the array.\n",
       "real : ndarray\n",
       "    Real part of the array.\n",
       "size : int\n",
       "    Number of elements in the array.\n",
       "itemsize : int\n",
       "    The memory use of each array element in bytes.\n",
       "nbytes : int\n",
       "    The total number of bytes required to store the array data,\n",
       "    i.e., ``itemsize * size``.\n",
       "ndim : int\n",
       "    The array's number of dimensions.\n",
       "shape : tuple of ints\n",
       "    Shape of the array.\n",
       "strides : tuple of ints\n",
       "    The step-size required to move from one element to the next in\n",
       "    memory. For example, a contiguous ``(3, 4)`` array of type\n",
       "    ``int16`` in C-order has strides ``(8, 2)``.  This implies that\n",
       "    to move from element to element in memory requires jumps of 2 bytes.\n",
       "    To move from row-to-row, one needs to jump 8 bytes at a time\n",
       "    (``2 * 4``).\n",
       "ctypes : ctypes object\n",
       "    Class containing properties of the array needed for interaction\n",
       "    with ctypes.\n",
       "base : ndarray\n",
       "    If the array is a view into another array, that array is its `base`\n",
       "    (unless that array is also a view).  The `base` array is where the\n",
       "    array data is actually stored.\n",
       "\n",
       "See Also\n",
       "--------\n",
       "array : Construct an array.\n",
       "zeros : Create an array, each element of which is zero.\n",
       "empty : Create an array, but leave its allocated memory unchanged (i.e.,\n",
       "        it contains \"garbage\").\n",
       "dtype : Create a data-type.\n",
       "numpy.typing.NDArray : An ndarray alias :term:`generic <generic type>`\n",
       "                       w.r.t. its `dtype.type <numpy.dtype.type>`.\n",
       "\n",
       "Notes\n",
       "-----\n",
       "There are two modes of creating an array using ``__new__``:\n",
       "\n",
       "1. If `buffer` is None, then only `shape`, `dtype`, and `order`\n",
       "   are used.\n",
       "2. If `buffer` is an object exposing the buffer interface, then\n",
       "   all keywords are interpreted.\n",
       "\n",
       "No ``__init__`` method is needed because the array is fully initialized\n",
       "after the ``__new__`` method.\n",
       "\n",
       "Examples\n",
       "--------\n",
       "These examples illustrate the low-level `ndarray` constructor.  Refer\n",
       "to the `See Also` section above for easier ways of constructing an\n",
       "ndarray.\n",
       "\n",
       "First mode, `buffer` is None:\n",
       "\n",
       ">>> np.ndarray(shape=(2,2), dtype=float, order='F')\n",
       "array([[0.0e+000, 0.0e+000], # random\n",
       "       [     nan, 2.5e-323]])\n",
       "\n",
       "Second mode:\n",
       "\n",
       ">>> np.ndarray((2,), buffer=np.array([1,2,3]),\n",
       "...            offset=np.int_().itemsize,\n",
       "...            dtype=int) # offset = 1*itemsize, i.e. skip first element\n",
       "array([2, 3])\n"
      ]
     },
     "metadata": {},
     "output_type": "display_data"
    }
   ],
   "source": [
    "? matrix1"
   ]
  },
  {
   "cell_type": "code",
   "execution_count": 9,
   "id": "a663acf5-c470-4f22-9892-e9e54e3e0591",
   "metadata": {},
   "outputs": [
    {
     "data": {
      "text/plain": [
       "4"
      ]
     },
     "execution_count": 9,
     "metadata": {},
     "output_type": "execute_result"
    }
   ],
   "source": [
    "len(matrix1)"
   ]
  },
  {
   "cell_type": "code",
   "execution_count": 10,
   "id": "c2ed73a7-43c2-484a-a377-3a9685d03c4c",
   "metadata": {},
   "outputs": [
    {
     "data": {
      "text/plain": [
       "array([[ 1,  2,  3,  4],\n",
       "       [ 5,  6,  7,  8],\n",
       "       [ 9, 10, 11, 12],\n",
       "       [13, 14, 15, 16]])"
      ]
     },
     "execution_count": 10,
     "metadata": {},
     "output_type": "execute_result"
    }
   ],
   "source": [
    "matrix1"
   ]
  },
  {
   "cell_type": "code",
   "execution_count": 11,
   "id": "6d8619bf-d597-4a62-ba0e-98b84c131b7d",
   "metadata": {},
   "outputs": [],
   "source": [
    "matrix2 = matrix1"
   ]
  },
  {
   "cell_type": "code",
   "execution_count": 12,
   "id": "3cd1c744-9515-414d-88df-6e4c9e9cf44c",
   "metadata": {},
   "outputs": [
    {
     "data": {
      "text/plain": [
       "array([[ 1,  2,  3,  4],\n",
       "       [ 5,  6,  7,  8],\n",
       "       [ 9, 10, 11, 12],\n",
       "       [13, 14, 15, 25]])"
      ]
     },
     "execution_count": 12,
     "metadata": {},
     "output_type": "execute_result"
    }
   ],
   "source": [
    "matrix2[3, 3] = 25\n",
    "matrix2"
   ]
  },
  {
   "cell_type": "code",
   "execution_count": 13,
   "id": "79e4bb36-0047-4c04-86e5-2f652ccdbe25",
   "metadata": {},
   "outputs": [
    {
     "data": {
      "text/plain": [
       "array([[ 1,  2,  3,  4],\n",
       "       [ 5,  6,  7,  8],\n",
       "       [ 9, 10, 11, 12],\n",
       "       [13, 14, 15, 16]])"
      ]
     },
     "execution_count": 13,
     "metadata": {},
     "output_type": "execute_result"
    }
   ],
   "source": [
    "matrix1 = np.arange(start=1, stop=17, step=1).reshape((4, 4))\n",
    "matrix1"
   ]
  },
  {
   "cell_type": "code",
   "execution_count": 14,
   "id": "7f194b7b-a5a1-46a1-aa14-6a60d0f89640",
   "metadata": {},
   "outputs": [],
   "source": [
    "from copy import copy, deepcopy"
   ]
  },
  {
   "cell_type": "code",
   "execution_count": 15,
   "id": "c79122be-0201-419b-824b-a34edb87b6d2",
   "metadata": {},
   "outputs": [],
   "source": [
    "matrix2 = copy(matrix1)"
   ]
  },
  {
   "cell_type": "code",
   "execution_count": 16,
   "id": "43e362b3-88f2-49c8-bb55-e69db1cb7626",
   "metadata": {},
   "outputs": [
    {
     "data": {
      "text/plain": [
       "array([[ 1,  2,  3,  4],\n",
       "       [ 5,  6,  7,  8],\n",
       "       [ 9, 10, 11, 12],\n",
       "       [13, 14, 15, 25]])"
      ]
     },
     "execution_count": 16,
     "metadata": {},
     "output_type": "execute_result"
    }
   ],
   "source": [
    "matrix2[3, 3] = 25\n",
    "matrix2"
   ]
  },
  {
   "cell_type": "code",
   "execution_count": 17,
   "id": "246fc115-4f82-47c9-96bf-1726848ce6eb",
   "metadata": {},
   "outputs": [
    {
     "data": {
      "text/plain": [
       "array([[ 1,  2,  3,  4],\n",
       "       [ 5,  6,  7,  8],\n",
       "       [ 9, 10, 11, 12],\n",
       "       [13, 14, 15, 16]])"
      ]
     },
     "execution_count": 17,
     "metadata": {},
     "output_type": "execute_result"
    }
   ],
   "source": [
    "matrix1"
   ]
  },
  {
   "cell_type": "code",
   "execution_count": 18,
   "id": "e2b8ea62-155a-46a1-9e9a-57538dbcca4d",
   "metadata": {},
   "outputs": [],
   "source": [
    "matrix3 = np.copy(matrix1)"
   ]
  },
  {
   "cell_type": "code",
   "execution_count": 19,
   "id": "668b8970-047a-4b7c-b514-483d36f6791b",
   "metadata": {},
   "outputs": [],
   "source": [
    "matrix4 = matrix1.copy()"
   ]
  },
  {
   "cell_type": "code",
   "execution_count": null,
   "id": "1dd428f1-94b5-4cd5-b820-f66f4472a5d6",
   "metadata": {},
   "outputs": [],
   "source": []
  },
  {
   "cell_type": "code",
   "execution_count": 20,
   "id": "42d83719-b93d-44ad-a044-ad63c30ac570",
   "metadata": {},
   "outputs": [],
   "source": [
    "list1 = [1, 'hello', 3.14]"
   ]
  },
  {
   "cell_type": "code",
   "execution_count": 21,
   "id": "1adfe5da-e03b-476c-8c97-bc7d6478e978",
   "metadata": {},
   "outputs": [],
   "source": [
    "dict1 = {'r': 'red', 'g': 'green', 'b': 'blue'}"
   ]
  },
  {
   "cell_type": "code",
   "execution_count": 22,
   "id": "666b0289-0fba-46e5-afd0-01b1d9c803cf",
   "metadata": {},
   "outputs": [
    {
     "data": {
      "text/plain": [
       "array([list([1, 'hello', 3.14]), {'r': 'red', 'g': 'green', 'b': 'blue'},\n",
       "       'world', 2, 6.28], dtype=object)"
      ]
     },
     "execution_count": 22,
     "metadata": {},
     "output_type": "execute_result"
    }
   ],
   "source": [
    "mixed_array= np.array([list1, dict1, 'world', 2, 6.28], dtype=object)\n",
    "mixed_array"
   ]
  },
  {
   "cell_type": "code",
   "execution_count": 23,
   "id": "fc5e3d15-ca87-4bd8-912b-01d4f7a3b3f3",
   "metadata": {},
   "outputs": [],
   "source": [
    "mixed_array2 = mixed_array.copy()"
   ]
  },
  {
   "cell_type": "code",
   "execution_count": 24,
   "id": "0ab559bb-ceb5-4c59-a9ed-0d3ca39edde4",
   "metadata": {},
   "outputs": [
    {
     "data": {
      "text/plain": [
       "array([list([4, 'hello', 3.14]), {'r': 'red', 'g': 'green', 'b': 'blue'},\n",
       "       'world', 2, 6.28], dtype=object)"
      ]
     },
     "execution_count": 24,
     "metadata": {},
     "output_type": "execute_result"
    }
   ],
   "source": [
    "mixed_array2[0][0] = 4\n",
    "mixed_array2"
   ]
  },
  {
   "cell_type": "code",
   "execution_count": 25,
   "id": "6435ef64-e3d8-4a5e-8021-15de4106b723",
   "metadata": {},
   "outputs": [
    {
     "data": {
      "text/plain": [
       "array([list([4, 'hello', 3.14]), {'r': 'red', 'g': 'green', 'b': 'blue'},\n",
       "       'world', 2, 6.28], dtype=object)"
      ]
     },
     "execution_count": 25,
     "metadata": {},
     "output_type": "execute_result"
    }
   ],
   "source": [
    "mixed_array"
   ]
  },
  {
   "cell_type": "code",
   "execution_count": 26,
   "id": "2dbdfc4b-54df-4e3a-a5a2-d69a28cd5408",
   "metadata": {},
   "outputs": [
    {
     "data": {
      "text/plain": [
       "[4, 'hello', 3.14]"
      ]
     },
     "execution_count": 26,
     "metadata": {},
     "output_type": "execute_result"
    }
   ],
   "source": [
    "list1"
   ]
  },
  {
   "cell_type": "code",
   "execution_count": 27,
   "id": "4331e4e6-6acc-4929-8737-fd4db2cd086c",
   "metadata": {},
   "outputs": [],
   "source": [
    "from copy import deepcopy"
   ]
  },
  {
   "cell_type": "code",
   "execution_count": 28,
   "id": "82c2f575-ae03-4111-80ce-551982efb371",
   "metadata": {},
   "outputs": [],
   "source": [
    "list1 = [1, 'hello', 3.14]"
   ]
  },
  {
   "cell_type": "code",
   "execution_count": 29,
   "id": "3ec3232a-1f5c-4e84-8cc8-3a47409e0e3e",
   "metadata": {},
   "outputs": [],
   "source": [
    "dict1 = {'r': 'red', 'g': 'green', 'b': 'blue'}"
   ]
  },
  {
   "cell_type": "code",
   "execution_count": 30,
   "id": "be1aaf89-9653-41c3-ab72-b72316328ec4",
   "metadata": {},
   "outputs": [
    {
     "data": {
      "text/plain": [
       "array([list([1, 'hello', 3.14]), {'r': 'red', 'g': 'green', 'b': 'blue'},\n",
       "       'world', 2, 6.28], dtype=object)"
      ]
     },
     "execution_count": 30,
     "metadata": {},
     "output_type": "execute_result"
    }
   ],
   "source": [
    "mixed_array= np.array([list1, dict1, 'world', 2, 6.28], dtype=object)\n",
    "mixed_array"
   ]
  },
  {
   "cell_type": "code",
   "execution_count": 31,
   "id": "18712c0e-b34b-4a91-8196-cdfba1292bdf",
   "metadata": {},
   "outputs": [],
   "source": [
    "mixed_array2 = deepcopy(mixed_array)"
   ]
  },
  {
   "cell_type": "code",
   "execution_count": 32,
   "id": "50ae0e45-addb-4aaf-a17a-f1add8f91df8",
   "metadata": {},
   "outputs": [
    {
     "data": {
      "text/plain": [
       "array([list([4, 'hello', 3.14]), {'r': 'red', 'g': 'green', 'b': 'blue'},\n",
       "       'world', 2, 6.28], dtype=object)"
      ]
     },
     "execution_count": 32,
     "metadata": {},
     "output_type": "execute_result"
    }
   ],
   "source": [
    "mixed_array2[0][0] = 4\n",
    "mixed_array2"
   ]
  },
  {
   "cell_type": "code",
   "execution_count": 33,
   "id": "36466cf7-0ad7-4590-8615-903980cd06c0",
   "metadata": {},
   "outputs": [
    {
     "data": {
      "text/plain": [
       "array([list([1, 'hello', 3.14]), {'r': 'red', 'g': 'green', 'b': 'blue'},\n",
       "       'world', 2, 6.28], dtype=object)"
      ]
     },
     "execution_count": 33,
     "metadata": {},
     "output_type": "execute_result"
    }
   ],
   "source": [
    "mixed_array"
   ]
  },
  {
   "cell_type": "code",
   "execution_count": 34,
   "id": "1ce4e3d1-5dc1-453a-9adc-4abe3cf0a7dd",
   "metadata": {},
   "outputs": [
    {
     "data": {
      "text/plain": [
       "[1, 'hello', 3.14]"
      ]
     },
     "execution_count": 34,
     "metadata": {},
     "output_type": "execute_result"
    }
   ],
   "source": [
    "list1"
   ]
  },
  {
   "cell_type": "code",
   "execution_count": null,
   "id": "8344457a-2c09-41c2-8caf-66db8e089385",
   "metadata": {},
   "outputs": [],
   "source": []
  },
  {
   "cell_type": "code",
   "execution_count": 35,
   "id": "4560f57e-536f-4d19-963a-bb44dc9959f1",
   "metadata": {},
   "outputs": [
    {
     "data": {
      "text/plain": [
       "array([[  1,   2,   3,   4],\n",
       "       [ -5,  -6,  -7,  -8],\n",
       "       [  9,  10,  11,  12],\n",
       "       [-13, -14, -15, -16]])"
      ]
     },
     "execution_count": 35,
     "metadata": {},
     "output_type": "execute_result"
    }
   ],
   "source": [
    "matrix1 = np.array([[1, 2, 3, 4],\n",
    "                    [-5, -6, -7, -8],\n",
    "                    [9, 10, 11, 12],\n",
    "                    [-13, -14, -15, -16]])\n",
    "matrix1"
   ]
  },
  {
   "cell_type": "code",
   "execution_count": 36,
   "id": "14ef9497-e0fb-43af-a0f4-7e790eeada95",
   "metadata": {},
   "outputs": [
    {
     "data": {
      "text/plain": [
       "array([[  1,   2,   3,   4],\n",
       "       [ -5,  -6,  -7,  -8],\n",
       "       [  9,  10,  11,  12],\n",
       "       [-13, -14, -15, -16]])"
      ]
     },
     "execution_count": 36,
     "metadata": {},
     "output_type": "execute_result"
    }
   ],
   "source": [
    "matrix2 = +matrix1\n",
    "matrix2"
   ]
  },
  {
   "cell_type": "code",
   "execution_count": 37,
   "id": "ab271af4-c938-4991-881b-d9b2084d74da",
   "metadata": {},
   "outputs": [
    {
     "data": {
      "text/plain": [
       "array([[ -1,  -2,  -3,  -4],\n",
       "       [  5,   6,   7,   8],\n",
       "       [ -9, -10, -11, -12],\n",
       "       [ 13,  14,  15,  16]])"
      ]
     },
     "execution_count": 37,
     "metadata": {},
     "output_type": "execute_result"
    }
   ],
   "source": [
    "matrix3 = -matrix1\n",
    "matrix3"
   ]
  },
  {
   "cell_type": "code",
   "execution_count": 38,
   "id": "bbd4a09a-a576-4434-8887-fa585ab15be7",
   "metadata": {},
   "outputs": [
    {
     "data": {
      "text/plain": [
       "array([[ 1,  2,  3,  4],\n",
       "       [ 5,  6,  7,  8],\n",
       "       [ 9, 10, 11, 12],\n",
       "       [13, 14, 15, 16]])"
      ]
     },
     "execution_count": 38,
     "metadata": {},
     "output_type": "execute_result"
    }
   ],
   "source": [
    "matrix4 = abs(matrix1)\n",
    "matrix4"
   ]
  },
  {
   "cell_type": "code",
   "execution_count": 39,
   "id": "36314863-7c5e-4597-9c95-370912fb6cca",
   "metadata": {},
   "outputs": [
    {
     "data": {
      "text/plain": [
       "array([[  1,   2,   3,   4],\n",
       "       [ -5,  -6,  -7,  -8],\n",
       "       [  9,  10,  11,  12],\n",
       "       [-13, -14, -15, -16]])"
      ]
     },
     "execution_count": 39,
     "metadata": {},
     "output_type": "execute_result"
    }
   ],
   "source": [
    "matrix1 = np.array([[1, 2, 3, 4],\n",
    "                    [-5, -6, -7, -8],\n",
    "                    [9, 10, 11, 12],\n",
    "                    [-13, -14, -15, -16]])\n",
    "matrix1"
   ]
  },
  {
   "cell_type": "code",
   "execution_count": 40,
   "id": "a0646862-5f31-43d4-8de0-43c4db6d85de",
   "metadata": {},
   "outputs": [
    {
     "data": {
      "text/plain": [
       "array([[ 1,  2,  3,  4],\n",
       "       [ 5,  6,  7,  8],\n",
       "       [ 9, 10, 11, 12],\n",
       "       [13, 14, 15, 16]])"
      ]
     },
     "execution_count": 40,
     "metadata": {},
     "output_type": "execute_result"
    }
   ],
   "source": [
    "matrix2 = abs(matrix1)\n",
    "matrix2"
   ]
  },
  {
   "cell_type": "code",
   "execution_count": 41,
   "id": "4cf2324a-be30-4324-b37e-153f325b938c",
   "metadata": {},
   "outputs": [
    {
     "data": {
      "text/plain": [
       "array([[ 2,  4,  6,  8],\n",
       "       [ 0,  0,  0,  0],\n",
       "       [18, 20, 22, 24],\n",
       "       [ 0,  0,  0,  0]])"
      ]
     },
     "execution_count": 41,
     "metadata": {},
     "output_type": "execute_result"
    }
   ],
   "source": [
    "matrix3 = matrix1 + matrix2\n",
    "matrix3"
   ]
  },
  {
   "cell_type": "code",
   "execution_count": 42,
   "id": "efe1342f-e031-4a83-bed5-c7efb263251c",
   "metadata": {},
   "outputs": [
    {
     "data": {
      "text/plain": [
       "array([[  1,   2,   3,   4],\n",
       "       [ -5,  -6,  -7,  -8],\n",
       "       [  9,  10,  11,  12],\n",
       "       [-13, -14, -15, -16]])"
      ]
     },
     "execution_count": 42,
     "metadata": {},
     "output_type": "execute_result"
    }
   ],
   "source": [
    "matrix1 = np.array([[1, 2, 3, 4],\n",
    "                    [-5, -6, -7, -8],\n",
    "                    [9, 10, 11, 12],\n",
    "                    [-13, -14, -15, -16]])\n",
    "matrix1"
   ]
  },
  {
   "cell_type": "code",
   "execution_count": 43,
   "id": "3ee480e2-582a-4d53-ad80-fc8550996227",
   "metadata": {},
   "outputs": [
    {
     "data": {
      "text/plain": [
       "array([[  5,   6,   7,   8],\n",
       "       [ -1,  -2,  -3,  -4],\n",
       "       [ 13,  14,  15,  16],\n",
       "       [ -9, -10, -11, -12]])"
      ]
     },
     "execution_count": 43,
     "metadata": {},
     "output_type": "execute_result"
    }
   ],
   "source": [
    "matrix2 = matrix1 + 4\n",
    "matrix2"
   ]
  },
  {
   "cell_type": "code",
   "execution_count": null,
   "id": "27c6b27e-cca3-47cd-82bf-78c4fc66d059",
   "metadata": {},
   "outputs": [],
   "source": []
  },
  {
   "cell_type": "code",
   "execution_count": 44,
   "id": "07309049-d68d-431b-82a1-9214d089a5a0",
   "metadata": {},
   "outputs": [
    {
     "data": {
      "text/plain": [
       "array([[  1,   2,   3,   4],\n",
       "       [ -5,  -6,  -7,  -8],\n",
       "       [  9,  10,  11,  12],\n",
       "       [-13, -14, -15, -16]])"
      ]
     },
     "execution_count": 44,
     "metadata": {},
     "output_type": "execute_result"
    }
   ],
   "source": [
    "matrix1 = np.array([[1, 2, 3, 4],\n",
    "                    [-5, -6, -7, -8],\n",
    "                    [9, 10, 11, 12],\n",
    "                    [-13, -14, -15, -16]])\n",
    "matrix1"
   ]
  },
  {
   "cell_type": "code",
   "execution_count": 45,
   "id": "b3c93b5c-4263-4cac-bdfc-347920f9dca2",
   "metadata": {},
   "outputs": [
    {
     "data": {
      "text/plain": [
       "array([[0, 1, 2, 3]])"
      ]
     },
     "execution_count": 45,
     "metadata": {},
     "output_type": "execute_result"
    }
   ],
   "source": [
    "row = np.arange(start=0, stop=4, step=1)[np.newaxis, :]\n",
    "row"
   ]
  },
  {
   "cell_type": "code",
   "execution_count": 46,
   "id": "fb13554e-bc59-4bb9-9488-dc07a6d01791",
   "metadata": {},
   "outputs": [
    {
     "data": {
      "text/plain": [
       "array([[  1,   3,   5,   7],\n",
       "       [ -5,  -5,  -5,  -5],\n",
       "       [  9,  11,  13,  15],\n",
       "       [-13, -13, -13, -13]])"
      ]
     },
     "execution_count": 46,
     "metadata": {},
     "output_type": "execute_result"
    }
   ],
   "source": [
    "matrix2 = matrix1 + row\n",
    "matrix2"
   ]
  },
  {
   "cell_type": "code",
   "execution_count": null,
   "id": "ab87d320-c62b-437b-843e-d165456c19ae",
   "metadata": {},
   "outputs": [],
   "source": []
  },
  {
   "cell_type": "code",
   "execution_count": 47,
   "id": "32842da2-3dd8-4014-9388-6da2c9a795d9",
   "metadata": {},
   "outputs": [
    {
     "data": {
      "text/plain": [
       "array([[  1,   2,   3,   4],\n",
       "       [ -5,  -6,  -7,  -8],\n",
       "       [  9,  10,  11,  12],\n",
       "       [-13, -14, -15, -16]])"
      ]
     },
     "execution_count": 47,
     "metadata": {},
     "output_type": "execute_result"
    }
   ],
   "source": [
    "matrix1 = np.array([[1, 2, 3, 4],\n",
    "                    [-5, -6, -7, -8],\n",
    "                    [9, 10, 11, 12],\n",
    "                    [-13, -14, -15, -16]])\n",
    "matrix1"
   ]
  },
  {
   "cell_type": "code",
   "execution_count": 48,
   "id": "dfaafe06-7559-4067-8227-32bc0191f696",
   "metadata": {},
   "outputs": [
    {
     "data": {
      "text/plain": [
       "array([[0],\n",
       "       [1],\n",
       "       [2],\n",
       "       [3]])"
      ]
     },
     "execution_count": 48,
     "metadata": {},
     "output_type": "execute_result"
    }
   ],
   "source": [
    "col = np.arange(start=0, stop=4, step=1)[:, np.newaxis]\n",
    "col"
   ]
  },
  {
   "cell_type": "code",
   "execution_count": 49,
   "id": "a3af4815-6792-4be1-8afc-f52a858e3a2f",
   "metadata": {},
   "outputs": [
    {
     "data": {
      "text/plain": [
       "array([[  1,   2,   3,   4],\n",
       "       [ -4,  -5,  -6,  -7],\n",
       "       [ 11,  12,  13,  14],\n",
       "       [-10, -11, -12, -13]])"
      ]
     },
     "execution_count": 49,
     "metadata": {},
     "output_type": "execute_result"
    }
   ],
   "source": [
    "matrix2 = matrix1 + col\n",
    "matrix2"
   ]
  },
  {
   "cell_type": "code",
   "execution_count": 50,
   "id": "77487963-b666-48a4-abdb-392b91e9e592",
   "metadata": {},
   "outputs": [
    {
     "data": {
      "text/plain": [
       "array([0, 1, 2, 3])"
      ]
     },
     "execution_count": 50,
     "metadata": {},
     "output_type": "execute_result"
    }
   ],
   "source": [
    "vec = np.arange(start=0, stop=4, step=1)\n",
    "vec"
   ]
  },
  {
   "cell_type": "code",
   "execution_count": 51,
   "id": "22df8a52-2550-41ad-a645-74a4b720629d",
   "metadata": {},
   "outputs": [
    {
     "data": {
      "text/plain": [
       "array([[0, 1, 2, 3]])"
      ]
     },
     "execution_count": 51,
     "metadata": {},
     "output_type": "execute_result"
    }
   ],
   "source": [
    "rowvec = np.arange(start=0, stop=4, step=1)[np.newaxis, :]\n",
    "rowvec"
   ]
  },
  {
   "cell_type": "code",
   "execution_count": 52,
   "id": "6746f63a-5feb-4b8c-a2ff-4bd184b3bb12",
   "metadata": {},
   "outputs": [
    {
     "data": {
      "text/plain": [
       "array([[0],\n",
       "       [1],\n",
       "       [2],\n",
       "       [3]])"
      ]
     },
     "execution_count": 52,
     "metadata": {},
     "output_type": "execute_result"
    }
   ],
   "source": [
    "colvec = np.arange(start=0, stop=4, step=1)[:, np.newaxis]\n",
    "colvec"
   ]
  },
  {
   "cell_type": "code",
   "execution_count": 53,
   "id": "47e28575-0031-4559-a1c6-b60fb887ce1f",
   "metadata": {},
   "outputs": [
    {
     "data": {
      "text/plain": [
       "array([[5, 6]])"
      ]
     },
     "execution_count": 53,
     "metadata": {},
     "output_type": "execute_result"
    }
   ],
   "source": [
    "leftarray = np.array([5, 6], ndmin=2)\n",
    "leftarray"
   ]
  },
  {
   "cell_type": "code",
   "execution_count": 54,
   "id": "278d30ed-9842-45ec-a251-26e55e6d611f",
   "metadata": {},
   "outputs": [
    {
     "data": {
      "text/plain": [
       "array([[7],\n",
       "       [8]])"
      ]
     },
     "execution_count": 54,
     "metadata": {},
     "output_type": "execute_result"
    }
   ],
   "source": [
    "rightarray = np.array([7, 8])[:, np.newaxis]\n",
    "rightarray"
   ]
  },
  {
   "cell_type": "code",
   "execution_count": 55,
   "id": "a41f344c-ca56-4c2a-bfa3-a85afb3a5beb",
   "metadata": {},
   "outputs": [
    {
     "data": {
      "text/plain": [
       "(1, 2)"
      ]
     },
     "execution_count": 55,
     "metadata": {},
     "output_type": "execute_result"
    }
   ],
   "source": [
    "leftarray.shape"
   ]
  },
  {
   "cell_type": "code",
   "execution_count": 56,
   "id": "92648158-6499-42e0-96ab-e9370bd2691d",
   "metadata": {},
   "outputs": [
    {
     "data": {
      "text/plain": [
       "(2, 1)"
      ]
     },
     "execution_count": 56,
     "metadata": {},
     "output_type": "execute_result"
    }
   ],
   "source": [
    "rightarray.shape"
   ]
  },
  {
   "cell_type": "code",
   "execution_count": 57,
   "id": "3f77699b-ec04-4e08-a537-cf03dffa62e8",
   "metadata": {},
   "outputs": [
    {
     "data": {
      "text/plain": [
       "True"
      ]
     },
     "execution_count": 57,
     "metadata": {},
     "output_type": "execute_result"
    }
   ],
   "source": [
    "leftarray.shape[-1] == rightarray.shape[0]"
   ]
  },
  {
   "cell_type": "code",
   "execution_count": 58,
   "id": "223461e7-f2ea-437a-a8f7-cf2c2fca4bd8",
   "metadata": {},
   "outputs": [
    {
     "data": {
      "text/plain": [
       "(2, 2)"
      ]
     },
     "execution_count": 58,
     "metadata": {},
     "output_type": "execute_result"
    }
   ],
   "source": [
    "leftarray.shape[-1:] + rightarray.shape[:len(rightarray.shape)-1]"
   ]
  },
  {
   "cell_type": "code",
   "execution_count": 59,
   "id": "40d09a14-0ddc-4a1b-91e8-bc571bae8eaa",
   "metadata": {},
   "outputs": [
    {
     "data": {
      "text/plain": [
       "array([[83]])"
      ]
     },
     "execution_count": 59,
     "metadata": {},
     "output_type": "execute_result"
    }
   ],
   "source": [
    "leftarray @ rightarray"
   ]
  },
  {
   "cell_type": "code",
   "execution_count": 60,
   "id": "7f8c1451-a371-45bf-bfdd-06724d964985",
   "metadata": {},
   "outputs": [
    {
     "data": {
      "text/plain": [
       "array([[83]])"
      ]
     },
     "execution_count": 60,
     "metadata": {},
     "output_type": "execute_result"
    }
   ],
   "source": [
    "np.dot(leftarray, rightarray)"
   ]
  },
  {
   "cell_type": "code",
   "execution_count": 61,
   "id": "f64d56dc-c556-494c-afb3-8dec69f23cce",
   "metadata": {},
   "outputs": [
    {
     "data": {
      "text/plain": [
       "array([[5],\n",
       "       [6]])"
      ]
     },
     "execution_count": 61,
     "metadata": {},
     "output_type": "execute_result"
    }
   ],
   "source": [
    "leftarray = np.array([5, 6])[:, np.newaxis]\n",
    "leftarray"
   ]
  },
  {
   "cell_type": "code",
   "execution_count": 62,
   "id": "70d78c88-a661-48c3-8e38-4896d3d789aa",
   "metadata": {},
   "outputs": [
    {
     "data": {
      "text/plain": [
       "array([[7, 8]])"
      ]
     },
     "execution_count": 62,
     "metadata": {},
     "output_type": "execute_result"
    }
   ],
   "source": [
    "rightarray = np.array([7, 8], ndmin=2)\n",
    "rightarray"
   ]
  },
  {
   "cell_type": "code",
   "execution_count": 63,
   "id": "6b3fddb0-a86a-4e9f-87c2-e1ea3a7c1845",
   "metadata": {},
   "outputs": [
    {
     "data": {
      "text/plain": [
       "array([[35, 40],\n",
       "       [42, 48]])"
      ]
     },
     "execution_count": 63,
     "metadata": {},
     "output_type": "execute_result"
    }
   ],
   "source": [
    "leftarray @ rightarray"
   ]
  },
  {
   "cell_type": "code",
   "execution_count": 64,
   "id": "5416278d-3b68-4de6-8fa0-33d1ce3d67f2",
   "metadata": {},
   "outputs": [],
   "source": [
    "leftlist = [5, 6]"
   ]
  },
  {
   "cell_type": "code",
   "execution_count": 65,
   "id": "374104f8-d2df-4568-afb8-f5e037151d4c",
   "metadata": {},
   "outputs": [],
   "source": [
    "rightlist = [7, 8]"
   ]
  },
  {
   "cell_type": "code",
   "execution_count": 66,
   "id": "ddc70d3e-c2d7-42c9-9a55-88b4f44b5083",
   "metadata": {},
   "outputs": [
    {
     "data": {
      "text/plain": [
       "83"
      ]
     },
     "execution_count": 66,
     "metadata": {},
     "output_type": "execute_result"
    }
   ],
   "source": [
    "np.inner(leftlist, rightlist)"
   ]
  },
  {
   "cell_type": "code",
   "execution_count": 67,
   "id": "99effaef-3d4d-4977-9db0-40b50988ac87",
   "metadata": {},
   "outputs": [
    {
     "data": {
      "text/plain": [
       "array([[35, 40],\n",
       "       [42, 48]])"
      ]
     },
     "execution_count": 67,
     "metadata": {},
     "output_type": "execute_result"
    }
   ],
   "source": [
    "np.outer(leftlist, rightlist)"
   ]
  },
  {
   "cell_type": "code",
   "execution_count": null,
   "id": "ed4e7437-7d6a-4c0f-abb9-ac87ef4b7ac1",
   "metadata": {},
   "outputs": [],
   "source": []
  },
  {
   "cell_type": "code",
   "execution_count": 75,
   "id": "280e70ab-5333-4925-b45d-5646cd54e070",
   "metadata": {},
   "outputs": [
    {
     "data": {
      "text/plain": [
       "array([[5, 6],\n",
       "       [3, 3]])"
      ]
     },
     "execution_count": 75,
     "metadata": {},
     "output_type": "execute_result"
    }
   ],
   "source": [
    "equations = np.array([[5, 6],\n",
    "                      [3, 3]])\n",
    "equations"
   ]
  },
  {
   "cell_type": "code",
   "execution_count": 76,
   "id": "4da81c8a-2a03-4e11-9b87-4e849de3e7cc",
   "metadata": {},
   "outputs": [
    {
     "data": {
      "text/plain": [
       "array([[83],\n",
       "       [42]])"
      ]
     },
     "execution_count": 76,
     "metadata": {},
     "output_type": "execute_result"
    }
   ],
   "source": [
    "results = np.array([83, 42])[:, np.newaxis]\n",
    "results"
   ]
  },
  {
   "cell_type": "code",
   "execution_count": 86,
   "id": "28d34eec-1e40-4867-abda-607ac0747498",
   "metadata": {},
   "outputs": [
    {
     "data": {
      "text/plain": [
       "array([[-1.        ,  2.        ],\n",
       "       [ 1.        , -1.66666667]])"
      ]
     },
     "execution_count": 86,
     "metadata": {},
     "output_type": "execute_result"
    }
   ],
   "source": [
    "inv_equations = np.linalg.inv(equations)\n",
    "inv_equations"
   ]
  },
  {
   "cell_type": "code",
   "execution_count": 83,
   "id": "c07800b5-d518-4f0e-89b9-9970be22e7ae",
   "metadata": {},
   "outputs": [
    {
     "data": {
      "text/plain": [
       "array([[ 1.0000000e+00, -8.8817842e-16],\n",
       "       [ 0.0000000e+00,  1.0000000e+00]])"
      ]
     },
     "execution_count": 83,
     "metadata": {},
     "output_type": "execute_result"
    }
   ],
   "source": [
    "inv_equations @ equations"
   ]
  },
  {
   "cell_type": "code",
   "execution_count": 89,
   "id": "cdde810e-d06b-46aa-aa1f-6a598381317e",
   "metadata": {},
   "outputs": [
    {
     "data": {
      "text/plain": [
       "array([[1., 0.],\n",
       "       [0., 1.]])"
      ]
     },
     "execution_count": 89,
     "metadata": {},
     "output_type": "execute_result"
    }
   ],
   "source": [
    "np.identity(2)"
   ]
  },
  {
   "cell_type": "code",
   "execution_count": 88,
   "id": "d7d57700-87c4-4316-8032-593e7bd4f587",
   "metadata": {},
   "outputs": [
    {
     "data": {
      "text/plain": [
       "array([[1., 0.],\n",
       "       [0., 1.]])"
      ]
     },
     "execution_count": 88,
     "metadata": {},
     "output_type": "execute_result"
    }
   ],
   "source": [
    "np.eye(2)"
   ]
  },
  {
   "cell_type": "code",
   "execution_count": 85,
   "id": "0d0adf31-ff35-4442-9727-ad8f741fd8b9",
   "metadata": {},
   "outputs": [
    {
     "data": {
      "text/plain": [
       "array([[ 1.],\n",
       "       [13.]])"
      ]
     },
     "execution_count": 85,
     "metadata": {},
     "output_type": "execute_result"
    }
   ],
   "source": [
    "coefficients = inv_equations @ results\n",
    "coefficients"
   ]
  },
  {
   "cell_type": "code",
   "execution_count": 91,
   "id": "35a45e63-6403-4d85-94f4-5078102c5d11",
   "metadata": {},
   "outputs": [
    {
     "data": {
      "text/plain": [
       "array([[ 1.],\n",
       "       [13.]])"
      ]
     },
     "execution_count": 91,
     "metadata": {},
     "output_type": "execute_result"
    }
   ],
   "source": [
    "coefficients = np.linalg.solve(equations, results)\n",
    "coefficients"
   ]
  },
  {
   "cell_type": "code",
   "execution_count": null,
   "id": "41f6e5f9-483a-42f1-9167-58155e15e25e",
   "metadata": {},
   "outputs": [],
   "source": []
  },
  {
   "cell_type": "code",
   "execution_count": null,
   "id": "53339c22-d093-4f03-931d-69325b89a400",
   "metadata": {},
   "outputs": [],
   "source": []
  },
  {
   "cell_type": "code",
   "execution_count": 77,
   "id": "296bc4a2-95be-4154-9a48-d814013af22f",
   "metadata": {},
   "outputs": [
    {
     "data": {
      "text/plain": [
       "array([[ 1.],\n",
       "       [13.]])"
      ]
     },
     "execution_count": 77,
     "metadata": {},
     "output_type": "execute_result"
    }
   ],
   "source": [
    "coefficients = np.linalg.solve(equations, results)\n",
    "coefficients"
   ]
  },
  {
   "cell_type": "code",
   "execution_count": null,
   "id": "e1d2a77f-6ada-45c9-9e34-a38a210df011",
   "metadata": {},
   "outputs": [],
   "source": []
  },
  {
   "cell_type": "code",
   "execution_count": null,
   "id": "ebc54d9b-139f-4e6c-b2ae-6e90fd5566ab",
   "metadata": {},
   "outputs": [],
   "source": []
  },
  {
   "cell_type": "code",
   "execution_count": null,
   "id": "5c6acb28-3f73-4104-a081-7ea2430ca105",
   "metadata": {},
   "outputs": [],
   "source": []
  },
  {
   "cell_type": "code",
   "execution_count": null,
   "id": "3ef6b95d-5fb7-4a72-8899-da7435a33ede",
   "metadata": {},
   "outputs": [],
   "source": []
  },
  {
   "cell_type": "code",
   "execution_count": null,
   "id": "3522d73e-e4dd-4f04-8977-07a2cbde66fd",
   "metadata": {},
   "outputs": [],
   "source": []
  },
  {
   "cell_type": "code",
   "execution_count": null,
   "id": "e6f4bf3f-d321-4c5b-85d0-224daef3debb",
   "metadata": {},
   "outputs": [],
   "source": []
  },
  {
   "cell_type": "code",
   "execution_count": null,
   "id": "2a07aa7e-7a21-490d-b8cb-d824268e9c46",
   "metadata": {},
   "outputs": [],
   "source": []
  },
  {
   "cell_type": "code",
   "execution_count": null,
   "id": "bc4a3ad8-7dbc-4faa-b389-be88f763ad47",
   "metadata": {},
   "outputs": [],
   "source": []
  },
  {
   "cell_type": "code",
   "execution_count": null,
   "id": "3b9b0eef-0b16-4d16-9c34-9285d891f85f",
   "metadata": {},
   "outputs": [],
   "source": [
    "a = np.array([[1, 2],\n",
    "              [3, 1]])\n",
    "b = np.array([11, 10])[:, np.newaxis]"
   ]
  },
  {
   "cell_type": "code",
   "execution_count": null,
   "id": "63bcc135-72c7-43da-88a2-602b6775ca00",
   "metadata": {},
   "outputs": [],
   "source": []
  },
  {
   "cell_type": "code",
   "execution_count": null,
   "id": "f2254282-1971-4491-9228-c8013010e7c2",
   "metadata": {},
   "outputs": [],
   "source": []
  },
  {
   "cell_type": "code",
   "execution_count": null,
   "id": "a52d841c-9a04-4dd1-a17b-7d7e10a6f86d",
   "metadata": {},
   "outputs": [],
   "source": []
  }
 ],
 "metadata": {
  "kernelspec": {
   "display_name": "Python 3 (ipykernel)",
   "language": "python",
   "name": "python3"
  },
  "language_info": {
   "codemirror_mode": {
    "name": "ipython",
    "version": 3
   },
   "file_extension": ".py",
   "mimetype": "text/x-python",
   "name": "python",
   "nbconvert_exporter": "python",
   "pygments_lexer": "ipython3",
   "version": "3.11.0"
  }
 },
 "nbformat": 4,
 "nbformat_minor": 5
}
