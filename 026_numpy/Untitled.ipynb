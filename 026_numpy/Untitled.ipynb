{
 "cells": [
  {
   "cell_type": "code",
   "execution_count": 1,
   "id": "85d370ca-83b7-4502-bd1a-507d1a8ede0d",
   "metadata": {},
   "outputs": [],
   "source": [
    "import numpy as np"
   ]
  },
  {
   "cell_type": "code",
   "execution_count": 2,
   "id": "183fefcb-d2c8-47a0-aa84-620eba2a0acd",
   "metadata": {},
   "outputs": [
    {
     "data": {
      "text/plain": [
       "'numpy'"
      ]
     },
     "execution_count": 2,
     "metadata": {},
     "output_type": "execute_result"
    }
   ],
   "source": [
    "np.__name__"
   ]
  },
  {
   "cell_type": "code",
   "execution_count": 3,
   "id": "e96a67e5-001e-4776-b91b-1cecfb7c285b",
   "metadata": {},
   "outputs": [
    {
     "data": {
      "text/plain": [
       "'1.24.1'"
      ]
     },
     "execution_count": 3,
     "metadata": {},
     "output_type": "execute_result"
    }
   ],
   "source": [
    "np.__version__"
   ]
  },
  {
   "cell_type": "code",
   "execution_count": 4,
   "id": "6580b86a-ab8f-4722-bbb2-b9c84d564a86",
   "metadata": {},
   "outputs": [
    {
     "data": {
      "text/plain": [
       "['C:\\\\Users\\\\AppsLab\\\\mambaforge\\\\envs\\\\jupyterlab-cf\\\\Lib\\\\site-packages\\\\numpy']"
      ]
     },
     "execution_count": 4,
     "metadata": {},
     "output_type": "execute_result"
    }
   ],
   "source": [
    "np.__path__"
   ]
  },
  {
   "cell_type": "code",
   "execution_count": 5,
   "id": "b42dbf5c-2038-4b2b-8a8d-180c9e7d090a",
   "metadata": {},
   "outputs": [
    {
     "data": {
      "text/plain": [
       "\u001b[1;31mInit signature:\u001b[0m  \u001b[0mnp\u001b[0m\u001b[1;33m.\u001b[0m\u001b[0mndarray\u001b[0m\u001b[1;33m(\u001b[0m\u001b[0mself\u001b[0m\u001b[1;33m,\u001b[0m \u001b[1;33m/\u001b[0m\u001b[1;33m,\u001b[0m \u001b[1;33m*\u001b[0m\u001b[0margs\u001b[0m\u001b[1;33m,\u001b[0m \u001b[1;33m**\u001b[0m\u001b[0mkwargs\u001b[0m\u001b[1;33m)\u001b[0m\u001b[1;33m\u001b[0m\u001b[1;33m\u001b[0m\u001b[0m\n",
       "\u001b[1;31mDocstring:\u001b[0m     \n",
       "ndarray(shape, dtype=float, buffer=None, offset=0,\n",
       "        strides=None, order=None)\n",
       "\n",
       "An array object represents a multidimensional, homogeneous array\n",
       "of fixed-size items.  An associated data-type object describes the\n",
       "format of each element in the array (its byte-order, how many bytes it\n",
       "occupies in memory, whether it is an integer, a floating point number,\n",
       "or something else, etc.)\n",
       "\n",
       "Arrays should be constructed using `array`, `zeros` or `empty` (refer\n",
       "to the See Also section below).  The parameters given here refer to\n",
       "a low-level method (`ndarray(...)`) for instantiating an array.\n",
       "\n",
       "For more information, refer to the `numpy` module and examine the\n",
       "methods and attributes of an array.\n",
       "\n",
       "Parameters\n",
       "----------\n",
       "(for the __new__ method; see Notes below)\n",
       "\n",
       "shape : tuple of ints\n",
       "    Shape of created array.\n",
       "dtype : data-type, optional\n",
       "    Any object that can be interpreted as a numpy data type.\n",
       "buffer : object exposing buffer interface, optional\n",
       "    Used to fill the array with data.\n",
       "offset : int, optional\n",
       "    Offset of array data in buffer.\n",
       "strides : tuple of ints, optional\n",
       "    Strides of data in memory.\n",
       "order : {'C', 'F'}, optional\n",
       "    Row-major (C-style) or column-major (Fortran-style) order.\n",
       "\n",
       "Attributes\n",
       "----------\n",
       "T : ndarray\n",
       "    Transpose of the array.\n",
       "data : buffer\n",
       "    The array's elements, in memory.\n",
       "dtype : dtype object\n",
       "    Describes the format of the elements in the array.\n",
       "flags : dict\n",
       "    Dictionary containing information related to memory use, e.g.,\n",
       "    'C_CONTIGUOUS', 'OWNDATA', 'WRITEABLE', etc.\n",
       "flat : numpy.flatiter object\n",
       "    Flattened version of the array as an iterator.  The iterator\n",
       "    allows assignments, e.g., ``x.flat = 3`` (See `ndarray.flat` for\n",
       "    assignment examples; TODO).\n",
       "imag : ndarray\n",
       "    Imaginary part of the array.\n",
       "real : ndarray\n",
       "    Real part of the array.\n",
       "size : int\n",
       "    Number of elements in the array.\n",
       "itemsize : int\n",
       "    The memory use of each array element in bytes.\n",
       "nbytes : int\n",
       "    The total number of bytes required to store the array data,\n",
       "    i.e., ``itemsize * size``.\n",
       "ndim : int\n",
       "    The array's number of dimensions.\n",
       "shape : tuple of ints\n",
       "    Shape of the array.\n",
       "strides : tuple of ints\n",
       "    The step-size required to move from one element to the next in\n",
       "    memory. For example, a contiguous ``(3, 4)`` array of type\n",
       "    ``int16`` in C-order has strides ``(8, 2)``.  This implies that\n",
       "    to move from element to element in memory requires jumps of 2 bytes.\n",
       "    To move from row-to-row, one needs to jump 8 bytes at a time\n",
       "    (``2 * 4``).\n",
       "ctypes : ctypes object\n",
       "    Class containing properties of the array needed for interaction\n",
       "    with ctypes.\n",
       "base : ndarray\n",
       "    If the array is a view into another array, that array is its `base`\n",
       "    (unless that array is also a view).  The `base` array is where the\n",
       "    array data is actually stored.\n",
       "\n",
       "See Also\n",
       "--------\n",
       "array : Construct an array.\n",
       "zeros : Create an array, each element of which is zero.\n",
       "empty : Create an array, but leave its allocated memory unchanged (i.e.,\n",
       "        it contains \"garbage\").\n",
       "dtype : Create a data-type.\n",
       "numpy.typing.NDArray : An ndarray alias :term:`generic <generic type>`\n",
       "                       w.r.t. its `dtype.type <numpy.dtype.type>`.\n",
       "\n",
       "Notes\n",
       "-----\n",
       "There are two modes of creating an array using ``__new__``:\n",
       "\n",
       "1. If `buffer` is None, then only `shape`, `dtype`, and `order`\n",
       "   are used.\n",
       "2. If `buffer` is an object exposing the buffer interface, then\n",
       "   all keywords are interpreted.\n",
       "\n",
       "No ``__init__`` method is needed because the array is fully initialized\n",
       "after the ``__new__`` method.\n",
       "\n",
       "Examples\n",
       "--------\n",
       "These examples illustrate the low-level `ndarray` constructor.  Refer\n",
       "to the `See Also` section above for easier ways of constructing an\n",
       "ndarray.\n",
       "\n",
       "First mode, `buffer` is None:\n",
       "\n",
       ">>> np.ndarray(shape=(2,2), dtype=float, order='F')\n",
       "array([[0.0e+000, 0.0e+000], # random\n",
       "       [     nan, 2.5e-323]])\n",
       "\n",
       "Second mode:\n",
       "\n",
       ">>> np.ndarray((2,), buffer=np.array([1,2,3]),\n",
       "...            offset=np.int_().itemsize,\n",
       "...            dtype=int) # offset = 1*itemsize, i.e. skip first element\n",
       "array([2, 3])\n",
       "\u001b[1;31mFile:\u001b[0m           c:\\users\\appslab\\mambaforge\\envs\\jupyterlab-cf\\lib\\site-packages\\numpy\\__init__.py\n",
       "\u001b[1;31mType:\u001b[0m           type\n",
       "\u001b[1;31mSubclasses:\u001b[0m     chararray, recarray, memmap, matrix, MaskedArray\n"
      ]
     },
     "metadata": {},
     "output_type": "display_data"
    }
   ],
   "source": [
    "? np.ndarray"
   ]
  },
  {
   "cell_type": "code",
   "execution_count": 6,
   "id": "22267d8d-ff11-4d3f-961e-1a8bc4e81eea",
   "metadata": {},
   "outputs": [
    {
     "data": {
      "text/plain": [
       "\u001b[1;31mDocstring:\u001b[0m\n",
       "array(object, dtype=None, *, copy=True, order='K', subok=False, ndmin=0,\n",
       "      like=None)\n",
       "\n",
       "Create an array.\n",
       "\n",
       "Parameters\n",
       "----------\n",
       "object : array_like\n",
       "    An array, any object exposing the array interface, an object whose\n",
       "    __array__ method returns an array, or any (nested) sequence.\n",
       "    If object is a scalar, a 0-dimensional array containing object is\n",
       "    returned.\n",
       "dtype : data-type, optional\n",
       "    The desired data-type for the array.  If not given, then the type will\n",
       "    be determined as the minimum type required to hold the objects in the\n",
       "    sequence.\n",
       "copy : bool, optional\n",
       "    If true (default), then the object is copied.  Otherwise, a copy will\n",
       "    only be made if __array__ returns a copy, if obj is a nested sequence,\n",
       "    or if a copy is needed to satisfy any of the other requirements\n",
       "    (`dtype`, `order`, etc.).\n",
       "order : {'K', 'A', 'C', 'F'}, optional\n",
       "    Specify the memory layout of the array. If object is not an array, the\n",
       "    newly created array will be in C order (row major) unless 'F' is\n",
       "    specified, in which case it will be in Fortran order (column major).\n",
       "    If object is an array the following holds.\n",
       "\n",
       "    ===== ========= ===================================================\n",
       "    order  no copy                     copy=True\n",
       "    ===== ========= ===================================================\n",
       "    'K'   unchanged F & C order preserved, otherwise most similar order\n",
       "    'A'   unchanged F order if input is F and not C, otherwise C order\n",
       "    'C'   C order   C order\n",
       "    'F'   F order   F order\n",
       "    ===== ========= ===================================================\n",
       "\n",
       "    When ``copy=False`` and a copy is made for other reasons, the result is\n",
       "    the same as if ``copy=True``, with some exceptions for 'A', see the\n",
       "    Notes section. The default order is 'K'.\n",
       "subok : bool, optional\n",
       "    If True, then sub-classes will be passed-through, otherwise\n",
       "    the returned array will be forced to be a base-class array (default).\n",
       "ndmin : int, optional\n",
       "    Specifies the minimum number of dimensions that the resulting\n",
       "    array should have.  Ones will be prepended to the shape as\n",
       "    needed to meet this requirement.\n",
       "like : array_like, optional\n",
       "    Reference object to allow the creation of arrays which are not\n",
       "    NumPy arrays. If an array-like passed in as ``like`` supports\n",
       "    the ``__array_function__`` protocol, the result will be defined\n",
       "    by it. In this case, it ensures the creation of an array object\n",
       "    compatible with that passed in via this argument.\n",
       "\n",
       "    .. versionadded:: 1.20.0\n",
       "\n",
       "Returns\n",
       "-------\n",
       "out : ndarray\n",
       "    An array object satisfying the specified requirements.\n",
       "\n",
       "See Also\n",
       "--------\n",
       "empty_like : Return an empty array with shape and type of input.\n",
       "ones_like : Return an array of ones with shape and type of input.\n",
       "zeros_like : Return an array of zeros with shape and type of input.\n",
       "full_like : Return a new array with shape of input filled with value.\n",
       "empty : Return a new uninitialized array.\n",
       "ones : Return a new array setting values to one.\n",
       "zeros : Return a new array setting values to zero.\n",
       "full : Return a new array of given shape filled with value.\n",
       "\n",
       "\n",
       "Notes\n",
       "-----\n",
       "When order is 'A' and `object` is an array in neither 'C' nor 'F' order,\n",
       "and a copy is forced by a change in dtype, then the order of the result is\n",
       "not necessarily 'C' as expected. This is likely a bug.\n",
       "\n",
       "Examples\n",
       "--------\n",
       ">>> np.array([1, 2, 3])\n",
       "array([1, 2, 3])\n",
       "\n",
       "Upcasting:\n",
       "\n",
       ">>> np.array([1, 2, 3.0])\n",
       "array([ 1.,  2.,  3.])\n",
       "\n",
       "More than one dimension:\n",
       "\n",
       ">>> np.array([[1, 2], [3, 4]])\n",
       "array([[1, 2],\n",
       "       [3, 4]])\n",
       "\n",
       "Minimum dimensions 2:\n",
       "\n",
       ">>> np.array([1, 2, 3], ndmin=2)\n",
       "array([[1, 2, 3]])\n",
       "\n",
       "Type provided:\n",
       "\n",
       ">>> np.array([1, 2, 3], dtype=complex)\n",
       "array([ 1.+0.j,  2.+0.j,  3.+0.j])\n",
       "\n",
       "Data-type consisting of more than one element:\n",
       "\n",
       ">>> x = np.array([(1,2),(3,4)],dtype=[('a','<i4'),('b','<i4')])\n",
       ">>> x['a']\n",
       "array([1, 3])\n",
       "\n",
       "Creating an array from sub-classes:\n",
       "\n",
       ">>> np.array(np.mat('1 2; 3 4'))\n",
       "array([[1, 2],\n",
       "       [3, 4]])\n",
       "\n",
       ">>> np.array(np.mat('1 2; 3 4'), subok=True)\n",
       "matrix([[1, 2],\n",
       "        [3, 4]])\n",
       "\u001b[1;31mType:\u001b[0m      builtin_function_or_method\n"
      ]
     },
     "metadata": {},
     "output_type": "display_data"
    }
   ],
   "source": [
    "? np.array"
   ]
  },
  {
   "cell_type": "code",
   "execution_count": 7,
   "id": "07e46bd3-6306-4bd1-83b2-37e7869499b7",
   "metadata": {},
   "outputs": [
    {
     "data": {
      "text/plain": [
       "[1, 2, 3, 4]"
      ]
     },
     "execution_count": 7,
     "metadata": {},
     "output_type": "execute_result"
    }
   ],
   "source": [
    "list1 = [1, 2, 3, 4]\n",
    "list1"
   ]
  },
  {
   "cell_type": "code",
   "execution_count": 8,
   "id": "8abf620d-61f4-41af-9f08-ef0b56d53e8b",
   "metadata": {},
   "outputs": [
    {
     "data": {
      "text/plain": [
       "[1, 2, 3, 4]"
      ]
     },
     "execution_count": 8,
     "metadata": {},
     "output_type": "execute_result"
    }
   ],
   "source": [
    "list1 = [1, \n",
    "         2, \n",
    "         3, \n",
    "         4]\n",
    "list1"
   ]
  },
  {
   "cell_type": "code",
   "execution_count": 9,
   "id": "f66e3096-5bcf-43e1-95b4-03e2a05b61b4",
   "metadata": {},
   "outputs": [
    {
     "data": {
      "text/plain": [
       "array([1, 2, 3, 4])"
      ]
     },
     "execution_count": 9,
     "metadata": {},
     "output_type": "execute_result"
    }
   ],
   "source": [
    "array1 = np.array(object=[1, 2, 3, 4])\n",
    "array1"
   ]
  },
  {
   "cell_type": "code",
   "execution_count": 10,
   "id": "7d6979e2-1cfd-4905-9868-bd759a8f4cb2",
   "metadata": {},
   "outputs": [
    {
     "data": {
      "text/plain": [
       "array([[1, 2, 3, 4]])"
      ]
     },
     "execution_count": 10,
     "metadata": {},
     "output_type": "execute_result"
    }
   ],
   "source": [
    "arrayr = np.array([1, 2, 3, 4], ndmin=2)\n",
    "arrayr"
   ]
  },
  {
   "cell_type": "code",
   "execution_count": 11,
   "id": "4b21992a-0b90-4c59-bfbb-39bd822ad1b1",
   "metadata": {},
   "outputs": [
    {
     "data": {
      "text/plain": [
       "4"
      ]
     },
     "execution_count": 11,
     "metadata": {},
     "output_type": "execute_result"
    }
   ],
   "source": [
    "arrayr.size"
   ]
  },
  {
   "cell_type": "code",
   "execution_count": 12,
   "id": "fb6cd315-4faf-4514-96c4-a65faf927fc3",
   "metadata": {},
   "outputs": [
    {
     "data": {
      "text/plain": [
       "2"
      ]
     },
     "execution_count": 12,
     "metadata": {},
     "output_type": "execute_result"
    }
   ],
   "source": [
    "arrayr.ndim"
   ]
  },
  {
   "cell_type": "code",
   "execution_count": 13,
   "id": "94c75722-8843-4162-997d-6096b6935b47",
   "metadata": {},
   "outputs": [
    {
     "data": {
      "text/plain": [
       "(1, 4)"
      ]
     },
     "execution_count": 13,
     "metadata": {},
     "output_type": "execute_result"
    }
   ],
   "source": [
    "arrayr.shape"
   ]
  },
  {
   "cell_type": "code",
   "execution_count": 14,
   "id": "accf46c3-63f5-48fe-95c8-1d8d50a239c2",
   "metadata": {},
   "outputs": [
    {
     "data": {
      "text/plain": [
       "1"
      ]
     },
     "execution_count": 14,
     "metadata": {},
     "output_type": "execute_result"
    }
   ],
   "source": [
    "array1.ndim"
   ]
  },
  {
   "cell_type": "code",
   "execution_count": 15,
   "id": "c52057ac-d21d-4a63-9400-0d329c0c5d07",
   "metadata": {},
   "outputs": [
    {
     "data": {
      "text/plain": [
       "(4,)"
      ]
     },
     "execution_count": 15,
     "metadata": {},
     "output_type": "execute_result"
    }
   ],
   "source": [
    "array1.shape"
   ]
  },
  {
   "cell_type": "code",
   "execution_count": 16,
   "id": "0334fbfc-7d40-4aad-ad22-b30cfa850302",
   "metadata": {},
   "outputs": [
    {
     "data": {
      "text/plain": [
       "2"
      ]
     },
     "execution_count": 16,
     "metadata": {},
     "output_type": "execute_result"
    }
   ],
   "source": [
    "arrayr.ndim"
   ]
  },
  {
   "cell_type": "code",
   "execution_count": 17,
   "id": "dc56deb2-fa72-414b-9ecc-706885a3b5aa",
   "metadata": {},
   "outputs": [
    {
     "data": {
      "text/plain": [
       "(1, 4)"
      ]
     },
     "execution_count": 17,
     "metadata": {},
     "output_type": "execute_result"
    }
   ],
   "source": [
    "arrayr.shape"
   ]
  },
  {
   "cell_type": "code",
   "execution_count": 18,
   "id": "c8601364-cfba-4b49-a9da-f87ca6a2578c",
   "metadata": {},
   "outputs": [],
   "source": [
    "column = [1, 2, 3, 4]"
   ]
  },
  {
   "cell_type": "code",
   "execution_count": 19,
   "id": "be0d349d-4f99-4f05-a567-b953a4b42291",
   "metadata": {},
   "outputs": [
    {
     "data": {
      "text/plain": [
       "[[1, 2, 3, 4]]"
      ]
     },
     "execution_count": 19,
     "metadata": {},
     "output_type": "execute_result"
    }
   ],
   "source": [
    "row = [column]\n",
    "row"
   ]
  },
  {
   "cell_type": "code",
   "execution_count": null,
   "id": "cd502b48-81d0-47ef-87f4-3a757ca7069d",
   "metadata": {},
   "outputs": [],
   "source": []
  },
  {
   "cell_type": "code",
   "execution_count": 20,
   "id": "ea38d69b-b3a1-446e-97e1-f51b419c9293",
   "metadata": {},
   "outputs": [
    {
     "data": {
      "text/plain": [
       "4"
      ]
     },
     "execution_count": 20,
     "metadata": {},
     "output_type": "execute_result"
    }
   ],
   "source": [
    "array1_cols = array1.shape[0]\n",
    "array1_cols"
   ]
  },
  {
   "cell_type": "code",
   "execution_count": 21,
   "id": "9b869319-4284-49e1-a385-e2bc380ce142",
   "metadata": {},
   "outputs": [
    {
     "data": {
      "text/plain": [
       "1"
      ]
     },
     "execution_count": 21,
     "metadata": {},
     "output_type": "execute_result"
    }
   ],
   "source": [
    "arrayr_rows = arrayr.shape[0]\n",
    "arrayr_rows"
   ]
  },
  {
   "cell_type": "code",
   "execution_count": 22,
   "id": "00d167e5-00c4-43da-825f-d05a677a60d6",
   "metadata": {},
   "outputs": [
    {
     "data": {
      "text/plain": [
       "4"
      ]
     },
     "execution_count": 22,
     "metadata": {},
     "output_type": "execute_result"
    }
   ],
   "source": [
    "arrayr_cols = arrayr.shape[1]\n",
    "arrayr_cols"
   ]
  },
  {
   "cell_type": "code",
   "execution_count": null,
   "id": "712723fb-decc-4dd4-8818-7bf885c8b51d",
   "metadata": {},
   "outputs": [],
   "source": []
  },
  {
   "cell_type": "code",
   "execution_count": 23,
   "id": "6004d8e6-15e4-457a-9730-c678aed8c25e",
   "metadata": {},
   "outputs": [
    {
     "data": {
      "text/plain": [
       "4"
      ]
     },
     "execution_count": 23,
     "metadata": {},
     "output_type": "execute_result"
    }
   ],
   "source": [
    "array1_cols = array1.shape[-1]\n",
    "array1_cols"
   ]
  },
  {
   "cell_type": "code",
   "execution_count": 24,
   "id": "f847254d-6ac3-45e9-ba66-7a25e7104e76",
   "metadata": {},
   "outputs": [
    {
     "data": {
      "text/plain": [
       "4"
      ]
     },
     "execution_count": 24,
     "metadata": {},
     "output_type": "execute_result"
    }
   ],
   "source": [
    "arrayr_rows = arrayr.shape[-1]\n",
    "arrayr_rows"
   ]
  },
  {
   "cell_type": "code",
   "execution_count": 25,
   "id": "8cd48313-7649-44ff-9ab6-14c24de68c7f",
   "metadata": {},
   "outputs": [
    {
     "data": {
      "text/plain": [
       "1"
      ]
     },
     "execution_count": 25,
     "metadata": {},
     "output_type": "execute_result"
    }
   ],
   "source": [
    "arrayr_cols = arrayr.shape[-2]\n",
    "arrayr_cols"
   ]
  },
  {
   "cell_type": "code",
   "execution_count": null,
   "id": "9cc6f6a8-1cd8-4e5c-95fb-a550fe80fb08",
   "metadata": {},
   "outputs": [],
   "source": []
  },
  {
   "cell_type": "code",
   "execution_count": null,
   "id": "88c9a0a9-6a7e-4c7b-9686-3f92b27d24d1",
   "metadata": {},
   "outputs": [],
   "source": []
  },
  {
   "cell_type": "code",
   "execution_count": 26,
   "id": "2c98d047-0779-4a95-be13-1e07cf12fd41",
   "metadata": {},
   "outputs": [
    {
     "data": {
      "text/plain": [
       "array([[1],\n",
       "       [2],\n",
       "       [3],\n",
       "       [4]])"
      ]
     },
     "execution_count": 26,
     "metadata": {},
     "output_type": "execute_result"
    }
   ],
   "source": [
    "arrayc = np.array([1, 2, 3, 4], ndmin=2).T\n",
    "arrayc"
   ]
  },
  {
   "cell_type": "code",
   "execution_count": 27,
   "id": "bc2736b4-a6c8-4054-adbb-07a668b007ed",
   "metadata": {},
   "outputs": [
    {
     "data": {
      "text/plain": [
       "4"
      ]
     },
     "execution_count": 27,
     "metadata": {},
     "output_type": "execute_result"
    }
   ],
   "source": [
    "arrayc.size"
   ]
  },
  {
   "cell_type": "code",
   "execution_count": 28,
   "id": "067c449f-90e0-4098-9057-888b485e6087",
   "metadata": {},
   "outputs": [
    {
     "data": {
      "text/plain": [
       "2"
      ]
     },
     "execution_count": 28,
     "metadata": {},
     "output_type": "execute_result"
    }
   ],
   "source": [
    "arrayc.ndim"
   ]
  },
  {
   "cell_type": "code",
   "execution_count": 29,
   "id": "1f171228-c1c1-4189-a670-8bb8c4f5fdc5",
   "metadata": {},
   "outputs": [
    {
     "data": {
      "text/plain": [
       "(4, 1)"
      ]
     },
     "execution_count": 29,
     "metadata": {},
     "output_type": "execute_result"
    }
   ],
   "source": [
    "arrayc.shape"
   ]
  },
  {
   "cell_type": "code",
   "execution_count": 30,
   "id": "b5c98ce5-b390-4b2b-a05f-97810a7755b3",
   "metadata": {},
   "outputs": [
    {
     "data": {
      "text/plain": [
       "(4,)"
      ]
     },
     "execution_count": 30,
     "metadata": {},
     "output_type": "execute_result"
    }
   ],
   "source": [
    "array1.shape"
   ]
  },
  {
   "cell_type": "code",
   "execution_count": 31,
   "id": "9ac398d7-c5e0-4de4-b951-84c03f94cc8e",
   "metadata": {},
   "outputs": [
    {
     "data": {
      "text/plain": [
       "(1, 4)"
      ]
     },
     "execution_count": 31,
     "metadata": {},
     "output_type": "execute_result"
    }
   ],
   "source": [
    "arrayr.shape"
   ]
  },
  {
   "cell_type": "code",
   "execution_count": 32,
   "id": "628af862-21eb-4e6c-8826-ab497296f09b",
   "metadata": {},
   "outputs": [
    {
     "data": {
      "text/plain": [
       "4"
      ]
     },
     "execution_count": 32,
     "metadata": {},
     "output_type": "execute_result"
    }
   ],
   "source": [
    "arrayr.size"
   ]
  },
  {
   "cell_type": "code",
   "execution_count": 33,
   "id": "c8190c2b-0a7e-4902-b7db-dd28c7b500ae",
   "metadata": {},
   "outputs": [
    {
     "data": {
      "text/plain": [
       "2"
      ]
     },
     "execution_count": 33,
     "metadata": {},
     "output_type": "execute_result"
    }
   ],
   "source": [
    "arrayr.ndim"
   ]
  },
  {
   "cell_type": "code",
   "execution_count": 34,
   "id": "ed64ce84-8e7a-44fd-a6ab-ec7ebfedef0d",
   "metadata": {},
   "outputs": [
    {
     "data": {
      "text/plain": [
       "(1, 4)"
      ]
     },
     "execution_count": 34,
     "metadata": {},
     "output_type": "execute_result"
    }
   ],
   "source": [
    "arrayr.shape"
   ]
  },
  {
   "cell_type": "code",
   "execution_count": 35,
   "id": "b5bc9746-f7ee-42ec-a6d6-6de10ae3be8d",
   "metadata": {},
   "outputs": [
    {
     "data": {
      "text/plain": [
       "array([1, 2, 3, 4])"
      ]
     },
     "execution_count": 35,
     "metadata": {},
     "output_type": "execute_result"
    }
   ],
   "source": [
    "array1 = np.array([1, 2, 3, 4])\n",
    "array1"
   ]
  },
  {
   "cell_type": "code",
   "execution_count": 36,
   "id": "ae7b8354-44f7-45f4-b03c-5ac0ca07499e",
   "metadata": {},
   "outputs": [
    {
     "data": {
      "text/plain": [
       "dtype('int32')"
      ]
     },
     "execution_count": 36,
     "metadata": {},
     "output_type": "execute_result"
    }
   ],
   "source": [
    "array1.dtype"
   ]
  },
  {
   "cell_type": "code",
   "execution_count": 37,
   "id": "2f6da671-bb57-4748-8c3c-f56906fd599f",
   "metadata": {},
   "outputs": [
    {
     "data": {
      "text/plain": [
       "array([1., 2., 3., 4.])"
      ]
     },
     "execution_count": 37,
     "metadata": {},
     "output_type": "execute_result"
    }
   ],
   "source": [
    "array1 = np.array([1., 2, 3, 4])\n",
    "array1"
   ]
  },
  {
   "cell_type": "code",
   "execution_count": 38,
   "id": "09837247-0e9e-428b-bfc6-027cbe8d5fed",
   "metadata": {},
   "outputs": [
    {
     "data": {
      "text/plain": [
       "dtype('float64')"
      ]
     },
     "execution_count": 38,
     "metadata": {},
     "output_type": "execute_result"
    }
   ],
   "source": [
    "array1.dtype"
   ]
  },
  {
   "cell_type": "code",
   "execution_count": 39,
   "id": "3df7a662-f9c8-4fec-b928-3d45f67d637e",
   "metadata": {},
   "outputs": [
    {
     "data": {
      "text/plain": [
       "array([1.+2.j, 2.+0.j, 3.+0.j, 4.+0.j])"
      ]
     },
     "execution_count": 39,
     "metadata": {},
     "output_type": "execute_result"
    }
   ],
   "source": [
    "array1 = np.array([1+2j, 2, 3, 4])\n",
    "array1"
   ]
  },
  {
   "cell_type": "code",
   "execution_count": 40,
   "id": "ad07cb29-807b-475b-a2c6-64a30b79b3c7",
   "metadata": {},
   "outputs": [
    {
     "data": {
      "text/plain": [
       "dtype('complex128')"
      ]
     },
     "execution_count": 40,
     "metadata": {},
     "output_type": "execute_result"
    }
   ],
   "source": [
    "array1.dtype"
   ]
  },
  {
   "cell_type": "code",
   "execution_count": 41,
   "id": "095eaecd-12fc-42cf-807e-ef9bb6670c3a",
   "metadata": {},
   "outputs": [
    {
     "data": {
      "text/plain": [
       "array([ True, False, False, False])"
      ]
     },
     "execution_count": 41,
     "metadata": {},
     "output_type": "execute_result"
    }
   ],
   "source": [
    "array1 = np.array([True, False, False, False])\n",
    "array1"
   ]
  },
  {
   "cell_type": "code",
   "execution_count": 42,
   "id": "12747ffa-02b5-4136-9199-f48f2b3cbcb8",
   "metadata": {},
   "outputs": [
    {
     "data": {
      "text/plain": [
       "dtype('bool')"
      ]
     },
     "execution_count": 42,
     "metadata": {},
     "output_type": "execute_result"
    }
   ],
   "source": [
    "array1.dtype"
   ]
  },
  {
   "cell_type": "code",
   "execution_count": 43,
   "id": "92792e4e-cfac-4dc8-b00f-e070d7d5203c",
   "metadata": {},
   "outputs": [
    {
     "data": {
      "text/plain": [
       "array([1., 2., 3., 4.])"
      ]
     },
     "execution_count": 43,
     "metadata": {},
     "output_type": "execute_result"
    }
   ],
   "source": [
    "array1 = np.array([1, 2, 3, 4], dtype=float)\n",
    "array1"
   ]
  },
  {
   "cell_type": "code",
   "execution_count": 44,
   "id": "3b0f7485-dbea-49cb-a071-12b1003ab889",
   "metadata": {},
   "outputs": [
    {
     "data": {
      "text/plain": [
       "dtype('float64')"
      ]
     },
     "execution_count": 44,
     "metadata": {},
     "output_type": "execute_result"
    }
   ],
   "source": [
    "array1.dtype"
   ]
  },
  {
   "cell_type": "code",
   "execution_count": 45,
   "id": "3a5d2d27-bd71-4b15-8a11-4348a23ac0db",
   "metadata": {},
   "outputs": [
    {
     "data": {
      "text/plain": [
       "array([[1, 2, 3],\n",
       "       [4, 5, 6]])"
      ]
     },
     "execution_count": 45,
     "metadata": {},
     "output_type": "execute_result"
    }
   ],
   "source": [
    "matrix1 = np.array([[1, 2, 3],\n",
    "                    [4, 5, 6]])\n",
    "matrix1"
   ]
  },
  {
   "cell_type": "code",
   "execution_count": 46,
   "id": "a25f4cf6-ca6b-49e1-8db1-c3380d287153",
   "metadata": {},
   "outputs": [
    {
     "data": {
      "text/plain": [
       "6"
      ]
     },
     "execution_count": 46,
     "metadata": {},
     "output_type": "execute_result"
    }
   ],
   "source": [
    "matrix1.size"
   ]
  },
  {
   "cell_type": "code",
   "execution_count": 47,
   "id": "60ad8179-3541-4fb7-b935-4a0a6a52b712",
   "metadata": {},
   "outputs": [
    {
     "data": {
      "text/plain": [
       "2"
      ]
     },
     "execution_count": 47,
     "metadata": {},
     "output_type": "execute_result"
    }
   ],
   "source": [
    "matrix1.ndim"
   ]
  },
  {
   "cell_type": "code",
   "execution_count": 48,
   "id": "442162ac-4834-4171-ba3b-0fe4af3d04ff",
   "metadata": {},
   "outputs": [
    {
     "data": {
      "text/plain": [
       "(2, 3)"
      ]
     },
     "execution_count": 48,
     "metadata": {},
     "output_type": "execute_result"
    }
   ],
   "source": [
    "matrix1.shape"
   ]
  },
  {
   "cell_type": "code",
   "execution_count": 49,
   "id": "3947c25f-0bf0-4922-a29d-010305c4d962",
   "metadata": {},
   "outputs": [
    {
     "data": {
      "text/plain": [
       "array([[206415136,       558,         0],\n",
       "       [        0,         1,     32767]])"
      ]
     },
     "execution_count": 49,
     "metadata": {},
     "output_type": "execute_result"
    }
   ],
   "source": [
    "matrix2 = np.empty_like(prototype=matrix1)\n",
    "matrix2"
   ]
  },
  {
   "cell_type": "code",
   "execution_count": 50,
   "id": "1a468a01-ec9c-440f-b4b7-70a6e741b17a",
   "metadata": {},
   "outputs": [
    {
     "data": {
      "text/plain": [
       "array([[0, 0, 0],\n",
       "       [0, 0, 0]])"
      ]
     },
     "execution_count": 50,
     "metadata": {},
     "output_type": "execute_result"
    }
   ],
   "source": [
    "matrix3 = np.zeros_like(a=matrix1)\n",
    "matrix3"
   ]
  },
  {
   "cell_type": "code",
   "execution_count": 51,
   "id": "b6ffcc85-26fb-44b4-bc7f-7b7aa6984be1",
   "metadata": {},
   "outputs": [
    {
     "data": {
      "text/plain": [
       "array([[1, 1, 1],\n",
       "       [1, 1, 1]])"
      ]
     },
     "execution_count": 51,
     "metadata": {},
     "output_type": "execute_result"
    }
   ],
   "source": [
    "matrix4 = np.ones_like(a=matrix1)\n",
    "matrix4"
   ]
  },
  {
   "cell_type": "code",
   "execution_count": 52,
   "id": "6317103e-2d18-4165-8e5d-6a3cf1b9b861",
   "metadata": {},
   "outputs": [
    {
     "data": {
      "text/plain": [
       "array([[2, 2, 2],\n",
       "       [2, 2, 2]])"
      ]
     },
     "execution_count": 52,
     "metadata": {},
     "output_type": "execute_result"
    }
   ],
   "source": [
    "matrix5 = np.full_like(a=matrix1, fill_value=2)\n",
    "matrix5"
   ]
  },
  {
   "cell_type": "code",
   "execution_count": 53,
   "id": "bac55269-b419-4f3a-b1de-940cfa069f62",
   "metadata": {},
   "outputs": [
    {
     "data": {
      "text/plain": [
       "array([[1.18416468e-311, 3.16202013e-322, 0.00000000e+000],\n",
       "       [0.00000000e+000, 1.08221785e-312, 4.32040381e-061],\n",
       "       [4.23105086e+175, 8.32377570e-071, 8.69895165e-043],\n",
       "       [1.09773320e-071, 8.16292206e-043, 1.65820524e-076]])"
      ]
     },
     "execution_count": 53,
     "metadata": {},
     "output_type": "execute_result"
    }
   ],
   "source": [
    "matrix2 = np.empty(shape=(4, 3))\n",
    "matrix2"
   ]
  },
  {
   "cell_type": "code",
   "execution_count": 54,
   "id": "bb1aac99-ea75-42fc-bdaa-788513a89bcf",
   "metadata": {},
   "outputs": [
    {
     "data": {
      "text/plain": [
       "array([[0., 0., 0.],\n",
       "       [0., 0., 0.],\n",
       "       [0., 0., 0.],\n",
       "       [0., 0., 0.]])"
      ]
     },
     "execution_count": 54,
     "metadata": {},
     "output_type": "execute_result"
    }
   ],
   "source": [
    "matrix3 = np.zeros(shape=(4, 3))\n",
    "matrix3"
   ]
  },
  {
   "cell_type": "code",
   "execution_count": 55,
   "id": "52ca139f-b940-4e86-8d95-5c1f97ca0008",
   "metadata": {},
   "outputs": [
    {
     "data": {
      "text/plain": [
       "array([[1., 1., 1.],\n",
       "       [1., 1., 1.],\n",
       "       [1., 1., 1.],\n",
       "       [1., 1., 1.]])"
      ]
     },
     "execution_count": 55,
     "metadata": {},
     "output_type": "execute_result"
    }
   ],
   "source": [
    "matrix4 = np.ones(shape=(4, 3))\n",
    "matrix4"
   ]
  },
  {
   "cell_type": "code",
   "execution_count": 56,
   "id": "f6e20f74-63c7-4154-bdc9-ba5b246028aa",
   "metadata": {},
   "outputs": [
    {
     "data": {
      "text/plain": [
       "array([[4, 4, 4],\n",
       "       [4, 4, 4],\n",
       "       [4, 4, 4],\n",
       "       [4, 4, 4]])"
      ]
     },
     "execution_count": 56,
     "metadata": {},
     "output_type": "execute_result"
    }
   ],
   "source": [
    "matrix5 = np.full(shape=(4, 3), fill_value=4)\n",
    "matrix5"
   ]
  },
  {
   "cell_type": "code",
   "execution_count": 57,
   "id": "0e542b9d-b707-493b-882c-7f10856bcfe6",
   "metadata": {},
   "outputs": [
    {
     "data": {
      "text/plain": [
       "array([[[ 1,  2],\n",
       "        [ 3,  4]],\n",
       "\n",
       "       [[ 5,  6],\n",
       "        [ 7,  8]],\n",
       "\n",
       "       [[ 9, 10],\n",
       "        [11, 12]]])"
      ]
     },
     "execution_count": 57,
     "metadata": {},
     "output_type": "execute_result"
    }
   ],
   "source": [
    "book1 = np.array([[[1, 2,], \n",
    "                   [3, 4]],\n",
    "                  \n",
    "                  [[5, 6], \n",
    "                   [7, 8]],\n",
    "                  \n",
    "                  [[9, 10], \n",
    "                   [11, 12]]])\n",
    "book1"
   ]
  },
  {
   "cell_type": "code",
   "execution_count": 58,
   "id": "612b3077-0f36-4a29-a962-13fb987d3266",
   "metadata": {},
   "outputs": [
    {
     "data": {
      "text/plain": [
       "12"
      ]
     },
     "execution_count": 58,
     "metadata": {},
     "output_type": "execute_result"
    }
   ],
   "source": [
    "book1.size"
   ]
  },
  {
   "cell_type": "code",
   "execution_count": 59,
   "id": "9e8f4dff-bf45-4256-adfc-f38c67b97d60",
   "metadata": {},
   "outputs": [
    {
     "data": {
      "text/plain": [
       "3"
      ]
     },
     "execution_count": 59,
     "metadata": {},
     "output_type": "execute_result"
    }
   ],
   "source": [
    "book1.ndim"
   ]
  },
  {
   "cell_type": "code",
   "execution_count": 60,
   "id": "02034380-0c5b-419c-8d29-7bfda405e4a7",
   "metadata": {},
   "outputs": [
    {
     "data": {
      "text/plain": [
       "(3, 2, 2)"
      ]
     },
     "execution_count": 60,
     "metadata": {},
     "output_type": "execute_result"
    }
   ],
   "source": [
    "book1.shape"
   ]
  },
  {
   "cell_type": "code",
   "execution_count": 61,
   "id": "ab040bbf-3a6a-44a3-a027-689250b4b23c",
   "metadata": {},
   "outputs": [
    {
     "data": {
      "text/plain": [
       "<numpy.flatiter at 0x22e0c744970>"
      ]
     },
     "execution_count": 61,
     "metadata": {},
     "output_type": "execute_result"
    }
   ],
   "source": [
    "it = book1.flat\n",
    "it"
   ]
  },
  {
   "cell_type": "code",
   "execution_count": 62,
   "id": "40d3304a-7bc6-4097-82a9-69751b642ebc",
   "metadata": {},
   "outputs": [
    {
     "data": {
      "text/plain": [
       "1"
      ]
     },
     "execution_count": 62,
     "metadata": {},
     "output_type": "execute_result"
    }
   ],
   "source": [
    "next(it)"
   ]
  },
  {
   "cell_type": "code",
   "execution_count": 63,
   "id": "ff55ecd1-8c51-4f81-a81c-677cbc51e229",
   "metadata": {},
   "outputs": [
    {
     "data": {
      "text/plain": [
       "2"
      ]
     },
     "execution_count": 63,
     "metadata": {},
     "output_type": "execute_result"
    }
   ],
   "source": [
    "next(it)"
   ]
  },
  {
   "cell_type": "code",
   "execution_count": 64,
   "id": "36293522-20fc-4c26-8d16-696db8767cd1",
   "metadata": {},
   "outputs": [
    {
     "data": {
      "text/plain": [
       "3"
      ]
     },
     "execution_count": 64,
     "metadata": {},
     "output_type": "execute_result"
    }
   ],
   "source": [
    "next(it)"
   ]
  },
  {
   "cell_type": "code",
   "execution_count": 65,
   "id": "c23b0349-6686-43b0-a0ac-457448ec783c",
   "metadata": {},
   "outputs": [
    {
     "data": {
      "text/plain": [
       "4"
      ]
     },
     "execution_count": 65,
     "metadata": {},
     "output_type": "execute_result"
    }
   ],
   "source": [
    "next(it)"
   ]
  },
  {
   "cell_type": "code",
   "execution_count": 66,
   "id": "ed682a16-b7b5-4fec-9000-ad9049b3e31e",
   "metadata": {},
   "outputs": [
    {
     "data": {
      "text/plain": [
       "5"
      ]
     },
     "execution_count": 66,
     "metadata": {},
     "output_type": "execute_result"
    }
   ],
   "source": [
    "next(it)"
   ]
  },
  {
   "cell_type": "code",
   "execution_count": 67,
   "id": "e9d9e15b-e36f-4e15-b03d-83bf4424d8f5",
   "metadata": {},
   "outputs": [
    {
     "data": {
      "text/plain": [
       "[6, 7, 8, 9, 10, 11, 12]"
      ]
     },
     "execution_count": 67,
     "metadata": {},
     "output_type": "execute_result"
    }
   ],
   "source": [
    "list(it)"
   ]
  },
  {
   "cell_type": "code",
   "execution_count": 68,
   "id": "d21264e3-81df-4943-814b-580617bb3179",
   "metadata": {},
   "outputs": [
    {
     "data": {
      "text/plain": [
       "<numpy.flatiter at 0x22e0c5b6e20>"
      ]
     },
     "execution_count": 68,
     "metadata": {},
     "output_type": "execute_result"
    }
   ],
   "source": [
    "it = book1.flat\n",
    "it"
   ]
  },
  {
   "cell_type": "code",
   "execution_count": 69,
   "id": "b27b47d7-f735-4d8f-995f-8e7fb431ca8a",
   "metadata": {},
   "outputs": [
    {
     "data": {
      "text/plain": [
       "array([ 1,  2,  3,  4,  5,  6,  7,  8,  9, 10, 11, 12])"
      ]
     },
     "execution_count": 69,
     "metadata": {},
     "output_type": "execute_result"
    }
   ],
   "source": [
    "array1 = np.array(list(it))\n",
    "array1"
   ]
  },
  {
   "cell_type": "code",
   "execution_count": 70,
   "id": "3b86afe9-883f-43ca-9c92-5d11693752ff",
   "metadata": {},
   "outputs": [
    {
     "data": {
      "text/plain": [
       "array([ 1,  2,  3,  4,  5,  6,  7,  8,  9, 10, 11, 12])"
      ]
     },
     "execution_count": 70,
     "metadata": {},
     "output_type": "execute_result"
    }
   ],
   "source": [
    "book1.flatten()"
   ]
  },
  {
   "cell_type": "code",
   "execution_count": 71,
   "id": "ee5c00f4-eba7-4d16-8e8f-d7be6363650c",
   "metadata": {},
   "outputs": [
    {
     "data": {
      "text/plain": [
       "array([ 1,  2,  3,  4,  5,  6,  7,  8,  9, 10, 11, 12])"
      ]
     },
     "execution_count": 71,
     "metadata": {},
     "output_type": "execute_result"
    }
   ],
   "source": [
    "array1 = book1.ravel()\n",
    "array1"
   ]
  },
  {
   "cell_type": "code",
   "execution_count": 72,
   "id": "1ad6c7fc-d68f-447d-9330-0ca366ac4ea3",
   "metadata": {},
   "outputs": [
    {
     "data": {
      "text/plain": [
       "array([ 1,  2,  3,  4,  5,  6,  7,  8,  9, 10, 11, 12])"
      ]
     },
     "execution_count": 72,
     "metadata": {},
     "output_type": "execute_result"
    }
   ],
   "source": [
    "array1 = np.ravel(book1)\n",
    "array1"
   ]
  },
  {
   "cell_type": "code",
   "execution_count": 73,
   "id": "bfc1cda0-663d-4ade-9664-afa21f52d1a8",
   "metadata": {},
   "outputs": [
    {
     "data": {
      "text/plain": [
       "[[[1, 2], [3, 4]], [[5, 6], [7, 8]], [[9, 10], [11, 12]]]"
      ]
     },
     "execution_count": 73,
     "metadata": {},
     "output_type": "execute_result"
    }
   ],
   "source": [
    "booklist1 = [[[1, 2,], \n",
    "              [3, 4]],\n",
    "                  \n",
    "              [[5, 6], \n",
    "               [7, 8]],\n",
    "                  \n",
    "              [[9, 10], \n",
    "               [11, 12]]]\n",
    "\n",
    "booklist1"
   ]
  },
  {
   "cell_type": "code",
   "execution_count": 74,
   "id": "16364f15-1e36-429e-8baf-ba9eb7845712",
   "metadata": {},
   "outputs": [
    {
     "data": {
      "text/plain": [
       "array([ 1,  2,  3,  4,  5,  6,  7,  8,  9, 10, 11, 12])"
      ]
     },
     "execution_count": 74,
     "metadata": {},
     "output_type": "execute_result"
    }
   ],
   "source": [
    "array1 = np.ravel(booklist1)\n",
    "array1"
   ]
  },
  {
   "cell_type": "code",
   "execution_count": 75,
   "id": "bcc38d5f-11a9-48f0-99a6-5722dfefeb54",
   "metadata": {},
   "outputs": [
    {
     "data": {
      "text/plain": [
       "[1, 2, 3, 4, 5, 6, 7, 8, 9, 10, 11, 12]"
      ]
     },
     "execution_count": 75,
     "metadata": {},
     "output_type": "execute_result"
    }
   ],
   "source": [
    "list(array1)"
   ]
  },
  {
   "cell_type": "code",
   "execution_count": 76,
   "id": "ab605c6b-44fe-4160-a5b4-9d8c8f509974",
   "metadata": {},
   "outputs": [
    {
     "data": {
      "text/plain": [
       "[1, 2, 3, 4, 5, 6, 7, 8, 9, 10, 11, 12]"
      ]
     },
     "execution_count": 76,
     "metadata": {},
     "output_type": "execute_result"
    }
   ],
   "source": [
    "array1.tolist()"
   ]
  },
  {
   "cell_type": "code",
   "execution_count": 77,
   "id": "ee8c2910-c6a2-472a-9f80-acebbdbe8fd4",
   "metadata": {},
   "outputs": [
    {
     "data": {
      "text/plain": [
       "[[[1, 2], [3, 4]], [[5, 6], [7, 8]], [[9, 10], [11, 12]]]"
      ]
     },
     "execution_count": 77,
     "metadata": {},
     "output_type": "execute_result"
    }
   ],
   "source": [
    "booklist1 = [[[1, 2,], \n",
    "              [3, 4]],\n",
    "                  \n",
    "              [[5, 6], \n",
    "               [7, 8]],\n",
    "                  \n",
    "              [[9, 10], \n",
    "               [11, 12]]]\n",
    "\n",
    "booklist1"
   ]
  },
  {
   "cell_type": "code",
   "execution_count": 78,
   "id": "dea75e95-3b6c-4447-8e1b-0955f3b47265",
   "metadata": {},
   "outputs": [
    {
     "data": {
      "text/plain": [
       "array([ 1,  5,  9,  3,  7, 11,  2,  6, 10,  4,  8, 12])"
      ]
     },
     "execution_count": 78,
     "metadata": {},
     "output_type": "execute_result"
    }
   ],
   "source": [
    "np.ravel(booklist1, order='F')"
   ]
  },
  {
   "cell_type": "code",
   "execution_count": 79,
   "id": "18068660-665e-47d1-bc65-068c660d5316",
   "metadata": {},
   "outputs": [
    {
     "data": {
      "text/plain": [
       "array([[ 1,  2,  3],\n",
       "       [ 4,  5,  6],\n",
       "       [ 7,  8,  9],\n",
       "       [10, 11, 12]])"
      ]
     },
     "execution_count": 79,
     "metadata": {},
     "output_type": "execute_result"
    }
   ],
   "source": [
    "matrix1 = np.reshape(a=book1, newshape=(4, 3))\n",
    "matrix1"
   ]
  },
  {
   "cell_type": "code",
   "execution_count": 80,
   "id": "56b5b03b-2365-4222-9606-df2ff4a7119d",
   "metadata": {},
   "outputs": [
    {
     "data": {
      "text/plain": [
       "array([[ 1,  2,  3],\n",
       "       [ 4,  5,  6],\n",
       "       [ 7,  8,  9],\n",
       "       [10, 11, 12]])"
      ]
     },
     "execution_count": 80,
     "metadata": {},
     "output_type": "execute_result"
    }
   ],
   "source": [
    "matrix1 = book1.reshape((4,3))\n",
    "matrix1"
   ]
  },
  {
   "cell_type": "code",
   "execution_count": 81,
   "id": "777ea1b7-ae74-4efe-8af8-6728d4def858",
   "metadata": {},
   "outputs": [],
   "source": [
    "matrixlist1 = [[1, 2, 3],\n",
    "               [4, 5, 6],\n",
    "               [7, 8, 9],\n",
    "               [10, 11, 12]]"
   ]
  },
  {
   "cell_type": "code",
   "execution_count": 82,
   "id": "3ca80974-6ac6-4566-80a1-40f6349fc8db",
   "metadata": {},
   "outputs": [],
   "source": [
    "row0 = [1, 2, 3]"
   ]
  },
  {
   "cell_type": "code",
   "execution_count": 83,
   "id": "bcb20088-ee06-42bf-a2ca-9673ba29f7bb",
   "metadata": {},
   "outputs": [],
   "source": [
    "row1 = [4, 5, 6]"
   ]
  },
  {
   "cell_type": "code",
   "execution_count": 84,
   "id": "fcfaa316-c338-44a9-8157-c31bde3762f3",
   "metadata": {},
   "outputs": [],
   "source": [
    "row2 = [7, 8, 9]"
   ]
  },
  {
   "cell_type": "code",
   "execution_count": 85,
   "id": "81449ade-2502-4b6c-bd7b-a4f5039a609c",
   "metadata": {},
   "outputs": [],
   "source": [
    "row3 = [10, 11, 12]"
   ]
  },
  {
   "cell_type": "code",
   "execution_count": 86,
   "id": "3550a53c-fb6f-41fb-9d5a-44c9ee1f3f0a",
   "metadata": {},
   "outputs": [],
   "source": [
    "matrixlist1 = [row0,\n",
    "               row1,\n",
    "               row2,\n",
    "               row3]"
   ]
  },
  {
   "cell_type": "code",
   "execution_count": 87,
   "id": "8a344275-2d43-4438-b744-2503fe9965b5",
   "metadata": {},
   "outputs": [
    {
     "data": {
      "text/plain": [
       "[1, 2, 3]"
      ]
     },
     "execution_count": 87,
     "metadata": {},
     "output_type": "execute_result"
    }
   ],
   "source": [
    "matrixlist1[0]"
   ]
  },
  {
   "cell_type": "code",
   "execution_count": 88,
   "id": "2e88edca-372f-43b6-a0c0-762e5c764db5",
   "metadata": {},
   "outputs": [
    {
     "data": {
      "text/plain": [
       "2"
      ]
     },
     "execution_count": 88,
     "metadata": {},
     "output_type": "execute_result"
    }
   ],
   "source": [
    "matrixlist1[0][1]"
   ]
  },
  {
   "cell_type": "code",
   "execution_count": 89,
   "id": "369c08fb-4ca4-418f-ac29-eb98be68725f",
   "metadata": {},
   "outputs": [],
   "source": [
    "matrix1 = np.array([[1, 2, 3],\n",
    "                    [4, 5, 6],\n",
    "                    [7, 8, 9],\n",
    "                    [10, 11, 12]])"
   ]
  },
  {
   "cell_type": "code",
   "execution_count": 90,
   "id": "60eaecce-4de9-4cfd-9109-0960e30903d9",
   "metadata": {},
   "outputs": [
    {
     "data": {
      "text/plain": [
       "2"
      ]
     },
     "execution_count": 90,
     "metadata": {},
     "output_type": "execute_result"
    }
   ],
   "source": [
    "matrix1[0][1]"
   ]
  },
  {
   "cell_type": "code",
   "execution_count": 91,
   "id": "c55e1239-001d-4249-8162-6669660f2e9d",
   "metadata": {},
   "outputs": [
    {
     "data": {
      "text/plain": [
       "2"
      ]
     },
     "execution_count": 91,
     "metadata": {},
     "output_type": "execute_result"
    }
   ],
   "source": [
    "matrix1[0, 1]"
   ]
  },
  {
   "cell_type": "code",
   "execution_count": 92,
   "id": "c6987707-722c-49e2-852a-0cce1ab6ab73",
   "metadata": {},
   "outputs": [
    {
     "data": {
      "text/plain": [
       "array([2, 4])"
      ]
     },
     "execution_count": 92,
     "metadata": {},
     "output_type": "execute_result"
    }
   ],
   "source": [
    "matrix1[[0, 1], [1, 0]]"
   ]
  },
  {
   "cell_type": "code",
   "execution_count": 93,
   "id": "4ce56b8d-ba95-44b0-8c15-581cfe589273",
   "metadata": {},
   "outputs": [
    {
     "data": {
      "text/plain": [
       "array([1, 2, 3])"
      ]
     },
     "execution_count": 93,
     "metadata": {},
     "output_type": "execute_result"
    }
   ],
   "source": [
    "matrix1[[0, 0, 0], [0, 1, 2]]"
   ]
  },
  {
   "cell_type": "code",
   "execution_count": 94,
   "id": "5eebb00a-694c-43a5-b33c-28bfa7efc0c3",
   "metadata": {},
   "outputs": [
    {
     "data": {
      "text/plain": [
       "array([1, 2, 3])"
      ]
     },
     "execution_count": 94,
     "metadata": {},
     "output_type": "execute_result"
    }
   ],
   "source": [
    "matrix1[0, [0, 1, 2]]"
   ]
  },
  {
   "cell_type": "code",
   "execution_count": 95,
   "id": "4918f1a9-72ea-4b22-965f-028fcf7365f1",
   "metadata": {},
   "outputs": [
    {
     "data": {
      "text/plain": [
       "array([1, 2, 3])"
      ]
     },
     "execution_count": 95,
     "metadata": {},
     "output_type": "execute_result"
    }
   ],
   "source": [
    "matrix1[0, 0:matrix1.shape[1]:1]"
   ]
  },
  {
   "cell_type": "code",
   "execution_count": 96,
   "id": "0b92bda6-8420-4cec-a96c-3b479a2afd25",
   "metadata": {},
   "outputs": [
    {
     "data": {
      "text/plain": [
       "array([1, 2, 3])"
      ]
     },
     "execution_count": 96,
     "metadata": {},
     "output_type": "execute_result"
    }
   ],
   "source": [
    "matrix1[0, ::]"
   ]
  },
  {
   "cell_type": "code",
   "execution_count": 97,
   "id": "74ab1672-54c1-4553-bd8e-30a8028637aa",
   "metadata": {},
   "outputs": [
    {
     "data": {
      "text/plain": [
       "array([1, 2, 3])"
      ]
     },
     "execution_count": 97,
     "metadata": {},
     "output_type": "execute_result"
    }
   ],
   "source": [
    "matrix1[0, :]"
   ]
  },
  {
   "cell_type": "code",
   "execution_count": 98,
   "id": "b40f3446-a15b-4d36-a6df-7adc61cee7fc",
   "metadata": {},
   "outputs": [
    {
     "data": {
      "text/plain": [
       "array([3, 2, 1])"
      ]
     },
     "execution_count": 98,
     "metadata": {},
     "output_type": "execute_result"
    }
   ],
   "source": [
    "matrix1[0, -1:-matrix1.shape[1]-1:-1]"
   ]
  },
  {
   "cell_type": "code",
   "execution_count": 99,
   "id": "d7dbb9ec-15ff-4796-aedb-b08730121c90",
   "metadata": {},
   "outputs": [
    {
     "data": {
      "text/plain": [
       "array([3, 2, 1])"
      ]
     },
     "execution_count": 99,
     "metadata": {},
     "output_type": "execute_result"
    }
   ],
   "source": [
    "matrix1[0, ::-1]"
   ]
  },
  {
   "cell_type": "code",
   "execution_count": 100,
   "id": "b0176b78-d1ea-459b-ae53-0e8d1fa2f8e5",
   "metadata": {},
   "outputs": [
    {
     "data": {
      "text/plain": [
       "array([[ 3,  2,  1],\n",
       "       [ 6,  5,  4],\n",
       "       [ 9,  8,  7],\n",
       "       [12, 11, 10]])"
      ]
     },
     "execution_count": 100,
     "metadata": {},
     "output_type": "execute_result"
    }
   ],
   "source": [
    "matrix1_lr = matrix1[:, ::-1]\n",
    "matrix1_lr"
   ]
  },
  {
   "cell_type": "code",
   "execution_count": 101,
   "id": "3d11e6ee-70a8-4f3f-92ac-d6d9a9478576",
   "metadata": {},
   "outputs": [
    {
     "data": {
      "text/plain": [
       "array([[ 3,  2,  1],\n",
       "       [ 6,  5,  4],\n",
       "       [ 9,  8,  7],\n",
       "       [12, 11, 10]])"
      ]
     },
     "execution_count": 101,
     "metadata": {},
     "output_type": "execute_result"
    }
   ],
   "source": [
    "matrix1_lr = np.fliplr(m=matrix1)\n",
    "matrix1_lr"
   ]
  },
  {
   "cell_type": "code",
   "execution_count": 102,
   "id": "f7f93ab3-d7af-4635-8b97-8898c4722351",
   "metadata": {},
   "outputs": [
    {
     "data": {
      "text/plain": [
       "array([[ 3,  2,  1],\n",
       "       [ 6,  5,  4],\n",
       "       [ 9,  8,  7],\n",
       "       [12, 11, 10]])"
      ]
     },
     "execution_count": 102,
     "metadata": {},
     "output_type": "execute_result"
    }
   ],
   "source": [
    "matrix1_lr = np.flip(m=matrix1, axis=1)\n",
    "matrix1_lr"
   ]
  },
  {
   "cell_type": "code",
   "execution_count": 103,
   "id": "883f514b-9939-44d8-aef4-56428d8d20c5",
   "metadata": {},
   "outputs": [
    {
     "data": {
      "text/plain": [
       "array([[ 3,  2,  1],\n",
       "       [ 6,  5,  4],\n",
       "       [ 9,  8,  7],\n",
       "       [12, 11, 10]])"
      ]
     },
     "execution_count": 103,
     "metadata": {},
     "output_type": "execute_result"
    }
   ],
   "source": [
    "matrix1_lr = np.flip(m=matrix1, axis=-1)\n",
    "matrix1_lr"
   ]
  },
  {
   "cell_type": "code",
   "execution_count": null,
   "id": "30272920-3e8f-4236-94d2-5d636e35f104",
   "metadata": {},
   "outputs": [],
   "source": []
  },
  {
   "cell_type": "code",
   "execution_count": null,
   "id": "98df3f86-eabe-4c45-8b57-95af2a67bb34",
   "metadata": {},
   "outputs": [],
   "source": []
  },
  {
   "cell_type": "code",
   "execution_count": 104,
   "id": "50b782a4-d744-495d-a16d-b94b757af688",
   "metadata": {},
   "outputs": [
    {
     "data": {
      "text/plain": [
       "array([[10, 11, 12],\n",
       "       [ 7,  8,  9],\n",
       "       [ 4,  5,  6],\n",
       "       [ 1,  2,  3]])"
      ]
     },
     "execution_count": 104,
     "metadata": {},
     "output_type": "execute_result"
    }
   ],
   "source": [
    "matrix1_ud = matrix1[::-1, :]\n",
    "matrix1_ud"
   ]
  },
  {
   "cell_type": "code",
   "execution_count": 105,
   "id": "694c4455-7427-4ecd-bb08-afbed6a34e93",
   "metadata": {},
   "outputs": [
    {
     "data": {
      "text/plain": [
       "array([[10, 11, 12],\n",
       "       [ 7,  8,  9],\n",
       "       [ 4,  5,  6],\n",
       "       [ 1,  2,  3]])"
      ]
     },
     "execution_count": 105,
     "metadata": {},
     "output_type": "execute_result"
    }
   ],
   "source": [
    "matrix1_ud = np.flipud(m=matrix1)\n",
    "matrix1_ud"
   ]
  },
  {
   "cell_type": "code",
   "execution_count": 106,
   "id": "436559ff-6cc1-4652-b863-e7f5e7346884",
   "metadata": {},
   "outputs": [
    {
     "data": {
      "text/plain": [
       "array([[10, 11, 12],\n",
       "       [ 7,  8,  9],\n",
       "       [ 4,  5,  6],\n",
       "       [ 1,  2,  3]])"
      ]
     },
     "execution_count": 106,
     "metadata": {},
     "output_type": "execute_result"
    }
   ],
   "source": [
    "matrix1_ud = np.flip(m=matrix1, axis=-2)\n",
    "matrix1_ud"
   ]
  },
  {
   "cell_type": "code",
   "execution_count": null,
   "id": "c3f12fa5-edad-4046-848e-b52937f43c98",
   "metadata": {},
   "outputs": [],
   "source": []
  },
  {
   "cell_type": "code",
   "execution_count": null,
   "id": "ec036c53-8cc2-4642-84d3-21c6de991880",
   "metadata": {},
   "outputs": [],
   "source": []
  },
  {
   "cell_type": "code",
   "execution_count": 107,
   "id": "a6671824-b860-492c-ab32-6ed81c035189",
   "metadata": {},
   "outputs": [
    {
     "data": {
      "text/plain": [
       "array([[1, 2, 3, 4]])"
      ]
     },
     "execution_count": 107,
     "metadata": {},
     "output_type": "execute_result"
    }
   ],
   "source": [
    "arrayr = np.array([1, 2, 3, 4], ndmin=2)\n",
    "arrayr"
   ]
  },
  {
   "cell_type": "code",
   "execution_count": 108,
   "id": "c9c3bbe8-7e28-4739-926c-d0f8736bd6f9",
   "metadata": {},
   "outputs": [
    {
     "data": {
      "text/plain": [
       "array([[1],\n",
       "       [2],\n",
       "       [3],\n",
       "       [4]])"
      ]
     },
     "execution_count": 108,
     "metadata": {},
     "output_type": "execute_result"
    }
   ],
   "source": [
    "arrayc = arrayr.T\n",
    "arrayc"
   ]
  },
  {
   "cell_type": "code",
   "execution_count": 109,
   "id": "d340ba23-fcfa-4a5a-84dc-843d5c51f3fa",
   "metadata": {},
   "outputs": [
    {
     "data": {
      "text/plain": [
       "array([[1, 2, 3, 4]])"
      ]
     },
     "execution_count": 109,
     "metadata": {},
     "output_type": "execute_result"
    }
   ],
   "source": [
    "arrayr = arrayc.T\n",
    "arrayr"
   ]
  },
  {
   "cell_type": "code",
   "execution_count": 110,
   "id": "7d338581-ae26-409e-8d90-616c8f3d96c4",
   "metadata": {},
   "outputs": [
    {
     "data": {
      "text/plain": [
       "array([[1],\n",
       "       [2],\n",
       "       [3],\n",
       "       [4]])"
      ]
     },
     "execution_count": 110,
     "metadata": {},
     "output_type": "execute_result"
    }
   ],
   "source": [
    "arrayc = np.transpose(arrayr)\n",
    "arrayc"
   ]
  },
  {
   "cell_type": "code",
   "execution_count": 111,
   "id": "62fa302e-9302-45c9-b834-a8ced8cb0765",
   "metadata": {},
   "outputs": [
    {
     "data": {
      "text/plain": [
       "array([[ 1,  2,  3],\n",
       "       [ 4,  5,  6],\n",
       "       [ 7,  8,  9],\n",
       "       [10, 11, 12]])"
      ]
     },
     "execution_count": 111,
     "metadata": {},
     "output_type": "execute_result"
    }
   ],
   "source": [
    "matrix1"
   ]
  },
  {
   "cell_type": "code",
   "execution_count": 112,
   "id": "9860edbd-bc48-41e9-9720-ff7830ad23db",
   "metadata": {},
   "outputs": [
    {
     "data": {
      "text/plain": [
       "array([[ 1,  4,  7, 10],\n",
       "       [ 2,  5,  8, 11],\n",
       "       [ 3,  6,  9, 12]])"
      ]
     },
     "execution_count": 112,
     "metadata": {},
     "output_type": "execute_result"
    }
   ],
   "source": [
    "matrix1_t = matrix1.T\n",
    "matrix1_t"
   ]
  },
  {
   "cell_type": "code",
   "execution_count": 113,
   "id": "8729f25a-7628-4f5d-a06e-e996c486aa33",
   "metadata": {},
   "outputs": [
    {
     "data": {
      "text/plain": [
       "array([[[0., 0., 0.],\n",
       "        [0., 0., 0.],\n",
       "        [0., 0., 0.],\n",
       "        [0., 0., 0.]],\n",
       "\n",
       "       [[0., 0., 0.],\n",
       "        [0., 0., 0.],\n",
       "        [0., 0., 0.],\n",
       "        [0., 0., 0.]],\n",
       "\n",
       "       [[0., 0., 0.],\n",
       "        [0., 0., 0.],\n",
       "        [0., 0., 0.],\n",
       "        [0., 0., 0.]]])"
      ]
     },
     "execution_count": 113,
     "metadata": {},
     "output_type": "execute_result"
    }
   ],
   "source": [
    "book = np.zeros(shape=(3, 4, 3))\n",
    "book"
   ]
  },
  {
   "cell_type": "code",
   "execution_count": 114,
   "id": "1b40c09f-1bfb-4957-b6a6-3f629462e933",
   "metadata": {},
   "outputs": [
    {
     "data": {
      "text/plain": [
       "36"
      ]
     },
     "execution_count": 114,
     "metadata": {},
     "output_type": "execute_result"
    }
   ],
   "source": [
    "book.size"
   ]
  },
  {
   "cell_type": "code",
   "execution_count": 115,
   "id": "fe916a81-4b2c-4dd8-a614-c06f47cfc05f",
   "metadata": {},
   "outputs": [
    {
     "data": {
      "text/plain": [
       "3"
      ]
     },
     "execution_count": 115,
     "metadata": {},
     "output_type": "execute_result"
    }
   ],
   "source": [
    "book.ndim"
   ]
  },
  {
   "cell_type": "code",
   "execution_count": 116,
   "id": "a1972641-5dd4-43bd-b9dc-73cc0258ff93",
   "metadata": {},
   "outputs": [
    {
     "data": {
      "text/plain": [
       "(3, 4, 3)"
      ]
     },
     "execution_count": 116,
     "metadata": {},
     "output_type": "execute_result"
    }
   ],
   "source": [
    "book.shape"
   ]
  },
  {
   "cell_type": "code",
   "execution_count": 117,
   "id": "b3165b9d-b7d0-4e75-8062-f8d657e5999b",
   "metadata": {},
   "outputs": [
    {
     "data": {
      "text/plain": [
       "array([[ 1,  2,  3],\n",
       "       [ 4,  5,  6],\n",
       "       [ 7,  8,  9],\n",
       "       [10, 11, 12]])"
      ]
     },
     "execution_count": 117,
     "metadata": {},
     "output_type": "execute_result"
    }
   ],
   "source": [
    "page0 = np.array([[1, 2, 3],\n",
    "                  [4, 5, 6],\n",
    "                  [7, 8, 9],\n",
    "                  [10, 11, 12]])\n",
    "page0"
   ]
  },
  {
   "cell_type": "code",
   "execution_count": 118,
   "id": "14016764-97eb-4508-be41-7374d252bea8",
   "metadata": {},
   "outputs": [
    {
     "data": {
      "text/plain": [
       "12"
      ]
     },
     "execution_count": 118,
     "metadata": {},
     "output_type": "execute_result"
    }
   ],
   "source": [
    "page0.size"
   ]
  },
  {
   "cell_type": "code",
   "execution_count": 119,
   "id": "8dee9e0f-a832-4309-bc0f-2340a614a1a9",
   "metadata": {},
   "outputs": [
    {
     "data": {
      "text/plain": [
       "2"
      ]
     },
     "execution_count": 119,
     "metadata": {},
     "output_type": "execute_result"
    }
   ],
   "source": [
    "page0.ndim"
   ]
  },
  {
   "cell_type": "code",
   "execution_count": 120,
   "id": "142f9276-4b6c-43dd-bd69-f84af81031b4",
   "metadata": {},
   "outputs": [
    {
     "data": {
      "text/plain": [
       "(4, 3)"
      ]
     },
     "execution_count": 120,
     "metadata": {},
     "output_type": "execute_result"
    }
   ],
   "source": [
    "page0.shape"
   ]
  },
  {
   "cell_type": "code",
   "execution_count": 121,
   "id": "468a93af-d857-4ed5-830d-813be7559746",
   "metadata": {},
   "outputs": [
    {
     "data": {
      "text/plain": [
       "array([[13, 14, 15],\n",
       "       [16, 17, 18],\n",
       "       [19, 20, 21],\n",
       "       [22, 23, 24]])"
      ]
     },
     "execution_count": 121,
     "metadata": {},
     "output_type": "execute_result"
    }
   ],
   "source": [
    "page1 = np.array([[13, 14, 15],\n",
    "                  [16, 17, 18],\n",
    "                  [19, 20, 21],\n",
    "                  [22, 23, 24]])\n",
    "page1"
   ]
  },
  {
   "cell_type": "code",
   "execution_count": 122,
   "id": "23403aa4-a972-4a2c-8a3a-4bdbdcc39c13",
   "metadata": {},
   "outputs": [
    {
     "data": {
      "text/plain": [
       "array([[25, 26, 27],\n",
       "       [28, 29, 30],\n",
       "       [31, 32, 33],\n",
       "       [34, 35, 36]])"
      ]
     },
     "execution_count": 122,
     "metadata": {},
     "output_type": "execute_result"
    }
   ],
   "source": [
    "page2 = np.array([[25, 26, 27],\n",
    "                  [28, 29, 30],\n",
    "                  [31, 32, 33],\n",
    "                  [34, 35, 36]])\n",
    "page2"
   ]
  },
  {
   "cell_type": "code",
   "execution_count": 123,
   "id": "c2834cad-fe77-4c9f-be11-e5144714ce81",
   "metadata": {},
   "outputs": [
    {
     "data": {
      "text/plain": [
       "array([[[ 1.,  2.,  3.],\n",
       "        [ 4.,  5.,  6.],\n",
       "        [ 7.,  8.,  9.],\n",
       "        [10., 11., 12.]],\n",
       "\n",
       "       [[ 0.,  0.,  0.],\n",
       "        [ 0.,  0.,  0.],\n",
       "        [ 0.,  0.,  0.],\n",
       "        [ 0.,  0.,  0.]],\n",
       "\n",
       "       [[ 0.,  0.,  0.],\n",
       "        [ 0.,  0.,  0.],\n",
       "        [ 0.,  0.,  0.],\n",
       "        [ 0.,  0.,  0.]]])"
      ]
     },
     "execution_count": 123,
     "metadata": {},
     "output_type": "execute_result"
    }
   ],
   "source": [
    "book[0, :, :] = page0\n",
    "book"
   ]
  },
  {
   "cell_type": "code",
   "execution_count": 124,
   "id": "20c70aaa-dc31-4b21-a0f1-f577582df2e5",
   "metadata": {},
   "outputs": [
    {
     "data": {
      "text/plain": [
       "array([[[25., 26., 27.],\n",
       "        [28., 29., 30.],\n",
       "        [31., 32., 33.],\n",
       "        [34., 35., 36.]],\n",
       "\n",
       "       [[ 0.,  0.,  0.],\n",
       "        [ 0.,  0.,  0.],\n",
       "        [ 0.,  0.,  0.],\n",
       "        [ 0.,  0.,  0.]],\n",
       "\n",
       "       [[ 0.,  0.,  0.],\n",
       "        [ 0.,  0.,  0.],\n",
       "        [ 0.,  0.,  0.],\n",
       "        [ 0.,  0.,  0.]]])"
      ]
     },
     "execution_count": 124,
     "metadata": {},
     "output_type": "execute_result"
    }
   ],
   "source": [
    "book[0, :, :] = page1\n",
    "book[0, :, :] = page2\n",
    "book"
   ]
  },
  {
   "cell_type": "code",
   "execution_count": null,
   "id": "1ab3f6e5-aa0b-4526-b31b-c4365aa83d36",
   "metadata": {},
   "outputs": [],
   "source": []
  },
  {
   "cell_type": "code",
   "execution_count": 125,
   "id": "7b7e10f1-38a6-4e86-8134-1449bc94ab74",
   "metadata": {},
   "outputs": [
    {
     "data": {
      "text/plain": [
       "array([0, 1, 2, 3, 4, 5, 6, 7, 8, 9])"
      ]
     },
     "execution_count": 125,
     "metadata": {},
     "output_type": "execute_result"
    }
   ],
   "source": [
    "array1 = np.array(object=range(0, 10, 1))\n",
    "array1"
   ]
  },
  {
   "cell_type": "code",
   "execution_count": 126,
   "id": "062a2ac9-da50-4364-b32c-795ccf0c8bb5",
   "metadata": {},
   "outputs": [
    {
     "data": {
      "text/plain": [
       "1"
      ]
     },
     "execution_count": 126,
     "metadata": {},
     "output_type": "execute_result"
    }
   ],
   "source": [
    "array1.ndim"
   ]
  },
  {
   "cell_type": "code",
   "execution_count": 127,
   "id": "569da457-016c-4575-b2db-d6adf6b423be",
   "metadata": {},
   "outputs": [
    {
     "data": {
      "text/plain": [
       "10"
      ]
     },
     "execution_count": 127,
     "metadata": {},
     "output_type": "execute_result"
    }
   ],
   "source": [
    "array1.size"
   ]
  },
  {
   "cell_type": "code",
   "execution_count": 128,
   "id": "e335553d-2378-4f4f-9aac-4d276f2bceaf",
   "metadata": {},
   "outputs": [
    {
     "data": {
      "text/plain": [
       "dtype('int32')"
      ]
     },
     "execution_count": 128,
     "metadata": {},
     "output_type": "execute_result"
    }
   ],
   "source": [
    "array1.dtype"
   ]
  },
  {
   "cell_type": "code",
   "execution_count": 129,
   "id": "ab893f31-68c7-48af-bf22-27968cf0f31c",
   "metadata": {},
   "outputs": [
    {
     "data": {
      "text/plain": [
       "array([ 0,  1,  2,  3,  4,  5,  6,  7,  8,  9, 10])"
      ]
     },
     "execution_count": 129,
     "metadata": {},
     "output_type": "execute_result"
    }
   ],
   "source": [
    "array1 = np.array(object=range(0, 10+1, 1))\n",
    "array1"
   ]
  },
  {
   "cell_type": "code",
   "execution_count": 130,
   "id": "46d7920e-5e84-44cf-8d1c-4382a70ace16",
   "metadata": {},
   "outputs": [
    {
     "data": {
      "text/plain": [
       "1"
      ]
     },
     "execution_count": 130,
     "metadata": {},
     "output_type": "execute_result"
    }
   ],
   "source": [
    "array1.ndim"
   ]
  },
  {
   "cell_type": "code",
   "execution_count": 131,
   "id": "d1d431d0-9273-4865-978c-65d9e71b4d6c",
   "metadata": {},
   "outputs": [
    {
     "data": {
      "text/plain": [
       "11"
      ]
     },
     "execution_count": 131,
     "metadata": {},
     "output_type": "execute_result"
    }
   ],
   "source": [
    "array1.size"
   ]
  },
  {
   "cell_type": "code",
   "execution_count": 132,
   "id": "5c0a1a0d-45ca-4f19-b33a-dec45df7f1be",
   "metadata": {},
   "outputs": [
    {
     "data": {
      "text/plain": [
       "dtype('int32')"
      ]
     },
     "execution_count": 132,
     "metadata": {},
     "output_type": "execute_result"
    }
   ],
   "source": [
    "array1.dtype"
   ]
  },
  {
   "cell_type": "code",
   "execution_count": 133,
   "id": "1bdc1de6-e388-4786-bd07-0ffbc2ab7e95",
   "metadata": {},
   "outputs": [],
   "source": [
    "#array1 = np.array(object=range(0.0, 10.0+0.1, 0.1))\n",
    "#array1"
   ]
  },
  {
   "cell_type": "code",
   "execution_count": 134,
   "id": "59fb1cf0-672f-4c4d-96b0-3afe98da4889",
   "metadata": {},
   "outputs": [
    {
     "data": {
      "text/plain": [
       "array([0, 1, 2, 3, 4, 5, 6, 7, 8, 9])"
      ]
     },
     "execution_count": 134,
     "metadata": {},
     "output_type": "execute_result"
    }
   ],
   "source": [
    "array1 = np.arange(start=0, stop=10, step=1)\n",
    "array1"
   ]
  },
  {
   "cell_type": "code",
   "execution_count": 135,
   "id": "705852b3-d810-46ef-a737-129eaa5d0041",
   "metadata": {},
   "outputs": [
    {
     "data": {
      "text/plain": [
       "1"
      ]
     },
     "execution_count": 135,
     "metadata": {},
     "output_type": "execute_result"
    }
   ],
   "source": [
    "array1.ndim"
   ]
  },
  {
   "cell_type": "code",
   "execution_count": 136,
   "id": "99306853-7e98-4896-8666-0dd60722e1a4",
   "metadata": {},
   "outputs": [
    {
     "data": {
      "text/plain": [
       "10"
      ]
     },
     "execution_count": 136,
     "metadata": {},
     "output_type": "execute_result"
    }
   ],
   "source": [
    "array1.size"
   ]
  },
  {
   "cell_type": "code",
   "execution_count": 137,
   "id": "e0e517fe-27bd-4ed2-b6b7-a0791b9c4964",
   "metadata": {},
   "outputs": [
    {
     "data": {
      "text/plain": [
       "dtype('int32')"
      ]
     },
     "execution_count": 137,
     "metadata": {},
     "output_type": "execute_result"
    }
   ],
   "source": [
    "array1.dtype"
   ]
  },
  {
   "cell_type": "code",
   "execution_count": 138,
   "id": "24d0af75-52f5-43b5-aa6c-7d52920a6837",
   "metadata": {},
   "outputs": [
    {
     "data": {
      "text/plain": [
       "array([ 0,  1,  2,  3,  4,  5,  6,  7,  8,  9, 10])"
      ]
     },
     "execution_count": 138,
     "metadata": {},
     "output_type": "execute_result"
    }
   ],
   "source": [
    "array1 = np.arange(start=0, stop=10+1, step=1)\n",
    "array1"
   ]
  },
  {
   "cell_type": "code",
   "execution_count": 139,
   "id": "669d0abb-312f-4651-b171-76abd03712ce",
   "metadata": {},
   "outputs": [
    {
     "data": {
      "text/plain": [
       "1"
      ]
     },
     "execution_count": 139,
     "metadata": {},
     "output_type": "execute_result"
    }
   ],
   "source": [
    "array1.ndim"
   ]
  },
  {
   "cell_type": "code",
   "execution_count": 140,
   "id": "727e2bff-fb45-47ce-9130-905e88ca861e",
   "metadata": {},
   "outputs": [
    {
     "data": {
      "text/plain": [
       "11"
      ]
     },
     "execution_count": 140,
     "metadata": {},
     "output_type": "execute_result"
    }
   ],
   "source": [
    "array1.size"
   ]
  },
  {
   "cell_type": "code",
   "execution_count": 141,
   "id": "8f226db3-bb5b-47bc-9274-a6a8429aec5d",
   "metadata": {},
   "outputs": [
    {
     "data": {
      "text/plain": [
       "dtype('int32')"
      ]
     },
     "execution_count": 141,
     "metadata": {},
     "output_type": "execute_result"
    }
   ],
   "source": [
    "array1.dtype"
   ]
  },
  {
   "cell_type": "code",
   "execution_count": 142,
   "id": "e2f1b323-3062-4582-8c1b-693438d6ad4d",
   "metadata": {},
   "outputs": [
    {
     "data": {
      "text/plain": [
       "array([ 0. ,  0.1,  0.2,  0.3,  0.4,  0.5,  0.6,  0.7,  0.8,  0.9,  1. ,\n",
       "        1.1,  1.2,  1.3,  1.4,  1.5,  1.6,  1.7,  1.8,  1.9,  2. ,  2.1,\n",
       "        2.2,  2.3,  2.4,  2.5,  2.6,  2.7,  2.8,  2.9,  3. ,  3.1,  3.2,\n",
       "        3.3,  3.4,  3.5,  3.6,  3.7,  3.8,  3.9,  4. ,  4.1,  4.2,  4.3,\n",
       "        4.4,  4.5,  4.6,  4.7,  4.8,  4.9,  5. ,  5.1,  5.2,  5.3,  5.4,\n",
       "        5.5,  5.6,  5.7,  5.8,  5.9,  6. ,  6.1,  6.2,  6.3,  6.4,  6.5,\n",
       "        6.6,  6.7,  6.8,  6.9,  7. ,  7.1,  7.2,  7.3,  7.4,  7.5,  7.6,\n",
       "        7.7,  7.8,  7.9,  8. ,  8.1,  8.2,  8.3,  8.4,  8.5,  8.6,  8.7,\n",
       "        8.8,  8.9,  9. ,  9.1,  9.2,  9.3,  9.4,  9.5,  9.6,  9.7,  9.8,\n",
       "        9.9, 10. ])"
      ]
     },
     "execution_count": 142,
     "metadata": {},
     "output_type": "execute_result"
    }
   ],
   "source": [
    "array1 = np.arange(start=0.0, stop=10.0+0.1, step=0.1)\n",
    "array1"
   ]
  },
  {
   "cell_type": "code",
   "execution_count": 143,
   "id": "a60ad005-ae3f-4caf-b111-f23ed8dd28ae",
   "metadata": {},
   "outputs": [
    {
     "data": {
      "text/plain": [
       "1"
      ]
     },
     "execution_count": 143,
     "metadata": {},
     "output_type": "execute_result"
    }
   ],
   "source": [
    "array1.ndim"
   ]
  },
  {
   "cell_type": "code",
   "execution_count": 144,
   "id": "7ce4d82c-4381-4097-b441-0e2c435cf9f2",
   "metadata": {},
   "outputs": [
    {
     "data": {
      "text/plain": [
       "101"
      ]
     },
     "execution_count": 144,
     "metadata": {},
     "output_type": "execute_result"
    }
   ],
   "source": [
    "array1.size"
   ]
  },
  {
   "cell_type": "code",
   "execution_count": 145,
   "id": "6f9ed1d3-4112-4115-95b7-a7d2d2b65122",
   "metadata": {},
   "outputs": [
    {
     "data": {
      "text/plain": [
       "dtype('float64')"
      ]
     },
     "execution_count": 145,
     "metadata": {},
     "output_type": "execute_result"
    }
   ],
   "source": [
    "array1.dtype"
   ]
  },
  {
   "cell_type": "code",
   "execution_count": 146,
   "id": "2b192898-3f95-4380-9741-76d80203f707",
   "metadata": {},
   "outputs": [],
   "source": [
    "import datetime as dt"
   ]
  },
  {
   "cell_type": "code",
   "execution_count": 147,
   "id": "a5099b92-2d50-4a9a-a23d-d97e4b0d17ff",
   "metadata": {},
   "outputs": [
    {
     "data": {
      "text/plain": [
       "datetime.datetime(2008, 12, 3, 12, 0)"
      ]
     },
     "execution_count": 147,
     "metadata": {},
     "output_type": "execute_result"
    }
   ],
   "source": [
    "python3released = dt.datetime(year=2008, month=12, day=3, \n",
    "                              hour=12, minute=0, second=0, \n",
    "                              microsecond=0)\n",
    "python3released"
   ]
  },
  {
   "cell_type": "code",
   "execution_count": 148,
   "id": "2c75e92d-b976-4151-a476-ec419f4cf73e",
   "metadata": {},
   "outputs": [
    {
     "data": {
      "text/plain": [
       "datetime.datetime(2023, 1, 23, 17, 39, 16, 699973)"
      ]
     },
     "execution_count": 148,
     "metadata": {},
     "output_type": "execute_result"
    }
   ],
   "source": [
    "today = dt.datetime.now()\n",
    "today"
   ]
  },
  {
   "cell_type": "code",
   "execution_count": 149,
   "id": "f9eebb08-5672-455a-a545-a67810ace957",
   "metadata": {},
   "outputs": [
    {
     "data": {
      "text/plain": [
       "datetime.timedelta(days=1)"
      ]
     },
     "execution_count": 149,
     "metadata": {},
     "output_type": "execute_result"
    }
   ],
   "source": [
    "day = dt.timedelta(days=1)\n",
    "day"
   ]
  },
  {
   "cell_type": "code",
   "execution_count": 150,
   "id": "17126bb1-3346-4e11-89b8-e11b88c2be4b",
   "metadata": {},
   "outputs": [
    {
     "data": {
      "text/plain": [
       "array(['2008-12-03T12:00:00.000000', '2008-12-04T12:00:00.000000',\n",
       "       '2008-12-05T12:00:00.000000', ..., '2023-01-22T12:00:00.000000',\n",
       "       '2023-01-23T12:00:00.000000', '2023-01-24T12:00:00.000000'],\n",
       "      dtype='datetime64[us]')"
      ]
     },
     "execution_count": 150,
     "metadata": {},
     "output_type": "execute_result"
    }
   ],
   "source": [
    "python3birthdays = np.arange(start=python3released, stop=today+day, step=day)\n",
    "python3birthdays"
   ]
  },
  {
   "cell_type": "code",
   "execution_count": 151,
   "id": "0b15a3fa-1f3e-47d2-bea4-c8756e8a5663",
   "metadata": {},
   "outputs": [
    {
     "data": {
      "text/plain": [
       "array([ 0.,  1.,  2.,  3.,  4.,  5.,  6.,  7.,  8.,  9., 10.])"
      ]
     },
     "execution_count": 151,
     "metadata": {},
     "output_type": "execute_result"
    }
   ],
   "source": [
    "array1 = np.linspace(start=0, stop=10, num=11)\n",
    "array1"
   ]
  },
  {
   "cell_type": "code",
   "execution_count": 152,
   "id": "a563150e-86b6-4cc3-bf3a-2f325975ec05",
   "metadata": {},
   "outputs": [
    {
     "data": {
      "text/plain": [
       "1"
      ]
     },
     "execution_count": 152,
     "metadata": {},
     "output_type": "execute_result"
    }
   ],
   "source": [
    "array1.ndim"
   ]
  },
  {
   "cell_type": "code",
   "execution_count": 153,
   "id": "690210a9-5980-4f95-b956-fa5b5ec3221d",
   "metadata": {},
   "outputs": [
    {
     "data": {
      "text/plain": [
       "11"
      ]
     },
     "execution_count": 153,
     "metadata": {},
     "output_type": "execute_result"
    }
   ],
   "source": [
    "array1.size"
   ]
  },
  {
   "cell_type": "code",
   "execution_count": 154,
   "id": "1c526f8d-99d6-429d-b809-f80f8a1d9eef",
   "metadata": {},
   "outputs": [
    {
     "data": {
      "text/plain": [
       "dtype('float64')"
      ]
     },
     "execution_count": 154,
     "metadata": {},
     "output_type": "execute_result"
    }
   ],
   "source": [
    "array1.dtype"
   ]
  },
  {
   "cell_type": "code",
   "execution_count": 155,
   "id": "ff53b2b7-4f39-4d4e-9b42-6f818f6172bf",
   "metadata": {},
   "outputs": [
    {
     "data": {
      "text/plain": [
       "array([[5, 6],\n",
       "       [3, 3]])"
      ]
     },
     "execution_count": 155,
     "metadata": {},
     "output_type": "execute_result"
    }
   ],
   "source": [
    "equations = np.array([[5, 6],\n",
    "                      [3, 3]])\n",
    "equations"
   ]
  },
  {
   "cell_type": "code",
   "execution_count": 156,
   "id": "258a6da1-08c3-4f20-b9fc-b1a7870ebbc8",
   "metadata": {},
   "outputs": [
    {
     "data": {
      "text/plain": [
       "array([[83],\n",
       "       [42]])"
      ]
     },
     "execution_count": 156,
     "metadata": {},
     "output_type": "execute_result"
    }
   ],
   "source": [
    "results = np.array([83, 42])[:, np.newaxis]\n",
    "results"
   ]
  },
  {
   "cell_type": "code",
   "execution_count": 157,
   "id": "92ec6371-401e-4ac7-bc2a-7a01ec517158",
   "metadata": {},
   "outputs": [
    {
     "data": {
      "text/plain": [
       "array([[-1.        ,  2.        ],\n",
       "       [ 1.        , -1.66666667]])"
      ]
     },
     "execution_count": 157,
     "metadata": {},
     "output_type": "execute_result"
    }
   ],
   "source": [
    "inv_equations = np.linalg.inv(equations)\n",
    "inv_equations"
   ]
  },
  {
   "cell_type": "code",
   "execution_count": 158,
   "id": "2d56c891-c694-483f-9cf6-757ceb655a67",
   "metadata": {},
   "outputs": [
    {
     "data": {
      "text/plain": [
       "array([[ 1.0000000e+00, -8.8817842e-16],\n",
       "       [ 0.0000000e+00,  1.0000000e+00]])"
      ]
     },
     "execution_count": 158,
     "metadata": {},
     "output_type": "execute_result"
    }
   ],
   "source": [
    "inv_equations @ equations"
   ]
  },
  {
   "cell_type": "code",
   "execution_count": 159,
   "id": "a2c7978b-d9bf-4c88-b683-c061fdf8bdc8",
   "metadata": {},
   "outputs": [
    {
     "data": {
      "text/plain": [
       "array([[ 1.0000000e+00,  0.0000000e+00],\n",
       "       [-4.4408921e-16,  1.0000000e+00]])"
      ]
     },
     "execution_count": 159,
     "metadata": {},
     "output_type": "execute_result"
    }
   ],
   "source": [
    "equations @ inv_equations"
   ]
  },
  {
   "cell_type": "code",
   "execution_count": 160,
   "id": "3fc5445a-4a0a-4e9b-aa18-199cd25beaed",
   "metadata": {},
   "outputs": [
    {
     "data": {
      "text/plain": [
       "array([[1., 0.],\n",
       "       [0., 1.]])"
      ]
     },
     "execution_count": 160,
     "metadata": {},
     "output_type": "execute_result"
    }
   ],
   "source": [
    "np.identity(n=2)"
   ]
  },
  {
   "cell_type": "code",
   "execution_count": 161,
   "id": "fddde902-64fc-4b82-a123-4c6b2fdb4dae",
   "metadata": {},
   "outputs": [
    {
     "data": {
      "text/plain": [
       "array([[1., 0.],\n",
       "       [0., 1.]])"
      ]
     },
     "execution_count": 161,
     "metadata": {},
     "output_type": "execute_result"
    }
   ],
   "source": [
    "np.eye(N=2)"
   ]
  },
  {
   "cell_type": "code",
   "execution_count": 162,
   "id": "a30d2e24-62b9-4901-80df-3a948a9cbfe0",
   "metadata": {},
   "outputs": [
    {
     "data": {
      "text/plain": [
       "array([[1., 0., 0.],\n",
       "       [0., 1., 0.]])"
      ]
     },
     "execution_count": 162,
     "metadata": {},
     "output_type": "execute_result"
    }
   ],
   "source": [
    "np.eye(N=2, M=3)"
   ]
  },
  {
   "cell_type": "code",
   "execution_count": 163,
   "id": "95d542a7-3106-4439-adfa-23bdbfbc177e",
   "metadata": {},
   "outputs": [
    {
     "data": {
      "text/plain": [
       "array([[1., 0., 0.],\n",
       "       [0., 1., 0.],\n",
       "       [0., 0., 1.]])"
      ]
     },
     "execution_count": 163,
     "metadata": {},
     "output_type": "execute_result"
    }
   ],
   "source": [
    "np.eye(N=3, M=3, k=0)"
   ]
  },
  {
   "cell_type": "code",
   "execution_count": 164,
   "id": "e01943ad-69a3-409a-b821-1617efade242",
   "metadata": {},
   "outputs": [
    {
     "data": {
      "text/plain": [
       "array([[0., 1., 0.],\n",
       "       [0., 0., 1.],\n",
       "       [0., 0., 0.]])"
      ]
     },
     "execution_count": 164,
     "metadata": {},
     "output_type": "execute_result"
    }
   ],
   "source": [
    "np.eye(N=3, M=3, k=1)"
   ]
  },
  {
   "cell_type": "code",
   "execution_count": 165,
   "id": "5149c580-869a-45cf-977e-9eabc977583d",
   "metadata": {},
   "outputs": [
    {
     "data": {
      "text/plain": [
       "array([[0., 0., 0.],\n",
       "       [1., 0., 0.],\n",
       "       [0., 1., 0.]])"
      ]
     },
     "execution_count": 165,
     "metadata": {},
     "output_type": "execute_result"
    }
   ],
   "source": [
    "np.eye(N=3, M=3, k=-1)"
   ]
  },
  {
   "cell_type": "code",
   "execution_count": 166,
   "id": "8ba90daa-368e-43c1-94a4-cb219c94ae24",
   "metadata": {},
   "outputs": [
    {
     "data": {
      "text/plain": [
       "array([[ 1.],\n",
       "       [13.]])"
      ]
     },
     "execution_count": 166,
     "metadata": {},
     "output_type": "execute_result"
    }
   ],
   "source": [
    "coefficients = inv_equations @ results\n",
    "coefficients"
   ]
  },
  {
   "cell_type": "code",
   "execution_count": 167,
   "id": "5d66e972-f132-4085-9478-fe1d7739cf16",
   "metadata": {},
   "outputs": [
    {
     "data": {
      "text/plain": [
       "array([[ 1.],\n",
       "       [13.]])"
      ]
     },
     "execution_count": 167,
     "metadata": {},
     "output_type": "execute_result"
    }
   ],
   "source": [
    "coefficients = np.linalg.solve(equations, results)\n",
    "coefficients"
   ]
  },
  {
   "cell_type": "code",
   "execution_count": 168,
   "id": "2134798d-dfaf-48dc-82d7-70a21adf992d",
   "metadata": {},
   "outputs": [
    {
     "data": {
      "text/plain": [
       "array([[ 1,  2,  3,  4],\n",
       "       [ 5,  6,  7,  8],\n",
       "       [ 9, 10, 11, 12],\n",
       "       [13, 14, 15, 16]])"
      ]
     },
     "execution_count": 168,
     "metadata": {},
     "output_type": "execute_result"
    }
   ],
   "source": [
    "matrix1 = np.arange(start=1, stop=17, step=1).reshape((4, 4))\n",
    "matrix1"
   ]
  },
  {
   "cell_type": "code",
   "execution_count": 169,
   "id": "1ee782ad-6d6c-4ae9-a756-9ed83e86c5ed",
   "metadata": {},
   "outputs": [
    {
     "data": {
      "text/plain": [
       "array([ 1,  6, 11, 16])"
      ]
     },
     "execution_count": 169,
     "metadata": {},
     "output_type": "execute_result"
    }
   ],
   "source": [
    "matrix1.diagonal()"
   ]
  },
  {
   "cell_type": "code",
   "execution_count": 170,
   "id": "37514012-7cd5-431b-9ab7-e9fa9397f1a9",
   "metadata": {},
   "outputs": [
    {
     "data": {
      "text/plain": [
       "array([ 1,  6, 11, 16])"
      ]
     },
     "execution_count": 170,
     "metadata": {},
     "output_type": "execute_result"
    }
   ],
   "source": [
    "np.diagonal(a=matrix1)"
   ]
  },
  {
   "cell_type": "code",
   "execution_count": 171,
   "id": "eb3b884e-e439-4161-9467-dea5e562608d",
   "metadata": {},
   "outputs": [
    {
     "data": {
      "text/plain": [
       "array([ 2,  7, 12])"
      ]
     },
     "execution_count": 171,
     "metadata": {},
     "output_type": "execute_result"
    }
   ],
   "source": [
    "matrix1.diagonal(offset=1)"
   ]
  },
  {
   "cell_type": "code",
   "execution_count": 172,
   "id": "0e5979b0-ee2e-4c28-813a-a194d97c1be3",
   "metadata": {},
   "outputs": [
    {
     "data": {
      "text/plain": [
       "array([ 5, 10, 15])"
      ]
     },
     "execution_count": 172,
     "metadata": {},
     "output_type": "execute_result"
    }
   ],
   "source": [
    "matrix1.diagonal(offset=-1)"
   ]
  },
  {
   "cell_type": "code",
   "execution_count": 173,
   "id": "d15d4efb-4238-42f6-9338-c82ac682d760",
   "metadata": {},
   "outputs": [
    {
     "data": {
      "text/plain": [
       "array([[[ 1,  2,  3,  4],\n",
       "        [ 5,  6,  7,  8],\n",
       "        [ 9, 10, 11, 12],\n",
       "        [13, 14, 15, 16]],\n",
       "\n",
       "       [[17, 18, 19, 20],\n",
       "        [21, 22, 23, 24],\n",
       "        [25, 26, 27, 28],\n",
       "        [29, 30, 31, 32]],\n",
       "\n",
       "       [[33, 34, 35, 36],\n",
       "        [37, 38, 39, 40],\n",
       "        [41, 42, 43, 44],\n",
       "        [45, 46, 47, 48]],\n",
       "\n",
       "       [[49, 50, 51, 52],\n",
       "        [53, 54, 55, 56],\n",
       "        [57, 58, 59, 60],\n",
       "        [61, 62, 63, 64]]])"
      ]
     },
     "execution_count": 173,
     "metadata": {},
     "output_type": "execute_result"
    }
   ],
   "source": [
    "book1 = np.arange(start=1, stop=65, step=1).reshape((4, 4, 4))\n",
    "book1"
   ]
  },
  {
   "cell_type": "code",
   "execution_count": 174,
   "id": "99224377-ce19-4167-a415-6e4878bba092",
   "metadata": {},
   "outputs": [
    {
     "data": {
      "text/plain": [
       "array([[ 1, 18, 35, 52],\n",
       "       [ 5, 22, 39, 56],\n",
       "       [ 9, 26, 43, 60],\n",
       "       [13, 30, 47, 64]])"
      ]
     },
     "execution_count": 174,
     "metadata": {},
     "output_type": "execute_result"
    }
   ],
   "source": [
    "book1.diagonal(offset=0, axis1=-3, axis2=-1)"
   ]
  },
  {
   "cell_type": "code",
   "execution_count": 175,
   "id": "2fe97bbb-b41a-463e-8e79-8bcbb3274f5b",
   "metadata": {},
   "outputs": [
    {
     "data": {
      "text/plain": [
       "array([[0., 0., 0., 0.],\n",
       "       [0., 0., 0., 0.],\n",
       "       [0., 0., 0., 0.],\n",
       "       [0., 0., 0., 0.]])"
      ]
     },
     "execution_count": 175,
     "metadata": {},
     "output_type": "execute_result"
    }
   ],
   "source": [
    "matrix2 = np.zeros((4, 4))\n",
    "matrix2"
   ]
  },
  {
   "cell_type": "code",
   "execution_count": 176,
   "id": "f98ccceb-b2c8-4f80-8d79-42250cd44c7d",
   "metadata": {},
   "outputs": [],
   "source": [
    "np.fill_diagonal(a=matrix2, val=1)"
   ]
  },
  {
   "cell_type": "code",
   "execution_count": 177,
   "id": "b295dd59-42ae-4ca9-bfec-40be682eca09",
   "metadata": {},
   "outputs": [
    {
     "data": {
      "text/plain": [
       "array([[1., 0., 0., 0.],\n",
       "       [0., 1., 0., 0.],\n",
       "       [0., 0., 1., 0.],\n",
       "       [0., 0., 0., 1.]])"
      ]
     },
     "execution_count": 177,
     "metadata": {},
     "output_type": "execute_result"
    }
   ],
   "source": [
    "matrix2"
   ]
  },
  {
   "cell_type": "code",
   "execution_count": 178,
   "id": "28ae6158-6b4a-4abc-8f84-117930626960",
   "metadata": {},
   "outputs": [
    {
     "data": {
      "text/plain": [
       "array([[1, 0, 0, 0],\n",
       "       [0, 2, 0, 0],\n",
       "       [0, 0, 3, 0],\n",
       "       [0, 0, 0, 4]])"
      ]
     },
     "execution_count": 178,
     "metadata": {},
     "output_type": "execute_result"
    }
   ],
   "source": [
    "np.diag([1, 2, 3, 4])"
   ]
  },
  {
   "cell_type": "code",
   "execution_count": 179,
   "id": "3b600cdf-c601-493e-8ea8-b4fe4124eee0",
   "metadata": {},
   "outputs": [
    {
     "data": {
      "text/plain": [
       "array([[0, 1, 0, 0, 0],\n",
       "       [0, 0, 2, 0, 0],\n",
       "       [0, 0, 0, 3, 0],\n",
       "       [0, 0, 0, 0, 4],\n",
       "       [0, 0, 0, 0, 0]])"
      ]
     },
     "execution_count": 179,
     "metadata": {},
     "output_type": "execute_result"
    }
   ],
   "source": [
    "np.diag([1, 2, 3, 4], k=1)"
   ]
  },
  {
   "cell_type": "code",
   "execution_count": 181,
   "id": "112e9fb7-0418-4961-ab11-380f1dbb1358",
   "metadata": {},
   "outputs": [
    {
     "data": {
      "text/plain": [
       "array([[ 1,  2,  3,  4],\n",
       "       [ 5,  6,  7,  8],\n",
       "       [ 9, 10, 11, 12],\n",
       "       [13, 14, 15, 16]])"
      ]
     },
     "execution_count": 181,
     "metadata": {},
     "output_type": "execute_result"
    }
   ],
   "source": [
    "matrix1"
   ]
  },
  {
   "cell_type": "code",
   "execution_count": 180,
   "id": "aa1fa29b-7a52-40ae-9f79-9dd2d93c9583",
   "metadata": {},
   "outputs": [
    {
     "data": {
      "text/plain": [
       "array([ 1,  6, 11, 16])"
      ]
     },
     "execution_count": 180,
     "metadata": {},
     "output_type": "execute_result"
    }
   ],
   "source": [
    "np.diag(matrix1)"
   ]
  },
  {
   "cell_type": "code",
   "execution_count": null,
   "id": "aeabddf4-ce2e-4403-90f1-e2a31ebb03df",
   "metadata": {},
   "outputs": [],
   "source": [
    "np.amax()"
   ]
  }
 ],
 "metadata": {
  "kernelspec": {
   "display_name": "Python 3 (ipykernel)",
   "language": "python",
   "name": "python3"
  },
  "language_info": {
   "codemirror_mode": {
    "name": "ipython",
    "version": 3
   },
   "file_extension": ".py",
   "mimetype": "text/x-python",
   "name": "python",
   "nbconvert_exporter": "python",
   "pygments_lexer": "ipython3",
   "version": "3.11.0"
  }
 },
 "nbformat": 4,
 "nbformat_minor": 5
}
