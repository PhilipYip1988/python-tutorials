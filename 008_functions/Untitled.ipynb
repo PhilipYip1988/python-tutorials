{
 "cells": [
  {
   "cell_type": "code",
   "execution_count": 1,
   "id": "827d9eb0-d503-4d0b-a524-5a8bb1c96f43",
   "metadata": {},
   "outputs": [],
   "source": [
    "var1 = 1\n",
    "var2 = 2.1\n",
    "var3 = \"hello\"\n",
    "var4 = [\"apples\", \"bananas\", \"grapes\"]"
   ]
  },
  {
   "cell_type": "code",
   "execution_count": 2,
   "id": "dfc714cc-d612-49a0-8919-d6418bf0996d",
   "metadata": {},
   "outputs": [],
   "source": [
    "def fun_name():\n",
    "    print(\"Hello\")\n",
    "    return None\n",
    "\n"
   ]
  },
  {
   "cell_type": "code",
   "execution_count": 3,
   "id": "c9f1c721-19ea-4191-b3ff-23264be753d6",
   "metadata": {},
   "outputs": [
    {
     "data": {
      "text/plain": [
       "<function __main__.fun_name()>"
      ]
     },
     "execution_count": 3,
     "metadata": {},
     "output_type": "execute_result"
    }
   ],
   "source": [
    "fun_name"
   ]
  },
  {
   "cell_type": "code",
   "execution_count": 4,
   "id": "ebb1b260-9172-4a10-8d70-763b0f66dbdd",
   "metadata": {},
   "outputs": [
    {
     "name": "stdout",
     "output_type": "stream",
     "text": [
      "Hello\n"
     ]
    }
   ],
   "source": [
    "fun_name()"
   ]
  },
  {
   "cell_type": "code",
   "execution_count": 5,
   "id": "5677257a-e218-41a2-a9f0-bb270162cc1c",
   "metadata": {},
   "outputs": [
    {
     "name": "stdout",
     "output_type": "stream",
     "text": [
      "Hello\n"
     ]
    }
   ],
   "source": [
    "fun_out = fun_name()"
   ]
  },
  {
   "cell_type": "code",
   "execution_count": 6,
   "id": "186a48fa-f1b3-40b2-966e-89b20bd112cc",
   "metadata": {},
   "outputs": [],
   "source": [
    "def print_hello():\n",
    "    print(\"Hello\")\n",
    "    return None\n",
    "\n"
   ]
  },
  {
   "cell_type": "code",
   "execution_count": 7,
   "id": "1a516a22-d35c-4a35-b192-03ad97a546fc",
   "metadata": {},
   "outputs": [],
   "source": [
    "def return_hello():\n",
    "    return \"Hello\"\n",
    "\n"
   ]
  },
  {
   "cell_type": "code",
   "execution_count": 8,
   "id": "70d273ca-b273-46c7-9a27-d7ac12ec3b21",
   "metadata": {},
   "outputs": [
    {
     "name": "stdout",
     "output_type": "stream",
     "text": [
      "Hello\n"
     ]
    }
   ],
   "source": [
    "print_out = print_hello()"
   ]
  },
  {
   "cell_type": "code",
   "execution_count": 9,
   "id": "4db0a6f4-4c7c-4e0c-a2b9-b1194b2ae01a",
   "metadata": {},
   "outputs": [],
   "source": [
    "return_out = return_hello()"
   ]
  },
  {
   "cell_type": "code",
   "execution_count": 10,
   "id": "5b9c6052-b85b-4eb2-b236-5fd4d91cb32c",
   "metadata": {},
   "outputs": [],
   "source": [
    "def print_hello():\n",
    "    print(\"Hello\")\n",
    "    \n",
    "    "
   ]
  },
  {
   "cell_type": "code",
   "execution_count": 11,
   "id": "5da16065-c190-4265-aa8b-87ffbf0924f8",
   "metadata": {},
   "outputs": [
    {
     "name": "stdout",
     "output_type": "stream",
     "text": [
      "Hello\n"
     ]
    }
   ],
   "source": [
    "print_out = print_hello()"
   ]
  },
  {
   "cell_type": "code",
   "execution_count": 12,
   "id": "2313a539-7360-4bfa-a2f9-7a9991a4e5c6",
   "metadata": {},
   "outputs": [],
   "source": [
    "def return_value(value):\n",
    "    return value\n",
    "\n"
   ]
  },
  {
   "cell_type": "code",
   "execution_count": 13,
   "id": "72f3f4c8-16a0-4c51-be0a-0ba4b5a08fdc",
   "metadata": {},
   "outputs": [],
   "source": [
    "#return_value()"
   ]
  },
  {
   "cell_type": "code",
   "execution_count": null,
   "id": "a208d63c-4b44-47d4-a4a9-b7d507ab99bf",
   "metadata": {},
   "outputs": [],
   "source": [
    "return_value("
   ]
  },
  {
   "cell_type": "code",
   "execution_count": null,
   "id": "3d6c5c7a-f48a-46e2-af76-8e4d622455b4",
   "metadata": {},
   "outputs": [],
   "source": []
  },
  {
   "cell_type": "code",
   "execution_count": null,
   "id": "6a2fda9f-3dbd-4b54-8469-f21174d61b17",
   "metadata": {},
   "outputs": [],
   "source": []
  },
  {
   "cell_type": "code",
   "execution_count": null,
   "id": "58a430ce-82fa-4117-a5be-0ebca9c75428",
   "metadata": {},
   "outputs": [],
   "source": []
  }
 ],
 "metadata": {
  "kernelspec": {
   "display_name": "Python 3 (ipykernel)",
   "language": "python",
   "name": "python3"
  },
  "language_info": {
   "codemirror_mode": {
    "name": "ipython",
    "version": 3
   },
   "file_extension": ".py",
   "mimetype": "text/x-python",
   "name": "python",
   "nbconvert_exporter": "python",
   "pygments_lexer": "ipython3",
   "version": "3.10.6"
  }
 },
 "nbformat": 4,
 "nbformat_minor": 5
}
