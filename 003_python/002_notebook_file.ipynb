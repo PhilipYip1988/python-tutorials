{
 "cells": [
  {
   "cell_type": "markdown",
   "id": "e673f939-44c4-4b2d-8c35-e4343c114046",
   "metadata": {},
   "source": [
    "# Interactive Python Notebook File"
   ]
  },
  {
   "cell_type": "markdown",
   "id": "1f7b0d44-ee15-43ba-b9a3-0aa38ba16443",
   "metadata": {},
   "source": [
    "The following cell prints ```Hello World```. \n",
    "\n",
    "Highlight the first cell and press the shortcut key shift ```⇧``` and enter ```↵``` to run it.\n",
    "\n",
    "Highlight the second cell and press the shortcut key shift ```⇧``` and enter ```↵``` to run it.\n",
    "\n",
    "Highlight the first cell and press the shortcut key alt ```alt``` and enter ```↵``` to run it and insert a blank cell below it."
   ]
  },
  {
   "cell_type": "code",
   "execution_count": null,
   "id": "b1cd1171-cf7c-4b9b-98f8-22d383d56eb3",
   "metadata": {},
   "outputs": [],
   "source": [
    "print(\"Hello World\")"
   ]
  },
  {
   "cell_type": "code",
   "execution_count": null,
   "id": "05cb3f09-cb5b-4b2a-9cdf-5f7d97accacb",
   "metadata": {},
   "outputs": [],
   "source": [
    "print(\"Goodbye World\")"
   ]
  },
  {
   "cell_type": "markdown",
   "id": "ac10ff0c-c698-4422-a359-c25937f0fea3",
   "metadata": {},
   "source": [
    "In the cell below input ```print(``` and then press shift ```⇧``` and tab ```↹``` to view the docstring as a popup:"
   ]
  },
  {
   "cell_type": "code",
   "execution_count": null,
   "id": "33b8efae-cac3-4c54-ac4f-a66a62ecd811",
   "metadata": {},
   "outputs": [],
   "source": []
  },
  {
   "cell_type": "markdown",
   "id": "698d871b-ac72-4553-9a3a-0d51cac6c571",
   "metadata": {},
   "source": [
    "Run the next cell to view the docstring as a cell output. Right click the output and select Enable Scrolling for Outputs:"
   ]
  },
  {
   "cell_type": "code",
   "execution_count": null,
   "id": "18ad50f7-29b5-43c2-b401-afb44d8a1239",
   "metadata": {
    "scrolled": true,
    "tags": []
   },
   "outputs": [],
   "source": [
    "? print"
   ]
  },
  {
   "cell_type": "markdown",
   "id": "432176e5-af08-418d-9fc5-82d6072d2f21",
   "metadata": {},
   "source": [
    "Run the next cell to import the datetime module:"
   ]
  },
  {
   "cell_type": "code",
   "execution_count": null,
   "id": "24a711a2-46ac-40c7-9153-c6943afa9957",
   "metadata": {},
   "outputs": [],
   "source": [
    "import datetime as dt"
   ]
  },
  {
   "cell_type": "markdown",
   "id": "d58b88e1-a1e6-43f3-9e82-339734da7766",
   "metadata": {},
   "source": [
    "Input ```dt``` and then input ```.``` and tab ```↹``` to view a list of objects that can be referenced from the datetime module. \n",
    "\n",
    "Have a look at the docstring for the datetime class and by inputting ```dt.datetime``` and then press shift ```⇧``` and tab ```↹``` to view the docstring as a popup or alternatively input the docstring to the output of a new cell.\n",
    "\n",
    "Use the datetime class to create a date."
   ]
  },
  {
   "cell_type": "code",
   "execution_count": null,
   "id": "c3206c5f-460f-470e-80d8-60db859c620e",
   "metadata": {},
   "outputs": [],
   "source": []
  }
 ],
 "metadata": {
  "kernelspec": {
   "display_name": "Python 3 (ipykernel)",
   "language": "python",
   "name": "python3"
  },
  "language_info": {
   "codemirror_mode": {
    "name": "ipython",
    "version": 3
   },
   "file_extension": ".py",
   "mimetype": "text/x-python",
   "name": "python",
   "nbconvert_exporter": "python",
   "pygments_lexer": "ipython3",
   "version": "3.9.13"
  }
 },
 "nbformat": 4,
 "nbformat_minor": 5
}
