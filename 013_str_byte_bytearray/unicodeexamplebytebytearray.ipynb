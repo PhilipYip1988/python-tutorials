{
 "cells": [
  {
   "cell_type": "code",
   "execution_count": 12,
   "id": "dbb7a006-7a79-4567-ba1f-184b656a4c39",
   "metadata": {
    "scrolled": true,
    "tags": []
   },
   "outputs": [
    {
     "name": "stdout",
     "output_type": "stream",
     "text": [
      "0 \u0000\n",
      "1 \u0001\n",
      "2 \u0002\n",
      "3 \u0003\n",
      "4 \u0004\n",
      "5 \u0005\n",
      "6 \u0006\n",
      "7 \u0007\n",
      "8\n",
      "9 \t\n",
      "10 \n",
      "\n",
      "11 \u000b",
      "\n",
      "12 \f",
      "\n",
      "13 \n",
      "14 \u000e\n",
      "15 \u000f\n",
      "16 \u0010\n",
      "17 \u0011\n",
      "18 \u0012\n",
      "19 \u0013\n",
      "20 \u0014\n",
      "21 \u0015\n",
      "22 \u0016\n",
      "23 \u0017\n",
      "24 \u0018\n",
      "25 \u0019\n",
      "26 \u001a\n",
      "27 \u001b\n",
      "28 \u001c",
      "\n",
      "29 \u001d",
      "\n",
      "30 \u001e",
      "\n",
      "31 \u001f\n",
      "32  \n"
     ]
    }
   ],
   "source": [
    "for num in range(33):\n",
    "    print(num, chr(num))"
   ]
  },
  {
   "cell_type": "code",
   "execution_count": 11,
   "id": "24cb8eea-fca9-43e4-b101-7ebe9063bdd9",
   "metadata": {
    "scrolled": true,
    "tags": []
   },
   "outputs": [
    {
     "name": "stdout",
     "output_type": "stream",
     "text": [
      "33 !\n",
      "34 \"\n",
      "35 #\n",
      "36 $\n",
      "37 %\n",
      "38 &\n",
      "39 '\n",
      "40 (\n",
      "41 )\n",
      "42 *\n",
      "43 +\n",
      "44 ,\n",
      "45 -\n",
      "46 .\n",
      "47 /\n",
      "48 0\n",
      "49 1\n",
      "50 2\n",
      "51 3\n",
      "52 4\n",
      "53 5\n",
      "54 6\n",
      "55 7\n",
      "56 8\n",
      "57 9\n",
      "58 :\n",
      "59 ;\n",
      "60 <\n",
      "61 =\n",
      "62 >\n",
      "63 ?\n",
      "64 @\n",
      "65 A\n",
      "66 B\n",
      "67 C\n",
      "68 D\n",
      "69 E\n",
      "70 F\n",
      "71 G\n",
      "72 H\n",
      "73 I\n",
      "74 J\n",
      "75 K\n",
      "76 L\n",
      "77 M\n",
      "78 N\n",
      "79 O\n",
      "80 P\n",
      "81 Q\n",
      "82 R\n",
      "83 S\n",
      "84 T\n",
      "85 U\n",
      "86 V\n",
      "87 W\n",
      "88 X\n",
      "89 Y\n",
      "90 Z\n",
      "91 [\n",
      "92 \\\n",
      "93 ]\n",
      "94 ^\n",
      "95 _\n",
      "96 `\n",
      "97 a\n",
      "98 b\n",
      "99 c\n",
      "100 d\n",
      "101 e\n",
      "102 f\n",
      "103 g\n",
      "104 h\n",
      "105 i\n",
      "106 j\n",
      "107 k\n",
      "108 l\n",
      "109 m\n",
      "110 n\n",
      "111 o\n",
      "112 p\n",
      "113 q\n",
      "114 r\n",
      "115 s\n",
      "116 t\n",
      "117 u\n",
      "118 v\n",
      "119 w\n",
      "120 x\n",
      "121 y\n",
      "122 z\n",
      "123 {\n",
      "124 |\n",
      "125 }\n",
      "126 ~\n",
      "127 \n"
     ]
    }
   ],
   "source": [
    "for num in range(33, 128):\n",
    "    print(num, chr(num))"
   ]
  },
  {
   "cell_type": "code",
   "execution_count": 13,
   "id": "4d9e55db-6d6f-4342-857e-c75f87175ac8",
   "metadata": {
    "scrolled": true,
    "tags": []
   },
   "outputs": [
    {
     "name": "stdout",
     "output_type": "stream",
     "text": [
      "129 \n",
      "130 \n",
      "131 \n",
      "132 \n",
      "133 ",
      "\n",
      "134 \n",
      "135 \n",
      "136 \n",
      "137 \n",
      "138 \n",
      "139 \n",
      "140 \n",
      "141 \n",
      "142 \n",
      "143 \n",
      "144 \n",
      "145 \n",
      "146 \n",
      "147 \n",
      "148 \n",
      "149 \n",
      "150 \n",
      "151 \n",
      "152 \n",
      "153 \n",
      "154 \n",
      "155 \n",
      "156 \n",
      "157 \n",
      "158 \n"
     ]
    }
   ],
   "source": [
    "for num in range(129, 159):\n",
    "    print(num, chr(num))"
   ]
  },
  {
   "cell_type": "markdown",
   "id": "08b8532b-2f47-4782-a133-13440e17a961",
   "metadata": {},
   "source": [
    "This is known as the latin1 extension to ASCII and there used to be many regional variations of this characterset."
   ]
  },
  {
   "cell_type": "code",
   "execution_count": 14,
   "id": "16a7dff7-73ff-4e49-bd7f-cc1d79eb1e57",
   "metadata": {
    "scrolled": true,
    "tags": []
   },
   "outputs": [
    {
     "name": "stdout",
     "output_type": "stream",
     "text": [
      "160  \n",
      "161 ¡\n",
      "162 ¢\n",
      "163 £\n",
      "164 ¤\n",
      "165 ¥\n",
      "166 ¦\n",
      "167 §\n",
      "168 ¨\n",
      "169 ©\n",
      "170 ª\n",
      "171 «\n",
      "172 ¬\n",
      "173 ­\n",
      "174 ®\n",
      "175 ¯\n",
      "176 °\n",
      "177 ±\n",
      "178 ²\n",
      "179 ³\n",
      "180 ´\n",
      "181 µ\n",
      "182 ¶\n",
      "183 ·\n",
      "184 ¸\n",
      "185 ¹\n",
      "186 º\n",
      "187 »\n",
      "188 ¼\n",
      "189 ½\n",
      "190 ¾\n",
      "191 ¿\n",
      "192 À\n",
      "193 Á\n",
      "194 Â\n",
      "195 Ã\n",
      "196 Ä\n",
      "197 Å\n",
      "198 Æ\n",
      "199 Ç\n",
      "200 È\n",
      "201 É\n",
      "202 Ê\n",
      "203 Ë\n",
      "204 Ì\n",
      "205 Í\n",
      "206 Î\n",
      "207 Ï\n",
      "208 Ð\n",
      "209 Ñ\n",
      "210 Ò\n",
      "211 Ó\n",
      "212 Ô\n",
      "213 Õ\n",
      "214 Ö\n",
      "215 ×\n",
      "216 Ø\n",
      "217 Ù\n",
      "218 Ú\n",
      "219 Û\n",
      "220 Ü\n",
      "221 Ý\n",
      "222 Þ\n",
      "223 ß\n",
      "224 à\n",
      "225 á\n",
      "226 â\n",
      "227 ã\n",
      "228 ä\n",
      "229 å\n",
      "230 æ\n",
      "231 ç\n",
      "232 è\n",
      "233 é\n",
      "234 ê\n",
      "235 ë\n",
      "236 ì\n",
      "237 í\n",
      "238 î\n",
      "239 ï\n",
      "240 ð\n",
      "241 ñ\n",
      "242 ò\n",
      "243 ó\n",
      "244 ô\n",
      "245 õ\n",
      "246 ö\n",
      "247 ÷\n",
      "248 ø\n",
      "249 ù\n",
      "250 ú\n",
      "251 û\n",
      "252 ü\n",
      "253 ý\n",
      "254 þ\n"
     ]
    }
   ],
   "source": [
    "for num in range(160, 255):\n",
    "    print(num, chr(num))"
   ]
  },
  {
   "cell_type": "code",
   "execution_count": 16,
   "id": "c14206cd-21ae-48cf-bdba-a1f5a58f754d",
   "metadata": {
    "scrolled": true,
    "tags": []
   },
   "outputs": [
    {
     "name": "stdout",
     "output_type": "stream",
     "text": [
      "0x21 !\n",
      "0x22 \"\n",
      "0x23 #\n",
      "0x24 $\n",
      "0x25 %\n",
      "0x26 &\n",
      "0x27 '\n",
      "0x28 (\n",
      "0x29 )\n",
      "0x2a *\n",
      "0x2b +\n",
      "0x2c ,\n",
      "0x2d -\n",
      "0x2e .\n",
      "0x2f /\n",
      "0x30 0\n",
      "0x31 1\n",
      "0x32 2\n",
      "0x33 3\n",
      "0x34 4\n",
      "0x35 5\n",
      "0x36 6\n",
      "0x37 7\n",
      "0x38 8\n",
      "0x39 9\n",
      "0x3a :\n",
      "0x3b ;\n",
      "0x3c <\n",
      "0x3d =\n",
      "0x3e >\n",
      "0x3f ?\n",
      "0x40 @\n",
      "0x41 A\n",
      "0x42 B\n",
      "0x43 C\n",
      "0x44 D\n",
      "0x45 E\n",
      "0x46 F\n",
      "0x47 G\n",
      "0x48 H\n",
      "0x49 I\n",
      "0x4a J\n",
      "0x4b K\n",
      "0x4c L\n",
      "0x4d M\n",
      "0x4e N\n",
      "0x4f O\n",
      "0x50 P\n",
      "0x51 Q\n",
      "0x52 R\n",
      "0x53 S\n",
      "0x54 T\n",
      "0x55 U\n",
      "0x56 V\n",
      "0x57 W\n",
      "0x58 X\n",
      "0x59 Y\n",
      "0x5a Z\n",
      "0x5b [\n",
      "0x5c \\\n",
      "0x5d ]\n",
      "0x5e ^\n",
      "0x5f _\n",
      "0x60 `\n",
      "0x61 a\n",
      "0x62 b\n",
      "0x63 c\n",
      "0x64 d\n",
      "0x65 e\n",
      "0x66 f\n",
      "0x67 g\n",
      "0x68 h\n",
      "0x69 i\n",
      "0x6a j\n",
      "0x6b k\n",
      "0x6c l\n",
      "0x6d m\n",
      "0x6e n\n",
      "0x6f o\n",
      "0x70 p\n",
      "0x71 q\n",
      "0x72 r\n",
      "0x73 s\n",
      "0x74 t\n",
      "0x75 u\n",
      "0x76 v\n",
      "0x77 w\n",
      "0x78 x\n",
      "0x79 y\n",
      "0x7a z\n",
      "0x7b {\n",
      "0x7c |\n",
      "0x7d }\n",
      "0x7e ~\n",
      "0x7f \n"
     ]
    }
   ],
   "source": [
    "for num in range(33, 128):\n",
    "    print(hex(num), chr(num))"
   ]
  },
  {
   "cell_type": "code",
   "execution_count": 135,
   "id": "d855a3fd-1ba7-4ad7-bb9a-7728ae7faae3",
   "metadata": {
    "scrolled": true,
    "tags": []
   },
   "outputs": [
    {
     "name": "stdout",
     "output_type": "stream",
     "text": [
      "0xa0  \n",
      "0xa1 ¡\n",
      "0xa2 ¢\n",
      "0xa3 £\n",
      "0xa4 ¤\n",
      "0xa5 ¥\n",
      "0xa6 ¦\n",
      "0xa7 §\n",
      "0xa8 ¨\n",
      "0xa9 ©\n",
      "0xaa ª\n",
      "0xab «\n",
      "0xac ¬\n",
      "0xad ­\n",
      "0xae ®\n",
      "0xaf ¯\n",
      "0xb0 °\n",
      "0xb1 ±\n",
      "0xb2 ²\n",
      "0xb3 ³\n",
      "0xb4 ´\n",
      "0xb5 µ\n",
      "0xb6 ¶\n",
      "0xb7 ·\n",
      "0xb8 ¸\n",
      "0xb9 ¹\n",
      "0xba º\n",
      "0xbb »\n",
      "0xbc ¼\n",
      "0xbd ½\n",
      "0xbe ¾\n",
      "0xbf ¿\n",
      "0xc0 À\n",
      "0xc1 Á\n",
      "0xc2 Â\n",
      "0xc3 Ã\n",
      "0xc4 Ä\n",
      "0xc5 Å\n",
      "0xc6 Æ\n",
      "0xc7 Ç\n",
      "0xc8 È\n",
      "0xc9 É\n",
      "0xca Ê\n",
      "0xcb Ë\n",
      "0xcc Ì\n",
      "0xcd Í\n",
      "0xce Î\n",
      "0xcf Ï\n",
      "0xd0 Ð\n",
      "0xd1 Ñ\n",
      "0xd2 Ò\n",
      "0xd3 Ó\n",
      "0xd4 Ô\n",
      "0xd5 Õ\n",
      "0xd6 Ö\n",
      "0xd7 ×\n",
      "0xd8 Ø\n",
      "0xd9 Ù\n",
      "0xda Ú\n",
      "0xdb Û\n",
      "0xdc Ü\n",
      "0xdd Ý\n",
      "0xde Þ\n",
      "0xdf ß\n",
      "0xe0 à\n",
      "0xe1 á\n",
      "0xe2 â\n",
      "0xe3 ã\n",
      "0xe4 ä\n",
      "0xe5 å\n",
      "0xe6 æ\n",
      "0xe7 ç\n",
      "0xe8 è\n",
      "0xe9 é\n",
      "0xea ê\n",
      "0xeb ë\n",
      "0xec ì\n",
      "0xed í\n",
      "0xee î\n",
      "0xef ï\n",
      "0xf0 ð\n",
      "0xf1 ñ\n",
      "0xf2 ò\n",
      "0xf3 ó\n",
      "0xf4 ô\n",
      "0xf5 õ\n",
      "0xf6 ö\n",
      "0xf7 ÷\n",
      "0xf8 ø\n",
      "0xf9 ù\n",
      "0xfa ú\n",
      "0xfb û\n",
      "0xfc ü\n",
      "0xfd ý\n",
      "0xfe þ\n"
     ]
    }
   ],
   "source": [
    "for num in range(160, 255):\n",
    "    print(hex(num), chr(num))"
   ]
  },
  {
   "cell_type": "code",
   "execution_count": null,
   "id": "53746ec4-b401-4f06-a1c3-860587545609",
   "metadata": {},
   "outputs": [],
   "source": []
  },
  {
   "cell_type": "code",
   "execution_count": 298,
   "id": "a48bbc20-ba77-4bfc-a69c-a2b4986bc3dd",
   "metadata": {},
   "outputs": [],
   "source": [
    "import string"
   ]
  },
  {
   "cell_type": "code",
   "execution_count": null,
   "id": "d321713f-8c02-4306-810c-db4a52f5c4b8",
   "metadata": {},
   "outputs": [],
   "source": [
    "string."
   ]
  },
  {
   "cell_type": "code",
   "execution_count": 299,
   "id": "3ded29d1-e106-48d5-b401-53ca9484e8ad",
   "metadata": {},
   "outputs": [
    {
     "data": {
      "text/plain": [
       "\u001b[1;31mType:\u001b[0m        module\n",
       "\u001b[1;31mString form:\u001b[0m <module 'string' from 'C:\\\\Users\\\\Philip\\\\mambaforge\\\\lib\\\\string.py'>\n",
       "\u001b[1;31mFile:\u001b[0m        c:\\users\\philip\\mambaforge\\lib\\string.py\n",
       "\u001b[1;31mDocstring:\u001b[0m  \n",
       "A collection of string constants.\n",
       "\n",
       "Public module variables:\n",
       "\n",
       "whitespace -- a string containing all ASCII whitespace\n",
       "ascii_lowercase -- a string containing all ASCII lowercase letters\n",
       "ascii_uppercase -- a string containing all ASCII uppercase letters\n",
       "ascii_letters -- a string containing all ASCII letters\n",
       "digits -- a string containing all ASCII decimal digits\n",
       "hexdigits -- a string containing all ASCII hexadecimal digits\n",
       "octdigits -- a string containing all ASCII octal digits\n",
       "punctuation -- a string containing all ASCII punctuation characters\n",
       "printable -- a string containing all ASCII characters considered printable\n"
      ]
     },
     "metadata": {},
     "output_type": "display_data"
    }
   ],
   "source": [
    "? string"
   ]
  },
  {
   "cell_type": "code",
   "execution_count": 300,
   "id": "5f01f9cb-409d-4b15-a5d9-852cdc32a8e1",
   "metadata": {},
   "outputs": [
    {
     "data": {
      "text/plain": [
       "' \\t\\n\\r\\x0b\\x0c'"
      ]
     },
     "execution_count": 300,
     "metadata": {},
     "output_type": "execute_result"
    }
   ],
   "source": [
    "string.whitespace"
   ]
  },
  {
   "cell_type": "code",
   "execution_count": 301,
   "id": "c4085299-542d-4e91-b01e-5f1358343f26",
   "metadata": {},
   "outputs": [
    {
     "data": {
      "text/plain": [
       "'abcdefghijklmnopqrstuvwxyz'"
      ]
     },
     "execution_count": 301,
     "metadata": {},
     "output_type": "execute_result"
    }
   ],
   "source": [
    "string.ascii_lowercase"
   ]
  },
  {
   "cell_type": "code",
   "execution_count": 302,
   "id": "00cf51fe-a308-44c0-bbec-aac99be4915b",
   "metadata": {},
   "outputs": [
    {
     "data": {
      "text/plain": [
       "'ABCDEFGHIJKLMNOPQRSTUVWXYZ'"
      ]
     },
     "execution_count": 302,
     "metadata": {},
     "output_type": "execute_result"
    }
   ],
   "source": [
    "string.ascii_uppercase"
   ]
  },
  {
   "cell_type": "code",
   "execution_count": 309,
   "id": "430b16a8-919f-47a2-880c-79a455d07f84",
   "metadata": {},
   "outputs": [
    {
     "data": {
      "text/plain": [
       "'abcdefghijklmnopqrstuvwxyzABCDEFGHIJKLMNOPQRSTUVWXYZ'"
      ]
     },
     "execution_count": 309,
     "metadata": {},
     "output_type": "execute_result"
    }
   ],
   "source": [
    "string.ascii_letters"
   ]
  },
  {
   "cell_type": "code",
   "execution_count": 310,
   "id": "4ce274c2-46bf-4334-89f7-3547ee617893",
   "metadata": {},
   "outputs": [
    {
     "data": {
      "text/plain": [
       "'0123456789'"
      ]
     },
     "execution_count": 310,
     "metadata": {},
     "output_type": "execute_result"
    }
   ],
   "source": [
    "string.digits"
   ]
  },
  {
   "cell_type": "code",
   "execution_count": 311,
   "id": "990ddbbf-2c46-4857-8b0d-c91b87967c7d",
   "metadata": {},
   "outputs": [
    {
     "data": {
      "text/plain": [
       "'0123456789abcdefABCDEF'"
      ]
     },
     "execution_count": 311,
     "metadata": {},
     "output_type": "execute_result"
    }
   ],
   "source": [
    "string.hexdigits"
   ]
  },
  {
   "cell_type": "code",
   "execution_count": 312,
   "id": "f9c22708-ff59-47b8-9b81-bcd39d054ee0",
   "metadata": {},
   "outputs": [
    {
     "data": {
      "text/plain": [
       "'01234567'"
      ]
     },
     "execution_count": 312,
     "metadata": {},
     "output_type": "execute_result"
    }
   ],
   "source": [
    "string.octdigits"
   ]
  },
  {
   "cell_type": "code",
   "execution_count": 313,
   "id": "c82850fd-3327-4ce4-ab71-f567c04f4c4b",
   "metadata": {},
   "outputs": [
    {
     "data": {
      "text/plain": [
       "'!\"#$%&\\'()*+,-./:;<=>?@[\\\\]^_`{|}~'"
      ]
     },
     "execution_count": 313,
     "metadata": {},
     "output_type": "execute_result"
    }
   ],
   "source": [
    "string.punctuation"
   ]
  },
  {
   "cell_type": "code",
   "execution_count": 314,
   "id": "8934aebb-a17a-422d-b675-b017cf069d23",
   "metadata": {},
   "outputs": [
    {
     "data": {
      "text/plain": [
       "'0123456789abcdefghijklmnopqrstuvwxyzABCDEFGHIJKLMNOPQRSTUVWXYZ!\"#$%&\\'()*+,-./:;<=>?@[\\\\]^_`{|}~ \\t\\n\\r\\x0b\\x0c'"
      ]
     },
     "execution_count": 314,
     "metadata": {},
     "output_type": "execute_result"
    }
   ],
   "source": [
    "string.printable"
   ]
  },
  {
   "cell_type": "code",
   "execution_count": null,
   "id": "a91790de-df91-4cd2-bac1-cdb252dbed1e",
   "metadata": {},
   "outputs": [],
   "source": []
  },
  {
   "cell_type": "code",
   "execution_count": 315,
   "id": "78d3dc6b-7f3d-4348-89a0-537e4cc85c36",
   "metadata": {},
   "outputs": [],
   "source": [
    "words = \"\"\"\n",
    "Baa, baa, black sheep,\n",
    "Have you any wool?\n",
    "Yes, sir, yes, sir,\n",
    "Three bags full;\n",
    "One for my master,\n",
    "One for my dame,\n",
    "And one for the little boy\n",
    "Who lives down the lane.\n",
    "\"\"\""
   ]
  },
  {
   "cell_type": "code",
   "execution_count": 341,
   "id": "5643b63b-a3cb-47eb-8e48-cdbdb0f73924",
   "metadata": {},
   "outputs": [
    {
     "data": {
      "text/plain": [
       "' baa, baa, black sheep, have you any wool? yes, sir, yes, sir, three bags full; one for my master, one for my dame, and one for the little boy who lives down the lane. '"
      ]
     },
     "execution_count": 341,
     "metadata": {},
     "output_type": "execute_result"
    }
   ],
   "source": [
    "words = words.replace(\"\\n\", \" \").lower()\n",
    "words"
   ]
  },
  {
   "cell_type": "code",
   "execution_count": 342,
   "id": "404fb3dc-41a8-46ac-91c4-12ade106df15",
   "metadata": {},
   "outputs": [
    {
     "data": {
      "text/plain": [
       "[' ',\n",
       " 'b',\n",
       " 'a',\n",
       " 'a',\n",
       " ' ',\n",
       " 'b',\n",
       " 'a',\n",
       " 'a',\n",
       " ' ',\n",
       " 'b',\n",
       " 'l',\n",
       " 'a',\n",
       " 'c',\n",
       " 'k',\n",
       " ' ',\n",
       " 's',\n",
       " 'h',\n",
       " 'e',\n",
       " 'e',\n",
       " 'p',\n",
       " ' ',\n",
       " 'h',\n",
       " 'a',\n",
       " 'v',\n",
       " 'e',\n",
       " ' ',\n",
       " 'y',\n",
       " 'o',\n",
       " 'u',\n",
       " ' ',\n",
       " 'a',\n",
       " 'n',\n",
       " 'y',\n",
       " ' ',\n",
       " 'w',\n",
       " 'o',\n",
       " 'o',\n",
       " 'l',\n",
       " ' ',\n",
       " 'y',\n",
       " 'e',\n",
       " 's',\n",
       " ' ',\n",
       " 's',\n",
       " 'i',\n",
       " 'r',\n",
       " ' ',\n",
       " 'y',\n",
       " 'e',\n",
       " 's',\n",
       " ' ',\n",
       " 's',\n",
       " 'i',\n",
       " 'r',\n",
       " ' ',\n",
       " 't',\n",
       " 'h',\n",
       " 'r',\n",
       " 'e',\n",
       " 'e',\n",
       " ' ',\n",
       " 'b',\n",
       " 'a',\n",
       " 'g',\n",
       " 's',\n",
       " ' ',\n",
       " 'f',\n",
       " 'u',\n",
       " 'l',\n",
       " 'l',\n",
       " ' ',\n",
       " 'o',\n",
       " 'n',\n",
       " 'e',\n",
       " ' ',\n",
       " 'f',\n",
       " 'o',\n",
       " 'r',\n",
       " ' ',\n",
       " 'm',\n",
       " 'y',\n",
       " ' ',\n",
       " 'm',\n",
       " 'a',\n",
       " 's',\n",
       " 't',\n",
       " 'e',\n",
       " 'r',\n",
       " ' ',\n",
       " 'o',\n",
       " 'n',\n",
       " 'e',\n",
       " ' ',\n",
       " 'f',\n",
       " 'o',\n",
       " 'r',\n",
       " ' ',\n",
       " 'm',\n",
       " 'y',\n",
       " ' ',\n",
       " 'd',\n",
       " 'a',\n",
       " 'm',\n",
       " 'e',\n",
       " ' ',\n",
       " 'a',\n",
       " 'n',\n",
       " 'd',\n",
       " ' ',\n",
       " 'o',\n",
       " 'n',\n",
       " 'e',\n",
       " ' ',\n",
       " 'f',\n",
       " 'o',\n",
       " 'r',\n",
       " ' ',\n",
       " 't',\n",
       " 'h',\n",
       " 'e',\n",
       " ' ',\n",
       " 'l',\n",
       " 'i',\n",
       " 't',\n",
       " 't',\n",
       " 'l',\n",
       " 'e',\n",
       " ' ',\n",
       " 'b',\n",
       " 'o',\n",
       " 'y',\n",
       " ' ',\n",
       " 'w',\n",
       " 'h',\n",
       " 'o',\n",
       " ' ',\n",
       " 'l',\n",
       " 'i',\n",
       " 'v',\n",
       " 'e',\n",
       " 's',\n",
       " ' ',\n",
       " 'd',\n",
       " 'o',\n",
       " 'w',\n",
       " 'n',\n",
       " ' ',\n",
       " 't',\n",
       " 'h',\n",
       " 'e',\n",
       " ' ',\n",
       " 'l',\n",
       " 'a',\n",
       " 'n',\n",
       " 'e',\n",
       " ' ']"
      ]
     },
     "execution_count": 342,
     "metadata": {},
     "output_type": "execute_result"
    }
   ],
   "source": [
    "word_chars = [letter for letter in words if letter not in string.punctuation]\n",
    "word_chars"
   ]
  },
  {
   "cell_type": "code",
   "execution_count": 347,
   "id": "3cda7989-6dcc-4753-9e50-26353c2cdbff",
   "metadata": {},
   "outputs": [
    {
     "data": {
      "text/plain": [
       "' baa baa black sheep have you any wool yes sir yes sir three bags full one for my master one for my dame and one for the little boy who lives down the lane '"
      ]
     },
     "execution_count": 347,
     "metadata": {},
     "output_type": "execute_result"
    }
   ],
   "source": [
    "words = \"\"\n",
    "words = words.join(map(str, word_chars))\n",
    "words"
   ]
  },
  {
   "cell_type": "code",
   "execution_count": 348,
   "id": "7b0faf59-9137-4bc6-83a0-ca00fdf9d5a9",
   "metadata": {},
   "outputs": [
    {
     "data": {
      "text/plain": [
       "'baa baa black sheep have you any wool yes sir yes sir three bags full one for my master one for my dame and one for the little boy who lives down the lane'"
      ]
     },
     "execution_count": 348,
     "metadata": {},
     "output_type": "execute_result"
    }
   ],
   "source": [
    "words = words.strip()\n",
    "words"
   ]
  },
  {
   "cell_type": "code",
   "execution_count": null,
   "id": "0e74a2c6-c299-4abe-83c7-5bb80a6d2874",
   "metadata": {},
   "outputs": [],
   "source": []
  },
  {
   "cell_type": "code",
   "execution_count": null,
   "id": "0174a48a-2a77-409c-ae73-4a85534fd99b",
   "metadata": {},
   "outputs": [],
   "source": []
  },
  {
   "cell_type": "code",
   "execution_count": null,
   "id": "a8c621fa-8e39-444c-95ed-d0932b6c2e1a",
   "metadata": {},
   "outputs": [],
   "source": []
  },
  {
   "cell_type": "code",
   "execution_count": 17,
   "id": "478b4540-e143-4566-babb-427bbe505116",
   "metadata": {},
   "outputs": [
    {
     "data": {
      "text/plain": [
       "'hello world!'"
      ]
     },
     "execution_count": 17,
     "metadata": {},
     "output_type": "execute_result"
    }
   ],
   "source": [
    "greeting1 = \"hello world!\"\n",
    "greeting1"
   ]
  },
  {
   "cell_type": "code",
   "execution_count": 18,
   "id": "eb51a5f0-568a-454b-97e5-48b57f2e4c9c",
   "metadata": {},
   "outputs": [
    {
     "data": {
      "text/plain": [
       "'hello world!'"
      ]
     },
     "execution_count": 18,
     "metadata": {},
     "output_type": "execute_result"
    }
   ],
   "source": [
    "greeting2 = \"\\x68\\x65\\x6C\\x6C\\x6F\\x20\\x77\\x6F\\x72\\x6C\\x64\\x21\"\n",
    "greeting2"
   ]
  },
  {
   "cell_type": "code",
   "execution_count": 136,
   "id": "0420ccc8-1230-4088-be49-73e69cc0d1ce",
   "metadata": {},
   "outputs": [
    {
     "data": {
      "text/plain": [
       "'h£llo world!'"
      ]
     },
     "execution_count": 136,
     "metadata": {},
     "output_type": "execute_result"
    }
   ],
   "source": [
    "greeting3 = \"\\x68\\xa3\\x6C\\x6C\\x6F\\x20\\x77\\x6F\\x72\\x6C\\x64\\x21\"\n",
    "greeting3"
   ]
  },
  {
   "cell_type": "code",
   "execution_count": 19,
   "id": "b1a11a42-f74c-46ef-ac7d-aae2b72efed9",
   "metadata": {},
   "outputs": [
    {
     "data": {
      "text/plain": [
       "'hello world!'"
      ]
     },
     "execution_count": 19,
     "metadata": {},
     "output_type": "execute_result"
    }
   ],
   "source": [
    "greeting3 = \"\\u0068\\u0065\\u006C\\u006C\\u006F\\u0020\\u0077\\u006F\\u0072\\u006C\\u0064\\u0021\"\n",
    "greeting3"
   ]
  },
  {
   "cell_type": "code",
   "execution_count": 28,
   "id": "b33bbe16-d113-48f1-9ef0-9b03f48c97f9",
   "metadata": {
    "scrolled": true,
    "tags": []
   },
   "outputs": [
    {
     "name": "stdout",
     "output_type": "stream",
     "text": [
      "0x391 Α\n",
      "0x392 Β\n",
      "0x393 Γ\n",
      "0x394 Δ\n",
      "0x395 Ε\n",
      "0x396 Ζ\n",
      "0x397 Η\n",
      "0x398 Θ\n",
      "0x399 Ι\n",
      "0x39a Κ\n",
      "0x39b Λ\n",
      "0x39c Μ\n",
      "0x39d Ν\n",
      "0x39e Ξ\n",
      "0x39f Ο\n",
      "0x3a0 Π\n",
      "0x3a1 Ρ\n",
      "0x3a2 ΢\n",
      "0x3a3 Σ\n",
      "0x3a4 Τ\n",
      "0x3a5 Υ\n",
      "0x3a6 Φ\n",
      "0x3a7 Χ\n",
      "0x3a8 Ψ\n",
      "0x3a9 Ω\n",
      "0x3aa Ϊ\n",
      "0x3ab Ϋ\n",
      "0x3ac ά\n",
      "0x3ad έ\n",
      "0x3ae ή\n",
      "0x3af ί\n",
      "0x3b0 ΰ\n",
      "0x3b1 α\n",
      "0x3b2 β\n",
      "0x3b3 γ\n",
      "0x3b4 δ\n",
      "0x3b5 ε\n",
      "0x3b6 ζ\n",
      "0x3b7 η\n",
      "0x3b8 θ\n",
      "0x3b9 ι\n",
      "0x3ba κ\n",
      "0x3bb λ\n",
      "0x3bc μ\n",
      "0x3bd ν\n",
      "0x3be ξ\n",
      "0x3bf ο\n",
      "0x3c0 π\n",
      "0x3c1 ρ\n",
      "0x3c2 ς\n",
      "0x3c3 σ\n",
      "0x3c4 τ\n",
      "0x3c5 υ\n",
      "0x3c6 φ\n",
      "0x3c7 χ\n",
      "0x3c8 ψ\n",
      "0x3c9 ω\n"
     ]
    }
   ],
   "source": [
    "for num in range(0x0391, 0x03CA):\n",
    "    print(hex(num), chr(num))"
   ]
  },
  {
   "cell_type": "code",
   "execution_count": 30,
   "id": "b8fdc71a-0d58-4e71-b246-e7bf4f443e3f",
   "metadata": {},
   "outputs": [
    {
     "data": {
      "text/plain": [
       "'Γειά σου Κόσμε!'"
      ]
     },
     "execution_count": 30,
     "metadata": {},
     "output_type": "execute_result"
    }
   ],
   "source": [
    "greeting5 = \"Γειά σου Κόσμε!\"\n",
    "greeting5"
   ]
  },
  {
   "cell_type": "code",
   "execution_count": 36,
   "id": "48e659ea-f2f0-4d27-a17e-f27c04692c4b",
   "metadata": {},
   "outputs": [
    {
     "name": "stdout",
     "output_type": "stream",
     "text": [
      "0x393\n",
      "0x3b5\n",
      "0x3b9\n",
      "0x3ac\n",
      "0x20\n",
      "0x3c3\n",
      "0x3bf\n",
      "0x3c5\n",
      "0x20\n",
      "0x39a\n",
      "0x3cc\n",
      "0x3c3\n",
      "0x3bc\n",
      "0x3b5\n",
      "0x21\n"
     ]
    }
   ],
   "source": [
    "for letter in \"Γειά σου Κόσμε!\":\n",
    "    print(hex(ord(letter)))"
   ]
  },
  {
   "cell_type": "code",
   "execution_count": 47,
   "id": "7ac91862-5585-4761-8c69-c7d3876ff696",
   "metadata": {},
   "outputs": [
    {
     "data": {
      "text/plain": [
       "'Γειά σου Κόσμε!'"
      ]
     },
     "execution_count": 47,
     "metadata": {},
     "output_type": "execute_result"
    }
   ],
   "source": [
    "greeting6 = \"\\u0393\\u03b5\\u03b9\\u03ac\\u0020\\u03c3\\u03bf\\u03c5\\u0020\\u039a\\u03cc\\u03c3\\u03bc\\u03b5\\u0021\"\n",
    "greeting6"
   ]
  },
  {
   "cell_type": "code",
   "execution_count": 48,
   "id": "b5743c43-265d-414f-8df8-4b225ed685cf",
   "metadata": {},
   "outputs": [
    {
     "data": {
      "text/plain": [
       "'Γειά σου Κόσμε!'"
      ]
     },
     "execution_count": 48,
     "metadata": {},
     "output_type": "execute_result"
    }
   ],
   "source": [
    "greeting7 = \"\\u0393\\u03b5\\u03b9\\u03ac\\x20\\u03c3\\u03bf\\u03c5\\x20\\u039a\\u03cc\\u03c3\\u03bc\\u03b5\\x21\"\n",
    "greeting7"
   ]
  },
  {
   "cell_type": "code",
   "execution_count": 26,
   "id": "5f3bd19a-8249-43d4-bc1c-3675b11b291f",
   "metadata": {},
   "outputs": [
    {
     "data": {
      "text/plain": [
       "\u001b[1;31mInit signature:\u001b[0m  \u001b[0mstr\u001b[0m\u001b[1;33m(\u001b[0m\u001b[0mself\u001b[0m\u001b[1;33m,\u001b[0m \u001b[1;33m/\u001b[0m\u001b[1;33m,\u001b[0m \u001b[1;33m*\u001b[0m\u001b[0margs\u001b[0m\u001b[1;33m,\u001b[0m \u001b[1;33m**\u001b[0m\u001b[0mkwargs\u001b[0m\u001b[1;33m)\u001b[0m\u001b[1;33m\u001b[0m\u001b[1;33m\u001b[0m\u001b[0m\n",
       "\u001b[1;31mDocstring:\u001b[0m     \n",
       "str(object='') -> str\n",
       "str(bytes_or_buffer[, encoding[, errors]]) -> str\n",
       "\n",
       "Create a new string object from the given object. If encoding or\n",
       "errors is specified, then the object must expose a data buffer\n",
       "that will be decoded using the given encoding and error handler.\n",
       "Otherwise, returns the result of object.__str__() (if defined)\n",
       "or repr(object).\n",
       "encoding defaults to sys.getdefaultencoding().\n",
       "errors defaults to 'strict'.\n",
       "\u001b[1;31mType:\u001b[0m           type\n",
       "\u001b[1;31mSubclasses:\u001b[0m     DeferredConfigString, _rstr, LSString, include, Keys, InputMode, ColorDepth, CompleteStyle, SortKey, FoldedCase, ...\n"
      ]
     },
     "metadata": {},
     "output_type": "display_data"
    }
   ],
   "source": [
    "? str"
   ]
  },
  {
   "cell_type": "code",
   "execution_count": null,
   "id": "e70f55c5-b11a-4304-a816-5fc853143c33",
   "metadata": {},
   "outputs": [],
   "source": []
  },
  {
   "cell_type": "code",
   "execution_count": null,
   "id": "5a74be43-9aa4-4dad-9c0a-ac84bfc026d2",
   "metadata": {},
   "outputs": [],
   "source": []
  },
  {
   "cell_type": "code",
   "execution_count": null,
   "id": "3246c61f-99fb-4be5-bef3-5d270d866043",
   "metadata": {},
   "outputs": [],
   "source": []
  },
  {
   "cell_type": "code",
   "execution_count": 27,
   "id": "cb2aca00-c03e-4209-a79f-7bf6dc61483a",
   "metadata": {},
   "outputs": [
    {
     "data": {
      "text/plain": [
       "\u001b[1;31mInit signature:\u001b[0m  \u001b[0mbytes\u001b[0m\u001b[1;33m(\u001b[0m\u001b[0mself\u001b[0m\u001b[1;33m,\u001b[0m \u001b[1;33m/\u001b[0m\u001b[1;33m,\u001b[0m \u001b[1;33m*\u001b[0m\u001b[0margs\u001b[0m\u001b[1;33m,\u001b[0m \u001b[1;33m**\u001b[0m\u001b[0mkwargs\u001b[0m\u001b[1;33m)\u001b[0m\u001b[1;33m\u001b[0m\u001b[1;33m\u001b[0m\u001b[0m\n",
       "\u001b[1;31mDocstring:\u001b[0m     \n",
       "bytes(iterable_of_ints) -> bytes\n",
       "bytes(string, encoding[, errors]) -> bytes\n",
       "bytes(bytes_or_buffer) -> immutable copy of bytes_or_buffer\n",
       "bytes(int) -> bytes object of size given by the parameter initialized with null bytes\n",
       "bytes() -> empty bytes object\n",
       "\n",
       "Construct an immutable array of bytes from:\n",
       "  - an iterable yielding integers in range(256)\n",
       "  - a text string encoded using the specified encoding\n",
       "  - any object implementing the buffer API.\n",
       "  - an integer\n",
       "\u001b[1;31mType:\u001b[0m           type\n",
       "\u001b[1;31mSubclasses:\u001b[0m     \n"
      ]
     },
     "metadata": {},
     "output_type": "display_data"
    }
   ],
   "source": [
    "? bytes"
   ]
  },
  {
   "cell_type": "code",
   "execution_count": 53,
   "id": "13e15561-f438-48d1-9cf4-2809892313e9",
   "metadata": {},
   "outputs": [
    {
     "data": {
      "text/plain": [
       "b'hello world!'"
      ]
     },
     "execution_count": 53,
     "metadata": {},
     "output_type": "execute_result"
    }
   ],
   "source": [
    "greeting8 = b\"\\x68\\x65\\x6C\\x6C\\x6F\\x20\\x77\\x6F\\x72\\x6C\\x64\\x21\"\n",
    "greeting8"
   ]
  },
  {
   "cell_type": "code",
   "execution_count": 58,
   "id": "40a556d6-dae9-47eb-bce3-a8344ccc7c3a",
   "metadata": {},
   "outputs": [
    {
     "data": {
      "text/plain": [
       "'68656c6c6f20776f726c6421'"
      ]
     },
     "execution_count": 58,
     "metadata": {},
     "output_type": "execute_result"
    }
   ],
   "source": [
    "greeting8.hex()"
   ]
  },
  {
   "cell_type": "code",
   "execution_count": 59,
   "id": "5b87b785-2177-40b5-81f8-b5a54a038922",
   "metadata": {},
   "outputs": [
    {
     "data": {
      "text/plain": [
       "True"
      ]
     },
     "execution_count": 59,
     "metadata": {},
     "output_type": "execute_result"
    }
   ],
   "source": [
    "greeting8.isascii()"
   ]
  },
  {
   "cell_type": "markdown",
   "id": "58b1ca32-a9f5-4553-943f-86f14b7af1b8",
   "metadata": {},
   "source": [
    "|encoding|bit|bytes|byte order|\n",
    "|---|---|---|--|\n",
    "|ascii|1|8||\n",
    "|latin1|1|8||\n",
    "|utf-16-le|2|16|little endian|\n",
    "|utf-16-be|2|16|big endian|\n",
    "|utf-32-le|4|32|little endian|\n",
    "|utf-32-be|4|32|big endian|\n",
    "|utf-8|1-4 adaptive|1-4 adaptive||"
   ]
  },
  {
   "cell_type": "code",
   "execution_count": 61,
   "id": "963aa1e9-0c11-4dd2-9d68-85b4635b60c3",
   "metadata": {},
   "outputs": [
    {
     "data": {
      "text/plain": [
       "'hello world!'"
      ]
     },
     "execution_count": 61,
     "metadata": {},
     "output_type": "execute_result"
    }
   ],
   "source": [
    "greeting8.decode(encoding=\"ascii\")"
   ]
  },
  {
   "cell_type": "code",
   "execution_count": 130,
   "id": "77e86343-5abb-4349-b062-28d4efc1b806",
   "metadata": {},
   "outputs": [
    {
     "data": {
      "text/plain": [
       "'hello world!'"
      ]
     },
     "execution_count": 130,
     "metadata": {},
     "output_type": "execute_result"
    }
   ],
   "source": [
    "greeting8.decode(encoding=\"latin1\")"
   ]
  },
  {
   "cell_type": "code",
   "execution_count": 126,
   "id": "481ecf43-8d11-4cc4-9776-5cb7d4489689",
   "metadata": {},
   "outputs": [
    {
     "data": {
      "text/plain": [
       "'hello world!'"
      ]
     },
     "execution_count": 126,
     "metadata": {},
     "output_type": "execute_result"
    }
   ],
   "source": [
    "greeting8.decode(encoding=\"utf-8\")"
   ]
  },
  {
   "cell_type": "code",
   "execution_count": 131,
   "id": "80653e5d-d86f-4663-8aea-7e4cb04c1392",
   "metadata": {},
   "outputs": [
    {
     "data": {
      "text/plain": [
       "'敨汬\\u206f潷汲Ⅴ'"
      ]
     },
     "execution_count": 131,
     "metadata": {},
     "output_type": "execute_result"
    }
   ],
   "source": [
    "greeting8.decode(encoding=\"utf-16-le\")"
   ]
  },
  {
   "cell_type": "code",
   "execution_count": 132,
   "id": "8ab56bec-f13e-4bb1-bff3-a648d75b813d",
   "metadata": {},
   "outputs": [
    {
     "data": {
      "text/plain": [
       "'桥汬漠睯牬搡'"
      ]
     },
     "execution_count": 132,
     "metadata": {},
     "output_type": "execute_result"
    }
   ],
   "source": [
    "greeting8.decode(encoding=\"utf-16-be\")"
   ]
  },
  {
   "cell_type": "code",
   "execution_count": 133,
   "id": "90109ec9-612a-46dd-ab1b-16c2c79ce861",
   "metadata": {},
   "outputs": [
    {
     "ename": "UnicodeDecodeError",
     "evalue": "'utf-32-le' codec can't decode bytes in position 0-3: code point not in range(0x110000)",
     "output_type": "error",
     "traceback": [
      "\u001b[1;31m---------------------------------------------------------------------------\u001b[0m",
      "\u001b[1;31mUnicodeDecodeError\u001b[0m                        Traceback (most recent call last)",
      "\u001b[1;32m~\\AppData\\Local\\Temp\\ipykernel_16972\\1379732735.py\u001b[0m in \u001b[0;36m<cell line: 1>\u001b[1;34m()\u001b[0m\n\u001b[1;32m----> 1\u001b[1;33m \u001b[0mgreeting8\u001b[0m\u001b[1;33m.\u001b[0m\u001b[0mdecode\u001b[0m\u001b[1;33m(\u001b[0m\u001b[0mencoding\u001b[0m\u001b[1;33m=\u001b[0m\u001b[1;34m\"utf-32-le\"\u001b[0m\u001b[1;33m)\u001b[0m\u001b[1;33m\u001b[0m\u001b[1;33m\u001b[0m\u001b[0m\n\u001b[0m",
      "\u001b[1;32m~\\mambaforge\\lib\\encodings\\utf_32_le.py\u001b[0m in \u001b[0;36mdecode\u001b[1;34m(input, errors)\u001b[0m\n\u001b[0;32m      9\u001b[0m \u001b[1;33m\u001b[0m\u001b[0m\n\u001b[0;32m     10\u001b[0m \u001b[1;32mdef\u001b[0m \u001b[0mdecode\u001b[0m\u001b[1;33m(\u001b[0m\u001b[0minput\u001b[0m\u001b[1;33m,\u001b[0m \u001b[0merrors\u001b[0m\u001b[1;33m=\u001b[0m\u001b[1;34m'strict'\u001b[0m\u001b[1;33m)\u001b[0m\u001b[1;33m:\u001b[0m\u001b[1;33m\u001b[0m\u001b[1;33m\u001b[0m\u001b[0m\n\u001b[1;32m---> 11\u001b[1;33m     \u001b[1;32mreturn\u001b[0m \u001b[0mcodecs\u001b[0m\u001b[1;33m.\u001b[0m\u001b[0mutf_32_le_decode\u001b[0m\u001b[1;33m(\u001b[0m\u001b[0minput\u001b[0m\u001b[1;33m,\u001b[0m \u001b[0merrors\u001b[0m\u001b[1;33m,\u001b[0m \u001b[1;32mTrue\u001b[0m\u001b[1;33m)\u001b[0m\u001b[1;33m\u001b[0m\u001b[1;33m\u001b[0m\u001b[0m\n\u001b[0m\u001b[0;32m     12\u001b[0m \u001b[1;33m\u001b[0m\u001b[0m\n\u001b[0;32m     13\u001b[0m \u001b[1;32mclass\u001b[0m \u001b[0mIncrementalEncoder\u001b[0m\u001b[1;33m(\u001b[0m\u001b[0mcodecs\u001b[0m\u001b[1;33m.\u001b[0m\u001b[0mIncrementalEncoder\u001b[0m\u001b[1;33m)\u001b[0m\u001b[1;33m:\u001b[0m\u001b[1;33m\u001b[0m\u001b[1;33m\u001b[0m\u001b[0m\n",
      "\u001b[1;31mUnicodeDecodeError\u001b[0m: 'utf-32-le' codec can't decode bytes in position 0-3: code point not in range(0x110000)"
     ]
    }
   ],
   "source": [
    "greeting8.decode(encoding=\"utf-32-le\")"
   ]
  },
  {
   "cell_type": "code",
   "execution_count": null,
   "id": "344dc56b-5c9d-4a91-8d7f-10d3a5a09387",
   "metadata": {},
   "outputs": [],
   "source": []
  },
  {
   "cell_type": "code",
   "execution_count": 146,
   "id": "23247568-c1c7-49d5-84dd-1dee62af8a06",
   "metadata": {},
   "outputs": [
    {
     "ename": "UnicodeEncodeError",
     "evalue": "'ascii' codec can't encode character '\\xa3' in position 1: ordinal not in range(128)",
     "output_type": "error",
     "traceback": [
      "\u001b[1;31m---------------------------------------------------------------------------\u001b[0m",
      "\u001b[1;31mUnicodeEncodeError\u001b[0m                        Traceback (most recent call last)",
      "\u001b[1;32m~\\AppData\\Local\\Temp\\ipykernel_16972\\2871935231.py\u001b[0m in \u001b[0;36m<cell line: 1>\u001b[1;34m()\u001b[0m\n\u001b[1;32m----> 1\u001b[1;33m \u001b[0mgreeting9\u001b[0m \u001b[1;33m=\u001b[0m \u001b[0mbytes\u001b[0m\u001b[1;33m(\u001b[0m\u001b[1;34m\"\\x68\\xA3\\x6C\\x6C\\x6F\\x20\\x77\\x6F\\x72\\x6C\\x64\\x21\"\u001b[0m\u001b[1;33m,\u001b[0m \u001b[0mencoding\u001b[0m\u001b[1;33m=\u001b[0m\u001b[1;34m\"ascii\"\u001b[0m\u001b[1;33m)\u001b[0m\u001b[1;33m\u001b[0m\u001b[1;33m\u001b[0m\u001b[0m\n\u001b[0m\u001b[0;32m      2\u001b[0m \u001b[0mgreeting9\u001b[0m\u001b[1;33m\u001b[0m\u001b[1;33m\u001b[0m\u001b[0m\n",
      "\u001b[1;31mUnicodeEncodeError\u001b[0m: 'ascii' codec can't encode character '\\xa3' in position 1: ordinal not in range(128)"
     ]
    }
   ],
   "source": [
    "greeting9 = bytes(\"\\x68\\xA3\\x6C\\x6C\\x6F\\x20\\x77\\x6F\\x72\\x6C\\x64\\x21\", encoding=\"ascii\")\n",
    "greeting9"
   ]
  },
  {
   "cell_type": "code",
   "execution_count": 144,
   "id": "016868c7-43a8-4471-b74c-9f22fa98b0c3",
   "metadata": {},
   "outputs": [
    {
     "data": {
      "text/plain": [
       "b'h\\xa3llo world!'"
      ]
     },
     "execution_count": 144,
     "metadata": {},
     "output_type": "execute_result"
    }
   ],
   "source": [
    "greeting9 = bytes(\"\\x68\\xA3\\x6C\\x6C\\x6F\\x20\\x77\\x6F\\x72\\x6C\\x64\\x21\", encoding=\"latin1\")\n",
    "greeting9"
   ]
  },
  {
   "cell_type": "code",
   "execution_count": 141,
   "id": "c3f4f3dd-de23-4ce5-89f7-9ef3ed248b12",
   "metadata": {},
   "outputs": [
    {
     "data": {
      "text/plain": [
       "'h£llo world!'"
      ]
     },
     "execution_count": 141,
     "metadata": {},
     "output_type": "execute_result"
    }
   ],
   "source": [
    "greeting9.decode(\"latin1\")"
   ]
  },
  {
   "cell_type": "code",
   "execution_count": 142,
   "id": "9016a42e-204b-4123-89ca-55259d09185d",
   "metadata": {},
   "outputs": [
    {
     "ename": "UnicodeDecodeError",
     "evalue": "'ascii' codec can't decode byte 0xa3 in position 1: ordinal not in range(128)",
     "output_type": "error",
     "traceback": [
      "\u001b[1;31m---------------------------------------------------------------------------\u001b[0m",
      "\u001b[1;31mUnicodeDecodeError\u001b[0m                        Traceback (most recent call last)",
      "\u001b[1;32m~\\AppData\\Local\\Temp\\ipykernel_16972\\1995972295.py\u001b[0m in \u001b[0;36m<cell line: 1>\u001b[1;34m()\u001b[0m\n\u001b[1;32m----> 1\u001b[1;33m \u001b[0mgreeting9\u001b[0m\u001b[1;33m.\u001b[0m\u001b[0mdecode\u001b[0m\u001b[1;33m(\u001b[0m\u001b[1;34m\"ascii\"\u001b[0m\u001b[1;33m)\u001b[0m\u001b[1;33m\u001b[0m\u001b[1;33m\u001b[0m\u001b[0m\n\u001b[0m",
      "\u001b[1;31mUnicodeDecodeError\u001b[0m: 'ascii' codec can't decode byte 0xa3 in position 1: ordinal not in range(128)"
     ]
    }
   ],
   "source": [
    "greeting9.decode(\"ascii\")"
   ]
  },
  {
   "cell_type": "code",
   "execution_count": null,
   "id": "a40736b8-9cc0-4361-92c9-4af5ab23986a",
   "metadata": {},
   "outputs": [
    {
     "ename": "UnicodeDecodeError",
     "evalue": "'utf-8' codec can't decode byte 0xa3 in position 1: invalid start byte",
     "output_type": "error",
     "traceback": [
      "\u001b[1;31m---------------------------------------------------------------------------\u001b[0m",
      "\u001b[1;31mUnicodeDecodeError\u001b[0m                        Traceback (most recent call last)",
      "\u001b[1;32m~\\AppData\\Local\\Temp\\ipykernel_16972\\1849805629.py\u001b[0m in \u001b[0;36m<cell line: 1>\u001b[1;34m()\u001b[0m\n\u001b[1;32m----> 1\u001b[1;33m \u001b[0mgreeting9\u001b[0m\u001b[1;33m.\u001b[0m\u001b[0mdecode\u001b[0m\u001b[1;33m(\u001b[0m\u001b[1;34m\"utf-8\"\u001b[0m\u001b[1;33m)\u001b[0m\u001b[1;33m\u001b[0m\u001b[1;33m\u001b[0m\u001b[0m\n\u001b[0m",
      "\u001b[1;31mUnicodeDecodeError\u001b[0m: 'utf-8' codec can't decode byte 0xa3 in position 1: invalid start byte"
     ]
    }
   ],
   "source": [
    "greeting9.decode(\"utf-8\")"
   ]
  },
  {
   "cell_type": "code",
   "execution_count": 147,
   "id": "0b3fbecc-ed16-4b86-9ace-cc2b12bd0d7f",
   "metadata": {},
   "outputs": [
    {
     "data": {
      "text/plain": [
       "b'h\\xc2\\xa3llo world!'"
      ]
     },
     "execution_count": 147,
     "metadata": {},
     "output_type": "execute_result"
    }
   ],
   "source": [
    "greeting9 = bytes(\"\\x68\\xA3\\x6C\\x6C\\x6F\\x20\\x77\\x6F\\x72\\x6C\\x64\\x21\", encoding=\"utf-8\")\n",
    "greeting9"
   ]
  },
  {
   "cell_type": "code",
   "execution_count": 148,
   "id": "75eea055-2705-4b27-a04a-a6c2cc55d5fe",
   "metadata": {},
   "outputs": [
    {
     "data": {
      "text/plain": [
       "'h£llo world!'"
      ]
     },
     "execution_count": 148,
     "metadata": {},
     "output_type": "execute_result"
    }
   ],
   "source": [
    "greeting9.decode(\"utf-8\")"
   ]
  },
  {
   "cell_type": "code",
   "execution_count": 149,
   "id": "0e264bf3-2d91-4de9-8a0e-a0317e59e122",
   "metadata": {},
   "outputs": [
    {
     "data": {
      "text/plain": [
       "'hÂ£llo world!'"
      ]
     },
     "execution_count": 149,
     "metadata": {},
     "output_type": "execute_result"
    }
   ],
   "source": [
    "greeting9.decode(\"latin1\")"
   ]
  },
  {
   "cell_type": "code",
   "execution_count": null,
   "id": "9fe80bfd-9efb-4ce0-89b7-28eee91d7f94",
   "metadata": {},
   "outputs": [],
   "source": []
  },
  {
   "cell_type": "code",
   "execution_count": 95,
   "id": "0e340f0a-f92b-4100-89d0-3c635048f739",
   "metadata": {},
   "outputs": [
    {
     "data": {
      "text/plain": [
       "b'hello world!'"
      ]
     },
     "execution_count": 95,
     "metadata": {},
     "output_type": "execute_result"
    }
   ],
   "source": [
    "greeting9 = b\"hello world!\"\n",
    "greeting9"
   ]
  },
  {
   "cell_type": "code",
   "execution_count": 150,
   "id": "68542239-d061-419e-b187-c2c6ad6e7093",
   "metadata": {},
   "outputs": [
    {
     "data": {
      "text/plain": [
       "b'hello world!'"
      ]
     },
     "execution_count": 150,
     "metadata": {},
     "output_type": "execute_result"
    }
   ],
   "source": [
    "greeting9 = bytes(\"hello world!\", encoding=\"ascii\")\n",
    "greeting9"
   ]
  },
  {
   "cell_type": "code",
   "execution_count": null,
   "id": "c5434e64-0b5d-4b43-a4d4-d961640dd491",
   "metadata": {},
   "outputs": [],
   "source": []
  },
  {
   "cell_type": "code",
   "execution_count": 80,
   "id": "6ae441bd-50b3-43ca-a3d8-76489cc04db0",
   "metadata": {},
   "outputs": [
    {
     "ename": "SyntaxError",
     "evalue": "bytes can only contain ASCII literal characters (1943116251.py, line 1)",
     "output_type": "error",
     "traceback": [
      "\u001b[1;36m  File \u001b[1;32m\"C:\\Users\\Philip\\AppData\\Local\\Temp\\ipykernel_16972\\1943116251.py\"\u001b[1;36m, line \u001b[1;32m1\u001b[0m\n\u001b[1;33m    greeting11 = b\"Γειά σου Κόσμε!\"\u001b[0m\n\u001b[1;37m                                   ^\u001b[0m\n\u001b[1;31mSyntaxError\u001b[0m\u001b[1;31m:\u001b[0m bytes can only contain ASCII literal characters\n"
     ]
    }
   ],
   "source": [
    "greeting11 = b\"Γειά σου Κόσμε!\"\n",
    "greeting11"
   ]
  },
  {
   "cell_type": "code",
   "execution_count": 94,
   "id": "05467535-0ec8-4f57-bdfc-e4fb5fd75791",
   "metadata": {},
   "outputs": [
    {
     "ename": "UnicodeEncodeError",
     "evalue": "'ascii' codec can't encode characters in position 0-3: ordinal not in range(128)",
     "output_type": "error",
     "traceback": [
      "\u001b[1;31m---------------------------------------------------------------------------\u001b[0m",
      "\u001b[1;31mUnicodeEncodeError\u001b[0m                        Traceback (most recent call last)",
      "\u001b[1;32m~\\AppData\\Local\\Temp\\ipykernel_16972\\3296101498.py\u001b[0m in \u001b[0;36m<cell line: 1>\u001b[1;34m()\u001b[0m\n\u001b[1;32m----> 1\u001b[1;33m \u001b[0mgreeting11\u001b[0m \u001b[1;33m=\u001b[0m \u001b[0mbytes\u001b[0m\u001b[1;33m(\u001b[0m\u001b[1;34m\"Γειά σου Κόσμε!\"\u001b[0m\u001b[1;33m,\u001b[0m \u001b[0mencoding\u001b[0m\u001b[1;33m=\u001b[0m\u001b[1;34m\"ascii\"\u001b[0m\u001b[1;33m)\u001b[0m\u001b[1;33m\u001b[0m\u001b[1;33m\u001b[0m\u001b[0m\n\u001b[0m\u001b[0;32m      2\u001b[0m \u001b[0mgreeting11\u001b[0m\u001b[1;33m\u001b[0m\u001b[1;33m\u001b[0m\u001b[0m\n",
      "\u001b[1;31mUnicodeEncodeError\u001b[0m: 'ascii' codec can't encode characters in position 0-3: ordinal not in range(128)"
     ]
    }
   ],
   "source": [
    "greeting11 = bytes(\"Γειά σου Κόσμε!\", encoding=\"ascii\")\n",
    "greeting11"
   ]
  },
  {
   "cell_type": "code",
   "execution_count": 82,
   "id": "2d1fcea9-cdf4-4a84-9f0f-193b8dee0104",
   "metadata": {},
   "outputs": [
    {
     "data": {
      "text/plain": [
       "b'\\xce\\x93\\xce\\xb5\\xce\\xb9\\xce\\xac \\xcf\\x83\\xce\\xbf\\xcf\\x85 \\xce\\x9a\\xcf\\x8c\\xcf\\x83\\xce\\xbc\\xce\\xb5!'"
      ]
     },
     "execution_count": 82,
     "metadata": {},
     "output_type": "execute_result"
    }
   ],
   "source": [
    "greeting12 = bytes(\"Γειά σου Κόσμε!\", encoding=\"utf-8\")\n",
    "greeting12"
   ]
  },
  {
   "cell_type": "code",
   "execution_count": 163,
   "id": "4c845afc-16d7-49de-927e-a54df0c2d05e",
   "metadata": {},
   "outputs": [
    {
     "data": {
      "text/plain": [
       "b'\\x03\\x93\\x03\\xb5\\x03\\xb9\\x03\\xac\\x00 \\x03\\xc3\\x03\\xbf\\x03\\xc5\\x00 \\x03\\x9a\\x03\\xcc\\x03\\xc3\\x03\\xbc\\x03\\xb5\\x00!'"
      ]
     },
     "execution_count": 163,
     "metadata": {},
     "output_type": "execute_result"
    }
   ],
   "source": [
    "greeting13 = bytes(\"Γειά σου Κόσμε!\", encoding=\"utf-16-be\")\n",
    "greeting13"
   ]
  },
  {
   "cell_type": "code",
   "execution_count": 92,
   "id": "a98fd5bb-ef67-4dbb-a2c8-22b99dfd9d9c",
   "metadata": {},
   "outputs": [
    {
     "data": {
      "text/plain": [
       "'Γειά σου Κόσμε!'"
      ]
     },
     "execution_count": 92,
     "metadata": {},
     "output_type": "execute_result"
    }
   ],
   "source": [
    "greeting12.decode(\"utf-8\")"
   ]
  },
  {
   "cell_type": "code",
   "execution_count": 164,
   "id": "d4dddb68-8556-4c4c-972c-68e04475eeea",
   "metadata": {},
   "outputs": [
    {
     "data": {
      "text/plain": [
       "'Γειά σου Κόσμε!'"
      ]
     },
     "execution_count": 164,
     "metadata": {},
     "output_type": "execute_result"
    }
   ],
   "source": [
    "greeting13.decode(\"utf-16-be\")"
   ]
  },
  {
   "cell_type": "code",
   "execution_count": 101,
   "id": "c7427d40-c92d-499f-969d-0feb1eaa6851",
   "metadata": {},
   "outputs": [
    {
     "data": {
      "text/plain": [
       "27"
      ]
     },
     "execution_count": 101,
     "metadata": {},
     "output_type": "execute_result"
    }
   ],
   "source": [
    "len(greeting12)"
   ]
  },
  {
   "cell_type": "code",
   "execution_count": 102,
   "id": "9fcf9cc3-f398-4b05-a3cf-03615634a463",
   "metadata": {},
   "outputs": [
    {
     "data": {
      "text/plain": [
       "32"
      ]
     },
     "execution_count": 102,
     "metadata": {},
     "output_type": "execute_result"
    }
   ],
   "source": [
    "len(greeting13)"
   ]
  },
  {
   "cell_type": "code",
   "execution_count": 151,
   "id": "0da98604-7d8a-4127-a2ea-bb837ec78cb2",
   "metadata": {},
   "outputs": [
    {
     "data": {
      "text/plain": [
       "'Î\\x93ÎµÎ¹Î¬ Ï\\x83Î¿Ï\\x85 Î\\x9aÏ\\x8cÏ\\x83Î¼Îµ!'"
      ]
     },
     "execution_count": 151,
     "metadata": {},
     "output_type": "execute_result"
    }
   ],
   "source": [
    "greeting12.decode(\"latin1\")"
   ]
  },
  {
   "cell_type": "code",
   "execution_count": 152,
   "id": "ad6662e4-5245-4726-90ac-de51d531dcac",
   "metadata": {},
   "outputs": [
    {
     "data": {
      "text/plain": [
       "'ÿþ\\x93\\x03µ\\x03¹\\x03¬\\x03 \\x00Ã\\x03¿\\x03Å\\x03 \\x00\\x9a\\x03Ì\\x03Ã\\x03¼\\x03µ\\x03!\\x00'"
      ]
     },
     "execution_count": 152,
     "metadata": {},
     "output_type": "execute_result"
    }
   ],
   "source": [
    "greeting13.decode(\"latin1\")"
   ]
  },
  {
   "cell_type": "code",
   "execution_count": 159,
   "id": "526b8c5d-63bc-4b65-98a0-9e1fa317c96e",
   "metadata": {},
   "outputs": [
    {
     "data": {
      "text/plain": [
       "b'\\x03\\x93\\x03\\xb5\\x03\\xb9\\x03\\xac\\x00 \\x03\\xc3\\x03\\xbf\\x03\\xc5\\x00 \\x03\\x9a\\x03\\xcc\\x03\\xc3\\x03\\xbc\\x03\\xb5\\x00!'"
      ]
     },
     "execution_count": 159,
     "metadata": {},
     "output_type": "execute_result"
    }
   ],
   "source": [
    "greeting14 = bytes(\"\\u0393\\u03b5\\u03b9\\u03ac\\u0020\\u03c3\\u03bf\\u03c5\\u0020\\u039a\\u03cc\\u03c3\\u03bc\\u03b5\\u0021\", encoding=\"utf-16be\")\n",
    "greeting14"
   ]
  },
  {
   "cell_type": "code",
   "execution_count": 155,
   "id": "78afd261-64e7-4403-9d6b-13f2dd1c7537",
   "metadata": {},
   "outputs": [
    {
     "data": {
      "text/plain": [
       "b'\\x93\\x03\\xb5\\x03\\xb9\\x03\\xac\\x03 \\x00\\xc3\\x03\\xbf\\x03\\xc5\\x03 \\x00\\x9a\\x03\\xcc\\x03\\xc3\\x03\\xbc\\x03\\xb5\\x03!\\x00'"
      ]
     },
     "execution_count": 155,
     "metadata": {},
     "output_type": "execute_result"
    }
   ],
   "source": [
    "greeting15 = bytes(\"\\u0393\\u03b5\\u03b9\\u03ac\\u0020\\u03c3\\u03bf\\u03c5\\u0020\\u039a\\u03cc\\u03c3\\u03bc\\u03b5\\u0021\", encoding=\"utf-16le\")\n",
    "greeting15"
   ]
  },
  {
   "cell_type": "code",
   "execution_count": null,
   "id": "ab62f556-1794-4bec-bcfe-d61d26af9e35",
   "metadata": {},
   "outputs": [],
   "source": []
  },
  {
   "cell_type": "code",
   "execution_count": 157,
   "id": "23d9d8b5-3a0f-41c6-85da-113ba6f74abd",
   "metadata": {},
   "outputs": [
    {
     "data": {
      "text/plain": [
       "'Γειά σου Κόσμε!'"
      ]
     },
     "execution_count": 157,
     "metadata": {},
     "output_type": "execute_result"
    }
   ],
   "source": [
    "greeting15.decode(encoding=\"utf-16le\")"
   ]
  },
  {
   "cell_type": "code",
   "execution_count": 158,
   "id": "be79966b-a0a7-4a68-80a7-af075b240bd2",
   "metadata": {},
   "outputs": [
    {
     "data": {
      "text/plain": [
       "'錃딃뤃갃\\u2000쌃뼃씃\\u2000騃찃쌃밃딃℀'"
      ]
     },
     "execution_count": 158,
     "metadata": {},
     "output_type": "execute_result"
    }
   ],
   "source": [
    "greeting15.decode(encoding=\"utf-16be\")"
   ]
  },
  {
   "cell_type": "code",
   "execution_count": null,
   "id": "682caa39-838e-46ae-9e5c-1d4bcb082d3f",
   "metadata": {},
   "outputs": [],
   "source": []
  },
  {
   "cell_type": "code",
   "execution_count": 165,
   "id": "b576a89d-046d-42d8-82a4-ebd0d2f6ffbd",
   "metadata": {},
   "outputs": [
    {
     "data": {
      "text/plain": [
       "b'\\xce\\x93\\xce\\xb5\\xce\\xb9\\xce\\xac \\xcf\\x83\\xce\\xbf\\xcf\\x85 \\xce\\x9a\\xcf\\x8c\\xcf\\x83\\xce\\xbc\\xce\\xb5!'"
      ]
     },
     "execution_count": 165,
     "metadata": {},
     "output_type": "execute_result"
    }
   ],
   "source": [
    "greeting16 = bytes(\"\\u0393\\u03b5\\u03b9\\u03ac\\u0020\\u03c3\\u03bf\\u03c5\\u0020\\u039a\\u03cc\\u03c3\\u03bc\\u03b5\\u0021\", encoding=\"utf-8\")\n",
    "greeting16"
   ]
  },
  {
   "cell_type": "code",
   "execution_count": 166,
   "id": "c6a330d3-a84d-4ba0-8e66-43f4e9eb058b",
   "metadata": {},
   "outputs": [
    {
     "data": {
      "text/plain": [
       "'Γειά σου Κόσμε!'"
      ]
     },
     "execution_count": 166,
     "metadata": {},
     "output_type": "execute_result"
    }
   ],
   "source": [
    "greeting16.decode(encoding=\"utf-8\")"
   ]
  },
  {
   "cell_type": "code",
   "execution_count": 168,
   "id": "9cb775fa-4634-4050-9d6c-3078e3deceb1",
   "metadata": {},
   "outputs": [
    {
     "data": {
      "text/plain": [
       "b'\\xce\\x93\\xce\\xb5\\xce\\xb9\\xce\\xac \\xcf\\x83\\xce\\xbf\\xcf\\x85 \\xce\\x9a\\xcf\\x8c\\xcf\\x83\\xce\\xbc\\xce\\xb5!'"
      ]
     },
     "execution_count": 168,
     "metadata": {},
     "output_type": "execute_result"
    }
   ],
   "source": [
    "greeting17 = bytes(\"\\u0393\\u03b5\\u03b9\\u03ac\\x20\\u03c3\\u03bf\\u03c5\\x20\\u039a\\u03cc\\u03c3\\u03bc\\u03b5\\x21\", encoding=\"utf-8\")\n",
    "greeting17"
   ]
  },
  {
   "cell_type": "code",
   "execution_count": 169,
   "id": "08782f1f-08be-4500-a07b-69f4ac4e87e8",
   "metadata": {},
   "outputs": [
    {
     "data": {
      "text/plain": [
       "'Γειά σου Κόσμε!'"
      ]
     },
     "execution_count": 169,
     "metadata": {},
     "output_type": "execute_result"
    }
   ],
   "source": [
    "greeting17.decode(encoding=\"utf-8\")"
   ]
  },
  {
   "cell_type": "code",
   "execution_count": null,
   "id": "5c6d92f8-8588-4911-a744-deb7ef79d63e",
   "metadata": {},
   "outputs": [],
   "source": []
  },
  {
   "cell_type": "code",
   "execution_count": 178,
   "id": "207c3662-af34-4a5b-8021-0bab3e572984",
   "metadata": {},
   "outputs": [
    {
     "data": {
      "text/plain": [
       "'Γειά σου Κόσμε!'"
      ]
     },
     "execution_count": 178,
     "metadata": {},
     "output_type": "execute_result"
    }
   ],
   "source": [
    "greeting_s = \"Γειά σου Κόσμε!\"\n",
    "greeting_s"
   ]
  },
  {
   "cell_type": "code",
   "execution_count": 179,
   "id": "3e9e83e1-2ee8-46f2-9a28-7b1897a9127f",
   "metadata": {},
   "outputs": [
    {
     "data": {
      "text/plain": [
       "b'\\xce\\x93\\xce\\xb5\\xce\\xb9\\xce\\xac \\xcf\\x83\\xce\\xbf\\xcf\\x85 \\xce\\x9a\\xcf\\x8c\\xcf\\x83\\xce\\xbc\\xce\\xb5!'"
      ]
     },
     "execution_count": 179,
     "metadata": {},
     "output_type": "execute_result"
    }
   ],
   "source": [
    "greeting_b = bytes(\"\\u0393\\u03b5\\u03b9\\u03ac\\x20\\u03c3\\u03bf\\u03c5\\x20\\u039a\\u03cc\\u03c3\\u03bc\\u03b5\\x21\", encoding=\"utf-8\")\n",
    "greeting_b"
   ]
  },
  {
   "cell_type": "code",
   "execution_count": 180,
   "id": "7857162a-0939-49f9-ab13-087739a03e20",
   "metadata": {},
   "outputs": [
    {
     "data": {
      "text/plain": [
       "'Γειά σου Κόσμε!'"
      ]
     },
     "execution_count": 180,
     "metadata": {},
     "output_type": "execute_result"
    }
   ],
   "source": [
    "greeting_b.decode(encoding=\"utf-8\")"
   ]
  },
  {
   "cell_type": "code",
   "execution_count": 181,
   "id": "89b2048b-11ab-423b-9308-06924e2dbfbf",
   "metadata": {},
   "outputs": [
    {
     "data": {
      "text/plain": [
       "15"
      ]
     },
     "execution_count": 181,
     "metadata": {},
     "output_type": "execute_result"
    }
   ],
   "source": [
    "len(greeting_s)"
   ]
  },
  {
   "cell_type": "code",
   "execution_count": 182,
   "id": "0fdebfe9-b709-40b3-9256-2b4ce928951d",
   "metadata": {},
   "outputs": [
    {
     "data": {
      "text/plain": [
       "27"
      ]
     },
     "execution_count": 182,
     "metadata": {},
     "output_type": "execute_result"
    }
   ],
   "source": [
    "len(greeting_b)"
   ]
  },
  {
   "cell_type": "code",
   "execution_count": 183,
   "id": "f598fd74-d588-493d-8d39-ccc818057a22",
   "metadata": {},
   "outputs": [
    {
     "data": {
      "text/plain": [
       "'Γ'"
      ]
     },
     "execution_count": 183,
     "metadata": {},
     "output_type": "execute_result"
    }
   ],
   "source": [
    "greeting_s[0]"
   ]
  },
  {
   "cell_type": "code",
   "execution_count": 184,
   "id": "62f4e4eb-444c-4736-8f9a-7154690fcd31",
   "metadata": {},
   "outputs": [
    {
     "data": {
      "text/plain": [
       "206"
      ]
     },
     "execution_count": 184,
     "metadata": {},
     "output_type": "execute_result"
    }
   ],
   "source": [
    "greeting_b[0]"
   ]
  },
  {
   "cell_type": "code",
   "execution_count": 185,
   "id": "c768aa90-da8a-4c0c-8366-a4bae3b5855e",
   "metadata": {},
   "outputs": [
    {
     "data": {
      "text/plain": [
       "'Γ'"
      ]
     },
     "execution_count": 185,
     "metadata": {},
     "output_type": "execute_result"
    }
   ],
   "source": [
    "greeting_s[0:1]"
   ]
  },
  {
   "cell_type": "code",
   "execution_count": 186,
   "id": "077bce4f-1da0-47a0-9d4a-ffd6880a33cc",
   "metadata": {},
   "outputs": [
    {
     "data": {
      "text/plain": [
       "b'\\xce'"
      ]
     },
     "execution_count": 186,
     "metadata": {},
     "output_type": "execute_result"
    }
   ],
   "source": [
    "greeting_b[0:1]"
   ]
  },
  {
   "cell_type": "code",
   "execution_count": 188,
   "id": "01610009-a707-467d-938e-b45656e005b8",
   "metadata": {},
   "outputs": [],
   "source": [
    "#greeting_b.ljust() rjust"
   ]
  },
  {
   "cell_type": "code",
   "execution_count": 190,
   "id": "00dae3f2-c24a-44e4-ad1f-758f2e4227fe",
   "metadata": {},
   "outputs": [
    {
     "ename": "TypeError",
     "evalue": "a bytes-like object is required, not 'int'",
     "output_type": "error",
     "traceback": [
      "\u001b[1;31m---------------------------------------------------------------------------\u001b[0m",
      "\u001b[1;31mTypeError\u001b[0m                                 Traceback (most recent call last)",
      "\u001b[1;32m~\\AppData\\Local\\Temp\\ipykernel_16972\\2037427239.py\u001b[0m in \u001b[0;36m<cell line: 1>\u001b[1;34m()\u001b[0m\n\u001b[1;32m----> 1\u001b[1;33m \u001b[0mgreeting_b\u001b[0m\u001b[1;33m.\u001b[0m\u001b[0mlstrip\u001b[0m\u001b[1;33m(\u001b[0m\u001b[1;36m2\u001b[0m\u001b[1;33m)\u001b[0m\u001b[1;33m\u001b[0m\u001b[1;33m\u001b[0m\u001b[0m\n\u001b[0m",
      "\u001b[1;31mTypeError\u001b[0m: a bytes-like object is required, not 'int'"
     ]
    }
   ],
   "source": [
    "#greeting_b.lstrip() rstrip"
   ]
  },
  {
   "cell_type": "code",
   "execution_count": 192,
   "id": "6f4bb0a6-5d29-4627-850b-1381c2e999e7",
   "metadata": {},
   "outputs": [],
   "source": [
    "#greeting_b.maketrans() "
   ]
  },
  {
   "cell_type": "code",
   "execution_count": 193,
   "id": "5c81510b-c512-4087-9b25-7e5bafd4b6c2",
   "metadata": {},
   "outputs": [],
   "source": [
    "#greeting_b.partition() rpartition\n",
    "\n",
    "#  'rfind',\n",
    "# 'rindex',\n",
    "\n",
    "# 'rsplit',\n"
   ]
  },
  {
   "cell_type": "code",
   "execution_count": 194,
   "id": "20ee0ebb-234d-4e54-a024-2989091a0740",
   "metadata": {
    "scrolled": true,
    "tags": []
   },
   "outputs": [
    {
     "data": {
      "text/plain": [
       "['__add__',\n",
       " '__class__',\n",
       " '__contains__',\n",
       " '__delattr__',\n",
       " '__dir__',\n",
       " '__doc__',\n",
       " '__eq__',\n",
       " '__format__',\n",
       " '__ge__',\n",
       " '__getattribute__',\n",
       " '__getitem__',\n",
       " '__getnewargs__',\n",
       " '__gt__',\n",
       " '__hash__',\n",
       " '__init__',\n",
       " '__init_subclass__',\n",
       " '__iter__',\n",
       " '__le__',\n",
       " '__len__',\n",
       " '__lt__',\n",
       " '__mod__',\n",
       " '__mul__',\n",
       " '__ne__',\n",
       " '__new__',\n",
       " '__reduce__',\n",
       " '__reduce_ex__',\n",
       " '__repr__',\n",
       " '__rmod__',\n",
       " '__rmul__',\n",
       " '__setattr__',\n",
       " '__sizeof__',\n",
       " '__str__',\n",
       " '__subclasshook__',\n",
       " 'capitalize',\n",
       " 'center',\n",
       " 'count',\n",
       " 'decode',\n",
       " 'endswith',\n",
       " 'expandtabs',\n",
       " 'find',\n",
       " 'fromhex',\n",
       " 'hex',\n",
       " 'index',\n",
       " 'isalnum',\n",
       " 'isalpha',\n",
       " 'isascii',\n",
       " 'isdigit',\n",
       " 'islower',\n",
       " 'isspace',\n",
       " 'istitle',\n",
       " 'isupper',\n",
       " 'join',\n",
       " 'ljust',\n",
       " 'lower',\n",
       " 'lstrip',\n",
       " 'maketrans',\n",
       " 'partition',\n",
       " 'removeprefix',\n",
       " 'removesuffix',\n",
       " 'replace',\n",
       " 'rfind',\n",
       " 'rindex',\n",
       " 'rjust',\n",
       " 'rpartition',\n",
       " 'rsplit',\n",
       " 'rstrip',\n",
       " 'split',\n",
       " 'splitlines',\n",
       " 'startswith',\n",
       " 'strip',\n",
       " 'swapcase',\n",
       " 'title',\n",
       " 'translate',\n",
       " 'upper',\n",
       " 'zfill']"
      ]
     },
     "execution_count": 194,
     "metadata": {},
     "output_type": "execute_result"
    }
   ],
   "source": [
    "dir(greeting_b)"
   ]
  },
  {
   "cell_type": "code",
   "execution_count": 195,
   "id": "ab8302b0-343c-40f0-ba65-86a7908048ec",
   "metadata": {},
   "outputs": [
    {
     "ename": "TypeError",
     "evalue": "'str' object does not support item assignment",
     "output_type": "error",
     "traceback": [
      "\u001b[1;31m---------------------------------------------------------------------------\u001b[0m",
      "\u001b[1;31mTypeError\u001b[0m                                 Traceback (most recent call last)",
      "\u001b[1;32m~\\AppData\\Local\\Temp\\ipykernel_16972\\714635461.py\u001b[0m in \u001b[0;36m<cell line: 1>\u001b[1;34m()\u001b[0m\n\u001b[1;32m----> 1\u001b[1;33m \u001b[0mgreeting_s\u001b[0m\u001b[1;33m[\u001b[0m\u001b[1;36m0\u001b[0m\u001b[1;33m]\u001b[0m \u001b[1;33m=\u001b[0m \u001b[1;34m\"H\"\u001b[0m\u001b[1;33m\u001b[0m\u001b[1;33m\u001b[0m\u001b[0m\n\u001b[0m",
      "\u001b[1;31mTypeError\u001b[0m: 'str' object does not support item assignment"
     ]
    }
   ],
   "source": [
    "greeting_s[0] = \"H\""
   ]
  },
  {
   "cell_type": "code",
   "execution_count": 196,
   "id": "cce4d503-5b55-426f-b217-cc7678d0e05c",
   "metadata": {},
   "outputs": [
    {
     "ename": "TypeError",
     "evalue": "'bytes' object does not support item assignment",
     "output_type": "error",
     "traceback": [
      "\u001b[1;31m---------------------------------------------------------------------------\u001b[0m",
      "\u001b[1;31mTypeError\u001b[0m                                 Traceback (most recent call last)",
      "\u001b[1;32m~\\AppData\\Local\\Temp\\ipykernel_16972\\2930746682.py\u001b[0m in \u001b[0;36m<cell line: 1>\u001b[1;34m()\u001b[0m\n\u001b[1;32m----> 1\u001b[1;33m \u001b[0mgreeting_b\u001b[0m\u001b[1;33m[\u001b[0m\u001b[1;36m0\u001b[0m\u001b[1;33m]\u001b[0m \u001b[1;33m=\u001b[0m \u001b[1;34m\"H\"\u001b[0m\u001b[1;33m\u001b[0m\u001b[1;33m\u001b[0m\u001b[0m\n\u001b[0m",
      "\u001b[1;31mTypeError\u001b[0m: 'bytes' object does not support item assignment"
     ]
    }
   ],
   "source": [
    "greeting_b[0] = \"H\""
   ]
  },
  {
   "cell_type": "code",
   "execution_count": 197,
   "id": "e2565faf-7664-4fb4-a325-04519b2a4576",
   "metadata": {},
   "outputs": [],
   "source": [
    "# behave like tuples not mutable"
   ]
  },
  {
   "cell_type": "code",
   "execution_count": null,
   "id": "22dba9d5-0575-48eb-b66e-c372ccc41a11",
   "metadata": {},
   "outputs": [],
   "source": [
    "# therefore most methods, act on the instance data and return a new instance"
   ]
  },
  {
   "cell_type": "code",
   "execution_count": 200,
   "id": "9906ceff-bac0-40eb-8e6f-d4fb3a2caa6a",
   "metadata": {},
   "outputs": [
    {
     "data": {
      "text/plain": [
       "'ΓΕΙΆ ΣΟΥ ΚΌΣΜΕ!'"
      ]
     },
     "execution_count": 200,
     "metadata": {},
     "output_type": "execute_result"
    }
   ],
   "source": [
    "greeting_s.upper()"
   ]
  },
  {
   "cell_type": "code",
   "execution_count": 201,
   "id": "6c280544-1154-4fff-a460-e93063a8d3dd",
   "metadata": {},
   "outputs": [
    {
     "data": {
      "text/plain": [
       "'Γειά σου Κόσμε!'"
      ]
     },
     "execution_count": 201,
     "metadata": {},
     "output_type": "execute_result"
    }
   ],
   "source": [
    "greeting_s"
   ]
  },
  {
   "cell_type": "code",
   "execution_count": 206,
   "id": "e952d9c3-d73e-41a1-b076-8a3ae6015acb",
   "metadata": {},
   "outputs": [
    {
     "data": {
      "text/plain": [
       "'Γειά σου Κόσμε!'"
      ]
     },
     "execution_count": 206,
     "metadata": {},
     "output_type": "execute_result"
    }
   ],
   "source": [
    "greeting_b.upper().decode(encoding=\"utf-8\")"
   ]
  },
  {
   "cell_type": "code",
   "execution_count": 208,
   "id": "b4ebeadc-5c3a-49e5-af83-272c66ae73d7",
   "metadata": {},
   "outputs": [
    {
     "data": {
      "text/plain": [
       "b'\\xce\\x93\\xce\\xb5\\xce\\xb9\\xce\\xac \\xcf\\x83\\xce\\xbf\\xcf\\x85 \\xce\\x9a\\xcf\\x8c\\xcf\\x83\\xce\\xbc\\xce\\xb5!'"
      ]
     },
     "execution_count": 208,
     "metadata": {},
     "output_type": "execute_result"
    }
   ],
   "source": [
    "greeting_b.upper()"
   ]
  },
  {
   "cell_type": "code",
   "execution_count": 210,
   "id": "af039067-2b8e-42db-b53d-6ea455d978a9",
   "metadata": {},
   "outputs": [
    {
     "data": {
      "text/plain": [
       "\u001b[1;31mInit signature:\u001b[0m  \u001b[0mbytearray\u001b[0m\u001b[1;33m(\u001b[0m\u001b[0mself\u001b[0m\u001b[1;33m,\u001b[0m \u001b[1;33m/\u001b[0m\u001b[1;33m,\u001b[0m \u001b[1;33m*\u001b[0m\u001b[0margs\u001b[0m\u001b[1;33m,\u001b[0m \u001b[1;33m**\u001b[0m\u001b[0mkwargs\u001b[0m\u001b[1;33m)\u001b[0m\u001b[1;33m\u001b[0m\u001b[1;33m\u001b[0m\u001b[0m\n",
       "\u001b[1;31mDocstring:\u001b[0m     \n",
       "bytearray(iterable_of_ints) -> bytearray\n",
       "bytearray(string, encoding[, errors]) -> bytearray\n",
       "bytearray(bytes_or_buffer) -> mutable copy of bytes_or_buffer\n",
       "bytearray(int) -> bytes array of size given by the parameter initialized with null bytes\n",
       "bytearray() -> empty bytes array\n",
       "\n",
       "Construct a mutable bytearray object from:\n",
       "  - an iterable yielding integers in range(256)\n",
       "  - a text string encoded using the specified encoding\n",
       "  - a bytes or a buffer object\n",
       "  - any object implementing the buffer API.\n",
       "  - an integer\n",
       "\u001b[1;31mType:\u001b[0m           type\n",
       "\u001b[1;31mSubclasses:\u001b[0m     \n"
      ]
     },
     "metadata": {},
     "output_type": "display_data"
    }
   ],
   "source": [
    "? bytearray"
   ]
  },
  {
   "cell_type": "code",
   "execution_count": 264,
   "id": "76167a74-1bd8-4180-90be-f05ec3a90472",
   "metadata": {},
   "outputs": [
    {
     "data": {
      "text/plain": [
       "bytearray(b'\\xce\\x93\\xce\\xb5\\xce\\xb9\\xce\\xac \\xcf\\x83\\xce\\xbf\\xcf\\x85 \\xce\\x9a\\xcf\\x8c\\xcf\\x83\\xce\\xbc\\xce\\xb5!')"
      ]
     },
     "execution_count": 264,
     "metadata": {},
     "output_type": "execute_result"
    }
   ],
   "source": [
    "greeting_ba = bytearray(\"\\u0393\\u03b5\\u03b9\\u03ac\\x20\\u03c3\\u03bf\\u03c5\\x20\\u039a\\u03cc\\u03c3\\u03bc\\u03b5\\x21\", encoding=\"utf-8\")\n",
    "greeting_ba"
   ]
  },
  {
   "cell_type": "code",
   "execution_count": 265,
   "id": "0d8a9f0b-9416-4917-b5ec-a42ce0d9a5ce",
   "metadata": {},
   "outputs": [
    {
     "data": {
      "text/plain": [
       "'Γειά σου Κόσμε!'"
      ]
     },
     "execution_count": 265,
     "metadata": {},
     "output_type": "execute_result"
    }
   ],
   "source": [
    "greeting_ba.decode(encoding=\"utf-8\")"
   ]
  },
  {
   "cell_type": "code",
   "execution_count": 266,
   "id": "cca0abe9-5962-4b76-ba11-63bfd8f3397a",
   "metadata": {},
   "outputs": [],
   "source": [
    "# has methods similar to byte but also is mutable so has many methods similar to list methods ..."
   ]
  },
  {
   "cell_type": "code",
   "execution_count": 267,
   "id": "72f89431-cf9e-4b2e-859e-b76c7edca6ff",
   "metadata": {},
   "outputs": [],
   "source": [
    "greeting_ba.reverse() # notice no output as occurs inplace"
   ]
  },
  {
   "cell_type": "code",
   "execution_count": 268,
   "id": "92e6fa51-01de-4910-ab62-14ec2e65f940",
   "metadata": {},
   "outputs": [
    {
     "data": {
      "text/plain": [
       "bytearray(b'!\\xb5\\xce\\xbc\\xce\\x83\\xcf\\x8c\\xcf\\x9a\\xce \\x85\\xcf\\xbf\\xce\\x83\\xcf \\xac\\xce\\xb9\\xce\\xb5\\xce\\x93\\xce')"
      ]
     },
     "execution_count": 268,
     "metadata": {},
     "output_type": "execute_result"
    }
   ],
   "source": [
    "greeting_ba"
   ]
  },
  {
   "cell_type": "code",
   "execution_count": 269,
   "id": "8dbf0e04-5127-46ce-86cb-6fe74dd840a7",
   "metadata": {},
   "outputs": [
    {
     "ename": "UnicodeDecodeError",
     "evalue": "'utf-8' codec can't decode byte 0xb5 in position 1: invalid start byte",
     "output_type": "error",
     "traceback": [
      "\u001b[1;31m---------------------------------------------------------------------------\u001b[0m",
      "\u001b[1;31mUnicodeDecodeError\u001b[0m                        Traceback (most recent call last)",
      "\u001b[1;32m~\\AppData\\Local\\Temp\\ipykernel_16972\\3030589643.py\u001b[0m in \u001b[0;36m<cell line: 1>\u001b[1;34m()\u001b[0m\n\u001b[1;32m----> 1\u001b[1;33m \u001b[0mgreeting_ba\u001b[0m\u001b[1;33m.\u001b[0m\u001b[0mdecode\u001b[0m\u001b[1;33m(\u001b[0m\u001b[0mencoding\u001b[0m\u001b[1;33m=\u001b[0m\u001b[1;34m\"utf-8\"\u001b[0m\u001b[1;33m)\u001b[0m\u001b[1;33m\u001b[0m\u001b[1;33m\u001b[0m\u001b[0m\n\u001b[0m",
      "\u001b[1;31mUnicodeDecodeError\u001b[0m: 'utf-8' codec can't decode byte 0xb5 in position 1: invalid start byte"
     ]
    }
   ],
   "source": [
    "greeting_ba.decode(encoding=\"utf-8\")"
   ]
  },
  {
   "cell_type": "code",
   "execution_count": 270,
   "id": "2f9892f9-a1c8-4c8a-9070-ef7598fd7d94",
   "metadata": {},
   "outputs": [],
   "source": [
    "greeting_ba.reverse()"
   ]
  },
  {
   "cell_type": "code",
   "execution_count": 271,
   "id": "27a18eda-d3c4-434f-bb32-06b495d86e7c",
   "metadata": {},
   "outputs": [
    {
     "data": {
      "text/plain": [
       "33"
      ]
     },
     "execution_count": 271,
     "metadata": {},
     "output_type": "execute_result"
    }
   ],
   "source": [
    "greeting_ba[-1]"
   ]
  },
  {
   "cell_type": "code",
   "execution_count": 272,
   "id": "2eccccb8-c9be-4625-a5dd-53979d4008c6",
   "metadata": {},
   "outputs": [
    {
     "data": {
      "text/plain": [
       "'!'"
      ]
     },
     "execution_count": 272,
     "metadata": {},
     "output_type": "execute_result"
    }
   ],
   "source": [
    "chr(33)"
   ]
  },
  {
   "cell_type": "code",
   "execution_count": 273,
   "id": "9ff87b1a-7a28-497a-925e-dcf69e2d8bd2",
   "metadata": {},
   "outputs": [
    {
     "data": {
      "text/plain": [
       "'0x21'"
      ]
     },
     "execution_count": 273,
     "metadata": {},
     "output_type": "execute_result"
    }
   ],
   "source": [
    "hex(33)"
   ]
  },
  {
   "cell_type": "code",
   "execution_count": 274,
   "id": "a5e15d53-5213-4cc9-92b5-38d85238a53c",
   "metadata": {},
   "outputs": [
    {
     "data": {
      "text/plain": [
       "63"
      ]
     },
     "execution_count": 274,
     "metadata": {},
     "output_type": "execute_result"
    }
   ],
   "source": [
    "ord(\"?\")"
   ]
  },
  {
   "cell_type": "code",
   "execution_count": 275,
   "id": "dc4c91b8-0625-4f63-9b07-7eb7b7587ef8",
   "metadata": {},
   "outputs": [
    {
     "data": {
      "text/plain": [
       "'0x3f'"
      ]
     },
     "execution_count": 275,
     "metadata": {},
     "output_type": "execute_result"
    }
   ],
   "source": [
    "hex(ord(\"?\"))"
   ]
  },
  {
   "cell_type": "code",
   "execution_count": 276,
   "id": "5cdbf902-cf3b-401f-bc21-ebc5f42d5c24",
   "metadata": {},
   "outputs": [
    {
     "data": {
      "text/plain": [
       "bytearray(b'\\xce\\x93\\xce\\xb5\\xce\\xb9\\xce\\xac \\xcf\\x83\\xce\\xbf\\xcf\\x85 \\xce\\x9a\\xcf\\x8c\\xcf\\x83\\xce\\xbc\\xce\\xb5!')"
      ]
     },
     "execution_count": 276,
     "metadata": {},
     "output_type": "execute_result"
    }
   ],
   "source": [
    "greeting_ba"
   ]
  },
  {
   "cell_type": "code",
   "execution_count": 280,
   "id": "ac9e9ea6-c59e-4f76-bba7-761abd1a29f0",
   "metadata": {},
   "outputs": [],
   "source": [
    "greeting_ba[-1] = 0x3f"
   ]
  },
  {
   "cell_type": "code",
   "execution_count": 281,
   "id": "f7ac1f40-636d-46d4-b60f-8d0157310db5",
   "metadata": {},
   "outputs": [
    {
     "data": {
      "text/plain": [
       "bytearray(b'\\xce\\x93\\xce\\xb5\\xce\\xb9\\xce\\xac \\xcf\\x83\\xce\\xbf\\xcf\\x85 \\xce\\x9a\\xcf\\x8c\\xcf\\x83\\xce\\xbc\\xce\\xb5?')"
      ]
     },
     "execution_count": 281,
     "metadata": {},
     "output_type": "execute_result"
    }
   ],
   "source": [
    "greeting_ba"
   ]
  },
  {
   "cell_type": "code",
   "execution_count": 282,
   "id": "e0210ef1-8770-4407-a9e3-ff5024218501",
   "metadata": {},
   "outputs": [
    {
     "data": {
      "text/plain": [
       "'Γειά σου Κόσμε?'"
      ]
     },
     "execution_count": 282,
     "metadata": {},
     "output_type": "execute_result"
    }
   ],
   "source": [
    "greeting_ba.decode(encoding=\"utf-8\")"
   ]
  },
  {
   "cell_type": "code",
   "execution_count": 283,
   "id": "133c5ec3-6dd2-4f4a-917f-ad8ee0beaee2",
   "metadata": {},
   "outputs": [],
   "source": [
    "popped = greeting_ba.pop()"
   ]
  },
  {
   "cell_type": "code",
   "execution_count": 284,
   "id": "f9e89415-880f-48ff-8bfd-bbf16b1f469e",
   "metadata": {},
   "outputs": [
    {
     "data": {
      "text/plain": [
       "63"
      ]
     },
     "execution_count": 284,
     "metadata": {},
     "output_type": "execute_result"
    }
   ],
   "source": [
    "popped"
   ]
  },
  {
   "cell_type": "code",
   "execution_count": 285,
   "id": "b1d5da37-21c3-410a-aacb-4145da654e52",
   "metadata": {},
   "outputs": [
    {
     "data": {
      "text/plain": [
       "'0x3f'"
      ]
     },
     "execution_count": 285,
     "metadata": {},
     "output_type": "execute_result"
    }
   ],
   "source": [
    "hex(popped)"
   ]
  },
  {
   "cell_type": "code",
   "execution_count": 286,
   "id": "4ebaa232-47c3-4476-8f54-b0abf9636c1e",
   "metadata": {},
   "outputs": [
    {
     "data": {
      "text/plain": [
       "bytearray(b'\\xce\\x93\\xce\\xb5\\xce\\xb9\\xce\\xac \\xcf\\x83\\xce\\xbf\\xcf\\x85 \\xce\\x9a\\xcf\\x8c\\xcf\\x83\\xce\\xbc\\xce\\xb5')"
      ]
     },
     "execution_count": 286,
     "metadata": {},
     "output_type": "execute_result"
    }
   ],
   "source": [
    "greeting_ba"
   ]
  },
  {
   "cell_type": "code",
   "execution_count": 287,
   "id": "40b69abf-5719-4b7e-afd6-232be5907899",
   "metadata": {},
   "outputs": [
    {
     "data": {
      "text/plain": [
       "'Γειά σου Κόσμε'"
      ]
     },
     "execution_count": 287,
     "metadata": {},
     "output_type": "execute_result"
    }
   ],
   "source": [
    "greeting_ba.decode(encoding=\"utf-8\")"
   ]
  },
  {
   "cell_type": "code",
   "execution_count": 291,
   "id": "41128daa-b145-49aa-80eb-7e78e7d27e7a",
   "metadata": {},
   "outputs": [],
   "source": [
    "greeting_ba.append(0x21)"
   ]
  },
  {
   "cell_type": "code",
   "execution_count": 296,
   "id": "ff68da83-0cb7-4b16-b69f-75465e941cdb",
   "metadata": {},
   "outputs": [],
   "source": [
    "greeting_ba.extend([0x21, 0x21, 0x21, 0x21, 0x21, 0x21, 0x21, 0x21])"
   ]
  },
  {
   "cell_type": "code",
   "execution_count": 297,
   "id": "2513107d-19b4-457b-abd1-ae91063cde70",
   "metadata": {},
   "outputs": [
    {
     "data": {
      "text/plain": [
       "'Γειά σου Κόσμε?!!!!!!!!!!!'"
      ]
     },
     "execution_count": 297,
     "metadata": {},
     "output_type": "execute_result"
    }
   ],
   "source": [
    "greeting_ba.decode(encoding=\"utf-8\")"
   ]
  },
  {
   "cell_type": "code",
   "execution_count": null,
   "id": "3c49dfad-d07b-4808-bc76-ac98d638581d",
   "metadata": {},
   "outputs": [],
   "source": []
  },
  {
   "cell_type": "code",
   "execution_count": null,
   "id": "4339b4ab-1256-4c55-b094-951786c92eed",
   "metadata": {},
   "outputs": [],
   "source": []
  }
 ],
 "metadata": {
  "kernelspec": {
   "display_name": "Python 3 (ipykernel)",
   "language": "python",
   "name": "python3"
  },
  "language_info": {
   "codemirror_mode": {
    "name": "ipython",
    "version": 3
   },
   "file_extension": ".py",
   "mimetype": "text/x-python",
   "name": "python",
   "nbconvert_exporter": "python",
   "pygments_lexer": "ipython3",
   "version": "3.10.6"
  }
 },
 "nbformat": 4,
 "nbformat_minor": 5
}
