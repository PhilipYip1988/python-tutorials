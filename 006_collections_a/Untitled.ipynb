{
 "cells": [
  {
   "cell_type": "code",
   "execution_count": 3,
   "id": "a543750e-f66a-4593-bb5c-ec323d980b12",
   "metadata": {
    "tags": []
   },
   "outputs": [],
   "source": [
    "unique1 = {0, 1, 2, 3, 4, 5, 6}\n",
    "unique2 = {4, 5, 6, 7, 8, 9}"
   ]
  },
  {
   "cell_type": "code",
   "execution_count": 4,
   "id": "1dca4ba5-914a-4e35-8ff0-e0cc679b6d7f",
   "metadata": {
    "tags": []
   },
   "outputs": [],
   "source": [
    "unique1.symmetric_difference_update(unique2)"
   ]
  },
  {
   "cell_type": "code",
   "execution_count": null,
   "id": "c0235d45-738a-4cda-aef1-78d3831cf62b",
   "metadata": {},
   "outputs": [],
   "source": []
  }
 ],
 "metadata": {
  "kernelspec": {
   "display_name": "Python 3 (ipykernel)",
   "language": "python",
   "name": "python3"
  },
  "language_info": {
   "codemirror_mode": {
    "name": "ipython",
    "version": 3
   },
   "file_extension": ".py",
   "mimetype": "text/x-python",
   "name": "python",
   "nbconvert_exporter": "python",
   "pygments_lexer": "ipython3",
   "version": "3.11.0"
  }
 },
 "nbformat": 4,
 "nbformat_minor": 5
}
