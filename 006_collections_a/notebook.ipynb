{
 "cells": [
  {
   "cell_type": "code",
   "execution_count": 1,
   "id": "9958f003-c46c-4e68-adef-d2aa0b104a65",
   "metadata": {},
   "outputs": [],
   "source": [
    "record0 = 1\n",
    "record1 = True\n",
    "record2 = 3.14\n",
    "record3 = 'hello'\n",
    "record4 = 'hello'\n",
    "record5 = 'goodbye'"
   ]
  },
  {
   "cell_type": "code",
   "execution_count": 2,
   "id": "0c60bf95-48be-4e1b-812e-cd44b5eea054",
   "metadata": {},
   "outputs": [],
   "source": [
    "archive = (record0, record1, record2, record3, record4, record5)"
   ]
  },
  {
   "cell_type": "code",
   "execution_count": 3,
   "id": "6cc44e6d-97b3-4567-80dc-45d8d46726ca",
   "metadata": {},
   "outputs": [
    {
     "data": {
      "text/plain": [
       "(1, True, 3.14, 'hello', 'hello', 'goodbye')"
      ]
     },
     "execution_count": 3,
     "metadata": {},
     "output_type": "execute_result"
    }
   ],
   "source": [
    "archive"
   ]
  },
  {
   "cell_type": "code",
   "execution_count": 4,
   "id": "f9d3115d-8e06-4150-860a-2ca8c932f2fe",
   "metadata": {},
   "outputs": [],
   "source": [
    "archive = (record0, \n",
    "           record1, \n",
    "           record2, \n",
    "           record3, \n",
    "           record4, \n",
    "           record5)"
   ]
  },
  {
   "cell_type": "code",
   "execution_count": 5,
   "id": "5a9da9d0-6c95-4ae6-b6a8-e4971d34a071",
   "metadata": {},
   "outputs": [
    {
     "data": {
      "text/plain": [
       "(1, True, 3.14, 'hello', 'hello', 'goodbye')"
      ]
     },
     "execution_count": 5,
     "metadata": {},
     "output_type": "execute_result"
    }
   ],
   "source": [
    "archive"
   ]
  },
  {
   "cell_type": "code",
   "execution_count": 6,
   "id": "5b97f716-d488-42a8-b38c-7ef9bb2af5b3",
   "metadata": {},
   "outputs": [],
   "source": [
    "archive = (1, True, 3.14, 'hello', 'hello', 'bye')"
   ]
  },
  {
   "cell_type": "code",
   "execution_count": 7,
   "id": "b1f12500-c7f7-4ecd-b2a1-6223ddf051fe",
   "metadata": {},
   "outputs": [
    {
     "data": {
      "text/plain": [
       "(1, True, 3.14, 'hello', 'hello', 'bye')"
      ]
     },
     "execution_count": 7,
     "metadata": {},
     "output_type": "execute_result"
    }
   ],
   "source": [
    "archive"
   ]
  },
  {
   "cell_type": "code",
   "execution_count": 8,
   "id": "69dbc9d2-eb31-4bc1-883b-935c7cbe993e",
   "metadata": {},
   "outputs": [
    {
     "data": {
      "text/plain": [
       "3"
      ]
     },
     "execution_count": 8,
     "metadata": {},
     "output_type": "execute_result"
    }
   ],
   "source": [
    "pedmas = (1 + 2)\n",
    "pedmas"
   ]
  },
  {
   "cell_type": "code",
   "execution_count": 9,
   "id": "8e4be191-56d4-4e9c-8925-3e4c24681ddf",
   "metadata": {},
   "outputs": [
    {
     "data": {
      "text/plain": [
       "(3,)"
      ]
     },
     "execution_count": 9,
     "metadata": {},
     "output_type": "execute_result"
    }
   ],
   "source": [
    "single_archive = (1 + 2,)\n",
    "single_archive"
   ]
  },
  {
   "cell_type": "code",
   "execution_count": 10,
   "id": "40381465-6b70-43e0-b4ac-c966e39fe94b",
   "metadata": {},
   "outputs": [
    {
     "data": {
      "text/plain": [
       "()"
      ]
     },
     "execution_count": 10,
     "metadata": {},
     "output_type": "execute_result"
    }
   ],
   "source": [
    "empty_archive = tuple()\n",
    "empty_archive"
   ]
  },
  {
   "cell_type": "code",
   "execution_count": 11,
   "id": "70fc9a8a-d9de-43db-bd07-dc19cd8c9911",
   "metadata": {},
   "outputs": [],
   "source": [
    "archive = (1, True, 3.14, 'hello', 'hello', 'bye')"
   ]
  },
  {
   "cell_type": "code",
   "execution_count": 12,
   "id": "9d2554bc-4492-45dc-b256-aa8bde4365da",
   "metadata": {},
   "outputs": [
    {
     "data": {
      "text/plain": [
       "2"
      ]
     },
     "execution_count": 12,
     "metadata": {},
     "output_type": "execute_result"
    }
   ],
   "source": [
    "archive.index(3.14)"
   ]
  },
  {
   "cell_type": "code",
   "execution_count": 13,
   "id": "38414d49-ff75-4471-9203-d90a38f40a37",
   "metadata": {},
   "outputs": [
    {
     "data": {
      "text/plain": [
       "0"
      ]
     },
     "execution_count": 13,
     "metadata": {},
     "output_type": "execute_result"
    }
   ],
   "source": [
    "archive.index(1)"
   ]
  },
  {
   "cell_type": "code",
   "execution_count": 14,
   "id": "9c2eb2b1-a4e2-42cc-94ce-438c3fcd4029",
   "metadata": {},
   "outputs": [
    {
     "data": {
      "text/plain": [
       "1"
      ]
     },
     "execution_count": 14,
     "metadata": {},
     "output_type": "execute_result"
    }
   ],
   "source": [
    "archive.index(1, 1, 6)"
   ]
  },
  {
   "cell_type": "code",
   "execution_count": 15,
   "id": "11e1b1df-a11b-4032-a6f5-d94c0d148b0e",
   "metadata": {},
   "outputs": [],
   "source": [
    "#archive.index(1, 2, 6)"
   ]
  },
  {
   "cell_type": "code",
   "execution_count": 16,
   "id": "57c27d9e-97b4-489a-ac3f-36653a4c62c7",
   "metadata": {},
   "outputs": [
    {
     "data": {
      "text/plain": [
       "1"
      ]
     },
     "execution_count": 16,
     "metadata": {},
     "output_type": "execute_result"
    }
   ],
   "source": [
    "archive.count(3.14)"
   ]
  },
  {
   "cell_type": "code",
   "execution_count": 17,
   "id": "22040026-4b9d-41d8-930b-82951e171a66",
   "metadata": {},
   "outputs": [
    {
     "data": {
      "text/plain": [
       "2"
      ]
     },
     "execution_count": 17,
     "metadata": {},
     "output_type": "execute_result"
    }
   ],
   "source": [
    "archive.count(1)"
   ]
  },
  {
   "cell_type": "code",
   "execution_count": 18,
   "id": "41c4b4cd-85b2-4909-aee4-8e17d13246af",
   "metadata": {},
   "outputs": [],
   "source": [
    "archive = (1, True, 3.14, 'hello', 'hello', 'bye')"
   ]
  },
  {
   "cell_type": "code",
   "execution_count": 19,
   "id": "3ca79fcd-cbe9-4b96-b7ac-49a3a477e895",
   "metadata": {},
   "outputs": [
    {
     "name": "stdout",
     "output_type": "stream",
     "text": [
      "['__add__', '__class__', '__class_getitem__', '__contains__', '__delattr__',\n",
      " '__dir__', '__doc__', '__eq__', '__format__', '__ge__', '__getattribute__',\n",
      " '__getitem__', '__getnewargs__', '__getstate__', '__gt__', '__hash__',\n",
      " '__init__', '__init_subclass__', '__iter__', '__le__', '__len__', '__lt__',\n",
      " '__mul__', '__ne__', '__new__', '__reduce__', '__reduce_ex__', '__repr__',\n",
      " '__rmul__', '__setattr__', '__sizeof__', '__str__', '__subclasshook__',\n",
      " 'count', 'index']\n"
     ]
    }
   ],
   "source": [
    "from pprint import pprint\n",
    "pprint(dir(archive), compact=True)"
   ]
  },
  {
   "cell_type": "code",
   "execution_count": 20,
   "id": "8b0b941a-897e-4deb-a826-527575d6e5a2",
   "metadata": {},
   "outputs": [
    {
     "data": {
      "text/plain": [
       "tuple"
      ]
     },
     "execution_count": 20,
     "metadata": {},
     "output_type": "execute_result"
    }
   ],
   "source": [
    "type(archive)"
   ]
  },
  {
   "cell_type": "code",
   "execution_count": 21,
   "id": "d98331f0-5189-4dd4-9a69-e0bda6645b3d",
   "metadata": {},
   "outputs": [
    {
     "data": {
      "text/plain": [
       "1"
      ]
     },
     "execution_count": 21,
     "metadata": {},
     "output_type": "execute_result"
    }
   ],
   "source": [
    "archive[0]"
   ]
  },
  {
   "cell_type": "code",
   "execution_count": 22,
   "id": "08f8179d-77c0-4aab-9326-353b57efac89",
   "metadata": {},
   "outputs": [
    {
     "data": {
      "text/plain": [
       "(True, 3.14, 'hello')"
      ]
     },
     "execution_count": 22,
     "metadata": {},
     "output_type": "execute_result"
    }
   ],
   "source": [
    "archive[1:4]"
   ]
  },
  {
   "cell_type": "code",
   "execution_count": 23,
   "id": "079dfbf7-0dbd-4b84-be05-cb83e4f9d874",
   "metadata": {},
   "outputs": [
    {
     "data": {
      "text/plain": [
       "6"
      ]
     },
     "execution_count": 23,
     "metadata": {},
     "output_type": "execute_result"
    }
   ],
   "source": [
    "len(archive)"
   ]
  },
  {
   "cell_type": "code",
   "execution_count": 24,
   "id": "776a8374-95d4-46b4-bfc5-ef687147bf07",
   "metadata": {},
   "outputs": [
    {
     "data": {
      "text/plain": [
       "True"
      ]
     },
     "execution_count": 24,
     "metadata": {},
     "output_type": "execute_result"
    }
   ],
   "source": [
    "record2 in archive"
   ]
  },
  {
   "cell_type": "code",
   "execution_count": 25,
   "id": "9d797000-21b5-405a-830d-be35068d993f",
   "metadata": {},
   "outputs": [
    {
     "data": {
      "text/plain": [
       "<tuple_iterator at 0x204f8e29750>"
      ]
     },
     "execution_count": 25,
     "metadata": {},
     "output_type": "execute_result"
    }
   ],
   "source": [
    "forward_archive = iter(archive)\n",
    "forward_archive"
   ]
  },
  {
   "cell_type": "code",
   "execution_count": 26,
   "id": "24e74bff-9102-44f9-86c9-f0a6bacf831a",
   "metadata": {},
   "outputs": [
    {
     "data": {
      "text/plain": [
       "1"
      ]
     },
     "execution_count": 26,
     "metadata": {},
     "output_type": "execute_result"
    }
   ],
   "source": [
    "next(forward_archive)"
   ]
  },
  {
   "cell_type": "code",
   "execution_count": 27,
   "id": "e51d50dc-e066-43df-9576-3b41ee96546a",
   "metadata": {},
   "outputs": [
    {
     "data": {
      "text/plain": [
       "True"
      ]
     },
     "execution_count": 27,
     "metadata": {},
     "output_type": "execute_result"
    }
   ],
   "source": [
    "next(forward_archive)"
   ]
  },
  {
   "cell_type": "code",
   "execution_count": 28,
   "id": "a4f4f1bd-752b-421c-bf8a-c6f7f5e5c37a",
   "metadata": {},
   "outputs": [
    {
     "data": {
      "text/plain": [
       "3.14"
      ]
     },
     "execution_count": 28,
     "metadata": {},
     "output_type": "execute_result"
    }
   ],
   "source": [
    "next(forward_archive)"
   ]
  },
  {
   "cell_type": "code",
   "execution_count": 29,
   "id": "2b948af3-3643-44c4-aecd-7d0ba917864a",
   "metadata": {},
   "outputs": [
    {
     "data": {
      "text/plain": [
       "('hello', 'hello', 'bye')"
      ]
     },
     "execution_count": 29,
     "metadata": {},
     "output_type": "execute_result"
    }
   ],
   "source": [
    "tuple(forward_archive)"
   ]
  },
  {
   "cell_type": "code",
   "execution_count": 30,
   "id": "befb7c6b-7d37-47ac-b256-cd38ac766cc4",
   "metadata": {},
   "outputs": [],
   "source": [
    "backwards_archive = reversed(archive)"
   ]
  },
  {
   "cell_type": "code",
   "execution_count": 31,
   "id": "f3ad8244-b46c-4dd0-b42f-a7ebde5dc129",
   "metadata": {},
   "outputs": [
    {
     "data": {
      "text/plain": [
       "'bye'"
      ]
     },
     "execution_count": 31,
     "metadata": {},
     "output_type": "execute_result"
    }
   ],
   "source": [
    "next(backwards_archive)"
   ]
  },
  {
   "cell_type": "code",
   "execution_count": 32,
   "id": "f4dd7955-17f0-46a1-8fcc-e454e079b959",
   "metadata": {},
   "outputs": [
    {
     "data": {
      "text/plain": [
       "'hello'"
      ]
     },
     "execution_count": 32,
     "metadata": {},
     "output_type": "execute_result"
    }
   ],
   "source": [
    "next(backwards_archive)"
   ]
  },
  {
   "cell_type": "code",
   "execution_count": 33,
   "id": "2a31807d-f242-4dcb-804d-04de486da5ed",
   "metadata": {},
   "outputs": [
    {
     "data": {
      "text/plain": [
       "('hello', 3.14, True, 1)"
      ]
     },
     "execution_count": 33,
     "metadata": {},
     "output_type": "execute_result"
    }
   ],
   "source": [
    "tuple(backwards_archive)"
   ]
  },
  {
   "cell_type": "code",
   "execution_count": 34,
   "id": "5e050d9c-b6a3-4a86-8161-4122a7354f82",
   "metadata": {},
   "outputs": [
    {
     "data": {
      "text/plain": [
       "1648487503600332454"
      ]
     },
     "execution_count": 34,
     "metadata": {},
     "output_type": "execute_result"
    }
   ],
   "source": [
    "hash(archive)"
   ]
  },
  {
   "cell_type": "code",
   "execution_count": 35,
   "id": "8d1a6e6c-3f8d-4b9a-9bf2-4ac1970a6589",
   "metadata": {},
   "outputs": [],
   "source": [
    "#hash(('red', \n",
    " #     'green', \n",
    "  #    'blue', \n",
    "   #   bytearray('black', encoding='ASCII')))"
   ]
  },
  {
   "cell_type": "code",
   "execution_count": 36,
   "id": "3262c7c8-ec40-425a-9cad-b8371eea0e2b",
   "metadata": {},
   "outputs": [],
   "source": [
    "colors = {(1, 0, 0): 'red', \n",
    "          (0, 1, 0): 'green',\n",
    "          (0, 0, 1): 'blue'}"
   ]
  },
  {
   "cell_type": "code",
   "execution_count": 37,
   "id": "888e90f8-4da9-42d1-aa2e-909d9d2b79fb",
   "metadata": {},
   "outputs": [
    {
     "data": {
      "text/plain": [
       "'red'"
      ]
     },
     "execution_count": 37,
     "metadata": {},
     "output_type": "execute_result"
    }
   ],
   "source": [
    "colors[(1, 0, 0)]"
   ]
  },
  {
   "cell_type": "code",
   "execution_count": 38,
   "id": "014e343b-ff7e-467c-b3f8-624ec0aa20af",
   "metadata": {},
   "outputs": [],
   "source": [
    "colors = {('red', 'green', 'blue'): ((1, 0, 0), (0, 1, 0), (0, 0, 1))}"
   ]
  },
  {
   "cell_type": "code",
   "execution_count": 39,
   "id": "70317b1d",
   "metadata": {},
   "outputs": [
    {
     "data": {
      "text/plain": [
       "((1, 0, 0), (0, 1, 0), (0, 0, 1))"
      ]
     },
     "execution_count": 39,
     "metadata": {},
     "output_type": "execute_result"
    }
   ],
   "source": [
    "colors[('red', 'green', 'blue')]"
   ]
  },
  {
   "cell_type": "code",
   "execution_count": 40,
   "id": "d6757298-bec3-4e4f-a5fc-b0249491b578",
   "metadata": {},
   "outputs": [
    {
     "data": {
      "text/plain": [
       "\u001b[1;31mType:\u001b[0m        tuple\n",
       "\u001b[1;31mString form:\u001b[0m (1, True, 3.14, 'hello', 'hello', 'bye')\n",
       "\u001b[1;31mLength:\u001b[0m      6\n",
       "\u001b[1;31mDocstring:\u001b[0m  \n",
       "Built-in immutable sequence.\n",
       "\n",
       "If no argument is given, the constructor returns an empty tuple.\n",
       "If iterable is specified the tuple is initialized from iterable's items.\n",
       "\n",
       "If the argument is a tuple, the return value is the same object."
      ]
     },
     "metadata": {},
     "output_type": "display_data"
    }
   ],
   "source": [
    "? archive"
   ]
  },
  {
   "cell_type": "code",
   "execution_count": 41,
   "id": "16b186a9-5df9-4a38-be8d-0f86de9adc33",
   "metadata": {},
   "outputs": [
    {
     "data": {
      "text/plain": [
       "\"(1, True, 3.14, 'hello', 'hello', 'bye')\""
      ]
     },
     "execution_count": 41,
     "metadata": {},
     "output_type": "execute_result"
    }
   ],
   "source": [
    "repr(archive)"
   ]
  },
  {
   "cell_type": "code",
   "execution_count": 42,
   "id": "828690fe-966f-4aa4-81a0-14c053a4f345",
   "metadata": {},
   "outputs": [
    {
     "data": {
      "text/plain": [
       "\"(1, True, 3.14, 'hello', 'hello', 'bye')\""
      ]
     },
     "execution_count": 42,
     "metadata": {},
     "output_type": "execute_result"
    }
   ],
   "source": [
    "str(archive)"
   ]
  },
  {
   "cell_type": "code",
   "execution_count": 43,
   "id": "10fe3bae-e399-4ca2-a9dc-6dde2f20e4f4",
   "metadata": {},
   "outputs": [],
   "source": [
    "file = (r'C:\\Users\\Philip\\Documents', \n",
    "        'script0.py')"
   ]
  },
  {
   "cell_type": "code",
   "execution_count": 44,
   "id": "fe31b879-1f6b-4144-8318-90e23647c327",
   "metadata": {},
   "outputs": [
    {
     "data": {
      "text/plain": [
       "\"('C:\\\\\\\\Users\\\\\\\\Philip\\\\\\\\Documents', 'script0.py')\""
      ]
     },
     "execution_count": 44,
     "metadata": {},
     "output_type": "execute_result"
    }
   ],
   "source": [
    "str(file)"
   ]
  },
  {
   "cell_type": "code",
   "execution_count": 45,
   "id": "1e5dc414-4345-41db-8b86-aa2bd30352cc",
   "metadata": {},
   "outputs": [
    {
     "data": {
      "text/plain": [
       "\"('C:\\\\\\\\Users\\\\\\\\Philip\\\\\\\\Documents', 'script0.py')\""
      ]
     },
     "execution_count": 45,
     "metadata": {},
     "output_type": "execute_result"
    }
   ],
   "source": [
    "repr(file)"
   ]
  },
  {
   "cell_type": "code",
   "execution_count": 46,
   "id": "8e62ba0b-0072-4d50-a42b-74e3b2b24fa2",
   "metadata": {},
   "outputs": [
    {
     "data": {
      "text/plain": [
       "'C:\\\\Users\\\\Philip\\\\Documents'"
      ]
     },
     "execution_count": 46,
     "metadata": {},
     "output_type": "execute_result"
    }
   ],
   "source": [
    "str(file[0])"
   ]
  },
  {
   "cell_type": "code",
   "execution_count": 47,
   "id": "f62d0b5a-59af-453c-ba0a-e345f8eb29ce",
   "metadata": {},
   "outputs": [
    {
     "data": {
      "text/plain": [
       "\"'C:\\\\\\\\Users\\\\\\\\Philip\\\\\\\\Documents'\""
      ]
     },
     "execution_count": 47,
     "metadata": {},
     "output_type": "execute_result"
    }
   ],
   "source": [
    "repr(file[0])"
   ]
  },
  {
   "cell_type": "code",
   "execution_count": 48,
   "id": "25aa4b7f-a3f4-4cd6-b527-966fdb8e3282",
   "metadata": {},
   "outputs": [
    {
     "data": {
      "text/plain": [
       "\"The tuple is (1, True, 3.14, 'hello', 'hello', 'bye')\""
      ]
     },
     "execution_count": 48,
     "metadata": {},
     "output_type": "execute_result"
    }
   ],
   "source": [
    "f'The tuple is {archive}'"
   ]
  },
  {
   "cell_type": "code",
   "execution_count": 49,
   "id": "44d2e116-4616-4f7c-9311-0c5f7916b7be",
   "metadata": {},
   "outputs": [
    {
     "data": {
      "text/plain": [
       "88"
      ]
     },
     "execution_count": 49,
     "metadata": {},
     "output_type": "execute_result"
    }
   ],
   "source": [
    "import sys\n",
    "sys.getsizeof(archive)"
   ]
  },
  {
   "cell_type": "code",
   "execution_count": 50,
   "id": "c9f746b4-ca16-4cf4-880e-cd0a042dc93a",
   "metadata": {},
   "outputs": [],
   "source": [
    "archive1 = ('hello', 1, True)"
   ]
  },
  {
   "cell_type": "code",
   "execution_count": 51,
   "id": "128a9821-5972-422e-895b-7f5b086eae8b",
   "metadata": {},
   "outputs": [],
   "source": [
    "archive2 = ('bye', 2, False, 3.14)"
   ]
  },
  {
   "cell_type": "code",
   "execution_count": 52,
   "id": "b725bf5f-199b-4a4e-a2cc-324b8ec9fc9a",
   "metadata": {},
   "outputs": [
    {
     "data": {
      "text/plain": [
       "('hello', 1, True, 'bye', 2, False, 3.14)"
      ]
     },
     "execution_count": 52,
     "metadata": {},
     "output_type": "execute_result"
    }
   ],
   "source": [
    "archive1 + archive2"
   ]
  },
  {
   "cell_type": "code",
   "execution_count": 53,
   "id": "c1df423c-85af-4068-8bed-7c8e29e805cc",
   "metadata": {},
   "outputs": [
    {
     "data": {
      "text/plain": [
       "(1, True, 3.14, 'hello', 'hello', 'bye')"
      ]
     },
     "execution_count": 53,
     "metadata": {},
     "output_type": "execute_result"
    }
   ],
   "source": [
    "archive"
   ]
  },
  {
   "cell_type": "code",
   "execution_count": 54,
   "id": "59906673-3e9d-40c7-b254-656f9e3326c7",
   "metadata": {},
   "outputs": [
    {
     "data": {
      "text/plain": [
       "(1,\n",
       " True,\n",
       " 3.14,\n",
       " 'hello',\n",
       " 'hello',\n",
       " 'bye',\n",
       " 1,\n",
       " True,\n",
       " 3.14,\n",
       " 'hello',\n",
       " 'hello',\n",
       " 'bye',\n",
       " 1,\n",
       " True,\n",
       " 3.14,\n",
       " 'hello',\n",
       " 'hello',\n",
       " 'bye')"
      ]
     },
     "execution_count": 54,
     "metadata": {},
     "output_type": "execute_result"
    }
   ],
   "source": [
    "archive * 3"
   ]
  },
  {
   "cell_type": "code",
   "execution_count": 55,
   "id": "81ed03b2-8543-415a-a9bb-6d9dc2003f72",
   "metadata": {},
   "outputs": [
    {
     "data": {
      "text/plain": [
       "(1,\n",
       " True,\n",
       " 3.14,\n",
       " 'hello',\n",
       " 'hello',\n",
       " 'bye',\n",
       " 1,\n",
       " True,\n",
       " 3.14,\n",
       " 'hello',\n",
       " 'hello',\n",
       " 'bye',\n",
       " 1,\n",
       " True,\n",
       " 3.14,\n",
       " 'hello',\n",
       " 'hello',\n",
       " 'bye')"
      ]
     },
     "execution_count": 55,
     "metadata": {},
     "output_type": "execute_result"
    }
   ],
   "source": [
    "3 * archive"
   ]
  },
  {
   "cell_type": "code",
   "execution_count": 56,
   "id": "be896a33-1483-447c-a2c6-d46bb4ecc8fc",
   "metadata": {},
   "outputs": [
    {
     "data": {
      "text/plain": [
       "False"
      ]
     },
     "execution_count": 56,
     "metadata": {},
     "output_type": "execute_result"
    }
   ],
   "source": [
    "('red', 'green', 'blue') == ('red', 'green', 'yellow')"
   ]
  },
  {
   "cell_type": "code",
   "execution_count": 57,
   "id": "66bf6833-3c73-4b19-92cc-995a591310a3",
   "metadata": {},
   "outputs": [
    {
     "data": {
      "text/plain": [
       "True"
      ]
     },
     "execution_count": 57,
     "metadata": {},
     "output_type": "execute_result"
    }
   ],
   "source": [
    "('red' == 'red') #equal→check next records"
   ]
  },
  {
   "cell_type": "code",
   "execution_count": 58,
   "id": "cd773e35-f6b9-4218-932b-c5b044c7f81f",
   "metadata": {},
   "outputs": [
    {
     "data": {
      "text/plain": [
       "True"
      ]
     },
     "execution_count": 58,
     "metadata": {},
     "output_type": "execute_result"
    }
   ],
   "source": [
    "('green' == 'green') #equal→check next records"
   ]
  },
  {
   "cell_type": "code",
   "execution_count": 59,
   "id": "5f7891b3-0f25-426a-bdfd-effbdc9c9581",
   "metadata": {},
   "outputs": [
    {
     "data": {
      "text/plain": [
       "False"
      ]
     },
     "execution_count": 59,
     "metadata": {},
     "output_type": "execute_result"
    }
   ],
   "source": [
    "('blue' == 'yellow') #different→not equal"
   ]
  },
  {
   "cell_type": "code",
   "execution_count": 60,
   "id": "c31de131-9511-4690-af56-8bb1d75dd203",
   "metadata": {},
   "outputs": [
    {
     "data": {
      "text/plain": [
       "False"
      ]
     },
     "execution_count": 60,
     "metadata": {},
     "output_type": "execute_result"
    }
   ],
   "source": [
    "('red', 'green', 'blue') > ('red', 'yellow')"
   ]
  },
  {
   "cell_type": "code",
   "execution_count": 61,
   "id": "613a70f7-b86f-4956-9e80-0b0ee1ec2b05",
   "metadata": {},
   "outputs": [
    {
     "data": {
      "text/plain": [
       "True"
      ]
     },
     "execution_count": 61,
     "metadata": {},
     "output_type": "execute_result"
    }
   ],
   "source": [
    "('red', 'green', 'blue') > ('red', 'green')"
   ]
  },
  {
   "cell_type": "code",
   "execution_count": 62,
   "id": "b5ecc488-3c39-4f81-81f1-fb6ffadae4ec",
   "metadata": {},
   "outputs": [
    {
     "data": {
      "text/plain": [
       "False"
      ]
     },
     "execution_count": 62,
     "metadata": {},
     "output_type": "execute_result"
    }
   ],
   "source": [
    "(1, 5, 9) > (1, 7)"
   ]
  },
  {
   "cell_type": "code",
   "execution_count": 63,
   "id": "0d44e622-e768-445f-836a-7d7a787a806c",
   "metadata": {},
   "outputs": [
    {
     "data": {
      "text/plain": [
       "False"
      ]
     },
     "execution_count": 63,
     "metadata": {},
     "output_type": "execute_result"
    }
   ],
   "source": [
    "(1, 'hello', 2) > (1, 'hello', 3)"
   ]
  },
  {
   "cell_type": "code",
   "execution_count": 64,
   "id": "b378081f-45cd-4441-81d5-8ef656521910",
   "metadata": {},
   "outputs": [],
   "source": [
    "student1 = ('James', 'Smith', 31, 'M')"
   ]
  },
  {
   "cell_type": "code",
   "execution_count": 65,
   "id": "660f7f4a-bcda-4ef5-86c8-558dfedb3952",
   "metadata": {},
   "outputs": [],
   "source": [
    "student2 = ('Lucie', 'Brown', 32, 'F')"
   ]
  },
  {
   "cell_type": "code",
   "execution_count": 66,
   "id": "1cb83e71-e241-4822-b48f-34609b83ea2f",
   "metadata": {},
   "outputs": [
    {
     "data": {
      "text/plain": [
       "False"
      ]
     },
     "execution_count": 66,
     "metadata": {},
     "output_type": "execute_result"
    }
   ],
   "source": [
    "student1 > student2"
   ]
  },
  {
   "cell_type": "code",
   "execution_count": 67,
   "id": "5c291378-5f79-4183-94a4-e1c5ff3f5665",
   "metadata": {},
   "outputs": [],
   "source": [
    "#(1, 'hello', 2) > (1, 'hello', 'three')"
   ]
  },
  {
   "cell_type": "code",
   "execution_count": 68,
   "id": "3acec2c4-5fcb-4f4e-96a9-2ece15810d30",
   "metadata": {},
   "outputs": [],
   "source": [
    "x = 1\n",
    "y = 2"
   ]
  },
  {
   "cell_type": "code",
   "execution_count": 69,
   "id": "11262933-0e4c-45fb-a52a-8e4e297be0da",
   "metadata": {},
   "outputs": [],
   "source": [
    "xold = x"
   ]
  },
  {
   "cell_type": "code",
   "execution_count": 70,
   "id": "04cc6d75-ff9e-40dd-98bf-1aa7ba649cc0",
   "metadata": {},
   "outputs": [],
   "source": [
    "x = y"
   ]
  },
  {
   "cell_type": "code",
   "execution_count": 71,
   "id": "c777a620-110e-497c-8c80-a676005de0ed",
   "metadata": {},
   "outputs": [],
   "source": [
    "y = xold"
   ]
  },
  {
   "cell_type": "code",
   "execution_count": 72,
   "id": "79635f51-fc53-44b0-9edf-a73fcb282e01",
   "metadata": {},
   "outputs": [],
   "source": [
    "del xold"
   ]
  },
  {
   "cell_type": "code",
   "execution_count": 73,
   "id": "1291b80c-0b55-48c7-a1e4-8c792a9b5b99",
   "metadata": {},
   "outputs": [
    {
     "data": {
      "text/plain": [
       "2"
      ]
     },
     "execution_count": 73,
     "metadata": {},
     "output_type": "execute_result"
    }
   ],
   "source": [
    "x"
   ]
  },
  {
   "cell_type": "code",
   "execution_count": 74,
   "id": "d6ead344-9883-46d9-8f69-1178929d0bee",
   "metadata": {},
   "outputs": [
    {
     "data": {
      "text/plain": [
       "1"
      ]
     },
     "execution_count": 74,
     "metadata": {},
     "output_type": "execute_result"
    }
   ],
   "source": [
    "y"
   ]
  },
  {
   "cell_type": "code",
   "execution_count": 75,
   "id": "2f9c7e5e-33bb-4d01-8ceb-615e171a59e9",
   "metadata": {},
   "outputs": [
    {
     "data": {
      "text/plain": [
       "2"
      ]
     },
     "execution_count": 75,
     "metadata": {},
     "output_type": "execute_result"
    }
   ],
   "source": [
    "x"
   ]
  },
  {
   "cell_type": "code",
   "execution_count": 76,
   "id": "8a63dcd5-7418-4334-a6ab-57c576b7c0f8",
   "metadata": {},
   "outputs": [
    {
     "data": {
      "text/plain": [
       "1"
      ]
     },
     "execution_count": 76,
     "metadata": {},
     "output_type": "execute_result"
    }
   ],
   "source": [
    "y"
   ]
  },
  {
   "cell_type": "code",
   "execution_count": 77,
   "id": "99135ed6-5f9a-4211-8379-992d2f94a558",
   "metadata": {},
   "outputs": [],
   "source": [
    "(x, y) = (y, x)"
   ]
  },
  {
   "cell_type": "code",
   "execution_count": 78,
   "id": "e1d15672-493e-45a7-8d6f-7c36ce621d07",
   "metadata": {},
   "outputs": [
    {
     "data": {
      "text/plain": [
       "1"
      ]
     },
     "execution_count": 78,
     "metadata": {},
     "output_type": "execute_result"
    }
   ],
   "source": [
    "x"
   ]
  },
  {
   "cell_type": "code",
   "execution_count": 79,
   "id": "6931ddda-f183-4b7d-81f9-f94f8e43108c",
   "metadata": {},
   "outputs": [
    {
     "data": {
      "text/plain": [
       "2"
      ]
     },
     "execution_count": 79,
     "metadata": {},
     "output_type": "execute_result"
    }
   ],
   "source": [
    "y"
   ]
  },
  {
   "cell_type": "code",
   "execution_count": 80,
   "id": "621298ca-8432-4dd7-8011-25d695b9d500",
   "metadata": {},
   "outputs": [
    {
     "data": {
      "text/plain": [
       "1"
      ]
     },
     "execution_count": 80,
     "metadata": {},
     "output_type": "execute_result"
    }
   ],
   "source": [
    "x"
   ]
  },
  {
   "cell_type": "code",
   "execution_count": 81,
   "id": "dad2521f-c68b-4dd0-977d-c43d78786a84",
   "metadata": {},
   "outputs": [
    {
     "data": {
      "text/plain": [
       "2"
      ]
     },
     "execution_count": 81,
     "metadata": {},
     "output_type": "execute_result"
    }
   ],
   "source": [
    "y"
   ]
  },
  {
   "cell_type": "code",
   "execution_count": 82,
   "id": "72a3844b-12b9-4bc3-b79a-8699609102a0",
   "metadata": {},
   "outputs": [],
   "source": [
    "x, y = y, x"
   ]
  },
  {
   "cell_type": "code",
   "execution_count": 83,
   "id": "c06cf11e-c0ff-4166-99e1-1fe546df9a3d",
   "metadata": {},
   "outputs": [
    {
     "data": {
      "text/plain": [
       "2"
      ]
     },
     "execution_count": 83,
     "metadata": {},
     "output_type": "execute_result"
    }
   ],
   "source": [
    "x"
   ]
  },
  {
   "cell_type": "code",
   "execution_count": 84,
   "id": "06fc609b-0aaa-4a16-97a3-c08049b66d0d",
   "metadata": {},
   "outputs": [
    {
     "data": {
      "text/plain": [
       "1"
      ]
     },
     "execution_count": 84,
     "metadata": {},
     "output_type": "execute_result"
    }
   ],
   "source": [
    "y"
   ]
  },
  {
   "cell_type": "code",
   "execution_count": 85,
   "id": "c238ada2-bef7-4b99-82ee-da01ec54d0ab",
   "metadata": {},
   "outputs": [
    {
     "data": {
      "text/plain": [
       "2"
      ]
     },
     "execution_count": 85,
     "metadata": {},
     "output_type": "execute_result"
    }
   ],
   "source": [
    "x"
   ]
  },
  {
   "cell_type": "code",
   "execution_count": 86,
   "id": "f9ca7be3-3ad3-4bfa-9698-8909cdaf2c77",
   "metadata": {},
   "outputs": [
    {
     "data": {
      "text/plain": [
       "1"
      ]
     },
     "execution_count": 86,
     "metadata": {},
     "output_type": "execute_result"
    }
   ],
   "source": [
    "y"
   ]
  },
  {
   "cell_type": "code",
   "execution_count": 87,
   "id": "a71cb116-2a89-4b44-9bb8-ab697bda4337",
   "metadata": {},
   "outputs": [
    {
     "data": {
      "text/plain": [
       "(2, 1)"
      ]
     },
     "execution_count": 87,
     "metadata": {},
     "output_type": "execute_result"
    }
   ],
   "source": [
    "x, y"
   ]
  },
  {
   "cell_type": "code",
   "execution_count": 88,
   "id": "b72c9793-4a93-4386-b230-f5b132de1b0b",
   "metadata": {},
   "outputs": [],
   "source": [
    "def fun():\n",
    "   return ('a', 'b')"
   ]
  },
  {
   "cell_type": "code",
   "execution_count": 89,
   "id": "76577334-24fa-49e4-85d3-e46b14c0a12a",
   "metadata": {},
   "outputs": [
    {
     "data": {
      "text/plain": [
       "('a', 'b')"
      ]
     },
     "execution_count": 89,
     "metadata": {},
     "output_type": "execute_result"
    }
   ],
   "source": [
    "fun()"
   ]
  },
  {
   "cell_type": "code",
   "execution_count": 90,
   "id": "0ef17a8b-6ba3-4e17-858d-ff1b2e19e671",
   "metadata": {},
   "outputs": [],
   "source": [
    "(x, y) = fun()"
   ]
  },
  {
   "cell_type": "code",
   "execution_count": 91,
   "id": "1c3c5445-7adc-4bf2-aca3-3085b58ed164",
   "metadata": {},
   "outputs": [
    {
     "data": {
      "text/plain": [
       "'a'"
      ]
     },
     "execution_count": 91,
     "metadata": {},
     "output_type": "execute_result"
    }
   ],
   "source": [
    "x"
   ]
  },
  {
   "cell_type": "code",
   "execution_count": 92,
   "id": "6e001e21-f59e-4c8b-a587-4fb718ba72b5",
   "metadata": {},
   "outputs": [
    {
     "data": {
      "text/plain": [
       "'b'"
      ]
     },
     "execution_count": 92,
     "metadata": {},
     "output_type": "execute_result"
    }
   ],
   "source": [
    "y"
   ]
  },
  {
   "cell_type": "code",
   "execution_count": 93,
   "id": "dd82d23e-1c7c-4385-92b3-79498cc86a8d",
   "metadata": {},
   "outputs": [],
   "source": [
    "y, x = fun()"
   ]
  },
  {
   "cell_type": "code",
   "execution_count": 94,
   "id": "a172b35b-5101-45ce-ada2-3618725829ee",
   "metadata": {},
   "outputs": [
    {
     "data": {
      "text/plain": [
       "'b'"
      ]
     },
     "execution_count": 94,
     "metadata": {},
     "output_type": "execute_result"
    }
   ],
   "source": [
    "x"
   ]
  },
  {
   "cell_type": "code",
   "execution_count": 95,
   "id": "0bfbc547-9072-4439-adc7-24ad4151320d",
   "metadata": {},
   "outputs": [
    {
     "data": {
      "text/plain": [
       "'a'"
      ]
     },
     "execution_count": 95,
     "metadata": {},
     "output_type": "execute_result"
    }
   ],
   "source": [
    "y"
   ]
  },
  {
   "cell_type": "code",
   "execution_count": 96,
   "id": "486234d0-7ff3-436c-8cec-4d7d4d3413d7",
   "metadata": {},
   "outputs": [],
   "source": [
    "def fun():\n",
    "   return 'a', 'b'"
   ]
  },
  {
   "cell_type": "code",
   "execution_count": 97,
   "id": "09b366c6-ac1d-4e08-8b44-342b60b52bc2",
   "metadata": {},
   "outputs": [],
   "source": [
    "x, y = fun()"
   ]
  },
  {
   "cell_type": "code",
   "execution_count": 98,
   "id": "26d2fbb6-9044-4613-b5e4-ecaee6772615",
   "metadata": {},
   "outputs": [
    {
     "data": {
      "text/plain": [
       "'a'"
      ]
     },
     "execution_count": 98,
     "metadata": {},
     "output_type": "execute_result"
    }
   ],
   "source": [
    "x"
   ]
  },
  {
   "cell_type": "code",
   "execution_count": 99,
   "id": "b0325449-28d9-4276-897d-c23a1612ab2b",
   "metadata": {},
   "outputs": [
    {
     "data": {
      "text/plain": [
       "'b'"
      ]
     },
     "execution_count": 99,
     "metadata": {},
     "output_type": "execute_result"
    }
   ],
   "source": [
    "y"
   ]
  },
  {
   "cell_type": "code",
   "execution_count": 100,
   "id": "77fbc4f0-06d3-44bc-b889-651d26868711",
   "metadata": {},
   "outputs": [],
   "source": [
    "archive = (1, True, 3.14, 'hello', 'hello', 'bye')"
   ]
  },
  {
   "cell_type": "code",
   "execution_count": 101,
   "id": "db3c0ac2-6907-4820-8dce-f0b9b637c867",
   "metadata": {},
   "outputs": [],
   "source": [
    "active = list(archive)"
   ]
  },
  {
   "cell_type": "code",
   "execution_count": 102,
   "id": "c5dd978a-0618-4951-b564-1a11281d0749",
   "metadata": {},
   "outputs": [
    {
     "data": {
      "text/plain": [
       "[1, True, 3.14, 'hello', 'hello', 'bye']"
      ]
     },
     "execution_count": 102,
     "metadata": {},
     "output_type": "execute_result"
    }
   ],
   "source": [
    "active"
   ]
  },
  {
   "cell_type": "code",
   "execution_count": 103,
   "id": "ad96fc46-91b4-4ca6-8ab5-1d85803870dd",
   "metadata": {},
   "outputs": [],
   "source": [
    "active = [1, True, 3.14, 'hello', 'hello', 'bye']"
   ]
  },
  {
   "cell_type": "code",
   "execution_count": 104,
   "id": "b8d9f06f-b14c-4f4c-81e4-e19101f9148f",
   "metadata": {},
   "outputs": [],
   "source": [
    "active = [1, True, 3.14, 'hello', 'hello', 'bye']"
   ]
  },
  {
   "cell_type": "code",
   "execution_count": 105,
   "id": "bfe639a5-9ba7-4b59-8b32-e3f060879fb6",
   "metadata": {},
   "outputs": [],
   "source": [
    "#active.sort()"
   ]
  },
  {
   "cell_type": "code",
   "execution_count": 106,
   "id": "5acd8390-4f67-4c4f-861f-3fa78b0dcd08",
   "metadata": {},
   "outputs": [],
   "source": [
    "active.sort(key=str)"
   ]
  },
  {
   "cell_type": "code",
   "execution_count": 107,
   "id": "315d8728-efaf-4433-96b9-c350dd9bee8c",
   "metadata": {},
   "outputs": [
    {
     "data": {
      "text/plain": [
       "49"
      ]
     },
     "execution_count": 107,
     "metadata": {},
     "output_type": "execute_result"
    }
   ],
   "source": [
    "ord('1')"
   ]
  },
  {
   "cell_type": "code",
   "execution_count": 108,
   "id": "bc5d40ac-68dc-4c07-a554-46be7a683fe8",
   "metadata": {},
   "outputs": [
    {
     "data": {
      "text/plain": [
       "51"
      ]
     },
     "execution_count": 108,
     "metadata": {},
     "output_type": "execute_result"
    }
   ],
   "source": [
    "ord('3')"
   ]
  },
  {
   "cell_type": "code",
   "execution_count": 109,
   "id": "3d50fc92-a01b-4dab-b119-76173e6abf12",
   "metadata": {},
   "outputs": [
    {
     "data": {
      "text/plain": [
       "84"
      ]
     },
     "execution_count": 109,
     "metadata": {},
     "output_type": "execute_result"
    }
   ],
   "source": [
    "ord('T')"
   ]
  },
  {
   "cell_type": "code",
   "execution_count": 110,
   "id": "b8d375ef-46c0-4f15-bc0d-89473ceb2204",
   "metadata": {},
   "outputs": [
    {
     "data": {
      "text/plain": [
       "104"
      ]
     },
     "execution_count": 110,
     "metadata": {},
     "output_type": "execute_result"
    }
   ],
   "source": [
    "ord('h')"
   ]
  },
  {
   "cell_type": "code",
   "execution_count": 111,
   "id": "c733aadb-a58a-49a9-9116-da0325edffd4",
   "metadata": {},
   "outputs": [],
   "source": [
    "active.reverse()"
   ]
  },
  {
   "cell_type": "code",
   "execution_count": 112,
   "id": "d63b499a-47f8-48d0-992f-7a6765fc565c",
   "metadata": {},
   "outputs": [],
   "source": [
    "active.append('world')"
   ]
  },
  {
   "cell_type": "code",
   "execution_count": 113,
   "id": "2541c88f-46b9-4399-9734-6ff142b55b15",
   "metadata": {},
   "outputs": [],
   "source": [
    "active2 = ['a', 'b', 'c']"
   ]
  },
  {
   "cell_type": "code",
   "execution_count": 114,
   "id": "1202983e-0cd3-43ca-8a39-cfd9117a16e8",
   "metadata": {},
   "outputs": [],
   "source": [
    "active.append(active2)"
   ]
  },
  {
   "cell_type": "code",
   "execution_count": 115,
   "id": "bdf57a48-57c4-45d2-8da7-6f1a94772b2d",
   "metadata": {},
   "outputs": [
    {
     "data": {
      "text/plain": [
       "True"
      ]
     },
     "execution_count": 115,
     "metadata": {},
     "output_type": "execute_result"
    }
   ],
   "source": [
    "active[7] == active2"
   ]
  },
  {
   "cell_type": "code",
   "execution_count": 116,
   "id": "84e42b13-2dc2-4ff2-8df0-7c9a08080dc6",
   "metadata": {},
   "outputs": [
    {
     "data": {
      "text/plain": [
       "True"
      ]
     },
     "execution_count": 116,
     "metadata": {},
     "output_type": "execute_result"
    }
   ],
   "source": [
    "active[7] is active2"
   ]
  },
  {
   "cell_type": "code",
   "execution_count": 117,
   "id": "09203e02-b426-418d-a5ce-0fbde6061c0f",
   "metadata": {},
   "outputs": [
    {
     "data": {
      "text/plain": [
       "False"
      ]
     },
     "execution_count": 117,
     "metadata": {},
     "output_type": "execute_result"
    }
   ],
   "source": [
    "'a' in active"
   ]
  },
  {
   "cell_type": "code",
   "execution_count": 118,
   "id": "ae175fdd-de38-4884-8657-8a471244c48a",
   "metadata": {},
   "outputs": [
    {
     "data": {
      "text/plain": [
       "True"
      ]
     },
     "execution_count": 118,
     "metadata": {},
     "output_type": "execute_result"
    }
   ],
   "source": [
    "active2 in active"
   ]
  },
  {
   "cell_type": "code",
   "execution_count": 119,
   "id": "9c11e4c0-630c-433d-8750-6f9b87f2e117",
   "metadata": {},
   "outputs": [
    {
     "data": {
      "text/plain": [
       "True"
      ]
     },
     "execution_count": 119,
     "metadata": {},
     "output_type": "execute_result"
    }
   ],
   "source": [
    "['a', 'b', 'c'] in active"
   ]
  },
  {
   "cell_type": "code",
   "execution_count": 120,
   "id": "8882eeed-0869-4c45-8691-36427a6e2380",
   "metadata": {},
   "outputs": [
    {
     "data": {
      "text/plain": [
       "['a', 'b', 'c']"
      ]
     },
     "execution_count": 120,
     "metadata": {},
     "output_type": "execute_result"
    }
   ],
   "source": [
    "active[7]"
   ]
  },
  {
   "cell_type": "code",
   "execution_count": 121,
   "id": "f6e9a9fa-61b4-41bf-9b67-5abfa4cd0fb6",
   "metadata": {},
   "outputs": [
    {
     "data": {
      "text/plain": [
       "'b'"
      ]
     },
     "execution_count": 121,
     "metadata": {},
     "output_type": "execute_result"
    }
   ],
   "source": [
    "active2[1]"
   ]
  },
  {
   "cell_type": "code",
   "execution_count": 122,
   "id": "3b3d0658-25c6-4d1d-a707-93908a515210",
   "metadata": {},
   "outputs": [
    {
     "data": {
      "text/plain": [
       "'b'"
      ]
     },
     "execution_count": 122,
     "metadata": {},
     "output_type": "execute_result"
    }
   ],
   "source": [
    "active[7][1]"
   ]
  },
  {
   "cell_type": "code",
   "execution_count": 123,
   "id": "eb90095c-ab98-49f8-a16e-61bda6e942f2",
   "metadata": {},
   "outputs": [],
   "source": [
    "active.extend(active2)"
   ]
  },
  {
   "cell_type": "code",
   "execution_count": 124,
   "id": "c06eb01b-33d3-453a-938b-d11be96a6a5b",
   "metadata": {},
   "outputs": [
    {
     "data": {
      "text/plain": [
       "True"
      ]
     },
     "execution_count": 124,
     "metadata": {},
     "output_type": "execute_result"
    }
   ],
   "source": [
    "'a' in active"
   ]
  },
  {
   "cell_type": "code",
   "execution_count": 125,
   "id": "1fff3635-d783-4402-a384-5bdf4b64de17",
   "metadata": {},
   "outputs": [
    {
     "data": {
      "text/plain": [
       "11"
      ]
     },
     "execution_count": 125,
     "metadata": {},
     "output_type": "execute_result"
    }
   ],
   "source": [
    "len(active)"
   ]
  },
  {
   "cell_type": "code",
   "execution_count": 126,
   "id": "a4e1ba95-ada7-4240-ae78-35468b9c33ba",
   "metadata": {},
   "outputs": [],
   "source": [
    "active.insert(1, active2)"
   ]
  },
  {
   "cell_type": "code",
   "execution_count": 127,
   "id": "6138f5da-8866-41bb-91f5-728a4bbd4652",
   "metadata": {},
   "outputs": [
    {
     "data": {
      "text/plain": [
       "'c'"
      ]
     },
     "execution_count": 127,
     "metadata": {},
     "output_type": "execute_result"
    }
   ],
   "source": [
    "active.pop()"
   ]
  },
  {
   "cell_type": "code",
   "execution_count": 128,
   "id": "b240cd76-2887-42b2-935e-96ca06f46f11",
   "metadata": {},
   "outputs": [
    {
     "data": {
      "text/plain": [
       "'hello'"
      ]
     },
     "execution_count": 128,
     "metadata": {},
     "output_type": "execute_result"
    }
   ],
   "source": [
    "active.pop(2)"
   ]
  },
  {
   "cell_type": "code",
   "execution_count": 129,
   "id": "42946eb1-d825-4503-8f77-556a1fa6885c",
   "metadata": {},
   "outputs": [],
   "source": [
    "active.remove(active2)"
   ]
  },
  {
   "cell_type": "code",
   "execution_count": 130,
   "id": "53308701-12a7-4c6f-9a15-d6a8334c0521",
   "metadata": {},
   "outputs": [],
   "source": [
    "active.clear()"
   ]
  },
  {
   "cell_type": "code",
   "execution_count": 131,
   "id": "ce5ec346-a399-4940-981d-de8eb12c882d",
   "metadata": {},
   "outputs": [],
   "source": [
    "active = [1, True, 3.14, 'hello', 'hello', 'bye']"
   ]
  },
  {
   "cell_type": "code",
   "execution_count": 132,
   "id": "4171242c-af63-4e17-8d27-e047deeb6b7e",
   "metadata": {},
   "outputs": [
    {
     "name": "stdout",
     "output_type": "stream",
     "text": [
      "['__add__', '__class__', '__class_getitem__', '__contains__', '__delattr__',\n",
      " '__delitem__', '__dir__', '__doc__', '__eq__', '__format__', '__ge__',\n",
      " '__getattribute__', '__getitem__', '__getstate__', '__gt__', '__hash__',\n",
      " '__iadd__', '__imul__', '__init__', '__init_subclass__', '__iter__', '__le__',\n",
      " '__len__', '__lt__', '__mul__', '__ne__', '__new__', '__reduce__',\n",
      " '__reduce_ex__', '__repr__', '__reversed__', '__rmul__', '__setattr__',\n",
      " '__setitem__', '__sizeof__', '__str__', '__subclasshook__', 'append', 'clear',\n",
      " 'copy', 'count', 'extend', 'index', 'insert', 'pop', 'remove', 'reverse',\n",
      " 'sort']\n"
     ]
    }
   ],
   "source": [
    "from pprint import pprint\n",
    "pprint(dir(active), compact=True)"
   ]
  },
  {
   "cell_type": "code",
   "execution_count": 133,
   "id": "878e1a3a-86c4-4d0d-8507-b25bb809f3a6",
   "metadata": {},
   "outputs": [],
   "source": [
    "#hash(active)"
   ]
  },
  {
   "cell_type": "code",
   "execution_count": 134,
   "id": "2496721e-2c00-43a5-af7e-819d52fdbd7b",
   "metadata": {},
   "outputs": [
    {
     "data": {
      "text/plain": [
       "'hello'"
      ]
     },
     "execution_count": 134,
     "metadata": {},
     "output_type": "execute_result"
    }
   ],
   "source": [
    "active[3]"
   ]
  },
  {
   "cell_type": "code",
   "execution_count": 135,
   "id": "f947daae-23f5-4756-bb9a-f72a6db3f370",
   "metadata": {},
   "outputs": [],
   "source": [
    "active[3] = 'hi'"
   ]
  },
  {
   "cell_type": "code",
   "execution_count": 136,
   "id": "3c7cd648-9529-4460-bdd7-f3ad20ce5041",
   "metadata": {},
   "outputs": [],
   "source": [
    "del active[3]"
   ]
  },
  {
   "cell_type": "code",
   "execution_count": 137,
   "id": "0bc06a6c-f9c6-4f44-ba0a-61225174b890",
   "metadata": {},
   "outputs": [],
   "source": [
    "from copy import deepcopy\n",
    "active1 = [1, 2, 3, 4]\n",
    "active2 = ['a', 'b', 'c', active1]\n",
    "active3 = active2\n",
    "active4 = active2.copy()\n",
    "active5 = deepcopy(active2)"
   ]
  },
  {
   "cell_type": "code",
   "execution_count": 138,
   "id": "553cdb7f-6195-4f6c-b862-43b9041b8e76",
   "metadata": {},
   "outputs": [],
   "source": [
    "active4[3][1] = 'f'"
   ]
  },
  {
   "cell_type": "code",
   "execution_count": 139,
   "id": "187b6a9e-427f-42b5-a2ee-bf51db2b3754",
   "metadata": {},
   "outputs": [],
   "source": [
    "active4[1] = 'g'"
   ]
  },
  {
   "cell_type": "code",
   "execution_count": 140,
   "id": "e1d3dd91-a891-4043-a73e-5b82751a2392",
   "metadata": {},
   "outputs": [],
   "source": [
    "active3[2] = 'h'"
   ]
  },
  {
   "cell_type": "code",
   "execution_count": 141,
   "id": "87544942-0b7d-4022-a9e4-0662ece80e32",
   "metadata": {},
   "outputs": [],
   "source": [
    "active1 = [1, 2, 3, 4]\n",
    "active2 = ['a', 'b', 'c', active1]\n",
    "active3 = active2\n",
    "active4 = active2.copy()\n",
    "active5 = deepcopy(active2)"
   ]
  },
  {
   "cell_type": "code",
   "execution_count": 142,
   "id": "3668ab75-4ff5-4403-9cb2-ecd28cc986b4",
   "metadata": {},
   "outputs": [
    {
     "data": {
      "text/plain": [
       "True"
      ]
     },
     "execution_count": 142,
     "metadata": {},
     "output_type": "execute_result"
    }
   ],
   "source": [
    "active1 is active2[3]"
   ]
  },
  {
   "cell_type": "code",
   "execution_count": 143,
   "id": "4e64cad3-4a10-4850-916d-f7140b9a3a89",
   "metadata": {},
   "outputs": [
    {
     "data": {
      "text/plain": [
       "True"
      ]
     },
     "execution_count": 143,
     "metadata": {},
     "output_type": "execute_result"
    }
   ],
   "source": [
    "active1 is active3[3]"
   ]
  },
  {
   "cell_type": "code",
   "execution_count": 144,
   "id": "b794c159-2732-4c7f-a733-dbb58f1ae53f",
   "metadata": {},
   "outputs": [
    {
     "data": {
      "text/plain": [
       "True"
      ]
     },
     "execution_count": 144,
     "metadata": {},
     "output_type": "execute_result"
    }
   ],
   "source": [
    "active1 is active4[3]"
   ]
  },
  {
   "cell_type": "code",
   "execution_count": 145,
   "id": "34140892-2df5-43c1-a621-68b151a6989b",
   "metadata": {},
   "outputs": [
    {
     "data": {
      "text/plain": [
       "False"
      ]
     },
     "execution_count": 145,
     "metadata": {},
     "output_type": "execute_result"
    }
   ],
   "source": [
    "active1 is active5[3]"
   ]
  },
  {
   "cell_type": "code",
   "execution_count": 146,
   "id": "16391534-66ec-43c4-9360-fa3e7104a34f",
   "metadata": {},
   "outputs": [
    {
     "data": {
      "text/plain": [
       "True"
      ]
     },
     "execution_count": 146,
     "metadata": {},
     "output_type": "execute_result"
    }
   ],
   "source": [
    "active1 == active5[3]"
   ]
  },
  {
   "cell_type": "code",
   "execution_count": 147,
   "id": "551288c4-9e24-4545-a948-815445096323",
   "metadata": {},
   "outputs": [
    {
     "data": {
      "text/plain": [
       "True"
      ]
     },
     "execution_count": 147,
     "metadata": {},
     "output_type": "execute_result"
    }
   ],
   "source": [
    "active2 is active3"
   ]
  },
  {
   "cell_type": "code",
   "execution_count": 148,
   "id": "31fcb3d6-6ce1-4e9a-8924-3eedd029000a",
   "metadata": {},
   "outputs": [
    {
     "data": {
      "text/plain": [
       "False"
      ]
     },
     "execution_count": 148,
     "metadata": {},
     "output_type": "execute_result"
    }
   ],
   "source": [
    "active2 is active4"
   ]
  },
  {
   "cell_type": "code",
   "execution_count": 149,
   "id": "ca940472-c854-48d5-a77f-05c929f4aff2",
   "metadata": {},
   "outputs": [
    {
     "data": {
      "text/plain": [
       "True"
      ]
     },
     "execution_count": 149,
     "metadata": {},
     "output_type": "execute_result"
    }
   ],
   "source": [
    "active2 == active4"
   ]
  },
  {
   "cell_type": "code",
   "execution_count": 150,
   "id": "ef2e2566-f0d5-42c0-a4c3-d10458a88e09",
   "metadata": {},
   "outputs": [
    {
     "data": {
      "text/plain": [
       "False"
      ]
     },
     "execution_count": 150,
     "metadata": {},
     "output_type": "execute_result"
    }
   ],
   "source": [
    "active2 is active5"
   ]
  },
  {
   "cell_type": "code",
   "execution_count": 151,
   "id": "1180dd66-c71b-41cc-837a-17c0b6bfa1d7",
   "metadata": {},
   "outputs": [
    {
     "data": {
      "text/plain": [
       "True"
      ]
     },
     "execution_count": 151,
     "metadata": {},
     "output_type": "execute_result"
    }
   ],
   "source": [
    "active2 == active5"
   ]
  },
  {
   "cell_type": "code",
   "execution_count": 152,
   "id": "f4dbfbbc-39cc-47dc-b6e7-082557d45bdd",
   "metadata": {},
   "outputs": [],
   "source": [
    "archive1 = (1, 2, 3, 4, 5)"
   ]
  },
  {
   "cell_type": "code",
   "execution_count": 153,
   "id": "1faf5581-09e9-4ce7-9148-226cc09166b9",
   "metadata": {},
   "outputs": [
    {
     "data": {
      "text/plain": [
       "(1, 2, 3, 4, 5)"
      ]
     },
     "execution_count": 153,
     "metadata": {},
     "output_type": "execute_result"
    }
   ],
   "source": [
    "archive1"
   ]
  },
  {
   "cell_type": "code",
   "execution_count": 154,
   "id": "74ec72de-57d6-42c7-a865-8c3f1c2524d3",
   "metadata": {},
   "outputs": [],
   "source": [
    "archive1 = ('a', 'b', 'c', 'd', 'e')"
   ]
  },
  {
   "cell_type": "code",
   "execution_count": 155,
   "id": "fa3bcfb3-1cac-427c-b225-8cfe60ffb4fd",
   "metadata": {},
   "outputs": [
    {
     "data": {
      "text/plain": [
       "('a', 'b', 'c', 'd', 'e')"
      ]
     },
     "execution_count": 155,
     "metadata": {},
     "output_type": "execute_result"
    }
   ],
   "source": [
    "archive1"
   ]
  },
  {
   "cell_type": "code",
   "execution_count": 156,
   "id": "b6d4c4c2-28bf-47cb-b2fa-d53928f96341",
   "metadata": {},
   "outputs": [],
   "source": [
    "x = 1\n",
    "y = 2"
   ]
  },
  {
   "cell_type": "code",
   "execution_count": 157,
   "id": "398452fb-b506-4460-9cee-eb734cde83bb",
   "metadata": {},
   "outputs": [],
   "source": [
    "def fun():\n",
    "    x = 4\n",
    "    y = 5\n",
    "    return None   "
   ]
  },
  {
   "cell_type": "code",
   "execution_count": 158,
   "id": "7312342c-2502-4674-a174-40c7a1499584",
   "metadata": {},
   "outputs": [],
   "source": [
    "fun()"
   ]
  },
  {
   "cell_type": "code",
   "execution_count": 159,
   "id": "1f9e5dde-868f-48df-b68f-f95fafd8e030",
   "metadata": {},
   "outputs": [
    {
     "data": {
      "text/plain": [
       "1"
      ]
     },
     "execution_count": 159,
     "metadata": {},
     "output_type": "execute_result"
    }
   ],
   "source": [
    "x"
   ]
  },
  {
   "cell_type": "code",
   "execution_count": 160,
   "id": "d6718150-9389-4f01-8145-99eb0224a4a4",
   "metadata": {},
   "outputs": [
    {
     "data": {
      "text/plain": [
       "2"
      ]
     },
     "execution_count": 160,
     "metadata": {},
     "output_type": "execute_result"
    }
   ],
   "source": [
    "y"
   ]
  },
  {
   "cell_type": "code",
   "execution_count": 161,
   "id": "786b702b-6f62-4d82-abbd-500a04795517",
   "metadata": {},
   "outputs": [],
   "source": [
    "active = ['a', 'b', 'c']"
   ]
  },
  {
   "cell_type": "code",
   "execution_count": 162,
   "id": "894982c9-f8ba-494c-b512-3e50b2801bd9",
   "metadata": {},
   "outputs": [],
   "source": [
    "def fun():\n",
    "    active.append('d')\n",
    "    return None   "
   ]
  },
  {
   "cell_type": "code",
   "execution_count": 163,
   "id": "93741a81-21d3-4d66-b8ea-9dfcb06ed8cc",
   "metadata": {},
   "outputs": [],
   "source": [
    "fun()"
   ]
  },
  {
   "cell_type": "code",
   "execution_count": 164,
   "id": "0543fe7e-2ebd-4f42-8627-4b5ed6f26f9a",
   "metadata": {},
   "outputs": [
    {
     "data": {
      "text/plain": [
       "['a', 'b', 'c', 'd']"
      ]
     },
     "execution_count": 164,
     "metadata": {},
     "output_type": "execute_result"
    }
   ],
   "source": [
    "active"
   ]
  },
  {
   "cell_type": "code",
   "execution_count": 165,
   "id": "ac27458c-ad71-4a25-83f0-e14d76269c19",
   "metadata": {},
   "outputs": [],
   "source": [
    "fun()"
   ]
  },
  {
   "cell_type": "code",
   "execution_count": 166,
   "id": "20bf4a12-ee98-4e0b-9217-36f4b52ae5a0",
   "metadata": {},
   "outputs": [
    {
     "data": {
      "text/plain": [
       "['a', 'b', 'c', 'd', 'd']"
      ]
     },
     "execution_count": 166,
     "metadata": {},
     "output_type": "execute_result"
    }
   ],
   "source": [
    "active"
   ]
  },
  {
   "cell_type": "code",
   "execution_count": 167,
   "id": "518931e0-4cd5-4d5e-9fe6-89b0d456190e",
   "metadata": {},
   "outputs": [],
   "source": [
    "active = ['a', 'b', 'c']"
   ]
  },
  {
   "cell_type": "code",
   "execution_count": 168,
   "id": "63bf29f0-a77b-478f-964f-ab5ba0aa36a9",
   "metadata": {},
   "outputs": [],
   "source": [
    "def fun():\n",
    "    active = ['a', 'b', 'c']\n",
    "    active.append('d')\n",
    "    return None  "
   ]
  },
  {
   "cell_type": "code",
   "execution_count": 169,
   "id": "b5a9b940-27d0-4b99-aab7-a0a17154693b",
   "metadata": {},
   "outputs": [],
   "source": [
    "fun()"
   ]
  },
  {
   "cell_type": "code",
   "execution_count": 170,
   "id": "b336b963-f3ed-4a3a-8e2f-335e7933236c",
   "metadata": {},
   "outputs": [
    {
     "data": {
      "text/plain": [
       "['a', 'b', 'c']"
      ]
     },
     "execution_count": 170,
     "metadata": {},
     "output_type": "execute_result"
    }
   ],
   "source": [
    "active"
   ]
  },
  {
   "cell_type": "code",
   "execution_count": 171,
   "id": "911a9628-16c7-41b0-a172-a56d60b1a4c5",
   "metadata": {},
   "outputs": [],
   "source": [
    "active = ['a', 'b', 'c']"
   ]
  },
  {
   "cell_type": "code",
   "execution_count": 172,
   "id": "cbcf9856-47dd-487c-8c93-68c2cc36d460",
   "metadata": {},
   "outputs": [],
   "source": [
    "def fun(mutable):\n",
    "    mutable.append('d')\n",
    "    return None  "
   ]
  },
  {
   "cell_type": "code",
   "execution_count": 173,
   "id": "f281c726-944b-41ec-bd93-3a4b00075896",
   "metadata": {},
   "outputs": [],
   "source": [
    "fun(active)"
   ]
  },
  {
   "cell_type": "code",
   "execution_count": 174,
   "id": "5d04286c-0ab1-4a61-ae83-119fa2148dc0",
   "metadata": {},
   "outputs": [
    {
     "data": {
      "text/plain": [
       "['a', 'b', 'c', 'd']"
      ]
     },
     "execution_count": 174,
     "metadata": {},
     "output_type": "execute_result"
    }
   ],
   "source": [
    "active"
   ]
  },
  {
   "cell_type": "code",
   "execution_count": 175,
   "id": "7b06ed28-5b50-4af2-a923-edf50e6de562",
   "metadata": {},
   "outputs": [],
   "source": [
    "active = ['a', 'b', 'c']"
   ]
  },
  {
   "cell_type": "code",
   "execution_count": 176,
   "id": "da004057-8f7b-4d1e-82bb-2daaefa40b6c",
   "metadata": {},
   "outputs": [],
   "source": [
    "def fun(mutable):\n",
    "    mutable = mutable.copy()\n",
    "    mutable.append('d')\n",
    "    return None "
   ]
  },
  {
   "cell_type": "code",
   "execution_count": 177,
   "id": "b206ecbb-556b-4ba5-ad32-50cd4611974d",
   "metadata": {},
   "outputs": [],
   "source": [
    "fun(active)"
   ]
  },
  {
   "cell_type": "code",
   "execution_count": 178,
   "id": "93a6396e-335e-4415-8543-189005476f14",
   "metadata": {},
   "outputs": [
    {
     "data": {
      "text/plain": [
       "['a', 'b', 'c']"
      ]
     },
     "execution_count": 178,
     "metadata": {},
     "output_type": "execute_result"
    }
   ],
   "source": [
    "active"
   ]
  },
  {
   "cell_type": "code",
   "execution_count": 179,
   "id": "eb7b045e-c064-477b-b3ad-bb958685923f",
   "metadata": {},
   "outputs": [],
   "source": [
    "archive = (1, True, 3.14, 'hello', 'hello', 'bye')"
   ]
  },
  {
   "cell_type": "code",
   "execution_count": 180,
   "id": "3c361fd3-50c8-4526-9af9-1dcf0b3f93ec",
   "metadata": {},
   "outputs": [
    {
     "data": {
      "text/plain": [
       "{1, 3.14, 'bye', 'hello'}"
      ]
     },
     "execution_count": 180,
     "metadata": {},
     "output_type": "execute_result"
    }
   ],
   "source": [
    "unique = set(archive)\n",
    "unique"
   ]
  },
  {
   "cell_type": "code",
   "execution_count": 181,
   "id": "0a605826-f7db-4418-b3e7-be8e7da50c8c",
   "metadata": {},
   "outputs": [],
   "source": [
    "unique = {1, 3.14, 'hello', 'bye'}"
   ]
  },
  {
   "cell_type": "code",
   "execution_count": 182,
   "id": "b02c05af-997e-4f38-949a-6e1c58579b0a",
   "metadata": {},
   "outputs": [],
   "source": [
    "unique = {1, 2, 0}"
   ]
  },
  {
   "cell_type": "code",
   "execution_count": 183,
   "id": "b49d7b86-a3b1-453f-83a1-02d3eec4bf30",
   "metadata": {},
   "outputs": [],
   "source": [
    "unique.add(3)"
   ]
  },
  {
   "cell_type": "code",
   "execution_count": 184,
   "id": "bdad21fb-ab09-424e-a144-ceba98b681db",
   "metadata": {},
   "outputs": [],
   "source": [
    "unique.add(2)"
   ]
  },
  {
   "cell_type": "code",
   "execution_count": 185,
   "id": "e38c2281-9856-4dc3-9751-0c1aa5099934",
   "metadata": {},
   "outputs": [],
   "source": [
    "unique.remove(3)"
   ]
  },
  {
   "cell_type": "code",
   "execution_count": 186,
   "id": "698c85da-18df-4d13-ad3e-ed7cdca7cef4",
   "metadata": {},
   "outputs": [],
   "source": [
    "unique.discard(2)"
   ]
  },
  {
   "cell_type": "code",
   "execution_count": 187,
   "id": "d1cf6971-be7d-4075-8498-ec0d066a8678",
   "metadata": {},
   "outputs": [],
   "source": [
    "#unique.remove(2)"
   ]
  },
  {
   "cell_type": "code",
   "execution_count": 188,
   "id": "2bac4bf1-dd89-4fe4-843b-006721adeaea",
   "metadata": {},
   "outputs": [],
   "source": [
    "unique.discard(2)"
   ]
  },
  {
   "cell_type": "code",
   "execution_count": 189,
   "id": "fdf7df6c-0b4b-46cc-a188-c104d0dd4981",
   "metadata": {},
   "outputs": [
    {
     "data": {
      "text/plain": [
       "0"
      ]
     },
     "execution_count": 189,
     "metadata": {},
     "output_type": "execute_result"
    }
   ],
   "source": [
    "unique.pop()"
   ]
  },
  {
   "cell_type": "code",
   "execution_count": 190,
   "id": "ec946733-569f-46c5-bc66-d8cf7ed2be60",
   "metadata": {},
   "outputs": [],
   "source": [
    "unique2 = unique.copy()"
   ]
  },
  {
   "cell_type": "code",
   "execution_count": 191,
   "id": "e2bb3ffd-bb2b-4f80-95d7-97674c0f89b8",
   "metadata": {},
   "outputs": [],
   "source": [
    "unique.clear()"
   ]
  },
  {
   "cell_type": "code",
   "execution_count": 192,
   "id": "40daab69-202d-447a-9f85-c236bffa3977",
   "metadata": {},
   "outputs": [],
   "source": [
    "unique = {1,}"
   ]
  },
  {
   "cell_type": "code",
   "execution_count": 193,
   "id": "dd93b8bd-d0ef-48db-ae8a-d614f335efed",
   "metadata": {},
   "outputs": [
    {
     "data": {
      "text/plain": [
       "{1}"
      ]
     },
     "execution_count": 193,
     "metadata": {},
     "output_type": "execute_result"
    }
   ],
   "source": [
    "unique"
   ]
  },
  {
   "cell_type": "code",
   "execution_count": 194,
   "id": "7c1cd7d3-c301-4656-b248-6771fb6c888b",
   "metadata": {},
   "outputs": [],
   "source": [
    "unique = {1}"
   ]
  },
  {
   "cell_type": "code",
   "execution_count": 195,
   "id": "5aa4f254-8675-4150-b78d-10885343de65",
   "metadata": {},
   "outputs": [
    {
     "data": {
      "text/plain": [
       "{1}"
      ]
     },
     "execution_count": 195,
     "metadata": {},
     "output_type": "execute_result"
    }
   ],
   "source": [
    "unique"
   ]
  },
  {
   "cell_type": "code",
   "execution_count": 196,
   "id": "498cc7d8-3861-465d-9bb5-7234b2cc84f9",
   "metadata": {},
   "outputs": [],
   "source": [
    "unique = {1}"
   ]
  },
  {
   "cell_type": "code",
   "execution_count": 197,
   "id": "88db7e73-b5b7-4cad-851a-d3bc2be16ef2",
   "metadata": {},
   "outputs": [],
   "source": [
    "dictionary = {}"
   ]
  },
  {
   "cell_type": "code",
   "execution_count": 198,
   "id": "8cfd869a-cba0-4fb1-aa7e-92c6268995df",
   "metadata": {},
   "outputs": [],
   "source": [
    "unique = set()"
   ]
  },
  {
   "cell_type": "code",
   "execution_count": 199,
   "id": "3b2063c6-d176-4d6b-ba80-3b7f39bab2c6",
   "metadata": {},
   "outputs": [],
   "source": [
    "unique1 = {0, 1, 2, 3, 4, 5, 6, 7, 8}\n",
    "unique2 = {0, 1, 2}\n",
    "unique3 =                      {7, 8, 9}\n",
    "unique4 = {'a', 'b', 'c'}"
   ]
  },
  {
   "cell_type": "code",
   "execution_count": 200,
   "id": "2144ddcb-c5c8-4209-b88d-adcf57066e2b",
   "metadata": {
    "tags": []
   },
   "outputs": [
    {
     "data": {
      "text/plain": [
       "True"
      ]
     },
     "execution_count": 200,
     "metadata": {},
     "output_type": "execute_result"
    }
   ],
   "source": [
    "unique1.issuperset(unique2)"
   ]
  },
  {
   "cell_type": "code",
   "execution_count": 201,
   "id": "1b2cdfcf-c18c-49e9-9762-9732de35ee65",
   "metadata": {
    "tags": []
   },
   "outputs": [
    {
     "data": {
      "text/plain": [
       "False"
      ]
     },
     "execution_count": 201,
     "metadata": {},
     "output_type": "execute_result"
    }
   ],
   "source": [
    "unique1.issuperset(unique3)"
   ]
  },
  {
   "cell_type": "code",
   "execution_count": 202,
   "id": "8e25b895-165b-47a6-9f7f-69802e22767b",
   "metadata": {
    "tags": []
   },
   "outputs": [
    {
     "data": {
      "text/plain": [
       "True"
      ]
     },
     "execution_count": 202,
     "metadata": {},
     "output_type": "execute_result"
    }
   ],
   "source": [
    "unique2.issubset(unique1)"
   ]
  },
  {
   "cell_type": "code",
   "execution_count": 203,
   "id": "35253be0-0d0d-42ba-bba9-a2ad35c290ba",
   "metadata": {
    "tags": []
   },
   "outputs": [
    {
     "data": {
      "text/plain": [
       "False"
      ]
     },
     "execution_count": 203,
     "metadata": {},
     "output_type": "execute_result"
    }
   ],
   "source": [
    "unique3.issubset(unique1)"
   ]
  },
  {
   "cell_type": "code",
   "execution_count": 204,
   "id": "b2faf699-4f7c-49b1-a40e-75a8159dc40e",
   "metadata": {
    "tags": []
   },
   "outputs": [
    {
     "data": {
      "text/plain": [
       "True"
      ]
     },
     "execution_count": 204,
     "metadata": {},
     "output_type": "execute_result"
    }
   ],
   "source": [
    "unique4.isdisjoint(unique1)"
   ]
  },
  {
   "cell_type": "code",
   "execution_count": 205,
   "id": "05da9cc6-e2d1-4657-bae7-ccac84c4177e",
   "metadata": {
    "tags": []
   },
   "outputs": [
    {
     "data": {
      "text/plain": [
       "False"
      ]
     },
     "execution_count": 205,
     "metadata": {},
     "output_type": "execute_result"
    }
   ],
   "source": [
    "unique3.isdisjoint(unique1)"
   ]
  },
  {
   "cell_type": "code",
   "execution_count": 206,
   "id": "9c8698b1-0ae0-4e57-a26a-03a33683ec6d",
   "metadata": {
    "tags": []
   },
   "outputs": [],
   "source": [
    "unique1 = {0, 1, 2, 3, 4, 5, 6}\n",
    "unique2 = {4, 5, 6, 7, 8, 9}"
   ]
  },
  {
   "cell_type": "code",
   "execution_count": 207,
   "id": "d25fdf1e-5241-4e4b-8630-b2476881b9cd",
   "metadata": {
    "tags": []
   },
   "outputs": [
    {
     "data": {
      "text/plain": [
       "{0, 1, 2, 3, 4, 5, 6, 7, 8, 9}"
      ]
     },
     "execution_count": 207,
     "metadata": {},
     "output_type": "execute_result"
    }
   ],
   "source": [
    "unique1.union(unique2)"
   ]
  },
  {
   "cell_type": "code",
   "execution_count": 208,
   "id": "1a3e055b-c847-4b7f-b07d-f097eb7a6eb7",
   "metadata": {
    "tags": []
   },
   "outputs": [],
   "source": [
    "unique1.update(unique2)"
   ]
  },
  {
   "cell_type": "code",
   "execution_count": 209,
   "id": "418ba368-8b96-479f-8696-b6250ba23105",
   "metadata": {
    "tags": []
   },
   "outputs": [],
   "source": [
    "unique1 = {0, 1, 2, 3, 4, 5, 6}\n",
    "unique2 = {4, 5, 6, 7, 8, 9}"
   ]
  },
  {
   "cell_type": "code",
   "execution_count": 210,
   "id": "d82337f2-b7ca-4d53-afa0-48bfeda2e3c8",
   "metadata": {
    "tags": []
   },
   "outputs": [
    {
     "data": {
      "text/plain": [
       "{4, 5, 6}"
      ]
     },
     "execution_count": 210,
     "metadata": {},
     "output_type": "execute_result"
    }
   ],
   "source": [
    "unique1.intersection(unique2)"
   ]
  },
  {
   "cell_type": "code",
   "execution_count": 211,
   "id": "60d161d9-1fc0-48b6-aa21-5afb39ac3aad",
   "metadata": {
    "tags": []
   },
   "outputs": [],
   "source": [
    "unique1.intersection_update(unique2)"
   ]
  },
  {
   "cell_type": "code",
   "execution_count": 212,
   "id": "3aa42952-ecf2-4154-b646-59a4ce2a84d2",
   "metadata": {
    "tags": []
   },
   "outputs": [],
   "source": [
    "unique1 = {0, 1, 2, 3, 4, 5, 6}\n",
    "unique2 = {4, 5, 6, 7, 8, 9}"
   ]
  },
  {
   "cell_type": "code",
   "execution_count": 213,
   "id": "878b11de-fc26-46ba-8087-8b367ca73be7",
   "metadata": {
    "tags": []
   },
   "outputs": [
    {
     "data": {
      "text/plain": [
       "{0, 1, 2, 3}"
      ]
     },
     "execution_count": 213,
     "metadata": {},
     "output_type": "execute_result"
    }
   ],
   "source": [
    "unique1.difference(unique2)"
   ]
  },
  {
   "cell_type": "code",
   "execution_count": 214,
   "id": "d95095ac-e0d4-4021-8b4b-2a8c655bf0e3",
   "metadata": {
    "tags": []
   },
   "outputs": [],
   "source": [
    "unique1.difference_update(unique2)"
   ]
  },
  {
   "cell_type": "code",
   "execution_count": 215,
   "id": "a2720fa2-c06b-4382-aa0e-f4f99c7ac37e",
   "metadata": {
    "tags": []
   },
   "outputs": [],
   "source": [
    "unique1 = {0, 1, 2, 3, 4, 5, 6}\n",
    "unique2 = {4, 5, 6, 7, 8, 9}"
   ]
  },
  {
   "cell_type": "code",
   "execution_count": 216,
   "id": "9e0708ae-9f55-40a5-89bc-e27987c127a1",
   "metadata": {
    "tags": []
   },
   "outputs": [
    {
     "data": {
      "text/plain": [
       "{0, 1, 2, 3, 7, 8, 9}"
      ]
     },
     "execution_count": 216,
     "metadata": {},
     "output_type": "execute_result"
    }
   ],
   "source": [
    "unique1.symmetric_difference(unique2)"
   ]
  },
  {
   "cell_type": "code",
   "execution_count": 217,
   "id": "a308e5e0-faed-4098-9227-2f226308cc1d",
   "metadata": {
    "tags": []
   },
   "outputs": [],
   "source": [
    "unique1.symmetric_difference_update(unique2)"
   ]
  },
  {
   "cell_type": "code",
   "execution_count": 218,
   "id": "3b9f43a5-09e4-4f24-bbd4-012bc840fcd8",
   "metadata": {
    "tags": []
   },
   "outputs": [],
   "source": [
    "unique1 = {0, 1, 2, 3, 4, 5, 6}"
   ]
  },
  {
   "cell_type": "code",
   "execution_count": 219,
   "id": "7632f7e7-017b-41e4-bfb2-97519dba5db5",
   "metadata": {
    "tags": []
   },
   "outputs": [
    {
     "name": "stdout",
     "output_type": "stream",
     "text": [
      "['__and__', '__class__', '__class_getitem__', '__contains__', '__delattr__',\n",
      " '__dir__', '__doc__', '__eq__', '__format__', '__ge__', '__getattribute__',\n",
      " '__getstate__', '__gt__', '__hash__', '__iand__', '__init__',\n",
      " '__init_subclass__', '__ior__', '__isub__', '__iter__', '__ixor__', '__le__',\n",
      " '__len__', '__lt__', '__ne__', '__new__', '__or__', '__rand__', '__reduce__',\n",
      " '__reduce_ex__', '__repr__', '__ror__', '__rsub__', '__rxor__', '__setattr__',\n",
      " '__sizeof__', '__str__', '__sub__', '__subclasshook__', '__xor__', 'add',\n",
      " 'clear', 'copy', 'difference', 'difference_update', 'discard', 'intersection',\n",
      " 'intersection_update', 'isdisjoint', 'issubset', 'issuperset', 'pop', 'remove',\n",
      " 'symmetric_difference', 'symmetric_difference_update', 'union', 'update']\n"
     ]
    }
   ],
   "source": [
    "pprint(dir(unique1), compact=True)"
   ]
  },
  {
   "cell_type": "code",
   "execution_count": 220,
   "id": "d37744cd-5361-41f6-9a9f-b141017c659c",
   "metadata": {
    "tags": []
   },
   "outputs": [
    {
     "data": {
      "text/plain": [
       "'{0, 1, 2, 3, 4, 5, 6}'"
      ]
     },
     "execution_count": 220,
     "metadata": {},
     "output_type": "execute_result"
    }
   ],
   "source": [
    "repr(unique1)"
   ]
  },
  {
   "cell_type": "code",
   "execution_count": 221,
   "id": "30fa3db8-1840-40ac-a167-aec77f6dbbe9",
   "metadata": {
    "tags": []
   },
   "outputs": [
    {
     "data": {
      "text/plain": [
       "'{0, 1, 2, 3, 4, 5, 6}'"
      ]
     },
     "execution_count": 221,
     "metadata": {},
     "output_type": "execute_result"
    }
   ],
   "source": [
    "str(unique1)"
   ]
  },
  {
   "cell_type": "code",
   "execution_count": 222,
   "id": "93dd7dcb-01eb-4cf3-8d07-d58c881a53a7",
   "metadata": {
    "tags": []
   },
   "outputs": [
    {
     "ename": "TypeError",
     "evalue": "unhashable type: 'set'",
     "output_type": "error",
     "traceback": [
      "\u001b[1;31m---------------------------------------------------------------------------\u001b[0m",
      "\u001b[1;31mTypeError\u001b[0m                                 Traceback (most recent call last)",
      "Cell \u001b[1;32mIn[222], line 1\u001b[0m\n\u001b[1;32m----> 1\u001b[0m \u001b[38;5;28;43mhash\u001b[39;49m\u001b[43m(\u001b[49m\u001b[43munique1\u001b[49m\u001b[43m)\u001b[49m\n",
      "\u001b[1;31mTypeError\u001b[0m: unhashable type: 'set'"
     ]
    }
   ],
   "source": [
    "#hash(unique1)"
   ]
  },
  {
   "cell_type": "code",
   "execution_count": null,
   "id": "72096a4d-c426-46b2-930d-d0ad912c65e8",
   "metadata": {},
   "outputs": [],
   "source": []
  }
 ],
 "metadata": {
  "kernelspec": {
   "display_name": "Python 3 (ipykernel)",
   "language": "python",
   "name": "python3"
  },
  "language_info": {
   "codemirror_mode": {
    "name": "ipython",
    "version": 3
   },
   "file_extension": ".py",
   "mimetype": "text/x-python",
   "name": "python",
   "nbconvert_exporter": "python",
   "pygments_lexer": "ipython3",
   "version": "3.11.0"
  }
 },
 "nbformat": 4,
 "nbformat_minor": 5
}
