{
 "cells": [
  {
   "cell_type": "code",
   "execution_count": 1,
   "id": "0b1238a0-9434-40f4-8f47-3bc25b018a2d",
   "metadata": {
    "tags": []
   },
   "outputs": [],
   "source": [
    "import numpy as np\n",
    "import pandas as pd\n",
    "import matplotlib.pyplot as plt\n",
    "import seaborn as sns"
   ]
  },
  {
   "cell_type": "code",
   "execution_count": 2,
   "id": "17c877a5-9bbd-437f-97af-5ef608ef8e44",
   "metadata": {
    "tags": []
   },
   "outputs": [],
   "source": [
    "%matplotlib qt5\n",
    "sns.set_style('whitegrid')"
   ]
  },
  {
   "cell_type": "code",
   "execution_count": 3,
   "id": "58125f9b-07ae-489a-8020-a16ef6fe5bc3",
   "metadata": {
    "tags": []
   },
   "outputs": [
    {
     "data": {
      "text/html": [
       "<svg  width=\"550\" height=\"55\"><rect x=\"0\" y=\"0\" width=\"55\" height=\"55\" style=\"fill:#1f77b4;stroke-width:2;stroke:rgb(255,255,255)\"/><rect x=\"55\" y=\"0\" width=\"55\" height=\"55\" style=\"fill:#ff7f0e;stroke-width:2;stroke:rgb(255,255,255)\"/><rect x=\"110\" y=\"0\" width=\"55\" height=\"55\" style=\"fill:#2ca02c;stroke-width:2;stroke:rgb(255,255,255)\"/><rect x=\"165\" y=\"0\" width=\"55\" height=\"55\" style=\"fill:#d62728;stroke-width:2;stroke:rgb(255,255,255)\"/><rect x=\"220\" y=\"0\" width=\"55\" height=\"55\" style=\"fill:#9467bd;stroke-width:2;stroke:rgb(255,255,255)\"/><rect x=\"275\" y=\"0\" width=\"55\" height=\"55\" style=\"fill:#8c564b;stroke-width:2;stroke:rgb(255,255,255)\"/><rect x=\"330\" y=\"0\" width=\"55\" height=\"55\" style=\"fill:#e377c2;stroke-width:2;stroke:rgb(255,255,255)\"/><rect x=\"385\" y=\"0\" width=\"55\" height=\"55\" style=\"fill:#7f7f7f;stroke-width:2;stroke:rgb(255,255,255)\"/><rect x=\"440\" y=\"0\" width=\"55\" height=\"55\" style=\"fill:#bcbd22;stroke-width:2;stroke:rgb(255,255,255)\"/><rect x=\"495\" y=\"0\" width=\"55\" height=\"55\" style=\"fill:#17becf;stroke-width:2;stroke:rgb(255,255,255)\"/></svg>"
      ],
      "text/plain": [
       "[(0.12156862745098039, 0.4666666666666667, 0.7058823529411765),\n",
       " (1.0, 0.4980392156862745, 0.054901960784313725),\n",
       " (0.17254901960784313, 0.6274509803921569, 0.17254901960784313),\n",
       " (0.8392156862745098, 0.15294117647058825, 0.1568627450980392),\n",
       " (0.5803921568627451, 0.403921568627451, 0.7411764705882353),\n",
       " (0.5490196078431373, 0.33725490196078434, 0.29411764705882354),\n",
       " (0.8901960784313725, 0.4666666666666667, 0.7607843137254902),\n",
       " (0.4980392156862745, 0.4980392156862745, 0.4980392156862745),\n",
       " (0.7372549019607844, 0.7411764705882353, 0.13333333333333333),\n",
       " (0.09019607843137255, 0.7450980392156863, 0.8117647058823529)]"
      ]
     },
     "execution_count": 3,
     "metadata": {},
     "output_type": "execute_result"
    }
   ],
   "source": [
    "sns.color_palette(palette='tab10')"
   ]
  },
  {
   "cell_type": "code",
   "execution_count": null,
   "id": "a6b80ea3-40b3-4cd4-99d6-a396505ffa07",
   "metadata": {},
   "outputs": [],
   "source": [
    "sns.palettes.mpl."
   ]
  },
  {
   "cell_type": "code",
   "execution_count": 13,
   "id": "6e0c4603-1873-45f9-8016-6d69fff33b46",
   "metadata": {
    "tags": []
   },
   "outputs": [
    {
     "data": {
      "text/html": [
       "<svg  width=\"550\" height=\"55\"><rect x=\"0\" y=\"0\" width=\"55\" height=\"55\" style=\"fill:#ff6347;stroke-width:2;stroke:rgb(255,255,255)\"/><rect x=\"55\" y=\"0\" width=\"55\" height=\"55\" style=\"fill:#ff9630;stroke-width:2;stroke:rgb(255,255,255)\"/><rect x=\"110\" y=\"0\" width=\"55\" height=\"55\" style=\"fill:#ffca18;stroke-width:2;stroke:rgb(255,255,255)\"/><rect x=\"165\" y=\"0\" width=\"55\" height=\"55\" style=\"fill:#ffff00;stroke-width:2;stroke:rgb(255,255,255)\"/><rect x=\"220\" y=\"0\" width=\"55\" height=\"55\" style=\"fill:#dae92f;stroke-width:2;stroke:rgb(255,255,255)\"/><rect x=\"275\" y=\"0\" width=\"55\" height=\"55\" style=\"fill:#b4d260;stroke-width:2;stroke:rgb(255,255,255)\"/><rect x=\"330\" y=\"0\" width=\"55\" height=\"55\" style=\"fill:#8fbc8f;stroke-width:2;stroke:rgb(255,255,255)\"/><rect x=\"385\" y=\"0\" width=\"55\" height=\"55\" style=\"fill:#74a0ab;stroke-width:2;stroke:rgb(255,255,255)\"/><rect x=\"440\" y=\"0\" width=\"55\" height=\"55\" style=\"fill:#5b84c6;stroke-width:2;stroke:rgb(255,255,255)\"/><rect x=\"495\" y=\"0\" width=\"55\" height=\"55\" style=\"fill:#4169e1;stroke-width:2;stroke:rgb(255,255,255)\"/></svg>"
      ],
      "text/plain": [
       "[(1.0, 0.38823529411764707, 0.2784313725490196),\n",
       " (1.0, 0.5897577854671281, 0.1867128027681661),\n",
       " (1.0, 0.791280276816609, 0.09499423298731258),\n",
       " (1.0, 1.0, 0.0),\n",
       " (0.8553171856978086, 0.9134486735870819, 0.1847289504036909),\n",
       " (0.7054671280276816, 0.8238062283737024, 0.3760553633217993),\n",
       " (0.5607843137254902, 0.7372549019607844, 0.5607843137254902),\n",
       " (0.4564244521337947, 0.6262053056516724, 0.6704959630911188),\n",
       " (0.35566320645905425, 0.5189850057670127, 0.7764244521337946),\n",
       " (0.2549019607843137, 0.4117647058823529, 0.8823529411764706)]"
      ]
     },
     "execution_count": 13,
     "metadata": {},
     "output_type": "execute_result"
    }
   ],
   "source": [
    "sns.blend_palette(colors=('tomato', 'yellow', 'darkseagreen', 'royalblue'),\n",
    "                  n_colors=10)"
   ]
  },
  {
   "cell_type": "code",
   "execution_count": 14,
   "id": "6c6f0e4d-00d8-414a-b16a-62cef240acf2",
   "metadata": {
    "tags": []
   },
   "outputs": [],
   "source": [
    "bp = sns.blend_palette(colors=('tomato', 'yellow', 'darkseagreen', 'royalblue'),\n",
    "                       n_colors=10)"
   ]
  },
  {
   "cell_type": "code",
   "execution_count": 15,
   "id": "c1dd226e-b4f3-47d2-bc7d-7559d361af48",
   "metadata": {
    "tags": []
   },
   "outputs": [
    {
     "data": {
      "text/html": [
       "<svg  width=\"550\" height=\"55\"><rect x=\"0\" y=\"0\" width=\"55\" height=\"55\" style=\"fill:#ff6347;stroke-width:2;stroke:rgb(255,255,255)\"/><rect x=\"55\" y=\"0\" width=\"55\" height=\"55\" style=\"fill:#ff9630;stroke-width:2;stroke:rgb(255,255,255)\"/><rect x=\"110\" y=\"0\" width=\"55\" height=\"55\" style=\"fill:#ffca18;stroke-width:2;stroke:rgb(255,255,255)\"/><rect x=\"165\" y=\"0\" width=\"55\" height=\"55\" style=\"fill:#ffff00;stroke-width:2;stroke:rgb(255,255,255)\"/><rect x=\"220\" y=\"0\" width=\"55\" height=\"55\" style=\"fill:#dae92f;stroke-width:2;stroke:rgb(255,255,255)\"/><rect x=\"275\" y=\"0\" width=\"55\" height=\"55\" style=\"fill:#b4d260;stroke-width:2;stroke:rgb(255,255,255)\"/><rect x=\"330\" y=\"0\" width=\"55\" height=\"55\" style=\"fill:#8fbc8f;stroke-width:2;stroke:rgb(255,255,255)\"/><rect x=\"385\" y=\"0\" width=\"55\" height=\"55\" style=\"fill:#74a0ab;stroke-width:2;stroke:rgb(255,255,255)\"/><rect x=\"440\" y=\"0\" width=\"55\" height=\"55\" style=\"fill:#5b84c6;stroke-width:2;stroke:rgb(255,255,255)\"/><rect x=\"495\" y=\"0\" width=\"55\" height=\"55\" style=\"fill:#4169e1;stroke-width:2;stroke:rgb(255,255,255)\"/></svg>"
      ],
      "text/plain": [
       "[(1.0, 0.38823529411764707, 0.2784313725490196),\n",
       " (1.0, 0.5897577854671281, 0.1867128027681661),\n",
       " (1.0, 0.791280276816609, 0.09499423298731258),\n",
       " (1.0, 1.0, 0.0),\n",
       " (0.8553171856978086, 0.9134486735870819, 0.1847289504036909),\n",
       " (0.7054671280276816, 0.8238062283737024, 0.3760553633217993),\n",
       " (0.5607843137254902, 0.7372549019607844, 0.5607843137254902),\n",
       " (0.4564244521337947, 0.6262053056516724, 0.6704959630911188),\n",
       " (0.35566320645905425, 0.5189850057670127, 0.7764244521337946),\n",
       " (0.2549019607843137, 0.4117647058823529, 0.8823529411764706)]"
      ]
     },
     "execution_count": 15,
     "metadata": {},
     "output_type": "execute_result"
    }
   ],
   "source": [
    "bp"
   ]
  },
  {
   "cell_type": "code",
   "execution_count": 17,
   "id": "aab73a49-80c3-42be-b393-11f614ca1c6d",
   "metadata": {
    "tags": []
   },
   "outputs": [],
   "source": [
    "x = np.array([1, 2, 3, 4, 5])\n",
    "y = np.array([2, 4, 6, 8, 10])"
   ]
  },
  {
   "cell_type": "code",
   "execution_count": 21,
   "id": "19ab0eff-d151-4362-88ad-3686f7f6f16f",
   "metadata": {
    "tags": []
   },
   "outputs": [],
   "source": [
    "sns.set_palette(palette=bp)"
   ]
  },
  {
   "cell_type": "code",
   "execution_count": 25,
   "id": "909748e1-7866-4262-a21b-4ac43e617410",
   "metadata": {
    "tags": []
   },
   "outputs": [],
   "source": [
    "fig = plt.figure(num=6, figsize=None, dpi=None)\n",
    "ax = fig.add_subplot(111)\n",
    "for num in range(30):\n",
    "    ax.plot(x, y+num)"
   ]
  },
  {
   "cell_type": "code",
   "execution_count": 26,
   "id": "e4107056-b817-4c03-9532-70ab6015e6c7",
   "metadata": {
    "tags": []
   },
   "outputs": [],
   "source": [
    "sns.set_palette(palette='tab10')"
   ]
  },
  {
   "cell_type": "code",
   "execution_count": 28,
   "id": "50054a0f-a2cb-453a-b5c5-a19a1cab3199",
   "metadata": {
    "tags": []
   },
   "outputs": [],
   "source": [
    "fig = plt.figure(num=7, figsize=None, dpi=None)\n",
    "ax = fig.add_subplot(111)\n",
    "for num in range(15):\n",
    "    ax.plot(x, y+num)"
   ]
  },
  {
   "cell_type": "code",
   "execution_count": 29,
   "id": "251f1070-19e5-4689-8a26-c853aef6fe85",
   "metadata": {
    "scrolled": true,
    "tags": []
   },
   "outputs": [
    {
     "data": {
      "text/plain": [
       "{'acid green': '#8ffe09',\n",
       " 'adobe': '#bd6c48',\n",
       " 'algae': '#54ac68',\n",
       " 'algae green': '#21c36f',\n",
       " 'almost black': '#070d0d',\n",
       " 'amber': '#feb308',\n",
       " 'amethyst': '#9b5fc0',\n",
       " 'apple': '#6ecb3c',\n",
       " 'apple green': '#76cd26',\n",
       " 'apricot': '#ffb16d',\n",
       " 'aqua': '#13eac9',\n",
       " 'aqua blue': '#02d8e9',\n",
       " 'aqua green': '#12e193',\n",
       " 'aqua marine': '#2ee8bb',\n",
       " 'aquamarine': '#04d8b2',\n",
       " 'army green': '#4b5d16',\n",
       " 'asparagus': '#77ab56',\n",
       " 'aubergine': '#3d0734',\n",
       " 'auburn': '#9a3001',\n",
       " 'avocado': '#90b134',\n",
       " 'avocado green': '#87a922',\n",
       " 'azul': '#1d5dec',\n",
       " 'azure': '#069af3',\n",
       " 'baby blue': '#a2cffe',\n",
       " 'baby green': '#8cff9e',\n",
       " 'baby pink': '#ffb7ce',\n",
       " 'baby poo': '#ab9004',\n",
       " 'baby poop': '#937c00',\n",
       " 'baby poop green': '#8f9805',\n",
       " 'baby puke green': '#b6c406',\n",
       " 'baby purple': '#ca9bf7',\n",
       " 'baby shit brown': '#ad900d',\n",
       " 'baby shit green': '#889717',\n",
       " 'banana': '#ffff7e',\n",
       " 'banana yellow': '#fafe4b',\n",
       " 'barbie pink': '#fe46a5',\n",
       " 'barf green': '#94ac02',\n",
       " 'barney': '#ac1db8',\n",
       " 'barney purple': '#a00498',\n",
       " 'battleship grey': '#6b7c85',\n",
       " 'beige': '#e6daa6',\n",
       " 'berry': '#990f4b',\n",
       " 'bile': '#b5c306',\n",
       " 'black': '#000000',\n",
       " 'bland': '#afa88b',\n",
       " 'blood': '#770001',\n",
       " 'blood orange': '#fe4b03',\n",
       " 'blood red': '#980002',\n",
       " 'blue': '#0343df',\n",
       " 'blue blue': '#2242c7',\n",
       " 'blue green': '#137e6d',\n",
       " 'blue grey': '#607c8e',\n",
       " 'blue purple': '#5729ce',\n",
       " 'blue violet': '#5d06e9',\n",
       " 'blue with a hint of purple': '#533cc6',\n",
       " 'blue/green': '#0f9b8e',\n",
       " 'blue/grey': '#758da3',\n",
       " 'blue/purple': '#5a06ef',\n",
       " 'blueberry': '#464196',\n",
       " 'bluegreen': '#017a79',\n",
       " 'bluegrey': '#85a3b2',\n",
       " 'bluey green': '#2bb179',\n",
       " 'bluey grey': '#89a0b0',\n",
       " 'bluey purple': '#6241c7',\n",
       " 'bluish': '#2976bb',\n",
       " 'bluish green': '#10a674',\n",
       " 'bluish grey': '#748b97',\n",
       " 'bluish purple': '#703be7',\n",
       " 'blurple': '#5539cc',\n",
       " 'blush': '#f29e8e',\n",
       " 'blush pink': '#fe828c',\n",
       " 'booger': '#9bb53c',\n",
       " 'booger green': '#96b403',\n",
       " 'bordeaux': '#7b002c',\n",
       " 'boring green': '#63b365',\n",
       " 'bottle green': '#044a05',\n",
       " 'brick': '#a03623',\n",
       " 'brick orange': '#c14a09',\n",
       " 'brick red': '#8f1402',\n",
       " 'bright aqua': '#0bf9ea',\n",
       " 'bright blue': '#0165fc',\n",
       " 'bright cyan': '#41fdfe',\n",
       " 'bright green': '#01ff07',\n",
       " 'bright lavender': '#c760ff',\n",
       " 'bright light blue': '#26f7fd',\n",
       " 'bright light green': '#2dfe54',\n",
       " 'bright lilac': '#c95efb',\n",
       " 'bright lime': '#87fd05',\n",
       " 'bright lime green': '#65fe08',\n",
       " 'bright magenta': '#ff08e8',\n",
       " 'bright olive': '#9cbb04',\n",
       " 'bright orange': '#ff5b00',\n",
       " 'bright pink': '#fe01b1',\n",
       " 'bright purple': '#be03fd',\n",
       " 'bright red': '#ff000d',\n",
       " 'bright sea green': '#05ffa6',\n",
       " 'bright sky blue': '#02ccfe',\n",
       " 'bright teal': '#01f9c6',\n",
       " 'bright turquoise': '#0ffef9',\n",
       " 'bright violet': '#ad0afd',\n",
       " 'bright yellow': '#fffd01',\n",
       " 'bright yellow green': '#9dff00',\n",
       " 'british racing green': '#05480d',\n",
       " 'bronze': '#a87900',\n",
       " 'brown': '#653700',\n",
       " 'brown green': '#706c11',\n",
       " 'brown grey': '#8d8468',\n",
       " 'brown orange': '#b96902',\n",
       " 'brown red': '#922b05',\n",
       " 'brown yellow': '#b29705',\n",
       " 'brownish': '#9c6d57',\n",
       " 'brownish green': '#6a6e09',\n",
       " 'brownish grey': '#86775f',\n",
       " 'brownish orange': '#cb7723',\n",
       " 'brownish pink': '#c27e79',\n",
       " 'brownish purple': '#76424e',\n",
       " 'brownish red': '#9e3623',\n",
       " 'brownish yellow': '#c9b003',\n",
       " 'browny green': '#6f6c0a',\n",
       " 'browny orange': '#ca6b02',\n",
       " 'bruise': '#7e4071',\n",
       " 'bubble gum pink': '#ff69af',\n",
       " 'bubblegum': '#ff6cb5',\n",
       " 'bubblegum pink': '#fe83cc',\n",
       " 'buff': '#fef69e',\n",
       " 'burgundy': '#610023',\n",
       " 'burnt orange': '#c04e01',\n",
       " 'burnt red': '#9f2305',\n",
       " 'burnt siena': '#b75203',\n",
       " 'burnt sienna': '#b04e0f',\n",
       " 'burnt umber': '#a0450e',\n",
       " 'burnt yellow': '#d5ab09',\n",
       " 'burple': '#6832e3',\n",
       " 'butter': '#ffff81',\n",
       " 'butter yellow': '#fffd74',\n",
       " 'butterscotch': '#fdb147',\n",
       " 'cadet blue': '#4e7496',\n",
       " 'camel': '#c69f59',\n",
       " 'camo': '#7f8f4e',\n",
       " 'camo green': '#526525',\n",
       " 'camouflage green': '#4b6113',\n",
       " 'canary': '#fdff63',\n",
       " 'canary yellow': '#fffe40',\n",
       " 'candy pink': '#ff63e9',\n",
       " 'caramel': '#af6f09',\n",
       " 'carmine': '#9d0216',\n",
       " 'carnation': '#fd798f',\n",
       " 'carnation pink': '#ff7fa7',\n",
       " 'carolina blue': '#8ab8fe',\n",
       " 'celadon': '#befdb7',\n",
       " 'celery': '#c1fd95',\n",
       " 'cement': '#a5a391',\n",
       " 'cerise': '#de0c62',\n",
       " 'cerulean': '#0485d1',\n",
       " 'cerulean blue': '#056eee',\n",
       " 'charcoal': '#343837',\n",
       " 'charcoal grey': '#3c4142',\n",
       " 'chartreuse': '#c1f80a',\n",
       " 'cherry': '#cf0234',\n",
       " 'cherry red': '#f7022a',\n",
       " 'chestnut': '#742802',\n",
       " 'chocolate': '#3d1c02',\n",
       " 'chocolate brown': '#411900',\n",
       " 'cinnamon': '#ac4f06',\n",
       " 'claret': '#680018',\n",
       " 'clay': '#b66a50',\n",
       " 'clay brown': '#b2713d',\n",
       " 'clear blue': '#247afd',\n",
       " 'cloudy blue': '#acc2d9',\n",
       " 'cobalt': '#1e488f',\n",
       " 'cobalt blue': '#030aa7',\n",
       " 'cocoa': '#875f42',\n",
       " 'coffee': '#a6814c',\n",
       " 'cool blue': '#4984b8',\n",
       " 'cool green': '#33b864',\n",
       " 'cool grey': '#95a3a6',\n",
       " 'copper': '#b66325',\n",
       " 'coral': '#fc5a50',\n",
       " 'coral pink': '#ff6163',\n",
       " 'cornflower': '#6a79f7',\n",
       " 'cornflower blue': '#5170d7',\n",
       " 'cranberry': '#9e003a',\n",
       " 'cream': '#ffffc2',\n",
       " 'creme': '#ffffb6',\n",
       " 'crimson': '#8c000f',\n",
       " 'custard': '#fffd78',\n",
       " 'cyan': '#00ffff',\n",
       " 'dandelion': '#fedf08',\n",
       " 'dark': '#1b2431',\n",
       " 'dark aqua': '#05696b',\n",
       " 'dark aquamarine': '#017371',\n",
       " 'dark beige': '#ac9362',\n",
       " 'dark blue': '#00035b',\n",
       " 'dark blue green': '#005249',\n",
       " 'dark blue grey': '#1f3b4d',\n",
       " 'dark brown': '#341c02',\n",
       " 'dark coral': '#cf524e',\n",
       " 'dark cream': '#fff39a',\n",
       " 'dark cyan': '#0a888a',\n",
       " 'dark forest green': '#002d04',\n",
       " 'dark fuchsia': '#9d0759',\n",
       " 'dark gold': '#b59410',\n",
       " 'dark grass green': '#388004',\n",
       " 'dark green': '#033500',\n",
       " 'dark green blue': '#1f6357',\n",
       " 'dark grey': '#363737',\n",
       " 'dark grey blue': '#29465b',\n",
       " 'dark hot pink': '#d90166',\n",
       " 'dark indigo': '#1f0954',\n",
       " 'dark khaki': '#9b8f55',\n",
       " 'dark lavender': '#856798',\n",
       " 'dark lilac': '#9c6da5',\n",
       " 'dark lime': '#84b701',\n",
       " 'dark lime green': '#7ebd01',\n",
       " 'dark magenta': '#960056',\n",
       " 'dark maroon': '#3c0008',\n",
       " 'dark mauve': '#874c62',\n",
       " 'dark mint': '#48c072',\n",
       " 'dark mint green': '#20c073',\n",
       " 'dark mustard': '#a88905',\n",
       " 'dark navy': '#000435',\n",
       " 'dark navy blue': '#00022e',\n",
       " 'dark olive': '#373e02',\n",
       " 'dark olive green': '#3c4d03',\n",
       " 'dark orange': '#c65102',\n",
       " 'dark pastel green': '#56ae57',\n",
       " 'dark peach': '#de7e5d',\n",
       " 'dark periwinkle': '#665fd1',\n",
       " 'dark pink': '#cb416b',\n",
       " 'dark plum': '#3f012c',\n",
       " 'dark purple': '#35063e',\n",
       " 'dark red': '#840000',\n",
       " 'dark rose': '#b5485d',\n",
       " 'dark royal blue': '#02066f',\n",
       " 'dark sage': '#598556',\n",
       " 'dark salmon': '#c85a53',\n",
       " 'dark sand': '#a88f59',\n",
       " 'dark sea green': '#11875d',\n",
       " 'dark seafoam': '#1fb57a',\n",
       " 'dark seafoam green': '#3eaf76',\n",
       " 'dark sky blue': '#448ee4',\n",
       " 'dark slate blue': '#214761',\n",
       " 'dark tan': '#af884a',\n",
       " 'dark taupe': '#7f684e',\n",
       " 'dark teal': '#014d4e',\n",
       " 'dark turquoise': '#045c5a',\n",
       " 'dark violet': '#34013f',\n",
       " 'dark yellow': '#d5b60a',\n",
       " 'dark yellow green': '#728f02',\n",
       " 'darkblue': '#030764',\n",
       " 'darkgreen': '#054907',\n",
       " 'darkish blue': '#014182',\n",
       " 'darkish green': '#287c37',\n",
       " 'darkish pink': '#da467d',\n",
       " 'darkish purple': '#751973',\n",
       " 'darkish red': '#a90308',\n",
       " 'deep aqua': '#08787f',\n",
       " 'deep blue': '#040273',\n",
       " 'deep brown': '#410200',\n",
       " 'deep green': '#02590f',\n",
       " 'deep lavender': '#8d5eb7',\n",
       " 'deep lilac': '#966ebd',\n",
       " 'deep magenta': '#a0025c',\n",
       " 'deep orange': '#dc4d01',\n",
       " 'deep pink': '#cb0162',\n",
       " 'deep purple': '#36013f',\n",
       " 'deep red': '#9a0200',\n",
       " 'deep rose': '#c74767',\n",
       " 'deep sea blue': '#015482',\n",
       " 'deep sky blue': '#0d75f8',\n",
       " 'deep teal': '#00555a',\n",
       " 'deep turquoise': '#017374',\n",
       " 'deep violet': '#490648',\n",
       " 'denim': '#3b638c',\n",
       " 'denim blue': '#3b5b92',\n",
       " 'desert': '#ccad60',\n",
       " 'diarrhea': '#9f8303',\n",
       " 'dirt': '#8a6e45',\n",
       " 'dirt brown': '#836539',\n",
       " 'dirty blue': '#3f829d',\n",
       " 'dirty green': '#667e2c',\n",
       " 'dirty orange': '#c87606',\n",
       " 'dirty pink': '#ca7b80',\n",
       " 'dirty purple': '#734a65',\n",
       " 'dirty yellow': '#cdc50a',\n",
       " 'dodger blue': '#3e82fc',\n",
       " 'drab': '#828344',\n",
       " 'drab green': '#749551',\n",
       " 'dried blood': '#4b0101',\n",
       " 'duck egg blue': '#c3fbf4',\n",
       " 'dull blue': '#49759c',\n",
       " 'dull brown': '#876e4b',\n",
       " 'dull green': '#74a662',\n",
       " 'dull orange': '#d8863b',\n",
       " 'dull pink': '#d5869d',\n",
       " 'dull purple': '#84597e',\n",
       " 'dull red': '#bb3f3f',\n",
       " 'dull teal': '#5f9e8f',\n",
       " 'dull yellow': '#eedc5b',\n",
       " 'dusk': '#4e5481',\n",
       " 'dusk blue': '#26538d',\n",
       " 'dusky blue': '#475f94',\n",
       " 'dusky pink': '#cc7a8b',\n",
       " 'dusky purple': '#895b7b',\n",
       " 'dusky rose': '#ba6873',\n",
       " 'dust': '#b2996e',\n",
       " 'dusty blue': '#5a86ad',\n",
       " 'dusty green': '#76a973',\n",
       " 'dusty lavender': '#ac86a8',\n",
       " 'dusty orange': '#f0833a',\n",
       " 'dusty pink': '#d58a94',\n",
       " 'dusty purple': '#825f87',\n",
       " 'dusty red': '#b9484e',\n",
       " 'dusty rose': '#c0737a',\n",
       " 'dusty teal': '#4c9085',\n",
       " 'earth': '#a2653e',\n",
       " 'easter green': '#8cfd7e',\n",
       " 'easter purple': '#c071fe',\n",
       " 'ecru': '#feffca',\n",
       " 'egg shell': '#fffcc4',\n",
       " 'eggplant': '#380835',\n",
       " 'eggplant purple': '#430541',\n",
       " 'eggshell': '#ffffd4',\n",
       " 'eggshell blue': '#c4fff7',\n",
       " 'electric blue': '#0652ff',\n",
       " 'electric green': '#21fc0d',\n",
       " 'electric lime': '#a8ff04',\n",
       " 'electric pink': '#ff0490',\n",
       " 'electric purple': '#aa23ff',\n",
       " 'emerald': '#01a049',\n",
       " 'emerald green': '#028f1e',\n",
       " 'evergreen': '#05472a',\n",
       " 'faded blue': '#658cbb',\n",
       " 'faded green': '#7bb274',\n",
       " 'faded orange': '#f0944d',\n",
       " 'faded pink': '#de9dac',\n",
       " 'faded purple': '#916e99',\n",
       " 'faded red': '#d3494e',\n",
       " 'faded yellow': '#feff7f',\n",
       " 'fawn': '#cfaf7b',\n",
       " 'fern': '#63a950',\n",
       " 'fern green': '#548d44',\n",
       " 'fire engine red': '#fe0002',\n",
       " 'flat blue': '#3c73a8',\n",
       " 'flat green': '#699d4c',\n",
       " 'fluorescent green': '#08ff08',\n",
       " 'fluro green': '#0aff02',\n",
       " 'foam green': '#90fda9',\n",
       " 'forest': '#0b5509',\n",
       " 'forest green': '#06470c',\n",
       " 'forrest green': '#154406',\n",
       " 'french blue': '#436bad',\n",
       " 'fresh green': '#69d84f',\n",
       " 'frog green': '#58bc08',\n",
       " 'fuchsia': '#ed0dd9',\n",
       " 'gold': '#dbb40c',\n",
       " 'golden': '#f5bf03',\n",
       " 'golden brown': '#b27a01',\n",
       " 'golden rod': '#f9bc08',\n",
       " 'golden yellow': '#fec615',\n",
       " 'goldenrod': '#fac205',\n",
       " 'grape': '#6c3461',\n",
       " 'grape purple': '#5d1451',\n",
       " 'grapefruit': '#fd5956',\n",
       " 'grass': '#5cac2d',\n",
       " 'grass green': '#3f9b0b',\n",
       " 'grassy green': '#419c03',\n",
       " 'green': '#15b01a',\n",
       " 'green apple': '#5edc1f',\n",
       " 'green blue': '#06b48b',\n",
       " 'green brown': '#544e03',\n",
       " 'green grey': '#77926f',\n",
       " 'green teal': '#0cb577',\n",
       " 'green yellow': '#c9ff27',\n",
       " 'green/blue': '#01c08d',\n",
       " 'green/yellow': '#b5ce08',\n",
       " 'greenblue': '#23c48b',\n",
       " 'greenish': '#40a368',\n",
       " 'greenish beige': '#c9d179',\n",
       " 'greenish blue': '#0b8b87',\n",
       " 'greenish brown': '#696112',\n",
       " 'greenish cyan': '#2afeb7',\n",
       " 'greenish grey': '#96ae8d',\n",
       " 'greenish tan': '#bccb7a',\n",
       " 'greenish teal': '#32bf84',\n",
       " 'greenish turquoise': '#00fbb0',\n",
       " 'greenish yellow': '#cdfd02',\n",
       " 'greeny blue': '#42b395',\n",
       " 'greeny brown': '#696006',\n",
       " 'greeny grey': '#7ea07a',\n",
       " 'greeny yellow': '#c6f808',\n",
       " 'grey': '#929591',\n",
       " 'grey blue': '#6b8ba4',\n",
       " 'grey brown': '#7f7053',\n",
       " 'grey green': '#789b73',\n",
       " 'grey pink': '#c3909b',\n",
       " 'grey purple': '#826d8c',\n",
       " 'grey teal': '#5e9b8a',\n",
       " 'grey/blue': '#647d8e',\n",
       " 'grey/green': '#86a17d',\n",
       " 'greyblue': '#77a1b5',\n",
       " 'greyish': '#a8a495',\n",
       " 'greyish blue': '#5e819d',\n",
       " 'greyish brown': '#7a6a4f',\n",
       " 'greyish green': '#82a67d',\n",
       " 'greyish pink': '#c88d94',\n",
       " 'greyish purple': '#887191',\n",
       " 'greyish teal': '#719f91',\n",
       " 'gross green': '#a0bf16',\n",
       " 'gunmetal': '#536267',\n",
       " 'hazel': '#8e7618',\n",
       " 'heather': '#a484ac',\n",
       " 'heliotrope': '#d94ff5',\n",
       " 'highlighter green': '#1bfc06',\n",
       " 'hospital green': '#9be5aa',\n",
       " 'hot green': '#25ff29',\n",
       " 'hot magenta': '#f504c9',\n",
       " 'hot pink': '#ff028d',\n",
       " 'hot purple': '#cb00f5',\n",
       " 'hunter green': '#0b4008',\n",
       " 'ice': '#d6fffa',\n",
       " 'ice blue': '#d7fffe',\n",
       " 'icky green': '#8fae22',\n",
       " 'indian red': '#850e04',\n",
       " 'indigo': '#380282',\n",
       " 'indigo blue': '#3a18b1',\n",
       " 'iris': '#6258c4',\n",
       " 'irish green': '#019529',\n",
       " 'ivory': '#ffffcb',\n",
       " 'jade': '#1fa774',\n",
       " 'jade green': '#2baf6a',\n",
       " 'jungle green': '#048243',\n",
       " 'kelley green': '#009337',\n",
       " 'kelly green': '#02ab2e',\n",
       " 'kermit green': '#5cb200',\n",
       " 'key lime': '#aeff6e',\n",
       " 'khaki': '#aaa662',\n",
       " 'khaki green': '#728639',\n",
       " 'kiwi': '#9cef43',\n",
       " 'kiwi green': '#8ee53f',\n",
       " 'lavender': '#c79fef',\n",
       " 'lavender blue': '#8b88f8',\n",
       " 'lavender pink': '#dd85d7',\n",
       " 'lawn green': '#4da409',\n",
       " 'leaf': '#71aa34',\n",
       " 'leaf green': '#5ca904',\n",
       " 'leafy green': '#51b73b',\n",
       " 'leather': '#ac7434',\n",
       " 'lemon': '#fdff52',\n",
       " 'lemon green': '#adf802',\n",
       " 'lemon lime': '#bffe28',\n",
       " 'lemon yellow': '#fdff38',\n",
       " 'lichen': '#8fb67b',\n",
       " 'light aqua': '#8cffdb',\n",
       " 'light aquamarine': '#7bfdc7',\n",
       " 'light beige': '#fffeb6',\n",
       " 'light blue': '#95d0fc',\n",
       " 'light blue green': '#7efbb3',\n",
       " 'light blue grey': '#b7c9e2',\n",
       " 'light bluish green': '#76fda8',\n",
       " 'light bright green': '#53fe5c',\n",
       " 'light brown': '#ad8150',\n",
       " 'light burgundy': '#a8415b',\n",
       " 'light cyan': '#acfffc',\n",
       " 'light eggplant': '#894585',\n",
       " 'light forest green': '#4f9153',\n",
       " 'light gold': '#fddc5c',\n",
       " 'light grass green': '#9af764',\n",
       " 'light green': '#96f97b',\n",
       " 'light green blue': '#56fca2',\n",
       " 'light greenish blue': '#63f7b4',\n",
       " 'light grey': '#d8dcd6',\n",
       " 'light grey blue': '#9dbcd4',\n",
       " 'light grey green': '#b7e1a1',\n",
       " 'light indigo': '#6d5acf',\n",
       " 'light khaki': '#e6f2a2',\n",
       " 'light lavendar': '#efc0fe',\n",
       " 'light lavender': '#dfc5fe',\n",
       " 'light light blue': '#cafffb',\n",
       " 'light light green': '#c8ffb0',\n",
       " 'light lilac': '#edc8ff',\n",
       " 'light lime': '#aefd6c',\n",
       " 'light lime green': '#b9ff66',\n",
       " 'light magenta': '#fa5ff7',\n",
       " 'light maroon': '#a24857',\n",
       " 'light mauve': '#c292a1',\n",
       " 'light mint': '#b6ffbb',\n",
       " 'light mint green': '#a6fbb2',\n",
       " 'light moss green': '#a6c875',\n",
       " 'light mustard': '#f7d560',\n",
       " 'light navy': '#155084',\n",
       " 'light navy blue': '#2e5a88',\n",
       " 'light neon green': '#4efd54',\n",
       " 'light olive': '#acbf69',\n",
       " 'light olive green': '#a4be5c',\n",
       " 'light orange': '#fdaa48',\n",
       " 'light pastel green': '#b2fba5',\n",
       " 'light pea green': '#c4fe82',\n",
       " 'light peach': '#ffd8b1',\n",
       " 'light periwinkle': '#c1c6fc',\n",
       " 'light pink': '#ffd1df',\n",
       " 'light plum': '#9d5783',\n",
       " 'light purple': '#bf77f6',\n",
       " 'light red': '#ff474c',\n",
       " 'light rose': '#ffc5cb',\n",
       " 'light royal blue': '#3a2efe',\n",
       " 'light sage': '#bcecac',\n",
       " 'light salmon': '#fea993',\n",
       " 'light sea green': '#98f6b0',\n",
       " 'light seafoam': '#a0febf',\n",
       " 'light seafoam green': '#a7ffb5',\n",
       " 'light sky blue': '#c6fcff',\n",
       " 'light tan': '#fbeeac',\n",
       " 'light teal': '#90e4c1',\n",
       " 'light turquoise': '#7ef4cc',\n",
       " 'light urple': '#b36ff6',\n",
       " 'light violet': '#d6b4fc',\n",
       " 'light yellow': '#fffe7a',\n",
       " 'light yellow green': '#ccfd7f',\n",
       " 'light yellowish green': '#c2ff89',\n",
       " 'lightblue': '#7bc8f6',\n",
       " 'lighter green': '#75fd63',\n",
       " 'lighter purple': '#a55af4',\n",
       " 'lightgreen': '#76ff7b',\n",
       " 'lightish blue': '#3d7afd',\n",
       " 'lightish green': '#61e160',\n",
       " 'lightish purple': '#a552e6',\n",
       " 'lightish red': '#fe2f4a',\n",
       " 'lilac': '#cea2fd',\n",
       " 'liliac': '#c48efd',\n",
       " 'lime': '#aaff32',\n",
       " 'lime green': '#89fe05',\n",
       " 'lime yellow': '#d0fe1d',\n",
       " 'lipstick': '#d5174e',\n",
       " 'lipstick red': '#c0022f',\n",
       " 'macaroni and cheese': '#efb435',\n",
       " 'magenta': '#c20078',\n",
       " 'mahogany': '#4a0100',\n",
       " 'maize': '#f4d054',\n",
       " 'mango': '#ffa62b',\n",
       " 'manilla': '#fffa86',\n",
       " 'marigold': '#fcc006',\n",
       " 'marine': '#042e60',\n",
       " 'marine blue': '#01386a',\n",
       " 'maroon': '#650021',\n",
       " 'mauve': '#ae7181',\n",
       " 'medium blue': '#2c6fbb',\n",
       " 'medium brown': '#7f5112',\n",
       " 'medium green': '#39ad48',\n",
       " 'medium grey': '#7d7f7c',\n",
       " 'medium pink': '#f36196',\n",
       " 'medium purple': '#9e43a2',\n",
       " 'melon': '#ff7855',\n",
       " 'merlot': '#730039',\n",
       " 'metallic blue': '#4f738e',\n",
       " 'mid blue': '#276ab3',\n",
       " 'mid green': '#50a747',\n",
       " 'midnight': '#03012d',\n",
       " 'midnight blue': '#020035',\n",
       " 'midnight purple': '#280137',\n",
       " 'military green': '#667c3e',\n",
       " 'milk chocolate': '#7f4e1e',\n",
       " 'mint': '#9ffeb0',\n",
       " 'mint green': '#8fff9f',\n",
       " 'minty green': '#0bf77d',\n",
       " 'mocha': '#9d7651',\n",
       " 'moss': '#769958',\n",
       " 'moss green': '#658b38',\n",
       " 'mossy green': '#638b27',\n",
       " 'mud': '#735c12',\n",
       " 'mud brown': '#60460f',\n",
       " 'mud green': '#606602',\n",
       " 'muddy brown': '#886806',\n",
       " 'muddy green': '#657432',\n",
       " 'muddy yellow': '#bfac05',\n",
       " 'mulberry': '#920a4e',\n",
       " 'murky green': '#6c7a0e',\n",
       " 'mushroom': '#ba9e88',\n",
       " 'mustard': '#ceb301',\n",
       " 'mustard brown': '#ac7e04',\n",
       " 'mustard green': '#a8b504',\n",
       " 'mustard yellow': '#d2bd0a',\n",
       " 'muted blue': '#3b719f',\n",
       " 'muted green': '#5fa052',\n",
       " 'muted pink': '#d1768f',\n",
       " 'muted purple': '#805b87',\n",
       " 'nasty green': '#70b23f',\n",
       " 'navy': '#01153e',\n",
       " 'navy blue': '#001146',\n",
       " 'navy green': '#35530a',\n",
       " 'neon blue': '#04d9ff',\n",
       " 'neon green': '#0cff0c',\n",
       " 'neon pink': '#fe019a',\n",
       " 'neon purple': '#bc13fe',\n",
       " 'neon red': '#ff073a',\n",
       " 'neon yellow': '#cfff04',\n",
       " 'nice blue': '#107ab0',\n",
       " 'night blue': '#040348',\n",
       " 'ocean': '#017b92',\n",
       " 'ocean blue': '#03719c',\n",
       " 'ocean green': '#3d9973',\n",
       " 'ocher': '#bf9b0c',\n",
       " 'ochre': '#bf9005',\n",
       " 'ocre': '#c69c04',\n",
       " 'off blue': '#5684ae',\n",
       " 'off green': '#6ba353',\n",
       " 'off white': '#ffffe4',\n",
       " 'off yellow': '#f1f33f',\n",
       " 'old pink': '#c77986',\n",
       " 'old rose': '#c87f89',\n",
       " 'olive': '#6e750e',\n",
       " 'olive brown': '#645403',\n",
       " 'olive drab': '#6f7632',\n",
       " 'olive green': '#677a04',\n",
       " 'olive yellow': '#c2b709',\n",
       " 'orange': '#f97306',\n",
       " 'orange brown': '#be6400',\n",
       " 'orange pink': '#ff6f52',\n",
       " 'orange red': '#fd411e',\n",
       " 'orange yellow': '#ffad01',\n",
       " 'orangeish': '#fd8d49',\n",
       " 'orangered': '#fe420f',\n",
       " 'orangey brown': '#b16002',\n",
       " 'orangey red': '#fa4224',\n",
       " 'orangey yellow': '#fdb915',\n",
       " 'orangish': '#fc824a',\n",
       " 'orangish brown': '#b25f03',\n",
       " 'orangish red': '#f43605',\n",
       " 'orchid': '#c875c4',\n",
       " 'pale': '#fff9d0',\n",
       " 'pale aqua': '#b8ffeb',\n",
       " 'pale blue': '#d0fefe',\n",
       " 'pale brown': '#b1916e',\n",
       " 'pale cyan': '#b7fffa',\n",
       " 'pale gold': '#fdde6c',\n",
       " 'pale green': '#c7fdb5',\n",
       " 'pale grey': '#fdfdfe',\n",
       " 'pale lavender': '#eecffe',\n",
       " 'pale light green': '#b1fc99',\n",
       " 'pale lilac': '#e4cbff',\n",
       " 'pale lime': '#befd73',\n",
       " 'pale lime green': '#b1ff65',\n",
       " 'pale magenta': '#d767ad',\n",
       " 'pale mauve': '#fed0fc',\n",
       " 'pale olive': '#b9cc81',\n",
       " 'pale olive green': '#b1d27b',\n",
       " 'pale orange': '#ffa756',\n",
       " 'pale peach': '#ffe5ad',\n",
       " 'pale pink': '#ffcfdc',\n",
       " 'pale purple': '#b790d4',\n",
       " 'pale red': '#d9544d',\n",
       " 'pale rose': '#fdc1c5',\n",
       " 'pale salmon': '#ffb19a',\n",
       " 'pale sky blue': '#bdf6fe',\n",
       " 'pale teal': '#82cbb2',\n",
       " 'pale turquoise': '#a5fbd5',\n",
       " 'pale violet': '#ceaefa',\n",
       " 'pale yellow': '#ffff84',\n",
       " 'parchment': '#fefcaf',\n",
       " 'pastel blue': '#a2bffe',\n",
       " 'pastel green': '#b0ff9d',\n",
       " 'pastel orange': '#ff964f',\n",
       " 'pastel pink': '#ffbacd',\n",
       " 'pastel purple': '#caa0ff',\n",
       " 'pastel red': '#db5856',\n",
       " 'pastel yellow': '#fffe71',\n",
       " 'pea': '#a4bf20',\n",
       " 'pea green': '#8eab12',\n",
       " 'pea soup': '#929901',\n",
       " 'pea soup green': '#94a617',\n",
       " 'peach': '#ffb07c',\n",
       " 'peachy pink': '#ff9a8a',\n",
       " 'peacock blue': '#016795',\n",
       " 'pear': '#cbf85f',\n",
       " 'periwinkle': '#8e82fe',\n",
       " 'periwinkle blue': '#8f99fb',\n",
       " 'perrywinkle': '#8f8ce7',\n",
       " 'petrol': '#005f6a',\n",
       " 'pig pink': '#e78ea5',\n",
       " 'pine': '#2b5d34',\n",
       " 'pine green': '#0a481e',\n",
       " 'pink': '#ff81c0',\n",
       " 'pink purple': '#db4bda',\n",
       " 'pink red': '#f5054f',\n",
       " 'pink/purple': '#ef1de7',\n",
       " 'pinkish': '#d46a7e',\n",
       " 'pinkish brown': '#b17261',\n",
       " 'pinkish grey': '#c8aca9',\n",
       " 'pinkish orange': '#ff724c',\n",
       " 'pinkish purple': '#d648d7',\n",
       " 'pinkish red': '#f10c45',\n",
       " 'pinkish tan': '#d99b82',\n",
       " 'pinky': '#fc86aa',\n",
       " 'pinky purple': '#c94cbe',\n",
       " 'pinky red': '#fc2647',\n",
       " 'piss yellow': '#ddd618',\n",
       " 'pistachio': '#c0fa8b',\n",
       " 'plum': '#580f41',\n",
       " 'plum purple': '#4e0550',\n",
       " 'poison green': '#40fd14',\n",
       " 'poo': '#8f7303',\n",
       " 'poo brown': '#885f01',\n",
       " 'poop': '#7f5e00',\n",
       " 'poop brown': '#7a5901',\n",
       " 'poop green': '#6f7c00',\n",
       " 'powder blue': '#b1d1fc',\n",
       " 'powder pink': '#ffb2d0',\n",
       " 'primary blue': '#0804f9',\n",
       " 'prussian blue': '#004577',\n",
       " 'puce': '#a57e52',\n",
       " 'puke': '#a5a502',\n",
       " 'puke brown': '#947706',\n",
       " 'puke green': '#9aae07',\n",
       " 'puke yellow': '#c2be0e',\n",
       " 'pumpkin': '#e17701',\n",
       " 'pumpkin orange': '#fb7d07',\n",
       " 'pure blue': '#0203e2',\n",
       " 'purple': '#7e1e9c',\n",
       " 'purple blue': '#632de9',\n",
       " 'purple brown': '#673a3f',\n",
       " 'purple grey': '#866f85',\n",
       " 'purple pink': '#e03fd8',\n",
       " 'purple red': '#990147',\n",
       " 'purple/blue': '#5d21d0',\n",
       " 'purple/pink': '#d725de',\n",
       " 'purpleish': '#98568d',\n",
       " 'purpleish blue': '#6140ef',\n",
       " 'purpleish pink': '#df4ec8',\n",
       " 'purpley': '#8756e4',\n",
       " 'purpley blue': '#5f34e7',\n",
       " 'purpley grey': '#947e94',\n",
       " 'purpley pink': '#c83cb9',\n",
       " 'purplish': '#94568c',\n",
       " 'purplish blue': '#601ef9',\n",
       " 'purplish brown': '#6b4247',\n",
       " 'purplish grey': '#7a687f',\n",
       " 'purplish pink': '#ce5dae',\n",
       " 'purplish red': '#b0054b',\n",
       " 'purply': '#983fb2',\n",
       " 'purply blue': '#661aee',\n",
       " 'purply pink': '#f075e6',\n",
       " 'putty': '#beae8a',\n",
       " 'racing green': '#014600',\n",
       " 'radioactive green': '#2cfa1f',\n",
       " 'raspberry': '#b00149',\n",
       " 'raw sienna': '#9a6200',\n",
       " 'raw umber': '#a75e09',\n",
       " 'really light blue': '#d4ffff',\n",
       " 'red': '#e50000',\n",
       " 'red brown': '#8b2e16',\n",
       " 'red orange': '#fd3c06',\n",
       " 'red pink': '#fa2a55',\n",
       " 'red purple': '#820747',\n",
       " 'red violet': '#9e0168',\n",
       " 'red wine': '#8c0034',\n",
       " 'reddish': '#c44240',\n",
       " 'reddish brown': '#7f2b0a',\n",
       " 'reddish grey': '#997570',\n",
       " 'reddish orange': '#f8481c',\n",
       " 'reddish pink': '#fe2c54',\n",
       " 'reddish purple': '#910951',\n",
       " 'reddy brown': '#6e1005',\n",
       " 'rich blue': '#021bf9',\n",
       " 'rich purple': '#720058',\n",
       " 'robin egg blue': '#8af1fe',\n",
       " \"robin's egg\": '#6dedfd',\n",
       " \"robin's egg blue\": '#98eff9',\n",
       " 'rosa': '#fe86a4',\n",
       " 'rose': '#cf6275',\n",
       " 'rose pink': '#f7879a',\n",
       " 'rose red': '#be013c',\n",
       " 'rosy pink': '#f6688e',\n",
       " 'rouge': '#ab1239',\n",
       " 'royal': '#0c1793',\n",
       " 'royal blue': '#0504aa',\n",
       " 'royal purple': '#4b006e',\n",
       " 'ruby': '#ca0147',\n",
       " 'russet': '#a13905',\n",
       " 'rust': '#a83c09',\n",
       " 'rust brown': '#8b3103',\n",
       " 'rust orange': '#c45508',\n",
       " 'rust red': '#aa2704',\n",
       " 'rusty orange': '#cd5909',\n",
       " 'rusty red': '#af2f0d',\n",
       " 'saffron': '#feb209',\n",
       " 'sage': '#87ae73',\n",
       " 'sage green': '#88b378',\n",
       " 'salmon': '#ff796c',\n",
       " 'salmon pink': '#fe7b7c',\n",
       " 'sand': '#e2ca76',\n",
       " 'sand brown': '#cba560',\n",
       " 'sand yellow': '#fce166',\n",
       " 'sandstone': '#c9ae74',\n",
       " 'sandy': '#f1da7a',\n",
       " 'sandy brown': '#c4a661',\n",
       " 'sandy yellow': '#fdee73',\n",
       " 'sap green': '#5c8b15',\n",
       " 'sapphire': '#2138ab',\n",
       " 'scarlet': '#be0119',\n",
       " 'sea': '#3c9992',\n",
       " 'sea blue': '#047495',\n",
       " 'sea green': '#53fca1',\n",
       " 'seafoam': '#80f9ad',\n",
       " 'seafoam blue': '#78d1b6',\n",
       " 'seafoam green': '#7af9ab',\n",
       " 'seaweed': '#18d17b',\n",
       " 'seaweed green': '#35ad6b',\n",
       " 'sepia': '#985e2b',\n",
       " 'shamrock': '#01b44c',\n",
       " 'shamrock green': '#02c14d',\n",
       " 'shit': '#7f5f00',\n",
       " 'shit brown': '#7b5804',\n",
       " 'shit green': '#758000',\n",
       " 'shocking pink': '#fe02a2',\n",
       " 'sick green': '#9db92c',\n",
       " 'sickly green': '#94b21c',\n",
       " 'sickly yellow': '#d0e429',\n",
       " 'sienna': '#a9561e',\n",
       " 'silver': '#c5c9c7',\n",
       " 'sky': '#82cafc',\n",
       " 'sky blue': '#75bbfd',\n",
       " 'slate': '#516572',\n",
       " 'slate blue': '#5b7c99',\n",
       " 'slate green': '#658d6d',\n",
       " 'slate grey': '#59656d',\n",
       " 'slime green': '#99cc04',\n",
       " 'snot': '#acbb0d',\n",
       " 'snot green': '#9dc100',\n",
       " 'soft blue': '#6488ea',\n",
       " 'soft green': '#6fc276',\n",
       " 'soft pink': '#fdb0c0',\n",
       " 'soft purple': '#a66fb5',\n",
       " 'spearmint': '#1ef876',\n",
       " 'spring green': '#a9f971',\n",
       " 'spruce': '#0a5f38',\n",
       " 'squash': '#f2ab15',\n",
       " 'steel': '#738595',\n",
       " 'steel blue': '#5a7d9a',\n",
       " 'steel grey': '#6f828a',\n",
       " 'stone': '#ada587',\n",
       " 'stormy blue': '#507b9c',\n",
       " 'straw': '#fcf679',\n",
       " 'strawberry': '#fb2943',\n",
       " 'strong blue': '#0c06f7',\n",
       " 'strong pink': '#ff0789',\n",
       " 'sun yellow': '#ffdf22',\n",
       " 'sunflower': '#ffc512',\n",
       " 'sunflower yellow': '#ffda03',\n",
       " 'sunny yellow': '#fff917',\n",
       " 'sunshine yellow': '#fffd37',\n",
       " 'swamp': '#698339',\n",
       " 'swamp green': '#748500',\n",
       " 'tan': '#d1b26f',\n",
       " 'tan brown': '#ab7e4c',\n",
       " 'tan green': '#a9be70',\n",
       " 'tangerine': '#ff9408',\n",
       " 'taupe': '#b9a281',\n",
       " 'tea': '#65ab7c',\n",
       " 'tea green': '#bdf8a3',\n",
       " 'teal': '#029386',\n",
       " 'teal blue': '#01889f',\n",
       " 'teal green': '#25a36f',\n",
       " 'tealish': '#24bca8',\n",
       " 'tealish green': '#0cdc73',\n",
       " 'terra cotta': '#c9643b',\n",
       " 'terracota': '#cb6843',\n",
       " 'terracotta': '#ca6641',\n",
       " 'tiffany blue': '#7bf2da',\n",
       " 'tomato': '#ef4026',\n",
       " 'tomato red': '#ec2d01',\n",
       " 'topaz': '#13bbaf',\n",
       " 'toupe': '#c7ac7d',\n",
       " 'toxic green': '#61de2a',\n",
       " 'tree green': '#2a7e19',\n",
       " 'true blue': '#010fcc',\n",
       " 'true green': '#089404',\n",
       " 'turquoise': '#06c2ac',\n",
       " 'turquoise blue': '#06b1c4',\n",
       " 'turquoise green': '#04f489',\n",
       " 'turtle green': '#75b84f',\n",
       " 'twilight': '#4e518b',\n",
       " 'twilight blue': '#0a437a',\n",
       " 'ugly blue': '#31668a',\n",
       " 'ugly brown': '#7d7103',\n",
       " 'ugly green': '#7a9703',\n",
       " 'ugly pink': '#cd7584',\n",
       " 'ugly purple': '#a442a0',\n",
       " 'ugly yellow': '#d0c101',\n",
       " 'ultramarine': '#2000b1',\n",
       " 'ultramarine blue': '#1805db',\n",
       " 'umber': '#b26400',\n",
       " 'velvet': '#750851',\n",
       " 'vermillion': '#f4320c',\n",
       " 'very dark blue': '#000133',\n",
       " 'very dark brown': '#1d0200',\n",
       " 'very dark green': '#062e03',\n",
       " 'very dark purple': '#2a0134',\n",
       " 'very light blue': '#d5ffff',\n",
       " 'very light brown': '#d3b683',\n",
       " 'very light green': '#d1ffbd',\n",
       " 'very light pink': '#fff4f2',\n",
       " 'very light purple': '#f6cefc',\n",
       " 'very pale blue': '#d6fffe',\n",
       " 'very pale green': '#cffdbc',\n",
       " 'vibrant blue': '#0339f8',\n",
       " 'vibrant green': '#0add08',\n",
       " 'vibrant purple': '#ad03de',\n",
       " 'violet': '#9a0eea',\n",
       " 'violet blue': '#510ac9',\n",
       " 'violet pink': '#fb5ffc',\n",
       " 'violet red': '#a50055',\n",
       " 'viridian': '#1e9167',\n",
       " 'vivid blue': '#152eff',\n",
       " 'vivid green': '#2fef10',\n",
       " 'vivid purple': '#9900fa',\n",
       " 'vomit': '#a2a415',\n",
       " 'vomit green': '#89a203',\n",
       " 'vomit yellow': '#c7c10c',\n",
       " 'warm blue': '#4b57db',\n",
       " 'warm brown': '#964e02',\n",
       " 'warm grey': '#978a84',\n",
       " 'warm pink': '#fb5581',\n",
       " 'warm purple': '#952e8f',\n",
       " 'washed out green': '#bcf5a6',\n",
       " 'water blue': '#0e87cc',\n",
       " 'watermelon': '#fd4659',\n",
       " 'weird green': '#3ae57f',\n",
       " 'wheat': '#fbdd7e',\n",
       " 'white': '#ffffff',\n",
       " 'windows blue': '#3778bf',\n",
       " 'wine': '#80013f',\n",
       " 'wine red': '#7b0323',\n",
       " 'wintergreen': '#20f986',\n",
       " 'wisteria': '#a87dc2',\n",
       " 'yellow': '#ffff14',\n",
       " 'yellow brown': '#b79400',\n",
       " 'yellow green': '#c0fb2d',\n",
       " 'yellow ochre': '#cb9d06',\n",
       " 'yellow orange': '#fcb001',\n",
       " 'yellow tan': '#ffe36e',\n",
       " 'yellow/green': '#c8fd3d',\n",
       " 'yellowgreen': '#bbf90f',\n",
       " 'yellowish': '#faee66',\n",
       " 'yellowish brown': '#9b7a01',\n",
       " 'yellowish green': '#b0dd16',\n",
       " 'yellowish orange': '#ffab0f',\n",
       " 'yellowish tan': '#fcfc81',\n",
       " 'yellowy brown': '#ae8b0c',\n",
       " 'yellowy green': '#bff128'}"
      ]
     },
     "execution_count": 29,
     "metadata": {},
     "output_type": "execute_result"
    }
   ],
   "source": [
    "sns.xkcd_rgb"
   ]
  },
  {
   "cell_type": "code",
   "execution_count": 44,
   "id": "5894f6eb-6fa8-4dc1-bf47-54aef8b41949",
   "metadata": {
    "tags": []
   },
   "outputs": [
    {
     "data": {
      "text/html": [
       "<svg  width=\"550\" height=\"55\"><rect x=\"0\" y=\"0\" width=\"55\" height=\"55\" style=\"fill:#ec2d01;stroke-width:2;stroke:rgb(255,255,255)\"/><rect x=\"55\" y=\"0\" width=\"55\" height=\"55\" style=\"fill:#fc5a50;stroke-width:2;stroke:rgb(255,255,255)\"/><rect x=\"110\" y=\"0\" width=\"55\" height=\"55\" style=\"fill:#9d5783;stroke-width:2;stroke:rgb(255,255,255)\"/><rect x=\"165\" y=\"0\" width=\"55\" height=\"55\" style=\"fill:#875f42;stroke-width:2;stroke:rgb(255,255,255)\"/><rect x=\"220\" y=\"0\" width=\"55\" height=\"55\" style=\"fill:#faee66;stroke-width:2;stroke:rgb(255,255,255)\"/><rect x=\"275\" y=\"0\" width=\"55\" height=\"55\" style=\"fill:#33b864;stroke-width:2;stroke:rgb(255,255,255)\"/><rect x=\"330\" y=\"0\" width=\"55\" height=\"55\" style=\"fill:#7bb274;stroke-width:2;stroke:rgb(255,255,255)\"/><rect x=\"385\" y=\"0\" width=\"55\" height=\"55\" style=\"fill:#90e4c1;stroke-width:2;stroke:rgb(255,255,255)\"/><rect x=\"440\" y=\"0\" width=\"55\" height=\"55\" style=\"fill:#658cbb;stroke-width:2;stroke:rgb(255,255,255)\"/><rect x=\"495\" y=\"0\" width=\"55\" height=\"55\" style=\"fill:#5170d7;stroke-width:2;stroke:rgb(255,255,255)\"/></svg>"
      ],
      "text/plain": [
       "[(0.9254901960784314, 0.17647058823529413, 0.00392156862745098),\n",
       " (0.9882352941176471, 0.35294117647058826, 0.3137254901960784),\n",
       " (0.615686274509804, 0.3411764705882353, 0.5137254901960784),\n",
       " (0.5294117647058824, 0.37254901960784315, 0.25882352941176473),\n",
       " (0.9803921568627451, 0.9333333333333333, 0.4),\n",
       " (0.2, 0.7215686274509804, 0.39215686274509803),\n",
       " (0.4823529411764706, 0.6980392156862745, 0.4549019607843137),\n",
       " (0.5647058823529412, 0.8941176470588236, 0.7568627450980392),\n",
       " (0.396078431372549, 0.5490196078431373, 0.7333333333333333),\n",
       " (0.3176470588235294, 0.4392156862745098, 0.8431372549019608)]"
      ]
     },
     "execution_count": 44,
     "metadata": {},
     "output_type": "execute_result"
    }
   ],
   "source": [
    "xkcdp = sns.xkcd_palette(colors=('tomato red',\n",
    "                                 'coral',\n",
    "                                 'light plum',\n",
    "                                 'cocoa',\n",
    "                                 'yellowish', \n",
    "                                 'cool green',\n",
    "                                 'faded green',\n",
    "                                 'light teal',\n",
    "                                 'faded blue',\n",
    "                                 'cornflower blue'))\n",
    "xkcdp"
   ]
  },
  {
   "cell_type": "code",
   "execution_count": 48,
   "id": "5b6fd431-3697-4e23-a47f-1b1a7104faa8",
   "metadata": {
    "tags": []
   },
   "outputs": [],
   "source": [
    "plt.close('all')"
   ]
  },
  {
   "cell_type": "code",
   "execution_count": 50,
   "id": "e4911ec9-5ac4-4b9e-b23f-7bc064926bc4",
   "metadata": {
    "tags": []
   },
   "outputs": [
    {
     "data": {
      "application/vnd.jupyter.widget-view+json": {
       "model_id": "62e4cc7d269a4a52a764f2debe4d6c60",
       "version_major": 2,
       "version_minor": 0
      },
      "text/plain": [
       "interactive(children=(IntSlider(value=220, description='h_neg', max=359), IntSlider(value=10, description='h_p…"
      ]
     },
     "metadata": {},
     "output_type": "display_data"
    }
   ],
   "source": [
    "dp = sns.choose_diverging_palette()"
   ]
  },
  {
   "cell_type": "code",
   "execution_count": 51,
   "id": "53554cd6-0435-421c-91fc-ff5d8012285c",
   "metadata": {
    "tags": []
   },
   "outputs": [],
   "source": [
    "sns.set_palette(palette=dp)"
   ]
  },
  {
   "cell_type": "code",
   "execution_count": 52,
   "id": "0ff52064-e720-4fa3-bd2b-415f5cae4d46",
   "metadata": {
    "tags": []
   },
   "outputs": [],
   "source": [
    "fig = plt.figure(num=10, figsize=None, dpi=None)\n",
    "ax = fig.add_subplot(111)\n",
    "for num in range(15):\n",
    "    ax.plot(x, y+num)"
   ]
  },
  {
   "cell_type": "code",
   "execution_count": 71,
   "id": "2819762a-3405-494d-86be-77cc03cd5505",
   "metadata": {
    "tags": []
   },
   "outputs": [],
   "source": [
    "df = pd.DataFrame(data={'x': np.arange(0, 11, 1),\n",
    "                        'y': np.arange(0, 22, 2)})"
   ]
  },
  {
   "cell_type": "code",
   "execution_count": 85,
   "id": "25924437-fa32-4a1f-8abe-8316c37862b5",
   "metadata": {
    "tags": []
   },
   "outputs": [
    {
     "data": {
      "text/html": [
       "<div>\n",
       "<style scoped>\n",
       "    .dataframe tbody tr th:only-of-type {\n",
       "        vertical-align: middle;\n",
       "    }\n",
       "\n",
       "    .dataframe tbody tr th {\n",
       "        vertical-align: top;\n",
       "    }\n",
       "\n",
       "    .dataframe thead th {\n",
       "        text-align: right;\n",
       "    }\n",
       "</style>\n",
       "<table border=\"1\" class=\"dataframe\">\n",
       "  <thead>\n",
       "    <tr style=\"text-align: right;\">\n",
       "      <th></th>\n",
       "      <th>x</th>\n",
       "      <th>y</th>\n",
       "      <th>parity</th>\n",
       "    </tr>\n",
       "  </thead>\n",
       "  <tbody>\n",
       "    <tr>\n",
       "      <th>0</th>\n",
       "      <td>0</td>\n",
       "      <td>0</td>\n",
       "      <td>even</td>\n",
       "    </tr>\n",
       "    <tr>\n",
       "      <th>1</th>\n",
       "      <td>1</td>\n",
       "      <td>2</td>\n",
       "      <td>odd</td>\n",
       "    </tr>\n",
       "    <tr>\n",
       "      <th>2</th>\n",
       "      <td>2</td>\n",
       "      <td>4</td>\n",
       "      <td>even</td>\n",
       "    </tr>\n",
       "    <tr>\n",
       "      <th>3</th>\n",
       "      <td>3</td>\n",
       "      <td>6</td>\n",
       "      <td>odd</td>\n",
       "    </tr>\n",
       "    <tr>\n",
       "      <th>4</th>\n",
       "      <td>4</td>\n",
       "      <td>8</td>\n",
       "      <td>even</td>\n",
       "    </tr>\n",
       "  </tbody>\n",
       "</table>\n",
       "</div>"
      ],
      "text/plain": [
       "   x  y parity\n",
       "0  0  0   even\n",
       "1  1  2    odd\n",
       "2  2  4   even\n",
       "3  3  6    odd\n",
       "4  4  8   even"
      ]
     },
     "execution_count": 85,
     "metadata": {},
     "output_type": "execute_result"
    }
   ],
   "source": [
    "df.head()"
   ]
  },
  {
   "cell_type": "code",
   "execution_count": 86,
   "id": "018fb70b-48f2-4147-ba3b-bd6680b2a275",
   "metadata": {
    "tags": []
   },
   "outputs": [
    {
     "data": {
      "text/plain": [
       "0    0\n",
       "1    1\n",
       "2    0\n",
       "3    1\n",
       "4    0\n",
       "Name: x, dtype: int32"
      ]
     },
     "execution_count": 86,
     "metadata": {},
     "output_type": "execute_result"
    }
   ],
   "source": [
    "df['x'].head() % 2"
   ]
  },
  {
   "cell_type": "code",
   "execution_count": 87,
   "id": "d9a8bd27-31bf-46ab-9d7a-422a17421bee",
   "metadata": {
    "tags": []
   },
   "outputs": [
    {
     "data": {
      "text/plain": [
       "0     True\n",
       "1    False\n",
       "2     True\n",
       "3    False\n",
       "4     True\n",
       "Name: x, dtype: bool"
      ]
     },
     "execution_count": 87,
     "metadata": {},
     "output_type": "execute_result"
    }
   ],
   "source": [
    "df['x'].head() % 2 == 0"
   ]
  },
  {
   "cell_type": "code",
   "execution_count": 75,
   "id": "34d5aaf1-576e-44c0-b61e-3cca590c2474",
   "metadata": {
    "tags": []
   },
   "outputs": [],
   "source": [
    "df['parity'] = df['x'] % 2 == 0"
   ]
  },
  {
   "cell_type": "code",
   "execution_count": 88,
   "id": "2d7e6097-0dca-4c17-89e4-409c4b8365b6",
   "metadata": {
    "tags": []
   },
   "outputs": [
    {
     "data": {
      "text/html": [
       "<div>\n",
       "<style scoped>\n",
       "    .dataframe tbody tr th:only-of-type {\n",
       "        vertical-align: middle;\n",
       "    }\n",
       "\n",
       "    .dataframe tbody tr th {\n",
       "        vertical-align: top;\n",
       "    }\n",
       "\n",
       "    .dataframe thead th {\n",
       "        text-align: right;\n",
       "    }\n",
       "</style>\n",
       "<table border=\"1\" class=\"dataframe\">\n",
       "  <thead>\n",
       "    <tr style=\"text-align: right;\">\n",
       "      <th></th>\n",
       "      <th>x</th>\n",
       "      <th>y</th>\n",
       "      <th>parity</th>\n",
       "    </tr>\n",
       "  </thead>\n",
       "  <tbody>\n",
       "    <tr>\n",
       "      <th>0</th>\n",
       "      <td>0</td>\n",
       "      <td>0</td>\n",
       "      <td>even</td>\n",
       "    </tr>\n",
       "    <tr>\n",
       "      <th>1</th>\n",
       "      <td>1</td>\n",
       "      <td>2</td>\n",
       "      <td>odd</td>\n",
       "    </tr>\n",
       "    <tr>\n",
       "      <th>2</th>\n",
       "      <td>2</td>\n",
       "      <td>4</td>\n",
       "      <td>even</td>\n",
       "    </tr>\n",
       "    <tr>\n",
       "      <th>3</th>\n",
       "      <td>3</td>\n",
       "      <td>6</td>\n",
       "      <td>odd</td>\n",
       "    </tr>\n",
       "    <tr>\n",
       "      <th>4</th>\n",
       "      <td>4</td>\n",
       "      <td>8</td>\n",
       "      <td>even</td>\n",
       "    </tr>\n",
       "  </tbody>\n",
       "</table>\n",
       "</div>"
      ],
      "text/plain": [
       "   x  y parity\n",
       "0  0  0   even\n",
       "1  1  2    odd\n",
       "2  2  4   even\n",
       "3  3  6    odd\n",
       "4  4  8   even"
      ]
     },
     "execution_count": 88,
     "metadata": {},
     "output_type": "execute_result"
    }
   ],
   "source": [
    "df.head()"
   ]
  },
  {
   "cell_type": "code",
   "execution_count": 77,
   "id": "377e7488-b582-4cb8-bb59-93fd802001f3",
   "metadata": {
    "tags": []
   },
   "outputs": [
    {
     "data": {
      "text/plain": [
       "x         int32\n",
       "y         int32\n",
       "parity     bool\n",
       "dtype: object"
      ]
     },
     "execution_count": 77,
     "metadata": {},
     "output_type": "execute_result"
    }
   ],
   "source": [
    "df.dtypes"
   ]
  },
  {
   "cell_type": "code",
   "execution_count": 78,
   "id": "f472da3e-12a7-4605-aee0-8f58219e0ee7",
   "metadata": {
    "tags": []
   },
   "outputs": [],
   "source": [
    "df['parity'] = df['parity'].astype('category')"
   ]
  },
  {
   "cell_type": "code",
   "execution_count": 79,
   "id": "669a5006-c550-468c-b81f-8c9ec64c44c9",
   "metadata": {
    "tags": []
   },
   "outputs": [
    {
     "data": {
      "text/html": [
       "<div>\n",
       "<style scoped>\n",
       "    .dataframe tbody tr th:only-of-type {\n",
       "        vertical-align: middle;\n",
       "    }\n",
       "\n",
       "    .dataframe tbody tr th {\n",
       "        vertical-align: top;\n",
       "    }\n",
       "\n",
       "    .dataframe thead th {\n",
       "        text-align: right;\n",
       "    }\n",
       "</style>\n",
       "<table border=\"1\" class=\"dataframe\">\n",
       "  <thead>\n",
       "    <tr style=\"text-align: right;\">\n",
       "      <th></th>\n",
       "      <th>x</th>\n",
       "      <th>y</th>\n",
       "      <th>parity</th>\n",
       "    </tr>\n",
       "  </thead>\n",
       "  <tbody>\n",
       "    <tr>\n",
       "      <th>0</th>\n",
       "      <td>0</td>\n",
       "      <td>0</td>\n",
       "      <td>True</td>\n",
       "    </tr>\n",
       "    <tr>\n",
       "      <th>1</th>\n",
       "      <td>1</td>\n",
       "      <td>2</td>\n",
       "      <td>False</td>\n",
       "    </tr>\n",
       "    <tr>\n",
       "      <th>2</th>\n",
       "      <td>2</td>\n",
       "      <td>4</td>\n",
       "      <td>True</td>\n",
       "    </tr>\n",
       "    <tr>\n",
       "      <th>3</th>\n",
       "      <td>3</td>\n",
       "      <td>6</td>\n",
       "      <td>False</td>\n",
       "    </tr>\n",
       "    <tr>\n",
       "      <th>4</th>\n",
       "      <td>4</td>\n",
       "      <td>8</td>\n",
       "      <td>True</td>\n",
       "    </tr>\n",
       "    <tr>\n",
       "      <th>5</th>\n",
       "      <td>5</td>\n",
       "      <td>10</td>\n",
       "      <td>False</td>\n",
       "    </tr>\n",
       "    <tr>\n",
       "      <th>6</th>\n",
       "      <td>6</td>\n",
       "      <td>12</td>\n",
       "      <td>True</td>\n",
       "    </tr>\n",
       "    <tr>\n",
       "      <th>7</th>\n",
       "      <td>7</td>\n",
       "      <td>14</td>\n",
       "      <td>False</td>\n",
       "    </tr>\n",
       "    <tr>\n",
       "      <th>8</th>\n",
       "      <td>8</td>\n",
       "      <td>16</td>\n",
       "      <td>True</td>\n",
       "    </tr>\n",
       "    <tr>\n",
       "      <th>9</th>\n",
       "      <td>9</td>\n",
       "      <td>18</td>\n",
       "      <td>False</td>\n",
       "    </tr>\n",
       "    <tr>\n",
       "      <th>10</th>\n",
       "      <td>10</td>\n",
       "      <td>20</td>\n",
       "      <td>True</td>\n",
       "    </tr>\n",
       "  </tbody>\n",
       "</table>\n",
       "</div>"
      ],
      "text/plain": [
       "     x   y parity\n",
       "0    0   0   True\n",
       "1    1   2  False\n",
       "2    2   4   True\n",
       "3    3   6  False\n",
       "4    4   8   True\n",
       "5    5  10  False\n",
       "6    6  12   True\n",
       "7    7  14  False\n",
       "8    8  16   True\n",
       "9    9  18  False\n",
       "10  10  20   True"
      ]
     },
     "execution_count": 79,
     "metadata": {},
     "output_type": "execute_result"
    }
   ],
   "source": [
    "df"
   ]
  },
  {
   "cell_type": "code",
   "execution_count": 80,
   "id": "179f55b7-0859-42c7-8483-9b53ec75bba6",
   "metadata": {
    "tags": []
   },
   "outputs": [
    {
     "data": {
      "text/plain": [
       "x            int32\n",
       "y            int32\n",
       "parity    category\n",
       "dtype: object"
      ]
     },
     "execution_count": 80,
     "metadata": {},
     "output_type": "execute_result"
    }
   ],
   "source": [
    "df.dtypes"
   ]
  },
  {
   "cell_type": "code",
   "execution_count": 81,
   "id": "2445ca5d-89b4-4111-afa7-f9102f264e3d",
   "metadata": {
    "tags": []
   },
   "outputs": [
    {
     "data": {
      "text/plain": [
       "0     even\n",
       "1      odd\n",
       "2     even\n",
       "3      odd\n",
       "4     even\n",
       "5      odd\n",
       "6     even\n",
       "7      odd\n",
       "8     even\n",
       "9      odd\n",
       "10    even\n",
       "Name: parity, dtype: category\n",
       "Categories (2, object): ['odd', 'even']"
      ]
     },
     "execution_count": 81,
     "metadata": {},
     "output_type": "execute_result"
    }
   ],
   "source": [
    "df['parity'].cat.rename_categories({True: 'even',\n",
    "                                    False: 'odd'})"
   ]
  },
  {
   "cell_type": "code",
   "execution_count": 82,
   "id": "65d6b418-0cb0-4128-9ad0-49ec02ecb015",
   "metadata": {
    "tags": []
   },
   "outputs": [],
   "source": [
    "df['parity'] =df['parity'].cat.rename_categories({True: 'even',\n",
    "                                                  False: 'odd'})"
   ]
  },
  {
   "cell_type": "code",
   "execution_count": 83,
   "id": "472b1b5c-9a4a-4ba1-b7ec-0a0f30ebc41a",
   "metadata": {
    "tags": []
   },
   "outputs": [
    {
     "data": {
      "text/html": [
       "<div>\n",
       "<style scoped>\n",
       "    .dataframe tbody tr th:only-of-type {\n",
       "        vertical-align: middle;\n",
       "    }\n",
       "\n",
       "    .dataframe tbody tr th {\n",
       "        vertical-align: top;\n",
       "    }\n",
       "\n",
       "    .dataframe thead th {\n",
       "        text-align: right;\n",
       "    }\n",
       "</style>\n",
       "<table border=\"1\" class=\"dataframe\">\n",
       "  <thead>\n",
       "    <tr style=\"text-align: right;\">\n",
       "      <th></th>\n",
       "      <th>x</th>\n",
       "      <th>y</th>\n",
       "      <th>parity</th>\n",
       "    </tr>\n",
       "  </thead>\n",
       "  <tbody>\n",
       "    <tr>\n",
       "      <th>0</th>\n",
       "      <td>0</td>\n",
       "      <td>0</td>\n",
       "      <td>even</td>\n",
       "    </tr>\n",
       "    <tr>\n",
       "      <th>1</th>\n",
       "      <td>1</td>\n",
       "      <td>2</td>\n",
       "      <td>odd</td>\n",
       "    </tr>\n",
       "    <tr>\n",
       "      <th>2</th>\n",
       "      <td>2</td>\n",
       "      <td>4</td>\n",
       "      <td>even</td>\n",
       "    </tr>\n",
       "    <tr>\n",
       "      <th>3</th>\n",
       "      <td>3</td>\n",
       "      <td>6</td>\n",
       "      <td>odd</td>\n",
       "    </tr>\n",
       "    <tr>\n",
       "      <th>4</th>\n",
       "      <td>4</td>\n",
       "      <td>8</td>\n",
       "      <td>even</td>\n",
       "    </tr>\n",
       "    <tr>\n",
       "      <th>5</th>\n",
       "      <td>5</td>\n",
       "      <td>10</td>\n",
       "      <td>odd</td>\n",
       "    </tr>\n",
       "    <tr>\n",
       "      <th>6</th>\n",
       "      <td>6</td>\n",
       "      <td>12</td>\n",
       "      <td>even</td>\n",
       "    </tr>\n",
       "    <tr>\n",
       "      <th>7</th>\n",
       "      <td>7</td>\n",
       "      <td>14</td>\n",
       "      <td>odd</td>\n",
       "    </tr>\n",
       "    <tr>\n",
       "      <th>8</th>\n",
       "      <td>8</td>\n",
       "      <td>16</td>\n",
       "      <td>even</td>\n",
       "    </tr>\n",
       "    <tr>\n",
       "      <th>9</th>\n",
       "      <td>9</td>\n",
       "      <td>18</td>\n",
       "      <td>odd</td>\n",
       "    </tr>\n",
       "    <tr>\n",
       "      <th>10</th>\n",
       "      <td>10</td>\n",
       "      <td>20</td>\n",
       "      <td>even</td>\n",
       "    </tr>\n",
       "  </tbody>\n",
       "</table>\n",
       "</div>"
      ],
      "text/plain": [
       "     x   y parity\n",
       "0    0   0   even\n",
       "1    1   2    odd\n",
       "2    2   4   even\n",
       "3    3   6    odd\n",
       "4    4   8   even\n",
       "5    5  10    odd\n",
       "6    6  12   even\n",
       "7    7  14    odd\n",
       "8    8  16   even\n",
       "9    9  18    odd\n",
       "10  10  20   even"
      ]
     },
     "execution_count": 83,
     "metadata": {},
     "output_type": "execute_result"
    }
   ],
   "source": [
    "df"
   ]
  },
  {
   "cell_type": "code",
   "execution_count": 84,
   "id": "1a592fdf-57f8-4601-9853-cbe24bfa39ce",
   "metadata": {
    "tags": []
   },
   "outputs": [
    {
     "data": {
      "text/plain": [
       "x            int32\n",
       "y            int32\n",
       "parity    category\n",
       "dtype: object"
      ]
     },
     "execution_count": 84,
     "metadata": {},
     "output_type": "execute_result"
    }
   ],
   "source": [
    "df.dtypes"
   ]
  },
  {
   "cell_type": "code",
   "execution_count": 90,
   "id": "1ccefaa9-6332-41c5-aabe-7e124dcc7f34",
   "metadata": {
    "tags": []
   },
   "outputs": [
    {
     "data": {
      "text/plain": [
       "<Axes: xlabel='x', ylabel='y'>"
      ]
     },
     "execution_count": 90,
     "metadata": {},
     "output_type": "execute_result"
    }
   ],
   "source": [
    "fig = plt.figure(num=11, figsize=None, dpi=None)\n",
    "sns.lineplot(data=df, x='x', y='y')"
   ]
  },
  {
   "cell_type": "code",
   "execution_count": 92,
   "id": "15d26ee1-3e8a-44b6-be63-388c52e757f8",
   "metadata": {
    "tags": []
   },
   "outputs": [
    {
     "data": {
      "text/plain": [
       "<Axes: xlabel='x', ylabel='y'>"
      ]
     },
     "execution_count": 92,
     "metadata": {},
     "output_type": "execute_result"
    }
   ],
   "source": [
    "fig = plt.figure(num=12, figsize=None, dpi=None)\n",
    "sns.scatterplot(data=df, x='x', y='y')"
   ]
  },
  {
   "cell_type": "code",
   "execution_count": 94,
   "id": "ad26ff8d-0805-4ad3-a9c1-35cdec1e2e85",
   "metadata": {
    "tags": []
   },
   "outputs": [],
   "source": [
    "sns.set_style('whitegrid')\n",
    "sns.set_palette(palette='tab10')"
   ]
  },
  {
   "cell_type": "code",
   "execution_count": 95,
   "id": "c581d7ea-bb05-4d4e-8292-817c3eeeef04",
   "metadata": {
    "tags": []
   },
   "outputs": [
    {
     "data": {
      "text/plain": [
       "<Axes: xlabel='x', ylabel='y'>"
      ]
     },
     "execution_count": 95,
     "metadata": {},
     "output_type": "execute_result"
    }
   ],
   "source": [
    "fig = plt.figure(num=13, figsize=None, dpi=None)\n",
    "sns.scatterplot(data=df, x='x', y='y', hue='parity')"
   ]
  },
  {
   "cell_type": "code",
   "execution_count": 97,
   "id": "2aad999d-210c-47ba-9d62-09acf7bd65e3",
   "metadata": {
    "tags": []
   },
   "outputs": [
    {
     "data": {
      "text/plain": [
       "<Axes: xlabel='x', ylabel='y'>"
      ]
     },
     "execution_count": 97,
     "metadata": {},
     "output_type": "execute_result"
    }
   ],
   "source": [
    "fig = plt.figure(num=14, figsize=None, dpi=None)\n",
    "sns.stripplot(data=df, x='x', y='y', hue='parity')"
   ]
  },
  {
   "cell_type": "code",
   "execution_count": 98,
   "id": "525bcefc-3036-4e84-9183-497034c9a9ab",
   "metadata": {
    "tags": []
   },
   "outputs": [
    {
     "data": {
      "text/plain": [
       "<Axes: xlabel='x', ylabel='y'>"
      ]
     },
     "execution_count": 98,
     "metadata": {},
     "output_type": "execute_result"
    }
   ],
   "source": [
    "fig = plt.figure(num=15, figsize=None, dpi=None)\n",
    "sns.swarmplot(data=df, x='x', y='y', hue='parity')"
   ]
  },
  {
   "cell_type": "code",
   "execution_count": 111,
   "id": "2ad64aa9-2539-49aa-8add-baae6994420d",
   "metadata": {
    "tags": []
   },
   "outputs": [],
   "source": [
    "fig = plt.figure(num=16, figsize=None, dpi=None)\n",
    "ax1 = fig.add_subplot(221)\n",
    "ax2 = fig.add_subplot(222)\n",
    "ax3 = fig.add_subplot(223)\n",
    "ax4 = fig.add_subplot(224)"
   ]
  },
  {
   "cell_type": "code",
   "execution_count": 112,
   "id": "248e457b-72e6-4d26-9cfe-da301a4a47ac",
   "metadata": {
    "tags": []
   },
   "outputs": [
    {
     "data": {
      "text/plain": [
       "<Axes: xlabel='x', ylabel='y'>"
      ]
     },
     "execution_count": 112,
     "metadata": {},
     "output_type": "execute_result"
    }
   ],
   "source": [
    "fig.sca(ax1)\n",
    "sns.lineplot(data=df, x='x', y='y')\n",
    "fig.sca(ax2)\n",
    "sns.scatterplot(data=df, x='x', y='y', hue='parity')\n",
    "fig.sca(ax3)\n",
    "sns.swarmplot(data=df, x='x', y='y', hue='parity')\n",
    "fig.sca(ax4)\n",
    "sns.stripplot(data=df, x='x', y='y', hue='parity')"
   ]
  },
  {
   "cell_type": "code",
   "execution_count": 113,
   "id": "ebaf04e0-f024-4c11-9af4-378e7d6f1d9d",
   "metadata": {
    "tags": []
   },
   "outputs": [
    {
     "data": {
      "text/plain": [
       "<Axes: xlabel='x', ylabel='y'>"
      ]
     },
     "execution_count": 113,
     "metadata": {},
     "output_type": "execute_result"
    }
   ],
   "source": [
    "fig = plt.figure(num=15, figsize=None, dpi=None)\n",
    "ax1 = fig.add_subplot(221)\n",
    "sns.lineplot(data=df, x='x', y='y')\n",
    "ax2 = fig.add_subplot(222)\n",
    "sns.scatterplot(data=df, x='x', y='y', hue='parity')\n",
    "ax3 = fig.add_subplot(223)\n",
    "sns.swarmplot(data=df, x='x', y='y', hue='parity')\n",
    "ax4 = fig.add_subplot(224)\n",
    "sns.stripplot(data=df, x='x', y='y', hue='parity')"
   ]
  },
  {
   "cell_type": "code",
   "execution_count": 114,
   "id": "5bb90915-835f-4281-82bc-4413d6248a44",
   "metadata": {
    "scrolled": true,
    "tags": []
   },
   "outputs": [
    {
     "data": {
      "text/plain": [
       "['anagrams',\n",
       " 'anscombe',\n",
       " 'attention',\n",
       " 'brain_networks',\n",
       " 'car_crashes',\n",
       " 'diamonds',\n",
       " 'dots',\n",
       " 'dowjones',\n",
       " 'exercise',\n",
       " 'flights',\n",
       " 'fmri',\n",
       " 'geyser',\n",
       " 'glue',\n",
       " 'healthexp',\n",
       " 'iris',\n",
       " 'mpg',\n",
       " 'penguins',\n",
       " 'planets',\n",
       " 'seaice',\n",
       " 'taxis',\n",
       " 'tips',\n",
       " 'titanic']"
      ]
     },
     "execution_count": 114,
     "metadata": {},
     "output_type": "execute_result"
    }
   ],
   "source": [
    "sns.get_dataset_names()"
   ]
  },
  {
   "cell_type": "code",
   "execution_count": 115,
   "id": "bc91b63d-4729-4295-aa98-e41c9465269a",
   "metadata": {
    "tags": []
   },
   "outputs": [],
   "source": [
    "flights = sns.load_dataset(name='flights')"
   ]
  },
  {
   "cell_type": "code",
   "execution_count": 116,
   "id": "de0ebb27-9c7c-4cf4-b2fe-ad16016b55f3",
   "metadata": {
    "tags": []
   },
   "outputs": [
    {
     "data": {
      "text/html": [
       "<div>\n",
       "<style scoped>\n",
       "    .dataframe tbody tr th:only-of-type {\n",
       "        vertical-align: middle;\n",
       "    }\n",
       "\n",
       "    .dataframe tbody tr th {\n",
       "        vertical-align: top;\n",
       "    }\n",
       "\n",
       "    .dataframe thead th {\n",
       "        text-align: right;\n",
       "    }\n",
       "</style>\n",
       "<table border=\"1\" class=\"dataframe\">\n",
       "  <thead>\n",
       "    <tr style=\"text-align: right;\">\n",
       "      <th></th>\n",
       "      <th>year</th>\n",
       "      <th>month</th>\n",
       "      <th>passengers</th>\n",
       "    </tr>\n",
       "  </thead>\n",
       "  <tbody>\n",
       "    <tr>\n",
       "      <th>0</th>\n",
       "      <td>1949</td>\n",
       "      <td>Jan</td>\n",
       "      <td>112</td>\n",
       "    </tr>\n",
       "    <tr>\n",
       "      <th>1</th>\n",
       "      <td>1949</td>\n",
       "      <td>Feb</td>\n",
       "      <td>118</td>\n",
       "    </tr>\n",
       "    <tr>\n",
       "      <th>2</th>\n",
       "      <td>1949</td>\n",
       "      <td>Mar</td>\n",
       "      <td>132</td>\n",
       "    </tr>\n",
       "    <tr>\n",
       "      <th>3</th>\n",
       "      <td>1949</td>\n",
       "      <td>Apr</td>\n",
       "      <td>129</td>\n",
       "    </tr>\n",
       "    <tr>\n",
       "      <th>4</th>\n",
       "      <td>1949</td>\n",
       "      <td>May</td>\n",
       "      <td>121</td>\n",
       "    </tr>\n",
       "  </tbody>\n",
       "</table>\n",
       "</div>"
      ],
      "text/plain": [
       "   year month  passengers\n",
       "0  1949   Jan         112\n",
       "1  1949   Feb         118\n",
       "2  1949   Mar         132\n",
       "3  1949   Apr         129\n",
       "4  1949   May         121"
      ]
     },
     "execution_count": 116,
     "metadata": {},
     "output_type": "execute_result"
    }
   ],
   "source": [
    "flights.head()"
   ]
  },
  {
   "cell_type": "code",
   "execution_count": 117,
   "id": "a2bf24c4-fe91-4586-aee7-0db3dbe51bdb",
   "metadata": {
    "tags": []
   },
   "outputs": [
    {
     "data": {
      "text/plain": [
       "year             int64\n",
       "month         category\n",
       "passengers       int64\n",
       "dtype: object"
      ]
     },
     "execution_count": 117,
     "metadata": {},
     "output_type": "execute_result"
    }
   ],
   "source": [
    "flights.dtypes"
   ]
  },
  {
   "cell_type": "code",
   "execution_count": 118,
   "id": "7930dc20-3f67-4d54-b6a2-0136b6c7b243",
   "metadata": {
    "tags": []
   },
   "outputs": [
    {
     "data": {
      "text/plain": [
       "(144, 3)"
      ]
     },
     "execution_count": 118,
     "metadata": {},
     "output_type": "execute_result"
    }
   ],
   "source": [
    "flights.shape"
   ]
  },
  {
   "cell_type": "code",
   "execution_count": 125,
   "id": "9fa788dd-86cd-4272-9c41-cc864986823c",
   "metadata": {
    "tags": []
   },
   "outputs": [
    {
     "name": "stdout",
     "output_type": "stream",
     "text": [
      "<class 'pandas.core.frame.DataFrame'>\n",
      "RangeIndex: 144 entries, 0 to 143\n",
      "Data columns (total 3 columns):\n",
      " #   Column      Non-Null Count  Dtype   \n",
      "---  ------      --------------  -----   \n",
      " 0   year        144 non-null    int64   \n",
      " 1   month       144 non-null    category\n",
      " 2   passengers  144 non-null    int64   \n",
      "dtypes: category(1), int64(2)\n",
      "memory usage: 2.9 KB\n"
     ]
    }
   ],
   "source": [
    "flights.info()"
   ]
  },
  {
   "cell_type": "code",
   "execution_count": 123,
   "id": "450babbc-59a6-4904-a40a-1adc6b3b8702",
   "metadata": {
    "tags": []
   },
   "outputs": [],
   "source": [
    "exercise = sns.load_dataset(name='exercise')"
   ]
  },
  {
   "cell_type": "code",
   "execution_count": 126,
   "id": "7098c09d-1e4e-460a-8184-83f6d9dcdd5d",
   "metadata": {
    "tags": []
   },
   "outputs": [
    {
     "data": {
      "text/html": [
       "<div>\n",
       "<style scoped>\n",
       "    .dataframe tbody tr th:only-of-type {\n",
       "        vertical-align: middle;\n",
       "    }\n",
       "\n",
       "    .dataframe tbody tr th {\n",
       "        vertical-align: top;\n",
       "    }\n",
       "\n",
       "    .dataframe thead th {\n",
       "        text-align: right;\n",
       "    }\n",
       "</style>\n",
       "<table border=\"1\" class=\"dataframe\">\n",
       "  <thead>\n",
       "    <tr style=\"text-align: right;\">\n",
       "      <th></th>\n",
       "      <th>Unnamed: 0</th>\n",
       "      <th>id</th>\n",
       "      <th>diet</th>\n",
       "      <th>pulse</th>\n",
       "      <th>time</th>\n",
       "      <th>kind</th>\n",
       "    </tr>\n",
       "  </thead>\n",
       "  <tbody>\n",
       "    <tr>\n",
       "      <th>0</th>\n",
       "      <td>0</td>\n",
       "      <td>1</td>\n",
       "      <td>low fat</td>\n",
       "      <td>85</td>\n",
       "      <td>1 min</td>\n",
       "      <td>rest</td>\n",
       "    </tr>\n",
       "    <tr>\n",
       "      <th>1</th>\n",
       "      <td>1</td>\n",
       "      <td>1</td>\n",
       "      <td>low fat</td>\n",
       "      <td>85</td>\n",
       "      <td>15 min</td>\n",
       "      <td>rest</td>\n",
       "    </tr>\n",
       "    <tr>\n",
       "      <th>2</th>\n",
       "      <td>2</td>\n",
       "      <td>1</td>\n",
       "      <td>low fat</td>\n",
       "      <td>88</td>\n",
       "      <td>30 min</td>\n",
       "      <td>rest</td>\n",
       "    </tr>\n",
       "    <tr>\n",
       "      <th>3</th>\n",
       "      <td>3</td>\n",
       "      <td>2</td>\n",
       "      <td>low fat</td>\n",
       "      <td>90</td>\n",
       "      <td>1 min</td>\n",
       "      <td>rest</td>\n",
       "    </tr>\n",
       "    <tr>\n",
       "      <th>4</th>\n",
       "      <td>4</td>\n",
       "      <td>2</td>\n",
       "      <td>low fat</td>\n",
       "      <td>92</td>\n",
       "      <td>15 min</td>\n",
       "      <td>rest</td>\n",
       "    </tr>\n",
       "  </tbody>\n",
       "</table>\n",
       "</div>"
      ],
      "text/plain": [
       "   Unnamed: 0  id     diet  pulse    time  kind\n",
       "0           0   1  low fat     85   1 min  rest\n",
       "1           1   1  low fat     85  15 min  rest\n",
       "2           2   1  low fat     88  30 min  rest\n",
       "3           3   2  low fat     90   1 min  rest\n",
       "4           4   2  low fat     92  15 min  rest"
      ]
     },
     "execution_count": 126,
     "metadata": {},
     "output_type": "execute_result"
    }
   ],
   "source": [
    "exercise.head()"
   ]
  },
  {
   "cell_type": "code",
   "execution_count": 130,
   "id": "505c9b19-c25b-4667-bf68-898d4da1a19a",
   "metadata": {
    "tags": []
   },
   "outputs": [
    {
     "data": {
      "text/plain": [
       "(90, 6)"
      ]
     },
     "execution_count": 130,
     "metadata": {},
     "output_type": "execute_result"
    }
   ],
   "source": [
    "exercise.shape"
   ]
  },
  {
   "cell_type": "code",
   "execution_count": 128,
   "id": "2175eddf-06ed-485a-9f20-bbab51fbf4b4",
   "metadata": {
    "tags": []
   },
   "outputs": [
    {
     "name": "stdout",
     "output_type": "stream",
     "text": [
      "<class 'pandas.core.frame.DataFrame'>\n",
      "RangeIndex: 90 entries, 0 to 89\n",
      "Data columns (total 6 columns):\n",
      " #   Column      Non-Null Count  Dtype   \n",
      "---  ------      --------------  -----   \n",
      " 0   Unnamed: 0  90 non-null     int64   \n",
      " 1   id          90 non-null     int64   \n",
      " 2   diet        90 non-null     category\n",
      " 3   pulse       90 non-null     int64   \n",
      " 4   time        90 non-null     category\n",
      " 5   kind        90 non-null     category\n",
      "dtypes: category(3), int64(3)\n",
      "memory usage: 2.9 KB\n"
     ]
    }
   ],
   "source": [
    "exercise.info()"
   ]
  },
  {
   "cell_type": "code",
   "execution_count": 131,
   "id": "6d4dc483-5a84-473b-9fb1-328066640a97",
   "metadata": {
    "tags": []
   },
   "outputs": [],
   "source": [
    "tips = sns.load_dataset(name='tips')"
   ]
  },
  {
   "cell_type": "code",
   "execution_count": 132,
   "id": "c7202fae-e89c-4b5b-a74b-ac74a60c4a95",
   "metadata": {
    "tags": []
   },
   "outputs": [
    {
     "data": {
      "text/html": [
       "<div>\n",
       "<style scoped>\n",
       "    .dataframe tbody tr th:only-of-type {\n",
       "        vertical-align: middle;\n",
       "    }\n",
       "\n",
       "    .dataframe tbody tr th {\n",
       "        vertical-align: top;\n",
       "    }\n",
       "\n",
       "    .dataframe thead th {\n",
       "        text-align: right;\n",
       "    }\n",
       "</style>\n",
       "<table border=\"1\" class=\"dataframe\">\n",
       "  <thead>\n",
       "    <tr style=\"text-align: right;\">\n",
       "      <th></th>\n",
       "      <th>total_bill</th>\n",
       "      <th>tip</th>\n",
       "      <th>sex</th>\n",
       "      <th>smoker</th>\n",
       "      <th>day</th>\n",
       "      <th>time</th>\n",
       "      <th>size</th>\n",
       "    </tr>\n",
       "  </thead>\n",
       "  <tbody>\n",
       "    <tr>\n",
       "      <th>0</th>\n",
       "      <td>16.99</td>\n",
       "      <td>1.01</td>\n",
       "      <td>Female</td>\n",
       "      <td>No</td>\n",
       "      <td>Sun</td>\n",
       "      <td>Dinner</td>\n",
       "      <td>2</td>\n",
       "    </tr>\n",
       "    <tr>\n",
       "      <th>1</th>\n",
       "      <td>10.34</td>\n",
       "      <td>1.66</td>\n",
       "      <td>Male</td>\n",
       "      <td>No</td>\n",
       "      <td>Sun</td>\n",
       "      <td>Dinner</td>\n",
       "      <td>3</td>\n",
       "    </tr>\n",
       "    <tr>\n",
       "      <th>2</th>\n",
       "      <td>21.01</td>\n",
       "      <td>3.50</td>\n",
       "      <td>Male</td>\n",
       "      <td>No</td>\n",
       "      <td>Sun</td>\n",
       "      <td>Dinner</td>\n",
       "      <td>3</td>\n",
       "    </tr>\n",
       "    <tr>\n",
       "      <th>3</th>\n",
       "      <td>23.68</td>\n",
       "      <td>3.31</td>\n",
       "      <td>Male</td>\n",
       "      <td>No</td>\n",
       "      <td>Sun</td>\n",
       "      <td>Dinner</td>\n",
       "      <td>2</td>\n",
       "    </tr>\n",
       "    <tr>\n",
       "      <th>4</th>\n",
       "      <td>24.59</td>\n",
       "      <td>3.61</td>\n",
       "      <td>Female</td>\n",
       "      <td>No</td>\n",
       "      <td>Sun</td>\n",
       "      <td>Dinner</td>\n",
       "      <td>4</td>\n",
       "    </tr>\n",
       "  </tbody>\n",
       "</table>\n",
       "</div>"
      ],
      "text/plain": [
       "   total_bill   tip     sex smoker  day    time  size\n",
       "0       16.99  1.01  Female     No  Sun  Dinner     2\n",
       "1       10.34  1.66    Male     No  Sun  Dinner     3\n",
       "2       21.01  3.50    Male     No  Sun  Dinner     3\n",
       "3       23.68  3.31    Male     No  Sun  Dinner     2\n",
       "4       24.59  3.61  Female     No  Sun  Dinner     4"
      ]
     },
     "execution_count": 132,
     "metadata": {},
     "output_type": "execute_result"
    }
   ],
   "source": [
    "tips.head()"
   ]
  },
  {
   "cell_type": "code",
   "execution_count": 135,
   "id": "4a6a1a16-1ec6-4e11-ad57-71d00726180b",
   "metadata": {
    "tags": []
   },
   "outputs": [
    {
     "data": {
      "text/plain": [
       "total_bill     float64\n",
       "tip            float64\n",
       "sex           category\n",
       "smoker        category\n",
       "day           category\n",
       "time          category\n",
       "size             int64\n",
       "dtype: object"
      ]
     },
     "execution_count": 135,
     "metadata": {},
     "output_type": "execute_result"
    }
   ],
   "source": [
    "tips.dtypes"
   ]
  },
  {
   "cell_type": "code",
   "execution_count": 134,
   "id": "24efe0a7-0a20-4818-9559-f8888cf23793",
   "metadata": {
    "tags": []
   },
   "outputs": [
    {
     "data": {
      "text/plain": [
       "(244, 7)"
      ]
     },
     "execution_count": 134,
     "metadata": {},
     "output_type": "execute_result"
    }
   ],
   "source": [
    "tips.shape"
   ]
  },
  {
   "cell_type": "code",
   "execution_count": 137,
   "id": "0f3e5581-4ef3-488e-b390-f9d100bc6670",
   "metadata": {
    "tags": []
   },
   "outputs": [
    {
     "name": "stdout",
     "output_type": "stream",
     "text": [
      "<class 'pandas.core.frame.DataFrame'>\n",
      "RangeIndex: 244 entries, 0 to 243\n",
      "Data columns (total 7 columns):\n",
      " #   Column      Non-Null Count  Dtype   \n",
      "---  ------      --------------  -----   \n",
      " 0   total_bill  244 non-null    float64 \n",
      " 1   tip         244 non-null    float64 \n",
      " 2   sex         244 non-null    category\n",
      " 3   smoker      244 non-null    category\n",
      " 4   day         244 non-null    category\n",
      " 5   time        244 non-null    category\n",
      " 6   size        244 non-null    int64   \n",
      "dtypes: category(4), float64(2), int64(1)\n",
      "memory usage: 7.4 KB\n"
     ]
    }
   ],
   "source": [
    "tips.info()"
   ]
  },
  {
   "cell_type": "code",
   "execution_count": 138,
   "id": "72943620-e48c-40a8-a980-cd31a2f071e3",
   "metadata": {
    "tags": []
   },
   "outputs": [],
   "source": [
    "taxis = sns.load_dataset(name='taxis')"
   ]
  },
  {
   "cell_type": "code",
   "execution_count": 140,
   "id": "c3a72cb6-9119-4045-839c-e66f57b98eea",
   "metadata": {
    "tags": []
   },
   "outputs": [
    {
     "data": {
      "text/html": [
       "<div>\n",
       "<style scoped>\n",
       "    .dataframe tbody tr th:only-of-type {\n",
       "        vertical-align: middle;\n",
       "    }\n",
       "\n",
       "    .dataframe tbody tr th {\n",
       "        vertical-align: top;\n",
       "    }\n",
       "\n",
       "    .dataframe thead th {\n",
       "        text-align: right;\n",
       "    }\n",
       "</style>\n",
       "<table border=\"1\" class=\"dataframe\">\n",
       "  <thead>\n",
       "    <tr style=\"text-align: right;\">\n",
       "      <th></th>\n",
       "      <th>pickup</th>\n",
       "      <th>dropoff</th>\n",
       "      <th>passengers</th>\n",
       "      <th>distance</th>\n",
       "      <th>fare</th>\n",
       "      <th>tip</th>\n",
       "      <th>tolls</th>\n",
       "      <th>total</th>\n",
       "      <th>color</th>\n",
       "      <th>payment</th>\n",
       "      <th>pickup_zone</th>\n",
       "      <th>dropoff_zone</th>\n",
       "      <th>pickup_borough</th>\n",
       "      <th>dropoff_borough</th>\n",
       "    </tr>\n",
       "  </thead>\n",
       "  <tbody>\n",
       "    <tr>\n",
       "      <th>0</th>\n",
       "      <td>2019-03-23 20:21:09</td>\n",
       "      <td>2019-03-23 20:27:24</td>\n",
       "      <td>1</td>\n",
       "      <td>1.60</td>\n",
       "      <td>7.0</td>\n",
       "      <td>2.15</td>\n",
       "      <td>0.0</td>\n",
       "      <td>12.95</td>\n",
       "      <td>yellow</td>\n",
       "      <td>credit card</td>\n",
       "      <td>Lenox Hill West</td>\n",
       "      <td>UN/Turtle Bay South</td>\n",
       "      <td>Manhattan</td>\n",
       "      <td>Manhattan</td>\n",
       "    </tr>\n",
       "    <tr>\n",
       "      <th>1</th>\n",
       "      <td>2019-03-04 16:11:55</td>\n",
       "      <td>2019-03-04 16:19:00</td>\n",
       "      <td>1</td>\n",
       "      <td>0.79</td>\n",
       "      <td>5.0</td>\n",
       "      <td>0.00</td>\n",
       "      <td>0.0</td>\n",
       "      <td>9.30</td>\n",
       "      <td>yellow</td>\n",
       "      <td>cash</td>\n",
       "      <td>Upper West Side South</td>\n",
       "      <td>Upper West Side South</td>\n",
       "      <td>Manhattan</td>\n",
       "      <td>Manhattan</td>\n",
       "    </tr>\n",
       "    <tr>\n",
       "      <th>2</th>\n",
       "      <td>2019-03-27 17:53:01</td>\n",
       "      <td>2019-03-27 18:00:25</td>\n",
       "      <td>1</td>\n",
       "      <td>1.37</td>\n",
       "      <td>7.5</td>\n",
       "      <td>2.36</td>\n",
       "      <td>0.0</td>\n",
       "      <td>14.16</td>\n",
       "      <td>yellow</td>\n",
       "      <td>credit card</td>\n",
       "      <td>Alphabet City</td>\n",
       "      <td>West Village</td>\n",
       "      <td>Manhattan</td>\n",
       "      <td>Manhattan</td>\n",
       "    </tr>\n",
       "    <tr>\n",
       "      <th>3</th>\n",
       "      <td>2019-03-10 01:23:59</td>\n",
       "      <td>2019-03-10 01:49:51</td>\n",
       "      <td>1</td>\n",
       "      <td>7.70</td>\n",
       "      <td>27.0</td>\n",
       "      <td>6.15</td>\n",
       "      <td>0.0</td>\n",
       "      <td>36.95</td>\n",
       "      <td>yellow</td>\n",
       "      <td>credit card</td>\n",
       "      <td>Hudson Sq</td>\n",
       "      <td>Yorkville West</td>\n",
       "      <td>Manhattan</td>\n",
       "      <td>Manhattan</td>\n",
       "    </tr>\n",
       "    <tr>\n",
       "      <th>4</th>\n",
       "      <td>2019-03-30 13:27:42</td>\n",
       "      <td>2019-03-30 13:37:14</td>\n",
       "      <td>3</td>\n",
       "      <td>2.16</td>\n",
       "      <td>9.0</td>\n",
       "      <td>1.10</td>\n",
       "      <td>0.0</td>\n",
       "      <td>13.40</td>\n",
       "      <td>yellow</td>\n",
       "      <td>credit card</td>\n",
       "      <td>Midtown East</td>\n",
       "      <td>Yorkville West</td>\n",
       "      <td>Manhattan</td>\n",
       "      <td>Manhattan</td>\n",
       "    </tr>\n",
       "  </tbody>\n",
       "</table>\n",
       "</div>"
      ],
      "text/plain": [
       "               pickup             dropoff  passengers  distance  fare   tip   \n",
       "0 2019-03-23 20:21:09 2019-03-23 20:27:24           1      1.60   7.0  2.15  \\\n",
       "1 2019-03-04 16:11:55 2019-03-04 16:19:00           1      0.79   5.0  0.00   \n",
       "2 2019-03-27 17:53:01 2019-03-27 18:00:25           1      1.37   7.5  2.36   \n",
       "3 2019-03-10 01:23:59 2019-03-10 01:49:51           1      7.70  27.0  6.15   \n",
       "4 2019-03-30 13:27:42 2019-03-30 13:37:14           3      2.16   9.0  1.10   \n",
       "\n",
       "   tolls  total   color      payment            pickup_zone   \n",
       "0    0.0  12.95  yellow  credit card        Lenox Hill West  \\\n",
       "1    0.0   9.30  yellow         cash  Upper West Side South   \n",
       "2    0.0  14.16  yellow  credit card          Alphabet City   \n",
       "3    0.0  36.95  yellow  credit card              Hudson Sq   \n",
       "4    0.0  13.40  yellow  credit card           Midtown East   \n",
       "\n",
       "            dropoff_zone pickup_borough dropoff_borough  \n",
       "0    UN/Turtle Bay South      Manhattan       Manhattan  \n",
       "1  Upper West Side South      Manhattan       Manhattan  \n",
       "2           West Village      Manhattan       Manhattan  \n",
       "3         Yorkville West      Manhattan       Manhattan  \n",
       "4         Yorkville West      Manhattan       Manhattan  "
      ]
     },
     "execution_count": 140,
     "metadata": {},
     "output_type": "execute_result"
    }
   ],
   "source": [
    "taxis.head()"
   ]
  },
  {
   "cell_type": "code",
   "execution_count": 142,
   "id": "9032c4a3-43a1-41df-a2a9-ea954e2cdac2",
   "metadata": {
    "tags": []
   },
   "outputs": [
    {
     "data": {
      "text/plain": [
       "(6433, 14)"
      ]
     },
     "execution_count": 142,
     "metadata": {},
     "output_type": "execute_result"
    }
   ],
   "source": [
    "taxis.shape"
   ]
  },
  {
   "cell_type": "code",
   "execution_count": 143,
   "id": "bd4e1c31-fb5e-47a7-b58e-3f3e325a4860",
   "metadata": {
    "tags": []
   },
   "outputs": [
    {
     "name": "stdout",
     "output_type": "stream",
     "text": [
      "<class 'pandas.core.frame.DataFrame'>\n",
      "RangeIndex: 6433 entries, 0 to 6432\n",
      "Data columns (total 14 columns):\n",
      " #   Column           Non-Null Count  Dtype         \n",
      "---  ------           --------------  -----         \n",
      " 0   pickup           6433 non-null   datetime64[ns]\n",
      " 1   dropoff          6433 non-null   datetime64[ns]\n",
      " 2   passengers       6433 non-null   int64         \n",
      " 3   distance         6433 non-null   float64       \n",
      " 4   fare             6433 non-null   float64       \n",
      " 5   tip              6433 non-null   float64       \n",
      " 6   tolls            6433 non-null   float64       \n",
      " 7   total            6433 non-null   float64       \n",
      " 8   color            6433 non-null   object        \n",
      " 9   payment          6389 non-null   object        \n",
      " 10  pickup_zone      6407 non-null   object        \n",
      " 11  dropoff_zone     6388 non-null   object        \n",
      " 12  pickup_borough   6407 non-null   object        \n",
      " 13  dropoff_borough  6388 non-null   object        \n",
      "dtypes: datetime64[ns](2), float64(5), int64(1), object(6)\n",
      "memory usage: 703.7+ KB\n"
     ]
    }
   ],
   "source": [
    "taxis.info()"
   ]
  },
  {
   "cell_type": "code",
   "execution_count": 145,
   "id": "c11011be-7c8c-4a22-a0db-e4676fce676b",
   "metadata": {
    "tags": []
   },
   "outputs": [],
   "source": [
    "iris = sns.load_dataset('iris')"
   ]
  },
  {
   "cell_type": "code",
   "execution_count": 146,
   "id": "b26516bd-16be-4859-b81e-c84a4b6bf145",
   "metadata": {
    "tags": []
   },
   "outputs": [
    {
     "data": {
      "text/html": [
       "<div>\n",
       "<style scoped>\n",
       "    .dataframe tbody tr th:only-of-type {\n",
       "        vertical-align: middle;\n",
       "    }\n",
       "\n",
       "    .dataframe tbody tr th {\n",
       "        vertical-align: top;\n",
       "    }\n",
       "\n",
       "    .dataframe thead th {\n",
       "        text-align: right;\n",
       "    }\n",
       "</style>\n",
       "<table border=\"1\" class=\"dataframe\">\n",
       "  <thead>\n",
       "    <tr style=\"text-align: right;\">\n",
       "      <th></th>\n",
       "      <th>sepal_length</th>\n",
       "      <th>sepal_width</th>\n",
       "      <th>petal_length</th>\n",
       "      <th>petal_width</th>\n",
       "      <th>species</th>\n",
       "    </tr>\n",
       "  </thead>\n",
       "  <tbody>\n",
       "    <tr>\n",
       "      <th>0</th>\n",
       "      <td>5.1</td>\n",
       "      <td>3.5</td>\n",
       "      <td>1.4</td>\n",
       "      <td>0.2</td>\n",
       "      <td>setosa</td>\n",
       "    </tr>\n",
       "    <tr>\n",
       "      <th>1</th>\n",
       "      <td>4.9</td>\n",
       "      <td>3.0</td>\n",
       "      <td>1.4</td>\n",
       "      <td>0.2</td>\n",
       "      <td>setosa</td>\n",
       "    </tr>\n",
       "    <tr>\n",
       "      <th>2</th>\n",
       "      <td>4.7</td>\n",
       "      <td>3.2</td>\n",
       "      <td>1.3</td>\n",
       "      <td>0.2</td>\n",
       "      <td>setosa</td>\n",
       "    </tr>\n",
       "    <tr>\n",
       "      <th>3</th>\n",
       "      <td>4.6</td>\n",
       "      <td>3.1</td>\n",
       "      <td>1.5</td>\n",
       "      <td>0.2</td>\n",
       "      <td>setosa</td>\n",
       "    </tr>\n",
       "    <tr>\n",
       "      <th>4</th>\n",
       "      <td>5.0</td>\n",
       "      <td>3.6</td>\n",
       "      <td>1.4</td>\n",
       "      <td>0.2</td>\n",
       "      <td>setosa</td>\n",
       "    </tr>\n",
       "  </tbody>\n",
       "</table>\n",
       "</div>"
      ],
      "text/plain": [
       "   sepal_length  sepal_width  petal_length  petal_width species\n",
       "0           5.1          3.5           1.4          0.2  setosa\n",
       "1           4.9          3.0           1.4          0.2  setosa\n",
       "2           4.7          3.2           1.3          0.2  setosa\n",
       "3           4.6          3.1           1.5          0.2  setosa\n",
       "4           5.0          3.6           1.4          0.2  setosa"
      ]
     },
     "execution_count": 146,
     "metadata": {},
     "output_type": "execute_result"
    }
   ],
   "source": [
    "iris.head()"
   ]
  },
  {
   "cell_type": "code",
   "execution_count": 148,
   "id": "6f03feaa-2264-4e5e-819a-a24a3e5c0317",
   "metadata": {
    "tags": []
   },
   "outputs": [
    {
     "data": {
      "text/plain": [
       "sepal_length    float64\n",
       "sepal_width     float64\n",
       "petal_length    float64\n",
       "petal_width     float64\n",
       "species          object\n",
       "dtype: object"
      ]
     },
     "execution_count": 148,
     "metadata": {},
     "output_type": "execute_result"
    }
   ],
   "source": [
    "iris.dtypes"
   ]
  },
  {
   "cell_type": "code",
   "execution_count": 149,
   "id": "bd2a89c5-9719-411e-bc51-0d69ae273e75",
   "metadata": {
    "tags": []
   },
   "outputs": [
    {
     "data": {
      "text/plain": [
       "(150, 5)"
      ]
     },
     "execution_count": 149,
     "metadata": {},
     "output_type": "execute_result"
    }
   ],
   "source": [
    "iris.shape"
   ]
  },
  {
   "cell_type": "code",
   "execution_count": 150,
   "id": "00215c84-b45f-4b03-b372-c5303a14031a",
   "metadata": {
    "tags": []
   },
   "outputs": [
    {
     "name": "stdout",
     "output_type": "stream",
     "text": [
      "<class 'pandas.core.frame.DataFrame'>\n",
      "RangeIndex: 150 entries, 0 to 149\n",
      "Data columns (total 5 columns):\n",
      " #   Column        Non-Null Count  Dtype  \n",
      "---  ------        --------------  -----  \n",
      " 0   sepal_length  150 non-null    float64\n",
      " 1   sepal_width   150 non-null    float64\n",
      " 2   petal_length  150 non-null    float64\n",
      " 3   petal_width   150 non-null    float64\n",
      " 4   species       150 non-null    object \n",
      "dtypes: float64(4), object(1)\n",
      "memory usage: 6.0+ KB\n"
     ]
    }
   ],
   "source": [
    "iris.info()"
   ]
  },
  {
   "cell_type": "code",
   "execution_count": 166,
   "id": "d9d28446-ac91-4176-b453-23f86f55f5e2",
   "metadata": {
    "tags": []
   },
   "outputs": [],
   "source": [
    "penguins = sns.load_dataset(name='penguins')"
   ]
  },
  {
   "cell_type": "code",
   "execution_count": 169,
   "id": "b057446b-8ed8-4fb6-87f3-7a0c9e0b8b02",
   "metadata": {
    "tags": []
   },
   "outputs": [
    {
     "data": {
      "text/html": [
       "<div>\n",
       "<style scoped>\n",
       "    .dataframe tbody tr th:only-of-type {\n",
       "        vertical-align: middle;\n",
       "    }\n",
       "\n",
       "    .dataframe tbody tr th {\n",
       "        vertical-align: top;\n",
       "    }\n",
       "\n",
       "    .dataframe thead th {\n",
       "        text-align: right;\n",
       "    }\n",
       "</style>\n",
       "<table border=\"1\" class=\"dataframe\">\n",
       "  <thead>\n",
       "    <tr style=\"text-align: right;\">\n",
       "      <th></th>\n",
       "      <th>species</th>\n",
       "      <th>island</th>\n",
       "      <th>bill_length_mm</th>\n",
       "      <th>bill_depth_mm</th>\n",
       "      <th>flipper_length_mm</th>\n",
       "      <th>body_mass_g</th>\n",
       "      <th>sex</th>\n",
       "    </tr>\n",
       "  </thead>\n",
       "  <tbody>\n",
       "    <tr>\n",
       "      <th>0</th>\n",
       "      <td>Adelie</td>\n",
       "      <td>Torgersen</td>\n",
       "      <td>39.1</td>\n",
       "      <td>18.7</td>\n",
       "      <td>181.0</td>\n",
       "      <td>3750.0</td>\n",
       "      <td>Male</td>\n",
       "    </tr>\n",
       "    <tr>\n",
       "      <th>1</th>\n",
       "      <td>Adelie</td>\n",
       "      <td>Torgersen</td>\n",
       "      <td>39.5</td>\n",
       "      <td>17.4</td>\n",
       "      <td>186.0</td>\n",
       "      <td>3800.0</td>\n",
       "      <td>Female</td>\n",
       "    </tr>\n",
       "    <tr>\n",
       "      <th>2</th>\n",
       "      <td>Adelie</td>\n",
       "      <td>Torgersen</td>\n",
       "      <td>40.3</td>\n",
       "      <td>18.0</td>\n",
       "      <td>195.0</td>\n",
       "      <td>3250.0</td>\n",
       "      <td>Female</td>\n",
       "    </tr>\n",
       "    <tr>\n",
       "      <th>3</th>\n",
       "      <td>Adelie</td>\n",
       "      <td>Torgersen</td>\n",
       "      <td>NaN</td>\n",
       "      <td>NaN</td>\n",
       "      <td>NaN</td>\n",
       "      <td>NaN</td>\n",
       "      <td>NaN</td>\n",
       "    </tr>\n",
       "    <tr>\n",
       "      <th>4</th>\n",
       "      <td>Adelie</td>\n",
       "      <td>Torgersen</td>\n",
       "      <td>36.7</td>\n",
       "      <td>19.3</td>\n",
       "      <td>193.0</td>\n",
       "      <td>3450.0</td>\n",
       "      <td>Female</td>\n",
       "    </tr>\n",
       "  </tbody>\n",
       "</table>\n",
       "</div>"
      ],
      "text/plain": [
       "  species     island  bill_length_mm  bill_depth_mm  flipper_length_mm   \n",
       "0  Adelie  Torgersen            39.1           18.7              181.0  \\\n",
       "1  Adelie  Torgersen            39.5           17.4              186.0   \n",
       "2  Adelie  Torgersen            40.3           18.0              195.0   \n",
       "3  Adelie  Torgersen             NaN            NaN                NaN   \n",
       "4  Adelie  Torgersen            36.7           19.3              193.0   \n",
       "\n",
       "   body_mass_g     sex  \n",
       "0       3750.0    Male  \n",
       "1       3800.0  Female  \n",
       "2       3250.0  Female  \n",
       "3          NaN     NaN  \n",
       "4       3450.0  Female  "
      ]
     },
     "execution_count": 169,
     "metadata": {},
     "output_type": "execute_result"
    }
   ],
   "source": [
    "penguins.head()"
   ]
  },
  {
   "cell_type": "code",
   "execution_count": 167,
   "id": "f57c1ed2-0acd-4d71-bfdf-2dabf22398c1",
   "metadata": {
    "tags": []
   },
   "outputs": [
    {
     "data": {
      "text/plain": [
       "species               object\n",
       "island                object\n",
       "bill_length_mm       float64\n",
       "bill_depth_mm        float64\n",
       "flipper_length_mm    float64\n",
       "body_mass_g          float64\n",
       "sex                   object\n",
       "dtype: object"
      ]
     },
     "execution_count": 167,
     "metadata": {},
     "output_type": "execute_result"
    }
   ],
   "source": [
    "penguins.dtypes"
   ]
  },
  {
   "cell_type": "code",
   "execution_count": 168,
   "id": "73f2b456-aea6-49a2-b0ab-cd36b4b91b30",
   "metadata": {
    "tags": []
   },
   "outputs": [
    {
     "name": "stdout",
     "output_type": "stream",
     "text": [
      "<class 'pandas.core.frame.DataFrame'>\n",
      "RangeIndex: 344 entries, 0 to 343\n",
      "Data columns (total 7 columns):\n",
      " #   Column             Non-Null Count  Dtype  \n",
      "---  ------             --------------  -----  \n",
      " 0   species            344 non-null    object \n",
      " 1   island             344 non-null    object \n",
      " 2   bill_length_mm     342 non-null    float64\n",
      " 3   bill_depth_mm      342 non-null    float64\n",
      " 4   flipper_length_mm  342 non-null    float64\n",
      " 5   body_mass_g        342 non-null    float64\n",
      " 6   sex                333 non-null    object \n",
      "dtypes: float64(4), object(3)\n",
      "memory usage: 18.9+ KB\n"
     ]
    }
   ],
   "source": [
    "penguins.info()"
   ]
  },
  {
   "cell_type": "code",
   "execution_count": null,
   "id": "97b04ff5-6ed9-466b-88c1-bac904583275",
   "metadata": {},
   "outputs": [],
   "source": []
  }
 ],
 "metadata": {
  "kernelspec": {
   "display_name": "Python 3 (ipykernel)",
   "language": "python",
   "name": "python3"
  },
  "language_info": {
   "codemirror_mode": {
    "name": "ipython",
    "version": 3
   },
   "file_extension": ".py",
   "mimetype": "text/x-python",
   "name": "python",
   "nbconvert_exporter": "python",
   "pygments_lexer": "ipython3",
   "version": "3.11.3"
  }
 },
 "nbformat": 4,
 "nbformat_minor": 5
}
