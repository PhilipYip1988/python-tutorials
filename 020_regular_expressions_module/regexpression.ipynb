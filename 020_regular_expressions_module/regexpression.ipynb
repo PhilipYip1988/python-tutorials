{
 "cells": [
  {
   "cell_type": "code",
   "execution_count": 1,
   "id": "722f5bc8-7496-4479-969b-fd39ebac6f9b",
   "metadata": {
    "tags": []
   },
   "outputs": [],
   "source": [
    "import re"
   ]
  },
  {
   "cell_type": "markdown",
   "id": "34fd4b0a-40d7-4582-a51d-5bccf3e4be1d",
   "metadata": {},
   "source": [
    "# Pattern"
   ]
  },
  {
   "cell_type": "code",
   "execution_count": 80,
   "id": "0ec19b11-35ab-43f0-a18c-9f3d7236c7f2",
   "metadata": {
    "tags": []
   },
   "outputs": [],
   "source": [
    "string = \"The Euro STOXX 600 index, which tracks all stock markets across Europe including the FTSE, fell by 11.48% – the worst day since it launched in 1998. The panic selling prompted by the coronavirus has wiped £2.7tn off the value of STOXX 600 shares since its all-time peak on 19 February.\""
   ]
  },
  {
   "cell_type": "markdown",
   "id": "f2ffc6cc-90ad-425f-b94b-a8a8026ab111",
   "metadata": {},
   "source": [
    "The pattern uses a ```\\``` for insertion of an escape character and as a consequence raw strings are preferred ```r''```:\n",
    "\n",
    "```\\w``` represents word\n",
    "\n",
    "```\\d``` represents digit\n",
    "\n",
    "```.``` represents any character except for a new line\n",
    "\n",
    "The pattern uses braces ```{ }``` to enclose the number of characters that is a word or digit."
   ]
  },
  {
   "cell_type": "code",
   "execution_count": 54,
   "id": "bee33c99-e78b-4151-b95f-a7745ed064ea",
   "metadata": {
    "tags": []
   },
   "outputs": [],
   "source": [
    "pattern = r'\\d{4}' \n",
    "# 4 numeric digits"
   ]
  },
  {
   "cell_type": "code",
   "execution_count": null,
   "id": "efde6f80-7cc7-4e7d-8ea5-20726dcc519e",
   "metadata": {},
   "outputs": [],
   "source": [
    "pattern = r'\\d{4,}' \n",
    "# at least 4 numeric digits"
   ]
  },
  {
   "cell_type": "code",
   "execution_count": null,
   "id": "6ba4b2ef-95c2-4728-931f-087b56dfdeff",
   "metadata": {},
   "outputs": [],
   "source": [
    "pattern = r'\\w{4}' \n",
    "# 4\n",
    "# alphanumeric characters\n",
    "# _\n",
    "# exclusive of whitespace"
   ]
  },
  {
   "cell_type": "code",
   "execution_count": null,
   "id": "fd3a529c-df41-4b69-855e-185701e9218b",
   "metadata": {},
   "outputs": [],
   "source": [
    "pattern = r'.{4}' \n",
    "# alphanumeric characters\n",
    "# _ \n",
    "# whitespace \n",
    "# exclusive of a new line \\n"
   ]
  },
  {
   "cell_type": "code",
   "execution_count": null,
   "id": "bfe417c5-91f4-4eee-ae16-5fe8b94bd8e4",
   "metadata": {},
   "outputs": [],
   "source": [
    "pattern = r'[A-Z]{4}'\n",
    "# 4 uppercase characters"
   ]
  },
  {
   "cell_type": "code",
   "execution_count": null,
   "id": "df68db92-76d9-4319-a954-b679f77e4153",
   "metadata": {},
   "outputs": [],
   "source": [
    "pattern = r'[a-z]{4}'\n",
    "# 4 lowercase characters"
   ]
  },
  {
   "cell_type": "markdown",
   "id": "d9d34de0-d680-49db-a000-8037c4054110",
   "metadata": {},
   "source": [
    "# Search"
   ]
  },
  {
   "cell_type": "code",
   "execution_count": 2,
   "id": "4ba36b4e-7736-43dd-8f95-4383364c35ff",
   "metadata": {
    "tags": []
   },
   "outputs": [],
   "source": [
    "string = 'abcd 1234 efgh 5678'"
   ]
  },
  {
   "cell_type": "code",
   "execution_count": 3,
   "id": "75387e29-c5a2-41ac-8eaa-2b0d6f279e5a",
   "metadata": {
    "tags": []
   },
   "outputs": [],
   "source": [
    "pattern = r'\\d{4}'"
   ]
  },
  {
   "cell_type": "code",
   "execution_count": 4,
   "id": "f0c49885-3c1f-4b0a-99b1-b3ddd8cd64a3",
   "metadata": {
    "tags": []
   },
   "outputs": [
    {
     "data": {
      "text/plain": [
       "<re.Match object; span=(5, 9), match='1234'>"
      ]
     },
     "execution_count": 4,
     "metadata": {},
     "output_type": "execute_result"
    }
   ],
   "source": [
    "re.search(pattern, string) #1st occurance only\n",
    "# span is an index slice"
   ]
  },
  {
   "cell_type": "code",
   "execution_count": 5,
   "id": "33329882-b2b9-4d99-81fe-d80de8a383d3",
   "metadata": {
    "tags": []
   },
   "outputs": [
    {
     "data": {
      "text/plain": [
       "'1234'"
      ]
     },
     "execution_count": 5,
     "metadata": {},
     "output_type": "execute_result"
    }
   ],
   "source": [
    "string[5:9]"
   ]
  },
  {
   "cell_type": "code",
   "execution_count": 6,
   "id": "a7d2e5ac-abd9-49cf-8007-75413849dfd3",
   "metadata": {
    "tags": []
   },
   "outputs": [],
   "source": [
    "pattern = r'\\w{4}'"
   ]
  },
  {
   "cell_type": "code",
   "execution_count": 7,
   "id": "22f13909-72ba-429a-86aa-0228045dd994",
   "metadata": {
    "tags": []
   },
   "outputs": [
    {
     "data": {
      "text/plain": [
       "<re.Match object; span=(0, 4), match='abcd'>"
      ]
     },
     "execution_count": 7,
     "metadata": {},
     "output_type": "execute_result"
    }
   ],
   "source": [
    "re.search(pattern, string) #1st occurance only\n",
    "# span is an index slice"
   ]
  },
  {
   "cell_type": "code",
   "execution_count": 8,
   "id": "a4f5fa50-ff41-4647-9763-e166942e854c",
   "metadata": {
    "tags": []
   },
   "outputs": [
    {
     "data": {
      "text/plain": [
       "'abcd'"
      ]
     },
     "execution_count": 8,
     "metadata": {},
     "output_type": "execute_result"
    }
   ],
   "source": [
    "string[0:4]"
   ]
  },
  {
   "cell_type": "code",
   "execution_count": 9,
   "id": "67e29f9a-143d-4c0c-b27a-de595b813d57",
   "metadata": {
    "tags": []
   },
   "outputs": [],
   "source": [
    "pattern = r'\\d{4} \\w{4}'"
   ]
  },
  {
   "cell_type": "code",
   "execution_count": 10,
   "id": "957e156c-3bfe-45dc-9de6-cce4f77c5ba4",
   "metadata": {
    "tags": []
   },
   "outputs": [
    {
     "data": {
      "text/plain": [
       "<re.Match object; span=(5, 14), match='1234 efgh'>"
      ]
     },
     "execution_count": 10,
     "metadata": {},
     "output_type": "execute_result"
    }
   ],
   "source": [
    "re.search(pattern, string) #1st occurance only\n",
    "# span is an index slice"
   ]
  },
  {
   "cell_type": "code",
   "execution_count": 11,
   "id": "57e661da-b0fc-4922-871a-1cbe412503e0",
   "metadata": {
    "tags": []
   },
   "outputs": [
    {
     "data": {
      "text/plain": [
       "'1234 efgh'"
      ]
     },
     "execution_count": 11,
     "metadata": {},
     "output_type": "execute_result"
    }
   ],
   "source": [
    "string[5:14]"
   ]
  },
  {
   "cell_type": "markdown",
   "id": "956366d0-1f87-4dc2-99a3-08bde8d6a3f2",
   "metadata": {},
   "source": [
    "# Findall"
   ]
  },
  {
   "cell_type": "code",
   "execution_count": 61,
   "id": "011dc0e6-d54c-49a8-b6aa-5801f27d0a12",
   "metadata": {
    "tags": []
   },
   "outputs": [],
   "source": [
    "string = 'abcd 1234 efgh 5678'"
   ]
  },
  {
   "cell_type": "code",
   "execution_count": 62,
   "id": "8080140d-9f7e-4622-8340-b43a08b2a48c",
   "metadata": {
    "tags": []
   },
   "outputs": [],
   "source": [
    "pattern = r'\\d{4}' #4 consecutive digits"
   ]
  },
  {
   "cell_type": "code",
   "execution_count": 63,
   "id": "1382981a-43eb-4cd2-901d-7596c80e2446",
   "metadata": {
    "tags": []
   },
   "outputs": [
    {
     "data": {
      "text/plain": [
       "['1234', '5678']"
      ]
     },
     "execution_count": 63,
     "metadata": {},
     "output_type": "execute_result"
    }
   ],
   "source": [
    "re.findall(pattern, string)"
   ]
  },
  {
   "cell_type": "code",
   "execution_count": 64,
   "id": "3196e9ef-5314-4be8-9883-b7d074f0fb8e",
   "metadata": {
    "tags": []
   },
   "outputs": [],
   "source": [
    "pattern = r'\\w{4}' #4 consecutive digits"
   ]
  },
  {
   "cell_type": "code",
   "execution_count": 65,
   "id": "0c63df19-7926-4dcf-ba5d-74be66ef8b5c",
   "metadata": {
    "tags": []
   },
   "outputs": [
    {
     "data": {
      "text/plain": [
       "['abcd', '1234', 'efgh', '5678']"
      ]
     },
     "execution_count": 65,
     "metadata": {},
     "output_type": "execute_result"
    }
   ],
   "source": [
    "re.findall(pattern, string)"
   ]
  },
  {
   "cell_type": "markdown",
   "id": "cb4b6484-7d73-49d7-8f3f-1948a59503c7",
   "metadata": {},
   "source": [
    "# Match"
   ]
  },
  {
   "cell_type": "markdown",
   "id": "a72ddc66-6a94-4f29-9210-493ae006bef1",
   "metadata": {},
   "source": [
    "Searches at the beginning of the string only."
   ]
  },
  {
   "cell_type": "code",
   "execution_count": 15,
   "id": "258c2c7e-2209-4cbb-9739-2df6dfc55883",
   "metadata": {
    "tags": []
   },
   "outputs": [],
   "source": [
    "string = 'abcd 1234 efgh 5678'"
   ]
  },
  {
   "cell_type": "code",
   "execution_count": 16,
   "id": "6bae4c9f-5542-4c50-9c8f-4023c3f7717f",
   "metadata": {
    "tags": []
   },
   "outputs": [],
   "source": [
    "pattern = r'\\w{4}'"
   ]
  },
  {
   "cell_type": "code",
   "execution_count": 17,
   "id": "38d57818-26a0-4ee1-ad0b-ed5b9c0ad30b",
   "metadata": {
    "tags": []
   },
   "outputs": [
    {
     "data": {
      "text/plain": [
       "<re.Match object; span=(0, 4), match='abcd'>"
      ]
     },
     "execution_count": 17,
     "metadata": {},
     "output_type": "execute_result"
    }
   ],
   "source": [
    "re.match(pattern, string)"
   ]
  },
  {
   "cell_type": "code",
   "execution_count": 18,
   "id": "762f2cec-62b8-4021-952f-263d4a189c0b",
   "metadata": {
    "tags": []
   },
   "outputs": [],
   "source": [
    "pattern = r'\\d{4}'"
   ]
  },
  {
   "cell_type": "code",
   "execution_count": 19,
   "id": "3759baf7-ba99-4980-a8fe-d378f7e7af3b",
   "metadata": {
    "tags": []
   },
   "outputs": [],
   "source": [
    "re.match(pattern, string)"
   ]
  },
  {
   "cell_type": "markdown",
   "id": "b62d9bef-7bcf-4f4e-98d5-13893a0d88f5",
   "metadata": {},
   "source": [
    "# Full Match"
   ]
  },
  {
   "cell_type": "markdown",
   "id": "018196b4-d84c-45dc-83b9-796d277f8a91",
   "metadata": {
    "tags": []
   },
   "source": [
    "Must include the entire string."
   ]
  },
  {
   "cell_type": "code",
   "execution_count": 20,
   "id": "c9595911-eaba-4943-abcc-49f4be6a0df2",
   "metadata": {
    "tags": []
   },
   "outputs": [],
   "source": [
    "string = 'abcd 1234 efgh 5678'"
   ]
  },
  {
   "cell_type": "code",
   "execution_count": 21,
   "id": "649d4ea9-0b67-487b-82c1-2c51fc58e2d9",
   "metadata": {
    "tags": []
   },
   "outputs": [],
   "source": [
    "pattern = r'\\w{4} \\d{4} \\w{4} \\w{4}'"
   ]
  },
  {
   "cell_type": "code",
   "execution_count": 24,
   "id": "e5365b9a-dfab-45b7-9664-56195385ad52",
   "metadata": {
    "tags": []
   },
   "outputs": [
    {
     "data": {
      "text/plain": [
       "<re.Match object; span=(0, 19), match='abcd 1234 efgh 5678'>"
      ]
     },
     "execution_count": 24,
     "metadata": {},
     "output_type": "execute_result"
    }
   ],
   "source": [
    "re.fullmatch(pattern, string)"
   ]
  },
  {
   "cell_type": "code",
   "execution_count": 40,
   "id": "ac21f03f-c3f1-4ad9-a194-78ebb970c293",
   "metadata": {
    "tags": []
   },
   "outputs": [],
   "source": [
    "string = 'abcd 1234 efgh 5678'"
   ]
  },
  {
   "cell_type": "code",
   "execution_count": 41,
   "id": "b52b317d-0409-468d-9d6c-3686e61e66ab",
   "metadata": {
    "tags": []
   },
   "outputs": [],
   "source": [
    "pattern = r'.{19}'"
   ]
  },
  {
   "cell_type": "code",
   "execution_count": 42,
   "id": "971cf998-b6b9-4a66-a2c9-443acc02dc0e",
   "metadata": {
    "tags": []
   },
   "outputs": [
    {
     "data": {
      "text/plain": [
       "<re.Match object; span=(0, 19), match='abcd 1234 efgh 5678'>"
      ]
     },
     "execution_count": 42,
     "metadata": {},
     "output_type": "execute_result"
    }
   ],
   "source": [
    "re.fullmatch(pattern, string)"
   ]
  },
  {
   "cell_type": "markdown",
   "id": "79b2acd1-4575-44dd-b0f1-70fd52358ea1",
   "metadata": {},
   "source": [
    "# Split"
   ]
  },
  {
   "cell_type": "code",
   "execution_count": 43,
   "id": "8b1e271e-a6d7-458c-af31-b8569baa7b0a",
   "metadata": {
    "tags": []
   },
   "outputs": [],
   "source": [
    "string = 'abcd 1234 efgh 5678'"
   ]
  },
  {
   "cell_type": "code",
   "execution_count": 49,
   "id": "7a90bb3c-0c9e-425e-802a-abba05d5b8df",
   "metadata": {
    "tags": []
   },
   "outputs": [],
   "source": [
    "pattern = r'\\s' \n",
    "# \\s matches the regular space as well as \\n, \\t, \\r"
   ]
  },
  {
   "cell_type": "code",
   "execution_count": 50,
   "id": "79e65159-e7c2-4f37-afce-d866c75fefa5",
   "metadata": {
    "tags": []
   },
   "outputs": [
    {
     "data": {
      "text/plain": [
       "['abcd', '1234', 'efgh', '5678']"
      ]
     },
     "execution_count": 50,
     "metadata": {},
     "output_type": "execute_result"
    }
   ],
   "source": [
    "string.split(' ')"
   ]
  },
  {
   "cell_type": "code",
   "execution_count": 51,
   "id": "0219116f-e5d7-4f02-a6f9-e388e806dccf",
   "metadata": {
    "tags": []
   },
   "outputs": [
    {
     "data": {
      "text/plain": [
       "['abcd', '1234', 'efgh', '5678']"
      ]
     },
     "execution_count": 51,
     "metadata": {},
     "output_type": "execute_result"
    }
   ],
   "source": [
    "re.split(pattern, string)"
   ]
  },
  {
   "cell_type": "code",
   "execution_count": 52,
   "id": "038932ca-6d92-40a4-b52e-57826b112015",
   "metadata": {
    "tags": []
   },
   "outputs": [],
   "source": [
    "pattern = '   '"
   ]
  },
  {
   "cell_type": "code",
   "execution_count": 53,
   "id": "e88a2ee6-8aa9-48dc-a74a-abc7c64d0fb5",
   "metadata": {
    "tags": []
   },
   "outputs": [
    {
     "data": {
      "text/plain": [
       "['abcd 1234 efgh 5678']"
      ]
     },
     "execution_count": 53,
     "metadata": {},
     "output_type": "execute_result"
    }
   ],
   "source": [
    "re.split(pattern, string)"
   ]
  },
  {
   "cell_type": "markdown",
   "id": "82998916-ee8c-4ae0-aa31-5d39180d7a59",
   "metadata": {},
   "source": [
    "# Sub"
   ]
  },
  {
   "cell_type": "markdown",
   "id": "18fb4808-a970-4e8e-99b2-5d1c795bfa80",
   "metadata": {},
   "source": [
    "Substitute"
   ]
  },
  {
   "cell_type": "code",
   "execution_count": 69,
   "id": "a3ef7ba8-a75e-4985-af0c-e3cb729c791b",
   "metadata": {
    "tags": []
   },
   "outputs": [],
   "source": [
    "string = 'abcd 1234 efgh 5678 IJKL MNOP'"
   ]
  },
  {
   "cell_type": "code",
   "execution_count": 70,
   "id": "be415d4f-87ba-46c9-bac9-4f07e04c2646",
   "metadata": {
    "tags": []
   },
   "outputs": [],
   "source": [
    "pattern = r'[A-Z]{2,}'"
   ]
  },
  {
   "cell_type": "code",
   "execution_count": 71,
   "id": "90d6fce6-d853-4c97-9b68-2ec08570fa44",
   "metadata": {
    "tags": []
   },
   "outputs": [],
   "source": [
    "repl = 'Hello'"
   ]
  },
  {
   "cell_type": "code",
   "execution_count": 72,
   "id": "2fa167e7-598f-47c7-9a52-26d641d8c2d4",
   "metadata": {
    "tags": []
   },
   "outputs": [
    {
     "data": {
      "text/plain": [
       "'abcd 1234 efgh 5678 Hello Hello'"
      ]
     },
     "execution_count": 72,
     "metadata": {},
     "output_type": "execute_result"
    }
   ],
   "source": [
    "re.sub(pattern, repl, string)"
   ]
  },
  {
   "cell_type": "code",
   "execution_count": 73,
   "id": "32f524de-f651-449a-8fab-66a3020bfa08",
   "metadata": {
    "tags": []
   },
   "outputs": [
    {
     "data": {
      "text/plain": [
       "'abcd 1234 efgh 5678 Hello MNOP'"
      ]
     },
     "execution_count": 73,
     "metadata": {},
     "output_type": "execute_result"
    }
   ],
   "source": [
    "re.sub(pattern, repl, string, 1)"
   ]
  },
  {
   "cell_type": "code",
   "execution_count": 74,
   "id": "69e5bd2a-9920-4d6a-ba8c-76fc87f64591",
   "metadata": {
    "tags": []
   },
   "outputs": [
    {
     "data": {
      "text/plain": [
       "'abcd 1234 efgh 5678 Hello Hello'"
      ]
     },
     "execution_count": 74,
     "metadata": {},
     "output_type": "execute_result"
    }
   ],
   "source": [
    "re.sub(pattern, repl, string, 2)"
   ]
  },
  {
   "cell_type": "markdown",
   "id": "c7fc0e4d-b0ac-4655-8cd2-d6b17818bad0",
   "metadata": {},
   "source": [
    "# Subn"
   ]
  },
  {
   "cell_type": "markdown",
   "id": "a4c2608e-a8d7-4b34-817f-d561329a874f",
   "metadata": {},
   "source": [
    "tuple containing substitutions and number of substitutions"
   ]
  },
  {
   "cell_type": "code",
   "execution_count": 75,
   "id": "5e9512ab-1dcb-4bda-9a75-d020776833b7",
   "metadata": {
    "tags": []
   },
   "outputs": [],
   "source": [
    "string = 'abcd 1234 efgh 5678 IJKL MNOP'"
   ]
  },
  {
   "cell_type": "code",
   "execution_count": 76,
   "id": "c456f9b2-7b4f-48f7-a7cd-13f2122ce528",
   "metadata": {
    "tags": []
   },
   "outputs": [],
   "source": [
    "pattern = r'[A-Z]{2,}'"
   ]
  },
  {
   "cell_type": "code",
   "execution_count": 77,
   "id": "a0767cdf-4264-4326-8802-e10c656af75a",
   "metadata": {
    "tags": []
   },
   "outputs": [],
   "source": [
    "repl = 'Hello'"
   ]
  },
  {
   "cell_type": "code",
   "execution_count": 78,
   "id": "dc46b643-662e-4274-8b03-74b16bc930d5",
   "metadata": {
    "tags": []
   },
   "outputs": [
    {
     "data": {
      "text/plain": [
       "('abcd 1234 efgh 5678 Hello Hello', 2)"
      ]
     },
     "execution_count": 78,
     "metadata": {},
     "output_type": "execute_result"
    }
   ],
   "source": [
    "re.subn(pattern, repl, string)"
   ]
  },
  {
   "cell_type": "markdown",
   "id": "436b1844-673e-4379-8361-69c763e264ae",
   "metadata": {},
   "source": [
    "# Groups and Groups"
   ]
  },
  {
   "cell_type": "code",
   "execution_count": 79,
   "id": "8bea1d28-031e-46bb-a28c-3dbfb27c3985",
   "metadata": {
    "tags": []
   },
   "outputs": [],
   "source": [
    "string = 'abcd 1234 efgh 5678 IJKL MNOP'"
   ]
  },
  {
   "cell_type": "code",
   "execution_count": null,
   "id": "8171adf4-25d9-408b-94ed-fb7610f109ee",
   "metadata": {},
   "outputs": [],
   "source": [
    "pattern = r('.+\\s(.+cd).+(\\d\\d\\s.+).'"
   ]
  },
  {
   "cell_type": "code",
   "execution_count": null,
   "id": "46c8c550-c0dc-481b-b406-499d58c8c503",
   "metadata": {},
   "outputs": [],
   "source": []
  },
  {
   "cell_type": "code",
   "execution_count": null,
   "id": "12f2c1fe-2006-47ce-919c-d39b8eef95cc",
   "metadata": {},
   "outputs": [],
   "source": [
    "#result.groups()"
   ]
  },
  {
   "cell_type": "code",
   "execution_count": null,
   "id": "701ab343-9288-4217-b015-def681217167",
   "metadata": {},
   "outputs": [],
   "source": [
    "#result.group(1)"
   ]
  },
  {
   "cell_type": "code",
   "execution_count": null,
   "id": "8dac45f8-afb9-4eee-850c-343625b6e7e4",
   "metadata": {},
   "outputs": [],
   "source": [
    "#result.group(2)"
   ]
  },
  {
   "cell_type": "code",
   "execution_count": null,
   "id": "48ce0057-74f9-420b-87e9-2d2ebc875b0c",
   "metadata": {},
   "outputs": [],
   "source": [
    "#result.group(1, 2)"
   ]
  },
  {
   "cell_type": "code",
   "execution_count": null,
   "id": "c048ea1a-5cb2-4083-9f6d-7c6bf9819a88",
   "metadata": {},
   "outputs": [],
   "source": []
  },
  {
   "cell_type": "code",
   "execution_count": null,
   "id": "1e3fdca4-0278-4261-bf5c-3e57d6b052f5",
   "metadata": {},
   "outputs": [],
   "source": [
    "#result.start(1)"
   ]
  },
  {
   "cell_type": "code",
   "execution_count": null,
   "id": "5d4be43e-c04b-41c7-a5f5-0779a3235d65",
   "metadata": {},
   "outputs": [],
   "source": [
    "#result.end(1)"
   ]
  },
  {
   "cell_type": "code",
   "execution_count": null,
   "id": "103dea19-5271-4aa2-92de-a31c0d3cbe8c",
   "metadata": {},
   "outputs": [],
   "source": [
    "#string[result.start(1): result.end(1)]"
   ]
  },
  {
   "cell_type": "code",
   "execution_count": null,
   "id": "d8a181c6-c74d-4152-b2c7-36193b9856df",
   "metadata": {},
   "outputs": [],
   "source": [
    "#result.span(1)"
   ]
  },
  {
   "cell_type": "markdown",
   "id": "382081c5-a655-4d94-b58d-c5bba5185046",
   "metadata": {},
   "source": [
    "# Flag"
   ]
  },
  {
   "cell_type": "code",
   "execution_count": null,
   "id": "b8920826-8fc6-4042-bcc4-72dc227c64c4",
   "metadata": {},
   "outputs": [],
   "source": [
    "# re.I # ignore case"
   ]
  },
  {
   "cell_type": "code",
   "execution_count": null,
   "id": "a4c25999-e055-47ee-b7d2-8bc29b68ac8d",
   "metadata": {},
   "outputs": [],
   "source": [
    "re.findall(r'the', string)"
   ]
  },
  {
   "cell_type": "code",
   "execution_count": null,
   "id": "11de93eb-e7b3-465a-921f-31e003f6d816",
   "metadata": {},
   "outputs": [],
   "source": [
    "re.findall(r'the', string, re.I)"
   ]
  },
  {
   "cell_type": "code",
   "execution_count": null,
   "id": "9b5ecb30-869f-407f-8e0a-b9a55864c889",
   "metadata": {},
   "outputs": [],
   "source": [
    "# re.S # all including new line"
   ]
  },
  {
   "cell_type": "code",
   "execution_count": null,
   "id": "2947302f-b412-4b99-8e92-9b46f3ba86c6",
   "metadata": {},
   "outputs": [],
   "source": [
    "re.search(r'.+', string)"
   ]
  },
  {
   "cell_type": "code",
   "execution_count": null,
   "id": "6c274aa8-e025-4873-9881-f8c7fcc50ea8",
   "metadata": {},
   "outputs": [],
   "source": [
    "re.search(r'.+', string, re.S)"
   ]
  },
  {
   "cell_type": "code",
   "execution_count": null,
   "id": "fb2310da-a6f7-40aa-abe7-1ab60a816b57",
   "metadata": {},
   "outputs": [],
   "source": [
    "# re.X # verbose"
   ]
  },
  {
   "cell_type": "code",
   "execution_count": null,
   "id": "249ccd90-57bc-4d88-a5b9-e23184acbfc8",
   "metadata": {},
   "outputs": [],
   "source": [
    "re.search(r'''.+s #Beginning of the string)\n",
    "            (.+ex) #Searching for index\n",
    "            .+ #Middle of the string\n",
    "            (\\d\\d\\s.+). #Date at the end''', string, re.X)\n"
   ]
  }
 ],
 "metadata": {
  "kernelspec": {
   "display_name": "Python 3 (ipykernel)",
   "language": "python",
   "name": "python3"
  },
  "language_info": {
   "codemirror_mode": {
    "name": "ipython",
    "version": 3
   },
   "file_extension": ".py",
   "mimetype": "text/x-python",
   "name": "python",
   "nbconvert_exporter": "python",
   "pygments_lexer": "ipython3",
   "version": "3.11.3"
  }
 },
 "nbformat": 4,
 "nbformat_minor": 5
}
