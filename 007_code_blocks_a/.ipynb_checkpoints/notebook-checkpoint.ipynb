{
 "cells": [
  {
   "cell_type": "code",
   "execution_count": 1,
   "id": "217e92fa-cb94-4bb2-aeae-14af2f8ba790",
   "metadata": {
    "tags": []
   },
   "outputs": [],
   "source": [
    "condition = True"
   ]
  },
  {
   "cell_type": "code",
   "execution_count": 2,
   "id": "29a30db1-7678-45bb-b735-b00e9a1d3c15",
   "metadata": {
    "tags": []
   },
   "outputs": [
    {
     "name": "stdout",
     "output_type": "stream",
     "text": [
      "The condition was True\n"
     ]
    }
   ],
   "source": [
    "if condition:\n",
    "    print('The condition was True')\n",
    "\n"
   ]
  },
  {
   "cell_type": "code",
   "execution_count": 3,
   "id": "2797877f-e93d-408b-a5fa-022df84ef87c",
   "metadata": {
    "tags": []
   },
   "outputs": [],
   "source": [
    "condition = False"
   ]
  },
  {
   "cell_type": "code",
   "execution_count": 4,
   "id": "eeaef0e4-c080-441c-a9ae-1783275c220b",
   "metadata": {
    "tags": []
   },
   "outputs": [],
   "source": [
    "if condition:\n",
    "    print('The condition was True')\n",
    "\n"
   ]
  },
  {
   "cell_type": "code",
   "execution_count": 5,
   "id": "5989bbaf-8be3-4ac4-9348-3bd5e172e0ca",
   "metadata": {
    "tags": []
   },
   "outputs": [],
   "source": [
    "condition = True"
   ]
  },
  {
   "cell_type": "code",
   "execution_count": 6,
   "id": "353e078f-4584-4dc3-bc0f-5305080765ab",
   "metadata": {
    "tags": []
   },
   "outputs": [
    {
     "name": "stdout",
     "output_type": "stream",
     "text": [
      "The condition was True\n",
      "Outside the Code Block\n"
     ]
    }
   ],
   "source": [
    "if condition:\n",
    "    print('The condition was True')\n",
    "\n",
    "\n",
    "print('Outside the Code Block')"
   ]
  },
  {
   "cell_type": "code",
   "execution_count": 7,
   "id": "e31d86cd-0d9f-4063-b520-baecf6e286d9",
   "metadata": {
    "tags": []
   },
   "outputs": [],
   "source": [
    "condition = False"
   ]
  },
  {
   "cell_type": "code",
   "execution_count": 8,
   "id": "b95e3d3a-14be-4fea-9a7a-ca576fdc12e7",
   "metadata": {
    "tags": []
   },
   "outputs": [
    {
     "name": "stdout",
     "output_type": "stream",
     "text": [
      "Outside the Code Block\n"
     ]
    }
   ],
   "source": [
    "if condition:\n",
    "    print('The condition was True')\n",
    "\n",
    "\n",
    "print('Outside the Code Block')"
   ]
  },
  {
   "cell_type": "code",
   "execution_count": 9,
   "id": "7d42dadb-c66e-4029-ab4e-19cba34ba046",
   "metadata": {
    "tags": []
   },
   "outputs": [
    {
     "data": {
      "text/plain": [
       "True"
      ]
     },
     "execution_count": 9,
     "metadata": {},
     "output_type": "execute_result"
    }
   ],
   "source": [
    "condition = 5 > 3\n",
    "condition"
   ]
  },
  {
   "cell_type": "code",
   "execution_count": 10,
   "id": "384921d1-4bd4-4b1c-8351-bb02bf12720e",
   "metadata": {
    "tags": []
   },
   "outputs": [
    {
     "name": "stdout",
     "output_type": "stream",
     "text": [
      "The condition was True\n"
     ]
    }
   ],
   "source": [
    "if condition:\n",
    "    print('The condition was True')\n",
    "    \n",
    "    "
   ]
  },
  {
   "cell_type": "code",
   "execution_count": 11,
   "id": "5f5e156e-7d66-4fab-ad22-c992bc940960",
   "metadata": {
    "tags": []
   },
   "outputs": [
    {
     "name": "stdout",
     "output_type": "stream",
     "text": [
      "The condition was True\n"
     ]
    }
   ],
   "source": [
    "if 5 > 3:\n",
    "    print('The condition was True')\n",
    "    \n",
    "    "
   ]
  },
  {
   "cell_type": "code",
   "execution_count": 12,
   "id": "d494f941-1e5a-4885-b486-98441af84825",
   "metadata": {
    "tags": []
   },
   "outputs": [
    {
     "name": "stdout",
     "output_type": "stream",
     "text": [
      "The condition was True\n"
     ]
    }
   ],
   "source": [
    "if 5 > 3 & 6 < 8:\n",
    "    print('The condition was True')\n",
    "    \n",
    "    "
   ]
  },
  {
   "cell_type": "code",
   "execution_count": 13,
   "id": "65a9e6aa-5d06-4108-8ea6-7e6afa9f5081",
   "metadata": {
    "tags": []
   },
   "outputs": [],
   "source": [
    "if 5 > 3 & 6 > 8 | 4 == 3:\n",
    "    print('The condition was True')\n",
    "    \n",
    "    "
   ]
  },
  {
   "cell_type": "code",
   "execution_count": 14,
   "id": "4744b640-7efe-4dfb-9624-23f25bf92ed5",
   "metadata": {
    "tags": []
   },
   "outputs": [],
   "source": [
    "if (((5 > 3) & (6 > 8)) | (4 == 3)):\n",
    "    print('The condition was True')\n",
    "    \n",
    "    "
   ]
  },
  {
   "cell_type": "code",
   "execution_count": 15,
   "id": "0b61f3b3-d01e-42f7-99c3-6be877266bc8",
   "metadata": {
    "tags": []
   },
   "outputs": [],
   "source": [
    "condition = False"
   ]
  },
  {
   "cell_type": "code",
   "execution_count": 16,
   "id": "9b31182a-cec7-4fd5-add5-689c1da7c9e5",
   "metadata": {
    "tags": []
   },
   "outputs": [
    {
     "name": "stdout",
     "output_type": "stream",
     "text": [
      "The condition was False\n"
     ]
    }
   ],
   "source": [
    "if condition:\n",
    "    print('The condition was True')\n",
    "if not condition:\n",
    "    print('The condition was False')\n",
    "    \n",
    "    "
   ]
  },
  {
   "cell_type": "code",
   "execution_count": 17,
   "id": "dae23aad-cd26-46c1-8e8f-825e6e436e18",
   "metadata": {
    "tags": []
   },
   "outputs": [],
   "source": [
    "condition = False"
   ]
  },
  {
   "cell_type": "code",
   "execution_count": 18,
   "id": "630cc7d5-fb37-4f36-9690-71d882ce5d3e",
   "metadata": {
    "tags": []
   },
   "outputs": [
    {
     "name": "stdout",
     "output_type": "stream",
     "text": [
      "The condition was False\n"
     ]
    }
   ],
   "source": [
    "if condition:\n",
    "    print('The condition was True')\n",
    "else:\n",
    "    print('The condition was False')\n",
    "    \n",
    "    "
   ]
  },
  {
   "cell_type": "code",
   "execution_count": 19,
   "id": "973344e5-8f51-42cf-ac40-73f455e34edf",
   "metadata": {
    "tags": []
   },
   "outputs": [
    {
     "name": "stdout",
     "output_type": "stream",
     "text": [
      "10 is greater\n",
      "9 is greater\n"
     ]
    }
   ],
   "source": [
    "if 10 > 3:\n",
    "    print('10 is greater')\n",
    "if 9 > 3:\n",
    "    print('9 is greater')\n",
    "else:\n",
    "    print('These are not greater')\n",
    "    \n",
    "    "
   ]
  },
  {
   "cell_type": "code",
   "execution_count": 20,
   "id": "ff2b90c5-fbb8-445b-bd72-9604ed3ed432",
   "metadata": {
    "tags": []
   },
   "outputs": [
    {
     "name": "stdout",
     "output_type": "stream",
     "text": [
      "10 is greater\n",
      "These are not greater\n"
     ]
    }
   ],
   "source": [
    "if 10 > 9:\n",
    "    print('10 is greater')\n",
    "if 9 > 9:\n",
    "    print('9 is greater')\n",
    "else:\n",
    "    print('These are not greater')\n",
    "    \n",
    "    "
   ]
  },
  {
   "cell_type": "code",
   "execution_count": 21,
   "id": "944a99bb-945b-4370-b500-ed27832f8452",
   "metadata": {
    "tags": []
   },
   "outputs": [
    {
     "name": "stdout",
     "output_type": "stream",
     "text": [
      "10 is greater\n"
     ]
    }
   ],
   "source": [
    "if 10 > 3:\n",
    "    print('10 is greater')\n",
    "elif 9 > 3:\n",
    "    print('9 is greater')\n",
    "else:\n",
    "    print('These are not greater')\n",
    "    \n",
    "    "
   ]
  },
  {
   "cell_type": "code",
   "execution_count": 22,
   "id": "62c43ba6-4098-46cc-a708-bd85051b052f",
   "metadata": {
    "tags": []
   },
   "outputs": [
    {
     "name": "stdout",
     "output_type": "stream",
     "text": [
      "These are not greater\n"
     ]
    }
   ],
   "source": [
    "if 10 > 30:\n",
    "    print('10 is greater')\n",
    "elif 9 > 30:\n",
    "    print('9 is greater')\n",
    "else:\n",
    "    print('These are not greater')\n",
    "    \n",
    "    "
   ]
  },
  {
   "cell_type": "code",
   "execution_count": 23,
   "id": "be2f48c7-33ef-478a-9f1d-fe26a9b3a7ee",
   "metadata": {
    "tags": []
   },
   "outputs": [],
   "source": [
    "num = 2"
   ]
  },
  {
   "cell_type": "code",
   "execution_count": 24,
   "id": "bd467dd7-01ae-42ca-ab5e-9439bc256955",
   "metadata": {
    "tags": []
   },
   "outputs": [
    {
     "name": "stdout",
     "output_type": "stream",
     "text": [
      "two\n"
     ]
    }
   ],
   "source": [
    "if num == 0:\n",
    "    print('zero')\n",
    "elif num == 1:\n",
    "    print('one')\n",
    "elif num == 2:\n",
    "    print('two')\n",
    "else:\n",
    "    print('num not zero, one or two')\n",
    "    \n",
    "    "
   ]
  },
  {
   "cell_type": "code",
   "execution_count": 25,
   "id": "f07d0b0f-f117-40f7-9ed3-7886e03e717a",
   "metadata": {
    "tags": []
   },
   "outputs": [],
   "source": [
    "num = 2"
   ]
  },
  {
   "cell_type": "code",
   "execution_count": 26,
   "id": "cf525065-5570-4e72-a781-19d832aa4737",
   "metadata": {
    "tags": []
   },
   "outputs": [
    {
     "name": "stdout",
     "output_type": "stream",
     "text": [
      "two\n"
     ]
    }
   ],
   "source": [
    "match num:\n",
    "    case 0:\n",
    "        print('zero')\n",
    "    case 1:\n",
    "        print('one')\n",
    "    case 2:\n",
    "        print('two')\n",
    "    case _:\n",
    "        print('num not zero, one or two')\n",
    "    \n",
    "    "
   ]
  },
  {
   "cell_type": "code",
   "execution_count": 27,
   "id": "7c54cafe-d132-42a8-9053-87b7355f6152",
   "metadata": {
    "tags": []
   },
   "outputs": [],
   "source": [
    "letter = 'c'"
   ]
  },
  {
   "cell_type": "code",
   "execution_count": 28,
   "id": "09815aad-73b0-41a3-9610-dc54e365c80d",
   "metadata": {
    "tags": []
   },
   "outputs": [
    {
     "name": "stdout",
     "output_type": "stream",
     "text": [
      "99\n"
     ]
    }
   ],
   "source": [
    "match letter:\n",
    "    case 'a':\n",
    "        print(ord('a'))\n",
    "    case 'b':\n",
    "        print(ord('b'))\n",
    "    case 'c':\n",
    "        print(ord('c'))\n",
    "    case _:\n",
    "        print(\"letter not 'a', 'b' or 'c'\")\n",
    "    \n",
    "    "
   ]
  },
  {
   "cell_type": "code",
   "execution_count": null,
   "id": "d69473d3-73b1-4766-9147-6b0aa9195240",
   "metadata": {},
   "outputs": [],
   "source": []
  }
 ],
 "metadata": {
  "kernelspec": {
   "display_name": "Python 3 (ipykernel)",
   "language": "python",
   "name": "python3"
  },
  "language_info": {
   "codemirror_mode": {
    "name": "ipython",
    "version": 3
   },
   "file_extension": ".py",
   "mimetype": "text/x-python",
   "name": "python",
   "nbconvert_exporter": "python",
   "pygments_lexer": "ipython3",
   "version": "3.11.0"
  }
 },
 "nbformat": 4,
 "nbformat_minor": 5
}
