{
 "cells": [
  {
   "cell_type": "code",
   "execution_count": null,
   "id": "c9b2ac56-2f40-4af1-bea5-50bb5be58dd4",
   "metadata": {
    "tags": []
   },
   "outputs": [],
   "source": [
    "ord"
   ]
  },
  {
   "cell_type": "code",
   "execution_count": null,
   "id": "ccc5e4e0-18dd-4a93-a5e0-08596c6b28c2",
   "metadata": {
    "tags": []
   },
   "outputs": [],
   "source": [
    "ord('a')"
   ]
  },
  {
   "cell_type": "code",
   "execution_count": null,
   "id": "5cbe99b8-8b16-4540-88d3-fde643b325f9",
   "metadata": {
    "tags": []
   },
   "outputs": [],
   "source": [
    "num_a = ord('a')"
   ]
  },
  {
   "cell_type": "code",
   "execution_count": null,
   "id": "90830ca2-970e-41dd-b506-417c609adaa4",
   "metadata": {
    "tags": []
   },
   "outputs": [],
   "source": [
    "print"
   ]
  },
  {
   "cell_type": "code",
   "execution_count": null,
   "id": "2384f5d8-7cf8-4b85-bed2-8033698781a5",
   "metadata": {
    "tags": []
   },
   "outputs": [],
   "source": [
    "empty = print('hello', 'world')"
   ]
  },
  {
   "cell_type": "code",
   "execution_count": null,
   "id": "a145ad0e-7072-436a-a4a0-deee59b849d4",
   "metadata": {
    "tags": []
   },
   "outputs": [],
   "source": [
    "print('hello', 'world')\n",
    "print('hello', 'world', sep=' ', end='\\n')\n",
    "print('hello', 'world', sep='\\t')\n",
    "print('hello', 'world', end='')\n",
    "print('hello', 'world')\n",
    "print('hello', 'world', end='\\r')\n",
    "print('bye', 'world')"
   ]
  },
  {
   "cell_type": "code",
   "execution_count": null,
   "id": "69d3d4fe-4618-4200-b87e-4847bc0c17db",
   "metadata": {
    "tags": []
   },
   "outputs": [],
   "source": [
    "textfile = open('text.txt', 'w')\n",
    "print('hello', 'world', file=textfile)\n",
    "textfile.close()"
   ]
  },
  {
   "cell_type": "code",
   "execution_count": null,
   "id": "e688530a-f847-4817-a25d-3f7734f99ddd",
   "metadata": {
    "tags": []
   },
   "outputs": [],
   "source": [
    "#ord(c='a')"
   ]
  },
  {
   "cell_type": "code",
   "execution_count": null,
   "id": "213106e4-999e-43e2-a9a4-e2e49986d9d1",
   "metadata": {
    "tags": []
   },
   "outputs": [],
   "source": [
    "print()\n",
    "print('hello')\n",
    "print('hello', 'world')\n",
    "print('good', 'morning', 'world')"
   ]
  },
  {
   "cell_type": "code",
   "execution_count": null,
   "id": "f184a603-c937-4800-9b53-5bb8a918da98",
   "metadata": {
    "tags": []
   },
   "outputs": [],
   "source": [
    "from time import sleep"
   ]
  },
  {
   "cell_type": "code",
   "execution_count": null,
   "id": "14711f3b-6981-4ac5-9815-25be6c6101de",
   "metadata": {
    "tags": []
   },
   "outputs": [],
   "source": [
    "for index in range(10):\n",
    "    print(0, end='', flush=False)\n",
    "    print('\\r', end='', flush=False)\n",
    "    sleep(0.1)\n",
    "    print(1, end='', flush=False)\n",
    "    print('\\r', end='', flush=False)"
   ]
  },
  {
   "cell_type": "code",
   "execution_count": null,
   "id": "69d40f71-2722-4bb8-94f1-fe7e667c3ffa",
   "metadata": {
    "tags": []
   },
   "outputs": [],
   "source": [
    "for index in range(10):\n",
    "    print(0, end='', flush=True)\n",
    "    print('\\r', end='', flush=True)\n",
    "    sleep(0.1)\n",
    "    print(1, end='', flush=True)\n",
    "    print('\\r', end='', flush=True)"
   ]
  },
  {
   "cell_type": "code",
   "execution_count": null,
   "id": "cef46719-2f04-446f-82aa-b56d1be7aa35",
   "metadata": {
    "tags": []
   },
   "outputs": [],
   "source": [
    "3 // 2"
   ]
  },
  {
   "cell_type": "code",
   "execution_count": null,
   "id": "2bb23380-6908-4adf-857d-63dfb988a011",
   "metadata": {
    "tags": []
   },
   "outputs": [],
   "source": [
    "3 % 2"
   ]
  },
  {
   "cell_type": "code",
   "execution_count": null,
   "id": "f090d759-d9d8-4369-bf36-af879e2ef7dc",
   "metadata": {
    "tags": []
   },
   "outputs": [],
   "source": [
    "divmod"
   ]
  },
  {
   "cell_type": "code",
   "execution_count": null,
   "id": "f54ce4eb-dbee-4b75-813d-9630eb5a22c2",
   "metadata": {
    "tags": []
   },
   "outputs": [],
   "source": [
    "divmod(3, 2)"
   ]
  },
  {
   "cell_type": "code",
   "execution_count": null,
   "id": "23792dd8-e98b-495b-80c1-1285d015922d",
   "metadata": {
    "tags": []
   },
   "outputs": [],
   "source": [
    "(quotient, remainder) = divmod(3, 2)"
   ]
  },
  {
   "cell_type": "code",
   "execution_count": null,
   "id": "cec91f76-2e02-40d5-807c-b0d9360a3d24",
   "metadata": {
    "tags": []
   },
   "outputs": [],
   "source": [
    "quotient"
   ]
  },
  {
   "cell_type": "code",
   "execution_count": null,
   "id": "71643304-5b00-4cfd-b61a-4787ab156a7f",
   "metadata": {
    "tags": []
   },
   "outputs": [],
   "source": [
    "remainder"
   ]
  },
  {
   "cell_type": "code",
   "execution_count": null,
   "id": "2c58e74b-e0be-4aa6-9b7e-6c7c2a752c25",
   "metadata": {
    "tags": []
   },
   "outputs": [],
   "source": [
    "quotient, remainder = divmod(3, 2)"
   ]
  },
  {
   "cell_type": "code",
   "execution_count": null,
   "id": "6fbf82c4-7e7e-4562-b6b9-a3b77289aae9",
   "metadata": {
    "tags": []
   },
   "outputs": [],
   "source": [
    "quotient"
   ]
  },
  {
   "cell_type": "code",
   "execution_count": null,
   "id": "ffbacf1d-4746-496a-a29d-f6d964bc78df",
   "metadata": {
    "tags": []
   },
   "outputs": [],
   "source": [
    "remainder"
   ]
  },
  {
   "cell_type": "code",
   "execution_count": null,
   "id": "3aaef0b4-ae79-4b17-a43d-9683caa54e7e",
   "metadata": {
    "tags": []
   },
   "outputs": [],
   "source": [
    "license"
   ]
  },
  {
   "cell_type": "code",
   "execution_count": null,
   "id": "9c620f98-a910-4b46-a040-aa1d56bd1c0a",
   "metadata": {
    "tags": []
   },
   "outputs": [],
   "source": [
    "license()"
   ]
  },
  {
   "cell_type": "code",
   "execution_count": null,
   "id": "0acac8f4-417f-40fd-bdab-1305d387fb52",
   "metadata": {
    "tags": []
   },
   "outputs": [],
   "source": [
    "eula = license()"
   ]
  },
  {
   "cell_type": "code",
   "execution_count": null,
   "id": "8d46d461-0403-4739-a674-a34e6437db3f",
   "metadata": {
    "tags": []
   },
   "outputs": [],
   "source": [
    "def nothing():\n",
    "    return\n",
    "\n",
    "   "
   ]
  },
  {
   "cell_type": "code",
   "execution_count": null,
   "id": "3a11f1df-2e57-4ae9-8887-b01596856d17",
   "metadata": {
    "tags": []
   },
   "outputs": [],
   "source": [
    "nothing"
   ]
  },
  {
   "cell_type": "code",
   "execution_count": null,
   "id": "744e0dfa-61e8-40bb-a5fc-5fa23b37aa3e",
   "metadata": {
    "tags": []
   },
   "outputs": [],
   "source": [
    "nothing()"
   ]
  },
  {
   "cell_type": "code",
   "execution_count": null,
   "id": "cd5dc9b9-83e8-4bcc-b38d-d92f61677225",
   "metadata": {
    "tags": []
   },
   "outputs": [],
   "source": [
    "empty = nothing()"
   ]
  },
  {
   "cell_type": "code",
   "execution_count": null,
   "id": "f24fb9ee-c825-41e8-9426-704fac6f8ec2",
   "metadata": {
    "tags": []
   },
   "outputs": [],
   "source": [
    "def plural(word):\n",
    "    return word + 's'\n",
    "\n"
   ]
  },
  {
   "cell_type": "code",
   "execution_count": null,
   "id": "a940b014-4bf7-4cc7-b936-83dd48bf89e9",
   "metadata": {
    "tags": []
   },
   "outputs": [],
   "source": [
    "plural"
   ]
  },
  {
   "cell_type": "code",
   "execution_count": null,
   "id": "1ece8f3d-5b63-41ee-a9be-718267e0aec1",
   "metadata": {
    "tags": []
   },
   "outputs": [],
   "source": [
    "def plural(word):\n",
    "    \"\"\"\n",
    "    Takes a singular str word and returns its\n",
    "    plural. e.g. 'apple' becomes 'apples'.\n",
    "\n",
    "    Parameters\n",
    "    ----------\n",
    "    word : str\n",
    "        singular str.\n",
    "\n",
    "    Returns\n",
    "    -------\n",
    "    str\n",
    "        plural str.\n",
    "\n",
    "    \"\"\"\n",
    "    return word + 's'\n",
    "\n"
   ]
  },
  {
   "cell_type": "code",
   "execution_count": null,
   "id": "4fcdcf31-382a-4cb0-bfca-fd171b73d0fa",
   "metadata": {
    "tags": []
   },
   "outputs": [],
   "source": [
    "plural('apple')"
   ]
  },
  {
   "cell_type": "code",
   "execution_count": null,
   "id": "5a33c316-521b-4df6-9ad4-067546df5dc9",
   "metadata": {
    "tags": []
   },
   "outputs": [],
   "source": [
    "plural('banana')"
   ]
  },
  {
   "cell_type": "code",
   "execution_count": null,
   "id": "6a570d12-ae59-4d3c-842e-57d84d11a6b6",
   "metadata": {
    "tags": []
   },
   "outputs": [],
   "source": [
    "plural(word='apple')"
   ]
  },
  {
   "cell_type": "code",
   "execution_count": null,
   "id": "af1609bf-9d05-4006-9689-5d11bd5e00e7",
   "metadata": {
    "tags": []
   },
   "outputs": [],
   "source": [
    "fruits = plural('apple')"
   ]
  },
  {
   "cell_type": "code",
   "execution_count": null,
   "id": "f07fe5c7-85d0-4991-b492-8489dd93bafd",
   "metadata": {
    "tags": []
   },
   "outputs": [],
   "source": [
    "fruits"
   ]
  },
  {
   "cell_type": "code",
   "execution_count": null,
   "id": "f855f3cd-dd7a-4b1c-b2cd-e763f669dd74",
   "metadata": {
    "tags": []
   },
   "outputs": [],
   "source": [
    "# plural()"
   ]
  },
  {
   "cell_type": "code",
   "execution_count": null,
   "id": "1ffad070-8d2f-4d35-b5ea-c4b6955657a3",
   "metadata": {
    "tags": []
   },
   "outputs": [],
   "source": [
    "# plural('apple', 'banana')"
   ]
  },
  {
   "cell_type": "code",
   "execution_count": null,
   "id": "d1ca9ad0-60b9-426b-9959-6b704bf18d0c",
   "metadata": {
    "tags": []
   },
   "outputs": [],
   "source": [
    "#plural(2)"
   ]
  },
  {
   "cell_type": "code",
   "execution_count": null,
   "id": "8f8cd33c-48f4-449d-962d-ed02d2de7fa8",
   "metadata": {
    "tags": []
   },
   "outputs": [],
   "source": [
    "def plural(word):\n",
    "    assert isinstance(word, str)\n",
    "    \"\"\"\n",
    "    Takes a singular str word and returns its\n",
    "    plural. e.g. 'apple' becomes 'apples'.\n",
    "\n",
    "    Parameters\n",
    "    ----------\n",
    "    word : str\n",
    "        singular str.\n",
    "\n",
    "    Returns\n",
    "    -------\n",
    "    str\n",
    "        plural str.\n",
    "\n",
    "    \"\"\"\n",
    "    return word + 's'\n",
    "\n"
   ]
  },
  {
   "cell_type": "code",
   "execution_count": null,
   "id": "fe4bd51e-14b2-4ee3-a04f-2f65278fcff2",
   "metadata": {
    "tags": []
   },
   "outputs": [],
   "source": [
    "plural('banana')"
   ]
  },
  {
   "cell_type": "code",
   "execution_count": null,
   "id": "019082d8-e2ee-4ccf-8f7d-bfec7998bc85",
   "metadata": {
    "tags": []
   },
   "outputs": [],
   "source": [
    "plural(2)"
   ]
  },
  {
   "cell_type": "code",
   "execution_count": null,
   "id": "00b9cfb3-9096-41e8-af88-7a677a825081",
   "metadata": {
    "tags": []
   },
   "outputs": [],
   "source": [
    "plural('banana')"
   ]
  },
  {
   "cell_type": "code",
   "execution_count": null,
   "id": "fb26ab31-2e10-44ab-a411-85e6d3d5c2fb",
   "metadata": {
    "tags": []
   },
   "outputs": [],
   "source": [
    "plural(word='banana')"
   ]
  },
  {
   "cell_type": "code",
   "execution_count": null,
   "id": "578cbbf2-3f04-4dc6-9a0a-8621577abbe6",
   "metadata": {
    "tags": []
   },
   "outputs": [],
   "source": [
    "def plural(word, /):\n",
    "    assert isinstance(word, str)\n",
    "    \"\"\"\n",
    "    Takes a singular str word and returns its\n",
    "    plural. e.g. 'apple' becomes 'apples'.\n",
    "\n",
    "    Parameters\n",
    "    ----------\n",
    "    word : str\n",
    "        singular str.\n",
    "\n",
    "    Returns\n",
    "    -------\n",
    "    str\n",
    "        plural str.\n",
    "\n",
    "    \"\"\"\n",
    "    return word + 's'\n",
    "\n"
   ]
  },
  {
   "cell_type": "code",
   "execution_count": null,
   "id": "a8175e5d-c368-4606-94b1-2347e0d1de3e",
   "metadata": {
    "tags": []
   },
   "outputs": [],
   "source": [
    "plural('banana')"
   ]
  },
  {
   "cell_type": "code",
   "execution_count": null,
   "id": "20c4392f-49fc-4d30-aabd-567250344038",
   "metadata": {
    "tags": []
   },
   "outputs": [],
   "source": [
    "#plural(word='banana')"
   ]
  },
  {
   "cell_type": "code",
   "execution_count": null,
   "id": "b6e2c913-fe32-49b7-81de-04480de21a83",
   "metadata": {
    "tags": []
   },
   "outputs": [],
   "source": [
    "isinstance('hello', str)"
   ]
  },
  {
   "cell_type": "code",
   "execution_count": null,
   "id": "93b5d671-fb71-4764-9f5c-5c9f6381cc11",
   "metadata": {
    "tags": []
   },
   "outputs": [],
   "source": [
    "isinstance(2, str)"
   ]
  },
  {
   "cell_type": "code",
   "execution_count": null,
   "id": "d7029e6f-a5c4-4c45-a96b-5c8d24fb45af",
   "metadata": {
    "tags": []
   },
   "outputs": [],
   "source": [
    "assert isinstance('hello', str)"
   ]
  },
  {
   "cell_type": "code",
   "execution_count": null,
   "id": "0dfe26df-1419-40ca-a7a3-8af0620b17e1",
   "metadata": {
    "tags": []
   },
   "outputs": [],
   "source": [
    "assert isinstance(2, str)"
   ]
  },
  {
   "cell_type": "code",
   "execution_count": null,
   "id": "cc45f7f3-6b51-48a4-afdb-3f7f26920bf2",
   "metadata": {
    "tags": []
   },
   "outputs": [],
   "source": [
    "def higher(num1, num2):\n",
    "    \"\"\" Returns the highest numeric value.\n",
    "    Parameters\n",
    "    ----------\n",
    "    num1 : int, float or bool\n",
    "        numeric value.\n",
    "    num2 : int, float or bool\n",
    "        numeric value.\n",
    "\n",
    "    Returns\n",
    "    -------\n",
    "    int, float or bool\n",
    "        numeric value.\n",
    "\n",
    "    \"\"\"\n",
    "    assert isinstance(num1, (int, float, bool))\n",
    "    assert isinstance(num2, (int, float, bool))\n",
    "    if num1 > num2:\n",
    "        return num1\n",
    "    return num2\n",
    "\n"
   ]
  },
  {
   "cell_type": "code",
   "execution_count": null,
   "id": "30854674-50fc-4663-9602-1bc267b622a5",
   "metadata": {
    "tags": []
   },
   "outputs": [],
   "source": [
    "higher"
   ]
  },
  {
   "cell_type": "code",
   "execution_count": null,
   "id": "28696f43-3fba-4b68-bf74-f82e05ba1b88",
   "metadata": {
    "tags": []
   },
   "outputs": [],
   "source": [
    "higher(1, 2)"
   ]
  },
  {
   "cell_type": "code",
   "execution_count": null,
   "id": "3da9a2d8-c934-4070-8ed9-ecd837cb1b62",
   "metadata": {
    "tags": []
   },
   "outputs": [],
   "source": [
    "higher(3.14, 2)"
   ]
  },
  {
   "cell_type": "code",
   "execution_count": null,
   "id": "874e10b6-0f48-49b3-b293-b63ff9ad6e92",
   "metadata": {
    "tags": []
   },
   "outputs": [],
   "source": [
    "higher()"
   ]
  },
  {
   "cell_type": "code",
   "execution_count": null,
   "id": "3255a745-bb4e-4601-9ee9-051e25fb6522",
   "metadata": {
    "tags": []
   },
   "outputs": [],
   "source": [
    "def one():\n",
    "    return 1\n",
    "    return 2\n",
    "    return 3\n",
    "\n"
   ]
  },
  {
   "cell_type": "code",
   "execution_count": null,
   "id": "0c51f92f-ad64-481d-aa8c-9e880d1295c1",
   "metadata": {
    "tags": []
   },
   "outputs": [],
   "source": [
    "one()"
   ]
  },
  {
   "cell_type": "code",
   "execution_count": null,
   "id": "89ff2b12-abc5-447e-911c-9cefca9d4b49",
   "metadata": {
    "tags": []
   },
   "outputs": [],
   "source": [
    "def calcsomething():\n",
    "    1 + 2\n",
    "    \n",
    "    "
   ]
  },
  {
   "cell_type": "code",
   "execution_count": null,
   "id": "976c5c3a-2030-40b4-ad5d-49456c2acda1",
   "metadata": {
    "tags": []
   },
   "outputs": [],
   "source": [
    "empty = calcsomething()"
   ]
  },
  {
   "cell_type": "code",
   "execution_count": null,
   "id": "735fc2dd-f721-488a-b052-535d9c46a5d2",
   "metadata": {
    "tags": []
   },
   "outputs": [],
   "source": [
    "x = 2"
   ]
  },
  {
   "cell_type": "code",
   "execution_count": null,
   "id": "07f4af7b-33ef-4ecf-821b-1385b20f15f2",
   "metadata": {
    "tags": []
   },
   "outputs": [],
   "source": [
    "def localvariable():\n",
    "    x = 4\n",
    "    return x\n",
    "\n"
   ]
  },
  {
   "cell_type": "code",
   "execution_count": null,
   "id": "086a0fe7-3501-4911-bc58-83d1c25c6a78",
   "metadata": {
    "tags": []
   },
   "outputs": [],
   "source": [
    "y = localvariable()"
   ]
  },
  {
   "cell_type": "code",
   "execution_count": null,
   "id": "f0e9c6d5-e80f-4a56-a0a7-982c27c2bf9d",
   "metadata": {
    "tags": []
   },
   "outputs": [],
   "source": [
    "active = [1, 2, 3, 4]"
   ]
  },
  {
   "cell_type": "code",
   "execution_count": null,
   "id": "4acd2446-f0fe-435a-8592-0acfd871d50e",
   "metadata": {
    "tags": []
   },
   "outputs": [],
   "source": [
    "def updateactive():\n",
    "    active.append(5)\n",
    "    \n",
    "    "
   ]
  },
  {
   "cell_type": "code",
   "execution_count": null,
   "id": "d51b72f5-6318-40bd-b011-e701bf11ca3d",
   "metadata": {
    "tags": []
   },
   "outputs": [],
   "source": [
    "active"
   ]
  },
  {
   "cell_type": "code",
   "execution_count": null,
   "id": "012d7fa6-b5a4-441b-a741-8b10df573c8a",
   "metadata": {
    "tags": []
   },
   "outputs": [],
   "source": [
    "active = [1, 2, 3, 4]"
   ]
  },
  {
   "cell_type": "code",
   "execution_count": null,
   "id": "cbcd94c1-b275-4b32-bb2b-57b6bd0ea840",
   "metadata": {
    "tags": []
   },
   "outputs": [],
   "source": [
    "def updateactive(data):\n",
    "    data.append(5)\n",
    "    \n",
    "    "
   ]
  },
  {
   "cell_type": "code",
   "execution_count": null,
   "id": "ae716c4b-9806-42af-80ea-2b9fce8ce6e9",
   "metadata": {
    "tags": []
   },
   "outputs": [],
   "source": [
    "updateactive(active)"
   ]
  },
  {
   "cell_type": "code",
   "execution_count": null,
   "id": "37dcb344-ed9e-42d5-9dbf-2536c5499066",
   "metadata": {
    "tags": []
   },
   "outputs": [],
   "source": [
    "active"
   ]
  },
  {
   "cell_type": "code",
   "execution_count": null,
   "id": "a9a1aa43-8321-4d8e-ba3a-1cac3233a2ae",
   "metadata": {
    "tags": []
   },
   "outputs": [],
   "source": [
    "active = [1, 2, 3, 4]"
   ]
  },
  {
   "cell_type": "code",
   "execution_count": null,
   "id": "466ab41f-d369-4a5f-8c5e-e3ee30fa6255",
   "metadata": {
    "tags": []
   },
   "outputs": [],
   "source": [
    "def updateactive():\n",
    "    active.append(5)"
   ]
  },
  {
   "cell_type": "code",
   "execution_count": null,
   "id": "60957f89-f0d5-41b6-9532-a0595c58b211",
   "metadata": {
    "tags": []
   },
   "outputs": [],
   "source": [
    "updateactive() "
   ]
  },
  {
   "cell_type": "code",
   "execution_count": null,
   "id": "9dc33412-260f-473c-a406-559aa7145f4b",
   "metadata": {
    "tags": []
   },
   "outputs": [],
   "source": [
    "active"
   ]
  },
  {
   "cell_type": "code",
   "execution_count": null,
   "id": "d0ef7515-cb4e-47c9-a536-07e07d36808f",
   "metadata": {
    "tags": []
   },
   "outputs": [],
   "source": [
    "active = [1, 2, 3, 4]"
   ]
  },
  {
   "cell_type": "code",
   "execution_count": null,
   "id": "90dababe-5589-4e6b-9e01-75337c4b03fd",
   "metadata": {
    "tags": []
   },
   "outputs": [],
   "source": [
    "def returnactive():\n",
    "    return active"
   ]
  },
  {
   "cell_type": "code",
   "execution_count": null,
   "id": "9fd91841-3d48-403c-8e68-2314e65045c2",
   "metadata": {
    "tags": []
   },
   "outputs": [],
   "source": [
    "active2 = returnactive()    \n",
    "active2.append(5)"
   ]
  },
  {
   "cell_type": "code",
   "execution_count": null,
   "id": "90fb886c-1496-47c6-9ecc-7acc9abd396d",
   "metadata": {
    "tags": []
   },
   "outputs": [],
   "source": [
    "def plural(word='apple'):\n",
    "    assert isinstance(word, str)\n",
    "    \"\"\"Takes a singular word and returns its plural. \n",
    "    e.g. 'apple' becomes 'apples'.\n",
    "\n",
    "    Parameters\n",
    "    ----------\n",
    "    word : str\n",
    "        singular str. The default is 'apple'.\n",
    "\n",
    "    Returns\n",
    "    -------\n",
    "    str\n",
    "        plural str.\n",
    "\n",
    "    \"\"\"\n",
    "    return word + 's'\n",
    "\n"
   ]
  },
  {
   "cell_type": "code",
   "execution_count": null,
   "id": "96f3a0c9-fffb-4515-a91f-7eec1b0b438f",
   "metadata": {
    "tags": []
   },
   "outputs": [],
   "source": [
    "plural()"
   ]
  },
  {
   "cell_type": "code",
   "execution_count": null,
   "id": "43371e8e-1c9c-4595-b42a-050b699581f2",
   "metadata": {
    "tags": []
   },
   "outputs": [],
   "source": [
    "plural(word='banana')"
   ]
  },
  {
   "cell_type": "code",
   "execution_count": null,
   "id": "7eb84251-02ad-4e87-9019-19d527ffafa8",
   "metadata": {
    "tags": []
   },
   "outputs": [],
   "source": [
    "plural('banana')"
   ]
  },
  {
   "cell_type": "code",
   "execution_count": null,
   "id": "3665f1cd-6ee4-4808-8967-38da666100a2",
   "metadata": {
    "tags": []
   },
   "outputs": [],
   "source": [
    "def singular(word='apples'):\n",
    "    assert isinstance(word, str)\n",
    "    \"\"\"Takes a plural word and returns its singular value. \n",
    "    e.g. 'apple' becomes ('apple', 's').\n",
    "\n",
    "    Parameters\n",
    "    ----------\n",
    "    word : str\n",
    "        plural str. The default is 'apples'.\n",
    "\n",
    "    Returns\n",
    "    -------\n",
    "    tuple\n",
    "        tuple of singular str and value at last index.\n",
    "\n",
    "    \"\"\"\n",
    "    return word[:-1], word[-1]\n",
    "\n"
   ]
  },
  {
   "cell_type": "code",
   "execution_count": null,
   "id": "af2e1aa2-7e3e-4bd8-8bc0-d538d01863ec",
   "metadata": {
    "tags": []
   },
   "outputs": [],
   "source": [
    "singular()"
   ]
  },
  {
   "cell_type": "code",
   "execution_count": null,
   "id": "9b02931f-9ee1-40a2-9ac4-24f57037b84b",
   "metadata": {
    "tags": []
   },
   "outputs": [],
   "source": [
    "singular(word='bananas')"
   ]
  },
  {
   "cell_type": "code",
   "execution_count": null,
   "id": "c1b42206-ec2b-4be4-b7c2-058b171fccd9",
   "metadata": {
    "tags": []
   },
   "outputs": [],
   "source": [
    "singular('bananas')"
   ]
  },
  {
   "cell_type": "code",
   "execution_count": null,
   "id": "642ee583-5479-4900-adad-c8cca59a507b",
   "metadata": {
    "tags": []
   },
   "outputs": [],
   "source": [
    "x = 2"
   ]
  },
  {
   "cell_type": "code",
   "execution_count": null,
   "id": "3157ee74-adba-4c05-bfe0-f7f7d2f91450",
   "metadata": {
    "tags": []
   },
   "outputs": [],
   "source": [
    "def unboundlocal():\n",
    "    x += 2\n",
    "    \n",
    "    "
   ]
  },
  {
   "cell_type": "code",
   "execution_count": null,
   "id": "f7013eb1-d7b4-423d-8e6e-f38d4b72911c",
   "metadata": {
    "tags": []
   },
   "outputs": [],
   "source": [
    "unboundlocal()"
   ]
  },
  {
   "cell_type": "code",
   "execution_count": null,
   "id": "51b0cb65-f583-4e9f-a756-848bd61dda70",
   "metadata": {
    "tags": []
   },
   "outputs": [],
   "source": [
    "active = [1, 2, 3, 4]"
   ]
  },
  {
   "cell_type": "code",
   "execution_count": null,
   "id": "0dc11bae-a7ee-40b5-94e3-30a84f0cba09",
   "metadata": {
    "tags": []
   },
   "outputs": [],
   "source": [
    "def updateactive():\n",
    "    active.append(5)\n",
    "    \n",
    "    "
   ]
  },
  {
   "cell_type": "code",
   "execution_count": null,
   "id": "c90abc04-4c9e-4966-ab7d-c74c27b48d4d",
   "metadata": {
    "tags": []
   },
   "outputs": [],
   "source": [
    "updateactive()  "
   ]
  },
  {
   "cell_type": "code",
   "execution_count": null,
   "id": "49dd2aee-5116-4a91-b756-6d96b1380e79",
   "metadata": {
    "tags": []
   },
   "outputs": [],
   "source": [
    "active = [1, 2, 3, 4]"
   ]
  },
  {
   "cell_type": "code",
   "execution_count": null,
   "id": "993420c4-2047-4147-8ba1-4cadb6fdb46c",
   "metadata": {
    "tags": []
   },
   "outputs": [],
   "source": [
    "def returnactive(data):\n",
    "    return data.copy()\n",
    "\n"
   ]
  },
  {
   "cell_type": "code",
   "execution_count": null,
   "id": "2a7ff4a8-b5f6-4eca-a663-fad21b23f730",
   "metadata": {
    "tags": []
   },
   "outputs": [],
   "source": [
    "active2 = returnactive(active)  "
   ]
  },
  {
   "cell_type": "code",
   "execution_count": null,
   "id": "a98ce079-facb-46d8-bcb3-978647cc7d95",
   "metadata": {
    "tags": []
   },
   "outputs": [],
   "source": [
    "active2.append(5)"
   ]
  },
  {
   "cell_type": "code",
   "execution_count": null,
   "id": "6aaee2cc-44ce-4de5-9875-7ca31dd7c719",
   "metadata": {
    "tags": []
   },
   "outputs": [],
   "source": [
    "def higher(num1=1, num2=2):\n",
    "    assert isinstance(num1, (int, float, bool))\n",
    "    assert isinstance(num2, (int, float, bool))\n",
    "    if num1 > num2:\n",
    "        return num1\n",
    "    return num2\n",
    "\n"
   ]
  },
  {
   "cell_type": "code",
   "execution_count": null,
   "id": "ecb63e10-3d36-4613-8787-1686a6eba20b",
   "metadata": {
    "tags": []
   },
   "outputs": [],
   "source": [
    "nums = {'num1': 3, 'num2': 1}"
   ]
  },
  {
   "cell_type": "code",
   "execution_count": null,
   "id": "93a2f128-ad75-43ad-aa70-5843efbb0e11",
   "metadata": {
    "tags": []
   },
   "outputs": [],
   "source": [
    "higher(**nums)"
   ]
  },
  {
   "cell_type": "code",
   "execution_count": null,
   "id": "b6dfae58-602e-45da-8e27-0c294d3b6b14",
   "metadata": {
    "tags": []
   },
   "outputs": [],
   "source": [
    "def customsum(*args):\n",
    "    \"\"\"returns the sum of a variable number of \n",
    "    input arguments.\"\"\"\n",
    "    total = 0\n",
    "    for num in args:\n",
    "        assert isinstance(num, (int, float, bool))\n",
    "        total += num\n",
    "    return total\n",
    "        \n",
    "        "
   ]
  },
  {
   "cell_type": "code",
   "execution_count": null,
   "id": "c27b5a70-4b23-41f7-8a30-08f5ffcb2082",
   "metadata": {
    "tags": []
   },
   "outputs": [],
   "source": [
    "customsum()"
   ]
  },
  {
   "cell_type": "code",
   "execution_count": null,
   "id": "294ddf22-049e-4983-86ac-9a66d169a871",
   "metadata": {
    "tags": []
   },
   "outputs": [],
   "source": [
    "customsum(1)"
   ]
  },
  {
   "cell_type": "code",
   "execution_count": null,
   "id": "54407cf8-cf9b-48bd-a49c-74dfeedc3afd",
   "metadata": {
    "tags": []
   },
   "outputs": [],
   "source": [
    "customsum(1, 2, 3, 4)"
   ]
  },
  {
   "cell_type": "code",
   "execution_count": null,
   "id": "f86f6937-7e29-4510-a363-45152b5fcd3b",
   "metadata": {
    "tags": []
   },
   "outputs": [],
   "source": [
    "def customsum(**kwargs):\n",
    "    \"\"\"returns the sum of a variable number of \n",
    "    keyword input arguments.\"\"\"\n",
    "    total = 0\n",
    "    for key in kwargs:\n",
    "        assert isinstance(kwargs[key], (int, float, bool))\n",
    "        total += kwargs[key]\n",
    "    return total\n",
    "        \n",
    "        "
   ]
  },
  {
   "cell_type": "code",
   "execution_count": null,
   "id": "38513a92-f6c4-4570-b09a-dfd73c792288",
   "metadata": {
    "tags": []
   },
   "outputs": [],
   "source": [
    "customsum(one=1, two=2, three=3, four=4)"
   ]
  },
  {
   "cell_type": "code",
   "execution_count": null,
   "id": "2f2c2024-67dc-41bb-877f-8f3d855bf66e",
   "metadata": {
    "tags": []
   },
   "outputs": [],
   "source": [
    "def incrementer(num=0):\n",
    "    yield num\n",
    "    \n",
    "    "
   ]
  },
  {
   "cell_type": "code",
   "execution_count": null,
   "id": "e7b45603-aca9-49ce-babe-df88f845ac70",
   "metadata": {
    "tags": []
   },
   "outputs": [],
   "source": [
    "incrementer"
   ]
  },
  {
   "cell_type": "code",
   "execution_count": null,
   "id": "c64b8b5a-143d-446f-bc29-ab3e184918fb",
   "metadata": {
    "tags": []
   },
   "outputs": [],
   "source": [
    "incrementer()"
   ]
  },
  {
   "cell_type": "code",
   "execution_count": null,
   "id": "454f78e0-aebe-425c-933e-8b105174dcf8",
   "metadata": {
    "tags": []
   },
   "outputs": [],
   "source": [
    "count = incrementer()"
   ]
  },
  {
   "cell_type": "code",
   "execution_count": null,
   "id": "9909b394-65aa-4940-94bc-0a01b71e76be",
   "metadata": {
    "tags": []
   },
   "outputs": [],
   "source": [
    "next(count)"
   ]
  },
  {
   "cell_type": "code",
   "execution_count": null,
   "id": "7ae655dc-135c-4478-9629-07e82258f699",
   "metadata": {
    "tags": []
   },
   "outputs": [],
   "source": [
    "next(count)"
   ]
  },
  {
   "cell_type": "code",
   "execution_count": null,
   "id": "ebd686c1-1b1f-4152-a738-c710253aa5d5",
   "metadata": {
    "tags": []
   },
   "outputs": [],
   "source": [
    "def incrementer(num=0):\n",
    "    for index in range(5):\n",
    "        yield num\n",
    "        num += 1\n",
    "    \n"
   ]
  },
  {
   "cell_type": "code",
   "execution_count": null,
   "id": "e4a6065d-2f2a-4e4b-8e5e-07ea2a411069",
   "metadata": {},
   "outputs": [],
   "source": [
    "clock = incrementer()"
   ]
  },
  {
   "cell_type": "code",
   "execution_count": null,
   "id": "c40967bb-87a2-4830-a10c-c2a442093e28",
   "metadata": {
    "tags": []
   },
   "outputs": [],
   "source": [
    "next(clock)"
   ]
  },
  {
   "cell_type": "code",
   "execution_count": null,
   "id": "3f22a6b0-ecf3-471d-9e7a-1ff37bd61110",
   "metadata": {
    "tags": []
   },
   "outputs": [],
   "source": [
    "next(clock)"
   ]
  },
  {
   "cell_type": "code",
   "execution_count": null,
   "id": "735e31cb-8413-4def-aca1-e24a0fa9415b",
   "metadata": {
    "tags": []
   },
   "outputs": [],
   "source": [
    "next(clock)"
   ]
  },
  {
   "cell_type": "code",
   "execution_count": null,
   "id": "efceb59b-9d30-4ad2-be25-46f546be1fbb",
   "metadata": {
    "tags": []
   },
   "outputs": [],
   "source": [
    "next(clock)"
   ]
  },
  {
   "cell_type": "code",
   "execution_count": null,
   "id": "6eceb8fc-67ae-4210-adf7-13930ab235a3",
   "metadata": {
    "tags": []
   },
   "outputs": [],
   "source": [
    "next(clock)"
   ]
  },
  {
   "cell_type": "code",
   "execution_count": null,
   "id": "3504c77c-41a0-4bdd-9c56-76f9412352c4",
   "metadata": {
    "tags": []
   },
   "outputs": [],
   "source": [
    "next(clock)"
   ]
  },
  {
   "cell_type": "code",
   "execution_count": 1,
   "id": "a1ffea75-20ce-4ecb-8091-aa853b0915e2",
   "metadata": {
    "tags": []
   },
   "outputs": [],
   "source": [
    "def generate():\n",
    "    yield 'a'\n",
    "    yield 'b'\n",
    "    yield 'c'\n",
    "    \n",
    "    "
   ]
  },
  {
   "cell_type": "code",
   "execution_count": 2,
   "id": "57baa475-d3e1-43a2-915d-fb2fc8f34b6b",
   "metadata": {
    "tags": []
   },
   "outputs": [],
   "source": [
    "gen = generate()"
   ]
  },
  {
   "cell_type": "code",
   "execution_count": 3,
   "id": "641615a9-9393-4fb1-a46d-c78863ff7c3f",
   "metadata": {
    "tags": []
   },
   "outputs": [
    {
     "data": {
      "text/plain": [
       "'a'"
      ]
     },
     "execution_count": 3,
     "metadata": {},
     "output_type": "execute_result"
    }
   ],
   "source": [
    "next(gen)"
   ]
  },
  {
   "cell_type": "code",
   "execution_count": 4,
   "id": "626323b9-a5fb-4471-ac6c-c9a4f5183cda",
   "metadata": {
    "tags": []
   },
   "outputs": [
    {
     "data": {
      "text/plain": [
       "'b'"
      ]
     },
     "execution_count": 4,
     "metadata": {},
     "output_type": "execute_result"
    }
   ],
   "source": [
    "next(gen)"
   ]
  },
  {
   "cell_type": "code",
   "execution_count": 5,
   "id": "82d3c31d-a63d-4ee5-b36d-0ffc6439fa42",
   "metadata": {
    "tags": []
   },
   "outputs": [
    {
     "data": {
      "text/plain": [
       "'c'"
      ]
     },
     "execution_count": 5,
     "metadata": {},
     "output_type": "execute_result"
    }
   ],
   "source": [
    "next(gen)"
   ]
  },
  {
   "cell_type": "code",
   "execution_count": 6,
   "id": "22007a4c-7cba-430b-9c8f-1abbd5812041",
   "metadata": {
    "tags": []
   },
   "outputs": [
    {
     "ename": "StopIteration",
     "evalue": "",
     "output_type": "error",
     "traceback": [
      "\u001b[1;31m----------------------------------------------------------------\u001b[0m",
      "\u001b[1;31mStopIteration\u001b[0m                  Traceback (most recent call last)",
      "Cell \u001b[1;32mIn[6], line 1\u001b[0m\n\u001b[1;32m----> 1\u001b[0m \u001b[38;5;28;43mnext\u001b[39;49m\u001b[43m(\u001b[49m\u001b[43mgen\u001b[49m\u001b[43m)\u001b[49m\n",
      "\u001b[1;31mStopIteration\u001b[0m: "
     ]
    }
   ],
   "source": [
    "next(gen)"
   ]
  },
  {
   "cell_type": "code",
   "execution_count": 7,
   "id": "9aa209d2-14c2-458e-ab33-612112dbbd54",
   "metadata": {
    "tags": []
   },
   "outputs": [],
   "source": [
    "nums = [1, 2, 3, 4, 5]\n",
    "squared = list(map(lambda x: x**2, nums))"
   ]
  },
  {
   "cell_type": "code",
   "execution_count": 8,
   "id": "b7522aa7-f73f-446f-b823-c06ecb063c12",
   "metadata": {
    "tags": []
   },
   "outputs": [
    {
     "data": {
      "text/plain": [
       "[1, 4, 9, 16, 25]"
      ]
     },
     "execution_count": 8,
     "metadata": {},
     "output_type": "execute_result"
    }
   ],
   "source": [
    "squared"
   ]
  },
  {
   "cell_type": "code",
   "execution_count": 9,
   "id": "1d9f5280-253c-4f32-9697-2513da09630e",
   "metadata": {
    "tags": []
   },
   "outputs": [
    {
     "data": {
      "text/plain": [
       "<map at 0x189e789e110>"
      ]
     },
     "execution_count": 9,
     "metadata": {},
     "output_type": "execute_result"
    }
   ],
   "source": [
    "map(lambda x: x**2, nums)"
   ]
  },
  {
   "cell_type": "code",
   "execution_count": 10,
   "id": "7ff6ed07-0bc7-4fad-a60e-ef15d3bbb892",
   "metadata": {
    "tags": []
   },
   "outputs": [],
   "source": [
    "from functools import reduce"
   ]
  },
  {
   "cell_type": "code",
   "execution_count": 11,
   "id": "e482ad9d-52c6-45fb-af39-c6f878f7ee45",
   "metadata": {
    "tags": []
   },
   "outputs": [],
   "source": [
    "summation = reduce((lambda x, y: x + y), [1, 2, 3, 4])"
   ]
  },
  {
   "cell_type": "code",
   "execution_count": 12,
   "id": "f70ad52f-a38a-4b60-9db0-a7d48c9beb04",
   "metadata": {
    "tags": []
   },
   "outputs": [
    {
     "data": {
      "text/plain": [
       "10"
      ]
     },
     "execution_count": 12,
     "metadata": {},
     "output_type": "execute_result"
    }
   ],
   "source": [
    "summation"
   ]
  },
  {
   "cell_type": "code",
   "execution_count": null,
   "id": "f6fbbeba-2c4a-4240-90dc-a36a10b99a0b",
   "metadata": {},
   "outputs": [],
   "source": [
    "reduce()"
   ]
  }
 ],
 "metadata": {
  "kernelspec": {
   "display_name": "Python 3 (ipykernel)",
   "language": "python",
   "name": "python3"
  },
  "language_info": {
   "codemirror_mode": {
    "name": "ipython",
    "version": 3
   },
   "file_extension": ".py",
   "mimetype": "text/x-python",
   "name": "python",
   "nbconvert_exporter": "python",
   "pygments_lexer": "ipython3",
   "version": "3.11.0"
  }
 },
 "nbformat": 4,
 "nbformat_minor": 5
}
