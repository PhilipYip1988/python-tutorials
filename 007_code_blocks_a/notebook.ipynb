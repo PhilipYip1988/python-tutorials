{
 "cells": [
  {
   "cell_type": "code",
   "execution_count": null,
   "id": "c9b2ac56-2f40-4af1-bea5-50bb5be58dd4",
   "metadata": {
    "tags": []
   },
   "outputs": [],
   "source": [
    "ord"
   ]
  },
  {
   "cell_type": "code",
   "execution_count": null,
   "id": "ccc5e4e0-18dd-4a93-a5e0-08596c6b28c2",
   "metadata": {
    "tags": []
   },
   "outputs": [],
   "source": [
    "ord('a')"
   ]
  },
  {
   "cell_type": "code",
   "execution_count": null,
   "id": "5cbe99b8-8b16-4540-88d3-fde643b325f9",
   "metadata": {
    "tags": []
   },
   "outputs": [],
   "source": [
    "num_a = ord('a')"
   ]
  },
  {
   "cell_type": "code",
   "execution_count": null,
   "id": "90830ca2-970e-41dd-b506-417c609adaa4",
   "metadata": {
    "tags": []
   },
   "outputs": [],
   "source": [
    "print"
   ]
  },
  {
   "cell_type": "code",
   "execution_count": null,
   "id": "2384f5d8-7cf8-4b85-bed2-8033698781a5",
   "metadata": {
    "tags": []
   },
   "outputs": [],
   "source": [
    "empty = print('hello', 'world')"
   ]
  },
  {
   "cell_type": "code",
   "execution_count": null,
   "id": "a145ad0e-7072-436a-a4a0-deee59b849d4",
   "metadata": {
    "tags": []
   },
   "outputs": [],
   "source": [
    "print('hello', 'world')\n",
    "print('hello', 'world', sep=' ', end='\\n')\n",
    "print('hello', 'world', sep='\\t')\n",
    "print('hello', 'world', end='')\n",
    "print('hello', 'world')\n",
    "print('hello', 'world', end='\\r')\n",
    "print('bye', 'world')"
   ]
  },
  {
   "cell_type": "code",
   "execution_count": null,
   "id": "69d3d4fe-4618-4200-b87e-4847bc0c17db",
   "metadata": {
    "tags": []
   },
   "outputs": [],
   "source": [
    "textfile = open('text.txt', 'w')\n",
    "print('hello', 'world', file=textfile)\n",
    "textfile.close()"
   ]
  },
  {
   "cell_type": "code",
   "execution_count": null,
   "id": "e688530a-f847-4817-a25d-3f7734f99ddd",
   "metadata": {
    "tags": []
   },
   "outputs": [],
   "source": [
    "#ord(c='a')"
   ]
  },
  {
   "cell_type": "code",
   "execution_count": null,
   "id": "213106e4-999e-43e2-a9a4-e2e49986d9d1",
   "metadata": {
    "tags": []
   },
   "outputs": [],
   "source": [
    "print()\n",
    "print('hello')\n",
    "print('hello', 'world')\n",
    "print('good', 'morning', 'world')"
   ]
  },
  {
   "cell_type": "code",
   "execution_count": null,
   "id": "f184a603-c937-4800-9b53-5bb8a918da98",
   "metadata": {
    "tags": []
   },
   "outputs": [],
   "source": [
    "from time import sleep"
   ]
  },
  {
   "cell_type": "code",
   "execution_count": null,
   "id": "14711f3b-6981-4ac5-9815-25be6c6101de",
   "metadata": {
    "tags": []
   },
   "outputs": [],
   "source": [
    "for index in range(10):\n",
    "    print(0, end='', flush=False)\n",
    "    print('\\r', end='', flush=False)\n",
    "    sleep(0.1)\n",
    "    print(1, end='', flush=False)\n",
    "    print('\\r', end='', flush=False)"
   ]
  },
  {
   "cell_type": "code",
   "execution_count": null,
   "id": "69d40f71-2722-4bb8-94f1-fe7e667c3ffa",
   "metadata": {
    "tags": []
   },
   "outputs": [],
   "source": [
    "for index in range(10):\n",
    "    print(0, end='', flush=True)\n",
    "    print('\\r', end='', flush=True)\n",
    "    sleep(0.1)\n",
    "    print(1, end='', flush=True)\n",
    "    print('\\r', end='', flush=True)"
   ]
  },
  {
   "cell_type": "code",
   "execution_count": null,
   "id": "cef46719-2f04-446f-82aa-b56d1be7aa35",
   "metadata": {
    "tags": []
   },
   "outputs": [],
   "source": [
    "3 // 2"
   ]
  },
  {
   "cell_type": "code",
   "execution_count": null,
   "id": "2bb23380-6908-4adf-857d-63dfb988a011",
   "metadata": {
    "tags": []
   },
   "outputs": [],
   "source": [
    "3 % 2"
   ]
  },
  {
   "cell_type": "code",
   "execution_count": null,
   "id": "f090d759-d9d8-4369-bf36-af879e2ef7dc",
   "metadata": {
    "tags": []
   },
   "outputs": [],
   "source": [
    "divmod"
   ]
  },
  {
   "cell_type": "code",
   "execution_count": null,
   "id": "f54ce4eb-dbee-4b75-813d-9630eb5a22c2",
   "metadata": {
    "tags": []
   },
   "outputs": [],
   "source": [
    "divmod(3, 2)"
   ]
  },
  {
   "cell_type": "code",
   "execution_count": null,
   "id": "23792dd8-e98b-495b-80c1-1285d015922d",
   "metadata": {
    "tags": []
   },
   "outputs": [],
   "source": [
    "(quotient, remainder) = divmod(3, 2)"
   ]
  },
  {
   "cell_type": "code",
   "execution_count": null,
   "id": "cec91f76-2e02-40d5-807c-b0d9360a3d24",
   "metadata": {
    "tags": []
   },
   "outputs": [],
   "source": [
    "quotient"
   ]
  },
  {
   "cell_type": "code",
   "execution_count": null,
   "id": "71643304-5b00-4cfd-b61a-4787ab156a7f",
   "metadata": {
    "tags": []
   },
   "outputs": [],
   "source": [
    "remainder"
   ]
  },
  {
   "cell_type": "code",
   "execution_count": null,
   "id": "2c58e74b-e0be-4aa6-9b7e-6c7c2a752c25",
   "metadata": {
    "tags": []
   },
   "outputs": [],
   "source": [
    "quotient, remainder = divmod(3, 2)"
   ]
  },
  {
   "cell_type": "code",
   "execution_count": null,
   "id": "6fbf82c4-7e7e-4562-b6b9-a3b77289aae9",
   "metadata": {
    "tags": []
   },
   "outputs": [],
   "source": [
    "quotient"
   ]
  },
  {
   "cell_type": "code",
   "execution_count": null,
   "id": "ffbacf1d-4746-496a-a29d-f6d964bc78df",
   "metadata": {
    "tags": []
   },
   "outputs": [],
   "source": [
    "remainder"
   ]
  },
  {
   "cell_type": "code",
   "execution_count": null,
   "id": "3aaef0b4-ae79-4b17-a43d-9683caa54e7e",
   "metadata": {
    "tags": []
   },
   "outputs": [],
   "source": [
    "license"
   ]
  },
  {
   "cell_type": "code",
   "execution_count": null,
   "id": "9c620f98-a910-4b46-a040-aa1d56bd1c0a",
   "metadata": {
    "tags": []
   },
   "outputs": [],
   "source": [
    "license()"
   ]
  },
  {
   "cell_type": "code",
   "execution_count": null,
   "id": "0acac8f4-417f-40fd-bdab-1305d387fb52",
   "metadata": {
    "tags": []
   },
   "outputs": [],
   "source": [
    "eula = license()"
   ]
  },
  {
   "cell_type": "code",
   "execution_count": null,
   "id": "8d46d461-0403-4739-a674-a34e6437db3f",
   "metadata": {
    "tags": []
   },
   "outputs": [],
   "source": [
    "def nothing():\n",
    "   return\n",
    "\n",
    "   "
   ]
  },
  {
   "cell_type": "code",
   "execution_count": null,
   "id": "3a11f1df-2e57-4ae9-8887-b01596856d17",
   "metadata": {
    "tags": []
   },
   "outputs": [],
   "source": [
    "nothing"
   ]
  },
  {
   "cell_type": "code",
   "execution_count": null,
   "id": "744e0dfa-61e8-40bb-a5fc-5fa23b37aa3e",
   "metadata": {
    "tags": []
   },
   "outputs": [],
   "source": [
    "nothing()"
   ]
  },
  {
   "cell_type": "code",
   "execution_count": null,
   "id": "cd5dc9b9-83e8-4bcc-b38d-d92f61677225",
   "metadata": {
    "tags": []
   },
   "outputs": [],
   "source": [
    "empty = nothing()"
   ]
  },
  {
   "cell_type": "code",
   "execution_count": 5,
   "id": "7289d830-746a-40f3-bd67-b4ea74cbca14",
   "metadata": {
    "tags": []
   },
   "outputs": [],
   "source": [
    "def plural(word, /):\n",
    "   \"\"\"\n",
    "    Takes a singular str word and returns its\n",
    "    plural. e.g. 'apple' becomes 'apples'.\n",
    "\n",
    "    Parameters\n",
    "    ----------\n",
    "    word : str\n",
    "        singular str.\n",
    "\n",
    "    Returns\n",
    "    -------\n",
    "    str\n",
    "        plural str.\n",
    "\n",
    "    \"\"\"\n",
    "   return word + 's'\n",
    "\n"
   ]
  },
  {
   "cell_type": "code",
   "execution_count": 6,
   "id": "c7a54a92-4983-4e32-89c5-9aad928d673e",
   "metadata": {
    "tags": []
   },
   "outputs": [
    {
     "data": {
      "text/plain": [
       "'bananas'"
      ]
     },
     "execution_count": 6,
     "metadata": {},
     "output_type": "execute_result"
    }
   ],
   "source": [
    "plural('banana')"
   ]
  },
  {
   "cell_type": "code",
   "execution_count": 7,
   "id": "cd3f6d97-a405-4ab7-be14-3f24a819c718",
   "metadata": {
    "tags": []
   },
   "outputs": [
    {
     "ename": "TypeError",
     "evalue": "plural() got some positional-only arguments passed as keyword arguments: 'word'",
     "output_type": "error",
     "traceback": [
      "\u001b[1;31m----------------------------------------------------------------\u001b[0m",
      "\u001b[1;31mTypeError\u001b[0m                      Traceback (most recent call last)",
      "Cell \u001b[1;32mIn[7], line 1\u001b[0m\n\u001b[1;32m----> 1\u001b[0m \u001b[43mplural\u001b[49m\u001b[43m(\u001b[49m\u001b[43mword\u001b[49m\u001b[38;5;241;43m=\u001b[39;49m\u001b[38;5;124;43m'\u001b[39;49m\u001b[38;5;124;43mbanana\u001b[39;49m\u001b[38;5;124;43m'\u001b[39;49m\u001b[43m)\u001b[49m\n",
      "\u001b[1;31mTypeError\u001b[0m: plural() got some positional-only arguments passed as keyword arguments: 'word'"
     ]
    }
   ],
   "source": [
    "plural(word='banana')"
   ]
  },
  {
   "cell_type": "code",
   "execution_count": null,
   "id": "f24fb9ee-c825-41e8-9426-704fac6f8ec2",
   "metadata": {},
   "outputs": [],
   "source": [
    "print()"
   ]
  }
 ],
 "metadata": {
  "kernelspec": {
   "display_name": "Python 3 (ipykernel)",
   "language": "python",
   "name": "python3"
  },
  "language_info": {
   "codemirror_mode": {
    "name": "ipython",
    "version": 3
   },
   "file_extension": ".py",
   "mimetype": "text/x-python",
   "name": "python",
   "nbconvert_exporter": "python",
   "pygments_lexer": "ipython3",
   "version": "3.11.0"
  }
 },
 "nbformat": 4,
 "nbformat_minor": 5
}
