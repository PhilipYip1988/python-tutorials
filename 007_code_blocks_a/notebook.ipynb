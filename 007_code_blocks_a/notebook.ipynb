{
 "cells": [
  {
   "cell_type": "code",
   "execution_count": 1,
   "id": "217e92fa-cb94-4bb2-aeae-14af2f8ba790",
   "metadata": {
    "tags": []
   },
   "outputs": [],
   "source": [
    "condition = True"
   ]
  },
  {
   "cell_type": "code",
   "execution_count": 2,
   "id": "29a30db1-7678-45bb-b735-b00e9a1d3c15",
   "metadata": {
    "tags": []
   },
   "outputs": [
    {
     "name": "stdout",
     "output_type": "stream",
     "text": [
      "The condition was True\n"
     ]
    }
   ],
   "source": [
    "if condition:\n",
    "    print('The condition was True')\n",
    "\n"
   ]
  },
  {
   "cell_type": "code",
   "execution_count": 3,
   "id": "2797877f-e93d-408b-a5fa-022df84ef87c",
   "metadata": {
    "tags": []
   },
   "outputs": [],
   "source": [
    "condition = False"
   ]
  },
  {
   "cell_type": "code",
   "execution_count": 4,
   "id": "eeaef0e4-c080-441c-a9ae-1783275c220b",
   "metadata": {
    "tags": []
   },
   "outputs": [],
   "source": [
    "if condition:\n",
    "    print('The condition was True')\n",
    "\n"
   ]
  },
  {
   "cell_type": "code",
   "execution_count": 5,
   "id": "5989bbaf-8be3-4ac4-9348-3bd5e172e0ca",
   "metadata": {
    "tags": []
   },
   "outputs": [],
   "source": [
    "condition = True"
   ]
  },
  {
   "cell_type": "code",
   "execution_count": 6,
   "id": "353e078f-4584-4dc3-bc0f-5305080765ab",
   "metadata": {
    "tags": []
   },
   "outputs": [
    {
     "name": "stdout",
     "output_type": "stream",
     "text": [
      "The condition was True\n",
      "Outside the Code Block\n"
     ]
    }
   ],
   "source": [
    "if condition:\n",
    "    print('The condition was True')\n",
    "\n",
    "\n",
    "print('Outside the Code Block')"
   ]
  },
  {
   "cell_type": "code",
   "execution_count": 7,
   "id": "e31d86cd-0d9f-4063-b520-baecf6e286d9",
   "metadata": {
    "tags": []
   },
   "outputs": [],
   "source": [
    "condition = False"
   ]
  },
  {
   "cell_type": "code",
   "execution_count": 8,
   "id": "b95e3d3a-14be-4fea-9a7a-ca576fdc12e7",
   "metadata": {
    "tags": []
   },
   "outputs": [
    {
     "name": "stdout",
     "output_type": "stream",
     "text": [
      "Outside the Code Block\n"
     ]
    }
   ],
   "source": [
    "if condition:\n",
    "    print('The condition was True')\n",
    "\n",
    "\n",
    "print('Outside the Code Block')"
   ]
  },
  {
   "cell_type": "code",
   "execution_count": 9,
   "id": "7d42dadb-c66e-4029-ab4e-19cba34ba046",
   "metadata": {
    "tags": []
   },
   "outputs": [
    {
     "data": {
      "text/plain": [
       "True"
      ]
     },
     "execution_count": 9,
     "metadata": {},
     "output_type": "execute_result"
    }
   ],
   "source": [
    "condition = 5 > 3\n",
    "condition"
   ]
  },
  {
   "cell_type": "code",
   "execution_count": 10,
   "id": "384921d1-4bd4-4b1c-8351-bb02bf12720e",
   "metadata": {
    "tags": []
   },
   "outputs": [
    {
     "name": "stdout",
     "output_type": "stream",
     "text": [
      "The condition was True\n"
     ]
    }
   ],
   "source": [
    "if condition:\n",
    "    print('The condition was True')\n",
    "    \n",
    "    "
   ]
  },
  {
   "cell_type": "code",
   "execution_count": 11,
   "id": "5f5e156e-7d66-4fab-ad22-c992bc940960",
   "metadata": {
    "tags": []
   },
   "outputs": [
    {
     "name": "stdout",
     "output_type": "stream",
     "text": [
      "The condition was True\n"
     ]
    }
   ],
   "source": [
    "if 5 > 3:\n",
    "    print('The condition was True')\n",
    "    \n",
    "    "
   ]
  },
  {
   "cell_type": "code",
   "execution_count": 12,
   "id": "d494f941-1e5a-4885-b486-98441af84825",
   "metadata": {
    "tags": []
   },
   "outputs": [
    {
     "name": "stdout",
     "output_type": "stream",
     "text": [
      "The condition was True\n"
     ]
    }
   ],
   "source": [
    "if (5 > 3) & ('a' < 'b'):\n",
    "    print('The condition was True')\n",
    "    \n",
    "    "
   ]
  },
  {
   "cell_type": "code",
   "execution_count": 13,
   "id": "65a9e6aa-5d06-4108-8ea6-7e6afa9f5081",
   "metadata": {
    "tags": []
   },
   "outputs": [],
   "source": [
    "#if 5 > 3 & 'a' < 'b':\n",
    "#    print('The condition was True')\n",
    "    \n",
    "    "
   ]
  },
  {
   "cell_type": "code",
   "execution_count": 14,
   "id": "4744b640-7efe-4dfb-9624-23f25bf92ed5",
   "metadata": {
    "tags": []
   },
   "outputs": [],
   "source": [
    "if (((5 > 3) & ('a' > 'b')) | (4 == 3)):\n",
    "    print('The condition was True')\n",
    "    \n",
    "    "
   ]
  },
  {
   "cell_type": "code",
   "execution_count": 15,
   "id": "0b61f3b3-d01e-42f7-99c3-6be877266bc8",
   "metadata": {
    "tags": []
   },
   "outputs": [],
   "source": [
    "condition = False"
   ]
  },
  {
   "cell_type": "code",
   "execution_count": 16,
   "id": "9b31182a-cec7-4fd5-add5-689c1da7c9e5",
   "metadata": {
    "tags": []
   },
   "outputs": [
    {
     "name": "stdout",
     "output_type": "stream",
     "text": [
      "The condition was False\n"
     ]
    }
   ],
   "source": [
    "if condition:\n",
    "    print('The condition was True')\n",
    "if not condition:\n",
    "    print('The condition was False')\n",
    "    \n",
    "    "
   ]
  },
  {
   "cell_type": "code",
   "execution_count": 17,
   "id": "dae23aad-cd26-46c1-8e8f-825e6e436e18",
   "metadata": {
    "tags": []
   },
   "outputs": [],
   "source": [
    "condition = False"
   ]
  },
  {
   "cell_type": "code",
   "execution_count": 18,
   "id": "630cc7d5-fb37-4f36-9690-71d882ce5d3e",
   "metadata": {
    "tags": []
   },
   "outputs": [
    {
     "name": "stdout",
     "output_type": "stream",
     "text": [
      "The condition was False\n"
     ]
    }
   ],
   "source": [
    "if condition:\n",
    "    print('The condition was True')\n",
    "else:\n",
    "    print('The condition was False')\n",
    "    \n",
    "    "
   ]
  },
  {
   "cell_type": "code",
   "execution_count": 19,
   "id": "973344e5-8f51-42cf-ac40-73f455e34edf",
   "metadata": {
    "tags": []
   },
   "outputs": [
    {
     "name": "stdout",
     "output_type": "stream",
     "text": [
      "10 is greater\n",
      "9 is greater\n"
     ]
    }
   ],
   "source": [
    "if 10 > 3:\n",
    "    print('10 is greater')\n",
    "if 9 > 3:\n",
    "    print('9 is greater')\n",
    "else:\n",
    "    print('These are not greater')\n",
    "    \n",
    "    "
   ]
  },
  {
   "cell_type": "code",
   "execution_count": 20,
   "id": "ff2b90c5-fbb8-445b-bd72-9604ed3ed432",
   "metadata": {
    "tags": []
   },
   "outputs": [
    {
     "name": "stdout",
     "output_type": "stream",
     "text": [
      "10 is greater\n",
      "These are not greater\n"
     ]
    }
   ],
   "source": [
    "if 10 > 9:\n",
    "    print('10 is greater')\n",
    "if 9 > 9:\n",
    "    print('9 is greater')\n",
    "else:\n",
    "    print('These are not greater')\n",
    "    \n",
    "    "
   ]
  },
  {
   "cell_type": "code",
   "execution_count": 21,
   "id": "944a99bb-945b-4370-b500-ed27832f8452",
   "metadata": {
    "tags": []
   },
   "outputs": [
    {
     "name": "stdout",
     "output_type": "stream",
     "text": [
      "10 is greater\n"
     ]
    }
   ],
   "source": [
    "if 10 > 3:\n",
    "    print('10 is greater')\n",
    "elif 9 > 3:\n",
    "    print('9 is greater')\n",
    "else:\n",
    "    print('These are not greater')\n",
    "    \n",
    "    "
   ]
  },
  {
   "cell_type": "code",
   "execution_count": 22,
   "id": "62c43ba6-4098-46cc-a708-bd85051b052f",
   "metadata": {
    "tags": []
   },
   "outputs": [
    {
     "name": "stdout",
     "output_type": "stream",
     "text": [
      "These are not greater\n"
     ]
    }
   ],
   "source": [
    "if 10 > 30:\n",
    "    print('10 is greater')\n",
    "elif 9 > 30:\n",
    "    print('9 is greater')\n",
    "else:\n",
    "    print('These are not greater')\n",
    "    \n",
    "    "
   ]
  },
  {
   "cell_type": "code",
   "execution_count": 23,
   "id": "be2f48c7-33ef-478a-9f1d-fe26a9b3a7ee",
   "metadata": {
    "tags": []
   },
   "outputs": [],
   "source": [
    "num = 2"
   ]
  },
  {
   "cell_type": "code",
   "execution_count": 24,
   "id": "bd467dd7-01ae-42ca-ab5e-9439bc256955",
   "metadata": {
    "tags": []
   },
   "outputs": [
    {
     "name": "stdout",
     "output_type": "stream",
     "text": [
      "two\n"
     ]
    }
   ],
   "source": [
    "if num == 0:\n",
    "    print('zero')\n",
    "elif num == 1:\n",
    "    print('one')\n",
    "elif num == 2:\n",
    "    print('two')\n",
    "else:\n",
    "    print('num not zero, one or two')\n",
    "    \n",
    "    "
   ]
  },
  {
   "cell_type": "code",
   "execution_count": 25,
   "id": "f07d0b0f-f117-40f7-9ed3-7886e03e717a",
   "metadata": {
    "tags": []
   },
   "outputs": [],
   "source": [
    "num = 2"
   ]
  },
  {
   "cell_type": "code",
   "execution_count": 26,
   "id": "cf525065-5570-4e72-a781-19d832aa4737",
   "metadata": {
    "tags": []
   },
   "outputs": [
    {
     "name": "stdout",
     "output_type": "stream",
     "text": [
      "two\n"
     ]
    }
   ],
   "source": [
    "match num:\n",
    "    case 0:\n",
    "        print('zero')\n",
    "    case 1:\n",
    "        print('one')\n",
    "    case 2:\n",
    "        print('two')\n",
    "    case _:\n",
    "        print('num not zero, one or two')\n",
    "    \n",
    "    "
   ]
  },
  {
   "cell_type": "code",
   "execution_count": 27,
   "id": "7c54cafe-d132-42a8-9053-87b7355f6152",
   "metadata": {
    "tags": []
   },
   "outputs": [],
   "source": [
    "letter = 'c'"
   ]
  },
  {
   "cell_type": "code",
   "execution_count": 28,
   "id": "09815aad-73b0-41a3-9610-dc54e365c80d",
   "metadata": {
    "tags": []
   },
   "outputs": [
    {
     "name": "stdout",
     "output_type": "stream",
     "text": [
      "99\n"
     ]
    }
   ],
   "source": [
    "match letter:\n",
    "    case 'a':\n",
    "        print(ord('a'))\n",
    "    case 'b':\n",
    "        print(ord('b'))\n",
    "    case 'c':\n",
    "        print(ord('c'))\n",
    "    case _:\n",
    "        print(\"letter not 'a', 'b' or 'c'\")\n",
    "    \n",
    "    "
   ]
  },
  {
   "cell_type": "code",
   "execution_count": 29,
   "id": "d69473d3-73b1-4766-9147-6b0aa9195240",
   "metadata": {
    "tags": []
   },
   "outputs": [],
   "source": [
    "letter = 'a'\n",
    "num = 1"
   ]
  },
  {
   "cell_type": "code",
   "execution_count": 30,
   "id": "90690252-5fe8-43a1-a776-56dc5189003e",
   "metadata": {
    "tags": []
   },
   "outputs": [
    {
     "name": "stdout",
     "output_type": "stream",
     "text": [
      "letter == 'a', num == 1\n"
     ]
    }
   ],
   "source": [
    "if letter == 'a':\n",
    "    if num == 0:\n",
    "        print(\"letter == 'a', num == 0\")\n",
    "    elif num == 1:\n",
    "        print(\"letter == 'a', num == 1\")\n",
    "    else:\n",
    "        print(\"letter == 'a', num != 0\")\n",
    "else:\n",
    "    print(\"letter != 'a'\")\n",
    "\n",
    "    "
   ]
  },
  {
   "cell_type": "code",
   "execution_count": 31,
   "id": "2f6d8616-b6ea-484e-831f-7885e0d5e926",
   "metadata": {
    "tags": []
   },
   "outputs": [],
   "source": [
    "letter = 'a'\n",
    "num = 1"
   ]
  },
  {
   "cell_type": "code",
   "execution_count": 32,
   "id": "84ce33c4-bd1a-4b7c-a0ea-010b07cad486",
   "metadata": {
    "tags": []
   },
   "outputs": [
    {
     "name": "stdout",
     "output_type": "stream",
     "text": [
      "letter == 'a', num == 0\n"
     ]
    }
   ],
   "source": [
    "if (letter == 'a') & (num == 0):\n",
    "    print(\"letter == 'a', num == 0\")\n",
    "elif (letter == 'a') & (num == 1):\n",
    "    print(\"letter == 'a', num == 0\")\n",
    "else:\n",
    "    print(\"letter != 'a'\")\n",
    "    \n",
    "    "
   ]
  },
  {
   "cell_type": "code",
   "execution_count": 33,
   "id": "fab37239-bca1-4723-8dd7-89f2b16004c0",
   "metadata": {},
   "outputs": [
    {
     "data": {
      "text/plain": [
       "<_io.TextIOWrapper name='text.txt' mode='rt' encoding='cp1252'>"
      ]
     },
     "execution_count": 33,
     "metadata": {},
     "output_type": "execute_result"
    }
   ],
   "source": [
    "file_object = open('text.txt', mode='rt')\n",
    "file_object"
   ]
  },
  {
   "cell_type": "code",
   "execution_count": 34,
   "id": "bb4d9827-4e2e-4b96-ab68-ed79e888026e",
   "metadata": {
    "tags": []
   },
   "outputs": [
    {
     "data": {
      "text/plain": [
       "'Baa, baa, black sheep,\\n'"
      ]
     },
     "execution_count": 34,
     "metadata": {},
     "output_type": "execute_result"
    }
   ],
   "source": [
    "file_object.readline()"
   ]
  },
  {
   "cell_type": "code",
   "execution_count": 35,
   "id": "d4ea8bb1-b3a9-47b4-9b1c-119e9fa34eca",
   "metadata": {
    "tags": []
   },
   "outputs": [
    {
     "data": {
      "text/plain": [
       "['Have you any wool?\\n',\n",
       " 'Yes, sir, yes, sir,\\n',\n",
       " 'Three bags full;\\n',\n",
       " 'One for my master,\\n',\n",
       " 'One for my dame,\\n',\n",
       " 'And one for the little boy\\n',\n",
       " 'Who lives down the lane.']"
      ]
     },
     "execution_count": 35,
     "metadata": {},
     "output_type": "execute_result"
    }
   ],
   "source": [
    "file_object.readlines()"
   ]
  },
  {
   "cell_type": "code",
   "execution_count": 36,
   "id": "ef2c2e89-0f55-408f-8bdb-9b065ad0a365",
   "metadata": {
    "tags": []
   },
   "outputs": [],
   "source": [
    "file_object.close()"
   ]
  },
  {
   "cell_type": "code",
   "execution_count": 37,
   "id": "dcb5a920-46c6-41c0-b757-ad78be3557eb",
   "metadata": {
    "scrolled": true,
    "tags": []
   },
   "outputs": [
    {
     "data": {
      "text/plain": [
       "['_CHUNK_SIZE',\n",
       " '__class__',\n",
       " '__del__',\n",
       " '__delattr__',\n",
       " '__dict__',\n",
       " '__dir__',\n",
       " '__doc__',\n",
       " '__enter__',\n",
       " '__eq__',\n",
       " '__exit__',\n",
       " '__format__',\n",
       " '__ge__',\n",
       " '__getattribute__',\n",
       " '__getstate__',\n",
       " '__gt__',\n",
       " '__hash__',\n",
       " '__init__',\n",
       " '__init_subclass__',\n",
       " '__iter__',\n",
       " '__le__',\n",
       " '__lt__',\n",
       " '__ne__',\n",
       " '__new__',\n",
       " '__next__',\n",
       " '__reduce__',\n",
       " '__reduce_ex__',\n",
       " '__repr__',\n",
       " '__setattr__',\n",
       " '__sizeof__',\n",
       " '__str__',\n",
       " '__subclasshook__',\n",
       " '_checkClosed',\n",
       " '_checkReadable',\n",
       " '_checkSeekable',\n",
       " '_checkWritable',\n",
       " '_finalizing',\n",
       " 'buffer',\n",
       " 'close',\n",
       " 'closed',\n",
       " 'detach',\n",
       " 'encoding',\n",
       " 'errors',\n",
       " 'fileno',\n",
       " 'flush',\n",
       " 'isatty',\n",
       " 'line_buffering',\n",
       " 'mode',\n",
       " 'name',\n",
       " 'newlines',\n",
       " 'read',\n",
       " 'readable',\n",
       " 'readline',\n",
       " 'readlines',\n",
       " 'reconfigure',\n",
       " 'seek',\n",
       " 'seekable',\n",
       " 'tell',\n",
       " 'truncate',\n",
       " 'writable',\n",
       " 'write',\n",
       " 'write_through',\n",
       " 'writelines']"
      ]
     },
     "execution_count": 37,
     "metadata": {},
     "output_type": "execute_result"
    }
   ],
   "source": [
    "dir(file_object)"
   ]
  },
  {
   "cell_type": "code",
   "execution_count": 38,
   "id": "dfd1b71c-04cb-456d-b803-a2abbd1c5214",
   "metadata": {
    "tags": []
   },
   "outputs": [],
   "source": [
    "with open('text.txt', mode='rt') as file_object:\n",
    "    first_line = file_object.readline()\n",
    "    remaining_lines = file_object.readlines()\n",
    "\n"
   ]
  },
  {
   "cell_type": "code",
   "execution_count": 39,
   "id": "d963c7b6-f903-47dd-99f8-41d9476fb298",
   "metadata": {
    "tags": []
   },
   "outputs": [
    {
     "data": {
      "text/plain": [
       "'Baa, baa, black sheep,\\n'"
      ]
     },
     "execution_count": 39,
     "metadata": {},
     "output_type": "execute_result"
    }
   ],
   "source": [
    "first_line"
   ]
  },
  {
   "cell_type": "code",
   "execution_count": 40,
   "id": "0f9e9749-4c5b-497a-bd5e-aa6582da4784",
   "metadata": {
    "tags": []
   },
   "outputs": [
    {
     "data": {
      "text/plain": [
       "['Have you any wool?\\n',\n",
       " 'Yes, sir, yes, sir,\\n',\n",
       " 'Three bags full;\\n',\n",
       " 'One for my master,\\n',\n",
       " 'One for my dame,\\n',\n",
       " 'And one for the little boy\\n',\n",
       " 'Who lives down the lane.']"
      ]
     },
     "execution_count": 40,
     "metadata": {},
     "output_type": "execute_result"
    }
   ],
   "source": [
    "remaining_lines  "
   ]
  },
  {
   "cell_type": "code",
   "execution_count": 41,
   "id": "f1854bc6-6763-40e4-8787-656888491a3d",
   "metadata": {
    "tags": []
   },
   "outputs": [],
   "source": [
    "word = 'hello'"
   ]
  },
  {
   "cell_type": "code",
   "execution_count": 42,
   "id": "329aa87f-a4d0-4391-811b-83344e89af5c",
   "metadata": {
    "tags": []
   },
   "outputs": [
    {
     "data": {
      "text/plain": [
       "True"
      ]
     },
     "execution_count": 42,
     "metadata": {},
     "output_type": "execute_result"
    }
   ],
   "source": [
    "'h' in 'hello'"
   ]
  },
  {
   "cell_type": "code",
   "execution_count": 43,
   "id": "d3a5e9f4-4623-4624-8e0c-3c5cf948cb00",
   "metadata": {
    "scrolled": true,
    "tags": []
   },
   "outputs": [
    {
     "data": {
      "text/plain": [
       "['__add__',\n",
       " '__class__',\n",
       " '__contains__',\n",
       " '__delattr__',\n",
       " '__dir__',\n",
       " '__doc__',\n",
       " '__eq__',\n",
       " '__format__',\n",
       " '__ge__',\n",
       " '__getattribute__',\n",
       " '__getitem__',\n",
       " '__getnewargs__',\n",
       " '__getstate__',\n",
       " '__gt__',\n",
       " '__hash__',\n",
       " '__init__',\n",
       " '__init_subclass__',\n",
       " '__iter__',\n",
       " '__le__',\n",
       " '__len__',\n",
       " '__lt__',\n",
       " '__mod__',\n",
       " '__mul__',\n",
       " '__ne__',\n",
       " '__new__',\n",
       " '__reduce__',\n",
       " '__reduce_ex__',\n",
       " '__repr__',\n",
       " '__rmod__',\n",
       " '__rmul__',\n",
       " '__setattr__',\n",
       " '__sizeof__',\n",
       " '__str__',\n",
       " '__subclasshook__',\n",
       " 'capitalize',\n",
       " 'casefold',\n",
       " 'center',\n",
       " 'count',\n",
       " 'encode',\n",
       " 'endswith',\n",
       " 'expandtabs',\n",
       " 'find',\n",
       " 'format',\n",
       " 'format_map',\n",
       " 'index',\n",
       " 'isalnum',\n",
       " 'isalpha',\n",
       " 'isascii',\n",
       " 'isdecimal',\n",
       " 'isdigit',\n",
       " 'isidentifier',\n",
       " 'islower',\n",
       " 'isnumeric',\n",
       " 'isprintable',\n",
       " 'isspace',\n",
       " 'istitle',\n",
       " 'isupper',\n",
       " 'join',\n",
       " 'ljust',\n",
       " 'lower',\n",
       " 'lstrip',\n",
       " 'maketrans',\n",
       " 'partition',\n",
       " 'removeprefix',\n",
       " 'removesuffix',\n",
       " 'replace',\n",
       " 'rfind',\n",
       " 'rindex',\n",
       " 'rjust',\n",
       " 'rpartition',\n",
       " 'rsplit',\n",
       " 'rstrip',\n",
       " 'split',\n",
       " 'splitlines',\n",
       " 'startswith',\n",
       " 'strip',\n",
       " 'swapcase',\n",
       " 'title',\n",
       " 'translate',\n",
       " 'upper',\n",
       " 'zfill']"
      ]
     },
     "execution_count": 43,
     "metadata": {},
     "output_type": "execute_result"
    }
   ],
   "source": [
    "dir(word)"
   ]
  },
  {
   "cell_type": "code",
   "execution_count": 44,
   "id": "695f8248-e9b2-4fa4-baad-b008247aa798",
   "metadata": {
    "tags": []
   },
   "outputs": [],
   "source": [
    "letter = iter(word)"
   ]
  },
  {
   "cell_type": "code",
   "execution_count": 45,
   "id": "34eeaec3-8ed9-447d-bd37-abd00bc67ae4",
   "metadata": {
    "tags": []
   },
   "outputs": [
    {
     "data": {
      "text/plain": [
       "<str_ascii_iterator at 0x1e496e19390>"
      ]
     },
     "execution_count": 45,
     "metadata": {},
     "output_type": "execute_result"
    }
   ],
   "source": [
    "letter"
   ]
  },
  {
   "cell_type": "code",
   "execution_count": 46,
   "id": "fd94f9a5-0d2b-4264-9e13-f1734b057dcc",
   "metadata": {
    "tags": []
   },
   "outputs": [
    {
     "data": {
      "text/plain": [
       "'h'"
      ]
     },
     "execution_count": 46,
     "metadata": {},
     "output_type": "execute_result"
    }
   ],
   "source": [
    "next(letter)"
   ]
  },
  {
   "cell_type": "code",
   "execution_count": 47,
   "id": "bc144b22-e993-4a65-9c38-6b817a5ed192",
   "metadata": {
    "tags": []
   },
   "outputs": [
    {
     "data": {
      "text/plain": [
       "'e'"
      ]
     },
     "execution_count": 47,
     "metadata": {},
     "output_type": "execute_result"
    }
   ],
   "source": [
    "next(letter)"
   ]
  },
  {
   "cell_type": "code",
   "execution_count": 48,
   "id": "a81fe8cd-e1f4-4043-aa9d-60eabf151317",
   "metadata": {
    "tags": []
   },
   "outputs": [
    {
     "data": {
      "text/plain": [
       "'l'"
      ]
     },
     "execution_count": 48,
     "metadata": {},
     "output_type": "execute_result"
    }
   ],
   "source": [
    "next(letter)"
   ]
  },
  {
   "cell_type": "code",
   "execution_count": 49,
   "id": "7e623707-796f-4632-a67d-ee0058017229",
   "metadata": {
    "tags": []
   },
   "outputs": [
    {
     "data": {
      "text/plain": [
       "'l'"
      ]
     },
     "execution_count": 49,
     "metadata": {},
     "output_type": "execute_result"
    }
   ],
   "source": [
    "next(letter)"
   ]
  },
  {
   "cell_type": "code",
   "execution_count": 50,
   "id": "80d3c67a-d817-4869-91c6-4d5483851b8e",
   "metadata": {
    "tags": []
   },
   "outputs": [
    {
     "data": {
      "text/plain": [
       "'o'"
      ]
     },
     "execution_count": 50,
     "metadata": {},
     "output_type": "execute_result"
    }
   ],
   "source": [
    "next(letter)"
   ]
  },
  {
   "cell_type": "code",
   "execution_count": 51,
   "id": "3b741fa7-caee-4e56-a336-002c5ffece9b",
   "metadata": {
    "tags": []
   },
   "outputs": [],
   "source": [
    "#next(letter)"
   ]
  },
  {
   "cell_type": "code",
   "execution_count": 52,
   "id": "020f3213-0a05-484e-948e-cb6d59d84909",
   "metadata": {
    "tags": []
   },
   "outputs": [
    {
     "data": {
      "text/plain": [
       "5"
      ]
     },
     "execution_count": 52,
     "metadata": {},
     "output_type": "execute_result"
    }
   ],
   "source": [
    "len(word)"
   ]
  },
  {
   "cell_type": "code",
   "execution_count": 53,
   "id": "0cc6d34a-36f6-4295-8bfa-f5d4101baa1c",
   "metadata": {
    "tags": []
   },
   "outputs": [],
   "source": [
    "word_t = tuple(word)"
   ]
  },
  {
   "cell_type": "code",
   "execution_count": 54,
   "id": "2313ae8e-bcfe-43e1-9fa7-e721ec532a94",
   "metadata": {
    "scrolled": true,
    "tags": []
   },
   "outputs": [
    {
     "data": {
      "text/plain": [
       "['__add__',\n",
       " '__class__',\n",
       " '__class_getitem__',\n",
       " '__contains__',\n",
       " '__delattr__',\n",
       " '__dir__',\n",
       " '__doc__',\n",
       " '__eq__',\n",
       " '__format__',\n",
       " '__ge__',\n",
       " '__getattribute__',\n",
       " '__getitem__',\n",
       " '__getnewargs__',\n",
       " '__getstate__',\n",
       " '__gt__',\n",
       " '__hash__',\n",
       " '__init__',\n",
       " '__init_subclass__',\n",
       " '__iter__',\n",
       " '__le__',\n",
       " '__len__',\n",
       " '__lt__',\n",
       " '__mul__',\n",
       " '__ne__',\n",
       " '__new__',\n",
       " '__reduce__',\n",
       " '__reduce_ex__',\n",
       " '__repr__',\n",
       " '__rmul__',\n",
       " '__setattr__',\n",
       " '__sizeof__',\n",
       " '__str__',\n",
       " '__subclasshook__',\n",
       " 'count',\n",
       " 'index']"
      ]
     },
     "execution_count": 54,
     "metadata": {},
     "output_type": "execute_result"
    }
   ],
   "source": [
    "dir(word_t)"
   ]
  },
  {
   "cell_type": "code",
   "execution_count": 55,
   "id": "c75e4dc4-19f6-4606-98b7-b2eb25dbcc7b",
   "metadata": {
    "tags": []
   },
   "outputs": [
    {
     "data": {
      "text/plain": [
       "<tuple_iterator at 0x1e496e1cb50>"
      ]
     },
     "execution_count": 55,
     "metadata": {},
     "output_type": "execute_result"
    }
   ],
   "source": [
    "letter_t = iter(word_t)\n",
    "letter_t"
   ]
  },
  {
   "cell_type": "code",
   "execution_count": 56,
   "id": "3c26e6c3-0450-4b8a-a956-f2109800e5ec",
   "metadata": {
    "tags": []
   },
   "outputs": [
    {
     "data": {
      "text/plain": [
       "'h'"
      ]
     },
     "execution_count": 56,
     "metadata": {},
     "output_type": "execute_result"
    }
   ],
   "source": [
    "next(letter_t)"
   ]
  },
  {
   "cell_type": "code",
   "execution_count": 57,
   "id": "46ce0dc8-7589-4b16-a283-4131e4e4c66a",
   "metadata": {
    "tags": []
   },
   "outputs": [
    {
     "data": {
      "text/plain": [
       "'e'"
      ]
     },
     "execution_count": 57,
     "metadata": {},
     "output_type": "execute_result"
    }
   ],
   "source": [
    "next(letter_t)"
   ]
  },
  {
   "cell_type": "code",
   "execution_count": 58,
   "id": "fb107945-f025-4803-8621-885d6b5d1020",
   "metadata": {
    "tags": []
   },
   "outputs": [
    {
     "data": {
      "text/plain": [
       "'l'"
      ]
     },
     "execution_count": 58,
     "metadata": {},
     "output_type": "execute_result"
    }
   ],
   "source": [
    "next(letter_t)"
   ]
  },
  {
   "cell_type": "code",
   "execution_count": 59,
   "id": "4c9d4c74-979f-4062-a997-2fe0e8d77552",
   "metadata": {
    "tags": []
   },
   "outputs": [
    {
     "data": {
      "text/plain": [
       "'l'"
      ]
     },
     "execution_count": 59,
     "metadata": {},
     "output_type": "execute_result"
    }
   ],
   "source": [
    "next(letter_t)"
   ]
  },
  {
   "cell_type": "code",
   "execution_count": 60,
   "id": "7f987d4b-9f84-491b-bcbb-eca66e3a96a1",
   "metadata": {
    "tags": []
   },
   "outputs": [
    {
     "data": {
      "text/plain": [
       "'o'"
      ]
     },
     "execution_count": 60,
     "metadata": {},
     "output_type": "execute_result"
    }
   ],
   "source": [
    "next(letter_t)"
   ]
  },
  {
   "cell_type": "code",
   "execution_count": 61,
   "id": "dd9e86d9-b2d6-4ec3-8e23-ac967185da17",
   "metadata": {
    "tags": []
   },
   "outputs": [],
   "source": [
    "word_s = set(word)"
   ]
  },
  {
   "cell_type": "code",
   "execution_count": 62,
   "id": "4180ce75-a8e0-4715-a985-ab283ef3cb02",
   "metadata": {
    "scrolled": true,
    "tags": []
   },
   "outputs": [
    {
     "data": {
      "text/plain": [
       "['__and__',\n",
       " '__class__',\n",
       " '__class_getitem__',\n",
       " '__contains__',\n",
       " '__delattr__',\n",
       " '__dir__',\n",
       " '__doc__',\n",
       " '__eq__',\n",
       " '__format__',\n",
       " '__ge__',\n",
       " '__getattribute__',\n",
       " '__getstate__',\n",
       " '__gt__',\n",
       " '__hash__',\n",
       " '__iand__',\n",
       " '__init__',\n",
       " '__init_subclass__',\n",
       " '__ior__',\n",
       " '__isub__',\n",
       " '__iter__',\n",
       " '__ixor__',\n",
       " '__le__',\n",
       " '__len__',\n",
       " '__lt__',\n",
       " '__ne__',\n",
       " '__new__',\n",
       " '__or__',\n",
       " '__rand__',\n",
       " '__reduce__',\n",
       " '__reduce_ex__',\n",
       " '__repr__',\n",
       " '__ror__',\n",
       " '__rsub__',\n",
       " '__rxor__',\n",
       " '__setattr__',\n",
       " '__sizeof__',\n",
       " '__str__',\n",
       " '__sub__',\n",
       " '__subclasshook__',\n",
       " '__xor__',\n",
       " 'add',\n",
       " 'clear',\n",
       " 'copy',\n",
       " 'difference',\n",
       " 'difference_update',\n",
       " 'discard',\n",
       " 'intersection',\n",
       " 'intersection_update',\n",
       " 'isdisjoint',\n",
       " 'issubset',\n",
       " 'issuperset',\n",
       " 'pop',\n",
       " 'remove',\n",
       " 'symmetric_difference',\n",
       " 'symmetric_difference_update',\n",
       " 'union',\n",
       " 'update']"
      ]
     },
     "execution_count": 62,
     "metadata": {},
     "output_type": "execute_result"
    }
   ],
   "source": [
    "dir(word_s)"
   ]
  },
  {
   "cell_type": "code",
   "execution_count": 63,
   "id": "a4f370ff-ab16-4639-9117-abab4112d44d",
   "metadata": {
    "tags": []
   },
   "outputs": [
    {
     "data": {
      "text/plain": [
       "<set_iterator at 0x1e496e03d40>"
      ]
     },
     "execution_count": 63,
     "metadata": {},
     "output_type": "execute_result"
    }
   ],
   "source": [
    "letter_s = iter(word_s)\n",
    "letter_s"
   ]
  },
  {
   "cell_type": "code",
   "execution_count": 64,
   "id": "169f9dba-3ddd-4aea-b503-313dbddf9e96",
   "metadata": {
    "tags": []
   },
   "outputs": [
    {
     "data": {
      "text/plain": [
       "'h'"
      ]
     },
     "execution_count": 64,
     "metadata": {},
     "output_type": "execute_result"
    }
   ],
   "source": [
    "next(letter_s)"
   ]
  },
  {
   "cell_type": "code",
   "execution_count": 65,
   "id": "8786ee08-1f0a-4119-81ef-23cda0be6e4f",
   "metadata": {
    "tags": []
   },
   "outputs": [
    {
     "data": {
      "text/plain": [
       "'l'"
      ]
     },
     "execution_count": 65,
     "metadata": {},
     "output_type": "execute_result"
    }
   ],
   "source": [
    "next(letter_s)"
   ]
  },
  {
   "cell_type": "code",
   "execution_count": 66,
   "id": "409581e3-a7ec-48b4-bc25-90b27811b66f",
   "metadata": {
    "tags": []
   },
   "outputs": [
    {
     "data": {
      "text/plain": [
       "'e'"
      ]
     },
     "execution_count": 66,
     "metadata": {},
     "output_type": "execute_result"
    }
   ],
   "source": [
    "next(letter_s)"
   ]
  },
  {
   "cell_type": "code",
   "execution_count": 67,
   "id": "0edf8670-b31b-4a2d-8322-dc468e247ac7",
   "metadata": {
    "tags": []
   },
   "outputs": [
    {
     "data": {
      "text/plain": [
       "'o'"
      ]
     },
     "execution_count": 67,
     "metadata": {},
     "output_type": "execute_result"
    }
   ],
   "source": [
    "next(letter_s)"
   ]
  },
  {
   "cell_type": "code",
   "execution_count": 68,
   "id": "49479970-ed3c-48f3-b252-b689405d52e0",
   "metadata": {
    "tags": []
   },
   "outputs": [],
   "source": [
    "word = 'hello'"
   ]
  },
  {
   "cell_type": "code",
   "execution_count": 69,
   "id": "f70e3ad3-aa24-434c-b5f3-a37762bf14f1",
   "metadata": {
    "tags": []
   },
   "outputs": [
    {
     "name": "stdout",
     "output_type": "stream",
     "text": [
      "h\n",
      "e\n",
      "l\n",
      "l\n",
      "o\n"
     ]
    }
   ],
   "source": [
    "for letter in word:\n",
    "    print(letter)\n",
    "    \n",
    "    "
   ]
  },
  {
   "cell_type": "code",
   "execution_count": 70,
   "id": "58652170-d8a9-4037-b366-f2071ae96d7c",
   "metadata": {
    "tags": []
   },
   "outputs": [
    {
     "name": "stdout",
     "output_type": "stream",
     "text": [
      "hello\n",
      "hello\n",
      "hello\n",
      "hello\n",
      "hello\n"
     ]
    }
   ],
   "source": [
    "for _ in word:\n",
    "    print(word)\n",
    "    \n",
    "    "
   ]
  },
  {
   "cell_type": "code",
   "execution_count": 71,
   "id": "a447ab8e-80a3-4242-8992-944c33fe4570",
   "metadata": {
    "tags": []
   },
   "outputs": [],
   "source": [
    "archive = (0, True, 3.14, 'hello')"
   ]
  },
  {
   "cell_type": "code",
   "execution_count": 72,
   "id": "f1171940-2368-4905-b413-04aa2ad92b4e",
   "metadata": {
    "tags": []
   },
   "outputs": [
    {
     "name": "stdout",
     "output_type": "stream",
     "text": [
      "0\n",
      "True\n",
      "3.14\n",
      "hello\n"
     ]
    }
   ],
   "source": [
    "for record in archive:\n",
    "    print(record)\n",
    "    \n",
    "    "
   ]
  },
  {
   "cell_type": "code",
   "execution_count": 73,
   "id": "2d9b0e4a-8ffa-466b-b168-6178d697e297",
   "metadata": {
    "tags": []
   },
   "outputs": [],
   "source": [
    "records = (0, True, 3.14, 'hello')"
   ]
  },
  {
   "cell_type": "code",
   "execution_count": 74,
   "id": "318803eb-820e-449f-b4ab-379d6157cfbf",
   "metadata": {
    "tags": []
   },
   "outputs": [
    {
     "name": "stdout",
     "output_type": "stream",
     "text": [
      "0\n",
      "True\n",
      "3.14\n",
      "hello\n"
     ]
    }
   ],
   "source": [
    "for record in records:\n",
    "    print(record)\n",
    "    \n",
    "    "
   ]
  },
  {
   "cell_type": "code",
   "execution_count": 75,
   "id": "4785ca5e-02eb-4b2c-9278-d867596a0f13",
   "metadata": {
    "tags": []
   },
   "outputs": [],
   "source": [
    "active = [0, True, 3.14, 'hello']"
   ]
  },
  {
   "cell_type": "code",
   "execution_count": 76,
   "id": "40bf4ec5-429e-49b7-9750-ed67ac2c561f",
   "metadata": {
    "tags": []
   },
   "outputs": [],
   "source": [
    "#for record in active:\n",
    "#    active.append('bye')\n",
    "    \n",
    "    "
   ]
  },
  {
   "cell_type": "code",
   "execution_count": 77,
   "id": "0a0c9838-9661-41e1-99c8-18282307911a",
   "metadata": {
    "tags": []
   },
   "outputs": [],
   "source": [
    "active = [0, True, 3.14, 'hello']"
   ]
  },
  {
   "cell_type": "code",
   "execution_count": 78,
   "id": "d3d78451-b905-4ad2-aa1c-feab920aaaee",
   "metadata": {
    "tags": []
   },
   "outputs": [],
   "source": [
    "for record in active.copy():\n",
    "    active.append('bye')\n",
    "    \n",
    "    "
   ]
  },
  {
   "cell_type": "code",
   "execution_count": 79,
   "id": "1f329438-da42-4fd6-b35d-ba441fc5fed3",
   "metadata": {
    "tags": []
   },
   "outputs": [
    {
     "data": {
      "text/plain": [
       "[0, True, 3.14, 'hello', 'bye', 'bye', 'bye', 'bye']"
      ]
     },
     "execution_count": 79,
     "metadata": {},
     "output_type": "execute_result"
    }
   ],
   "source": [
    "active"
   ]
  },
  {
   "cell_type": "code",
   "execution_count": 80,
   "id": "70a6c2c7-1f83-49a8-ae17-ad115c5f6a7f",
   "metadata": {
    "tags": []
   },
   "outputs": [],
   "source": [
    "active = [0, True, 3.14, 'hello']"
   ]
  },
  {
   "cell_type": "code",
   "execution_count": 81,
   "id": "a2094cd2-06e5-4028-8f02-736a64721a72",
   "metadata": {
    "tags": []
   },
   "outputs": [],
   "source": [
    "for num in range(len(active)):\n",
    "    active.append('bye')\n",
    "    \n",
    "    "
   ]
  },
  {
   "cell_type": "code",
   "execution_count": 82,
   "id": "2ef0c524-6a89-4443-90c3-085bf2162af7",
   "metadata": {
    "tags": []
   },
   "outputs": [
    {
     "data": {
      "text/plain": [
       "[0, True, 3.14, 'hello', 'bye', 'bye', 'bye', 'bye']"
      ]
     },
     "execution_count": 82,
     "metadata": {},
     "output_type": "execute_result"
    }
   ],
   "source": [
    "active"
   ]
  },
  {
   "cell_type": "code",
   "execution_count": 83,
   "id": "d3cf076e-eb27-492b-9f3f-916ec2d87240",
   "metadata": {
    "tags": []
   },
   "outputs": [],
   "source": [
    "active = [0, True, 3.14, 'hello']"
   ]
  },
  {
   "cell_type": "code",
   "execution_count": 84,
   "id": "3dc481cd-b3a2-4e0c-8055-beb7f37e57ce",
   "metadata": {
    "tags": []
   },
   "outputs": [
    {
     "name": "stdout",
     "output_type": "stream",
     "text": [
      "0 [0, True, 3.14, 'hello', 'bye']\n",
      "1 [0, True, 3.14, 'hello', 'bye', 'bye']\n",
      "2 [0, True, 3.14, 'hello', 'bye', 'bye', 'bye']\n",
      "3 [0, True, 3.14, 'hello', 'bye', 'bye', 'bye', 'bye']\n"
     ]
    }
   ],
   "source": [
    "for num in range(len(active)):\n",
    "    active.append('bye')\n",
    "    print(num, active)\n",
    "    \n",
    "    "
   ]
  },
  {
   "cell_type": "code",
   "execution_count": 85,
   "id": "3eed54ca-cbbf-4019-b0e3-1c1adf1f5128",
   "metadata": {
    "tags": []
   },
   "outputs": [],
   "source": [
    "word = 'hello'"
   ]
  },
  {
   "cell_type": "code",
   "execution_count": 86,
   "id": "c2200fb8-12ad-4fd1-b448-9d376320be55",
   "metadata": {
    "tags": []
   },
   "outputs": [
    {
     "name": "stdout",
     "output_type": "stream",
     "text": [
      "h\n",
      "e\n",
      "l\n",
      "l\n",
      "o\n"
     ]
    }
   ],
   "source": [
    "for num in range(len(word)):\n",
    "    print(word[num])\n",
    "\n"
   ]
  },
  {
   "cell_type": "code",
   "execution_count": 87,
   "id": "a9d4b196-5ee1-4959-a847-ed99227666ae",
   "metadata": {
    "tags": []
   },
   "outputs": [],
   "source": [
    "word = 'hello'"
   ]
  },
  {
   "cell_type": "code",
   "execution_count": 88,
   "id": "513f43fe-0fa7-4627-8294-3ff804f93c20",
   "metadata": {
    "tags": []
   },
   "outputs": [
    {
     "name": "stdout",
     "output_type": "stream",
     "text": [
      "h\n",
      "e\n",
      "l\n",
      "l\n",
      "o\n"
     ]
    }
   ],
   "source": [
    "for letter in word:\n",
    "    print(letter)\n",
    "\n",
    "    "
   ]
  },
  {
   "cell_type": "code",
   "execution_count": 89,
   "id": "8328e76f-0e68-4805-9c25-d95a00f7d6bf",
   "metadata": {
    "tags": []
   },
   "outputs": [],
   "source": [
    "word = 'hello'"
   ]
  },
  {
   "cell_type": "code",
   "execution_count": 90,
   "id": "056c5f9a-15b7-467b-8d24-bda4d179683e",
   "metadata": {
    "tags": []
   },
   "outputs": [
    {
     "name": "stdout",
     "output_type": "stream",
     "text": [
      "\n",
      "e\n",
      "ll\n",
      "lll\n",
      "oooo\n"
     ]
    }
   ],
   "source": [
    "for num in range(len(word)):\n",
    "    print(num * word[num])\n",
    "\n"
   ]
  },
  {
   "cell_type": "code",
   "execution_count": 91,
   "id": "985aad47-02f3-4612-9aa0-8bf85fb6bd3d",
   "metadata": {
    "tags": []
   },
   "outputs": [],
   "source": [
    "word = 'hello'"
   ]
  },
  {
   "cell_type": "code",
   "execution_count": 92,
   "id": "f843a0be-b70f-4305-b169-b32b8127923c",
   "metadata": {
    "tags": []
   },
   "outputs": [
    {
     "name": "stdout",
     "output_type": "stream",
     "text": [
      "0 h\n",
      "1 e\n",
      "2 l\n",
      "3 l\n",
      "4 o\n"
     ]
    }
   ],
   "source": [
    "for num in range(len(word)):\n",
    "    print(num, word[num])\n",
    "\n"
   ]
  },
  {
   "cell_type": "code",
   "execution_count": 93,
   "id": "344b1d15-fe90-4e00-a89d-e7717c1c593b",
   "metadata": {
    "tags": []
   },
   "outputs": [
    {
     "data": {
      "text/plain": [
       "range(0, 5)"
      ]
     },
     "execution_count": 93,
     "metadata": {},
     "output_type": "execute_result"
    }
   ],
   "source": [
    "ro = range(5)\n",
    "ro"
   ]
  },
  {
   "cell_type": "code",
   "execution_count": 94,
   "id": "7316aeaf-58dc-4608-96d3-d7cbd835875d",
   "metadata": {
    "tags": []
   },
   "outputs": [],
   "source": [
    "ro_t = tuple(ro)"
   ]
  },
  {
   "cell_type": "code",
   "execution_count": 95,
   "id": "eee38563-1dff-44e9-a306-c9b7149b23bb",
   "metadata": {
    "tags": []
   },
   "outputs": [
    {
     "data": {
      "text/plain": [
       "range(1, 5)"
      ]
     },
     "execution_count": 95,
     "metadata": {},
     "output_type": "execute_result"
    }
   ],
   "source": [
    "ro = range(1, 5)\n",
    "ro"
   ]
  },
  {
   "cell_type": "code",
   "execution_count": 96,
   "id": "3f174980-826c-41a1-a427-7a35fd875ccd",
   "metadata": {
    "tags": []
   },
   "outputs": [],
   "source": [
    "ro_t = tuple(ro)"
   ]
  },
  {
   "cell_type": "code",
   "execution_count": 97,
   "id": "401aacd6-24e1-418c-a289-b6d62d4f693f",
   "metadata": {
    "tags": []
   },
   "outputs": [
    {
     "data": {
      "text/plain": [
       "range(0, 6, 2)"
      ]
     },
     "execution_count": 97,
     "metadata": {},
     "output_type": "execute_result"
    }
   ],
   "source": [
    "ro = range(0, 6, 2)\n",
    "ro"
   ]
  },
  {
   "cell_type": "code",
   "execution_count": 98,
   "id": "ca82db60-0e07-4f09-b5bc-0ec1d8238dc0",
   "metadata": {
    "tags": []
   },
   "outputs": [],
   "source": [
    "ro_t = tuple(ro)"
   ]
  },
  {
   "cell_type": "code",
   "execution_count": 99,
   "id": "74deb8dc-ee67-4476-b043-a1cb692be4e1",
   "metadata": {
    "tags": []
   },
   "outputs": [
    {
     "data": {
      "text/plain": [
       "range(-5, 1)"
      ]
     },
     "execution_count": 99,
     "metadata": {},
     "output_type": "execute_result"
    }
   ],
   "source": [
    "ro = range(-5, 1, 1)\n",
    "ro"
   ]
  },
  {
   "cell_type": "code",
   "execution_count": 100,
   "id": "9c13716c-b5b7-403a-9448-fecb01493285",
   "metadata": {
    "tags": []
   },
   "outputs": [],
   "source": [
    "ro_t = tuple(ro)"
   ]
  },
  {
   "cell_type": "code",
   "execution_count": 101,
   "id": "a12f0b9a-6f53-4f3e-a8a3-743259caedf0",
   "metadata": {
    "tags": []
   },
   "outputs": [
    {
     "data": {
      "text/plain": [
       "range(5, -1, -1)"
      ]
     },
     "execution_count": 101,
     "metadata": {},
     "output_type": "execute_result"
    }
   ],
   "source": [
    "ro = range(5, -1, -1)\n",
    "ro"
   ]
  },
  {
   "cell_type": "code",
   "execution_count": 102,
   "id": "0d0fbfff-f358-4956-b0d1-9446f7e993b4",
   "metadata": {
    "tags": []
   },
   "outputs": [],
   "source": [
    "ro_t = tuple(ro)"
   ]
  },
  {
   "cell_type": "code",
   "execution_count": 103,
   "id": "23eb4527-1ff2-4953-9b91-55846651300b",
   "metadata": {
    "tags": []
   },
   "outputs": [],
   "source": [
    "mapping = {'red': '#FF0000', \n",
    "           'green': '#00B050', \n",
    "           'blue': '#0070C0'}"
   ]
  },
  {
   "cell_type": "code",
   "execution_count": null,
   "id": "8c39a0b6-3c64-46fa-8583-1912203eecfb",
   "metadata": {},
   "outputs": [],
   "source": []
  }
 ],
 "metadata": {
  "kernelspec": {
   "display_name": "Python 3 (ipykernel)",
   "language": "python",
   "name": "python3"
  },
  "language_info": {
   "codemirror_mode": {
    "name": "ipython",
    "version": 3
   },
   "file_extension": ".py",
   "mimetype": "text/x-python",
   "name": "python",
   "nbconvert_exporter": "python",
   "pygments_lexer": "ipython3",
   "version": "3.11.0"
  }
 },
 "nbformat": 4,
 "nbformat_minor": 5
}
