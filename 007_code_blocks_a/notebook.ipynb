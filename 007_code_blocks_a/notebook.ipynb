{
 "cells": [
  {
   "cell_type": "code",
   "execution_count": 1,
   "id": "0579f69b-96a0-4592-9cf9-7577e8af74d1",
   "metadata": {
    "tags": []
   },
   "outputs": [
    {
     "name": "stdout",
     "output_type": "stream",
     "text": [
      "loop_var = 0\n",
      "\tloop_var = 0\n",
      "\tloop_var = 1\n",
      "\tloop_var = 2\n",
      "\tloop_var = 3\n",
      "\tloop_var = 4\n",
      "loop_var = 5\n"
     ]
    }
   ],
   "source": [
    "loop_var = 0\n",
    "print(f'loop_var = {loop_var}')\n",
    "\n",
    "while loop_var < 5:\n",
    "    print(f'\\tloop_var = {loop_var}')\n",
    "    loop_var += 1\n",
    "    \n",
    "    \n",
    "print(f'loop_var = {loop_var}')"
   ]
  },
  {
   "cell_type": "code",
   "execution_count": 2,
   "id": "224e7364-9f6a-4fdc-978f-6dc31b18795f",
   "metadata": {
    "tags": []
   },
   "outputs": [],
   "source": [
    "#user_message = input('Input some text: ')"
   ]
  },
  {
   "cell_type": "code",
   "execution_count": 3,
   "id": "7ead79d2-c6ad-4054-bb8d-3e97d3a3a47c",
   "metadata": {
    "tags": []
   },
   "outputs": [],
   "source": [
    "index = 0"
   ]
  },
  {
   "cell_type": "code",
   "execution_count": 4,
   "id": "ff9fad15-cacc-46b5-8374-498ccc09cd4e",
   "metadata": {
    "tags": []
   },
   "outputs": [
    {
     "name": "stdout",
     "output_type": "stream",
     "text": [
      "h\n",
      "e\n",
      "l\n",
      "l\n",
      "o\n"
     ]
    }
   ],
   "source": [
    "while index < len('hello'):\n",
    "    print('hello'[index])\n",
    "    index += 1\n",
    "\n"
   ]
  },
  {
   "cell_type": "code",
   "execution_count": 5,
   "id": "d40c3b06-981e-4c69-a728-7656aaef8326",
   "metadata": {
    "tags": []
   },
   "outputs": [
    {
     "name": "stdout",
     "output_type": "stream",
     "text": [
      "h\n",
      "e\n",
      "l\n",
      "l\n",
      "o\n"
     ]
    }
   ],
   "source": [
    "for letter in 'hello':\n",
    "    print(letter)\n",
    "    \n",
    "    "
   ]
  },
  {
   "cell_type": "code",
   "execution_count": null,
   "id": "0bd68231-62b3-4c04-8cb8-7144bd684219",
   "metadata": {},
   "outputs": [],
   "source": []
  }
 ],
 "metadata": {
  "kernelspec": {
   "display_name": "Python 3 (ipykernel)",
   "language": "python",
   "name": "python3"
  },
  "language_info": {
   "codemirror_mode": {
    "name": "ipython",
    "version": 3
   },
   "file_extension": ".py",
   "mimetype": "text/x-python",
   "name": "python",
   "nbconvert_exporter": "python",
   "pygments_lexer": "ipython3",
   "version": "3.11.0"
  }
 },
 "nbformat": 4,
 "nbformat_minor": 5
}
