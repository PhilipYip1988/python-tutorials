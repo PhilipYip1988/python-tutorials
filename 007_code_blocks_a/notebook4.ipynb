{
 "cells": [
  {
   "cell_type": "code",
   "execution_count": 1,
   "id": "0579f69b-96a0-4592-9cf9-7577e8af74d1",
   "metadata": {
    "tags": []
   },
   "outputs": [
    {
     "name": "stdout",
     "output_type": "stream",
     "text": [
      "loop_var = 0\n",
      "\tloop_var = 0\n",
      "\tloop_var = 1\n",
      "\tloop_var = 2\n",
      "\tloop_var = 3\n",
      "\tloop_var = 4\n",
      "loop_var = 5\n"
     ]
    }
   ],
   "source": [
    "loop_var = 0\n",
    "print(f'loop_var = {loop_var}')\n",
    "\n",
    "while loop_var < 5:\n",
    "    print(f'\\tloop_var = {loop_var}')\n",
    "    loop_var += 1\n",
    "    \n",
    "    \n",
    "print(f'loop_var = {loop_var}')"
   ]
  },
  {
   "cell_type": "code",
   "execution_count": 2,
   "id": "224e7364-9f6a-4fdc-978f-6dc31b18795f",
   "metadata": {
    "tags": []
   },
   "outputs": [],
   "source": [
    "#user_message = input('Input some text: ')"
   ]
  },
  {
   "cell_type": "code",
   "execution_count": 3,
   "id": "7ead79d2-c6ad-4054-bb8d-3e97d3a3a47c",
   "metadata": {
    "tags": []
   },
   "outputs": [],
   "source": [
    "index = 0"
   ]
  },
  {
   "cell_type": "code",
   "execution_count": 4,
   "id": "ff9fad15-cacc-46b5-8374-498ccc09cd4e",
   "metadata": {
    "tags": []
   },
   "outputs": [
    {
     "name": "stdout",
     "output_type": "stream",
     "text": [
      "h\n",
      "e\n",
      "l\n",
      "l\n",
      "o\n"
     ]
    }
   ],
   "source": [
    "while index < len('hello'):\n",
    "    print('hello'[index])\n",
    "    index += 1\n",
    "\n"
   ]
  },
  {
   "cell_type": "code",
   "execution_count": 5,
   "id": "d40c3b06-981e-4c69-a728-7656aaef8326",
   "metadata": {
    "tags": []
   },
   "outputs": [
    {
     "name": "stdout",
     "output_type": "stream",
     "text": [
      "h\n",
      "e\n",
      "l\n",
      "l\n",
      "o\n"
     ]
    }
   ],
   "source": [
    "for letter in 'hello':\n",
    "    print(letter)\n",
    "    \n",
    "    "
   ]
  },
  {
   "cell_type": "code",
   "execution_count": 6,
   "id": "0bd68231-62b3-4c04-8cb8-7144bd684219",
   "metadata": {
    "tags": []
   },
   "outputs": [],
   "source": [
    "nums = (0, 1, 2, 3, 4)"
   ]
  },
  {
   "cell_type": "code",
   "execution_count": 7,
   "id": "7fbb601b-a720-44d7-9b94-631cf287a59f",
   "metadata": {
    "tags": []
   },
   "outputs": [
    {
     "name": "stdout",
     "output_type": "stream",
     "text": [
      "0\n",
      "2\n",
      "4\n",
      "6\n",
      "8\n"
     ]
    }
   ],
   "source": [
    "for num in nums:\n",
    "    print(2 * num)"
   ]
  },
  {
   "cell_type": "code",
   "execution_count": 8,
   "id": "77bb1c0f-8256-4124-8747-d1297641eb1d",
   "metadata": {
    "tags": []
   },
   "outputs": [],
   "source": [
    "nums = (0, 1, 2, 3, 4)"
   ]
  },
  {
   "cell_type": "code",
   "execution_count": 9,
   "id": "f88fee39-2aff-462a-855a-d49021e2d6c0",
   "metadata": {
    "tags": []
   },
   "outputs": [],
   "source": [
    "doubled_nums = []"
   ]
  },
  {
   "cell_type": "code",
   "execution_count": 10,
   "id": "30f143dd-29de-422d-90f5-90015f2be9b1",
   "metadata": {
    "tags": []
   },
   "outputs": [],
   "source": [
    "for num in nums:\n",
    "    doubled_nums.append(2 * num)\n",
    "    \n",
    "    "
   ]
  },
  {
   "cell_type": "code",
   "execution_count": 11,
   "id": "cffa7cc0-4eda-408a-b10d-8ec3f76e32fb",
   "metadata": {
    "tags": []
   },
   "outputs": [
    {
     "data": {
      "text/plain": [
       "[0, 2, 4, 6, 8]"
      ]
     },
     "execution_count": 11,
     "metadata": {},
     "output_type": "execute_result"
    }
   ],
   "source": [
    "doubled_nums"
   ]
  },
  {
   "cell_type": "code",
   "execution_count": 12,
   "id": "3dcd0598-543e-4bfc-a5f2-8c348ca7c318",
   "metadata": {
    "tags": []
   },
   "outputs": [],
   "source": [
    "nums = (0, 1, 2, 3, 4)"
   ]
  },
  {
   "cell_type": "code",
   "execution_count": 13,
   "id": "caf8675c-e9ac-49f5-abd1-97523f159e87",
   "metadata": {
    "tags": []
   },
   "outputs": [],
   "source": [
    "doubled_nums = []"
   ]
  },
  {
   "cell_type": "code",
   "execution_count": 14,
   "id": "edb59dd2-d228-46e9-a36e-b86d6a386556",
   "metadata": {
    "tags": []
   },
   "outputs": [
    {
     "name": "stdout",
     "output_type": "stream",
     "text": [
      "[0]\n",
      "[0, 2]\n",
      "[0, 2, 4]\n",
      "[0, 2, 4, 6]\n",
      "[0, 2, 4, 6, 8]\n"
     ]
    }
   ],
   "source": [
    "for num in nums:\n",
    "    doubled_nums.append(2 * num)\n",
    "    print(doubled_nums)\n",
    "    \n",
    "    "
   ]
  },
  {
   "cell_type": "code",
   "execution_count": 15,
   "id": "cf6981c2-0091-4275-b14b-b2cf4f0eaeec",
   "metadata": {
    "tags": []
   },
   "outputs": [
    {
     "data": {
      "text/plain": [
       "[0, 2, 4, 6, 8]"
      ]
     },
     "execution_count": 15,
     "metadata": {},
     "output_type": "execute_result"
    }
   ],
   "source": [
    "doubled_nums"
   ]
  },
  {
   "cell_type": "code",
   "execution_count": 16,
   "id": "94c4743a-729b-42de-bfa5-dee809483806",
   "metadata": {
    "tags": []
   },
   "outputs": [],
   "source": [
    "doubled_nums = []\n",
    "for num in nums:\n",
    "    doubled_nums.append(2 * num)\n",
    "    \n",
    "    "
   ]
  },
  {
   "cell_type": "code",
   "execution_count": 17,
   "id": "948f3073-f762-47ff-84e8-3e4ac29fc445",
   "metadata": {
    "tags": []
   },
   "outputs": [],
   "source": [
    "doubled_nums = [2 * num for num in nums]"
   ]
  },
  {
   "cell_type": "code",
   "execution_count": 18,
   "id": "92570b14-3e6c-4991-88fc-5cdd3b647fa5",
   "metadata": {
    "tags": []
   },
   "outputs": [
    {
     "data": {
      "text/plain": [
       "[0, 2, 4, 6, 8]"
      ]
     },
     "execution_count": 18,
     "metadata": {},
     "output_type": "execute_result"
    }
   ],
   "source": [
    "doubled_nums"
   ]
  },
  {
   "cell_type": "code",
   "execution_count": 19,
   "id": "15985ee6-6fef-45bc-8913-0df6fb8b6021",
   "metadata": {
    "tags": []
   },
   "outputs": [],
   "source": [
    "nums = (0, 1, 2, 3, 4)"
   ]
  },
  {
   "cell_type": "code",
   "execution_count": 20,
   "id": "6fe4fbbd-aabd-4c54-a5b8-f75eac29bf50",
   "metadata": {
    "tags": []
   },
   "outputs": [],
   "source": [
    "doubled_even_nums = [2 * num for num in nums if num % 2 == 0]"
   ]
  },
  {
   "cell_type": "code",
   "execution_count": 21,
   "id": "07494e45-26d5-42be-834f-6584aca03c53",
   "metadata": {
    "tags": []
   },
   "outputs": [
    {
     "data": {
      "text/plain": [
       "[0, 4, 8]"
      ]
     },
     "execution_count": 21,
     "metadata": {},
     "output_type": "execute_result"
    }
   ],
   "source": [
    "doubled_even_nums"
   ]
  },
  {
   "cell_type": "code",
   "execution_count": 22,
   "id": "25f2d898-e620-4b33-91ca-095ff195a97f",
   "metadata": {
    "tags": []
   },
   "outputs": [],
   "source": [
    "nums = (0, 1, 2, 3, 4)"
   ]
  },
  {
   "cell_type": "code",
   "execution_count": 23,
   "id": "deb6f882-a173-4938-86dd-5e7945da5d99",
   "metadata": {
    "tags": []
   },
   "outputs": [],
   "source": [
    "parity = ['even' if num % 2 == 0 else 'odd' for num in nums] "
   ]
  },
  {
   "cell_type": "code",
   "execution_count": 24,
   "id": "3243bdc3-00d6-4e48-bde2-465e422ba961",
   "metadata": {
    "tags": []
   },
   "outputs": [
    {
     "data": {
      "text/plain": [
       "['even', 'odd', 'even', 'odd', 'even']"
      ]
     },
     "execution_count": 24,
     "metadata": {},
     "output_type": "execute_result"
    }
   ],
   "source": [
    "parity"
   ]
  },
  {
   "cell_type": "code",
   "execution_count": 25,
   "id": "994e74c9-a212-4cde-8e79-e60a895bdc8f",
   "metadata": {
    "tags": []
   },
   "outputs": [],
   "source": [
    "nums = (0, 1, 2, 3, 4)"
   ]
  },
  {
   "cell_type": "code",
   "execution_count": 26,
   "id": "9ff31a8d-6c56-44bd-b769-d511afa1152a",
   "metadata": {
    "tags": []
   },
   "outputs": [],
   "source": [
    "double_nums = (num * 2 for num in nums)"
   ]
  },
  {
   "cell_type": "code",
   "execution_count": 27,
   "id": "b2b7b913-d548-494a-91ea-fb6608ce68a8",
   "metadata": {
    "tags": []
   },
   "outputs": [
    {
     "data": {
      "text/plain": [
       "<generator object <genexpr> at 0x00000249202093C0>"
      ]
     },
     "execution_count": 27,
     "metadata": {},
     "output_type": "execute_result"
    }
   ],
   "source": [
    "double_nums"
   ]
  },
  {
   "cell_type": "code",
   "execution_count": 28,
   "id": "01b00fd0-c47a-49d6-9b28-ddb653930f32",
   "metadata": {
    "tags": []
   },
   "outputs": [
    {
     "data": {
      "text/plain": [
       "0"
      ]
     },
     "execution_count": 28,
     "metadata": {},
     "output_type": "execute_result"
    }
   ],
   "source": [
    "next(double_nums)"
   ]
  },
  {
   "cell_type": "code",
   "execution_count": 29,
   "id": "e548f4a3-1f5d-41d1-85ac-eb72ef75171c",
   "metadata": {
    "tags": []
   },
   "outputs": [
    {
     "data": {
      "text/plain": [
       "2"
      ]
     },
     "execution_count": 29,
     "metadata": {},
     "output_type": "execute_result"
    }
   ],
   "source": [
    "next(double_nums)"
   ]
  },
  {
   "cell_type": "code",
   "execution_count": 30,
   "id": "2e21dc7f-59cc-454f-a510-fdeea56d36a3",
   "metadata": {
    "tags": []
   },
   "outputs": [
    {
     "data": {
      "text/plain": [
       "4"
      ]
     },
     "execution_count": 30,
     "metadata": {},
     "output_type": "execute_result"
    }
   ],
   "source": [
    "next(double_nums)"
   ]
  },
  {
   "cell_type": "code",
   "execution_count": 31,
   "id": "3947e3bf-caaf-4952-a07c-6218fca965dc",
   "metadata": {
    "tags": []
   },
   "outputs": [
    {
     "data": {
      "text/plain": [
       "6"
      ]
     },
     "execution_count": 31,
     "metadata": {},
     "output_type": "execute_result"
    }
   ],
   "source": [
    "next(double_nums)"
   ]
  },
  {
   "cell_type": "code",
   "execution_count": 32,
   "id": "7b40d2a1-12c4-4f19-9f0c-7548aa5699d9",
   "metadata": {
    "tags": []
   },
   "outputs": [
    {
     "data": {
      "text/plain": [
       "8"
      ]
     },
     "execution_count": 32,
     "metadata": {},
     "output_type": "execute_result"
    }
   ],
   "source": [
    "next(double_nums)"
   ]
  },
  {
   "cell_type": "code",
   "execution_count": 33,
   "id": "c2938517-09a6-4eeb-bd36-3c7db17b6c46",
   "metadata": {
    "tags": []
   },
   "outputs": [],
   "source": [
    "#next(double_nums)"
   ]
  },
  {
   "cell_type": "code",
   "execution_count": 34,
   "id": "b43b58bd-0477-47fc-9cfe-11d65e9f3335",
   "metadata": {
    "tags": []
   },
   "outputs": [],
   "source": [
    "colors = ['red', 'green', 'blue']"
   ]
  },
  {
   "cell_type": "code",
   "execution_count": 35,
   "id": "d7da0222-9407-4020-a299-6b52c093893d",
   "metadata": {
    "tags": []
   },
   "outputs": [],
   "source": [
    "mapping = {color[0]: color for color in colors}"
   ]
  },
  {
   "cell_type": "code",
   "execution_count": 36,
   "id": "a7b6d3a3-40ef-4765-be52-d350a29a3c6a",
   "metadata": {
    "tags": []
   },
   "outputs": [
    {
     "data": {
      "text/plain": [
       "{'r': 'red', 'g': 'green', 'b': 'blue'}"
      ]
     },
     "execution_count": 36,
     "metadata": {},
     "output_type": "execute_result"
    }
   ],
   "source": [
    "mapping"
   ]
  },
  {
   "cell_type": "code",
   "execution_count": 37,
   "id": "444a0b55-0009-49e9-9553-450ff384c267",
   "metadata": {
    "tags": []
   },
   "outputs": [],
   "source": [
    "keys = [color[0] for color in colors]"
   ]
  },
  {
   "cell_type": "code",
   "execution_count": 38,
   "id": "17aa9e96-6e73-437d-a9dd-a345802f82d9",
   "metadata": {
    "tags": []
   },
   "outputs": [
    {
     "data": {
      "text/plain": [
       "['r', 'g', 'b']"
      ]
     },
     "execution_count": 38,
     "metadata": {},
     "output_type": "execute_result"
    }
   ],
   "source": [
    "keys"
   ]
  },
  {
   "cell_type": "code",
   "execution_count": 39,
   "id": "0ebe3b53-b79c-450d-8093-b63b95223f12",
   "metadata": {
    "tags": []
   },
   "outputs": [],
   "source": [
    "values = [color for color in colors]"
   ]
  },
  {
   "cell_type": "code",
   "execution_count": 40,
   "id": "7814f8c0-c5e2-49b0-a360-cca879482a04",
   "metadata": {
    "tags": []
   },
   "outputs": [
    {
     "data": {
      "text/plain": [
       "['red', 'green', 'blue']"
      ]
     },
     "execution_count": 40,
     "metadata": {},
     "output_type": "execute_result"
    }
   ],
   "source": [
    "values"
   ]
  },
  {
   "cell_type": "code",
   "execution_count": 41,
   "id": "bbdfb71e-0fbb-4698-9673-e5bf03e4f054",
   "metadata": {
    "tags": []
   },
   "outputs": [
    {
     "name": "stdout",
     "output_type": "stream",
     "text": [
      "114\n",
      "103\n",
      "98\n"
     ]
    }
   ],
   "source": [
    "for key in keys:\n",
    "    print(ord(key))\n",
    "    \n",
    "    "
   ]
  },
  {
   "cell_type": "code",
   "execution_count": 42,
   "id": "5827d75c-d121-400d-acb1-dae420b449a1",
   "metadata": {
    "tags": []
   },
   "outputs": [],
   "source": [
    "mapping = {color[0]: \n",
    "           color \n",
    "           for color in colors\n",
    "           if ord(color[0]) % 2 == 0}"
   ]
  },
  {
   "cell_type": "code",
   "execution_count": 43,
   "id": "d9b87717-5f02-4c2c-9344-39b16495d762",
   "metadata": {
    "tags": []
   },
   "outputs": [
    {
     "data": {
      "text/plain": [
       "{'r': 'red', 'b': 'blue'}"
      ]
     },
     "execution_count": 43,
     "metadata": {},
     "output_type": "execute_result"
    }
   ],
   "source": [
    "mapping"
   ]
  },
  {
   "cell_type": "code",
   "execution_count": 44,
   "id": "b3c2d27f-f114-49bd-8c1b-01408d140702",
   "metadata": {
    "tags": []
   },
   "outputs": [],
   "source": [
    "mapping = {color[0]: \n",
    "           color \n",
    "           for color in colors\n",
    "           if ord(color[0]) % 2 == 0}"
   ]
  },
  {
   "cell_type": "code",
   "execution_count": 45,
   "id": "cb98f922-e94a-4838-b7be-5eac3fe5649d",
   "metadata": {
    "tags": []
   },
   "outputs": [
    {
     "data": {
      "text/plain": [
       "{'r': 'red', 'b': 'blue'}"
      ]
     },
     "execution_count": 45,
     "metadata": {},
     "output_type": "execute_result"
    }
   ],
   "source": [
    "mapping"
   ]
  },
  {
   "cell_type": "code",
   "execution_count": 46,
   "id": "194b13eb-6757-4ff1-94a1-54d570e6f43e",
   "metadata": {
    "tags": []
   },
   "outputs": [],
   "source": [
    "mapping = {color[0] if ord(color[0]) % 2 == 0 else color[-1]: \n",
    "           color if ord(color[0]) % 2 == 0 else color[::-1]\n",
    "           for color in colors}"
   ]
  },
  {
   "cell_type": "code",
   "execution_count": 47,
   "id": "59305b85-5a2d-44d5-b53c-a60d9fd7658e",
   "metadata": {
    "tags": []
   },
   "outputs": [
    {
     "data": {
      "text/plain": [
       "{'r': 'red', 'n': 'neerg', 'b': 'blue'}"
      ]
     },
     "execution_count": 47,
     "metadata": {},
     "output_type": "execute_result"
    }
   ],
   "source": [
    "mapping"
   ]
  },
  {
   "cell_type": "code",
   "execution_count": 48,
   "id": "43723f7b-0a60-42e5-9bef-4b86d862864b",
   "metadata": {
    "tags": []
   },
   "outputs": [],
   "source": [
    "mapping = {color[0]: \n",
    "           color if ord(color[0]) % 2 == 0 else color[::-1]\n",
    "           for color in colors}"
   ]
  },
  {
   "cell_type": "code",
   "execution_count": 49,
   "id": "9ca938ad-31d8-481b-a49d-ef1d00f5c7fe",
   "metadata": {
    "tags": []
   },
   "outputs": [
    {
     "data": {
      "text/plain": [
       "{'r': 'red', 'g': 'neerg', 'b': 'blue'}"
      ]
     },
     "execution_count": 49,
     "metadata": {},
     "output_type": "execute_result"
    }
   ],
   "source": [
    "mapping"
   ]
  },
  {
   "cell_type": "code",
   "execution_count": 50,
   "id": "da3290c7-42a4-42c4-a720-075ff4834bd2",
   "metadata": {
    "tags": []
   },
   "outputs": [],
   "source": [
    "fruits = {'apples': 2, 'bananas': 3, 'carrots': 5}"
   ]
  },
  {
   "cell_type": "code",
   "execution_count": 51,
   "id": "7a95c359-9ffb-4dad-b2a5-c520a18e8a14",
   "metadata": {
    "tags": []
   },
   "outputs": [],
   "source": [
    "fruits2 = {key: \n",
    "           2 * value \n",
    "           for key, value in fruits.items()}"
   ]
  },
  {
   "cell_type": "code",
   "execution_count": 52,
   "id": "50a3f524-2411-46f8-beda-ae4da822c38d",
   "metadata": {
    "tags": []
   },
   "outputs": [
    {
     "data": {
      "text/plain": [
       "{'apples': 4, 'bananas': 6, 'carrots': 10}"
      ]
     },
     "execution_count": 52,
     "metadata": {},
     "output_type": "execute_result"
    }
   ],
   "source": [
    "fruits2"
   ]
  },
  {
   "cell_type": "code",
   "execution_count": 53,
   "id": "078ff6d1-17b9-4b1b-9e82-fb8ce78d14ab",
   "metadata": {
    "tags": []
   },
   "outputs": [],
   "source": [
    "fruits3 = {key: \n",
    "           2 * value if value % 2 == 1 else value \n",
    "           for key, value in fruits.items()}"
   ]
  },
  {
   "cell_type": "code",
   "execution_count": 54,
   "id": "0298921c-d88b-49da-97b3-3972685eeaa1",
   "metadata": {
    "tags": []
   },
   "outputs": [
    {
     "data": {
      "text/plain": [
       "{'apples': 2, 'bananas': 6, 'carrots': 10}"
      ]
     },
     "execution_count": 54,
     "metadata": {},
     "output_type": "execute_result"
    }
   ],
   "source": [
    "fruits3"
   ]
  },
  {
   "cell_type": "code",
   "execution_count": 55,
   "id": "aed8364e-14d4-41d9-b1aa-ccd7a0592c6a",
   "metadata": {
    "tags": []
   },
   "outputs": [
    {
     "data": {
      "text/plain": [
       "<function ord(c, /)>"
      ]
     },
     "execution_count": 55,
     "metadata": {},
     "output_type": "execute_result"
    }
   ],
   "source": [
    "ord"
   ]
  },
  {
   "cell_type": "code",
   "execution_count": 56,
   "id": "8b949e07-76c3-4ca6-83b7-a5d1b67ababd",
   "metadata": {
    "tags": []
   },
   "outputs": [
    {
     "data": {
      "text/plain": [
       "97"
      ]
     },
     "execution_count": 56,
     "metadata": {},
     "output_type": "execute_result"
    }
   ],
   "source": [
    "ord('a')"
   ]
  },
  {
   "cell_type": "code",
   "execution_count": null,
   "id": "deffad19-48a4-4f69-9489-4b90597480c6",
   "metadata": {},
   "outputs": [],
   "source": []
  }
 ],
 "metadata": {
  "kernelspec": {
   "display_name": "Python 3 (ipykernel)",
   "language": "python",
   "name": "python3"
  },
  "language_info": {
   "codemirror_mode": {
    "name": "ipython",
    "version": 3
   },
   "file_extension": ".py",
   "mimetype": "text/x-python",
   "name": "python",
   "nbconvert_exporter": "python",
   "pygments_lexer": "ipython3",
   "version": "3.11.0"
  }
 },
 "nbformat": 4,
 "nbformat_minor": 5
}
