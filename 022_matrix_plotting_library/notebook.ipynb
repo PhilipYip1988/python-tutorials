{
 "cells": [
  {
   "cell_type": "code",
   "execution_count": 1,
   "id": "3810e4d8-d062-4536-8df8-34e1583072f8",
   "metadata": {
    "tags": []
   },
   "outputs": [],
   "source": [
    "import numpy as np\n",
    "import matplotlib.pyplot as plt"
   ]
  },
  {
   "cell_type": "code",
   "execution_count": 2,
   "id": "5e75cd7e-7fbd-4fe5-be18-95fbc5513027",
   "metadata": {},
   "outputs": [],
   "source": [
    "%matplotlib qt5"
   ]
  },
  {
   "cell_type": "code",
   "execution_count": 3,
   "id": "233a52cb-b058-45f9-b906-1be18d06902a",
   "metadata": {
    "tags": []
   },
   "outputs": [],
   "source": [
    "x = np.array([0, 1, 2, 3, 4])\n",
    "y = np.array([0, 1, 4, 9, 16])"
   ]
  },
  {
   "cell_type": "code",
   "execution_count": 4,
   "id": "0c4b9d92-2b76-4236-bb83-bc1738072ae1",
   "metadata": {
    "tags": []
   },
   "outputs": [
    {
     "data": {
      "text/plain": [
       "<Figure size 640x480 with 0 Axes>"
      ]
     },
     "execution_count": 4,
     "metadata": {},
     "output_type": "execute_result"
    }
   ],
   "source": [
    "plt.figure(num=1, figsize=None, dpi=None)"
   ]
  },
  {
   "cell_type": "code",
   "execution_count": 5,
   "id": "1ac815ab-50ac-40b5-950c-56a5d1dae0c4",
   "metadata": {
    "tags": []
   },
   "outputs": [
    {
     "data": {
      "text/plain": [
       "<Axes: >"
      ]
     },
     "execution_count": 5,
     "metadata": {},
     "output_type": "execute_result"
    }
   ],
   "source": [
    "plt.figure(num=2, figsize=None, dpi=None)\n",
    "plt.axes()"
   ]
  },
  {
   "cell_type": "code",
   "execution_count": 6,
   "id": "b8818042-0f93-47a2-9e3b-0eb15a94ca7c",
   "metadata": {
    "tags": []
   },
   "outputs": [
    {
     "data": {
      "text/plain": [
       "[<matplotlib.lines.Line2D at 0x2627f0922d0>]"
      ]
     },
     "execution_count": 6,
     "metadata": {},
     "output_type": "execute_result"
    }
   ],
   "source": [
    "plt.figure(num=3, figsize=None, dpi=None)\n",
    "plt.axes()\n",
    "plt.plot(x, y)"
   ]
  },
  {
   "cell_type": "code",
   "execution_count": 7,
   "id": "952b7a08-c8f1-4555-b7b9-96d805c3c8e9",
   "metadata": {
    "tags": []
   },
   "outputs": [
    {
     "data": {
      "text/plain": [
       "Text(0.5, 1.0, 'length $x$ vs area $y$')"
      ]
     },
     "execution_count": 7,
     "metadata": {},
     "output_type": "execute_result"
    }
   ],
   "source": [
    "plt.figure(num=4, figsize=None, dpi=None)\n",
    "plt.axes()\n",
    "plt.plot(x, y)\n",
    "plt.xlabel(r'length $x$ (m)')\n",
    "plt.ylabel(r'area $y$ (m$^{2}$)')\n",
    "plt.title(r'length $x$ vs area $y$')"
   ]
  },
  {
   "cell_type": "code",
   "execution_count": 8,
   "id": "71883548-90f6-4f7c-980c-c1ab3dd3e999",
   "metadata": {
    "tags": []
   },
   "outputs": [
    {
     "data": {
      "text/plain": [
       "<matplotlib.legend.Legend at 0x2627ea6cf10>"
      ]
     },
     "execution_count": 8,
     "metadata": {},
     "output_type": "execute_result"
    }
   ],
   "source": [
    "plt.figure(num=5, figsize=None, dpi=None)\n",
    "plt.axes()\n",
    "plt.plot(x, y, label='area')\n",
    "plt.xlabel(r'length $x$ (m)')\n",
    "plt.ylabel(r'area $y$ (m$^{2}$)')\n",
    "plt.title(r'length $x$ vs area $y$')\n",
    "plt.legend()"
   ]
  },
  {
   "cell_type": "code",
   "execution_count": 9,
   "id": "ecf9ce90-c4e5-4ad3-b377-21dddc7083de",
   "metadata": {
    "tags": []
   },
   "outputs": [
    {
     "data": {
      "text/plain": [
       "<matplotlib.legend.Legend at 0x26201998e10>"
      ]
     },
     "execution_count": 9,
     "metadata": {},
     "output_type": "execute_result"
    }
   ],
   "source": [
    "plt.figure(num=7, figsize=None, dpi=None)\n",
    "plt.axes()\n",
    "plt.plot(x, y)\n",
    "plt.xlabel(r'length $x$ (m)')\n",
    "plt.ylabel(r'area $y$ (m$^{2}$)')\n",
    "plt.title(r'length $x$ vs area $y$')\n",
    "plt.legend(labels=['area'], loc='lower right')"
   ]
  },
  {
   "cell_type": "code",
   "execution_count": 10,
   "id": "04fa1dab-7552-4e18-a873-6136851883e7",
   "metadata": {
    "tags": []
   },
   "outputs": [
    {
     "data": {
      "text/plain": [
       "[<matplotlib.lines.Line2D at 0x2627bb79c50>,\n",
       " <matplotlib.lines.Line2D at 0x26201a029d0>,\n",
       " <matplotlib.lines.Line2D at 0x26201a02d90>]"
      ]
     },
     "execution_count": 10,
     "metadata": {},
     "output_type": "execute_result"
    }
   ],
   "source": [
    "plt.figure(num=8, figsize=None, dpi=None)\n",
    "plt.axes()\n",
    "plt.plot(x, y, x, y+1, x, y+2)"
   ]
  },
  {
   "cell_type": "code",
   "execution_count": 11,
   "id": "c5cf4a14-a864-4129-9daf-1a58bc89b2a5",
   "metadata": {
    "tags": []
   },
   "outputs": [
    {
     "data": {
      "text/plain": [
       "<matplotlib.legend.Legend at 0x26201a005d0>"
      ]
     },
     "execution_count": 11,
     "metadata": {},
     "output_type": "execute_result"
    }
   ],
   "source": [
    "plt.figure(num=9, figsize=None, dpi=None)\n",
    "plt.axes()\n",
    "plt.plot(x, y, x, y+1, x, y+2, label='area')\n",
    "plt.xlabel(r'length $x$ (m)')\n",
    "plt.ylabel(r'area $y$ (m$^{2}$)')\n",
    "plt.title(r'length $x$ vs area $y$')\n",
    "plt.legend(loc='lower right')"
   ]
  },
  {
   "cell_type": "code",
   "execution_count": 12,
   "id": "e391ba33-c32f-43b7-9e6c-b441f27905eb",
   "metadata": {
    "tags": []
   },
   "outputs": [
    {
     "data": {
      "text/plain": [
       "<matplotlib.legend.Legend at 0x26201a66c10>"
      ]
     },
     "execution_count": 12,
     "metadata": {},
     "output_type": "execute_result"
    }
   ],
   "source": [
    "plt.figure(num=10, figsize=None, dpi=None)\n",
    "plt.axes()\n",
    "plt.plot(x, y, \n",
    "         x, y+1, \n",
    "         x, y+2,\n",
    "         x, y+3,\n",
    "         x, y+4,\n",
    "         x, y+5,\n",
    "         x, y+6,\n",
    "         x, y+7,\n",
    "         x, y+8,\n",
    "         x, y+9)\n",
    "plt.xlabel(r'length $x$ (m)')\n",
    "plt.ylabel(r'area $y$ (m$^{2}$)')\n",
    "plt.title(r'length $x$ vs area $y$')\n",
    "plt.legend(labels=['tab:blue', 'tab:orange', 'tab:green',\n",
    "                  'tab:red', 'tab:purple', 'tab:brown',\n",
    "                  'tab:pink', 'tab:gray', 'tab:olive',\n",
    "                  'tab:cyan'], \n",
    "           loc='lower right')"
   ]
  },
  {
   "cell_type": "code",
   "execution_count": 13,
   "id": "49d12bf0-d8da-443a-a0de-de4956fdcde9",
   "metadata": {
    "tags": []
   },
   "outputs": [
    {
     "data": {
      "text/plain": [
       "<matplotlib.legend.Legend at 0x26201afb890>"
      ]
     },
     "execution_count": 13,
     "metadata": {},
     "output_type": "execute_result"
    }
   ],
   "source": [
    "plt.figure(num=11, figsize=None, dpi=None)\n",
    "plt.axes()\n",
    "plt.plot(x, y, 'royalblue',\n",
    "         x, y+1, 'gold',\n",
    "         x, y+2, 'forestgreen',\n",
    "         x, y+3, 'salmon',\n",
    "         x, y+4, 'violet',\n",
    "         x, y+5, 'peru',\n",
    "         x, y+6, 'deeppink',\n",
    "         x, y+7, 'slategray',\n",
    "         x, y+8, 'lawngreen',\n",
    "         x, y+9, 'darkturquoise')\n",
    "plt.xlabel(r'length $x$ (m)')\n",
    "plt.ylabel(r'area $y$ (m$^{2}$)')\n",
    "plt.title(r'length $x$ vs area $y$')\n",
    "plt.legend(labels=['royalblue', 'gold', 'forestgreen',\n",
    "                  'salmon', 'violet', 'peru',\n",
    "                  'deeppink', 'slategray', 'lawngreen',\n",
    "                  'darkturquoise'], \n",
    "           loc='lower right')"
   ]
  },
  {
   "cell_type": "code",
   "execution_count": 14,
   "id": "04e772f3-79f8-49b4-953b-cb19a472830d",
   "metadata": {
    "tags": []
   },
   "outputs": [
    {
     "data": {
      "text/plain": [
       "<matplotlib.legend.Legend at 0x26201b6bf50>"
      ]
     },
     "execution_count": 14,
     "metadata": {},
     "output_type": "execute_result"
    }
   ],
   "source": [
    "plt.figure(num=12, figsize=None, dpi=None)\n",
    "plt.axes()\n",
    "plt.plot(x, y, label='area',\n",
    "         color='royalblue',\n",
    "         drawstyle='default',\n",
    "         linewidth=2.0, linestyle='dotted',\n",
    "         marker='o', markersize=15.0,\n",
    "         markerfacecolor='hotpink', \n",
    "         markeredgecolor='palegreen')\n",
    "plt.xlabel(r'length $x$ (m)')\n",
    "plt.ylabel(r'area $y$ (m$^{2}$)')\n",
    "plt.title(r'length $x$ vs area $y$')\n",
    "plt.legend(loc='lower right')"
   ]
  },
  {
   "cell_type": "code",
   "execution_count": 15,
   "id": "05a67b19-10bf-4096-b38b-cbcf4fa01cd5",
   "metadata": {
    "tags": []
   },
   "outputs": [
    {
     "data": {
      "text/plain": [
       "<matplotlib.legend.Legend at 0x262019db890>"
      ]
     },
     "execution_count": 15,
     "metadata": {},
     "output_type": "execute_result"
    }
   ],
   "source": [
    "plt.figure(num=13, figsize=None, dpi=None)\n",
    "plt.axes()\n",
    "plt.plot(x, y, label='area',\n",
    "         c='royalblue',\n",
    "         ds='default',\n",
    "         lw=2.0, ls=':',\n",
    "         marker='o', ms=15.0,\n",
    "         mfc='hotpink', \n",
    "         mec='palegreen')\n",
    "plt.xlabel(r'length $x$ (m)')\n",
    "plt.ylabel(r'area $y$ (m$^{2}$)')\n",
    "plt.title(r'length $x$ vs area $y$')\n",
    "plt.legend(loc='lower right')"
   ]
  },
  {
   "cell_type": "code",
   "execution_count": 16,
   "id": "51213610-f9b1-4b3b-8c5b-0ba998174eab",
   "metadata": {
    "tags": []
   },
   "outputs": [],
   "source": [
    "plt.figure(num=14, figsize=None, dpi=None)\n",
    "plt.axes()\n",
    "plt.plot(x, y, label='area', c='royalblue')\n",
    "plt.xlabel(r'length $x$ (m)')\n",
    "plt.ylabel(r'area $y$ (m$^{2}$)')\n",
    "plt.title(r'length $x$ vs area $y$')\n",
    "plt.legend(loc='lower right')\n",
    "plt.xlim(left=-1, right=5)\n",
    "plt.ylim(top=100, bottom=1)\n",
    "plt.xscale('linear')\n",
    "plt.yscale('log')\n",
    "plt.tight_layout()\n",
    "plt.grid(visible=True, which='major', axis='both', \n",
    "         lw=3.0, ls='-', c='lightgray')\n",
    "plt.grid(visible=True, which='minor', axis='y', \n",
    "         lw=1.5, ls=':', c='lightgray')"
   ]
  },
  {
   "cell_type": "code",
   "execution_count": 17,
   "id": "955f27eb-eb68-4507-bd20-0c3b9472d3db",
   "metadata": {
    "tags": []
   },
   "outputs": [],
   "source": [
    "plt.figure(num=14, figsize=None, dpi=None)\n",
    "plt.axes()\n",
    "plt.plot(x, y, label='area', c='royalblue')\n",
    "plt.xlabel(r'length $x$ (m)')\n",
    "plt.ylabel(r'area $y$ (m$^{2}$)')\n",
    "plt.title(r'length $x$ vs area $y$')\n",
    "plt.legend(loc='lower right')\n",
    "plt.xlim(left=-1, right=5)\n",
    "plt.ylim(top=100, bottom=1)\n",
    "plt.xscale('linear')\n",
    "plt.yscale('log')\n",
    "plt.tight_layout()\n",
    "plt.grid(visible=True, which='major', axis='both', \n",
    "         lw=3.0, ls='-', c='lightgray')\n",
    "plt.grid(visible=True, which='minor', axis='y', \n",
    "         lw=1.5, ls=':', c='lightgray')"
   ]
  },
  {
   "cell_type": "code",
   "execution_count": 18,
   "id": "e1fbd563-2e8f-43e6-bed1-36e51163290a",
   "metadata": {
    "tags": []
   },
   "outputs": [],
   "source": [
    "plt.figure(num=14, figsize=None, dpi=None)\n",
    "plt.axes()\n",
    "plt.plot(x, y, label='area', c='royalblue')\n",
    "plt.xlabel(r'length $x$ (m)')\n",
    "plt.ylabel(r'area $y$ (m$^{2}$)')\n",
    "plt.title(r'length $x$ vs area $y$')\n",
    "plt.legend(loc='lower right')\n",
    "plt.xlim(left=-1, right=5)\n",
    "plt.ylim(top=100, bottom=1)\n",
    "plt.xscale('linear')\n",
    "plt.yscale('log')\n",
    "plt.tight_layout()\n",
    "plt.grid(visible=True, which='major', axis='both', \n",
    "         lw=3.0, ls='-', c='lightgray')\n",
    "plt.grid(visible=True, which='minor', axis='y', \n",
    "         lw=1.5, ls=':', c='lightgray')\n",
    "plt.minorticks_on()\n",
    "plt.grid(visible=True, which='minor', axis='x', \n",
    "         lw=1.5, ls=':', c='lightgray')"
   ]
  },
  {
   "cell_type": "code",
   "execution_count": 19,
   "id": "c7962604-f591-4b06-ad01-a7c773858e10",
   "metadata": {
    "tags": []
   },
   "outputs": [],
   "source": [
    "plt.figure(num=15, figsize=None, dpi=None)\n",
    "plt.axes()\n",
    "plt.plot(x, y, label='area', c='royalblue')\n",
    "plt.xlabel(r'length $x$ (m)')\n",
    "plt.ylabel(r'area $y$ (m$^{2}$)')\n",
    "plt.title(r'length $x$ vs area $y$')\n",
    "plt.legend(loc='lower right')\n",
    "plt.xlim(left=-1, right=5)\n",
    "plt.ylim(top=100, bottom=1)\n",
    "plt.xscale('linear')\n",
    "plt.yscale('log')\n",
    "plt.tight_layout()\n",
    "plt.grid(visible=True, which='major', axis='both', \n",
    "         lw=3.0, ls='-', c='lightgray')\n",
    "plt.grid(visible=True, which='minor', axis='y', \n",
    "         lw=1.5, ls=':', c='lightgray')\n",
    "plt.minorticks_on()\n",
    "plt.grid(visible=True, which='minor', axis='x', \n",
    "         lw=1.5, ls=':', c='lightgray')\n",
    "plt.tight_layout()"
   ]
  },
  {
   "cell_type": "code",
   "execution_count": 20,
   "id": "3c581845-c714-403d-9339-ed18b0359906",
   "metadata": {
    "tags": []
   },
   "outputs": [],
   "source": [
    "import math"
   ]
  },
  {
   "cell_type": "code",
   "execution_count": 21,
   "id": "dbc49155-2f49-4f3a-b5cc-3af73bac129b",
   "metadata": {
    "tags": []
   },
   "outputs": [],
   "source": [
    "x = np.linspace(start=-math.tau, stop=math.tau, num=100)\n",
    "y1 = np.sin(x)\n",
    "y2 = np.cos(x)\n",
    "y3 = np.tan(x)"
   ]
  },
  {
   "cell_type": "code",
   "execution_count": 22,
   "id": "71717d37-a190-4c13-acbd-f431085cd19a",
   "metadata": {
    "tags": []
   },
   "outputs": [
    {
     "data": {
      "text/plain": [
       "<Axes: >"
      ]
     },
     "execution_count": 22,
     "metadata": {},
     "output_type": "execute_result"
    }
   ],
   "source": [
    "plt.figure(num=16, figsize=None, dpi=None)\n",
    "plt.subplot(2, 1, 1)"
   ]
  },
  {
   "cell_type": "code",
   "execution_count": 23,
   "id": "28d2fe54-729a-440e-84ee-2eebd2f6565c",
   "metadata": {
    "tags": []
   },
   "outputs": [
    {
     "data": {
      "text/plain": [
       "[<matplotlib.lines.Line2D at 0x2620296a650>]"
      ]
     },
     "execution_count": 23,
     "metadata": {},
     "output_type": "execute_result"
    }
   ],
   "source": [
    "plt.figure(num=17, figsize=None, dpi=None)\n",
    "plt.subplot(2, 1, 1)\n",
    "plt.plot(x, y1, label=r'$y$=sin($x$)')\n",
    "plt.plot(x, y2, label=r'$y$=cos($x$)')"
   ]
  },
  {
   "cell_type": "code",
   "execution_count": 24,
   "id": "fc3457eb-df85-431b-88b2-4b1f54eb1c23",
   "metadata": {
    "tags": []
   },
   "outputs": [
    {
     "data": {
      "text/plain": [
       "[<matplotlib.lines.Line2D at 0x26202acebd0>]"
      ]
     },
     "execution_count": 24,
     "metadata": {},
     "output_type": "execute_result"
    }
   ],
   "source": [
    "plt.figure(num=18, figsize=None, dpi=None)\n",
    "plt.subplot(2, 1, 1)\n",
    "plt.plot(x, y1, label=r'$y$=sin($x$)')\n",
    "plt.plot(x, y2, label=r'$y$=cos($x$)')\n",
    "plt.subplot(2, 1, 2)\n",
    "plt.plot(x, y3, label=r'$y$=tan($x$)')"
   ]
  },
  {
   "cell_type": "code",
   "execution_count": 25,
   "id": "eae6f528-4cfe-4795-a621-21ed9b1bc5cc",
   "metadata": {
    "tags": []
   },
   "outputs": [
    {
     "data": {
      "text/plain": [
       "array([-6.28318531, -4.71238898, -3.14159265, -1.57079633,  0.        ,\n",
       "        1.57079633,  3.14159265,  4.71238898,  6.28318531])"
      ]
     },
     "execution_count": 25,
     "metadata": {},
     "output_type": "execute_result"
    }
   ],
   "source": [
    "xticks = np.linspace(start=-math.tau, stop=math.tau, num=9)\n",
    "xticks"
   ]
  },
  {
   "cell_type": "code",
   "execution_count": 26,
   "id": "74c7155a-4d05-4e7f-a68c-7727385e7384",
   "metadata": {
    "tags": []
   },
   "outputs": [
    {
     "data": {
      "text/plain": [
       "['-1.0 $\\\\tau$',\n",
       " '-0.75 $\\\\tau$',\n",
       " '-0.5 $\\\\tau$',\n",
       " '-0.25 $\\\\tau$',\n",
       " '0.0 $\\\\tau$',\n",
       " '0.25 $\\\\tau$',\n",
       " '0.5 $\\\\tau$',\n",
       " '0.75 $\\\\tau$',\n",
       " '1.0 $\\\\tau$']"
      ]
     },
     "execution_count": 26,
     "metadata": {},
     "output_type": "execute_result"
    }
   ],
   "source": [
    "xtickvalues = [f'{num/math.tau}' + r' $\\tau$' \n",
    "               for num in xticks]\n",
    "xtickvalues"
   ]
  },
  {
   "cell_type": "code",
   "execution_count": 27,
   "id": "82c218ce-9739-43fd-aacd-67a7a60f2e21",
   "metadata": {
    "tags": []
   },
   "outputs": [],
   "source": [
    "plt.figure(num=19, figsize=None, dpi=None)\n",
    "\n",
    "plt.subplot(2, 1, 1)\n",
    "plt.plot(x, y1, label=r'$y$=sin($x$)', c='royalblue')\n",
    "plt.plot(x, y2, label=r'$y$=cos($x$)', c='olivedrab')\n",
    "plt.legend(loc='lower left')\n",
    "plt.xticks(ticks=xticks, labels=xtickvalues)\n",
    "\n",
    "plt.subplot(2, 1, 2)\n",
    "plt.plot(x, y3, label=r'$y$=tan($x$)', c='tomato')\n",
    "plt.legend(loc='lower left')\n",
    "plt.xticks(ticks=xticks, labels=xtickvalues)\n",
    "\n",
    "plt.xlabel(r'$\\alpha$ (radians)')\n",
    "\n",
    "plt.tight_layout()"
   ]
  },
  {
   "cell_type": "code",
   "execution_count": 28,
   "id": "585d01d9-09f3-48a7-86a5-c6caab9d1388",
   "metadata": {
    "tags": []
   },
   "outputs": [],
   "source": [
    "import math\n",
    "x = np.linspace(start=-math.tau, stop=math.tau, num=100)\n",
    "y1 = np.sin(x)\n",
    "y2 = np.cos(x)\n",
    "y3 = np.tan(x)\n",
    "\n",
    "y4 = np.sinh(x)\n",
    "y5 = np.cosh(x)\n",
    "y6 = np.tanh(x)\n",
    "\n",
    "xticks = np.linspace(start=-math.tau, stop=math.tau, num=5)\n",
    "xtickvalues = [f'{num/math.tau}' + r' $\\tau$' \n",
    "               for num in xticks]"
   ]
  },
  {
   "cell_type": "code",
   "execution_count": 29,
   "id": "efd87105-d732-44f2-9acc-c62b92b272d7",
   "metadata": {
    "tags": []
   },
   "outputs": [],
   "source": [
    "plt.figure(num=20, figsize=None, dpi=None)\n",
    "plt.subplot(2, 2, 1)\n",
    "plt.plot(x, y1, label=r'$y$=sin($x$)', c='royalblue')\n",
    "plt.plot(x, y2, label=r'$y$=cos($x$)', c='olivedrab')\n",
    "plt.legend(loc='lower left')\n",
    "plt.xticks(xticks, xtickvalues)\n",
    "plt.subplot(2, 2, 3)\n",
    "plt.plot(x, y3, label=r'$y$=tan($x$)', c='tomato')\n",
    "plt.legend(loc='lower left')\n",
    "plt.xticks(xticks, xtickvalues)\n",
    "plt.xlabel(r'$\\alpha$ (radians)')\n",
    "plt.subplot(2, 2, 2)\n",
    "plt.plot(x, y4, label=r'$y$=sinh($x$)', c='royalblue')\n",
    "plt.plot(x, y5, label=r'$y$=cosh($x$)', c='olivedrab')\n",
    "plt.legend(loc='lower right')\n",
    "plt.xticks(xticks, xtickvalues)\n",
    "plt.subplot(2, 2, 4)\n",
    "plt.plot(x, y6, label=r'$y$=tanh($x$)', c='tomato')\n",
    "plt.legend(loc='lower right')\n",
    "plt.xticks(xticks, xtickvalues)\n",
    "plt.xlabel(r'$\\alpha$ (radians)')\n",
    "plt.tight_layout()"
   ]
  },
  {
   "cell_type": "code",
   "execution_count": 30,
   "id": "1ae52a04-0de1-46c0-88c4-4161de1698c2",
   "metadata": {
    "tags": []
   },
   "outputs": [],
   "source": [
    "plt.figure(num=21, figsize=None, dpi=None)\n",
    "plt.subplot(2, 2, 1)\n",
    "plt.plot(x, y1, label=r'$y$=sin($x$)', c='royalblue')\n",
    "plt.plot(x, y2, label=r'$y$=cos($x$)', c='olivedrab')\n",
    "plt.legend(loc='lower left')\n",
    "plt.xticks(xticks, xtickvalues)\n",
    "plt.subplot(2, 2, 3)\n",
    "plt.plot(x, y3, label=r'$y$=tan($x$)', c='tomato')\n",
    "plt.legend(loc='lower left')\n",
    "plt.xticks(xticks, xtickvalues)\n",
    "plt.xlabel(r'$\\alpha$ (radians)')\n",
    "plt.subplot(2, 2, 2)\n",
    "plt.plot(x, y4, label=r'$y$=sinh($x$)', c='royalblue')\n",
    "plt.plot(x, y5, label=r'$y$=cosh($x$)', c='olivedrab')\n",
    "plt.legend(loc='lower right')\n",
    "plt.xticks(xticks, xtickvalues)\n",
    "plt.subplot(2, 2, 4)\n",
    "plt.plot(x, y6, label=r'$y$=tanh($x$)', c='tomato')\n",
    "plt.legend(loc='lower right')\n",
    "plt.xticks(xticks, xtickvalues)\n",
    "plt.xlabel(r'$\\alpha$ (radians)')\n",
    "plt.tight_layout()\n",
    "plt.savefig('trigonmetricplots.png')\n",
    "plt.close('all')"
   ]
  },
  {
   "cell_type": "code",
   "execution_count": 31,
   "id": "e685799a-14a7-4bca-a062-3c6cd365410c",
   "metadata": {
    "tags": []
   },
   "outputs": [],
   "source": [
    "x = np.linspace(start=-5, stop=5, num=100)\n",
    "y1 = x\n",
    "y2 = x ** 2\n",
    "y3 = x ** 3"
   ]
  },
  {
   "cell_type": "code",
   "execution_count": 32,
   "id": "186df679-f637-4f5c-9981-a7cf8004269b",
   "metadata": {
    "tags": []
   },
   "outputs": [],
   "source": [
    "fig = plt.figure(num=21, figsize=None, dpi=None)"
   ]
  },
  {
   "cell_type": "code",
   "execution_count": 33,
   "id": "3f8affeb-4522-4376-938e-abe0f2ada5cf",
   "metadata": {
    "tags": []
   },
   "outputs": [],
   "source": [
    "fig = plt.figure(num=22, figsize=None, dpi=None)\n",
    "ax1 = fig.add_axes(rect=(0, 0, 1, 1))"
   ]
  },
  {
   "cell_type": "code",
   "execution_count": 34,
   "id": "670b16c7-b5ce-49b7-b161-1054076e625a",
   "metadata": {
    "tags": []
   },
   "outputs": [],
   "source": [
    "fig = plt.figure(num=23, figsize=None, dpi=None)\n",
    "ax1 = fig.add_axes(rect=(0, 0, 1, 1))\n",
    "lines1 = ax1.plot(x, y1, 'lightcoral',\n",
    "                  x, y2, 'khaki', \n",
    "                  x, y3, 'slateblue')"
   ]
  },
  {
   "cell_type": "code",
   "execution_count": 35,
   "id": "8afd97e7-c672-4816-b86a-2c46d5be7bc7",
   "metadata": {
    "tags": []
   },
   "outputs": [
    {
     "data": {
      "text/plain": [
       "[<matplotlib.lines.Line2D at 0x26205914050>,\n",
       " <matplotlib.lines.Line2D at 0x262047e1790>,\n",
       " <matplotlib.lines.Line2D at 0x262047e1750>]"
      ]
     },
     "execution_count": 35,
     "metadata": {},
     "output_type": "execute_result"
    }
   ],
   "source": [
    "lines1"
   ]
  },
  {
   "cell_type": "code",
   "execution_count": 36,
   "id": "3a79d94c-c7bc-413e-86c5-5569d6abd2f8",
   "metadata": {
    "tags": []
   },
   "outputs": [],
   "source": [
    "fig = plt.figure(num=24, figsize=None, dpi=None)\n",
    "ax1 = fig.add_axes(rect=(0, 0, 1, 1))\n",
    "lines1 = ax1.plot(x, y1, 'lightcoral',\n",
    "                  x, y2, 'khaki', \n",
    "                  x, y3, 'slateblue')\n",
    "ax2 = fig.add_axes(rect=(0.2, 0.2, 0.75, 0.75))\n",
    "lines2 = ax2.plot(x, y1, 'lightcoral')\n",
    "ax3 = fig.add_axes(rect=(0.3, 0.4, 0.5, 0.4))\n",
    "lines3 = ax3.plot(x, y2, 'khaki')"
   ]
  },
  {
   "cell_type": "code",
   "execution_count": 37,
   "id": "0604d930-9816-4f83-b84c-b82355caa028",
   "metadata": {
    "tags": []
   },
   "outputs": [
    {
     "data": {
      "text/plain": [
       "<Axes: >"
      ]
     },
     "execution_count": 37,
     "metadata": {},
     "output_type": "execute_result"
    }
   ],
   "source": [
    "ax1"
   ]
  },
  {
   "cell_type": "code",
   "execution_count": 38,
   "id": "47dc4a61-1208-44bd-92cc-94fe6285416c",
   "metadata": {
    "tags": []
   },
   "outputs": [
    {
     "data": {
      "text/plain": [
       "<Axes: >"
      ]
     },
     "execution_count": 38,
     "metadata": {},
     "output_type": "execute_result"
    }
   ],
   "source": [
    "ax2"
   ]
  },
  {
   "cell_type": "code",
   "execution_count": 39,
   "id": "d2121263-27b3-4782-ad63-aa7ed402c53d",
   "metadata": {
    "tags": []
   },
   "outputs": [
    {
     "data": {
      "text/plain": [
       "<Axes: >"
      ]
     },
     "execution_count": 39,
     "metadata": {},
     "output_type": "execute_result"
    }
   ],
   "source": [
    "ax3"
   ]
  },
  {
   "cell_type": "code",
   "execution_count": 40,
   "id": "5bb6a8cf-1a86-4a94-9927-3291f8b8a70f",
   "metadata": {
    "tags": []
   },
   "outputs": [
    {
     "data": {
      "text/plain": [
       "[<Axes: >, <Axes: >, <Axes: >]"
      ]
     },
     "execution_count": 40,
     "metadata": {},
     "output_type": "execute_result"
    }
   ],
   "source": [
    "fig.axes"
   ]
  },
  {
   "cell_type": "code",
   "execution_count": 41,
   "id": "f09ef607-5102-49f1-aa63-f56c101a44ef",
   "metadata": {
    "tags": []
   },
   "outputs": [
    {
     "data": {
      "text/plain": [
       "<Axes: >"
      ]
     },
     "execution_count": 41,
     "metadata": {},
     "output_type": "execute_result"
    }
   ],
   "source": [
    "fig.axes[0]"
   ]
  },
  {
   "cell_type": "code",
   "execution_count": 42,
   "id": "50feaf40-8429-4c0f-b2ac-02a025754975",
   "metadata": {
    "tags": []
   },
   "outputs": [
    {
     "data": {
      "text/plain": [
       "True"
      ]
     },
     "execution_count": 42,
     "metadata": {},
     "output_type": "execute_result"
    }
   ],
   "source": [
    "fig.axes[0] == ax1"
   ]
  },
  {
   "cell_type": "code",
   "execution_count": 43,
   "id": "f15f5000-c226-4431-928b-353b8ed009ce",
   "metadata": {
    "tags": []
   },
   "outputs": [
    {
     "data": {
      "text/plain": [
       "[<matplotlib.lines.Line2D at 0x262047a4050>,\n",
       " <matplotlib.lines.Line2D at 0x262047a74d0>,\n",
       " <matplotlib.lines.Line2D at 0x262047a7390>]"
      ]
     },
     "execution_count": 43,
     "metadata": {},
     "output_type": "execute_result"
    }
   ],
   "source": [
    "lines1"
   ]
  },
  {
   "cell_type": "code",
   "execution_count": 44,
   "id": "84b4b035-55c7-4dbb-afce-7494f7477e65",
   "metadata": {
    "tags": []
   },
   "outputs": [
    {
     "data": {
      "text/plain": [
       "[<matplotlib.lines.Line2D at 0x2620457a210>]"
      ]
     },
     "execution_count": 44,
     "metadata": {},
     "output_type": "execute_result"
    }
   ],
   "source": [
    "lines2"
   ]
  },
  {
   "cell_type": "code",
   "execution_count": 45,
   "id": "0eec8b22-55ba-4026-a4cc-a4507d98b5d8",
   "metadata": {
    "tags": []
   },
   "outputs": [
    {
     "data": {
      "text/plain": [
       "[<matplotlib.lines.Line2D at 0x26204616050>]"
      ]
     },
     "execution_count": 45,
     "metadata": {},
     "output_type": "execute_result"
    }
   ],
   "source": [
    "lines3"
   ]
  },
  {
   "cell_type": "code",
   "execution_count": 46,
   "id": "d972157d-026d-409b-a931-0df97ee2ab44",
   "metadata": {
    "tags": []
   },
   "outputs": [
    {
     "data": {
      "text/plain": [
       "<Axes.ArtistList of 3 lines>"
      ]
     },
     "execution_count": 46,
     "metadata": {},
     "output_type": "execute_result"
    }
   ],
   "source": [
    "ax1.lines"
   ]
  },
  {
   "cell_type": "code",
   "execution_count": 47,
   "id": "b35e4df1-0f40-4b0e-96c6-dc45e08dd281",
   "metadata": {
    "tags": []
   },
   "outputs": [
    {
     "data": {
      "text/plain": [
       "<Axes.ArtistList of 1 lines>"
      ]
     },
     "execution_count": 47,
     "metadata": {},
     "output_type": "execute_result"
    }
   ],
   "source": [
    "ax2.lines"
   ]
  },
  {
   "cell_type": "code",
   "execution_count": 48,
   "id": "15c401d2-7ec3-4575-bd62-1866ae866982",
   "metadata": {
    "tags": []
   },
   "outputs": [
    {
     "data": {
      "text/plain": [
       "<Axes.ArtistList of 1 lines>"
      ]
     },
     "execution_count": 48,
     "metadata": {},
     "output_type": "execute_result"
    }
   ],
   "source": [
    "ax3.lines"
   ]
  },
  {
   "cell_type": "code",
   "execution_count": 49,
   "id": "7d4747b9-af57-4ea5-8c12-3d53aca8a644",
   "metadata": {
    "tags": []
   },
   "outputs": [
    {
     "data": {
      "text/plain": [
       "<matplotlib.lines.Line2D at 0x26204616050>"
      ]
     },
     "execution_count": 49,
     "metadata": {},
     "output_type": "execute_result"
    }
   ],
   "source": [
    "ax3.lines[0]"
   ]
  },
  {
   "cell_type": "code",
   "execution_count": 50,
   "id": "47a7a05e-ea18-42d8-bc45-d72d9598da2f",
   "metadata": {
    "tags": []
   },
   "outputs": [
    {
     "data": {
      "text/plain": [
       "[<matplotlib.lines.Line2D at 0x26204617ad0>]"
      ]
     },
     "execution_count": 50,
     "metadata": {},
     "output_type": "execute_result"
    }
   ],
   "source": [
    "plt.figure(num=25, figsize=None, dpi=None)\n",
    "figa = plt.gcf()\n",
    "plt.subplot(2, 2, 1)\n",
    "ax1a = plt.gca()\n",
    "ax1b = fig.gca()\n",
    "plt.subplot(2, 2, 2)\n",
    "ax2a = plt.gca()\n",
    "ax2b = fig.gca()\n",
    "plt.figure(num=26, figsize=None, dpi=None)\n",
    "figb = plt.figure(num=25)\n",
    "ax2c = plt.gca()\n",
    "ax2d = fig.gca()\n",
    "ax2e = fig.axes[1]\n",
    "ax1c = fig.axes[0]\n",
    "plt.figure(num=25)\n",
    "plt.sca(ax1a)\n",
    "figa.sca(figa.axes[0])\n",
    "plt.plot(x, y1)"
   ]
  },
  {
   "cell_type": "code",
   "execution_count": 51,
   "id": "80a11dad-2fc4-416e-ac34-f1b4119487ac",
   "metadata": {
    "tags": []
   },
   "outputs": [],
   "source": [
    "fig = plt.figure(num=27, figsize=None, dpi=None)\n",
    "ax = fig.add_axes(rect=(0.2, 0.2, 0.75, 0.75))\n",
    "lines = ax.plot(x, y1, 'lightcoral',\n",
    "                x, y2, 'khaki', \n",
    "                x, y3, 'slateblue')"
   ]
  },
  {
   "cell_type": "code",
   "execution_count": 52,
   "id": "1ffb4eca-b06d-4387-b31b-1a57f7bfa329",
   "metadata": {
    "scrolled": true,
    "tags": []
   },
   "outputs": [
    {
     "name": "stdout",
     "output_type": "stream",
     "text": [
      "    adjustable = box\n",
      "    agg_filter = None\n",
      "    alpha = None\n",
      "    anchor = C\n",
      "    animated = False\n",
      "    aspect = auto\n",
      "    autoscale_on = True\n",
      "    autoscalex_on = True\n",
      "    autoscaley_on = True\n",
      "    axes_locator = None\n",
      "    axisbelow = line\n",
      "    box_aspect = None\n",
      "    children = [<matplotlib.lines.Line2D object at 0x00000262045F...\n",
      "    clip_box = None\n",
      "    clip_on = True\n",
      "    clip_path = None\n",
      "    data_ratio = 25.0\n",
      "    default_bbox_extra_artists = [<matplotlib.spines.Spine object at 0x00000262043A...\n",
      "    facecolor or fc = (1.0, 1.0, 1.0, 1.0)\n",
      "    figure = Figure(640x480)\n",
      "    frame_on = True\n",
      "    gid = None\n",
      "    gridspec = None\n",
      "    images = <a list of 0 AxesImage objects>\n",
      "    in_layout = True\n",
      "    label = \n",
      "    legend = None\n",
      "    legend_handles_labels = ([], [])\n",
      "    lines = <a list of 3 Line2D objects>\n",
      "    mouseover = False\n",
      "    navigate = True\n",
      "    navigate_mode = None\n",
      "    path_effects = []\n",
      "    picker = None\n",
      "    position = Bbox(x0=0.2, y0=0.2, x1=0.95, y1=0.95)\n",
      "    rasterization_zorder = None\n",
      "    rasterized = False\n",
      "    renderer_cache = <matplotlib.backends.backend_agg.RendererAgg objec...\n",
      "    shared_x_axes = <matplotlib.cbook.GrouperView object at 0x00000262...\n",
      "    shared_y_axes = <matplotlib.cbook.GrouperView object at 0x00000262...\n",
      "    sketch_params = None\n",
      "    snap = None\n",
      "    subplotspec = None\n",
      "    tightbbox = Bbox(x0=80.02777777777777, y0=72.27777777777777, x...\n",
      "    title = \n",
      "    transform = IdentityTransform()\n",
      "    transformed_clip_path_and_affine = (None, None)\n",
      "    url = None\n",
      "    visible = True\n",
      "    window_extent = TransformedBbox(     Bbox(x0=0.2, y0=0.2, x1=0.95,...\n",
      "    xaxis = XAxis(128.0,96.0)\n",
      "    xaxis_transform = BlendedGenericTransform(     CompositeGenericTrans...\n",
      "    xbound = (-5.5, 5.5)\n",
      "    xgridlines = <a list of 7 Line2D gridline objects>\n",
      "    xlabel = \n",
      "    xlim = (-5.5, 5.5)\n",
      "    xmajorticklabels = [Text(-6.0, 0, '−6'), Text(-4.0, 0, '−4'), Text(-2...\n",
      "    xminorticklabels = []\n",
      "    xscale = linear\n",
      "    xticklabels = [Text(-6.0, 0, '−6'), Text(-4.0, 0, '−4'), Text(-2...\n",
      "    xticklines = <a list of 14 Line2D ticklines objects>\n",
      "    xticks = [-6. -4. -2.  0.  2.  4.]...\n",
      "    yaxis = YAxis(128.0,96.0)\n",
      "    yaxis_transform = BlendedGenericTransform(     BboxTransformTo(     ...\n",
      "    ybound = (-137.5, 137.5)\n",
      "    ygridlines = <a list of 7 Line2D gridline objects>\n",
      "    ylabel = \n",
      "    ylim = (-137.5, 137.5)\n",
      "    ymajorticklabels = [Text(0, -150.0, '−150'), Text(0, -100.0, '−100'),...\n",
      "    yminorticklabels = []\n",
      "    yscale = linear\n",
      "    yticklabels = [Text(0, -150.0, '−150'), Text(0, -100.0, '−100'),...\n",
      "    yticklines = <a list of 14 Line2D ticklines objects>\n",
      "    yticks = [-150. -100.  -50.    0.   50.  100.]...\n",
      "    zorder = 0\n"
     ]
    }
   ],
   "source": [
    "plt.getp(ax)"
   ]
  },
  {
   "cell_type": "code",
   "execution_count": 53,
   "id": "34434b7c-8dec-4015-aa5e-c0a64cee2db2",
   "metadata": {
    "tags": []
   },
   "outputs": [
    {
     "data": {
      "text/plain": [
       "[Text(0.5, 66.72222222222221, '$x$'),\n",
       " Text(74.47222222222221, 0.5, '$y$'),\n",
       " Text(0.5, 1.0, '$x$ vs $y$'),\n",
       " <matplotlib.axis.XTick at 0x262045f4e10>,\n",
       " <matplotlib.axis.XTick at 0x262043bb9d0>,\n",
       " <matplotlib.axis.XTick at 0x26205915050>,\n",
       " <matplotlib.axis.XTick at 0x262040b81d0>,\n",
       " Text(-3, 0, '-3a'),\n",
       " Text(-1, 0, '-1b'),\n",
       " Text(1, 0, '1c'),\n",
       " Text(3, 0, '3d')]"
      ]
     },
     "execution_count": 53,
     "metadata": {},
     "output_type": "execute_result"
    }
   ],
   "source": [
    "plt.setp(ax, \n",
    "         xlabel=r'$x$', \n",
    "         ylabel=r'$y$', \n",
    "         title=r'$x$ vs $y$',\n",
    "         xticks=[-3, -1, 1, 3],\n",
    "         xticklabels=['-3a', '-1b', '1c', '3d'])"
   ]
  },
  {
   "cell_type": "code",
   "execution_count": 54,
   "id": "19d207e4-57e1-4bb9-82b0-89e5d3a5f6f9",
   "metadata": {
    "scrolled": true,
    "tags": []
   },
   "outputs": [
    {
     "name": "stdout",
     "output_type": "stream",
     "text": [
      "    agg_filter = None\n",
      "    alpha = None\n",
      "    animated = False\n",
      "    antialiased or aa = True\n",
      "    bbox = Bbox(x0=-5.0, y0=-5.0, x1=5.0, y1=5.0)\n",
      "    children = []\n",
      "    clip_box = TransformedBbox(     Bbox(x0=0.0, y0=0.0, x1=1.0, ...\n",
      "    clip_on = True\n",
      "    clip_path = None\n",
      "    color or c = (0.9411764705882353, 0.5019607843137255, 0.5019607...\n",
      "    dash_capstyle = butt\n",
      "    dash_joinstyle = round\n",
      "    data = (array([-5.        , -4.8989899 , -4.7979798 , -4....\n",
      "    drawstyle or ds = default\n",
      "    figure = Figure(640x480)\n",
      "    fillstyle = full\n",
      "    gapcolor = None\n",
      "    gid = None\n",
      "    in_layout = True\n",
      "    label = _child0\n",
      "    linestyle or ls = -\n",
      "    linewidth or lw = 1.5\n",
      "    marker = None\n",
      "    markeredgecolor or mec = (0.9411764705882353, 0.5019607843137255, 0.5019607...\n",
      "    markeredgewidth or mew = 1.0\n",
      "    markerfacecolor or mfc = (0.9411764705882353, 0.5019607843137255, 0.5019607...\n",
      "    markerfacecoloralt or mfcalt = none\n",
      "    markersize or ms = 6.0\n",
      "    markevery = None\n",
      "    mouseover = False\n",
      "    path = Path(array([[-5.        , -5.        ],        [-4...\n",
      "    path_effects = []\n",
      "    picker = None\n",
      "    pickradius = 5\n",
      "    rasterized = False\n",
      "    sketch_params = None\n",
      "    snap = None\n",
      "    solid_capstyle = projecting\n",
      "    solid_joinstyle = round\n",
      "    tightbbox = Bbox(x0=149.8181818181818, y0=269.45454545454544, ...\n",
      "    transform = CompositeGenericTransform(     TransformWrapper(  ...\n",
      "    transformed_clip_path_and_affine = (None, None)\n",
      "    url = None\n",
      "    visible = True\n",
      "    window_extent = Bbox(x0=149.8181818181818, y0=269.45454545454544, ...\n",
      "    xdata = [-5.         -4.8989899  -4.7979798  -4.6969697  -...\n",
      "    xydata = [[-5.         -5.        ]  [-4.8989899  -4.898989...\n",
      "    ydata = [-5.         -4.8989899  -4.7979798  -4.6969697  -...\n",
      "    zorder = 2\n"
     ]
    }
   ],
   "source": [
    "plt.getp(ax.lines)"
   ]
  },
  {
   "cell_type": "code",
   "execution_count": 55,
   "id": "31bf8ff2-6ba1-4271-b83a-3fa455c1fc1c",
   "metadata": {
    "tags": []
   },
   "outputs": [
    {
     "data": {
      "text/plain": [
       "[None, None, None, None, None, None]"
      ]
     },
     "execution_count": 55,
     "metadata": {},
     "output_type": "execute_result"
    }
   ],
   "source": [
    "plt.setp(ax.lines, lw=3.0, ls=':')"
   ]
  },
  {
   "cell_type": "code",
   "execution_count": 56,
   "id": "6878cef0-5638-4a85-8ab2-23683690aa0e",
   "metadata": {
    "scrolled": true,
    "tags": []
   },
   "outputs": [
    {
     "name": "stdout",
     "output_type": "stream",
     "text": [
      "    agg_filter = None\n",
      "    alpha = None\n",
      "    animated = False\n",
      "    antialiased or aa = True\n",
      "    bbox = Bbox(x0=-5.0, y0=-5.0, x1=5.0, y1=5.0)\n",
      "    children = []\n",
      "    clip_box = TransformedBbox(     Bbox(x0=0.0, y0=0.0, x1=1.0, ...\n",
      "    clip_on = True\n",
      "    clip_path = None\n",
      "    color or c = (0.9411764705882353, 0.5019607843137255, 0.5019607...\n",
      "    dash_capstyle = butt\n",
      "    dash_joinstyle = round\n",
      "    data = (array([-5.        , -4.8989899 , -4.7979798 , -4....\n",
      "    drawstyle or ds = default\n",
      "    figure = Figure(640x480)\n",
      "    fillstyle = full\n",
      "    gapcolor = None\n",
      "    gid = None\n",
      "    in_layout = True\n",
      "    label = _child0\n",
      "    linestyle or ls = :\n",
      "    linewidth or lw = 3.0\n",
      "    marker = None\n",
      "    markeredgecolor or mec = (0.9411764705882353, 0.5019607843137255, 0.5019607...\n",
      "    markeredgewidth or mew = 1.0\n",
      "    markerfacecolor or mfc = (0.9411764705882353, 0.5019607843137255, 0.5019607...\n",
      "    markerfacecoloralt or mfcalt = none\n",
      "    markersize or ms = 6.0\n",
      "    markevery = None\n",
      "    mouseover = False\n",
      "    path = Path(array([[-5.        , -5.        ],        [-4...\n",
      "    path_effects = []\n",
      "    picker = None\n",
      "    pickradius = 5\n",
      "    rasterized = False\n",
      "    sketch_params = None\n",
      "    snap = None\n",
      "    solid_capstyle = projecting\n",
      "    solid_joinstyle = round\n",
      "    tightbbox = Bbox(x0=149.8181818181818, y0=269.45454545454544, ...\n",
      "    transform = CompositeGenericTransform(     TransformWrapper(  ...\n",
      "    transformed_clip_path_and_affine = (None, None)\n",
      "    url = None\n",
      "    visible = True\n",
      "    window_extent = Bbox(x0=149.8181818181818, y0=269.45454545454544, ...\n",
      "    xdata = [-5.         -4.8989899  -4.7979798  -4.6969697  -...\n",
      "    xydata = [[-5.         -5.        ]  [-4.8989899  -4.898989...\n",
      "    ydata = [-5.         -4.8989899  -4.7979798  -4.6969697  -...\n",
      "    zorder = 2\n"
     ]
    }
   ],
   "source": [
    "plt.getp(ax.lines[0])"
   ]
  },
  {
   "cell_type": "code",
   "execution_count": 57,
   "id": "1cd064a6-66c0-4b9c-870d-b0d872d05a0b",
   "metadata": {
    "tags": []
   },
   "outputs": [],
   "source": [
    "plt.setp(ax.lines[0], c='crimson', lw=5.0, ls='-')\n",
    "plt.close('all')"
   ]
  },
  {
   "cell_type": "code",
   "execution_count": 58,
   "id": "19d0b105-6ccb-4fa8-a0be-cccfa0d6de44",
   "metadata": {
    "tags": []
   },
   "outputs": [],
   "source": [
    "fig = plt.figure(num=28, figsize=None, dpi=None)\n",
    "ax1 = fig.add_subplot(2, 1, 1)\n",
    "ax2 = fig.add_subplot(2, 1, 2)"
   ]
  },
  {
   "cell_type": "code",
   "execution_count": 59,
   "id": "5a3fffc0-3707-4337-937e-50ac03fa9066",
   "metadata": {
    "tags": []
   },
   "outputs": [],
   "source": [
    "fig = plt.figure(num=29, figsize=None, dpi=None)\n",
    "ax1 = fig.add_subplot(211)\n",
    "ax2 = fig.add_subplot(212)"
   ]
  },
  {
   "cell_type": "code",
   "execution_count": 60,
   "id": "142a9b4e-645c-4c2c-ad3b-cd33960437b0",
   "metadata": {
    "tags": []
   },
   "outputs": [],
   "source": [
    "fig = plt.figure(num=30, figsize=None, dpi=None)\n",
    "ax = fig.add_subplot()"
   ]
  },
  {
   "cell_type": "code",
   "execution_count": 61,
   "id": "e4f6370d-0095-4911-a321-349951576334",
   "metadata": {
    "tags": []
   },
   "outputs": [],
   "source": [
    "fig = plt.figure(num=31, figsize=None, dpi=None)\n",
    "axarray = fig.subplots(2, 1)"
   ]
  },
  {
   "cell_type": "code",
   "execution_count": 62,
   "id": "0e087694-53a1-4a68-be40-96e0f74b5958",
   "metadata": {
    "tags": []
   },
   "outputs": [
    {
     "data": {
      "text/plain": [
       "array([<Axes: >, <Axes: >], dtype=object)"
      ]
     },
     "execution_count": 62,
     "metadata": {},
     "output_type": "execute_result"
    }
   ],
   "source": [
    "axarray"
   ]
  },
  {
   "cell_type": "code",
   "execution_count": 63,
   "id": "8c4d43cd-6754-428d-a1dd-9c73d71d63bb",
   "metadata": {
    "tags": []
   },
   "outputs": [
    {
     "data": {
      "text/plain": [
       "<Axes: >"
      ]
     },
     "execution_count": 63,
     "metadata": {},
     "output_type": "execute_result"
    }
   ],
   "source": [
    "axarray[0]"
   ]
  },
  {
   "cell_type": "code",
   "execution_count": 64,
   "id": "d32c3bbd-bde9-445f-b653-fa145dd05941",
   "metadata": {
    "tags": []
   },
   "outputs": [],
   "source": [
    "fig = plt.figure(num=32, figsize=None, dpi=None)\n",
    "axarray = fig.subplots(2, 2)"
   ]
  },
  {
   "cell_type": "code",
   "execution_count": 65,
   "id": "f67422bb-00e1-4caa-be4e-7508c2f67695",
   "metadata": {
    "tags": []
   },
   "outputs": [
    {
     "data": {
      "text/plain": [
       "array([[<Axes: >, <Axes: >],\n",
       "       [<Axes: >, <Axes: >]], dtype=object)"
      ]
     },
     "execution_count": 65,
     "metadata": {},
     "output_type": "execute_result"
    }
   ],
   "source": [
    "axarray"
   ]
  },
  {
   "cell_type": "code",
   "execution_count": 66,
   "id": "647dea2d-32ec-4996-add3-0d1e8b71315f",
   "metadata": {
    "tags": []
   },
   "outputs": [
    {
     "data": {
      "text/plain": [
       "<Axes: >"
      ]
     },
     "execution_count": 66,
     "metadata": {},
     "output_type": "execute_result"
    }
   ],
   "source": [
    "axarray[0, 1]"
   ]
  },
  {
   "cell_type": "code",
   "execution_count": 67,
   "id": "903b52b2-b6d8-4413-97d9-fa3d04015e98",
   "metadata": {
    "tags": []
   },
   "outputs": [
    {
     "data": {
      "text/plain": [
       "[<matplotlib.lines.Line2D at 0x262024c3010>]"
      ]
     },
     "execution_count": 67,
     "metadata": {},
     "output_type": "execute_result"
    }
   ],
   "source": [
    "fig = plt.figure(num=33, figsize=None, dpi=None)\n",
    "axarray = fig.subplots(2, 2)\n",
    "axarray[0, 0].plot(x, y1, c='deepskyblue')\n",
    "axarray[0, 1].plot(x, y2, c='peru')\n",
    "axarray[1, 0].plot(x, y3, c='plum')"
   ]
  },
  {
   "cell_type": "code",
   "execution_count": 68,
   "id": "a79e01dc-03f7-461d-adea-a4b80eeddca0",
   "metadata": {
    "tags": []
   },
   "outputs": [
    {
     "data": {
      "text/plain": [
       "[<matplotlib.lines.Line2D at 0x26202673bd0>]"
      ]
     },
     "execution_count": 68,
     "metadata": {},
     "output_type": "execute_result"
    }
   ],
   "source": [
    "fig, axarray = plt.subplots(2, 2, \n",
    "                       num=34, figsize=None, dpi=None)\n",
    "axarray[0, 0].plot(x, y1, c='deepskyblue')\n",
    "axarray[0, 1].plot(x, y2, c='peru')\n",
    "axarray[1, 0].plot(x, y3, c='plum')"
   ]
  },
  {
   "cell_type": "code",
   "execution_count": 69,
   "id": "e9de25b1-86e4-4fe1-aba3-04ee45193f9d",
   "metadata": {
    "tags": []
   },
   "outputs": [],
   "source": [
    "fig = plt.figure(num=35, figsize=None, dpi=None)\n",
    "axdict = fig.subplot_mosaic(mosaic=[['linear', 'quadratic'],\n",
    "                                    ['cubic', 'cubic']])"
   ]
  },
  {
   "cell_type": "code",
   "execution_count": 70,
   "id": "b4d3717f-c797-4071-abc4-472da92b4325",
   "metadata": {
    "tags": []
   },
   "outputs": [
    {
     "data": {
      "text/plain": [
       "{'linear': <Axes: label='linear'>,\n",
       " 'quadratic': <Axes: label='quadratic'>,\n",
       " 'cubic': <Axes: label='cubic'>}"
      ]
     },
     "execution_count": 70,
     "metadata": {},
     "output_type": "execute_result"
    }
   ],
   "source": [
    "axdict"
   ]
  },
  {
   "cell_type": "code",
   "execution_count": 71,
   "id": "26c3f7b9-46cc-4488-97bf-e19afd38fa7b",
   "metadata": {
    "tags": []
   },
   "outputs": [
    {
     "data": {
      "text/plain": [
       "[<matplotlib.lines.Line2D at 0x262025b7790>]"
      ]
     },
     "execution_count": 71,
     "metadata": {},
     "output_type": "execute_result"
    }
   ],
   "source": [
    "fig = plt.figure(num=36, figsize=None, dpi=None)\n",
    "axdict = fig.subplot_mosaic(mosaic=[['linear', 'quadratic'],\n",
    "                                    ['cubic', 'cubic']])\n",
    "axdict['linear'].plot(x, y1, c='deepskyblue')\n",
    "axdict['quadratic'].plot(x, y2, c='peru')\n",
    "axdict['cubic'].plot(x, y3, c='plum')"
   ]
  },
  {
   "cell_type": "code",
   "execution_count": 72,
   "id": "0d22e316-91d2-4f72-bc97-7c0fc66491f3",
   "metadata": {
    "tags": []
   },
   "outputs": [
    {
     "data": {
      "text/plain": [
       "[<matplotlib.lines.Line2D at 0x262058fa850>]"
      ]
     },
     "execution_count": 72,
     "metadata": {},
     "output_type": "execute_result"
    }
   ],
   "source": [
    "fig, axdict = plt.subplot_mosaic(mosaic=[['linear', 'quadratic'],\n",
    "                                         ['cubic', 'cubic']],\n",
    "                                 num=37, figsize=None, dpi=None)\n",
    "axdict['linear'].plot(x, y1, c='deepskyblue')\n",
    "axdict['quadratic'].plot(x, y2, c='peru')\n",
    "axdict['cubic'].plot(x, y3, c='plum')"
   ]
  },
  {
   "cell_type": "code",
   "execution_count": 73,
   "id": "7d9967df-d240-4ef9-99a1-065ea0462ec5",
   "metadata": {
    "tags": []
   },
   "outputs": [],
   "source": [
    "axdictprop = {'linear': {'xlabel': 'x', 'ylabel': 'y1'},\n",
    "              'quadratic': {'xlabel': 'x', 'ylabel': 'y2'},\n",
    "              'cubic': {'xlabel': 'x', 'ylabel': 'y3'}}\n",
    "\n",
    "fig, axdict = plt.subplot_mosaic(mosaic=[['linear', 'quadratic'],\n",
    "                                         ['cubic', 'cubic']],\n",
    "                                 per_subplot_kw=axdictprop,\n",
    "                                 num=38, figsize=None, dpi=None)\n",
    "axdict['linear'].plot(x, y1, c='deepskyblue')\n",
    "axdict['quadratic'].plot(x, y2, c='peru')\n",
    "axdict['cubic'].plot(x, y3, c='plum')\n",
    "fig.tight_layout()"
   ]
  },
  {
   "cell_type": "code",
   "execution_count": 74,
   "id": "26620f29-a56a-451a-b07c-7a22e2ec81cb",
   "metadata": {
    "scrolled": true,
    "tags": []
   },
   "outputs": [
    {
     "name": "stdout",
     "output_type": "stream",
     "text": [
      "    adjustable = box\n",
      "    agg_filter = None\n",
      "    alpha = None\n",
      "    anchor = C\n",
      "    animated = False\n",
      "    aspect = auto\n",
      "    autoscale_on = True\n",
      "    autoscalex_on = True\n",
      "    autoscaley_on = True\n",
      "    axes_locator = None\n",
      "    axisbelow = line\n",
      "    box_aspect = None\n",
      "    children = [<matplotlib.lines.Line2D object at 0x000002620586...\n",
      "    clip_box = None\n",
      "    clip_on = True\n",
      "    clip_path = None\n",
      "    data_ratio = 1.0\n",
      "    default_bbox_extra_artists = [<matplotlib.spines.Spine object at 0x00000262058F...\n",
      "    facecolor or fc = (1.0, 1.0, 1.0, 1.0)\n",
      "    figure = Figure(640x480)\n",
      "    frame_on = True\n",
      "    gid = None\n",
      "    gridspec = GridSpec(2, 2)\n",
      "    images = <a list of 0 AxesImage objects>\n",
      "    in_layout = True\n",
      "    label = linear\n",
      "    legend = None\n",
      "    legend_handles_labels = ([], [])\n",
      "    lines = <a list of 1 Line2D objects>\n",
      "    mouseover = False\n",
      "    navigate = True\n",
      "    navigate_mode = None\n",
      "    path_effects = []\n",
      "    picker = None\n",
      "    position = Bbox(x0=0.12894965277777778, y0=0.6057870370370371...\n",
      "    rasterization_zorder = None\n",
      "    rasterized = False\n",
      "    renderer_cache = <matplotlib.backends.backend_agg.RendererAgg objec...\n",
      "    shared_x_axes = <matplotlib.cbook.GrouperView object at 0x00000262...\n",
      "    shared_y_axes = <matplotlib.cbook.GrouperView object at 0x00000262...\n",
      "    sketch_params = None\n",
      "    snap = None\n",
      "    subplotspec = GridSpec(2, 2)[0:1, 0:1]\n",
      "    tightbbox = Bbox(x0=32.75, y0=247.5, x1=322.1157676976375, y1=...\n",
      "    title = \n",
      "    transform = IdentityTransform()\n",
      "    transformed_clip_path_and_affine = (None, None)\n",
      "    url = None\n",
      "    visible = True\n",
      "    window_extent = TransformedBbox(     Bbox(x0=0.12894965277777778, ...\n",
      "    xaxis = XAxis(82.52777777777779,290.77777777777777)\n",
      "    xaxis_transform = BlendedGenericTransform(     CompositeGenericTrans...\n",
      "    xbound = (-5.5, 5.5)\n",
      "    xgridlines = <a list of 7 Line2D gridline objects>\n",
      "    xlabel = x\n",
      "    xlim = (-5.5, 5.5)\n",
      "    xmajorticklabels = [Text(-7.5, 0, '−7.5'), Text(-5.0, 0, '−5.0'), Tex...\n",
      "    xminorticklabels = []\n",
      "    xscale = linear\n",
      "    xticklabels = [Text(-7.5, 0, '−7.5'), Text(-5.0, 0, '−5.0'), Tex...\n",
      "    xticklines = <a list of 14 Line2D ticklines objects>\n",
      "    xticks = [-7.5 -5.  -2.5  0.   2.5  5. ]...\n",
      "    yaxis = YAxis(82.52777777777779,290.77777777777777)\n",
      "    yaxis_transform = BlendedGenericTransform(     BboxTransformTo(     ...\n",
      "    ybound = (-5.5, 5.5)\n",
      "    ygridlines = <a list of 7 Line2D gridline objects>\n",
      "    ylabel = y1\n",
      "    ylim = (-5.5, 5.5)\n",
      "    ymajorticklabels = [Text(0, -6.0, '−6'), Text(0, -4.0, '−4'), Text(0,...\n",
      "    yminorticklabels = []\n",
      "    yscale = linear\n",
      "    yticklabels = [Text(0, -6.0, '−6'), Text(0, -4.0, '−4'), Text(0,...\n",
      "    yticklines = <a list of 14 Line2D ticklines objects>\n",
      "    yticks = [-6. -4. -2.  0.  2.  4.]...\n",
      "    zorder = 0\n"
     ]
    }
   ],
   "source": [
    "plt.getp(axdict['linear'])"
   ]
  },
  {
   "cell_type": "code",
   "execution_count": 75,
   "id": "433391dc-e60c-4780-a48a-d6d9cdf13e7b",
   "metadata": {
    "tags": []
   },
   "outputs": [],
   "source": [
    "axdictprop = {'linear': {'xlabel': 'x', 'ylabel': 'y1'},\n",
    "              'quadratic': {'xlabel': 'x', 'ylabel': 'y2'},\n",
    "              'cubic': {'xlabel': 'x', 'ylabel': 'y3'}}\n",
    "\n",
    "fig, axdict = plt.subplot_mosaic(mosaic=[['linear', 'quadratic'],\n",
    "                                         ['cubic', 'cubic']],\n",
    "                                 per_subplot_kw=axdictprop,\n",
    "                                 num=39, figsize=None, dpi=None)\n",
    "axdict['linear'].plot(x, y1, c='deepskyblue')\n",
    "axdict['quadratic'].plot(x, y2, c='peru')\n",
    "axdict['cubic'].plot(x, y3, c='plum')\n",
    "plt.subplots_adjust(left=0.12, bottom=0.12, \n",
    "                    right=0.98, top=1.0,\n",
    "                    wspace=0.4, hspace=0.3)"
   ]
  },
  {
   "cell_type": "code",
   "execution_count": 76,
   "id": "a80ed941-b223-487f-926f-002419338178",
   "metadata": {
    "tags": []
   },
   "outputs": [
    {
     "data": {
      "text/plain": [
       "[<matplotlib.lines.Line2D at 0x26204813e10>]"
      ]
     },
     "execution_count": 76,
     "metadata": {},
     "output_type": "execute_result"
    }
   ],
   "source": [
    "fig = plt.figure(num=40, figsize=None, dpi=None)\n",
    "axpolar = fig.add_subplot(111, projection='polar')\n",
    "axpolar.plot(0*math.tau/8, 1, color='royalblue', \n",
    "             ls=None, marker='o', markersize=10)\n",
    "axpolar.plot(1*math.tau/8, 1, color='gold', \n",
    "             ls=None, marker='s', markersize=10)\n",
    "axpolar.plot(2*math.tau/8, 1, color='forestgreen', \n",
    "             ls=None, marker='p', markersize=10)\n",
    "axpolar.plot(3*math.tau/8, 1, color='salmon', \n",
    "             ls=None, marker='h', markersize=10)\n",
    "axpolar.plot(4*math.tau/8, 1, color='violet', \n",
    "             ls=None, marker='8', markersize=10)\n",
    "axpolar.plot(5*math.tau/8, 1, color='peru', \n",
    "             ls=None, marker='X', markersize=10)\n",
    "axpolar.plot(6*math.tau/8, 1, color='deeppink', \n",
    "             ls=None, marker='*', markersize=10)\n",
    "axpolar.plot(7*math.tau/8, 1, color='slategray', \n",
    "             ls=None, marker='P', markersize=10)"
   ]
  },
  {
   "cell_type": "code",
   "execution_count": 77,
   "id": "8aebe8f5-7617-42d5-8404-7ab25596aaa9",
   "metadata": {
    "scrolled": true,
    "tags": []
   },
   "outputs": [
    {
     "name": "stdout",
     "output_type": "stream",
     "text": [
      "    adjustable = box\n",
      "    agg_filter = None\n",
      "    alpha = None\n",
      "    anchor = C\n",
      "    animated = False\n",
      "    aspect = 1.0\n",
      "    autoscale_on = False\n",
      "    autoscalex_on = False\n",
      "    autoscaley_on = True\n",
      "    axes_locator = None\n",
      "    axisbelow = line\n",
      "    box_aspect = None\n",
      "    children = [<matplotlib.lines.Line2D object at 0x000002620299...\n",
      "    clip_box = None\n",
      "    clip_on = True\n",
      "    clip_path = None\n",
      "    data_ratio = 1.0\n",
      "    default_bbox_extra_artists = [<matplotlib.spines.Spine object at 0x000002620280...\n",
      "    facecolor or fc = (1.0, 1.0, 1.0, 1.0)\n",
      "    figure = Figure(640x480)\n",
      "    frame_on = True\n",
      "    gid = None\n",
      "    gridspec = GridSpec(1, 1)\n",
      "    images = <a list of 0 AxesImage objects>\n",
      "    in_layout = True\n",
      "    label = \n",
      "    legend = None\n",
      "    legend_handles_labels = ([], [])\n",
      "    lines = <a list of 8 Line2D objects>\n",
      "    mouseover = False\n",
      "    navigate = True\n",
      "    navigate_mode = None\n",
      "    path_effects = []\n",
      "    picker = None\n",
      "    position = Bbox(x0=0.22375, y0=0.10999999999999999, x1=0.8012...\n",
      "    rasterization_zorder = None\n",
      "    rasterized = False\n",
      "    renderer_cache = <matplotlib.backends.backend_agg.RendererAgg objec...\n",
      "    rlabel_position = 22.5\n",
      "    rmax = 1.0550000000000002\n",
      "    rmin = 0.0\n",
      "    rorigin = 0.0\n",
      "    rsign = 1.0\n",
      "    shared_x_axes = <matplotlib.cbook.GrouperView object at 0x00000262...\n",
      "    shared_y_axes = <matplotlib.cbook.GrouperView object at 0x00000262...\n",
      "    sketch_params = None\n",
      "    snap = None\n",
      "    subplotspec = GridSpec(1, 1)[0:1, 0:1]\n",
      "    theta_direction = 1.0\n",
      "    theta_offset = 0.0\n",
      "    thetamax = 360.0\n",
      "    thetamin = 0.0\n",
      "    tightbbox = Bbox(x0=106.94305555555553, y0=26.355555555555497,...\n",
      "    title = \n",
      "    transform = IdentityTransform()\n",
      "    transformed_clip_path_and_affine = (None, None)\n",
      "    url = None\n",
      "    visible = True\n",
      "    window_extent = TransformedBbox(     Bbox(x0=0.22375, y0=0.1099999...\n",
      "    xaxis = ThetaAxis(143.2,52.8)\n",
      "    xaxis_transform = CompositeGenericTransform(     BlendedAffine2D(   ...\n",
      "    xbound = (0.0, 6.283185307179586)\n",
      "    xgridlines = <a list of 8 Line2D gridline objects>\n",
      "    xlabel = \n",
      "    xlim = (0.0, 6.283185307179586)\n",
      "    xmajorticklabels = [Text(0.0, 0, '0°'), Text(0.7853981633974483, 0, '...\n",
      "    xminorticklabels = []\n",
      "    xscale = linear\n",
      "    xticklabels = [Text(0.0, 0, '0°'), Text(0.7853981633974483, 0, '...\n",
      "    xticklines = <a list of 16 Line2D ticklines objects>\n",
      "    xticks = [0.         0.78539816 1.57079633 2.35619449 3.141...\n",
      "    yaxis = RadialAxis(143.2,52.8)\n",
      "    yaxis_transform = CompositeGenericTransform(     BlendedAffine2D(   ...\n",
      "    ybound = (0.0, 1.0550000000000002)\n",
      "    ygridlines = <a list of 6 Line2D gridline objects>\n",
      "    ylabel = \n",
      "    ylim = (0.0, 1.0550000000000002)\n",
      "    ymajorticklabels = [Text(0, 0.2, '0.2'), Text(0, 0.4, '0.4'), Text(0,...\n",
      "    yminorticklabels = []\n",
      "    yscale = linear\n",
      "    yticklabels = [Text(0, 0.2, '0.2'), Text(0, 0.4, '0.4'), Text(0,...\n",
      "    yticklines = <a list of 12 Line2D ticklines objects>\n",
      "    yticks = [0.2, 0.4, 0.6000000000000001, 0.8, 1.0, 1.2000000...\n",
      "    zorder = 0\n"
     ]
    }
   ],
   "source": [
    "plt.getp(axpolar)"
   ]
  },
  {
   "cell_type": "code",
   "execution_count": 78,
   "id": "93f90f5c-ff5e-4d62-86fb-d68f2300b6ae",
   "metadata": {
    "tags": []
   },
   "outputs": [
    {
     "data": {
      "text/plain": [
       "['0.0$\\\\tau$',\n",
       " '0.125$\\\\tau$',\n",
       " '0.25$\\\\tau$',\n",
       " '0.375$\\\\tau$',\n",
       " '0.5$\\\\tau$',\n",
       " '0.625$\\\\tau$',\n",
       " '0.75$\\\\tau$',\n",
       " '0.875$\\\\tau$']"
      ]
     },
     "execution_count": 78,
     "metadata": {},
     "output_type": "execute_result"
    }
   ],
   "source": [
    "[f'{num/math.tau}'+r'$\\tau$' for num in axpolar.get_xticks()]"
   ]
  },
  {
   "cell_type": "code",
   "execution_count": 79,
   "id": "d4dadfd2-eaf7-4d7e-b791-b8c8d7b256e3",
   "metadata": {
    "tags": []
   },
   "outputs": [
    {
     "name": "stderr",
     "output_type": "stream",
     "text": [
      "C:\\Users\\Philip\\AppData\\Local\\Temp\\ipykernel_2692\\1025846967.py:1: UserWarning: FixedFormatter should only be used together with FixedLocator\n",
      "  plt.setp(axpolar, xticklabels=[f'{num/math.tau}'+r'$\\tau$'\n"
     ]
    },
    {
     "data": {
      "text/plain": [
       "[Text(0.0, 0, '0.0$\\\\tau$'),\n",
       " Text(0.7853981633974483, 0, '0.125$\\\\tau$'),\n",
       " Text(1.5707963267948966, 0, '0.25$\\\\tau$'),\n",
       " Text(2.356194490192345, 0, '0.375$\\\\tau$'),\n",
       " Text(3.141592653589793, 0, '0.5$\\\\tau$'),\n",
       " Text(3.9269908169872414, 0, '0.625$\\\\tau$'),\n",
       " Text(4.71238898038469, 0, '0.75$\\\\tau$'),\n",
       " Text(5.497787143782138, 0, '0.875$\\\\tau$')]"
      ]
     },
     "execution_count": 79,
     "metadata": {},
     "output_type": "execute_result"
    }
   ],
   "source": [
    "plt.setp(axpolar, xticklabels=[f'{num/math.tau}'+r'$\\tau$' \n",
    "                              for \n",
    "                              num \n",
    "                              in \n",
    "                              axpolar.get_xticks()])"
   ]
  },
  {
   "cell_type": "code",
   "execution_count": 80,
   "id": "0700b21c-725e-47c7-a9af-719a0d5655ce",
   "metadata": {
    "tags": []
   },
   "outputs": [
    {
     "data": {
      "text/plain": [
       "['$\\\\frac{0}{8}\\\\tau$',\n",
       " '$\\\\frac{1}{8}\\\\tau$',\n",
       " '$\\\\frac{2}{8}\\\\tau$',\n",
       " '$\\\\frac{3}{8}\\\\tau$',\n",
       " '$\\\\frac{4}{8}\\\\tau$',\n",
       " '$\\\\frac{5}{8}\\\\tau$',\n",
       " '$\\\\frac{6}{8}\\\\tau$',\n",
       " '$\\\\frac{7}{8}\\\\tau$']"
      ]
     },
     "execution_count": 80,
     "metadata": {},
     "output_type": "execute_result"
    }
   ],
   "source": [
    "[r'$\\frac{'+f'{num}'+r'}{8}\\tau$' for num in range(8)]"
   ]
  },
  {
   "cell_type": "code",
   "execution_count": 81,
   "id": "3fd653af-cdb0-4c3e-9ed2-3ced79bbee62",
   "metadata": {
    "tags": []
   },
   "outputs": [
    {
     "name": "stderr",
     "output_type": "stream",
     "text": [
      "C:\\Users\\Philip\\AppData\\Local\\Temp\\ipykernel_2692\\1682766073.py:1: UserWarning: FixedFormatter should only be used together with FixedLocator\n",
      "  plt.setp(axpolar, xticklabels=[r'$\\frac{'+f'{num}'+r'}{8}\\tau$'\n"
     ]
    },
    {
     "data": {
      "text/plain": [
       "[Text(0.0, 0, '$\\\\frac{0}{8}\\\\tau$'),\n",
       " Text(0.7853981633974483, 0, '$\\\\frac{1}{8}\\\\tau$'),\n",
       " Text(1.5707963267948966, 0, '$\\\\frac{2}{8}\\\\tau$'),\n",
       " Text(2.356194490192345, 0, '$\\\\frac{3}{8}\\\\tau$'),\n",
       " Text(3.141592653589793, 0, '$\\\\frac{4}{8}\\\\tau$'),\n",
       " Text(3.9269908169872414, 0, '$\\\\frac{5}{8}\\\\tau$'),\n",
       " Text(4.71238898038469, 0, '$\\\\frac{6}{8}\\\\tau$'),\n",
       " Text(5.497787143782138, 0, '$\\\\frac{7}{8}\\\\tau$')]"
      ]
     },
     "execution_count": 81,
     "metadata": {},
     "output_type": "execute_result"
    }
   ],
   "source": [
    "plt.setp(axpolar, xticklabels=[r'$\\frac{'+f'{num}'+r'}{8}\\tau$' \n",
    "                              for \n",
    "                              num \n",
    "                              in \n",
    "                              range(8)])"
   ]
  },
  {
   "cell_type": "code",
   "execution_count": 82,
   "id": "d29e536e-3d6e-4221-bc24-9c21e0635185",
   "metadata": {},
   "outputs": [],
   "source": [
    "plt.setp(axpolar, xticks=axpolar.get_xticks(),\n",
    "         xticklabels=[r'$\\frac{'+f'{num}'+r'}{8}\\tau$' \n",
    "                     for \n",
    "                     num \n",
    "                     in \n",
    "                     range(8)])\n",
    "\n",
    "plt.close('all')"
   ]
  },
  {
   "cell_type": "code",
   "execution_count": 83,
   "id": "4109356b-03de-4863-946a-535d0a8afde9",
   "metadata": {
    "tags": []
   },
   "outputs": [],
   "source": [
    "fig = plt.figure(num=41, figsize=None, dpi=None)\n",
    "ax3d = fig.add_subplot(111, projection='3d')"
   ]
  },
  {
   "cell_type": "code",
   "execution_count": 84,
   "id": "012b85c6-faf3-4c56-91cf-eb7808c839f9",
   "metadata": {
    "scrolled": true,
    "tags": []
   },
   "outputs": [
    {
     "name": "stdout",
     "output_type": "stream",
     "text": [
      "    adjustable = box\n",
      "    agg_filter = None\n",
      "    alpha = None\n",
      "    anchor = C\n",
      "    animated = False\n",
      "    aspect = auto\n",
      "    autoscale_on = True\n",
      "    autoscalex_on = True\n",
      "    autoscaley_on = True\n",
      "    autoscalez_on = True\n",
      "    axes_locator = None\n",
      "    axisbelow = line\n",
      "    box_aspect = [1.14285715 1.14285715 0.85714286]\n",
      "    children = [<matplotlib.spines.Spine object at 0x000002620715...\n",
      "    clip_box = None\n",
      "    clip_on = True\n",
      "    clip_path = None\n",
      "    data_ratio = 1.0\n",
      "    default_bbox_extra_artists = [<matplotlib.patches.Rectangle object at 0x0000026...\n",
      "    facecolor or fc = (1.0, 1.0, 1.0, 1.0)\n",
      "    figure = Figure(640x480)\n",
      "    frame_on = True\n",
      "    gid = None\n",
      "    gridspec = GridSpec(1, 1)\n",
      "    images = <a list of 0 AxesImage objects>\n",
      "    in_layout = True\n",
      "    label = \n",
      "    legend = None\n",
      "    legend_handles_labels = ([], [])\n",
      "    lines = <a list of 0 Line2D objects>\n",
      "    mouseover = False\n",
      "    navigate = True\n",
      "    navigate_mode = None\n",
      "    path_effects = []\n",
      "    picker = None\n",
      "    position = Bbox(x0=0.22375, y0=0.10999999999999999, x1=0.8012...\n",
      "    proj = [[  0.98974332   0.57142857   0.          -0.78058...\n",
      "    rasterization_zorder = None\n",
      "    rasterized = False\n",
      "    renderer_cache = <matplotlib.backends.backend_agg.RendererAgg objec...\n",
      "    shared_x_axes = <matplotlib.cbook.GrouperView object at 0x00000262...\n",
      "    shared_y_axes = <matplotlib.cbook.GrouperView object at 0x00000262...\n",
      "    sketch_params = None\n",
      "    snap = None\n",
      "    subplotspec = GridSpec(1, 1)[0:1, 0:1]\n",
      "    tightbbox = Bbox(x0=143.2, y0=52.8, x1=512.8, y1=422.4)\n",
      "    title = \n",
      "    transform = IdentityTransform()\n",
      "    transformed_clip_path_and_affine = (None, None)\n",
      "    url = None\n",
      "    visible = True\n",
      "    w_lims = (0.0, 1.0, 0.0, 1.0, 0.0, 1.0)\n",
      "    window_extent = TransformedBbox(     Bbox(x0=0.22375, y0=0.1099999...\n",
      "    xaxis = XAxis(143.2,52.8)\n",
      "    xaxis_transform = BlendedGenericTransform(     CompositeGenericTrans...\n",
      "    xbound = (0.0, 1.0)\n",
      "    xgridlines = <a list of 6 Line2D gridline objects>\n",
      "    xlabel = \n",
      "    xlim or xlim3d = (0.0, 1.0)\n",
      "    xmajorticklabels = [Text(0.0, 0, '0.0'), Text(0.2, 0, '0.2'), Text(0....\n",
      "    xminorticklabels = []\n",
      "    xscale = linear\n",
      "    xticklabels = [Text(0.0, 0, '0.0'), Text(0.2, 0, '0.2'), Text(0....\n",
      "    xticklines = <a list of 12 Line2D ticklines objects>\n",
      "    xticks = [0.  0.2 0.4 0.6 0.8 1. ]\n",
      "    yaxis = YAxis(143.2,52.8)\n",
      "    yaxis_transform = BlendedGenericTransform(     BboxTransformTo(     ...\n",
      "    ybound = (0.0, 1.0)\n",
      "    ygridlines = <a list of 6 Line2D gridline objects>\n",
      "    ylabel = \n",
      "    ylim or ylim3d = (0.0, 1.0)\n",
      "    ymajorticklabels = [Text(0.0, 0, '0.0'), Text(0.2, 0, '0.2'), Text(0....\n",
      "    yminorticklabels = []\n",
      "    yscale = linear\n",
      "    yticklabels = [Text(0.0, 0, '0.0'), Text(0.2, 0, '0.2'), Text(0....\n",
      "    yticklines = <a list of 12 Line2D ticklines objects>\n",
      "    yticks = [0.  0.2 0.4 0.6 0.8 1. ]\n",
      "    zaxis = ZAxis(143.2,52.8)\n",
      "    zbound = (0.0, 1.0)\n",
      "    zgridlines = <a list of 6 Line2D gridline objects>\n",
      "    zlabel = \n",
      "    zlim or zlim3d = (0.0, 1.0)\n",
      "    zmajorticklabels = [Text(0.0, 0, '0.0'), Text(0.2, 0, '0.2'), Text(0....\n",
      "    zminorticklabels = []\n",
      "    zorder = 0\n",
      "    zscale = linear\n",
      "    zticklabels = [Text(0.0, 0, '0.0'), Text(0.2, 0, '0.2'), Text(0....\n",
      "    zticklines = <a list of 12 Line2D ticklines objects>\n",
      "    zticks = [0.  0.2 0.4 0.6 0.8 1. ]\n"
     ]
    }
   ],
   "source": [
    "plt.getp(ax3d)"
   ]
  },
  {
   "cell_type": "code",
   "execution_count": 85,
   "id": "1fbfcead-9645-403b-8328-6be01beba3fa",
   "metadata": {
    "tags": []
   },
   "outputs": [
    {
     "data": {
      "text/plain": [
       "-60"
      ]
     },
     "execution_count": 85,
     "metadata": {},
     "output_type": "execute_result"
    }
   ],
   "source": [
    "ax3d.azim"
   ]
  },
  {
   "cell_type": "code",
   "execution_count": 86,
   "id": "067976f6-2d98-4fbe-9ed2-02e97a4afb02",
   "metadata": {
    "tags": []
   },
   "outputs": [
    {
     "data": {
      "text/plain": [
       "30"
      ]
     },
     "execution_count": 86,
     "metadata": {},
     "output_type": "execute_result"
    }
   ],
   "source": [
    "ax3d.elev"
   ]
  },
  {
   "cell_type": "code",
   "execution_count": 87,
   "id": "a7b57560-417c-4865-b99d-3bd22e498710",
   "metadata": {
    "tags": []
   },
   "outputs": [],
   "source": [
    "xrow = np.array([5, 6, 7, 8, 9])[np.newaxis, :]"
   ]
  },
  {
   "cell_type": "code",
   "execution_count": 88,
   "id": "bb42b3e7-d55e-4868-ba31-f195875b00fb",
   "metadata": {
    "tags": []
   },
   "outputs": [],
   "source": [
    "ycol = np.array([1, 2, 3, 4])[:, np.newaxis]"
   ]
  },
  {
   "cell_type": "code",
   "execution_count": 89,
   "id": "13bc1199-5e29-4083-9028-2b476b435a19",
   "metadata": {
    "tags": []
   },
   "outputs": [],
   "source": [
    "zmat = np.array([[0, 1, 1, 1, 0],\n",
    "                 [1, 2, 3, 2, 1],\n",
    "                 [1, 2, 3, 2, 1],\n",
    "                 [0, 1, 1, 1, 0]])"
   ]
  },
  {
   "cell_type": "code",
   "execution_count": 90,
   "id": "1bcfdc83-6c7a-424b-9e80-51eb8fa67139",
   "metadata": {
    "tags": []
   },
   "outputs": [],
   "source": [
    "xmat, ymat = np.meshgrid(xrow, ycol)"
   ]
  },
  {
   "cell_type": "code",
   "execution_count": 91,
   "id": "42b49cc0-7217-4e72-a586-1ebb56586502",
   "metadata": {
    "tags": []
   },
   "outputs": [],
   "source": [
    "xrow = np.linspace(-2, 2, 10)[np.newaxis, :]\n",
    "ycol = np.linspace(-2, 2, 10)[:, np.newaxis]\n",
    "xmat, ymat = np.meshgrid(xrow, ycol)\n",
    "zdata_fun = lambda x, y: x * np.exp(-x**2 - y**2)\n",
    "zmat = zdata_fun(x=xrow, y=ycol)"
   ]
  },
  {
   "cell_type": "code",
   "execution_count": 92,
   "id": "63a787ea-1d2e-4278-bc23-587458baf78b",
   "metadata": {
    "tags": []
   },
   "outputs": [],
   "source": [
    "xarray = xmat.flatten()\n",
    "yarray = ymat.flatten()\n",
    "zarray = zmat.flatten()"
   ]
  },
  {
   "cell_type": "code",
   "execution_count": 93,
   "id": "1b45cc08-bbce-424f-b502-1ed0ca151f8f",
   "metadata": {
    "tags": []
   },
   "outputs": [],
   "source": [
    "xrow = np.linspace(-2, 2, 100)[np.newaxis, :]\n",
    "ycol = np.linspace(-2, 2, 100)[:, np.newaxis]\n",
    "xmat, ymat = np.meshgrid(xrow, ycol)\n",
    "zdata_fun = lambda x, y: x * np.exp(-x**2 - y**2)\n",
    "zmat = zdata_fun(x=xrow, y=ycol)\n",
    "xarray = xmat.flatten()\n",
    "yarray = ymat.flatten()\n",
    "zarray = zmat.flatten()"
   ]
  },
  {
   "cell_type": "code",
   "execution_count": 94,
   "id": "9abc80dd-608c-4f22-9829-4c0f80a3940d",
   "metadata": {
    "tags": []
   },
   "outputs": [
    {
     "data": {
      "text/plain": [
       "Text(0.5, 0, '$z$')"
      ]
     },
     "execution_count": 94,
     "metadata": {},
     "output_type": "execute_result"
    }
   ],
   "source": [
    "fig = plt.figure(num=42, figsize=None, dpi=None)\n",
    "ax3d = fig.add_subplot(111, projection='3d')\n",
    "ax3d.plot3D(xarray, yarray, zarray)\n",
    "ax3d.set_xlabel(r'$x$')\n",
    "ax3d.set_ylabel(r'$y$')\n",
    "ax3d.set_zlabel(r'$z$')"
   ]
  },
  {
   "cell_type": "code",
   "execution_count": 95,
   "id": "a729f0e0-b736-4336-bba6-4a11d0c1a709",
   "metadata": {
    "tags": []
   },
   "outputs": [
    {
     "data": {
      "text/plain": [
       "-60"
      ]
     },
     "execution_count": 95,
     "metadata": {},
     "output_type": "execute_result"
    }
   ],
   "source": [
    "ax3d.azim"
   ]
  },
  {
   "cell_type": "code",
   "execution_count": 96,
   "id": "4811e305-7feb-45d7-9b0d-501e3a051397",
   "metadata": {
    "tags": []
   },
   "outputs": [
    {
     "data": {
      "text/plain": [
       "30"
      ]
     },
     "execution_count": 96,
     "metadata": {},
     "output_type": "execute_result"
    }
   ],
   "source": [
    "ax3d.elev"
   ]
  },
  {
   "cell_type": "code",
   "execution_count": 97,
   "id": "62a9d1ed-bb4c-4dc3-8f47-5acbf4019c0f",
   "metadata": {
    "tags": []
   },
   "outputs": [
    {
     "data": {
      "text/plain": [
       "-60"
      ]
     },
     "execution_count": 97,
     "metadata": {},
     "output_type": "execute_result"
    }
   ],
   "source": [
    "ax3d.azim"
   ]
  },
  {
   "cell_type": "code",
   "execution_count": 98,
   "id": "c891ae99-9b7a-4bfb-b407-3aa7d7dce3d3",
   "metadata": {
    "tags": []
   },
   "outputs": [
    {
     "data": {
      "text/plain": [
       "30"
      ]
     },
     "execution_count": 98,
     "metadata": {},
     "output_type": "execute_result"
    }
   ],
   "source": [
    "ax3d.elev"
   ]
  },
  {
   "cell_type": "code",
   "execution_count": 99,
   "id": "67942ad2-7844-43d5-967c-eaaaac0e3bf1",
   "metadata": {
    "tags": []
   },
   "outputs": [
    {
     "data": {
      "text/plain": [
       "-60"
      ]
     },
     "execution_count": 99,
     "metadata": {},
     "output_type": "execute_result"
    }
   ],
   "source": [
    "ax3d.azim"
   ]
  },
  {
   "cell_type": "code",
   "execution_count": 100,
   "id": "d9154068-d943-4419-89a5-33a9f753a3e9",
   "metadata": {
    "tags": []
   },
   "outputs": [
    {
     "data": {
      "text/plain": [
       "30"
      ]
     },
     "execution_count": 100,
     "metadata": {},
     "output_type": "execute_result"
    }
   ],
   "source": [
    "ax3d.elev"
   ]
  },
  {
   "cell_type": "code",
   "execution_count": 101,
   "id": "aa6a97e5-003c-41e4-a7c2-7646bb90034f",
   "metadata": {
    "tags": []
   },
   "outputs": [
    {
     "data": {
      "text/plain": [
       "[<matplotlib.lines.Line2D at 0x26207438d10>]"
      ]
     },
     "execution_count": 101,
     "metadata": {},
     "output_type": "execute_result"
    }
   ],
   "source": [
    "fig, axarray = plt.subplots(3, 1, num=43, figsize=None, dpi=None)\n",
    "axarray[0].set_aspect('auto')\n",
    "axarray[0].plot(1, 1, ls=None, marker='o', mfc='royalblue', mec='tomato')\n",
    "axarray[0].plot(1, 2, ls=None, marker='o', mfc='royalblue', mec='tomato')\n",
    "axarray[0].plot(2, 1, ls=None, marker='o', mfc='royalblue', mec='tomato')\n",
    "axarray[0].plot(2, 2, ls=None, marker='o', mfc='royalblue', mec='tomato')\n",
    "axarray[0].plot(4, 4, ls=None, marker='o', mfc='fuchsia', mec='lawngreen')\n",
    "axarray[1].set_aspect('equal')\n",
    "axarray[1].plot(1, 1, ls=None, marker='o', mfc='royalblue', mec='tomato')\n",
    "axarray[1].plot(1, 2, ls=None, marker='o', mfc='royalblue', mec='tomato')\n",
    "axarray[1].plot(2, 1, ls=None, marker='o', mfc='royalblue', mec='tomato')\n",
    "axarray[1].plot(2, 2, ls=None, marker='o', mfc='royalblue', mec='tomato')\n",
    "axarray[1].plot(4, 4, ls=None, marker='o', mfc='fuchsia', mec='lawngreen')\n",
    "axarray[2].set_aspect(4)\n",
    "axarray[2].plot(1, 1, ls=None, marker='o', mfc='royalblue', mec='tomato')\n",
    "axarray[2].plot(1, 2, ls=None, marker='o', mfc='royalblue', mec='tomato')\n",
    "axarray[2].plot(2, 1, ls=None, marker='o', mfc='royalblue', mec='tomato')\n",
    "axarray[2].plot(2, 2, ls=None, marker='o', mfc='royalblue', mec='tomato')\n",
    "axarray[2].plot(4, 4, ls=None, marker='o', mfc='fuchsia', mec='lawngreen')"
   ]
  },
  {
   "cell_type": "code",
   "execution_count": 102,
   "id": "59cf3261-5ae9-4280-aece-9a2998c6da1e",
   "metadata": {
    "tags": []
   },
   "outputs": [],
   "source": [
    "import math\n",
    "x = np.linspace(start=-math.tau, stop=math.tau, num=100)\n",
    "y1 = np.sin(x)\n",
    "y2 = np.cos(x)\n",
    "y3 = np.tan(x)"
   ]
  },
  {
   "cell_type": "code",
   "execution_count": 103,
   "id": "3237f03e-dc75-4ee6-ace6-a912c237de25",
   "metadata": {
    "tags": []
   },
   "outputs": [
    {
     "data": {
      "text/plain": [
       "<matplotlib.legend.Legend at 0x2620747b890>"
      ]
     },
     "execution_count": 103,
     "metadata": {},
     "output_type": "execute_result"
    }
   ],
   "source": [
    "fig = plt.figure(num=44, figsize=None, dpi=None)\n",
    "ax1 = fig.add_subplot(211)\n",
    "ax1.plot(x, y1, label=r'$y$=sin($x$)', c='royalblue')\n",
    "ax1.plot(x, y2, label=r'$y$=cos($x$)', c='olivedrab')\n",
    "ax1.legend(loc='lower left')\n",
    "ax2 = fig.add_subplot(212, sharex=ax1)\n",
    "ax2.plot(x, y3, label=r'$y$=tan($x$)', c='tomato')\n",
    "ax2.legend(loc='lower left')"
   ]
  },
  {
   "cell_type": "code",
   "execution_count": 104,
   "id": "bc1a6197-3bc2-4727-a14d-eeb949b0b6fe",
   "metadata": {
    "tags": []
   },
   "outputs": [
    {
     "data": {
      "text/plain": [
       "[<matplotlib.axis.XTick at 0x262074692d0>,\n",
       " <matplotlib.axis.XTick at 0x2620747b9d0>,\n",
       " <matplotlib.axis.XTick at 0x2620470b1d0>,\n",
       " <matplotlib.axis.XTick at 0x262074b1550>,\n",
       " <matplotlib.axis.XTick at 0x262074b3990>,\n",
       " Text(-6.283185307179586, 0, '$\\\\frac{-2}{2}\\\\tau$'),\n",
       " Text(-3.141592653589793, 0, '$\\\\frac{-1}{2}\\\\tau$'),\n",
       " Text(0.0, 0, '$\\\\frac{0}{2}\\\\tau$'),\n",
       " Text(3.141592653589793, 0, '$\\\\frac{1}{2}\\\\tau$'),\n",
       " Text(6.283185307179586, 0, '$\\\\frac{2}{2}\\\\tau$'),\n",
       " -9.0,\n",
       " 9.0,\n",
       " Text(0.5, 0, '$x$')]"
      ]
     },
     "execution_count": 104,
     "metadata": {},
     "output_type": "execute_result"
    }
   ],
   "source": [
    "plt.setp(ax2, \n",
    "         xticks=np.linspace(start=-math.tau, \n",
    "                            stop=math.tau, \n",
    "                            num=5),\n",
    "         xticklabels=[r'$\\frac{'+f'{num}'+r'}{2}\\tau$' \n",
    "                      for \n",
    "                      num \n",
    "                      in \n",
    "                      range(-2, 3, 1)],\n",
    "         xlim=(-9, 9),\n",
    "         xlabel=r'$x$')"
   ]
  },
  {
   "cell_type": "code",
   "execution_count": 105,
   "id": "2fccb7b9-5bbc-4d33-9f11-b636fb181808",
   "metadata": {
    "tags": []
   },
   "outputs": [
    {
     "data": {
      "text/plain": [
       "<matplotlib.legend.Legend at 0x2620750b410>"
      ]
     },
     "execution_count": 105,
     "metadata": {},
     "output_type": "execute_result"
    }
   ],
   "source": [
    "fig = plt.figure(num=45, figsize=None, dpi=None)\n",
    "ax1 = fig.add_subplot(111)\n",
    "ax1.plot(x, y1, label=r'$y$=sin($x$)', c='royalblue')\n",
    "ax1.plot(x, y2, label=r'$y$=cos($x$)', c='olivedrab')\n",
    "ax2 = ax1.twinx()\n",
    "ax2.plot(x, y3, label=r'$y$=tan($x$)', c='tomato')\n",
    "fig.legend(loc='upper right')"
   ]
  },
  {
   "cell_type": "code",
   "execution_count": 106,
   "id": "1afc1d47-91e9-444a-9d2d-c826bbcf3f77",
   "metadata": {
    "tags": []
   },
   "outputs": [],
   "source": [
    "fig = plt.figure(num=46, figsize=None, dpi=None)\n",
    "ax1 = fig.add_subplot(111)\n",
    "ax1.plot(x, y1, label=r'$y$=sin($x$)', c='royalblue')\n",
    "ax1.plot(x, y2, label=r'$y$=cos($x$)', c='olivedrab')\n",
    "ax1.set_xlabel(r'$x$')\n",
    "ax1.set_ylabel(r'$y1$ or $y2$')\n",
    "ax1.legend(loc='upper left')\n",
    "ax2 = ax1.twinx()\n",
    "ax2.plot(x, y3, label=r'$y$=tan($x$)', c='tomato')\n",
    "ax2.set_ylabel(r'$y3$')\n",
    "ax2.legend(loc='upper right')\n",
    "fig.tight_layout()"
   ]
  },
  {
   "cell_type": "code",
   "execution_count": 107,
   "id": "13edaa40-03c2-4b7f-a881-7e87a7fa0fcb",
   "metadata": {
    "scrolled": true,
    "tags": []
   },
   "outputs": [
    {
     "name": "stdout",
     "output_type": "stream",
     "text": [
      "    agg_filter = None\n",
      "    alpha = None\n",
      "    animated = False\n",
      "    children = [Text(32.0, 0.5, '$y1$ or $y2$'), Text(0, 469.1666...\n",
      "    clip_box = TransformedBbox(     Bbox(x0=0.0, y0=0.0, x1=1.0, ...\n",
      "    clip_on = True\n",
      "    clip_path = None\n",
      "    data_interval = [-0.99987413  1.        ]\n",
      "    figure = Figure(640x480)\n",
      "    gid = None\n",
      "    gridlines = <a list of 11 Line2D gridline objects>\n",
      "    in_layout = True\n",
      "    inverted = False\n",
      "    label = Text(32.0, 0.5, '$y1$ or $y2$')\n",
      "    label_position = left\n",
      "    label_text = $y1$ or $y2$\n",
      "    major_formatter = <matplotlib.ticker.ScalarFormatter object at 0x000...\n",
      "    major_locator = <matplotlib.ticker.AutoLocator object at 0x0000026...\n",
      "    major_ticks = [<matplotlib.axis.YTick object at 0x000002620719A8...\n",
      "    majorticklabels = [Text(0, -1.25, '−1.25'), Text(0, -1.0, '−1.00'), ...\n",
      "    majorticklines = <a list of 22 Line2D ticklines objects>\n",
      "    majorticklocs = [-1.25 -1.   -0.75 -0.5  -0.25  0.  ]...\n",
      "    minor_formatter = <matplotlib.ticker.NullFormatter object at 0x00000...\n",
      "    minor_locator = <matplotlib.ticker.NullLocator object at 0x0000026...\n",
      "    minor_ticks = []\n",
      "    minorticklabels = []\n",
      "    minorticklines = <a list of 0 Line2D ticklines objects>\n",
      "    minorticklocs = []\n",
      "    minpos = 2.4492935982947064e-16\n",
      "    mouseover = False\n",
      "    offset_text = Text(0, 469.1666666666667, '')\n",
      "    path_effects = []\n",
      "    picker = None\n",
      "    pickradius = 15\n",
      "    rasterized = False\n",
      "    remove_overlapping_locs = True\n",
      "    scale = linear\n",
      "    sketch_params = None\n",
      "    snap = None\n",
      "    tick_padding = 3.5\n",
      "    tick_params = {'left': True, 'right': False, 'labelleft': True, ...\n",
      "    tick_space = 14\n",
      "    ticklabels = [Text(0, -1.25, '−1.25'), Text(0, -1.0, '−1.00'), ...\n",
      "    ticklines = <a list of 22 Line2D ticklines objects>\n",
      "    ticklocs = [-1.25 -1.   -0.75 -0.5  -0.25  0.  ]...\n",
      "    ticks_direction = ['out' 'out' 'out' 'out' 'out' 'out']...\n",
      "    ticks_position = left\n",
      "    tightbbox = Bbox(x0=14.999999999999996, y0=68.24187956314157, ...\n",
      "    transform = IdentityTransform()\n",
      "    transformed_clip_path_and_affine = (None, None)\n",
      "    units = None\n",
      "    url = None\n",
      "    view_interval = [-1.09986783  1.09999371]\n",
      "    visible = True\n",
      "    window_extent = Bbox(x0=0.0, y0=0.0, x1=0.0, y1=0.0)\n",
      "    zorder = 1.5\n"
     ]
    }
   ],
   "source": [
    "plt.getp(ax1.yaxis)"
   ]
  },
  {
   "cell_type": "code",
   "execution_count": 108,
   "id": "082a0914-ae79-4fde-94b0-3db9df37ad6f",
   "metadata": {
    "scrolled": true,
    "tags": []
   },
   "outputs": [
    {
     "name": "stdout",
     "output_type": "stream",
     "text": [
      "    agg_filter = None\n",
      "    alpha = None\n",
      "    animated = False\n",
      "    children = [Text(608.0000000000001, 0.5, '$y3$'), Text(1, 469...\n",
      "    clip_box = TransformedBbox(     Bbox(x0=0.0, y0=0.0, x1=1.0, ...\n",
      "    clip_on = True\n",
      "    clip_path = None\n",
      "    data_interval = [-63.0200685  63.0200685]\n",
      "    figure = Figure(640x480)\n",
      "    gid = None\n",
      "    gridlines = <a list of 9 Line2D gridline objects>\n",
      "    in_layout = True\n",
      "    inverted = False\n",
      "    label = Text(608.0000000000001, 0.5, '$y3$')\n",
      "    label_position = right\n",
      "    label_text = $y3$\n",
      "    major_formatter = <matplotlib.ticker.ScalarFormatter object at 0x000...\n",
      "    major_locator = <matplotlib.ticker.AutoLocator object at 0x0000026...\n",
      "    major_ticks = [<matplotlib.axis.YTick object at 0x0000026207593E...\n",
      "    majorticklabels = [Text(1, -80.0, '−80'), Text(1, -60.0, '−60'), Tex...\n",
      "    majorticklines = <a list of 18 Line2D ticklines objects>\n",
      "    majorticklocs = [-80. -60. -40. -20.   0.  20.]...\n",
      "    minor_formatter = <matplotlib.ticker.NullFormatter object at 0x00000...\n",
      "    minor_locator = <matplotlib.ticker.NullLocator object at 0x0000026...\n",
      "    minor_ticks = []\n",
      "    minorticklabels = []\n",
      "    minorticklines = <a list of 0 Line2D ticklines objects>\n",
      "    minorticklocs = []\n",
      "    minpos = 2.4492935982947064e-16\n",
      "    mouseover = False\n",
      "    offset_text = Text(1, 469.1666666666667, '')\n",
      "    path_effects = []\n",
      "    picker = None\n",
      "    pickradius = 15\n",
      "    rasterized = False\n",
      "    remove_overlapping_locs = True\n",
      "    scale = linear\n",
      "    sketch_params = None\n",
      "    snap = None\n",
      "    tick_padding = 3.5\n",
      "    tick_params = {'left': False, 'right': True, 'labelleft': False,...\n",
      "    tick_space = 14\n",
      "    ticklabels = [Text(1, -80.0, '−80'), Text(1, -60.0, '−60'), Tex...\n",
      "    ticklines = <a list of 18 Line2D ticklines objects>\n",
      "    ticklocs = [-80. -60. -40. -20.   0.  20.]...\n",
      "    ticks_direction = ['out' 'out' 'out' 'out' 'out' 'out']...\n",
      "    ticks_position = right\n",
      "    tightbbox = Bbox(x0=573.0694444444446, y0=77.12473170683984, x...\n",
      "    transform = IdentityTransform()\n",
      "    transformed_clip_path_and_affine = (None, None)\n",
      "    units = None\n",
      "    url = None\n",
      "    view_interval = [-69.32207535  69.32207535]\n",
      "    visible = True\n",
      "    window_extent = Bbox(x0=0.0, y0=0.0, x1=0.0, y1=0.0)\n",
      "    zorder = 1.5\n"
     ]
    }
   ],
   "source": [
    "plt.getp(ax2.yaxis)"
   ]
  },
  {
   "cell_type": "code",
   "execution_count": 109,
   "id": "9b3866da-68a2-4ea6-89c9-86f75f000386",
   "metadata": {
    "tags": []
   },
   "outputs": [
    {
     "data": {
      "text/plain": [
       "'right'"
      ]
     },
     "execution_count": 109,
     "metadata": {},
     "output_type": "execute_result"
    }
   ],
   "source": [
    "ax2.yaxis.get_label_position()"
   ]
  },
  {
   "cell_type": "code",
   "execution_count": 110,
   "id": "505a4f89-73af-4375-b6b2-cff581c8d5e5",
   "metadata": {
    "tags": []
   },
   "outputs": [
    {
     "data": {
      "text/plain": [
       "{'left': False,\n",
       " 'right': True,\n",
       " 'labelleft': False,\n",
       " 'labelright': True,\n",
       " 'gridOn': False}"
      ]
     },
     "execution_count": 110,
     "metadata": {},
     "output_type": "execute_result"
    }
   ],
   "source": [
    "ax2.yaxis.get_tick_params()"
   ]
  },
  {
   "cell_type": "code",
   "execution_count": 111,
   "id": "67e11a55-e202-4be9-b8b7-83a0b219739f",
   "metadata": {
    "tags": []
   },
   "outputs": [
    {
     "data": {
      "text/plain": [
       "'right'"
      ]
     },
     "execution_count": 111,
     "metadata": {},
     "output_type": "execute_result"
    }
   ],
   "source": [
    "ax2.yaxis.get_ticks_position()"
   ]
  },
  {
   "cell_type": "code",
   "execution_count": 112,
   "id": "4e592336-a9cb-43b9-8c03-8b97c4866a7c",
   "metadata": {
    "tags": []
   },
   "outputs": [],
   "source": [
    "fig = plt.figure(num=47, figsize=None, dpi=None)\n",
    "ax1 = fig.add_subplot(111)\n",
    "ax1.plot(x, y1, label=r'$y$=sin($x$)')\n",
    "ax1.plot(x, y2, label=r'$y$=cos($x$)')\n",
    "ax1.set_xlabel(r'$x$')\n",
    "ax1.set_ylabel(r'$y$')\n",
    "ax1.grid(visible=True)"
   ]
  },
  {
   "cell_type": "code",
   "execution_count": 113,
   "id": "4603bbe3-aaeb-4671-9681-582992089220",
   "metadata": {
    "tags": []
   },
   "outputs": [],
   "source": [
    "fig = plt.figure(num=48, figsize=None, dpi=None)\n",
    "ax1 = fig.add_subplot(111)\n",
    "ax1.plot(x, y1, label=r'$y$=sin($x$)')\n",
    "ax1.plot(x, y2, label=r'$y$=cos($x$)')\n",
    "ax1.set_xlabel(r'$x$')\n",
    "ax1.set_ylabel(r'$y$')\n",
    "ax1.grid(visible=True, axis='both', which='major',\n",
    "         c='lightgrey', ls='-', lw=1.5)\n",
    "ax1.minorticks_on()"
   ]
  },
  {
   "cell_type": "code",
   "execution_count": 114,
   "id": "577f5d77-cfe2-477d-9954-e29d55a910c7",
   "metadata": {},
   "outputs": [],
   "source": [
    "fig = plt.figure(num=49, figsize=None, dpi=None)\n",
    "ax1 = fig.add_subplot(111)\n",
    "ax1.plot(x, y1, label=r'$y$=sin($x$)')\n",
    "ax1.plot(x, y2, label=r'$y$=cos($x$)')\n",
    "ax1.set_xlabel(r'$x$')\n",
    "ax1.set_ylabel(r'$y$')\n",
    "ax1.grid(visible=True, axis='both', which='major',\n",
    "         c='lightgrey', ls='-', lw=1.5)\n",
    "ax1.minorticks_on()\n",
    "ax1.grid(visible=True, axis='both', which='minor',\n",
    "         c='lightgrey', ls=':', lw=1.0)"
   ]
  },
  {
   "cell_type": "code",
   "execution_count": 115,
   "id": "2048de58-0ef6-4278-ae10-275480cb1b05",
   "metadata": {
    "tags": []
   },
   "outputs": [],
   "source": [
    "fig = plt.figure(num=50, figsize=None, dpi=None)\n",
    "ax1 = fig.add_subplot(111)\n",
    "ax1.plot(x, y1, label=r'$y$=sin($x$)')\n",
    "ax1.plot(x, y2, label=r'$y$=cos($x$)')\n",
    "ax1.set_xlabel(r'$x$', c='blueviolet')\n",
    "ax1.set_ylabel(r'$y$', c='blueviolet')\n",
    "ax1.grid(visible=True, axis='both', which='major', \n",
    "         c='lightgrey', ls='-', lw=1.5)\n",
    "ax1.tick_params(axis='both', which='major',\n",
    "                direction='in', length=5,\n",
    "                width=3,\n",
    "                color='tomato', labelcolor='dodgerblue')\n",
    "ax1.minorticks_on()\n",
    "ax1.grid(visible=True, axis='both', which='major',\n",
    "         c='lightgrey', ls=':', lw=1.0)\n",
    "ax1.tick_params(axis='both', which='minor',\n",
    "                direction='in', length=3,\n",
    "                width=1.5,\n",
    "                color='darkorange', labelcolor='aqua')"
   ]
  },
  {
   "cell_type": "code",
   "execution_count": 116,
   "id": "5cc0f133-412e-4c07-b051-fa2d2957fa94",
   "metadata": {
    "tags": []
   },
   "outputs": [
    {
     "data": {
      "text/plain": [
       "KeysView(<matplotlib.spines.Spines object at 0x000002620473AB90>)"
      ]
     },
     "execution_count": 116,
     "metadata": {},
     "output_type": "execute_result"
    }
   ],
   "source": [
    "ax1.spines.keys()"
   ]
  },
  {
   "cell_type": "code",
   "execution_count": 117,
   "id": "7d8ea8c7-58de-4e03-84c5-e572ebd27e2a",
   "metadata": {
    "tags": []
   },
   "outputs": [
    {
     "data": {
      "text/plain": [
       "('left', 'right', 'bottom', 'top')"
      ]
     },
     "execution_count": 117,
     "metadata": {},
     "output_type": "execute_result"
    }
   ],
   "source": [
    "tuple(ax1.spines.keys())"
   ]
  },
  {
   "cell_type": "code",
   "execution_count": 118,
   "id": "d913a003-67d5-49f4-b14c-a8820abd6d28",
   "metadata": {
    "tags": []
   },
   "outputs": [],
   "source": [
    "rightspine = ax1.spines['right']"
   ]
  },
  {
   "cell_type": "code",
   "execution_count": 119,
   "id": "35e952d7-d052-4d2f-86b8-670dcc384d40",
   "metadata": {
    "tags": []
   },
   "outputs": [],
   "source": [
    "rightspine.set_visible(False)"
   ]
  },
  {
   "cell_type": "code",
   "execution_count": 120,
   "id": "5158d97f-88da-4e02-9fc7-8801dcc4a92c",
   "metadata": {
    "tags": []
   },
   "outputs": [],
   "source": [
    "topspine = ax1.spines['top']"
   ]
  },
  {
   "cell_type": "code",
   "execution_count": 121,
   "id": "6a1359f5-8506-4972-9e20-8b00ab0e2697",
   "metadata": {
    "scrolled": true,
    "tags": []
   },
   "outputs": [
    {
     "name": "stdout",
     "output_type": "stream",
     "text": [
      "    agg_filter = None\n",
      "    alpha = None\n",
      "    animated = False\n",
      "    antialiased or aa = True\n",
      "    bounds = None\n",
      "    capstyle = projecting\n",
      "    children = []\n",
      "    clip_box = None\n",
      "    clip_on = True\n",
      "    clip_path = None\n",
      "    data_transform = BlendedGenericTransform(     CompositeGenericTrans...\n",
      "    edgecolor or ec = (0.0, 0.0, 0.0, 1.0)\n",
      "    extents = Bbox(x0=575.504, y0=422.4, x1=575.504, y1=422.4)\n",
      "    facecolor or fc = (0.0, 0.0, 0.0, 0.0)\n",
      "    figure = Figure(640x480)\n",
      "    fill = True\n",
      "    gid = None\n",
      "    hatch = None\n",
      "    in_layout = True\n",
      "    joinstyle = miter\n",
      "    label = \n",
      "    linestyle or ls = solid\n",
      "    linewidth or lw = 0.8\n",
      "    mouseover = False\n",
      "    patch_transform = IdentityTransform()\n",
      "    path = Path(array([[-6.91150384,  1.        ],        [ 6...\n",
      "    path_effects = []\n",
      "    picker = None\n",
      "    position = ('outward', 0.0)\n",
      "    rasterized = False\n",
      "    sketch_params = None\n",
      "    snap = None\n",
      "    spine_transform = BlendedGenericTransform(     CompositeGenericTrans...\n",
      "    tightbbox = Bbox(x0=80.0, y0=422.4, x1=576.0, y1=422.4)\n",
      "    transform = BlendedGenericTransform(     CompositeGenericTrans...\n",
      "    transformed_clip_path_and_affine = (None, None)\n",
      "    url = None\n",
      "    verts = []\n",
      "    visible = True\n",
      "    window_extent = Bbox(x0=80.0, y0=422.4, x1=576.0, y1=422.4)\n",
      "    zorder = 2.5\n"
     ]
    }
   ],
   "source": [
    "plt.getp(topspine)"
   ]
  },
  {
   "cell_type": "code",
   "execution_count": 122,
   "id": "8125e6e8-4ec7-4573-8ae2-8f523ab90a43",
   "metadata": {
    "tags": []
   },
   "outputs": [
    {
     "data": {
      "text/plain": [
       "[None, None, None, None, None]"
      ]
     },
     "execution_count": 122,
     "metadata": {},
     "output_type": "execute_result"
    }
   ],
   "source": [
    "plt.setp(topspine, ls=':', lw=5, \n",
    "         ec='aquamarine', fc='mediumblue',\n",
    "         visible=True)"
   ]
  },
  {
   "cell_type": "code",
   "execution_count": 123,
   "id": "01bdbb80-b6d8-4fa3-b576-e9f446d24052",
   "metadata": {
    "tags": []
   },
   "outputs": [
    {
     "data": {
      "text/plain": [
       "(1.0, 1.0, 1.0, 1.0)"
      ]
     },
     "execution_count": 123,
     "metadata": {},
     "output_type": "execute_result"
    }
   ],
   "source": [
    "ax1.get_facecolor()"
   ]
  },
  {
   "cell_type": "code",
   "execution_count": 124,
   "id": "c9b012de-9a1c-43d6-b4e8-c0966454373b",
   "metadata": {
    "tags": []
   },
   "outputs": [
    {
     "data": {
      "text/plain": [
       "(1.0, 1.0, 1.0, 1.0)"
      ]
     },
     "execution_count": 124,
     "metadata": {},
     "output_type": "execute_result"
    }
   ],
   "source": [
    "fig.get_facecolor()"
   ]
  },
  {
   "cell_type": "code",
   "execution_count": 125,
   "id": "034454ed-cba6-42e6-9bab-24ae1727c63b",
   "metadata": {
    "tags": []
   },
   "outputs": [],
   "source": [
    "ax1.set_facecolor('lightcyan')"
   ]
  },
  {
   "cell_type": "code",
   "execution_count": 126,
   "id": "376f9dc9-c498-431c-a355-0f6581f3ea04",
   "metadata": {
    "tags": []
   },
   "outputs": [],
   "source": [
    "fig.set_facecolor('paleturquoise')"
   ]
  },
  {
   "cell_type": "code",
   "execution_count": 127,
   "id": "a3989abc-a3b2-43d0-bde7-50c4eee189d4",
   "metadata": {
    "tags": []
   },
   "outputs": [],
   "source": [
    "fig.savefig('trigonmetricplots2.png')"
   ]
  },
  {
   "cell_type": "code",
   "execution_count": 128,
   "id": "426062b8-508a-4847-ba7d-0cf9bd08795f",
   "metadata": {
    "tags": []
   },
   "outputs": [],
   "source": [
    "fig.show()"
   ]
  },
  {
   "cell_type": "code",
   "execution_count": 129,
   "id": "441618e6-46e8-462e-b219-939144ae8b77",
   "metadata": {
    "tags": []
   },
   "outputs": [],
   "source": [
    "plt.show()"
   ]
  },
  {
   "cell_type": "code",
   "execution_count": 130,
   "id": "0c3efb3f-0249-41a1-ad70-d459698bc6cb",
   "metadata": {
    "tags": []
   },
   "outputs": [],
   "source": [
    "plt.cla()"
   ]
  },
  {
   "cell_type": "code",
   "execution_count": 131,
   "id": "29513768-5269-4bc1-aeb3-bd8ccc88b420",
   "metadata": {
    "tags": []
   },
   "outputs": [],
   "source": [
    "plt.clf()"
   ]
  },
  {
   "cell_type": "code",
   "execution_count": 132,
   "id": "a7410d08-f812-426d-a998-437c1da5a624",
   "metadata": {
    "tags": []
   },
   "outputs": [],
   "source": [
    "fig.clear()"
   ]
  },
  {
   "cell_type": "code",
   "execution_count": 133,
   "id": "484028ca-ded1-4ce9-ba40-ce8cceaca535",
   "metadata": {
    "tags": []
   },
   "outputs": [],
   "source": [
    "ax.clear()"
   ]
  },
  {
   "cell_type": "code",
   "execution_count": 134,
   "id": "a3c4a1c8-0ab6-4f20-a5ed-158f230873ad",
   "metadata": {
    "tags": []
   },
   "outputs": [],
   "source": [
    "plt.close(fig=50)"
   ]
  },
  {
   "cell_type": "code",
   "execution_count": 135,
   "id": "6bcd0671-7cb3-4804-bcf7-a34b2276b586",
   "metadata": {
    "tags": []
   },
   "outputs": [],
   "source": [
    "plt.close(fig='all')"
   ]
  },
  {
   "cell_type": "code",
   "execution_count": 136,
   "id": "4a979845-3fb1-4848-b528-f428ad0e4534",
   "metadata": {
    "tags": []
   },
   "outputs": [],
   "source": [
    "x = np.arange(start=0, stop=10, step=1)\n",
    "y = 2 * x"
   ]
  },
  {
   "cell_type": "code",
   "execution_count": 137,
   "id": "14018098-1e7d-4de8-8222-ad5bcfda855f",
   "metadata": {
    "tags": []
   },
   "outputs": [
    {
     "data": {
      "text/plain": [
       "[<matplotlib.lines.Line2D at 0x262060cec10>]"
      ]
     },
     "execution_count": 137,
     "metadata": {},
     "output_type": "execute_result"
    }
   ],
   "source": [
    "fig = plt.figure(num=51, figsize=None, dpi=None)\n",
    "ax1 = fig.add_subplot(321)\n",
    "ax1.plot(x, y, label=r'$y$=2$x$', marker='o')\n",
    "ax2 = fig.add_subplot(323)\n",
    "ax2.plot(x, y, label=r'$y$=2$x$', marker='o')\n",
    "ax3 = fig.add_subplot(325)\n",
    "ax3.plot(x, y, label=r'$y$=2$x$', marker='o')\n",
    "ax4 = fig.add_subplot(322)\n",
    "ax4.plot(x, y, label=r'$y$=2$x$', marker='o')\n",
    "ax5 = fig.add_subplot(324)\n",
    "ax5.plot(x, y, label=r'$y$=2$x$', marker='o')\n",
    "ax6 = fig.add_subplot(326)\n",
    "ax6.plot(x, y, label=r'$y$=2$x$', marker='o')"
   ]
  },
  {
   "cell_type": "code",
   "execution_count": 138,
   "id": "33032582-392f-45c2-b026-5be65db578fd",
   "metadata": {
    "tags": []
   },
   "outputs": [],
   "source": [
    "text1 = ax1.annotate(text=f'(2, 4)', xy=(2, 4), \n",
    "                     xytext=(2, 10), xycoords='data',\n",
    "                     arrowprops={'arrowstyle': 'simple'})\n",
    "text2 = ax2.annotate(text=f'(2, 4)', xy=(2, 4), \n",
    "                     xytext=(2, 10), xycoords='data',\n",
    "                     arrowprops={'arrowstyle': 'fancy'})\n",
    "text3 = ax3.annotate(text=f'(2, 4)', xy=(2, 4), \n",
    "                     xytext=(2, 10), xycoords='data',\n",
    "                     arrowprops={'arrowstyle': 'wedge'})\n",
    "text4 = ax4.annotate(text=f'(2, 4)', xy=(2, 4), \n",
    "                     xytext=(2, 10), xycoords='data',\n",
    "                     arrowprops={'arrowstyle': '->'})\n",
    "text5 = ax5.annotate(text=f'(2, 4)', xy=(2, 4), \n",
    "                     xytext=(2, 10), xycoords='data',\n",
    "                     arrowprops={'arrowstyle': '<-'})\n",
    "text6 = ax6.annotate(text=f'(2, 4)', xy=(2, 4), \n",
    "                     xytext=(2, 10), xycoords='data',\n",
    "                     arrowprops={'arrowstyle': '<->'})"
   ]
  },
  {
   "cell_type": "code",
   "execution_count": 139,
   "id": "4b981d78-81a2-4623-a7da-29ac8bcfdd62",
   "metadata": {
    "tags": []
   },
   "outputs": [
    {
     "data": {
      "text/plain": [
       "[<matplotlib.lines.Line2D at 0x262077e63d0>]"
      ]
     },
     "execution_count": 139,
     "metadata": {},
     "output_type": "execute_result"
    }
   ],
   "source": [
    "fig = plt.figure(num=52, figsize=None, dpi=None)\n",
    "ax1 = fig.add_subplot(211)\n",
    "ax1.plot(x, y, ds='steps-pre')\n",
    "ax2 = fig.add_subplot(212)\n",
    "ax2.step(x, y)"
   ]
  },
  {
   "cell_type": "code",
   "execution_count": 140,
   "id": "a1877ac3-d6d5-43fa-9d34-633ea2f0b794",
   "metadata": {
    "tags": []
   },
   "outputs": [
    {
     "data": {
      "text/plain": [
       "[<matplotlib.lines.Line2D at 0x2620783be50>]"
      ]
     },
     "execution_count": 140,
     "metadata": {},
     "output_type": "execute_result"
    }
   ],
   "source": [
    "fig = plt.figure(num=53, figsize=None, dpi=None)\n",
    "ax1 = fig.add_subplot(211)\n",
    "ax1.plot(x, y)\n",
    "ax1.set_xscale('log')\n",
    "ax2 = fig.add_subplot(212)\n",
    "ax2.semilogx(x, y)"
   ]
  },
  {
   "cell_type": "code",
   "execution_count": 141,
   "id": "72597482-bf72-406b-a3b2-1ef7f9088171",
   "metadata": {
    "tags": []
   },
   "outputs": [
    {
     "data": {
      "text/plain": [
       "[<matplotlib.lines.Line2D at 0x262078b7650>]"
      ]
     },
     "execution_count": 141,
     "metadata": {},
     "output_type": "execute_result"
    }
   ],
   "source": [
    "fig = plt.figure(num=54, figsize=None, dpi=None)\n",
    "ax1 = fig.add_subplot(211)\n",
    "ax1.plot(x, y)\n",
    "ax1.set_yscale('log')\n",
    "ax2 = fig.add_subplot(212)\n",
    "ax2.semilogy(x, y)"
   ]
  },
  {
   "cell_type": "code",
   "execution_count": 142,
   "id": "abeb6f20-e52f-4e2d-b04d-6d87fbb0fdae",
   "metadata": {
    "tags": []
   },
   "outputs": [
    {
     "data": {
      "text/plain": [
       "[<matplotlib.lines.Line2D at 0x2620792fad0>]"
      ]
     },
     "execution_count": 142,
     "metadata": {},
     "output_type": "execute_result"
    }
   ],
   "source": [
    "fig = plt.figure(num=55, figsize=None, dpi=None)\n",
    "ax1 = fig.add_subplot(211)\n",
    "ax1.plot(x, y)\n",
    "ax1.set_xscale('log')\n",
    "ax1.set_yscale('log')\n",
    "ax2 = fig.add_subplot(212)\n",
    "ax2.loglog(x, y)"
   ]
  },
  {
   "cell_type": "code",
   "execution_count": 143,
   "id": "89ca1067-79cc-4526-ae65-1689643dca7a",
   "metadata": {
    "tags": []
   },
   "outputs": [
    {
     "data": {
      "text/plain": [
       "<matplotlib.lines.Line2D at 0x26207978490>"
      ]
     },
     "execution_count": 143,
     "metadata": {},
     "output_type": "execute_result"
    }
   ],
   "source": [
    "fig = plt.figure(num=56, figsize=None, dpi=None)\n",
    "ax1 = fig.add_subplot(111)\n",
    "ax1.plot(x, y, c='royalblue', marker='o')\n",
    "ax1.axhline(y=2, xmin=0, xmax=1, c='tomato')\n",
    "ax1.axhline(y=4, xmin=0.25, xmax=0.75, c='darkorange')"
   ]
  },
  {
   "cell_type": "code",
   "execution_count": 144,
   "id": "5e28963f-dcc2-4221-8c3e-767a15ae3e3b",
   "metadata": {
    "tags": []
   },
   "outputs": [
    {
     "data": {
      "text/plain": [
       "<matplotlib.lines.Line2D at 0x2620780cad0>"
      ]
     },
     "execution_count": 144,
     "metadata": {},
     "output_type": "execute_result"
    }
   ],
   "source": [
    "fig = plt.figure(num=57, figsize=None, dpi=None)\n",
    "ax1 = fig.add_subplot(111)\n",
    "ax1.plot(x, y, c='royalblue', marker='o')\n",
    "ax1.axvline(x=2, ymin=0, ymax=1, c='tomato')\n",
    "ax1.axvline(x=4, ymin=0.25, ymax=0.75, c='darkorange')"
   ]
  },
  {
   "cell_type": "code",
   "execution_count": 145,
   "id": "53ef7802-707d-4f0a-8a74-17f1941a2a34",
   "metadata": {
    "tags": []
   },
   "outputs": [
    {
     "data": {
      "text/plain": [
       "<matplotlib.lines.Line2D at 0x262079dee50>"
      ]
     },
     "execution_count": 145,
     "metadata": {},
     "output_type": "execute_result"
    }
   ],
   "source": [
    "fig = plt.figure(num=57, figsize=None, dpi=None)\n",
    "ax1 = fig.add_subplot(111)\n",
    "ax1.plot(x, y, c='royalblue', marker='o')\n",
    "ax1.axvline(x=2, ymin=0, ymax=1, c='tomato')\n",
    "ax1.axvline(x=4, ymin=0.25, ymax=0.75, c='darkorange')"
   ]
  },
  {
   "cell_type": "code",
   "execution_count": 146,
   "id": "7350ffb2-3193-4927-b697-694fbebfd547",
   "metadata": {
    "tags": []
   },
   "outputs": [
    {
     "data": {
      "text/plain": [
       "<matplotlib.lines._AxLine at 0x26207a659d0>"
      ]
     },
     "execution_count": 146,
     "metadata": {},
     "output_type": "execute_result"
    }
   ],
   "source": [
    "fig = plt.figure(num=58, figsize=None, dpi=None)\n",
    "ax1 = fig.add_subplot(111)\n",
    "ax1.plot(x, y, c='royalblue', marker='o')\n",
    "\n",
    "ax1.plot(0.5, 2.0, ls=None, c='aqua', marker='o')\n",
    "ax1.axline(xy1=(0.5, 2.0), slope=2, c='tomato')\n",
    "\n",
    "ax1.plot(1.5, 2.0, ls=None, c='lime', marker='o')\n",
    "ax1.plot(4.5, 6.0, ls=None, c='lime', marker='o')\n",
    "ax1.axline(xy1=(1.5, 2.0), xy2=(4.5, 6.0), c='hotpink')"
   ]
  },
  {
   "cell_type": "code",
   "execution_count": 147,
   "id": "66ff3590-df7f-4136-b1b1-19e47cc55d70",
   "metadata": {
    "tags": []
   },
   "outputs": [
    {
     "data": {
      "text/plain": [
       "<matplotlib.collections.LineCollection at 0x26207aa2590>"
      ]
     },
     "execution_count": 147,
     "metadata": {},
     "output_type": "execute_result"
    }
   ],
   "source": [
    "fig = plt.figure(num=59, figsize=None, dpi=None)\n",
    "ax1 = fig.add_subplot(111)\n",
    "ax1.plot(x, y, c='royalblue', marker='o')\n",
    "ax1.hlines(y=(2, 4, 6), xmin=2, xmax=8, \n",
    "           colors=('orange', 'cyan', 'lime'))\n",
    "ax1.vlines(x=(2, 4, 6), ymin=3, ymax=11, \n",
    "           color='magenta')"
   ]
  },
  {
   "cell_type": "code",
   "execution_count": 148,
   "id": "803bc4a4-b0f4-4ce1-a8d2-e379fee06325",
   "metadata": {
    "tags": []
   },
   "outputs": [],
   "source": [
    "fig = plt.figure(num=60, figsize=None, dpi=None)\n",
    "ax1 = fig.add_subplot(111)\n",
    "lines = ax1.plot(x, y, c='royalblue', marker='o')\n",
    "axvline = ax1.axvline(x=4, ymin=0.25, ymax=0.75, \n",
    "                      c='darkorange')\n",
    "hlines = ax1.hlines(y=(2, 4, 6), xmin=2, xmax=8, \n",
    "                    colors=('orange', 'cyan', 'lime'))"
   ]
  },
  {
   "cell_type": "code",
   "execution_count": 149,
   "id": "164dfbee-1fe3-47b9-83e5-50a7a5a38e06",
   "metadata": {
    "tags": []
   },
   "outputs": [
    {
     "data": {
      "text/plain": [
       "[<matplotlib.lines.Line2D at 0x26207ae98d0>]"
      ]
     },
     "execution_count": 149,
     "metadata": {},
     "output_type": "execute_result"
    }
   ],
   "source": [
    "lines"
   ]
  },
  {
   "cell_type": "code",
   "execution_count": 150,
   "id": "ee410048-076e-4f79-ada8-c4dfd06d1b30",
   "metadata": {
    "tags": []
   },
   "outputs": [
    {
     "data": {
      "text/plain": [
       "<matplotlib.lines.Line2D at 0x26207a40810>"
      ]
     },
     "execution_count": 150,
     "metadata": {},
     "output_type": "execute_result"
    }
   ],
   "source": [
    "axvline"
   ]
  },
  {
   "cell_type": "code",
   "execution_count": 151,
   "id": "e8bc4bcb-2e97-4d4f-ac35-ce51173d788c",
   "metadata": {
    "tags": []
   },
   "outputs": [
    {
     "data": {
      "text/plain": [
       "<matplotlib.collections.LineCollection at 0x26207aead10>"
      ]
     },
     "execution_count": 151,
     "metadata": {},
     "output_type": "execute_result"
    }
   ],
   "source": [
    "hlines"
   ]
  },
  {
   "cell_type": "code",
   "execution_count": 152,
   "id": "af42fcfe-e9d8-4349-8423-3fc230c14537",
   "metadata": {
    "scrolled": true,
    "tags": []
   },
   "outputs": [
    {
     "name": "stdout",
     "output_type": "stream",
     "text": [
      "    agg_filter = None\n",
      "    alpha = None\n",
      "    animated = False\n",
      "    array = None\n",
      "    children = []\n",
      "    clim = (None, None)\n",
      "    clip_box = TransformedBbox(     Bbox(x0=0.0, y0=0.0, x1=1.0, ...\n",
      "    clip_on = True\n",
      "    clip_path = None\n",
      "    cmap = <matplotlib.colors.ListedColormap object at 0x0000...\n",
      "    color = [[1.         0.64705882 0.         1.        ]  [0...\n",
      "    colors = [[1.         0.64705882 0.         1.        ]  [0...\n",
      "    edgecolor or ec or edgecolors = [[1.         0.64705882 0.         1.        ]  [0...\n",
      "    facecolor or facecolors or fc = []\n",
      "    figure = Figure(640x480)\n",
      "    fill = False\n",
      "    gid = None\n",
      "    hatch = None\n",
      "    in_layout = True\n",
      "    label = _child2\n",
      "    linestyle or dashes or linestyles or ls = [(0.0, None)]\n",
      "    linewidth or linewidths or lw = [1.5]\n",
      "    mouseover = False\n",
      "    offset_transform or transOffset = IdentityTransform()\n",
      "    offsets = [[0. 0.]]\n",
      "    path_effects = None\n",
      "    paths = [Path(array([[2., 2.],        [8., 2.]]), None), P...\n",
      "    picker = None\n",
      "    pickradius = 5.0\n",
      "    rasterized = False\n",
      "    segments = [array([[2., 2.],        [8., 2.]]), array([[2., 4...\n",
      "    sketch_params = None\n",
      "    snap = None\n",
      "    tightbbox = Bbox(x0=80.0, y0=52.8, x1=576.0, y1=422.4)\n",
      "    transform = CompositeGenericTransform(     TransformWrapper(  ...\n",
      "    transformed_clip_path_and_affine = (None, None)\n",
      "    transforms = []\n",
      "    url = None\n",
      "    urls = [None]\n",
      "    visible = True\n",
      "    window_extent = Bbox(x0=inf, y0=inf, x1=-inf, y1=-inf)\n",
      "    zorder = 2\n"
     ]
    }
   ],
   "source": [
    "plt.getp(hlines)"
   ]
  },
  {
   "cell_type": "code",
   "execution_count": 153,
   "id": "a1950001-5611-45e7-b8a4-e1e06e641e8c",
   "metadata": {
    "tags": []
   },
   "outputs": [],
   "source": [
    "fig = plt.figure(num=61, figsize=None, dpi=None)\n",
    "ax1 = fig.add_subplot(311)\n",
    "points1 = ax1.scatter(x, y)\n",
    "ax2 = fig.add_subplot(312)\n",
    "points2 = ax2.scatter(x, y, \n",
    "                      s=30, color='tab:blue', \n",
    "                      marker='o')\n",
    "ax3 = fig.add_subplot(313)\n",
    "points3 = ax3.scatter(x, y, \n",
    "                      s=10*y, \n",
    "                      c=('tab:blue', 'tab:orange', \n",
    "                         'tab:green', 'tab:red', \n",
    "                         'tab:purple', 'tab:brown', \n",
    "                         'tab:pink', 'tab:gray',\n",
    "                         'tab:olive','tab:cyan'),\n",
    "                      marker='o')"
   ]
  },
  {
   "cell_type": "code",
   "execution_count": 154,
   "id": "3fbbf0e1-c79d-4d59-a19b-0184778a657d",
   "metadata": {
    "tags": []
   },
   "outputs": [],
   "source": [
    "fig = plt.figure(num=62, figsize=None, dpi=None)\n",
    "ax1 = fig.add_subplot(111)\n",
    "points1 = ax1.scatter(x, y, \n",
    "                      s=100, \n",
    "                      c='mediumpurple',\n",
    "                      linewidths=(0.2, 0.4, 0.6, 0.8, 1.0, \n",
    "                                  1.2, 1.4, 1.6, 1.8, 2.0), \n",
    "                      ec='deepskyblue',\n",
    "                      alpha=(0.1, 0.2, 0.3, 0.4, 0.5, \n",
    "                             0.6, 0.7, 0.8, 0.9, 1.0))\n",
    "plt.close('all')"
   ]
  },
  {
   "cell_type": "code",
   "execution_count": 155,
   "id": "03b1912d-1d1b-4f49-b832-76882f7afd77",
   "metadata": {
    "tags": []
   },
   "outputs": [],
   "source": [
    "fig = plt.figure(num=63, figsize=None, dpi=None)\n",
    "ax1 = fig.add_subplot(111)\n",
    "ax1.bar(x=('Poland', 'Czechia', 'Hungary', 'Slovakia'), \n",
    "        height=(41.0, 10.51, 10.20, 5.80))\n",
    "ax1.set_xlabel('Country')\n",
    "ax1.set_ylabel('Population (millions)')\n",
    "ax1.set_title('Countries')\n",
    "ax1.grid(visible=True, which='major')\n",
    "ax1.minorticks_on()\n",
    "ax1.grid(visible=True, which='minor', ls=':')"
   ]
  },
  {
   "cell_type": "code",
   "execution_count": 156,
   "id": "1ec052ba-8ec0-4fcd-8ab2-2c744f724b36",
   "metadata": {
    "tags": []
   },
   "outputs": [],
   "source": [
    "fig = plt.figure(num=64, figsize=(10, 5), dpi=None)\n",
    "ax1 = fig.add_subplot(111)\n",
    "ax1.bar(x=('Poland', 'Ukraine', 'Czechia', 'Hungary', \n",
    "           'Austria', 'Slovakia', 'Lithuania', 'Slovenia',\n",
    "           'Latvia', 'Estonia'), \n",
    "            height=(36.7, 41.0, 10.51, 10.20, \n",
    "                    8.95, 5.80, 2.72, 2.12, \n",
    "                    1.83, 1.32),\n",
    "            hatch=('*', '+', 'x', 'o', \n",
    "                   '.', 'O', '-', '|', \n",
    "                   '/', '\\\\'),\n",
    "            color=('tomato', 'limegreen', 'darkorange', 'darkviolet',\n",
    "                   'dodgerblue', 'violet', 'purple', 'aqua',\n",
    "                   'olive', 'lightcoral'),\n",
    "                   lw=2, ec='black')\n",
    "ax1.set_xlabel('Country')\n",
    "ax1.set_ylabel('Population (millions)')\n",
    "ax1.set_title('Countries')\n",
    "ax1.grid(visible=True, which='major')\n",
    "ax1.minorticks_on()\n",
    "ax1.grid(visible=True, which='minor', ls=':')\n",
    "ax1.xaxis.set_tick_params(rotation=45)\n",
    "fig.tight_layout()"
   ]
  },
  {
   "cell_type": "code",
   "execution_count": 157,
   "id": "00c4e76b-6f7e-478e-940f-7ce112b65afd",
   "metadata": {
    "tags": []
   },
   "outputs": [],
   "source": [
    "fig = plt.figure(num=65, figsize=None, dpi=None)\n",
    "ax1 = fig.add_subplot(111)\n",
    "#ax1.bar(x=('Poland', 'Czechia', 'Hungary', 'Slovakia'), \n",
    "#        height=(41.0, 10.51, 10.20, 5.80))\n",
    "ax1.bar(x=('Poland', 'Czechia', 'Hungary', 'Slovakia'), \n",
    "        height=(-2.85, 0.03, -1.40, -0.6),\n",
    "        bottom=(41.0, 10.51, 10.20, 5.80),\n",
    "        color='tomato')\n",
    "ax1.set_xlabel('Country')\n",
    "ax1.set_ylim(bottom=0)\n",
    "ax1.set_ylabel('Population (millions)')\n",
    "ax1.set_title('Countries')\n",
    "ax1.grid(visible=True, which='major')\n",
    "ax1.minorticks_on()\n",
    "ax1.grid(visible=True, which='minor', ls=':')"
   ]
  },
  {
   "cell_type": "code",
   "execution_count": 158,
   "id": "12e59474-214a-48ed-ad6f-8f3c456ad0aa",
   "metadata": {
    "tags": []
   },
   "outputs": [
    {
     "data": {
      "text/plain": [
       "<matplotlib.legend.Legend at 0x26208eb5b90>"
      ]
     },
     "execution_count": 158,
     "metadata": {},
     "output_type": "execute_result"
    }
   ],
   "source": [
    "fig = plt.figure(num=66, figsize=None, dpi=None)\n",
    "ax1 = fig.add_subplot(111)\n",
    "ax1.bar(x=('Poland', 'Czechia', 'Hungary', 'Slovakia'), \n",
    "        height=(41.0, 10.51, 10.20, 5.80))\n",
    "ax1.bar(x=('Poland', 'Czechia', 'Hungary', 'Slovakia'), \n",
    "        height=(-2.85, 0.03, -1.40, -0.6),\n",
    "        bottom=(41.0, 10.51, 10.20, 5.80),\n",
    "        color='tomato')\n",
    "ax1.set_xlabel('Country')\n",
    "ax1.set_ylim(bottom=0)\n",
    "ax1.set_ylabel('Population (millions)')\n",
    "ax1.set_title('Countries')\n",
    "ax1.grid(visible=True, which='major')\n",
    "ax1.minorticks_on()\n",
    "ax1.grid(visible=True, which='minor', ls=':')\n",
    "ax1.legend(labels=('2023', '2050'))"
   ]
  },
  {
   "cell_type": "code",
   "execution_count": 159,
   "id": "b7b5bef8-f7b7-4359-a1f9-211ec9c74eb4",
   "metadata": {
    "scrolled": true,
    "tags": []
   },
   "outputs": [
    {
     "name": "stdout",
     "output_type": "stream",
     "text": [
      "    agg_filter = None\n",
      "    alpha = None\n",
      "    animated = False\n",
      "    children = [Text(0.5, 23.52222222222222, 'Country'), Text(1, ...\n",
      "    clip_box = TransformedBbox(     Bbox(x0=0.0, y0=0.0, x1=1.0, ...\n",
      "    clip_on = True\n",
      "    clip_path = None\n",
      "    data_interval = [-0.4  3.4]\n",
      "    figure = Figure(640x480)\n",
      "    gid = None\n",
      "    gridlines = <a list of 4 Line2D gridline objects>\n",
      "    in_layout = True\n",
      "    inverted = False\n",
      "    label = Text(0.5, 23.52222222222222, 'Country')\n",
      "    label_position = bottom\n",
      "    label_text = Country\n",
      "    major_formatter = <matplotlib.category.StrCategoryFormatter object a...\n",
      "    major_locator = <matplotlib.category.StrCategoryLocator object at ...\n",
      "    major_ticks = [<matplotlib.axis.XTick object at 0x0000026208F46B...\n",
      "    majorticklabels = [Text(0, 0, 'Poland'), Text(1, 0, 'Czechia'), Text...\n",
      "    majorticklines = <a list of 8 Line2D ticklines objects>\n",
      "    majorticklocs = [0, 1, 2, 3]\n",
      "    minor_formatter = <matplotlib.ticker.NullFormatter object at 0x00000...\n",
      "    minor_locator = <matplotlib.ticker.AutoMinorLocator object at 0x00...\n",
      "    minor_ticks = [<matplotlib.axis.XTick object at 0x00000262027BA7...\n",
      "    minorticklabels = [Text(-0.4, 0, ''), Text(-0.2, 0, ''), Text(0.2000...\n",
      "    minorticklines = <a list of 32 Line2D ticklines objects>\n",
      "    minorticklocs = [-0.4 -0.2  0.2  0.4  0.6  0.8]...\n",
      "    minpos = 0.4\n",
      "    mouseover = False\n",
      "    offset_text = Text(1, 24.911111111111108, '')\n",
      "    path_effects = []\n",
      "    picker = None\n",
      "    pickradius = 15\n",
      "    rasterized = False\n",
      "    remove_overlapping_locs = True\n",
      "    scale = linear\n",
      "    sketch_params = None\n",
      "    snap = None\n",
      "    tick_padding = 3.5\n",
      "    tick_params = {'left': True, 'right': False, 'labelleft': True, ...\n",
      "    tick_space = 11\n",
      "    ticklabels = [Text(0, 0, 'Poland'), Text(1, 0, 'Czechia'), Text...\n",
      "    ticklines = <a list of 8 Line2D ticklines objects>\n",
      "    ticklocs = [0, 1, 2, 3]\n",
      "    ticks_direction = ['out' 'out' 'out' 'out']\n",
      "    ticks_position = bottom\n",
      "    tightbbox = Bbox(x0=126.69706937799043, y0=9.522222222222219, ...\n",
      "    transform = IdentityTransform()\n",
      "    transformed_clip_path_and_affine = (None, None)\n",
      "    units = <matplotlib.category.UnitData object at 0x00000262...\n",
      "    url = None\n",
      "    view_interval = [-0.59  3.59]\n",
      "    visible = True\n",
      "    window_extent = Bbox(x0=0.0, y0=0.0, x1=0.0, y1=0.0)\n",
      "    zorder = 1.5\n"
     ]
    }
   ],
   "source": [
    "plt.getp(ax1.xaxis)"
   ]
  },
  {
   "cell_type": "code",
   "execution_count": 160,
   "id": "bf4701d1-43f2-4099-9be1-7e4579068562",
   "metadata": {
    "tags": []
   },
   "outputs": [
    {
     "data": {
      "text/plain": [
       "<BarContainer object of 4 artists>"
      ]
     },
     "execution_count": 160,
     "metadata": {},
     "output_type": "execute_result"
    }
   ],
   "source": [
    "fig = plt.figure(num=67, figsize=None, dpi=None)\n",
    "ax1 = fig.add_subplot(111)\n",
    "ax1.bar(x=(0, 1, 2, 3), \n",
    "        height=(41.0, 10.51, 10.20, 5.80),\n",
    "        width=0.8, color='royalblue')"
   ]
  },
  {
   "cell_type": "code",
   "execution_count": 161,
   "id": "9411859f-71bf-4e70-a803-91f5a37785bd",
   "metadata": {
    "tags": []
   },
   "outputs": [
    {
     "data": {
      "text/plain": [
       "<BarContainer object of 4 artists>"
      ]
     },
     "execution_count": 161,
     "metadata": {},
     "output_type": "execute_result"
    }
   ],
   "source": [
    "fig = plt.figure(num=68, figsize=None, dpi=None)\n",
    "ax1 = fig.add_subplot(111)\n",
    "ax1.bar(x=(0, 1, 2, 3), \n",
    "        height=(41.0, 10.51, 10.20, 5.80),\n",
    "        width=0.4, color='royalblue')\n",
    "ax1.bar(x=(0.4, 1.4, 2.4, 3.4), \n",
    "        height=(38.15, 10.54, 8.8, 5.1),\n",
    "        width=0.4, color='tomato')"
   ]
  },
  {
   "cell_type": "code",
   "execution_count": 162,
   "id": "0ee96878-4e13-49fb-8b61-534aed997ba5",
   "metadata": {
    "tags": []
   },
   "outputs": [
    {
     "data": {
      "text/plain": [
       "[<matplotlib.axis.XTick at 0x26208fceb50>,\n",
       " <matplotlib.axis.XTick at 0x2620760d650>,\n",
       " <matplotlib.axis.XTick at 0x26204345a50>,\n",
       " <matplotlib.axis.XTick at 0x262090221d0>]"
      ]
     },
     "execution_count": 162,
     "metadata": {},
     "output_type": "execute_result"
    }
   ],
   "source": [
    "ax1.xaxis.set_ticks((0.2, 1.2, 2.2, 3.2))"
   ]
  },
  {
   "cell_type": "code",
   "execution_count": 163,
   "id": "969b5bab-2ec9-4332-8d88-11f313eb2edb",
   "metadata": {
    "tags": []
   },
   "outputs": [
    {
     "data": {
      "text/plain": [
       "[Text(0.2, 0, 'Poland'),\n",
       " Text(1.2, 0, 'Czechia'),\n",
       " Text(2.2, 0, 'Hungary'),\n",
       " Text(3.2, 0, 'Slovakia')]"
      ]
     },
     "execution_count": 163,
     "metadata": {},
     "output_type": "execute_result"
    }
   ],
   "source": [
    "ax1.xaxis.set_ticklabels(('Poland', \n",
    "                          'Czechia', \n",
    "                          'Hungary', \n",
    "                          'Slovakia'))"
   ]
  },
  {
   "cell_type": "code",
   "execution_count": 164,
   "id": "a6d39be3-ab68-4271-a8b0-b9ca6aa8a05d",
   "metadata": {
    "tags": []
   },
   "outputs": [],
   "source": [
    "fig = plt.figure(num=69, figsize=None, dpi=None)\n",
    "ax1 = fig.add_subplot(111)\n",
    "ax1.barh(y=('Poland', 'Czechia', 'Hungary', 'Slovakia'), \n",
    "         width=(41.0, 10.51, 10.20, 5.80),\n",
    "         height=0.8, \n",
    "         color=('tomato', 'darkorange', 'darkviolet', 'dodgerblue'),\n",
    "         hatch=('*', 'x', 'o', '.'),\n",
    "         ec='black', lw=2)\n",
    "ax1.set_xlabel('Population (millions)')\n",
    "ax1.set_ylabel('Country')\n",
    "ax1.set_title('Country')\n",
    "ax1.grid(visible=True)\n",
    "ax1.minorticks_on()\n",
    "ax1.grid(visible=True, which='minor', ls=':')\n",
    "fig.tight_layout()"
   ]
  },
  {
   "cell_type": "code",
   "execution_count": 165,
   "id": "6e9f239d-8b3b-4257-bbca-fa52c1b794b4",
   "metadata": {
    "tags": []
   },
   "outputs": [
    {
     "data": {
      "text/plain": [
       "[<BarContainer object of 4 artists>]"
      ]
     },
     "execution_count": 165,
     "metadata": {},
     "output_type": "execute_result"
    }
   ],
   "source": [
    "ax1.containers"
   ]
  },
  {
   "cell_type": "code",
   "execution_count": 166,
   "id": "f6f78287-c311-47c5-b8b6-0f37c284d633",
   "metadata": {},
   "outputs": [
    {
     "data": {
      "text/plain": [
       "<BarContainer object of 4 artists>"
      ]
     },
     "execution_count": 166,
     "metadata": {},
     "output_type": "execute_result"
    }
   ],
   "source": [
    "ax1.containers[0]"
   ]
  },
  {
   "cell_type": "code",
   "execution_count": 167,
   "id": "f6e0eac3-648c-4acc-85ec-8f841c61f1a8",
   "metadata": {
    "tags": []
   },
   "outputs": [
    {
     "data": {
      "text/plain": [
       "[Text(0, 0, '41'), Text(0, 0, '10.51'), Text(0, 0, '10.2'), Text(0, 0, '5.8')]"
      ]
     },
     "execution_count": 167,
     "metadata": {},
     "output_type": "execute_result"
    }
   ],
   "source": [
    "ax1.bar_label(container=ax1.containers[0])"
   ]
  },
  {
   "cell_type": "code",
   "execution_count": 168,
   "id": "b8602d57-5865-4f48-b7a5-0f8bd27179a1",
   "metadata": {
    "tags": []
   },
   "outputs": [
    {
     "data": {
      "text/plain": [
       "([<matplotlib.patches.Wedge at 0x26209345650>,\n",
       "  <matplotlib.patches.Wedge at 0x262093cb910>,\n",
       "  <matplotlib.patches.Wedge at 0x262093dc950>,\n",
       "  <matplotlib.patches.Wedge at 0x262093dd550>],\n",
       " [Text(-0.3638762030959613, 1.0380723042353395, 'Poland'),\n",
       "  Text(-0.4754859361338184, -1.101777257225319, 'Czechia'),\n",
       "  Text(0.5808788628872552, -0.9341197710415992, 'Hungary'),\n",
       "  Text(1.2529352255494897, -0.34663139006334975, 'Slovakia')])"
      ]
     },
     "execution_count": 168,
     "metadata": {},
     "output_type": "execute_result"
    }
   ],
   "source": [
    "fig = plt.figure(num=70, figsize=None, dpi=None)\n",
    "ax1 = fig.add_subplot(111)\n",
    "ax1.pie(x=(41.0, 10.51, 10.20, 5.80),\n",
    "        explode=(0, 0.1, 0, 0.2),\n",
    "        labels=('Poland', 'Czechia', 'Hungary', 'Slovakia'), \n",
    "        hatch=('*', 'x', 'o', '.'),\n",
    "        colors=('tomato', 'darkorange', 'darkviolet', 'dodgerblue'),\n",
    "        wedgeprops={'lw': 2, 'ec': 'black'})"
   ]
  },
  {
   "cell_type": "code",
   "execution_count": 169,
   "id": "5402b06d-589d-4b00-932b-e7c6cdfa966b",
   "metadata": {
    "tags": []
   },
   "outputs": [],
   "source": [
    "nums = (1.0, 1.2, 1.3, 2.3, 2.3, 2.4, 3.5, 3.4, 4.1, 4.2, \n",
    "        4.7, 5.1, 5.1, 5.5, 5.7, 5.7, 5.8, 5.9, 5.9, 5.9,\n",
    "        6.1, 6.1, 6.1, 6.1, 6.2, 7.3, 7.4, 7.4, 7.4, 7.4,\n",
    "        8.8, 8.8, 8.8, 8.8, 8.8, 9.2, 9.2, 9.2, 9.2, 9.9)"
   ]
  },
  {
   "cell_type": "code",
   "execution_count": 170,
   "id": "68ed6a2e-98ca-42b9-87dc-ac7e5a5b8f16",
   "metadata": {
    "tags": []
   },
   "outputs": [
    {
     "data": {
      "text/plain": [
       "Text(0, 0.5, 'frequency')"
      ]
     },
     "execution_count": 170,
     "metadata": {},
     "output_type": "execute_result"
    }
   ],
   "source": [
    "fig = plt.figure(num=71, figsize=None, dpi=None)\n",
    "ax1 = fig.add_subplot(111)\n",
    "ax1.hist(x=nums, bins=10, range=(0, 10),\n",
    "         color='mediumseagreen',\n",
    "         hatch='O',\n",
    "         lw=2, ls='-', ec='k')\n",
    "ax1.grid(visible=True)\n",
    "ax1.minorticks_on()\n",
    "ax1.grid(visible=True, which='minor', ls=':')\n",
    "ax1.set_xlabel('bins')\n",
    "ax1.set_ylabel('frequency')"
   ]
  },
  {
   "cell_type": "code",
   "execution_count": 171,
   "id": "33008430-246c-4d10-b903-bc340b480c14",
   "metadata": {
    "tags": []
   },
   "outputs": [
    {
     "data": {
      "text/plain": [
       "Text(0, 0.5, 'frequency')"
      ]
     },
     "execution_count": 171,
     "metadata": {},
     "output_type": "execute_result"
    }
   ],
   "source": [
    "fig = plt.figure(num=72, figsize=None, dpi=None)\n",
    "ax1 = fig.add_subplot(111)\n",
    "ax1.hist(nums, bins=5, range=(0, 10),\n",
    "         color='mediumseagreen',\n",
    "         hatch='O',\n",
    "         lw=2, ls='-', ec='k')\n",
    "ax1.grid(visible=True)\n",
    "ax1.minorticks_on()\n",
    "ax1.grid(visible=True, which='minor', ls=':')\n",
    "ax1.set_xlabel('bins')\n",
    "ax1.set_ylabel('frequency')"
   ]
  },
  {
   "cell_type": "code",
   "execution_count": 172,
   "id": "9d9e19d9-b742-4273-af27-2b106b354f2d",
   "metadata": {
    "tags": []
   },
   "outputs": [],
   "source": [
    "import statistics as st"
   ]
  },
  {
   "cell_type": "code",
   "execution_count": 173,
   "id": "8c9f561c-0fc7-409b-9d72-21c5e3fb9020",
   "metadata": {
    "tags": []
   },
   "outputs": [
    {
     "data": {
      "text/plain": [
       "6.0"
      ]
     },
     "execution_count": 173,
     "metadata": {},
     "output_type": "execute_result"
    }
   ],
   "source": [
    "st.median(nums)"
   ]
  },
  {
   "cell_type": "code",
   "execution_count": 174,
   "id": "6a364c53-acd0-4c4a-bd24-9fcacd32738f",
   "metadata": {
    "tags": []
   },
   "outputs": [
    {
     "data": {
      "text/plain": [
       "[4.575, 6.0, 7.750000000000001]"
      ]
     },
     "execution_count": 174,
     "metadata": {},
     "output_type": "execute_result"
    }
   ],
   "source": [
    "st.quantiles(data=nums, n=4, method='inclusive')"
   ]
  },
  {
   "cell_type": "code",
   "execution_count": 175,
   "id": "18d1b514-c9b8-45cf-a379-e050da8d58d3",
   "metadata": {
    "tags": []
   },
   "outputs": [
    {
     "data": {
      "text/plain": [
       "Text(0, 0.5, 'frequency')"
      ]
     },
     "execution_count": 175,
     "metadata": {},
     "output_type": "execute_result"
    }
   ],
   "source": [
    "fig = plt.figure(num=73, figsize=None, dpi=None)\n",
    "ax1 = fig.add_subplot(111)\n",
    "ax1.boxplot(x=nums)\n",
    "ax1.grid(visible=True)\n",
    "ax1.minorticks_on()\n",
    "ax1.grid(visible=True, which='minor', ls=':')\n",
    "ax1.set_xlabel('bins')\n",
    "ax1.set_ylabel('frequency')"
   ]
  },
  {
   "cell_type": "code",
   "execution_count": 176,
   "id": "cd07bd5e-8bf7-4bed-a80f-651b96bb8f08",
   "metadata": {
    "tags": []
   },
   "outputs": [
    {
     "data": {
      "text/plain": [
       "Text(0, 0.5, 'frequency')"
      ]
     },
     "execution_count": 176,
     "metadata": {},
     "output_type": "execute_result"
    }
   ],
   "source": [
    "fig = plt.figure(num=74, figsize=None, dpi=None)\n",
    "ax1 = fig.add_subplot(111)\n",
    "ax1.violinplot(dataset=nums)\n",
    "ax1.grid(visible=True)\n",
    "ax1.minorticks_on()\n",
    "ax1.grid(visible=True, which='minor', ls=':')\n",
    "ax1.set_xlabel('bins')\n",
    "ax1.set_ylabel('frequency')"
   ]
  },
  {
   "cell_type": "code",
   "execution_count": 177,
   "id": "47ec34ef-1958-4ba8-85ec-ce245ea684a7",
   "metadata": {
    "tags": []
   },
   "outputs": [],
   "source": [
    "xrow = np.linspace(-2, 2, 10)[np.newaxis, :]\n",
    "ycol = np.linspace(-2, 2, 10)[:, np.newaxis]\n",
    "xmat, ymat = np.meshgrid(xrow, ycol)\n",
    "zdata_fun = lambda x, y: x * np.exp(-x**2 - y**2)\n",
    "zmat = zdata_fun(x=xrow, y=ycol)\n",
    "xarray = xmat.flatten()\n",
    "yarray = ymat.flatten()\n",
    "zarray = zmat.flatten()"
   ]
  },
  {
   "cell_type": "code",
   "execution_count": 178,
   "id": "f5f3d5fd-d43f-4767-ad49-80be83f2280b",
   "metadata": {
    "tags": []
   },
   "outputs": [
    {
     "data": {
      "text/plain": [
       "Text(0, 0.5, 'row')"
      ]
     },
     "execution_count": 178,
     "metadata": {},
     "output_type": "execute_result"
    }
   ],
   "source": [
    "fig = plt.figure(num=75, figsize=None, dpi=None)\n",
    "ax1 = fig.add_subplot(111)\n",
    "ax1.matshow(zmat)\n",
    "ax1.set_xlabel('column')\n",
    "ax1.xaxis.set_label_position('top') \n",
    "ax1.set_ylabel('row')"
   ]
  },
  {
   "cell_type": "code",
   "execution_count": null,
   "id": "689ae453-8737-4537-af6f-cd5a23fd5892",
   "metadata": {},
   "outputs": [],
   "source": []
  },
  {
   "cell_type": "code",
   "execution_count": 179,
   "id": "1263393a-f6fc-4986-8b22-4ed20e07f69f",
   "metadata": {
    "tags": []
   },
   "outputs": [
    {
     "data": {
      "text/plain": [
       "Text(0, 0.5, 'row')"
      ]
     },
     "execution_count": 179,
     "metadata": {},
     "output_type": "execute_result"
    }
   ],
   "source": [
    "fig = plt.figure(num=76, figsize=None, dpi=None)\n",
    "ax1 = fig.add_subplot(111)\n",
    "ax1.pcolor(zmat)\n",
    "ax1.set_xlabel('column')\n",
    "ax1.set_ylabel('row')"
   ]
  },
  {
   "cell_type": "code",
   "execution_count": 180,
   "id": "eefae46a-1cd4-4a79-b240-b45119181875",
   "metadata": {
    "tags": []
   },
   "outputs": [
    {
     "data": {
      "text/plain": [
       "Text(0, 0.5, '$y$')"
      ]
     },
     "execution_count": 180,
     "metadata": {},
     "output_type": "execute_result"
    }
   ],
   "source": [
    "fig = plt.figure(num=77, figsize=None, dpi=None)\n",
    "ax1 = fig.add_subplot(111)\n",
    "pcolor = ax1.pcolor(xrow, ycol, zmat)\n",
    "ax1.set_xlabel(r'$x$')\n",
    "ax1.set_ylabel(r'$y$')"
   ]
  },
  {
   "cell_type": "code",
   "execution_count": null,
   "id": "2e7d1be0-e13a-479d-b1da-6c39e9c6a053",
   "metadata": {},
   "outputs": [],
   "source": []
  },
  {
   "cell_type": "code",
   "execution_count": 181,
   "id": "bc56e831-10ba-49e5-92f7-11efd0a00e6b",
   "metadata": {
    "tags": []
   },
   "outputs": [
    {
     "data": {
      "image/png": "[encoded data removed]",
      "text/html": [
       "<div style=\"vertical-align: middle;\"><strong>viridis</strong> </div><div class=\"cmap\"><img alt=\"viridis colormap\" title=\"viridis\" style=\"border: 1px solid #555;\" src=\"data:image/png;base64,iVBORw0KGgoAAAANSUhEUgAAAgAAAABACAYAAABsv8+/AAAAFnRFWHRUaXRsZQB2aXJpZGlzIGNvbG9ybWFwrE0mCwAAABx0RVh0RGVzY3JpcHRpb24AdmlyaWRpcyBjb2xvcm1hcAtjl3IAAAAwdEVYdEF1dGhvcgBNYXRwbG90bGliIHYzLjcuMSwgaHR0cHM6Ly9tYXRwbG90bGliLm9yZyqv+E0AAAAydEVYdFNvZnR3YXJlAE1hdHBsb3RsaWIgdjMuNy4xLCBodHRwczovL21hdHBsb3RsaWIub3JnBAlnagAAAiJJREFUeJzt1kGSmzAURdEv2FqWkP0vJfQgMhQCGceV2Ttn4pL0EVQPum771X5vVVXVWv39XfrPeV193V5zS98f1sf5/fPjey73zu6/3Hv/uz2cz57f9vP68rxO9+/zre7nhvvG+et6vH92bw3PDfcsD+eX59+/53n96f3362/f87/vf5yr93Of72/fPV9P89tX3zGeH3OT8/07Zs+/32+TuXZZD8/VODf8W5uuH/b7vctlfuv7NazH8/t7ZnP7bz2cD3NL+/Ph3Hl+/efz83vWun/vuL++nquH9eu9w/uu6/vvOO49f/8xf77vOj+8b7Y/fMfse9ca/y7nv+d62a++X+f1vt+G/b7u+/u6TxzzS//tc2053QMABBEAABBIAABAIAEAAIEEAAAEEgAAEEgAAEAgAQAAgQQAAAQSAAAQSAAAQCABAACBBAAABBIAABBIAABAIAEAAIEEAAAEEgAAEEgAAEAgAQAAgQQAAAQSAAAQSAAAQCABAACBBAAABBIAABBIAABAIAEAAIEEAAAEEgAAEEgAAEAgAQAAgQQAAAQSAAAQSAAAQCABAACBBAAABBIAABBIAABAIAEAAIEEAAAEEgAAEEgAAEAgAQAAgQQAAAQSAAAQSAAAQCABAACBBAAABBIAABBIAABAIAEAAIEEAAAEEgAAEEgAAEAgAQAAgQQAAAQSAAAQSAAAQCABAACBBAAABBIAABBIAABAoB9ucImHxcKZtAAAAABJRU5ErkJggg==\"></div><div style=\"vertical-align: middle; max-width: 514px; display: flex; justify-content: space-between;\"><div style=\"float: left;\"><div title=\"#440154ff\" style=\"display: inline-block; width: 1em; height: 1em; margin: 0; vertical-align: middle; border: 1px solid #555; background-color: #440154ff;\"></div> under</div><div style=\"margin: 0 auto; display: inline-block;\">bad <div title=\"#00000000\" style=\"display: inline-block; width: 1em; height: 1em; margin: 0; vertical-align: middle; border: 1px solid #555; background-color: #00000000;\"></div></div><div style=\"float: right;\">over <div title=\"#fde725ff\" style=\"display: inline-block; width: 1em; height: 1em; margin: 0; vertical-align: middle; border: 1px solid #555; background-color: #fde725ff;\"></div></div>"
      ],
      "text/plain": [
       "<matplotlib.colors.ListedColormap at 0x262095293d0>"
      ]
     },
     "execution_count": 181,
     "metadata": {},
     "output_type": "execute_result"
    }
   ],
   "source": [
    "pcolor.cmap"
   ]
  },
  {
   "cell_type": "code",
   "execution_count": 182,
   "id": "afdb6324-adfb-446f-b3c5-746236c229b3",
   "metadata": {
    "tags": []
   },
   "outputs": [],
   "source": [
    "colorbar = fig.colorbar(mappable=pcolor, ax=ax1,\n",
    "                        orientation='horizontal', \n",
    "                        location='top')\n",
    "plt.close('all')"
   ]
  },
  {
   "cell_type": "code",
   "execution_count": 183,
   "id": "bac932ea-5907-4cca-8599-8b92a3286619",
   "metadata": {
    "tags": []
   },
   "outputs": [],
   "source": [
    "fig = plt.figure(num=78, figsize=None, dpi=None)\n",
    "ax1 = fig.add_subplot(111)\n",
    "pcolor = ax1.pcolor(xrow, ycol, zmat,\n",
    "                    cmap='viridis',\n",
    "                    vmin=0, vmax=0.4)\n",
    "ax1.set_xlabel(r'$x$')\n",
    "ax1.set_ylabel(r'$y$')\n",
    "colorbar = fig.colorbar(mappable=pcolor, ax=ax1,\n",
    "                        orientation='vertical', \n",
    "                        location='right')"
   ]
  },
  {
   "cell_type": "code",
   "execution_count": 184,
   "id": "8151d0d9-99ff-48d8-8be0-ee4202fe81b7",
   "metadata": {
    "tags": []
   },
   "outputs": [],
   "source": [
    "fig = plt.figure(num=79, figsize=None, dpi=None)\n",
    "ax1 = fig.add_subplot(111)\n",
    "pcolor = ax1.pcolor(xrow, ycol, zmat,\n",
    "                    cmap='viridis',\n",
    "                    vmin=0, vmax=1.0)\n",
    "ax1.set_xlabel(r'$x$')\n",
    "ax1.set_ylabel(r'$y$')\n",
    "colorbar = fig.colorbar(mappable=pcolor, ax=ax1,\n",
    "                        orientation='vertical', \n",
    "                        location='right')"
   ]
  },
  {
   "cell_type": "code",
   "execution_count": 185,
   "id": "323077a8-1eda-485f-af71-06099871a0bd",
   "metadata": {
    "tags": []
   },
   "outputs": [],
   "source": [
    "fig = plt.figure(num=80, figsize=None, dpi=None)\n",
    "ax1 = fig.add_subplot(111)\n",
    "pcolor = ax1.pcolor(xrow, ycol, zmat,\n",
    "                    cmap='viridis',\n",
    "                    vmin=-0.4, vmax=0.4)\n",
    "ax1.set_xlabel(r'$x$')\n",
    "ax1.set_ylabel(r'$y$')\n",
    "colorbar = fig.colorbar(mappable=pcolor, ax=ax1,\n",
    "                        orientation='vertical', \n",
    "                        location='right')"
   ]
  },
  {
   "cell_type": "code",
   "execution_count": 186,
   "id": "d2c6f389-3d28-4d23-8b03-105f6cb07a9a",
   "metadata": {
    "scrolled": true,
    "tags": []
   },
   "outputs": [
    {
     "name": "stdout",
     "output_type": "stream",
     "text": [
      "    agg_filter = None\n",
      "    alpha = None\n",
      "    animated = False\n",
      "    array = [-0.00067093 -0.00253409 -0.00592125 -0.00782909 -...\n",
      "    children = []\n",
      "    clim = (-0.4, 0.4)\n",
      "    clip_box = TransformedBbox(     Bbox(x0=0.0, y0=0.0, x1=1.0, ...\n",
      "    clip_on = True\n",
      "    clip_path = None\n",
      "    cmap = <matplotlib.colors.ListedColormap object at 0x0000...\n",
      "    edgecolor or ec or edgecolors = []\n",
      "    facecolor or facecolors or fc = [[0.12156863 0.46666667 0.70588235 1.        ]]\n",
      "    figure = Figure(640x480)\n",
      "    fill = True\n",
      "    gid = None\n",
      "    hatch = None\n",
      "    in_layout = True\n",
      "    label = _child0\n",
      "    linestyle or dashes or linestyles or ls = [(0.0, None)]\n",
      "    linewidth or linewidths or lw = [0.25]\n",
      "    mouseover = False\n",
      "    offset_transform or transOffset = IdentityTransform()\n",
      "    offsets = [[0. 0.]]\n",
      "    path_effects = None\n",
      "    paths = [Path(array([[-2.22222222, -2.22222222],        [-...\n",
      "    picker = None\n",
      "    pickradius = 5.0\n",
      "    rasterized = False\n",
      "    sizes = []\n",
      "    sketch_params = None\n",
      "    snap = False\n",
      "    tightbbox = Bbox(x0=80.0, y0=52.8, x1=476.80000000000007, y1=4...\n",
      "    transform = CompositeGenericTransform(     TransformWrapper(  ...\n",
      "    transformed_clip_path_and_affine = (None, None)\n",
      "    transforms = []\n",
      "    url = None\n",
      "    urls = [None]\n",
      "    visible = True\n",
      "    window_extent = Bbox(x0=inf, y0=inf, x1=-inf, y1=-inf)\n",
      "    zorder = 1\n"
     ]
    }
   ],
   "source": [
    "plt.getp(pcolor)"
   ]
  },
  {
   "cell_type": "code",
   "execution_count": null,
   "id": "cbad881a-1681-4ee1-9a9b-af05e2d62cc5",
   "metadata": {},
   "outputs": [],
   "source": []
  },
  {
   "cell_type": "code",
   "execution_count": null,
   "id": "a2b414b1-a7a6-4512-9bfd-ea16511798ec",
   "metadata": {},
   "outputs": [],
   "source": []
  },
  {
   "cell_type": "code",
   "execution_count": null,
   "id": "036adc85-1a32-4b1b-b65c-8dbf41f8eb6c",
   "metadata": {},
   "outputs": [],
   "source": []
  },
  {
   "cell_type": "code",
   "execution_count": 187,
   "id": "6e57f557-119b-4e5d-9215-36a4a03fb75d",
   "metadata": {
    "tags": []
   },
   "outputs": [
    {
     "data": {
      "text/plain": [
       "[None]"
      ]
     },
     "execution_count": 187,
     "metadata": {},
     "output_type": "execute_result"
    }
   ],
   "source": [
    "plt.setp(pcolor, cmap=plt.cm.jet)"
   ]
  },
  {
   "cell_type": "code",
   "execution_count": 188,
   "id": "d6141e34-9728-4a46-a508-97763542796a",
   "metadata": {
    "tags": []
   },
   "outputs": [
    {
     "data": {
      "text/plain": [
       "[None]"
      ]
     },
     "execution_count": 188,
     "metadata": {},
     "output_type": "execute_result"
    }
   ],
   "source": [
    "plt.setp(pcolor, cmap='bone')"
   ]
  },
  {
   "cell_type": "code",
   "execution_count": null,
   "id": "bf134a81-750a-4240-9f7f-e4050e7bf264",
   "metadata": {},
   "outputs": [],
   "source": []
  },
  {
   "cell_type": "code",
   "execution_count": null,
   "id": "e577871f-8073-44a7-a5db-6730722dba7c",
   "metadata": {},
   "outputs": [],
   "source": []
  },
  {
   "cell_type": "code",
   "execution_count": null,
   "id": "37c3d7a3-e665-4dc4-8c45-a5743194f41e",
   "metadata": {},
   "outputs": [],
   "source": []
  },
  {
   "cell_type": "code",
   "execution_count": null,
   "id": "595b1684-49ac-4523-abcc-7144e527ac49",
   "metadata": {},
   "outputs": [],
   "source": []
  },
  {
   "cell_type": "code",
   "execution_count": 189,
   "id": "5b4901a1-ea30-44ce-823f-ced2ef5e0ef4",
   "metadata": {
    "tags": []
   },
   "outputs": [],
   "source": [
    "plt.magma()"
   ]
  },
  {
   "cell_type": "code",
   "execution_count": 190,
   "id": "de5cc311-9708-49da-9cf0-65e470db97e2",
   "metadata": {
    "tags": []
   },
   "outputs": [],
   "source": [
    "fig = plt.figure(num=81, figsize=None, dpi=None)\n",
    "ax1 = fig.add_subplot(111)\n",
    "pcolor = ax1.pcolor(xrow, ycol, zmat,\n",
    "                    vmin=-0.4, vmax=0.4)\n",
    "ax1.set_xlabel(r'$x$')\n",
    "ax1.set_ylabel(r'$y$')\n",
    "colorbar = fig.colorbar(mappable=pcolor, ax=ax1,\n",
    "                        orientation='vertical', \n",
    "                        location='right')"
   ]
  },
  {
   "cell_type": "code",
   "execution_count": null,
   "id": "ee4f8081-59df-489c-b9f6-e7915cf0f116",
   "metadata": {},
   "outputs": [],
   "source": []
  },
  {
   "cell_type": "code",
   "execution_count": null,
   "id": "c82719b2-e698-4f2b-a294-1396fba20b0f",
   "metadata": {},
   "outputs": [],
   "source": []
  },
  {
   "cell_type": "code",
   "execution_count": 191,
   "id": "52781fb6-b230-496e-9fd6-a1c88a62d1a5",
   "metadata": {
    "tags": []
   },
   "outputs": [],
   "source": [
    "xrow = np.linspace(-2, 2, 1000)[np.newaxis, :]\n",
    "ycol = np.linspace(-2, 2, 1000)[:, np.newaxis]\n",
    "xmat, ymat = np.meshgrid(xrow, ycol)\n",
    "zdata_fun = lambda x, y: x * np.exp(-x**2 - y**2)\n",
    "zmat = zdata_fun(x=xrow, y=ycol)\n",
    "xarray = xmat.flatten()\n",
    "yarray = ymat.flatten()\n",
    "zarray = zmat.flatten()"
   ]
  },
  {
   "cell_type": "code",
   "execution_count": 192,
   "id": "987c3b14-08c6-4da2-aa7a-64da2359993a",
   "metadata": {
    "tags": []
   },
   "outputs": [],
   "source": [
    "fig = plt.figure(num=82, figsize=None, dpi=None)\n",
    "ax1 = fig.add_subplot(111)\n",
    "pcolor = ax1.pcolormesh(xrow, ycol, zmat,\n",
    "                        cmap='jet',\n",
    "                        vmin=-0.4, vmax=0.4)\n",
    "ax1.set_xlabel(r'$x$')\n",
    "ax1.set_ylabel(r'$y$')\n",
    "colorbar = fig.colorbar(mappable=pcolor, ax=ax1,\n",
    "                        orientation='vertical', \n",
    "                        location='right')"
   ]
  },
  {
   "cell_type": "code",
   "execution_count": 193,
   "id": "ab92e5a0-a907-4c05-b42c-e4c8f2d0d185",
   "metadata": {
    "tags": []
   },
   "outputs": [],
   "source": [
    "fig = plt.figure(num=83, figsize=None, dpi=None)\n",
    "ax1 = fig.add_subplot(111)\n",
    "contour = ax1.contour(xmat, ymat, zmat,\n",
    "                      levels=9,\n",
    "                      linewidths=(8, \n",
    "                                  5, 4, 3, 2, \n",
    "                                  1, \n",
    "                                  2, 3, 4, 5,\n",
    "                                  8),\n",
    "                      linestyles='-',\n",
    "                      negative_linestyles=':',\n",
    "                      colors='black')\n",
    "ax1.clabel(contour, fontsize=9, inline=True)\n",
    "ax1.set_xlabel(r'$x$')\n",
    "ax1.set_ylabel(r'$y$')\n",
    "colorbar = fig.colorbar(mappable=contour, ax=ax1,\n",
    "                        orientation='vertical', \n",
    "                        location='right')"
   ]
  },
  {
   "cell_type": "code",
   "execution_count": 194,
   "id": "40282e58-c0a4-435e-b8c0-1a773aa13d10",
   "metadata": {
    "tags": []
   },
   "outputs": [],
   "source": [
    "fig = plt.figure(num=84, figsize=None, dpi=None)\n",
    "ax1 = fig.add_subplot(111)\n",
    "contour = ax1.contour(xmat, ymat, zmat,\n",
    "                      levels=9,\n",
    "                      linewidths=(8, \n",
    "                                  5, 4, 3, 2, \n",
    "                                  1, \n",
    "                                  2, 3, 4, 5,\n",
    "                                  8),\n",
    "                      linestyles=(':', \n",
    "                                  ':', ':', ':', ':',\n",
    "                                  '--',\n",
    "                                  '-', '-', '-', '-',\n",
    "                                  '-'),\n",
    "                      colors=('rosybrown', \n",
    "                             'lightcoral', 'indianred', 'brown', 'firebrick',\n",
    "                             'black',\n",
    "                             'mediumblue', 'blue', 'mediumslateblue', 'mediumpurple',\n",
    "                             'blueviolet'))\n",
    "ax1.clabel(contour, fontsize=9, inline=True)\n",
    "ax1.set_xlabel(r'$x$')\n",
    "ax1.set_ylabel(r'$y$')\n",
    "colorbar = fig.colorbar(mappable=contour, ax=ax1,\n",
    "                        orientation='vertical', \n",
    "                        location='right')"
   ]
  },
  {
   "cell_type": "code",
   "execution_count": 195,
   "id": "d76d8c18-0f77-4763-aba7-146310a678fe",
   "metadata": {
    "tags": []
   },
   "outputs": [],
   "source": [
    "fig = plt.figure(num=85, figsize=None, dpi=None)\n",
    "ax1 = fig.add_subplot(111)\n",
    "contour = ax1.contourf(xmat, ymat, zmat,\n",
    "                       levels=9)\n",
    "ax1.set_xlabel(r'$x$')\n",
    "ax1.set_ylabel(r'$y$')\n",
    "colorbar = fig.colorbar(mappable=contour, ax=ax1,\n",
    "                        orientation='vertical', \n",
    "                        location='right')"
   ]
  },
  {
   "cell_type": "code",
   "execution_count": 196,
   "id": "022900ee-b34f-4001-bca4-3b45e7b95b9b",
   "metadata": {
    "tags": []
   },
   "outputs": [
    {
     "data": {
      "text/plain": [
       "Text(0.5, 0, '$z$')"
      ]
     },
     "execution_count": 196,
     "metadata": {},
     "output_type": "execute_result"
    }
   ],
   "source": [
    "fig = plt.figure(num=86, figsize=None, dpi=None)\n",
    "ax1 = fig.add_subplot(111, projection='3d')\n",
    "plot3d = ax1.plot3D(xarray, yarray, zarray)\n",
    "ax1.set_xlabel(r'$x$')\n",
    "ax1.set_ylabel(r'$y$')\n",
    "ax1.set_zlabel(r'$z$')"
   ]
  },
  {
   "cell_type": "code",
   "execution_count": 197,
   "id": "b06cd9eb-ed24-4542-b1c8-e83abe33df2f",
   "metadata": {
    "tags": []
   },
   "outputs": [
    {
     "data": {
      "text/plain": [
       "Text(0.5, 0, '$z$')"
      ]
     },
     "execution_count": 197,
     "metadata": {},
     "output_type": "execute_result"
    }
   ],
   "source": [
    "fig = plt.figure(num=87, figsize=None, dpi=None)\n",
    "ax1 = fig.add_subplot(111, projection='3d')\n",
    "plot3d = ax1.plot_surface(xrow, ycol, zmat)\n",
    "ax1.set_xlabel(r'$x$')\n",
    "ax1.set_ylabel(r'$y$')\n",
    "ax1.set_zlabel(r'$z$')"
   ]
  },
  {
   "cell_type": "code",
   "execution_count": 198,
   "id": "c2f45752-1a7c-465d-9954-ee8d3e1aa668",
   "metadata": {
    "tags": []
   },
   "outputs": [
    {
     "data": {
      "text/plain": [
       "Text(0.5, 0, '$z$')"
      ]
     },
     "execution_count": 198,
     "metadata": {},
     "output_type": "execute_result"
    }
   ],
   "source": [
    "fig = plt.figure(num=88, figsize=None, dpi=None)\n",
    "ax1 = fig.add_subplot(111, projection='3d')\n",
    "plot3d = ax1.plot_surface(xrow, ycol, zmat,\n",
    "                          color='tomato')\n",
    "ax1.set_xlabel(r'$x$')\n",
    "ax1.set_ylabel(r'$y$')\n",
    "ax1.set_zlabel(r'$z$')"
   ]
  },
  {
   "cell_type": "code",
   "execution_count": 199,
   "id": "8823de8c-3d9f-4866-affb-647594407fc6",
   "metadata": {
    "tags": []
   },
   "outputs": [
    {
     "data": {
      "text/plain": [
       "Text(0.5, 0, '$z$')"
      ]
     },
     "execution_count": 199,
     "metadata": {},
     "output_type": "execute_result"
    }
   ],
   "source": [
    "fig = plt.figure(num=89, figsize=None, dpi=None)\n",
    "ax1 = fig.add_subplot(111, projection='3d')\n",
    "plot3d = ax1.plot_surface(xrow, ycol, zmat, \n",
    "                          cmap='jet')\n",
    "ax1.set_xlabel(r'$x$')\n",
    "ax1.set_ylabel(r'$y$')\n",
    "ax1.set_zlabel(r'$z$')"
   ]
  },
  {
   "cell_type": "code",
   "execution_count": 200,
   "id": "5a964b4d-3a45-4ebd-bb13-ea76c40420c4",
   "metadata": {
    "tags": []
   },
   "outputs": [
    {
     "data": {
      "text/plain": [
       "Text(0.5, 0, '$z$')"
      ]
     },
     "execution_count": 200,
     "metadata": {},
     "output_type": "execute_result"
    }
   ],
   "source": [
    "fig = plt.figure(num=90, figsize=None, dpi=None)\n",
    "ax1 = fig.add_subplot(111, projection='3d')\n",
    "plot3d = ax1.plot_wireframe(xrow, ycol, zmat,\n",
    "                            color='tomato')\n",
    "ax1.set_xlabel(r'$x$')\n",
    "ax1.set_ylabel(r'$y$')\n",
    "ax1.set_zlabel(r'$z$')"
   ]
  },
  {
   "cell_type": "code",
   "execution_count": 201,
   "id": "8d737f04-38da-4008-a908-bb78d02eeff2",
   "metadata": {
    "tags": []
   },
   "outputs": [
    {
     "data": {
      "text/plain": [
       "Text(0.5, 0.5, '$z$')"
      ]
     },
     "execution_count": 201,
     "metadata": {},
     "output_type": "execute_result"
    }
   ],
   "source": [
    "fig = plt.figure(num=91, figsize=None, dpi=None)\n",
    "ax1 = fig.add_subplot(111, projection='3d')\n",
    "contour = ax1.contour3D(xmat, ymat, zmat,\n",
    "                        levels=9,\n",
    "                        linewidths=(8, \n",
    "                                    5, 4, 3, 2, \n",
    "                                    1, \n",
    "                                    2, 3, 4, 5,\n",
    "                                    8),\n",
    "                        linestyles=(':', \n",
    "                                    ':', ':', ':', ':',\n",
    "                                    '--',\n",
    "                                    '-', '-', '-', '-',\n",
    "                                    '-'),\n",
    "                        colors=('rosybrown', \n",
    "                               'lightcoral', 'indianred', 'brown', 'firebrick',\n",
    "                               'black',\n",
    "                               'mediumblue', 'blue', 'mediumslateblue', 'mediumpurple',\n",
    "                               'blueviolet'))\n",
    "ax1.set_xlabel(r'$x$')\n",
    "ax1.set_ylabel(r'$y$')\n",
    "ax1.set_ylabel(r'$z$')"
   ]
  },
  {
   "cell_type": "code",
   "execution_count": 202,
   "id": "dc100c49-192a-48be-bbc4-3497f03af7a9",
   "metadata": {
    "tags": []
   },
   "outputs": [],
   "source": [
    "fig = plt.figure(num=92, figsize=None, dpi=None)\n",
    "ax1 = fig.add_subplot(111, projection='3d')\n",
    "plot3d = ax1.contourf3D(xmat, ymat, zmat,\n",
    "                        levels=9)"
   ]
  },
  {
   "cell_type": "code",
   "execution_count": 203,
   "id": "c588ade7-f209-4f05-b017-36a403b15883",
   "metadata": {
    "tags": []
   },
   "outputs": [],
   "source": [
    "img1 = plt.imread('image1.jpg')"
   ]
  },
  {
   "cell_type": "code",
   "execution_count": 204,
   "id": "664327f1-a116-406e-8332-6cd5da31d277",
   "metadata": {
    "tags": []
   },
   "outputs": [
    {
     "data": {
      "text/plain": [
       "numpy.ndarray"
      ]
     },
     "execution_count": 204,
     "metadata": {},
     "output_type": "execute_result"
    }
   ],
   "source": [
    "type(img1)"
   ]
  },
  {
   "cell_type": "code",
   "execution_count": 205,
   "id": "a46ca360-b9ba-42d2-9c8c-4e9fea56041b",
   "metadata": {
    "tags": []
   },
   "outputs": [
    {
     "data": {
      "text/plain": [
       "(600, 797, 3)"
      ]
     },
     "execution_count": 205,
     "metadata": {},
     "output_type": "execute_result"
    }
   ],
   "source": [
    "img1.shape"
   ]
  },
  {
   "cell_type": "code",
   "execution_count": 206,
   "id": "21bd07d0-ac8f-49fd-806c-b01f3958919d",
   "metadata": {
    "tags": []
   },
   "outputs": [
    {
     "data": {
      "text/plain": [
       "478200"
      ]
     },
     "execution_count": 206,
     "metadata": {},
     "output_type": "execute_result"
    }
   ],
   "source": [
    "img1.shape[-3] * img1.shape[-2]"
   ]
  },
  {
   "cell_type": "code",
   "execution_count": 207,
   "id": "148b3b74-5c78-49fb-892c-c16227ffa68f",
   "metadata": {
    "tags": []
   },
   "outputs": [],
   "source": [
    "reds = img1[:, :, 0]\n",
    "greens = img1[:, :, 1]\n",
    "blues = img1[:, :, 2]"
   ]
  },
  {
   "cell_type": "code",
   "execution_count": 208,
   "id": "c6a5e555-9981-44f2-b0bd-0bdcf0a69d7d",
   "metadata": {
    "tags": []
   },
   "outputs": [
    {
     "data": {
      "text/plain": [
       "<matplotlib.image.AxesImage at 0x2621abea390>"
      ]
     },
     "execution_count": 208,
     "metadata": {},
     "output_type": "execute_result"
    }
   ],
   "source": [
    "plt.bone()\n",
    "fig = plt.figure(num=93, figsize=(8, 8), dpi=None)\n",
    "ax1 = fig.add_subplot(311)\n",
    "ax1.matshow(reds)\n",
    "ax2 = fig.add_subplot(312)\n",
    "ax2.matshow(greens)\n",
    "ax3 = fig.add_subplot(313)\n",
    "ax3.matshow(blues)"
   ]
  },
  {
   "cell_type": "code",
   "execution_count": 209,
   "id": "a70a2b05-2c75-4a25-9745-7c37857a5b82",
   "metadata": {
    "tags": []
   },
   "outputs": [
    {
     "data": {
      "text/plain": [
       "<matplotlib.image.AxesImage at 0x26207a7a390>"
      ]
     },
     "execution_count": 209,
     "metadata": {},
     "output_type": "execute_result"
    }
   ],
   "source": [
    "fig = plt.figure(num=94, figsize=None, dpi=None)\n",
    "ax1 = fig.add_subplot(111)\n",
    "ax1.imshow(img1)"
   ]
  },
  {
   "cell_type": "code",
   "execution_count": 210,
   "id": "0b52d0b0-9589-4bba-a774-a78f059b3ae8",
   "metadata": {
    "tags": []
   },
   "outputs": [],
   "source": [
    "img2 = np.zeros_like(img1)\n",
    "img2[:, :, 0] = 2 * reds\n",
    "img2[:, :, 1] = greens\n",
    "img2[:, :, 2] = blues\n",
    "img2[:, :, :] > 255\n",
    "img2[img2[:, :, :] > 255] = 255 "
   ]
  },
  {
   "cell_type": "code",
   "execution_count": 211,
   "id": "ea8c3f43-69c9-4476-8694-97edd1dde689",
   "metadata": {
    "tags": []
   },
   "outputs": [
    {
     "data": {
      "text/plain": [
       "<matplotlib.image.AxesImage at 0x2627f082390>"
      ]
     },
     "execution_count": 211,
     "metadata": {},
     "output_type": "execute_result"
    }
   ],
   "source": [
    "fig = plt.figure(num=95, figsize=None, dpi=None)\n",
    "ax1 = fig.add_subplot(111)\n",
    "ax1.imshow(img2)"
   ]
  },
  {
   "cell_type": "code",
   "execution_count": 212,
   "id": "33bdd28f-2dfa-4ccd-8f68-e1873570497e",
   "metadata": {
    "tags": []
   },
   "outputs": [],
   "source": [
    "plt.imsave(fname='image1redenhanched.jpg', arr=img2)"
   ]
  },
  {
   "cell_type": "code",
   "execution_count": null,
   "id": "e1a06a53-2b25-4eea-bf3d-52def5f1405b",
   "metadata": {},
   "outputs": [],
   "source": []
  }
 ],
 "metadata": {
  "kernelspec": {
   "display_name": "Python 3 (ipykernel)",
   "language": "python",
   "name": "python3"
  },
  "language_info": {
   "codemirror_mode": {
    "name": "ipython",
    "version": 3
   },
   "file_extension": ".py",
   "mimetype": "text/x-python",
   "name": "python",
   "nbconvert_exporter": "python",
   "pygments_lexer": "ipython3",
   "version": "3.11.3"
  }
 },
 "nbformat": 4,
 "nbformat_minor": 5
}
