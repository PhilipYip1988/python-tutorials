{
 "cells": [
  {
   "cell_type": "code",
   "execution_count": 1,
   "id": "0e081346-d8ce-4415-b3c9-af6678eae0cc",
   "metadata": {},
   "outputs": [],
   "source": [
    "import datetime as dt"
   ]
  },
  {
   "cell_type": "code",
   "execution_count": 2,
   "id": "9277c7ee-1e1e-4ef7-b3c8-e9e7722804fe",
   "metadata": {},
   "outputs": [
    {
     "data": {
      "text/plain": [
       "\u001b[0;31mType:\u001b[0m        module\n",
       "\u001b[0;31mString form:\u001b[0m <module 'datetime' from '/home/philip/mambaforge/envs/jupyterlab-cf/lib/python3.11/datetime.py'>\n",
       "\u001b[0;31mFile:\u001b[0m        ~/mambaforge/envs/jupyterlab-cf/lib/python3.11/datetime.py\n",
       "\u001b[0;31mDocstring:\u001b[0m   Fast implementation of the datetime type.\n"
      ]
     },
     "metadata": {},
     "output_type": "display_data"
    }
   ],
   "source": [
    "? dt"
   ]
  },
  {
   "cell_type": "code",
   "execution_count": 3,
   "id": "04234a11-1dff-4553-a914-fb79f6503401",
   "metadata": {},
   "outputs": [
    {
     "data": {
      "text/plain": [
       "\u001b[0;31mInit signature:\u001b[0m  \u001b[0mdt\u001b[0m\u001b[0;34m.\u001b[0m\u001b[0mdate\u001b[0m\u001b[0;34m(\u001b[0m\u001b[0mself\u001b[0m\u001b[0;34m,\u001b[0m \u001b[0;34m/\u001b[0m\u001b[0;34m,\u001b[0m \u001b[0;34m*\u001b[0m\u001b[0margs\u001b[0m\u001b[0;34m,\u001b[0m \u001b[0;34m**\u001b[0m\u001b[0mkwargs\u001b[0m\u001b[0;34m)\u001b[0m\u001b[0;34m\u001b[0m\u001b[0;34m\u001b[0m\u001b[0m\n",
       "\u001b[0;31mDocstring:\u001b[0m      date(year, month, day) --> date object\n",
       "\u001b[0;31mFile:\u001b[0m           ~/mambaforge/envs/jupyterlab-cf/lib/python3.11/datetime.py\n",
       "\u001b[0;31mType:\u001b[0m           type\n",
       "\u001b[0;31mSubclasses:\u001b[0m     datetime\n"
      ]
     },
     "metadata": {},
     "output_type": "display_data"
    }
   ],
   "source": [
    "? dt.date"
   ]
  },
  {
   "cell_type": "code",
   "execution_count": 10,
   "id": "2b7e09cd-d36f-49e4-90f5-d61943dca80a",
   "metadata": {},
   "outputs": [
    {
     "data": {
      "text/plain": [
       "datetime.date(2008, 12, 3)"
      ]
     },
     "execution_count": 10,
     "metadata": {},
     "output_type": "execute_result"
    }
   ],
   "source": [
    "py300 = dt.date(year=2008, month=12, day=3)\n",
    "py300"
   ]
  },
  {
   "cell_type": "code",
   "execution_count": 11,
   "id": "eb8b0ca8-cfbf-445a-8be3-a1e8408950d5",
   "metadata": {},
   "outputs": [
    {
     "data": {
      "text/plain": [
       "datetime.date(2022, 10, 24)"
      ]
     },
     "execution_count": 11,
     "metadata": {},
     "output_type": "execute_result"
    }
   ],
   "source": [
    "py311 = dt.date(year=2022, month=10, day=24)\n",
    "py311"
   ]
  },
  {
   "cell_type": "code",
   "execution_count": 16,
   "id": "8976f812-4560-4a1a-9b4a-4041429bbd1c",
   "metadata": {},
   "outputs": [
    {
     "data": {
      "text/plain": [
       "2008"
      ]
     },
     "execution_count": 16,
     "metadata": {},
     "output_type": "execute_result"
    }
   ],
   "source": [
    "py300.year"
   ]
  },
  {
   "cell_type": "code",
   "execution_count": 18,
   "id": "7d3ff098-ed19-4380-af62-f60590e09143",
   "metadata": {},
   "outputs": [
    {
     "data": {
      "text/plain": [
       "12"
      ]
     },
     "execution_count": 18,
     "metadata": {},
     "output_type": "execute_result"
    }
   ],
   "source": [
    "py300.month"
   ]
  },
  {
   "cell_type": "code",
   "execution_count": 17,
   "id": "a3ae0812-ade5-44f3-97ce-f5d25823d384",
   "metadata": {},
   "outputs": [
    {
     "data": {
      "text/plain": [
       "3"
      ]
     },
     "execution_count": 17,
     "metadata": {},
     "output_type": "execute_result"
    }
   ],
   "source": [
    "py300.day"
   ]
  },
  {
   "cell_type": "code",
   "execution_count": 20,
   "id": "a42ccb8d-ddf0-4d8f-bd64-ebb961ccc096",
   "metadata": {},
   "outputs": [
    {
     "data": {
      "text/plain": [
       "datetime.timedelta(days=1)"
      ]
     },
     "execution_count": 20,
     "metadata": {},
     "output_type": "execute_result"
    }
   ],
   "source": [
    "py300.resolution"
   ]
  },
  {
   "cell_type": "code",
   "execution_count": 22,
   "id": "62cfcad5-3bc6-4953-b140-6c115b729a25",
   "metadata": {},
   "outputs": [
    {
     "data": {
      "text/plain": [
       "time.struct_time(tm_year=2008, tm_mon=12, tm_mday=3, tm_hour=0, tm_min=0, tm_sec=0, tm_wday=2, tm_yday=338, tm_isdst=-1)"
      ]
     },
     "execution_count": 22,
     "metadata": {},
     "output_type": "execute_result"
    }
   ],
   "source": [
    "py300.timetuple()"
   ]
  },
  {
   "cell_type": "code",
   "execution_count": 12,
   "id": "dbd74190-5376-4ad3-a585-6e566e3af473",
   "metadata": {},
   "outputs": [
    {
     "data": {
      "text/plain": [
       "'Wed Dec  3 00:00:00 2008'"
      ]
     },
     "execution_count": 12,
     "metadata": {},
     "output_type": "execute_result"
    }
   ],
   "source": [
    "py300.ctime()"
   ]
  },
  {
   "cell_type": "code",
   "execution_count": 23,
   "id": "a259faba-ddea-40a1-9851-7894c2e08421",
   "metadata": {},
   "outputs": [
    {
     "data": {
      "text/plain": [
       "2"
      ]
     },
     "execution_count": 23,
     "metadata": {},
     "output_type": "execute_result"
    }
   ],
   "source": [
    "py300.weekday()"
   ]
  },
  {
   "cell_type": "code",
   "execution_count": 14,
   "id": "e49f9076-5de0-482e-83ad-a1142a63f460",
   "metadata": {},
   "outputs": [
    {
     "data": {
      "text/plain": [
       "'2008-12-03'"
      ]
     },
     "execution_count": 14,
     "metadata": {},
     "output_type": "execute_result"
    }
   ],
   "source": [
    "py300.isoformat()"
   ]
  },
  {
   "cell_type": "code",
   "execution_count": 15,
   "id": "9aaa10ab-4bb6-4e0f-bc27-af80abc00007",
   "metadata": {},
   "outputs": [
    {
     "data": {
      "text/plain": [
       "3"
      ]
     },
     "execution_count": 15,
     "metadata": {},
     "output_type": "execute_result"
    }
   ],
   "source": [
    "py300.isoweekday()"
   ]
  },
  {
   "cell_type": "code",
   "execution_count": 13,
   "id": "e4eb59d0-5514-4e0e-a3cb-705868a0b03a",
   "metadata": {},
   "outputs": [
    {
     "data": {
      "text/plain": [
       "datetime.IsoCalendarDate(year=2008, week=49, weekday=3)"
      ]
     },
     "execution_count": 13,
     "metadata": {},
     "output_type": "execute_result"
    }
   ],
   "source": [
    "py300.isocalendar()"
   ]
  },
  {
   "cell_type": "code",
   "execution_count": 38,
   "id": "411c6020-b45e-4b3b-956a-237d50137e8d",
   "metadata": {},
   "outputs": [
    {
     "data": {
      "text/plain": [
       "datetime.date(2008, 11, 3)"
      ]
     },
     "execution_count": 38,
     "metadata": {},
     "output_type": "execute_result"
    }
   ],
   "source": [
    "py300.replace(month=11)"
   ]
  },
  {
   "cell_type": "code",
   "execution_count": 101,
   "id": "e31c7a09-10f8-466f-aa48-a7c8006cd9e9",
   "metadata": {},
   "outputs": [
    {
     "data": {
      "text/plain": [
       "datetime.date(9999, 12, 31)"
      ]
     },
     "execution_count": 101,
     "metadata": {},
     "output_type": "execute_result"
    }
   ],
   "source": [
    "dt.date.max"
   ]
  },
  {
   "cell_type": "code",
   "execution_count": 102,
   "id": "7282505f-e067-4a5d-8190-43cf97194904",
   "metadata": {},
   "outputs": [
    {
     "data": {
      "text/plain": [
       "datetime.date(1, 1, 1)"
      ]
     },
     "execution_count": 102,
     "metadata": {},
     "output_type": "execute_result"
    }
   ],
   "source": [
    "dt.date.min"
   ]
  },
  {
   "cell_type": "code",
   "execution_count": 24,
   "id": "2ee4057c-2640-4868-a74e-e4d9192d5c93",
   "metadata": {},
   "outputs": [
    {
     "data": {
      "text/plain": [
       "733379"
      ]
     },
     "execution_count": 24,
     "metadata": {},
     "output_type": "execute_result"
    }
   ],
   "source": [
    "py300.toordinal()"
   ]
  },
  {
   "cell_type": "code",
   "execution_count": null,
   "id": "f8305b39-6b5b-4a40-98f7-503a0a34a89d",
   "metadata": {},
   "outputs": [],
   "source": []
  },
  {
   "cell_type": "code",
   "execution_count": 103,
   "id": "0b960bd6-032f-40cb-99a8-62b87359e6bd",
   "metadata": {},
   "outputs": [],
   "source": [
    "# do later before moving onto time"
   ]
  },
  {
   "cell_type": "code",
   "execution_count": 30,
   "id": "b7a9dedc-5c33-4382-af6e-639d74d251ba",
   "metadata": {},
   "outputs": [
    {
     "data": {
      "text/plain": [
       "datetime.date(2008, 12, 3)"
      ]
     },
     "execution_count": 30,
     "metadata": {},
     "output_type": "execute_result"
    }
   ],
   "source": [
    "py300"
   ]
  },
  {
   "cell_type": "code",
   "execution_count": 28,
   "id": "7955ec69-c992-4813-b1d2-95460908c3fa",
   "metadata": {},
   "outputs": [
    {
     "data": {
      "text/plain": [
       "'08'"
      ]
     },
     "execution_count": 28,
     "metadata": {},
     "output_type": "execute_result"
    }
   ],
   "source": [
    "py300.strftime(\"%y\")"
   ]
  },
  {
   "cell_type": "code",
   "execution_count": 27,
   "id": "e5511255-48c5-40ce-8d45-75716ed59b4d",
   "metadata": {},
   "outputs": [
    {
     "data": {
      "text/plain": [
       "'2008'"
      ]
     },
     "execution_count": 27,
     "metadata": {},
     "output_type": "execute_result"
    }
   ],
   "source": [
    "py300.strftime(\"%Y\")"
   ]
  },
  {
   "cell_type": "code",
   "execution_count": 31,
   "id": "2d0a81e5-2e4b-4eeb-bb8f-2babb7c0c36f",
   "metadata": {},
   "outputs": [
    {
     "data": {
      "text/plain": [
       "'12'"
      ]
     },
     "execution_count": 31,
     "metadata": {},
     "output_type": "execute_result"
    }
   ],
   "source": [
    "py300.strftime(\"%m\")"
   ]
  },
  {
   "cell_type": "code",
   "execution_count": 34,
   "id": "964253c3-8cd2-482c-89e8-c1cea854f3d4",
   "metadata": {},
   "outputs": [
    {
     "data": {
      "text/plain": [
       "'03'"
      ]
     },
     "execution_count": 34,
     "metadata": {},
     "output_type": "execute_result"
    }
   ],
   "source": [
    "py300.strftime(\"%d\")"
   ]
  },
  {
   "cell_type": "code",
   "execution_count": 35,
   "id": "7af3233d-79dc-4bfd-b376-d8b75be64ce7",
   "metadata": {},
   "outputs": [
    {
     "data": {
      "text/plain": [
       "'12/03/08'"
      ]
     },
     "execution_count": 35,
     "metadata": {},
     "output_type": "execute_result"
    }
   ],
   "source": [
    "py300.strftime(\"%D\")"
   ]
  },
  {
   "cell_type": "code",
   "execution_count": null,
   "id": "3c54a09b-74fd-4771-ad95-89ed3c16697e",
   "metadata": {},
   "outputs": [],
   "source": []
  },
  {
   "cell_type": "code",
   "execution_count": 29,
   "id": "c2f800e0-ffa0-460e-b238-276bd3878a3c",
   "metadata": {},
   "outputs": [
    {
     "data": {
      "text/plain": [
       "'00'"
      ]
     },
     "execution_count": 29,
     "metadata": {},
     "output_type": "execute_result"
    }
   ],
   "source": [
    "py300.strftime(\"%M\")"
   ]
  },
  {
   "cell_type": "code",
   "execution_count": null,
   "id": "36b9cb09-f93d-49e6-9148-43c4bd453e37",
   "metadata": {},
   "outputs": [],
   "source": []
  },
  {
   "cell_type": "code",
   "execution_count": 39,
   "id": "b13e1fad-59f6-4ca4-baf4-2c1004206c06",
   "metadata": {},
   "outputs": [
    {
     "data": {
      "text/plain": [
       "datetime.date(2022, 12, 28)"
      ]
     },
     "execution_count": 39,
     "metadata": {},
     "output_type": "execute_result"
    }
   ],
   "source": [
    "dt.date.today()"
   ]
  },
  {
   "cell_type": "code",
   "execution_count": 42,
   "id": "c67b735c-13be-4f9e-add7-c5d94402a3db",
   "metadata": {},
   "outputs": [
    {
     "data": {
      "text/plain": [
       "datetime.date(2008, 12, 3)"
      ]
     },
     "execution_count": 42,
     "metadata": {},
     "output_type": "execute_result"
    }
   ],
   "source": [
    "# dt.date.fromisocalendar(year=2008, week=49, weekday=3)\n",
    "dt.date.fromisocalendar(2008, 49, 3)"
   ]
  },
  {
   "cell_type": "code",
   "execution_count": 44,
   "id": "9b36cdc1-3a27-42a2-8646-f33ba899a257",
   "metadata": {},
   "outputs": [
    {
     "data": {
      "text/plain": [
       "datetime.date(2008, 12, 3)"
      ]
     },
     "execution_count": 44,
     "metadata": {},
     "output_type": "execute_result"
    }
   ],
   "source": [
    "dt.date.fromisoformat(\"2008-12-03\")"
   ]
  },
  {
   "cell_type": "code",
   "execution_count": 47,
   "id": "2fff3a14-45ea-41c3-8ca1-8338e5533b48",
   "metadata": {},
   "outputs": [
    {
     "data": {
      "text/plain": [
       "datetime.date(1, 1, 1)"
      ]
     },
     "execution_count": 47,
     "metadata": {},
     "output_type": "execute_result"
    }
   ],
   "source": [
    "dt.date.fromordinal(1)"
   ]
  },
  {
   "cell_type": "code",
   "execution_count": 67,
   "id": "7eb3121e-fde2-4b16-95f7-b10561bfb661",
   "metadata": {},
   "outputs": [
    {
     "data": {
      "text/plain": [
       "datetime.date(1970, 1, 1)"
      ]
     },
     "execution_count": 67,
     "metadata": {},
     "output_type": "execute_result"
    }
   ],
   "source": [
    "dt.date.fromtimestamp(1)"
   ]
  },
  {
   "cell_type": "code",
   "execution_count": 68,
   "id": "3ed19ae1-6356-41b9-975c-67fc4ba85fb7",
   "metadata": {},
   "outputs": [
    {
     "data": {
      "text/plain": [
       "datetime.timedelta(days=719162)"
      ]
     },
     "execution_count": 68,
     "metadata": {},
     "output_type": "execute_result"
    }
   ],
   "source": [
    "dt.date.fromtimestamp(1) - dt.date.fromordinal(1)"
   ]
  },
  {
   "cell_type": "code",
   "execution_count": 59,
   "id": "8c7c33c3-9b57-4e74-935a-b73aef1c2e9b",
   "metadata": {},
   "outputs": [
    {
     "data": {
      "text/plain": [
       "733379"
      ]
     },
     "execution_count": 59,
     "metadata": {},
     "output_type": "execute_result"
    }
   ],
   "source": [
    "py300.toordinal()"
   ]
  },
  {
   "cell_type": "code",
   "execution_count": 62,
   "id": "b9759af5-3725-4c06-874d-a7aada9dd4e1",
   "metadata": {},
   "outputs": [
    {
     "data": {
      "text/plain": [
       "datetime.date(2008, 12, 3)"
      ]
     },
     "execution_count": 62,
     "metadata": {},
     "output_type": "execute_result"
    }
   ],
   "source": [
    "dt.date.fromordinal(733379)"
   ]
  },
  {
   "cell_type": "code",
   "execution_count": 100,
   "id": "8f6c6f10-1e5d-4263-9b57-7f9e81cf8494",
   "metadata": {},
   "outputs": [
    {
     "data": {
      "text/plain": [
       "datetime.date(1, 1, 1)"
      ]
     },
     "execution_count": 100,
     "metadata": {},
     "output_type": "execute_result"
    }
   ],
   "source": [
    "dt.date.min"
   ]
  },
  {
   "cell_type": "code",
   "execution_count": 78,
   "id": "d0200665-9f9b-4204-a984-90d735762d5f",
   "metadata": {},
   "outputs": [
    {
     "data": {
      "text/plain": [
       "datetime.date(1, 1, 1)"
      ]
     },
     "execution_count": 78,
     "metadata": {},
     "output_type": "execute_result"
    }
   ],
   "source": [
    "dt.date.fromordinal(1)"
   ]
  },
  {
   "cell_type": "code",
   "execution_count": 83,
   "id": "c8ed018c-66f9-4e01-91c5-d058cd22a74b",
   "metadata": {},
   "outputs": [
    {
     "data": {
      "text/plain": [
       "datetime.date(1, 1, 2)"
      ]
     },
     "execution_count": 83,
     "metadata": {},
     "output_type": "execute_result"
    }
   ],
   "source": [
    "dt.date.fromordinal(2)"
   ]
  },
  {
   "cell_type": "code",
   "execution_count": null,
   "id": "fc904636-57df-49f8-87db-b16f10bdb621",
   "metadata": {},
   "outputs": [],
   "source": [
    "# ordinal time 1 unit is 1 day\n",
    "# begins at year=1, month=1, day=1"
   ]
  },
  {
   "cell_type": "code",
   "execution_count": null,
   "id": "cd2a5734-2117-4997-acfa-60f699eb92b1",
   "metadata": {},
   "outputs": [],
   "source": []
  },
  {
   "cell_type": "code",
   "execution_count": 72,
   "id": "96c84471-2cfb-4225-9c4f-760d460bb9a5",
   "metadata": {},
   "outputs": [
    {
     "data": {
      "text/plain": [
       "datetime.date(1970, 1, 1)"
      ]
     },
     "execution_count": 72,
     "metadata": {},
     "output_type": "execute_result"
    }
   ],
   "source": [
    "dt.date.fromtimestamp(1)"
   ]
  },
  {
   "cell_type": "code",
   "execution_count": null,
   "id": "4bb711dd-5770-4349-b626-82b0beba32e3",
   "metadata": {},
   "outputs": [],
   "source": [
    "# timestamp 1 unit is 1 millisecond\n",
    "# begins at year=1970, month=1, day=1"
   ]
  },
  {
   "cell_type": "code",
   "execution_count": 87,
   "id": "1cf67e9f-3d4f-49f7-9c03-538baa4241ab",
   "metadata": {},
   "outputs": [
    {
     "data": {
      "text/plain": [
       "datetime.date(1970, 1, 1)"
      ]
     },
     "execution_count": 87,
     "metadata": {},
     "output_type": "execute_result"
    }
   ],
   "source": [
    "dt.date.fromtimestamp(1)"
   ]
  },
  {
   "cell_type": "code",
   "execution_count": 89,
   "id": "c6d5307a-afa2-4964-90cf-a8c1dd373962",
   "metadata": {},
   "outputs": [
    {
     "data": {
      "text/plain": [
       "datetime.date(1970, 1, 2)"
      ]
     },
     "execution_count": 89,
     "metadata": {},
     "output_type": "execute_result"
    }
   ],
   "source": [
    "dt.date.fromtimestamp(24 * 60 * 60)"
   ]
  },
  {
   "cell_type": "code",
   "execution_count": 90,
   "id": "88b67daf-43a9-4bde-898f-3e368aa64422",
   "metadata": {},
   "outputs": [
    {
     "data": {
      "text/plain": [
       "datetime.date(1970, 1, 3)"
      ]
     },
     "execution_count": 90,
     "metadata": {},
     "output_type": "execute_result"
    }
   ],
   "source": [
    "dt.date.fromtimestamp(2 * 24 * 60 * 60)"
   ]
  },
  {
   "cell_type": "code",
   "execution_count": 95,
   "id": "73995720-e4e9-4c25-b842-b8c41e947755",
   "metadata": {},
   "outputs": [
    {
     "data": {
      "text/plain": [
       "datetime.datetime(1970, 1, 3, 1, 0)"
      ]
     },
     "execution_count": 95,
     "metadata": {},
     "output_type": "execute_result"
    }
   ],
   "source": [
    "dt.datetime.fromtimestamp(2 * 24 * 60 * 60)"
   ]
  },
  {
   "cell_type": "code",
   "execution_count": null,
   "id": "dda66e70-4abe-4975-a3db-3bdf42a7be7a",
   "metadata": {},
   "outputs": [],
   "source": []
  },
  {
   "cell_type": "code",
   "execution_count": 97,
   "id": "f236e8a6-4e2e-4a23-9b04-545a406130a3",
   "metadata": {},
   "outputs": [
    {
     "data": {
      "text/plain": [
       "datetime.time(23, 0)"
      ]
     },
     "execution_count": 97,
     "metadata": {},
     "output_type": "execute_result"
    }
   ],
   "source": [
    "dt.time(23)"
   ]
  },
  {
   "cell_type": "code",
   "execution_count": 98,
   "id": "22456c7c-d307-4f9c-8a30-ba7dd8f257af",
   "metadata": {},
   "outputs": [
    {
     "data": {
      "text/plain": [
       "datetime.time(23, 59, 59, 999999)"
      ]
     },
     "execution_count": 98,
     "metadata": {},
     "output_type": "execute_result"
    }
   ],
   "source": [
    "dt.time.max"
   ]
  },
  {
   "cell_type": "code",
   "execution_count": 99,
   "id": "3a121701-95c0-4e9f-85c2-df86c5e3d96a",
   "metadata": {},
   "outputs": [
    {
     "data": {
      "text/plain": [
       "datetime.time(0, 0)"
      ]
     },
     "execution_count": 99,
     "metadata": {},
     "output_type": "execute_result"
    }
   ],
   "source": [
    "dt.time.min"
   ]
  },
  {
   "cell_type": "code",
   "execution_count": 104,
   "id": "9af63ad7-a17e-4357-bf04-aaf54d9a0fc2",
   "metadata": {},
   "outputs": [
    {
     "data": {
      "text/plain": [
       "<attribute 'microsecond' of 'datetime.time' objects>"
      ]
     },
     "execution_count": 104,
     "metadata": {},
     "output_type": "execute_result"
    }
   ],
   "source": [
    "dt.time.microsecond"
   ]
  },
  {
   "cell_type": "code",
   "execution_count": 106,
   "id": "e916e286-c20b-4976-be38-c12771a482a0",
   "metadata": {},
   "outputs": [
    {
     "data": {
      "text/plain": [
       "datetime.timedelta(microseconds=1)"
      ]
     },
     "execution_count": 106,
     "metadata": {},
     "output_type": "execute_result"
    }
   ],
   "source": [
    "dt.time.resolution"
   ]
  },
  {
   "cell_type": "code",
   "execution_count": 116,
   "id": "bfa9f846-bc38-49e5-8da8-a6d9b4c15f1d",
   "metadata": {},
   "outputs": [
    {
     "data": {
      "text/plain": [
       "datetime.time(23, 59, 59, 999999)"
      ]
     },
     "execution_count": 116,
     "metadata": {},
     "output_type": "execute_result"
    }
   ],
   "source": [
    "dt.time(hour=23, minute=59, second=59, microsecond=999999)"
   ]
  },
  {
   "cell_type": "code",
   "execution_count": 117,
   "id": "63bd0554-4f1e-4b44-a7a5-fc53a309171e",
   "metadata": {},
   "outputs": [],
   "source": [
    "bong = dt.time(hour=23, minute=59, second=59, microsecond=999999)"
   ]
  },
  {
   "cell_type": "code",
   "execution_count": 122,
   "id": "80c46c32-589a-41cb-a0a7-bca8f9c96c43",
   "metadata": {},
   "outputs": [],
   "source": [
    "bong.tzinfo"
   ]
  },
  {
   "cell_type": "code",
   "execution_count": 123,
   "id": "404e8386-4dc8-421b-bf8c-e8b6d55f62d6",
   "metadata": {},
   "outputs": [],
   "source": [
    "bong.tzname()"
   ]
  },
  {
   "cell_type": "code",
   "execution_count": 125,
   "id": "9828cc93-5fe7-4f42-be48-82165faca833",
   "metadata": {},
   "outputs": [],
   "source": [
    "bong.utcoffset()"
   ]
  },
  {
   "cell_type": "code",
   "execution_count": 120,
   "id": "36239b09-1f3c-4995-b253-e1e3b35f4eba",
   "metadata": {},
   "outputs": [],
   "source": [
    "bong.dst() # None, no timezone info"
   ]
  },
  {
   "cell_type": "code",
   "execution_count": 121,
   "id": "55de0bf2-4fe4-493e-a130-9c981979d503",
   "metadata": {},
   "outputs": [
    {
     "data": {
      "text/plain": [
       "0"
      ]
     },
     "execution_count": 121,
     "metadata": {},
     "output_type": "execute_result"
    }
   ],
   "source": [
    "bong.fold # Used only on days the clock changes"
   ]
  },
  {
   "cell_type": "code",
   "execution_count": 126,
   "id": "d5844a1c-4a55-40e0-8fa0-b390aa444b43",
   "metadata": {},
   "outputs": [],
   "source": [
    "import time"
   ]
  },
  {
   "cell_type": "code",
   "execution_count": 127,
   "id": "0b15c9b9-466d-484c-b85b-dd56d4ac56b7",
   "metadata": {},
   "outputs": [
    {
     "data": {
      "text/plain": [
       "1672272801.474598"
      ]
     },
     "execution_count": 127,
     "metadata": {},
     "output_type": "execute_result"
    }
   ],
   "source": [
    "time.time()"
   ]
  },
  {
   "cell_type": "code",
   "execution_count": 128,
   "id": "b2b117c7-d609-4311-9002-2fcdde7c890b",
   "metadata": {},
   "outputs": [
    {
     "data": {
      "text/plain": [
       "1672272810.0070312"
      ]
     },
     "execution_count": 128,
     "metadata": {},
     "output_type": "execute_result"
    }
   ],
   "source": [
    "time.time()"
   ]
  },
  {
   "cell_type": "code",
   "execution_count": 129,
   "id": "8c73f1ed-092c-4cf0-beeb-1ef3abaa2cd7",
   "metadata": {},
   "outputs": [],
   "source": [
    "time.sleep(5)"
   ]
  },
  {
   "cell_type": "code",
   "execution_count": null,
   "id": "e8ac36b8-460e-409d-9a03-74331f54c13b",
   "metadata": {},
   "outputs": [],
   "source": []
  }
 ],
 "metadata": {
  "kernelspec": {
   "display_name": "Python 3 (ipykernel)",
   "language": "python",
   "name": "python3"
  },
  "language_info": {
   "codemirror_mode": {
    "name": "ipython",
    "version": 3
   },
   "file_extension": ".py",
   "mimetype": "text/x-python",
   "name": "python",
   "nbconvert_exporter": "python",
   "pygments_lexer": "ipython3",
   "version": "3.11.0"
  }
 },
 "nbformat": 4,
 "nbformat_minor": 5
}
