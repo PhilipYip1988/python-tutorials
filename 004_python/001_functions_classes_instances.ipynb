{
 "cells": [
  {
   "cell_type": "markdown",
   "id": "f1960fcf-cd9b-48e5-abcd-d63dff2c42c4",
   "metadata": {},
   "source": [
    "# Python Object Orientated Programming Conceptualisation"
   ]
  },
  {
   "cell_type": "markdown",
   "id": "09d3a629-32dc-469e-8981-16724f373377",
   "metadata": {},
   "source": [
    "Python has a number of builtin objects which are as the name suggests inbuilt into Python. However it can be quite insightful to import the builtins module and explore its contents."
   ]
  },
  {
   "cell_type": "code",
   "execution_count": 5,
   "id": "ca4efeba-243b-4370-8fc4-babaf081a89f",
   "metadata": {},
   "outputs": [],
   "source": [
    "import builtins"
   ]
  },
  {
   "cell_type": "markdown",
   "id": "1eb14441-6996-48aa-aaf5-68fe5a65fe95",
   "metadata": {},
   "source": [
    "Now that this module is imported we can type in ```builtins``` followed by a dot ```.``` and tab ```↹``` to view the list of inbuilt objects. \n",
    "\n",
    "Note sometimes the list of inbuilt objects does not load properly. You can click out of the cell and click back into the cell and press tab ```↹``` again to load this list again:"
   ]
  },
  {
   "cell_type": "code",
   "execution_count": null,
   "id": "cf93b236-9f9d-4783-8286-68b85d008c77",
   "metadata": {},
   "outputs": [],
   "source": []
  },
  {
   "cell_type": "markdown",
   "id": "18300c6f-0109-4079-9612-14c87063b22c",
   "metadata": {},
   "source": [
    "The list you see should look like the following:\n",
    "\n",
    "![001_builtins_module](./images/001_builtins_module.PNG)\n",
    "\n",
    "## functions\n",
    "\n",
    "You will see some of these are: \n",
    "* functions\n",
    "\n",
    "Under the hood, a ```function``` is a code block, that can be used over and over again, rather than writing it out multiple times. This code block has the form in pseudo code as:\n",
    "\n",
    "```\n",
    "def fun(input1, input2):\n",
    "    code does something\n",
    "    code does something else\n",
    "    return output\n",
    "```\n",
    "\n",
    "Where:\n",
    "\n",
    "* ```fun``` is the function name or more generally object name. \n",
    "* ```input1``` and ```input2``` are the functions optional number of input arguments. \n",
    "* ```output``` is an optional singular output.\n",
    "\n",
    "At present, we do not need to concern ourselves with the code block and shall instead only focus on using inbuilt functions.\n",
    "\n",
    "Functions can be conceptualised as objects and when referenced, we get get details about these objects. Let us reference the builtin function ```dir```:"
   ]
  },
  {
   "cell_type": "code",
   "execution_count": 2,
   "id": "0c3818ac-eefa-41d3-8d30-140bc4cc8d26",
   "metadata": {},
   "outputs": [
    {
     "data": {
      "text/plain": [
       "<function dir>"
      ]
     },
     "execution_count": 2,
     "metadata": {},
     "output_type": "execute_result"
    }
   ],
   "source": [
    "dir"
   ]
  },
  {
   "cell_type": "markdown",
   "id": "a4d7cebc-815b-48c3-9daf-9a8108b05495",
   "metadata": {},
   "source": [
    "Functions can also be called by using the functions name followed by circular brackets or parenthesis:"
   ]
  },
  {
   "cell_type": "code",
   "execution_count": 3,
   "id": "66693e64-0077-4a73-893d-012092aca35b",
   "metadata": {},
   "outputs": [
    {
     "data": {
      "text/plain": [
       "['In',\n",
       " 'Out',\n",
       " '_',\n",
       " '_2',\n",
       " '__',\n",
       " '___',\n",
       " '__builtin__',\n",
       " '__builtins__',\n",
       " '__doc__',\n",
       " '__loader__',\n",
       " '__name__',\n",
       " '__package__',\n",
       " '__spec__',\n",
       " '_dh',\n",
       " '_i',\n",
       " '_i1',\n",
       " '_i2',\n",
       " '_i3',\n",
       " '_ih',\n",
       " '_ii',\n",
       " '_iii',\n",
       " '_oh',\n",
       " 'builtins',\n",
       " 'exit',\n",
       " 'get_ipython',\n",
       " 'quit']"
      ]
     },
     "execution_count": 3,
     "metadata": {},
     "output_type": "execute_result"
    }
   ],
   "source": [
    "dir()"
   ]
  },
  {
   "cell_type": "markdown",
   "id": "758ae2b8-6ed1-4e9d-8581-c6621e088b12",
   "metadata": {},
   "source": [
    "The circular brackets are also used to enclose the functions input arguments. The number of input arguments vary per function and are outlined in the functions docstring. Some functions:\n",
    "\n",
    "* have no input arguments\n",
    "* some functions have a mandatory number of positional input arguments\n",
    "* some functions have an optional number of keyword input arguments, that is input arguments that have an assigned default value\n",
    "* some functions have some mandatory positional input arguments and some optional keyword input arguments\n",
    "\n",
    "The docstring can be viewed as a popup balloon by typing in the function name followed by an open parenthesis and shift ```⇧``` and tab ```↹```.\n",
    "\n",
    "Input ```dir(``` and then press shift ```⇧``` and tab ```↹```:"
   ]
  },
  {
   "cell_type": "code",
   "execution_count": null,
   "id": "57695963-72dd-462b-9640-10f17ac7b90e",
   "metadata": {},
   "outputs": [],
   "source": []
  },
  {
   "cell_type": "markdown",
   "id": "7f549564-e499-4096-b954-6c1d5be52e6e",
   "metadata": {},
   "source": [
    "The docstring can also be output to a cell by inputting a ```?``` before the functions name:"
   ]
  },
  {
   "cell_type": "code",
   "execution_count": 4,
   "id": "10c2b353-8ea0-407e-b8a1-c228fd9a3dcf",
   "metadata": {},
   "outputs": [
    {
     "data": {
      "text/plain": [
       "\u001b[1;31mDocstring:\u001b[0m\n",
       "dir([object]) -> list of strings\n",
       "\n",
       "If called without an argument, return the names in the current scope.\n",
       "Else, return an alphabetized list of names comprising (some of) the attributes\n",
       "of the given object, and of attributes reachable from it.\n",
       "If the object supplies a method named __dir__, it will be used; otherwise\n",
       "the default dir() logic is used and returns:\n",
       "  for a module object: the module's attributes.\n",
       "  for a class object:  its attributes, and recursively the attributes\n",
       "    of its bases.\n",
       "  for any other object: its attributes, its class's attributes, and\n",
       "    recursively the attributes of its class's base classes.\n",
       "\u001b[1;31mType:\u001b[0m      builtin_function_or_method\n"
      ]
     },
     "metadata": {},
     "output_type": "display_data"
    }
   ],
   "source": [
    "? dir"
   ]
  },
  {
   "cell_type": "markdown",
   "id": "8648d2c8-b10f-4487-abf8-f6865ed2af5a",
   "metadata": {},
   "source": [
    "Note when using ```?``` we are referencing the function and not calling it, therefore there are no parenthesis. If the docstring is long and we do not want it to take over focus of the Notebook, we can right click the Output cell and select Enable Scrolling for Outputs."
   ]
  },
  {
   "cell_type": "code",
   "execution_count": 5,
   "id": "312c2b50-e60b-4568-9a2c-02a8d8b9b640",
   "metadata": {
    "scrolled": true,
    "tags": []
   },
   "outputs": [
    {
     "data": {
      "text/plain": [
       "\u001b[1;31mDocstring:\u001b[0m\n",
       "dir([object]) -> list of strings\n",
       "\n",
       "If called without an argument, return the names in the current scope.\n",
       "Else, return an alphabetized list of names comprising (some of) the attributes\n",
       "of the given object, and of attributes reachable from it.\n",
       "If the object supplies a method named __dir__, it will be used; otherwise\n",
       "the default dir() logic is used and returns:\n",
       "  for a module object: the module's attributes.\n",
       "  for a class object:  its attributes, and recursively the attributes\n",
       "    of its bases.\n",
       "  for any other object: its attributes, its class's attributes, and\n",
       "    recursively the attributes of its class's base classes.\n",
       "\u001b[1;31mType:\u001b[0m      builtin_function_or_method\n"
      ]
     },
     "metadata": {},
     "output_type": "display_data"
    }
   ],
   "source": [
    "? dir"
   ]
  },
  {
   "cell_type": "markdown",
   "id": "226eeacd-5877-40ff-be82-bfbf2924a31c",
   "metadata": {},
   "source": [
    "In the docstring we see there is a positional input argument ```[object]```. \n",
    "\n",
    "The square brackets, indicate that we can either provide multiple ```objects``` in the form of a list ```[object1, object2]``` or a singular ```object```. For now we will provide a singular ```object``` the ```builtins``` module.\n",
    "\n",
    "For now we can ignore anything that is captialized or that begins with an underscore and instead focus on the objects with lower case names which are the objects more routinely used by end users:"
   ]
  },
  {
   "cell_type": "code",
   "execution_count": 6,
   "id": "93689db1-ed02-4412-913b-71adb012f129",
   "metadata": {
    "scrolled": true,
    "tags": []
   },
   "outputs": [
    {
     "data": {
      "text/plain": [
       "['ArithmeticError',\n",
       " 'AssertionError',\n",
       " 'AttributeError',\n",
       " 'BaseException',\n",
       " 'BlockingIOError',\n",
       " 'BrokenPipeError',\n",
       " 'BufferError',\n",
       " 'BytesWarning',\n",
       " 'ChildProcessError',\n",
       " 'ConnectionAbortedError',\n",
       " 'ConnectionError',\n",
       " 'ConnectionRefusedError',\n",
       " 'ConnectionResetError',\n",
       " 'DeprecationWarning',\n",
       " 'EOFError',\n",
       " 'Ellipsis',\n",
       " 'EnvironmentError',\n",
       " 'Exception',\n",
       " 'False',\n",
       " 'FileExistsError',\n",
       " 'FileNotFoundError',\n",
       " 'FloatingPointError',\n",
       " 'FutureWarning',\n",
       " 'GeneratorExit',\n",
       " 'IOError',\n",
       " 'ImportError',\n",
       " 'ImportWarning',\n",
       " 'IndentationError',\n",
       " 'IndexError',\n",
       " 'InterruptedError',\n",
       " 'IsADirectoryError',\n",
       " 'KeyError',\n",
       " 'KeyboardInterrupt',\n",
       " 'LookupError',\n",
       " 'MemoryError',\n",
       " 'ModuleNotFoundError',\n",
       " 'NameError',\n",
       " 'None',\n",
       " 'NotADirectoryError',\n",
       " 'NotImplemented',\n",
       " 'NotImplementedError',\n",
       " 'OSError',\n",
       " 'OverflowError',\n",
       " 'PendingDeprecationWarning',\n",
       " 'PermissionError',\n",
       " 'ProcessLookupError',\n",
       " 'RecursionError',\n",
       " 'ReferenceError',\n",
       " 'ResourceWarning',\n",
       " 'RuntimeError',\n",
       " 'RuntimeWarning',\n",
       " 'StopAsyncIteration',\n",
       " 'StopIteration',\n",
       " 'SyntaxError',\n",
       " 'SyntaxWarning',\n",
       " 'SystemError',\n",
       " 'SystemExit',\n",
       " 'TabError',\n",
       " 'TimeoutError',\n",
       " 'True',\n",
       " 'TypeError',\n",
       " 'UnboundLocalError',\n",
       " 'UnicodeDecodeError',\n",
       " 'UnicodeEncodeError',\n",
       " 'UnicodeError',\n",
       " 'UnicodeTranslateError',\n",
       " 'UnicodeWarning',\n",
       " 'UserWarning',\n",
       " 'ValueError',\n",
       " 'Warning',\n",
       " 'WindowsError',\n",
       " 'ZeroDivisionError',\n",
       " '__IPYTHON__',\n",
       " '__build_class__',\n",
       " '__debug__',\n",
       " '__doc__',\n",
       " '__import__',\n",
       " '__loader__',\n",
       " '__name__',\n",
       " '__package__',\n",
       " '__spec__',\n",
       " 'abs',\n",
       " 'all',\n",
       " 'any',\n",
       " 'ascii',\n",
       " 'bin',\n",
       " 'bool',\n",
       " 'breakpoint',\n",
       " 'bytearray',\n",
       " 'bytes',\n",
       " 'callable',\n",
       " 'chr',\n",
       " 'classmethod',\n",
       " 'compile',\n",
       " 'complex',\n",
       " 'copyright',\n",
       " 'credits',\n",
       " 'delattr',\n",
       " 'dict',\n",
       " 'dir',\n",
       " 'display',\n",
       " 'divmod',\n",
       " 'enumerate',\n",
       " 'eval',\n",
       " 'exec',\n",
       " 'execfile',\n",
       " 'filter',\n",
       " 'float',\n",
       " 'format',\n",
       " 'frozenset',\n",
       " 'get_ipython',\n",
       " 'getattr',\n",
       " 'globals',\n",
       " 'hasattr',\n",
       " 'hash',\n",
       " 'help',\n",
       " 'hex',\n",
       " 'id',\n",
       " 'input',\n",
       " 'int',\n",
       " 'isinstance',\n",
       " 'issubclass',\n",
       " 'iter',\n",
       " 'len',\n",
       " 'license',\n",
       " 'list',\n",
       " 'locals',\n",
       " 'map',\n",
       " 'max',\n",
       " 'memoryview',\n",
       " 'min',\n",
       " 'next',\n",
       " 'object',\n",
       " 'oct',\n",
       " 'open',\n",
       " 'ord',\n",
       " 'pow',\n",
       " 'print',\n",
       " 'property',\n",
       " 'range',\n",
       " 'repr',\n",
       " 'reversed',\n",
       " 'round',\n",
       " 'runfile',\n",
       " 'set',\n",
       " 'setattr',\n",
       " 'slice',\n",
       " 'sorted',\n",
       " 'staticmethod',\n",
       " 'str',\n",
       " 'sum',\n",
       " 'super',\n",
       " 'tuple',\n",
       " 'type',\n",
       " 'vars',\n",
       " 'zip']"
      ]
     },
     "execution_count": 6,
     "metadata": {},
     "output_type": "execute_result"
    }
   ],
   "source": [
    "dir(builtins)"
   ]
  },
  {
   "cell_type": "markdown",
   "id": "40947a40-b69e-43e5-8830-de4dc98f538f",
   "metadata": {},
   "source": [
    "Let us now have a look at the function ```help```. Once again we can have a look at the reference of this function:"
   ]
  },
  {
   "cell_type": "code",
   "execution_count": 8,
   "id": "3555fd44-86e5-4ee8-9486-f03dc7594f30",
   "metadata": {},
   "outputs": [
    {
     "data": {
      "text/plain": [
       "Type help() for interactive help, or help(object) for help about object."
      ]
     },
     "execution_count": 8,
     "metadata": {},
     "output_type": "execute_result"
    }
   ],
   "source": [
    "help"
   ]
  },
  {
   "cell_type": "markdown",
   "id": "3a87d91d-1b45-4db7-9055-6e5d9055f5dc",
   "metadata": {},
   "source": [
    "To view its docstring input ```help(``` and then press shift ```⇧``` and tab ```↹```:"
   ]
  },
  {
   "cell_type": "code",
   "execution_count": null,
   "id": "ededd10d-6483-484d-a113-6e99c395751c",
   "metadata": {},
   "outputs": [],
   "source": []
  },
  {
   "cell_type": "markdown",
   "id": "76cf762b-2c12-40af-a739-54217b607abd",
   "metadata": {},
   "source": [
    "To view its docstring output to a cell input:"
   ]
  },
  {
   "cell_type": "code",
   "execution_count": 9,
   "id": "8a3d3f8f-92e4-4950-b1f2-c1c1ea255722",
   "metadata": {},
   "outputs": [
    {
     "data": {
      "text/plain": [
       "\u001b[1;31mSignature:\u001b[0m    \u001b[0mhelp\u001b[0m\u001b[1;33m(\u001b[0m\u001b[1;33m*\u001b[0m\u001b[0margs\u001b[0m\u001b[1;33m,\u001b[0m \u001b[1;33m**\u001b[0m\u001b[0mkwds\u001b[0m\u001b[1;33m)\u001b[0m\u001b[1;33m\u001b[0m\u001b[1;33m\u001b[0m\u001b[0m\n",
       "\u001b[1;31mType:\u001b[0m        _Helper\n",
       "\u001b[1;31mString form:\u001b[0m Type help() for interactive help, or help(object) for help about object.\n",
       "\u001b[1;31mNamespace:\u001b[0m   Python builtin\n",
       "\u001b[1;31mFile:\u001b[0m        c:\\users\\phili\\anaconda3\\lib\\_sitebuiltins.py\n",
       "\u001b[1;31mDocstring:\u001b[0m  \n",
       "Define the builtin 'help'.\n",
       "\n",
       "This is a wrapper around pydoc.help that provides a helpful message\n",
       "when 'help' is typed at the Python interactive prompt.\n",
       "\n",
       "Calling help() at the Python prompt starts an interactive help session.\n",
       "Calling help(thing) prints help for the python object 'thing'.\n"
      ]
     },
     "metadata": {},
     "output_type": "display_data"
    }
   ],
   "source": [
    "? help"
   ]
  },
  {
   "cell_type": "markdown",
   "id": "c0440b3d-1e60-4663-90ef-f260f9d55727",
   "metadata": {},
   "source": [
    "We see that this function has a variable number of positional input arguments indicated by ```*arg```. \n",
    "\n",
    "If none are supplied an interactive prompt displays and in this prompt we can supply an object such as ```dir```. In the interactive mode once we input ```dir``` we are given the ```docstring``` for the function ```dir``` and then the interactive prompt asks us to provide another object. To exit the interactive prompt input ```quit```. \n",
    "\n",
    "In Python the ```#``` is used to indicate a comment. This cell is commented out to prevent the interactive prompt from stalling the internative notebook. Delete the ```#``` to run the cell:"
   ]
  },
  {
   "cell_type": "code",
   "execution_count": 15,
   "id": "b7f59026-364d-46bf-9e2a-a7de244bcd98",
   "metadata": {},
   "outputs": [
    {
     "name": "stdout",
     "output_type": "stream",
     "text": [
      "\n",
      "Welcome to Python 3.9's help utility!\n",
      "\n",
      "If this is your first time using Python, you should definitely check out\n",
      "the tutorial on the Internet at https://docs.python.org/3.9/tutorial/.\n",
      "\n",
      "Enter the name of any module, keyword, or topic to get help on writing\n",
      "Python programs and using Python modules.  To quit this help utility and\n",
      "return to the interpreter, just type \"quit\".\n",
      "\n",
      "To get a list of available modules, keywords, symbols, or topics, type\n",
      "\"modules\", \"keywords\", \"symbols\", or \"topics\".  Each module also comes\n",
      "with a one-line summary of what it does; to list the modules whose name\n",
      "or summary contain a given string such as \"spam\", type \"modules spam\".\n",
      "\n"
     ]
    },
    {
     "name": "stdin",
     "output_type": "stream",
     "text": [
      "help>  dir\n"
     ]
    },
    {
     "name": "stdout",
     "output_type": "stream",
     "text": [
      "Help on built-in function dir in module builtins:\n",
      "\n",
      "dir(...)\n",
      "    dir([object]) -> list of strings\n",
      "    \n",
      "    If called without an argument, return the names in the current scope.\n",
      "    Else, return an alphabetized list of names comprising (some of) the attributes\n",
      "    of the given object, and of attributes reachable from it.\n",
      "    If the object supplies a method named __dir__, it will be used; otherwise\n",
      "    the default dir() logic is used and returns:\n",
      "      for a module object: the module's attributes.\n",
      "      for a class object:  its attributes, and recursively the attributes\n",
      "        of its bases.\n",
      "      for any other object: its attributes, its class's attributes, and\n",
      "        recursively the attributes of its class's base classes.\n",
      "\n"
     ]
    },
    {
     "name": "stdin",
     "output_type": "stream",
     "text": [
      "help>  quit\n"
     ]
    },
    {
     "name": "stdout",
     "output_type": "stream",
     "text": [
      "\n",
      "You are now leaving help and returning to the Python interpreter.\n",
      "If you want to ask for help on a particular object directly from the\n",
      "interpreter, you can type \"help(object)\".  Executing \"help('string')\"\n",
      "has the same effect as typing a particular string at the help> prompt.\n"
     ]
    }
   ],
   "source": [
    "# help()"
   ]
  },
  {
   "cell_type": "markdown",
   "id": "8a64f476-3308-4e39-8b52-532d2d9e4c8a",
   "metadata": {},
   "source": [
    "If we instead provide one position input argument, that is the ```object``` we wish to lookup, once again as ```dir``` we get:"
   ]
  },
  {
   "cell_type": "code",
   "execution_count": 17,
   "id": "0627d4c1-51c7-48e6-b300-9a16caac8014",
   "metadata": {},
   "outputs": [
    {
     "name": "stdout",
     "output_type": "stream",
     "text": [
      "Help on built-in function dir in module builtins:\n",
      "\n",
      "dir(...)\n",
      "    dir([object]) -> list of strings\n",
      "    \n",
      "    If called without an argument, return the names in the current scope.\n",
      "    Else, return an alphabetized list of names comprising (some of) the attributes\n",
      "    of the given object, and of attributes reachable from it.\n",
      "    If the object supplies a method named __dir__, it will be used; otherwise\n",
      "    the default dir() logic is used and returns:\n",
      "      for a module object: the module's attributes.\n",
      "      for a class object:  its attributes, and recursively the attributes\n",
      "        of its bases.\n",
      "      for any other object: its attributes, its class's attributes, and\n",
      "        recursively the attributes of its class's base classes.\n",
      "\n"
     ]
    }
   ],
   "source": [
    "help(dir)"
   ]
  },
  {
   "cell_type": "markdown",
   "id": "98036774-2637-4bf3-9ced-bc935202299e",
   "metadata": {},
   "source": [
    " We can look at the reference of the inbuilt functions ```ord``` and ```chr```:"
   ]
  },
  {
   "cell_type": "code",
   "execution_count": 20,
   "id": "d08ccb20-51fd-476f-a161-9e9898abc94f",
   "metadata": {},
   "outputs": [
    {
     "data": {
      "text/plain": [
       "<function ord(c, /)>"
      ]
     },
     "execution_count": 20,
     "metadata": {},
     "output_type": "execute_result"
    }
   ],
   "source": [
    "ord"
   ]
  },
  {
   "cell_type": "code",
   "execution_count": 21,
   "id": "2cb4d234-fdc0-466c-a54b-921ba86593b3",
   "metadata": {},
   "outputs": [
    {
     "data": {
      "text/plain": [
       "<function chr(i, /)>"
      ]
     },
     "execution_count": 21,
     "metadata": {},
     "output_type": "execute_result"
    }
   ],
   "source": [
    "chr"
   ]
  },
  {
   "cell_type": "markdown",
   "id": "8b87470c-8aa8-4e07-8795-e5a9f809c385",
   "metadata": {},
   "source": [
    "Input ```chr(``` and then press shift ```⇧``` and tab ```↹```:"
   ]
  },
  {
   "cell_type": "code",
   "execution_count": null,
   "id": "1aaab1db-c2cf-432e-9ce1-266937b68940",
   "metadata": {},
   "outputs": [],
   "source": []
  },
  {
   "cell_type": "markdown",
   "id": "84639954-9b41-47d2-b490-e0463460a206",
   "metadata": {},
   "source": [
    "Input ```ord(``` and then press shift ```⇧``` and tab ```↹```:"
   ]
  },
  {
   "cell_type": "code",
   "execution_count": null,
   "id": "96594d46-2f4e-433b-aae8-94408cb5c50f",
   "metadata": {},
   "outputs": [],
   "source": []
  },
  {
   "cell_type": "markdown",
   "id": "e2c4bc41-d93d-490c-b779-e5db4ab31e7a",
   "metadata": {},
   "source": [
    "The docstring can also be output to the contents of a cell:"
   ]
  },
  {
   "cell_type": "code",
   "execution_count": 18,
   "id": "5406801e-b87e-4fbe-90c7-1e4e31e7efa4",
   "metadata": {},
   "outputs": [
    {
     "data": {
      "text/plain": [
       "\u001b[1;31mSignature:\u001b[0m  \u001b[0mchr\u001b[0m\u001b[1;33m(\u001b[0m\u001b[0mi\u001b[0m\u001b[1;33m,\u001b[0m \u001b[1;33m/\u001b[0m\u001b[1;33m)\u001b[0m\u001b[1;33m\u001b[0m\u001b[1;33m\u001b[0m\u001b[0m\n",
       "\u001b[1;31mDocstring:\u001b[0m Return a Unicode string of one character with ordinal i; 0 <= i <= 0x10ffff.\n",
       "\u001b[1;31mType:\u001b[0m      builtin_function_or_method\n"
      ]
     },
     "metadata": {},
     "output_type": "display_data"
    }
   ],
   "source": [
    "? chr"
   ]
  },
  {
   "cell_type": "code",
   "execution_count": 19,
   "id": "64235719-608d-4352-a749-5313ee96f298",
   "metadata": {},
   "outputs": [
    {
     "data": {
      "text/plain": [
       "\u001b[1;31mSignature:\u001b[0m  \u001b[0mord\u001b[0m\u001b[1;33m(\u001b[0m\u001b[0mc\u001b[0m\u001b[1;33m,\u001b[0m \u001b[1;33m/\u001b[0m\u001b[1;33m)\u001b[0m\u001b[1;33m\u001b[0m\u001b[1;33m\u001b[0m\u001b[0m\n",
       "\u001b[1;31mDocstring:\u001b[0m Return the Unicode code point for a one-character string.\n",
       "\u001b[1;31mType:\u001b[0m      builtin_function_or_method\n"
      ]
     },
     "metadata": {},
     "output_type": "display_data"
    }
   ],
   "source": [
    "? ord"
   ]
  },
  {
   "cell_type": "markdown",
   "id": "110b17cd-88dc-4b92-8a59-c59bf4bb86f3",
   "metadata": {},
   "source": [
    "Each character on the keyboard is assigned to an ordinal full number known as an integer. The character at integer ```65``` is ```'A'```. The ```ord``` and the ```chr``` functions convert the input integer or character to the character or integer respectively. \n",
    "\n",
    "In these examples, both functions use a single input argument, the input integer ```i``` in the case of the ```chr``` function and the input character ```c``` in the case of the ```ord``` function:"
   ]
  },
  {
   "cell_type": "code",
   "execution_count": 22,
   "id": "c1accad8-4643-4dd2-a2b8-2d0d310fd750",
   "metadata": {},
   "outputs": [
    {
     "data": {
      "text/plain": [
       "'A'"
      ]
     },
     "execution_count": 22,
     "metadata": {},
     "output_type": "execute_result"
    }
   ],
   "source": [
    "chr(65)"
   ]
  },
  {
   "cell_type": "code",
   "execution_count": 23,
   "id": "ab25d01b-a570-4b4f-9b87-204fbc541706",
   "metadata": {},
   "outputs": [
    {
     "data": {
      "text/plain": [
       "65"
      ]
     },
     "execution_count": 23,
     "metadata": {},
     "output_type": "execute_result"
    }
   ],
   "source": [
    "ord('A')"
   ]
  },
  {
   "cell_type": "markdown",
   "id": "83c4b1c2-34b1-4330-944e-08c357174ee7",
   "metadata": {},
   "source": [
    "Type in ```builtins``` followed by a dot ```.``` and tab ```↹``` to view the list of inbuilt objects, again:"
   ]
  },
  {
   "cell_type": "code",
   "execution_count": null,
   "id": "206035ab-a813-494d-91c0-450c5206884f",
   "metadata": {},
   "outputs": [],
   "source": []
  },
  {
   "cell_type": "markdown",
   "id": "0e6ca1e0-78c6-4be2-82ab-9c6ad2bf453c",
   "metadata": {},
   "source": [
    "## classes and instances\n",
    "\n",
    "You will see that in addition to functions we have:\n",
    "* classes\n",
    "* instances\n",
    "\n",
    "A ```class``` can be conceptualised as a blueprint. The ```class``` or blueprint itself is abstract but an object created by following the instructions in a blueprint or ```class``` is physical and can be interacted with. The object created by following the instructions in a ```class``` is known as an ```instance``` of the ```class```. \n",
    "\n",
    "Let us explore the ```bool``` class:"
   ]
  },
  {
   "cell_type": "code",
   "execution_count": 24,
   "id": "855a651c-7173-4fcd-beb0-9b7acc189284",
   "metadata": {},
   "outputs": [
    {
     "data": {
      "text/plain": [
       "bool"
      ]
     },
     "execution_count": 24,
     "metadata": {},
     "output_type": "execute_result"
    }
   ],
   "source": [
    "bool"
   ]
  },
  {
   "cell_type": "markdown",
   "id": "7f34282a-3583-4341-a964-124ae3177f8c",
   "metadata": {},
   "source": [
    "Classes are abstract objects and when referenced, we get get details about these objects. Each class, like a function has a docstring which can be viewed as a popup balloon by typing in the class name followed by an open parenthesis and shift ```⇧``` and tab ```↹```. This docstring describes how to use the class to make an instance of the class.\n",
    "\n",
    "Input ```bool(``` and then press shift ```⇧``` and tab ```↹```:"
   ]
  },
  {
   "cell_type": "code",
   "execution_count": null,
   "id": "79a4256d-777e-4cc6-a957-02231f251cee",
   "metadata": {},
   "outputs": [],
   "source": []
  },
  {
   "cell_type": "markdown",
   "id": "c34125fe-806e-40d7-9d00-a18defef0f43",
   "metadata": {},
   "source": [
    "The docstring can also be output to the contents of a cell. We see that the ```bool``` class has two instances ```True``` and ```false``` and these are in the module ```builtins```. The ```bool``` class is a subclasses of the ```int``` class which effectively means the instance ```False``` is equivalent to the ordinal integer ```0``` and the instance ```True``` is equivalent to the ordinal integer ```1```. Any other ordinal number is taken as non-zero and is therefore equivalent to the instance ```True```:"
   ]
  },
  {
   "cell_type": "code",
   "execution_count": 25,
   "id": "e499917b-1e7a-4289-a3dc-75df11c51575",
   "metadata": {},
   "outputs": [
    {
     "data": {
      "text/plain": [
       "\u001b[1;31mInit signature:\u001b[0m  \u001b[0mbool\u001b[0m\u001b[1;33m(\u001b[0m\u001b[0mself\u001b[0m\u001b[1;33m,\u001b[0m \u001b[1;33m/\u001b[0m\u001b[1;33m,\u001b[0m \u001b[1;33m*\u001b[0m\u001b[0margs\u001b[0m\u001b[1;33m,\u001b[0m \u001b[1;33m**\u001b[0m\u001b[0mkwargs\u001b[0m\u001b[1;33m)\u001b[0m\u001b[1;33m\u001b[0m\u001b[1;33m\u001b[0m\u001b[0m\n",
       "\u001b[1;31mDocstring:\u001b[0m     \n",
       "bool(x) -> bool\n",
       "\n",
       "Returns True when the argument x is true, False otherwise.\n",
       "The builtins True and False are the only two instances of the class bool.\n",
       "The class bool is a subclass of the class int, and cannot be subclassed.\n",
       "\u001b[1;31mType:\u001b[0m           type\n",
       "\u001b[1;31mSubclasses:\u001b[0m     \n"
      ]
     },
     "metadata": {},
     "output_type": "display_data"
    }
   ],
   "source": [
    "? bool"
   ]
  },
  {
   "cell_type": "markdown",
   "id": "2898c675-5959-48ba-94f2-0384f34c3da3",
   "metadata": {},
   "source": [
    "We see that the input argument ```x``` is a condition and the bool class will return the instance ```True``` when the condition is true and the instance ```False``` when the condition is not satisfied. Let us explicitly check the condition 1 is greater than 0 ```1>0``` and 1 is less than 0 ```1<0```:"
   ]
  },
  {
   "cell_type": "code",
   "execution_count": 26,
   "id": "0974cfb3-b0db-4609-b0cf-8202bffbcf6b",
   "metadata": {},
   "outputs": [
    {
     "data": {
      "text/plain": [
       "True"
      ]
     },
     "execution_count": 26,
     "metadata": {},
     "output_type": "execute_result"
    }
   ],
   "source": [
    "bool(1>0)"
   ]
  },
  {
   "cell_type": "code",
   "execution_count": 27,
   "id": "c528b608-d67f-4694-954a-a59db6e6382b",
   "metadata": {},
   "outputs": [
    {
     "data": {
      "text/plain": [
       "False"
      ]
     },
     "execution_count": 27,
     "metadata": {},
     "output_type": "execute_result"
    }
   ],
   "source": [
    "bool(1<0)"
   ]
  },
  {
   "cell_type": "markdown",
   "id": "748d3c14-ac77-46e8-bedb-221f517b0b70",
   "metadata": {},
   "source": [
    "We see that the ```bool``` class can be used to convert an ordinal integer into an instance of the ```bool``` class:"
   ]
  },
  {
   "cell_type": "code",
   "execution_count": 28,
   "id": "4436c911-8046-43f2-a32a-f8a288f10807",
   "metadata": {},
   "outputs": [
    {
     "data": {
      "text/plain": [
       "False"
      ]
     },
     "execution_count": 28,
     "metadata": {},
     "output_type": "execute_result"
    }
   ],
   "source": [
    "bool(0)"
   ]
  },
  {
   "cell_type": "code",
   "execution_count": 29,
   "id": "da6fce8e-bd06-4291-9f9a-fc04b4f18414",
   "metadata": {},
   "outputs": [
    {
     "data": {
      "text/plain": [
       "True"
      ]
     },
     "execution_count": 29,
     "metadata": {},
     "output_type": "execute_result"
    }
   ],
   "source": [
    "bool(1)"
   ]
  },
  {
   "cell_type": "code",
   "execution_count": 30,
   "id": "3faf7578-8a87-479c-9619-89e63088ed7d",
   "metadata": {},
   "outputs": [
    {
     "data": {
      "text/plain": [
       "True"
      ]
     },
     "execution_count": 30,
     "metadata": {},
     "output_type": "execute_result"
    }
   ],
   "source": [
    "bool(2)"
   ]
  },
  {
   "cell_type": "markdown",
   "id": "e5877150-d48c-48fb-8c4b-932a5f788ef2",
   "metadata": {},
   "source": [
    "If we type in the instance followed by a ```dot``` and ```tab``` we can view a list of objects that can be called from it. \n",
    "\n",
    "Input ```True``` and then press dot ```.``` and tab ```↹```:"
   ]
  },
  {
   "cell_type": "code",
   "execution_count": null,
   "id": "d4d11fb0-f09b-4e7a-baa4-c6f340e56904",
   "metadata": {},
   "outputs": [],
   "source": []
  },
  {
   "cell_type": "markdown",
   "id": "8f9a7bb7-b2c0-446e-9a2c-9675808c5a89",
   "metadata": {},
   "source": [
    "You should see a number of functions and instances that can be called from the object. Functions that can be called from an object are also known as ```methods```. Recall that we need to use parenthesis to call a function.\n",
    "\n",
    "Instances referenced with respect to another object are known as ```attributes```. These ```attributes``` can be instances of the same or a different class as the object they are called from.\n",
    "\n",
    "Let us have a look at the method ```conjugate```. Input ```True.conjugate(``` and then press shift ```⇧``` and tab ```↹```:"
   ]
  },
  {
   "cell_type": "code",
   "execution_count": null,
   "id": "4966f7ab-1f87-47b8-b612-71926157b357",
   "metadata": {},
   "outputs": [],
   "source": []
  },
  {
   "cell_type": "markdown",
   "id": "1f2af455-5757-4d5e-b563-fd852edd546e",
   "metadata": {},
   "source": [
    "The docstring can also be output to the contents of a cell."
   ]
  },
  {
   "cell_type": "code",
   "execution_count": 31,
   "id": "1a01b6c4-d660-415c-a49a-ce870db9a855",
   "metadata": {},
   "outputs": [
    {
     "data": {
      "text/plain": [
       "\u001b[1;31mDocstring:\u001b[0m Returns self, the complex conjugate of any int.\n",
       "\u001b[1;31mType:\u001b[0m      builtin_function_or_method\n"
      ]
     },
     "metadata": {},
     "output_type": "display_data"
    }
   ],
   "source": [
    "? True.conjugate"
   ]
  },
  {
   "cell_type": "markdown",
   "id": "2cbcae01-3c8d-4cff-b2c6-492f88250f26",
   "metadata": {},
   "source": [
    "Recall that in mathematics; the square root of minus one is not defined as a real number so instead an imaginary component is defined with the postfix ```j```:\n",
    "\n",
    "$$\\sqrt{-1}=j$$\n",
    "\n"
   ]
  },
  {
   "cell_type": "markdown",
   "id": "0c312bae-d900-4836-b783-a261fb6294aa",
   "metadata": {},
   "source": [
    "The ```conjugate``` method does not require any input arguments however we still need to use parenthesis to call the method (as the method is essentially a function). \n",
    "\n",
    "Let us now call this function to get the complex conjugate of the ```bool``` class ```True``` instance:"
   ]
  },
  {
   "cell_type": "code",
   "execution_count": 32,
   "id": "b6e54526-663a-4f45-82a4-45f26f380c0d",
   "metadata": {},
   "outputs": [
    {
     "data": {
      "text/plain": [
       "1"
      ]
     },
     "execution_count": 32,
     "metadata": {},
     "output_type": "execute_result"
    }
   ],
   "source": [
    "True.conjugate()"
   ]
  },
  {
   "cell_type": "markdown",
   "id": "7b22a828-8ec8-47a8-a986-52fbee509583",
   "metadata": {},
   "source": [
    "This returns the value ```1``` as ```True``` is equivalent to the real number ```1``` and a ```bool``` instance never has an imaginary component so ```j``` is not mentioned. \n",
    "\n",
    "The bool instance ```True``` also has a ```real``` attribute and ```imag``` attribute. The ```real``` attribute once again returns the value ```1```:"
   ]
  },
  {
   "cell_type": "code",
   "execution_count": 33,
   "id": "9e4239dc-5cdb-4f64-b9b4-b42c22b69334",
   "metadata": {},
   "outputs": [
    {
     "data": {
      "text/plain": [
       "1"
      ]
     },
     "execution_count": 33,
     "metadata": {},
     "output_type": "execute_result"
    }
   ],
   "source": [
    "True.real"
   ]
  },
  {
   "cell_type": "markdown",
   "id": "5d7e04ec-77d2-4454-8f48-97e01177f1df",
   "metadata": {},
   "source": [
    "And the ```imag``` attribute returns the number ```0``` as there is no imaginary component:"
   ]
  },
  {
   "cell_type": "code",
   "execution_count": 34,
   "id": "175c0e27-339b-47f0-826f-37ad7510658e",
   "metadata": {},
   "outputs": [
    {
     "data": {
      "text/plain": [
       "0"
      ]
     },
     "execution_count": 34,
     "metadata": {},
     "output_type": "execute_result"
    }
   ],
   "source": [
    "True.imag"
   ]
  },
  {
   "cell_type": "markdown",
   "id": "8a38b2d6-9ffb-4887-b713-1423cb356c54",
   "metadata": {},
   "source": [
    "Now input ```False``` and then press dot ```.``` and tab ```↹```:"
   ]
  },
  {
   "cell_type": "code",
   "execution_count": null,
   "id": "20b47b0c-d586-4412-ba49-83c06d874d9c",
   "metadata": {},
   "outputs": [],
   "source": []
  },
  {
   "cell_type": "markdown",
   "id": "8f3e9a30-707d-41fd-8a38-40881652ca99",
   "metadata": {},
   "source": [
    "Notice that you get the exact same list of methods and attributes as the ```True``` instance. If we use the method ```conjugate``` and the attributes ```real``` and ```imag``` we get different values:"
   ]
  },
  {
   "cell_type": "code",
   "execution_count": 35,
   "id": "968b2de1-aeeb-4455-bfda-c5ed857f5b2c",
   "metadata": {},
   "outputs": [
    {
     "data": {
      "text/plain": [
       "0"
      ]
     },
     "execution_count": 35,
     "metadata": {},
     "output_type": "execute_result"
    }
   ],
   "source": [
    "False.conjugate()"
   ]
  },
  {
   "cell_type": "code",
   "execution_count": 36,
   "id": "af8fe79f-7aae-4e17-b583-4730dd259163",
   "metadata": {},
   "outputs": [
    {
     "data": {
      "text/plain": [
       "0"
      ]
     },
     "execution_count": 36,
     "metadata": {},
     "output_type": "execute_result"
    }
   ],
   "source": [
    "False.real"
   ]
  },
  {
   "cell_type": "code",
   "execution_count": 37,
   "id": "4e64bc18-4058-46de-a7aa-519e0f010198",
   "metadata": {},
   "outputs": [
    {
     "data": {
      "text/plain": [
       "0"
      ]
     },
     "execution_count": 37,
     "metadata": {},
     "output_type": "execute_result"
    }
   ],
   "source": [
    "False.imag"
   ]
  },
  {
   "cell_type": "markdown",
   "id": "e1429a75-ef43-4f2d-b72b-4a3e306931f9",
   "metadata": {},
   "source": [
    "These attributes and methods are defined in the ```bool``` class. Input ```bool``` and then press dot ```.``` and tab ```↹```:"
   ]
  },
  {
   "cell_type": "code",
   "execution_count": null,
   "id": "b30a852d-f1e6-4231-b427-ef720caad499",
   "metadata": {},
   "outputs": [],
   "source": []
  },
  {
   "cell_type": "markdown",
   "id": "206be7e4-3f97-47e0-9398-55d328bc9412",
   "metadata": {},
   "source": [
    "Notice that instances are now displayed as properties. When we try to use these, we are told that they are attributes:\n",
    "\n",
    "![002_instances_properties](./images/002_instances_properties.PNG)"
   ]
  },
  {
   "cell_type": "markdown",
   "id": "d45b4405-dd32-4a88-aba6-da7a99adf6a0",
   "metadata": {},
   "source": [
    "And these properties tell us that these are attributes of the ```int``` class. Recall that the ```bool``` class is a subclass of the ```int``` class and this means under the hood, the ```child``` class ```bool``` has a copy or slightly modified copy of the attributes and functions of the ```parent``` class ```int```:"
   ]
  },
  {
   "cell_type": "code",
   "execution_count": 38,
   "id": "26eda55e-5d69-40a9-9a12-ae8acdc1674d",
   "metadata": {},
   "outputs": [
    {
     "data": {
      "text/plain": [
       "<attribute 'real' of 'int' objects>"
      ]
     },
     "execution_count": 38,
     "metadata": {},
     "output_type": "execute_result"
    }
   ],
   "source": [
    "bool.real"
   ]
  },
  {
   "cell_type": "code",
   "execution_count": 39,
   "id": "8b4f7331-5885-4b84-8c1c-e160c8661450",
   "metadata": {},
   "outputs": [
    {
     "data": {
      "text/plain": [
       "<attribute 'imag' of 'int' objects>"
      ]
     },
     "execution_count": 39,
     "metadata": {},
     "output_type": "execute_result"
    }
   ],
   "source": [
    "bool.imag"
   ]
  },
  {
   "cell_type": "markdown",
   "id": "50bb2f8c-464c-490d-90c6-4e338298b0b3",
   "metadata": {},
   "source": [
    "Let's now have a look at the conjugate function:"
   ]
  },
  {
   "cell_type": "code",
   "execution_count": 40,
   "id": "e068f212-9a3a-4ad6-9e68-e926dbef7e37",
   "metadata": {},
   "outputs": [
    {
     "data": {
      "text/plain": [
       "<method 'conjugate' of 'int' objects>"
      ]
     },
     "execution_count": 40,
     "metadata": {},
     "output_type": "execute_result"
    }
   ],
   "source": [
    "bool.conjugate"
   ]
  },
  {
   "cell_type": "markdown",
   "id": "8762563c-f4ff-4d3e-a31f-69f1ae9969c9",
   "metadata": {},
   "source": [
    "And the docstring of this function:"
   ]
  },
  {
   "cell_type": "code",
   "execution_count": 41,
   "id": "12d61727-dc66-45c7-9aee-30754bfb0ee5",
   "metadata": {},
   "outputs": [
    {
     "data": {
      "text/plain": [
       "\u001b[1;31mDocstring:\u001b[0m Returns self, the complex conjugate of any int.\n",
       "\u001b[1;31mType:\u001b[0m      method_descriptor\n"
      ]
     },
     "metadata": {},
     "output_type": "display_data"
    }
   ],
   "source": [
    "? bool.conjugate"
   ]
  },
  {
   "cell_type": "markdown",
   "id": "3e65343b-b9d6-453b-a816-4b22dbb3ff73",
   "metadata": {},
   "source": [
    "If we attempt to call this, we get an error - run this code block without the ```#```, to see the error:"
   ]
  },
  {
   "cell_type": "code",
   "execution_count": null,
   "id": "3345b094-3507-4755-b944-d5e982ea62a9",
   "metadata": {},
   "outputs": [],
   "source": [
    "# bool.conjugate()"
   ]
  },
  {
   "cell_type": "markdown",
   "id": "ebf39e41-d128-42cc-b322-89336cd3f2aa",
   "metadata": {},
   "source": [
    "This is because no instance is specified for the function to act upon. We can supply an instance ```True``` as an input argument and the function will work:"
   ]
  },
  {
   "cell_type": "code",
   "execution_count": 42,
   "id": "a0f6013b-687e-4113-8aae-b65a8368cc28",
   "metadata": {},
   "outputs": [
    {
     "data": {
      "text/plain": [
       "1"
      ]
     },
     "execution_count": 42,
     "metadata": {},
     "output_type": "execute_result"
    }
   ],
   "source": [
    "bool.conjugate(True)"
   ]
  },
  {
   "cell_type": "markdown",
   "id": "93fea4cb-88c5-4c88-86c5-a69830395fb6",
   "metadata": {},
   "source": [
    "### bool class"
   ]
  },
  {
   "cell_type": "markdown",
   "id": "afc88c2b-b28b-40f2-a58e-bd3c1a000714",
   "metadata": {},
   "source": [
    "To recap, we seen that the ```bool``` class consisted of the instances:"
   ]
  },
  {
   "cell_type": "code",
   "execution_count": 43,
   "id": "b94f62cd-b35e-4af0-8d1d-9ffbbd2700f8",
   "metadata": {},
   "outputs": [
    {
     "data": {
      "text/plain": [
       "True"
      ]
     },
     "execution_count": 43,
     "metadata": {},
     "output_type": "execute_result"
    }
   ],
   "source": [
    "True"
   ]
  },
  {
   "cell_type": "code",
   "execution_count": 44,
   "id": "eb49219d-512a-4054-a854-a5385e9415fe",
   "metadata": {},
   "outputs": [
    {
     "data": {
      "text/plain": [
       "False"
      ]
     },
     "execution_count": 44,
     "metadata": {},
     "output_type": "execute_result"
    }
   ],
   "source": [
    "False"
   ]
  },
  {
   "cell_type": "markdown",
   "id": "6b3bf862-e7e3-414c-a736-0dbe68a55767",
   "metadata": {},
   "source": [
    "And we can use the ```type``` function to determine that these are instances of the ```bool``` class:"
   ]
  },
  {
   "cell_type": "code",
   "execution_count": 45,
   "id": "706ee318-f1be-4eec-b6af-9933385d2906",
   "metadata": {},
   "outputs": [
    {
     "data": {
      "text/plain": [
       "bool"
      ]
     },
     "execution_count": 45,
     "metadata": {},
     "output_type": "execute_result"
    }
   ],
   "source": [
    "type(True)"
   ]
  },
  {
   "cell_type": "code",
   "execution_count": 46,
   "id": "65280471-48e9-4b86-b751-5a8e39f7a49a",
   "metadata": {},
   "outputs": [
    {
     "data": {
      "text/plain": [
       "bool"
      ]
     },
     "execution_count": 46,
     "metadata": {},
     "output_type": "execute_result"
    }
   ],
   "source": [
    "type(False)"
   ]
  },
  {
   "cell_type": "markdown",
   "id": "4a44bbd2-2647-43cb-9e00-8b54e5bbe731",
   "metadata": {},
   "source": [
    "### int class\n",
    "\n",
    "The ```int``` class consists of whole numbers:"
   ]
  },
  {
   "cell_type": "code",
   "execution_count": 47,
   "id": "448791c4-7f09-432f-83fe-236452488773",
   "metadata": {},
   "outputs": [
    {
     "data": {
      "text/plain": [
       "1"
      ]
     },
     "execution_count": 47,
     "metadata": {},
     "output_type": "execute_result"
    }
   ],
   "source": [
    "1"
   ]
  },
  {
   "cell_type": "code",
   "execution_count": 48,
   "id": "ba9820f0-07b1-41b8-8e45-e649d431ae60",
   "metadata": {},
   "outputs": [
    {
     "data": {
      "text/plain": [
       "2"
      ]
     },
     "execution_count": 48,
     "metadata": {},
     "output_type": "execute_result"
    }
   ],
   "source": [
    "2"
   ]
  },
  {
   "cell_type": "code",
   "execution_count": 49,
   "id": "bf868ab6-0e20-410e-9c2d-67167c0bfcc3",
   "metadata": {},
   "outputs": [
    {
     "data": {
      "text/plain": [
       "100"
      ]
     },
     "execution_count": 49,
     "metadata": {},
     "output_type": "execute_result"
    }
   ],
   "source": [
    "100"
   ]
  },
  {
   "cell_type": "markdown",
   "id": "59a52681-0234-4cd4-a8a3-793dfb39f310",
   "metadata": {},
   "source": [
    "We can once again use the ```type``` function to confirm that these are instances of the ```int``` class:"
   ]
  },
  {
   "cell_type": "code",
   "execution_count": 50,
   "id": "16420a2f-5494-4148-b4b5-6a67752f4515",
   "metadata": {},
   "outputs": [
    {
     "data": {
      "text/plain": [
       "int"
      ]
     },
     "execution_count": 50,
     "metadata": {},
     "output_type": "execute_result"
    }
   ],
   "source": [
    "type(1)"
   ]
  },
  {
   "cell_type": "code",
   "execution_count": 51,
   "id": "59983374-4350-46e1-961f-026c11b2ae21",
   "metadata": {},
   "outputs": [
    {
     "data": {
      "text/plain": [
       "int"
      ]
     },
     "execution_count": 51,
     "metadata": {},
     "output_type": "execute_result"
    }
   ],
   "source": [
    "type(2)"
   ]
  },
  {
   "cell_type": "code",
   "execution_count": 53,
   "id": "c24b54c5-21f6-4bca-b5f1-29601bc8d748",
   "metadata": {},
   "outputs": [
    {
     "data": {
      "text/plain": [
       "int"
      ]
     },
     "execution_count": 53,
     "metadata": {},
     "output_type": "execute_result"
    }
   ],
   "source": [
    "type(100)"
   ]
  },
  {
   "cell_type": "markdown",
   "id": "22a76c0e-f0b6-4fca-98d6-955322226dcf",
   "metadata": {},
   "source": [
    "## str class\n",
    "\n",
    "The ```str``` class consists of a string or collection of characters. These characters must be enclosed in a set of single ```' '``` or a set of double ```\" \"``` quotations:"
   ]
  },
  {
   "cell_type": "code",
   "execution_count": 54,
   "id": "dad93b5d-1e35-410c-9d0f-6e74b65f8d0c",
   "metadata": {},
   "outputs": [
    {
     "data": {
      "text/plain": [
       "'A'"
      ]
     },
     "execution_count": 54,
     "metadata": {},
     "output_type": "execute_result"
    }
   ],
   "source": [
    "'A'"
   ]
  },
  {
   "cell_type": "code",
   "execution_count": 55,
   "id": "3842b359-11f3-49dc-ab3c-f8a9e9969f6c",
   "metadata": {},
   "outputs": [
    {
     "data": {
      "text/plain": [
       "'Hello'"
      ]
     },
     "execution_count": 55,
     "metadata": {},
     "output_type": "execute_result"
    }
   ],
   "source": [
    "\"Hello\""
   ]
  },
  {
   "cell_type": "markdown",
   "id": "0ee6c7fd-3a7e-47e9-96e8-1d794590b537",
   "metadata": {},
   "source": [
    "We can once again use the ```type``` function to confirm that these are instances of the ```str``` class:"
   ]
  },
  {
   "cell_type": "code",
   "execution_count": 56,
   "id": "5cf61585-9038-4844-9b00-0d00e71bbd39",
   "metadata": {},
   "outputs": [
    {
     "data": {
      "text/plain": [
       "str"
      ]
     },
     "execution_count": 56,
     "metadata": {},
     "output_type": "execute_result"
    }
   ],
   "source": [
    "type('A')"
   ]
  },
  {
   "cell_type": "code",
   "execution_count": 57,
   "id": "3dc633c5-8e35-4602-83ba-0dfd07765ad8",
   "metadata": {},
   "outputs": [
    {
     "data": {
      "text/plain": [
       "str"
      ]
     },
     "execution_count": 57,
     "metadata": {},
     "output_type": "execute_result"
    }
   ],
   "source": [
    "type(\"Hello\")"
   ]
  },
  {
   "cell_type": "markdown",
   "id": "e3a7c2ab-8d9a-449b-af7d-a64086463486",
   "metadata": {},
   "source": [
    "From the above output, we see when we used double quotations in the input, the output displayed single quotations... This is because in Python there is no seperate class for individual characters like there is in other programming languages and so a single character is still an instance of the ```str``` class. \n",
    "\n",
    "However conceptually, under the hood each individual character used in a string can still be mapped as an ordinal sequence. We seen this earlier using the ```chr``` function. We can use this function within a simple for loop to print each ordinal number with respect to its corresponding character. Do not focus on the details surrounding the for loop for now but instead examine the results. The first 31 characters do not display as they are hidden punction marks for example 9 is a horizontal tab and 10 is an instruction for a line feed which is why there is a blank line under 10. The rest of the characters are standard characters on an English keyboard:"
   ]
  },
  {
   "cell_type": "code",
   "execution_count": 61,
   "id": "dd2ce62c-9d58-4669-b698-c4724c45761b",
   "metadata": {
    "scrolled": true,
    "tags": []
   },
   "outputs": [
    {
     "name": "stdout",
     "output_type": "stream",
     "text": [
      "0 \u0000\n",
      "1 \u0001\n",
      "2 \u0002\n",
      "3 \u0003\n",
      "4 \u0004\n",
      "5 \u0005\n",
      "6 \u0006\n",
      "7 \u0007\n",
      "8\n",
      "9 \t\n",
      "10 \n",
      "\n",
      "11 \u000b",
      "\n",
      "12 \f",
      "\n",
      "13 \n",
      "14 \u000e\n",
      "15 \u000f\n",
      "16 \u0010\n",
      "17 \u0011\n",
      "18 \u0012\n",
      "19 \u0013\n",
      "20 \u0014\n",
      "21 \u0015\n",
      "22 \u0016\n",
      "23 \u0017\n",
      "24 \u0018\n",
      "25 \u0019\n",
      "26 \u001a\n",
      "27 \u001b\n",
      "28 \u001c",
      "\n",
      "29 \u001d",
      "\n",
      "30 \u001e",
      "\n",
      "31 \u001f\n",
      "32  \n",
      "33 !\n",
      "34 \"\n",
      "35 #\n",
      "36 $\n",
      "37 %\n",
      "38 &\n",
      "39 '\n",
      "40 (\n",
      "41 )\n",
      "42 *\n",
      "43 +\n",
      "44 ,\n",
      "45 -\n",
      "46 .\n",
      "47 /\n",
      "48 0\n",
      "49 1\n",
      "50 2\n",
      "51 3\n",
      "52 4\n",
      "53 5\n",
      "54 6\n",
      "55 7\n",
      "56 8\n",
      "57 9\n",
      "58 :\n",
      "59 ;\n",
      "60 <\n",
      "61 =\n",
      "62 >\n",
      "63 ?\n",
      "64 @\n",
      "65 A\n",
      "66 B\n",
      "67 C\n",
      "68 D\n",
      "69 E\n",
      "70 F\n",
      "71 G\n",
      "72 H\n",
      "73 I\n",
      "74 J\n",
      "75 K\n",
      "76 L\n",
      "77 M\n",
      "78 N\n",
      "79 O\n",
      "80 P\n",
      "81 Q\n",
      "82 R\n",
      "83 S\n",
      "84 T\n",
      "85 U\n",
      "86 V\n",
      "87 W\n",
      "88 X\n",
      "89 Y\n",
      "90 Z\n",
      "91 [\n",
      "92 \\\n",
      "93 ]\n",
      "94 ^\n",
      "95 _\n",
      "96 `\n",
      "97 a\n",
      "98 b\n",
      "99 c\n",
      "100 d\n",
      "101 e\n",
      "102 f\n",
      "103 g\n",
      "104 h\n",
      "105 i\n",
      "106 j\n",
      "107 k\n",
      "108 l\n",
      "109 m\n",
      "110 n\n",
      "111 o\n",
      "112 p\n",
      "113 q\n",
      "114 r\n",
      "115 s\n",
      "116 t\n",
      "117 u\n",
      "118 v\n",
      "119 w\n",
      "120 x\n",
      "121 y\n",
      "122 z\n",
      "123 {\n",
      "124 |\n",
      "125 }\n",
      "126 ~\n"
     ]
    }
   ],
   "source": [
    "for num in range(127):\n",
    "    print(num, chr(num))"
   ]
  },
  {
   "cell_type": "markdown",
   "id": "d0ce23e6-d91e-4195-aada-256b0f1d6221",
   "metadata": {},
   "source": [
    "Sometimes however we wish to include a quotation in a string. Doing so like below will be problematic.\n",
    "\n",
    "Remove the ```#``` to examine the str, running the cell will produce an error:"
   ]
  },
  {
   "cell_type": "code",
   "execution_count": 79,
   "id": "d6e8c3b4-e536-4f84-a9f1-c05ea8d0aa27",
   "metadata": {},
   "outputs": [],
   "source": [
    "#\"This \"str\" is amazing\""
   ]
  },
  {
   "cell_type": "markdown",
   "id": "21aad0ae-cc5a-4acb-82f0-0dbd4deb2cf5",
   "metadata": {},
   "source": [
    "This is because the above is translated as:\n",
    "\n",
    "*\"This \"*```str```*\" is amazing\"*"
   ]
  },
  {
   "cell_type": "markdown",
   "id": "0be02ae3-6d06-4c32-ac22-d5591079f940",
   "metadata": {},
   "source": [
    "Single quotations can be used to enclose a string with double quotations:"
   ]
  },
  {
   "cell_type": "code",
   "execution_count": 78,
   "id": "dd9e3326-4355-4828-a374-c2bfedcd5787",
   "metadata": {},
   "outputs": [
    {
     "data": {
      "text/plain": [
       "'This \"str\" is amazing'"
      ]
     },
     "execution_count": 78,
     "metadata": {},
     "output_type": "execute_result"
    }
   ],
   "source": [
    "'This \"str\" is amazing'"
   ]
  },
  {
   "cell_type": "code",
   "execution_count": 77,
   "id": "cad4c405-eb7e-4045-a8a9-068c9aeec73f",
   "metadata": {},
   "outputs": [
    {
     "name": "stdout",
     "output_type": "stream",
     "text": [
      "This \"str\" is amazing\n"
     ]
    }
   ],
   "source": [
    "print('This \"str\" is amazing')"
   ]
  },
  {
   "cell_type": "markdown",
   "id": "abb50689-d792-49af-90c8-fd5b6f84267d",
   "metadata": {},
   "source": [
    "Alternatively double quotations can be used to enclose a string which contains single quotations:"
   ]
  },
  {
   "cell_type": "code",
   "execution_count": 82,
   "id": "4d330a7c-3eaa-4a97-81c2-81891eaebc99",
   "metadata": {},
   "outputs": [
    {
     "data": {
      "text/plain": [
       "\"This 'str' is amazing\""
      ]
     },
     "execution_count": 82,
     "metadata": {},
     "output_type": "execute_result"
    }
   ],
   "source": [
    "\"This 'str' is amazing\""
   ]
  },
  {
   "cell_type": "code",
   "execution_count": 83,
   "id": "1239bc61-bb7e-4f87-b704-bcf109bbc212",
   "metadata": {},
   "outputs": [
    {
     "name": "stdout",
     "output_type": "stream",
     "text": [
      "This \"str\" is amazing\n"
     ]
    }
   ],
   "source": [
    "print('This \"str\" is amazing')"
   ]
  },
  {
   "cell_type": "markdown",
   "id": "b0d99f53-71fb-4669-9253-dc9b51952a1b",
   "metadata": {},
   "source": [
    "Sometimes a string will require both single and double quotations and the ```\\``` is a special symbol which can be sued to insert an escape character. ```\\\"``` means the \" is part of the string of characters and ```\\'``` means the ' is part of the string of characters."
   ]
  },
  {
   "cell_type": "code",
   "execution_count": 75,
   "id": "55ee8eda-4fa5-416c-9bbb-5b263b14c846",
   "metadata": {},
   "outputs": [
    {
     "data": {
      "text/plain": [
       "'\"Philip\\'s\"'"
      ]
     },
     "execution_count": 75,
     "metadata": {},
     "output_type": "execute_result"
    }
   ],
   "source": [
    "\"\\\"Philip\\'s\\\"\""
   ]
  },
  {
   "cell_type": "code",
   "execution_count": 76,
   "id": "b2438f0d-fe20-4efb-b700-7a2147b3983d",
   "metadata": {},
   "outputs": [
    {
     "name": "stdout",
     "output_type": "stream",
     "text": [
      "\"Philip's\"\n"
     ]
    }
   ],
   "source": [
    "print(\"\\\"Philip\\'s\\\"\")"
   ]
  },
  {
   "cell_type": "markdown",
   "id": "a083969d-ff8c-44a3-9ec7-a16a495ac412",
   "metadata": {},
   "source": [
    "Sometimes the ```\\``` itself will want to be included as part of a ```str```, for example in a windows file path. In such a case ```\\\\``` can be used with the first ```\\``` being an instruction to insert an escape character into a ```str``` and the second ```\\``` being an instruction that the escape character to be inserted is the ```\\``` itself:"
   ]
  },
  {
   "cell_type": "code",
   "execution_count": 80,
   "id": "71048774-5bd7-437f-96d1-7b2c9f343f27",
   "metadata": {},
   "outputs": [
    {
     "data": {
      "text/plain": [
       "'C:\\\\Windows'"
      ]
     },
     "execution_count": 80,
     "metadata": {},
     "output_type": "execute_result"
    }
   ],
   "source": [
    "\"C:\\\\Windows\""
   ]
  },
  {
   "cell_type": "code",
   "execution_count": 81,
   "id": "dea42dab-a3a4-4c78-bc40-7fffbbef9614",
   "metadata": {},
   "outputs": [
    {
     "name": "stdout",
     "output_type": "stream",
     "text": [
      "C:\\Windows\n"
     ]
    }
   ],
   "source": [
    "print(\"C:\\\\Windows\")"
   ]
  },
  {
   "cell_type": "markdown",
   "id": "cb23884f-200a-4588-a030-655d51337241",
   "metadata": {},
   "source": [
    "The escape characters ```\\t``` and ```\\n``` create a horizontal tab and create a new line respectively:"
   ]
  },
  {
   "cell_type": "code",
   "execution_count": 84,
   "id": "fef3e992-b761-4927-95af-4c9e61566389",
   "metadata": {},
   "outputs": [
    {
     "name": "stdout",
     "output_type": "stream",
     "text": [
      "Hello World\n",
      "Hello\tWorld\n",
      "Hello\n",
      "World\n"
     ]
    }
   ],
   "source": [
    "print(\"Hello World\")\n",
    "print(\"Hello\\tWorld\")\n",
    "print(\"Hello\\nWorld\")"
   ]
  },
  {
   "cell_type": "markdown",
   "id": "9d66fe08-8457-4ab9-b9b5-24f8cc12a4a6",
   "metadata": {},
   "source": [
    "## variable names"
   ]
  },
  {
   "cell_type": "markdown",
   "id": "e3894708-c473-4274-ba50-5830c8cdc6c8",
   "metadata": {},
   "source": [
    "The assignment operator ```=``` can be used to assign a value to a variable name.\n",
    "\n",
    "The value on the right is stored to the variable name on the left:\n",
    "\n",
    "```\n",
    "var_name = \"Hello\"\n",
    "```\n",
    "\n",
    "Note the syntax, the var_name is an object name which is this case will become an instance name of the ```str``` class and therefore does not include any quotations. The characters in the ```str``` must be enclosed in quotations like discussed above."
   ]
  },
  {
   "cell_type": "code",
   "execution_count": 1,
   "id": "d645c0a2-b0be-4534-8dcd-2698f765e931",
   "metadata": {},
   "outputs": [],
   "source": [
    "var_name = \"Hello\""
   ]
  },
  {
   "cell_type": "markdown",
   "id": "42c79136-6c07-4c29-aeb2-caad7c03c664",
   "metadata": {},
   "source": [
    "Note there is no output to the cell as the output is stored using the variable name. \n",
    "\n",
    "Sadly by default JupyterLab doesn't have a Variable Explorer, like the Spyder 5 IDE. \n",
    "\n",
    "If you have installed the latest version of JupyterLab from the *conda-forge* channel and the JupyterLab Variable Inspector Extension, you should however be able to Inspect the Variables. Right click some blank space on the Notebook and select Open Variable Inspector:\n",
    "\n",
    "![003_variable_inspector](./images/003_variable_inspector.PNG)\n",
    "\n",
    "This will open up the Variable Inspector in a new tab:\n",
    "\n",
    "![004_variable_inspector](./images/004_variable_inspector.PNG)\n",
    "\n",
    "This is useful to quickly inspect the number of variables however you can not explore each variable in detail like you can with the Spyder 5 IDE (which is very useful for variables of more complicated data structures).\n",
    "\n",
    "Once a variable is created we can interact with it.\n",
    "\n",
    "If we input into a new cell, var_name, the value assigned to the var_name will be displayed:"
   ]
  },
  {
   "cell_type": "code",
   "execution_count": 2,
   "id": "4fc25e2a-8425-483b-835b-d78ab96a07de",
   "metadata": {},
   "outputs": [
    {
     "data": {
      "text/plain": [
       "'Hello'"
      ]
     },
     "execution_count": 2,
     "metadata": {},
     "output_type": "execute_result"
    }
   ],
   "source": [
    "var_name"
   ]
  },
  {
   "cell_type": "markdown",
   "id": "2899e9df-f0c6-422a-adb4-57c35dd66423",
   "metadata": {},
   "source": [
    "We can also use the variable with the print function:"
   ]
  },
  {
   "cell_type": "code",
   "execution_count": 3,
   "id": "c6d4e055-8b2f-47ac-bf7e-c39f9c5c55e2",
   "metadata": {},
   "outputs": [
    {
     "name": "stdout",
     "output_type": "stream",
     "text": [
      "Hello\n"
     ]
    }
   ],
   "source": [
    "print(var_name)"
   ]
  },
  {
   "cell_type": "markdown",
   "id": "1b9bb971-7bcf-4eba-a223-42f4f9340111",
   "metadata": {},
   "source": [
    "Variable names should not be the same as any of the objects in the ```builtins``` module."
   ]
  },
  {
   "cell_type": "code",
   "execution_count": 11,
   "id": "d0d37299-d55d-4079-8282-9a3209fc892b",
   "metadata": {
    "scrolled": true,
    "tags": []
   },
   "outputs": [
    {
     "data": {
      "text/plain": [
       "['ArithmeticError',\n",
       " 'AssertionError',\n",
       " 'AttributeError',\n",
       " 'BaseException',\n",
       " 'BlockingIOError',\n",
       " 'BrokenPipeError',\n",
       " 'BufferError',\n",
       " 'BytesWarning',\n",
       " 'ChildProcessError',\n",
       " 'ConnectionAbortedError',\n",
       " 'ConnectionError',\n",
       " 'ConnectionRefusedError',\n",
       " 'ConnectionResetError',\n",
       " 'DeprecationWarning',\n",
       " 'EOFError',\n",
       " 'Ellipsis',\n",
       " 'EncodingWarning',\n",
       " 'EnvironmentError',\n",
       " 'Exception',\n",
       " 'False',\n",
       " 'FileExistsError',\n",
       " 'FileNotFoundError',\n",
       " 'FloatingPointError',\n",
       " 'FutureWarning',\n",
       " 'GeneratorExit',\n",
       " 'IOError',\n",
       " 'ImportError',\n",
       " 'ImportWarning',\n",
       " 'IndentationError',\n",
       " 'IndexError',\n",
       " 'InterruptedError',\n",
       " 'IsADirectoryError',\n",
       " 'KeyError',\n",
       " 'KeyboardInterrupt',\n",
       " 'LookupError',\n",
       " 'MemoryError',\n",
       " 'ModuleNotFoundError',\n",
       " 'NameError',\n",
       " 'None',\n",
       " 'NotADirectoryError',\n",
       " 'NotImplemented',\n",
       " 'NotImplementedError',\n",
       " 'OSError',\n",
       " 'OverflowError',\n",
       " 'PendingDeprecationWarning',\n",
       " 'PermissionError',\n",
       " 'ProcessLookupError',\n",
       " 'RecursionError',\n",
       " 'ReferenceError',\n",
       " 'ResourceWarning',\n",
       " 'RuntimeError',\n",
       " 'RuntimeWarning',\n",
       " 'StopAsyncIteration',\n",
       " 'StopIteration',\n",
       " 'SyntaxError',\n",
       " 'SyntaxWarning',\n",
       " 'SystemError',\n",
       " 'SystemExit',\n",
       " 'TabError',\n",
       " 'TimeoutError',\n",
       " 'True',\n",
       " 'TypeError',\n",
       " 'UnboundLocalError',\n",
       " 'UnicodeDecodeError',\n",
       " 'UnicodeEncodeError',\n",
       " 'UnicodeError',\n",
       " 'UnicodeTranslateError',\n",
       " 'UnicodeWarning',\n",
       " 'UserWarning',\n",
       " 'ValueError',\n",
       " 'Warning',\n",
       " 'WindowsError',\n",
       " 'ZeroDivisionError',\n",
       " '__IPYTHON__',\n",
       " '__build_class__',\n",
       " '__debug__',\n",
       " '__doc__',\n",
       " '__import__',\n",
       " '__loader__',\n",
       " '__name__',\n",
       " '__package__',\n",
       " '__spec__',\n",
       " 'abs',\n",
       " 'aiter',\n",
       " 'all',\n",
       " 'anext',\n",
       " 'any',\n",
       " 'ascii',\n",
       " 'bin',\n",
       " 'bool',\n",
       " 'breakpoint',\n",
       " 'bytearray',\n",
       " 'bytes',\n",
       " 'callable',\n",
       " 'chr',\n",
       " 'classmethod',\n",
       " 'compile',\n",
       " 'complex',\n",
       " 'copyright',\n",
       " 'credits',\n",
       " 'delattr',\n",
       " 'dict',\n",
       " 'dir',\n",
       " 'display',\n",
       " 'divmod',\n",
       " 'enumerate',\n",
       " 'eval',\n",
       " 'exec',\n",
       " 'execfile',\n",
       " 'filter',\n",
       " 'float',\n",
       " 'format',\n",
       " 'frozenset',\n",
       " 'get_ipython',\n",
       " 'getattr',\n",
       " 'globals',\n",
       " 'hasattr',\n",
       " 'hash',\n",
       " 'help',\n",
       " 'hex',\n",
       " 'id',\n",
       " 'input',\n",
       " 'int',\n",
       " 'isinstance',\n",
       " 'issubclass',\n",
       " 'iter',\n",
       " 'len',\n",
       " 'license',\n",
       " 'list',\n",
       " 'locals',\n",
       " 'map',\n",
       " 'max',\n",
       " 'memoryview',\n",
       " 'min',\n",
       " 'next',\n",
       " 'object',\n",
       " 'oct',\n",
       " 'open',\n",
       " 'ord',\n",
       " 'pow',\n",
       " 'print',\n",
       " 'property',\n",
       " 'range',\n",
       " 'repr',\n",
       " 'reversed',\n",
       " 'round',\n",
       " 'runfile',\n",
       " 'set',\n",
       " 'setattr',\n",
       " 'slice',\n",
       " 'sorted',\n",
       " 'staticmethod',\n",
       " 'str',\n",
       " 'sum',\n",
       " 'super',\n",
       " 'tuple',\n",
       " 'type',\n",
       " 'vars',\n",
       " 'zip']"
      ]
     },
     "execution_count": 11,
     "metadata": {},
     "output_type": "execute_result"
    }
   ],
   "source": [
    "dir(builtins)"
   ]
  },
  {
   "cell_type": "markdown",
   "id": "984acb25-4e0e-4af9-8579-6f4de0b63651",
   "metadata": {},
   "source": [
    "Nor should they be the same as any keyword:"
   ]
  },
  {
   "cell_type": "code",
   "execution_count": 8,
   "id": "6d3990d3-7c42-4177-948f-d93db0ded644",
   "metadata": {},
   "outputs": [],
   "source": [
    "import keyword"
   ]
  },
  {
   "cell_type": "code",
   "execution_count": 10,
   "id": "b1ed7d11-4caf-4821-91d4-843ab3d85c05",
   "metadata": {},
   "outputs": [
    {
     "data": {
      "text/plain": [
       "['False',\n",
       " 'None',\n",
       " 'True',\n",
       " 'and',\n",
       " 'as',\n",
       " 'assert',\n",
       " 'async',\n",
       " 'await',\n",
       " 'break',\n",
       " 'class',\n",
       " 'continue',\n",
       " 'def',\n",
       " 'del',\n",
       " 'elif',\n",
       " 'else',\n",
       " 'except',\n",
       " 'finally',\n",
       " 'for',\n",
       " 'from',\n",
       " 'global',\n",
       " 'if',\n",
       " 'import',\n",
       " 'in',\n",
       " 'is',\n",
       " 'lambda',\n",
       " 'nonlocal',\n",
       " 'not',\n",
       " 'or',\n",
       " 'pass',\n",
       " 'raise',\n",
       " 'return',\n",
       " 'try',\n",
       " 'while',\n",
       " 'with',\n",
       " 'yield']"
      ]
     },
     "execution_count": 10,
     "metadata": {},
     "output_type": "execute_result"
    }
   ],
   "source": [
    "keyword.kwlist"
   ]
  },
  {
   "cell_type": "markdown",
   "id": "b8b8d414-ff37-4669-9352-5615200bc74e",
   "metadata": {},
   "source": [
    "Variable names should not include any spaces or special characters with exception to the underscore ```_```. Variable names cannot start with a number but can include a number after an alphabetical character. \n",
    "\n",
    "A compromise between being concise and descriptive should be considered when making variable names.\n",
    "\n",
    "The following is probably too concise and may be hard to determine what variable is which when coming back to your code after a long time:"
   ]
  },
  {
   "cell_type": "code",
   "execution_count": 15,
   "id": "a2d39cb4-905c-4245-ab1b-b0d1863f3649",
   "metadata": {},
   "outputs": [],
   "source": [
    "s1 = 1\n",
    "s2 = 2"
   ]
  },
  {
   "cell_type": "markdown",
   "id": "382c6b11-0ab7-4ef3-929d-fa14c40f9fa1",
   "metadata": {},
   "source": [
    "The variable names below are slightly more descriptive:"
   ]
  },
  {
   "cell_type": "code",
   "execution_count": 16,
   "id": "dabce19d-4943-49f8-88e9-c4a18b92a342",
   "metadata": {},
   "outputs": [],
   "source": [
    "speed1 = 1\n",
    "speed2 = 2"
   ]
  },
  {
   "cell_type": "markdown",
   "id": "37a0062f-67fd-4aed-bdef-731a5fe23bd9",
   "metadata": {},
   "source": [
    "The following variable names are once again slightly more descriptive:"
   ]
  },
  {
   "cell_type": "code",
   "execution_count": 17,
   "id": "922106f0-1397-4a36-95c4-497b1096434b",
   "metadata": {},
   "outputs": [],
   "source": [
    "start_speed = 1\n",
    "end_speed = 2"
   ]
  },
  {
   "cell_type": "markdown",
   "id": "d1d9beff-39f1-4da0-90a4-7f4c3e3cd40c",
   "metadata": {},
   "source": [
    "## methods"
   ]
  },
  {
   "cell_type": "markdown",
   "id": "55f56941-5968-4f0f-818d-036ea409f81d",
   "metadata": {},
   "source": [
    "Let us assign the ```str``` ```\"Hello\"``` with the variable name ```greeting```:"
   ]
  },
  {
   "cell_type": "code",
   "execution_count": 19,
   "id": "b1c992a7-5f6b-4f3c-a6b8-32469d3dea83",
   "metadata": {},
   "outputs": [],
   "source": [
    "greeting = \"Hello\""
   ]
  },
  {
   "cell_type": "markdown",
   "id": "952cef43-8294-4051-9ddc-d8d8a27f250d",
   "metadata": {},
   "source": [
    "Input the variable name ```greeting``` followed by a dot ```.``` and tab ```↹```:"
   ]
  },
  {
   "cell_type": "code",
   "execution_count": null,
   "id": "0f31c680-0853-48c8-b073-0d94e45333ec",
   "metadata": {},
   "outputs": [],
   "source": []
  },
  {
   "cell_type": "markdown",
   "id": "32032004-49a0-45fd-99e8-67a423b2a8d3",
   "metadata": {},
   "source": [
    "This will display a list of methods callable from the ```str``` which are mainly related to text. Let us have a look at some fo these for example the method ```lower```. Recall we can look at the reference of the method:"
   ]
  },
  {
   "cell_type": "code",
   "execution_count": 20,
   "id": "34851e02-efba-49e1-b68c-dd2a59472760",
   "metadata": {},
   "outputs": [
    {
     "data": {
      "text/plain": [
       "<function str.lower()>"
      ]
     },
     "execution_count": 20,
     "metadata": {},
     "output_type": "execute_result"
    }
   ],
   "source": [
    "greeting.lower"
   ]
  },
  {
   "cell_type": "markdown",
   "id": "0b495add-af90-4d2a-9184-5220a3926f0e",
   "metadata": {},
   "source": [
    "We can also have a look at the docstring by inputting ```greeting.lower(``` followed by a shift ```⇧``` and tab ```↹```:"
   ]
  },
  {
   "cell_type": "code",
   "execution_count": null,
   "id": "35fc7d55-d04e-4ae7-b28e-75607ed78262",
   "metadata": {},
   "outputs": [],
   "source": []
  },
  {
   "cell_type": "markdown",
   "id": "b58f403a-e821-41bf-8fd6-4984ea4148bf",
   "metadata": {},
   "source": [
    "We can output the docstring to a cell using:"
   ]
  },
  {
   "cell_type": "code",
   "execution_count": 21,
   "id": "d40451b2-6e3a-4bea-a76d-3cd60caf5e57",
   "metadata": {},
   "outputs": [
    {
     "data": {
      "text/plain": [
       "\u001b[1;31mSignature:\u001b[0m  \u001b[0mgreeting\u001b[0m\u001b[1;33m.\u001b[0m\u001b[0mlower\u001b[0m\u001b[1;33m(\u001b[0m\u001b[1;33m)\u001b[0m\u001b[1;33m\u001b[0m\u001b[1;33m\u001b[0m\u001b[0m\n",
       "\u001b[1;31mDocstring:\u001b[0m Return a copy of the string converted to lowercase.\n",
       "\u001b[1;31mType:\u001b[0m      builtin_function_or_method\n"
      ]
     },
     "metadata": {},
     "output_type": "display_data"
    }
   ],
   "source": [
    "? greeting.lower"
   ]
  },
  {
   "cell_type": "markdown",
   "id": "2db8fff9-8dd6-403b-9492-1be3be815ad7",
   "metadata": {},
   "source": [
    "We see that the method has no input arguments, so can call it using:"
   ]
  },
  {
   "cell_type": "code",
   "execution_count": 22,
   "id": "cde71416-2d6f-4728-ac35-807973240ad3",
   "metadata": {},
   "outputs": [
    {
     "data": {
      "text/plain": [
       "'hello'"
      ]
     },
     "execution_count": 22,
     "metadata": {},
     "output_type": "execute_result"
    }
   ],
   "source": [
    "greeting.lower()"
   ]
  },
  {
   "cell_type": "markdown",
   "id": "ae05350d-7aaa-4c84-b753-d15570e16692",
   "metadata": {},
   "source": [
    "These methods come from the ```str``` class. Input the class name ```str``` followed by a dot ```.``` and tab ```↹```:"
   ]
  },
  {
   "cell_type": "code",
   "execution_count": null,
   "id": "5514326b-9ac9-43c4-8ffd-b4849565cb42",
   "metadata": {},
   "outputs": [],
   "source": []
  },
  {
   "cell_type": "markdown",
   "id": "5ff20025-fa95-4a60-8144-33c58c103181",
   "metadata": {},
   "source": [
    "We can look at the description of the method using:"
   ]
  },
  {
   "cell_type": "code",
   "execution_count": 29,
   "id": "337bf89a-cfca-487b-bcbf-492ec36ed56c",
   "metadata": {},
   "outputs": [
    {
     "data": {
      "text/plain": [
       "<method 'lower' of 'str' objects>"
      ]
     },
     "execution_count": 29,
     "metadata": {},
     "output_type": "execute_result"
    }
   ],
   "source": [
    "str.lower"
   ]
  },
  {
   "cell_type": "markdown",
   "id": "c06d9919-9efc-4767-b621-d18659386bda",
   "metadata": {},
   "source": [
    "We can also have a look at the docstring by inputting ```str.lower(``` followed by a shift ```⇧``` and tab ```↹```:"
   ]
  },
  {
   "cell_type": "code",
   "execution_count": null,
   "id": "1f42132d-889a-4786-bafc-8b6a865e76e5",
   "metadata": {},
   "outputs": [],
   "source": []
  },
  {
   "cell_type": "markdown",
   "id": "1b5a4e86-4f71-440e-8fa7-ab98aa5d0231",
   "metadata": {},
   "source": [
    "We can output the docstring to a cell using:"
   ]
  },
  {
   "cell_type": "code",
   "execution_count": 30,
   "id": "275f3e34-ea78-4ca4-89cb-d1cb4b395967",
   "metadata": {},
   "outputs": [
    {
     "data": {
      "text/plain": [
       "\u001b[1;31mSignature:\u001b[0m  \u001b[0mstr\u001b[0m\u001b[1;33m.\u001b[0m\u001b[0mlower\u001b[0m\u001b[1;33m(\u001b[0m\u001b[0mself\u001b[0m\u001b[1;33m,\u001b[0m \u001b[1;33m/\u001b[0m\u001b[1;33m)\u001b[0m\u001b[1;33m\u001b[0m\u001b[1;33m\u001b[0m\u001b[0m\n",
       "\u001b[1;31mDocstring:\u001b[0m Return a copy of the string converted to lowercase.\n",
       "\u001b[1;31mType:\u001b[0m      method_descriptor\n"
      ]
     },
     "metadata": {},
     "output_type": "display_data"
    }
   ],
   "source": [
    "? str.lower"
   ]
  },
  {
   "cell_type": "markdown",
   "id": "1eeb3efb-95f0-40d5-84df-6aa08c295573",
   "metadata": {},
   "source": [
    "And we see to use this method when called from the class, we need to specify a positional input argument, the instance ```self```:"
   ]
  },
  {
   "cell_type": "code",
   "execution_count": 32,
   "id": "d3528331-38e6-45ba-a58a-8e3986e24020",
   "metadata": {},
   "outputs": [
    {
     "data": {
      "text/plain": [
       "'hello'"
      ]
     },
     "execution_count": 32,
     "metadata": {},
     "output_type": "execute_result"
    }
   ],
   "source": [
    "str.lower(greeting)"
   ]
  },
  {
   "cell_type": "markdown",
   "id": "95ecc6f1-367c-4b39-a4a2-651c20dc3715",
   "metadata": {},
   "source": [
    "This means the following two are equivalent:"
   ]
  },
  {
   "cell_type": "code",
   "execution_count": 33,
   "id": "165c6215-6f9e-499e-be10-739dbb5e71e6",
   "metadata": {},
   "outputs": [
    {
     "data": {
      "text/plain": [
       "'hello'"
      ]
     },
     "execution_count": 33,
     "metadata": {},
     "output_type": "execute_result"
    }
   ],
   "source": [
    "greeting.lower()"
   ]
  },
  {
   "cell_type": "code",
   "execution_count": 34,
   "id": "8dc547fe-9890-4eca-84cc-3b01142eebbe",
   "metadata": {},
   "outputs": [
    {
     "data": {
      "text/plain": [
       "'hello'"
      ]
     },
     "execution_count": 34,
     "metadata": {},
     "output_type": "execute_result"
    }
   ],
   "source": [
    "str.lower(greeting)"
   ]
  },
  {
   "cell_type": "markdown",
   "id": "09c124c5-b993-45c6-a6de-ba48eb689cae",
   "metadata": {},
   "source": [
    "The top syntax, where the method is called from the object name (i.e. an instance of the class) is much more commonly used.\n",
    "\n",
    "We can assign the output of the method to a new variable name using the assignment operator:"
   ]
  },
  {
   "cell_type": "code",
   "execution_count": 35,
   "id": "578f7d37-dc4d-4647-bee2-6dc9e07e9357",
   "metadata": {},
   "outputs": [],
   "source": [
    "lower_greeting = greeting.lower()"
   ]
  },
  {
   "cell_type": "code",
   "execution_count": 36,
   "id": "7afd8bf7-4c12-4f67-b3f6-1ff8a5221a74",
   "metadata": {},
   "outputs": [
    {
     "name": "stdout",
     "output_type": "stream",
     "text": [
      "hello\n"
     ]
    }
   ],
   "source": [
    "print(lower_greeting)"
   ]
  },
  {
   "cell_type": "markdown",
   "id": "99bb3f6f-0862-44ad-b256-72882317d8dc",
   "metadata": {},
   "source": [
    "We can use the  methods ```upper``` and ```capitalize``` in a similar way:"
   ]
  },
  {
   "cell_type": "code",
   "execution_count": 26,
   "id": "231126cd-b9f7-4074-8ad6-67e51426cafa",
   "metadata": {},
   "outputs": [
    {
     "data": {
      "text/plain": [
       "'HELLO'"
      ]
     },
     "execution_count": 26,
     "metadata": {},
     "output_type": "execute_result"
    }
   ],
   "source": [
    "greeting.upper()"
   ]
  },
  {
   "cell_type": "code",
   "execution_count": 27,
   "id": "8bec89c5-c29b-475c-808b-e022ddcc4a47",
   "metadata": {},
   "outputs": [
    {
     "data": {
      "text/plain": [
       "'Hello'"
      ]
     },
     "execution_count": 27,
     "metadata": {},
     "output_type": "execute_result"
    }
   ],
   "source": [
    "greeting.capitalize()"
   ]
  },
  {
   "cell_type": "markdown",
   "id": "f5d91861-771e-4d30-bce3-e72fc6468778",
   "metadata": {},
   "source": [
    "Let us have a look at the variable ```greeting```:"
   ]
  },
  {
   "cell_type": "code",
   "execution_count": 37,
   "id": "699867b6-28eb-4a1b-878a-06332ab79095",
   "metadata": {},
   "outputs": [
    {
     "data": {
      "text/plain": [
       "'Hello'"
      ]
     },
     "execution_count": 37,
     "metadata": {},
     "output_type": "execute_result"
    }
   ],
   "source": [
    "greeting"
   ]
  },
  {
   "cell_type": "markdown",
   "id": "b4f50b0f-be66-4bd4-9925-d50379177291",
   "metadata": {},
   "source": [
    "We can use the assignment operator to reassign it to a new variable name:"
   ]
  },
  {
   "cell_type": "code",
   "execution_count": 39,
   "id": "e071bc71-c31c-4867-9378-11f06ffe56b2",
   "metadata": {},
   "outputs": [],
   "source": [
    "greeting = \"Hello World\""
   ]
  },
  {
   "cell_type": "code",
   "execution_count": 40,
   "id": "6e9f4c90-17a7-4c20-b7ca-a7699a1435c7",
   "metadata": {},
   "outputs": [
    {
     "data": {
      "text/plain": [
       "'Hello World'"
      ]
     },
     "execution_count": 40,
     "metadata": {},
     "output_type": "execute_result"
    }
   ],
   "source": [
    "greeting"
   ]
  },
  {
   "cell_type": "markdown",
   "id": "49b0d527-ac83-4d7b-a2bc-de154dad50a7",
   "metadata": {},
   "source": [
    "We can now look at using a more complicated method such as ```replace```. We can have a look at the docstring by inputting ```str.replace(``` followed by a shift ```⇧``` and tab ```↹```:"
   ]
  },
  {
   "cell_type": "code",
   "execution_count": null,
   "id": "04d4ed86-a219-4eb5-9505-0aaa1747da68",
   "metadata": {},
   "outputs": [],
   "source": []
  },
  {
   "cell_type": "markdown",
   "id": "ea4f08c3-8807-44c3-83be-99429230828a",
   "metadata": {},
   "source": [
    "Or by outputting it to a cell:"
   ]
  },
  {
   "cell_type": "code",
   "execution_count": 43,
   "id": "8a74675e-ba86-4207-93da-238d2ddde1ef",
   "metadata": {},
   "outputs": [
    {
     "data": {
      "text/plain": [
       "\u001b[1;31mSignature:\u001b[0m  \u001b[0mgreeting\u001b[0m\u001b[1;33m.\u001b[0m\u001b[0mreplace\u001b[0m\u001b[1;33m(\u001b[0m\u001b[0mold\u001b[0m\u001b[1;33m,\u001b[0m \u001b[0mnew\u001b[0m\u001b[1;33m,\u001b[0m \u001b[0mcount\u001b[0m\u001b[1;33m=\u001b[0m\u001b[1;33m-\u001b[0m\u001b[1;36m1\u001b[0m\u001b[1;33m,\u001b[0m \u001b[1;33m/\u001b[0m\u001b[1;33m)\u001b[0m\u001b[1;33m\u001b[0m\u001b[1;33m\u001b[0m\u001b[0m\n",
       "\u001b[1;31mDocstring:\u001b[0m\n",
       "Return a copy with all occurrences of substring old replaced by new.\n",
       "\n",
       "  count\n",
       "    Maximum number of occurrences to replace.\n",
       "    -1 (the default value) means replace all occurrences.\n",
       "\n",
       "If the optional argument count is given, only the first count occurrences are\n",
       "replaced.\n",
       "\u001b[1;31mType:\u001b[0m      builtin_function_or_method\n"
      ]
     },
     "metadata": {},
     "output_type": "display_data"
    }
   ],
   "source": [
    "? greeting.replace"
   ]
  },
  {
   "cell_type": "markdown",
   "id": "5e0dda42-8a6b-4510-bb81-128327830541",
   "metadata": {},
   "source": [
    "If we supply the positional input arguments, old and new with the ```str``` instances ```\"Hello\"``` and ```\"Goodbye\"``` respectively we get:"
   ]
  },
  {
   "cell_type": "code",
   "execution_count": 41,
   "id": "84e14dae-e33c-439d-ba80-8aa634771140",
   "metadata": {},
   "outputs": [
    {
     "data": {
      "text/plain": [
       "'Goodbye World'"
      ]
     },
     "execution_count": 41,
     "metadata": {},
     "output_type": "execute_result"
    }
   ],
   "source": [
    "greeting.replace(\"Hello\", \"Goodbye\")"
   ]
  },
  {
   "cell_type": "markdown",
   "id": "2265b7d6-e740-412e-93b4-878a9e34c1d2",
   "metadata": {},
   "source": [
    "We see this function also has an additional input argument count. Let us reassign ```greeting``` to:"
   ]
  },
  {
   "cell_type": "code",
   "execution_count": 45,
   "id": "0321ae6b-456c-4894-bd15-9fea276e806d",
   "metadata": {},
   "outputs": [],
   "source": [
    "greeting = \"Hello Hello World\""
   ]
  },
  {
   "cell_type": "markdown",
   "id": "594a706c-8aff-493a-bea4-80ed41bb788e",
   "metadata": {},
   "source": [
    "And reuse this method, by default the keyword input argument ```count``` takes on its initial value ```-1``` replacing all instances:"
   ]
  },
  {
   "cell_type": "code",
   "execution_count": 46,
   "id": "4640832a-358a-4939-b42c-80ef4339195d",
   "metadata": {},
   "outputs": [
    {
     "data": {
      "text/plain": [
       "'Goodbye Goodbye World'"
      ]
     },
     "execution_count": 46,
     "metadata": {},
     "output_type": "execute_result"
    }
   ],
   "source": [
    "greeting.replace(\"Hello\", \"Goodbye\")"
   ]
  },
  {
   "cell_type": "markdown",
   "id": "f5beddba-3ae5-4ca2-a6ee-65247ccba3ea",
   "metadata": {},
   "source": [
    "We can instead supply this as ```1``` or ```2``` respectively:"
   ]
  },
  {
   "cell_type": "code",
   "execution_count": 48,
   "id": "236829ea-2f48-419d-9f5d-597ca7638bb0",
   "metadata": {},
   "outputs": [
    {
     "data": {
      "text/plain": [
       "'Goodbye Hello World'"
      ]
     },
     "execution_count": 48,
     "metadata": {},
     "output_type": "execute_result"
    }
   ],
   "source": [
    "greeting.replace(\"Hello\", \"Goodbye\", 1)"
   ]
  },
  {
   "cell_type": "code",
   "execution_count": 49,
   "id": "e1ac6b6f-cc26-4c92-adb9-e8616b8c54a8",
   "metadata": {},
   "outputs": [
    {
     "data": {
      "text/plain": [
       "'Goodbye Goodbye World'"
      ]
     },
     "execution_count": 49,
     "metadata": {},
     "output_type": "execute_result"
    }
   ],
   "source": [
    "greeting.replace(\"Hello\", \"Goodbye\", 2)"
   ]
  },
  {
   "cell_type": "markdown",
   "id": "5fa96be7-5de8-4e31-8ba4-ea6e64a35563",
   "metadata": {},
   "source": [
    "Conceptually a method is a function which is defined in a class. We can think of these methods in pseudo code as:\n",
    "\n",
    "```\n",
    "class str():\n",
    "\n",
    "    ⋮\n",
    "    \n",
    "    def lower(self):\n",
    "        value = lower value of self\n",
    "        return value\n",
    "\n",
    "    ⋮\n",
    "\n",
    "    ⋮\n",
    "    \n",
    "    def replace(self, old, new, count):\n",
    "        value = if old in self, replace with new for count otherwise leave self unchanged\n",
    "        return value\n",
    "\n",
    "    ⋮\n",
    "\n",
    "\n",
    "```\n",
    "\n"
   ]
  },
  {
   "cell_type": "markdown",
   "id": "03f1ee2d-80a6-4883-adb1-6d6816ecd62c",
   "metadata": {},
   "source": [
    "## datamodel methods"
   ]
  },
  {
   "cell_type": "markdown",
   "id": "5b4febc1-455e-4fda-9ce6-58df440a40ba",
   "metadata": {},
   "source": [
    "Let us now assign an instance of the ```int``` class to a variable name:"
   ]
  },
  {
   "cell_type": "code",
   "execution_count": 52,
   "id": "5b7847b8-6a2a-42b8-acd0-be2529b63532",
   "metadata": {},
   "outputs": [],
   "source": [
    "num = 1"
   ]
  },
  {
   "cell_type": "markdown",
   "id": "c71dab98-99b3-47a3-b591-f1b48fc212af",
   "metadata": {},
   "source": [
    "Now let us type in the variable name followed by a dot ```.``` and tab ```↹```:"
   ]
  },
  {
   "cell_type": "code",
   "execution_count": null,
   "id": "f87f8bdd-d56c-478f-916b-8d4eb88135ff",
   "metadata": {},
   "outputs": [],
   "source": []
  },
  {
   "cell_type": "markdown",
   "id": "dff01d1e-ef9b-40b4-a0b7-3205c486775d",
   "metadata": {},
   "source": [
    "We see we have different methods because this class is numeric and not text based:\n",
    "\n",
    "![005_int_str_methods](./images/005_int_str_methods.PNG)"
   ]
  },
  {
   "cell_type": "markdown",
   "id": "fbda3f0e-4064-460c-8fe0-ce17d9362612",
   "metadata": {},
   "source": [
    "For the ```int``` class, a number of datamodel methods are created that are mapped to operators. We can use the ```+``` operator for example to add the value of two ```int``` together:"
   ]
  },
  {
   "cell_type": "code",
   "execution_count": 54,
   "id": "543fca53-71d9-4b7f-a762-9abeedbeb5f2",
   "metadata": {},
   "outputs": [
    {
     "data": {
      "text/plain": [
       "3"
      ]
     },
     "execution_count": 54,
     "metadata": {},
     "output_type": "execute_result"
    }
   ],
   "source": [
    "1 + 2"
   ]
  },
  {
   "cell_type": "code",
   "execution_count": 55,
   "id": "615db5e4-163e-4b34-b674-19a6268a9405",
   "metadata": {},
   "outputs": [],
   "source": [
    "num1 = 1\n",
    "num2 = 2"
   ]
  },
  {
   "cell_type": "code",
   "execution_count": 56,
   "id": "a3c19426-aac5-41f6-aa6d-b1ad9c13668b",
   "metadata": {},
   "outputs": [],
   "source": [
    "num3 = num1 + num2"
   ]
  },
  {
   "cell_type": "code",
   "execution_count": 57,
   "id": "1df3b41a-5c3f-408b-a090-6844d985e2ca",
   "metadata": {},
   "outputs": [
    {
     "data": {
      "text/plain": [
       "3"
      ]
     },
     "execution_count": 57,
     "metadata": {},
     "output_type": "execute_result"
    }
   ],
   "source": [
    "num3"
   ]
  },
  {
   "cell_type": "markdown",
   "id": "51acb80f-4032-4943-a146-6907ffe0cb09",
   "metadata": {},
   "source": [
    "The ```str``` class also has datamodel methods. We can use the ```+``` operator for example to concatenate two ```str``` together:"
   ]
  },
  {
   "cell_type": "code",
   "execution_count": 59,
   "id": "167e075f-aae4-4bff-a1c5-b85a6bcf3839",
   "metadata": {},
   "outputs": [],
   "source": [
    "greeting1 = \"Hello\""
   ]
  },
  {
   "cell_type": "code",
   "execution_count": 60,
   "id": "9127f2fb-d834-41d3-a8f2-1abfb9ba9ddf",
   "metadata": {},
   "outputs": [],
   "source": [
    "greeting2 = \"World\""
   ]
  },
  {
   "cell_type": "code",
   "execution_count": 62,
   "id": "f2d40e4c-4144-4322-9ae1-ce7fbb9c4428",
   "metadata": {},
   "outputs": [],
   "source": [
    "greeting3 = greeting1 + greeting2"
   ]
  },
  {
   "cell_type": "code",
   "execution_count": 63,
   "id": "471bf780-d76d-483e-a7aa-645147ccf483",
   "metadata": {},
   "outputs": [
    {
     "data": {
      "text/plain": [
       "'HelloWorld'"
      ]
     },
     "execution_count": 63,
     "metadata": {},
     "output_type": "execute_result"
    }
   ],
   "source": [
    "greeting3"
   ]
  },
  {
   "cell_type": "markdown",
   "id": "10c06111-0d4c-4b63-b63d-dd53c44320fb",
   "metadata": {},
   "source": [
    "Under the hood the ```str``` class has the ```__add__``` datamodel configured to concatenate. Conceptually we can think of this in pseudo code as:\n",
    "\n",
    "\n",
    "```\n",
    "class str():\n",
    "\n",
    "    ⋮\n",
    "    \n",
    "    def __add__(self, other):\n",
    "        value = self concatenated with other\n",
    "        return value\n",
    "\n",
    "    ⋮\n",
    "\n",
    "```\n",
    "\n",
    "While the ```int``` class has the ```__add__``` datamodel configured to add. Conceptually we can think of this in pseudo code as:\n",
    "\n",
    "\n",
    "```\n",
    "\n",
    "class int():\n",
    "\n",
    "    ⋮\n",
    "    \n",
    "    def __add__(self, other):\n",
    "        value = self added to other\n",
    "        return value\n",
    "        \n",
    "   ⋮     \n",
    "   \n",
    "```\n",
    "\n",
    "Although these methods have the same name, they are setup to perform different behaviour."
   ]
  },
  {
   "cell_type": "code",
   "execution_count": 64,
   "id": "1a123098-3d8e-4ac0-9b02-92d1bd97f8d5",
   "metadata": {},
   "outputs": [
    {
     "data": {
      "text/plain": [
       "'HelloWorld'"
      ]
     },
     "execution_count": 64,
     "metadata": {},
     "output_type": "execute_result"
    }
   ],
   "source": [
    "greeting1.__add__(greeting2)"
   ]
  },
  {
   "cell_type": "code",
   "execution_count": 65,
   "id": "db6a9058-8382-4640-ad7b-be551c0331c6",
   "metadata": {},
   "outputs": [
    {
     "data": {
      "text/plain": [
       "'HelloWorld'"
      ]
     },
     "execution_count": 65,
     "metadata": {},
     "output_type": "execute_result"
    }
   ],
   "source": [
    "greeting1 + greeting2"
   ]
  },
  {
   "cell_type": "code",
   "execution_count": 66,
   "id": "7c16e40e-5947-420f-9050-9ba9d30f0281",
   "metadata": {},
   "outputs": [
    {
     "data": {
      "text/plain": [
       "3"
      ]
     },
     "execution_count": 66,
     "metadata": {},
     "output_type": "execute_result"
    }
   ],
   "source": [
    "num1.__add__(num2)"
   ]
  },
  {
   "cell_type": "code",
   "execution_count": 67,
   "id": "1f92b518-4cea-41e6-a0db-642ab29632ca",
   "metadata": {},
   "outputs": [
    {
     "data": {
      "text/plain": [
       "3"
      ]
     },
     "execution_count": 67,
     "metadata": {},
     "output_type": "execute_result"
    }
   ],
   "source": [
    "num1 + num2"
   ]
  },
  {
   "cell_type": "markdown",
   "id": "3506f0de-a41d-404b-9575-d945a4b9482e",
   "metadata": {},
   "source": [
    "The following will therefore not work and yield an error, because the ```__add__``` datamodel doesn't specify the interaction between these two different classes:"
   ]
  },
  {
   "cell_type": "code",
   "execution_count": null,
   "id": "8b74036d-1757-4004-b267-dfa3594cdc2e",
   "metadata": {},
   "outputs": [],
   "source": [
    "# greeting1 + num1"
   ]
  },
  {
   "cell_type": "markdown",
   "id": "64065b5d-55b8-4722-9cad-fd3c7d494b66",
   "metadata": {},
   "source": [
    "A num can be cast into a ```str``` using the ```str``` class:"
   ]
  },
  {
   "cell_type": "code",
   "execution_count": 69,
   "id": "8eaf1196-7156-4c4b-9dc7-8ff5c47e92de",
   "metadata": {},
   "outputs": [
    {
     "data": {
      "text/plain": [
       "'1'"
      ]
     },
     "execution_count": 69,
     "metadata": {},
     "output_type": "execute_result"
    }
   ],
   "source": [
    "str(num1)"
   ]
  },
  {
   "cell_type": "markdown",
   "id": "e3e44925-b6d4-431d-85c2-1e18d075ec28",
   "metadata": {},
   "source": [
    "Notice the inclusion of the quotations in the output meaning ```'1'``` is a ```str``` and not an ```int```:"
   ]
  },
  {
   "cell_type": "code",
   "execution_count": 70,
   "id": "0c651004-734c-43d9-9b32-c35f372f1a57",
   "metadata": {},
   "outputs": [
    {
     "data": {
      "text/plain": [
       "'Hello1'"
      ]
     },
     "execution_count": 70,
     "metadata": {},
     "output_type": "execute_result"
    }
   ],
   "source": [
    "greeting1 + str(num1)"
   ]
  },
  {
   "cell_type": "markdown",
   "id": "e67f4161-2751-4ee0-b13f-69876a3060e7",
   "metadata": {},
   "source": [
    "And therefore when numbers are ```str```, the ```+``` operator concatenates them:"
   ]
  },
  {
   "cell_type": "code",
   "execution_count": 71,
   "id": "463192a1-f875-4b93-8697-dea19734a28e",
   "metadata": {},
   "outputs": [
    {
     "data": {
      "text/plain": [
       "'11'"
      ]
     },
     "execution_count": 71,
     "metadata": {},
     "output_type": "execute_result"
    }
   ],
   "source": [
    "\"1\" + \"1\""
   ]
  },
  {
   "cell_type": "markdown",
   "id": "d6eb09df-da0c-4c01-8813-5da06f206044",
   "metadata": {},
   "source": [
    "Most of the other methods used with numbers are datamodel methods such as:"
   ]
  },
  {
   "cell_type": "markdown",
   "id": "52873132-d2e1-44bf-b491-6d31bf421240",
   "metadata": {},
   "source": [
    "|operator|method|\n",
    "|---|---|\n",
    "|```+```|```__add__```|\n",
    "|```-```|```__sub__```|\n",
    "|```*```|```__mul__```|\n",
    "|```//```|```__floordiv__```|\n",
    "|```%```|```__mod__```|"
   ]
  },
  {
   "cell_type": "markdown",
   "id": "b40c150f-9295-47dd-8547-9aae1e989c6b",
   "metadata": {},
   "source": [
    "And only the ```__mul__``` datamodel method is setup to perform an operation between an instance of the ```str``` class and an instance of the ```int``` class, in this example ```str``` replication:"
   ]
  },
  {
   "cell_type": "code",
   "execution_count": 73,
   "id": "9a2d7c5e-2c90-42e0-8480-1f2ec1f9a736",
   "metadata": {},
   "outputs": [
    {
     "data": {
      "text/plain": [
       "'HelloHelloHelloHelloHello'"
      ]
     },
     "execution_count": 73,
     "metadata": {},
     "output_type": "execute_result"
    }
   ],
   "source": [
    "5 * \"Hello\""
   ]
  },
  {
   "cell_type": "markdown",
   "id": "1f166817-d379-480e-94e6-7b6b8410fad7",
   "metadata": {},
   "source": [
    "## attributes\n",
    "\n",
    "An attribute is just an assignment of a variable within a class. Previously we looked at the attributes ```real``` and ```imag``` when focusing on the ```bool``` class. These are also available in the ```int``` which is the parent class of ```bool```. We can conceptualise these as the pseudo code below: \n",
    "\n",
    "```\n",
    "\n",
    "class int():\n",
    "\n",
    "    ⋮\n",
    "    \n",
    "   self.real = self\n",
    "   self.imag = 0\n",
    "        \n",
    "    ⋮\n",
    "    \n",
    "    def conjugate(self):\n",
    "        return self.real + j*self.imag\n",
    "        \n",
    "   ⋮       \n",
    "   \n",
    "```"
   ]
  },
  {
   "cell_type": "code",
   "execution_count": 74,
   "id": "cc4afcd4-f98d-4921-8bdb-21ac57939c71",
   "metadata": {},
   "outputs": [
    {
     "data": {
      "text/plain": [
       "1"
      ]
     },
     "execution_count": 74,
     "metadata": {},
     "output_type": "execute_result"
    }
   ],
   "source": [
    "num1"
   ]
  },
  {
   "cell_type": "code",
   "execution_count": 75,
   "id": "25d32e25-288e-43e8-b73d-374a7f1706f7",
   "metadata": {},
   "outputs": [
    {
     "data": {
      "text/plain": [
       "1"
      ]
     },
     "execution_count": 75,
     "metadata": {},
     "output_type": "execute_result"
    }
   ],
   "source": [
    "num1.real"
   ]
  },
  {
   "cell_type": "code",
   "execution_count": 78,
   "id": "9e018065-d7c0-439f-920a-341f984444e5",
   "metadata": {},
   "outputs": [
    {
     "data": {
      "text/plain": [
       "0"
      ]
     },
     "execution_count": 78,
     "metadata": {},
     "output_type": "execute_result"
    }
   ],
   "source": [
    "num1.imag"
   ]
  },
  {
   "cell_type": "code",
   "execution_count": 79,
   "id": "0e77e376-707c-4d75-8b63-e7c4937a4192",
   "metadata": {},
   "outputs": [
    {
     "data": {
      "text/plain": [
       "1"
      ]
     },
     "execution_count": 79,
     "metadata": {},
     "output_type": "execute_result"
    }
   ],
   "source": [
    "num1.conjugate()"
   ]
  },
  {
   "cell_type": "markdown",
   "id": "a3041ed3-ac16-4039-8b24-6b3be54d4b20",
   "metadata": {},
   "source": [
    "## conception of a class as a blueprint"
   ]
  },
  {
   "cell_type": "markdown",
   "id": "16937e01-b615-4cd9-9cd2-9603cce222a7",
   "metadata": {},
   "source": [
    "An analogy of a *class* is a blueprint. In pseudo code we can see this blueprint has the form:\n",
    "\n",
    "```\n",
    "\n",
    "class int():\n",
    "\n",
    "    ⋮\n",
    "    \n",
    "    def __init__(self):\n",
    "        instructions to create a new instance of the int class\n",
    "        return value\n",
    "    \n",
    "    \n",
    "   self.real = self\n",
    "   self.imag = 0\n",
    "        \n",
    "    ⋮\n",
    "    \n",
    "    def conjugate(self):\n",
    "        return self.real + j*self.imag\n",
    "        \n",
    "   ⋮    \n",
    "   \n",
    "    def __add__(self, other):\n",
    "        value = self added to other\n",
    "        return value    def __add__(self, other):\n",
    "        value = self added to other\n",
    "        return value\n",
    "        \n",
    "   ⋮       \n",
    "   \n",
    "```\n",
    "Let us take the blueprint idea further and consider the analogy of a blueprint for a house. Under the hood, an architect may create a class or blueprint of a house called ```House``` (capitalized). This blueprint or *class* is an abstract object, that we as an end user cannot interact with. It will outline the features or ```attributes``` of a house such as the height of the house ```househeight```, how many rooms it possesses ```nrooms``` and the size of the bedroom ```bedroomsize``` for example. It will also outline the functionality of the house such as the doors in the house ```frontdooropen``` or ```frontdoorclose```, the windows in the house ```frontwindowopen``` or ```frontwindowclose```, the central heating system controls ```sethousetemperature``` and the sewage controls ```flushtoilet```.\n",
    "\n",
    "A construction company can follow the instructions in this *class* (or blueprint) called ```House``` to create one or multiple houses. Each house will be constructed using the same blueprint but each object created will be unique. To indicate that each house is unique, the construction company will assign each new house object, a name during construction which we know as a post code. This process is known as **initialisation** or **instantiation**, creating a new instance of the class ```House```. In Python, we refer to the post code as the **object name** or more formally the **instance name**, for simplicity let's just call these ```house000``` and ```house001``` respectively.\n",
    "\n",
    "The end user (homeowner or tenant) will be able to uniquely interact with their own house object/instance using the functions outlined in the blueprint House. These functions are methods for interacting with a house object/instance. For example the owner of ```house000``` will be able to leave their house by calling the method ```house000.frontdooropen()``` and ```house000.frontdoorclose()``` and set the temperature on their central heating system by calling the method ```house000.sethousetemperature(temp=24)``` supplying as an input argument, their desired temperature. The interactions with the object/instance ```house000``` will not change other objects/instances such as ```house001``` or the original class ```House``` itself; opening the front door of your house does not effect your neighbours frontdoor or the frontdoor specified on the blueprint of your house.\n",
    "\n",
    "Notice that because the methods are functions, they are called with parenthesis and in the case of the last method an input argument was provided. The dot syntax ```.``` indicates that the method is being called from the instance ```house000```.\n",
    "\n",
    "The homeowner of ```house000``` may want to rent out a bedroom in their house and may have to list it with the following attributes ```house000.nrooms``` and ```house000.bedroomsize``` for example. The dot syntax ```.``` once again indicates that the attribute is being read from ```house000``` and there are no ```( )``` added as we are merely reading off a property. If the ```house000.nrooms``` attribute is altered, it'll usually be altered by a method for example ```house000.buildextension()```."
   ]
  },
  {
   "cell_type": "code",
   "execution_count": null,
   "id": "263e1fb6-12e8-4b73-b86d-4d7f1e9c968c",
   "metadata": {},
   "outputs": [],
   "source": []
  }
 ],
 "metadata": {
  "kernelspec": {
   "display_name": "Python 3 (ipykernel)",
   "language": "python",
   "name": "python3"
  },
  "language_info": {
   "codemirror_mode": {
    "name": "ipython",
    "version": 3
   },
   "file_extension": ".py",
   "mimetype": "text/x-python",
   "name": "python",
   "nbconvert_exporter": "python",
   "pygments_lexer": "ipython3",
   "version": "3.10.5"
  }
 },
 "nbformat": 4,
 "nbformat_minor": 5
}
