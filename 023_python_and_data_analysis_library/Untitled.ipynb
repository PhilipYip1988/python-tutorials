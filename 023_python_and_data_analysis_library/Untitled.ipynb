{
 "cells": [
  {
   "cell_type": "code",
   "execution_count": 1,
   "id": "d286b689-b5fd-472a-8888-50b9ef9df97a",
   "metadata": {
    "tags": []
   },
   "outputs": [],
   "source": [
    "import pandas as pd"
   ]
  },
  {
   "cell_type": "code",
   "execution_count": 2,
   "id": "b8784365-b074-492f-8ab3-0ad20b0c68fd",
   "metadata": {},
   "outputs": [
    {
     "data": {
      "text/plain": [
       "'1.5.3'"
      ]
     },
     "execution_count": 2,
     "metadata": {},
     "output_type": "execute_result"
    }
   ],
   "source": [
    "pd.__version__"
   ]
  },
  {
   "cell_type": "code",
   "execution_count": 3,
   "id": "0c751b2e-8025-456f-9a42-8298f8994672",
   "metadata": {
    "tags": []
   },
   "outputs": [],
   "source": [
    "df = pd.DataFrame(data={'x': [1, 2, 3, 4, 5],\n",
    "                        'y': [2, 4, 6, 8, 10]},\n",
    "                  dtype=int)"
   ]
  },
  {
   "cell_type": "code",
   "execution_count": 4,
   "id": "bb587998-d05a-4e61-b5e0-80f2a9afb19f",
   "metadata": {
    "scrolled": true,
    "tags": []
   },
   "outputs": [
    {
     "data": {
      "text/plain": [
       "\u001b[1;31mSignature:\u001b[0m  \u001b[0mdf\u001b[0m\u001b[1;33m.\u001b[0m\u001b[0mastype\u001b[0m\u001b[1;33m(\u001b[0m\u001b[0mdtype\u001b[0m\u001b[1;33m,\u001b[0m \u001b[0mcopy\u001b[0m\u001b[1;33m:\u001b[0m \u001b[1;34m'bool_t'\u001b[0m \u001b[1;33m=\u001b[0m \u001b[1;32mTrue\u001b[0m\u001b[1;33m,\u001b[0m \u001b[0merrors\u001b[0m\u001b[1;33m:\u001b[0m \u001b[1;34m'IgnoreRaise'\u001b[0m \u001b[1;33m=\u001b[0m \u001b[1;34m'raise'\u001b[0m\u001b[1;33m)\u001b[0m \u001b[1;33m->\u001b[0m \u001b[1;34m'NDFrameT'\u001b[0m\u001b[1;33m\u001b[0m\u001b[1;33m\u001b[0m\u001b[0m\n",
       "\u001b[1;31mDocstring:\u001b[0m\n",
       "Cast a pandas object to a specified dtype ``dtype``.\n",
       "\n",
       "Parameters\n",
       "----------\n",
       "dtype : data type, or dict of column name -> data type\n",
       "    Use a numpy.dtype or Python type to cast entire pandas object to\n",
       "    the same type. Alternatively, use {col: dtype, ...}, where col is a\n",
       "    column label and dtype is a numpy.dtype or Python type to cast one\n",
       "    or more of the DataFrame's columns to column-specific types.\n",
       "copy : bool, default True\n",
       "    Return a copy when ``copy=True`` (be very careful setting\n",
       "    ``copy=False`` as changes to values then may propagate to other\n",
       "    pandas objects).\n",
       "errors : {'raise', 'ignore'}, default 'raise'\n",
       "    Control raising of exceptions on invalid data for provided dtype.\n",
       "\n",
       "    - ``raise`` : allow exceptions to be raised\n",
       "    - ``ignore`` : suppress exceptions. On error return original object.\n",
       "\n",
       "Returns\n",
       "-------\n",
       "casted : same type as caller\n",
       "\n",
       "See Also\n",
       "--------\n",
       "to_datetime : Convert argument to datetime.\n",
       "to_timedelta : Convert argument to timedelta.\n",
       "to_numeric : Convert argument to a numeric type.\n",
       "numpy.ndarray.astype : Cast a numpy array to a specified type.\n",
       "\n",
       "Notes\n",
       "-----\n",
       ".. deprecated:: 1.3.0\n",
       "\n",
       "    Using ``astype`` to convert from timezone-naive dtype to\n",
       "    timezone-aware dtype is deprecated and will raise in a\n",
       "    future version.  Use :meth:`Series.dt.tz_localize` instead.\n",
       "\n",
       "Examples\n",
       "--------\n",
       "Create a DataFrame:\n",
       "\n",
       ">>> d = {'col1': [1, 2], 'col2': [3, 4]}\n",
       ">>> df = pd.DataFrame(data=d)\n",
       ">>> df.dtypes\n",
       "col1    int64\n",
       "col2    int64\n",
       "dtype: object\n",
       "\n",
       "Cast all columns to int32:\n",
       "\n",
       ">>> df.astype('int32').dtypes\n",
       "col1    int32\n",
       "col2    int32\n",
       "dtype: object\n",
       "\n",
       "Cast col1 to int32 using a dictionary:\n",
       "\n",
       ">>> df.astype({'col1': 'int32'}).dtypes\n",
       "col1    int32\n",
       "col2    int64\n",
       "dtype: object\n",
       "\n",
       "Create a series:\n",
       "\n",
       ">>> ser = pd.Series([1, 2], dtype='int32')\n",
       ">>> ser\n",
       "0    1\n",
       "1    2\n",
       "dtype: int32\n",
       ">>> ser.astype('int64')\n",
       "0    1\n",
       "1    2\n",
       "dtype: int64\n",
       "\n",
       "Convert to categorical type:\n",
       "\n",
       ">>> ser.astype('category')\n",
       "0    1\n",
       "1    2\n",
       "dtype: category\n",
       "Categories (2, int64): [1, 2]\n",
       "\n",
       "Convert to ordered categorical type with custom ordering:\n",
       "\n",
       ">>> from pandas.api.types import CategoricalDtype\n",
       ">>> cat_dtype = CategoricalDtype(\n",
       "...     categories=[2, 1], ordered=True)\n",
       ">>> ser.astype(cat_dtype)\n",
       "0    1\n",
       "1    2\n",
       "dtype: category\n",
       "Categories (2, int64): [2 < 1]\n",
       "\n",
       "Note that using ``copy=False`` and changing data on a new\n",
       "pandas object may propagate changes:\n",
       "\n",
       ">>> s1 = pd.Series([1, 2])\n",
       ">>> s2 = s1.astype('int64', copy=False)\n",
       ">>> s2[0] = 10\n",
       ">>> s1  # note that s1[0] has changed too\n",
       "0    10\n",
       "1     2\n",
       "dtype: int64\n",
       "\n",
       "Create a series of dates:\n",
       "\n",
       ">>> ser_date = pd.Series(pd.date_range('20200101', periods=3))\n",
       ">>> ser_date\n",
       "0   2020-01-01\n",
       "1   2020-01-02\n",
       "2   2020-01-03\n",
       "dtype: datetime64[ns]\n",
       "\u001b[1;31mFile:\u001b[0m      c:\\users\\philip\\mambaforge\\envs\\tensorflow\\lib\\site-packages\\pandas\\core\\generic.py\n",
       "\u001b[1;31mType:\u001b[0m      method"
      ]
     },
     "metadata": {},
     "output_type": "display_data"
    }
   ],
   "source": [
    "? df.astype"
   ]
  },
  {
   "cell_type": "code",
   "execution_count": 5,
   "id": "c127448d-f0c1-4f1c-b848-fcc3c0b60805",
   "metadata": {
    "tags": []
   },
   "outputs": [
    {
     "data": {
      "text/html": [
       "<div>\n",
       "<style scoped>\n",
       "    .dataframe tbody tr th:only-of-type {\n",
       "        vertical-align: middle;\n",
       "    }\n",
       "\n",
       "    .dataframe tbody tr th {\n",
       "        vertical-align: top;\n",
       "    }\n",
       "\n",
       "    .dataframe thead th {\n",
       "        text-align: right;\n",
       "    }\n",
       "</style>\n",
       "<table border=\"1\" class=\"dataframe\">\n",
       "  <thead>\n",
       "    <tr style=\"text-align: right;\">\n",
       "      <th></th>\n",
       "      <th>x</th>\n",
       "      <th>y</th>\n",
       "    </tr>\n",
       "  </thead>\n",
       "  <tbody>\n",
       "    <tr>\n",
       "      <th>0</th>\n",
       "      <td>1</td>\n",
       "      <td>2.0</td>\n",
       "    </tr>\n",
       "    <tr>\n",
       "      <th>1</th>\n",
       "      <td>2</td>\n",
       "      <td>4.0</td>\n",
       "    </tr>\n",
       "    <tr>\n",
       "      <th>2</th>\n",
       "      <td>3</td>\n",
       "      <td>6.0</td>\n",
       "    </tr>\n",
       "    <tr>\n",
       "      <th>3</th>\n",
       "      <td>4</td>\n",
       "      <td>8.0</td>\n",
       "    </tr>\n",
       "    <tr>\n",
       "      <th>4</th>\n",
       "      <td>5</td>\n",
       "      <td>10.0</td>\n",
       "    </tr>\n",
       "  </tbody>\n",
       "</table>\n",
       "</div>"
      ],
      "text/plain": [
       "   x     y\n",
       "0  1   2.0\n",
       "1  2   4.0\n",
       "2  3   6.0\n",
       "3  4   8.0\n",
       "4  5  10.0"
      ]
     },
     "execution_count": 5,
     "metadata": {},
     "output_type": "execute_result"
    }
   ],
   "source": [
    "types = {'x': int,\n",
    "         'y': float}\n",
    "df.astype(types)"
   ]
  },
  {
   "cell_type": "code",
   "execution_count": null,
   "id": "0fa3a5b2-c6ff-4402-81c7-7c61d1900f7a",
   "metadata": {},
   "outputs": [],
   "source": []
  }
 ],
 "metadata": {
  "kernelspec": {
   "display_name": "Python 3 (ipykernel)",
   "language": "python",
   "name": "python3"
  },
  "language_info": {
   "codemirror_mode": {
    "name": "ipython",
    "version": 3
   },
   "file_extension": ".py",
   "mimetype": "text/x-python",
   "name": "python",
   "nbconvert_exporter": "python",
   "pygments_lexer": "ipython3",
   "version": "3.11.3"
  }
 },
 "nbformat": 4,
 "nbformat_minor": 5
}
