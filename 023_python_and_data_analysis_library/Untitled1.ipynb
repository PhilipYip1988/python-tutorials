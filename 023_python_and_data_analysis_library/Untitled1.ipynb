{
 "cells": [
  {
   "cell_type": "code",
   "execution_count": null,
   "id": "d1ff44a7-11d3-4116-ac93-21c0fb21c3d4",
   "metadata": {
    "tags": []
   },
   "outputs": [],
   "source": [
    "nums1 = (1, 2, 3, 4, 5)"
   ]
  },
  {
   "cell_type": "code",
   "execution_count": null,
   "id": "5600b278-49f7-4a66-a83b-075257d49494",
   "metadata": {
    "tags": []
   },
   "outputs": [],
   "source": [
    "nums2 = (2, 4, 6, 8, 10)"
   ]
  },
  {
   "cell_type": "code",
   "execution_count": null,
   "id": "9c3e2561-a363-4ca3-9f93-c89535bc338c",
   "metadata": {
    "tags": []
   },
   "outputs": [],
   "source": [
    "nums1 + nums2"
   ]
  },
  {
   "cell_type": "code",
   "execution_count": null,
   "id": "93d6f539-3900-4849-a6aa-826ad5ed122b",
   "metadata": {
    "tags": []
   },
   "outputs": [],
   "source": [
    "[num1 + num2 for num1, num2 in zip(nums1, nums2)]"
   ]
  },
  {
   "cell_type": "code",
   "execution_count": null,
   "id": "b50ad543-a958-4306-94bc-c22ed07a616f",
   "metadata": {
    "tags": []
   },
   "outputs": [],
   "source": [
    "nums1 = (1, 2, 3, 4, 5)"
   ]
  },
  {
   "cell_type": "code",
   "execution_count": null,
   "id": "850e5b48-d14a-4190-976b-2760ef0aabf5",
   "metadata": {
    "tags": []
   },
   "outputs": [],
   "source": [
    "nums2 = (2, 4, 6, '8', 10)"
   ]
  },
  {
   "cell_type": "code",
   "execution_count": null,
   "id": "2ea3284e-ea0b-406f-8cfc-e0f127dc14a0",
   "metadata": {
    "tags": []
   },
   "outputs": [],
   "source": [
    "#[num1 + num2 for num1, num2 in zip(nums1, nums2)]"
   ]
  },
  {
   "cell_type": "code",
   "execution_count": null,
   "id": "9a8eb1a3-ee7c-4686-8484-d459c6780e79",
   "metadata": {
    "tags": []
   },
   "outputs": [],
   "source": [
    "import array"
   ]
  },
  {
   "cell_type": "code",
   "execution_count": null,
   "id": "18e7a838-8ccc-4841-a4be-175836a33320",
   "metadata": {
    "tags": []
   },
   "outputs": [],
   "source": [
    "2 ** 8"
   ]
  },
  {
   "cell_type": "code",
   "execution_count": null,
   "id": "a2f5c688-1f11-4fc2-a039-46a5db1cf763",
   "metadata": {
    "tags": []
   },
   "outputs": [],
   "source": [
    "2 ** (2 * 8)"
   ]
  },
  {
   "cell_type": "code",
   "execution_count": null,
   "id": "ed92690d-ea5a-4654-8808-1ed8ef5079d7",
   "metadata": {
    "tags": []
   },
   "outputs": [],
   "source": [
    "2 ** (4 * 8)"
   ]
  },
  {
   "cell_type": "code",
   "execution_count": null,
   "id": "fb4f657c-5810-4b35-9e6d-7b69c978313b",
   "metadata": {
    "tags": []
   },
   "outputs": [],
   "source": [
    "256 // 2"
   ]
  },
  {
   "cell_type": "code",
   "execution_count": null,
   "id": "bb13201e-a92a-4646-bdc9-6010ec1a6b0a",
   "metadata": {
    "tags": []
   },
   "outputs": [],
   "source": [
    "65536 // 2"
   ]
  },
  {
   "cell_type": "code",
   "execution_count": null,
   "id": "1936961b-f9d1-4d2f-a082-0f3b7451fb44",
   "metadata": {
    "tags": []
   },
   "outputs": [],
   "source": [
    "4294967296 // 2"
   ]
  },
  {
   "cell_type": "code",
   "execution_count": null,
   "id": "c92198ac-5a1b-4e8c-a13e-3ba05fa03ecd",
   "metadata": {
    "tags": []
   },
   "outputs": [],
   "source": [
    "nums1 = array.array('l', [1, 2, 3, 4, 5])"
   ]
  },
  {
   "cell_type": "code",
   "execution_count": null,
   "id": "dad26163-e549-418f-9bca-762b523b12c6",
   "metadata": {
    "tags": []
   },
   "outputs": [],
   "source": [
    "nums2 = array.array('l', [2, 4, 6, 8, 10])"
   ]
  },
  {
   "cell_type": "code",
   "execution_count": null,
   "id": "54d364a5-c7f2-43e1-9e30-f2f4665217cd",
   "metadata": {
    "tags": []
   },
   "outputs": [],
   "source": [
    "nums1 + nums2"
   ]
  },
  {
   "cell_type": "code",
   "execution_count": null,
   "id": "77ebf911-0745-4edb-86cb-1c9237c636d0",
   "metadata": {
    "tags": []
   },
   "outputs": [],
   "source": [
    "[num1 + num2 for num1, num2 in zip(nums1, nums2)]"
   ]
  },
  {
   "cell_type": "code",
   "execution_count": null,
   "id": "7a15c56e-e640-4d4d-8ec1-c96bc6bb2675",
   "metadata": {
    "tags": []
   },
   "outputs": [],
   "source": [
    "array1d = [1, 2, 3, 4]\n",
    "row = [array1d]\n",
    "row"
   ]
  },
  {
   "cell_type": "code",
   "execution_count": null,
   "id": "7228f712-cda4-4105-a9de-691eb11ab380",
   "metadata": {
    "tags": []
   },
   "outputs": [],
   "source": [
    "import numpy as np"
   ]
  },
  {
   "cell_type": "code",
   "execution_count": null,
   "id": "fc5c610b-5cda-40f0-b10b-a62f07e5bdfb",
   "metadata": {
    "tags": []
   },
   "outputs": [],
   "source": [
    "arrayc = np.array([1, 2, 3, 4], ndmin=2).T\n",
    "arrayc"
   ]
  },
  {
   "cell_type": "code",
   "execution_count": null,
   "id": "b5f5651f-e1c2-414d-a87f-efffa446598a",
   "metadata": {
    "tags": []
   },
   "outputs": [],
   "source": [
    "arrayc.size"
   ]
  },
  {
   "cell_type": "code",
   "execution_count": null,
   "id": "c37b2593-a9a7-4972-94f0-ecad18ab4fd7",
   "metadata": {
    "tags": []
   },
   "outputs": [],
   "source": [
    "arrayc.ndim"
   ]
  },
  {
   "cell_type": "code",
   "execution_count": null,
   "id": "a1fd4111-462c-468d-975c-6ee6de4728f3",
   "metadata": {
    "tags": []
   },
   "outputs": [],
   "source": [
    "arrayc.shape"
   ]
  },
  {
   "cell_type": "code",
   "execution_count": null,
   "id": "395a092f-67a4-45bb-be7b-228dc995665d",
   "metadata": {
    "tags": []
   },
   "outputs": [],
   "source": [
    "matrix1 = np.arange(start=1, stop=17, step=1).reshape((4, 4))\n",
    "matrix1"
   ]
  },
  {
   "cell_type": "code",
   "execution_count": null,
   "id": "f4e32a47-c502-4ff4-9531-16d1cf625d29",
   "metadata": {
    "tags": []
   },
   "outputs": [],
   "source": [
    "today = np.datetime64('2023-04-17T12:00:00.000000001')\n",
    "today"
   ]
  },
  {
   "cell_type": "code",
   "execution_count": null,
   "id": "f63127d6-0fb7-4ce2-82f3-8e29d9ba2d55",
   "metadata": {
    "tags": []
   },
   "outputs": [],
   "source": [
    "np.datetime64('2023-04-17T12:00:00.000000002') - np.datetime64('2023-04-17T12:00:00.000000001')"
   ]
  },
  {
   "cell_type": "code",
   "execution_count": null,
   "id": "ae4a914d-7b59-4997-b084-5168e3e59358",
   "metadata": {},
   "outputs": [],
   "source": [
    "np.datetime64()"
   ]
  },
  {
   "cell_type": "code",
   "execution_count": null,
   "id": "b0f12aae-ac23-4c3a-9402-1fb12f0f1139",
   "metadata": {
    "tags": []
   },
   "outputs": [],
   "source": [
    "today = np.datetime64('2023-04-17T12:00:00.000000001')\n",
    "today"
   ]
  },
  {
   "cell_type": "code",
   "execution_count": null,
   "id": "ef88960b-49fb-4e90-9d69-ece474407fb1",
   "metadata": {
    "tags": []
   },
   "outputs": [],
   "source": [
    "yesterday = np.datetime64('2023-04-16T12:00:00.000000002')\n",
    "yesterday"
   ]
  },
  {
   "cell_type": "code",
   "execution_count": null,
   "id": "c8a90a84-827b-4289-a3b3-ec92d8176673",
   "metadata": {
    "tags": []
   },
   "outputs": [],
   "source": [
    "difference = yesterday - today\n",
    "difference"
   ]
  },
  {
   "cell_type": "code",
   "execution_count": null,
   "id": "028e8f49-42d7-401e-981e-c78cdd3ddd31",
   "metadata": {
    "tags": []
   },
   "outputs": [],
   "source": [
    "years = np.timedelta64(1, 'Y')\n",
    "years"
   ]
  },
  {
   "cell_type": "code",
   "execution_count": null,
   "id": "a18a378a-a5c3-4bad-aa9b-3233f10f17a1",
   "metadata": {
    "tags": []
   },
   "outputs": [],
   "source": [
    "days = np.timedelta64(1, 'D')\n",
    "days"
   ]
  },
  {
   "cell_type": "code",
   "execution_count": null,
   "id": "d0899ecd-5655-4302-870f-1522c1de5318",
   "metadata": {
    "tags": []
   },
   "outputs": [],
   "source": [
    "hours = np.timedelta64(1, 'h')\n",
    "hours"
   ]
  },
  {
   "cell_type": "code",
   "execution_count": null,
   "id": "6bdf9a94-0d24-4f1f-90d3-67d80d0c329f",
   "metadata": {
    "tags": []
   },
   "outputs": [],
   "source": [
    "minutes = np.timedelta64(1, 'm')\n",
    "minutes"
   ]
  },
  {
   "cell_type": "code",
   "execution_count": null,
   "id": "5379f826-0908-4c9f-b45d-97fa86bfd65b",
   "metadata": {
    "tags": []
   },
   "outputs": [],
   "source": [
    "seconds = np.timedelta64(1, 's')\n",
    "seconds"
   ]
  },
  {
   "cell_type": "code",
   "execution_count": null,
   "id": "17a8c63d-ec64-493c-a655-8437320ee6f9",
   "metadata": {
    "tags": []
   },
   "outputs": [],
   "source": [
    "milliseconds = np.timedelta64(1, 'ms')\n",
    "milliseconds"
   ]
  },
  {
   "cell_type": "code",
   "execution_count": null,
   "id": "0c62bdbd-9409-41fd-bbd9-6d1502be7e8e",
   "metadata": {
    "tags": []
   },
   "outputs": [],
   "source": [
    "microseconds = np.timedelta64(1, 'us')\n",
    "microseconds"
   ]
  },
  {
   "cell_type": "code",
   "execution_count": null,
   "id": "08728053-b807-4809-ad0c-c0dda6d3e9d2",
   "metadata": {
    "tags": []
   },
   "outputs": [],
   "source": [
    "nanoseconds = np.timedelta64(1, 'ns')\n",
    "nanoseconds"
   ]
  },
  {
   "cell_type": "code",
   "execution_count": null,
   "id": "69e4a5f0-2bca-4d8f-9c5f-7fc13d7c8c56",
   "metadata": {
    "tags": []
   },
   "outputs": [],
   "source": [
    "days = np.timedelta64(1, 'D')\n",
    "hours = np.timedelta64(1, 'h')\n",
    "minutes = np.timedelta64(1, 'm')\n",
    "seconds = np.timedelta64(1, 's')\n",
    "microseconds = np.timedelta64(1, 'us')\n",
    "nanoseconds = np.timedelta64(1, 'ns')"
   ]
  },
  {
   "cell_type": "code",
   "execution_count": null,
   "id": "313b2f81-8a19-48f2-a930-dc876befe250",
   "metadata": {
    "tags": []
   },
   "outputs": [],
   "source": [
    "days + hours + minutes + seconds + microseconds + nanoseconds"
   ]
  },
  {
   "cell_type": "code",
   "execution_count": null,
   "id": "f9851dfb-f1a4-4964-b8e2-c2719c26726f",
   "metadata": {
    "tags": []
   },
   "outputs": [],
   "source": [
    "years = np.timedelta64(1, 'Y')\n",
    "months = np.timedelta64(1, 'M')"
   ]
  },
  {
   "cell_type": "code",
   "execution_count": null,
   "id": "fe5b675a-6c40-4190-9023-a65931eb5c63",
   "metadata": {
    "tags": []
   },
   "outputs": [],
   "source": [
    "months + days"
   ]
  },
  {
   "cell_type": "code",
   "execution_count": null,
   "id": "048190ea-011b-4f4c-920a-2e112579938d",
   "metadata": {
    "tags": []
   },
   "outputs": [],
   "source": [
    "startdate = np.datetime64('2023-01')"
   ]
  },
  {
   "cell_type": "code",
   "execution_count": null,
   "id": "8165f570-52d8-4799-96cd-f4a143caffe3",
   "metadata": {
    "tags": []
   },
   "outputs": [],
   "source": [
    "stopdate = np.datetime64('2024-01')"
   ]
  },
  {
   "cell_type": "code",
   "execution_count": null,
   "id": "d3e20ccd-c69b-4532-8a51-d16031dcb3be",
   "metadata": {
    "tags": []
   },
   "outputs": [],
   "source": [
    "month = np.timedelta64(1, 'M')"
   ]
  },
  {
   "cell_type": "code",
   "execution_count": null,
   "id": "bbbc9074-0c67-4b77-9b75-c47219b38c2e",
   "metadata": {
    "tags": []
   },
   "outputs": [],
   "source": [
    "dates = np.arange(start=startdate,\n",
    "                  stop=stopdate,\n",
    "                  step=month)"
   ]
  },
  {
   "cell_type": "code",
   "execution_count": null,
   "id": "a8a71740-47c5-4e2c-a3e7-f8ae239607e1",
   "metadata": {
    "tags": []
   },
   "outputs": [],
   "source": [
    "dates"
   ]
  },
  {
   "cell_type": "code",
   "execution_count": null,
   "id": "0ca222f5-f5c1-494c-a893-99ca94653386",
   "metadata": {
    "tags": []
   },
   "outputs": [],
   "source": [
    "import pandas as pd"
   ]
  },
  {
   "cell_type": "code",
   "execution_count": null,
   "id": "2571f092-dca0-45ca-8b69-0624cb3a5775",
   "metadata": {
    "tags": []
   },
   "outputs": [],
   "source": [
    "dates = pd.Series(data=dates, name='dates')"
   ]
  },
  {
   "cell_type": "code",
   "execution_count": null,
   "id": "0c587804-5e6b-4610-abdd-612043a7932b",
   "metadata": {
    "tags": []
   },
   "outputs": [],
   "source": [
    "dates"
   ]
  },
  {
   "cell_type": "code",
   "execution_count": null,
   "id": "dff20910-fab4-4c81-a6cd-c9d899441979",
   "metadata": {
    "tags": []
   },
   "outputs": [],
   "source": [
    "xrow = np.array([5, 6, 7, 8, 9])[np.newaxis, :]"
   ]
  },
  {
   "cell_type": "code",
   "execution_count": null,
   "id": "c0226a88-7f46-4e4c-8dbd-bcae366c9e49",
   "metadata": {
    "tags": []
   },
   "outputs": [],
   "source": [
    "ycol = np.array([1, 2, 3, 4])[:, np.newaxis]"
   ]
  },
  {
   "cell_type": "code",
   "execution_count": null,
   "id": "bfa22f0c-4553-4138-953f-bf4c077637ea",
   "metadata": {
    "tags": []
   },
   "outputs": [],
   "source": [
    "xmat, ymat = np.meshgrid(xrow, ycol)"
   ]
  },
  {
   "cell_type": "code",
   "execution_count": 1,
   "id": "e472aba5-4dea-4082-894c-6debc8cc0fbd",
   "metadata": {
    "tags": []
   },
   "outputs": [],
   "source": [
    "import matplotlib.pyplot as plt"
   ]
  },
  {
   "cell_type": "code",
   "execution_count": 2,
   "id": "499d6d81-f7c6-4fc2-b580-1650c5b7a620",
   "metadata": {
    "tags": []
   },
   "outputs": [
    {
     "data": {
      "text/plain": [
       "'3.7.1'"
      ]
     },
     "execution_count": 2,
     "metadata": {},
     "output_type": "execute_result"
    }
   ],
   "source": [
    "import matplotlib\n",
    "matplotlib.__version__"
   ]
  },
  {
   "cell_type": "code",
   "execution_count": null,
   "id": "d8ee4917-d399-4e13-8916-32205af8fdd5",
   "metadata": {},
   "outputs": [],
   "source": []
  }
 ],
 "metadata": {
  "kernelspec": {
   "display_name": "Python 3 (ipykernel)",
   "language": "python",
   "name": "python3"
  },
  "language_info": {
   "codemirror_mode": {
    "name": "ipython",
    "version": 3
   },
   "file_extension": ".py",
   "mimetype": "text/x-python",
   "name": "python",
   "nbconvert_exporter": "python",
   "pygments_lexer": "ipython3",
   "version": "3.11.3"
  }
 },
 "nbformat": 4,
 "nbformat_minor": 5
}
