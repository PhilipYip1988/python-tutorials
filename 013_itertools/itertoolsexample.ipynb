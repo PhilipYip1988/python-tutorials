{
 "cells": [
  {
   "cell_type": "code",
   "execution_count": null,
   "id": "e5be2208-d2d5-466a-9f7f-630408e7e5b2",
   "metadata": {
    "tags": []
   },
   "outputs": [],
   "source": [
    "num = range(10)\n",
    "num"
   ]
  },
  {
   "cell_type": "code",
   "execution_count": null,
   "id": "eee82d2d-5e2f-413d-b05d-884956832f09",
   "metadata": {},
   "outputs": [],
   "source": [
    "list(num)"
   ]
  },
  {
   "cell_type": "code",
   "execution_count": null,
   "id": "ac2ea636-825a-406e-93f4-b2e476c473a9",
   "metadata": {},
   "outputs": [],
   "source": [
    "num = iter(range(10))"
   ]
  },
  {
   "cell_type": "code",
   "execution_count": null,
   "id": "57469712-a83d-4c85-ae8f-a9efe11b054e",
   "metadata": {},
   "outputs": [],
   "source": [
    "next(num)"
   ]
  },
  {
   "cell_type": "code",
   "execution_count": null,
   "id": "7b7d7ead-85a6-4e84-b587-9b85df4622dc",
   "metadata": {},
   "outputs": [],
   "source": [
    "next(num)"
   ]
  },
  {
   "cell_type": "code",
   "execution_count": null,
   "id": "2bb8e218-8925-4bef-9b7b-6484886bc88c",
   "metadata": {},
   "outputs": [],
   "source": [
    "next(num)"
   ]
  },
  {
   "cell_type": "code",
   "execution_count": null,
   "id": "66ea25f9-8421-43de-9bca-6e2381cc743f",
   "metadata": {},
   "outputs": [],
   "source": [
    "list(num)"
   ]
  },
  {
   "cell_type": "code",
   "execution_count": null,
   "id": "33f4e11f-6c3a-410b-be17-35ea87dfd7d3",
   "metadata": {},
   "outputs": [],
   "source": [
    "zip(range(10), [\"a\", \"b\", \"c\", \"d\"])"
   ]
  },
  {
   "cell_type": "code",
   "execution_count": null,
   "id": "9fae4aba-db87-46bd-88dc-f0983816013e",
   "metadata": {},
   "outputs": [],
   "source": [
    "list(zip(range(10), [\"a\", \"b\", \"c\", \"d\"]))"
   ]
  },
  {
   "cell_type": "code",
   "execution_count": 1,
   "id": "4d5936d8-15a0-4a48-bb3e-39b03b361774",
   "metadata": {},
   "outputs": [],
   "source": [
    "import itertools"
   ]
  },
  {
   "cell_type": "code",
   "execution_count": null,
   "id": "455cb629-bc06-42ae-be04-b2f697596c9f",
   "metadata": {},
   "outputs": [],
   "source": [
    "? itertools"
   ]
  },
  {
   "cell_type": "code",
   "execution_count": null,
   "id": "d3fb47f9-9d98-4aff-a851-b269e703f882",
   "metadata": {},
   "outputs": [],
   "source": [
    "? zip"
   ]
  },
  {
   "cell_type": "code",
   "execution_count": null,
   "id": "c3b25a59-8388-4ce8-9c08-aaadb2e9ab54",
   "metadata": {},
   "outputs": [],
   "source": [
    "? itertools.zip_longest"
   ]
  },
  {
   "cell_type": "code",
   "execution_count": null,
   "id": "db01f311-704a-4f4a-9387-393c343f26ab",
   "metadata": {},
   "outputs": [],
   "source": [
    "list(zip(range(10), [\"a\", \"b\", \"c\", \"d\"]))"
   ]
  },
  {
   "cell_type": "code",
   "execution_count": null,
   "id": "497c50d5-17bc-4270-8b4f-2e912e88e56f",
   "metadata": {},
   "outputs": [],
   "source": [
    "list(itertools.zip_longest(range(10), [\"a\", \"b\", \"c\", \"d\"]))"
   ]
  },
  {
   "cell_type": "markdown",
   "id": "1e2028ee-fa8f-49fe-97f0-c608caee8c8e",
   "metadata": {},
   "source": [
    "An infintie iterator that counts"
   ]
  },
  {
   "cell_type": "code",
   "execution_count": null,
   "id": "45b8444e-4183-4844-82a8-8644dac1267b",
   "metadata": {},
   "outputs": [],
   "source": [
    "? itertools.count"
   ]
  },
  {
   "cell_type": "code",
   "execution_count": null,
   "id": "0848dfda-69cd-457e-b3d3-04e33860fff8",
   "metadata": {},
   "outputs": [],
   "source": [
    "counter = itertools.count()"
   ]
  },
  {
   "cell_type": "code",
   "execution_count": null,
   "id": "85caf616-a730-4907-9c7f-1d488c05f805",
   "metadata": {
    "scrolled": true,
    "tags": []
   },
   "outputs": [],
   "source": [
    "for num in counter:\n",
    "    print(f\"{num}\")"
   ]
  },
  {
   "cell_type": "code",
   "execution_count": null,
   "id": "ded3436b-da83-4ec3-ad1d-f302135cd49d",
   "metadata": {},
   "outputs": [],
   "source": [
    "counter = itertools.count()"
   ]
  },
  {
   "cell_type": "code",
   "execution_count": null,
   "id": "b02af8a7-7176-43aa-99bd-33ca2a677ee6",
   "metadata": {},
   "outputs": [],
   "source": [
    "next(counter)"
   ]
  },
  {
   "cell_type": "code",
   "execution_count": null,
   "id": "2f64a0d9-ad42-4ee1-bac4-c5560be3015d",
   "metadata": {},
   "outputs": [],
   "source": [
    "next(counter)"
   ]
  },
  {
   "cell_type": "code",
   "execution_count": null,
   "id": "097fc636-e5c3-4586-b245-e8953bb38b5f",
   "metadata": {},
   "outputs": [],
   "source": [
    "next(counter)"
   ]
  },
  {
   "cell_type": "code",
   "execution_count": null,
   "id": "fdaa7ff6-2626-4037-8836-6fea5f465f7a",
   "metadata": {},
   "outputs": [],
   "source": [
    "time = itertools.count()"
   ]
  },
  {
   "cell_type": "code",
   "execution_count": null,
   "id": "d3d25d4d-1360-4534-b3f1-14be2e76e0da",
   "metadata": {},
   "outputs": [],
   "source": [
    "import random\n",
    "import itertools"
   ]
  },
  {
   "cell_type": "code",
   "execution_count": null,
   "id": "116b680a-28fe-4f13-8371-1d6258cd225e",
   "metadata": {},
   "outputs": [],
   "source": [
    "random.random()"
   ]
  },
  {
   "cell_type": "code",
   "execution_count": null,
   "id": "2cffa702-e692-4f43-94b2-4c7d3e4c59aa",
   "metadata": {},
   "outputs": [],
   "source": [
    "random_values = [random.random() for value in range(10)]"
   ]
  },
  {
   "cell_type": "code",
   "execution_count": null,
   "id": "00b85a31-1ad5-4f53-8487-5c84f699e45a",
   "metadata": {},
   "outputs": [],
   "source": [
    "range(0, 10, 1)"
   ]
  },
  {
   "cell_type": "code",
   "execution_count": null,
   "id": "ca61761d-4d34-4743-8d0f-b5eb24b594c7",
   "metadata": {},
   "outputs": [],
   "source": [
    "iter(range(0, 10, 1))"
   ]
  },
  {
   "cell_type": "code",
   "execution_count": null,
   "id": "52855623-e4fc-4f2d-a34b-8b1fc31e7d1a",
   "metadata": {},
   "outputs": [],
   "source": []
  },
  {
   "cell_type": "code",
   "execution_count": null,
   "id": "d28f518e-1294-462c-be57-6c09409ac79b",
   "metadata": {},
   "outputs": [],
   "source": [
    "time_minutes = itertools.count(start=0, step=60)"
   ]
  },
  {
   "cell_type": "code",
   "execution_count": null,
   "id": "8631023a-7d30-4bc6-8aec-2ae28e6bcb7e",
   "metadata": {},
   "outputs": [],
   "source": [
    "zip(time_minutes, random_values)"
   ]
  },
  {
   "cell_type": "code",
   "execution_count": null,
   "id": "da3be089-9d9a-4b44-a3ca-348847341b11",
   "metadata": {},
   "outputs": [],
   "source": [
    "list(zip(time_minutes, random_values))"
   ]
  },
  {
   "cell_type": "code",
   "execution_count": null,
   "id": "65c30f6b-e6c2-4e42-8852-8b3f80949a60",
   "metadata": {},
   "outputs": [],
   "source": []
  },
  {
   "cell_type": "markdown",
   "id": "df63c2bf-d7d5-4740-a1d4-79b8df8487d6",
   "metadata": {},
   "source": [
    "built in zip function ends on the shortest iterable.`m"
   ]
  },
  {
   "cell_type": "code",
   "execution_count": null,
   "id": "4607246b-7652-4e47-8bce-86e69b2fd3a2",
   "metadata": {},
   "outputs": [],
   "source": []
  },
  {
   "cell_type": "code",
   "execution_count": null,
   "id": "cea32678-9835-480a-986e-fe29ab272fca",
   "metadata": {},
   "outputs": [],
   "source": [
    "fruits = [\"apple\", \"banana\", \"grapes\"]"
   ]
  },
  {
   "cell_type": "code",
   "execution_count": null,
   "id": "49bf051c-0f86-4356-88df-5bb163c24d1d",
   "metadata": {},
   "outputs": [],
   "source": [
    "fruit = itertools.cycle(fruits)"
   ]
  },
  {
   "cell_type": "code",
   "execution_count": null,
   "id": "bee842dd-7fac-44f6-b6fd-5a7f741033a2",
   "metadata": {},
   "outputs": [],
   "source": [
    "next(fruit)"
   ]
  },
  {
   "cell_type": "code",
   "execution_count": null,
   "id": "1167bc4a-aac7-4d6e-ac69-3bd2e4b85266",
   "metadata": {},
   "outputs": [],
   "source": [
    "next(fruit)"
   ]
  },
  {
   "cell_type": "code",
   "execution_count": null,
   "id": "f9a684f0-8fbf-4a64-8aad-e6db87b75374",
   "metadata": {},
   "outputs": [],
   "source": [
    "next(fruit)"
   ]
  },
  {
   "cell_type": "code",
   "execution_count": null,
   "id": "3f847a3b-88a9-44d0-836e-d103d52ada47",
   "metadata": {},
   "outputs": [],
   "source": [
    "next(fruit)"
   ]
  },
  {
   "cell_type": "code",
   "execution_count": null,
   "id": "195607e7-c2aa-41a9-9ef4-c88e59106954",
   "metadata": {},
   "outputs": [],
   "source": []
  },
  {
   "cell_type": "code",
   "execution_count": null,
   "id": "42e7ae4d-260c-4674-8f25-f3e5b7c4bb34",
   "metadata": {},
   "outputs": [],
   "source": [
    "colors = {\"r\": \"red\", \"g\": \"green\", \"b\": \"blue\"}"
   ]
  },
  {
   "cell_type": "code",
   "execution_count": null,
   "id": "18c18eb3-5e47-4608-ae17-94896c3215a6",
   "metadata": {},
   "outputs": [],
   "source": [
    "? itertools.cycle"
   ]
  },
  {
   "cell_type": "code",
   "execution_count": null,
   "id": "3cfd1a1c-31be-411f-af19-5898e4a5eaaa",
   "metadata": {},
   "outputs": [],
   "source": [
    "color = itertools.cycle(colors)"
   ]
  },
  {
   "cell_type": "code",
   "execution_count": null,
   "id": "ce8fe1eb-89c0-44e5-98b7-d215b04c2d1b",
   "metadata": {},
   "outputs": [],
   "source": [
    "colors[next(color)]"
   ]
  },
  {
   "cell_type": "code",
   "execution_count": null,
   "id": "d9dcb769-1b6d-411a-887a-31c8da010fc7",
   "metadata": {},
   "outputs": [],
   "source": [
    "colors[next(color)]"
   ]
  },
  {
   "cell_type": "code",
   "execution_count": null,
   "id": "1c0715d9-0eac-46cd-981a-1fa0f42b4adf",
   "metadata": {},
   "outputs": [],
   "source": [
    "colors[next(color)]"
   ]
  },
  {
   "cell_type": "code",
   "execution_count": null,
   "id": "b72ff436-62fb-41da-88ab-5676f1e78e38",
   "metadata": {},
   "outputs": [],
   "source": [
    "colors[next(color)]"
   ]
  },
  {
   "cell_type": "code",
   "execution_count": null,
   "id": "1086410c-61eb-4983-8c72-e3b995cd7616",
   "metadata": {},
   "outputs": [],
   "source": [
    "colors[next(color)]"
   ]
  },
  {
   "cell_type": "code",
   "execution_count": null,
   "id": "a06184f5-41e1-403d-bc0b-7e2e213b1e7b",
   "metadata": {},
   "outputs": [],
   "source": [
    "colors[next(color)]"
   ]
  },
  {
   "cell_type": "code",
   "execution_count": null,
   "id": "9cf88a83-8b45-45ac-b1de-d03b662726cb",
   "metadata": {},
   "outputs": [],
   "source": [
    "itertools.repeat(\"3.11\")"
   ]
  },
  {
   "cell_type": "code",
   "execution_count": null,
   "id": "286ff542-731d-46ca-a99b-28785e42cb07",
   "metadata": {},
   "outputs": [],
   "source": [
    "dir(itertools)"
   ]
  },
  {
   "cell_type": "code",
   "execution_count": null,
   "id": "6221341a-510f-482d-9634-b528da3ecd97",
   "metadata": {},
   "outputs": [],
   "source": [
    "pow(3, 2)"
   ]
  },
  {
   "cell_type": "code",
   "execution_count": null,
   "id": "2d1b6265-1a48-429a-90d4-7b857b948e61",
   "metadata": {},
   "outputs": [],
   "source": [
    "list(zip(dir(itertools), itertools.repeat(\"version 3.11\")))"
   ]
  },
  {
   "cell_type": "code",
   "execution_count": null,
   "id": "56cd4a2f-3781-42c3-9db0-96e558169483",
   "metadata": {},
   "outputs": [],
   "source": [
    "pow(3, 2)"
   ]
  },
  {
   "cell_type": "code",
   "execution_count": null,
   "id": "204e5938-0178-4e5b-a287-ccf0dfcdcf3d",
   "metadata": {},
   "outputs": [],
   "source": [
    "[pow(num, 2) for num in range(10)]"
   ]
  },
  {
   "cell_type": "code",
   "execution_count": null,
   "id": "e1d381df-7805-4c18-8add-8646e29cdd04",
   "metadata": {},
   "outputs": [],
   "source": [
    "map(pow, range(10), itertools.repeat(2))"
   ]
  },
  {
   "cell_type": "code",
   "execution_count": null,
   "id": "2d68b7bb-2a78-4e86-9334-87a2d2a4fe81",
   "metadata": {},
   "outputs": [],
   "source": [
    "list(map(pow, range(10), itertools.repeat(2)))"
   ]
  },
  {
   "cell_type": "code",
   "execution_count": null,
   "id": "eda14bbe-e0c4-4e2e-ae3c-7bc602acb2fe",
   "metadata": {},
   "outputs": [],
   "source": [
    "? itertools.starmap"
   ]
  },
  {
   "cell_type": "code",
   "execution_count": null,
   "id": "a3d61e48-afc1-422a-a15b-2b1939c321f4",
   "metadata": {},
   "outputs": [],
   "source": [
    "nums = list(range(10))"
   ]
  },
  {
   "cell_type": "code",
   "execution_count": null,
   "id": "ac8f5c82-ad9e-480f-9fa9-7468ac86a343",
   "metadata": {},
   "outputs": [],
   "source": [
    "zip(nums, itertools.repeat(2))"
   ]
  },
  {
   "cell_type": "code",
   "execution_count": null,
   "id": "3b0c0ec9-70f5-494a-89e8-42cd8a81e7ae",
   "metadata": {},
   "outputs": [],
   "source": [
    "mapped_args = list(zip(nums, itertools.repeat(2)))\n",
    "mapped_args"
   ]
  },
  {
   "cell_type": "code",
   "execution_count": null,
   "id": "7be0bafd-12bf-48ce-a511-989a5738e50a",
   "metadata": {},
   "outputs": [],
   "source": [
    "itertools.starmap(pow, mapped_args)"
   ]
  },
  {
   "cell_type": "code",
   "execution_count": null,
   "id": "59ad6537-a2b9-4743-b6b0-31d0bc40eccc",
   "metadata": {},
   "outputs": [],
   "source": [
    "list(itertools.starmap(pow, mapped_args))"
   ]
  },
  {
   "cell_type": "markdown",
   "id": "e8af3ef1-bb09-4e4d-841d-9f643c3e6be4",
   "metadata": {},
   "source": [
    "# combinations and permutations"
   ]
  },
  {
   "cell_type": "code",
   "execution_count": 2,
   "id": "5a690c24-fc18-4a1b-878d-e29dc8da7e03",
   "metadata": {},
   "outputs": [],
   "source": [
    "letters = [\"a\", \"b\", \"c\", \"d\"]\n",
    "numbers = [0, 1, 2, 3]"
   ]
  },
  {
   "cell_type": "code",
   "execution_count": null,
   "id": "1acc3a07-3697-414e-8361-70f039459432",
   "metadata": {},
   "outputs": [],
   "source": [
    "? itertools.combinations"
   ]
  },
  {
   "cell_type": "code",
   "execution_count": null,
   "id": "6f88cb06-1220-4451-b782-81dff0eeb192",
   "metadata": {},
   "outputs": [],
   "source": [
    "letter_combinations = itertools.combinations(letters, 3)\n",
    "\n",
    "for letter_combination in letter_combinations:\n",
    "    print(letter_combination)"
   ]
  },
  {
   "cell_type": "code",
   "execution_count": null,
   "id": "74a24332-cfc8-4884-814e-2c24ecdb1689",
   "metadata": {},
   "outputs": [],
   "source": [
    "number_combinations = itertools.combinations(numbers, 3)\n",
    "\n",
    "for number_combination in number_combinations:\n",
    "    print(number_combination)"
   ]
  },
  {
   "cell_type": "code",
   "execution_count": null,
   "id": "093fdfdd-b061-42ad-ab57-fca2c3fad225",
   "metadata": {},
   "outputs": [],
   "source": [
    "number_combinations = itertools.combinations(numbers, 3)\n",
    "\n",
    "for number_combination in number_combinations:\n",
    "    print(sum(number_combination))"
   ]
  },
  {
   "cell_type": "code",
   "execution_count": null,
   "id": "096ae168-a9a9-46ea-9ad6-adeab72a3266",
   "metadata": {},
   "outputs": [],
   "source": [
    "? itertools.permutations"
   ]
  },
  {
   "cell_type": "code",
   "execution_count": null,
   "id": "f87968d1-3827-443b-bf9f-6e9782733928",
   "metadata": {},
   "outputs": [],
   "source": [
    "letter_permutations = itertools.permutations(letters, 3)\n",
    "\n",
    "for letter_permutation in letter_permutations:\n",
    "    print(letter_permutation)"
   ]
  },
  {
   "cell_type": "code",
   "execution_count": null,
   "id": "c680102d-17a1-4411-9075-66f776ef0f58",
   "metadata": {},
   "outputs": [],
   "source": [
    "number_permutations = itertools.permutations(numbers, 3)\n",
    "\n",
    "for number_permutation in number_permutations:\n",
    "    print(number_permutation)"
   ]
  },
  {
   "cell_type": "code",
   "execution_count": null,
   "id": "deb280bd-9375-42aa-9063-13ee7f26da1d",
   "metadata": {},
   "outputs": [],
   "source": [
    "number_permutations = itertools.permutations(numbers, 3)\n",
    "\n",
    "for number_permutation in number_permutations:\n",
    "    print(sum(number_permutation))"
   ]
  },
  {
   "cell_type": "code",
   "execution_count": null,
   "id": "f92e4618-16e8-4e3e-9690-ad83feeadd5c",
   "metadata": {},
   "outputs": [],
   "source": [
    "letter_combinations = itertools.combinations_with_replacement(letters, 3)\n",
    "\n",
    "for letter_combination in letter_combinations:\n",
    "    print(letter_combination)"
   ]
  },
  {
   "cell_type": "code",
   "execution_count": null,
   "id": "426f977d-a02c-4114-ada4-05955d8345d9",
   "metadata": {},
   "outputs": [],
   "source": [
    "? itertools.product"
   ]
  },
  {
   "cell_type": "code",
   "execution_count": null,
   "id": "998a9212-d65c-480d-9804-ec7b588aa0ac",
   "metadata": {},
   "outputs": [],
   "source": [
    "letter_permutations = itertools.product(letters, repeat=3)\n",
    "\n",
    "for letter_permutation in letter_permutations:\n",
    "    print(letter_permutation)"
   ]
  },
  {
   "cell_type": "code",
   "execution_count": null,
   "id": "9b9d9208-0e2c-44c5-bb45-1c7aa1ebdc8f",
   "metadata": {},
   "outputs": [],
   "source": [
    "letternumbers = letters + numbers"
   ]
  },
  {
   "cell_type": "code",
   "execution_count": null,
   "id": "37398675-aa91-48c8-8827-f6fc7bac729c",
   "metadata": {},
   "outputs": [],
   "source": [
    "letternumbers"
   ]
  },
  {
   "cell_type": "code",
   "execution_count": null,
   "id": "bc0dbafe-baad-4599-b8b7-511e876654b4",
   "metadata": {},
   "outputs": [],
   "source": [
    "# becomes problematic for memory management for a very large iterator"
   ]
  },
  {
   "cell_type": "code",
   "execution_count": null,
   "id": "cea4954b-31bf-4e15-b2cd-4b59798a031d",
   "metadata": {},
   "outputs": [],
   "source": [
    "letternumbers = itertools.chain(letters, numbers)"
   ]
  },
  {
   "cell_type": "code",
   "execution_count": null,
   "id": "f4c22172-8aa1-41da-860f-d462fab04ccc",
   "metadata": {},
   "outputs": [],
   "source": [
    "for letternumber in letternumbers:\n",
    "    print(letternumber)"
   ]
  },
  {
   "cell_type": "code",
   "execution_count": null,
   "id": "c3d084e7-7362-4183-9270-6a362e48585c",
   "metadata": {},
   "outputs": [],
   "source": [
    "# range()"
   ]
  },
  {
   "cell_type": "code",
   "execution_count": null,
   "id": "f6cf8931-d5a7-4298-bc0b-21617f27f5a0",
   "metadata": {},
   "outputs": [],
   "source": [
    "? itertools.islice"
   ]
  },
  {
   "cell_type": "code",
   "execution_count": null,
   "id": "ed78ccd8-a891-4798-bed2-1b2ae3d8f52b",
   "metadata": {},
   "outputs": [],
   "source": [
    "minutes = itertools.count(start=0, step=15)"
   ]
  },
  {
   "cell_type": "code",
   "execution_count": null,
   "id": "12abbb02-0048-4e25-a067-d078fb305296",
   "metadata": {},
   "outputs": [],
   "source": []
  },
  {
   "cell_type": "code",
   "execution_count": null,
   "id": "21c4f06c-e221-4812-9b11-6010071c6357",
   "metadata": {},
   "outputs": [],
   "source": [
    "# isslice start, stop, step"
   ]
  },
  {
   "cell_type": "code",
   "execution_count": null,
   "id": "eead6804-5eb1-4ec2-9356-a17f6330dca9",
   "metadata": {},
   "outputs": [],
   "source": [
    "itertools.islice(minutes, 0, 4, 1)"
   ]
  },
  {
   "cell_type": "code",
   "execution_count": null,
   "id": "f530f083-54e8-44d9-9bd7-18a7adb62584",
   "metadata": {},
   "outputs": [],
   "source": [
    "list(itertools.islice(minutes, 0, 4, 1))"
   ]
  },
  {
   "cell_type": "code",
   "execution_count": 27,
   "id": "295dc824-4102-43ed-a29d-2fd0dcef0f88",
   "metadata": {},
   "outputs": [],
   "source": [
    "numbers = [0, 1, 2, 3, 4, 5, 6, 7, 8, 9]"
   ]
  },
  {
   "cell_type": "code",
   "execution_count": 38,
   "id": "062c51f5-49ad-499e-901a-c551d703bad5",
   "metadata": {},
   "outputs": [],
   "source": [
    "def not_four(number):\n",
    "    if number == 4:\n",
    "        return False\n",
    "    else:\n",
    "        return True"
   ]
  },
  {
   "cell_type": "code",
   "execution_count": 39,
   "id": "dfa71913-44e5-4f1d-9690-2bfb9aa7333c",
   "metadata": {},
   "outputs": [
    {
     "name": "stdout",
     "output_type": "stream",
     "text": [
      "True\n",
      "True\n",
      "True\n",
      "True\n",
      "False\n",
      "True\n",
      "True\n",
      "True\n",
      "True\n",
      "True\n"
     ]
    }
   ],
   "source": [
    "for number in numbers:\n",
    "    print(not_four(number))"
   ]
  },
  {
   "cell_type": "code",
   "execution_count": 40,
   "id": "0e2586da-df32-4e9d-9b11-cd62b2637a59",
   "metadata": {},
   "outputs": [
    {
     "data": {
      "text/plain": [
       "<filter at 0x1c50bd4a980>"
      ]
     },
     "execution_count": 40,
     "metadata": {},
     "output_type": "execute_result"
    }
   ],
   "source": [
    "filter(not_four, numbers)"
   ]
  },
  {
   "cell_type": "code",
   "execution_count": 41,
   "id": "ed4cae46-6ed6-4c6d-8885-8e7633badc41",
   "metadata": {},
   "outputs": [
    {
     "data": {
      "text/plain": [
       "[0, 1, 2, 3, 5, 6, 7, 8, 9]"
      ]
     },
     "execution_count": 41,
     "metadata": {},
     "output_type": "execute_result"
    }
   ],
   "source": [
    "list(filter(not_four, numbers))"
   ]
  },
  {
   "cell_type": "code",
   "execution_count": 42,
   "id": "656ad6e7-f54d-4856-9448-dfaffdcc41fa",
   "metadata": {},
   "outputs": [
    {
     "data": {
      "text/plain": [
       "<itertools.filterfalse at 0x1c50bd4bfd0>"
      ]
     },
     "execution_count": 42,
     "metadata": {},
     "output_type": "execute_result"
    }
   ],
   "source": [
    "itertools.filterfalse(not_four, numbers)"
   ]
  },
  {
   "cell_type": "code",
   "execution_count": 43,
   "id": "a004ac9f-77d5-4474-8325-a8f3922d5385",
   "metadata": {},
   "outputs": [
    {
     "data": {
      "text/plain": [
       "[4]"
      ]
     },
     "execution_count": 43,
     "metadata": {},
     "output_type": "execute_result"
    }
   ],
   "source": [
    "list(itertools.filterfalse(not_four, numbers))"
   ]
  },
  {
   "cell_type": "code",
   "execution_count": 44,
   "id": "cf7fd053-6247-408c-8dbb-3ed24370e01e",
   "metadata": {},
   "outputs": [
    {
     "data": {
      "text/plain": [
       "<itertools.dropwhile at 0x1c50be1eac0>"
      ]
     },
     "execution_count": 44,
     "metadata": {},
     "output_type": "execute_result"
    }
   ],
   "source": [
    "itertools.dropwhile(not_four, numbers)"
   ]
  },
  {
   "cell_type": "code",
   "execution_count": 45,
   "id": "49f1473a-01d9-4af9-aedd-9990ce953138",
   "metadata": {},
   "outputs": [
    {
     "data": {
      "text/plain": [
       "[4, 5, 6, 7, 8, 9]"
      ]
     },
     "execution_count": 45,
     "metadata": {},
     "output_type": "execute_result"
    }
   ],
   "source": [
    "list(itertools.dropwhile(not_four, numbers))"
   ]
  },
  {
   "cell_type": "code",
   "execution_count": 46,
   "id": "bf800cc7-e5fe-4e94-92f8-e187d64deb4c",
   "metadata": {},
   "outputs": [
    {
     "data": {
      "text/plain": [
       "<itertools.takewhile at 0x1c50be1ef00>"
      ]
     },
     "execution_count": 46,
     "metadata": {},
     "output_type": "execute_result"
    }
   ],
   "source": [
    "itertools.takewhile(not_four, numbers)"
   ]
  },
  {
   "cell_type": "code",
   "execution_count": 47,
   "id": "f96d4b3f-fe44-4c76-adc1-fe31b2c910e2",
   "metadata": {},
   "outputs": [
    {
     "data": {
      "text/plain": [
       "[0, 1, 2, 3]"
      ]
     },
     "execution_count": 47,
     "metadata": {},
     "output_type": "execute_result"
    }
   ],
   "source": [
    "list(itertools.takewhile(not_four, numbers))"
   ]
  },
  {
   "cell_type": "code",
   "execution_count": null,
   "id": "31e0cdb7-203a-4a2c-9a25-0e1f5b707031",
   "metadata": {},
   "outputs": [],
   "source": []
  },
  {
   "cell_type": "code",
   "execution_count": null,
   "id": "6decdfc0-482c-4bf7-bd0f-4c26deefe62a",
   "metadata": {},
   "outputs": [],
   "source": [
    "? itertools.compress"
   ]
  },
  {
   "cell_type": "code",
   "execution_count": 48,
   "id": "79e20dc5-69fa-4cb2-bdc9-d18325ad2f7b",
   "metadata": {},
   "outputs": [],
   "source": [
    "minutes = itertools.count(step=60)"
   ]
  },
  {
   "cell_type": "code",
   "execution_count": 49,
   "id": "8cdefe2d-400e-4336-967d-18b58ab29b7a",
   "metadata": {},
   "outputs": [],
   "source": [
    "conditions = itertools.cycle([True, False])"
   ]
  },
  {
   "cell_type": "code",
   "execution_count": 50,
   "id": "cc69f5b4-cfec-42d3-841f-9c9222cd150a",
   "metadata": {},
   "outputs": [],
   "source": [
    "even_minutes = itertools.compress(minutes, conditions)"
   ]
  },
  {
   "cell_type": "code",
   "execution_count": 51,
   "id": "f70df10e-5d6c-4267-a53d-e2b775bb51f7",
   "metadata": {},
   "outputs": [
    {
     "data": {
      "text/plain": [
       "0"
      ]
     },
     "execution_count": 51,
     "metadata": {},
     "output_type": "execute_result"
    }
   ],
   "source": [
    "next(even_minutes)"
   ]
  },
  {
   "cell_type": "code",
   "execution_count": 52,
   "id": "22021673-03cd-43e5-939b-bbbafd5718d4",
   "metadata": {},
   "outputs": [
    {
     "data": {
      "text/plain": [
       "120"
      ]
     },
     "execution_count": 52,
     "metadata": {},
     "output_type": "execute_result"
    }
   ],
   "source": [
    "next(even_minutes)"
   ]
  },
  {
   "cell_type": "code",
   "execution_count": 53,
   "id": "be36f8d7-a957-484f-a83f-20cfe77b69ad",
   "metadata": {},
   "outputs": [
    {
     "data": {
      "text/plain": [
       "240"
      ]
     },
     "execution_count": 53,
     "metadata": {},
     "output_type": "execute_result"
    }
   ],
   "source": [
    "next(even_minutes)"
   ]
  },
  {
   "cell_type": "code",
   "execution_count": 10,
   "id": "8c3d1318-1aee-41f9-b442-6a31ef36e286",
   "metadata": {},
   "outputs": [
    {
     "data": {
      "text/plain": [
       "\u001b[1;31mInit signature:\u001b[0m  \u001b[0mitertools\u001b[0m\u001b[1;33m.\u001b[0m\u001b[0mdropwhile\u001b[0m\u001b[1;33m(\u001b[0m\u001b[0mpredicate\u001b[0m\u001b[1;33m,\u001b[0m \u001b[0miterable\u001b[0m\u001b[1;33m,\u001b[0m \u001b[1;33m/\u001b[0m\u001b[1;33m)\u001b[0m\u001b[1;33m\u001b[0m\u001b[1;33m\u001b[0m\u001b[0m\n",
       "\u001b[1;31mDocstring:\u001b[0m     \n",
       "Drop items from the iterable while predicate(item) is true.\n",
       "\n",
       "Afterwards, return every element until the iterable is exhausted.\n",
       "\u001b[1;31mType:\u001b[0m           type\n",
       "\u001b[1;31mSubclasses:\u001b[0m     \n"
      ]
     },
     "metadata": {},
     "output_type": "display_data"
    }
   ],
   "source": [
    "? itertools.dropwhile"
   ]
  },
  {
   "cell_type": "code",
   "execution_count": null,
   "id": "d13fb114-9ee4-4312-a04d-ffd328a8016a",
   "metadata": {},
   "outputs": [],
   "source": []
  },
  {
   "cell_type": "code",
   "execution_count": 55,
   "id": "47005516-649c-4a49-a070-e500ffc4a9de",
   "metadata": {},
   "outputs": [
    {
     "data": {
      "text/plain": [
       "\u001b[1;31mInit signature:\u001b[0m  \u001b[0mitertools\u001b[0m\u001b[1;33m.\u001b[0m\u001b[0maccumulate\u001b[0m\u001b[1;33m(\u001b[0m\u001b[0miterable\u001b[0m\u001b[1;33m,\u001b[0m \u001b[0mfunc\u001b[0m\u001b[1;33m=\u001b[0m\u001b[1;32mNone\u001b[0m\u001b[1;33m,\u001b[0m \u001b[1;33m*\u001b[0m\u001b[1;33m,\u001b[0m \u001b[0minitial\u001b[0m\u001b[1;33m=\u001b[0m\u001b[1;32mNone\u001b[0m\u001b[1;33m)\u001b[0m\u001b[1;33m\u001b[0m\u001b[1;33m\u001b[0m\u001b[0m\n",
       "\u001b[1;31mDocstring:\u001b[0m      Return series of accumulated sums (or other binary function results).\n",
       "\u001b[1;31mType:\u001b[0m           type\n",
       "\u001b[1;31mSubclasses:\u001b[0m     \n"
      ]
     },
     "metadata": {},
     "output_type": "display_data"
    }
   ],
   "source": [
    "? itertools.accumulate"
   ]
  },
  {
   "cell_type": "code",
   "execution_count": 59,
   "id": "3c1e8b95-3f29-462b-819a-10e229855481",
   "metadata": {},
   "outputs": [
    {
     "name": "stdout",
     "output_type": "stream",
     "text": [
      "0\n",
      "1\n",
      "3\n",
      "6\n",
      "10\n",
      "15\n",
      "21\n",
      "28\n",
      "36\n",
      "45\n"
     ]
    }
   ],
   "source": [
    "numbers = [0, 1, 2, 3, 4, 5, 6, 7, 8, 9]\n",
    "accumulated_numbers = itertools.accumulate(numbers)\n",
    "\n",
    "for accumulated_number in accumulated_numbers:\n",
    "    print(accumulated_number)"
   ]
  },
  {
   "cell_type": "code",
   "execution_count": 60,
   "id": "46d2983e-9316-4f33-b310-ba002226e0a7",
   "metadata": {},
   "outputs": [],
   "source": [
    "import operator"
   ]
  },
  {
   "cell_type": "code",
   "execution_count": 63,
   "id": "90dfcce2-74f8-4ed4-895d-3d8311afe701",
   "metadata": {},
   "outputs": [
    {
     "data": {
      "text/plain": [
       "\u001b[1;31mType:\u001b[0m        module\n",
       "\u001b[1;31mString form:\u001b[0m <module 'operator' from 'C:\\\\Users\\\\Philip\\\\mambaforge\\\\lib\\\\operator.py'>\n",
       "\u001b[1;31mFile:\u001b[0m        c:\\users\\philip\\mambaforge\\lib\\operator.py\n",
       "\u001b[1;31mDocstring:\u001b[0m  \n",
       "Operator interface.\n",
       "\n",
       "This module exports a set of functions implemented in C corresponding\n",
       "to the intrinsic operators of Python.  For example, operator.add(x, y)\n",
       "is equivalent to the expression x+y.  The function names are those\n",
       "used for special methods; variants without leading and trailing\n",
       "'__' are also provided for convenience.\n"
      ]
     },
     "metadata": {},
     "output_type": "display_data"
    }
   ],
   "source": [
    "? operator"
   ]
  },
  {
   "cell_type": "code",
   "execution_count": 62,
   "id": "1a512b8b-5887-4442-89f1-5aa67bd545f3",
   "metadata": {},
   "outputs": [
    {
     "name": "stdout",
     "output_type": "stream",
     "text": [
      "1\n",
      "2\n",
      "6\n",
      "24\n",
      "120\n",
      "720\n",
      "5040\n",
      "40320\n",
      "362880\n"
     ]
    }
   ],
   "source": [
    "numbers = [1, 2, 3, 4, 5, 6, 7, 8, 9]\n",
    "accumulated_numbers = itertools.accumulate(numbers, func=operator.mul)\n",
    "\n",
    "for accumulated_number in accumulated_numbers:\n",
    "    print(accumulated_number)"
   ]
  },
  {
   "cell_type": "code",
   "execution_count": 64,
   "id": "39f4ada0-30d2-48e2-b438-eda40abffafb",
   "metadata": {},
   "outputs": [
    {
     "data": {
      "text/plain": [
       "\u001b[1;31mInit signature:\u001b[0m  \u001b[0mitertools\u001b[0m\u001b[1;33m.\u001b[0m\u001b[0mgroupby\u001b[0m\u001b[1;33m(\u001b[0m\u001b[0miterable\u001b[0m\u001b[1;33m,\u001b[0m \u001b[0mkey\u001b[0m\u001b[1;33m=\u001b[0m\u001b[1;32mNone\u001b[0m\u001b[1;33m)\u001b[0m\u001b[1;33m\u001b[0m\u001b[1;33m\u001b[0m\u001b[0m\n",
       "\u001b[1;31mDocstring:\u001b[0m     \n",
       "make an iterator that returns consecutive keys and groups from the iterable\n",
       "\n",
       "iterable\n",
       "  Elements to divide into groups according to the key function.\n",
       "key\n",
       "  A function for computing the group category for each element.\n",
       "  If the key function is not specified or is None, the element itself\n",
       "  is used for grouping.\n",
       "\u001b[1;31mType:\u001b[0m           type\n",
       "\u001b[1;31mSubclasses:\u001b[0m     \n"
      ]
     },
     "metadata": {},
     "output_type": "display_data"
    }
   ],
   "source": [
    "? itertools.groupby"
   ]
  },
  {
   "cell_type": "code",
   "execution_count": null,
   "id": "92e76c2f-ff71-46b7-bedd-abd8287b6fc9",
   "metadata": {},
   "outputs": [],
   "source": [
    "# list of dictionaries"
   ]
  },
  {
   "cell_type": "code",
   "execution_count": null,
   "id": "118e58a1-3325-4f3c-9523-955285fdbbb3",
   "metadata": {},
   "outputs": [],
   "source": [
    "# copy module python add to colelctions"
   ]
  },
  {
   "cell_type": "code",
   "execution_count": null,
   "id": "19ecb139-fc99-4fe7-9ecd-a12c79771759",
   "metadata": {},
   "outputs": [],
   "source": [
    "copy1, copy2 = itertools.tee(minutes)"
   ]
  },
  {
   "cell_type": "code",
   "execution_count": null,
   "id": "f82e08f6-92fa-453f-8b4b-338bfe6298c5",
   "metadata": {},
   "outputs": [],
   "source": [
    "itertools."
   ]
  }
 ],
 "metadata": {
  "kernelspec": {
   "display_name": "Python 3 (ipykernel)",
   "language": "python",
   "name": "python3"
  },
  "language_info": {
   "codemirror_mode": {
    "name": "ipython",
    "version": 3
   },
   "file_extension": ".py",
   "mimetype": "text/x-python",
   "name": "python",
   "nbconvert_exporter": "python",
   "pygments_lexer": "ipython3",
   "version": "3.10.8"
  }
 },
 "nbformat": 4,
 "nbformat_minor": 5
}
