{
 "cells": [
  {
   "cell_type": "code",
   "execution_count": null,
   "id": "84dcc800-db9d-49d0-b1aa-bc5e747dcdaa",
   "metadata": {},
   "outputs": [],
   "source": [
    "import builtins\n",
    "import itertools\n",
    "import random\n",
    "random.seed(0)"
   ]
  },
  {
   "cell_type": "code",
   "execution_count": null,
   "id": "267b3d31-3754-4c58-ad89-97b51155b3d1",
   "metadata": {},
   "outputs": [],
   "source": [
    "medal_options = [\"g\", \"s\", \"b\"]\n",
    "number_options = [1, 2, 3, 4, 5, 6]\n",
    "team_options = [\"Canada\", \"Australia\"]"
   ]
  },
  {
   "cell_type": "code",
   "execution_count": null,
   "id": "ea9f0fb4-8f8b-4901-8b29-bd2639a553b6",
   "metadata": {},
   "outputs": [],
   "source": [
    "teams = [random.choice(team_options) for idx in range(10)]\n",
    "scores = [random.choice(number_options) for idx in range(10)]\n",
    "medals = [random.choice(medal_options) for idx in range(10)]"
   ]
  },
  {
   "cell_type": "code",
   "execution_count": null,
   "id": "27da6b82-3c7d-4799-aa28-37d646312398",
   "metadata": {},
   "outputs": [],
   "source": [
    "idata = zip(teams, scores, medals)\n",
    "idata"
   ]
  },
  {
   "cell_type": "code",
   "execution_count": null,
   "id": "749f6526-2308-411b-aea7-0efc831abff6",
   "metadata": {},
   "outputs": [],
   "source": [
    "data = list(idata)\n",
    "data.sort()\n",
    "data"
   ]
  },
  {
   "cell_type": "code",
   "execution_count": null,
   "id": "7ed37767-b9ce-43f3-8855-2be913c44685",
   "metadata": {},
   "outputs": [],
   "source": [
    "icountry = itertools.groupby(data, lambda x: x[0])"
   ]
  },
  {
   "cell_type": "code",
   "execution_count": null,
   "id": "c3164a9f-e46d-46eb-83e2-19009201b101",
   "metadata": {},
   "outputs": [],
   "source": [
    "#list(icountry)"
   ]
  },
  {
   "cell_type": "code",
   "execution_count": null,
   "id": "be3eefcc-9242-4e90-a55f-acf4d23de27f",
   "metadata": {},
   "outputs": [],
   "source": [
    "for country in icountry:\n",
    "    for score in scores:\n",
    "        print(score)"
   ]
  },
  {
   "cell_type": "code",
   "execution_count": null,
   "id": "fc611ff1-89f0-4272-94d0-3c658250f636",
   "metadata": {},
   "outputs": [],
   "source": [
    "\n",
    "\n",
    "\n",
    "\n",
    "\n",
    "\n"
   ]
  },
  {
   "cell_type": "code",
   "execution_count": 1,
   "id": "80abd3fe-8a27-4278-96e3-6018bda7e432",
   "metadata": {},
   "outputs": [],
   "source": [
    "import itertools"
   ]
  },
  {
   "cell_type": "code",
   "execution_count": 2,
   "id": "536f451c-364e-409b-8abd-09e525ac0b6f",
   "metadata": {},
   "outputs": [
    {
     "data": {
      "text/plain": [
       "[1, 1, 1, 1, 1, 1, 1, 1, 2, 2, 2, 2, 2, 2, 2, 2, 2, 2, 3, 3]"
      ]
     },
     "execution_count": 2,
     "metadata": {},
     "output_type": "execute_result"
    }
   ],
   "source": [
    "scores = [1, 3, 2, 1, 1, 1, 2, 2, 1, 1, 1, 2, 2, 2, 1, 3, 2, 2, 2, 2]\n",
    "scores.sort()\n",
    "scores"
   ]
  },
  {
   "cell_type": "code",
   "execution_count": 3,
   "id": "9ce55bd9-26d6-47de-8d9b-8d6d61c70efa",
   "metadata": {},
   "outputs": [],
   "source": [
    "def grade(value):\n",
    "    if(value>1):\n",
    "        return \"good\"\n",
    "    else:\n",
    "        return \"bad\""
   ]
  },
  {
   "cell_type": "code",
   "execution_count": 4,
   "id": "246cbd1e-db6c-49ae-abf5-bebd5978e5ae",
   "metadata": {},
   "outputs": [],
   "source": [
    "keys = []\n",
    "groups = []"
   ]
  },
  {
   "cell_type": "code",
   "execution_count": 5,
   "id": "5b2884d9-3889-40f2-86a7-90fa448f0878",
   "metadata": {},
   "outputs": [],
   "source": [
    "for key, group in itertools.groupby(scores, key=grade):\n",
    "    keys.append(key)\n",
    "    groups.append(list(group))"
   ]
  },
  {
   "cell_type": "code",
   "execution_count": 6,
   "id": "57bb43aa-58d3-466e-9ee6-0148713c3193",
   "metadata": {},
   "outputs": [
    {
     "data": {
      "text/plain": [
       "['bad', 'good']"
      ]
     },
     "execution_count": 6,
     "metadata": {},
     "output_type": "execute_result"
    }
   ],
   "source": [
    "keys"
   ]
  },
  {
   "cell_type": "code",
   "execution_count": 7,
   "id": "e2a9ff59-67bd-46f0-b9f7-7c25daf82305",
   "metadata": {},
   "outputs": [
    {
     "data": {
      "text/plain": [
       "[[1, 1, 1, 1, 1, 1, 1, 1], [2, 2, 2, 2, 2, 2, 2, 2, 2, 2, 3, 3]]"
      ]
     },
     "execution_count": 7,
     "metadata": {},
     "output_type": "execute_result"
    }
   ],
   "source": [
    "groups"
   ]
  },
  {
   "cell_type": "code",
   "execution_count": null,
   "id": "4d194830-352f-4790-a6d9-a5003317f1c6",
   "metadata": {},
   "outputs": [],
   "source": []
  },
  {
   "cell_type": "code",
   "execution_count": null,
   "id": "46d95280-bd21-46e1-928c-5f11bf9dd2f6",
   "metadata": {},
   "outputs": [],
   "source": []
  },
  {
   "cell_type": "code",
   "execution_count": null,
   "id": "53054570-fcdb-458c-a8fa-ea8d3e3d4a17",
   "metadata": {},
   "outputs": [],
   "source": []
  }
 ],
 "metadata": {
  "kernelspec": {
   "display_name": "Python 3 (ipykernel)",
   "language": "python",
   "name": "python3"
  },
  "language_info": {
   "codemirror_mode": {
    "name": "ipython",
    "version": 3
   },
   "file_extension": ".py",
   "mimetype": "text/x-python",
   "name": "python",
   "nbconvert_exporter": "python",
   "pygments_lexer": "ipython3",
   "version": "3.10.8"
  }
 },
 "nbformat": 4,
 "nbformat_minor": 5
}
