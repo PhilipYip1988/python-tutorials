{
 "cells": [
  {
   "cell_type": "markdown",
   "metadata": {},
   "source": [
    "# Python Formatters"
   ]
  },
  {
   "cell_type": "markdown",
   "metadata": {},
   "source": [
    "Python has a number of formatters which can be used to improve code quality. Popular formatters are:\n",
    "\n",
    "* autopep8\n",
    "* isort\n",
    "* black\n",
    "* ruff"
   ]
  },
  {
   "cell_type": "markdown",
   "metadata": {},
   "source": [
    "## Categorize Identifiers"
   ]
  },
  {
   "cell_type": "markdown",
   "metadata": {},
   "source": [
    "This notebook will use the following functions ```dir2```, ```variables``` and ```view``` in the custom module ```categorize_identifiers``` which is found in the same directory as this notebook file. ```dir2``` is a variant of ```dir``` that groups identifiers into a ```dict``` under categories and ```variables``` is an IPython based a variable inspector. ```view``` is used to view a ```Collection``` in more detail:"
   ]
  },
  {
   "cell_type": "code",
   "execution_count": 1,
   "metadata": {},
   "outputs": [],
   "source": [
    "from categorize_identifiers import dir2, variables, view"
   ]
  },
  {
   "cell_type": "markdown",
   "metadata": {},
   "source": [
    "## Poorly Formatted Python Code:"
   ]
  },
  {
   "cell_type": "markdown",
   "metadata": {},
   "source": [
    "The following Python file will be written, notice that the spacing is quite sloppy, mimicing code written by someone new to Python:"
   ]
  },
  {
   "cell_type": "code",
   "execution_count": 2,
   "metadata": {},
   "outputs": [
    {
     "name": "stdout",
     "output_type": "stream",
     "text": [
      "Writing script.py\n"
     ]
    }
   ],
   "source": [
    "%%writefile script.py\n",
    "var1= 'Hello'\n",
    "var2 =\"World\"\n",
    "import numpy as np\n",
    "x=np.array([0,1,2,3,4])\n",
    "y=np.array([0,2,4, 6 ,8])\n",
    "import pandas as pd\n",
    "df=pd.DataFrame({'x':x,\"y\":y})\n",
    "import datetime\n",
    "now=datetime.datetime(year = 2023,month=12 ,day=1)\n",
    "hour=datetime.timedelta(hours=1)\n",
    "import collections\n",
    "counts=collections.Counter([1, 2,2 ,2,3,3])\n",
    "import itertools\n",
    "cycle=itertools.cycle([1,2,3])\n",
    "import sys, os\n",
    "sys.getsizeof(cycle)\n",
    "os.environ['USERPROFILE']\n",
    "num1 = 0xabb4ab8a\n",
    "import string"
   ]
  },
  {
   "cell_type": "markdown",
   "metadata": {},
   "source": [
    "The script file however executes without problem:"
   ]
  },
  {
   "cell_type": "code",
   "execution_count": 3,
   "metadata": {},
   "outputs": [],
   "source": [
    "%run script.py"
   ]
  },
  {
   "cell_type": "markdown",
   "metadata": {},
   "source": [
    "The variables are created as expected:"
   ]
  },
  {
   "cell_type": "code",
   "execution_count": 4,
   "metadata": {},
   "outputs": [
    {
     "data": {
      "text/html": [
       "<div>\n",
       "<style scoped>\n",
       "    .dataframe tbody tr th:only-of-type {\n",
       "        vertical-align: middle;\n",
       "    }\n",
       "\n",
       "    .dataframe tbody tr th {\n",
       "        vertical-align: top;\n",
       "    }\n",
       "\n",
       "    .dataframe thead th {\n",
       "        text-align: right;\n",
       "    }\n",
       "</style>\n",
       "<table border=\"1\" class=\"dataframe\">\n",
       "  <thead>\n",
       "    <tr style=\"text-align: right;\">\n",
       "      <th></th>\n",
       "      <th>Type</th>\n",
       "      <th>Size/Shape</th>\n",
       "      <th>Value</th>\n",
       "    </tr>\n",
       "    <tr>\n",
       "      <th>Instance Name</th>\n",
       "      <th></th>\n",
       "      <th></th>\n",
       "      <th></th>\n",
       "    </tr>\n",
       "  </thead>\n",
       "  <tbody>\n",
       "    <tr>\n",
       "      <th>var1</th>\n",
       "      <td>str</td>\n",
       "      <td>5</td>\n",
       "      <td>Hello</td>\n",
       "    </tr>\n",
       "    <tr>\n",
       "      <th>var2</th>\n",
       "      <td>str</td>\n",
       "      <td>5</td>\n",
       "      <td>World</td>\n",
       "    </tr>\n",
       "    <tr>\n",
       "      <th>x</th>\n",
       "      <td>ndarray</td>\n",
       "      <td>(5,)</td>\n",
       "      <td>[0, 1, 2, 3, 4]</td>\n",
       "    </tr>\n",
       "    <tr>\n",
       "      <th>y</th>\n",
       "      <td>ndarray</td>\n",
       "      <td>(5,)</td>\n",
       "      <td>[0, 2, 4, 6, 8]</td>\n",
       "    </tr>\n",
       "    <tr>\n",
       "      <th>df</th>\n",
       "      <td>DataFrame</td>\n",
       "      <td>(5, 2)</td>\n",
       "      <td>[x, y]</td>\n",
       "    </tr>\n",
       "    <tr>\n",
       "      <th>now</th>\n",
       "      <td>datetime</td>\n",
       "      <td></td>\n",
       "      <td>2023-12-01 00:00:00</td>\n",
       "    </tr>\n",
       "    <tr>\n",
       "      <th>hour</th>\n",
       "      <td>timedelta</td>\n",
       "      <td></td>\n",
       "      <td>1:00:00</td>\n",
       "    </tr>\n",
       "    <tr>\n",
       "      <th>counts</th>\n",
       "      <td>Counter</td>\n",
       "      <td>3</td>\n",
       "      <td>Counter({2: 3, 3: 2, 1: 1})</td>\n",
       "    </tr>\n",
       "    <tr>\n",
       "      <th>num1</th>\n",
       "      <td>int</td>\n",
       "      <td></td>\n",
       "      <td>2880744330</td>\n",
       "    </tr>\n",
       "  </tbody>\n",
       "</table>\n",
       "</div>"
      ],
      "text/plain": [
       "                    Type Size/Shape                        Value\n",
       "Instance Name                                                   \n",
       "var1                 str          5                        Hello\n",
       "var2                 str          5                        World\n",
       "x                ndarray       (5,)              [0, 1, 2, 3, 4]\n",
       "y                ndarray       (5,)              [0, 2, 4, 6, 8]\n",
       "df             DataFrame     (5, 2)                       [x, y]\n",
       "now             datetime                     2023-12-01 00:00:00\n",
       "hour           timedelta                                 1:00:00\n",
       "counts           Counter          3  Counter({2: 3, 3: 2, 1: 1})\n",
       "num1                 int                              2880744330"
      ]
     },
     "execution_count": 4,
     "metadata": {},
     "output_type": "execute_result"
    }
   ],
   "source": [
    "variables()"
   ]
  },
  {
   "cell_type": "markdown",
   "metadata": {},
   "source": [
    "## AutoPEP8 Formatter"
   ]
  },
  {
   "cell_type": "markdown",
   "metadata": {},
   "source": [
    "The [PEP8 Python Style Guide](https://peps.python.org/pep-0008/) makes a number of recommendations for formatting Python code to make it more readible.\n",
    "\n",
    "The autopep8 formatter automatically adjust codes to meet this requirement:\n",
    "\n",
    "* Moves all imports to the top of the script file grouping:\n",
    "    * grouping Python standard modules\n",
    "    * grouping Python third-party modules\n",
    "* Uses spacing \n",
    "    * to emphasis the delimiter in a collection or a function call \n",
    "    * to emphasise an operator outwith a function call\n"
   ]
  },
  {
   "cell_type": "code",
   "execution_count": 5,
   "metadata": {},
   "outputs": [
    {
     "name": "stdout",
     "output_type": "stream",
     "text": [
      "import os\n",
      "import sys\n",
      "import string\n",
      "import itertools\n",
      "import collections\n",
      "import datetime\n",
      "import pandas as pd\n",
      "import numpy as np\n",
      "var1 = 'Hello'\n",
      "var2 = \"World\"\n",
      "x = np.array([0, 1, 2, 3, 4])\n",
      "y = np.array([0, 2, 4, 6, 8])\n",
      "df = pd.DataFrame({'x': x, \"y\": y})\n",
      "now = datetime.datetime(year=2023, month=12, day=1)\n",
      "hour = datetime.timedelta(hours=1)\n",
      "counts = collections.Counter([1, 2, 2, 2, 3, 3])\n",
      "cycle = itertools.cycle([1, 2, 3])\n",
      "sys.getsizeof(cycle)\n",
      "os.environ['USERPROFILE']\n",
      "num1 = 0xabb4ab8a\n"
     ]
    }
   ],
   "source": [
    "!autopep8 script.py"
   ]
  },
  {
   "cell_type": "markdown",
   "metadata": {},
   "source": [
    "The changes aren't made in place and the inplace flag ```-i``` can be used:"
   ]
  },
  {
   "cell_type": "code",
   "execution_count": 6,
   "metadata": {},
   "outputs": [],
   "source": [
    "!autopep8 -i script.py"
   ]
  },
  {
   "cell_type": "markdown",
   "metadata": {},
   "source": [
    "The changes can be viewed using, the line magic ```%load```. In this case:\n",
    "\n",
    "```python\n",
    "%load script.py\n",
    "```\n",
    "\n",
    "Note the output will display with the line magic commented out when the script file is loaded. The old output from this command is not deleted when the kernel is restarted. If going through this notebook cell by cell, the contents in the cell below can be manually deleted and the ipython magic reused to generate the current contents of the script file."
   ]
  },
  {
   "cell_type": "code",
   "execution_count": 7,
   "metadata": {},
   "outputs": [],
   "source": [
    "# %load script.py\n",
    "import os\n",
    "import sys\n",
    "import string\n",
    "import itertools\n",
    "import collections\n",
    "import datetime\n",
    "import pandas as pd\n",
    "import numpy as np\n",
    "var1 = 'Hello'\n",
    "var2 = \"World\"\n",
    "x = np.array([0, 1, 2, 3, 4])\n",
    "y = np.array([0, 2, 4, 6, 8])\n",
    "df = pd.DataFrame({'x': x, \"y\": y})\n",
    "now = datetime.datetime(year=2023, month=12, day=1)\n",
    "hour = datetime.timedelta(hours=1)\n",
    "counts = collections.Counter([1, 2, 2, 2, 3, 3])\n",
    "cycle = itertools.cycle([1, 2, 3])\n",
    "sys.getsizeof(cycle)\n",
    "os.environ['USERPROFILE']\n",
    "num1 = 0xabb4ab8a\n"
   ]
  },
  {
   "cell_type": "markdown",
   "metadata": {},
   "source": [
    "## Import Sort Formatter"
   ]
  },
  {
   "cell_type": "markdown",
   "metadata": {},
   "source": [
    "The PEP8 Python style guide recommends grouping modules by standard modules and third-party modules respectively however does not otherwise state what order to group the modules in. It is quite common to group each category alphabetically and this can be done with the import sort isort:"
   ]
  },
  {
   "cell_type": "code",
   "execution_count": 8,
   "metadata": {},
   "outputs": [
    {
     "name": "stdout",
     "output_type": "stream",
     "text": [
      "Fixing C:\\Users\\phili\\OneDrive\\Documents\\GitHub\\python-notebooks\\formatters\\script.py\n"
     ]
    }
   ],
   "source": [
    "!isort script.py"
   ]
  },
  {
   "cell_type": "markdown",
   "metadata": {},
   "source": [
    "This occurs inplace by default. The changes can be viewed using:"
   ]
  },
  {
   "cell_type": "code",
   "execution_count": 9,
   "metadata": {},
   "outputs": [],
   "source": [
    "# %load script.py\n",
    "import collections\n",
    "import datetime\n",
    "import itertools\n",
    "import os\n",
    "import string\n",
    "import sys\n",
    "\n",
    "import numpy as np\n",
    "import pandas as pd\n",
    "\n",
    "var1 = 'Hello'\n",
    "var2 = \"World\"\n",
    "x = np.array([0, 1, 2, 3, 4])\n",
    "y = np.array([0, 2, 4, 6, 8])\n",
    "df = pd.DataFrame({'x': x, \"y\": y})\n",
    "now = datetime.datetime(year=2023, month=12, day=1)\n",
    "hour = datetime.timedelta(hours=1)\n",
    "counts = collections.Counter([1, 2, 2, 2, 3, 3])\n",
    "cycle = itertools.cycle([1, 2, 3])\n",
    "sys.getsizeof(cycle)\n",
    "os.environ['USERPROFILE']\n",
    "num1 = 0xabb4ab8a\n"
   ]
  },
  {
   "cell_type": "markdown",
   "metadata": {},
   "source": [
    "Note that isort does not work well unless autopep8 has previously been run on the script."
   ]
  },
  {
   "cell_type": "markdown",
   "metadata": {},
   "source": [
    "## Black Formatter"
   ]
  },
  {
   "cell_type": "markdown",
   "metadata": {},
   "source": [
    "The PEP8 Python style guide does not recommend use of a quotation style in Python and thus var1 and var2 are inconsistent using single and double quotes respectively. The keys in df are also inconsistent. The opinionated formatter black can be used:"
   ]
  },
  {
   "cell_type": "code",
   "execution_count": 10,
   "metadata": {},
   "outputs": [
    {
     "name": "stderr",
     "output_type": "stream",
     "text": [
      "reformatted script.py\n",
      "\n",
      "All done! \\u2728 \\U0001f370 \\u2728\n",
      "1 file reformatted.\n"
     ]
    }
   ],
   "source": [
    "!black script.py"
   ]
  },
  {
   "cell_type": "markdown",
   "metadata": {},
   "source": [
    "Note that changes are made inplace. The changes can be viewed using:"
   ]
  },
  {
   "cell_type": "code",
   "execution_count": 11,
   "metadata": {},
   "outputs": [],
   "source": [
    "# %load script.py\n",
    "import collections\n",
    "import datetime\n",
    "import itertools\n",
    "import os\n",
    "import string\n",
    "import sys\n",
    "\n",
    "import numpy as np\n",
    "import pandas as pd\n",
    "\n",
    "var1 = \"Hello\"\n",
    "var2 = \"World\"\n",
    "x = np.array([0, 1, 2, 3, 4])\n",
    "y = np.array([0, 2, 4, 6, 8])\n",
    "df = pd.DataFrame({\"x\": x, \"y\": y})\n",
    "now = datetime.datetime(year=2023, month=12, day=1)\n",
    "hour = datetime.timedelta(hours=1)\n",
    "counts = collections.Counter([1, 2, 2, 2, 3, 3])\n",
    "cycle = itertools.cycle([1, 2, 3])\n",
    "sys.getsizeof(cycle)\n",
    "os.environ[\"USERPROFILE\"]\n",
    "num1 = 0xABB4AB8A\n"
   ]
  },
  {
   "cell_type": "markdown",
   "metadata": {},
   "source": [
    "Note that black does not work well unless autopep8 and isort have been previously used."
   ]
  },
  {
   "cell_type": "markdown",
   "metadata": {},
   "source": [
    "Unfortunately the opinionated choices enforced by black are inconsistent with the Python interpretter itself which preferences single-quotations:"
   ]
  },
  {
   "cell_type": "code",
   "execution_count": 12,
   "metadata": {},
   "outputs": [
    {
     "data": {
      "text/plain": [
       "'hello'"
      ]
     },
     "execution_count": 12,
     "metadata": {},
     "output_type": "execute_result"
    }
   ],
   "source": [
    "\"hello\""
   ]
  },
  {
   "cell_type": "markdown",
   "metadata": {},
   "source": [
    "Unless a string literal is included:"
   ]
  },
  {
   "cell_type": "code",
   "execution_count": 13,
   "metadata": {},
   "outputs": [
    {
     "data": {
      "text/plain": [
       "\"The string is 'hello'\""
      ]
     },
     "execution_count": 13,
     "metadata": {},
     "output_type": "execute_result"
    }
   ],
   "source": [
    "\"The string is 'hello'\""
   ]
  },
  {
   "cell_type": "markdown",
   "metadata": {},
   "source": [
    "## Ruff Formatter"
   ]
  },
  {
   "cell_type": "markdown",
   "metadata": {},
   "source": [
    "Note Rust Fast Formatter Ruff is not preinstalled by Anaconda and is only available when using a custom Python environment containing packages from the ```conda-forge``` channel. On Windows the Windows Terminal needs to be initialised, in order to find the ruff command. For more details see the earlier tutorial on installing Anconda and creating a Python environment.\n",
    "\n",
    "Ruff formats similarly to black by default but can easily be configured. If ruff is installed in the Python environment, the following command can be used:"
   ]
  },
  {
   "cell_type": "code",
   "execution_count": 14,
   "metadata": {},
   "outputs": [
    {
     "name": "stdout",
     "output_type": "stream",
     "text": [
      "1 file left unchanged\n"
     ]
    }
   ],
   "source": [
    "!ruff format script.py"
   ]
  },
  {
   "cell_type": "markdown",
   "metadata": {},
   "source": [
    "Note that changes are made inplace (no changes are made as it formats identically to black by default). The changes can be viewed using:"
   ]
  },
  {
   "cell_type": "code",
   "execution_count": 15,
   "metadata": {},
   "outputs": [],
   "source": [
    "# %load script.py\n",
    "import collections\n",
    "import datetime\n",
    "import itertools\n",
    "import os\n",
    "import string\n",
    "import sys\n",
    "\n",
    "import numpy as np\n",
    "import pandas as pd\n",
    "\n",
    "var1 = \"Hello\"\n",
    "var2 = \"World\"\n",
    "x = np.array([0, 1, 2, 3, 4])\n",
    "y = np.array([0, 2, 4, 6, 8])\n",
    "df = pd.DataFrame({\"x\": x, \"y\": y})\n",
    "now = datetime.datetime(year=2023, month=12, day=1)\n",
    "hour = datetime.timedelta(hours=1)\n",
    "counts = collections.Counter([1, 2, 2, 2, 3, 3])\n",
    "cycle = itertools.cycle([1, 2, 3])\n",
    "sys.getsizeof(cycle)\n",
    "os.environ[\"USERPROFILE\"]\n",
    "num1 = 0xABB4AB8A\n"
   ]
  },
  {
   "cell_type": "markdown",
   "metadata": {},
   "source": [
    "Note that ruff does not work well unless autopep8 and isort have been previously used. It is independent of black."
   ]
  },
  {
   "cell_type": "markdown",
   "metadata": {},
   "source": [
    "## Ruff Configuration File"
   ]
  },
  {
   "cell_type": "markdown",
   "metadata": {},
   "source": [
    "A ruff.toml file can be created, which specifies a single quotes option:"
   ]
  },
  {
   "cell_type": "code",
   "execution_count": 16,
   "metadata": {},
   "outputs": [
    {
     "name": "stdout",
     "output_type": "stream",
     "text": [
      "Writing ruff.toml\n"
     ]
    }
   ],
   "source": [
    "%%writefile ruff.toml\n",
    "[format]\n",
    "# Use single quotes for strings.\n",
    "quote-style = \"single\""
   ]
  },
  {
   "cell_type": "markdown",
   "metadata": {},
   "source": [
    "Now when ruff is run on the script:"
   ]
  },
  {
   "cell_type": "code",
   "execution_count": 17,
   "metadata": {},
   "outputs": [
    {
     "name": "stdout",
     "output_type": "stream",
     "text": [
      "1 file reformatted\n"
     ]
    }
   ],
   "source": [
    "!ruff format script.py --config ruff.toml"
   ]
  },
  {
   "cell_type": "markdown",
   "metadata": {},
   "source": [
    "The formatting will favour single quotations consistent to the IPython kernel:"
   ]
  },
  {
   "cell_type": "code",
   "execution_count": 18,
   "metadata": {},
   "outputs": [],
   "source": [
    "# %load script.py\n",
    "import collections\n",
    "import datetime\n",
    "import itertools\n",
    "import os\n",
    "import string\n",
    "import sys\n",
    "\n",
    "import numpy as np\n",
    "import pandas as pd\n",
    "\n",
    "var1 = 'Hello'\n",
    "var2 = 'World'\n",
    "x = np.array([0, 1, 2, 3, 4])\n",
    "y = np.array([0, 2, 4, 6, 8])\n",
    "df = pd.DataFrame({'x': x, 'y': y})\n",
    "now = datetime.datetime(year=2023, month=12, day=1)\n",
    "hour = datetime.timedelta(hours=1)\n",
    "counts = collections.Counter([1, 2, 2, 2, 3, 3])\n",
    "cycle = itertools.cycle([1, 2, 3])\n",
    "sys.getsizeof(cycle)\n",
    "os.environ['USERPROFILE']\n",
    "num1 = 0xABB4AB8A\n"
   ]
  },
  {
   "cell_type": "markdown",
   "metadata": {},
   "source": [
    "Ruff can also be used to check the file for problems using the linters:"
   ]
  },
  {
   "cell_type": "code",
   "execution_count": 19,
   "metadata": {},
   "outputs": [
    {
     "name": "stdout",
     "output_type": "stream",
     "text": [
      "\u001b[1mscript.py\u001b[0m\u001b[36m:\u001b[0m5\u001b[36m:\u001b[0m8\u001b[36m:\u001b[0m \u001b[1;31mF401\u001b[0m [\u001b[36m*\u001b[0m] `string` imported but unused\n",
      "Found 1 error.\n",
      "[\u001b[36m*\u001b[0m] 1 fixable with the `--fix` option.\n"
     ]
    }
   ],
   "source": [
    "!ruff check script.py"
   ]
  },
  {
   "cell_type": "markdown",
   "metadata": {},
   "source": [
    "Since this option is fixable it can be fixed using:"
   ]
  },
  {
   "cell_type": "code",
   "execution_count": 20,
   "metadata": {},
   "outputs": [
    {
     "name": "stdout",
     "output_type": "stream",
     "text": [
      "Found 1 error (1 fixed, 0 remaining).\n"
     ]
    }
   ],
   "source": [
    "!ruff check script.py --fix"
   ]
  },
  {
   "cell_type": "markdown",
   "metadata": {},
   "source": [
    "The changes can be seen using, notice the unused import is removed:"
   ]
  },
  {
   "cell_type": "code",
   "execution_count": 21,
   "metadata": {},
   "outputs": [],
   "source": [
    "# %load script.py\n",
    "import collections\n",
    "import datetime\n",
    "import itertools\n",
    "import os\n",
    "import sys\n",
    "\n",
    "import numpy as np\n",
    "import pandas as pd\n",
    "\n",
    "var1 = 'Hello'\n",
    "var2 = 'World'\n",
    "x = np.array([0, 1, 2, 3, 4])\n",
    "y = np.array([0, 2, 4, 6, 8])\n",
    "df = pd.DataFrame({'x': x, 'y': y})\n",
    "now = datetime.datetime(year=2023, month=12, day=1)\n",
    "hour = datetime.timedelta(hours=1)\n",
    "counts = collections.Counter([1, 2, 2, 2, 3, 3])\n",
    "cycle = itertools.cycle([1, 2, 3])\n",
    "sys.getsizeof(cycle)\n",
    "os.environ['USERPROFILE']\n",
    "num1 = 0xABB4AB8A\n"
   ]
  },
  {
   "cell_type": "markdown",
   "metadata": {},
   "source": [
    "The ```script.py``` and ```ruff.toml``` file will be deleted so the notebook can be rerun:"
   ]
  },
  {
   "cell_type": "code",
   "execution_count": 22,
   "metadata": {},
   "outputs": [],
   "source": [
    "!del script.py\n",
    "!del ruff.toml"
   ]
  },
  {
   "cell_type": "markdown",
   "metadata": {},
   "source": [
    "[Return to Python Tutorials](../readme.md)"
   ]
  }
 ],
 "metadata": {
  "kernelspec": {
   "display_name": "Python 3 (ipykernel)",
   "language": "python",
   "name": "python3"
  },
  "language_info": {
   "codemirror_mode": {
    "name": "ipython",
    "version": 3
   },
   "file_extension": ".py",
   "mimetype": "text/x-python",
   "name": "python",
   "nbconvert_exporter": "python",
   "pygments_lexer": "ipython3",
   "version": "3.12.1"
  }
 },
 "nbformat": 4,
 "nbformat_minor": 4
}
