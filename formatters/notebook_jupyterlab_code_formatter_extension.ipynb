{
 "cells": [
  {
   "cell_type": "markdown",
   "id": "157354e1-88ce-4175-bc8a-6e8fcd8cae17",
   "metadata": {},
   "source": [
    "# JupyterLab Code Formatter"
   ]
  },
  {
   "cell_type": "markdown",
   "id": "b1cd0006-4022-42e7-9ee6-7dae018729a0",
   "metadata": {},
   "source": [
    "## Installation"
   ]
  },
  {
   "cell_type": "markdown",
   "id": "37e8624c-0923-4061-afc8-4b06c0b58c6a",
   "metadata": {},
   "source": [
    "The ```conda-forge``` channel contains a Jupyterlab code formatter extension ```jupyterlab_code_formatter```. This should not be installed in the Anaconda base Python environment as the base Python environment shouldn't use packages from mixed channels. Instead a separate Python environment for JupyterLab should be created: \n",
    "\n",
    "A Python environment with this extension and formatters should be used:\n",
    "\n",
    "```cmd\n",
    "conda create -n jupyter-env -c conda-forge python jupyterlab jupyter cython seaborn scikit-learn pyarrow sympy openpyxl xlrd xlsxwriter lxml sqlalchemy tabulate nodejs ipywidgets plotly pyqt isort autopep8 ruff black ipympl jupyterlab-variableinspector jupyterlab_code_formatter jupyterlab-spellchecker ghostscript nbconvert\n",
    "```\n",
    "\n",
    "More details were given in the previous tutorial on installing Anaconda and using the ```conda``` package manager."
   ]
  },
  {
   "cell_type": "markdown",
   "id": "96f24f94-06f6-4360-ab05-5eb4f7281d45",
   "metadata": {},
   "source": [
    "## Configuration"
   ]
  },
  {
   "cell_type": "markdown",
   "id": "65c02cb9-d9be-475b-b7ac-ad8424891c1c",
   "metadata": {},
   "source": [
    "In the JupyterLab menu select Settings and Settings Editor. \n",
    "\n",
    "![img_001](./images/img_001.png)\n",
    "\n",
    "To the top right select JSON Settings Editor:\n",
    "\n",
    "![img_002](./images/img_002.png)\n",
    "\n",
    "Then select JupyterLab Code Formatter to the left:\n",
    "\n",
    "![img_003](./images/img_003.png)\n",
    "\n",
    "Update the user settings to the following:\n",
    "\n",
    "```json\n",
    "{\n",
    "    \"preferences\": {\n",
    "        \"default_formatter\": {\n",
    "            \"python\": [\"autopep8\", \"isort\", \"black\"],\n",
    "            \"R\": [\"styler\", \"formatR\"],\n",
    "        }\n",
    "    }\n",
    "}\n",
    "```\n",
    "\n",
    "If blacks opinionated formatting is unwanted use:\n",
    "\n",
    "```json\n",
    "{\n",
    "    \"preferences\": {\n",
    "        \"default_formatter\": {\n",
    "            \"python\": [\"autopep8\", \"isort\"],\n",
    "            \"R\": [\"styler\", \"formatR\"],\n",
    "        }\n",
    "    }\n",
    "}\n",
    "```\n",
    "\n",
    "Unfortunately ruff is not supported with this extension yet. This is likely to be implemented in the future. See [JupyterLab Code Formatter Documentation](https://ryantam626.github.io/jupyterlab_code_formatter/installation.html)."
   ]
  },
  {
   "cell_type": "markdown",
   "id": "44cc9e5a-1b7b-4c32-91a5-eee8ff1ccbb0",
   "metadata": {},
   "source": [
    "## Test"
   ]
  },
  {
   "attachments": {},
   "cell_type": "markdown",
   "id": "3f402731-4fd7-4fea-a6f6-675059d564c7",
   "metadata": {},
   "source": [
    "The following test code be formatted using the Format Notebook Button:\n",
    "\n",
    "![img_004](./images/img_004.png)"
   ]
  },
  {
   "cell_type": "code",
   "execution_count": null,
   "id": "a48a15cf-d30f-43db-bead-bdb7684717c8",
   "metadata": {},
   "outputs": [],
   "source": [
    "var1= 'Hello'\n",
    "var2 =\"World\"\n",
    "import numpy as np\n",
    "x=np.array([0,1,2,3,4])\n",
    "y=np.array([0,2,4, 6 ,8])\n",
    "import pandas as pd\n",
    "df=pd.DataFrame({'x':x,\"y\":y})\n",
    "import datetime\n",
    "now=datetime.datetime(year = 2023,month=12 ,day=1)\n",
    "hour=datetime.timedelta(hours=1)\n",
    "import collections\n",
    "counts=collections.Counter([1, 2,2 ,2,3,3])\n",
    "import itertools\n",
    "cycle=itertools.cycle([1,2,3])\n",
    "import sys, os\n",
    "sys.getsizeof(cycle)\n",
    "os.environ['USERPROFILE']\n",
    "num1 = 0xabb4ab8a\n",
    "import string"
   ]
  },
  {
   "cell_type": "markdown",
   "id": "08b8f355-ddc9-4e79-ac22-c366600a6f12",
   "metadata": {},
   "source": [
    "After the format the formatted code (using black) should resemble:"
   ]
  },
  {
   "cell_type": "markdown",
   "id": "36ef6398-7dd1-4b20-ae0f-c52963ff5140",
   "metadata": {},
   "source": [
    "```python\n",
    "import collections\n",
    "import datetime\n",
    "import itertools\n",
    "import os\n",
    "import string\n",
    "import sys\n",
    "\n",
    "import numpy as np\n",
    "import pandas as pd\n",
    "\n",
    "var1 = \"Hello\"\n",
    "var2 = \"World\"\n",
    "x = np.array([0, 1, 2, 3, 4])\n",
    "y = np.array([0, 2, 4, 6, 8])\n",
    "df = pd.DataFrame({\"x\": x, \"y\": y})\n",
    "now = datetime.datetime(year=2023, month=12, day=1)\n",
    "hour = datetime.timedelta(hours=1)\n",
    "counts = collections.Counter([1, 2, 2, 2, 3, 3])\n",
    "cycle = itertools.cycle([1, 2, 3])\n",
    "sys.getsizeof(cycle)\n",
    "os.environ[\"USERPROFILE\"]\n",
    "num1 = 0xABB4AB8A\n",
    "```"
   ]
  },
  {
   "cell_type": "markdown",
   "id": "21f0ae96-c282-4a07-b78b-6e76ca24d4a5",
   "metadata": {},
   "source": [
    "And without black should resemble:\n",
    "\n",
    "```python\n",
    "import collections\n",
    "import datetime\n",
    "import itertools\n",
    "import os\n",
    "import string\n",
    "import sys\n",
    "\n",
    "import numpy as np\n",
    "import pandas as pd\n",
    "\n",
    "var1 = 'Hello'\n",
    "var2 = \"World\"\n",
    "x = np.array([0, 1, 2, 3, 4])\n",
    "y = np.array([0, 2, 4, 6, 8])\n",
    "df = pd.DataFrame({'x': x, \"y\": y})\n",
    "now = datetime.datetime(year=2023, month=12, day=1)\n",
    "hour = datetime.timedelta(hours=1)\n",
    "counts = collections.Counter([1, 2, 2, 2, 3, 3])\n",
    "cycle = itertools.cycle([1, 2, 3])\n",
    "sys.getsizeof(cycle)\n",
    "os.environ['USERPROFILE']\n",
    "num1 = 0xabb4ab8a\n",
    "```"
   ]
  }
 ],
 "metadata": {
  "kernelspec": {
   "display_name": "Python 3 (ipykernel)",
   "language": "python",
   "name": "python3"
  },
  "language_info": {
   "codemirror_mode": {
    "name": "ipython",
    "version": 3
   },
   "file_extension": ".py",
   "mimetype": "text/x-python",
   "name": "python",
   "nbconvert_exporter": "python",
   "pygments_lexer": "ipython3",
   "version": "3.12.1"
  }
 },
 "nbformat": 4,
 "nbformat_minor": 5
}
